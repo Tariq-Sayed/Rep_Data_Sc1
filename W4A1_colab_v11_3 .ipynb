{
  "nbformat": 4,
  "nbformat_minor": 0,
  "metadata": {
    "colab": {
      "name": "W4A1_colab.ipynb",
      "provenance": [],
      "collapsed_sections": [
        "IMkv6CntzbNm",
        "SFc7JQshz6Mc",
        "nRRLeaJm0KOE",
        "PEZjpcsW0VMa",
        "rhMC_m55SbN_",
        "ob9aPeg4P0J1",
        "RfNkXb86ULkW",
        "i8-fKBnoXSQY",
        "NcwDbMNZQPQC",
        "Xl9jqwod_QDj",
        "jsRsLRnsROU1",
        "I-8pmMbD_HQn",
        "1zlhJbunTgvk",
        "-lzI_bjP0ZJU",
        "Xacwv4rJtol2",
        "nurDxXQtuuzF",
        "lMwNKxkzvd4H"
      ],
      "toc_visible": true
    },
    "kernelspec": {
      "name": "python3",
      "display_name": "Python 3"
    }
  },
  "cells": [
    {
      "cell_type": "markdown",
      "metadata": {
        "id": "SNQ9Ltzz1Q4I",
        "colab_type": "text"
      },
      "source": [
        "# **Cluster South Mumbai**"
      ]
    },
    {
      "cell_type": "markdown",
      "metadata": {
        "id": "73fL1YhWsM2b",
        "colab_type": "text"
      },
      "source": [
        "# **Version 10** "
      ]
    },
    {
      "cell_type": "markdown",
      "metadata": {
        "id": "-kbgiTB5z8SX",
        "colab_type": "text"
      },
      "source": [
        "# **Get required Libraries**"
      ]
    },
    {
      "cell_type": "code",
      "metadata": {
        "id": "15wlZcr5ztuH",
        "colab_type": "code",
        "outputId": "d9198d33-8f1f-430a-b239-60d4548b64fc",
        "colab": {
          "base_uri": "https://localhost:8080/",
          "height": 35
        }
      },
      "source": [
        "import pandas as pd\n",
        "from pandas.io.json import json_normalize  # tranform JSON file into a pandas dataframe\n",
        "\n",
        "import numpy as np\n",
        "\n",
        "from bs4 import BeautifulSoup\n",
        "\n",
        "# Matplotlib and associated plotting modules\n",
        "import matplotlib.pyplot as plt\n",
        "import matplotlib.cm as cm\n",
        "import matplotlib.colors as colors\n",
        "\n",
        "import seaborn as sns\n",
        "from urllib.request import urlopen\n",
        "\n",
        "import requests\n",
        "# import k-means from clustering stage\n",
        "from sklearn.cluster import KMeans\n",
        "\n",
        "print(\"Library imported 11.\")\n"
      ],
      "execution_count": 0,
      "outputs": [
        {
          "output_type": "stream",
          "text": [
            "Library imported 11.\n"
          ],
          "name": "stdout"
        }
      ]
    },
    {
      "cell_type": "code",
      "metadata": {
        "id": "cd80ngGa0KK1",
        "colab_type": "code",
        "outputId": "5edef466-9661-4ff5-93d0-5f09e3060355",
        "colab": {
          "base_uri": "https://localhost:8080/",
          "height": 35
        }
      },
      "source": [
        "import folium # map rendering library\n",
        "from geopy.geocoders import Nominatim # convert an address into latitude and longitude values\n",
        "print(\"Library imported 21.\")\n"
      ],
      "execution_count": 0,
      "outputs": [
        {
          "output_type": "stream",
          "text": [
            "Library imported 21.\n"
          ],
          "name": "stdout"
        }
      ]
    },
    {
      "cell_type": "markdown",
      "metadata": {
        "id": "Udy_-FhixgPl",
        "colab_type": "text"
      },
      "source": [
        "## **South Mumbai Neighborhoods.**"
      ]
    },
    {
      "cell_type": "markdown",
      "metadata": {
        "id": "MsUumF6FyEI7",
        "colab_type": "text"
      },
      "source": [
        "####  **South Mumbai is most happening borough of Mumbai with lots of tourist attractions. 21 Neighborhoods will go through this analysis.**"
      ]
    },
    {
      "cell_type": "code",
      "metadata": {
        "id": "U2C-IcwxgSid",
        "colab_type": "code",
        "colab": {}
      },
      "source": [
        "areas_south = [\"Colaba\",\"Apollo Bandar\",\"Fort\",\"Churchgate\",\"Nariman Point\" \\\n",
        "        ,\"Marine Lines\",\"Walkeshwar\",\"Malabar Hill\",\"Kalbadevi\",\"Bhuleshwar\" \\\n",
        "        ,\"Masjid Bandar\",\"Darukhana\",\"Pydhoni\",\"Nagpada\",\"Dongri\" \\\n",
        "        ,\"Byculla\",\"Grand Road\",\"Mazgaon\",\"Mumbai Central\",\"Mahalaxmi\" \\\n",
        "        ,\"Worli\"]\n"
      ],
      "execution_count": 0,
      "outputs": []
    },
    {
      "cell_type": "markdown",
      "metadata": {
        "id": "2D0U-maWxxQ6",
        "colab_type": "text"
      },
      "source": [
        "# **West Mumbai Neighborhoods.**"
      ]
    },
    {
      "cell_type": "markdown",
      "metadata": {
        "id": "ngHAmQZVygjy",
        "colab_type": "text"
      },
      "source": [
        "#### **Nine neighborhoods of West Mumbai selected for analysis.**"
      ]
    },
    {
      "cell_type": "code",
      "metadata": {
        "id": "Ut-aXOqM-7W4",
        "colab_type": "code",
        "colab": {}
      },
      "source": [
        "areas_west = [\"Dadar\",\"Bandra West\",\"Juhu\",\"Andheri\",\"Kalina\" \\\n",
        "              ,\"Santa Cruz\",\"Mahim\",\"Khar\"]\n",
        "        \n"
      ],
      "execution_count": 0,
      "outputs": []
    },
    {
      "cell_type": "markdown",
      "metadata": {
        "id": "FXv5zfi8x4Ts",
        "colab_type": "text"
      },
      "source": [
        "# **East Mumbai Neighborhoods.**"
      ]
    },
    {
      "cell_type": "markdown",
      "metadata": {
        "id": "slD53yygyucT",
        "colab_type": "text"
      },
      "source": [
        "#### **Five neighborhoods of East Mumbai selected for analysis.**"
      ]
    },
    {
      "cell_type": "code",
      "metadata": {
        "id": "k2y6E8fx_3XB",
        "colab_type": "code",
        "colab": {}
      },
      "source": [
        "areas_east = [\"Kurla\",\"Ghatkopar\",\"Chembur\",\"Govandi\",\"Mulund West\"] \n"
      ],
      "execution_count": 0,
      "outputs": []
    },
    {
      "cell_type": "markdown",
      "metadata": {
        "id": "I9hwXzP8x9Qs",
        "colab_type": "text"
      },
      "source": [
        "# **North Mumbai Neighborhoods.**"
      ]
    },
    {
      "cell_type": "markdown",
      "metadata": {
        "id": "1SW7xO2-y6eM",
        "colab_type": "text"
      },
      "source": [
        "#### **Five neighborhoods of North Mumbai selected for analysis.**"
      ]
    },
    {
      "cell_type": "code",
      "metadata": {
        "id": "L1pE-GjCBeXK",
        "colab_type": "code",
        "colab": {}
      },
      "source": [
        "areas_north = [\"Powai\",\"Jogeshwari\",\"Malad\",\"Borivali\",\"Mira Road\"] \n"
      ],
      "execution_count": 0,
      "outputs": []
    },
    {
      "cell_type": "code",
      "metadata": {
        "id": "zaG41S6K7jrG",
        "colab_type": "code",
        "colab": {}
      },
      "source": [
        "boroughs_south_mumbai = [\"South Mumbai\",\"South Mumbai\",\"South Mumbai\",\"South Mumbai\",\"South Mumbai\", \\\n",
        "             \"South Mumbai\",\"South Mumbai\",\"South Mumbai\",\"South Mumbai\",\"South Mumbai\", \\\n",
        "             \"South Mumbai\",\"South Mumbai\",\"South Mumbai\",\"South Mumbai\",\"South Mumbai\", \\\n",
        "             \"South Mumbai\",\"South Mumbai\",\"South Mumbai\",\"South Mumbai\",\"South Mumbai\", \\\n",
        "             \"South Mumbai\"]\n",
        "\n",
        "          \n",
        "             "
      ],
      "execution_count": 0,
      "outputs": []
    },
    {
      "cell_type": "code",
      "metadata": {
        "id": "dJu0PeFn8qIo",
        "colab_type": "code",
        "colab": {}
      },
      "source": [
        "boroughs_west_mumbai = [\"West Mumbai\",\"West Mumbai\",\"West Mumbai\",\"West Mumbai\",\"West Mumbai\" \\\n",
        "             ,\"West Mumbai\",\"West Mumbai\",\"West Mumbai\"]\n",
        "             \n",
        "            \n"
      ],
      "execution_count": 0,
      "outputs": []
    },
    {
      "cell_type": "code",
      "metadata": {
        "id": "Q2LACYar9QGX",
        "colab_type": "code",
        "colab": {}
      },
      "source": [
        "boroughs_east_mumbai = [\"East Mumbai\",\"East Mumbai\",\"East Mumbai\",\"East Mumbai\",\"East Mumbai\"]\n"
      ],
      "execution_count": 0,
      "outputs": []
    },
    {
      "cell_type": "code",
      "metadata": {
        "id": "VU0x_QJ99fnW",
        "colab_type": "code",
        "colab": {}
      },
      "source": [
        "boroughs_north_mumbai = [\"North Mumbai\",\"North Mumbai\",\"North Mumbai\",\"North Mumbai\",\"North Mumbai\"]\n"
      ],
      "execution_count": 0,
      "outputs": []
    },
    {
      "cell_type": "markdown",
      "metadata": {
        "id": "IMkv6CntzbNm",
        "colab_type": "text"
      },
      "source": [
        "#### **Note : This split was done due to limitations faced during call to API for retrieving the coordinates of all 39 neighborhoods.**"
      ]
    },
    {
      "cell_type": "code",
      "metadata": {
        "id": "MZDK5Yb8924o",
        "colab_type": "code",
        "colab": {}
      },
      "source": [
        "boroughs1 =  boroughs_south_mumbai\n",
        "boroughs2 =  boroughs_west_mumbai + boroughs_east_mumbai + boroughs_north_mumbai"
      ],
      "execution_count": 0,
      "outputs": []
    },
    {
      "cell_type": "code",
      "metadata": {
        "id": "OTF_Nu-AELk6",
        "colab_type": "code",
        "colab": {}
      },
      "source": [
        "areas1 = areas_south\n",
        "areas2 = areas_west + areas_east + areas_north\n",
        "\n"
      ],
      "execution_count": 0,
      "outputs": []
    },
    {
      "cell_type": "markdown",
      "metadata": {
        "id": "SFc7JQshz6Mc",
        "colab_type": "text"
      },
      "source": [
        "### **Building full address to pass to API.**"
      ]
    },
    {
      "cell_type": "code",
      "metadata": {
        "id": "pv-83tQ46S8Q",
        "colab_type": "code",
        "colab": {}
      },
      "source": [
        "full_address1 = []\n",
        " \n",
        "for area in areas1:\n",
        "   \n",
        "  full_address1.append(area + \", Mumbai\")"
      ],
      "execution_count": 0,
      "outputs": []
    },
    {
      "cell_type": "code",
      "metadata": {
        "id": "t0h23Cc2P7kM",
        "colab_type": "code",
        "colab": {}
      },
      "source": [
        "full_address2 = []\n",
        " \n",
        "for area in areas2:\n",
        "   \n",
        "  full_address2.append(area + \", Mumbai\")"
      ],
      "execution_count": 0,
      "outputs": []
    },
    {
      "cell_type": "code",
      "metadata": {
        "id": "-E19OG6LHWgQ",
        "colab_type": "code",
        "outputId": "911f651d-1894-4915-8c9d-c2f750599514",
        "colab": {
          "base_uri": "https://localhost:8080/",
          "height": 52
        }
      },
      "source": [
        "print(\"Lenght of areas1={} , boroughs1 = {} , full_address1 = {}\" \\\n",
        ".format(len(areas1),len(boroughs1),len(full_address1)))\n",
        "\n",
        "print(\"Lenght of areas2={} , boroughs2 = {} , full_address2 = {}\" \\\n",
        ".format(len(areas2),len(boroughs2),len(full_address2)))"
      ],
      "execution_count": 0,
      "outputs": [
        {
          "output_type": "stream",
          "text": [
            "Lenght of areas1=21 , boroughs1 = 21 , full_address1 = 21\n",
            "Lenght of areas2=18 , boroughs2 = 18 , full_address2 = 18\n"
          ],
          "name": "stdout"
        }
      ]
    },
    {
      "cell_type": "markdown",
      "metadata": {
        "id": "nRRLeaJm0KOE",
        "colab_type": "text"
      },
      "source": [
        "## **Create Dictionary first**."
      ]
    },
    {
      "cell_type": "code",
      "metadata": {
        "id": "rv5-Teab6WZO",
        "colab_type": "code",
        "outputId": "daec735f-8fb4-4db9-f92b-71bce664de8a",
        "colab": {
          "base_uri": "https://localhost:8080/",
          "height": 72
        }
      },
      "source": [
        "dic_area1 = {\"Neighborhood\": areas1,\"Boroughs\": boroughs1,\"Address\":full_address1}\n",
        "dic_area2 = {\"Neighborhood\": areas2,\"Boroughs\": boroughs2,\"Address\":full_address2}\n",
        "print(\"dic_area1:\",dic_area1)\n",
        "print(\"dic_area2:\",dic_area2)"
      ],
      "execution_count": 0,
      "outputs": [
        {
          "output_type": "stream",
          "text": [
            "dic_area1: {'Neighborhood': ['Colaba', 'Apollo Bandar', 'Fort', 'Churchgate', 'Nariman Point', 'Marine Lines', 'Walkeshwar', 'Malabar Hill', 'Kalbadevi', 'Bhuleshwar', 'Masjid Bandar', 'Darukhana', 'Pydhoni', 'Nagpada', 'Dongri', 'Byculla', 'Grand Road', 'Mazgaon', 'Mumbai Central', 'Mahalaxmi', 'Worli'], 'Boroughs': ['South Mumbai', 'South Mumbai', 'South Mumbai', 'South Mumbai', 'South Mumbai', 'South Mumbai', 'South Mumbai', 'South Mumbai', 'South Mumbai', 'South Mumbai', 'South Mumbai', 'South Mumbai', 'South Mumbai', 'South Mumbai', 'South Mumbai', 'South Mumbai', 'South Mumbai', 'South Mumbai', 'South Mumbai', 'South Mumbai', 'South Mumbai'], 'Address': ['Colaba, Mumbai', 'Apollo Bandar, Mumbai', 'Fort, Mumbai', 'Churchgate, Mumbai', 'Nariman Point, Mumbai', 'Marine Lines, Mumbai', 'Walkeshwar, Mumbai', 'Malabar Hill, Mumbai', 'Kalbadevi, Mumbai', 'Bhuleshwar, Mumbai', 'Masjid Bandar, Mumbai', 'Darukhana, Mumbai', 'Pydhoni, Mumbai', 'Nagpada, Mumbai', 'Dongri, Mumbai', 'Byculla, Mumbai', 'Grand Road, Mumbai', 'Mazgaon, Mumbai', 'Mumbai Central, Mumbai', 'Mahalaxmi, Mumbai', 'Worli, Mumbai']}\n",
            "dic_area2: {'Neighborhood': ['Dadar', 'Bandra West', 'Juhu', 'Andheri', 'Kalina', 'Santa Cruz', 'Mahim', 'Khar', 'Kurla', 'Ghatkopar', 'Chembur', 'Govandi', 'Mulund West', 'Powai', 'Jogeshwari', 'Malad', 'Borivali', 'Mira Road'], 'Boroughs': ['West Mumbai', 'West Mumbai', 'West Mumbai', 'West Mumbai', 'West Mumbai', 'West Mumbai', 'West Mumbai', 'West Mumbai', 'East Mumbai', 'East Mumbai', 'East Mumbai', 'East Mumbai', 'East Mumbai', 'North Mumbai', 'North Mumbai', 'North Mumbai', 'North Mumbai', 'North Mumbai'], 'Address': ['Dadar, Mumbai', 'Bandra West, Mumbai', 'Juhu, Mumbai', 'Andheri, Mumbai', 'Kalina, Mumbai', 'Santa Cruz, Mumbai', 'Mahim, Mumbai', 'Khar, Mumbai', 'Kurla, Mumbai', 'Ghatkopar, Mumbai', 'Chembur, Mumbai', 'Govandi, Mumbai', 'Mulund West, Mumbai', 'Powai, Mumbai', 'Jogeshwari, Mumbai', 'Malad, Mumbai', 'Borivali, Mumbai', 'Mira Road, Mumbai']}\n"
          ],
          "name": "stdout"
        }
      ]
    },
    {
      "cell_type": "markdown",
      "metadata": {
        "id": "PEZjpcsW0VMa",
        "colab_type": "text"
      },
      "source": [
        "## **Create dataframes from dictionary.**"
      ]
    },
    {
      "cell_type": "code",
      "metadata": {
        "id": "5bf7LR8aNA5i",
        "colab_type": "code",
        "outputId": "4fac70c7-9b6d-45a0-cabd-c1ff8e61c4d9",
        "colab": {
          "base_uri": "https://localhost:8080/",
          "height": 202
        }
      },
      "source": [
        "df_area1 = pd.DataFrame.from_dict(dic_area1)\n",
        "df_area1.head()\n"
      ],
      "execution_count": 0,
      "outputs": [
        {
          "output_type": "execute_result",
          "data": {
            "text/html": [
              "<div>\n",
              "<style scoped>\n",
              "    .dataframe tbody tr th:only-of-type {\n",
              "        vertical-align: middle;\n",
              "    }\n",
              "\n",
              "    .dataframe tbody tr th {\n",
              "        vertical-align: top;\n",
              "    }\n",
              "\n",
              "    .dataframe thead th {\n",
              "        text-align: right;\n",
              "    }\n",
              "</style>\n",
              "<table border=\"1\" class=\"dataframe\">\n",
              "  <thead>\n",
              "    <tr style=\"text-align: right;\">\n",
              "      <th></th>\n",
              "      <th>Neighborhood</th>\n",
              "      <th>Boroughs</th>\n",
              "      <th>Address</th>\n",
              "    </tr>\n",
              "  </thead>\n",
              "  <tbody>\n",
              "    <tr>\n",
              "      <th>0</th>\n",
              "      <td>Colaba</td>\n",
              "      <td>South Mumbai</td>\n",
              "      <td>Colaba, Mumbai</td>\n",
              "    </tr>\n",
              "    <tr>\n",
              "      <th>1</th>\n",
              "      <td>Apollo Bandar</td>\n",
              "      <td>South Mumbai</td>\n",
              "      <td>Apollo Bandar, Mumbai</td>\n",
              "    </tr>\n",
              "    <tr>\n",
              "      <th>2</th>\n",
              "      <td>Fort</td>\n",
              "      <td>South Mumbai</td>\n",
              "      <td>Fort, Mumbai</td>\n",
              "    </tr>\n",
              "    <tr>\n",
              "      <th>3</th>\n",
              "      <td>Churchgate</td>\n",
              "      <td>South Mumbai</td>\n",
              "      <td>Churchgate, Mumbai</td>\n",
              "    </tr>\n",
              "    <tr>\n",
              "      <th>4</th>\n",
              "      <td>Nariman Point</td>\n",
              "      <td>South Mumbai</td>\n",
              "      <td>Nariman Point, Mumbai</td>\n",
              "    </tr>\n",
              "  </tbody>\n",
              "</table>\n",
              "</div>"
            ],
            "text/plain": [
              "    Neighborhood      Boroughs                Address\n",
              "0         Colaba  South Mumbai         Colaba, Mumbai\n",
              "1  Apollo Bandar  South Mumbai  Apollo Bandar, Mumbai\n",
              "2           Fort  South Mumbai           Fort, Mumbai\n",
              "3     Churchgate  South Mumbai     Churchgate, Mumbai\n",
              "4  Nariman Point  South Mumbai  Nariman Point, Mumbai"
            ]
          },
          "metadata": {
            "tags": []
          },
          "execution_count": 32
        }
      ]
    },
    {
      "cell_type": "code",
      "metadata": {
        "id": "n1489FtZRnq9",
        "colab_type": "code",
        "outputId": "d75f208c-7f4b-4b11-88db-d953bf9a7c9e",
        "colab": {
          "base_uri": "https://localhost:8080/",
          "height": 202
        }
      },
      "source": [
        "df_area2 = pd.DataFrame.from_dict(dic_area2)\n",
        "df_area2.tail()\n"
      ],
      "execution_count": 0,
      "outputs": [
        {
          "output_type": "execute_result",
          "data": {
            "text/html": [
              "<div>\n",
              "<style scoped>\n",
              "    .dataframe tbody tr th:only-of-type {\n",
              "        vertical-align: middle;\n",
              "    }\n",
              "\n",
              "    .dataframe tbody tr th {\n",
              "        vertical-align: top;\n",
              "    }\n",
              "\n",
              "    .dataframe thead th {\n",
              "        text-align: right;\n",
              "    }\n",
              "</style>\n",
              "<table border=\"1\" class=\"dataframe\">\n",
              "  <thead>\n",
              "    <tr style=\"text-align: right;\">\n",
              "      <th></th>\n",
              "      <th>Neighborhood</th>\n",
              "      <th>Boroughs</th>\n",
              "      <th>Address</th>\n",
              "    </tr>\n",
              "  </thead>\n",
              "  <tbody>\n",
              "    <tr>\n",
              "      <th>13</th>\n",
              "      <td>Powai</td>\n",
              "      <td>North Mumbai</td>\n",
              "      <td>Powai, Mumbai</td>\n",
              "    </tr>\n",
              "    <tr>\n",
              "      <th>14</th>\n",
              "      <td>Jogeshwari</td>\n",
              "      <td>North Mumbai</td>\n",
              "      <td>Jogeshwari, Mumbai</td>\n",
              "    </tr>\n",
              "    <tr>\n",
              "      <th>15</th>\n",
              "      <td>Malad</td>\n",
              "      <td>North Mumbai</td>\n",
              "      <td>Malad, Mumbai</td>\n",
              "    </tr>\n",
              "    <tr>\n",
              "      <th>16</th>\n",
              "      <td>Borivali</td>\n",
              "      <td>North Mumbai</td>\n",
              "      <td>Borivali, Mumbai</td>\n",
              "    </tr>\n",
              "    <tr>\n",
              "      <th>17</th>\n",
              "      <td>Mira Road</td>\n",
              "      <td>North Mumbai</td>\n",
              "      <td>Mira Road, Mumbai</td>\n",
              "    </tr>\n",
              "  </tbody>\n",
              "</table>\n",
              "</div>"
            ],
            "text/plain": [
              "   Neighborhood      Boroughs             Address\n",
              "13        Powai  North Mumbai       Powai, Mumbai\n",
              "14   Jogeshwari  North Mumbai  Jogeshwari, Mumbai\n",
              "15        Malad  North Mumbai       Malad, Mumbai\n",
              "16     Borivali  North Mumbai    Borivali, Mumbai\n",
              "17    Mira Road  North Mumbai   Mira Road, Mumbai"
            ]
          },
          "metadata": {
            "tags": []
          },
          "execution_count": 33
        }
      ]
    },
    {
      "cell_type": "markdown",
      "metadata": {
        "id": "49_YKf0O0ovv",
        "colab_type": "text"
      },
      "source": [
        "# **Get coordinates of each neighborhood of Mumbai.**"
      ]
    },
    {
      "cell_type": "markdown",
      "metadata": {
        "id": "rhMC_m55SbN_",
        "colab_type": "text"
      },
      "source": [
        "### **Let's pass South Mumbai dataframe :  df_area1**"
      ]
    },
    {
      "cell_type": "markdown",
      "metadata": {
        "id": "ob9aPeg4P0J1",
        "colab_type": "text"
      },
      "source": [
        "#### **Use geopy library to get the latitude and longitude values of Mumbai neigborhoods**\n",
        "####**In order to define an instance of the geocoder, we need to define a user_agent. We will name our agent ny_explorer, as shown below.**"
      ]
    },
    {
      "cell_type": "code",
      "metadata": {
        "id": "IYNFdGA1TQBU",
        "colab_type": "code",
        "outputId": "f316d475-bcab-4827-b0bc-0b9c7fcc18f3",
        "colab": {
          "base_uri": "https://localhost:8080/",
          "height": 202
        }
      },
      "source": [
        "# South Mumbai first\n",
        "\n",
        "df2 = df_area1\n",
        "df2.head()\n",
        "\n",
        "data = []\n",
        "for  neighborhood,address,borough in zip(df2['Neighborhood'], df2['Address'],df2['Boroughs']):\n",
        "    geolocator = Nominatim(user_agent=\"ny_explorer\")\n",
        "    location = geolocator.geocode(address)\n",
        "    latitude = location.latitude\n",
        "    longitude = location.longitude\n",
        "    data.append([neighborhood,borough,latitude,longitude])\n",
        "\n",
        "col_names =  ['Neighborhood', 'Borough', 'Latitude','Longitude']\n",
        "neighborhoods = pd.DataFrame(data,columns=col_names)\n",
        "\n",
        "# Assign to neighborhoods1 : South Mumbai\n",
        "neighborhoods1 = neighborhoods\n",
        "neighborhoods1.tail()\n"
      ],
      "execution_count": 0,
      "outputs": [
        {
          "output_type": "execute_result",
          "data": {
            "text/html": [
              "<div>\n",
              "<style scoped>\n",
              "    .dataframe tbody tr th:only-of-type {\n",
              "        vertical-align: middle;\n",
              "    }\n",
              "\n",
              "    .dataframe tbody tr th {\n",
              "        vertical-align: top;\n",
              "    }\n",
              "\n",
              "    .dataframe thead th {\n",
              "        text-align: right;\n",
              "    }\n",
              "</style>\n",
              "<table border=\"1\" class=\"dataframe\">\n",
              "  <thead>\n",
              "    <tr style=\"text-align: right;\">\n",
              "      <th></th>\n",
              "      <th>Neighborhood</th>\n",
              "      <th>Borough</th>\n",
              "      <th>Latitude</th>\n",
              "      <th>Longitude</th>\n",
              "    </tr>\n",
              "  </thead>\n",
              "  <tbody>\n",
              "    <tr>\n",
              "      <th>16</th>\n",
              "      <td>Grand Road</td>\n",
              "      <td>South Mumbai</td>\n",
              "      <td>18.938771</td>\n",
              "      <td>72.835335</td>\n",
              "    </tr>\n",
              "    <tr>\n",
              "      <th>17</th>\n",
              "      <td>Mazgaon</td>\n",
              "      <td>South Mumbai</td>\n",
              "      <td>18.968052</td>\n",
              "      <td>72.840012</td>\n",
              "    </tr>\n",
              "    <tr>\n",
              "      <th>18</th>\n",
              "      <td>Mumbai Central</td>\n",
              "      <td>South Mumbai</td>\n",
              "      <td>18.969586</td>\n",
              "      <td>72.819315</td>\n",
              "    </tr>\n",
              "    <tr>\n",
              "      <th>19</th>\n",
              "      <td>Mahalaxmi</td>\n",
              "      <td>South Mumbai</td>\n",
              "      <td>18.982568</td>\n",
              "      <td>72.824160</td>\n",
              "    </tr>\n",
              "    <tr>\n",
              "      <th>20</th>\n",
              "      <td>Worli</td>\n",
              "      <td>South Mumbai</td>\n",
              "      <td>19.011696</td>\n",
              "      <td>72.818070</td>\n",
              "    </tr>\n",
              "  </tbody>\n",
              "</table>\n",
              "</div>"
            ],
            "text/plain": [
              "      Neighborhood       Borough   Latitude  Longitude\n",
              "16      Grand Road  South Mumbai  18.938771  72.835335\n",
              "17         Mazgaon  South Mumbai  18.968052  72.840012\n",
              "18  Mumbai Central  South Mumbai  18.969586  72.819315\n",
              "19       Mahalaxmi  South Mumbai  18.982568  72.824160\n",
              "20           Worli  South Mumbai  19.011696  72.818070"
            ]
          },
          "metadata": {
            "tags": []
          },
          "execution_count": 34
        }
      ]
    },
    {
      "cell_type": "code",
      "metadata": {
        "id": "Vkt56pLRKpTg",
        "colab_type": "code",
        "outputId": "50005d73-f0b3-4a85-bf04-2dd19cc971cf",
        "colab": {
          "base_uri": "https://localhost:8080/",
          "height": 35
        }
      },
      "source": [
        "print(\"Coordiates for {} South Mumbai neighborhoods obtained.\".format(neighborhoods1.shape[0]) )"
      ],
      "execution_count": 0,
      "outputs": [
        {
          "output_type": "stream",
          "text": [
            "Coordiates for 21 South Mumbai neighborhoods obtained.\n"
          ],
          "name": "stdout"
        }
      ]
    },
    {
      "cell_type": "markdown",
      "metadata": {
        "id": "RfNkXb86ULkW",
        "colab_type": "text"
      },
      "source": [
        "### **Now let's pass east+west+north Mumabi : df_area2**"
      ]
    },
    {
      "cell_type": "code",
      "metadata": {
        "id": "czK5NCKvUKVB",
        "colab_type": "code",
        "outputId": "27a7c11a-d746-44c6-e3f3-e0fb1a1273a5",
        "colab": {
          "base_uri": "https://localhost:8080/",
          "height": 202
        }
      },
      "source": [
        "df2 = df_area2\n",
        "df2.tail()"
      ],
      "execution_count": 0,
      "outputs": [
        {
          "output_type": "execute_result",
          "data": {
            "text/html": [
              "<div>\n",
              "<style scoped>\n",
              "    .dataframe tbody tr th:only-of-type {\n",
              "        vertical-align: middle;\n",
              "    }\n",
              "\n",
              "    .dataframe tbody tr th {\n",
              "        vertical-align: top;\n",
              "    }\n",
              "\n",
              "    .dataframe thead th {\n",
              "        text-align: right;\n",
              "    }\n",
              "</style>\n",
              "<table border=\"1\" class=\"dataframe\">\n",
              "  <thead>\n",
              "    <tr style=\"text-align: right;\">\n",
              "      <th></th>\n",
              "      <th>Neighborhood</th>\n",
              "      <th>Boroughs</th>\n",
              "      <th>Address</th>\n",
              "    </tr>\n",
              "  </thead>\n",
              "  <tbody>\n",
              "    <tr>\n",
              "      <th>13</th>\n",
              "      <td>Powai</td>\n",
              "      <td>North Mumbai</td>\n",
              "      <td>Powai, Mumbai</td>\n",
              "    </tr>\n",
              "    <tr>\n",
              "      <th>14</th>\n",
              "      <td>Jogeshwari</td>\n",
              "      <td>North Mumbai</td>\n",
              "      <td>Jogeshwari, Mumbai</td>\n",
              "    </tr>\n",
              "    <tr>\n",
              "      <th>15</th>\n",
              "      <td>Malad</td>\n",
              "      <td>North Mumbai</td>\n",
              "      <td>Malad, Mumbai</td>\n",
              "    </tr>\n",
              "    <tr>\n",
              "      <th>16</th>\n",
              "      <td>Borivali</td>\n",
              "      <td>North Mumbai</td>\n",
              "      <td>Borivali, Mumbai</td>\n",
              "    </tr>\n",
              "    <tr>\n",
              "      <th>17</th>\n",
              "      <td>Mira Road</td>\n",
              "      <td>North Mumbai</td>\n",
              "      <td>Mira Road, Mumbai</td>\n",
              "    </tr>\n",
              "  </tbody>\n",
              "</table>\n",
              "</div>"
            ],
            "text/plain": [
              "   Neighborhood      Boroughs             Address\n",
              "13        Powai  North Mumbai       Powai, Mumbai\n",
              "14   Jogeshwari  North Mumbai  Jogeshwari, Mumbai\n",
              "15        Malad  North Mumbai       Malad, Mumbai\n",
              "16     Borivali  North Mumbai    Borivali, Mumbai\n",
              "17    Mira Road  North Mumbai   Mira Road, Mumbai"
            ]
          },
          "metadata": {
            "tags": []
          },
          "execution_count": 24
        }
      ]
    },
    {
      "cell_type": "code",
      "metadata": {
        "id": "Zda79u-PUuJA",
        "colab_type": "code",
        "outputId": "a4c4e173-287f-4165-a158-0907db1e0970",
        "colab": {
          "base_uri": "https://localhost:8080/",
          "height": 1000
        }
      },
      "source": [
        "# Now second iteration for Rest of Mumbai.\n",
        "\n",
        "df2 = df_area2\n",
        "df2.tail()\n",
        "\n",
        "data = []\n",
        "for  neighborhood,address,borough in zip(df2['Neighborhood'], df2['Address'],df2['Boroughs']):\n",
        "  print(\"neighborhood:\", neighborhood)\n",
        "  print(\"address:\", address)\n",
        "  print(\"borough:\", borough)\n",
        "  geolocator = Nominatim(user_agent=\"ny_explorer\")\n",
        "  location = geolocator.geocode(address)\n",
        "  latitude = location.latitude\n",
        "  longitude = location.longitude\n",
        "  print(\"latitude:\", latitude)\n",
        "  print(\"longitude:\", longitude)\n",
        "  data.append([neighborhood,borough,latitude,longitude])\n",
        "\n",
        "col_names =  ['Neighborhood', 'Borough', 'Latitude','Longitude']\n",
        "neighborhoods = pd.DataFrame(data,columns=col_names)\n",
        "\n",
        "#Assign to neighborhoods2 : Rest of Mumbai\n",
        "\n",
        "neighborhoods2 = neighborhoods\n",
        "neighborhoods2.tail()"
      ],
      "execution_count": 0,
      "outputs": [
        {
          "output_type": "stream",
          "text": [
            "neighborhood: Dadar\n",
            "address: Dadar, Mumbai\n",
            "borough: West Mumbai\n",
            "latitude: 19.019282\n",
            "longitude: 72.8428757\n",
            "neighborhood: Bandra West\n",
            "address: Bandra West, Mumbai\n",
            "borough: West Mumbai\n",
            "latitude: 19.0583358\n",
            "longitude: 72.8302669\n",
            "neighborhood: Juhu\n",
            "address: Juhu, Mumbai\n",
            "borough: West Mumbai\n",
            "latitude: 19.1070215\n",
            "longitude: 72.8275275\n",
            "neighborhood: Andheri\n",
            "address: Andheri, Mumbai\n",
            "borough: West Mumbai\n",
            "latitude: 19.1196976\n",
            "longitude: 72.8464205\n",
            "neighborhood: Kalina\n",
            "address: Kalina, Mumbai\n",
            "borough: West Mumbai\n",
            "latitude: 19.079273\n",
            "longitude: 72.8612672\n",
            "neighborhood: Santa Cruz\n",
            "address: Santa Cruz, Mumbai\n",
            "borough: West Mumbai\n",
            "latitude: 19.0793694\n",
            "longitude: 72.8470855\n",
            "neighborhood: Mahim\n",
            "address: Mahim, Mumbai\n",
            "borough: West Mumbai\n",
            "latitude: 19.0423145\n",
            "longitude: 72.8398344\n",
            "neighborhood: Khar\n",
            "address: Khar, Mumbai\n",
            "borough: West Mumbai\n",
            "latitude: 19.0696584\n",
            "longitude: 72.8398944\n",
            "neighborhood: Kurla\n",
            "address: Kurla, Mumbai\n",
            "borough: East Mumbai\n",
            "latitude: 19.0652797\n",
            "longitude: 72.8793805\n",
            "neighborhood: Ghatkopar\n",
            "address: Ghatkopar, Mumbai\n",
            "borough: East Mumbai\n",
            "latitude: 19.0859539\n",
            "longitude: 72.9082381\n",
            "neighborhood: Chembur\n",
            "address: Chembur, Mumbai\n",
            "borough: East Mumbai\n",
            "latitude: 19.0612128\n",
            "longitude: 72.8975909\n",
            "neighborhood: Govandi\n",
            "address: Govandi, Mumbai\n",
            "borough: East Mumbai\n",
            "latitude: 19.0553688\n",
            "longitude: 72.9150702\n",
            "neighborhood: Mulund West\n",
            "address: Mulund West, Mumbai\n",
            "borough: East Mumbai\n",
            "latitude: 19.1719717\n",
            "longitude: 72.9511956\n",
            "neighborhood: Powai\n",
            "address: Powai, Mumbai\n",
            "borough: North Mumbai\n",
            "latitude: 19.1187195\n",
            "longitude: 72.9073476\n",
            "neighborhood: Jogeshwari\n",
            "address: Jogeshwari, Mumbai\n",
            "borough: North Mumbai\n",
            "latitude: 19.1348994\n",
            "longitude: 72.8488199\n",
            "neighborhood: Malad\n",
            "address: Malad, Mumbai\n",
            "borough: North Mumbai\n",
            "latitude: 19.1867193\n",
            "longitude: 72.8485884\n",
            "neighborhood: Borivali\n",
            "address: Borivali, Mumbai\n",
            "borough: North Mumbai\n",
            "latitude: 19.229068\n",
            "longitude: 72.8573628\n",
            "neighborhood: Mira Road\n",
            "address: Mira Road, Mumbai\n",
            "borough: North Mumbai\n",
            "latitude: 19.1878962\n",
            "longitude: 72.8365955\n"
          ],
          "name": "stdout"
        },
        {
          "output_type": "execute_result",
          "data": {
            "text/html": [
              "<div>\n",
              "<style scoped>\n",
              "    .dataframe tbody tr th:only-of-type {\n",
              "        vertical-align: middle;\n",
              "    }\n",
              "\n",
              "    .dataframe tbody tr th {\n",
              "        vertical-align: top;\n",
              "    }\n",
              "\n",
              "    .dataframe thead th {\n",
              "        text-align: right;\n",
              "    }\n",
              "</style>\n",
              "<table border=\"1\" class=\"dataframe\">\n",
              "  <thead>\n",
              "    <tr style=\"text-align: right;\">\n",
              "      <th></th>\n",
              "      <th>Neighborhood</th>\n",
              "      <th>Borough</th>\n",
              "      <th>Latitude</th>\n",
              "      <th>Longitude</th>\n",
              "    </tr>\n",
              "  </thead>\n",
              "  <tbody>\n",
              "    <tr>\n",
              "      <th>13</th>\n",
              "      <td>Powai</td>\n",
              "      <td>North Mumbai</td>\n",
              "      <td>19.118720</td>\n",
              "      <td>72.907348</td>\n",
              "    </tr>\n",
              "    <tr>\n",
              "      <th>14</th>\n",
              "      <td>Jogeshwari</td>\n",
              "      <td>North Mumbai</td>\n",
              "      <td>19.134899</td>\n",
              "      <td>72.848820</td>\n",
              "    </tr>\n",
              "    <tr>\n",
              "      <th>15</th>\n",
              "      <td>Malad</td>\n",
              "      <td>North Mumbai</td>\n",
              "      <td>19.186719</td>\n",
              "      <td>72.848588</td>\n",
              "    </tr>\n",
              "    <tr>\n",
              "      <th>16</th>\n",
              "      <td>Borivali</td>\n",
              "      <td>North Mumbai</td>\n",
              "      <td>19.229068</td>\n",
              "      <td>72.857363</td>\n",
              "    </tr>\n",
              "    <tr>\n",
              "      <th>17</th>\n",
              "      <td>Mira Road</td>\n",
              "      <td>North Mumbai</td>\n",
              "      <td>19.187896</td>\n",
              "      <td>72.836596</td>\n",
              "    </tr>\n",
              "  </tbody>\n",
              "</table>\n",
              "</div>"
            ],
            "text/plain": [
              "   Neighborhood       Borough   Latitude  Longitude\n",
              "13        Powai  North Mumbai  19.118720  72.907348\n",
              "14   Jogeshwari  North Mumbai  19.134899  72.848820\n",
              "15        Malad  North Mumbai  19.186719  72.848588\n",
              "16     Borivali  North Mumbai  19.229068  72.857363\n",
              "17    Mira Road  North Mumbai  19.187896  72.836596"
            ]
          },
          "metadata": {
            "tags": []
          },
          "execution_count": 37
        }
      ]
    },
    {
      "cell_type": "code",
      "metadata": {
        "id": "e-b76yDuLR-y",
        "colab_type": "code",
        "outputId": "223982e9-d157-43a8-9e9e-6fad13135934",
        "colab": {
          "base_uri": "https://localhost:8080/",
          "height": 35
        }
      },
      "source": [
        "print(\"Coordiates for {} Rest of Mumbai neighborhoods obtained.\".format(neighborhoods2.shape[0]) )"
      ],
      "execution_count": 0,
      "outputs": [
        {
          "output_type": "stream",
          "text": [
            "Coordiates for 18 Rest of Mumbai neighborhoods obtained.\n"
          ],
          "name": "stdout"
        }
      ]
    },
    {
      "cell_type": "markdown",
      "metadata": {
        "id": "i8-fKBnoXSQY",
        "colab_type": "text"
      },
      "source": [
        "## **Now Let's concat two dataframes for clubbing entire Mumbai dataframe to one.** "
      ]
    },
    {
      "cell_type": "code",
      "metadata": {
        "id": "EeTm-5W1TIef",
        "colab_type": "code",
        "outputId": "02bbe52f-bce7-44eb-e922-e9d97cd25de0",
        "colab": {
          "base_uri": "https://localhost:8080/",
          "height": 35
        }
      },
      "source": [
        "neighborhoods = neighborhoods1.append(neighborhoods2,ignore_index=True)\n",
        "neighborhoods = neighborhoods.reset_index()\n",
        "neighborhoods.shape\n"
      ],
      "execution_count": 0,
      "outputs": [
        {
          "output_type": "execute_result",
          "data": {
            "text/plain": [
              "(39, 5)"
            ]
          },
          "metadata": {
            "tags": []
          },
          "execution_count": 40
        }
      ]
    },
    {
      "cell_type": "code",
      "metadata": {
        "id": "H6hmcl-55v89",
        "colab_type": "code",
        "outputId": "c5ffe300-58ad-4206-ad78-e5ea91dae353",
        "colab": {
          "base_uri": "https://localhost:8080/",
          "height": 219
        }
      },
      "source": [
        "print(\"Merged data frame have {} rows.\".format(neighborhoods.shape[0]) )\n",
        "neighborhoods.tail()"
      ],
      "execution_count": 0,
      "outputs": [
        {
          "output_type": "stream",
          "text": [
            "Merged data frame have 39 rows.\n"
          ],
          "name": "stdout"
        },
        {
          "output_type": "execute_result",
          "data": {
            "text/html": [
              "<div>\n",
              "<style scoped>\n",
              "    .dataframe tbody tr th:only-of-type {\n",
              "        vertical-align: middle;\n",
              "    }\n",
              "\n",
              "    .dataframe tbody tr th {\n",
              "        vertical-align: top;\n",
              "    }\n",
              "\n",
              "    .dataframe thead th {\n",
              "        text-align: right;\n",
              "    }\n",
              "</style>\n",
              "<table border=\"1\" class=\"dataframe\">\n",
              "  <thead>\n",
              "    <tr style=\"text-align: right;\">\n",
              "      <th></th>\n",
              "      <th>index</th>\n",
              "      <th>Neighborhood</th>\n",
              "      <th>Borough</th>\n",
              "      <th>Latitude</th>\n",
              "      <th>Longitude</th>\n",
              "    </tr>\n",
              "  </thead>\n",
              "  <tbody>\n",
              "    <tr>\n",
              "      <th>34</th>\n",
              "      <td>34</td>\n",
              "      <td>Powai</td>\n",
              "      <td>North Mumbai</td>\n",
              "      <td>19.118720</td>\n",
              "      <td>72.907348</td>\n",
              "    </tr>\n",
              "    <tr>\n",
              "      <th>35</th>\n",
              "      <td>35</td>\n",
              "      <td>Jogeshwari</td>\n",
              "      <td>North Mumbai</td>\n",
              "      <td>19.134899</td>\n",
              "      <td>72.848820</td>\n",
              "    </tr>\n",
              "    <tr>\n",
              "      <th>36</th>\n",
              "      <td>36</td>\n",
              "      <td>Malad</td>\n",
              "      <td>North Mumbai</td>\n",
              "      <td>19.186719</td>\n",
              "      <td>72.848588</td>\n",
              "    </tr>\n",
              "    <tr>\n",
              "      <th>37</th>\n",
              "      <td>37</td>\n",
              "      <td>Borivali</td>\n",
              "      <td>North Mumbai</td>\n",
              "      <td>19.229068</td>\n",
              "      <td>72.857363</td>\n",
              "    </tr>\n",
              "    <tr>\n",
              "      <th>38</th>\n",
              "      <td>38</td>\n",
              "      <td>Mira Road</td>\n",
              "      <td>North Mumbai</td>\n",
              "      <td>19.187896</td>\n",
              "      <td>72.836596</td>\n",
              "    </tr>\n",
              "  </tbody>\n",
              "</table>\n",
              "</div>"
            ],
            "text/plain": [
              "    index Neighborhood       Borough   Latitude  Longitude\n",
              "34     34        Powai  North Mumbai  19.118720  72.907348\n",
              "35     35   Jogeshwari  North Mumbai  19.134899  72.848820\n",
              "36     36        Malad  North Mumbai  19.186719  72.848588\n",
              "37     37     Borivali  North Mumbai  19.229068  72.857363\n",
              "38     38    Mira Road  North Mumbai  19.187896  72.836596"
            ]
          },
          "metadata": {
            "tags": []
          },
          "execution_count": 41
        }
      ]
    },
    {
      "cell_type": "markdown",
      "metadata": {
        "id": "NcwDbMNZQPQC",
        "colab_type": "text"
      },
      "source": [
        "#### **Let's get coordinates of Mumbai.**"
      ]
    },
    {
      "cell_type": "code",
      "metadata": {
        "id": "q2CBuyT-PbZF",
        "colab_type": "code",
        "outputId": "f2e92314-de62-4de9-ba8e-568c6f54fa49",
        "colab": {
          "base_uri": "https://localhost:8080/",
          "height": 35
        }
      },
      "source": [
        "address = \"Mumbai\"\n",
        "geolocator = Nominatim(user_agent=\"ny_explorer\")\n",
        "location = geolocator.geocode(address)\n",
        "latitude = location.latitude\n",
        "longitude = location.longitude\n",
        "mumbai_latitude = latitude\n",
        "mumbai_longitude = longitude\n",
        "print (\"Latitude={} and Longitude={}\".format(mumbai_latitude,mumbai_longitude))"
      ],
      "execution_count": 0,
      "outputs": [
        {
          "output_type": "stream",
          "text": [
            "Latitude=18.9387711 and Longitude=72.8353355\n"
          ],
          "name": "stdout"
        }
      ]
    },
    {
      "cell_type": "markdown",
      "metadata": {
        "id": "Xl9jqwod_QDj",
        "colab_type": "text"
      },
      "source": [
        "## **Create a map of Mumbai with neighborhoods superimposed on top.**\n"
      ]
    },
    {
      "cell_type": "markdown",
      "metadata": {
        "id": "jsRsLRnsROU1",
        "colab_type": "text"
      },
      "source": [
        "#### **Here folium library is being used to create city map.**"
      ]
    },
    {
      "cell_type": "code",
      "metadata": {
        "id": "uDkMmiBGAnKV",
        "colab_type": "code",
        "outputId": "9802d75f-6d4e-462e-ad87-f38ee3f464e7",
        "colab": {
          "base_uri": "https://localhost:8080/",
          "height": 531
        }
      },
      "source": [
        "map_mumbai = folium.Map(location=[latitude, longitude], zoom_start=14)\n",
        "map_mumbai"
      ],
      "execution_count": 0,
      "outputs": [
        {
          "output_type": "execute_result",
          "data": {
            "text/html": [
              "<div style=\"width:100%;\"><div style=\"position:relative;width:100%;height:0;padding-bottom:60%;\"><iframe src=\"about:blank\" style=\"position:absolute;width:100%;height:100%;left:0;top:0;border:none !important;\" data-html=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 onload=\"this.contentDocument.open();this.contentDocument.write(atob(this.getAttribute('data-html')));this.contentDocument.close();\" allowfullscreen webkitallowfullscreen mozallowfullscreen></iframe></div></div>"
            ],
            "text/plain": [
              "<folium.folium.Map at 0x7feaad915cc0>"
            ]
          },
          "metadata": {
            "tags": []
          },
          "execution_count": 44
        }
      ]
    },
    {
      "cell_type": "markdown",
      "metadata": {
        "id": "NxLUJUXjmVLy",
        "colab_type": "text"
      },
      "source": [
        "# **Add markers to map showing neighborhoods of Mumbai.**"
      ]
    },
    {
      "cell_type": "code",
      "metadata": {
        "id": "LTI6w1wP_bNa",
        "colab_type": "code",
        "outputId": "7d7c42a7-ff2d-4372-a82e-900932b6d10e",
        "colab": {
          "base_uri": "https://localhost:8080/",
          "height": 531
        }
      },
      "source": [
        "for lat, lng, borough, neighborhood in zip(neighborhoods['Latitude'], neighborhoods['Longitude'], neighborhoods['Borough'], neighborhoods['Neighborhood']):\n",
        "    label = '{}, {}'.format(neighborhood, borough)\n",
        "    label = folium.Popup(label, parse_html=True)\n",
        "    folium.CircleMarker(\n",
        "        [lat, lng],\n",
        "        radius=5,\n",
        "        popup=label,\n",
        "        color='blue',\n",
        "        fill=True,\n",
        "        fill_color='#3186cc',\n",
        "        fill_opacity=0.7,\n",
        "        parse_html=False).add_to(map_mumbai)  \n",
        "    \n",
        "map_mumbai"
      ],
      "execution_count": 0,
      "outputs": [
        {
          "output_type": "execute_result",
          "data": {
            "text/html": [
              "<div style=\"width:100%;\"><div style=\"position:relative;width:100%;height:0;padding-bottom:60%;\"><iframe src=\"about:blank\" style=\"position:absolute;width:100%;height:100%;left:0;top:0;border:none !important;\" data-html=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 onload=\"this.contentDocument.open();this.contentDocument.write(atob(this.getAttribute('data-html')));this.contentDocument.close();\" allowfullscreen webkitallowfullscreen mozallowfullscreen></iframe></div></div>"
            ],
            "text/plain": [
              "<folium.folium.Map at 0x7feaad915cc0>"
            ]
          },
          "metadata": {
            "tags": []
          },
          "execution_count": 46
        }
      ]
    },
    {
      "cell_type": "markdown",
      "metadata": {
        "id": "s7PEN5foR5Ek",
        "colab_type": "text"
      },
      "source": [
        "# **Four Square API to Get Venues** "
      ]
    },
    {
      "cell_type": "markdown",
      "metadata": {
        "id": "nqYekSv4SBDh",
        "colab_type": "text"
      },
      "source": [
        "##### Four Square API are being used here to fetch the venues around a location. It needs latitude and longitude of location and returns venues along with categories."
      ]
    },
    {
      "cell_type": "markdown",
      "metadata": {
        "id": "1VYPCSN191Le",
        "colab_type": "text"
      },
      "source": [
        "##### **Define Foursquare Credentials and Version**"
      ]
    },
    {
      "cell_type": "code",
      "metadata": {
        "id": "XZbAhW3d-Lcl",
        "colab_type": "code",
        "outputId": "0053c644-09b9-4d2b-cb92-1a778f719dbe",
        "colab": {
          "base_uri": "https://localhost:8080/",
          "height": 69
        }
      },
      "source": [
        "CLIENT_ID = 'AED1YJAEJO1BSJVJJ5KT2Y2BDGDVPCB21WUXERHTA4B4XXKC' # Foursquare ID\n",
        "CLIENT_SECRET = '5WF0PKUAGWG30ASKZSBV12XHC2IDIQLEHRRPU541XI2JVQCH' #  Foursquare Secret\n",
        "VERSION = '20180605' # Foursquare API version\n",
        "\n",
        "print('credentails:')\n",
        "print('CLIENT_ID: ' + CLIENT_ID)\n",
        "print('CLIENT_SECRET:' + CLIENT_SECRET)\n"
      ],
      "execution_count": 0,
      "outputs": [
        {
          "output_type": "stream",
          "text": [
            "credentails:\n",
            "CLIENT_ID: AED1YJAEJO1BSJVJJ5KT2Y2BDGDVPCB21WUXERHTA4B4XXKC\n",
            "CLIENT_SECRET:5WF0PKUAGWG30ASKZSBV12XHC2IDIQLEHRRPU541XI2JVQCH\n"
          ],
          "name": "stdout"
        }
      ]
    },
    {
      "cell_type": "markdown",
      "metadata": {
        "id": "I-8pmMbD_HQn",
        "colab_type": "text"
      },
      "source": [
        "#### **Let's create a function to get nearby venues of each neighborhoods in Mumbai.**"
      ]
    },
    {
      "cell_type": "markdown",
      "metadata": {
        "id": "ICSs_LleoDyy",
        "colab_type": "text"
      },
      "source": [
        "##### Tried to keep an optimum value of radius. With more radius it fetches more vanues but chances of overlapping of neighborhood increases as well."
      ]
    },
    {
      "cell_type": "code",
      "metadata": {
        "id": "geJW0jks_NWX",
        "colab_type": "code",
        "outputId": "fa4e22b2-ee3f-4608-fde3-863664d3097d",
        "colab": {
          "base_uri": "https://localhost:8080/",
          "height": 35
        }
      },
      "source": [
        "radius=650\n",
        "LIMIT = 100\n",
        "print(\"The radius is = {} and LIMIT is = {}\".format(radius,LIMIT))\n",
        "\n",
        "def getNearbyVenues(names, latitudes, longitudes, radius=650):\n",
        "    \n",
        "    venues_list=[]\n",
        "    for name, lat, lng in zip(names, latitudes, longitudes):\n",
        "        print(name)\n",
        "            \n",
        "        # create the API request URL\n",
        "        url = 'https://api.foursquare.com/v2/venues/explore?&client_id={}&client_secret={}&v={}&ll={},{}&radius={}&limit={}'.format(\n",
        "            CLIENT_ID, \n",
        "            CLIENT_SECRET, \n",
        "            VERSION, \n",
        "            lat, \n",
        "            lng, \n",
        "            radius, \n",
        "            LIMIT)\n",
        "            \n",
        "        # make the GET request\n",
        "        results = requests.get(url).json()[\"response\"]['groups'][0]['items']\n",
        "        \n",
        "        # return only relevant information for each nearby venue\n",
        "        venues_list.append([(\n",
        "            name, \n",
        "            lat, \n",
        "            lng, \n",
        "            v['venue']['name'], \n",
        "            v['venue']['location']['lat'], \n",
        "            v['venue']['location']['lng'],  \n",
        "            v['venue']['categories'][0]['name']) for v in results])\n",
        "\n",
        "    nearby_venues = pd.DataFrame([item for venue_list in venues_list for item in venue_list])\n",
        "    nearby_venues.columns = ['Neighborhood', \n",
        "                  'Neighborhood Latitude', \n",
        "                  'Neighborhood Longitude', \n",
        "                  'Venue', \n",
        "                  'Venue Latitude', \n",
        "                  'Venue Longitude', \n",
        "                  'Venue Category']\n",
        "    \n",
        "    return(nearby_venues)\n"
      ],
      "execution_count": 0,
      "outputs": [
        {
          "output_type": "stream",
          "text": [
            "The radius is = 650 and LIMIT is = 100\n"
          ],
          "name": "stdout"
        }
      ]
    },
    {
      "cell_type": "markdown",
      "metadata": {
        "id": "9j-8XOPh_91T",
        "colab_type": "text"
      },
      "source": [
        "##### **Running the above function on each neighborhood and create a new dataframe.**"
      ]
    },
    {
      "cell_type": "code",
      "metadata": {
        "id": "pj3YIcL___3r",
        "colab_type": "code",
        "outputId": "8fbd9e55-bba3-4b3f-e755-71d9531113fd",
        "colab": {
          "base_uri": "https://localhost:8080/",
          "height": 849
        }
      },
      "source": [
        "south_mumbai_data = neighborhoods\n",
        "south_mumbai_venues = getNearbyVenues(names=south_mumbai_data['Neighborhood'],\n",
        "                                   latitudes=south_mumbai_data['Latitude'],\n",
        "                                   longitudes=south_mumbai_data['Longitude']\n",
        "                                   \n",
        "                                  )\n",
        "print(\"dtypes:\",south_mumbai_venues.dtypes)\n",
        "print(\"Total venues retrieved:\",south_mumbai_venues.shape[0])\n"
      ],
      "execution_count": 0,
      "outputs": [
        {
          "output_type": "stream",
          "text": [
            "Colaba\n",
            "Apollo Bandar\n",
            "Fort\n",
            "Churchgate\n",
            "Nariman Point\n",
            "Marine Lines\n",
            "Walkeshwar\n",
            "Malabar Hill\n",
            "Kalbadevi\n",
            "Bhuleshwar\n",
            "Masjid Bandar\n",
            "Darukhana\n",
            "Pydhoni\n",
            "Nagpada\n",
            "Dongri\n",
            "Byculla\n",
            "Grand Road\n",
            "Mazgaon\n",
            "Mumbai Central\n",
            "Mahalaxmi\n",
            "Worli\n",
            "Dadar\n",
            "Bandra West\n",
            "Juhu\n",
            "Andheri\n",
            "Kalina\n",
            "Santa Cruz\n",
            "Mahim\n",
            "Khar\n",
            "Kurla\n",
            "Ghatkopar\n",
            "Chembur\n",
            "Govandi\n",
            "Mulund West\n",
            "Powai\n",
            "Jogeshwari\n",
            "Malad\n",
            "Borivali\n",
            "Mira Road\n",
            "dtypes: Neighborhood               object\n",
            "Neighborhood Latitude     float64\n",
            "Neighborhood Longitude    float64\n",
            "Venue                      object\n",
            "Venue Latitude            float64\n",
            "Venue Longitude           float64\n",
            "Venue Category             object\n",
            "dtype: object\n",
            "Total venues retrieved: 1104\n"
          ],
          "name": "stdout"
        }
      ]
    },
    {
      "cell_type": "markdown",
      "metadata": {
        "id": "1zlhJbunTgvk",
        "colab_type": "text"
      },
      "source": [
        "#### **Understand the venue categories well.**"
      ]
    },
    {
      "cell_type": "code",
      "metadata": {
        "id": "o7_0ntlsqr4M",
        "colab_type": "code",
        "outputId": "ff900db8-bd15-4d4b-fdf6-5002908f7162",
        "colab": {
          "base_uri": "https://localhost:8080/",
          "height": 271
        }
      },
      "source": [
        "south_mumbai_venues.head()"
      ],
      "execution_count": 0,
      "outputs": [
        {
          "output_type": "execute_result",
          "data": {
            "text/html": [
              "<div>\n",
              "<style scoped>\n",
              "    .dataframe tbody tr th:only-of-type {\n",
              "        vertical-align: middle;\n",
              "    }\n",
              "\n",
              "    .dataframe tbody tr th {\n",
              "        vertical-align: top;\n",
              "    }\n",
              "\n",
              "    .dataframe thead th {\n",
              "        text-align: right;\n",
              "    }\n",
              "</style>\n",
              "<table border=\"1\" class=\"dataframe\">\n",
              "  <thead>\n",
              "    <tr style=\"text-align: right;\">\n",
              "      <th></th>\n",
              "      <th>Neighborhood</th>\n",
              "      <th>Neighborhood Latitude</th>\n",
              "      <th>Neighborhood Longitude</th>\n",
              "      <th>Venue</th>\n",
              "      <th>Venue Latitude</th>\n",
              "      <th>Venue Longitude</th>\n",
              "      <th>Venue Category</th>\n",
              "    </tr>\n",
              "  </thead>\n",
              "  <tbody>\n",
              "    <tr>\n",
              "      <th>0</th>\n",
              "      <td>Colaba</td>\n",
              "      <td>18.915091</td>\n",
              "      <td>72.825969</td>\n",
              "      <td>Charagh Din</td>\n",
              "      <td>18.915254</td>\n",
              "      <td>72.824151</td>\n",
              "      <td>Men's Store</td>\n",
              "    </tr>\n",
              "    <tr>\n",
              "      <th>1</th>\n",
              "      <td>Colaba</td>\n",
              "      <td>18.915091</td>\n",
              "      <td>72.825969</td>\n",
              "      <td>IMBISS Meating Joint</td>\n",
              "      <td>18.917157</td>\n",
              "      <td>72.827018</td>\n",
              "      <td>German Restaurant</td>\n",
              "    </tr>\n",
              "    <tr>\n",
              "      <th>2</th>\n",
              "      <td>Colaba</td>\n",
              "      <td>18.915091</td>\n",
              "      <td>72.825969</td>\n",
              "      <td>Thai Pavilion</td>\n",
              "      <td>18.914246</td>\n",
              "      <td>72.821080</td>\n",
              "      <td>Thai Restaurant</td>\n",
              "    </tr>\n",
              "    <tr>\n",
              "      <th>3</th>\n",
              "      <td>Colaba</td>\n",
              "      <td>18.915091</td>\n",
              "      <td>72.825969</td>\n",
              "      <td>Theobroma</td>\n",
              "      <td>18.919298</td>\n",
              "      <td>72.829185</td>\n",
              "      <td>Dessert Shop</td>\n",
              "    </tr>\n",
              "    <tr>\n",
              "      <th>4</th>\n",
              "      <td>Colaba</td>\n",
              "      <td>18.915091</td>\n",
              "      <td>72.825969</td>\n",
              "      <td>Vivanta by Taj - President</td>\n",
              "      <td>18.914413</td>\n",
              "      <td>72.821028</td>\n",
              "      <td>Hotel</td>\n",
              "    </tr>\n",
              "  </tbody>\n",
              "</table>\n",
              "</div>"
            ],
            "text/plain": [
              "  Neighborhood  Neighborhood Latitude  ...  Venue Longitude     Venue Category\n",
              "0       Colaba              18.915091  ...        72.824151        Men's Store\n",
              "1       Colaba              18.915091  ...        72.827018  German Restaurant\n",
              "2       Colaba              18.915091  ...        72.821080    Thai Restaurant\n",
              "3       Colaba              18.915091  ...        72.829185       Dessert Shop\n",
              "4       Colaba              18.915091  ...        72.821028              Hotel\n",
              "\n",
              "[5 rows x 7 columns]"
            ]
          },
          "metadata": {
            "tags": []
          },
          "execution_count": 39
        }
      ]
    },
    {
      "cell_type": "markdown",
      "metadata": {
        "id": "Xh3mDO9eT8kv",
        "colab_type": "text"
      },
      "source": [
        "# **Data Cleansing** "
      ]
    },
    {
      "cell_type": "markdown",
      "metadata": {
        "id": "8d3I4KI6UFty",
        "colab_type": "text"
      },
      "source": [
        "##### Identify the issues with data and rectify these errors like duplicate data etc. in order to make data fit for accurate analysis."
      ]
    },
    {
      "cell_type": "markdown",
      "metadata": {
        "id": "_yeeMPb6yxNn",
        "colab_type": "text"
      },
      "source": [
        "#### **Drop Duplicates Venues**"
      ]
    },
    {
      "cell_type": "markdown",
      "metadata": {
        "id": "m6pyaTVn13cK",
        "colab_type": "text"
      },
      "source": [
        "##### South Mumbai is a narrow strip, so chances of overlap are possible. Therefore, duplicates venues needs to be discarded."
      ]
    },
    {
      "cell_type": "code",
      "metadata": {
        "id": "dKdHiMSaqXth",
        "colab_type": "code",
        "outputId": "36995388-6057-4561-bb7d-f78b0342aa87",
        "colab": {
          "base_uri": "https://localhost:8080/",
          "height": 52
        }
      },
      "source": [
        "print(\"rows before dropping duplicates={}\".format(south_mumbai_venues.shape[0]))\n",
        "south_mumbai_venues = south_mumbai_venues.drop_duplicates(subset=['Venue','Venue Latitude', 'Venue Longitude'])\n",
        "print(\"rows after dropping duplicates={}\".format(south_mumbai_venues.shape[0]))\n"
      ],
      "execution_count": 0,
      "outputs": [
        {
          "output_type": "stream",
          "text": [
            "rows before dropping duplicates=987\n",
            "rows after dropping duplicates=987\n"
          ],
          "name": "stdout"
        }
      ]
    },
    {
      "cell_type": "code",
      "metadata": {
        "id": "RCECFZeTo9Yi",
        "colab_type": "code",
        "colab": {}
      },
      "source": [
        ""
      ],
      "execution_count": 0,
      "outputs": []
    },
    {
      "cell_type": "markdown",
      "metadata": {
        "id": "4pCnpOjyQBFq",
        "colab_type": "text"
      },
      "source": [
        "### **Ignore rows with Indian Restaurants**."
      ]
    },
    {
      "cell_type": "markdown",
      "metadata": {
        "id": "JoHH3eUrrVh7",
        "colab_type": "text"
      },
      "source": [
        "##### Indian restaurants are very common and in large number in entire Mumbai. Therefore, decided to get rid of Indian Restaurants by using filter."
      ]
    },
    {
      "cell_type": "code",
      "metadata": {
        "id": "XVDuSLK1QZXq",
        "colab_type": "code",
        "outputId": "9028c001-7eaf-4f33-cc5f-3e9d50582c94",
        "colab": {
          "base_uri": "https://localhost:8080/",
          "height": 52
        }
      },
      "source": [
        "print(\"rows bef filter:\",south_mumbai_venues.shape[0])\n",
        "south_mumbai_venues = south_mumbai_venues[(south_mumbai_venues['Venue Category'] != \"Indian Restaurant\")].reset_index()\n",
        "print(\"rows aft filter:\",south_mumbai_venues.shape[0])\n",
        "\n",
        "\n"
      ],
      "execution_count": 0,
      "outputs": [
        {
          "output_type": "stream",
          "text": [
            "rows bef filter: 851\n",
            "rows aft filter: 851\n"
          ],
          "name": "stdout"
        }
      ]
    },
    {
      "cell_type": "markdown",
      "metadata": {
        "id": "-lzI_bjP0ZJU",
        "colab_type": "text"
      },
      "source": [
        "#### **Unique Categories**"
      ]
    },
    {
      "cell_type": "code",
      "metadata": {
        "id": "1E4u3xu-anuV",
        "colab_type": "code",
        "outputId": "09bde07f-22cc-469c-b878-5a03f04433f6",
        "colab": {
          "base_uri": "https://localhost:8080/",
          "height": 35
        }
      },
      "source": [
        "print('There are {} uniques categories.'.format(len(south_mumbai_venues['Venue Category'].unique())))\n"
      ],
      "execution_count": 0,
      "outputs": [
        {
          "output_type": "stream",
          "text": [
            "There are 155 uniques categories.\n"
          ],
          "name": "stdout"
        }
      ]
    },
    {
      "cell_type": "markdown",
      "metadata": {
        "id": "Jm_lKssnVIZM",
        "colab_type": "text"
      },
      "source": [
        "### **Clubbing Similar Categories**"
      ]
    },
    {
      "cell_type": "markdown",
      "metadata": {
        "id": "EbCrzcxxVdCM",
        "colab_type": "text"
      },
      "source": [
        "####For example garden and parks can be clubbed together to gardens/parks etc."
      ]
    },
    {
      "cell_type": "code",
      "metadata": {
        "id": "aKaQ2SYCffb9",
        "colab_type": "code",
        "outputId": "adc1e8cc-dd91-487b-adfa-0ba085ab1fc9",
        "colab": {
          "base_uri": "https://localhost:8080/",
          "height": 35
        }
      },
      "source": [
        "south_mumbai_venues.replace(to_replace =['Movie Theater'],value = 'Theater\\Multiplex')\n",
        "south_mumbai_venues.replace(to_replace =['Theater'],value = 'Theater\\Multiplex')\n",
        "south_mumbai_venues.replace(to_replace =['Multiplex'],value = 'Theater\\Multiplex')\n",
        "south_mumbai_venues.replace(to_replace =['Amphitheater'],value = 'Theater\\Multiplex')\n",
        "south_mumbai_venues.replace(to_replace =['Indie Movie Theater'],value = 'Theater\\Multiplex')\n",
        "south_mumbai_venues.replace(to_replace =['Performing Arts Venue'],value = 'Theater\\Multiplex')\n",
        "south_mumbai_venues.shape"
      ],
      "execution_count": 0,
      "outputs": [
        {
          "output_type": "execute_result",
          "data": {
            "text/plain": [
              "(851, 9)"
            ]
          },
          "metadata": {
            "tags": []
          },
          "execution_count": 69
        }
      ]
    },
    {
      "cell_type": "code",
      "metadata": {
        "id": "Adzr7Sfjg8_-",
        "colab_type": "code",
        "outputId": "565f8dab-ea1d-4390-eda4-0badba17331b",
        "colab": {
          "base_uri": "https://localhost:8080/",
          "height": 35
        }
      },
      "source": [
        "south_mumbai_venues.loc[south_mumbai_venues['Venue Category'] \\\n",
        "                      .isin(['Garden','Park' \\\n",
        "                       ])].shape"
      ],
      "execution_count": 0,
      "outputs": [
        {
          "output_type": "execute_result",
          "data": {
            "text/plain": [
              "(8, 9)"
            ]
          },
          "metadata": {
            "tags": []
          },
          "execution_count": 71
        }
      ]
    },
    {
      "cell_type": "code",
      "metadata": {
        "id": "qJ1yJR9ygr8s",
        "colab_type": "code",
        "outputId": "9122db97-af4d-450a-a399-e26aca10db6d",
        "colab": {
          "base_uri": "https://localhost:8080/",
          "height": 35
        }
      },
      "source": [
        "south_mumbai_venues.replace(to_replace =['Garden','Park'],value = 'Park/Garden')\n",
        "south_mumbai_venues.loc[south_mumbai_venues['Venue Category'] \\\n",
        "                      .isin(['Park/Garden' \\\n",
        "                       ])].shape\n",
        "#south_mumbai_venues.shape                       "
      ],
      "execution_count": 0,
      "outputs": [
        {
          "output_type": "execute_result",
          "data": {
            "text/plain": [
              "(851, 9)"
            ]
          },
          "metadata": {
            "tags": []
          },
          "execution_count": 75
        }
      ]
    },
    {
      "cell_type": "code",
      "metadata": {
        "id": "6yfSvZVuibVW",
        "colab_type": "code",
        "outputId": "ac39b609-88c7-4cdf-e62f-ffae353e0194",
        "colab": {
          "base_uri": "https://localhost:8080/",
          "height": 35
        }
      },
      "source": [
        "south_mumbai_venues.loc[south_mumbai_venues['Venue Category'] \\\n",
        "                      .isin(['Pub','Gastropub' \\\n",
        "                             ,'Bar','Cocktail Bar'\\\n",
        "                             ,'Wine Bar','Hotel Bar','Sports Bar'\\\n",
        "                       ])].shape"
      ],
      "execution_count": 0,
      "outputs": [
        {
          "output_type": "execute_result",
          "data": {
            "text/plain": [
              "(65, 9)"
            ]
          },
          "metadata": {
            "tags": []
          },
          "execution_count": 86
        }
      ]
    },
    {
      "cell_type": "code",
      "metadata": {
        "id": "A5VS0AihjRxr",
        "colab_type": "code",
        "colab": {}
      },
      "source": [
        "south_mumbai_venues.replace(to_replace =['Pub'],value = 'Bar/Pub', inplace=True )\n",
        "south_mumbai_venues.replace(to_replace =['Gastropub'],value = 'Bar/Pub', inplace=True)\n",
        "south_mumbai_venues.replace(to_replace =['Bar'],value = 'Bar/Pub', inplace=True)\n",
        "south_mumbai_venues.replace(to_replace =['Cocktail Bar'],value = 'Bar/Pub', inplace=True)\n",
        "south_mumbai_venues.replace(to_replace =['Wine Bar'],value = 'Bar/Pub', inplace=True)\n",
        "south_mumbai_venues.replace(to_replace =['Hotel Bar'],value = 'Bar/Pub', inplace=True)\n",
        "south_mumbai_venues.replace(to_replace =['Sports Bar'],value = 'Bar/Pub', inplace=True)"
      ],
      "execution_count": 0,
      "outputs": []
    },
    {
      "cell_type": "code",
      "metadata": {
        "id": "tejqkanPkBGy",
        "colab_type": "code",
        "outputId": "19c533f2-59a1-43a1-9110-4368b3634e5b",
        "colab": {
          "base_uri": "https://localhost:8080/",
          "height": 35
        }
      },
      "source": [
        "south_mumbai_venues.loc[south_mumbai_venues['Venue Category'] \\\n",
        "                      .isin(['Bar/Pub' \\\n",
        "                       ])].shape\n",
        "                     "
      ],
      "execution_count": 0,
      "outputs": [
        {
          "output_type": "execute_result",
          "data": {
            "text/plain": [
              "(65, 9)"
            ]
          },
          "metadata": {
            "tags": []
          },
          "execution_count": 96
        }
      ]
    },
    {
      "cell_type": "code",
      "metadata": {
        "id": "zNR-lI0ft799",
        "colab_type": "code",
        "colab": {}
      },
      "source": [
        "south_mumbai_venues.replace(to_replace =['Train Station' \\\n",
        "                                         ,'Bus Station'\n",
        "                                         ,'Metro Station'\n",
        "                                         ,'Train'\n",
        "],value = 'Train/Metro/Bus', inplace=True )"
      ],
      "execution_count": 0,
      "outputs": []
    },
    {
      "cell_type": "code",
      "metadata": {
        "id": "QLTIfxljucDd",
        "colab_type": "code",
        "outputId": "b9068c1c-92d7-4c68-dddc-70621842aa2f",
        "colab": {
          "base_uri": "https://localhost:8080/",
          "height": 35
        }
      },
      "source": [
        "south_mumbai_venues.loc[south_mumbai_venues['Venue Category'] \\\n",
        "                      .isin(['Train/Metro/Bus' \\\n",
        "                       ])].shape"
      ],
      "execution_count": 0,
      "outputs": [
        {
          "output_type": "execute_result",
          "data": {
            "text/plain": [
              "(12, 9)"
            ]
          },
          "metadata": {
            "tags": []
          },
          "execution_count": 101
        }
      ]
    },
    {
      "cell_type": "code",
      "metadata": {
        "id": "bvxAlltEuuU7",
        "colab_type": "code",
        "colab": {}
      },
      "source": [
        "south_mumbai_venues.replace(to_replace =['Spa' \\\n",
        "                                         ,'Gym'\n",
        "                                         ,'Gym / Fitness Center'\n",
        "                                         ,'Yoga Studio'\n",
        "                                         ,'Track'\n",
        "                                         ,'Massage Studio'\n",
        "],value = 'Fitness/Gym/Spa', inplace=True )"
      ],
      "execution_count": 0,
      "outputs": []
    },
    {
      "cell_type": "code",
      "metadata": {
        "id": "29kSls2NvKF8",
        "colab_type": "code",
        "outputId": "138c40a4-c271-4645-de8f-60628def2f77",
        "colab": {
          "base_uri": "https://localhost:8080/",
          "height": 35
        }
      },
      "source": [
        "south_mumbai_venues.loc[south_mumbai_venues['Venue Category'] \\\n",
        "                      .isin(['Fitness/Gym/Spa' \\\n",
        "                       ])].shape"
      ],
      "execution_count": 0,
      "outputs": [
        {
          "output_type": "execute_result",
          "data": {
            "text/plain": [
              "(32, 9)"
            ]
          },
          "metadata": {
            "tags": []
          },
          "execution_count": 103
        }
      ]
    },
    {
      "cell_type": "code",
      "metadata": {
        "id": "CZ78_KKCvbfh",
        "colab_type": "code",
        "colab": {}
      },
      "source": [
        "south_mumbai_venues.replace(to_replace =['Tennis Court' \\\n",
        "                                         ,'Athletics & Sports'\n",
        "                                         ,'Cricket Ground'\n",
        "                                         ,'Hockey Arena'\n",
        "                                         ,'Field'\n",
        "                                         ,'Stadium'\n",
        "                                         ,'Soccer Field'\n",
        "                                         ,'Playground'\n",
        "],value = 'Sports', inplace=True )"
      ],
      "execution_count": 0,
      "outputs": []
    },
    {
      "cell_type": "code",
      "metadata": {
        "id": "sMx7i4C4v8IG",
        "colab_type": "code",
        "outputId": "9aca4c47-690c-4d06-a48f-1100dd3d9fe9",
        "colab": {
          "base_uri": "https://localhost:8080/",
          "height": 35
        }
      },
      "source": [
        "south_mumbai_venues.loc[south_mumbai_venues['Venue Category'] \\\n",
        "                      .isin(['Sports' \\\n",
        "                       ])].shape"
      ],
      "execution_count": 0,
      "outputs": [
        {
          "output_type": "execute_result",
          "data": {
            "text/plain": [
              "(14, 9)"
            ]
          },
          "metadata": {
            "tags": []
          },
          "execution_count": 105
        }
      ]
    },
    {
      "cell_type": "code",
      "metadata": {
        "id": "0AIZLU0v3BiJ",
        "colab_type": "code",
        "colab": {}
      },
      "source": [
        "### Eliminate neighborhoods with very less venues"
      ],
      "execution_count": 0,
      "outputs": []
    },
    {
      "cell_type": "code",
      "metadata": {
        "id": "cfMnNQmo3Lvx",
        "colab_type": "code",
        "colab": {}
      },
      "source": [
        "df = df[['STNAME','CTYNAME']].groupby(['STNAME'])['CTYNAME'] \\\n",
        "                             .count() \\\n",
        "                             .reset_index(name='count') \\\n",
        "                             .sort_values(['count'], ascending=False) \\\n",
        "                             .head(5)\n"
      ],
      "execution_count": 0,
      "outputs": []
    },
    {
      "cell_type": "code",
      "metadata": {
        "id": "9VKEDb683idr",
        "colab_type": "code",
        "outputId": "313cfde1-58dd-48a7-9c7d-4f9a91f56279",
        "colab": {
          "base_uri": "https://localhost:8080/",
          "height": 191
        }
      },
      "source": [
        "south_mumbai_venues.dtypes"
      ],
      "execution_count": 0,
      "outputs": [
        {
          "output_type": "execute_result",
          "data": {
            "text/plain": [
              "level_0                     int64\n",
              "index                       int64\n",
              "Neighborhood               object\n",
              "Neighborhood Latitude     float64\n",
              "Neighborhood Longitude    float64\n",
              "Venue                      object\n",
              "Venue Latitude            float64\n",
              "Venue Longitude           float64\n",
              "Venue Category             object\n",
              "dtype: object"
            ]
          },
          "metadata": {
            "tags": []
          },
          "execution_count": 119
        }
      ]
    },
    {
      "cell_type": "code",
      "metadata": {
        "id": "6qbfXuC43Q_K",
        "colab_type": "code",
        "outputId": "4cc6e434-7464-4d6f-deca-77f7be996ffb",
        "colab": {
          "base_uri": "https://localhost:8080/",
          "height": 221
        }
      },
      "source": [
        "test_df = south_mumbai_venues\n",
        "test_df = test_df[['Neighborhood']].groupby(['Neighborhood']) \\\n",
        "                             .count() \\\n",
        "                             .reset_index(name='count') \\\n",
        "                             .sort_values(['count'], ascending=False) \\\n",
        "                             .head(5)\n",
        "test_df.shape                             "
      ],
      "execution_count": 0,
      "outputs": [
        {
          "output_type": "error",
          "ename": "TypeError",
          "evalue": "ignored",
          "traceback": [
            "\u001b[0;31m---------------------------------------------------------------------------\u001b[0m",
            "\u001b[0;31mTypeError\u001b[0m                                 Traceback (most recent call last)",
            "\u001b[0;32m<ipython-input-120-81f9952e11e3>\u001b[0m in \u001b[0;36m<module>\u001b[0;34m()\u001b[0m\n\u001b[1;32m      1\u001b[0m \u001b[0mtest_df\u001b[0m \u001b[0;34m=\u001b[0m \u001b[0msouth_mumbai_venues\u001b[0m\u001b[0;34m\u001b[0m\u001b[0;34m\u001b[0m\u001b[0m\n\u001b[0;32m----> 2\u001b[0;31m \u001b[0mtest_df\u001b[0m \u001b[0;34m=\u001b[0m \u001b[0mtest_df\u001b[0m\u001b[0;34m[\u001b[0m\u001b[0;34m[\u001b[0m\u001b[0;34m'Neighborhood'\u001b[0m\u001b[0;34m]\u001b[0m\u001b[0;34m]\u001b[0m\u001b[0;34m.\u001b[0m\u001b[0mgroupby\u001b[0m\u001b[0;34m(\u001b[0m\u001b[0;34m[\u001b[0m\u001b[0;34m'Neighborhood'\u001b[0m\u001b[0;34m]\u001b[0m\u001b[0;34m)\u001b[0m                              \u001b[0;34m.\u001b[0m\u001b[0mcount\u001b[0m\u001b[0;34m(\u001b[0m\u001b[0;34m)\u001b[0m                              \u001b[0;34m.\u001b[0m\u001b[0mreset_index\u001b[0m\u001b[0;34m(\u001b[0m\u001b[0mname\u001b[0m\u001b[0;34m=\u001b[0m\u001b[0;34m'count'\u001b[0m\u001b[0;34m)\u001b[0m                              \u001b[0;34m.\u001b[0m\u001b[0msort_values\u001b[0m\u001b[0;34m(\u001b[0m\u001b[0;34m[\u001b[0m\u001b[0;34m'count'\u001b[0m\u001b[0;34m]\u001b[0m\u001b[0;34m,\u001b[0m \u001b[0mascending\u001b[0m\u001b[0;34m=\u001b[0m\u001b[0;32mFalse\u001b[0m\u001b[0;34m)\u001b[0m                              \u001b[0;34m.\u001b[0m\u001b[0mhead\u001b[0m\u001b[0;34m(\u001b[0m\u001b[0;36m5\u001b[0m\u001b[0;34m)\u001b[0m\u001b[0;34m\u001b[0m\u001b[0;34m\u001b[0m\u001b[0m\n\u001b[0m\u001b[1;32m      3\u001b[0m \u001b[0mtest_df\u001b[0m\u001b[0;34m.\u001b[0m\u001b[0mshape\u001b[0m\u001b[0;34m\u001b[0m\u001b[0;34m\u001b[0m\u001b[0m\n",
            "\u001b[0;31mTypeError\u001b[0m: reset_index() got an unexpected keyword argument 'name'"
          ]
        }
      ]
    },
    {
      "cell_type": "markdown",
      "metadata": {
        "id": "4iXRGx_5DmP7",
        "colab_type": "text"
      },
      "source": [
        "### **Check neighborhoods with very less venues**"
      ]
    },
    {
      "cell_type": "code",
      "metadata": {
        "id": "iC-S_P5sDvw7",
        "colab_type": "code",
        "outputId": "5d8adaa7-f138-4332-df36-6a56f763bf54",
        "colab": {
          "base_uri": "https://localhost:8080/",
          "height": 1000
        }
      },
      "source": [
        "south_mumbai_venues_group_nbhood = south_mumbai_venues\n",
        "south_mumbai_venues_group_nbhood = south_mumbai_venues_group_nbhood.groupby(['Neighborhood']) \\\n",
        "                             .count() \n",
        "south_mumbai_venues_group_nbhood.sort_values(['index'], ascending=True)"
      ],
      "execution_count": 0,
      "outputs": [
        {
          "output_type": "execute_result",
          "data": {
            "text/html": [
              "<div>\n",
              "<style scoped>\n",
              "    .dataframe tbody tr th:only-of-type {\n",
              "        vertical-align: middle;\n",
              "    }\n",
              "\n",
              "    .dataframe tbody tr th {\n",
              "        vertical-align: top;\n",
              "    }\n",
              "\n",
              "    .dataframe thead th {\n",
              "        text-align: right;\n",
              "    }\n",
              "</style>\n",
              "<table border=\"1\" class=\"dataframe\">\n",
              "  <thead>\n",
              "    <tr style=\"text-align: right;\">\n",
              "      <th></th>\n",
              "      <th>level_0</th>\n",
              "      <th>index</th>\n",
              "      <th>Neighborhood Latitude</th>\n",
              "      <th>Neighborhood Longitude</th>\n",
              "      <th>Venue</th>\n",
              "      <th>Venue Latitude</th>\n",
              "      <th>Venue Longitude</th>\n",
              "      <th>Venue Category</th>\n",
              "    </tr>\n",
              "    <tr>\n",
              "      <th>Neighborhood</th>\n",
              "      <th></th>\n",
              "      <th></th>\n",
              "      <th></th>\n",
              "      <th></th>\n",
              "      <th></th>\n",
              "      <th></th>\n",
              "      <th></th>\n",
              "      <th></th>\n",
              "    </tr>\n",
              "  </thead>\n",
              "  <tbody>\n",
              "    <tr>\n",
              "      <th>Pydhoni</th>\n",
              "      <td>1</td>\n",
              "      <td>1</td>\n",
              "      <td>1</td>\n",
              "      <td>1</td>\n",
              "      <td>1</td>\n",
              "      <td>1</td>\n",
              "      <td>1</td>\n",
              "      <td>1</td>\n",
              "    </tr>\n",
              "    <tr>\n",
              "      <th>Dongri</th>\n",
              "      <td>2</td>\n",
              "      <td>2</td>\n",
              "      <td>2</td>\n",
              "      <td>2</td>\n",
              "      <td>2</td>\n",
              "      <td>2</td>\n",
              "      <td>2</td>\n",
              "      <td>2</td>\n",
              "    </tr>\n",
              "    <tr>\n",
              "      <th>Grand Road</th>\n",
              "      <td>4</td>\n",
              "      <td>4</td>\n",
              "      <td>4</td>\n",
              "      <td>4</td>\n",
              "      <td>4</td>\n",
              "      <td>4</td>\n",
              "      <td>4</td>\n",
              "      <td>4</td>\n",
              "    </tr>\n",
              "    <tr>\n",
              "      <th>Kurla</th>\n",
              "      <td>5</td>\n",
              "      <td>5</td>\n",
              "      <td>5</td>\n",
              "      <td>5</td>\n",
              "      <td>5</td>\n",
              "      <td>5</td>\n",
              "      <td>5</td>\n",
              "      <td>5</td>\n",
              "    </tr>\n",
              "    <tr>\n",
              "      <th>Jogeshwari</th>\n",
              "      <td>5</td>\n",
              "      <td>5</td>\n",
              "      <td>5</td>\n",
              "      <td>5</td>\n",
              "      <td>5</td>\n",
              "      <td>5</td>\n",
              "      <td>5</td>\n",
              "      <td>5</td>\n",
              "    </tr>\n",
              "    <tr>\n",
              "      <th>Govandi</th>\n",
              "      <td>5</td>\n",
              "      <td>5</td>\n",
              "      <td>5</td>\n",
              "      <td>5</td>\n",
              "      <td>5</td>\n",
              "      <td>5</td>\n",
              "      <td>5</td>\n",
              "      <td>5</td>\n",
              "    </tr>\n",
              "    <tr>\n",
              "      <th>Byculla</th>\n",
              "      <td>6</td>\n",
              "      <td>6</td>\n",
              "      <td>6</td>\n",
              "      <td>6</td>\n",
              "      <td>6</td>\n",
              "      <td>6</td>\n",
              "      <td>6</td>\n",
              "      <td>6</td>\n",
              "    </tr>\n",
              "    <tr>\n",
              "      <th>Kalina</th>\n",
              "      <td>7</td>\n",
              "      <td>7</td>\n",
              "      <td>7</td>\n",
              "      <td>7</td>\n",
              "      <td>7</td>\n",
              "      <td>7</td>\n",
              "      <td>7</td>\n",
              "      <td>7</td>\n",
              "    </tr>\n",
              "    <tr>\n",
              "      <th>Malad</th>\n",
              "      <td>7</td>\n",
              "      <td>7</td>\n",
              "      <td>7</td>\n",
              "      <td>7</td>\n",
              "      <td>7</td>\n",
              "      <td>7</td>\n",
              "      <td>7</td>\n",
              "      <td>7</td>\n",
              "    </tr>\n",
              "    <tr>\n",
              "      <th>Malabar Hill</th>\n",
              "      <td>8</td>\n",
              "      <td>8</td>\n",
              "      <td>8</td>\n",
              "      <td>8</td>\n",
              "      <td>8</td>\n",
              "      <td>8</td>\n",
              "      <td>8</td>\n",
              "      <td>8</td>\n",
              "    </tr>\n",
              "    <tr>\n",
              "      <th>Mahim</th>\n",
              "      <td>8</td>\n",
              "      <td>8</td>\n",
              "      <td>8</td>\n",
              "      <td>8</td>\n",
              "      <td>8</td>\n",
              "      <td>8</td>\n",
              "      <td>8</td>\n",
              "      <td>8</td>\n",
              "    </tr>\n",
              "    <tr>\n",
              "      <th>Kalbadevi</th>\n",
              "      <td>8</td>\n",
              "      <td>8</td>\n",
              "      <td>8</td>\n",
              "      <td>8</td>\n",
              "      <td>8</td>\n",
              "      <td>8</td>\n",
              "      <td>8</td>\n",
              "      <td>8</td>\n",
              "    </tr>\n",
              "    <tr>\n",
              "      <th>Mahalaxmi</th>\n",
              "      <td>9</td>\n",
              "      <td>9</td>\n",
              "      <td>9</td>\n",
              "      <td>9</td>\n",
              "      <td>9</td>\n",
              "      <td>9</td>\n",
              "      <td>9</td>\n",
              "      <td>9</td>\n",
              "    </tr>\n",
              "    <tr>\n",
              "      <th>Andheri</th>\n",
              "      <td>10</td>\n",
              "      <td>10</td>\n",
              "      <td>10</td>\n",
              "      <td>10</td>\n",
              "      <td>10</td>\n",
              "      <td>10</td>\n",
              "      <td>10</td>\n",
              "      <td>10</td>\n",
              "    </tr>\n",
              "    <tr>\n",
              "      <th>Mazgaon</th>\n",
              "      <td>12</td>\n",
              "      <td>12</td>\n",
              "      <td>12</td>\n",
              "      <td>12</td>\n",
              "      <td>12</td>\n",
              "      <td>12</td>\n",
              "      <td>12</td>\n",
              "      <td>12</td>\n",
              "    </tr>\n",
              "    <tr>\n",
              "      <th>Bhuleshwar</th>\n",
              "      <td>12</td>\n",
              "      <td>12</td>\n",
              "      <td>12</td>\n",
              "      <td>12</td>\n",
              "      <td>12</td>\n",
              "      <td>12</td>\n",
              "      <td>12</td>\n",
              "      <td>12</td>\n",
              "    </tr>\n",
              "    <tr>\n",
              "      <th>Worli</th>\n",
              "      <td>14</td>\n",
              "      <td>14</td>\n",
              "      <td>14</td>\n",
              "      <td>14</td>\n",
              "      <td>14</td>\n",
              "      <td>14</td>\n",
              "      <td>14</td>\n",
              "      <td>14</td>\n",
              "    </tr>\n",
              "    <tr>\n",
              "      <th>Masjid Bandar</th>\n",
              "      <td>14</td>\n",
              "      <td>14</td>\n",
              "      <td>14</td>\n",
              "      <td>14</td>\n",
              "      <td>14</td>\n",
              "      <td>14</td>\n",
              "      <td>14</td>\n",
              "      <td>14</td>\n",
              "    </tr>\n",
              "    <tr>\n",
              "      <th>Santa Cruz</th>\n",
              "      <td>16</td>\n",
              "      <td>16</td>\n",
              "      <td>16</td>\n",
              "      <td>16</td>\n",
              "      <td>16</td>\n",
              "      <td>16</td>\n",
              "      <td>16</td>\n",
              "      <td>16</td>\n",
              "    </tr>\n",
              "    <tr>\n",
              "      <th>Mumbai Central</th>\n",
              "      <td>16</td>\n",
              "      <td>16</td>\n",
              "      <td>16</td>\n",
              "      <td>16</td>\n",
              "      <td>16</td>\n",
              "      <td>16</td>\n",
              "      <td>16</td>\n",
              "      <td>16</td>\n",
              "    </tr>\n",
              "    <tr>\n",
              "      <th>Ghatkopar</th>\n",
              "      <td>17</td>\n",
              "      <td>17</td>\n",
              "      <td>17</td>\n",
              "      <td>17</td>\n",
              "      <td>17</td>\n",
              "      <td>17</td>\n",
              "      <td>17</td>\n",
              "      <td>17</td>\n",
              "    </tr>\n",
              "    <tr>\n",
              "      <th>Nagpada</th>\n",
              "      <td>18</td>\n",
              "      <td>18</td>\n",
              "      <td>18</td>\n",
              "      <td>18</td>\n",
              "      <td>18</td>\n",
              "      <td>18</td>\n",
              "      <td>18</td>\n",
              "      <td>18</td>\n",
              "    </tr>\n",
              "    <tr>\n",
              "      <th>Mulund West</th>\n",
              "      <td>18</td>\n",
              "      <td>18</td>\n",
              "      <td>18</td>\n",
              "      <td>18</td>\n",
              "      <td>18</td>\n",
              "      <td>18</td>\n",
              "      <td>18</td>\n",
              "      <td>18</td>\n",
              "    </tr>\n",
              "    <tr>\n",
              "      <th>Marine Lines</th>\n",
              "      <td>20</td>\n",
              "      <td>20</td>\n",
              "      <td>20</td>\n",
              "      <td>20</td>\n",
              "      <td>20</td>\n",
              "      <td>20</td>\n",
              "      <td>20</td>\n",
              "      <td>20</td>\n",
              "    </tr>\n",
              "    <tr>\n",
              "      <th>Chembur</th>\n",
              "      <td>23</td>\n",
              "      <td>23</td>\n",
              "      <td>23</td>\n",
              "      <td>23</td>\n",
              "      <td>23</td>\n",
              "      <td>23</td>\n",
              "      <td>23</td>\n",
              "      <td>23</td>\n",
              "    </tr>\n",
              "    <tr>\n",
              "      <th>Walkeshwar</th>\n",
              "      <td>24</td>\n",
              "      <td>24</td>\n",
              "      <td>24</td>\n",
              "      <td>24</td>\n",
              "      <td>24</td>\n",
              "      <td>24</td>\n",
              "      <td>24</td>\n",
              "      <td>24</td>\n",
              "    </tr>\n",
              "    <tr>\n",
              "      <th>Khar</th>\n",
              "      <td>25</td>\n",
              "      <td>25</td>\n",
              "      <td>25</td>\n",
              "      <td>25</td>\n",
              "      <td>25</td>\n",
              "      <td>25</td>\n",
              "      <td>25</td>\n",
              "      <td>25</td>\n",
              "    </tr>\n",
              "    <tr>\n",
              "      <th>Borivali</th>\n",
              "      <td>27</td>\n",
              "      <td>27</td>\n",
              "      <td>27</td>\n",
              "      <td>27</td>\n",
              "      <td>27</td>\n",
              "      <td>27</td>\n",
              "      <td>27</td>\n",
              "      <td>27</td>\n",
              "    </tr>\n",
              "    <tr>\n",
              "      <th>Dadar</th>\n",
              "      <td>29</td>\n",
              "      <td>29</td>\n",
              "      <td>29</td>\n",
              "      <td>29</td>\n",
              "      <td>29</td>\n",
              "      <td>29</td>\n",
              "      <td>29</td>\n",
              "      <td>29</td>\n",
              "    </tr>\n",
              "    <tr>\n",
              "      <th>Colaba</th>\n",
              "      <td>31</td>\n",
              "      <td>31</td>\n",
              "      <td>31</td>\n",
              "      <td>31</td>\n",
              "      <td>31</td>\n",
              "      <td>31</td>\n",
              "      <td>31</td>\n",
              "      <td>31</td>\n",
              "    </tr>\n",
              "    <tr>\n",
              "      <th>Nariman Point</th>\n",
              "      <td>38</td>\n",
              "      <td>38</td>\n",
              "      <td>38</td>\n",
              "      <td>38</td>\n",
              "      <td>38</td>\n",
              "      <td>38</td>\n",
              "      <td>38</td>\n",
              "      <td>38</td>\n",
              "    </tr>\n",
              "    <tr>\n",
              "      <th>Mira Road</th>\n",
              "      <td>43</td>\n",
              "      <td>43</td>\n",
              "      <td>43</td>\n",
              "      <td>43</td>\n",
              "      <td>43</td>\n",
              "      <td>43</td>\n",
              "      <td>43</td>\n",
              "      <td>43</td>\n",
              "    </tr>\n",
              "    <tr>\n",
              "      <th>Apollo Bandar</th>\n",
              "      <td>45</td>\n",
              "      <td>45</td>\n",
              "      <td>45</td>\n",
              "      <td>45</td>\n",
              "      <td>45</td>\n",
              "      <td>45</td>\n",
              "      <td>45</td>\n",
              "      <td>45</td>\n",
              "    </tr>\n",
              "    <tr>\n",
              "      <th>Churchgate</th>\n",
              "      <td>52</td>\n",
              "      <td>52</td>\n",
              "      <td>52</td>\n",
              "      <td>52</td>\n",
              "      <td>52</td>\n",
              "      <td>52</td>\n",
              "      <td>52</td>\n",
              "      <td>52</td>\n",
              "    </tr>\n",
              "    <tr>\n",
              "      <th>Powai</th>\n",
              "      <td>57</td>\n",
              "      <td>57</td>\n",
              "      <td>57</td>\n",
              "      <td>57</td>\n",
              "      <td>57</td>\n",
              "      <td>57</td>\n",
              "      <td>57</td>\n",
              "      <td>57</td>\n",
              "    </tr>\n",
              "    <tr>\n",
              "      <th>Fort</th>\n",
              "      <td>61</td>\n",
              "      <td>61</td>\n",
              "      <td>61</td>\n",
              "      <td>61</td>\n",
              "      <td>61</td>\n",
              "      <td>61</td>\n",
              "      <td>61</td>\n",
              "      <td>61</td>\n",
              "    </tr>\n",
              "    <tr>\n",
              "      <th>Juhu</th>\n",
              "      <td>65</td>\n",
              "      <td>65</td>\n",
              "      <td>65</td>\n",
              "      <td>65</td>\n",
              "      <td>65</td>\n",
              "      <td>65</td>\n",
              "      <td>65</td>\n",
              "      <td>65</td>\n",
              "    </tr>\n",
              "    <tr>\n",
              "      <th>Bandra West</th>\n",
              "      <td>88</td>\n",
              "      <td>88</td>\n",
              "      <td>88</td>\n",
              "      <td>88</td>\n",
              "      <td>88</td>\n",
              "      <td>88</td>\n",
              "      <td>88</td>\n",
              "      <td>88</td>\n",
              "    </tr>\n",
              "  </tbody>\n",
              "</table>\n",
              "</div>"
            ],
            "text/plain": [
              "                level_0  index  ...  Venue Longitude  Venue Category\n",
              "Neighborhood                    ...                                 \n",
              "Pydhoni               1      1  ...                1               1\n",
              "Dongri                2      2  ...                2               2\n",
              "Grand Road            4      4  ...                4               4\n",
              "Kurla                 5      5  ...                5               5\n",
              "Jogeshwari            5      5  ...                5               5\n",
              "Govandi               5      5  ...                5               5\n",
              "Byculla               6      6  ...                6               6\n",
              "Kalina                7      7  ...                7               7\n",
              "Malad                 7      7  ...                7               7\n",
              "Malabar Hill          8      8  ...                8               8\n",
              "Mahim                 8      8  ...                8               8\n",
              "Kalbadevi             8      8  ...                8               8\n",
              "Mahalaxmi             9      9  ...                9               9\n",
              "Andheri              10     10  ...               10              10\n",
              "Mazgaon              12     12  ...               12              12\n",
              "Bhuleshwar           12     12  ...               12              12\n",
              "Worli                14     14  ...               14              14\n",
              "Masjid Bandar        14     14  ...               14              14\n",
              "Santa Cruz           16     16  ...               16              16\n",
              "Mumbai Central       16     16  ...               16              16\n",
              "Ghatkopar            17     17  ...               17              17\n",
              "Nagpada              18     18  ...               18              18\n",
              "Mulund West          18     18  ...               18              18\n",
              "Marine Lines         20     20  ...               20              20\n",
              "Chembur              23     23  ...               23              23\n",
              "Walkeshwar           24     24  ...               24              24\n",
              "Khar                 25     25  ...               25              25\n",
              "Borivali             27     27  ...               27              27\n",
              "Dadar                29     29  ...               29              29\n",
              "Colaba               31     31  ...               31              31\n",
              "Nariman Point        38     38  ...               38              38\n",
              "Mira Road            43     43  ...               43              43\n",
              "Apollo Bandar        45     45  ...               45              45\n",
              "Churchgate           52     52  ...               52              52\n",
              "Powai                57     57  ...               57              57\n",
              "Fort                 61     61  ...               61              61\n",
              "Juhu                 65     65  ...               65              65\n",
              "Bandra West          88     88  ...               88              88\n",
              "\n",
              "[38 rows x 8 columns]"
            ]
          },
          "metadata": {
            "tags": []
          },
          "execution_count": 134
        }
      ]
    },
    {
      "cell_type": "markdown",
      "metadata": {
        "id": "aHHihe0V-nXz",
        "colab_type": "text"
      },
      "source": [
        "### **Drop Neigborhoods**"
      ]
    },
    {
      "cell_type": "markdown",
      "metadata": {
        "id": "nYoGTbRU-29U",
        "colab_type": "text"
      },
      "source": [
        "##### Drop some neiborhoods with very less venues."
      ]
    },
    {
      "cell_type": "code",
      "metadata": {
        "id": "zcXBfD-yCQbf",
        "colab_type": "code",
        "outputId": "5b68fddf-d2a6-4f81-e49f-e60740416c96",
        "colab": {
          "base_uri": "https://localhost:8080/",
          "height": 87
        }
      },
      "source": [
        "print(\"before filter:\",south_mumbai_venues.shape)\n",
        "south_mumbai_venues = south_mumbai_venues[south_mumbai_venues.Neighborhood != 'Darukhana']\n",
        "print(\"after filter:\",south_mumbai_venues.shape)\n",
        "\n",
        "print(\"bef:\",south_mumbai_data.shape)\n",
        "south_mumbai_data = south_mumbai_data[south_mumbai_data.Neighborhood != 'Darukhana']\n",
        "print(\"aft:\",south_mumbai_data.shape)"
      ],
      "execution_count": 0,
      "outputs": [
        {
          "output_type": "stream",
          "text": [
            "before filter: (850, 9)\n",
            "after filter: (850, 9)\n",
            "bef: (38, 5)\n",
            "aft: (38, 5)\n"
          ],
          "name": "stdout"
        }
      ]
    },
    {
      "cell_type": "code",
      "metadata": {
        "id": "aaYjogOMsnu4",
        "colab_type": "code",
        "outputId": "57eaa280-247b-441a-ae30-670ff9539847",
        "colab": {
          "base_uri": "https://localhost:8080/",
          "height": 79
        }
      },
      "source": [
        "south_mumbai_data.head(1)"
      ],
      "execution_count": 0,
      "outputs": [
        {
          "output_type": "execute_result",
          "data": {
            "text/html": [
              "<div>\n",
              "<style scoped>\n",
              "    .dataframe tbody tr th:only-of-type {\n",
              "        vertical-align: middle;\n",
              "    }\n",
              "\n",
              "    .dataframe tbody tr th {\n",
              "        vertical-align: top;\n",
              "    }\n",
              "\n",
              "    .dataframe thead th {\n",
              "        text-align: right;\n",
              "    }\n",
              "</style>\n",
              "<table border=\"1\" class=\"dataframe\">\n",
              "  <thead>\n",
              "    <tr style=\"text-align: right;\">\n",
              "      <th></th>\n",
              "      <th>index</th>\n",
              "      <th>Neighborhood</th>\n",
              "      <th>Borough</th>\n",
              "      <th>Latitude</th>\n",
              "      <th>Longitude</th>\n",
              "    </tr>\n",
              "  </thead>\n",
              "  <tbody>\n",
              "    <tr>\n",
              "      <th>0</th>\n",
              "      <td>0</td>\n",
              "      <td>Colaba</td>\n",
              "      <td>South Mumbai</td>\n",
              "      <td>18.915091</td>\n",
              "      <td>72.825969</td>\n",
              "    </tr>\n",
              "  </tbody>\n",
              "</table>\n",
              "</div>"
            ],
            "text/plain": [
              "   index Neighborhood       Borough   Latitude  Longitude\n",
              "0      0       Colaba  South Mumbai  18.915091  72.825969"
            ]
          },
          "metadata": {
            "tags": []
          },
          "execution_count": 261
        }
      ]
    },
    {
      "cell_type": "code",
      "metadata": {
        "id": "sZmpXsBgsFC7",
        "colab_type": "code",
        "outputId": "64d8b537-57fc-474e-e3e7-9f620f80b458",
        "colab": {
          "base_uri": "https://localhost:8080/",
          "height": 52
        }
      },
      "source": [
        "print(\"bef:\",south_mumbai_data.shape)\n",
        "south_mumbai_data = south_mumbai_data[south_mumbai_data.Neighborhood != 'Darukhana']\n",
        "print(\"aft:\",south_mumbai_data.shape)"
      ],
      "execution_count": 0,
      "outputs": [
        {
          "output_type": "stream",
          "text": [
            "bef: (39, 5)\n",
            "aft: (38, 5)\n"
          ],
          "name": "stdout"
        }
      ]
    },
    {
      "cell_type": "markdown",
      "metadata": {
        "id": "uHci_zmk-MJ5",
        "colab_type": "text"
      },
      "source": [
        "### **Merge Neighborhoods**"
      ]
    },
    {
      "cell_type": "markdown",
      "metadata": {
        "id": "PrEEf70d-U02",
        "colab_type": "text"
      },
      "source": [
        "##### Merge Neigborhoods with very less venues to nearby venues. "
      ]
    },
    {
      "cell_type": "code",
      "metadata": {
        "id": "gsLTjv-oFdKk",
        "colab_type": "code",
        "outputId": "6559bb7b-c51d-4a12-9253-2cc6f7ddaa27",
        "colab": {
          "base_uri": "https://localhost:8080/",
          "height": 35
        }
      },
      "source": [
        "# Get coordinates of Nagpada\n",
        "\n",
        "Nagpada = south_mumbai_venues\n",
        "Nagpada = Nagpada[Nagpada.Neighborhood == 'Nagpada' ].head(1)\n",
        "nagpada_latitude = Nagpada['Neighborhood Latitude'] \n",
        "nagpada_latitude = nagpada_latitude.iloc[0]\n",
        "nagpada_longitude = Nagpada['Neighborhood Longitude'] \n",
        "nagpada_longitude = nagpada_longitude.iloc[0]\n",
        "print(\"Nagpada latitude={} and longitude={}\".format(nagpada_latitude,nagpada_longitude))\n"
      ],
      "execution_count": 0,
      "outputs": [
        {
          "output_type": "stream",
          "text": [
            "Nagpada latitude=18.9681782 and longitude=72.8286009\n"
          ],
          "name": "stdout"
        }
      ]
    },
    {
      "cell_type": "code",
      "metadata": {
        "id": "VPvspDVUQ6sN",
        "colab_type": "code",
        "outputId": "e6b89548-00d7-4050-f96e-97520a29591b",
        "colab": {
          "base_uri": "https://localhost:8080/",
          "height": 52
        }
      },
      "source": [
        "south_mumbai_venues.loc[south_mumbai_venues['Neighborhood'] == 'Pydhoni', 'Neighborhood Latitude'] = nagpada_latitude\n",
        "south_mumbai_venues.loc[south_mumbai_venues['Neighborhood'] == 'Pydhoni', 'Neighborhood Longitude'] = nagpada_longitude\n",
        "south_mumbai_venues.loc[south_mumbai_venues['Neighborhood'] == 'Pydhoni', 'Neighborhood'] = 'Nagpada'\n",
        "south_mumbai_venues[south_mumbai_venues.Neighborhood == 'Pydhoni']\n",
        "south_mumbai_venues[south_mumbai_venues.Venue == 'Kanji Manji Kothari']\n",
        "#south_mumbai_venues.iloc[313]\n",
        "\n",
        "print(\"bef:\",south_mumbai_data.shape)\n",
        "south_mumbai_data = south_mumbai_data[south_mumbai_data.Neighborhood != 'Pydhoni']\n",
        "print(\"aft:\",south_mumbai_data.shape)\n"
      ],
      "execution_count": 0,
      "outputs": [
        {
          "output_type": "stream",
          "text": [
            "bef: (37, 5)\n",
            "aft: (37, 5)\n"
          ],
          "name": "stdout"
        }
      ]
    },
    {
      "cell_type": "code",
      "metadata": {
        "id": "gIUxn_d2tG1m",
        "colab_type": "code",
        "colab": {}
      },
      "source": [
        ""
      ],
      "execution_count": 0,
      "outputs": []
    },
    {
      "cell_type": "code",
      "metadata": {
        "id": "PFwZQeePT0Tq",
        "colab_type": "code",
        "outputId": "d24e037a-322c-43f1-9876-b6015af57299",
        "colab": {
          "base_uri": "https://localhost:8080/",
          "height": 52
        }
      },
      "source": [
        "#south_mumbai_venues.loc[south_mumbai_venues['Neighborhood'] == 'Dongri']\n",
        "south_mumbai_venues.loc[south_mumbai_venues['Neighborhood'] == 'Dongri', 'Neighborhood Latitude'] = nagpada_latitude\n",
        "south_mumbai_venues.loc[south_mumbai_venues['Neighborhood'] == 'Dongri', 'Neighborhood Longitude'] = nagpada_longitude\n",
        "south_mumbai_venues.loc[south_mumbai_venues['Neighborhood'] == 'Dongri', 'Neighborhood'] = 'Nagpada'\n",
        "#south_mumbai_venues[south_mumbai_venues.Neighborhood == 'Dongri']\n",
        "south_mumbai_venues.iloc[332:334]\n",
        "\n",
        "print(\"bef:\",south_mumbai_data.shape)\n",
        "south_mumbai_data = south_mumbai_data[south_mumbai_data.Neighborhood != 'Dongri']\n",
        "print(\"aft:\",south_mumbai_data.shape)"
      ],
      "execution_count": 0,
      "outputs": [
        {
          "output_type": "stream",
          "text": [
            "bef: (37, 5)\n",
            "aft: (36, 5)\n"
          ],
          "name": "stdout"
        }
      ]
    },
    {
      "cell_type": "code",
      "metadata": {
        "id": "SGQSbngAWgAX",
        "colab_type": "code",
        "outputId": "5cb95798-c97d-46da-ce4b-48c5b92812d3",
        "colab": {
          "base_uri": "https://localhost:8080/",
          "height": 206
        }
      },
      "source": [
        "south_mumbai_venues.loc[south_mumbai_venues['Neighborhood'] == 'Grand Road']\n",
        "#south_mumbai_venues.iloc[340:344]"
      ],
      "execution_count": 0,
      "outputs": [
        {
          "output_type": "execute_result",
          "data": {
            "text/html": [
              "<div>\n",
              "<style scoped>\n",
              "    .dataframe tbody tr th:only-of-type {\n",
              "        vertical-align: middle;\n",
              "    }\n",
              "\n",
              "    .dataframe tbody tr th {\n",
              "        vertical-align: top;\n",
              "    }\n",
              "\n",
              "    .dataframe thead th {\n",
              "        text-align: right;\n",
              "    }\n",
              "</style>\n",
              "<table border=\"1\" class=\"dataframe\">\n",
              "  <thead>\n",
              "    <tr style=\"text-align: right;\">\n",
              "      <th></th>\n",
              "      <th>level_0</th>\n",
              "      <th>index</th>\n",
              "      <th>Neighborhood</th>\n",
              "      <th>Neighborhood Latitude</th>\n",
              "      <th>Neighborhood Longitude</th>\n",
              "      <th>Venue</th>\n",
              "      <th>Venue Latitude</th>\n",
              "      <th>Venue Longitude</th>\n",
              "      <th>Venue Category</th>\n",
              "    </tr>\n",
              "  </thead>\n",
              "  <tbody>\n",
              "    <tr>\n",
              "      <th>341</th>\n",
              "      <td>341</td>\n",
              "      <td>487</td>\n",
              "      <td>Grand Road</td>\n",
              "      <td>18.938771</td>\n",
              "      <td>72.835335</td>\n",
              "      <td>Chhatrapati Shivaji Maharaj Terminus</td>\n",
              "      <td>18.940088</td>\n",
              "      <td>72.835257</td>\n",
              "      <td>Train/Metro/Bus</td>\n",
              "    </tr>\n",
              "    <tr>\n",
              "      <th>342</th>\n",
              "      <td>342</td>\n",
              "      <td>507</td>\n",
              "      <td>Grand Road</td>\n",
              "      <td>18.938771</td>\n",
              "      <td>72.835335</td>\n",
              "      <td>Press Club Mumbai</td>\n",
              "      <td>18.940721</td>\n",
              "      <td>72.832469</td>\n",
              "      <td>Bar/Pub</td>\n",
              "    </tr>\n",
              "    <tr>\n",
              "      <th>343</th>\n",
              "      <td>343</td>\n",
              "      <td>512</td>\n",
              "      <td>Grand Road</td>\n",
              "      <td>18.938771</td>\n",
              "      <td>72.835335</td>\n",
              "      <td>Model Cafe</td>\n",
              "      <td>18.936027</td>\n",
              "      <td>72.840418</td>\n",
              "      <td>Café</td>\n",
              "    </tr>\n",
              "    <tr>\n",
              "      <th>344</th>\n",
              "      <td>344</td>\n",
              "      <td>513</td>\n",
              "      <td>Grand Road</td>\n",
              "      <td>18.938771</td>\n",
              "      <td>72.835335</td>\n",
              "      <td>grand hotel</td>\n",
              "      <td>18.936234</td>\n",
              "      <td>72.840724</td>\n",
              "      <td>Hotel</td>\n",
              "    </tr>\n",
              "  </tbody>\n",
              "</table>\n",
              "</div>"
            ],
            "text/plain": [
              "     level_0  index  ... Venue Longitude   Venue Category\n",
              "341      341    487  ...       72.835257  Train/Metro/Bus\n",
              "342      342    507  ...       72.832469          Bar/Pub\n",
              "343      343    512  ...       72.840418             Café\n",
              "344      344    513  ...       72.840724            Hotel\n",
              "\n",
              "[4 rows x 9 columns]"
            ]
          },
          "metadata": {
            "tags": []
          },
          "execution_count": 189
        }
      ]
    },
    {
      "cell_type": "code",
      "metadata": {
        "id": "QFELd6PXWTgr",
        "colab_type": "code",
        "outputId": "6b6c9b42-69b1-4aa1-8413-79169a81a206",
        "colab": {
          "base_uri": "https://localhost:8080/",
          "height": 52
        }
      },
      "source": [
        "#south_mumbai_venues.loc[south_mumbai_venues['Neighborhood'] == 'Grand Road']\n",
        "south_mumbai_venues.loc[south_mumbai_venues['Neighborhood'] == 'Grand Road', 'Neighborhood Latitude'] = nagpada_latitude\n",
        "south_mumbai_venues.loc[south_mumbai_venues['Neighborhood'] == 'Grand Road', 'Neighborhood Longitude'] = nagpada_longitude\n",
        "south_mumbai_venues.loc[south_mumbai_venues['Neighborhood'] == 'Grand Road', 'Neighborhood'] = 'Nagpada'\n",
        "#south_mumbai_venues[south_mumbai_venues.Neighborhood == 'Grand Road']\n",
        "south_mumbai_venues.iloc[340:344]\n",
        "\n",
        "print(\"bef:\",south_mumbai_data.shape)\n",
        "south_mumbai_data = south_mumbai_data[south_mumbai_data.Neighborhood != 'Grand Road']\n",
        "print(\"aft:\",south_mumbai_data.shape)"
      ],
      "execution_count": 0,
      "outputs": [
        {
          "output_type": "stream",
          "text": [
            "bef: (36, 5)\n",
            "aft: (35, 5)\n"
          ],
          "name": "stdout"
        }
      ]
    },
    {
      "cell_type": "code",
      "metadata": {
        "id": "hsqmxXGhXanm",
        "colab_type": "code",
        "outputId": "4d6ce7e7-8ccd-40cf-e6ef-7bc38e0dfbff",
        "colab": {
          "base_uri": "https://localhost:8080/",
          "height": 302
        }
      },
      "source": [
        "south_mumbai_venues.loc[south_mumbai_venues['Neighborhood'] == 'Byculla']\n",
        "south_mumbai_venues.iloc[334:340]"
      ],
      "execution_count": 0,
      "outputs": [
        {
          "output_type": "execute_result",
          "data": {
            "text/html": [
              "<div>\n",
              "<style scoped>\n",
              "    .dataframe tbody tr th:only-of-type {\n",
              "        vertical-align: middle;\n",
              "    }\n",
              "\n",
              "    .dataframe tbody tr th {\n",
              "        vertical-align: top;\n",
              "    }\n",
              "\n",
              "    .dataframe thead th {\n",
              "        text-align: right;\n",
              "    }\n",
              "</style>\n",
              "<table border=\"1\" class=\"dataframe\">\n",
              "  <thead>\n",
              "    <tr style=\"text-align: right;\">\n",
              "      <th></th>\n",
              "      <th>level_0</th>\n",
              "      <th>index</th>\n",
              "      <th>Neighborhood</th>\n",
              "      <th>Neighborhood Latitude</th>\n",
              "      <th>Neighborhood Longitude</th>\n",
              "      <th>Venue</th>\n",
              "      <th>Venue Latitude</th>\n",
              "      <th>Venue Longitude</th>\n",
              "      <th>Venue Category</th>\n",
              "    </tr>\n",
              "  </thead>\n",
              "  <tbody>\n",
              "    <tr>\n",
              "      <th>335</th>\n",
              "      <td>335</td>\n",
              "      <td>474</td>\n",
              "      <td>Byculla</td>\n",
              "      <td>18.976622</td>\n",
              "      <td>72.832794</td>\n",
              "      <td>Bhau Daji Lad Museum</td>\n",
              "      <td>18.979140</td>\n",
              "      <td>72.834449</td>\n",
              "      <td>History Museum</td>\n",
              "    </tr>\n",
              "    <tr>\n",
              "      <th>336</th>\n",
              "      <td>336</td>\n",
              "      <td>476</td>\n",
              "      <td>Byculla</td>\n",
              "      <td>18.976622</td>\n",
              "      <td>72.832794</td>\n",
              "      <td>Cafe Renault</td>\n",
              "      <td>18.974986</td>\n",
              "      <td>72.833758</td>\n",
              "      <td>Bar/Pub</td>\n",
              "    </tr>\n",
              "    <tr>\n",
              "      <th>337</th>\n",
              "      <td>337</td>\n",
              "      <td>477</td>\n",
              "      <td>Byculla</td>\n",
              "      <td>18.976622</td>\n",
              "      <td>72.832794</td>\n",
              "      <td>Gloria Restaurant</td>\n",
              "      <td>18.975485</td>\n",
              "      <td>72.833884</td>\n",
              "      <td>Asian Restaurant</td>\n",
              "    </tr>\n",
              "    <tr>\n",
              "      <th>338</th>\n",
              "      <td>338</td>\n",
              "      <td>479</td>\n",
              "      <td>Byculla</td>\n",
              "      <td>18.976622</td>\n",
              "      <td>72.832794</td>\n",
              "      <td>Domino's Pizza</td>\n",
              "      <td>18.978071</td>\n",
              "      <td>72.838701</td>\n",
              "      <td>Pizza Place</td>\n",
              "    </tr>\n",
              "    <tr>\n",
              "      <th>339</th>\n",
              "      <td>339</td>\n",
              "      <td>480</td>\n",
              "      <td>Byculla</td>\n",
              "      <td>18.976622</td>\n",
              "      <td>72.832794</td>\n",
              "      <td>Jijamata Udyan - Ranibaug</td>\n",
              "      <td>18.978606</td>\n",
              "      <td>72.834980</td>\n",
              "      <td>Zoo</td>\n",
              "    </tr>\n",
              "    <tr>\n",
              "      <th>340</th>\n",
              "      <td>340</td>\n",
              "      <td>481</td>\n",
              "      <td>Byculla</td>\n",
              "      <td>18.976622</td>\n",
              "      <td>72.832794</td>\n",
              "      <td>Byculla Bakery</td>\n",
              "      <td>18.977695</td>\n",
              "      <td>72.834005</td>\n",
              "      <td>Bakery</td>\n",
              "    </tr>\n",
              "  </tbody>\n",
              "</table>\n",
              "</div>"
            ],
            "text/plain": [
              "     level_0  index  ... Venue Longitude    Venue Category\n",
              "335      335    474  ...       72.834449    History Museum\n",
              "336      336    476  ...       72.833758           Bar/Pub\n",
              "337      337    477  ...       72.833884  Asian Restaurant\n",
              "338      338    479  ...       72.838701       Pizza Place\n",
              "339      339    480  ...       72.834980               Zoo\n",
              "340      340    481  ...       72.834005            Bakery\n",
              "\n",
              "[6 rows x 9 columns]"
            ]
          },
          "metadata": {
            "tags": []
          },
          "execution_count": 193
        }
      ]
    },
    {
      "cell_type": "code",
      "metadata": {
        "id": "kZt4eKMsXY2l",
        "colab_type": "code",
        "outputId": "235e3e6e-f985-4ccb-d763-87f11224f5fe",
        "colab": {
          "base_uri": "https://localhost:8080/",
          "height": 52
        }
      },
      "source": [
        "#south_mumbai_venues.loc[south_mumbai_venues['Neighborhood'] == 'Byculla']\n",
        "south_mumbai_venues.loc[south_mumbai_venues['Neighborhood'] == 'Byculla', 'Neighborhood Latitude'] = nagpada_latitude\n",
        "south_mumbai_venues.loc[south_mumbai_venues['Neighborhood'] == 'Byculla', 'Neighborhood Longitude'] = nagpada_longitude\n",
        "south_mumbai_venues.loc[south_mumbai_venues['Neighborhood'] == 'Byculla', 'Neighborhood'] = 'Nagpada'\n",
        "#south_mumbai_venues[south_mumbai_venues.Neighborhood == 'Byculla']\n",
        "south_mumbai_venues.iloc[334:340]\n",
        "\n",
        "print(\"bef:\",south_mumbai_data.shape)\n",
        "south_mumbai_data = south_mumbai_data[south_mumbai_data.Neighborhood != 'Byculla']\n",
        "print(\"aft:\",south_mumbai_data.shape)"
      ],
      "execution_count": 0,
      "outputs": [
        {
          "output_type": "stream",
          "text": [
            "bef: (35, 5)\n",
            "aft: (34, 5)\n"
          ],
          "name": "stdout"
        }
      ]
    },
    {
      "cell_type": "markdown",
      "metadata": {
        "id": "k8LWVwg-Yvf6",
        "colab_type": "text"
      },
      "source": [
        "### **Merge Govandi with Chembur**"
      ]
    },
    {
      "cell_type": "code",
      "metadata": {
        "id": "h-doU-ucY49t",
        "colab_type": "code",
        "outputId": "064284bb-2f2f-47d2-d331-260f09de0d19",
        "colab": {
          "base_uri": "https://localhost:8080/",
          "height": 131
        }
      },
      "source": [
        "# Get coordinates of Chembur\n",
        "\n",
        "Chembur = south_mumbai_venues\n",
        "Chembur = Chembur[Chembur.Neighborhood == 'Chembur' ].head(1)\n",
        "Chembur_latitude = Chembur['Neighborhood Latitude'] \n",
        "Chembur_latitude = Chembur_latitude.iloc[0]\n",
        "Chembur_longitude = Chembur['Neighborhood Longitude'] \n",
        "Chembur_longitude = Chembur_longitude.iloc[0]\n",
        "print(\"Chembur latitude={} and longitude={}\".format(Chembur_latitude,Chembur_longitude))\n",
        "Chembur[Chembur.Neighborhood == 'Chembur' ].head(1)"
      ],
      "execution_count": 0,
      "outputs": [
        {
          "output_type": "stream",
          "text": [
            "Chembur latitude=19.0612128 and longitude=72.8975909\n"
          ],
          "name": "stdout"
        },
        {
          "output_type": "execute_result",
          "data": {
            "text/html": [
              "<div>\n",
              "<style scoped>\n",
              "    .dataframe tbody tr th:only-of-type {\n",
              "        vertical-align: middle;\n",
              "    }\n",
              "\n",
              "    .dataframe tbody tr th {\n",
              "        vertical-align: top;\n",
              "    }\n",
              "\n",
              "    .dataframe thead th {\n",
              "        text-align: right;\n",
              "    }\n",
              "</style>\n",
              "<table border=\"1\" class=\"dataframe\">\n",
              "  <thead>\n",
              "    <tr style=\"text-align: right;\">\n",
              "      <th></th>\n",
              "      <th>level_0</th>\n",
              "      <th>index</th>\n",
              "      <th>Neighborhood</th>\n",
              "      <th>Neighborhood Latitude</th>\n",
              "      <th>Neighborhood Longitude</th>\n",
              "      <th>Venue</th>\n",
              "      <th>Venue Latitude</th>\n",
              "      <th>Venue Longitude</th>\n",
              "      <th>Venue Category</th>\n",
              "    </tr>\n",
              "  </thead>\n",
              "  <tbody>\n",
              "    <tr>\n",
              "      <th>666</th>\n",
              "      <td>666</td>\n",
              "      <td>893</td>\n",
              "      <td>Chembur</td>\n",
              "      <td>19.061213</td>\n",
              "      <td>72.897591</td>\n",
              "      <td>Le Café</td>\n",
              "      <td>19.061791</td>\n",
              "      <td>72.899479</td>\n",
              "      <td>Café</td>\n",
              "    </tr>\n",
              "  </tbody>\n",
              "</table>\n",
              "</div>"
            ],
            "text/plain": [
              "     level_0  index  ... Venue Longitude  Venue Category\n",
              "666      666    893  ...       72.899479            Café\n",
              "\n",
              "[1 rows x 9 columns]"
            ]
          },
          "metadata": {
            "tags": []
          },
          "execution_count": 198
        }
      ]
    },
    {
      "cell_type": "code",
      "metadata": {
        "id": "iP1UHM_rY5va",
        "colab_type": "code",
        "outputId": "702ebfeb-3f3c-42a1-c92c-81a302db720f",
        "colab": {
          "base_uri": "https://localhost:8080/",
          "height": 271
        }
      },
      "source": [
        "#south_mumbai_venues.loc[south_mumbai_venues['Neighborhood'] == 'Govandi']\n",
        "south_mumbai_venues.iloc[688:693]"
      ],
      "execution_count": 0,
      "outputs": [
        {
          "output_type": "execute_result",
          "data": {
            "text/html": [
              "<div>\n",
              "<style scoped>\n",
              "    .dataframe tbody tr th:only-of-type {\n",
              "        vertical-align: middle;\n",
              "    }\n",
              "\n",
              "    .dataframe tbody tr th {\n",
              "        vertical-align: top;\n",
              "    }\n",
              "\n",
              "    .dataframe thead th {\n",
              "        text-align: right;\n",
              "    }\n",
              "</style>\n",
              "<table border=\"1\" class=\"dataframe\">\n",
              "  <thead>\n",
              "    <tr style=\"text-align: right;\">\n",
              "      <th></th>\n",
              "      <th>level_0</th>\n",
              "      <th>index</th>\n",
              "      <th>Neighborhood</th>\n",
              "      <th>Neighborhood Latitude</th>\n",
              "      <th>Neighborhood Longitude</th>\n",
              "      <th>Venue</th>\n",
              "      <th>Venue Latitude</th>\n",
              "      <th>Venue Longitude</th>\n",
              "      <th>Venue Category</th>\n",
              "    </tr>\n",
              "  </thead>\n",
              "  <tbody>\n",
              "    <tr>\n",
              "      <th>689</th>\n",
              "      <td>689</td>\n",
              "      <td>925</td>\n",
              "      <td>Govandi</td>\n",
              "      <td>19.055369</td>\n",
              "      <td>72.91507</td>\n",
              "      <td>Govandi Station</td>\n",
              "      <td>19.054849</td>\n",
              "      <td>72.915618</td>\n",
              "      <td>Platform</td>\n",
              "    </tr>\n",
              "    <tr>\n",
              "      <th>690</th>\n",
              "      <td>690</td>\n",
              "      <td>926</td>\n",
              "      <td>Govandi</td>\n",
              "      <td>19.055369</td>\n",
              "      <td>72.91507</td>\n",
              "      <td>Gavand Vada Pao center</td>\n",
              "      <td>19.055100</td>\n",
              "      <td>72.914816</td>\n",
              "      <td>Hot Dog Joint</td>\n",
              "    </tr>\n",
              "    <tr>\n",
              "      <th>691</th>\n",
              "      <td>691</td>\n",
              "      <td>927</td>\n",
              "      <td>Govandi</td>\n",
              "      <td>19.055369</td>\n",
              "      <td>72.91507</td>\n",
              "      <td>Natraj Store</td>\n",
              "      <td>19.055045</td>\n",
              "      <td>72.915612</td>\n",
              "      <td>Food &amp; Drink Shop</td>\n",
              "    </tr>\n",
              "    <tr>\n",
              "      <th>692</th>\n",
              "      <td>692</td>\n",
              "      <td>928</td>\n",
              "      <td>Govandi</td>\n",
              "      <td>19.055369</td>\n",
              "      <td>72.91507</td>\n",
              "      <td>Munna Sandwich</td>\n",
              "      <td>19.055237</td>\n",
              "      <td>72.914551</td>\n",
              "      <td>Food Truck</td>\n",
              "    </tr>\n",
              "    <tr>\n",
              "      <th>693</th>\n",
              "      <td>693</td>\n",
              "      <td>931</td>\n",
              "      <td>Govandi</td>\n",
              "      <td>19.055369</td>\n",
              "      <td>72.91507</td>\n",
              "      <td>Deonar Park</td>\n",
              "      <td>19.051004</td>\n",
              "      <td>72.914629</td>\n",
              "      <td>Park</td>\n",
              "    </tr>\n",
              "  </tbody>\n",
              "</table>\n",
              "</div>"
            ],
            "text/plain": [
              "     level_0  index  ... Venue Longitude     Venue Category\n",
              "689      689    925  ...       72.915618           Platform\n",
              "690      690    926  ...       72.914816      Hot Dog Joint\n",
              "691      691    927  ...       72.915612  Food & Drink Shop\n",
              "692      692    928  ...       72.914551         Food Truck\n",
              "693      693    931  ...       72.914629               Park\n",
              "\n",
              "[5 rows x 9 columns]"
            ]
          },
          "metadata": {
            "tags": []
          },
          "execution_count": 200
        }
      ]
    },
    {
      "cell_type": "code",
      "metadata": {
        "id": "3qpex_0kY6bB",
        "colab_type": "code",
        "outputId": "1d940991-e335-4904-8a20-5798943450b0",
        "colab": {
          "base_uri": "https://localhost:8080/",
          "height": 52
        }
      },
      "source": [
        "#south_mumbai_venues.loc[south_mumbai_venues['Neighborhood'] == 'Govandi']\n",
        "south_mumbai_venues.loc[south_mumbai_venues['Neighborhood'] == 'Govandi', 'Neighborhood Latitude'] = Chembur_latitude\n",
        "south_mumbai_venues.loc[south_mumbai_venues['Neighborhood'] == 'Govandi', 'Neighborhood Longitude'] = Chembur_longitude\n",
        "south_mumbai_venues.loc[south_mumbai_venues['Neighborhood'] == 'Govandi', 'Neighborhood'] = 'Chembur'\n",
        "#south_mumbai_venues[south_mumbai_venues.Neighborhood == 'Govandi']\n",
        "south_mumbai_venues.iloc[688:693]\n",
        "\n",
        "print(\"bef:\",south_mumbai_data.shape)\n",
        "south_mumbai_data = south_mumbai_data[south_mumbai_data.Neighborhood != 'Govandi']\n",
        "print(\"aft:\",south_mumbai_data.shape)"
      ],
      "execution_count": 0,
      "outputs": [
        {
          "output_type": "stream",
          "text": [
            "bef: (34, 5)\n",
            "aft: (33, 5)\n"
          ],
          "name": "stdout"
        }
      ]
    },
    {
      "cell_type": "markdown",
      "metadata": {
        "id": "OV-5RlJ7cCXz",
        "colab_type": "text"
      },
      "source": [
        "### **Merge Kalina with Kurla**"
      ]
    },
    {
      "cell_type": "code",
      "metadata": {
        "id": "OkPgTWpHcZdZ",
        "colab_type": "code",
        "outputId": "1b9a12aa-69a2-4d00-8a62-6c67ea84c46e",
        "colab": {
          "base_uri": "https://localhost:8080/",
          "height": 131
        }
      },
      "source": [
        "# Get coordinates of Kurla\n",
        "\n",
        "Kurla = south_mumbai_venues\n",
        "Kurla = Kurla[Kurla.Neighborhood == 'Kurla' ].head(1)\n",
        "Kurla_latitude = Kurla['Neighborhood Latitude'] \n",
        "Kurla_latitude = Kurla_latitude.iloc[0]\n",
        "Kurla_longitude = Kurla['Neighborhood Longitude'] \n",
        "Kurla_longitude = Kurla_longitude.iloc[0]\n",
        "print(\"Kurla latitude={} and longitude={}\".format(Kurla_latitude,Kurla_longitude))\n",
        "Kurla[Kurla.Neighborhood == 'Kurla' ].head(1)"
      ],
      "execution_count": 0,
      "outputs": [
        {
          "output_type": "stream",
          "text": [
            "Kurla latitude=19.0652797 and longitude=72.8793805\n"
          ],
          "name": "stdout"
        },
        {
          "output_type": "execute_result",
          "data": {
            "text/html": [
              "<div>\n",
              "<style scoped>\n",
              "    .dataframe tbody tr th:only-of-type {\n",
              "        vertical-align: middle;\n",
              "    }\n",
              "\n",
              "    .dataframe tbody tr th {\n",
              "        vertical-align: top;\n",
              "    }\n",
              "\n",
              "    .dataframe thead th {\n",
              "        text-align: right;\n",
              "    }\n",
              "</style>\n",
              "<table border=\"1\" class=\"dataframe\">\n",
              "  <thead>\n",
              "    <tr style=\"text-align: right;\">\n",
              "      <th></th>\n",
              "      <th>level_0</th>\n",
              "      <th>index</th>\n",
              "      <th>Neighborhood</th>\n",
              "      <th>Neighborhood Latitude</th>\n",
              "      <th>Neighborhood Longitude</th>\n",
              "      <th>Venue</th>\n",
              "      <th>Venue Latitude</th>\n",
              "      <th>Venue Longitude</th>\n",
              "      <th>Venue Category</th>\n",
              "    </tr>\n",
              "  </thead>\n",
              "  <tbody>\n",
              "    <tr>\n",
              "      <th>644</th>\n",
              "      <td>644</td>\n",
              "      <td>864</td>\n",
              "      <td>Kurla</td>\n",
              "      <td>19.06528</td>\n",
              "      <td>72.87938</td>\n",
              "      <td>Shri Jagrut Vinayak Temple</td>\n",
              "      <td>19.063404</td>\n",
              "      <td>72.882604</td>\n",
              "      <td>Temple</td>\n",
              "    </tr>\n",
              "  </tbody>\n",
              "</table>\n",
              "</div>"
            ],
            "text/plain": [
              "     level_0  index  ... Venue Longitude  Venue Category\n",
              "644      644    864  ...       72.882604          Temple\n",
              "\n",
              "[1 rows x 9 columns]"
            ]
          },
          "metadata": {
            "tags": []
          },
          "execution_count": 203
        }
      ]
    },
    {
      "cell_type": "code",
      "metadata": {
        "id": "trc4EcYRcZuQ",
        "colab_type": "code",
        "outputId": "af8bfd7a-a46d-4e15-c508-58c28e6ae992",
        "colab": {
          "base_uri": "https://localhost:8080/",
          "height": 354
        }
      },
      "source": [
        "#south_mumbai_venues.loc[south_mumbai_venues['Neighborhood'] == 'Kalina']\n",
        "south_mumbai_venues.iloc[588:594]"
      ],
      "execution_count": 0,
      "outputs": [
        {
          "output_type": "execute_result",
          "data": {
            "text/html": [
              "<div>\n",
              "<style scoped>\n",
              "    .dataframe tbody tr th:only-of-type {\n",
              "        vertical-align: middle;\n",
              "    }\n",
              "\n",
              "    .dataframe tbody tr th {\n",
              "        vertical-align: top;\n",
              "    }\n",
              "\n",
              "    .dataframe thead th {\n",
              "        text-align: right;\n",
              "    }\n",
              "</style>\n",
              "<table border=\"1\" class=\"dataframe\">\n",
              "  <thead>\n",
              "    <tr style=\"text-align: right;\">\n",
              "      <th></th>\n",
              "      <th>level_0</th>\n",
              "      <th>index</th>\n",
              "      <th>Neighborhood</th>\n",
              "      <th>Neighborhood Latitude</th>\n",
              "      <th>Neighborhood Longitude</th>\n",
              "      <th>Venue</th>\n",
              "      <th>Venue Latitude</th>\n",
              "      <th>Venue Longitude</th>\n",
              "      <th>Venue Category</th>\n",
              "    </tr>\n",
              "  </thead>\n",
              "  <tbody>\n",
              "    <tr>\n",
              "      <th>589</th>\n",
              "      <td>589</td>\n",
              "      <td>798</td>\n",
              "      <td>Kurla</td>\n",
              "      <td>19.06528</td>\n",
              "      <td>72.87938</td>\n",
              "      <td>King Chilly</td>\n",
              "      <td>19.078382</td>\n",
              "      <td>72.866350</td>\n",
              "      <td>Chinese Restaurant</td>\n",
              "    </tr>\n",
              "    <tr>\n",
              "      <th>590</th>\n",
              "      <td>590</td>\n",
              "      <td>799</td>\n",
              "      <td>Kurla</td>\n",
              "      <td>19.06528</td>\n",
              "      <td>72.87938</td>\n",
              "      <td>The Camp</td>\n",
              "      <td>19.077917</td>\n",
              "      <td>72.865643</td>\n",
              "      <td>Asian Restaurant</td>\n",
              "    </tr>\n",
              "    <tr>\n",
              "      <th>591</th>\n",
              "      <td>591</td>\n",
              "      <td>800</td>\n",
              "      <td>Kurla</td>\n",
              "      <td>19.06528</td>\n",
              "      <td>72.87938</td>\n",
              "      <td>Sadichha</td>\n",
              "      <td>19.081684</td>\n",
              "      <td>72.855762</td>\n",
              "      <td>Seafood Restaurant</td>\n",
              "    </tr>\n",
              "    <tr>\n",
              "      <th>592</th>\n",
              "      <td>592</td>\n",
              "      <td>801</td>\n",
              "      <td>Kurla</td>\n",
              "      <td>19.06528</td>\n",
              "      <td>72.87938</td>\n",
              "      <td>SONY CENTRE</td>\n",
              "      <td>19.077760</td>\n",
              "      <td>72.864600</td>\n",
              "      <td>Electronics Store</td>\n",
              "    </tr>\n",
              "    <tr>\n",
              "      <th>593</th>\n",
              "      <td>593</td>\n",
              "      <td>802</td>\n",
              "      <td>Kurla</td>\n",
              "      <td>19.06528</td>\n",
              "      <td>72.87938</td>\n",
              "      <td>king chilli kalina</td>\n",
              "      <td>19.079660</td>\n",
              "      <td>72.865732</td>\n",
              "      <td>Chinese Restaurant</td>\n",
              "    </tr>\n",
              "    <tr>\n",
              "      <th>594</th>\n",
              "      <td>594</td>\n",
              "      <td>803</td>\n",
              "      <td>Kurla</td>\n",
              "      <td>19.06528</td>\n",
              "      <td>72.87938</td>\n",
              "      <td>Imbiss Meating joint</td>\n",
              "      <td>19.078304</td>\n",
              "      <td>72.865934</td>\n",
              "      <td>Burger Joint</td>\n",
              "    </tr>\n",
              "  </tbody>\n",
              "</table>\n",
              "</div>"
            ],
            "text/plain": [
              "     level_0  index  ... Venue Longitude      Venue Category\n",
              "589      589    798  ...       72.866350  Chinese Restaurant\n",
              "590      590    799  ...       72.865643    Asian Restaurant\n",
              "591      591    800  ...       72.855762  Seafood Restaurant\n",
              "592      592    801  ...       72.864600   Electronics Store\n",
              "593      593    802  ...       72.865732  Chinese Restaurant\n",
              "594      594    803  ...       72.865934        Burger Joint\n",
              "\n",
              "[6 rows x 9 columns]"
            ]
          },
          "metadata": {
            "tags": []
          },
          "execution_count": 218
        }
      ]
    },
    {
      "cell_type": "code",
      "metadata": {
        "id": "XWYjkLgucZ9e",
        "colab_type": "code",
        "outputId": "0a961654-e49e-4f01-d2d9-e22d9f24b651",
        "colab": {
          "base_uri": "https://localhost:8080/",
          "height": 52
        }
      },
      "source": [
        "#south_mumbai_venues.loc[south_mumbai_venues['Neighborhood'] == 'Kalina']\n",
        "south_mumbai_venues.loc[south_mumbai_venues['Neighborhood'] == 'Kalina', 'Neighborhood Latitude'] = Kurla_latitude\n",
        "south_mumbai_venues.loc[south_mumbai_venues['Neighborhood'] == 'Kalina', 'Neighborhood Longitude'] = Kurla_longitude\n",
        "south_mumbai_venues.loc[south_mumbai_venues['Neighborhood'] == 'Kalina', 'Neighborhood'] = 'Kurla'\n",
        "#south_mumbai_venues[south_mumbai_venues.Neighborhood == 'Kalina']\n",
        "south_mumbai_venues.iloc[588:594]\n",
        "\n",
        "print(\"bef:\",south_mumbai_data.shape)\n",
        "south_mumbai_data = south_mumbai_data[south_mumbai_data.Neighborhood != 'Kalina']\n",
        "print(\"aft:\",south_mumbai_data.shape)\n",
        "\n"
      ],
      "execution_count": 0,
      "outputs": [
        {
          "output_type": "stream",
          "text": [
            "bef: (33, 5)\n",
            "aft: (32, 5)\n"
          ],
          "name": "stdout"
        }
      ]
    },
    {
      "cell_type": "markdown",
      "metadata": {
        "id": "a1ASK9KKhNnS",
        "colab_type": "text"
      },
      "source": [
        "### **Merge Malad with Andheri**"
      ]
    },
    {
      "cell_type": "code",
      "metadata": {
        "id": "30dQdmZPhCgv",
        "colab_type": "code",
        "outputId": "29906c5e-27d3-475a-df2b-ed1d51e7c5a0",
        "colab": {
          "base_uri": "https://localhost:8080/",
          "height": 131
        }
      },
      "source": [
        "# Get coordinates of Andheri\n",
        "\n",
        "Andheri = south_mumbai_venues\n",
        "Andheri = Andheri[Andheri.Neighborhood == 'Andheri' ].head(1)\n",
        "Andheri_latitude = Andheri['Neighborhood Latitude'] \n",
        "Andheri_latitude = Andheri_latitude.iloc[0]\n",
        "Andheri_longitude = Andheri['Neighborhood Longitude'] \n",
        "Andheri_longitude = Andheri_longitude.iloc[0]\n",
        "print(\"Chembur latitude={} and longitude={}\".format(Andheri_latitude,Andheri_longitude))\n",
        "Andheri[Andheri.Neighborhood == 'Andheri' ].head(1)"
      ],
      "execution_count": 0,
      "outputs": [
        {
          "output_type": "stream",
          "text": [
            "Chembur latitude=19.1196976 and longitude=72.8464205\n"
          ],
          "name": "stdout"
        },
        {
          "output_type": "execute_result",
          "data": {
            "text/html": [
              "<div>\n",
              "<style scoped>\n",
              "    .dataframe tbody tr th:only-of-type {\n",
              "        vertical-align: middle;\n",
              "    }\n",
              "\n",
              "    .dataframe tbody tr th {\n",
              "        vertical-align: top;\n",
              "    }\n",
              "\n",
              "    .dataframe thead th {\n",
              "        text-align: right;\n",
              "    }\n",
              "</style>\n",
              "<table border=\"1\" class=\"dataframe\">\n",
              "  <thead>\n",
              "    <tr style=\"text-align: right;\">\n",
              "      <th></th>\n",
              "      <th>level_0</th>\n",
              "      <th>index</th>\n",
              "      <th>Neighborhood</th>\n",
              "      <th>Neighborhood Latitude</th>\n",
              "      <th>Neighborhood Longitude</th>\n",
              "      <th>Venue</th>\n",
              "      <th>Venue Latitude</th>\n",
              "      <th>Venue Longitude</th>\n",
              "      <th>Venue Category</th>\n",
              "    </tr>\n",
              "  </thead>\n",
              "  <tbody>\n",
              "    <tr>\n",
              "      <th>578</th>\n",
              "      <td>578</td>\n",
              "      <td>784</td>\n",
              "      <td>Andheri</td>\n",
              "      <td>19.119698</td>\n",
              "      <td>72.84642</td>\n",
              "      <td>Merwans Cake shop</td>\n",
              "      <td>19.1193</td>\n",
              "      <td>72.845418</td>\n",
              "      <td>Bakery</td>\n",
              "    </tr>\n",
              "  </tbody>\n",
              "</table>\n",
              "</div>"
            ],
            "text/plain": [
              "     level_0  index  ... Venue Longitude  Venue Category\n",
              "578      578    784  ...       72.845418          Bakery\n",
              "\n",
              "[1 rows x 9 columns]"
            ]
          },
          "metadata": {
            "tags": []
          },
          "execution_count": 219
        }
      ]
    },
    {
      "cell_type": "code",
      "metadata": {
        "id": "Cn7vAC0IhCuK",
        "colab_type": "code",
        "outputId": "df99482d-c418-410d-f9c9-e4d4adc2f664",
        "colab": {
          "base_uri": "https://localhost:8080/",
          "height": 402
        }
      },
      "source": [
        "#south_mumbai_venues.loc[south_mumbai_venues['Neighborhood'] == 'Malad']\n",
        "south_mumbai_venues.iloc[773:780]"
      ],
      "execution_count": 0,
      "outputs": [
        {
          "output_type": "execute_result",
          "data": {
            "text/html": [
              "<div>\n",
              "<style scoped>\n",
              "    .dataframe tbody tr th:only-of-type {\n",
              "        vertical-align: middle;\n",
              "    }\n",
              "\n",
              "    .dataframe tbody tr th {\n",
              "        vertical-align: top;\n",
              "    }\n",
              "\n",
              "    .dataframe thead th {\n",
              "        text-align: right;\n",
              "    }\n",
              "</style>\n",
              "<table border=\"1\" class=\"dataframe\">\n",
              "  <thead>\n",
              "    <tr style=\"text-align: right;\">\n",
              "      <th></th>\n",
              "      <th>level_0</th>\n",
              "      <th>index</th>\n",
              "      <th>Neighborhood</th>\n",
              "      <th>Neighborhood Latitude</th>\n",
              "      <th>Neighborhood Longitude</th>\n",
              "      <th>Venue</th>\n",
              "      <th>Venue Latitude</th>\n",
              "      <th>Venue Longitude</th>\n",
              "      <th>Venue Category</th>\n",
              "    </tr>\n",
              "  </thead>\n",
              "  <tbody>\n",
              "    <tr>\n",
              "      <th>774</th>\n",
              "      <td>774</td>\n",
              "      <td>1024</td>\n",
              "      <td>Malad</td>\n",
              "      <td>19.186719</td>\n",
              "      <td>72.848588</td>\n",
              "      <td>Gupta's Bhel and Pani Puri House</td>\n",
              "      <td>19.184527</td>\n",
              "      <td>72.845946</td>\n",
              "      <td>Snack Place</td>\n",
              "    </tr>\n",
              "    <tr>\n",
              "      <th>775</th>\n",
              "      <td>775</td>\n",
              "      <td>1025</td>\n",
              "      <td>Malad</td>\n",
              "      <td>19.186719</td>\n",
              "      <td>72.848588</td>\n",
              "      <td>MM Mithaiwala</td>\n",
              "      <td>19.187323</td>\n",
              "      <td>72.848164</td>\n",
              "      <td>Dessert Shop</td>\n",
              "    </tr>\n",
              "    <tr>\n",
              "      <th>776</th>\n",
              "      <td>776</td>\n",
              "      <td>1026</td>\n",
              "      <td>Malad</td>\n",
              "      <td>19.186719</td>\n",
              "      <td>72.848588</td>\n",
              "      <td>Aditi</td>\n",
              "      <td>19.185180</td>\n",
              "      <td>72.846718</td>\n",
              "      <td>Fast Food Restaurant</td>\n",
              "    </tr>\n",
              "    <tr>\n",
              "      <th>777</th>\n",
              "      <td>777</td>\n",
              "      <td>1027</td>\n",
              "      <td>Malad</td>\n",
              "      <td>19.186719</td>\n",
              "      <td>72.848588</td>\n",
              "      <td>Malad Railway Station</td>\n",
              "      <td>19.187100</td>\n",
              "      <td>72.848678</td>\n",
              "      <td>Train/Metro/Bus</td>\n",
              "    </tr>\n",
              "    <tr>\n",
              "      <th>778</th>\n",
              "      <td>778</td>\n",
              "      <td>1028</td>\n",
              "      <td>Malad</td>\n",
              "      <td>19.186719</td>\n",
              "      <td>72.848588</td>\n",
              "      <td>platform1</td>\n",
              "      <td>19.187324</td>\n",
              "      <td>72.849162</td>\n",
              "      <td>Tourist Information Center</td>\n",
              "    </tr>\n",
              "    <tr>\n",
              "      <th>779</th>\n",
              "      <td>779</td>\n",
              "      <td>1029</td>\n",
              "      <td>Malad</td>\n",
              "      <td>19.186719</td>\n",
              "      <td>72.848588</td>\n",
              "      <td>aditi fast food hotel</td>\n",
              "      <td>19.185317</td>\n",
              "      <td>72.846710</td>\n",
              "      <td>Fast Food Restaurant</td>\n",
              "    </tr>\n",
              "    <tr>\n",
              "      <th>780</th>\n",
              "      <td>780</td>\n",
              "      <td>1031</td>\n",
              "      <td>Malad</td>\n",
              "      <td>19.186719</td>\n",
              "      <td>72.848588</td>\n",
              "      <td>Sapna Veg. Restaurant</td>\n",
              "      <td>19.192203</td>\n",
              "      <td>72.846929</td>\n",
              "      <td>Fast Food Restaurant</td>\n",
              "    </tr>\n",
              "  </tbody>\n",
              "</table>\n",
              "</div>"
            ],
            "text/plain": [
              "     level_0  index  ... Venue Longitude              Venue Category\n",
              "774      774   1024  ...       72.845946                 Snack Place\n",
              "775      775   1025  ...       72.848164                Dessert Shop\n",
              "776      776   1026  ...       72.846718        Fast Food Restaurant\n",
              "777      777   1027  ...       72.848678             Train/Metro/Bus\n",
              "778      778   1028  ...       72.849162  Tourist Information Center\n",
              "779      779   1029  ...       72.846710        Fast Food Restaurant\n",
              "780      780   1031  ...       72.846929        Fast Food Restaurant\n",
              "\n",
              "[7 rows x 9 columns]"
            ]
          },
          "metadata": {
            "tags": []
          },
          "execution_count": 221
        }
      ]
    },
    {
      "cell_type": "code",
      "metadata": {
        "id": "VU0gdKgWhC73",
        "colab_type": "code",
        "outputId": "3e4b16aa-9f40-48ab-92fc-70fc61ce020d",
        "colab": {
          "base_uri": "https://localhost:8080/",
          "height": 52
        }
      },
      "source": [
        "#south_mumbai_venues.loc[south_mumbai_venues['Neighborhood'] == 'Malad']\n",
        "south_mumbai_venues.loc[south_mumbai_venues['Neighborhood'] == 'Malad', 'Neighborhood Latitude'] = Andheri_latitude\n",
        "south_mumbai_venues.loc[south_mumbai_venues['Neighborhood'] == 'Malad', 'Neighborhood Longitude'] = Andheri_longitude\n",
        "south_mumbai_venues.loc[south_mumbai_venues['Neighborhood'] == 'Malad', 'Neighborhood'] = 'Andheri'\n",
        "#south_mumbai_venues[south_mumbai_venues.Neighborhood == 'Malad']\n",
        "south_mumbai_venues.iloc[773:780]\n",
        "\n",
        "print(\"bef:\",south_mumbai_data.shape)\n",
        "south_mumbai_data = south_mumbai_data[south_mumbai_data.Neighborhood != 'Malad']\n",
        "print(\"aft:\",south_mumbai_data.shape)"
      ],
      "execution_count": 0,
      "outputs": [
        {
          "output_type": "stream",
          "text": [
            "bef: (32, 5)\n",
            "aft: (31, 5)\n"
          ],
          "name": "stdout"
        }
      ]
    },
    {
      "cell_type": "markdown",
      "metadata": {
        "id": "T_qi71iOjrKg",
        "colab_type": "text"
      },
      "source": [
        "### **Merge Mahim to Bandra**"
      ]
    },
    {
      "cell_type": "code",
      "metadata": {
        "id": "JXUoIQVUjr9x",
        "colab_type": "code",
        "outputId": "9d7a9303-5a02-4e5b-c606-573efbaacf60",
        "colab": {
          "base_uri": "https://localhost:8080/",
          "height": 131
        }
      },
      "source": [
        "# Get coordinates of Bandra West\n",
        "\n",
        "Bandra = south_mumbai_venues\n",
        "Bandra = Bandra[Bandra.Neighborhood == 'Bandra West' ].head(1)\n",
        "Bandra_latitude = Bandra['Neighborhood Latitude'] \n",
        "Bandra_latitude = Bandra_latitude.iloc[0]\n",
        "Bandra_longitude = Bandra['Neighborhood Longitude'] \n",
        "Bandra_longitude = Bandra_longitude.iloc[0]\n",
        "print(\"Bandra latitude={} and longitude={}\".format(Bandra_latitude,Bandra_longitude))\n",
        "Bandra[Bandra.Neighborhood == 'Bandra West' ].head(1)"
      ],
      "execution_count": 0,
      "outputs": [
        {
          "output_type": "stream",
          "text": [
            "Bandra latitude=19.0583358 and longitude=72.8302669\n"
          ],
          "name": "stdout"
        },
        {
          "output_type": "execute_result",
          "data": {
            "text/html": [
              "<div>\n",
              "<style scoped>\n",
              "    .dataframe tbody tr th:only-of-type {\n",
              "        vertical-align: middle;\n",
              "    }\n",
              "\n",
              "    .dataframe tbody tr th {\n",
              "        vertical-align: top;\n",
              "    }\n",
              "\n",
              "    .dataframe thead th {\n",
              "        text-align: right;\n",
              "    }\n",
              "</style>\n",
              "<table border=\"1\" class=\"dataframe\">\n",
              "  <thead>\n",
              "    <tr style=\"text-align: right;\">\n",
              "      <th></th>\n",
              "      <th>level_0</th>\n",
              "      <th>index</th>\n",
              "      <th>Neighborhood</th>\n",
              "      <th>Neighborhood Latitude</th>\n",
              "      <th>Neighborhood Longitude</th>\n",
              "      <th>Venue</th>\n",
              "      <th>Venue Latitude</th>\n",
              "      <th>Venue Longitude</th>\n",
              "      <th>Venue Category</th>\n",
              "    </tr>\n",
              "  </thead>\n",
              "  <tbody>\n",
              "    <tr>\n",
              "      <th>425</th>\n",
              "      <td>425</td>\n",
              "      <td>614</td>\n",
              "      <td>Bandra West</td>\n",
              "      <td>19.058336</td>\n",
              "      <td>72.830267</td>\n",
              "      <td>Almeida Park</td>\n",
              "      <td>19.057656</td>\n",
              "      <td>72.831541</td>\n",
              "      <td>Park</td>\n",
              "    </tr>\n",
              "  </tbody>\n",
              "</table>\n",
              "</div>"
            ],
            "text/plain": [
              "     level_0  index  ... Venue Longitude  Venue Category\n",
              "425      425    614  ...       72.831541            Park\n",
              "\n",
              "[1 rows x 9 columns]"
            ]
          },
          "metadata": {
            "tags": []
          },
          "execution_count": 225
        }
      ]
    },
    {
      "cell_type": "code",
      "metadata": {
        "id": "Au_U6KL6j_3y",
        "colab_type": "code",
        "outputId": "56d0b4f9-f914-46c4-a000-36435a611f49",
        "colab": {
          "base_uri": "https://localhost:8080/",
          "height": 363
        }
      },
      "source": [
        "#south_mumbai_venues.loc[south_mumbai_venues['Neighborhood'] == 'Mahim']\n",
        "south_mumbai_venues.iloc[610:618]"
      ],
      "execution_count": 0,
      "outputs": [
        {
          "output_type": "execute_result",
          "data": {
            "text/html": [
              "<div>\n",
              "<style scoped>\n",
              "    .dataframe tbody tr th:only-of-type {\n",
              "        vertical-align: middle;\n",
              "    }\n",
              "\n",
              "    .dataframe tbody tr th {\n",
              "        vertical-align: top;\n",
              "    }\n",
              "\n",
              "    .dataframe thead th {\n",
              "        text-align: right;\n",
              "    }\n",
              "</style>\n",
              "<table border=\"1\" class=\"dataframe\">\n",
              "  <thead>\n",
              "    <tr style=\"text-align: right;\">\n",
              "      <th></th>\n",
              "      <th>level_0</th>\n",
              "      <th>index</th>\n",
              "      <th>Neighborhood</th>\n",
              "      <th>Neighborhood Latitude</th>\n",
              "      <th>Neighborhood Longitude</th>\n",
              "      <th>Venue</th>\n",
              "      <th>Venue Latitude</th>\n",
              "      <th>Venue Longitude</th>\n",
              "      <th>Venue Category</th>\n",
              "    </tr>\n",
              "  </thead>\n",
              "  <tbody>\n",
              "    <tr>\n",
              "      <th>611</th>\n",
              "      <td>611</td>\n",
              "      <td>822</td>\n",
              "      <td>Mahim</td>\n",
              "      <td>19.042314</td>\n",
              "      <td>72.839834</td>\n",
              "      <td>Baba Falooda</td>\n",
              "      <td>19.039995</td>\n",
              "      <td>72.841259</td>\n",
              "      <td>Dessert Shop</td>\n",
              "    </tr>\n",
              "    <tr>\n",
              "      <th>612</th>\n",
              "      <td>612</td>\n",
              "      <td>823</td>\n",
              "      <td>Mahim</td>\n",
              "      <td>19.042314</td>\n",
              "      <td>72.839834</td>\n",
              "      <td>Cafe Irani Chai</td>\n",
              "      <td>19.039096</td>\n",
              "      <td>72.842720</td>\n",
              "      <td>Breakfast Spot</td>\n",
              "    </tr>\n",
              "    <tr>\n",
              "      <th>613</th>\n",
              "      <td>613</td>\n",
              "      <td>827</td>\n",
              "      <td>Mahim</td>\n",
              "      <td>19.042314</td>\n",
              "      <td>72.839834</td>\n",
              "      <td>Domino's Pizza</td>\n",
              "      <td>19.040252</td>\n",
              "      <td>72.841394</td>\n",
              "      <td>Pizza Place</td>\n",
              "    </tr>\n",
              "    <tr>\n",
              "      <th>614</th>\n",
              "      <td>614</td>\n",
              "      <td>828</td>\n",
              "      <td>Mahim</td>\n",
              "      <td>19.042314</td>\n",
              "      <td>72.839834</td>\n",
              "      <td>Tazza Fast Food</td>\n",
              "      <td>19.039052</td>\n",
              "      <td>72.841866</td>\n",
              "      <td>Fast Food Restaurant</td>\n",
              "    </tr>\n",
              "    <tr>\n",
              "      <th>615</th>\n",
              "      <td>615</td>\n",
              "      <td>829</td>\n",
              "      <td>Mahim</td>\n",
              "      <td>19.042314</td>\n",
              "      <td>72.839834</td>\n",
              "      <td>Quarter House</td>\n",
              "      <td>19.037115</td>\n",
              "      <td>72.841462</td>\n",
              "      <td>Bar/Pub</td>\n",
              "    </tr>\n",
              "    <tr>\n",
              "      <th>616</th>\n",
              "      <td>616</td>\n",
              "      <td>830</td>\n",
              "      <td>Mahim</td>\n",
              "      <td>19.042314</td>\n",
              "      <td>72.839834</td>\n",
              "      <td>Xavier Institute of Engineering</td>\n",
              "      <td>19.045061</td>\n",
              "      <td>72.841716</td>\n",
              "      <td>Arcade</td>\n",
              "    </tr>\n",
              "    <tr>\n",
              "      <th>617</th>\n",
              "      <td>617</td>\n",
              "      <td>831</td>\n",
              "      <td>Mahim</td>\n",
              "      <td>19.042314</td>\n",
              "      <td>72.839834</td>\n",
              "      <td>Rediff.com</td>\n",
              "      <td>19.042069</td>\n",
              "      <td>72.842838</td>\n",
              "      <td>Office</td>\n",
              "    </tr>\n",
              "    <tr>\n",
              "      <th>618</th>\n",
              "      <td>618</td>\n",
              "      <td>832</td>\n",
              "      <td>Mahim</td>\n",
              "      <td>19.042314</td>\n",
              "      <td>72.839834</td>\n",
              "      <td>Mahim Railway Station</td>\n",
              "      <td>19.043431</td>\n",
              "      <td>72.844425</td>\n",
              "      <td>Train/Metro/Bus</td>\n",
              "    </tr>\n",
              "  </tbody>\n",
              "</table>\n",
              "</div>"
            ],
            "text/plain": [
              "     level_0  index  ... Venue Longitude        Venue Category\n",
              "611      611    822  ...       72.841259          Dessert Shop\n",
              "612      612    823  ...       72.842720        Breakfast Spot\n",
              "613      613    827  ...       72.841394           Pizza Place\n",
              "614      614    828  ...       72.841866  Fast Food Restaurant\n",
              "615      615    829  ...       72.841462               Bar/Pub\n",
              "616      616    830  ...       72.841716                Arcade\n",
              "617      617    831  ...       72.842838                Office\n",
              "618      618    832  ...       72.844425       Train/Metro/Bus\n",
              "\n",
              "[8 rows x 9 columns]"
            ]
          },
          "metadata": {
            "tags": []
          },
          "execution_count": 227
        }
      ]
    },
    {
      "cell_type": "code",
      "metadata": {
        "id": "eT4nLXPzkBY3",
        "colab_type": "code",
        "outputId": "15dc44c4-b753-4d04-ddc6-6efde1ca2044",
        "colab": {
          "base_uri": "https://localhost:8080/",
          "height": 52
        }
      },
      "source": [
        "#south_mumbai_venues.loc[south_mumbai_venues['Neighborhood'] == 'Mahim']\n",
        "south_mumbai_venues.loc[south_mumbai_venues['Neighborhood'] == 'Mahim', 'Neighborhood Latitude'] = Bandra_latitude\n",
        "south_mumbai_venues.loc[south_mumbai_venues['Neighborhood'] == 'Mahim', 'Neighborhood Longitude'] = Bandra_longitude\n",
        "south_mumbai_venues.loc[south_mumbai_venues['Neighborhood'] == 'Mahim', 'Neighborhood'] = 'Bandra West'\n",
        "#south_mumbai_venues[south_mumbai_venues.Neighborhood == 'Mahim']\n",
        "south_mumbai_venues.iloc[610:618]\n",
        "\n",
        "print(\"bef:\",south_mumbai_data.shape)\n",
        "south_mumbai_data = south_mumbai_data[south_mumbai_data.Neighborhood != 'Mahim']\n",
        "print(\"aft:\",south_mumbai_data.shape)"
      ],
      "execution_count": 0,
      "outputs": [
        {
          "output_type": "stream",
          "text": [
            "bef: (31, 5)\n",
            "aft: (30, 5)\n"
          ],
          "name": "stdout"
        }
      ]
    },
    {
      "cell_type": "markdown",
      "metadata": {
        "id": "ONYZm74EmAWl",
        "colab_type": "text"
      },
      "source": [
        "### **Merge Malabar Hill to Walkeshwar**"
      ]
    },
    {
      "cell_type": "code",
      "metadata": {
        "id": "qRwsNOkomC20",
        "colab_type": "code",
        "outputId": "eda50fe1-c8b3-4212-dad7-6c31520491ee",
        "colab": {
          "base_uri": "https://localhost:8080/",
          "height": 114
        }
      },
      "source": [
        "# Get coordinates of Bandra West\n",
        "\n",
        "Walkeshwar = south_mumbai_venues\n",
        "Walkeshwar = Walkeshwar[Walkeshwar.Neighborhood == 'Walkeshwar' ].head(1)\n",
        "Walkeshwar_latitude = Walkeshwar['Neighborhood Latitude'] \n",
        "Walkeshwar_latitude = Walkeshwar_latitude.iloc[0]\n",
        "Walkeshwar_longitude = Walkeshwar['Neighborhood Longitude'] \n",
        "Walkeshwar_longitude = Walkeshwar_longitude.iloc[0]\n",
        "print(\"Walkeshwar latitude={} and longitude={}\".format(Walkeshwar_latitude,Walkeshwar_longitude))\n",
        "Walkeshwar[Walkeshwar.Neighborhood == 'Walkeshwar' ].head(1)"
      ],
      "execution_count": 0,
      "outputs": [
        {
          "output_type": "stream",
          "text": [
            "Walkeshwar latitude=18.9553434 and longitude=72.8079469\n"
          ],
          "name": "stdout"
        },
        {
          "output_type": "execute_result",
          "data": {
            "text/html": [
              "<div>\n",
              "<style scoped>\n",
              "    .dataframe tbody tr th:only-of-type {\n",
              "        vertical-align: middle;\n",
              "    }\n",
              "\n",
              "    .dataframe tbody tr th {\n",
              "        vertical-align: top;\n",
              "    }\n",
              "\n",
              "    .dataframe thead th {\n",
              "        text-align: right;\n",
              "    }\n",
              "</style>\n",
              "<table border=\"1\" class=\"dataframe\">\n",
              "  <thead>\n",
              "    <tr style=\"text-align: right;\">\n",
              "      <th></th>\n",
              "      <th>level_0</th>\n",
              "      <th>index</th>\n",
              "      <th>Neighborhood</th>\n",
              "      <th>Neighborhood Latitude</th>\n",
              "      <th>Neighborhood Longitude</th>\n",
              "      <th>Venue</th>\n",
              "      <th>Venue Latitude</th>\n",
              "      <th>Venue Longitude</th>\n",
              "      <th>Venue Category</th>\n",
              "    </tr>\n",
              "  </thead>\n",
              "  <tbody>\n",
              "    <tr>\n",
              "      <th>247</th>\n",
              "      <td>247</td>\n",
              "      <td>317</td>\n",
              "      <td>Walkeshwar</td>\n",
              "      <td>18.955343</td>\n",
              "      <td>72.807947</td>\n",
              "      <td>Starbucks</td>\n",
              "      <td>18.956426</td>\n",
              "      <td>72.812065</td>\n",
              "      <td>Coffee Shop</td>\n",
              "    </tr>\n",
              "  </tbody>\n",
              "</table>\n",
              "</div>"
            ],
            "text/plain": [
              "     level_0  index  ... Venue Longitude  Venue Category\n",
              "247      247    317  ...       72.812065     Coffee Shop\n",
              "\n",
              "[1 rows x 9 columns]"
            ]
          },
          "metadata": {
            "tags": []
          },
          "execution_count": 229
        }
      ]
    },
    {
      "cell_type": "code",
      "metadata": {
        "id": "IDPBYXqkmDFA",
        "colab_type": "code",
        "outputId": "3fd198d5-3014-49ab-89be-632c6d83e606",
        "colab": {
          "base_uri": "https://localhost:8080/",
          "height": 511
        }
      },
      "source": [
        "#south_mumbai_venues.loc[south_mumbai_venues['Neighborhood'] == 'Malabar Hill']\n",
        "south_mumbai_venues.iloc[270:280]"
      ],
      "execution_count": 0,
      "outputs": [
        {
          "output_type": "execute_result",
          "data": {
            "text/html": [
              "<div>\n",
              "<style scoped>\n",
              "    .dataframe tbody tr th:only-of-type {\n",
              "        vertical-align: middle;\n",
              "    }\n",
              "\n",
              "    .dataframe tbody tr th {\n",
              "        vertical-align: top;\n",
              "    }\n",
              "\n",
              "    .dataframe thead th {\n",
              "        text-align: right;\n",
              "    }\n",
              "</style>\n",
              "<table border=\"1\" class=\"dataframe\">\n",
              "  <thead>\n",
              "    <tr style=\"text-align: right;\">\n",
              "      <th></th>\n",
              "      <th>level_0</th>\n",
              "      <th>index</th>\n",
              "      <th>Neighborhood</th>\n",
              "      <th>Neighborhood Latitude</th>\n",
              "      <th>Neighborhood Longitude</th>\n",
              "      <th>Venue</th>\n",
              "      <th>Venue Latitude</th>\n",
              "      <th>Venue Longitude</th>\n",
              "      <th>Venue Category</th>\n",
              "    </tr>\n",
              "  </thead>\n",
              "  <tbody>\n",
              "    <tr>\n",
              "      <th>270</th>\n",
              "      <td>270</td>\n",
              "      <td>345</td>\n",
              "      <td>Walkeshwar</td>\n",
              "      <td>18.955343</td>\n",
              "      <td>72.807947</td>\n",
              "      <td>HDFC Bank</td>\n",
              "      <td>18.953883</td>\n",
              "      <td>72.802378</td>\n",
              "      <td>Bank</td>\n",
              "    </tr>\n",
              "    <tr>\n",
              "      <th>271</th>\n",
              "      <td>271</td>\n",
              "      <td>347</td>\n",
              "      <td>Malabar Hill</td>\n",
              "      <td>18.958162</td>\n",
              "      <td>72.803366</td>\n",
              "      <td>Priyadarshini Park</td>\n",
              "      <td>18.957515</td>\n",
              "      <td>72.799614</td>\n",
              "      <td>Park</td>\n",
              "    </tr>\n",
              "    <tr>\n",
              "      <th>272</th>\n",
              "      <td>272</td>\n",
              "      <td>348</td>\n",
              "      <td>Malabar Hill</td>\n",
              "      <td>18.958162</td>\n",
              "      <td>72.803366</td>\n",
              "      <td>Santosh Sagar</td>\n",
              "      <td>18.961177</td>\n",
              "      <td>72.801425</td>\n",
              "      <td>Fast Food Restaurant</td>\n",
              "    </tr>\n",
              "    <tr>\n",
              "      <th>273</th>\n",
              "      <td>273</td>\n",
              "      <td>350</td>\n",
              "      <td>Malabar Hill</td>\n",
              "      <td>18.958162</td>\n",
              "      <td>72.803366</td>\n",
              "      <td>Country Of Origin</td>\n",
              "      <td>18.955266</td>\n",
              "      <td>72.798743</td>\n",
              "      <td>Dessert Shop</td>\n",
              "    </tr>\n",
              "    <tr>\n",
              "      <th>274</th>\n",
              "      <td>274</td>\n",
              "      <td>352</td>\n",
              "      <td>Malabar Hill</td>\n",
              "      <td>18.958162</td>\n",
              "      <td>72.803366</td>\n",
              "      <td>Naturals Ice Cream</td>\n",
              "      <td>18.962432</td>\n",
              "      <td>72.801471</td>\n",
              "      <td>Dessert Shop</td>\n",
              "    </tr>\n",
              "    <tr>\n",
              "      <th>275</th>\n",
              "      <td>275</td>\n",
              "      <td>355</td>\n",
              "      <td>Malabar Hill</td>\n",
              "      <td>18.958162</td>\n",
              "      <td>72.803366</td>\n",
              "      <td>210°Veg Gourmet Bakery</td>\n",
              "      <td>18.961828</td>\n",
              "      <td>72.802137</td>\n",
              "      <td>Bakery</td>\n",
              "    </tr>\n",
              "    <tr>\n",
              "      <th>276</th>\n",
              "      <td>276</td>\n",
              "      <td>357</td>\n",
              "      <td>Malabar Hill</td>\n",
              "      <td>18.958162</td>\n",
              "      <td>72.803366</td>\n",
              "      <td>Tune Up</td>\n",
              "      <td>18.954427</td>\n",
              "      <td>72.803509</td>\n",
              "      <td>Fitness/Gym/Spa</td>\n",
              "    </tr>\n",
              "    <tr>\n",
              "      <th>277</th>\n",
              "      <td>277</td>\n",
              "      <td>358</td>\n",
              "      <td>Malabar Hill</td>\n",
              "      <td>18.958162</td>\n",
              "      <td>72.803366</td>\n",
              "      <td>Contempory Arts</td>\n",
              "      <td>18.963036</td>\n",
              "      <td>72.803092</td>\n",
              "      <td>Arts &amp; Crafts Store</td>\n",
              "    </tr>\n",
              "    <tr>\n",
              "      <th>278</th>\n",
              "      <td>278</td>\n",
              "      <td>359</td>\n",
              "      <td>Malabar Hill</td>\n",
              "      <td>18.958162</td>\n",
              "      <td>72.803366</td>\n",
              "      <td>Tart</td>\n",
              "      <td>18.963942</td>\n",
              "      <td>72.803440</td>\n",
              "      <td>Bakery</td>\n",
              "    </tr>\n",
              "    <tr>\n",
              "      <th>279</th>\n",
              "      <td>279</td>\n",
              "      <td>362</td>\n",
              "      <td>Kalbadevi</td>\n",
              "      <td>18.949258</td>\n",
              "      <td>72.827938</td>\n",
              "      <td>Crawford Market</td>\n",
              "      <td>18.946761</td>\n",
              "      <td>72.831225</td>\n",
              "      <td>Market</td>\n",
              "    </tr>\n",
              "  </tbody>\n",
              "</table>\n",
              "</div>"
            ],
            "text/plain": [
              "     level_0  index  ... Venue Longitude        Venue Category\n",
              "270      270    345  ...       72.802378                  Bank\n",
              "271      271    347  ...       72.799614                  Park\n",
              "272      272    348  ...       72.801425  Fast Food Restaurant\n",
              "273      273    350  ...       72.798743          Dessert Shop\n",
              "274      274    352  ...       72.801471          Dessert Shop\n",
              "275      275    355  ...       72.802137                Bakery\n",
              "276      276    357  ...       72.803509       Fitness/Gym/Spa\n",
              "277      277    358  ...       72.803092   Arts & Crafts Store\n",
              "278      278    359  ...       72.803440                Bakery\n",
              "279      279    362  ...       72.831225                Market\n",
              "\n",
              "[10 rows x 9 columns]"
            ]
          },
          "metadata": {
            "tags": []
          },
          "execution_count": 234
        }
      ]
    },
    {
      "cell_type": "code",
      "metadata": {
        "id": "TR4_A28FmDTw",
        "colab_type": "code",
        "outputId": "1718dfbc-13f2-4371-f0e8-745d85c3c09e",
        "colab": {
          "base_uri": "https://localhost:8080/",
          "height": 52
        }
      },
      "source": [
        "#south_mumbai_venues.loc[south_mumbai_venues['Neighborhood'] == 'Malabar Hill']\n",
        "south_mumbai_venues.loc[south_mumbai_venues['Neighborhood'] == 'Malabar Hill', 'Neighborhood Latitude'] = Walkeshwar_latitude\n",
        "south_mumbai_venues.loc[south_mumbai_venues['Neighborhood'] == 'Malabar Hill', 'Neighborhood Longitude'] = Walkeshwar_longitude\n",
        "south_mumbai_venues.loc[south_mumbai_venues['Neighborhood'] == 'Malabar Hill', 'Neighborhood'] = 'Walkeshwar'\n",
        "#south_mumbai_venues[south_mumbai_venues.Neighborhood == 'Malabar Hill']\n",
        "south_mumbai_venues.iloc[270:280]\n",
        "\n",
        "print(\"bef:\",south_mumbai_data.shape)\n",
        "south_mumbai_data = south_mumbai_data[south_mumbai_data.Neighborhood != 'Malabar Hill']\n",
        "print(\"aft:\",south_mumbai_data.shape)"
      ],
      "execution_count": 0,
      "outputs": [
        {
          "output_type": "stream",
          "text": [
            "bef: (30, 5)\n",
            "aft: (29, 5)\n"
          ],
          "name": "stdout"
        }
      ]
    },
    {
      "cell_type": "markdown",
      "metadata": {
        "id": "_D0CctqizzMd",
        "colab_type": "text"
      },
      "source": [
        "### **Remove certain categories and check another iteration.**\n"
      ]
    },
    {
      "cell_type": "code",
      "metadata": {
        "id": "HoGHTZ6d6DcO",
        "colab_type": "code",
        "outputId": "c1350cfc-b612-4b82-9c6e-31d97de6ff12",
        "colab": {
          "base_uri": "https://localhost:8080/",
          "height": 35
        }
      },
      "source": [
        "venue_category = ['Bar/Pub','Coffee Shop','Restaurant','Fast Food Restaurant','Train/Metro/Bus','Café']\n",
        "test_df = south_mumbai_venues\n",
        "test_df = test_df[test_df['Venue Category'].isin(venue_category) == False]\n",
        "test_df.shape\n",
        "south_mumbai_venues = test_df\n",
        "south_mumbai_venues.shape"
      ],
      "execution_count": 0,
      "outputs": [
        {
          "output_type": "execute_result",
          "data": {
            "text/plain": [
              "(616, 9)"
            ]
          },
          "metadata": {
            "tags": []
          },
          "execution_count": 332
        }
      ]
    },
    {
      "cell_type": "code",
      "metadata": {
        "id": "xXzyLKNY6GSr",
        "colab_type": "code",
        "colab": {}
      },
      "source": [
        "test_df.to_csv(\"groupby_nbhood.csv\")"
      ],
      "execution_count": 0,
      "outputs": []
    },
    {
      "cell_type": "code",
      "metadata": {
        "id": "OrRGKK_akUI6",
        "colab_type": "code",
        "colab": {}
      },
      "source": [
        "south_mumbai_venues.to_csv(\"south_mumbai_venues_merge1.csv\")"
      ],
      "execution_count": 0,
      "outputs": []
    },
    {
      "cell_type": "markdown",
      "metadata": {
        "id": "tRwAJkflsZgB",
        "colab_type": "text"
      },
      "source": [
        "## **Analyze Each Neighborhood of Mumbai.**"
      ]
    },
    {
      "cell_type": "code",
      "metadata": {
        "id": "QeCtyWSFbIiL",
        "colab_type": "code",
        "outputId": "6d1f65c7-eccb-4f8e-cec5-bc062deb4879",
        "colab": {
          "base_uri": "https://localhost:8080/",
          "height": 35
        }
      },
      "source": [
        "# one hot encoding\n",
        "south_mumbai_onehot = pd.get_dummies(south_mumbai_venues[['Venue Category']], prefix=\"\", prefix_sep=\"\")\n",
        "\n",
        "# add neighborhood column back to dataframe\n",
        "south_mumbai_onehot['Neighborhood'] = south_mumbai_venues['Neighborhood'] \n",
        "\n",
        "# move neighborhood column to the first column\n",
        "fixed_columns = [south_mumbai_onehot.columns[-1]] + list(south_mumbai_onehot.columns[:-1])\n",
        "south_mumbai_onehot = south_mumbai_onehot[fixed_columns]\n",
        "\n",
        "south_mumbai_onehot.shape\n"
      ],
      "execution_count": 0,
      "outputs": [
        {
          "output_type": "execute_result",
          "data": {
            "text/plain": [
              "(616, 131)"
            ]
          },
          "metadata": {
            "tags": []
          },
          "execution_count": 333
        }
      ]
    },
    {
      "cell_type": "code",
      "metadata": {
        "id": "yudeqWF-b3ap",
        "colab_type": "code",
        "outputId": "970f7a23-0836-4710-fc09-47788702647d",
        "colab": {
          "base_uri": "https://localhost:8080/",
          "height": 35
        }
      },
      "source": [
        "#And let's examine the new dataframe size.\n",
        "south_mumbai_onehot.shape  "
      ],
      "execution_count": 0,
      "outputs": [
        {
          "output_type": "execute_result",
          "data": {
            "text/plain": [
              "(616, 131)"
            ]
          },
          "metadata": {
            "tags": []
          },
          "execution_count": 334
        }
      ]
    },
    {
      "cell_type": "markdown",
      "metadata": {
        "id": "OAj4WLORs0bn",
        "colab_type": "text"
      },
      "source": [
        "# **Group rows by neighborhood.**"
      ]
    },
    {
      "cell_type": "markdown",
      "metadata": {
        "id": "N1SN8xmWs7ps",
        "colab_type": "text"
      },
      "source": [
        "### **Take mean of the frequency of occurrence of each category.**"
      ]
    },
    {
      "cell_type": "code",
      "metadata": {
        "id": "Cedj_WOWcNxI",
        "colab_type": "code",
        "outputId": "79dd3295-ff9d-41f5-88cd-fb9275204911",
        "colab": {
          "base_uri": "https://localhost:8080/",
          "height": 163
        }
      },
      "source": [
        "south_mumbai_grouped = south_mumbai_onehot.groupby('Neighborhood').mean().reset_index()\n",
        "south_mumbai_grouped.head(1)"
      ],
      "execution_count": 0,
      "outputs": [
        {
          "output_type": "execute_result",
          "data": {
            "text/html": [
              "<div>\n",
              "<style scoped>\n",
              "    .dataframe tbody tr th:only-of-type {\n",
              "        vertical-align: middle;\n",
              "    }\n",
              "\n",
              "    .dataframe tbody tr th {\n",
              "        vertical-align: top;\n",
              "    }\n",
              "\n",
              "    .dataframe thead th {\n",
              "        text-align: right;\n",
              "    }\n",
              "</style>\n",
              "<table border=\"1\" class=\"dataframe\">\n",
              "  <thead>\n",
              "    <tr style=\"text-align: right;\">\n",
              "      <th></th>\n",
              "      <th>Neighborhood</th>\n",
              "      <th>Accessories Store</th>\n",
              "      <th>African Restaurant</th>\n",
              "      <th>American Restaurant</th>\n",
              "      <th>Amphitheater</th>\n",
              "      <th>Aquarium</th>\n",
              "      <th>Arcade</th>\n",
              "      <th>Art Gallery</th>\n",
              "      <th>Arts &amp; Crafts Store</th>\n",
              "      <th>Asian Restaurant</th>\n",
              "      <th>BBQ Joint</th>\n",
              "      <th>Bagel Shop</th>\n",
              "      <th>Bakery</th>\n",
              "      <th>Bank</th>\n",
              "      <th>Beach</th>\n",
              "      <th>Bed &amp; Breakfast</th>\n",
              "      <th>Beer Bar</th>\n",
              "      <th>Beer Garden</th>\n",
              "      <th>Bengali Restaurant</th>\n",
              "      <th>Bistro</th>\n",
              "      <th>Boat or Ferry</th>\n",
              "      <th>Bookstore</th>\n",
              "      <th>Boutique</th>\n",
              "      <th>Breakfast Spot</th>\n",
              "      <th>Brewery</th>\n",
              "      <th>Bridal Shop</th>\n",
              "      <th>Burger Joint</th>\n",
              "      <th>Burrito Place</th>\n",
              "      <th>Chaat Place</th>\n",
              "      <th>Cheese Shop</th>\n",
              "      <th>Chinese Restaurant</th>\n",
              "      <th>Clothing Store</th>\n",
              "      <th>Club House</th>\n",
              "      <th>College Academic Building</th>\n",
              "      <th>College Auditorium</th>\n",
              "      <th>Comedy Club</th>\n",
              "      <th>Comfort Food Restaurant</th>\n",
              "      <th>Convenience Store</th>\n",
              "      <th>Creperie</th>\n",
              "      <th>Cupcake Shop</th>\n",
              "      <th>...</th>\n",
              "      <th>Movie Theater</th>\n",
              "      <th>Mughlai Restaurant</th>\n",
              "      <th>Multiplex</th>\n",
              "      <th>Music Store</th>\n",
              "      <th>Music Venue</th>\n",
              "      <th>Nightclub</th>\n",
              "      <th>North Indian Restaurant</th>\n",
              "      <th>Office</th>\n",
              "      <th>Other Great Outdoors</th>\n",
              "      <th>Outdoors &amp; Recreation</th>\n",
              "      <th>Park</th>\n",
              "      <th>Parsi Restaurant</th>\n",
              "      <th>Performing Arts Venue</th>\n",
              "      <th>Pizza Place</th>\n",
              "      <th>Platform</th>\n",
              "      <th>Plaza</th>\n",
              "      <th>Pool</th>\n",
              "      <th>Salad Place</th>\n",
              "      <th>Salon / Barbershop</th>\n",
              "      <th>Sandwich Place</th>\n",
              "      <th>Scenic Lookout</th>\n",
              "      <th>Sculpture Garden</th>\n",
              "      <th>Seafood Restaurant</th>\n",
              "      <th>Shoe Store</th>\n",
              "      <th>Shop &amp; Service</th>\n",
              "      <th>Shopping Mall</th>\n",
              "      <th>Smoke Shop</th>\n",
              "      <th>Snack Place</th>\n",
              "      <th>Spanish Restaurant</th>\n",
              "      <th>Sports</th>\n",
              "      <th>Steakhouse</th>\n",
              "      <th>Tea Room</th>\n",
              "      <th>Temple</th>\n",
              "      <th>Tex-Mex Restaurant</th>\n",
              "      <th>Thai Restaurant</th>\n",
              "      <th>Theater</th>\n",
              "      <th>Tourist Information Center</th>\n",
              "      <th>Vegetarian / Vegan Restaurant</th>\n",
              "      <th>Women's Store</th>\n",
              "      <th>Zoo</th>\n",
              "    </tr>\n",
              "  </thead>\n",
              "  <tbody>\n",
              "    <tr>\n",
              "      <th>0</th>\n",
              "      <td>Andheri</td>\n",
              "      <td>0.0</td>\n",
              "      <td>0.0</td>\n",
              "      <td>0.0</td>\n",
              "      <td>0.0</td>\n",
              "      <td>0.0</td>\n",
              "      <td>0.0</td>\n",
              "      <td>0.0</td>\n",
              "      <td>0.0</td>\n",
              "      <td>0.0</td>\n",
              "      <td>0.0</td>\n",
              "      <td>0.0</td>\n",
              "      <td>0.1</td>\n",
              "      <td>0.0</td>\n",
              "      <td>0.0</td>\n",
              "      <td>0.0</td>\n",
              "      <td>0.0</td>\n",
              "      <td>0.0</td>\n",
              "      <td>0.0</td>\n",
              "      <td>0.0</td>\n",
              "      <td>0.0</td>\n",
              "      <td>0.0</td>\n",
              "      <td>0.0</td>\n",
              "      <td>0.0</td>\n",
              "      <td>0.0</td>\n",
              "      <td>0.0</td>\n",
              "      <td>0.1</td>\n",
              "      <td>0.0</td>\n",
              "      <td>0.0</td>\n",
              "      <td>0.0</td>\n",
              "      <td>0.0</td>\n",
              "      <td>0.0</td>\n",
              "      <td>0.0</td>\n",
              "      <td>0.0</td>\n",
              "      <td>0.0</td>\n",
              "      <td>0.0</td>\n",
              "      <td>0.0</td>\n",
              "      <td>0.0</td>\n",
              "      <td>0.0</td>\n",
              "      <td>0.0</td>\n",
              "      <td>...</td>\n",
              "      <td>0.0</td>\n",
              "      <td>0.0</td>\n",
              "      <td>0.0</td>\n",
              "      <td>0.0</td>\n",
              "      <td>0.0</td>\n",
              "      <td>0.0</td>\n",
              "      <td>0.0</td>\n",
              "      <td>0.0</td>\n",
              "      <td>0.0</td>\n",
              "      <td>0.0</td>\n",
              "      <td>0.0</td>\n",
              "      <td>0.0</td>\n",
              "      <td>0.0</td>\n",
              "      <td>0.0</td>\n",
              "      <td>0.1</td>\n",
              "      <td>0.0</td>\n",
              "      <td>0.0</td>\n",
              "      <td>0.0</td>\n",
              "      <td>0.0</td>\n",
              "      <td>0.1</td>\n",
              "      <td>0.0</td>\n",
              "      <td>0.0</td>\n",
              "      <td>0.0</td>\n",
              "      <td>0.0</td>\n",
              "      <td>0.1</td>\n",
              "      <td>0.0</td>\n",
              "      <td>0.0</td>\n",
              "      <td>0.1</td>\n",
              "      <td>0.0</td>\n",
              "      <td>0.0</td>\n",
              "      <td>0.0</td>\n",
              "      <td>0.0</td>\n",
              "      <td>0.0</td>\n",
              "      <td>0.0</td>\n",
              "      <td>0.0</td>\n",
              "      <td>0.0</td>\n",
              "      <td>0.1</td>\n",
              "      <td>0.0</td>\n",
              "      <td>0.0</td>\n",
              "      <td>0.0</td>\n",
              "    </tr>\n",
              "  </tbody>\n",
              "</table>\n",
              "<p>1 rows × 131 columns</p>\n",
              "</div>"
            ],
            "text/plain": [
              "  Neighborhood  Accessories Store  ...  Women's Store  Zoo\n",
              "0      Andheri                0.0  ...            0.0  0.0\n",
              "\n",
              "[1 rows x 131 columns]"
            ]
          },
          "metadata": {
            "tags": []
          },
          "execution_count": 335
        }
      ]
    },
    {
      "cell_type": "code",
      "metadata": {
        "id": "VymcjiDFecLI",
        "colab_type": "code",
        "outputId": "7bd939ea-49af-420e-cda5-f56279e2eeda",
        "colab": {
          "base_uri": "https://localhost:8080/",
          "height": 1000
        }
      },
      "source": [
        "## Let's print each neighborhood along with the top 5 most common venues\n",
        "\n",
        "num_top_venues = 5\n",
        "\n",
        "for hood in south_mumbai_grouped['Neighborhood']:\n",
        "    print(\"----\"+hood+\"----\")\n",
        "    temp = south_mumbai_grouped[south_mumbai_grouped['Neighborhood'] == hood].T.reset_index()\n",
        "    temp.columns = ['venue','freq']\n",
        "    temp = temp.iloc[1:]\n",
        "    temp['freq'] = temp['freq'].astype(float)\n",
        "    temp = temp.round({'freq': 2})\n",
        "    print(temp.sort_values('freq', ascending=False).reset_index(drop=True).head(num_top_venues))\n",
        "    print('\\n')"
      ],
      "execution_count": 0,
      "outputs": [
        {
          "output_type": "stream",
          "text": [
            "----Andheri----\n",
            "                        venue  freq\n",
            "0                 Snack Place   0.1\n",
            "1                Burger Joint   0.1\n",
            "2  Tourist Information Center   0.1\n",
            "3                Dessert Shop   0.1\n",
            "4              Shop & Service   0.1\n",
            "\n",
            "\n",
            "----Apollo Bandar----\n",
            "                venue  freq\n",
            "0               Hotel  0.19\n",
            "1       Boat or Ferry  0.09\n",
            "2  Mughlai Restaurant  0.06\n",
            "3  Chinese Restaurant  0.06\n",
            "4     Fitness/Gym/Spa  0.06\n",
            "\n",
            "\n",
            "----Bandra West----\n",
            "                venue  freq\n",
            "0              Bakery  0.09\n",
            "1         Pizza Place  0.06\n",
            "2    Asian Restaurant  0.06\n",
            "3  Chinese Restaurant  0.06\n",
            "4        Dessert Shop  0.04\n",
            "\n",
            "\n",
            "----Bhuleshwar----\n",
            "                venue  freq\n",
            "0   Indian Sweet Shop   0.1\n",
            "1               Hotel   0.1\n",
            "2           Juice Bar   0.1\n",
            "3         Snack Place   0.1\n",
            "4  Chinese Restaurant   0.1\n",
            "\n",
            "\n",
            "----Borivali----\n",
            "                venue  freq\n",
            "0      Ice Cream Shop  0.14\n",
            "1         Snack Place  0.09\n",
            "2      Clothing Store  0.09\n",
            "3  Chinese Restaurant  0.09\n",
            "4      Sandwich Place  0.09\n",
            "\n",
            "\n",
            "----Chembur----\n",
            "                           venue  freq\n",
            "0                Fitness/Gym/Spa  0.12\n",
            "1             Seafood Restaurant  0.12\n",
            "2  Vegetarian / Vegan Restaurant  0.08\n",
            "3                    Snack Place  0.08\n",
            "4              Accessories Store  0.04\n",
            "\n",
            "\n",
            "----Churchgate----\n",
            "                venue  freq\n",
            "0              Sports  0.18\n",
            "1               Hotel  0.11\n",
            "2      Ice Cream Shop  0.11\n",
            "3  Italian Restaurant  0.08\n",
            "4       Movie Theater  0.05\n",
            "\n",
            "\n",
            "----Colaba----\n",
            "                venue  freq\n",
            "0     Fitness/Gym/Spa  0.14\n",
            "1               Diner  0.09\n",
            "2               Hotel  0.09\n",
            "3  Chinese Restaurant  0.09\n",
            "4  Italian Restaurant  0.05\n",
            "\n",
            "\n",
            "----Dadar----\n",
            "                           venue  freq\n",
            "0                 Breakfast Spot  0.11\n",
            "1  Vegetarian / Vegan Restaurant  0.11\n",
            "2                  Movie Theater  0.11\n",
            "3                          Plaza  0.06\n",
            "4                 Sandwich Place  0.06\n",
            "\n",
            "\n",
            "----Fort----\n",
            "                venue  freq\n",
            "0  Seafood Restaurant  0.08\n",
            "1  Chinese Restaurant  0.08\n",
            "2        Dessert Shop  0.06\n",
            "3              Lounge  0.04\n",
            "4               Plaza  0.04\n",
            "\n",
            "\n",
            "----Ghatkopar----\n",
            "               venue  freq\n",
            "0          Juice Bar  0.15\n",
            "1        Pizza Place  0.15\n",
            "2  Accessories Store  0.08\n",
            "3       Dessert Shop  0.08\n",
            "4        Men's Store  0.08\n",
            "\n",
            "\n",
            "----Jogeshwari----\n",
            "                venue  freq\n",
            "0      Ice Cream Shop   0.2\n",
            "1  Chinese Restaurant   0.2\n",
            "2         Pizza Place   0.2\n",
            "3    Asian Restaurant   0.2\n",
            "4  Mughlai Restaurant   0.2\n",
            "\n",
            "\n",
            "----Juhu----\n",
            "                venue  freq\n",
            "0     Fitness/Gym/Spa  0.16\n",
            "1               Hotel  0.11\n",
            "2  Chinese Restaurant  0.09\n",
            "3              Lounge  0.07\n",
            "4      Clothing Store  0.05\n",
            "\n",
            "\n",
            "----Kalbadevi----\n",
            "                 venue  freq\n",
            "0            Multiplex  0.17\n",
            "1  American Restaurant  0.17\n",
            "2                 Food  0.17\n",
            "3          Cheese Shop  0.17\n",
            "4       Ice Cream Shop  0.17\n",
            "\n",
            "\n",
            "----Khar----\n",
            "          venue  freq\n",
            "0        Lounge  0.14\n",
            "1        Bakery  0.07\n",
            "2      Beer Bar  0.07\n",
            "3  Dessert Shop  0.07\n",
            "4  Amphitheater  0.07\n",
            "\n",
            "\n",
            "----Kurla----\n",
            "                           venue  freq\n",
            "0             Chinese Restaurant   0.2\n",
            "1                     Shoe Store   0.1\n",
            "2              Electronics Store   0.1\n",
            "3             Seafood Restaurant   0.1\n",
            "4  Vegetarian / Vegan Restaurant   0.1\n",
            "\n",
            "\n",
            "----Mahalaxmi----\n",
            "                      venue  freq\n",
            "0           Fitness/Gym/Spa   0.2\n",
            "1                 Nightclub   0.2\n",
            "2  Mediterranean Restaurant   0.2\n",
            "3          Asian Restaurant   0.2\n",
            "4                Club House   0.2\n",
            "\n",
            "\n",
            "----Marine Lines----\n",
            "            venue  freq\n",
            "0      Food Truck  0.15\n",
            "1          Bakery  0.15\n",
            "2  Scenic Lookout  0.08\n",
            "3     Bridal Shop  0.08\n",
            "4        Aquarium  0.08\n",
            "\n",
            "\n",
            "----Masjid Bandar----\n",
            "               venue  freq\n",
            "0    Harbor / Marina  0.31\n",
            "1          Juice Bar  0.15\n",
            "2  Convenience Store  0.15\n",
            "3     Sandwich Place  0.08\n",
            "4              Hotel  0.08\n",
            "\n",
            "\n",
            "----Mazgaon----\n",
            "                 venue  freq\n",
            "0  Government Building   0.1\n",
            "1   Chinese Restaurant   0.1\n",
            "2          Flea Market   0.1\n",
            "3    Convenience Store   0.1\n",
            "4           Food Truck   0.1\n",
            "\n",
            "\n",
            "----Mira Road----\n",
            "                venue  freq\n",
            "0      Clothing Store  0.11\n",
            "1     Fitness/Gym/Spa  0.07\n",
            "2  Chinese Restaurant  0.07\n",
            "3          Shoe Store  0.04\n",
            "4       Shopping Mall  0.04\n",
            "\n",
            "\n",
            "----Mulund West----\n",
            "           venue  freq\n",
            "0   Dessert Shop   0.2\n",
            "1        Theater   0.2\n",
            "2    Music Venue   0.1\n",
            "3  Shopping Mall   0.1\n",
            "4    Snack Place   0.1\n",
            "\n",
            "\n",
            "----Mumbai Central----\n",
            "                           venue  freq\n",
            "0                 Ice Cream Shop  0.18\n",
            "1                    Pizza Place  0.09\n",
            "2                    Snack Place  0.09\n",
            "3  Vegetarian / Vegan Restaurant  0.09\n",
            "4               Department Store  0.09\n",
            "\n",
            "\n",
            "----Nagpada----\n",
            "                venue  freq\n",
            "0               Hotel  0.13\n",
            "1              Bakery  0.09\n",
            "2         Pizza Place  0.09\n",
            "3    Department Store  0.09\n",
            "4  Chinese Restaurant  0.09\n",
            "\n",
            "\n",
            "----Nariman Point----\n",
            "                      venue  freq\n",
            "0        Italian Restaurant  0.11\n",
            "1                   Theater  0.11\n",
            "2                     Hotel  0.11\n",
            "3  Mediterranean Restaurant  0.07\n",
            "4                    Sports  0.07\n",
            "\n",
            "\n",
            "----Powai----\n",
            "                venue  freq\n",
            "0      Ice Cream Shop  0.07\n",
            "1     Fitness/Gym/Spa  0.07\n",
            "2  Chinese Restaurant  0.07\n",
            "3              Bakery  0.07\n",
            "4          Donut Shop  0.05\n",
            "\n",
            "\n",
            "----Santa Cruz----\n",
            "                   venue  freq\n",
            "0                  Hotel  0.21\n",
            "1        Fitness/Gym/Spa  0.14\n",
            "2                 Bakery  0.07\n",
            "3  Outdoors & Recreation  0.07\n",
            "4        Thai Restaurant  0.07\n",
            "\n",
            "\n",
            "----Walkeshwar----\n",
            "            venue  freq\n",
            "0            Park  0.08\n",
            "1  Ice Cream Shop  0.08\n",
            "2    Dessert Shop  0.08\n",
            "3          Bakery  0.08\n",
            "4     Snack Place  0.04\n",
            "\n",
            "\n",
            "----Worli----\n",
            "               venue  freq\n",
            "0     Scenic Lookout   0.4\n",
            "1  French Restaurant   0.1\n",
            "2             Arcade   0.1\n",
            "3        Art Gallery   0.1\n",
            "4              Hotel   0.1\n",
            "\n",
            "\n"
          ],
          "name": "stdout"
        }
      ]
    },
    {
      "cell_type": "markdown",
      "metadata": {
        "id": "Xacwv4rJtol2",
        "colab_type": "text"
      },
      "source": [
        "## **Let's put that into a pandas dataframe.**"
      ]
    },
    {
      "cell_type": "markdown",
      "metadata": {
        "id": "o1HxuRVWt1-S",
        "colab_type": "text"
      },
      "source": [
        "## **Let's write a function to sort the venues in descending order.**"
      ]
    },
    {
      "cell_type": "code",
      "metadata": {
        "id": "9JBYacH2fx36",
        "colab_type": "code",
        "colab": {}
      },
      "source": [
        "\n",
        "def return_most_common_venues(row, num_top_venues):\n",
        "    row_categories = row.iloc[1:]\n",
        "    row_categories_sorted = row_categories.sort_values(ascending=False)\n",
        "    \n",
        "    return row_categories_sorted.index.values[0:num_top_venues]"
      ],
      "execution_count": 0,
      "outputs": []
    },
    {
      "cell_type": "markdown",
      "metadata": {
        "id": "GnnGlEkAuEGO",
        "colab_type": "text"
      },
      "source": [
        "# **Display the top 10 venues for each neighborhood.**"
      ]
    },
    {
      "cell_type": "code",
      "metadata": {
        "id": "4-fWZhI-f3Yf",
        "colab_type": "code",
        "outputId": "3540d35d-3dcf-4d81-9e51-eeb1305d925d",
        "colab": {
          "base_uri": "https://localhost:8080/",
          "height": 413
        }
      },
      "source": [
        "num_top_venues = 10\n",
        "\n",
        "indicators = ['st', 'nd', 'rd']\n",
        "\n",
        "# create columns according to number of top venues\n",
        "columns = ['Neighborhood']\n",
        "for ind in np.arange(num_top_venues):\n",
        "    try:\n",
        "        columns.append('{}{} Most Common Venue'.format(ind+1, indicators[ind]))\n",
        "    except:\n",
        "        columns.append('{}th Most Common Venue'.format(ind+1))\n",
        "\n",
        "# create a new dataframe\n",
        "neighborhoods_venues_sorted = pd.DataFrame(columns=columns)\n",
        "neighborhoods_venues_sorted['Neighborhood'] = south_mumbai_grouped['Neighborhood']\n",
        "\n",
        "for ind in np.arange(south_mumbai_grouped.shape[0]):\n",
        "    neighborhoods_venues_sorted.iloc[ind, 1:] = return_most_common_venues(south_mumbai_grouped.iloc[ind, :], num_top_venues)\n",
        "\n",
        "neighborhoods_venues_sorted.head()\n"
      ],
      "execution_count": 0,
      "outputs": [
        {
          "output_type": "execute_result",
          "data": {
            "text/html": [
              "<div>\n",
              "<style scoped>\n",
              "    .dataframe tbody tr th:only-of-type {\n",
              "        vertical-align: middle;\n",
              "    }\n",
              "\n",
              "    .dataframe tbody tr th {\n",
              "        vertical-align: top;\n",
              "    }\n",
              "\n",
              "    .dataframe thead th {\n",
              "        text-align: right;\n",
              "    }\n",
              "</style>\n",
              "<table border=\"1\" class=\"dataframe\">\n",
              "  <thead>\n",
              "    <tr style=\"text-align: right;\">\n",
              "      <th></th>\n",
              "      <th>Neighborhood</th>\n",
              "      <th>1st Most Common Venue</th>\n",
              "      <th>2nd Most Common Venue</th>\n",
              "      <th>3rd Most Common Venue</th>\n",
              "      <th>4th Most Common Venue</th>\n",
              "      <th>5th Most Common Venue</th>\n",
              "      <th>6th Most Common Venue</th>\n",
              "      <th>7th Most Common Venue</th>\n",
              "      <th>8th Most Common Venue</th>\n",
              "      <th>9th Most Common Venue</th>\n",
              "      <th>10th Most Common Venue</th>\n",
              "    </tr>\n",
              "  </thead>\n",
              "  <tbody>\n",
              "    <tr>\n",
              "      <th>0</th>\n",
              "      <td>Andheri</td>\n",
              "      <td>Dessert Shop</td>\n",
              "      <td>Sandwich Place</td>\n",
              "      <td>Tourist Information Center</td>\n",
              "      <td>Platform</td>\n",
              "      <td>Ice Cream Shop</td>\n",
              "      <td>Food Court</td>\n",
              "      <td>Burger Joint</td>\n",
              "      <td>Shop &amp; Service</td>\n",
              "      <td>Bakery</td>\n",
              "      <td>Snack Place</td>\n",
              "    </tr>\n",
              "    <tr>\n",
              "      <th>1</th>\n",
              "      <td>Apollo Bandar</td>\n",
              "      <td>Hotel</td>\n",
              "      <td>Boat or Ferry</td>\n",
              "      <td>Mughlai Restaurant</td>\n",
              "      <td>Chinese Restaurant</td>\n",
              "      <td>Fitness/Gym/Spa</td>\n",
              "      <td>Mexican Restaurant</td>\n",
              "      <td>Nightclub</td>\n",
              "      <td>Mediterranean Restaurant</td>\n",
              "      <td>Lounge</td>\n",
              "      <td>Juice Bar</td>\n",
              "    </tr>\n",
              "    <tr>\n",
              "      <th>2</th>\n",
              "      <td>Bandra West</td>\n",
              "      <td>Bakery</td>\n",
              "      <td>Pizza Place</td>\n",
              "      <td>Chinese Restaurant</td>\n",
              "      <td>Asian Restaurant</td>\n",
              "      <td>Dessert Shop</td>\n",
              "      <td>Fitness/Gym/Spa</td>\n",
              "      <td>Seafood Restaurant</td>\n",
              "      <td>Arcade</td>\n",
              "      <td>Gourmet Shop</td>\n",
              "      <td>Snack Place</td>\n",
              "    </tr>\n",
              "    <tr>\n",
              "      <th>3</th>\n",
              "      <td>Bhuleshwar</td>\n",
              "      <td>BBQ Joint</td>\n",
              "      <td>Dessert Shop</td>\n",
              "      <td>Indian Sweet Shop</td>\n",
              "      <td>Ice Cream Shop</td>\n",
              "      <td>Hotel</td>\n",
              "      <td>Market</td>\n",
              "      <td>Snack Place</td>\n",
              "      <td>Juice Bar</td>\n",
              "      <td>Arcade</td>\n",
              "      <td>Chinese Restaurant</td>\n",
              "    </tr>\n",
              "    <tr>\n",
              "      <th>4</th>\n",
              "      <td>Borivali</td>\n",
              "      <td>Ice Cream Shop</td>\n",
              "      <td>Clothing Store</td>\n",
              "      <td>Chinese Restaurant</td>\n",
              "      <td>Juice Bar</td>\n",
              "      <td>Sandwich Place</td>\n",
              "      <td>Snack Place</td>\n",
              "      <td>Lounge</td>\n",
              "      <td>Vegetarian / Vegan Restaurant</td>\n",
              "      <td>Theater</td>\n",
              "      <td>Food Truck</td>\n",
              "    </tr>\n",
              "  </tbody>\n",
              "</table>\n",
              "</div>"
            ],
            "text/plain": [
              "    Neighborhood  ... 10th Most Common Venue\n",
              "0        Andheri  ...            Snack Place\n",
              "1  Apollo Bandar  ...              Juice Bar\n",
              "2    Bandra West  ...            Snack Place\n",
              "3     Bhuleshwar  ...     Chinese Restaurant\n",
              "4       Borivali  ...             Food Truck\n",
              "\n",
              "[5 rows x 11 columns]"
            ]
          },
          "metadata": {
            "tags": []
          },
          "execution_count": 338
        }
      ]
    },
    {
      "cell_type": "markdown",
      "metadata": {
        "id": "Qs5mPJkb1Kal",
        "colab_type": "text"
      },
      "source": [
        "# **Cluster Neighborhood**"
      ]
    },
    {
      "cell_type": "markdown",
      "metadata": {
        "id": "4jDpgafq1S1i",
        "colab_type": "text"
      },
      "source": [
        "## **Run k-means. Adjusting number of clusters to optimum.**"
      ]
    },
    {
      "cell_type": "code",
      "metadata": {
        "id": "gVtUo7OAlOUn",
        "colab_type": "code",
        "outputId": "2e36f75c-bcce-48c8-84b7-e34c6eb0d79c",
        "colab": {
          "base_uri": "https://localhost:8080/",
          "height": 35
        }
      },
      "source": [
        "kclusters = 5\n",
        "south_mumbai_grouped_clustering = south_mumbai_grouped.drop('Neighborhood', 1)\n",
        "\n",
        "# run k-means clustering\n",
        "kmeans = KMeans(n_clusters=kclusters, random_state=0).fit(south_mumbai_grouped_clustering)\n",
        "\n",
        "# check cluster labels generated for each row in the dataframe\n",
        "kmeans.labels_[0:10] \n"
      ],
      "execution_count": 0,
      "outputs": [
        {
          "output_type": "execute_result",
          "data": {
            "text/plain": [
              "array([0, 1, 3, 0, 0, 3, 1, 3, 3, 3], dtype=int32)"
            ]
          },
          "metadata": {
            "tags": []
          },
          "execution_count": 339
        }
      ]
    },
    {
      "cell_type": "markdown",
      "metadata": {
        "id": "nurDxXQtuuzF",
        "colab_type": "text"
      },
      "source": [
        "## **Let's create a new dataframe that includes the cluster as well as the top 10 venues for each neighborhood.**"
      ]
    },
    {
      "cell_type": "markdown",
      "metadata": {
        "id": "17hMPQSJu5pW",
        "colab_type": "text"
      },
      "source": [
        "## **Add clustering labels.**"
      ]
    },
    {
      "cell_type": "code",
      "metadata": {
        "id": "neGaBfXhlkWw",
        "colab_type": "code",
        "colab": {}
      },
      "source": [
        "neighborhoods_venues_sorted.insert(0, 'Cluster Labels', kmeans.labels_)"
      ],
      "execution_count": 0,
      "outputs": []
    },
    {
      "cell_type": "markdown",
      "metadata": {
        "id": "R5zAQjQfvMa3",
        "colab_type": "text"
      },
      "source": [
        "## **Now merge both dataframes.**"
      ]
    },
    {
      "cell_type": "code",
      "metadata": {
        "id": "rncu9pGkrzg3",
        "colab_type": "code",
        "outputId": "a46d0ddd-b3f7-4a74-f71a-5050ef34f9a3",
        "colab": {
          "base_uri": "https://localhost:8080/",
          "height": 110
        }
      },
      "source": [
        "south_mumbai_data.head(2)"
      ],
      "execution_count": 0,
      "outputs": [
        {
          "output_type": "execute_result",
          "data": {
            "text/html": [
              "<div>\n",
              "<style scoped>\n",
              "    .dataframe tbody tr th:only-of-type {\n",
              "        vertical-align: middle;\n",
              "    }\n",
              "\n",
              "    .dataframe tbody tr th {\n",
              "        vertical-align: top;\n",
              "    }\n",
              "\n",
              "    .dataframe thead th {\n",
              "        text-align: right;\n",
              "    }\n",
              "</style>\n",
              "<table border=\"1\" class=\"dataframe\">\n",
              "  <thead>\n",
              "    <tr style=\"text-align: right;\">\n",
              "      <th></th>\n",
              "      <th>index</th>\n",
              "      <th>Neighborhood</th>\n",
              "      <th>Borough</th>\n",
              "      <th>Latitude</th>\n",
              "      <th>Longitude</th>\n",
              "    </tr>\n",
              "  </thead>\n",
              "  <tbody>\n",
              "    <tr>\n",
              "      <th>0</th>\n",
              "      <td>0</td>\n",
              "      <td>Colaba</td>\n",
              "      <td>South Mumbai</td>\n",
              "      <td>18.915091</td>\n",
              "      <td>72.825969</td>\n",
              "    </tr>\n",
              "    <tr>\n",
              "      <th>1</th>\n",
              "      <td>1</td>\n",
              "      <td>Apollo Bandar</td>\n",
              "      <td>South Mumbai</td>\n",
              "      <td>18.918375</td>\n",
              "      <td>72.831443</td>\n",
              "    </tr>\n",
              "  </tbody>\n",
              "</table>\n",
              "</div>"
            ],
            "text/plain": [
              "   index   Neighborhood       Borough   Latitude  Longitude\n",
              "0      0         Colaba  South Mumbai  18.915091  72.825969\n",
              "1      1  Apollo Bandar  South Mumbai  18.918375  72.831443"
            ]
          },
          "metadata": {
            "tags": []
          },
          "execution_count": 260
        }
      ]
    },
    {
      "cell_type": "code",
      "metadata": {
        "id": "inxaFCC8meMU",
        "colab_type": "code",
        "outputId": "e36a430b-ef15-40a1-b85f-48007d822271",
        "colab": {
          "base_uri": "https://localhost:8080/",
          "height": 378
        }
      },
      "source": [
        "south_mumbai_merged = south_mumbai_data\n",
        "\n",
        "# merge two dataframes\n",
        "south_mumbai_merged = south_mumbai_merged.join(neighborhoods_venues_sorted.set_index('Neighborhood'), on='Neighborhood')\n",
        "\n",
        "south_mumbai_merged.head() \n"
      ],
      "execution_count": 0,
      "outputs": [
        {
          "output_type": "execute_result",
          "data": {
            "text/html": [
              "<div>\n",
              "<style scoped>\n",
              "    .dataframe tbody tr th:only-of-type {\n",
              "        vertical-align: middle;\n",
              "    }\n",
              "\n",
              "    .dataframe tbody tr th {\n",
              "        vertical-align: top;\n",
              "    }\n",
              "\n",
              "    .dataframe thead th {\n",
              "        text-align: right;\n",
              "    }\n",
              "</style>\n",
              "<table border=\"1\" class=\"dataframe\">\n",
              "  <thead>\n",
              "    <tr style=\"text-align: right;\">\n",
              "      <th></th>\n",
              "      <th>index</th>\n",
              "      <th>Neighborhood</th>\n",
              "      <th>Borough</th>\n",
              "      <th>Latitude</th>\n",
              "      <th>Longitude</th>\n",
              "      <th>Cluster Labels</th>\n",
              "      <th>1st Most Common Venue</th>\n",
              "      <th>2nd Most Common Venue</th>\n",
              "      <th>3rd Most Common Venue</th>\n",
              "      <th>4th Most Common Venue</th>\n",
              "      <th>5th Most Common Venue</th>\n",
              "      <th>6th Most Common Venue</th>\n",
              "      <th>7th Most Common Venue</th>\n",
              "      <th>8th Most Common Venue</th>\n",
              "      <th>9th Most Common Venue</th>\n",
              "      <th>10th Most Common Venue</th>\n",
              "    </tr>\n",
              "  </thead>\n",
              "  <tbody>\n",
              "    <tr>\n",
              "      <th>0</th>\n",
              "      <td>0</td>\n",
              "      <td>Colaba</td>\n",
              "      <td>South Mumbai</td>\n",
              "      <td>18.915091</td>\n",
              "      <td>72.825969</td>\n",
              "      <td>3</td>\n",
              "      <td>Fitness/Gym/Spa</td>\n",
              "      <td>Diner</td>\n",
              "      <td>Hotel</td>\n",
              "      <td>Chinese Restaurant</td>\n",
              "      <td>Furniture / Home Store</td>\n",
              "      <td>Italian Restaurant</td>\n",
              "      <td>Donut Shop</td>\n",
              "      <td>Brewery</td>\n",
              "      <td>Pizza Place</td>\n",
              "      <td>Dessert Shop</td>\n",
              "    </tr>\n",
              "    <tr>\n",
              "      <th>1</th>\n",
              "      <td>1</td>\n",
              "      <td>Apollo Bandar</td>\n",
              "      <td>South Mumbai</td>\n",
              "      <td>18.918375</td>\n",
              "      <td>72.831443</td>\n",
              "      <td>1</td>\n",
              "      <td>Hotel</td>\n",
              "      <td>Boat or Ferry</td>\n",
              "      <td>Mughlai Restaurant</td>\n",
              "      <td>Chinese Restaurant</td>\n",
              "      <td>Fitness/Gym/Spa</td>\n",
              "      <td>Mexican Restaurant</td>\n",
              "      <td>Nightclub</td>\n",
              "      <td>Mediterranean Restaurant</td>\n",
              "      <td>Lounge</td>\n",
              "      <td>Juice Bar</td>\n",
              "    </tr>\n",
              "    <tr>\n",
              "      <th>2</th>\n",
              "      <td>2</td>\n",
              "      <td>Fort</td>\n",
              "      <td>South Mumbai</td>\n",
              "      <td>18.933266</td>\n",
              "      <td>72.834515</td>\n",
              "      <td>3</td>\n",
              "      <td>Chinese Restaurant</td>\n",
              "      <td>Seafood Restaurant</td>\n",
              "      <td>Dessert Shop</td>\n",
              "      <td>Plaza</td>\n",
              "      <td>Parsi Restaurant</td>\n",
              "      <td>Irani Cafe</td>\n",
              "      <td>Lounge</td>\n",
              "      <td>Clothing Store</td>\n",
              "      <td>Men's Store</td>\n",
              "      <td>Park</td>\n",
              "    </tr>\n",
              "    <tr>\n",
              "      <th>3</th>\n",
              "      <td>3</td>\n",
              "      <td>Churchgate</td>\n",
              "      <td>South Mumbai</td>\n",
              "      <td>18.935957</td>\n",
              "      <td>72.827340</td>\n",
              "      <td>1</td>\n",
              "      <td>Sports</td>\n",
              "      <td>Ice Cream Shop</td>\n",
              "      <td>Hotel</td>\n",
              "      <td>Italian Restaurant</td>\n",
              "      <td>Movie Theater</td>\n",
              "      <td>Pizza Place</td>\n",
              "      <td>Chinese Restaurant</td>\n",
              "      <td>Beach</td>\n",
              "      <td>College Academic Building</td>\n",
              "      <td>French Restaurant</td>\n",
              "    </tr>\n",
              "    <tr>\n",
              "      <th>4</th>\n",
              "      <td>4</td>\n",
              "      <td>Nariman Point</td>\n",
              "      <td>South Mumbai</td>\n",
              "      <td>18.925951</td>\n",
              "      <td>72.823208</td>\n",
              "      <td>1</td>\n",
              "      <td>Theater</td>\n",
              "      <td>Italian Restaurant</td>\n",
              "      <td>Hotel</td>\n",
              "      <td>Chaat Place</td>\n",
              "      <td>Mediterranean Restaurant</td>\n",
              "      <td>Sports</td>\n",
              "      <td>Diner</td>\n",
              "      <td>Movie Theater</td>\n",
              "      <td>French Restaurant</td>\n",
              "      <td>Lounge</td>\n",
              "    </tr>\n",
              "  </tbody>\n",
              "</table>\n",
              "</div>"
            ],
            "text/plain": [
              "   index   Neighborhood  ...      9th Most Common Venue  10th Most Common Venue\n",
              "0      0         Colaba  ...                Pizza Place            Dessert Shop\n",
              "1      1  Apollo Bandar  ...                     Lounge               Juice Bar\n",
              "2      2           Fort  ...                Men's Store                    Park\n",
              "3      3     Churchgate  ...  College Academic Building       French Restaurant\n",
              "4      4  Nariman Point  ...          French Restaurant                  Lounge\n",
              "\n",
              "[5 rows x 16 columns]"
            ]
          },
          "metadata": {
            "tags": []
          },
          "execution_count": 341
        }
      ]
    },
    {
      "cell_type": "code",
      "metadata": {
        "id": "___03NFzvq3p",
        "colab_type": "code",
        "outputId": "e37d0d45-a8e5-405d-a773-2ef214053e04",
        "colab": {
          "base_uri": "https://localhost:8080/",
          "height": 413
        }
      },
      "source": [
        "south_mumbai_merged.tail()"
      ],
      "execution_count": 0,
      "outputs": [
        {
          "output_type": "execute_result",
          "data": {
            "text/html": [
              "<div>\n",
              "<style scoped>\n",
              "    .dataframe tbody tr th:only-of-type {\n",
              "        vertical-align: middle;\n",
              "    }\n",
              "\n",
              "    .dataframe tbody tr th {\n",
              "        vertical-align: top;\n",
              "    }\n",
              "\n",
              "    .dataframe thead th {\n",
              "        text-align: right;\n",
              "    }\n",
              "</style>\n",
              "<table border=\"1\" class=\"dataframe\">\n",
              "  <thead>\n",
              "    <tr style=\"text-align: right;\">\n",
              "      <th></th>\n",
              "      <th>index</th>\n",
              "      <th>Neighborhood</th>\n",
              "      <th>Borough</th>\n",
              "      <th>Latitude</th>\n",
              "      <th>Longitude</th>\n",
              "      <th>Cluster Labels</th>\n",
              "      <th>1st Most Common Venue</th>\n",
              "      <th>2nd Most Common Venue</th>\n",
              "      <th>3rd Most Common Venue</th>\n",
              "      <th>4th Most Common Venue</th>\n",
              "      <th>5th Most Common Venue</th>\n",
              "      <th>6th Most Common Venue</th>\n",
              "      <th>7th Most Common Venue</th>\n",
              "      <th>8th Most Common Venue</th>\n",
              "      <th>9th Most Common Venue</th>\n",
              "      <th>10th Most Common Venue</th>\n",
              "    </tr>\n",
              "  </thead>\n",
              "  <tbody>\n",
              "    <tr>\n",
              "      <th>33</th>\n",
              "      <td>33</td>\n",
              "      <td>Mulund West</td>\n",
              "      <td>East Mumbai</td>\n",
              "      <td>19.171972</td>\n",
              "      <td>72.951196</td>\n",
              "      <td>0</td>\n",
              "      <td>Dessert Shop</td>\n",
              "      <td>Theater</td>\n",
              "      <td>Music Venue</td>\n",
              "      <td>Snack Place</td>\n",
              "      <td>Ice Cream Shop</td>\n",
              "      <td>Shopping Mall</td>\n",
              "      <td>Flea Market</td>\n",
              "      <td>Sports</td>\n",
              "      <td>Creperie</td>\n",
              "      <td>Cupcake Shop</td>\n",
              "    </tr>\n",
              "    <tr>\n",
              "      <th>34</th>\n",
              "      <td>34</td>\n",
              "      <td>Powai</td>\n",
              "      <td>North Mumbai</td>\n",
              "      <td>19.118720</td>\n",
              "      <td>72.907348</td>\n",
              "      <td>3</td>\n",
              "      <td>Ice Cream Shop</td>\n",
              "      <td>Fitness/Gym/Spa</td>\n",
              "      <td>Chinese Restaurant</td>\n",
              "      <td>Bakery</td>\n",
              "      <td>Pizza Place</td>\n",
              "      <td>Italian Restaurant</td>\n",
              "      <td>Dessert Shop</td>\n",
              "      <td>Donut Shop</td>\n",
              "      <td>Lounge</td>\n",
              "      <td>Tea Room</td>\n",
              "    </tr>\n",
              "    <tr>\n",
              "      <th>35</th>\n",
              "      <td>35</td>\n",
              "      <td>Jogeshwari</td>\n",
              "      <td>North Mumbai</td>\n",
              "      <td>19.134899</td>\n",
              "      <td>72.848820</td>\n",
              "      <td>0</td>\n",
              "      <td>Asian Restaurant</td>\n",
              "      <td>Chinese Restaurant</td>\n",
              "      <td>Mughlai Restaurant</td>\n",
              "      <td>Pizza Place</td>\n",
              "      <td>Ice Cream Shop</td>\n",
              "      <td>Department Store</td>\n",
              "      <td>Diner</td>\n",
              "      <td>Dim Sum Restaurant</td>\n",
              "      <td>Dhaba</td>\n",
              "      <td>Dessert Shop</td>\n",
              "    </tr>\n",
              "    <tr>\n",
              "      <th>37</th>\n",
              "      <td>37</td>\n",
              "      <td>Borivali</td>\n",
              "      <td>North Mumbai</td>\n",
              "      <td>19.229068</td>\n",
              "      <td>72.857363</td>\n",
              "      <td>0</td>\n",
              "      <td>Ice Cream Shop</td>\n",
              "      <td>Clothing Store</td>\n",
              "      <td>Chinese Restaurant</td>\n",
              "      <td>Juice Bar</td>\n",
              "      <td>Sandwich Place</td>\n",
              "      <td>Snack Place</td>\n",
              "      <td>Lounge</td>\n",
              "      <td>Vegetarian / Vegan Restaurant</td>\n",
              "      <td>Theater</td>\n",
              "      <td>Food Truck</td>\n",
              "    </tr>\n",
              "    <tr>\n",
              "      <th>38</th>\n",
              "      <td>38</td>\n",
              "      <td>Mira Road</td>\n",
              "      <td>North Mumbai</td>\n",
              "      <td>19.187896</td>\n",
              "      <td>72.836596</td>\n",
              "      <td>3</td>\n",
              "      <td>Clothing Store</td>\n",
              "      <td>Chinese Restaurant</td>\n",
              "      <td>Fitness/Gym/Spa</td>\n",
              "      <td>Shopping Mall</td>\n",
              "      <td>Diner</td>\n",
              "      <td>Pizza Place</td>\n",
              "      <td>Donut Shop</td>\n",
              "      <td>Dim Sum Restaurant</td>\n",
              "      <td>Burger Joint</td>\n",
              "      <td>Burrito Place</td>\n",
              "    </tr>\n",
              "  </tbody>\n",
              "</table>\n",
              "</div>"
            ],
            "text/plain": [
              "    index Neighborhood  ... 9th Most Common Venue  10th Most Common Venue\n",
              "33     33  Mulund West  ...              Creperie            Cupcake Shop\n",
              "34     34        Powai  ...                Lounge                Tea Room\n",
              "35     35   Jogeshwari  ...                 Dhaba            Dessert Shop\n",
              "37     37     Borivali  ...               Theater              Food Truck\n",
              "38     38    Mira Road  ...          Burger Joint           Burrito Place\n",
              "\n",
              "[5 rows x 16 columns]"
            ]
          },
          "metadata": {
            "tags": []
          },
          "execution_count": 342
        }
      ]
    },
    {
      "cell_type": "code",
      "metadata": {
        "id": "I6Pow3bQvKvn",
        "colab_type": "code",
        "colab": {}
      },
      "source": [
        "south_mumbai_merged.to_csv(\"south_mumbai_merged.csv\")"
      ],
      "execution_count": 0,
      "outputs": []
    },
    {
      "cell_type": "markdown",
      "metadata": {
        "id": "lMwNKxkzvd4H",
        "colab_type": "text"
      },
      "source": [
        "### check **Cluster Labels** column has been added to dataframe. "
      ]
    },
    {
      "cell_type": "markdown",
      "metadata": {
        "id": "V9D3ad5nwBXC",
        "colab_type": "text"
      },
      "source": [
        "# **Visualize Clusters**"
      ]
    },
    {
      "cell_type": "code",
      "metadata": {
        "id": "69j6pMIKu5rm",
        "colab_type": "code",
        "outputId": "158ac26b-ff1e-40c4-8c34-26abf6633b3a",
        "colab": {
          "base_uri": "https://localhost:8080/",
          "height": 566
        }
      },
      "source": [
        "latitude = mumbai_latitude\n",
        "longitude = mumbai_longitude\n",
        "\n",
        "# create map\n",
        "map_clusters = folium.Map(location=[latitude, longitude], zoom_start=11)\n",
        "\n",
        "# set color scheme for the clusters\n",
        "x = np.arange(kclusters)\n",
        "ys = [i + x + (i*x)**2 for i in range(kclusters)]\n",
        "colors_array = cm.rainbow(np.linspace(0, 1, len(ys)))\n",
        "rainbow = [colors.rgb2hex(i) for i in colors_array]\n",
        "\n",
        "# add markers to the map\n",
        "markers_colors = []\n",
        "for lat, lon, poi, cluster in zip(south_mumbai_merged['Latitude'], south_mumbai_merged['Longitude'], south_mumbai_merged['Neighborhood'], south_mumbai_merged['Cluster Labels']):\n",
        "    label = folium.Popup(str(poi) + ' Cluster ' + str(cluster), parse_html=True)\n",
        "    folium.CircleMarker(\n",
        "        [lat, lon],\n",
        "        radius=5,\n",
        "        popup=label,\n",
        "        color=rainbow[cluster-1],\n",
        "        fill=True,\n",
        "        fill_color=rainbow[cluster-1],\n",
        "        fill_opacity=0.7).add_to(map_clusters)\n",
        "       \n",
        "map_clusters\n"
      ],
      "execution_count": 0,
      "outputs": [
        {
          "output_type": "execute_result",
          "data": {
            "text/html": [
              "<div style=\"width:100%;\"><div style=\"position:relative;width:100%;height:0;padding-bottom:60%;\"><iframe src=\"about:blank\" style=\"position:absolute;width:100%;height:100%;left:0;top:0;border:none !important;\" data-html=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 onload=\"this.contentDocument.open();this.contentDocument.write(atob(this.getAttribute('data-html')));this.contentDocument.close();\" allowfullscreen webkitallowfullscreen mozallowfullscreen></iframe></div></div>"
            ],
            "text/plain": [
              "<folium.folium.Map at 0x7feaab854f28>"
            ]
          },
          "metadata": {
            "tags": []
          },
          "execution_count": 344
        }
      ]
    },
    {
      "cell_type": "markdown",
      "metadata": {
        "id": "x3699NvbmDIY",
        "colab_type": "text"
      },
      "source": [
        "# **This concludes the analysis of Mumbai neighborhoods . Thank You.**"
      ]
    },
    {
      "cell_type": "code",
      "metadata": {
        "id": "OvHaGnRNIaI9",
        "colab_type": "code",
        "outputId": "fa8920e1-c944-4ca6-f520-f74a6631f082",
        "colab": {
          "base_uri": "https://localhost:8080/",
          "height": 35
        }
      },
      "source": [
        "print(\"asdf\")"
      ],
      "execution_count": 0,
      "outputs": [
        {
          "output_type": "stream",
          "text": [
            "asdf\n"
          ],
          "name": "stdout"
        }
      ]
    },
    {
      "cell_type": "markdown",
      "metadata": {
        "id": "cYvwHysRfjGa",
        "colab_type": "text"
      },
      "source": [
        ""
      ]
    }
  ]
}