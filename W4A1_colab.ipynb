{
  "nbformat": 4,
  "nbformat_minor": 0,
  "metadata": {
    "colab": {
      "name": "W4A1_colab.ipynb",
      "provenance": []
    },
    "kernelspec": {
      "name": "python3",
      "display_name": "Python 3"
    }
  },
  "cells": [
    {
      "cell_type": "code",
      "metadata": {
        "id": "RoBWVAMVzaY3",
        "colab_type": "code",
        "colab": {
          "base_uri": "https://localhost:8080/",
          "height": 35
        },
        "outputId": "b7e872dd-2548-41cd-f106-5fe2d11d9bae"
      },
      "source": [
        "print(\"Welcome\")"
      ],
      "execution_count": 1,
      "outputs": [
        {
          "output_type": "stream",
          "text": [
            "Welcome\n"
          ],
          "name": "stdout"
        }
      ]
    },
    {
      "cell_type": "markdown",
      "metadata": {
        "id": "-kbgiTB5z8SX",
        "colab_type": "text"
      },
      "source": [
        "**Library**"
      ]
    },
    {
      "cell_type": "markdown",
      "metadata": {
        "id": "N1YdWW-Cz7Ut",
        "colab_type": "text"
      },
      "source": [
        ""
      ]
    },
    {
      "cell_type": "code",
      "metadata": {
        "id": "15wlZcr5ztuH",
        "colab_type": "code",
        "colab": {
          "base_uri": "https://localhost:8080/",
          "height": 89
        },
        "outputId": "013aca58-a71a-4db8-976d-1c6cd3c8ce9c"
      },
      "source": [
        "import pandas as pd\n",
        "from pandas.io.json import json_normalize  # tranform JSON file into a pandas dataframe\n",
        "\n",
        "import numpy as np\n",
        "\n",
        "from bs4 import BeautifulSoup\n",
        "\n",
        "# Matplotlib and associated plotting modules\n",
        "import matplotlib.pyplot as plt\n",
        "import matplotlib.cm as cm\n",
        "import matplotlib.colors as colors\n",
        "\n",
        "import seaborn as sns\n",
        "from urllib.request import urlopen\n",
        "\n",
        "import requests\n",
        "# import k-means from clustering stage\n",
        "from sklearn.cluster import KMeans\n",
        "\n",
        "print(\"Library imported 56.\")\n"
      ],
      "execution_count": 3,
      "outputs": [
        {
          "output_type": "stream",
          "text": [
            "/usr/local/lib/python3.6/dist-packages/statsmodels/tools/_testing.py:19: FutureWarning: pandas.util.testing is deprecated. Use the functions in the public API at pandas.testing instead.\n",
            "  import pandas.util.testing as tm\n"
          ],
          "name": "stderr"
        },
        {
          "output_type": "stream",
          "text": [
            "Library imported 56.\n"
          ],
          "name": "stdout"
        }
      ]
    },
    {
      "cell_type": "code",
      "metadata": {
        "id": "cd80ngGa0KK1",
        "colab_type": "code",
        "colab": {
          "base_uri": "https://localhost:8080/",
          "height": 35
        },
        "outputId": "25fa9fe4-a726-449b-a2a1-6199fa534be3"
      },
      "source": [
        "import folium # map rendering library\n",
        "from geopy.geocoders import Nominatim # convert an address into latitude and longitude values\n",
        "print(\"Library imported 57.\")\n"
      ],
      "execution_count": 4,
      "outputs": [
        {
          "output_type": "stream",
          "text": [
            "Library imported 57.\n"
          ],
          "name": "stdout"
        }
      ]
    },
    {
      "cell_type": "code",
      "metadata": {
        "id": "DYo-aZJ2zicb",
        "colab_type": "code",
        "colab": {
          "base_uri": "https://localhost:8080/",
          "height": 202
        },
        "outputId": "c2cfe04c-cb4e-4360-d67d-dd383dd69ee8"
      },
      "source": [
        "link = \"https://en.wikipedia.org/wiki/List_of_postal_codes_of_Canada:_M\"\n",
        "df = pd.read_html(link, header = 0)[0]\n",
        "df.head()"
      ],
      "execution_count": 5,
      "outputs": [
        {
          "output_type": "execute_result",
          "data": {
            "text/html": [
              "<div>\n",
              "<style scoped>\n",
              "    .dataframe tbody tr th:only-of-type {\n",
              "        vertical-align: middle;\n",
              "    }\n",
              "\n",
              "    .dataframe tbody tr th {\n",
              "        vertical-align: top;\n",
              "    }\n",
              "\n",
              "    .dataframe thead th {\n",
              "        text-align: right;\n",
              "    }\n",
              "</style>\n",
              "<table border=\"1\" class=\"dataframe\">\n",
              "  <thead>\n",
              "    <tr style=\"text-align: right;\">\n",
              "      <th></th>\n",
              "      <th>Postal code</th>\n",
              "      <th>Borough</th>\n",
              "      <th>Neighborhood</th>\n",
              "    </tr>\n",
              "  </thead>\n",
              "  <tbody>\n",
              "    <tr>\n",
              "      <th>0</th>\n",
              "      <td>M1A</td>\n",
              "      <td>Not assigned</td>\n",
              "      <td>NaN</td>\n",
              "    </tr>\n",
              "    <tr>\n",
              "      <th>1</th>\n",
              "      <td>M2A</td>\n",
              "      <td>Not assigned</td>\n",
              "      <td>NaN</td>\n",
              "    </tr>\n",
              "    <tr>\n",
              "      <th>2</th>\n",
              "      <td>M3A</td>\n",
              "      <td>North York</td>\n",
              "      <td>Parkwoods</td>\n",
              "    </tr>\n",
              "    <tr>\n",
              "      <th>3</th>\n",
              "      <td>M4A</td>\n",
              "      <td>North York</td>\n",
              "      <td>Victoria Village</td>\n",
              "    </tr>\n",
              "    <tr>\n",
              "      <th>4</th>\n",
              "      <td>M5A</td>\n",
              "      <td>Downtown Toronto</td>\n",
              "      <td>Regent Park / Harbourfront</td>\n",
              "    </tr>\n",
              "  </tbody>\n",
              "</table>\n",
              "</div>"
            ],
            "text/plain": [
              "  Postal code           Borough                Neighborhood\n",
              "0         M1A      Not assigned                         NaN\n",
              "1         M2A      Not assigned                         NaN\n",
              "2         M3A        North York                   Parkwoods\n",
              "3         M4A        North York            Victoria Village\n",
              "4         M5A  Downtown Toronto  Regent Park / Harbourfront"
            ]
          },
          "metadata": {
            "tags": []
          },
          "execution_count": 5
        }
      ]
    },
    {
      "cell_type": "code",
      "metadata": {
        "id": "cRtkXRvE0Xjl",
        "colab_type": "code",
        "colab": {
          "base_uri": "https://localhost:8080/",
          "height": 35
        },
        "outputId": "f17b40cd-0371-4b8f-f5f5-906acbfd97f2"
      },
      "source": [
        "df.to_csv (r'D:\\Workspace\\data\\postal_Toronto.csv', index = None, header=True) \n",
        "print(\"Done1\")"
      ],
      "execution_count": 6,
      "outputs": [
        {
          "output_type": "stream",
          "text": [
            "Done1\n"
          ],
          "name": "stdout"
        }
      ]
    },
    {
      "cell_type": "code",
      "metadata": {
        "id": "QuhRtt9eurFJ",
        "colab_type": "code",
        "colab": {
          "base_uri": "https://localhost:8080/",
          "height": 72
        },
        "outputId": "d9335f6a-32cb-44bc-d297-c0f851cff9bd"
      },
      "source": [
        "areas = [\"Colaba\",\"Apollo Bandar\",\"Fort\",\"Churchgate\",\"Nariman Point\"\n",
        "        ,\"Marine Lines\",\"Walkeshwar\",\"Malabar Hill\",\"Kalbadevi\"\n",
        "        ,\"Bhuleshwar\",\"Masjid Bandar\",\"Darukhana\",\"Pydhoni\",\"Nagpada\",\"Dongri\",\"Byculla\",\"Grand Road\"\n",
        "        ,\"Mazgaon\",\"Mumbai Central\",\"Mahalaxmi\",\"Worli\"\n",
        "]\n",
        "\n",
        "\n",
        "\n",
        "full_address = []\n",
        " \n",
        "for area in areas:\n",
        "   \n",
        "  full_address.append(area + \", Mumbai\")\n",
        "\n",
        "#print(\"full_address\",full_address)\n",
        "#print(\"areas\",areas)"
      ],
      "execution_count": 100,
      "outputs": [
        {
          "output_type": "stream",
          "text": [
            "full_address ['Colaba, Mumbai', 'Apollo Bandar, Mumbai', 'Fort, Mumbai', 'Churchgate, Mumbai', 'Nariman Point, Mumbai', 'Marine Lines, Mumbai', 'Walkeshwar, Mumbai', 'Malabar Hill, Mumbai', 'Kalbadevi, Mumbai', 'Bhuleshwar, Mumbai', 'Masjid Bandar, Mumbai', 'Darukhana, Mumbai', 'Pydhoni, Mumbai', 'Nagpada, Mumbai', 'Dongri, Mumbai', 'Byculla, Mumbai', 'Grand Road, Mumbai', 'Mazgaon, Mumbai', 'Mumbai Central, Mumbai', 'Mahalaxmi, Mumbai', 'Worli, Mumbai']\n",
            "areas ['Colaba', 'Apollo Bandar', 'Fort', 'Churchgate', 'Nariman Point', 'Marine Lines', 'Walkeshwar', 'Malabar Hill', 'Kalbadevi', 'Bhuleshwar', 'Masjid Bandar', 'Darukhana', 'Pydhoni', 'Nagpada', 'Dongri', 'Byculla', 'Grand Road', 'Mazgaon', 'Mumbai Central', 'Mahalaxmi', 'Worli']\n"
          ],
          "name": "stdout"
        }
      ]
    },
    {
      "cell_type": "code",
      "metadata": {
        "id": "zLZjlt_JXHVu",
        "colab_type": "code",
        "colab": {}
      },
      "source": [
        "\n",
        "dic1 = {\"Neighborhood\": areas,\"Address\":full_address}\n",
        "#dic1\n"
      ],
      "execution_count": 0,
      "outputs": []
    },
    {
      "cell_type": "code",
      "metadata": {
        "id": "jPGLz9HF-Ioc",
        "colab_type": "code",
        "colab": {
          "base_uri": "https://localhost:8080/",
          "height": 693
        },
        "outputId": "8577e881-fe74-45ec-ffea-26897fdaef7c"
      },
      "source": [
        "df2 = pd.DataFrame.from_dict(dic1)\n",
        "df2"
      ],
      "execution_count": 102,
      "outputs": [
        {
          "output_type": "execute_result",
          "data": {
            "text/html": [
              "<div>\n",
              "<style scoped>\n",
              "    .dataframe tbody tr th:only-of-type {\n",
              "        vertical-align: middle;\n",
              "    }\n",
              "\n",
              "    .dataframe tbody tr th {\n",
              "        vertical-align: top;\n",
              "    }\n",
              "\n",
              "    .dataframe thead th {\n",
              "        text-align: right;\n",
              "    }\n",
              "</style>\n",
              "<table border=\"1\" class=\"dataframe\">\n",
              "  <thead>\n",
              "    <tr style=\"text-align: right;\">\n",
              "      <th></th>\n",
              "      <th>Neighborhood</th>\n",
              "      <th>Address</th>\n",
              "    </tr>\n",
              "  </thead>\n",
              "  <tbody>\n",
              "    <tr>\n",
              "      <th>0</th>\n",
              "      <td>Colaba</td>\n",
              "      <td>Colaba, Mumbai</td>\n",
              "    </tr>\n",
              "    <tr>\n",
              "      <th>1</th>\n",
              "      <td>Apollo Bandar</td>\n",
              "      <td>Apollo Bandar, Mumbai</td>\n",
              "    </tr>\n",
              "    <tr>\n",
              "      <th>2</th>\n",
              "      <td>Fort</td>\n",
              "      <td>Fort, Mumbai</td>\n",
              "    </tr>\n",
              "    <tr>\n",
              "      <th>3</th>\n",
              "      <td>Churchgate</td>\n",
              "      <td>Churchgate, Mumbai</td>\n",
              "    </tr>\n",
              "    <tr>\n",
              "      <th>4</th>\n",
              "      <td>Nariman Point</td>\n",
              "      <td>Nariman Point, Mumbai</td>\n",
              "    </tr>\n",
              "    <tr>\n",
              "      <th>5</th>\n",
              "      <td>Marine Lines</td>\n",
              "      <td>Marine Lines, Mumbai</td>\n",
              "    </tr>\n",
              "    <tr>\n",
              "      <th>6</th>\n",
              "      <td>Walkeshwar</td>\n",
              "      <td>Walkeshwar, Mumbai</td>\n",
              "    </tr>\n",
              "    <tr>\n",
              "      <th>7</th>\n",
              "      <td>Malabar Hill</td>\n",
              "      <td>Malabar Hill, Mumbai</td>\n",
              "    </tr>\n",
              "    <tr>\n",
              "      <th>8</th>\n",
              "      <td>Kalbadevi</td>\n",
              "      <td>Kalbadevi, Mumbai</td>\n",
              "    </tr>\n",
              "    <tr>\n",
              "      <th>9</th>\n",
              "      <td>Bhuleshwar</td>\n",
              "      <td>Bhuleshwar, Mumbai</td>\n",
              "    </tr>\n",
              "    <tr>\n",
              "      <th>10</th>\n",
              "      <td>Masjid Bandar</td>\n",
              "      <td>Masjid Bandar, Mumbai</td>\n",
              "    </tr>\n",
              "    <tr>\n",
              "      <th>11</th>\n",
              "      <td>Darukhana</td>\n",
              "      <td>Darukhana, Mumbai</td>\n",
              "    </tr>\n",
              "    <tr>\n",
              "      <th>12</th>\n",
              "      <td>Pydhoni</td>\n",
              "      <td>Pydhoni, Mumbai</td>\n",
              "    </tr>\n",
              "    <tr>\n",
              "      <th>13</th>\n",
              "      <td>Nagpada</td>\n",
              "      <td>Nagpada, Mumbai</td>\n",
              "    </tr>\n",
              "    <tr>\n",
              "      <th>14</th>\n",
              "      <td>Dongri</td>\n",
              "      <td>Dongri, Mumbai</td>\n",
              "    </tr>\n",
              "    <tr>\n",
              "      <th>15</th>\n",
              "      <td>Byculla</td>\n",
              "      <td>Byculla, Mumbai</td>\n",
              "    </tr>\n",
              "    <tr>\n",
              "      <th>16</th>\n",
              "      <td>Grand Road</td>\n",
              "      <td>Grand Road, Mumbai</td>\n",
              "    </tr>\n",
              "    <tr>\n",
              "      <th>17</th>\n",
              "      <td>Mazgaon</td>\n",
              "      <td>Mazgaon, Mumbai</td>\n",
              "    </tr>\n",
              "    <tr>\n",
              "      <th>18</th>\n",
              "      <td>Mumbai Central</td>\n",
              "      <td>Mumbai Central, Mumbai</td>\n",
              "    </tr>\n",
              "    <tr>\n",
              "      <th>19</th>\n",
              "      <td>Mahalaxmi</td>\n",
              "      <td>Mahalaxmi, Mumbai</td>\n",
              "    </tr>\n",
              "    <tr>\n",
              "      <th>20</th>\n",
              "      <td>Worli</td>\n",
              "      <td>Worli, Mumbai</td>\n",
              "    </tr>\n",
              "  </tbody>\n",
              "</table>\n",
              "</div>"
            ],
            "text/plain": [
              "      Neighborhood                 Address\n",
              "0           Colaba          Colaba, Mumbai\n",
              "1    Apollo Bandar   Apollo Bandar, Mumbai\n",
              "2             Fort            Fort, Mumbai\n",
              "3       Churchgate      Churchgate, Mumbai\n",
              "4    Nariman Point   Nariman Point, Mumbai\n",
              "5     Marine Lines    Marine Lines, Mumbai\n",
              "6       Walkeshwar      Walkeshwar, Mumbai\n",
              "7     Malabar Hill    Malabar Hill, Mumbai\n",
              "8        Kalbadevi       Kalbadevi, Mumbai\n",
              "9       Bhuleshwar      Bhuleshwar, Mumbai\n",
              "10   Masjid Bandar   Masjid Bandar, Mumbai\n",
              "11       Darukhana       Darukhana, Mumbai\n",
              "12         Pydhoni         Pydhoni, Mumbai\n",
              "13         Nagpada         Nagpada, Mumbai\n",
              "14          Dongri          Dongri, Mumbai\n",
              "15         Byculla         Byculla, Mumbai\n",
              "16      Grand Road      Grand Road, Mumbai\n",
              "17         Mazgaon         Mazgaon, Mumbai\n",
              "18  Mumbai Central  Mumbai Central, Mumbai\n",
              "19       Mahalaxmi       Mahalaxmi, Mumbai\n",
              "20           Worli           Worli, Mumbai"
            ]
          },
          "metadata": {
            "tags": []
          },
          "execution_count": 102
        }
      ]
    },
    {
      "cell_type": "code",
      "metadata": {
        "id": "6-nqk-DP_vun",
        "colab_type": "code",
        "colab": {
          "base_uri": "https://localhost:8080/",
          "height": 780
        },
        "outputId": "24702546-2250-4f80-e70f-536e3ed8d214"
      },
      "source": [
        "for  neighborhood,address in zip(df2['Neighborhood'], df2['Address']):\n",
        "     print(\"neighborhood:\", neighborhood)\n",
        "     print(\"address\",address)"
      ],
      "execution_count": 98,
      "outputs": [
        {
          "output_type": "stream",
          "text": [
            "neighborhood: Colaba\n",
            "address Colaba, Mumbai\n",
            "neighborhood: Apollo Bandar\n",
            "address Apollo Bandar, Mumbai\n",
            "neighborhood: Fort\n",
            "address Fort, Mumbai\n",
            "neighborhood: Churchgate\n",
            "address Churchgate, Mumbai\n",
            "neighborhood: Nariman Point\n",
            "address Nariman Point, Mumbai\n",
            "neighborhood: Marine Lines\n",
            "address Marine Lines, Mumbai\n",
            "neighborhood: Walkeshwar\n",
            "address Walkeshwar, Mumbai\n",
            "neighborhood: Malabar Hill\n",
            "address Malabar Hill, Mumbai\n",
            "neighborhood: Girgaon Chowpatty\n",
            "address Girgaon Chowpatty, Mumbai\n",
            "neighborhood: Kalbadevi\n",
            "address Kalbadevi, Mumbai\n",
            "neighborhood: Bhuleshwar\n",
            "address Bhuleshwar, Mumbai\n",
            "neighborhood: Masjid Bandar\n",
            "address Masjid Bandar, Mumbai\n",
            "neighborhood: Darukhana\n",
            "address Darukhana, Mumbai\n",
            "neighborhood: Pydhoni\n",
            "address Pydhoni, Mumbai\n",
            "neighborhood: Nagpada\n",
            "address Nagpada, Mumbai\n",
            "neighborhood: Dongri\n",
            "address Dongri, Mumbai\n",
            "neighborhood: Byculla\n",
            "address Byculla, Mumbai\n",
            "neighborhood: Grand Road\n",
            "address Grand Road, Mumbai\n",
            "neighborhood: Mazgaon\n",
            "address Mazgaon, Mumbai\n",
            "neighborhood: Mumbai Central\n",
            "address Mumbai Central, Mumbai\n",
            "neighborhood: Mahalaxmi\n",
            "address Mahalaxmi, Mumbai\n",
            "neighborhood: Worli\n",
            "address Worli, Mumbai\n"
          ],
          "name": "stdout"
        }
      ]
    },
    {
      "cell_type": "code",
      "metadata": {
        "id": "MLC7q8q2e2W0",
        "colab_type": "code",
        "colab": {
          "base_uri": "https://localhost:8080/",
          "height": 1000
        },
        "outputId": "e7bb115d-47f4-4e4b-d530-f9a801fd659d"
      },
      "source": [
        "borough = 'South Mumbai'\n",
        "data = []\n",
        "for  neighborhood,address in zip(df2['Neighborhood'], df2['Address']):\n",
        "  #print(\"neighborhood:\", neighborhood)\n",
        "  #print(\"address:\", address)\n",
        "  geolocator = Nominatim(user_agent=\"ny_explorer\")\n",
        "  location = geolocator.geocode(address)\n",
        "  latitude = location.latitude\n",
        "  longitude = location.longitude\n",
        "  #print(\"latitude:\", latitude)\n",
        "  #print(\"longitude:\", longitude)\n",
        "  data.append([neighborhood,borough,latitude,longitude])\n",
        "\n",
        "col_names =  ['Neighborhood', 'Borough', 'Latitude','Longitude']\n",
        "neighborhoods = pd.DataFrame(data,columns=col_names)\n",
        "print(\"dtypes : \", neighborhoods.dtypes)\n",
        "print(\"rows : \", neighborhoods.shape[0])\n",
        "neighborhoods.head(20)\n"
      ],
      "execution_count": 103,
      "outputs": [
        {
          "output_type": "stream",
          "text": [
            "neighborhood: Colaba\n",
            "address: Colaba, Mumbai\n",
            "latitude: 18.915091\n",
            "longitude: 72.8259691\n",
            "neighborhood: Apollo Bandar\n",
            "address: Apollo Bandar, Mumbai\n",
            "latitude: 18.9183748\n",
            "longitude: 72.8314429\n",
            "neighborhood: Fort\n",
            "address: Fort, Mumbai\n",
            "latitude: 18.9332665\n",
            "longitude: 72.8345146\n",
            "neighborhood: Churchgate\n",
            "address: Churchgate, Mumbai\n",
            "latitude: 18.9359567\n",
            "longitude: 72.8273404\n",
            "neighborhood: Nariman Point\n",
            "address: Nariman Point, Mumbai\n",
            "latitude: 18.9259514\n",
            "longitude: 72.8232083\n",
            "neighborhood: Marine Lines\n",
            "address: Marine Lines, Mumbai\n",
            "latitude: 18.9456701\n",
            "longitude: 72.823781\n",
            "neighborhood: Walkeshwar\n",
            "address: Walkeshwar, Mumbai\n",
            "latitude: 18.9553434\n",
            "longitude: 72.8079469\n",
            "neighborhood: Malabar Hill\n",
            "address: Malabar Hill, Mumbai\n",
            "latitude: 18.9581616\n",
            "longitude: 72.8033665\n",
            "neighborhood: Kalbadevi\n",
            "address: Kalbadevi, Mumbai\n",
            "latitude: 18.9492575\n",
            "longitude: 72.8279382\n",
            "neighborhood: Bhuleshwar\n",
            "address: Bhuleshwar, Mumbai\n",
            "latitude: 18.9537706\n",
            "longitude: 72.8274755\n",
            "neighborhood: Masjid Bandar\n",
            "address: Masjid Bandar, Mumbai\n",
            "latitude: 18.953598550000002\n",
            "longitude: 72.8381264997544\n",
            "neighborhood: Darukhana\n",
            "address: Darukhana, Mumbai\n",
            "latitude: 18.9770363\n",
            "longitude: 72.8490768\n",
            "neighborhood: Pydhoni\n",
            "address: Pydhoni, Mumbai\n",
            "latitude: 18.9539939\n",
            "longitude: 72.8323786\n",
            "neighborhood: Nagpada\n",
            "address: Nagpada, Mumbai\n",
            "latitude: 18.9681782\n",
            "longitude: 72.8286009\n",
            "neighborhood: Dongri\n",
            "address: Dongri, Mumbai\n",
            "latitude: 18.9622265\n",
            "longitude: 72.836795\n",
            "neighborhood: Byculla\n",
            "address: Byculla, Mumbai\n",
            "latitude: 18.9766219\n",
            "longitude: 72.8327936\n",
            "neighborhood: Grand Road\n",
            "address: Grand Road, Mumbai\n",
            "latitude: 18.9387711\n",
            "longitude: 72.8353355\n",
            "neighborhood: Mazgaon\n",
            "address: Mazgaon, Mumbai\n",
            "latitude: 18.9680519\n",
            "longitude: 72.84001187036267\n",
            "neighborhood: Mumbai Central\n",
            "address: Mumbai Central, Mumbai\n",
            "latitude: 18.9695855\n",
            "longitude: 72.8193152\n",
            "neighborhood: Mahalaxmi\n",
            "address: Mahalaxmi, Mumbai\n",
            "latitude: 18.9825679\n",
            "longitude: 72.82416\n",
            "neighborhood: Worli\n",
            "address: Worli, Mumbai\n",
            "latitude: 19.0116962\n",
            "longitude: 72.8180702\n",
            "dtypes :  Neighborhood     object\n",
            "Borough          object\n",
            "Latitude        float64\n",
            "Longitude       float64\n",
            "dtype: object\n",
            "rows :  21\n"
          ],
          "name": "stdout"
        },
        {
          "output_type": "execute_result",
          "data": {
            "text/html": [
              "<div>\n",
              "<style scoped>\n",
              "    .dataframe tbody tr th:only-of-type {\n",
              "        vertical-align: middle;\n",
              "    }\n",
              "\n",
              "    .dataframe tbody tr th {\n",
              "        vertical-align: top;\n",
              "    }\n",
              "\n",
              "    .dataframe thead th {\n",
              "        text-align: right;\n",
              "    }\n",
              "</style>\n",
              "<table border=\"1\" class=\"dataframe\">\n",
              "  <thead>\n",
              "    <tr style=\"text-align: right;\">\n",
              "      <th></th>\n",
              "      <th>Neighborhood</th>\n",
              "      <th>Borough</th>\n",
              "      <th>Latitude</th>\n",
              "      <th>Longitude</th>\n",
              "    </tr>\n",
              "  </thead>\n",
              "  <tbody>\n",
              "    <tr>\n",
              "      <th>0</th>\n",
              "      <td>Colaba</td>\n",
              "      <td>South Mumbai</td>\n",
              "      <td>18.915091</td>\n",
              "      <td>72.825969</td>\n",
              "    </tr>\n",
              "    <tr>\n",
              "      <th>1</th>\n",
              "      <td>Apollo Bandar</td>\n",
              "      <td>South Mumbai</td>\n",
              "      <td>18.918375</td>\n",
              "      <td>72.831443</td>\n",
              "    </tr>\n",
              "    <tr>\n",
              "      <th>2</th>\n",
              "      <td>Fort</td>\n",
              "      <td>South Mumbai</td>\n",
              "      <td>18.933266</td>\n",
              "      <td>72.834515</td>\n",
              "    </tr>\n",
              "    <tr>\n",
              "      <th>3</th>\n",
              "      <td>Churchgate</td>\n",
              "      <td>South Mumbai</td>\n",
              "      <td>18.935957</td>\n",
              "      <td>72.827340</td>\n",
              "    </tr>\n",
              "    <tr>\n",
              "      <th>4</th>\n",
              "      <td>Nariman Point</td>\n",
              "      <td>South Mumbai</td>\n",
              "      <td>18.925951</td>\n",
              "      <td>72.823208</td>\n",
              "    </tr>\n",
              "    <tr>\n",
              "      <th>5</th>\n",
              "      <td>Marine Lines</td>\n",
              "      <td>South Mumbai</td>\n",
              "      <td>18.945670</td>\n",
              "      <td>72.823781</td>\n",
              "    </tr>\n",
              "    <tr>\n",
              "      <th>6</th>\n",
              "      <td>Walkeshwar</td>\n",
              "      <td>South Mumbai</td>\n",
              "      <td>18.955343</td>\n",
              "      <td>72.807947</td>\n",
              "    </tr>\n",
              "    <tr>\n",
              "      <th>7</th>\n",
              "      <td>Malabar Hill</td>\n",
              "      <td>South Mumbai</td>\n",
              "      <td>18.958162</td>\n",
              "      <td>72.803366</td>\n",
              "    </tr>\n",
              "    <tr>\n",
              "      <th>8</th>\n",
              "      <td>Kalbadevi</td>\n",
              "      <td>South Mumbai</td>\n",
              "      <td>18.949258</td>\n",
              "      <td>72.827938</td>\n",
              "    </tr>\n",
              "    <tr>\n",
              "      <th>9</th>\n",
              "      <td>Bhuleshwar</td>\n",
              "      <td>South Mumbai</td>\n",
              "      <td>18.953771</td>\n",
              "      <td>72.827476</td>\n",
              "    </tr>\n",
              "    <tr>\n",
              "      <th>10</th>\n",
              "      <td>Masjid Bandar</td>\n",
              "      <td>South Mumbai</td>\n",
              "      <td>18.953599</td>\n",
              "      <td>72.838126</td>\n",
              "    </tr>\n",
              "    <tr>\n",
              "      <th>11</th>\n",
              "      <td>Darukhana</td>\n",
              "      <td>South Mumbai</td>\n",
              "      <td>18.977036</td>\n",
              "      <td>72.849077</td>\n",
              "    </tr>\n",
              "    <tr>\n",
              "      <th>12</th>\n",
              "      <td>Pydhoni</td>\n",
              "      <td>South Mumbai</td>\n",
              "      <td>18.953994</td>\n",
              "      <td>72.832379</td>\n",
              "    </tr>\n",
              "    <tr>\n",
              "      <th>13</th>\n",
              "      <td>Nagpada</td>\n",
              "      <td>South Mumbai</td>\n",
              "      <td>18.968178</td>\n",
              "      <td>72.828601</td>\n",
              "    </tr>\n",
              "    <tr>\n",
              "      <th>14</th>\n",
              "      <td>Dongri</td>\n",
              "      <td>South Mumbai</td>\n",
              "      <td>18.962226</td>\n",
              "      <td>72.836795</td>\n",
              "    </tr>\n",
              "    <tr>\n",
              "      <th>15</th>\n",
              "      <td>Byculla</td>\n",
              "      <td>South Mumbai</td>\n",
              "      <td>18.976622</td>\n",
              "      <td>72.832794</td>\n",
              "    </tr>\n",
              "    <tr>\n",
              "      <th>16</th>\n",
              "      <td>Grand Road</td>\n",
              "      <td>South Mumbai</td>\n",
              "      <td>18.938771</td>\n",
              "      <td>72.835335</td>\n",
              "    </tr>\n",
              "    <tr>\n",
              "      <th>17</th>\n",
              "      <td>Mazgaon</td>\n",
              "      <td>South Mumbai</td>\n",
              "      <td>18.968052</td>\n",
              "      <td>72.840012</td>\n",
              "    </tr>\n",
              "    <tr>\n",
              "      <th>18</th>\n",
              "      <td>Mumbai Central</td>\n",
              "      <td>South Mumbai</td>\n",
              "      <td>18.969586</td>\n",
              "      <td>72.819315</td>\n",
              "    </tr>\n",
              "    <tr>\n",
              "      <th>19</th>\n",
              "      <td>Mahalaxmi</td>\n",
              "      <td>South Mumbai</td>\n",
              "      <td>18.982568</td>\n",
              "      <td>72.824160</td>\n",
              "    </tr>\n",
              "  </tbody>\n",
              "</table>\n",
              "</div>"
            ],
            "text/plain": [
              "      Neighborhood       Borough   Latitude  Longitude\n",
              "0           Colaba  South Mumbai  18.915091  72.825969\n",
              "1    Apollo Bandar  South Mumbai  18.918375  72.831443\n",
              "2             Fort  South Mumbai  18.933266  72.834515\n",
              "3       Churchgate  South Mumbai  18.935957  72.827340\n",
              "4    Nariman Point  South Mumbai  18.925951  72.823208\n",
              "5     Marine Lines  South Mumbai  18.945670  72.823781\n",
              "6       Walkeshwar  South Mumbai  18.955343  72.807947\n",
              "7     Malabar Hill  South Mumbai  18.958162  72.803366\n",
              "8        Kalbadevi  South Mumbai  18.949258  72.827938\n",
              "9       Bhuleshwar  South Mumbai  18.953771  72.827476\n",
              "10   Masjid Bandar  South Mumbai  18.953599  72.838126\n",
              "11       Darukhana  South Mumbai  18.977036  72.849077\n",
              "12         Pydhoni  South Mumbai  18.953994  72.832379\n",
              "13         Nagpada  South Mumbai  18.968178  72.828601\n",
              "14          Dongri  South Mumbai  18.962226  72.836795\n",
              "15         Byculla  South Mumbai  18.976622  72.832794\n",
              "16      Grand Road  South Mumbai  18.938771  72.835335\n",
              "17         Mazgaon  South Mumbai  18.968052  72.840012\n",
              "18  Mumbai Central  South Mumbai  18.969586  72.819315\n",
              "19       Mahalaxmi  South Mumbai  18.982568  72.824160"
            ]
          },
          "metadata": {
            "tags": []
          },
          "execution_count": 103
        }
      ]
    },
    {
      "cell_type": "code",
      "metadata": {
        "id": "B7KQw4yoD9EE",
        "colab_type": "code",
        "colab": {}
      },
      "source": [
        "df2.to_csv(\"Mumbai_locations.csv\")"
      ],
      "execution_count": 0,
      "outputs": []
    },
    {
      "cell_type": "markdown",
      "metadata": {
        "id": "hucC21Yl9y7c",
        "colab_type": "text"
      },
      "source": [
        "### Use geopy library to get the latitude and longitude values of New York City.\n",
        "### In order to define an instance of the geocoder, we need to define a user_agent. We will name our agent ny_explorer, as shown below."
      ]
    },
    {
      "cell_type": "markdown",
      "metadata": {
        "id": "Xl9jqwod_QDj",
        "colab_type": "text"
      },
      "source": [
        "### Create a map of Mumbai with neighborhoods superimposed on top.\n"
      ]
    },
    {
      "cell_type": "code",
      "metadata": {
        "id": "uDkMmiBGAnKV",
        "colab_type": "code",
        "colab": {
          "base_uri": "https://localhost:8080/",
          "height": 577
        },
        "outputId": "a8651abd-9653-4f99-8f04-464df89499ff"
      },
      "source": [
        "map_mumbai = folium.Map(location=[latitude, longitude], zoom_start=14)\n",
        "map_mumbai"
      ],
      "execution_count": 12,
      "outputs": [
        {
          "output_type": "execute_result",
          "data": {
            "text/html": [
              "<div style=\"width:100%;\"><div style=\"position:relative;width:100%;height:0;padding-bottom:60%;\"><iframe src=\"about:blank\" style=\"position:absolute;width:100%;height:100%;left:0;top:0;border:none !important;\" data-html=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 onload=\"this.contentDocument.open();this.contentDocument.write(atob(this.getAttribute('data-html')));this.contentDocument.close();\" allowfullscreen webkitallowfullscreen mozallowfullscreen></iframe></div></div>"
            ],
            "text/plain": [
              "<folium.folium.Map at 0x7fdba7d29390>"
            ]
          },
          "metadata": {
            "tags": []
          },
          "execution_count": 12
        }
      ]
    },
    {
      "cell_type": "code",
      "metadata": {
        "id": "LTI6w1wP_bNa",
        "colab_type": "code",
        "colab": {}
      },
      "source": [
        "\n",
        "# add markers to map\n",
        "for lat, lng, borough, neighborhood in zip(neighborhoods['Latitude'], neighborhoods['Longitude'], neighborhoods['Borough'], neighborhoods['Neighborhood']):\n",
        "    label = '{}, {}'.format(neighborhood, borough)\n",
        "    label = folium.Popup(label, parse_html=True)\n",
        "    folium.CircleMarker(\n",
        "        [lat, lng],\n",
        "        radius=5,\n",
        "        popup=label,\n",
        "        color='blue',\n",
        "        fill=True,\n",
        "        fill_color='#3186cc',\n",
        "        fill_opacity=0.7,\n",
        "        parse_html=False).add_to(map_mumbai)  \n",
        "    \n",
        "map_mumbai"
      ],
      "execution_count": 0,
      "outputs": []
    }
  ]
}