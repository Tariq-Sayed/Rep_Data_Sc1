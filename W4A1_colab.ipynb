{
  "nbformat": 4,
  "nbformat_minor": 0,
  "metadata": {
    "colab": {
      "name": "W4A1_colab.ipynb",
      "provenance": []
    },
    "kernelspec": {
      "name": "python3",
      "display_name": "Python 3"
    }
  },
  "cells": [
    {
      "cell_type": "code",
      "metadata": {
        "id": "RoBWVAMVzaY3",
        "colab_type": "code",
        "colab": {
          "base_uri": "https://localhost:8080/",
          "height": 35
        },
        "outputId": "b7e872dd-2548-41cd-f106-5fe2d11d9bae"
      },
      "source": [
        "print(\"Welcome\")"
      ],
      "execution_count": 1,
      "outputs": [
        {
          "output_type": "stream",
          "text": [
            "Welcome\n"
          ],
          "name": "stdout"
        }
      ]
    },
    {
      "cell_type": "markdown",
      "metadata": {
        "id": "-kbgiTB5z8SX",
        "colab_type": "text"
      },
      "source": [
        "**Library**"
      ]
    },
    {
      "cell_type": "markdown",
      "metadata": {
        "id": "N1YdWW-Cz7Ut",
        "colab_type": "text"
      },
      "source": [
        ""
      ]
    },
    {
      "cell_type": "code",
      "metadata": {
        "id": "15wlZcr5ztuH",
        "colab_type": "code",
        "colab": {
          "base_uri": "https://localhost:8080/",
          "height": 89
        },
        "outputId": "013aca58-a71a-4db8-976d-1c6cd3c8ce9c"
      },
      "source": [
        "import pandas as pd\n",
        "from pandas.io.json import json_normalize  # tranform JSON file into a pandas dataframe\n",
        "\n",
        "import numpy as np\n",
        "\n",
        "from bs4 import BeautifulSoup\n",
        "\n",
        "# Matplotlib and associated plotting modules\n",
        "import matplotlib.pyplot as plt\n",
        "import matplotlib.cm as cm\n",
        "import matplotlib.colors as colors\n",
        "\n",
        "import seaborn as sns\n",
        "from urllib.request import urlopen\n",
        "\n",
        "import requests\n",
        "# import k-means from clustering stage\n",
        "from sklearn.cluster import KMeans\n",
        "\n",
        "print(\"Library imported 56.\")\n"
      ],
      "execution_count": 3,
      "outputs": [
        {
          "output_type": "stream",
          "text": [
            "/usr/local/lib/python3.6/dist-packages/statsmodels/tools/_testing.py:19: FutureWarning: pandas.util.testing is deprecated. Use the functions in the public API at pandas.testing instead.\n",
            "  import pandas.util.testing as tm\n"
          ],
          "name": "stderr"
        },
        {
          "output_type": "stream",
          "text": [
            "Library imported 56.\n"
          ],
          "name": "stdout"
        }
      ]
    },
    {
      "cell_type": "code",
      "metadata": {
        "id": "cd80ngGa0KK1",
        "colab_type": "code",
        "colab": {
          "base_uri": "https://localhost:8080/",
          "height": 35
        },
        "outputId": "25fa9fe4-a726-449b-a2a1-6199fa534be3"
      },
      "source": [
        "import folium # map rendering library\n",
        "from geopy.geocoders import Nominatim # convert an address into latitude and longitude values\n",
        "print(\"Library imported 57.\")\n"
      ],
      "execution_count": 4,
      "outputs": [
        {
          "output_type": "stream",
          "text": [
            "Library imported 57.\n"
          ],
          "name": "stdout"
        }
      ]
    },
    {
      "cell_type": "code",
      "metadata": {
        "id": "DYo-aZJ2zicb",
        "colab_type": "code",
        "colab": {
          "base_uri": "https://localhost:8080/",
          "height": 202
        },
        "outputId": "c2cfe04c-cb4e-4360-d67d-dd383dd69ee8"
      },
      "source": [
        "link = \"https://en.wikipedia.org/wiki/List_of_postal_codes_of_Canada:_M\"\n",
        "df = pd.read_html(link, header = 0)[0]\n",
        "df.head()"
      ],
      "execution_count": 5,
      "outputs": [
        {
          "output_type": "execute_result",
          "data": {
            "text/html": [
              "<div>\n",
              "<style scoped>\n",
              "    .dataframe tbody tr th:only-of-type {\n",
              "        vertical-align: middle;\n",
              "    }\n",
              "\n",
              "    .dataframe tbody tr th {\n",
              "        vertical-align: top;\n",
              "    }\n",
              "\n",
              "    .dataframe thead th {\n",
              "        text-align: right;\n",
              "    }\n",
              "</style>\n",
              "<table border=\"1\" class=\"dataframe\">\n",
              "  <thead>\n",
              "    <tr style=\"text-align: right;\">\n",
              "      <th></th>\n",
              "      <th>Postal code</th>\n",
              "      <th>Borough</th>\n",
              "      <th>Neighborhood</th>\n",
              "    </tr>\n",
              "  </thead>\n",
              "  <tbody>\n",
              "    <tr>\n",
              "      <th>0</th>\n",
              "      <td>M1A</td>\n",
              "      <td>Not assigned</td>\n",
              "      <td>NaN</td>\n",
              "    </tr>\n",
              "    <tr>\n",
              "      <th>1</th>\n",
              "      <td>M2A</td>\n",
              "      <td>Not assigned</td>\n",
              "      <td>NaN</td>\n",
              "    </tr>\n",
              "    <tr>\n",
              "      <th>2</th>\n",
              "      <td>M3A</td>\n",
              "      <td>North York</td>\n",
              "      <td>Parkwoods</td>\n",
              "    </tr>\n",
              "    <tr>\n",
              "      <th>3</th>\n",
              "      <td>M4A</td>\n",
              "      <td>North York</td>\n",
              "      <td>Victoria Village</td>\n",
              "    </tr>\n",
              "    <tr>\n",
              "      <th>4</th>\n",
              "      <td>M5A</td>\n",
              "      <td>Downtown Toronto</td>\n",
              "      <td>Regent Park / Harbourfront</td>\n",
              "    </tr>\n",
              "  </tbody>\n",
              "</table>\n",
              "</div>"
            ],
            "text/plain": [
              "  Postal code           Borough                Neighborhood\n",
              "0         M1A      Not assigned                         NaN\n",
              "1         M2A      Not assigned                         NaN\n",
              "2         M3A        North York                   Parkwoods\n",
              "3         M4A        North York            Victoria Village\n",
              "4         M5A  Downtown Toronto  Regent Park / Harbourfront"
            ]
          },
          "metadata": {
            "tags": []
          },
          "execution_count": 5
        }
      ]
    },
    {
      "cell_type": "code",
      "metadata": {
        "id": "cRtkXRvE0Xjl",
        "colab_type": "code",
        "colab": {
          "base_uri": "https://localhost:8080/",
          "height": 35
        },
        "outputId": "f17b40cd-0371-4b8f-f5f5-906acbfd97f2"
      },
      "source": [
        "df.to_csv (r'D:\\Workspace\\data\\postal_Toronto.csv', index = None, header=True) \n",
        "print(\"Done1\")"
      ],
      "execution_count": 6,
      "outputs": [
        {
          "output_type": "stream",
          "text": [
            "Done1\n"
          ],
          "name": "stdout"
        }
      ]
    },
    {
      "cell_type": "code",
      "metadata": {
        "id": "QuhRtt9eurFJ",
        "colab_type": "code",
        "colab": {
          "base_uri": "https://localhost:8080/",
          "height": 72
        },
        "outputId": "d9335f6a-32cb-44bc-d297-c0f851cff9bd"
      },
      "source": [
        "areas = [\"Colaba\",\"Apollo Bandar\",\"Fort\",\"Churchgate\",\"Nariman Point\"\n",
        "        ,\"Marine Lines\",\"Walkeshwar\",\"Malabar Hill\",\"Kalbadevi\"\n",
        "        ,\"Bhuleshwar\",\"Masjid Bandar\",\"Darukhana\",\"Pydhoni\",\"Nagpada\",\"Dongri\",\"Byculla\",\"Grand Road\"\n",
        "        ,\"Mazgaon\",\"Mumbai Central\",\"Mahalaxmi\",\"Worli\"\n",
        "]\n",
        "\n",
        "\n",
        "\n",
        "full_address = []\n",
        " \n",
        "for area in areas:\n",
        "   \n",
        "  full_address.append(area + \", Mumbai\")\n",
        "\n",
        "#print(\"full_address\",full_address)\n",
        "#print(\"areas\",areas)"
      ],
      "execution_count": 100,
      "outputs": [
        {
          "output_type": "stream",
          "text": [
            "full_address ['Colaba, Mumbai', 'Apollo Bandar, Mumbai', 'Fort, Mumbai', 'Churchgate, Mumbai', 'Nariman Point, Mumbai', 'Marine Lines, Mumbai', 'Walkeshwar, Mumbai', 'Malabar Hill, Mumbai', 'Kalbadevi, Mumbai', 'Bhuleshwar, Mumbai', 'Masjid Bandar, Mumbai', 'Darukhana, Mumbai', 'Pydhoni, Mumbai', 'Nagpada, Mumbai', 'Dongri, Mumbai', 'Byculla, Mumbai', 'Grand Road, Mumbai', 'Mazgaon, Mumbai', 'Mumbai Central, Mumbai', 'Mahalaxmi, Mumbai', 'Worli, Mumbai']\n",
            "areas ['Colaba', 'Apollo Bandar', 'Fort', 'Churchgate', 'Nariman Point', 'Marine Lines', 'Walkeshwar', 'Malabar Hill', 'Kalbadevi', 'Bhuleshwar', 'Masjid Bandar', 'Darukhana', 'Pydhoni', 'Nagpada', 'Dongri', 'Byculla', 'Grand Road', 'Mazgaon', 'Mumbai Central', 'Mahalaxmi', 'Worli']\n"
          ],
          "name": "stdout"
        }
      ]
    },
    {
      "cell_type": "code",
      "metadata": {
        "id": "zLZjlt_JXHVu",
        "colab_type": "code",
        "colab": {}
      },
      "source": [
        "\n",
        "dic1 = {\"Neighborhood\": areas,\"Address\":full_address}\n",
        "#dic1\n"
      ],
      "execution_count": 0,
      "outputs": []
    },
    {
      "cell_type": "code",
      "metadata": {
        "id": "jPGLz9HF-Ioc",
        "colab_type": "code",
        "colab": {
          "base_uri": "https://localhost:8080/",
          "height": 693
        },
        "outputId": "8577e881-fe74-45ec-ffea-26897fdaef7c"
      },
      "source": [
        "df2 = pd.DataFrame.from_dict(dic1)\n",
        "df2"
      ],
      "execution_count": 102,
      "outputs": [
        {
          "output_type": "execute_result",
          "data": {
            "text/html": [
              "<div>\n",
              "<style scoped>\n",
              "    .dataframe tbody tr th:only-of-type {\n",
              "        vertical-align: middle;\n",
              "    }\n",
              "\n",
              "    .dataframe tbody tr th {\n",
              "        vertical-align: top;\n",
              "    }\n",
              "\n",
              "    .dataframe thead th {\n",
              "        text-align: right;\n",
              "    }\n",
              "</style>\n",
              "<table border=\"1\" class=\"dataframe\">\n",
              "  <thead>\n",
              "    <tr style=\"text-align: right;\">\n",
              "      <th></th>\n",
              "      <th>Neighborhood</th>\n",
              "      <th>Address</th>\n",
              "    </tr>\n",
              "  </thead>\n",
              "  <tbody>\n",
              "    <tr>\n",
              "      <th>0</th>\n",
              "      <td>Colaba</td>\n",
              "      <td>Colaba, Mumbai</td>\n",
              "    </tr>\n",
              "    <tr>\n",
              "      <th>1</th>\n",
              "      <td>Apollo Bandar</td>\n",
              "      <td>Apollo Bandar, Mumbai</td>\n",
              "    </tr>\n",
              "    <tr>\n",
              "      <th>2</th>\n",
              "      <td>Fort</td>\n",
              "      <td>Fort, Mumbai</td>\n",
              "    </tr>\n",
              "    <tr>\n",
              "      <th>3</th>\n",
              "      <td>Churchgate</td>\n",
              "      <td>Churchgate, Mumbai</td>\n",
              "    </tr>\n",
              "    <tr>\n",
              "      <th>4</th>\n",
              "      <td>Nariman Point</td>\n",
              "      <td>Nariman Point, Mumbai</td>\n",
              "    </tr>\n",
              "    <tr>\n",
              "      <th>5</th>\n",
              "      <td>Marine Lines</td>\n",
              "      <td>Marine Lines, Mumbai</td>\n",
              "    </tr>\n",
              "    <tr>\n",
              "      <th>6</th>\n",
              "      <td>Walkeshwar</td>\n",
              "      <td>Walkeshwar, Mumbai</td>\n",
              "    </tr>\n",
              "    <tr>\n",
              "      <th>7</th>\n",
              "      <td>Malabar Hill</td>\n",
              "      <td>Malabar Hill, Mumbai</td>\n",
              "    </tr>\n",
              "    <tr>\n",
              "      <th>8</th>\n",
              "      <td>Kalbadevi</td>\n",
              "      <td>Kalbadevi, Mumbai</td>\n",
              "    </tr>\n",
              "    <tr>\n",
              "      <th>9</th>\n",
              "      <td>Bhuleshwar</td>\n",
              "      <td>Bhuleshwar, Mumbai</td>\n",
              "    </tr>\n",
              "    <tr>\n",
              "      <th>10</th>\n",
              "      <td>Masjid Bandar</td>\n",
              "      <td>Masjid Bandar, Mumbai</td>\n",
              "    </tr>\n",
              "    <tr>\n",
              "      <th>11</th>\n",
              "      <td>Darukhana</td>\n",
              "      <td>Darukhana, Mumbai</td>\n",
              "    </tr>\n",
              "    <tr>\n",
              "      <th>12</th>\n",
              "      <td>Pydhoni</td>\n",
              "      <td>Pydhoni, Mumbai</td>\n",
              "    </tr>\n",
              "    <tr>\n",
              "      <th>13</th>\n",
              "      <td>Nagpada</td>\n",
              "      <td>Nagpada, Mumbai</td>\n",
              "    </tr>\n",
              "    <tr>\n",
              "      <th>14</th>\n",
              "      <td>Dongri</td>\n",
              "      <td>Dongri, Mumbai</td>\n",
              "    </tr>\n",
              "    <tr>\n",
              "      <th>15</th>\n",
              "      <td>Byculla</td>\n",
              "      <td>Byculla, Mumbai</td>\n",
              "    </tr>\n",
              "    <tr>\n",
              "      <th>16</th>\n",
              "      <td>Grand Road</td>\n",
              "      <td>Grand Road, Mumbai</td>\n",
              "    </tr>\n",
              "    <tr>\n",
              "      <th>17</th>\n",
              "      <td>Mazgaon</td>\n",
              "      <td>Mazgaon, Mumbai</td>\n",
              "    </tr>\n",
              "    <tr>\n",
              "      <th>18</th>\n",
              "      <td>Mumbai Central</td>\n",
              "      <td>Mumbai Central, Mumbai</td>\n",
              "    </tr>\n",
              "    <tr>\n",
              "      <th>19</th>\n",
              "      <td>Mahalaxmi</td>\n",
              "      <td>Mahalaxmi, Mumbai</td>\n",
              "    </tr>\n",
              "    <tr>\n",
              "      <th>20</th>\n",
              "      <td>Worli</td>\n",
              "      <td>Worli, Mumbai</td>\n",
              "    </tr>\n",
              "  </tbody>\n",
              "</table>\n",
              "</div>"
            ],
            "text/plain": [
              "      Neighborhood                 Address\n",
              "0           Colaba          Colaba, Mumbai\n",
              "1    Apollo Bandar   Apollo Bandar, Mumbai\n",
              "2             Fort            Fort, Mumbai\n",
              "3       Churchgate      Churchgate, Mumbai\n",
              "4    Nariman Point   Nariman Point, Mumbai\n",
              "5     Marine Lines    Marine Lines, Mumbai\n",
              "6       Walkeshwar      Walkeshwar, Mumbai\n",
              "7     Malabar Hill    Malabar Hill, Mumbai\n",
              "8        Kalbadevi       Kalbadevi, Mumbai\n",
              "9       Bhuleshwar      Bhuleshwar, Mumbai\n",
              "10   Masjid Bandar   Masjid Bandar, Mumbai\n",
              "11       Darukhana       Darukhana, Mumbai\n",
              "12         Pydhoni         Pydhoni, Mumbai\n",
              "13         Nagpada         Nagpada, Mumbai\n",
              "14          Dongri          Dongri, Mumbai\n",
              "15         Byculla         Byculla, Mumbai\n",
              "16      Grand Road      Grand Road, Mumbai\n",
              "17         Mazgaon         Mazgaon, Mumbai\n",
              "18  Mumbai Central  Mumbai Central, Mumbai\n",
              "19       Mahalaxmi       Mahalaxmi, Mumbai\n",
              "20           Worli           Worli, Mumbai"
            ]
          },
          "metadata": {
            "tags": []
          },
          "execution_count": 102
        }
      ]
    },
    {
      "cell_type": "code",
      "metadata": {
        "id": "6-nqk-DP_vun",
        "colab_type": "code",
        "colab": {
          "base_uri": "https://localhost:8080/",
          "height": 780
        },
        "outputId": "24702546-2250-4f80-e70f-536e3ed8d214"
      },
      "source": [
        "for  neighborhood,address in zip(df2['Neighborhood'], df2['Address']):\n",
        "     print(\"neighborhood:\", neighborhood)\n",
        "     print(\"address\",address)"
      ],
      "execution_count": 98,
      "outputs": [
        {
          "output_type": "stream",
          "text": [
            "neighborhood: Colaba\n",
            "address Colaba, Mumbai\n",
            "neighborhood: Apollo Bandar\n",
            "address Apollo Bandar, Mumbai\n",
            "neighborhood: Fort\n",
            "address Fort, Mumbai\n",
            "neighborhood: Churchgate\n",
            "address Churchgate, Mumbai\n",
            "neighborhood: Nariman Point\n",
            "address Nariman Point, Mumbai\n",
            "neighborhood: Marine Lines\n",
            "address Marine Lines, Mumbai\n",
            "neighborhood: Walkeshwar\n",
            "address Walkeshwar, Mumbai\n",
            "neighborhood: Malabar Hill\n",
            "address Malabar Hill, Mumbai\n",
            "neighborhood: Girgaon Chowpatty\n",
            "address Girgaon Chowpatty, Mumbai\n",
            "neighborhood: Kalbadevi\n",
            "address Kalbadevi, Mumbai\n",
            "neighborhood: Bhuleshwar\n",
            "address Bhuleshwar, Mumbai\n",
            "neighborhood: Masjid Bandar\n",
            "address Masjid Bandar, Mumbai\n",
            "neighborhood: Darukhana\n",
            "address Darukhana, Mumbai\n",
            "neighborhood: Pydhoni\n",
            "address Pydhoni, Mumbai\n",
            "neighborhood: Nagpada\n",
            "address Nagpada, Mumbai\n",
            "neighborhood: Dongri\n",
            "address Dongri, Mumbai\n",
            "neighborhood: Byculla\n",
            "address Byculla, Mumbai\n",
            "neighborhood: Grand Road\n",
            "address Grand Road, Mumbai\n",
            "neighborhood: Mazgaon\n",
            "address Mazgaon, Mumbai\n",
            "neighborhood: Mumbai Central\n",
            "address Mumbai Central, Mumbai\n",
            "neighborhood: Mahalaxmi\n",
            "address Mahalaxmi, Mumbai\n",
            "neighborhood: Worli\n",
            "address Worli, Mumbai\n"
          ],
          "name": "stdout"
        }
      ]
    },
    {
      "cell_type": "code",
      "metadata": {
        "id": "MLC7q8q2e2W0",
        "colab_type": "code",
        "colab": {
          "base_uri": "https://localhost:8080/",
          "height": 766
        },
        "outputId": "37750d04-9379-4267-b73b-500b464f2846"
      },
      "source": [
        "borough = 'South Mumbai'\n",
        "data = []\n",
        "for  neighborhood,address in zip(df2['Neighborhood'], df2['Address']):\n",
        "  #print(\"neighborhood:\", neighborhood)\n",
        "  #print(\"address:\", address)\n",
        "  geolocator = Nominatim(user_agent=\"ny_explorer\")\n",
        "  location = geolocator.geocode(address)\n",
        "  latitude = location.latitude\n",
        "  longitude = location.longitude\n",
        "  #print(\"latitude:\", latitude)\n",
        "  #print(\"longitude:\", longitude)\n",
        "  data.append([neighborhood,borough,latitude,longitude])\n",
        "\n",
        "col_names =  ['Neighborhood', 'Borough', 'Latitude','Longitude']\n",
        "neighborhoods = pd.DataFrame(data,columns=col_names)\n",
        "print(\"dtypes : \", neighborhoods.dtypes)\n",
        "print(\"rows : \", neighborhoods.shape[0])\n",
        "neighborhoods.head(20)\n"
      ],
      "execution_count": 108,
      "outputs": [
        {
          "output_type": "stream",
          "text": [
            "dtypes :  Neighborhood     object\n",
            "Borough          object\n",
            "Latitude        float64\n",
            "Longitude       float64\n",
            "dtype: object\n",
            "rows :  21\n"
          ],
          "name": "stdout"
        },
        {
          "output_type": "execute_result",
          "data": {
            "text/html": [
              "<div>\n",
              "<style scoped>\n",
              "    .dataframe tbody tr th:only-of-type {\n",
              "        vertical-align: middle;\n",
              "    }\n",
              "\n",
              "    .dataframe tbody tr th {\n",
              "        vertical-align: top;\n",
              "    }\n",
              "\n",
              "    .dataframe thead th {\n",
              "        text-align: right;\n",
              "    }\n",
              "</style>\n",
              "<table border=\"1\" class=\"dataframe\">\n",
              "  <thead>\n",
              "    <tr style=\"text-align: right;\">\n",
              "      <th></th>\n",
              "      <th>Neighborhood</th>\n",
              "      <th>Borough</th>\n",
              "      <th>Latitude</th>\n",
              "      <th>Longitude</th>\n",
              "    </tr>\n",
              "  </thead>\n",
              "  <tbody>\n",
              "    <tr>\n",
              "      <th>0</th>\n",
              "      <td>Colaba</td>\n",
              "      <td>South Mumbai</td>\n",
              "      <td>18.915091</td>\n",
              "      <td>72.825969</td>\n",
              "    </tr>\n",
              "    <tr>\n",
              "      <th>1</th>\n",
              "      <td>Apollo Bandar</td>\n",
              "      <td>South Mumbai</td>\n",
              "      <td>18.918375</td>\n",
              "      <td>72.831443</td>\n",
              "    </tr>\n",
              "    <tr>\n",
              "      <th>2</th>\n",
              "      <td>Fort</td>\n",
              "      <td>South Mumbai</td>\n",
              "      <td>18.933266</td>\n",
              "      <td>72.834515</td>\n",
              "    </tr>\n",
              "    <tr>\n",
              "      <th>3</th>\n",
              "      <td>Churchgate</td>\n",
              "      <td>South Mumbai</td>\n",
              "      <td>18.935957</td>\n",
              "      <td>72.827340</td>\n",
              "    </tr>\n",
              "    <tr>\n",
              "      <th>4</th>\n",
              "      <td>Nariman Point</td>\n",
              "      <td>South Mumbai</td>\n",
              "      <td>18.925951</td>\n",
              "      <td>72.823208</td>\n",
              "    </tr>\n",
              "    <tr>\n",
              "      <th>5</th>\n",
              "      <td>Marine Lines</td>\n",
              "      <td>South Mumbai</td>\n",
              "      <td>18.945670</td>\n",
              "      <td>72.823781</td>\n",
              "    </tr>\n",
              "    <tr>\n",
              "      <th>6</th>\n",
              "      <td>Walkeshwar</td>\n",
              "      <td>South Mumbai</td>\n",
              "      <td>18.955343</td>\n",
              "      <td>72.807947</td>\n",
              "    </tr>\n",
              "    <tr>\n",
              "      <th>7</th>\n",
              "      <td>Malabar Hill</td>\n",
              "      <td>South Mumbai</td>\n",
              "      <td>18.958162</td>\n",
              "      <td>72.803366</td>\n",
              "    </tr>\n",
              "    <tr>\n",
              "      <th>8</th>\n",
              "      <td>Kalbadevi</td>\n",
              "      <td>South Mumbai</td>\n",
              "      <td>18.949258</td>\n",
              "      <td>72.827938</td>\n",
              "    </tr>\n",
              "    <tr>\n",
              "      <th>9</th>\n",
              "      <td>Bhuleshwar</td>\n",
              "      <td>South Mumbai</td>\n",
              "      <td>18.953771</td>\n",
              "      <td>72.827476</td>\n",
              "    </tr>\n",
              "    <tr>\n",
              "      <th>10</th>\n",
              "      <td>Masjid Bandar</td>\n",
              "      <td>South Mumbai</td>\n",
              "      <td>18.953599</td>\n",
              "      <td>72.838126</td>\n",
              "    </tr>\n",
              "    <tr>\n",
              "      <th>11</th>\n",
              "      <td>Darukhana</td>\n",
              "      <td>South Mumbai</td>\n",
              "      <td>18.977036</td>\n",
              "      <td>72.849077</td>\n",
              "    </tr>\n",
              "    <tr>\n",
              "      <th>12</th>\n",
              "      <td>Pydhoni</td>\n",
              "      <td>South Mumbai</td>\n",
              "      <td>18.953994</td>\n",
              "      <td>72.832379</td>\n",
              "    </tr>\n",
              "    <tr>\n",
              "      <th>13</th>\n",
              "      <td>Nagpada</td>\n",
              "      <td>South Mumbai</td>\n",
              "      <td>18.968178</td>\n",
              "      <td>72.828601</td>\n",
              "    </tr>\n",
              "    <tr>\n",
              "      <th>14</th>\n",
              "      <td>Dongri</td>\n",
              "      <td>South Mumbai</td>\n",
              "      <td>18.962226</td>\n",
              "      <td>72.836795</td>\n",
              "    </tr>\n",
              "    <tr>\n",
              "      <th>15</th>\n",
              "      <td>Byculla</td>\n",
              "      <td>South Mumbai</td>\n",
              "      <td>18.976622</td>\n",
              "      <td>72.832794</td>\n",
              "    </tr>\n",
              "    <tr>\n",
              "      <th>16</th>\n",
              "      <td>Grand Road</td>\n",
              "      <td>South Mumbai</td>\n",
              "      <td>18.938771</td>\n",
              "      <td>72.835335</td>\n",
              "    </tr>\n",
              "    <tr>\n",
              "      <th>17</th>\n",
              "      <td>Mazgaon</td>\n",
              "      <td>South Mumbai</td>\n",
              "      <td>18.968052</td>\n",
              "      <td>72.840012</td>\n",
              "    </tr>\n",
              "    <tr>\n",
              "      <th>18</th>\n",
              "      <td>Mumbai Central</td>\n",
              "      <td>South Mumbai</td>\n",
              "      <td>18.969586</td>\n",
              "      <td>72.819315</td>\n",
              "    </tr>\n",
              "    <tr>\n",
              "      <th>19</th>\n",
              "      <td>Mahalaxmi</td>\n",
              "      <td>South Mumbai</td>\n",
              "      <td>18.982568</td>\n",
              "      <td>72.824160</td>\n",
              "    </tr>\n",
              "  </tbody>\n",
              "</table>\n",
              "</div>"
            ],
            "text/plain": [
              "      Neighborhood       Borough   Latitude  Longitude\n",
              "0           Colaba  South Mumbai  18.915091  72.825969\n",
              "1    Apollo Bandar  South Mumbai  18.918375  72.831443\n",
              "2             Fort  South Mumbai  18.933266  72.834515\n",
              "3       Churchgate  South Mumbai  18.935957  72.827340\n",
              "4    Nariman Point  South Mumbai  18.925951  72.823208\n",
              "5     Marine Lines  South Mumbai  18.945670  72.823781\n",
              "6       Walkeshwar  South Mumbai  18.955343  72.807947\n",
              "7     Malabar Hill  South Mumbai  18.958162  72.803366\n",
              "8        Kalbadevi  South Mumbai  18.949258  72.827938\n",
              "9       Bhuleshwar  South Mumbai  18.953771  72.827476\n",
              "10   Masjid Bandar  South Mumbai  18.953599  72.838126\n",
              "11       Darukhana  South Mumbai  18.977036  72.849077\n",
              "12         Pydhoni  South Mumbai  18.953994  72.832379\n",
              "13         Nagpada  South Mumbai  18.968178  72.828601\n",
              "14          Dongri  South Mumbai  18.962226  72.836795\n",
              "15         Byculla  South Mumbai  18.976622  72.832794\n",
              "16      Grand Road  South Mumbai  18.938771  72.835335\n",
              "17         Mazgaon  South Mumbai  18.968052  72.840012\n",
              "18  Mumbai Central  South Mumbai  18.969586  72.819315\n",
              "19       Mahalaxmi  South Mumbai  18.982568  72.824160"
            ]
          },
          "metadata": {
            "tags": []
          },
          "execution_count": 108
        }
      ]
    },
    {
      "cell_type": "code",
      "metadata": {
        "id": "oNTo71N-GlG5",
        "colab_type": "code",
        "colab": {
          "base_uri": "https://localhost:8080/",
          "height": 662
        },
        "outputId": "fdcb3df8-d515-49ec-e444-88de9cf00ce0"
      },
      "source": [
        "neighborhoods.head(20)"
      ],
      "execution_count": 109,
      "outputs": [
        {
          "output_type": "execute_result",
          "data": {
            "text/html": [
              "<div>\n",
              "<style scoped>\n",
              "    .dataframe tbody tr th:only-of-type {\n",
              "        vertical-align: middle;\n",
              "    }\n",
              "\n",
              "    .dataframe tbody tr th {\n",
              "        vertical-align: top;\n",
              "    }\n",
              "\n",
              "    .dataframe thead th {\n",
              "        text-align: right;\n",
              "    }\n",
              "</style>\n",
              "<table border=\"1\" class=\"dataframe\">\n",
              "  <thead>\n",
              "    <tr style=\"text-align: right;\">\n",
              "      <th></th>\n",
              "      <th>Neighborhood</th>\n",
              "      <th>Borough</th>\n",
              "      <th>Latitude</th>\n",
              "      <th>Longitude</th>\n",
              "    </tr>\n",
              "  </thead>\n",
              "  <tbody>\n",
              "    <tr>\n",
              "      <th>0</th>\n",
              "      <td>Colaba</td>\n",
              "      <td>South Mumbai</td>\n",
              "      <td>18.915091</td>\n",
              "      <td>72.825969</td>\n",
              "    </tr>\n",
              "    <tr>\n",
              "      <th>1</th>\n",
              "      <td>Apollo Bandar</td>\n",
              "      <td>South Mumbai</td>\n",
              "      <td>18.918375</td>\n",
              "      <td>72.831443</td>\n",
              "    </tr>\n",
              "    <tr>\n",
              "      <th>2</th>\n",
              "      <td>Fort</td>\n",
              "      <td>South Mumbai</td>\n",
              "      <td>18.933266</td>\n",
              "      <td>72.834515</td>\n",
              "    </tr>\n",
              "    <tr>\n",
              "      <th>3</th>\n",
              "      <td>Churchgate</td>\n",
              "      <td>South Mumbai</td>\n",
              "      <td>18.935957</td>\n",
              "      <td>72.827340</td>\n",
              "    </tr>\n",
              "    <tr>\n",
              "      <th>4</th>\n",
              "      <td>Nariman Point</td>\n",
              "      <td>South Mumbai</td>\n",
              "      <td>18.925951</td>\n",
              "      <td>72.823208</td>\n",
              "    </tr>\n",
              "    <tr>\n",
              "      <th>5</th>\n",
              "      <td>Marine Lines</td>\n",
              "      <td>South Mumbai</td>\n",
              "      <td>18.945670</td>\n",
              "      <td>72.823781</td>\n",
              "    </tr>\n",
              "    <tr>\n",
              "      <th>6</th>\n",
              "      <td>Walkeshwar</td>\n",
              "      <td>South Mumbai</td>\n",
              "      <td>18.955343</td>\n",
              "      <td>72.807947</td>\n",
              "    </tr>\n",
              "    <tr>\n",
              "      <th>7</th>\n",
              "      <td>Malabar Hill</td>\n",
              "      <td>South Mumbai</td>\n",
              "      <td>18.958162</td>\n",
              "      <td>72.803366</td>\n",
              "    </tr>\n",
              "    <tr>\n",
              "      <th>8</th>\n",
              "      <td>Kalbadevi</td>\n",
              "      <td>South Mumbai</td>\n",
              "      <td>18.949258</td>\n",
              "      <td>72.827938</td>\n",
              "    </tr>\n",
              "    <tr>\n",
              "      <th>9</th>\n",
              "      <td>Bhuleshwar</td>\n",
              "      <td>South Mumbai</td>\n",
              "      <td>18.953771</td>\n",
              "      <td>72.827476</td>\n",
              "    </tr>\n",
              "    <tr>\n",
              "      <th>10</th>\n",
              "      <td>Masjid Bandar</td>\n",
              "      <td>South Mumbai</td>\n",
              "      <td>18.953599</td>\n",
              "      <td>72.838126</td>\n",
              "    </tr>\n",
              "    <tr>\n",
              "      <th>11</th>\n",
              "      <td>Darukhana</td>\n",
              "      <td>South Mumbai</td>\n",
              "      <td>18.977036</td>\n",
              "      <td>72.849077</td>\n",
              "    </tr>\n",
              "    <tr>\n",
              "      <th>12</th>\n",
              "      <td>Pydhoni</td>\n",
              "      <td>South Mumbai</td>\n",
              "      <td>18.953994</td>\n",
              "      <td>72.832379</td>\n",
              "    </tr>\n",
              "    <tr>\n",
              "      <th>13</th>\n",
              "      <td>Nagpada</td>\n",
              "      <td>South Mumbai</td>\n",
              "      <td>18.968178</td>\n",
              "      <td>72.828601</td>\n",
              "    </tr>\n",
              "    <tr>\n",
              "      <th>14</th>\n",
              "      <td>Dongri</td>\n",
              "      <td>South Mumbai</td>\n",
              "      <td>18.962226</td>\n",
              "      <td>72.836795</td>\n",
              "    </tr>\n",
              "    <tr>\n",
              "      <th>15</th>\n",
              "      <td>Byculla</td>\n",
              "      <td>South Mumbai</td>\n",
              "      <td>18.976622</td>\n",
              "      <td>72.832794</td>\n",
              "    </tr>\n",
              "    <tr>\n",
              "      <th>16</th>\n",
              "      <td>Grand Road</td>\n",
              "      <td>South Mumbai</td>\n",
              "      <td>18.938771</td>\n",
              "      <td>72.835335</td>\n",
              "    </tr>\n",
              "    <tr>\n",
              "      <th>17</th>\n",
              "      <td>Mazgaon</td>\n",
              "      <td>South Mumbai</td>\n",
              "      <td>18.968052</td>\n",
              "      <td>72.840012</td>\n",
              "    </tr>\n",
              "    <tr>\n",
              "      <th>18</th>\n",
              "      <td>Mumbai Central</td>\n",
              "      <td>South Mumbai</td>\n",
              "      <td>18.969586</td>\n",
              "      <td>72.819315</td>\n",
              "    </tr>\n",
              "    <tr>\n",
              "      <th>19</th>\n",
              "      <td>Mahalaxmi</td>\n",
              "      <td>South Mumbai</td>\n",
              "      <td>18.982568</td>\n",
              "      <td>72.824160</td>\n",
              "    </tr>\n",
              "  </tbody>\n",
              "</table>\n",
              "</div>"
            ],
            "text/plain": [
              "      Neighborhood       Borough   Latitude  Longitude\n",
              "0           Colaba  South Mumbai  18.915091  72.825969\n",
              "1    Apollo Bandar  South Mumbai  18.918375  72.831443\n",
              "2             Fort  South Mumbai  18.933266  72.834515\n",
              "3       Churchgate  South Mumbai  18.935957  72.827340\n",
              "4    Nariman Point  South Mumbai  18.925951  72.823208\n",
              "5     Marine Lines  South Mumbai  18.945670  72.823781\n",
              "6       Walkeshwar  South Mumbai  18.955343  72.807947\n",
              "7     Malabar Hill  South Mumbai  18.958162  72.803366\n",
              "8        Kalbadevi  South Mumbai  18.949258  72.827938\n",
              "9       Bhuleshwar  South Mumbai  18.953771  72.827476\n",
              "10   Masjid Bandar  South Mumbai  18.953599  72.838126\n",
              "11       Darukhana  South Mumbai  18.977036  72.849077\n",
              "12         Pydhoni  South Mumbai  18.953994  72.832379\n",
              "13         Nagpada  South Mumbai  18.968178  72.828601\n",
              "14          Dongri  South Mumbai  18.962226  72.836795\n",
              "15         Byculla  South Mumbai  18.976622  72.832794\n",
              "16      Grand Road  South Mumbai  18.938771  72.835335\n",
              "17         Mazgaon  South Mumbai  18.968052  72.840012\n",
              "18  Mumbai Central  South Mumbai  18.969586  72.819315\n",
              "19       Mahalaxmi  South Mumbai  18.982568  72.824160"
            ]
          },
          "metadata": {
            "tags": []
          },
          "execution_count": 109
        }
      ]
    },
    {
      "cell_type": "code",
      "metadata": {
        "id": "B7KQw4yoD9EE",
        "colab_type": "code",
        "colab": {}
      },
      "source": [
        "neighborhoods.to_csv(\"Mumbai_locations2.csv\")"
      ],
      "execution_count": 0,
      "outputs": []
    },
    {
      "cell_type": "markdown",
      "metadata": {
        "id": "hucC21Yl9y7c",
        "colab_type": "text"
      },
      "source": [
        "### Use geopy library to get the latitude and longitude values of New York City.\n",
        "### In order to define an instance of the geocoder, we need to define a user_agent. We will name our agent ny_explorer, as shown below."
      ]
    },
    {
      "cell_type": "markdown",
      "metadata": {
        "id": "Xl9jqwod_QDj",
        "colab_type": "text"
      },
      "source": [
        "### Create a map of Mumbai with neighborhoods superimposed on top.\n"
      ]
    },
    {
      "cell_type": "code",
      "metadata": {
        "id": "uDkMmiBGAnKV",
        "colab_type": "code",
        "colab": {
          "base_uri": "https://localhost:8080/",
          "height": 513
        },
        "outputId": "a8651abd-9653-4f99-8f04-464df89499ff"
      },
      "source": [
        "map_mumbai = folium.Map(location=[latitude, longitude], zoom_start=14)\n",
        "map_mumbai"
      ],
      "execution_count": 12,
      "outputs": [
        {
          "output_type": "execute_result",
          "data": {
            "text/html": [
              "<div style=\"width:100%;\"><div style=\"position:relative;width:100%;height:0;padding-bottom:60%;\"><iframe src=\"about:blank\" style=\"position:absolute;width:100%;height:100%;left:0;top:0;border:none !important;\" data-html=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 onload=\"this.contentDocument.open();this.contentDocument.write(atob(this.getAttribute('data-html')));this.contentDocument.close();\" allowfullscreen webkitallowfullscreen mozallowfullscreen></iframe></div></div>"
            ],
            "text/plain": [
              "<folium.folium.Map at 0x7fdba7d29390>"
            ]
          },
          "metadata": {
            "tags": []
          },
          "execution_count": 12
        }
      ]
    },
    {
      "cell_type": "code",
      "metadata": {
        "id": "LTI6w1wP_bNa",
        "colab_type": "code",
        "colab": {
          "base_uri": "https://localhost:8080/",
          "height": 513
        },
        "outputId": "4ea828fb-a578-49c9-9ca3-34d6c57141ca"
      },
      "source": [
        "\n",
        "# add markers to map\n",
        "for lat, lng, borough, neighborhood in zip(neighborhoods['Latitude'], neighborhoods['Longitude'], neighborhoods['Borough'], neighborhoods['Neighborhood']):\n",
        "    label = '{}, {}'.format(neighborhood, borough)\n",
        "    label = folium.Popup(label, parse_html=True)\n",
        "    folium.CircleMarker(\n",
        "        [lat, lng],\n",
        "        radius=5,\n",
        "        popup=label,\n",
        "        color='blue',\n",
        "        fill=True,\n",
        "        fill_color='#3186cc',\n",
        "        fill_opacity=0.7,\n",
        "        parse_html=False).add_to(map_mumbai)  \n",
        "    \n",
        "map_mumbai"
      ],
      "execution_count": 111,
      "outputs": [
        {
          "output_type": "execute_result",
          "data": {
            "text/html": [
              "<div style=\"width:100%;\"><div style=\"position:relative;width:100%;height:0;padding-bottom:60%;\"><iframe src=\"about:blank\" style=\"position:absolute;width:100%;height:100%;left:0;top:0;border:none !important;\" data-html=PCFET0NUWVBFIGh0bWw+CjxoZWFkPiAgICAKICAgIDxtZXRhIGh0dHAtZXF1aXY9ImNvbnRlbnQtdHlwZSIgY29udGVudD0idGV4dC9odG1sOyBjaGFyc2V0PVVURi04IiAvPgogICAgPHNjcmlwdD5MX1BSRUZFUl9DQU5WQVM9ZmFsc2U7IExfTk9fVE9VQ0g9ZmFsc2U7IExfRElTQUJMRV8zRD1mYWxzZTs8L3NjcmlwdD4KICAgIDxzY3JpcHQgc3JjPSJodHRwczovL2Nkbi5qc2RlbGl2ci5uZXQvbnBtL2xlYWZsZXRAMS40LjAvZGlzdC9sZWFmbGV0LmpzIj48L3NjcmlwdD4KICAgIDxzY3JpcHQgc3JjPSJodHRwczovL2NvZGUuanF1ZXJ5LmNvbS9qcXVlcnktMS4xMi40Lm1pbi5qcyI+PC9zY3JpcHQ+CiAgICA8c2NyaXB0IHNyYz0iaHR0cHM6Ly9tYXhjZG4uYm9vdHN0cmFwY2RuLmNvbS9ib290c3RyYXAvMy4yLjAvanMvYm9vdHN0cmFwLm1pbi5qcyI+PC9zY3JpcHQ+CiAgICA8c2NyaXB0IHNyYz0iaHR0cHM6Ly9jZG5qcy5jbG91ZGZsYXJlLmNvbS9hamF4L2xpYnMvTGVhZmxldC5hd2Vzb21lLW1hcmtlcnMvMi4wLjIvbGVhZmxldC5hd2Vzb21lLW1hcmtlcnMuanMiPjwvc2NyaXB0PgogICAgPGxpbmsgcmVsPSJzdHlsZXNoZWV0IiBocmVmPSJodHRwczovL2Nkbi5qc2RlbGl2ci5uZXQvbnBtL2xlYWZsZXRAMS40LjAvZGlzdC9sZWFmbGV0LmNzcyIvPgogICAgPGxpbmsgcmVsPSJzdHlsZXNoZWV0IiBocmVmPSJodHRwczovL21heGNkbi5ib290c3RyYXBjZG4uY29tL2Jvb3RzdHJhcC8zLjIuMC9jc3MvYm9vdHN0cmFwLm1pbi5jc3MiLz4KICAgIDxsaW5rIHJlbD0ic3R5bGVzaGVldCIgaHJlZj0iaHR0cHM6Ly9tYXhjZG4uYm9vdHN0cmFwY2RuLmNvbS9ib290c3RyYXAvMy4yLjAvY3NzL2Jvb3RzdHJhcC10aGVtZS5taW4uY3NzIi8+CiAgICA8bGluayByZWw9InN0eWxlc2hlZXQiIGhyZWY9Imh0dHBzOi8vbWF4Y2RuLmJvb3RzdHJhcGNkbi5jb20vZm9udC1hd2Vzb21lLzQuNi4zL2Nzcy9mb250LWF3ZXNvbWUubWluLmNzcyIvPgogICAgPGxpbmsgcmVsPSJzdHlsZXNoZWV0IiBocmVmPSJodHRwczovL2NkbmpzLmNsb3VkZmxhcmUuY29tL2FqYXgvbGlicy9MZWFmbGV0LmF3ZXNvbWUtbWFya2Vycy8yLjAuMi9sZWFmbGV0LmF3ZXNvbWUtbWFya2Vycy5jc3MiLz4KICAgIDxsaW5rIHJlbD0ic3R5bGVzaGVldCIgaHJlZj0iaHR0cHM6Ly9yYXdjZG4uZ2l0aGFjay5jb20vcHl0aG9uLXZpc3VhbGl6YXRpb24vZm9saXVtL21hc3Rlci9mb2xpdW0vdGVtcGxhdGVzL2xlYWZsZXQuYXdlc29tZS5yb3RhdGUuY3NzIi8+CiAgICA8c3R5bGU+aHRtbCwgYm9keSB7d2lkdGg6IDEwMCU7aGVpZ2h0OiAxMDAlO21hcmdpbjogMDtwYWRkaW5nOiAwO308L3N0eWxlPgogICAgPHN0eWxlPiNtYXAge3Bvc2l0aW9uOmFic29sdXRlO3RvcDowO2JvdHRvbTowO3JpZ2h0OjA7bGVmdDowO308L3N0eWxlPgogICAgCiAgICA8bWV0YSBuYW1lPSJ2aWV3cG9ydCIgY29udGVudD0id2lkdGg9ZGV2aWNlLXdpZHRoLAogICAgICAgIGluaXRpYWwtc2NhbGU9MS4wLCBtYXhpbXVtLXNjYWxlPTEuMCwgdXNlci1zY2FsYWJsZT1ubyIgLz4KICAgIDxzdHlsZT4jbWFwX2Q4MmU4MGI3Y2M4ODQxNjlhNzY3NjM2N2VlMjNjY2E1IHsKICAgICAgICBwb3NpdGlvbjogcmVsYXRpdmU7CiAgICAgICAgd2lkdGg6IDEwMC4wJTsKICAgICAgICBoZWlnaHQ6IDEwMC4wJTsKICAgICAgICBsZWZ0OiAwLjAlOwogICAgICAgIHRvcDogMC4wJTsKICAgICAgICB9CiAgICA8L3N0eWxlPgo8L2hlYWQ+Cjxib2R5PiAgICAKICAgIAogICAgPGRpdiBjbGFzcz0iZm9saXVtLW1hcCIgaWQ9Im1hcF9kODJlODBiN2NjODg0MTY5YTc2NzYzNjdlZTIzY2NhNSIgPjwvZGl2Pgo8L2JvZHk+CjxzY3JpcHQ+ICAgIAogICAgCiAgICAKICAgICAgICB2YXIgYm91bmRzID0gbnVsbDsKICAgIAoKICAgIHZhciBtYXBfZDgyZTgwYjdjYzg4NDE2OWE3Njc2MzY3ZWUyM2NjYTUgPSBMLm1hcCgKICAgICAgICAnbWFwX2Q4MmU4MGI3Y2M4ODQxNjlhNzY3NjM2N2VlMjNjY2E1JywgewogICAgICAgIGNlbnRlcjogWzE4LjkzNTk1NjcsIDcyLjgyNzM0MDRdLAogICAgICAgIHpvb206IDE0LAogICAgICAgIG1heEJvdW5kczogYm91bmRzLAogICAgICAgIGxheWVyczogW10sCiAgICAgICAgd29ybGRDb3B5SnVtcDogZmFsc2UsCiAgICAgICAgY3JzOiBMLkNSUy5FUFNHMzg1NywKICAgICAgICB6b29tQ29udHJvbDogdHJ1ZSwKICAgICAgICB9KTsKCgogICAgCiAgICB2YXIgdGlsZV9sYXllcl84NTYxNGRiYTFlOTc0MDcxOWRiOGJlYzQ0ZmIyMzZhOSA9IEwudGlsZUxheWVyKAogICAgICAgICdodHRwczovL3tzfS50aWxlLm9wZW5zdHJlZXRtYXAub3JnL3t6fS97eH0ve3l9LnBuZycsCiAgICAgICAgewogICAgICAgICJhdHRyaWJ1dGlvbiI6IG51bGwsCiAgICAgICAgImRldGVjdFJldGluYSI6IGZhbHNlLAogICAgICAgICJtYXhOYXRpdmVab29tIjogMTgsCiAgICAgICAgIm1heFpvb20iOiAxOCwKICAgICAgICAibWluWm9vbSI6IDAsCiAgICAgICAgIm5vV3JhcCI6IGZhbHNlLAogICAgICAgICJvcGFjaXR5IjogMSwKICAgICAgICAic3ViZG9tYWlucyI6ICJhYmMiLAogICAgICAgICJ0bXMiOiBmYWxzZQp9KS5hZGRUbyhtYXBfZDgyZTgwYjdjYzg4NDE2OWE3Njc2MzY3ZWUyM2NjYTUpOwogICAgCiAgICAgICAgICAgIHZhciBjaXJjbGVfbWFya2VyXzNmZGViZWFlNWM3ZTQwYTZiM2M2NTlmZGFmMDY3ZDhkID0gTC5jaXJjbGVNYXJrZXIoCiAgICAgICAgICAgICAgICBbMTguOTE1MDkxLCA3Mi44MjU5NjkxXSwKICAgICAgICAgICAgICAgIHsKICAiYnViYmxpbmdNb3VzZUV2ZW50cyI6IHRydWUsCiAgImNvbG9yIjogImJsdWUiLAogICJkYXNoQXJyYXkiOiBudWxsLAogICJkYXNoT2Zmc2V0IjogbnVsbCwKICAiZmlsbCI6IHRydWUsCiAgImZpbGxDb2xvciI6ICIjMzE4NmNjIiwKICAiZmlsbE9wYWNpdHkiOiAwLjcsCiAgImZpbGxSdWxlIjogImV2ZW5vZGQiLAogICJsaW5lQ2FwIjogInJvdW5kIiwKICAibGluZUpvaW4iOiAicm91bmQiLAogICJvcGFjaXR5IjogMS4wLAogICJyYWRpdXMiOiA1LAogICJzdHJva2UiOiB0cnVlLAogICJ3ZWlnaHQiOiAzCn0KICAgICAgICAgICAgICAgICkKICAgICAgICAgICAgICAgIC5hZGRUbyhtYXBfZDgyZTgwYjdjYzg4NDE2OWE3Njc2MzY3ZWUyM2NjYTUpOwogICAgICAgICAgICAKICAgIAogICAgICAgICAgICB2YXIgcG9wdXBfMTE4ZmZlZWNiZGExNGU1YWJlNmMyODIxNTI1MjA2MWYgPSBMLnBvcHVwKHttYXhXaWR0aDogJzEwMCUnCiAgICAgICAgICAgIAogICAgICAgICAgICB9KTsKCiAgICAgICAgICAgIAogICAgICAgICAgICAgICAgdmFyIGh0bWxfNjFjMTE3ZWEzMDZjNDhiMDliMjg1ODZlNzQ3MTZhZmIgPSAkKGA8ZGl2IGlkPSJodG1sXzYxYzExN2VhMzA2YzQ4YjA5YjI4NTg2ZTc0NzE2YWZiIiBzdHlsZT0id2lkdGg6IDEwMC4wJTsgaGVpZ2h0OiAxMDAuMCU7Ij5Db2xhYmEsIFNvdXRoIE11bWJhaTwvZGl2PmApWzBdOwogICAgICAgICAgICAgICAgcG9wdXBfMTE4ZmZlZWNiZGExNGU1YWJlNmMyODIxNTI1MjA2MWYuc2V0Q29udGVudChodG1sXzYxYzExN2VhMzA2YzQ4YjA5YjI4NTg2ZTc0NzE2YWZiKTsKICAgICAgICAgICAgCgogICAgICAgICAgICBjaXJjbGVfbWFya2VyXzNmZGViZWFlNWM3ZTQwYTZiM2M2NTlmZGFmMDY3ZDhkLmJpbmRQb3B1cChwb3B1cF8xMThmZmVlY2JkYTE0ZTVhYmU2YzI4MjE1MjUyMDYxZikKICAgICAgICAgICAgOwoKICAgICAgICAgICAgCiAgICAgICAgCiAgICAKICAgICAgICAgICAgdmFyIGNpcmNsZV9tYXJrZXJfY2FlMWMyNTU0NzhmNDAzYjg0YzgwZTA5YTk1MThiYTcgPSBMLmNpcmNsZU1hcmtlcigKICAgICAgICAgICAgICAgIFsxOC45MTgzNzQ4LCA3Mi44MzE0NDI5XSwKICAgICAgICAgICAgICAgIHsKICAiYnViYmxpbmdNb3VzZUV2ZW50cyI6IHRydWUsCiAgImNvbG9yIjogImJsdWUiLAogICJkYXNoQXJyYXkiOiBudWxsLAogICJkYXNoT2Zmc2V0IjogbnVsbCwKICAiZmlsbCI6IHRydWUsCiAgImZpbGxDb2xvciI6ICIjMzE4NmNjIiwKICAiZmlsbE9wYWNpdHkiOiAwLjcsCiAgImZpbGxSdWxlIjogImV2ZW5vZGQiLAogICJsaW5lQ2FwIjogInJvdW5kIiwKICAibGluZUpvaW4iOiAicm91bmQiLAogICJvcGFjaXR5IjogMS4wLAogICJyYWRpdXMiOiA1LAogICJzdHJva2UiOiB0cnVlLAogICJ3ZWlnaHQiOiAzCn0KICAgICAgICAgICAgICAgICkKICAgICAgICAgICAgICAgIC5hZGRUbyhtYXBfZDgyZTgwYjdjYzg4NDE2OWE3Njc2MzY3ZWUyM2NjYTUpOwogICAgICAgICAgICAKICAgIAogICAgICAgICAgICB2YXIgcG9wdXBfYWIzNjU2MWU3Yzk0NDgyODlkN2I0ZDg1YWE5ZWQ3MTQgPSBMLnBvcHVwKHttYXhXaWR0aDogJzEwMCUnCiAgICAgICAgICAgIAogICAgICAgICAgICB9KTsKCiAgICAgICAgICAgIAogICAgICAgICAgICAgICAgdmFyIGh0bWxfNzRkNDhmMjFhNGMwNGQyOGFkOTgyNTNiMjU3ZTRlNTIgPSAkKGA8ZGl2IGlkPSJodG1sXzc0ZDQ4ZjIxYTRjMDRkMjhhZDk4MjUzYjI1N2U0ZTUyIiBzdHlsZT0id2lkdGg6IDEwMC4wJTsgaGVpZ2h0OiAxMDAuMCU7Ij5BcG9sbG8gQmFuZGFyLCBTb3V0aCBNdW1iYWk8L2Rpdj5gKVswXTsKICAgICAgICAgICAgICAgIHBvcHVwX2FiMzY1NjFlN2M5NDQ4Mjg5ZDdiNGQ4NWFhOWVkNzE0LnNldENvbnRlbnQoaHRtbF83NGQ0OGYyMWE0YzA0ZDI4YWQ5ODI1M2IyNTdlNGU1Mik7CiAgICAgICAgICAgIAoKICAgICAgICAgICAgY2lyY2xlX21hcmtlcl9jYWUxYzI1NTQ3OGY0MDNiODRjODBlMDlhOTUxOGJhNy5iaW5kUG9wdXAocG9wdXBfYWIzNjU2MWU3Yzk0NDgyODlkN2I0ZDg1YWE5ZWQ3MTQpCiAgICAgICAgICAgIDsKCiAgICAgICAgICAgIAogICAgICAgIAogICAgCiAgICAgICAgICAgIHZhciBjaXJjbGVfbWFya2VyXzZkNmJlYzMxMGI0NTRjMDI5MTRhZTQyM2QzMTcxNzgyID0gTC5jaXJjbGVNYXJrZXIoCiAgICAgICAgICAgICAgICBbMTguOTMzMjY2NSwgNzIuODM0NTE0Nl0sCiAgICAgICAgICAgICAgICB7CiAgImJ1YmJsaW5nTW91c2VFdmVudHMiOiB0cnVlLAogICJjb2xvciI6ICJibHVlIiwKICAiZGFzaEFycmF5IjogbnVsbCwKICAiZGFzaE9mZnNldCI6IG51bGwsCiAgImZpbGwiOiB0cnVlLAogICJmaWxsQ29sb3IiOiAiIzMxODZjYyIsCiAgImZpbGxPcGFjaXR5IjogMC43LAogICJmaWxsUnVsZSI6ICJldmVub2RkIiwKICAibGluZUNhcCI6ICJyb3VuZCIsCiAgImxpbmVKb2luIjogInJvdW5kIiwKICAib3BhY2l0eSI6IDEuMCwKICAicmFkaXVzIjogNSwKICAic3Ryb2tlIjogdHJ1ZSwKICAid2VpZ2h0IjogMwp9CiAgICAgICAgICAgICAgICApCiAgICAgICAgICAgICAgICAuYWRkVG8obWFwX2Q4MmU4MGI3Y2M4ODQxNjlhNzY3NjM2N2VlMjNjY2E1KTsKICAgICAgICAgICAgCiAgICAKICAgICAgICAgICAgdmFyIHBvcHVwX2IxYWFkY2VjYThlMTQ3MmI4M2QzNjlhODE1OTY0MTQyID0gTC5wb3B1cCh7bWF4V2lkdGg6ICcxMDAlJwogICAgICAgICAgICAKICAgICAgICAgICAgfSk7CgogICAgICAgICAgICAKICAgICAgICAgICAgICAgIHZhciBodG1sX2RkMjZiYzU4ZTUyZDRlMTBhNDQwMTc5OWMzOTA0MDY0ID0gJChgPGRpdiBpZD0iaHRtbF9kZDI2YmM1OGU1MmQ0ZTEwYTQ0MDE3OTljMzkwNDA2NCIgc3R5bGU9IndpZHRoOiAxMDAuMCU7IGhlaWdodDogMTAwLjAlOyI+Rm9ydCwgU291dGggTXVtYmFpPC9kaXY+YClbMF07CiAgICAgICAgICAgICAgICBwb3B1cF9iMWFhZGNlY2E4ZTE0NzJiODNkMzY5YTgxNTk2NDE0Mi5zZXRDb250ZW50KGh0bWxfZGQyNmJjNThlNTJkNGUxMGE0NDAxNzk5YzM5MDQwNjQpOwogICAgICAgICAgICAKCiAgICAgICAgICAgIGNpcmNsZV9tYXJrZXJfNmQ2YmVjMzEwYjQ1NGMwMjkxNGFlNDIzZDMxNzE3ODIuYmluZFBvcHVwKHBvcHVwX2IxYWFkY2VjYThlMTQ3MmI4M2QzNjlhODE1OTY0MTQyKQogICAgICAgICAgICA7CgogICAgICAgICAgICAKICAgICAgICAKICAgIAogICAgICAgICAgICB2YXIgY2lyY2xlX21hcmtlcl8wNWZiZTlkZjgzYjU0ZjE0OWY4YzEzYTJjNWNhOTcwMCA9IEwuY2lyY2xlTWFya2VyKAogICAgICAgICAgICAgICAgWzE4LjkzNTk1NjcsIDcyLjgyNzM0MDRdLAogICAgICAgICAgICAgICAgewogICJidWJibGluZ01vdXNlRXZlbnRzIjogdHJ1ZSwKICAiY29sb3IiOiAiYmx1ZSIsCiAgImRhc2hBcnJheSI6IG51bGwsCiAgImRhc2hPZmZzZXQiOiBudWxsLAogICJmaWxsIjogdHJ1ZSwKICAiZmlsbENvbG9yIjogIiMzMTg2Y2MiLAogICJmaWxsT3BhY2l0eSI6IDAuNywKICAiZmlsbFJ1bGUiOiAiZXZlbm9kZCIsCiAgImxpbmVDYXAiOiAicm91bmQiLAogICJsaW5lSm9pbiI6ICJyb3VuZCIsCiAgIm9wYWNpdHkiOiAxLjAsCiAgInJhZGl1cyI6IDUsCiAgInN0cm9rZSI6IHRydWUsCiAgIndlaWdodCI6IDMKfQogICAgICAgICAgICAgICAgKQogICAgICAgICAgICAgICAgLmFkZFRvKG1hcF9kODJlODBiN2NjODg0MTY5YTc2NzYzNjdlZTIzY2NhNSk7CiAgICAgICAgICAgIAogICAgCiAgICAgICAgICAgIHZhciBwb3B1cF9mMmJmYjlmZmU2NzM0Y2EyOTJiZGM3MTI5NTZmNzE3YyA9IEwucG9wdXAoe21heFdpZHRoOiAnMTAwJScKICAgICAgICAgICAgCiAgICAgICAgICAgIH0pOwoKICAgICAgICAgICAgCiAgICAgICAgICAgICAgICB2YXIgaHRtbF9mYmZmMGM5NTgxYmQ0OWFlOTEyMjBmNjcyODYwNGEzMyA9ICQoYDxkaXYgaWQ9Imh0bWxfZmJmZjBjOTU4MWJkNDlhZTkxMjIwZjY3Mjg2MDRhMzMiIHN0eWxlPSJ3aWR0aDogMTAwLjAlOyBoZWlnaHQ6IDEwMC4wJTsiPkNodXJjaGdhdGUsIFNvdXRoIE11bWJhaTwvZGl2PmApWzBdOwogICAgICAgICAgICAgICAgcG9wdXBfZjJiZmI5ZmZlNjczNGNhMjkyYmRjNzEyOTU2ZjcxN2Muc2V0Q29udGVudChodG1sX2ZiZmYwYzk1ODFiZDQ5YWU5MTIyMGY2NzI4NjA0YTMzKTsKICAgICAgICAgICAgCgogICAgICAgICAgICBjaXJjbGVfbWFya2VyXzA1ZmJlOWRmODNiNTRmMTQ5ZjhjMTNhMmM1Y2E5NzAwLmJpbmRQb3B1cChwb3B1cF9mMmJmYjlmZmU2NzM0Y2EyOTJiZGM3MTI5NTZmNzE3YykKICAgICAgICAgICAgOwoKICAgICAgICAgICAgCiAgICAgICAgCiAgICAKICAgICAgICAgICAgdmFyIGNpcmNsZV9tYXJrZXJfM2VhZTI4NTBhM2QzNGQzZDk4YzE2YzQxZGZhYmQ1YjggPSBMLmNpcmNsZU1hcmtlcigKICAgICAgICAgICAgICAgIFsxOC45MjU5NTE0LCA3Mi44MjMyMDgzXSwKICAgICAgICAgICAgICAgIHsKICAiYnViYmxpbmdNb3VzZUV2ZW50cyI6IHRydWUsCiAgImNvbG9yIjogImJsdWUiLAogICJkYXNoQXJyYXkiOiBudWxsLAogICJkYXNoT2Zmc2V0IjogbnVsbCwKICAiZmlsbCI6IHRydWUsCiAgImZpbGxDb2xvciI6ICIjMzE4NmNjIiwKICAiZmlsbE9wYWNpdHkiOiAwLjcsCiAgImZpbGxSdWxlIjogImV2ZW5vZGQiLAogICJsaW5lQ2FwIjogInJvdW5kIiwKICAibGluZUpvaW4iOiAicm91bmQiLAogICJvcGFjaXR5IjogMS4wLAogICJyYWRpdXMiOiA1LAogICJzdHJva2UiOiB0cnVlLAogICJ3ZWlnaHQiOiAzCn0KICAgICAgICAgICAgICAgICkKICAgICAgICAgICAgICAgIC5hZGRUbyhtYXBfZDgyZTgwYjdjYzg4NDE2OWE3Njc2MzY3ZWUyM2NjYTUpOwogICAgICAgICAgICAKICAgIAogICAgICAgICAgICB2YXIgcG9wdXBfOGI5NjMwYWY4ZTY5NDRmYzg5NTRmY2EwNzlhYzFiM2MgPSBMLnBvcHVwKHttYXhXaWR0aDogJzEwMCUnCiAgICAgICAgICAgIAogICAgICAgICAgICB9KTsKCiAgICAgICAgICAgIAogICAgICAgICAgICAgICAgdmFyIGh0bWxfMzRlZWNkZjM1NmZhNGVkMTg1NWQ1NTY2ZDAzMWQ3NWIgPSAkKGA8ZGl2IGlkPSJodG1sXzM0ZWVjZGYzNTZmYTRlZDE4NTVkNTU2NmQwMzFkNzViIiBzdHlsZT0id2lkdGg6IDEwMC4wJTsgaGVpZ2h0OiAxMDAuMCU7Ij5OYXJpbWFuIFBvaW50LCBTb3V0aCBNdW1iYWk8L2Rpdj5gKVswXTsKICAgICAgICAgICAgICAgIHBvcHVwXzhiOTYzMGFmOGU2OTQ0ZmM4OTU0ZmNhMDc5YWMxYjNjLnNldENvbnRlbnQoaHRtbF8zNGVlY2RmMzU2ZmE0ZWQxODU1ZDU1NjZkMDMxZDc1Yik7CiAgICAgICAgICAgIAoKICAgICAgICAgICAgY2lyY2xlX21hcmtlcl8zZWFlMjg1MGEzZDM0ZDNkOThjMTZjNDFkZmFiZDViOC5iaW5kUG9wdXAocG9wdXBfOGI5NjMwYWY4ZTY5NDRmYzg5NTRmY2EwNzlhYzFiM2MpCiAgICAgICAgICAgIDsKCiAgICAgICAgICAgIAogICAgICAgIAogICAgCiAgICAgICAgICAgIHZhciBjaXJjbGVfbWFya2VyXzJiNTA4YjlhNmMzNzRhNjBhYWFmODRlYWVlNGVkODAxID0gTC5jaXJjbGVNYXJrZXIoCiAgICAgICAgICAgICAgICBbMTguOTQ1NjcwMSwgNzIuODIzNzgxXSwKICAgICAgICAgICAgICAgIHsKICAiYnViYmxpbmdNb3VzZUV2ZW50cyI6IHRydWUsCiAgImNvbG9yIjogImJsdWUiLAogICJkYXNoQXJyYXkiOiBudWxsLAogICJkYXNoT2Zmc2V0IjogbnVsbCwKICAiZmlsbCI6IHRydWUsCiAgImZpbGxDb2xvciI6ICIjMzE4NmNjIiwKICAiZmlsbE9wYWNpdHkiOiAwLjcsCiAgImZpbGxSdWxlIjogImV2ZW5vZGQiLAogICJsaW5lQ2FwIjogInJvdW5kIiwKICAibGluZUpvaW4iOiAicm91bmQiLAogICJvcGFjaXR5IjogMS4wLAogICJyYWRpdXMiOiA1LAogICJzdHJva2UiOiB0cnVlLAogICJ3ZWlnaHQiOiAzCn0KICAgICAgICAgICAgICAgICkKICAgICAgICAgICAgICAgIC5hZGRUbyhtYXBfZDgyZTgwYjdjYzg4NDE2OWE3Njc2MzY3ZWUyM2NjYTUpOwogICAgICAgICAgICAKICAgIAogICAgICAgICAgICB2YXIgcG9wdXBfOTE3YzE4ZWIxOTRkNGIzZmEyNWRhZDZiMmE5ZTlhYmEgPSBMLnBvcHVwKHttYXhXaWR0aDogJzEwMCUnCiAgICAgICAgICAgIAogICAgICAgICAgICB9KTsKCiAgICAgICAgICAgIAogICAgICAgICAgICAgICAgdmFyIGh0bWxfOGJkMzMzZjI3MDFiNGEwYWE4YWNmZTA0MmFkYmY4Y2YgPSAkKGA8ZGl2IGlkPSJodG1sXzhiZDMzM2YyNzAxYjRhMGFhOGFjZmUwNDJhZGJmOGNmIiBzdHlsZT0id2lkdGg6IDEwMC4wJTsgaGVpZ2h0OiAxMDAuMCU7Ij5NYXJpbmUgTGluZXMsIFNvdXRoIE11bWJhaTwvZGl2PmApWzBdOwogICAgICAgICAgICAgICAgcG9wdXBfOTE3YzE4ZWIxOTRkNGIzZmEyNWRhZDZiMmE5ZTlhYmEuc2V0Q29udGVudChodG1sXzhiZDMzM2YyNzAxYjRhMGFhOGFjZmUwNDJhZGJmOGNmKTsKICAgICAgICAgICAgCgogICAgICAgICAgICBjaXJjbGVfbWFya2VyXzJiNTA4YjlhNmMzNzRhNjBhYWFmODRlYWVlNGVkODAxLmJpbmRQb3B1cChwb3B1cF85MTdjMThlYjE5NGQ0YjNmYTI1ZGFkNmIyYTllOWFiYSkKICAgICAgICAgICAgOwoKICAgICAgICAgICAgCiAgICAgICAgCiAgICAKICAgICAgICAgICAgdmFyIGNpcmNsZV9tYXJrZXJfYWFkNTY3MWZkOGE5NGU1M2ExMWY2NDUwZjRhYmEzNmYgPSBMLmNpcmNsZU1hcmtlcigKICAgICAgICAgICAgICAgIFsxOC45NTUzNDM0LCA3Mi44MDc5NDY5XSwKICAgICAgICAgICAgICAgIHsKICAiYnViYmxpbmdNb3VzZUV2ZW50cyI6IHRydWUsCiAgImNvbG9yIjogImJsdWUiLAogICJkYXNoQXJyYXkiOiBudWxsLAogICJkYXNoT2Zmc2V0IjogbnVsbCwKICAiZmlsbCI6IHRydWUsCiAgImZpbGxDb2xvciI6ICIjMzE4NmNjIiwKICAiZmlsbE9wYWNpdHkiOiAwLjcsCiAgImZpbGxSdWxlIjogImV2ZW5vZGQiLAogICJsaW5lQ2FwIjogInJvdW5kIiwKICAibGluZUpvaW4iOiAicm91bmQiLAogICJvcGFjaXR5IjogMS4wLAogICJyYWRpdXMiOiA1LAogICJzdHJva2UiOiB0cnVlLAogICJ3ZWlnaHQiOiAzCn0KICAgICAgICAgICAgICAgICkKICAgICAgICAgICAgICAgIC5hZGRUbyhtYXBfZDgyZTgwYjdjYzg4NDE2OWE3Njc2MzY3ZWUyM2NjYTUpOwogICAgICAgICAgICAKICAgIAogICAgICAgICAgICB2YXIgcG9wdXBfYWZhOWNhM2UxYjgxNGIyMWJkZGZhY2RjMGY0YzUyMmIgPSBMLnBvcHVwKHttYXhXaWR0aDogJzEwMCUnCiAgICAgICAgICAgIAogICAgICAgICAgICB9KTsKCiAgICAgICAgICAgIAogICAgICAgICAgICAgICAgdmFyIGh0bWxfNDA1YzVhOGFlMDkxNDM0OTlhMGUyYTk0YTljYWU0ODggPSAkKGA8ZGl2IGlkPSJodG1sXzQwNWM1YThhZTA5MTQzNDk5YTBlMmE5NGE5Y2FlNDg4IiBzdHlsZT0id2lkdGg6IDEwMC4wJTsgaGVpZ2h0OiAxMDAuMCU7Ij5XYWxrZXNod2FyLCBTb3V0aCBNdW1iYWk8L2Rpdj5gKVswXTsKICAgICAgICAgICAgICAgIHBvcHVwX2FmYTljYTNlMWI4MTRiMjFiZGRmYWNkYzBmNGM1MjJiLnNldENvbnRlbnQoaHRtbF80MDVjNWE4YWUwOTE0MzQ5OWEwZTJhOTRhOWNhZTQ4OCk7CiAgICAgICAgICAgIAoKICAgICAgICAgICAgY2lyY2xlX21hcmtlcl9hYWQ1NjcxZmQ4YTk0ZTUzYTExZjY0NTBmNGFiYTM2Zi5iaW5kUG9wdXAocG9wdXBfYWZhOWNhM2UxYjgxNGIyMWJkZGZhY2RjMGY0YzUyMmIpCiAgICAgICAgICAgIDsKCiAgICAgICAgICAgIAogICAgICAgIAogICAgCiAgICAgICAgICAgIHZhciBjaXJjbGVfbWFya2VyX2NhN2RhOThmYjRkYzQ1MGY5MjljMTE4NmM5YTdiYWIyID0gTC5jaXJjbGVNYXJrZXIoCiAgICAgICAgICAgICAgICBbMTguOTU4MTYxNiwgNzIuODAzMzY2NV0sCiAgICAgICAgICAgICAgICB7CiAgImJ1YmJsaW5nTW91c2VFdmVudHMiOiB0cnVlLAogICJjb2xvciI6ICJibHVlIiwKICAiZGFzaEFycmF5IjogbnVsbCwKICAiZGFzaE9mZnNldCI6IG51bGwsCiAgImZpbGwiOiB0cnVlLAogICJmaWxsQ29sb3IiOiAiIzMxODZjYyIsCiAgImZpbGxPcGFjaXR5IjogMC43LAogICJmaWxsUnVsZSI6ICJldmVub2RkIiwKICAibGluZUNhcCI6ICJyb3VuZCIsCiAgImxpbmVKb2luIjogInJvdW5kIiwKICAib3BhY2l0eSI6IDEuMCwKICAicmFkaXVzIjogNSwKICAic3Ryb2tlIjogdHJ1ZSwKICAid2VpZ2h0IjogMwp9CiAgICAgICAgICAgICAgICApCiAgICAgICAgICAgICAgICAuYWRkVG8obWFwX2Q4MmU4MGI3Y2M4ODQxNjlhNzY3NjM2N2VlMjNjY2E1KTsKICAgICAgICAgICAgCiAgICAKICAgICAgICAgICAgdmFyIHBvcHVwX2ZmYTM3NDg2YmM3NTRiZjRiMTJhYzc2OTk4NWIyZGM2ID0gTC5wb3B1cCh7bWF4V2lkdGg6ICcxMDAlJwogICAgICAgICAgICAKICAgICAgICAgICAgfSk7CgogICAgICAgICAgICAKICAgICAgICAgICAgICAgIHZhciBodG1sXzJiMWEwMGJmYTAwZjQ5YjI5MzBhNzY1YjNlNTJiZWZjID0gJChgPGRpdiBpZD0iaHRtbF8yYjFhMDBiZmEwMGY0OWIyOTMwYTc2NWIzZTUyYmVmYyIgc3R5bGU9IndpZHRoOiAxMDAuMCU7IGhlaWdodDogMTAwLjAlOyI+TWFsYWJhciBIaWxsLCBTb3V0aCBNdW1iYWk8L2Rpdj5gKVswXTsKICAgICAgICAgICAgICAgIHBvcHVwX2ZmYTM3NDg2YmM3NTRiZjRiMTJhYzc2OTk4NWIyZGM2LnNldENvbnRlbnQoaHRtbF8yYjFhMDBiZmEwMGY0OWIyOTMwYTc2NWIzZTUyYmVmYyk7CiAgICAgICAgICAgIAoKICAgICAgICAgICAgY2lyY2xlX21hcmtlcl9jYTdkYTk4ZmI0ZGM0NTBmOTI5YzExODZjOWE3YmFiMi5iaW5kUG9wdXAocG9wdXBfZmZhMzc0ODZiYzc1NGJmNGIxMmFjNzY5OTg1YjJkYzYpCiAgICAgICAgICAgIDsKCiAgICAgICAgICAgIAogICAgICAgIAogICAgCiAgICAgICAgICAgIHZhciBjaXJjbGVfbWFya2VyXzQzYTk1YjE1ZTA1NzQzMjFiOGJjY2ZmYzhlNDUxZmIyID0gTC5jaXJjbGVNYXJrZXIoCiAgICAgICAgICAgICAgICBbMTguOTQ5MjU3NSwgNzIuODI3OTM4Ml0sCiAgICAgICAgICAgICAgICB7CiAgImJ1YmJsaW5nTW91c2VFdmVudHMiOiB0cnVlLAogICJjb2xvciI6ICJibHVlIiwKICAiZGFzaEFycmF5IjogbnVsbCwKICAiZGFzaE9mZnNldCI6IG51bGwsCiAgImZpbGwiOiB0cnVlLAogICJmaWxsQ29sb3IiOiAiIzMxODZjYyIsCiAgImZpbGxPcGFjaXR5IjogMC43LAogICJmaWxsUnVsZSI6ICJldmVub2RkIiwKICAibGluZUNhcCI6ICJyb3VuZCIsCiAgImxpbmVKb2luIjogInJvdW5kIiwKICAib3BhY2l0eSI6IDEuMCwKICAicmFkaXVzIjogNSwKICAic3Ryb2tlIjogdHJ1ZSwKICAid2VpZ2h0IjogMwp9CiAgICAgICAgICAgICAgICApCiAgICAgICAgICAgICAgICAuYWRkVG8obWFwX2Q4MmU4MGI3Y2M4ODQxNjlhNzY3NjM2N2VlMjNjY2E1KTsKICAgICAgICAgICAgCiAgICAKICAgICAgICAgICAgdmFyIHBvcHVwXzE5MDM4MWU2NTEwNjQ2NWU4NWU4ZjA5MWNmYjRjMDMyID0gTC5wb3B1cCh7bWF4V2lkdGg6ICcxMDAlJwogICAgICAgICAgICAKICAgICAgICAgICAgfSk7CgogICAgICAgICAgICAKICAgICAgICAgICAgICAgIHZhciBodG1sXzMzNDllYmIzZWI0NzQwMDhhNDE1OWZlMmFjNDgxZDZkID0gJChgPGRpdiBpZD0iaHRtbF8zMzQ5ZWJiM2ViNDc0MDA4YTQxNTlmZTJhYzQ4MWQ2ZCIgc3R5bGU9IndpZHRoOiAxMDAuMCU7IGhlaWdodDogMTAwLjAlOyI+S2FsYmFkZXZpLCBTb3V0aCBNdW1iYWk8L2Rpdj5gKVswXTsKICAgICAgICAgICAgICAgIHBvcHVwXzE5MDM4MWU2NTEwNjQ2NWU4NWU4ZjA5MWNmYjRjMDMyLnNldENvbnRlbnQoaHRtbF8zMzQ5ZWJiM2ViNDc0MDA4YTQxNTlmZTJhYzQ4MWQ2ZCk7CiAgICAgICAgICAgIAoKICAgICAgICAgICAgY2lyY2xlX21hcmtlcl80M2E5NWIxNWUwNTc0MzIxYjhiY2NmZmM4ZTQ1MWZiMi5iaW5kUG9wdXAocG9wdXBfMTkwMzgxZTY1MTA2NDY1ZTg1ZThmMDkxY2ZiNGMwMzIpCiAgICAgICAgICAgIDsKCiAgICAgICAgICAgIAogICAgICAgIAogICAgCiAgICAgICAgICAgIHZhciBjaXJjbGVfbWFya2VyXzk2MDE0ZmQ0OWNmYzQ0M2FhNWU0MWViYzU0MzZiYTJlID0gTC5jaXJjbGVNYXJrZXIoCiAgICAgICAgICAgICAgICBbMTguOTUzNzcwNiwgNzIuODI3NDc1NV0sCiAgICAgICAgICAgICAgICB7CiAgImJ1YmJsaW5nTW91c2VFdmVudHMiOiB0cnVlLAogICJjb2xvciI6ICJibHVlIiwKICAiZGFzaEFycmF5IjogbnVsbCwKICAiZGFzaE9mZnNldCI6IG51bGwsCiAgImZpbGwiOiB0cnVlLAogICJmaWxsQ29sb3IiOiAiIzMxODZjYyIsCiAgImZpbGxPcGFjaXR5IjogMC43LAogICJmaWxsUnVsZSI6ICJldmVub2RkIiwKICAibGluZUNhcCI6ICJyb3VuZCIsCiAgImxpbmVKb2luIjogInJvdW5kIiwKICAib3BhY2l0eSI6IDEuMCwKICAicmFkaXVzIjogNSwKICAic3Ryb2tlIjogdHJ1ZSwKICAid2VpZ2h0IjogMwp9CiAgICAgICAgICAgICAgICApCiAgICAgICAgICAgICAgICAuYWRkVG8obWFwX2Q4MmU4MGI3Y2M4ODQxNjlhNzY3NjM2N2VlMjNjY2E1KTsKICAgICAgICAgICAgCiAgICAKICAgICAgICAgICAgdmFyIHBvcHVwXzQ5NjE2MzRkNDk2ZTRiZTdhZjk1N2VkYjNiODhlMWZmID0gTC5wb3B1cCh7bWF4V2lkdGg6ICcxMDAlJwogICAgICAgICAgICAKICAgICAgICAgICAgfSk7CgogICAgICAgICAgICAKICAgICAgICAgICAgICAgIHZhciBodG1sXzFlNGIyNGUyMjgwMTRmNmRiOTIxMDJiZWZkM2NlNzYzID0gJChgPGRpdiBpZD0iaHRtbF8xZTRiMjRlMjI4MDE0ZjZkYjkyMTAyYmVmZDNjZTc2MyIgc3R5bGU9IndpZHRoOiAxMDAuMCU7IGhlaWdodDogMTAwLjAlOyI+Qmh1bGVzaHdhciwgU291dGggTXVtYmFpPC9kaXY+YClbMF07CiAgICAgICAgICAgICAgICBwb3B1cF80OTYxNjM0ZDQ5NmU0YmU3YWY5NTdlZGIzYjg4ZTFmZi5zZXRDb250ZW50KGh0bWxfMWU0YjI0ZTIyODAxNGY2ZGI5MjEwMmJlZmQzY2U3NjMpOwogICAgICAgICAgICAKCiAgICAgICAgICAgIGNpcmNsZV9tYXJrZXJfOTYwMTRmZDQ5Y2ZjNDQzYWE1ZTQxZWJjNTQzNmJhMmUuYmluZFBvcHVwKHBvcHVwXzQ5NjE2MzRkNDk2ZTRiZTdhZjk1N2VkYjNiODhlMWZmKQogICAgICAgICAgICA7CgogICAgICAgICAgICAKICAgICAgICAKICAgIAogICAgICAgICAgICB2YXIgY2lyY2xlX21hcmtlcl85OWNhZTkyNTgwNmM0NTk2ODlmZGUzNWI3MWQ0NGUxYyA9IEwuY2lyY2xlTWFya2VyKAogICAgICAgICAgICAgICAgWzE4Ljk1MzU5ODU1MDAwMDAwMiwgNzIuODM4MTI2NDk5NzU0NF0sCiAgICAgICAgICAgICAgICB7CiAgImJ1YmJsaW5nTW91c2VFdmVudHMiOiB0cnVlLAogICJjb2xvciI6ICJibHVlIiwKICAiZGFzaEFycmF5IjogbnVsbCwKICAiZGFzaE9mZnNldCI6IG51bGwsCiAgImZpbGwiOiB0cnVlLAogICJmaWxsQ29sb3IiOiAiIzMxODZjYyIsCiAgImZpbGxPcGFjaXR5IjogMC43LAogICJmaWxsUnVsZSI6ICJldmVub2RkIiwKICAibGluZUNhcCI6ICJyb3VuZCIsCiAgImxpbmVKb2luIjogInJvdW5kIiwKICAib3BhY2l0eSI6IDEuMCwKICAicmFkaXVzIjogNSwKICAic3Ryb2tlIjogdHJ1ZSwKICAid2VpZ2h0IjogMwp9CiAgICAgICAgICAgICAgICApCiAgICAgICAgICAgICAgICAuYWRkVG8obWFwX2Q4MmU4MGI3Y2M4ODQxNjlhNzY3NjM2N2VlMjNjY2E1KTsKICAgICAgICAgICAgCiAgICAKICAgICAgICAgICAgdmFyIHBvcHVwXzI5YjIyMThjMTkyMjQ4NzRhN2M3ODIwNjM5N2Y1NmQ5ID0gTC5wb3B1cCh7bWF4V2lkdGg6ICcxMDAlJwogICAgICAgICAgICAKICAgICAgICAgICAgfSk7CgogICAgICAgICAgICAKICAgICAgICAgICAgICAgIHZhciBodG1sXzM2OGI0MTdlYWJlYTQzZmI5ZjcwYWI4ZmY3ODBiM2EzID0gJChgPGRpdiBpZD0iaHRtbF8zNjhiNDE3ZWFiZWE0M2ZiOWY3MGFiOGZmNzgwYjNhMyIgc3R5bGU9IndpZHRoOiAxMDAuMCU7IGhlaWdodDogMTAwLjAlOyI+TWFzamlkIEJhbmRhciwgU291dGggTXVtYmFpPC9kaXY+YClbMF07CiAgICAgICAgICAgICAgICBwb3B1cF8yOWIyMjE4YzE5MjI0ODc0YTdjNzgyMDYzOTdmNTZkOS5zZXRDb250ZW50KGh0bWxfMzY4YjQxN2VhYmVhNDNmYjlmNzBhYjhmZjc4MGIzYTMpOwogICAgICAgICAgICAKCiAgICAgICAgICAgIGNpcmNsZV9tYXJrZXJfOTljYWU5MjU4MDZjNDU5Njg5ZmRlMzViNzFkNDRlMWMuYmluZFBvcHVwKHBvcHVwXzI5YjIyMThjMTkyMjQ4NzRhN2M3ODIwNjM5N2Y1NmQ5KQogICAgICAgICAgICA7CgogICAgICAgICAgICAKICAgICAgICAKICAgIAogICAgICAgICAgICB2YXIgY2lyY2xlX21hcmtlcl84MzQ4OWY3Y2IxOTk0MmMxODgyM2ZjZTEwNGU4MWI3MCA9IEwuY2lyY2xlTWFya2VyKAogICAgICAgICAgICAgICAgWzE4Ljk3NzAzNjMsIDcyLjg0OTA3NjhdLAogICAgICAgICAgICAgICAgewogICJidWJibGluZ01vdXNlRXZlbnRzIjogdHJ1ZSwKICAiY29sb3IiOiAiYmx1ZSIsCiAgImRhc2hBcnJheSI6IG51bGwsCiAgImRhc2hPZmZzZXQiOiBudWxsLAogICJmaWxsIjogdHJ1ZSwKICAiZmlsbENvbG9yIjogIiMzMTg2Y2MiLAogICJmaWxsT3BhY2l0eSI6IDAuNywKICAiZmlsbFJ1bGUiOiAiZXZlbm9kZCIsCiAgImxpbmVDYXAiOiAicm91bmQiLAogICJsaW5lSm9pbiI6ICJyb3VuZCIsCiAgIm9wYWNpdHkiOiAxLjAsCiAgInJhZGl1cyI6IDUsCiAgInN0cm9rZSI6IHRydWUsCiAgIndlaWdodCI6IDMKfQogICAgICAgICAgICAgICAgKQogICAgICAgICAgICAgICAgLmFkZFRvKG1hcF9kODJlODBiN2NjODg0MTY5YTc2NzYzNjdlZTIzY2NhNSk7CiAgICAgICAgICAgIAogICAgCiAgICAgICAgICAgIHZhciBwb3B1cF9hOGY0NTc2ODNiZmQ0MzdiYjVlOWZjOWEwOTNhODJkNyA9IEwucG9wdXAoe21heFdpZHRoOiAnMTAwJScKICAgICAgICAgICAgCiAgICAgICAgICAgIH0pOwoKICAgICAgICAgICAgCiAgICAgICAgICAgICAgICB2YXIgaHRtbF9jNWM2ODhhZWIwNWY0MWI4OWZiYjBiZjlhOWY1NDk4MCA9ICQoYDxkaXYgaWQ9Imh0bWxfYzVjNjg4YWViMDVmNDFiODlmYmIwYmY5YTlmNTQ5ODAiIHN0eWxlPSJ3aWR0aDogMTAwLjAlOyBoZWlnaHQ6IDEwMC4wJTsiPkRhcnVraGFuYSwgU291dGggTXVtYmFpPC9kaXY+YClbMF07CiAgICAgICAgICAgICAgICBwb3B1cF9hOGY0NTc2ODNiZmQ0MzdiYjVlOWZjOWEwOTNhODJkNy5zZXRDb250ZW50KGh0bWxfYzVjNjg4YWViMDVmNDFiODlmYmIwYmY5YTlmNTQ5ODApOwogICAgICAgICAgICAKCiAgICAgICAgICAgIGNpcmNsZV9tYXJrZXJfODM0ODlmN2NiMTk5NDJjMTg4MjNmY2UxMDRlODFiNzAuYmluZFBvcHVwKHBvcHVwX2E4ZjQ1NzY4M2JmZDQzN2JiNWU5ZmM5YTA5M2E4MmQ3KQogICAgICAgICAgICA7CgogICAgICAgICAgICAKICAgICAgICAKICAgIAogICAgICAgICAgICB2YXIgY2lyY2xlX21hcmtlcl84NzJhMzE1ZWFjMTU0N2Q0YjBiYWE3NDY0NWM3NjFiMiA9IEwuY2lyY2xlTWFya2VyKAogICAgICAgICAgICAgICAgWzE4Ljk1Mzk5MzksIDcyLjgzMjM3ODZdLAogICAgICAgICAgICAgICAgewogICJidWJibGluZ01vdXNlRXZlbnRzIjogdHJ1ZSwKICAiY29sb3IiOiAiYmx1ZSIsCiAgImRhc2hBcnJheSI6IG51bGwsCiAgImRhc2hPZmZzZXQiOiBudWxsLAogICJmaWxsIjogdHJ1ZSwKICAiZmlsbENvbG9yIjogIiMzMTg2Y2MiLAogICJmaWxsT3BhY2l0eSI6IDAuNywKICAiZmlsbFJ1bGUiOiAiZXZlbm9kZCIsCiAgImxpbmVDYXAiOiAicm91bmQiLAogICJsaW5lSm9pbiI6ICJyb3VuZCIsCiAgIm9wYWNpdHkiOiAxLjAsCiAgInJhZGl1cyI6IDUsCiAgInN0cm9rZSI6IHRydWUsCiAgIndlaWdodCI6IDMKfQogICAgICAgICAgICAgICAgKQogICAgICAgICAgICAgICAgLmFkZFRvKG1hcF9kODJlODBiN2NjODg0MTY5YTc2NzYzNjdlZTIzY2NhNSk7CiAgICAgICAgICAgIAogICAgCiAgICAgICAgICAgIHZhciBwb3B1cF8xNzdjZmRlNjFjZTA0OTgzOGMwM2VlNzRmNzlmZDliNiA9IEwucG9wdXAoe21heFdpZHRoOiAnMTAwJScKICAgICAgICAgICAgCiAgICAgICAgICAgIH0pOwoKICAgICAgICAgICAgCiAgICAgICAgICAgICAgICB2YXIgaHRtbF82YWY0NmFjZjk0OGE0YjdmOWRhYWVhOGIzM2M1ZWM0MiA9ICQoYDxkaXYgaWQ9Imh0bWxfNmFmNDZhY2Y5NDhhNGI3ZjlkYWFlYThiMzNjNWVjNDIiIHN0eWxlPSJ3aWR0aDogMTAwLjAlOyBoZWlnaHQ6IDEwMC4wJTsiPlB5ZGhvbmksIFNvdXRoIE11bWJhaTwvZGl2PmApWzBdOwogICAgICAgICAgICAgICAgcG9wdXBfMTc3Y2ZkZTYxY2UwNDk4MzhjMDNlZTc0Zjc5ZmQ5YjYuc2V0Q29udGVudChodG1sXzZhZjQ2YWNmOTQ4YTRiN2Y5ZGFhZWE4YjMzYzVlYzQyKTsKICAgICAgICAgICAgCgogICAgICAgICAgICBjaXJjbGVfbWFya2VyXzg3MmEzMTVlYWMxNTQ3ZDRiMGJhYTc0NjQ1Yzc2MWIyLmJpbmRQb3B1cChwb3B1cF8xNzdjZmRlNjFjZTA0OTgzOGMwM2VlNzRmNzlmZDliNikKICAgICAgICAgICAgOwoKICAgICAgICAgICAgCiAgICAgICAgCiAgICAKICAgICAgICAgICAgdmFyIGNpcmNsZV9tYXJrZXJfYWFmODg4OWE4MzA5NDgwZDhjMDRhMDgyNTA2NzA5OTkgPSBMLmNpcmNsZU1hcmtlcigKICAgICAgICAgICAgICAgIFsxOC45NjgxNzgyLCA3Mi44Mjg2MDA5XSwKICAgICAgICAgICAgICAgIHsKICAiYnViYmxpbmdNb3VzZUV2ZW50cyI6IHRydWUsCiAgImNvbG9yIjogImJsdWUiLAogICJkYXNoQXJyYXkiOiBudWxsLAogICJkYXNoT2Zmc2V0IjogbnVsbCwKICAiZmlsbCI6IHRydWUsCiAgImZpbGxDb2xvciI6ICIjMzE4NmNjIiwKICAiZmlsbE9wYWNpdHkiOiAwLjcsCiAgImZpbGxSdWxlIjogImV2ZW5vZGQiLAogICJsaW5lQ2FwIjogInJvdW5kIiwKICAibGluZUpvaW4iOiAicm91bmQiLAogICJvcGFjaXR5IjogMS4wLAogICJyYWRpdXMiOiA1LAogICJzdHJva2UiOiB0cnVlLAogICJ3ZWlnaHQiOiAzCn0KICAgICAgICAgICAgICAgICkKICAgICAgICAgICAgICAgIC5hZGRUbyhtYXBfZDgyZTgwYjdjYzg4NDE2OWE3Njc2MzY3ZWUyM2NjYTUpOwogICAgICAgICAgICAKICAgIAogICAgICAgICAgICB2YXIgcG9wdXBfOWU2MWFhNTM0YTAxNGRlYmJiNzk1ZjY4YjMxMzY4NDYgPSBMLnBvcHVwKHttYXhXaWR0aDogJzEwMCUnCiAgICAgICAgICAgIAogICAgICAgICAgICB9KTsKCiAgICAgICAgICAgIAogICAgICAgICAgICAgICAgdmFyIGh0bWxfZjlmOGU1ZWEzYTMwNDU1NmExMmM0NzQ3ODYyMTcxOWMgPSAkKGA8ZGl2IGlkPSJodG1sX2Y5ZjhlNWVhM2EzMDQ1NTZhMTJjNDc0Nzg2MjE3MTljIiBzdHlsZT0id2lkdGg6IDEwMC4wJTsgaGVpZ2h0OiAxMDAuMCU7Ij5OYWdwYWRhLCBTb3V0aCBNdW1iYWk8L2Rpdj5gKVswXTsKICAgICAgICAgICAgICAgIHBvcHVwXzllNjFhYTUzNGEwMTRkZWJiYjc5NWY2OGIzMTM2ODQ2LnNldENvbnRlbnQoaHRtbF9mOWY4ZTVlYTNhMzA0NTU2YTEyYzQ3NDc4NjIxNzE5Yyk7CiAgICAgICAgICAgIAoKICAgICAgICAgICAgY2lyY2xlX21hcmtlcl9hYWY4ODg5YTgzMDk0ODBkOGMwNGEwODI1MDY3MDk5OS5iaW5kUG9wdXAocG9wdXBfOWU2MWFhNTM0YTAxNGRlYmJiNzk1ZjY4YjMxMzY4NDYpCiAgICAgICAgICAgIDsKCiAgICAgICAgICAgIAogICAgICAgIAogICAgCiAgICAgICAgICAgIHZhciBjaXJjbGVfbWFya2VyXzg4ODE4NTRlMzAyYzQxMjhiNmQ2ZWY1ZGI5M2VhYzkxID0gTC5jaXJjbGVNYXJrZXIoCiAgICAgICAgICAgICAgICBbMTguOTYyMjI2NSwgNzIuODM2Nzk1XSwKICAgICAgICAgICAgICAgIHsKICAiYnViYmxpbmdNb3VzZUV2ZW50cyI6IHRydWUsCiAgImNvbG9yIjogImJsdWUiLAogICJkYXNoQXJyYXkiOiBudWxsLAogICJkYXNoT2Zmc2V0IjogbnVsbCwKICAiZmlsbCI6IHRydWUsCiAgImZpbGxDb2xvciI6ICIjMzE4NmNjIiwKICAiZmlsbE9wYWNpdHkiOiAwLjcsCiAgImZpbGxSdWxlIjogImV2ZW5vZGQiLAogICJsaW5lQ2FwIjogInJvdW5kIiwKICAibGluZUpvaW4iOiAicm91bmQiLAogICJvcGFjaXR5IjogMS4wLAogICJyYWRpdXMiOiA1LAogICJzdHJva2UiOiB0cnVlLAogICJ3ZWlnaHQiOiAzCn0KICAgICAgICAgICAgICAgICkKICAgICAgICAgICAgICAgIC5hZGRUbyhtYXBfZDgyZTgwYjdjYzg4NDE2OWE3Njc2MzY3ZWUyM2NjYTUpOwogICAgICAgICAgICAKICAgIAogICAgICAgICAgICB2YXIgcG9wdXBfZWIyMjc5YmE0ZTQ4NDVlYTkyOTRmM2QxYWY5OTNmMDUgPSBMLnBvcHVwKHttYXhXaWR0aDogJzEwMCUnCiAgICAgICAgICAgIAogICAgICAgICAgICB9KTsKCiAgICAgICAgICAgIAogICAgICAgICAgICAgICAgdmFyIGh0bWxfNGFkOGVkMjYyMzM3NDUwYTlhNmVlY2Y2YmMxOGI3ZGMgPSAkKGA8ZGl2IGlkPSJodG1sXzRhZDhlZDI2MjMzNzQ1MGE5YTZlZWNmNmJjMThiN2RjIiBzdHlsZT0id2lkdGg6IDEwMC4wJTsgaGVpZ2h0OiAxMDAuMCU7Ij5Eb25ncmksIFNvdXRoIE11bWJhaTwvZGl2PmApWzBdOwogICAgICAgICAgICAgICAgcG9wdXBfZWIyMjc5YmE0ZTQ4NDVlYTkyOTRmM2QxYWY5OTNmMDUuc2V0Q29udGVudChodG1sXzRhZDhlZDI2MjMzNzQ1MGE5YTZlZWNmNmJjMThiN2RjKTsKICAgICAgICAgICAgCgogICAgICAgICAgICBjaXJjbGVfbWFya2VyXzg4ODE4NTRlMzAyYzQxMjhiNmQ2ZWY1ZGI5M2VhYzkxLmJpbmRQb3B1cChwb3B1cF9lYjIyNzliYTRlNDg0NWVhOTI5NGYzZDFhZjk5M2YwNSkKICAgICAgICAgICAgOwoKICAgICAgICAgICAgCiAgICAgICAgCiAgICAKICAgICAgICAgICAgdmFyIGNpcmNsZV9tYXJrZXJfODk0N2JlOTQ4MDRlNDFhMDlmODBhOTAzMTE4ZTUwNjYgPSBMLmNpcmNsZU1hcmtlcigKICAgICAgICAgICAgICAgIFsxOC45NzY2MjE5LCA3Mi44MzI3OTM2XSwKICAgICAgICAgICAgICAgIHsKICAiYnViYmxpbmdNb3VzZUV2ZW50cyI6IHRydWUsCiAgImNvbG9yIjogImJsdWUiLAogICJkYXNoQXJyYXkiOiBudWxsLAogICJkYXNoT2Zmc2V0IjogbnVsbCwKICAiZmlsbCI6IHRydWUsCiAgImZpbGxDb2xvciI6ICIjMzE4NmNjIiwKICAiZmlsbE9wYWNpdHkiOiAwLjcsCiAgImZpbGxSdWxlIjogImV2ZW5vZGQiLAogICJsaW5lQ2FwIjogInJvdW5kIiwKICAibGluZUpvaW4iOiAicm91bmQiLAogICJvcGFjaXR5IjogMS4wLAogICJyYWRpdXMiOiA1LAogICJzdHJva2UiOiB0cnVlLAogICJ3ZWlnaHQiOiAzCn0KICAgICAgICAgICAgICAgICkKICAgICAgICAgICAgICAgIC5hZGRUbyhtYXBfZDgyZTgwYjdjYzg4NDE2OWE3Njc2MzY3ZWUyM2NjYTUpOwogICAgICAgICAgICAKICAgIAogICAgICAgICAgICB2YXIgcG9wdXBfNGEzZGU4YmI2NGE3NDY4NzkxM2Q3MjEzYzNmYjhhODAgPSBMLnBvcHVwKHttYXhXaWR0aDogJzEwMCUnCiAgICAgICAgICAgIAogICAgICAgICAgICB9KTsKCiAgICAgICAgICAgIAogICAgICAgICAgICAgICAgdmFyIGh0bWxfNjdkZGI4ZDI5ZjM5NGI4Mjk1YjQ1NDFiMDRlZjRhNWQgPSAkKGA8ZGl2IGlkPSJodG1sXzY3ZGRiOGQyOWYzOTRiODI5NWI0NTQxYjA0ZWY0YTVkIiBzdHlsZT0id2lkdGg6IDEwMC4wJTsgaGVpZ2h0OiAxMDAuMCU7Ij5CeWN1bGxhLCBTb3V0aCBNdW1iYWk8L2Rpdj5gKVswXTsKICAgICAgICAgICAgICAgIHBvcHVwXzRhM2RlOGJiNjRhNzQ2ODc5MTNkNzIxM2MzZmI4YTgwLnNldENvbnRlbnQoaHRtbF82N2RkYjhkMjlmMzk0YjgyOTViNDU0MWIwNGVmNGE1ZCk7CiAgICAgICAgICAgIAoKICAgICAgICAgICAgY2lyY2xlX21hcmtlcl84OTQ3YmU5NDgwNGU0MWEwOWY4MGE5MDMxMThlNTA2Ni5iaW5kUG9wdXAocG9wdXBfNGEzZGU4YmI2NGE3NDY4NzkxM2Q3MjEzYzNmYjhhODApCiAgICAgICAgICAgIDsKCiAgICAgICAgICAgIAogICAgICAgIAogICAgCiAgICAgICAgICAgIHZhciBjaXJjbGVfbWFya2VyXzI5Y2I2Yjg0NzU5ZTQ3MDQ4YmNmNTQ1MmM2MTczZmU2ID0gTC5jaXJjbGVNYXJrZXIoCiAgICAgICAgICAgICAgICBbMTguOTM4NzcxMSwgNzIuODM1MzM1NV0sCiAgICAgICAgICAgICAgICB7CiAgImJ1YmJsaW5nTW91c2VFdmVudHMiOiB0cnVlLAogICJjb2xvciI6ICJibHVlIiwKICAiZGFzaEFycmF5IjogbnVsbCwKICAiZGFzaE9mZnNldCI6IG51bGwsCiAgImZpbGwiOiB0cnVlLAogICJmaWxsQ29sb3IiOiAiIzMxODZjYyIsCiAgImZpbGxPcGFjaXR5IjogMC43LAogICJmaWxsUnVsZSI6ICJldmVub2RkIiwKICAibGluZUNhcCI6ICJyb3VuZCIsCiAgImxpbmVKb2luIjogInJvdW5kIiwKICAib3BhY2l0eSI6IDEuMCwKICAicmFkaXVzIjogNSwKICAic3Ryb2tlIjogdHJ1ZSwKICAid2VpZ2h0IjogMwp9CiAgICAgICAgICAgICAgICApCiAgICAgICAgICAgICAgICAuYWRkVG8obWFwX2Q4MmU4MGI3Y2M4ODQxNjlhNzY3NjM2N2VlMjNjY2E1KTsKICAgICAgICAgICAgCiAgICAKICAgICAgICAgICAgdmFyIHBvcHVwXzA0ZDc3NzI0YmUwNzQ1N2ZiNzA5NDU4MTcxNDY4MmFkID0gTC5wb3B1cCh7bWF4V2lkdGg6ICcxMDAlJwogICAgICAgICAgICAKICAgICAgICAgICAgfSk7CgogICAgICAgICAgICAKICAgICAgICAgICAgICAgIHZhciBodG1sXzQ2ZjhmMzk0Yjg2ZjQ4Mjk4N2Y2ZDY3ZjMyMjc2YzU5ID0gJChgPGRpdiBpZD0iaHRtbF80NmY4ZjM5NGI4NmY0ODI5ODdmNmQ2N2YzMjI3NmM1OSIgc3R5bGU9IndpZHRoOiAxMDAuMCU7IGhlaWdodDogMTAwLjAlOyI+R3JhbmQgUm9hZCwgU291dGggTXVtYmFpPC9kaXY+YClbMF07CiAgICAgICAgICAgICAgICBwb3B1cF8wNGQ3NzcyNGJlMDc0NTdmYjcwOTQ1ODE3MTQ2ODJhZC5zZXRDb250ZW50KGh0bWxfNDZmOGYzOTRiODZmNDgyOTg3ZjZkNjdmMzIyNzZjNTkpOwogICAgICAgICAgICAKCiAgICAgICAgICAgIGNpcmNsZV9tYXJrZXJfMjljYjZiODQ3NTllNDcwNDhiY2Y1NDUyYzYxNzNmZTYuYmluZFBvcHVwKHBvcHVwXzA0ZDc3NzI0YmUwNzQ1N2ZiNzA5NDU4MTcxNDY4MmFkKQogICAgICAgICAgICA7CgogICAgICAgICAgICAKICAgICAgICAKICAgIAogICAgICAgICAgICB2YXIgY2lyY2xlX21hcmtlcl8wOWZkYzE0MzU0OTU0ZTQxYTdiZDY1NDc1OTM1MGQ4NSA9IEwuY2lyY2xlTWFya2VyKAogICAgICAgICAgICAgICAgWzE4Ljk2ODA1MTksIDcyLjg0MDAxMTg3MDM2MjY3XSwKICAgICAgICAgICAgICAgIHsKICAiYnViYmxpbmdNb3VzZUV2ZW50cyI6IHRydWUsCiAgImNvbG9yIjogImJsdWUiLAogICJkYXNoQXJyYXkiOiBudWxsLAogICJkYXNoT2Zmc2V0IjogbnVsbCwKICAiZmlsbCI6IHRydWUsCiAgImZpbGxDb2xvciI6ICIjMzE4NmNjIiwKICAiZmlsbE9wYWNpdHkiOiAwLjcsCiAgImZpbGxSdWxlIjogImV2ZW5vZGQiLAogICJsaW5lQ2FwIjogInJvdW5kIiwKICAibGluZUpvaW4iOiAicm91bmQiLAogICJvcGFjaXR5IjogMS4wLAogICJyYWRpdXMiOiA1LAogICJzdHJva2UiOiB0cnVlLAogICJ3ZWlnaHQiOiAzCn0KICAgICAgICAgICAgICAgICkKICAgICAgICAgICAgICAgIC5hZGRUbyhtYXBfZDgyZTgwYjdjYzg4NDE2OWE3Njc2MzY3ZWUyM2NjYTUpOwogICAgICAgICAgICAKICAgIAogICAgICAgICAgICB2YXIgcG9wdXBfZmZiOTcxOTc3NjNiNGI1OWExOTRlY2EzZTU1Nzk2ODAgPSBMLnBvcHVwKHttYXhXaWR0aDogJzEwMCUnCiAgICAgICAgICAgIAogICAgICAgICAgICB9KTsKCiAgICAgICAgICAgIAogICAgICAgICAgICAgICAgdmFyIGh0bWxfZTJiMTRjODFlMDI1NDM5YjgzZjZiZDZmZWRlMjEzZDIgPSAkKGA8ZGl2IGlkPSJodG1sX2UyYjE0YzgxZTAyNTQzOWI4M2Y2YmQ2ZmVkZTIxM2QyIiBzdHlsZT0id2lkdGg6IDEwMC4wJTsgaGVpZ2h0OiAxMDAuMCU7Ij5NYXpnYW9uLCBTb3V0aCBNdW1iYWk8L2Rpdj5gKVswXTsKICAgICAgICAgICAgICAgIHBvcHVwX2ZmYjk3MTk3NzYzYjRiNTlhMTk0ZWNhM2U1NTc5NjgwLnNldENvbnRlbnQoaHRtbF9lMmIxNGM4MWUwMjU0MzliODNmNmJkNmZlZGUyMTNkMik7CiAgICAgICAgICAgIAoKICAgICAgICAgICAgY2lyY2xlX21hcmtlcl8wOWZkYzE0MzU0OTU0ZTQxYTdiZDY1NDc1OTM1MGQ4NS5iaW5kUG9wdXAocG9wdXBfZmZiOTcxOTc3NjNiNGI1OWExOTRlY2EzZTU1Nzk2ODApCiAgICAgICAgICAgIDsKCiAgICAgICAgICAgIAogICAgICAgIAogICAgCiAgICAgICAgICAgIHZhciBjaXJjbGVfbWFya2VyX2VhMWUzZWIwZjQzZDRmYWRhNmFlNjVjNjc2OGIyM2E3ID0gTC5jaXJjbGVNYXJrZXIoCiAgICAgICAgICAgICAgICBbMTguOTY5NTg1NSwgNzIuODE5MzE1Ml0sCiAgICAgICAgICAgICAgICB7CiAgImJ1YmJsaW5nTW91c2VFdmVudHMiOiB0cnVlLAogICJjb2xvciI6ICJibHVlIiwKICAiZGFzaEFycmF5IjogbnVsbCwKICAiZGFzaE9mZnNldCI6IG51bGwsCiAgImZpbGwiOiB0cnVlLAogICJmaWxsQ29sb3IiOiAiIzMxODZjYyIsCiAgImZpbGxPcGFjaXR5IjogMC43LAogICJmaWxsUnVsZSI6ICJldmVub2RkIiwKICAibGluZUNhcCI6ICJyb3VuZCIsCiAgImxpbmVKb2luIjogInJvdW5kIiwKICAib3BhY2l0eSI6IDEuMCwKICAicmFkaXVzIjogNSwKICAic3Ryb2tlIjogdHJ1ZSwKICAid2VpZ2h0IjogMwp9CiAgICAgICAgICAgICAgICApCiAgICAgICAgICAgICAgICAuYWRkVG8obWFwX2Q4MmU4MGI3Y2M4ODQxNjlhNzY3NjM2N2VlMjNjY2E1KTsKICAgICAgICAgICAgCiAgICAKICAgICAgICAgICAgdmFyIHBvcHVwXzE5NDhmMzUxOWZiZjRhYjFiNDhjZGRiMDRlOTY4ZDliID0gTC5wb3B1cCh7bWF4V2lkdGg6ICcxMDAlJwogICAgICAgICAgICAKICAgICAgICAgICAgfSk7CgogICAgICAgICAgICAKICAgICAgICAgICAgICAgIHZhciBodG1sXzdjZGM5Y2VlZWQ4OTRkNzNhYTY5ODU1NDRjMjA2Yzk4ID0gJChgPGRpdiBpZD0iaHRtbF83Y2RjOWNlZWVkODk0ZDczYWE2OTg1NTQ0YzIwNmM5OCIgc3R5bGU9IndpZHRoOiAxMDAuMCU7IGhlaWdodDogMTAwLjAlOyI+TXVtYmFpIENlbnRyYWwsIFNvdXRoIE11bWJhaTwvZGl2PmApWzBdOwogICAgICAgICAgICAgICAgcG9wdXBfMTk0OGYzNTE5ZmJmNGFiMWI0OGNkZGIwNGU5NjhkOWIuc2V0Q29udGVudChodG1sXzdjZGM5Y2VlZWQ4OTRkNzNhYTY5ODU1NDRjMjA2Yzk4KTsKICAgICAgICAgICAgCgogICAgICAgICAgICBjaXJjbGVfbWFya2VyX2VhMWUzZWIwZjQzZDRmYWRhNmFlNjVjNjc2OGIyM2E3LmJpbmRQb3B1cChwb3B1cF8xOTQ4ZjM1MTlmYmY0YWIxYjQ4Y2RkYjA0ZTk2OGQ5YikKICAgICAgICAgICAgOwoKICAgICAgICAgICAgCiAgICAgICAgCiAgICAKICAgICAgICAgICAgdmFyIGNpcmNsZV9tYXJrZXJfZWMxZTAwZDQ3YzIzNDNjODg1OGRjMTA5MGMxMjY4MjkgPSBMLmNpcmNsZU1hcmtlcigKICAgICAgICAgICAgICAgIFsxOC45ODI1Njc5LCA3Mi44MjQxNl0sCiAgICAgICAgICAgICAgICB7CiAgImJ1YmJsaW5nTW91c2VFdmVudHMiOiB0cnVlLAogICJjb2xvciI6ICJibHVlIiwKICAiZGFzaEFycmF5IjogbnVsbCwKICAiZGFzaE9mZnNldCI6IG51bGwsCiAgImZpbGwiOiB0cnVlLAogICJmaWxsQ29sb3IiOiAiIzMxODZjYyIsCiAgImZpbGxPcGFjaXR5IjogMC43LAogICJmaWxsUnVsZSI6ICJldmVub2RkIiwKICAibGluZUNhcCI6ICJyb3VuZCIsCiAgImxpbmVKb2luIjogInJvdW5kIiwKICAib3BhY2l0eSI6IDEuMCwKICAicmFkaXVzIjogNSwKICAic3Ryb2tlIjogdHJ1ZSwKICAid2VpZ2h0IjogMwp9CiAgICAgICAgICAgICAgICApCiAgICAgICAgICAgICAgICAuYWRkVG8obWFwX2Q4MmU4MGI3Y2M4ODQxNjlhNzY3NjM2N2VlMjNjY2E1KTsKICAgICAgICAgICAgCiAgICAKICAgICAgICAgICAgdmFyIHBvcHVwXzA0M2FmYTkxZjQzMDQ4YWZiNjEyNjIzNGM5MGI1MDYzID0gTC5wb3B1cCh7bWF4V2lkdGg6ICcxMDAlJwogICAgICAgICAgICAKICAgICAgICAgICAgfSk7CgogICAgICAgICAgICAKICAgICAgICAgICAgICAgIHZhciBodG1sX2YyZTE3ZTYyZTU1ODQ2Y2U4ZTY3MDVmMTJhNzk1ZjM3ID0gJChgPGRpdiBpZD0iaHRtbF9mMmUxN2U2MmU1NTg0NmNlOGU2NzA1ZjEyYTc5NWYzNyIgc3R5bGU9IndpZHRoOiAxMDAuMCU7IGhlaWdodDogMTAwLjAlOyI+TWFoYWxheG1pLCBTb3V0aCBNdW1iYWk8L2Rpdj5gKVswXTsKICAgICAgICAgICAgICAgIHBvcHVwXzA0M2FmYTkxZjQzMDQ4YWZiNjEyNjIzNGM5MGI1MDYzLnNldENvbnRlbnQoaHRtbF9mMmUxN2U2MmU1NTg0NmNlOGU2NzA1ZjEyYTc5NWYzNyk7CiAgICAgICAgICAgIAoKICAgICAgICAgICAgY2lyY2xlX21hcmtlcl9lYzFlMDBkNDdjMjM0M2M4ODU4ZGMxMDkwYzEyNjgyOS5iaW5kUG9wdXAocG9wdXBfMDQzYWZhOTFmNDMwNDhhZmI2MTI2MjM0YzkwYjUwNjMpCiAgICAgICAgICAgIDsKCiAgICAgICAgICAgIAogICAgICAgIAogICAgCiAgICAgICAgICAgIHZhciBjaXJjbGVfbWFya2VyXzhmNDFiY2M1YWVkYzRiMzc4NGFiMDQ3ZDdjOGRkM2E3ID0gTC5jaXJjbGVNYXJrZXIoCiAgICAgICAgICAgICAgICBbMTkuMDExNjk2MiwgNzIuODE4MDcwMl0sCiAgICAgICAgICAgICAgICB7CiAgImJ1YmJsaW5nTW91c2VFdmVudHMiOiB0cnVlLAogICJjb2xvciI6ICJibHVlIiwKICAiZGFzaEFycmF5IjogbnVsbCwKICAiZGFzaE9mZnNldCI6IG51bGwsCiAgImZpbGwiOiB0cnVlLAogICJmaWxsQ29sb3IiOiAiIzMxODZjYyIsCiAgImZpbGxPcGFjaXR5IjogMC43LAogICJmaWxsUnVsZSI6ICJldmVub2RkIiwKICAibGluZUNhcCI6ICJyb3VuZCIsCiAgImxpbmVKb2luIjogInJvdW5kIiwKICAib3BhY2l0eSI6IDEuMCwKICAicmFkaXVzIjogNSwKICAic3Ryb2tlIjogdHJ1ZSwKICAid2VpZ2h0IjogMwp9CiAgICAgICAgICAgICAgICApCiAgICAgICAgICAgICAgICAuYWRkVG8obWFwX2Q4MmU4MGI3Y2M4ODQxNjlhNzY3NjM2N2VlMjNjY2E1KTsKICAgICAgICAgICAgCiAgICAKICAgICAgICAgICAgdmFyIHBvcHVwXzg3M2RlOTkwZGZkZjQzNTdhNTJlMmZiNDk5YmE0M2MxID0gTC5wb3B1cCh7bWF4V2lkdGg6ICcxMDAlJwogICAgICAgICAgICAKICAgICAgICAgICAgfSk7CgogICAgICAgICAgICAKICAgICAgICAgICAgICAgIHZhciBodG1sXzU2NzM2NzQ4OTMwYTQ2OTk4YThiYzhkNDI0ODcyMDczID0gJChgPGRpdiBpZD0iaHRtbF81NjczNjc0ODkzMGE0Njk5OGE4YmM4ZDQyNDg3MjA3MyIgc3R5bGU9IndpZHRoOiAxMDAuMCU7IGhlaWdodDogMTAwLjAlOyI+V29ybGksIFNvdXRoIE11bWJhaTwvZGl2PmApWzBdOwogICAgICAgICAgICAgICAgcG9wdXBfODczZGU5OTBkZmRmNDM1N2E1MmUyZmI0OTliYTQzYzEuc2V0Q29udGVudChodG1sXzU2NzM2NzQ4OTMwYTQ2OTk4YThiYzhkNDI0ODcyMDczKTsKICAgICAgICAgICAgCgogICAgICAgICAgICBjaXJjbGVfbWFya2VyXzhmNDFiY2M1YWVkYzRiMzc4NGFiMDQ3ZDdjOGRkM2E3LmJpbmRQb3B1cChwb3B1cF84NzNkZTk5MGRmZGY0MzU3YTUyZTJmYjQ5OWJhNDNjMSkKICAgICAgICAgICAgOwoKICAgICAgICAgICAgCiAgICAgICAgCjwvc2NyaXB0Pg== onload=\"this.contentDocument.open();this.contentDocument.write(atob(this.getAttribute('data-html')));this.contentDocument.close();\" allowfullscreen webkitallowfullscreen mozallowfullscreen></iframe></div></div>"
            ],
            "text/plain": [
              "<folium.folium.Map at 0x7fdba7d29390>"
            ]
          },
          "metadata": {
            "tags": []
          },
          "execution_count": 111
        }
      ]
    }
  ]
}