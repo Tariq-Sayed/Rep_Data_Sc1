{
  "nbformat": 4,
  "nbformat_minor": 0,
  "metadata": {
    "colab": {
      "name": "Explore_Mumbai_Code.ipynb",
      "provenance": [],
      "collapsed_sections": [
        "Xacwv4rJtol2",
        "nurDxXQtuuzF"
      ],
      "toc_visible": true
    },
    "kernelspec": {
      "name": "python3",
      "display_name": "Python 3"
    }
  },
  "cells": [
    {
      "cell_type": "markdown",
      "metadata": {
        "id": "SNQ9Ltzz1Q4I",
        "colab_type": "text"
      },
      "source": [
        "# **Version 1 : Apr-20 - 10:31 pm**"
      ]
    },
    {
      "cell_type": "code",
      "metadata": {
        "id": "XLv4WqqpPvlo",
        "colab_type": "code",
        "colab": {
          "base_uri": "https://localhost:8080/",
          "height": 35
        },
        "outputId": "560797a3-1f46-49f4-b8ee-7a7e14470ef8"
      },
      "source": [
        "print(\"fsff\")"
      ],
      "execution_count": 2,
      "outputs": [
        {
          "output_type": "stream",
          "text": [
            "fsff\n"
          ],
          "name": "stdout"
        }
      ]
    },
    {
      "cell_type": "markdown",
      "metadata": {
        "id": "nmzhYuOyEb76",
        "colab_type": "text"
      },
      "source": [
        "# **Exploring Mumbai City for Foreign Tourists**"
      ]
    },
    {
      "cell_type": "markdown",
      "metadata": {
        "id": "0eTxjUb9RaSp",
        "colab_type": "text"
      },
      "source": [
        "## Table of contents\n",
        "* [Introduction: Business Problem](#introduction)\n",
        "* [Data](#data)\n",
        "* [Methodology](#methodology)\n",
        "* [Analysis](#analysis)\n",
        "* [Results](#results)\n",
        "* [Discussion](#results)\n",
        "* [Conclusion](#conclusion)\n"
      ]
    },
    {
      "cell_type": "markdown",
      "metadata": {
        "id": "z0BWR3nkRaSq",
        "colab_type": "text"
      },
      "source": [
        "\n",
        "\n",
        "### **Introduction: Business Problem** <a name=\"introduction\"></a>"
      ]
    },
    {
      "cell_type": "markdown",
      "metadata": {
        "id": "TDxSTIDc09UX",
        "colab_type": "text"
      },
      "source": [
        "Mumbai is a commercial capital of India with a rich cosmpolitan culture.Many toursits from all over the world visit here throught the year to enjoy thescenic beaches, historic monumnents, museums and delicious international variety of cuisines.It is a shopping paradise and offer lot of commodities ranging from readymade garments, household items to antiues.Generally, toursits have no or little idea where to book a hotel which is near to touristic places of intrest like beaches, museum or aquarium they are looking for. Where they can find good restaurants which can offer a wide variety of international cuisine. Or where they can find park and gardens for their small kids. Which areas are good for shopping having  malls or flea markets. Where they can get antiues. The fitness freaks would prefer to have a Gym or Spa nearby. Where they can enjoy a boat ride. The buses and trains usually overcrowded and not recommended for tourists.\n",
        "Therefore, they should get some knowhow of city neighborhoods so they can book a hotel in neighborhoods where they can find places of their interest within walking distance or they can hire a can and can reach within minutes and time is not wasted in overcrowded buses or trains.\n",
        "\n",
        "Mumbai is basically divided into South, West, East and North regions or boroughs. South Mumbai is oldest and rich in heritage.\n",
        "\n",
        "I decided to choose Mumbai as I am born and brought up in this city and familiar with most of the neighborhoods and can verify accuracy of data obtained."
      ]
    },
    {
      "cell_type": "markdown",
      "metadata": {
        "id": "ztRAbOnL5L0N",
        "colab_type": "text"
      },
      "source": [
        "The data required to resolve this problem includes neighborhoods of Mumbai, in which borough they fall, their coordinates and the venues nearby with their categories.\n",
        "\n",
        "The key aim of this project is to guide a foreign tourist about booking a hotel in a neighborhood where he/she can find places of his interest within walking distance or can reach hiring a cab in few minutes from his/her hotel. This problem can be resolved by showing a map with clusters of neighborhoods in different colors based on their similarities based on occurance of a venue category. "
      ]
    },
    {
      "cell_type": "markdown",
      "metadata": {
        "id": "sUAa0ebs62UF",
        "colab_type": "text"
      },
      "source": [
        "The foreign tourists will benefit from the findings of this project extremely useful and they can book the hotel in an area where they can find things of their intrest nearby and will save their time in commuting through overcrowded trains or buses. Apart from that those who want to setup a new hotel or a restaurant or some shop for say readymade garments can also be benefitted. Other intrested parties can be tour operators to help them setup their office in right place."
      ]
    },
    {
      "cell_type": "markdown",
      "metadata": {
        "id": "PY5XUQ3WYIze",
        "colab_type": "text"
      },
      "source": [
        "### **Data** <a name=\"data\"></a>"
      ]
    },
    {
      "cell_type": "markdown",
      "metadata": {
        "id": "wYhBlHamZGA1",
        "colab_type": "text"
      },
      "source": [
        "In this analysis the key decision making factor would be frequency of occurance of a venue category within a particular neighborhood. The data you need is neighborhood, its respective borough, latitude and longitude position of each neighborhood,venues, venue category, latitude and longitude position of each venue. "
      ]
    },
    {
      "cell_type": "markdown",
      "metadata": {
        "id": "IgS3-vWK9ElF",
        "colab_type": "text"
      },
      "source": [
        "The main data source would be Four Square API which provides you with the venues along with the categories. But, in order to provide venues of a location you need to provide latitude and logitude of the location.The latitude and logitude of a location are fetched from Geo API.\n",
        "The Geo API has some limitations as to number of location coordinates it can return and times out. This issue was resolved by splitting the data and passing locations in two iterations.\n",
        "But, major challenge was non-availibilty of all the neighborhoods with their respective boroughs. Therefore, constructed this matrix using Python objects like array, dictionary and dataframe within code. "
      ]
    },
    {
      "cell_type": "markdown",
      "metadata": {
        "id": "-kbgiTB5z8SX",
        "colab_type": "text"
      },
      "source": [
        "Get required Libraries for this project."
      ]
    },
    {
      "cell_type": "code",
      "metadata": {
        "id": "15wlZcr5ztuH",
        "colab_type": "code",
        "outputId": "2ecde65c-c222-402c-f36f-8408685ca849",
        "colab": {
          "base_uri": "https://localhost:8080/",
          "height": 35
        }
      },
      "source": [
        "import pandas as pd\n",
        "from pandas.io.json import json_normalize  # tranform JSON file into a pandas dataframe\n",
        "\n",
        "import numpy as np\n",
        "\n",
        "from bs4 import BeautifulSoup\n",
        "\n",
        "# Matplotlib and associated plotting modules\n",
        "import matplotlib.pyplot as plt\n",
        "import matplotlib.cm as cm\n",
        "import matplotlib.colors as colors\n",
        "\n",
        "import seaborn as sns\n",
        "from urllib.request import urlopen\n",
        "\n",
        "import requests\n",
        "# import k-means from clustering stage\n",
        "from sklearn.cluster import KMeans\n",
        "\n",
        "import folium # map rendering library\n",
        "from geopy.geocoders import Nominatim # convert an address into latitude and longitude values\n",
        "\n",
        "print(\"Library imported 81.\")\n"
      ],
      "execution_count": 8,
      "outputs": [
        {
          "output_type": "stream",
          "text": [
            "Library imported 81.\n"
          ],
          "name": "stdout"
        }
      ]
    },
    {
      "cell_type": "markdown",
      "metadata": {
        "id": "-e4oP9vBa6S2",
        "colab_type": "text"
      },
      "source": [
        "First of all, I did not find the matrix of Mumbai neigborhoods along with their respective boroughs.\n",
        "Therefore, let's generate this data within code using objects like array, dictionary and dataframe."
      ]
    },
    {
      "cell_type": "markdown",
      "metadata": {
        "id": "hb1dFXyfWaI6",
        "colab_type": "text"
      },
      "source": [
        "Mumbai is divided into four boroughs mainly. The South, North, East and West.For this analysis 21 neighborhoods from South, 8 from West, 5 each from East and West. Total neighborhoods is 39 to begin with."
      ]
    },
    {
      "cell_type": "code",
      "metadata": {
        "id": "U2C-IcwxgSid",
        "colab_type": "code",
        "colab": {}
      },
      "source": [
        "# South\n",
        "areas_south = [\"Colaba\",\"Apollo Bandar\",\"Fort\",\"Churchgate\",\"Nariman Point\" \\\n",
        "        ,\"Marine Lines\",\"Walkeshwar\",\"Malabar Hill\",\"Kalbadevi\",\"Bhuleshwar\" \\\n",
        "        ,\"Masjid Bandar\",\"Darukhana\",\"Pydhoni\",\"Nagpada\",\"Dongri\" \\\n",
        "        ,\"Byculla\",\"Grand Road\",\"Mazgaon\",\"Mumbai Central\",\"Mahalaxmi\" \\\n",
        "        ,\"Worli\"]\n",
        "\n",
        "# West\n",
        "areas_west = [\"Dadar\",\"Bandra West\",\"Juhu\",\"Andheri\",\"Kalina\" \\\n",
        "              ,\"Santa Cruz\",\"Mahim\",\"Khar\"]\n",
        "\n",
        "# East\n",
        "areas_east = [\"Kurla\",\"Ghatkopar\",\"Chembur\",\"Govandi\",\"Mulund West\"] \n",
        "\n",
        "# North\n",
        "areas_north = [\"Powai\",\"Jogeshwari\",\"Malad\",\"Borivali\",\"Mira Road\"] \n",
        "\n",
        "# boroughs\n",
        "\n",
        "boroughs_south_mumbai = [\"South Mumbai\",\"South Mumbai\",\"South Mumbai\",\"South Mumbai\",\"South Mumbai\", \\\n",
        "             \"South Mumbai\",\"South Mumbai\",\"South Mumbai\",\"South Mumbai\",\"South Mumbai\", \\\n",
        "             \"South Mumbai\",\"South Mumbai\",\"South Mumbai\",\"South Mumbai\",\"South Mumbai\", \\\n",
        "             \"South Mumbai\",\"South Mumbai\",\"South Mumbai\",\"South Mumbai\",\"South Mumbai\", \\\n",
        "             \"South Mumbai\"]\n",
        "\n",
        "boroughs_west_mumbai = [\"West Mumbai\",\"West Mumbai\",\"West Mumbai\",\"West Mumbai\",\"West Mumbai\" \\\n",
        "             ,\"West Mumbai\",\"West Mumbai\",\"West Mumbai\"]\n",
        "\n",
        "boroughs_east_mumbai = [\"East Mumbai\",\"East Mumbai\",\"East Mumbai\",\"East Mumbai\",\"East Mumbai\"]\n",
        "\n",
        "boroughs_north_mumbai = [\"North Mumbai\",\"North Mumbai\",\"North Mumbai\",\"North Mumbai\",\"North Mumbai\"]"
      ],
      "execution_count": 0,
      "outputs": []
    },
    {
      "cell_type": "markdown",
      "metadata": {
        "id": "IMkv6CntzbNm",
        "colab_type": "text"
      },
      "source": [
        "#### Note : This split was done due to limitations faced during call to API for retrieving the coordinates of all 39 neighborhoods."
      ]
    },
    {
      "cell_type": "code",
      "metadata": {
        "id": "MZDK5Yb8924o",
        "colab_type": "code",
        "outputId": "fef04f3f-71e8-4930-c363-7c53b2dc6546",
        "colab": {
          "base_uri": "https://localhost:8080/",
          "height": 144
        }
      },
      "source": [
        "boroughs1 =  boroughs_south_mumbai\n",
        "boroughs2 =  boroughs_west_mumbai + boroughs_east_mumbai + boroughs_north_mumbai\n",
        "\n",
        "areas1 = areas_south\n",
        "areas2 = areas_west + areas_east + areas_north\n",
        "\n",
        "#Building full address to pass to API\n",
        "\n",
        "full_address1 = []\n",
        "for area in areas1:\n",
        "  full_address1.append(area + \", Mumbai\")\n",
        "\n",
        "full_address2 = []\n",
        "for area in areas2:\n",
        "  full_address2.append(area + \", Mumbai\") \n",
        "\n",
        "print(\"Lenght of areas1={} , boroughs1 = {} , full_address1 = {}\" \\\n",
        ".format(len(areas1),len(boroughs1),len(full_address1)))\n",
        "\n",
        "print(\"Lenght of areas2={} , boroughs2 = {} , full_address2 = {}\" \\\n",
        ".format(len(areas2),len(boroughs2),len(full_address2))) \n",
        "\n",
        "#Create Dictionary first\n",
        "dic_area1 = {\"Neighborhood\": areas1,\"Boroughs\": boroughs1,\"Address\":full_address1}\n",
        "dic_area2 = {\"Neighborhood\": areas2,\"Boroughs\": boroughs2,\"Address\":full_address2}\n",
        "print(\"dic_area1:\",dic_area1)\n",
        "print(\"dic_area2:\",dic_area2)\n",
        "\n",
        "#Create dataframes from dictionary\n",
        "df_area1 = pd.DataFrame.from_dict(dic_area1)\n",
        "df_area2 = pd.DataFrame.from_dict(dic_area2)\n",
        "\n",
        "print(\"df_area1:\",df_area1.shape)\n",
        "print(\"df_area2:\",df_area2.shape)\n",
        "\n"
      ],
      "execution_count": 10,
      "outputs": [
        {
          "output_type": "stream",
          "text": [
            "Lenght of areas1=21 , boroughs1 = 21 , full_address1 = 21\n",
            "Lenght of areas2=18 , boroughs2 = 18 , full_address2 = 18\n",
            "dic_area1: {'Neighborhood': ['Colaba', 'Apollo Bandar', 'Fort', 'Churchgate', 'Nariman Point', 'Marine Lines', 'Walkeshwar', 'Malabar Hill', 'Kalbadevi', 'Bhuleshwar', 'Masjid Bandar', 'Darukhana', 'Pydhoni', 'Nagpada', 'Dongri', 'Byculla', 'Grand Road', 'Mazgaon', 'Mumbai Central', 'Mahalaxmi', 'Worli'], 'Boroughs': ['South Mumbai', 'South Mumbai', 'South Mumbai', 'South Mumbai', 'South Mumbai', 'South Mumbai', 'South Mumbai', 'South Mumbai', 'South Mumbai', 'South Mumbai', 'South Mumbai', 'South Mumbai', 'South Mumbai', 'South Mumbai', 'South Mumbai', 'South Mumbai', 'South Mumbai', 'South Mumbai', 'South Mumbai', 'South Mumbai', 'South Mumbai'], 'Address': ['Colaba, Mumbai', 'Apollo Bandar, Mumbai', 'Fort, Mumbai', 'Churchgate, Mumbai', 'Nariman Point, Mumbai', 'Marine Lines, Mumbai', 'Walkeshwar, Mumbai', 'Malabar Hill, Mumbai', 'Kalbadevi, Mumbai', 'Bhuleshwar, Mumbai', 'Masjid Bandar, Mumbai', 'Darukhana, Mumbai', 'Pydhoni, Mumbai', 'Nagpada, Mumbai', 'Dongri, Mumbai', 'Byculla, Mumbai', 'Grand Road, Mumbai', 'Mazgaon, Mumbai', 'Mumbai Central, Mumbai', 'Mahalaxmi, Mumbai', 'Worli, Mumbai']}\n",
            "dic_area2: {'Neighborhood': ['Dadar', 'Bandra West', 'Juhu', 'Andheri', 'Kalina', 'Santa Cruz', 'Mahim', 'Khar', 'Kurla', 'Ghatkopar', 'Chembur', 'Govandi', 'Mulund West', 'Powai', 'Jogeshwari', 'Malad', 'Borivali', 'Mira Road'], 'Boroughs': ['West Mumbai', 'West Mumbai', 'West Mumbai', 'West Mumbai', 'West Mumbai', 'West Mumbai', 'West Mumbai', 'West Mumbai', 'East Mumbai', 'East Mumbai', 'East Mumbai', 'East Mumbai', 'East Mumbai', 'North Mumbai', 'North Mumbai', 'North Mumbai', 'North Mumbai', 'North Mumbai'], 'Address': ['Dadar, Mumbai', 'Bandra West, Mumbai', 'Juhu, Mumbai', 'Andheri, Mumbai', 'Kalina, Mumbai', 'Santa Cruz, Mumbai', 'Mahim, Mumbai', 'Khar, Mumbai', 'Kurla, Mumbai', 'Ghatkopar, Mumbai', 'Chembur, Mumbai', 'Govandi, Mumbai', 'Mulund West, Mumbai', 'Powai, Mumbai', 'Jogeshwari, Mumbai', 'Malad, Mumbai', 'Borivali, Mumbai', 'Mira Road, Mumbai']}\n",
            "df_area1: (21, 3)\n",
            "df_area2: (18, 3)\n"
          ],
          "name": "stdout"
        }
      ]
    },
    {
      "cell_type": "markdown",
      "metadata": {
        "id": "49_YKf0O0ovv",
        "colab_type": "text"
      },
      "source": [
        "Now let's get coordinates of each neighborhood of Mumbai."
      ]
    },
    {
      "cell_type": "markdown",
      "metadata": {
        "id": "rhMC_m55SbN_",
        "colab_type": "text"
      },
      "source": [
        "Let's pass first batch of South Mumbai first."
      ]
    },
    {
      "cell_type": "markdown",
      "metadata": {
        "id": "ob9aPeg4P0J1",
        "colab_type": "text"
      },
      "source": [
        "Use geopy library to get the latitude and longitude values of Mumbai neigborhoods.In order to define an instance of the geocoder, we need to define a user_agent. We will name our agent ny_explorer, as shown below. "
      ]
    },
    {
      "cell_type": "code",
      "metadata": {
        "id": "IYNFdGA1TQBU",
        "colab_type": "code",
        "outputId": "177ce49a-3565-4189-eb97-a1a82fc1f8d9",
        "colab": {
          "base_uri": "https://localhost:8080/",
          "height": 218
        }
      },
      "source": [
        "# South Mumbai first\n",
        "\n",
        "df2 = df_area1\n",
        "df2.head()\n",
        "\n",
        "data = []\n",
        "for  neighborhood,address,borough in zip(df2['Neighborhood'], df2['Address'],df2['Boroughs']):\n",
        "    geolocator = Nominatim(user_agent=\"ny_explorer\")\n",
        "    location = geolocator.geocode(address)\n",
        "    latitude = location.latitude\n",
        "    longitude = location.longitude\n",
        "    data.append([neighborhood,borough,latitude,longitude])\n",
        "\n",
        "col_names =  ['Neighborhood', 'Borough', 'Latitude','Longitude']\n",
        "neighborhoods = pd.DataFrame(data,columns=col_names)\n",
        "\n",
        "# Assign to neighborhoods1 : South Mumbai\n",
        "neighborhoods1 = neighborhoods\n",
        "print(\"Coordinates for {} South Mumbai neighborhoods obtained.\".format(neighborhoods1.shape[0]) )\n",
        "neighborhoods1.tail()\n"
      ],
      "execution_count": 11,
      "outputs": [
        {
          "output_type": "stream",
          "text": [
            "Coordinates for 21 South Mumbai neighborhoods obtained.\n"
          ],
          "name": "stdout"
        },
        {
          "output_type": "execute_result",
          "data": {
            "text/html": [
              "<div>\n",
              "<style scoped>\n",
              "    .dataframe tbody tr th:only-of-type {\n",
              "        vertical-align: middle;\n",
              "    }\n",
              "\n",
              "    .dataframe tbody tr th {\n",
              "        vertical-align: top;\n",
              "    }\n",
              "\n",
              "    .dataframe thead th {\n",
              "        text-align: right;\n",
              "    }\n",
              "</style>\n",
              "<table border=\"1\" class=\"dataframe\">\n",
              "  <thead>\n",
              "    <tr style=\"text-align: right;\">\n",
              "      <th></th>\n",
              "      <th>Neighborhood</th>\n",
              "      <th>Borough</th>\n",
              "      <th>Latitude</th>\n",
              "      <th>Longitude</th>\n",
              "    </tr>\n",
              "  </thead>\n",
              "  <tbody>\n",
              "    <tr>\n",
              "      <th>16</th>\n",
              "      <td>Grand Road</td>\n",
              "      <td>South Mumbai</td>\n",
              "      <td>18.938771</td>\n",
              "      <td>72.835335</td>\n",
              "    </tr>\n",
              "    <tr>\n",
              "      <th>17</th>\n",
              "      <td>Mazgaon</td>\n",
              "      <td>South Mumbai</td>\n",
              "      <td>18.968052</td>\n",
              "      <td>72.840012</td>\n",
              "    </tr>\n",
              "    <tr>\n",
              "      <th>18</th>\n",
              "      <td>Mumbai Central</td>\n",
              "      <td>South Mumbai</td>\n",
              "      <td>18.969586</td>\n",
              "      <td>72.819315</td>\n",
              "    </tr>\n",
              "    <tr>\n",
              "      <th>19</th>\n",
              "      <td>Mahalaxmi</td>\n",
              "      <td>South Mumbai</td>\n",
              "      <td>18.982568</td>\n",
              "      <td>72.824160</td>\n",
              "    </tr>\n",
              "    <tr>\n",
              "      <th>20</th>\n",
              "      <td>Worli</td>\n",
              "      <td>South Mumbai</td>\n",
              "      <td>19.011696</td>\n",
              "      <td>72.818070</td>\n",
              "    </tr>\n",
              "  </tbody>\n",
              "</table>\n",
              "</div>"
            ],
            "text/plain": [
              "      Neighborhood       Borough   Latitude  Longitude\n",
              "16      Grand Road  South Mumbai  18.938771  72.835335\n",
              "17         Mazgaon  South Mumbai  18.968052  72.840012\n",
              "18  Mumbai Central  South Mumbai  18.969586  72.819315\n",
              "19       Mahalaxmi  South Mumbai  18.982568  72.824160\n",
              "20           Worli  South Mumbai  19.011696  72.818070"
            ]
          },
          "metadata": {
            "tags": []
          },
          "execution_count": 11
        }
      ]
    },
    {
      "cell_type": "markdown",
      "metadata": {
        "id": "9bOlU_Jzb5OG",
        "colab_type": "text"
      },
      "source": [
        "Good.We got coordinates of all 21 neighborhoods of South with their respective borough."
      ]
    },
    {
      "cell_type": "markdown",
      "metadata": {
        "id": "RfNkXb86ULkW",
        "colab_type": "text"
      },
      "source": [
        "Now let's pass second batch of suburbs of Mumabi."
      ]
    },
    {
      "cell_type": "code",
      "metadata": {
        "id": "Zda79u-PUuJA",
        "colab_type": "code",
        "outputId": "f2d7d494-c22e-4575-c857-2814ba7ef999",
        "colab": {
          "base_uri": "https://localhost:8080/",
          "height": 1000
        }
      },
      "source": [
        "# second iteration for suburbs of Mumbai.\n",
        "\n",
        "df2 = df_area2\n",
        "\n",
        "data = []\n",
        "for  neighborhood,address,borough in zip(df2['Neighborhood'], df2['Address'],df2['Boroughs']):\n",
        "  print(\"neighborhood:\", neighborhood)\n",
        "  print(\"address:\", address)\n",
        "  print(\"borough:\", borough)\n",
        "  geolocator = Nominatim(user_agent=\"ny_explorer\")\n",
        "  location = geolocator.geocode(address)\n",
        "  latitude = location.latitude\n",
        "  longitude = location.longitude\n",
        "  print(\"latitude:\", latitude)\n",
        "  print(\"longitude:\", longitude)\n",
        "  data.append([neighborhood,borough,latitude,longitude])\n",
        "\n",
        "col_names =  ['Neighborhood', 'Borough', 'Latitude','Longitude']\n",
        "neighborhoods = pd.DataFrame(data,columns=col_names)\n",
        "\n",
        "#Assign to neighborhoods2 : Rest of Mumbai\n",
        "neighborhoods2 = neighborhoods\n",
        "print(\"Coordinates for {} Rest of Mumbai neighborhoods obtained.\".format(neighborhoods2.shape[0]) )\n",
        "neighborhoods2.tail()"
      ],
      "execution_count": 12,
      "outputs": [
        {
          "output_type": "stream",
          "text": [
            "neighborhood: Dadar\n",
            "address: Dadar, Mumbai\n",
            "borough: West Mumbai\n",
            "latitude: 19.019282\n",
            "longitude: 72.8428757\n",
            "neighborhood: Bandra West\n",
            "address: Bandra West, Mumbai\n",
            "borough: West Mumbai\n",
            "latitude: 19.0583358\n",
            "longitude: 72.8302669\n",
            "neighborhood: Juhu\n",
            "address: Juhu, Mumbai\n",
            "borough: West Mumbai\n",
            "latitude: 19.1070215\n",
            "longitude: 72.8275275\n",
            "neighborhood: Andheri\n",
            "address: Andheri, Mumbai\n",
            "borough: West Mumbai\n",
            "latitude: 19.1196976\n",
            "longitude: 72.8464205\n",
            "neighborhood: Kalina\n",
            "address: Kalina, Mumbai\n",
            "borough: West Mumbai\n",
            "latitude: 19.079273\n",
            "longitude: 72.8612672\n",
            "neighborhood: Santa Cruz\n",
            "address: Santa Cruz, Mumbai\n",
            "borough: West Mumbai\n",
            "latitude: 19.0793694\n",
            "longitude: 72.8470855\n",
            "neighborhood: Mahim\n",
            "address: Mahim, Mumbai\n",
            "borough: West Mumbai\n",
            "latitude: 19.0423145\n",
            "longitude: 72.8398344\n",
            "neighborhood: Khar\n",
            "address: Khar, Mumbai\n",
            "borough: West Mumbai\n",
            "latitude: 19.0696584\n",
            "longitude: 72.8398944\n",
            "neighborhood: Kurla\n",
            "address: Kurla, Mumbai\n",
            "borough: East Mumbai\n",
            "latitude: 19.0652797\n",
            "longitude: 72.8793805\n",
            "neighborhood: Ghatkopar\n",
            "address: Ghatkopar, Mumbai\n",
            "borough: East Mumbai\n",
            "latitude: 19.0859539\n",
            "longitude: 72.9082381\n",
            "neighborhood: Chembur\n",
            "address: Chembur, Mumbai\n",
            "borough: East Mumbai\n",
            "latitude: 19.0612128\n",
            "longitude: 72.8975909\n",
            "neighborhood: Govandi\n",
            "address: Govandi, Mumbai\n",
            "borough: East Mumbai\n",
            "latitude: 19.0553688\n",
            "longitude: 72.9150702\n",
            "neighborhood: Mulund West\n",
            "address: Mulund West, Mumbai\n",
            "borough: East Mumbai\n",
            "latitude: 19.1719717\n",
            "longitude: 72.9511956\n",
            "neighborhood: Powai\n",
            "address: Powai, Mumbai\n",
            "borough: North Mumbai\n",
            "latitude: 19.1187195\n",
            "longitude: 72.9073476\n",
            "neighborhood: Jogeshwari\n",
            "address: Jogeshwari, Mumbai\n",
            "borough: North Mumbai\n",
            "latitude: 19.1348994\n",
            "longitude: 72.8488199\n",
            "neighborhood: Malad\n",
            "address: Malad, Mumbai\n",
            "borough: North Mumbai\n",
            "latitude: 19.1867193\n",
            "longitude: 72.8485884\n",
            "neighborhood: Borivali\n",
            "address: Borivali, Mumbai\n",
            "borough: North Mumbai\n",
            "latitude: 19.229068\n",
            "longitude: 72.8573628\n",
            "neighborhood: Mira Road\n",
            "address: Mira Road, Mumbai\n",
            "borough: North Mumbai\n",
            "latitude: 19.1878962\n",
            "longitude: 72.8365955\n",
            "Coordinates for 18 Rest of Mumbai neighborhoods obtained.\n"
          ],
          "name": "stdout"
        },
        {
          "output_type": "execute_result",
          "data": {
            "text/html": [
              "<div>\n",
              "<style scoped>\n",
              "    .dataframe tbody tr th:only-of-type {\n",
              "        vertical-align: middle;\n",
              "    }\n",
              "\n",
              "    .dataframe tbody tr th {\n",
              "        vertical-align: top;\n",
              "    }\n",
              "\n",
              "    .dataframe thead th {\n",
              "        text-align: right;\n",
              "    }\n",
              "</style>\n",
              "<table border=\"1\" class=\"dataframe\">\n",
              "  <thead>\n",
              "    <tr style=\"text-align: right;\">\n",
              "      <th></th>\n",
              "      <th>Neighborhood</th>\n",
              "      <th>Borough</th>\n",
              "      <th>Latitude</th>\n",
              "      <th>Longitude</th>\n",
              "    </tr>\n",
              "  </thead>\n",
              "  <tbody>\n",
              "    <tr>\n",
              "      <th>13</th>\n",
              "      <td>Powai</td>\n",
              "      <td>North Mumbai</td>\n",
              "      <td>19.118720</td>\n",
              "      <td>72.907348</td>\n",
              "    </tr>\n",
              "    <tr>\n",
              "      <th>14</th>\n",
              "      <td>Jogeshwari</td>\n",
              "      <td>North Mumbai</td>\n",
              "      <td>19.134899</td>\n",
              "      <td>72.848820</td>\n",
              "    </tr>\n",
              "    <tr>\n",
              "      <th>15</th>\n",
              "      <td>Malad</td>\n",
              "      <td>North Mumbai</td>\n",
              "      <td>19.186719</td>\n",
              "      <td>72.848588</td>\n",
              "    </tr>\n",
              "    <tr>\n",
              "      <th>16</th>\n",
              "      <td>Borivali</td>\n",
              "      <td>North Mumbai</td>\n",
              "      <td>19.229068</td>\n",
              "      <td>72.857363</td>\n",
              "    </tr>\n",
              "    <tr>\n",
              "      <th>17</th>\n",
              "      <td>Mira Road</td>\n",
              "      <td>North Mumbai</td>\n",
              "      <td>19.187896</td>\n",
              "      <td>72.836596</td>\n",
              "    </tr>\n",
              "  </tbody>\n",
              "</table>\n",
              "</div>"
            ],
            "text/plain": [
              "   Neighborhood       Borough   Latitude  Longitude\n",
              "13        Powai  North Mumbai  19.118720  72.907348\n",
              "14   Jogeshwari  North Mumbai  19.134899  72.848820\n",
              "15        Malad  North Mumbai  19.186719  72.848588\n",
              "16     Borivali  North Mumbai  19.229068  72.857363\n",
              "17    Mira Road  North Mumbai  19.187896  72.836596"
            ]
          },
          "metadata": {
            "tags": []
          },
          "execution_count": 12
        }
      ]
    },
    {
      "cell_type": "markdown",
      "metadata": {
        "id": "i8-fKBnoXSQY",
        "colab_type": "text"
      },
      "source": [
        "Good. Now we got coordinates of suburbs of Mumbai. So, let's merge both data."
      ]
    },
    {
      "cell_type": "code",
      "metadata": {
        "id": "EeTm-5W1TIef",
        "colab_type": "code",
        "outputId": "78f4abc9-8877-4615-e3a7-229c22f9c03c",
        "colab": {
          "base_uri": "https://localhost:8080/",
          "height": 218
        }
      },
      "source": [
        "neighborhoods = neighborhoods1.append(neighborhoods2,ignore_index=True)\n",
        "neighborhoods = neighborhoods.reset_index()\n",
        "print(\"Merged data frame have {} rows.\".format(neighborhoods.shape[0]) )\n",
        "neighborhoods.tail()\n"
      ],
      "execution_count": 13,
      "outputs": [
        {
          "output_type": "stream",
          "text": [
            "Merged data frame have 39 rows.\n"
          ],
          "name": "stdout"
        },
        {
          "output_type": "execute_result",
          "data": {
            "text/html": [
              "<div>\n",
              "<style scoped>\n",
              "    .dataframe tbody tr th:only-of-type {\n",
              "        vertical-align: middle;\n",
              "    }\n",
              "\n",
              "    .dataframe tbody tr th {\n",
              "        vertical-align: top;\n",
              "    }\n",
              "\n",
              "    .dataframe thead th {\n",
              "        text-align: right;\n",
              "    }\n",
              "</style>\n",
              "<table border=\"1\" class=\"dataframe\">\n",
              "  <thead>\n",
              "    <tr style=\"text-align: right;\">\n",
              "      <th></th>\n",
              "      <th>index</th>\n",
              "      <th>Neighborhood</th>\n",
              "      <th>Borough</th>\n",
              "      <th>Latitude</th>\n",
              "      <th>Longitude</th>\n",
              "    </tr>\n",
              "  </thead>\n",
              "  <tbody>\n",
              "    <tr>\n",
              "      <th>34</th>\n",
              "      <td>34</td>\n",
              "      <td>Powai</td>\n",
              "      <td>North Mumbai</td>\n",
              "      <td>19.118720</td>\n",
              "      <td>72.907348</td>\n",
              "    </tr>\n",
              "    <tr>\n",
              "      <th>35</th>\n",
              "      <td>35</td>\n",
              "      <td>Jogeshwari</td>\n",
              "      <td>North Mumbai</td>\n",
              "      <td>19.134899</td>\n",
              "      <td>72.848820</td>\n",
              "    </tr>\n",
              "    <tr>\n",
              "      <th>36</th>\n",
              "      <td>36</td>\n",
              "      <td>Malad</td>\n",
              "      <td>North Mumbai</td>\n",
              "      <td>19.186719</td>\n",
              "      <td>72.848588</td>\n",
              "    </tr>\n",
              "    <tr>\n",
              "      <th>37</th>\n",
              "      <td>37</td>\n",
              "      <td>Borivali</td>\n",
              "      <td>North Mumbai</td>\n",
              "      <td>19.229068</td>\n",
              "      <td>72.857363</td>\n",
              "    </tr>\n",
              "    <tr>\n",
              "      <th>38</th>\n",
              "      <td>38</td>\n",
              "      <td>Mira Road</td>\n",
              "      <td>North Mumbai</td>\n",
              "      <td>19.187896</td>\n",
              "      <td>72.836596</td>\n",
              "    </tr>\n",
              "  </tbody>\n",
              "</table>\n",
              "</div>"
            ],
            "text/plain": [
              "    index Neighborhood       Borough   Latitude  Longitude\n",
              "34     34        Powai  North Mumbai  19.118720  72.907348\n",
              "35     35   Jogeshwari  North Mumbai  19.134899  72.848820\n",
              "36     36        Malad  North Mumbai  19.186719  72.848588\n",
              "37     37     Borivali  North Mumbai  19.229068  72.857363\n",
              "38     38    Mira Road  North Mumbai  19.187896  72.836596"
            ]
          },
          "metadata": {
            "tags": []
          },
          "execution_count": 13
        }
      ]
    },
    {
      "cell_type": "markdown",
      "metadata": {
        "id": "Gj0xJ9WFcroJ",
        "colab_type": "text"
      },
      "source": [
        "Now, we have all coordinates of Mumbai in one place. So, let's get coordinates of Mumbai city."
      ]
    },
    {
      "cell_type": "code",
      "metadata": {
        "id": "q2CBuyT-PbZF",
        "colab_type": "code",
        "outputId": "7e635892-1d2c-4fca-bf8c-738208dd3740",
        "colab": {
          "base_uri": "https://localhost:8080/",
          "height": 35
        }
      },
      "source": [
        "address = \"Mumbai\"\n",
        "geolocator = Nominatim(user_agent=\"ny_explorer\")\n",
        "location = geolocator.geocode(address)\n",
        "latitude = location.latitude\n",
        "longitude = location.longitude\n",
        "mumbai_latitude = latitude\n",
        "mumbai_longitude = longitude\n",
        "print (\"Latitude={} and Longitude={}\".format(mumbai_latitude,mumbai_longitude))"
      ],
      "execution_count": 14,
      "outputs": [
        {
          "output_type": "stream",
          "text": [
            "Latitude=18.9387711 and Longitude=72.8353355\n"
          ],
          "name": "stdout"
        }
      ]
    },
    {
      "cell_type": "markdown",
      "metadata": {
        "id": "snLrsWxVc_5Y",
        "colab_type": "text"
      },
      "source": [
        "We got Mumbai latitude and langitude. Now we can create a map of Mumbai using Folium library and then superimpose neighborhoods of Mumbai on top of map."
      ]
    },
    {
      "cell_type": "markdown",
      "metadata": {
        "id": "f2_vFuHQdf49",
        "colab_type": "text"
      },
      "source": [
        ""
      ]
    },
    {
      "cell_type": "code",
      "metadata": {
        "id": "LTI6w1wP_bNa",
        "colab_type": "code",
        "outputId": "3dbe1970-d8b5-40ba-d18e-6a75a97e728c",
        "colab": {
          "base_uri": "https://localhost:8080/",
          "height": 586
        }
      },
      "source": [
        "map_mumbai = folium.Map(location=[latitude, longitude], zoom_start=14)\n",
        "\n",
        "for lat, lng, borough, neighborhood in zip(neighborhoods['Latitude'], neighborhoods['Longitude'], neighborhoods['Borough'], neighborhoods['Neighborhood']):\n",
        "    label = '{}, {}'.format(neighborhood, borough)\n",
        "    label = folium.Popup(label, parse_html=True)\n",
        "    folium.CircleMarker(\n",
        "        [lat, lng],\n",
        "        radius=5,\n",
        "        popup=label,\n",
        "        color='blue',\n",
        "        fill=True,\n",
        "        fill_color='#3186cc',\n",
        "        fill_opacity=0.7,\n",
        "        parse_html=False).add_to(map_mumbai)  \n",
        "    \n",
        "map_mumbai"
      ],
      "execution_count": 9,
      "outputs": [
        {
          "output_type": "execute_result",
          "data": {
            "text/html": [
              "<div style=\"width:100%;\"><div style=\"position:relative;width:100%;height:0;padding-bottom:60%;\"><iframe src=\"about:blank\" style=\"position:absolute;width:100%;height:100%;left:0;top:0;border:none !important;\" data-html=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 onload=\"this.contentDocument.open();this.contentDocument.write(atob(this.getAttribute('data-html')));this.contentDocument.close();\" allowfullscreen webkitallowfullscreen mozallowfullscreen></iframe></div></div>"
            ],
            "text/plain": [
              "<folium.folium.Map at 0x7fcd5db960b8>"
            ]
          },
          "metadata": {
            "tags": []
          },
          "execution_count": 9
        }
      ]
    },
    {
      "cell_type": "markdown",
      "metadata": {
        "id": "nLK1nAu4diGu",
        "colab_type": "text"
      },
      "source": [
        "Beutiful !"
      ]
    },
    {
      "cell_type": "markdown",
      "metadata": {
        "id": "nqYekSv4SBDh",
        "colab_type": "text"
      },
      "source": [
        "##### Now, we will use Four Square API to fetch the venues around a location. Four Square needs latitude and longitude of location and returns venues along with venue categories."
      ]
    },
    {
      "cell_type": "markdown",
      "metadata": {
        "id": "1VYPCSN191Le",
        "colab_type": "text"
      },
      "source": [
        "Let's define Foursquare Credentials and Version."
      ]
    },
    {
      "cell_type": "code",
      "metadata": {
        "id": "XZbAhW3d-Lcl",
        "colab_type": "code",
        "outputId": "3b4202b7-50e5-4292-c1d0-2ad0ad80f8ba",
        "colab": {
          "base_uri": "https://localhost:8080/",
          "height": 70
        }
      },
      "source": [
        "CLIENT_ID = 'AED1YJAEJO1BSJVJJ5KT2Y2BDGDVPCB21WUXERHTA4B4XXKC' # Foursquare ID\n",
        "CLIENT_SECRET = '5WF0PKUAGWG30ASKZSBV12XHC2IDIQLEHRRPU541XI2JVQCH' #  Foursquare Secret\n",
        "VERSION = '20180605' # Foursquare API version\n",
        "\n",
        "print('credentails:')\n",
        "print('CLIENT_ID: ' + CLIENT_ID)\n",
        "print('CLIENT_SECRET:' + CLIENT_SECRET)\n"
      ],
      "execution_count": 4,
      "outputs": [
        {
          "output_type": "stream",
          "text": [
            "credentails:\n",
            "CLIENT_ID: AED1YJAEJO1BSJVJJ5KT2Y2BDGDVPCB21WUXERHTA4B4XXKC\n",
            "CLIENT_SECRET:5WF0PKUAGWG30ASKZSBV12XHC2IDIQLEHRRPU541XI2JVQCH\n"
          ],
          "name": "stdout"
        }
      ]
    },
    {
      "cell_type": "markdown",
      "metadata": {
        "id": "I-8pmMbD_HQn",
        "colab_type": "text"
      },
      "source": [
        "Let's create a function to get nearby venues of each neighborhoods in Mumbai."
      ]
    },
    {
      "cell_type": "markdown",
      "metadata": {
        "id": "ICSs_LleoDyy",
        "colab_type": "text"
      },
      "source": [
        "I tried to keep an optimum value of radius. With more radius it fetches more vanues which is good but it also increases chances of overlapping of neighborhood as well.So, 650 meter was optimum radius which fetches maximum data with minimum overlaps and duplication. The limit was kept 100. "
      ]
    },
    {
      "cell_type": "code",
      "metadata": {
        "id": "geJW0jks_NWX",
        "colab_type": "code",
        "outputId": "ff2295e4-6e30-485d-a5c7-ba208ef5c102",
        "colab": {
          "base_uri": "https://localhost:8080/",
          "height": 35
        }
      },
      "source": [
        "radius=650\n",
        "LIMIT = 100\n",
        "print(\"The radius is = {} and LIMIT is = {}\".format(radius,LIMIT))\n",
        "\n",
        "def getNearbyVenues(names, latitudes, longitudes, radius=650):\n",
        "    \n",
        "    venues_list=[]\n",
        "    for name, lat, lng in zip(names, latitudes, longitudes):\n",
        "        print(name)\n",
        "            \n",
        "        # create the API request URL\n",
        "        url = 'https://api.foursquare.com/v2/venues/explore?&client_id={}&client_secret={}&v={}&ll={},{}&radius={}&limit={}'.format(\n",
        "            CLIENT_ID, \n",
        "            CLIENT_SECRET, \n",
        "            VERSION, \n",
        "            lat, \n",
        "            lng, \n",
        "            radius, \n",
        "            LIMIT)\n",
        "            \n",
        "        # make the GET request\n",
        "        results = requests.get(url).json()[\"response\"]['groups'][0]['items']\n",
        "        \n",
        "        # return only relevant information for each nearby venue\n",
        "        venues_list.append([(\n",
        "            name, \n",
        "            lat, \n",
        "            lng, \n",
        "            v['venue']['name'], \n",
        "            v['venue']['location']['lat'], \n",
        "            v['venue']['location']['lng'],  \n",
        "            v['venue']['categories'][0]['name']) for v in results])\n",
        "\n",
        "    nearby_venues = pd.DataFrame([item for venue_list in venues_list for item in venue_list])\n",
        "    nearby_venues.columns = ['Neighborhood', \n",
        "                  'Neighborhood Latitude', \n",
        "                  'Neighborhood Longitude', \n",
        "                  'Venue', \n",
        "                  'Venue Latitude', \n",
        "                  'Venue Longitude', \n",
        "                  'Venue Category']\n",
        "    \n",
        "    return(nearby_venues)\n"
      ],
      "execution_count": 6,
      "outputs": [
        {
          "output_type": "stream",
          "text": [
            "The radius is = 650 and LIMIT is = 100\n"
          ],
          "name": "stdout"
        }
      ]
    },
    {
      "cell_type": "markdown",
      "metadata": {
        "id": "9j-8XOPh_91T",
        "colab_type": "text"
      },
      "source": [
        "Now, let's run the above function on each neighborhood and create a new dataframe."
      ]
    },
    {
      "cell_type": "code",
      "metadata": {
        "id": "pj3YIcL___3r",
        "colab_type": "code",
        "outputId": "3798df48-aed3-48b4-cc12-edfbeedee04f",
        "colab": {
          "base_uri": "https://localhost:8080/",
          "height": 870
        }
      },
      "source": [
        "south_mumbai_data = neighborhoods\n",
        "south_mumbai_venues = getNearbyVenues(names=south_mumbai_data['Neighborhood'],\n",
        "                                   latitudes=south_mumbai_data['Latitude'],\n",
        "                                   longitudes=south_mumbai_data['Longitude']\n",
        "                                   \n",
        "                                  )\n",
        "print(\"dtypes:\",south_mumbai_venues.dtypes)\n",
        "print(\"Total venues retrieved:\",south_mumbai_venues.shape[0])\n"
      ],
      "execution_count": 15,
      "outputs": [
        {
          "output_type": "stream",
          "text": [
            "Colaba\n",
            "Apollo Bandar\n",
            "Fort\n",
            "Churchgate\n",
            "Nariman Point\n",
            "Marine Lines\n",
            "Walkeshwar\n",
            "Malabar Hill\n",
            "Kalbadevi\n",
            "Bhuleshwar\n",
            "Masjid Bandar\n",
            "Darukhana\n",
            "Pydhoni\n",
            "Nagpada\n",
            "Dongri\n",
            "Byculla\n",
            "Grand Road\n",
            "Mazgaon\n",
            "Mumbai Central\n",
            "Mahalaxmi\n",
            "Worli\n",
            "Dadar\n",
            "Bandra West\n",
            "Juhu\n",
            "Andheri\n",
            "Kalina\n",
            "Santa Cruz\n",
            "Mahim\n",
            "Khar\n",
            "Kurla\n",
            "Ghatkopar\n",
            "Chembur\n",
            "Govandi\n",
            "Mulund West\n",
            "Powai\n",
            "Jogeshwari\n",
            "Malad\n",
            "Borivali\n",
            "Mira Road\n",
            "dtypes: Neighborhood               object\n",
            "Neighborhood Latitude     float64\n",
            "Neighborhood Longitude    float64\n",
            "Venue                      object\n",
            "Venue Latitude            float64\n",
            "Venue Longitude           float64\n",
            "Venue Category             object\n",
            "dtype: object\n",
            "Total venues retrieved: 1107\n"
          ],
          "name": "stdout"
        }
      ]
    },
    {
      "cell_type": "markdown",
      "metadata": {
        "id": "1zlhJbunTgvk",
        "colab_type": "text"
      },
      "source": [
        "Let's see how the data looks like."
      ]
    },
    {
      "cell_type": "code",
      "metadata": {
        "id": "o7_0ntlsqr4M",
        "colab_type": "code",
        "outputId": "1afaae75-029e-4169-f143-6c11c6af6f94",
        "colab": {
          "base_uri": "https://localhost:8080/",
          "height": 251
        }
      },
      "source": [
        "south_mumbai_venues.head()"
      ],
      "execution_count": 13,
      "outputs": [
        {
          "output_type": "execute_result",
          "data": {
            "text/html": [
              "<div>\n",
              "<style scoped>\n",
              "    .dataframe tbody tr th:only-of-type {\n",
              "        vertical-align: middle;\n",
              "    }\n",
              "\n",
              "    .dataframe tbody tr th {\n",
              "        vertical-align: top;\n",
              "    }\n",
              "\n",
              "    .dataframe thead th {\n",
              "        text-align: right;\n",
              "    }\n",
              "</style>\n",
              "<table border=\"1\" class=\"dataframe\">\n",
              "  <thead>\n",
              "    <tr style=\"text-align: right;\">\n",
              "      <th></th>\n",
              "      <th>Neighborhood</th>\n",
              "      <th>Neighborhood Latitude</th>\n",
              "      <th>Neighborhood Longitude</th>\n",
              "      <th>Venue</th>\n",
              "      <th>Venue Latitude</th>\n",
              "      <th>Venue Longitude</th>\n",
              "      <th>Venue Category</th>\n",
              "    </tr>\n",
              "  </thead>\n",
              "  <tbody>\n",
              "    <tr>\n",
              "      <th>0</th>\n",
              "      <td>Colaba</td>\n",
              "      <td>18.915091</td>\n",
              "      <td>72.825969</td>\n",
              "      <td>Charagh Din</td>\n",
              "      <td>18.915254</td>\n",
              "      <td>72.824151</td>\n",
              "      <td>Men's Store</td>\n",
              "    </tr>\n",
              "    <tr>\n",
              "      <th>1</th>\n",
              "      <td>Colaba</td>\n",
              "      <td>18.915091</td>\n",
              "      <td>72.825969</td>\n",
              "      <td>IMBISS Meating Joint</td>\n",
              "      <td>18.917157</td>\n",
              "      <td>72.827018</td>\n",
              "      <td>German Restaurant</td>\n",
              "    </tr>\n",
              "    <tr>\n",
              "      <th>2</th>\n",
              "      <td>Colaba</td>\n",
              "      <td>18.915091</td>\n",
              "      <td>72.825969</td>\n",
              "      <td>Thai Pavilion</td>\n",
              "      <td>18.914246</td>\n",
              "      <td>72.821080</td>\n",
              "      <td>Thai Restaurant</td>\n",
              "    </tr>\n",
              "    <tr>\n",
              "      <th>3</th>\n",
              "      <td>Colaba</td>\n",
              "      <td>18.915091</td>\n",
              "      <td>72.825969</td>\n",
              "      <td>Theobroma</td>\n",
              "      <td>18.919298</td>\n",
              "      <td>72.829185</td>\n",
              "      <td>Dessert Shop</td>\n",
              "    </tr>\n",
              "    <tr>\n",
              "      <th>4</th>\n",
              "      <td>Colaba</td>\n",
              "      <td>18.915091</td>\n",
              "      <td>72.825969</td>\n",
              "      <td>Vivanta by Taj - President</td>\n",
              "      <td>18.914413</td>\n",
              "      <td>72.821028</td>\n",
              "      <td>Hotel</td>\n",
              "    </tr>\n",
              "  </tbody>\n",
              "</table>\n",
              "</div>"
            ],
            "text/plain": [
              "  Neighborhood  Neighborhood Latitude  ...  Venue Longitude     Venue Category\n",
              "0       Colaba              18.915091  ...        72.824151        Men's Store\n",
              "1       Colaba              18.915091  ...        72.827018  German Restaurant\n",
              "2       Colaba              18.915091  ...        72.821080    Thai Restaurant\n",
              "3       Colaba              18.915091  ...        72.829185       Dessert Shop\n",
              "4       Colaba              18.915091  ...        72.821028              Hotel\n",
              "\n",
              "[5 rows x 7 columns]"
            ]
          },
          "metadata": {
            "tags": []
          },
          "execution_count": 13
        }
      ]
    },
    {
      "cell_type": "markdown",
      "metadata": {
        "id": "yhnmiYlWflWd",
        "colab_type": "text"
      },
      "source": [
        "Backup this data to a file."
      ]
    },
    {
      "cell_type": "code",
      "metadata": {
        "id": "yt5TZEGv5IOW",
        "colab_type": "code",
        "colab": {}
      },
      "source": [
        "# backup\n",
        "south_mumbai_venues_unclean = south_mumbai_venues\n",
        "# save as csv file\n",
        "south_mumbai_venues_unclean = south_mumbai_venues_unclean.to_csv(\"south_mumbai_venues_unclean\")"
      ],
      "execution_count": 0,
      "outputs": []
    },
    {
      "cell_type": "markdown",
      "metadata": {
        "id": "7mcf8GmOHPv3",
        "colab_type": "text"
      },
      "source": [
        "Now, merge with master table to include respective borough of each neighborhood."
      ]
    },
    {
      "cell_type": "code",
      "metadata": {
        "id": "NLHnpkhO5gGZ",
        "colab_type": "code",
        "outputId": "f0078a4d-3fba-4ca8-aa19-31e4350417d0",
        "colab": {
          "base_uri": "https://localhost:8080/",
          "height": 302
        }
      },
      "source": [
        "# merge with master table\n",
        "\n",
        "south_mumbai_venues_merge_1 = pd.merge(south_mumbai_venues,neighborhoods,on=\"Neighborhood\", how=\"inner\")\n",
        "south_mumbai_venues_merge_1 = south_mumbai_venues_merge_1[[\"Neighborhood\",\"Borough\", \"Neighborhood Latitude\" \\\n",
        "                               , \"Neighborhood Longitude\", \"Venue\", \"Venue Latitude\" \\\n",
        "                               , \"Venue Longitude\", \"Venue Category\" \\\n",
        "                                ]]\n",
        "south_mumbai_venues_merge_1.head()\n"
      ],
      "execution_count": 16,
      "outputs": [
        {
          "output_type": "execute_result",
          "data": {
            "text/html": [
              "<div>\n",
              "<style scoped>\n",
              "    .dataframe tbody tr th:only-of-type {\n",
              "        vertical-align: middle;\n",
              "    }\n",
              "\n",
              "    .dataframe tbody tr th {\n",
              "        vertical-align: top;\n",
              "    }\n",
              "\n",
              "    .dataframe thead th {\n",
              "        text-align: right;\n",
              "    }\n",
              "</style>\n",
              "<table border=\"1\" class=\"dataframe\">\n",
              "  <thead>\n",
              "    <tr style=\"text-align: right;\">\n",
              "      <th></th>\n",
              "      <th>Neighborhood</th>\n",
              "      <th>Borough</th>\n",
              "      <th>Neighborhood Latitude</th>\n",
              "      <th>Neighborhood Longitude</th>\n",
              "      <th>Venue</th>\n",
              "      <th>Venue Latitude</th>\n",
              "      <th>Venue Longitude</th>\n",
              "      <th>Venue Category</th>\n",
              "    </tr>\n",
              "  </thead>\n",
              "  <tbody>\n",
              "    <tr>\n",
              "      <th>0</th>\n",
              "      <td>Colaba</td>\n",
              "      <td>South Mumbai</td>\n",
              "      <td>18.915091</td>\n",
              "      <td>72.825969</td>\n",
              "      <td>Charagh Din</td>\n",
              "      <td>18.915254</td>\n",
              "      <td>72.824151</td>\n",
              "      <td>Men's Store</td>\n",
              "    </tr>\n",
              "    <tr>\n",
              "      <th>1</th>\n",
              "      <td>Colaba</td>\n",
              "      <td>South Mumbai</td>\n",
              "      <td>18.915091</td>\n",
              "      <td>72.825969</td>\n",
              "      <td>IMBISS Meating Joint</td>\n",
              "      <td>18.917157</td>\n",
              "      <td>72.827018</td>\n",
              "      <td>German Restaurant</td>\n",
              "    </tr>\n",
              "    <tr>\n",
              "      <th>2</th>\n",
              "      <td>Colaba</td>\n",
              "      <td>South Mumbai</td>\n",
              "      <td>18.915091</td>\n",
              "      <td>72.825969</td>\n",
              "      <td>Thai Pavilion</td>\n",
              "      <td>18.914246</td>\n",
              "      <td>72.821080</td>\n",
              "      <td>Thai Restaurant</td>\n",
              "    </tr>\n",
              "    <tr>\n",
              "      <th>3</th>\n",
              "      <td>Colaba</td>\n",
              "      <td>South Mumbai</td>\n",
              "      <td>18.915091</td>\n",
              "      <td>72.825969</td>\n",
              "      <td>Theobroma</td>\n",
              "      <td>18.919298</td>\n",
              "      <td>72.829185</td>\n",
              "      <td>Dessert Shop</td>\n",
              "    </tr>\n",
              "    <tr>\n",
              "      <th>4</th>\n",
              "      <td>Colaba</td>\n",
              "      <td>South Mumbai</td>\n",
              "      <td>18.915091</td>\n",
              "      <td>72.825969</td>\n",
              "      <td>Vivanta by Taj - President</td>\n",
              "      <td>18.914413</td>\n",
              "      <td>72.821028</td>\n",
              "      <td>Hotel</td>\n",
              "    </tr>\n",
              "  </tbody>\n",
              "</table>\n",
              "</div>"
            ],
            "text/plain": [
              "  Neighborhood       Borough  ...  Venue Longitude     Venue Category\n",
              "0       Colaba  South Mumbai  ...        72.824151        Men's Store\n",
              "1       Colaba  South Mumbai  ...        72.827018  German Restaurant\n",
              "2       Colaba  South Mumbai  ...        72.821080    Thai Restaurant\n",
              "3       Colaba  South Mumbai  ...        72.829185       Dessert Shop\n",
              "4       Colaba  South Mumbai  ...        72.821028              Hotel\n",
              "\n",
              "[5 rows x 8 columns]"
            ]
          },
          "metadata": {
            "tags": []
          },
          "execution_count": 16
        }
      ]
    },
    {
      "cell_type": "markdown",
      "metadata": {
        "id": "Xh3mDO9eT8kv",
        "colab_type": "text"
      },
      "source": [
        "Good.Now we got all the data we need.But, this data still is not good for analysis, it requires cleaning. So, let's identify issues with the data and resolve them one by one."
      ]
    },
    {
      "cell_type": "code",
      "metadata": {
        "id": "dKdHiMSaqXth",
        "colab_type": "code",
        "outputId": "e8614d00-27e1-49cb-cb89-282ded1702e0",
        "colab": {
          "base_uri": "https://localhost:8080/",
          "height": 52
        }
      },
      "source": [
        "print(\"rows before dropping duplicates={}\".format(south_mumbai_venues.shape[0]))\n",
        "south_mumbai_venues = south_mumbai_venues.drop_duplicates(subset=['Venue','Venue Latitude', 'Venue Longitude'])\n",
        "print(\"rows after dropping duplicates={}\".format(south_mumbai_venues.shape[0]))\n"
      ],
      "execution_count": 17,
      "outputs": [
        {
          "output_type": "stream",
          "text": [
            "rows before dropping duplicates=1107\n",
            "rows after dropping duplicates=991\n"
          ],
          "name": "stdout"
        }
      ]
    },
    {
      "cell_type": "markdown",
      "metadata": {
        "id": "jT_II_JniWA3",
        "colab_type": "text"
      },
      "source": [
        "Okay, so we got 116 duplicates, and they are gone now."
      ]
    },
    {
      "cell_type": "markdown",
      "metadata": {
        "id": "6QBP82pFHoHY",
        "colab_type": "text"
      },
      "source": [
        "Let's group by venue category to know which categories appear most and may cause clutter if they are large in number and relatively insignificant."
      ]
    },
    {
      "cell_type": "code",
      "metadata": {
        "id": "FzpLZ-F1H0Ty",
        "colab_type": "code",
        "colab": {
          "base_uri": "https://localhost:8080/",
          "height": 382
        },
        "outputId": "11c5313c-55b4-4311-a241-b114a92414e0"
      },
      "source": [
        "south_mumbai_venues_grp_ven_cat_1 = south_mumbai_venues_merge_1.groupby(\"Venue Category\").count()\n",
        "south_mumbai_venues_grp_ven_cat_2 = south_mumbai_venues_grp_ven_cat_1.sort_values(\"Neighborhood\" , ascending=False)\n",
        "south_mumbai_venues_grp_ven_cat_2 = south_mumbai_venues_grp_ven_cat_2.rename({\"Neighborhood\":\"Count\"},axis=1)\n",
        "south_mumbai_venues_grp_ven_cat_2 = south_mumbai_venues_grp_ven_cat_2[[\"Count\"]]\n",
        "south_mumbai_venues_grp_ven_cat_2.head(10)\n"
      ],
      "execution_count": 19,
      "outputs": [
        {
          "output_type": "execute_result",
          "data": {
            "text/html": [
              "<div>\n",
              "<style scoped>\n",
              "    .dataframe tbody tr th:only-of-type {\n",
              "        vertical-align: middle;\n",
              "    }\n",
              "\n",
              "    .dataframe tbody tr th {\n",
              "        vertical-align: top;\n",
              "    }\n",
              "\n",
              "    .dataframe thead th {\n",
              "        text-align: right;\n",
              "    }\n",
              "</style>\n",
              "<table border=\"1\" class=\"dataframe\">\n",
              "  <thead>\n",
              "    <tr style=\"text-align: right;\">\n",
              "      <th></th>\n",
              "      <th>Count</th>\n",
              "    </tr>\n",
              "    <tr>\n",
              "      <th>Venue Category</th>\n",
              "      <th></th>\n",
              "    </tr>\n",
              "  </thead>\n",
              "  <tbody>\n",
              "    <tr>\n",
              "      <th>Indian Restaurant</th>\n",
              "      <td>164</td>\n",
              "    </tr>\n",
              "    <tr>\n",
              "      <th>Café</th>\n",
              "      <td>61</td>\n",
              "    </tr>\n",
              "    <tr>\n",
              "      <th>Fast Food Restaurant</th>\n",
              "      <td>50</td>\n",
              "    </tr>\n",
              "    <tr>\n",
              "      <th>Chinese Restaurant</th>\n",
              "      <td>41</td>\n",
              "    </tr>\n",
              "    <tr>\n",
              "      <th>Coffee Shop</th>\n",
              "      <td>40</td>\n",
              "    </tr>\n",
              "    <tr>\n",
              "      <th>Bar</th>\n",
              "      <td>38</td>\n",
              "    </tr>\n",
              "    <tr>\n",
              "      <th>Restaurant</th>\n",
              "      <td>34</td>\n",
              "    </tr>\n",
              "    <tr>\n",
              "      <th>Hotel</th>\n",
              "      <td>32</td>\n",
              "    </tr>\n",
              "    <tr>\n",
              "      <th>Dessert Shop</th>\n",
              "      <td>29</td>\n",
              "    </tr>\n",
              "    <tr>\n",
              "      <th>Bakery</th>\n",
              "      <td>29</td>\n",
              "    </tr>\n",
              "  </tbody>\n",
              "</table>\n",
              "</div>"
            ],
            "text/plain": [
              "                      Count\n",
              "Venue Category             \n",
              "Indian Restaurant       164\n",
              "Café                     61\n",
              "Fast Food Restaurant     50\n",
              "Chinese Restaurant       41\n",
              "Coffee Shop              40\n",
              "Bar                      38\n",
              "Restaurant               34\n",
              "Hotel                    32\n",
              "Dessert Shop             29\n",
              "Bakery                   29"
            ]
          },
          "metadata": {
            "tags": []
          },
          "execution_count": 19
        }
      ]
    },
    {
      "cell_type": "code",
      "metadata": {
        "id": "3n6fwonSIF1M",
        "colab_type": "code",
        "colab": {}
      },
      "source": [
        "# save as csv\n",
        "south_mumbai_venues_grp_ven_cat_2.to_csv(\"south_mumbai_venues_grp_ven_cat_2.csv\")\n",
        "# backup\n",
        "south_mumbai_venues_grp_ven_cat_2_bkp = south_mumbai_venues_grp_ven_cat_2"
      ],
      "execution_count": 0,
      "outputs": []
    },
    {
      "cell_type": "markdown",
      "metadata": {
        "id": "JoHH3eUrrVh7",
        "colab_type": "text"
      },
      "source": [
        "So, Indian restaurants are too many. Expected. As they in are very common in all areas of Mumbai. Therefore, decided to get rid of Indian Restaurants to begin with."
      ]
    },
    {
      "cell_type": "code",
      "metadata": {
        "id": "XVDuSLK1QZXq",
        "colab_type": "code",
        "outputId": "96a9e975-b603-4106-cdc1-3183dd1a8db5",
        "colab": {
          "base_uri": "https://localhost:8080/",
          "height": 52
        }
      },
      "source": [
        "print(\"rows bef filter:\",south_mumbai_venues.shape[0])\n",
        "south_mumbai_venues = south_mumbai_venues[(south_mumbai_venues['Venue Category'] != \"Indian Restaurant\")].reset_index()\n",
        "print(\"rows aft filter:\",south_mumbai_venues.shape[0])\n",
        "\n",
        "\n"
      ],
      "execution_count": 18,
      "outputs": [
        {
          "output_type": "stream",
          "text": [
            "rows bef filter: 991\n",
            "rows aft filter: 851\n"
          ],
          "name": "stdout"
        }
      ]
    },
    {
      "cell_type": "markdown",
      "metadata": {
        "id": "VOvm4MfZjjKR",
        "colab_type": "text"
      },
      "source": [
        "Okay, they are gone now."
      ]
    },
    {
      "cell_type": "code",
      "metadata": {
        "id": "z8YTXyQSBO-H",
        "colab_type": "code",
        "colab": {}
      },
      "source": [
        "# backup\n",
        "south_mumbai_venues_minus_ind_rest = south_mumbai_venues\n",
        "south_mumbai_venues_minus_ind_rest.to_csv(\"south_mumbai_venues_minus_ind_rest.csv\")"
      ],
      "execution_count": 0,
      "outputs": []
    },
    {
      "cell_type": "markdown",
      "metadata": {
        "id": "x4vjj4TmESaI",
        "colab_type": "text"
      },
      "source": [
        "Now, let's group by Neighborhood. The idea here is to know which neighborhoods got very few venues. We can either drop some venues or can merge with nearby venues so not to lose much data."
      ]
    },
    {
      "cell_type": "code",
      "metadata": {
        "id": "UOXYn18iJD07",
        "colab_type": "code",
        "colab": {}
      },
      "source": [
        "# group by neighborhoods\n",
        "south_mumbai_venues_grp_nbhood_1 = south_mumbai_venues_merge_1.groupby(\"Neighborhood\").count()\n",
        "south_mumbai_venues_grp_nbhood_1.head(1)\n",
        "south_mumbai_venues_grp_nbhood_1 = south_mumbai_venues_grp_nbhood_1.rename({\"Borough\" : \"Count\"}, axis=1)\n",
        "south_mumbai_venues_grp_nbhood_2 = south_mumbai_venues_grp_nbhood_1.sort_values(\"Count\" , ascending=True)\n",
        "south_mumbai_venues_grp_nbhood_2 = south_mumbai_venues_grp_nbhood_2[[\"Count\"]]\n",
        "\n"
      ],
      "execution_count": 0,
      "outputs": []
    },
    {
      "cell_type": "markdown",
      "metadata": {
        "id": "Vp3kIWunJTVJ",
        "colab_type": "text"
      },
      "source": [
        "Let's see which one."
      ]
    },
    {
      "cell_type": "code",
      "metadata": {
        "id": "9MPh5ZLcLtKU",
        "colab_type": "code",
        "outputId": "1107ed6e-a274-4911-f512-e81949341b6c",
        "colab": {
          "base_uri": "https://localhost:8080/",
          "height": 382
        }
      },
      "source": [
        "south_mumbai_venues_grp_nbhood_2.head(10)"
      ],
      "execution_count": 20,
      "outputs": [
        {
          "output_type": "execute_result",
          "data": {
            "text/html": [
              "<div>\n",
              "<style scoped>\n",
              "    .dataframe tbody tr th:only-of-type {\n",
              "        vertical-align: middle;\n",
              "    }\n",
              "\n",
              "    .dataframe tbody tr th {\n",
              "        vertical-align: top;\n",
              "    }\n",
              "\n",
              "    .dataframe thead th {\n",
              "        text-align: right;\n",
              "    }\n",
              "</style>\n",
              "<table border=\"1\" class=\"dataframe\">\n",
              "  <thead>\n",
              "    <tr style=\"text-align: right;\">\n",
              "      <th></th>\n",
              "      <th>Count</th>\n",
              "    </tr>\n",
              "    <tr>\n",
              "      <th>Neighborhood</th>\n",
              "      <th></th>\n",
              "    </tr>\n",
              "  </thead>\n",
              "  <tbody>\n",
              "    <tr>\n",
              "      <th>Darukhana</th>\n",
              "      <td>2</td>\n",
              "    </tr>\n",
              "    <tr>\n",
              "      <th>Jogeshwari</th>\n",
              "      <td>5</td>\n",
              "    </tr>\n",
              "    <tr>\n",
              "      <th>Govandi</th>\n",
              "      <td>5</td>\n",
              "    </tr>\n",
              "    <tr>\n",
              "      <th>Kurla</th>\n",
              "      <td>6</td>\n",
              "    </tr>\n",
              "    <tr>\n",
              "      <th>Dongri</th>\n",
              "      <td>6</td>\n",
              "    </tr>\n",
              "    <tr>\n",
              "      <th>Kalina</th>\n",
              "      <td>9</td>\n",
              "    </tr>\n",
              "    <tr>\n",
              "      <th>Mazgaon</th>\n",
              "      <td>10</td>\n",
              "    </tr>\n",
              "    <tr>\n",
              "      <th>Malad</th>\n",
              "      <td>10</td>\n",
              "    </tr>\n",
              "    <tr>\n",
              "      <th>Mahim</th>\n",
              "      <td>11</td>\n",
              "    </tr>\n",
              "    <tr>\n",
              "      <th>Malabar Hill</th>\n",
              "      <td>12</td>\n",
              "    </tr>\n",
              "  </tbody>\n",
              "</table>\n",
              "</div>"
            ],
            "text/plain": [
              "              Count\n",
              "Neighborhood       \n",
              "Darukhana         2\n",
              "Jogeshwari        5\n",
              "Govandi           5\n",
              "Kurla             6\n",
              "Dongri            6\n",
              "Kalina            9\n",
              "Mazgaon          10\n",
              "Malad            10\n",
              "Mahim            11\n",
              "Malabar Hill     12"
            ]
          },
          "metadata": {
            "tags": []
          },
          "execution_count": 20
        }
      ]
    },
    {
      "cell_type": "code",
      "metadata": {
        "id": "9Vc5z9ckMkIE",
        "colab_type": "code",
        "colab": {}
      },
      "source": [
        "# save as csv\n",
        "south_mumbai_venues_grp_nbhood_2.to_csv(\"south_mumbai_venues_grp_nbhood_2.csv\")\n",
        "south_mumbai_venues_grp_nbhood_2_bkp = south_mumbai_venues_grp_nbhood_2\n",
        " "
      ],
      "execution_count": 0,
      "outputs": []
    },
    {
      "cell_type": "markdown",
      "metadata": {
        "id": "-lzI_bjP0ZJU",
        "colab_type": "text"
      },
      "source": [
        "#### **Unique Categories**"
      ]
    },
    {
      "cell_type": "markdown",
      "metadata": {
        "id": "FS3lJ79wKtxF",
        "colab_type": "text"
      },
      "source": [
        "Check how many unique categories we are dealing with."
      ]
    },
    {
      "cell_type": "code",
      "metadata": {
        "id": "1E4u3xu-anuV",
        "colab_type": "code",
        "outputId": "e2ec78ed-fdd0-4c23-f873-fd9ed8e2b6f5",
        "colab": {
          "base_uri": "https://localhost:8080/",
          "height": 35
        }
      },
      "source": [
        "print('There are {} uniques categories.'.format(len(south_mumbai_venues['Venue Category'].unique())))\n"
      ],
      "execution_count": 29,
      "outputs": [
        {
          "output_type": "stream",
          "text": [
            "There are 158 uniques categories.\n"
          ],
          "name": "stdout"
        }
      ]
    },
    {
      "cell_type": "markdown",
      "metadata": {
        "id": "Jm_lKssnVIZM",
        "colab_type": "text"
      },
      "source": [
        "### **Clubbing Similar Categories**"
      ]
    },
    {
      "cell_type": "markdown",
      "metadata": {
        "id": "EbCrzcxxVdCM",
        "colab_type": "text"
      },
      "source": [
        "#### Some categories were found be similar and can be clubbed together for example garden and parks can be clubbed together to gardens/parks etc."
      ]
    },
    {
      "cell_type": "code",
      "metadata": {
        "id": "aKaQ2SYCffb9",
        "colab_type": "code",
        "outputId": "58c1f415-bf91-4574-faa7-375344acd9e5",
        "colab": {
          "base_uri": "https://localhost:8080/",
          "height": 144
        }
      },
      "source": [
        "south_mumbai_venues.replace(to_replace =['Movie Theater'],value = 'Theater\\Multiplex', inplace=True)\n",
        "south_mumbai_venues.replace(to_replace =['Theater'],value = 'Theater\\Multiplex' , inplace=True)\n",
        "south_mumbai_venues.replace(to_replace =['Multiplex'],value = 'Theater\\Multiplex' , inplace=True)\n",
        "south_mumbai_venues.replace(to_replace =['Amphitheater'],value = 'Theater\\Multiplex' , inplace=True)\n",
        "south_mumbai_venues.replace(to_replace =['Indie Movie Theater'],value = 'Theater\\Multiplex' , inplace=True)\n",
        "south_mumbai_venues.replace(to_replace =['Performing Arts Venue'],value = 'Theater\\Multiplex' , inplace=True)\n",
        "\n",
        "south_mumbai_venues.replace(to_replace =['Garden','Park'],value = 'Park/Garden', inplace=True)\n",
        "\n",
        "south_mumbai_venues.replace(to_replace =['Pub'],value = 'Bar/Pub', inplace=True )\n",
        "south_mumbai_venues.replace(to_replace =['Gastropub'],value = 'Bar/Pub', inplace=True)\n",
        "south_mumbai_venues.replace(to_replace =['Bar'],value = 'Bar/Pub', inplace=True)\n",
        "south_mumbai_venues.replace(to_replace =['Cocktail Bar'],value = 'Bar/Pub', inplace=True)\n",
        "south_mumbai_venues.replace(to_replace =['Wine Bar'],value = 'Bar/Pub', inplace=True)\n",
        "south_mumbai_venues.replace(to_replace =['Hotel Bar'],value = 'Bar/Pub', inplace=True)\n",
        "south_mumbai_venues.replace(to_replace =['Sports Bar'],value = 'Bar/Pub', inplace=True)\n",
        "\n",
        "south_mumbai_venues.replace(to_replace =['Train Station' \\\n",
        "                                         ,'Bus Station'\n",
        "                                         ,'Metro Station'\n",
        "                                         ,'Train'\n",
        "],value = 'Train/Metro/Bus', inplace=True )\n",
        "\n",
        "south_mumbai_venues.replace(to_replace =['Spa' \\\n",
        "                                         ,'Gym'\n",
        "                                         ,'Gym / Fitness Center'\n",
        "                                         ,'Yoga Studio'\n",
        "                                         ,'Track'\n",
        "                                         ,'Massage Studio'\n",
        "],value = 'Fitness/Gym/Spa', inplace=True )\n",
        "\n",
        "south_mumbai_venues.replace(to_replace =['Tennis Court' \\\n",
        "                                         ,'Athletics & Sports'\n",
        "                                         ,'Cricket Ground'\n",
        "                                         ,'Hockey Arena'\n",
        "                                         ,'Field'\n",
        "                                         ,'Stadium'\n",
        "                                         ,'Soccer Field'\n",
        "                                         ,'Playground'\n",
        "],value = 'Sports', inplace=True )\n",
        "\n",
        "south_mumbai_venues.shape"
      ],
      "execution_count": 30,
      "outputs": [
        {
          "output_type": "stream",
          "text": [
            "/usr/local/lib/python3.6/dist-packages/pandas/core/frame.py:4172: SettingWithCopyWarning: \n",
            "A value is trying to be set on a copy of a slice from a DataFrame\n",
            "\n",
            "See the caveats in the documentation: https://pandas.pydata.org/pandas-docs/stable/user_guide/indexing.html#returning-a-view-versus-a-copy\n",
            "  method=method,\n"
          ],
          "name": "stderr"
        },
        {
          "output_type": "execute_result",
          "data": {
            "text/plain": [
              "(866, 8)"
            ]
          },
          "metadata": {
            "tags": []
          },
          "execution_count": 30
        }
      ]
    },
    {
      "cell_type": "markdown",
      "metadata": {
        "id": "nYoGTbRU-29U",
        "colab_type": "text"
      },
      "source": [
        "##### Drop some neiborhoods with very less venues like Darukhana."
      ]
    },
    {
      "cell_type": "code",
      "metadata": {
        "id": "zcXBfD-yCQbf",
        "colab_type": "code",
        "outputId": "8d676492-baa5-4dbb-f828-933e46cbd199",
        "colab": {
          "base_uri": "https://localhost:8080/",
          "height": 52
        }
      },
      "source": [
        "print(\"before filter:\",south_mumbai_venues.shape)\n",
        "south_mumbai_venues = south_mumbai_venues[south_mumbai_venues.Neighborhood != 'Darukhana']\n",
        "print(\"after filter:\",south_mumbai_venues.shape)\n"
      ],
      "execution_count": 31,
      "outputs": [
        {
          "output_type": "stream",
          "text": [
            "before filter: (866, 8)\n",
            "after filter: (866, 8)\n"
          ],
          "name": "stdout"
        }
      ]
    },
    {
      "cell_type": "markdown",
      "metadata": {
        "id": "uHci_zmk-MJ5",
        "colab_type": "text"
      },
      "source": [
        "### **Merge Neighborhoods**"
      ]
    },
    {
      "cell_type": "markdown",
      "metadata": {
        "id": "PrEEf70d-U02",
        "colab_type": "text"
      },
      "source": [
        "##### Merge Neigborhoods with very less venues to nearby venues. "
      ]
    },
    {
      "cell_type": "code",
      "metadata": {
        "id": "gsLTjv-oFdKk",
        "colab_type": "code",
        "outputId": "0f05e03f-6b12-4232-83cd-d9e339e6084e",
        "colab": {
          "base_uri": "https://localhost:8080/",
          "height": 35
        }
      },
      "source": [
        "# Get coordinates of Nagpada\n",
        "\n",
        "Nagpada = south_mumbai_venues\n",
        "Nagpada = Nagpada[Nagpada.Neighborhood == 'Nagpada' ].head(1)\n",
        "nagpada_latitude = Nagpada['Neighborhood Latitude'] \n",
        "nagpada_latitude = nagpada_latitude.iloc[0]\n",
        "nagpada_longitude = Nagpada['Neighborhood Longitude'] \n",
        "nagpada_longitude = nagpada_longitude.iloc[0]\n",
        "print(\"Nagpada latitude={} and longitude={}\".format(nagpada_latitude,nagpada_longitude))\n"
      ],
      "execution_count": 32,
      "outputs": [
        {
          "output_type": "stream",
          "text": [
            "Nagpada latitude=18.9681782 and longitude=72.8286009\n"
          ],
          "name": "stdout"
        }
      ]
    },
    {
      "cell_type": "markdown",
      "metadata": {
        "id": "mUzvtTwuRUFQ",
        "colab_type": "text"
      },
      "source": [
        "### **Merge Pydhoni to Nagpada**"
      ]
    },
    {
      "cell_type": "code",
      "metadata": {
        "id": "VPvspDVUQ6sN",
        "colab_type": "code",
        "outputId": "4d30f63a-a791-48f1-f7f9-3658b09190a3",
        "colab": {
          "base_uri": "https://localhost:8080/",
          "height": 52
        }
      },
      "source": [
        "south_mumbai_venues.loc[south_mumbai_venues['Neighborhood'] == 'Pydhoni', 'Neighborhood Latitude'] = nagpada_latitude\n",
        "south_mumbai_venues.loc[south_mumbai_venues['Neighborhood'] == 'Pydhoni', 'Neighborhood Longitude'] = nagpada_longitude\n",
        "south_mumbai_venues.loc[south_mumbai_venues['Neighborhood'] == 'Pydhoni', 'Neighborhood'] = 'Nagpada'\n",
        "south_mumbai_venues[south_mumbai_venues.Neighborhood == 'Pydhoni']\n",
        "south_mumbai_venues[south_mumbai_venues.Venue == 'Kanji Manji Kothari']\n",
        "\n",
        "\n",
        "print(\"bef:\",south_mumbai_data.shape)\n",
        "south_mumbai_data = south_mumbai_data[south_mumbai_data.Neighborhood != 'Pydhoni']\n",
        "print(\"aft:\",south_mumbai_data.shape)\n"
      ],
      "execution_count": 35,
      "outputs": [
        {
          "output_type": "stream",
          "text": [
            "bef: (36, 5)\n",
            "aft: (36, 5)\n"
          ],
          "name": "stdout"
        }
      ]
    },
    {
      "cell_type": "markdown",
      "metadata": {
        "id": "-z-fTbRrRd1q",
        "colab_type": "text"
      },
      "source": [
        "### **Merge Dongri to Nagpada**"
      ]
    },
    {
      "cell_type": "code",
      "metadata": {
        "id": "PFwZQeePT0Tq",
        "colab_type": "code",
        "outputId": "fb79a78b-56ea-4a4d-aa57-fb964078ad88",
        "colab": {
          "base_uri": "https://localhost:8080/",
          "height": 52
        }
      },
      "source": [
        "south_mumbai_venues.loc[south_mumbai_venues['Neighborhood'] == 'Dongri', 'Neighborhood Latitude'] = nagpada_latitude\n",
        "south_mumbai_venues.loc[south_mumbai_venues['Neighborhood'] == 'Dongri', 'Neighborhood Longitude'] = nagpada_longitude\n",
        "south_mumbai_venues.loc[south_mumbai_venues['Neighborhood'] == 'Dongri', 'Neighborhood'] = 'Nagpada'\n",
        "south_mumbai_venues.iloc[332:334]\n",
        "\n",
        "print(\"bef:\",south_mumbai_data.shape)\n",
        "south_mumbai_data = south_mumbai_data[south_mumbai_data.Neighborhood != 'Dongri']\n",
        "print(\"aft:\",south_mumbai_data.shape)"
      ],
      "execution_count": 36,
      "outputs": [
        {
          "output_type": "stream",
          "text": [
            "bef: (36, 5)\n",
            "aft: (36, 5)\n"
          ],
          "name": "stdout"
        }
      ]
    },
    {
      "cell_type": "code",
      "metadata": {
        "id": "SGQSbngAWgAX",
        "colab_type": "code",
        "outputId": "fbd81465-2f41-4f04-c678-f2d02b41a14d",
        "colab": {
          "base_uri": "https://localhost:8080/",
          "height": 204
        }
      },
      "source": [
        "south_mumbai_venues.loc[south_mumbai_venues['Neighborhood'] == 'Grand Road']\n",
        "#south_mumbai_venues.iloc[340:344]"
      ],
      "execution_count": 37,
      "outputs": [
        {
          "output_type": "execute_result",
          "data": {
            "text/html": [
              "<div>\n",
              "<style scoped>\n",
              "    .dataframe tbody tr th:only-of-type {\n",
              "        vertical-align: middle;\n",
              "    }\n",
              "\n",
              "    .dataframe tbody tr th {\n",
              "        vertical-align: top;\n",
              "    }\n",
              "\n",
              "    .dataframe thead th {\n",
              "        text-align: right;\n",
              "    }\n",
              "</style>\n",
              "<table border=\"1\" class=\"dataframe\">\n",
              "  <thead>\n",
              "    <tr style=\"text-align: right;\">\n",
              "      <th></th>\n",
              "      <th>index</th>\n",
              "      <th>Neighborhood</th>\n",
              "      <th>Neighborhood Latitude</th>\n",
              "      <th>Neighborhood Longitude</th>\n",
              "      <th>Venue</th>\n",
              "      <th>Venue Latitude</th>\n",
              "      <th>Venue Longitude</th>\n",
              "      <th>Venue Category</th>\n",
              "    </tr>\n",
              "  </thead>\n",
              "  <tbody>\n",
              "    <tr>\n",
              "      <th>356</th>\n",
              "      <td>498</td>\n",
              "      <td>Grand Road</td>\n",
              "      <td>18.938771</td>\n",
              "      <td>72.835335</td>\n",
              "      <td>Chhatrapati Shivaji Maharaj Terminus</td>\n",
              "      <td>18.940088</td>\n",
              "      <td>72.835257</td>\n",
              "      <td>Train/Metro/Bus</td>\n",
              "    </tr>\n",
              "    <tr>\n",
              "      <th>357</th>\n",
              "      <td>518</td>\n",
              "      <td>Grand Road</td>\n",
              "      <td>18.938771</td>\n",
              "      <td>72.835335</td>\n",
              "      <td>Press Club Mumbai</td>\n",
              "      <td>18.940721</td>\n",
              "      <td>72.832469</td>\n",
              "      <td>Bar/Pub</td>\n",
              "    </tr>\n",
              "    <tr>\n",
              "      <th>358</th>\n",
              "      <td>524</td>\n",
              "      <td>Grand Road</td>\n",
              "      <td>18.938771</td>\n",
              "      <td>72.835335</td>\n",
              "      <td>Model Cafe</td>\n",
              "      <td>18.936027</td>\n",
              "      <td>72.840418</td>\n",
              "      <td>Café</td>\n",
              "    </tr>\n",
              "    <tr>\n",
              "      <th>359</th>\n",
              "      <td>525</td>\n",
              "      <td>Grand Road</td>\n",
              "      <td>18.938771</td>\n",
              "      <td>72.835335</td>\n",
              "      <td>grand hotel</td>\n",
              "      <td>18.936234</td>\n",
              "      <td>72.840724</td>\n",
              "      <td>Hotel</td>\n",
              "    </tr>\n",
              "  </tbody>\n",
              "</table>\n",
              "</div>"
            ],
            "text/plain": [
              "     index Neighborhood  ...  Venue Longitude   Venue Category\n",
              "356    498   Grand Road  ...        72.835257  Train/Metro/Bus\n",
              "357    518   Grand Road  ...        72.832469          Bar/Pub\n",
              "358    524   Grand Road  ...        72.840418             Café\n",
              "359    525   Grand Road  ...        72.840724            Hotel\n",
              "\n",
              "[4 rows x 8 columns]"
            ]
          },
          "metadata": {
            "tags": []
          },
          "execution_count": 37
        }
      ]
    },
    {
      "cell_type": "code",
      "metadata": {
        "id": "QFELd6PXWTgr",
        "colab_type": "code",
        "outputId": "312ff584-37e5-47b8-a4ac-29531e93e073",
        "colab": {
          "base_uri": "https://localhost:8080/",
          "height": 52
        }
      },
      "source": [
        "south_mumbai_venues.loc[south_mumbai_venues['Neighborhood'] == 'Grand Road', 'Neighborhood Latitude'] = nagpada_latitude\n",
        "south_mumbai_venues.loc[south_mumbai_venues['Neighborhood'] == 'Grand Road', 'Neighborhood Longitude'] = nagpada_longitude\n",
        "south_mumbai_venues.loc[south_mumbai_venues['Neighborhood'] == 'Grand Road', 'Neighborhood'] = 'Nagpada'\n",
        "south_mumbai_venues.iloc[340:344]\n",
        "\n",
        "print(\"bef:\",south_mumbai_data.shape)\n",
        "south_mumbai_data = south_mumbai_data[south_mumbai_data.Neighborhood != 'Grand Road']\n",
        "print(\"aft:\",south_mumbai_data.shape)"
      ],
      "execution_count": 38,
      "outputs": [
        {
          "output_type": "stream",
          "text": [
            "bef: (36, 5)\n",
            "aft: (35, 5)\n"
          ],
          "name": "stdout"
        }
      ]
    },
    {
      "cell_type": "code",
      "metadata": {
        "id": "hsqmxXGhXanm",
        "colab_type": "code",
        "outputId": "81ccfe3b-f545-42b0-db76-b60952ecfc6b",
        "colab": {
          "base_uri": "https://localhost:8080/",
          "height": 332
        }
      },
      "source": [
        "south_mumbai_venues.loc[south_mumbai_venues['Neighborhood'] == 'Byculla']\n",
        "south_mumbai_venues.iloc[334:340]"
      ],
      "execution_count": 39,
      "outputs": [
        {
          "output_type": "execute_result",
          "data": {
            "text/html": [
              "<div>\n",
              "<style scoped>\n",
              "    .dataframe tbody tr th:only-of-type {\n",
              "        vertical-align: middle;\n",
              "    }\n",
              "\n",
              "    .dataframe tbody tr th {\n",
              "        vertical-align: top;\n",
              "    }\n",
              "\n",
              "    .dataframe thead th {\n",
              "        text-align: right;\n",
              "    }\n",
              "</style>\n",
              "<table border=\"1\" class=\"dataframe\">\n",
              "  <thead>\n",
              "    <tr style=\"text-align: right;\">\n",
              "      <th></th>\n",
              "      <th>index</th>\n",
              "      <th>Neighborhood</th>\n",
              "      <th>Neighborhood Latitude</th>\n",
              "      <th>Neighborhood Longitude</th>\n",
              "      <th>Venue</th>\n",
              "      <th>Venue Latitude</th>\n",
              "      <th>Venue Longitude</th>\n",
              "      <th>Venue Category</th>\n",
              "    </tr>\n",
              "  </thead>\n",
              "  <tbody>\n",
              "    <tr>\n",
              "      <th>336</th>\n",
              "      <td>468</td>\n",
              "      <td>Nagpada</td>\n",
              "      <td>18.968178</td>\n",
              "      <td>72.828601</td>\n",
              "      <td>McDonald's</td>\n",
              "      <td>18.968073</td>\n",
              "      <td>72.824497</td>\n",
              "      <td>Fast Food Restaurant</td>\n",
              "    </tr>\n",
              "    <tr>\n",
              "      <th>337</th>\n",
              "      <td>469</td>\n",
              "      <td>Nagpada</td>\n",
              "      <td>18.968178</td>\n",
              "      <td>72.828601</td>\n",
              "      <td>Zaitoon Restaurant</td>\n",
              "      <td>18.970760</td>\n",
              "      <td>72.831570</td>\n",
              "      <td>Chinese Restaurant</td>\n",
              "    </tr>\n",
              "    <tr>\n",
              "      <th>338</th>\n",
              "      <td>470</td>\n",
              "      <td>Nagpada</td>\n",
              "      <td>18.968178</td>\n",
              "      <td>72.828601</td>\n",
              "      <td>Mama Mia</td>\n",
              "      <td>18.970878</td>\n",
              "      <td>72.831666</td>\n",
              "      <td>Restaurant</td>\n",
              "    </tr>\n",
              "    <tr>\n",
              "      <th>339</th>\n",
              "      <td>471</td>\n",
              "      <td>Nagpada</td>\n",
              "      <td>18.968178</td>\n",
              "      <td>72.828601</td>\n",
              "      <td>Monginis Cake Shop</td>\n",
              "      <td>18.965261</td>\n",
              "      <td>72.831963</td>\n",
              "      <td>Bakery</td>\n",
              "    </tr>\n",
              "    <tr>\n",
              "      <th>340</th>\n",
              "      <td>472</td>\n",
              "      <td>Nagpada</td>\n",
              "      <td>18.968178</td>\n",
              "      <td>72.828601</td>\n",
              "      <td>Shahi Dawat Restaurant</td>\n",
              "      <td>18.968277</td>\n",
              "      <td>72.823842</td>\n",
              "      <td>Asian Restaurant</td>\n",
              "    </tr>\n",
              "    <tr>\n",
              "      <th>341</th>\n",
              "      <td>473</td>\n",
              "      <td>Nagpada</td>\n",
              "      <td>18.968178</td>\n",
              "      <td>72.828601</td>\n",
              "      <td>Big Bazaar</td>\n",
              "      <td>18.968132</td>\n",
              "      <td>72.823833</td>\n",
              "      <td>Department Store</td>\n",
              "    </tr>\n",
              "  </tbody>\n",
              "</table>\n",
              "</div>"
            ],
            "text/plain": [
              "     index Neighborhood  ...  Venue Longitude        Venue Category\n",
              "336    468      Nagpada  ...        72.824497  Fast Food Restaurant\n",
              "337    469      Nagpada  ...        72.831570    Chinese Restaurant\n",
              "338    470      Nagpada  ...        72.831666            Restaurant\n",
              "339    471      Nagpada  ...        72.831963                Bakery\n",
              "340    472      Nagpada  ...        72.823842      Asian Restaurant\n",
              "341    473      Nagpada  ...        72.823833      Department Store\n",
              "\n",
              "[6 rows x 8 columns]"
            ]
          },
          "metadata": {
            "tags": []
          },
          "execution_count": 39
        }
      ]
    },
    {
      "cell_type": "code",
      "metadata": {
        "id": "kZt4eKMsXY2l",
        "colab_type": "code",
        "outputId": "8101dc3d-becd-46b1-9b16-00ff69c07227",
        "colab": {
          "base_uri": "https://localhost:8080/",
          "height": 52
        }
      },
      "source": [
        "south_mumbai_venues.loc[south_mumbai_venues['Neighborhood'] == 'Byculla', 'Neighborhood Latitude'] = nagpada_latitude\n",
        "south_mumbai_venues.loc[south_mumbai_venues['Neighborhood'] == 'Byculla', 'Neighborhood Longitude'] = nagpada_longitude\n",
        "south_mumbai_venues.loc[south_mumbai_venues['Neighborhood'] == 'Byculla', 'Neighborhood'] = 'Nagpada'\n",
        "south_mumbai_venues.iloc[334:340]\n",
        "\n",
        "print(\"bef:\",south_mumbai_data.shape)\n",
        "south_mumbai_data = south_mumbai_data[south_mumbai_data.Neighborhood != 'Byculla']\n",
        "print(\"aft:\",south_mumbai_data.shape)"
      ],
      "execution_count": 40,
      "outputs": [
        {
          "output_type": "stream",
          "text": [
            "bef: (35, 5)\n",
            "aft: (34, 5)\n"
          ],
          "name": "stdout"
        }
      ]
    },
    {
      "cell_type": "markdown",
      "metadata": {
        "id": "k8LWVwg-Yvf6",
        "colab_type": "text"
      },
      "source": [
        "### **Merge Govandi with Chembur**"
      ]
    },
    {
      "cell_type": "code",
      "metadata": {
        "id": "h-doU-ucY49t",
        "colab_type": "code",
        "outputId": "3e2ff3e9-4d59-48e5-a341-643c169e5f54",
        "colab": {
          "base_uri": "https://localhost:8080/",
          "height": 130
        }
      },
      "source": [
        "# Get coordinates of Chembur\n",
        "\n",
        "Chembur = south_mumbai_venues\n",
        "Chembur = Chembur[Chembur.Neighborhood == 'Chembur' ].head(1)\n",
        "Chembur_latitude = Chembur['Neighborhood Latitude'] \n",
        "Chembur_latitude = Chembur_latitude.iloc[0]\n",
        "Chembur_longitude = Chembur['Neighborhood Longitude'] \n",
        "Chembur_longitude = Chembur_longitude.iloc[0]\n",
        "print(\"Chembur latitude={} and longitude={}\".format(Chembur_latitude,Chembur_longitude))\n",
        "Chembur[Chembur.Neighborhood == 'Chembur' ].head(1)"
      ],
      "execution_count": 41,
      "outputs": [
        {
          "output_type": "stream",
          "text": [
            "Chembur latitude=19.0612128 and longitude=72.8975909\n"
          ],
          "name": "stdout"
        },
        {
          "output_type": "execute_result",
          "data": {
            "text/html": [
              "<div>\n",
              "<style scoped>\n",
              "    .dataframe tbody tr th:only-of-type {\n",
              "        vertical-align: middle;\n",
              "    }\n",
              "\n",
              "    .dataframe tbody tr th {\n",
              "        vertical-align: top;\n",
              "    }\n",
              "\n",
              "    .dataframe thead th {\n",
              "        text-align: right;\n",
              "    }\n",
              "</style>\n",
              "<table border=\"1\" class=\"dataframe\">\n",
              "  <thead>\n",
              "    <tr style=\"text-align: right;\">\n",
              "      <th></th>\n",
              "      <th>index</th>\n",
              "      <th>Neighborhood</th>\n",
              "      <th>Neighborhood Latitude</th>\n",
              "      <th>Neighborhood Longitude</th>\n",
              "      <th>Venue</th>\n",
              "      <th>Venue Latitude</th>\n",
              "      <th>Venue Longitude</th>\n",
              "      <th>Venue Category</th>\n",
              "    </tr>\n",
              "  </thead>\n",
              "  <tbody>\n",
              "    <tr>\n",
              "      <th>686</th>\n",
              "      <td>910</td>\n",
              "      <td>Chembur</td>\n",
              "      <td>19.061213</td>\n",
              "      <td>72.897591</td>\n",
              "      <td>Le Café</td>\n",
              "      <td>19.061791</td>\n",
              "      <td>72.899479</td>\n",
              "      <td>Café</td>\n",
              "    </tr>\n",
              "  </tbody>\n",
              "</table>\n",
              "</div>"
            ],
            "text/plain": [
              "     index Neighborhood  ...  Venue Longitude  Venue Category\n",
              "686    910      Chembur  ...        72.899479            Café\n",
              "\n",
              "[1 rows x 8 columns]"
            ]
          },
          "metadata": {
            "tags": []
          },
          "execution_count": 41
        }
      ]
    },
    {
      "cell_type": "code",
      "metadata": {
        "id": "iP1UHM_rY5va",
        "colab_type": "code",
        "outputId": "07a1d4e4-ec98-4621-f149-b39c1837a43f",
        "colab": {
          "base_uri": "https://localhost:8080/",
          "height": 302
        }
      },
      "source": [
        "#south_mumbai_venues.loc[south_mumbai_venues['Neighborhood'] == 'Govandi']\n",
        "south_mumbai_venues.iloc[688:693]"
      ],
      "execution_count": 42,
      "outputs": [
        {
          "output_type": "execute_result",
          "data": {
            "text/html": [
              "<div>\n",
              "<style scoped>\n",
              "    .dataframe tbody tr th:only-of-type {\n",
              "        vertical-align: middle;\n",
              "    }\n",
              "\n",
              "    .dataframe tbody tr th {\n",
              "        vertical-align: top;\n",
              "    }\n",
              "\n",
              "    .dataframe thead th {\n",
              "        text-align: right;\n",
              "    }\n",
              "</style>\n",
              "<table border=\"1\" class=\"dataframe\">\n",
              "  <thead>\n",
              "    <tr style=\"text-align: right;\">\n",
              "      <th></th>\n",
              "      <th>index</th>\n",
              "      <th>Neighborhood</th>\n",
              "      <th>Neighborhood Latitude</th>\n",
              "      <th>Neighborhood Longitude</th>\n",
              "      <th>Venue</th>\n",
              "      <th>Venue Latitude</th>\n",
              "      <th>Venue Longitude</th>\n",
              "      <th>Venue Category</th>\n",
              "    </tr>\n",
              "  </thead>\n",
              "  <tbody>\n",
              "    <tr>\n",
              "      <th>690</th>\n",
              "      <td>916</td>\n",
              "      <td>Chembur</td>\n",
              "      <td>19.061213</td>\n",
              "      <td>72.897591</td>\n",
              "      <td>Ambedkar Udyan</td>\n",
              "      <td>19.059602</td>\n",
              "      <td>72.900488</td>\n",
              "      <td>Park/Garden</td>\n",
              "    </tr>\n",
              "    <tr>\n",
              "      <th>691</th>\n",
              "      <td>917</td>\n",
              "      <td>Chembur</td>\n",
              "      <td>19.061213</td>\n",
              "      <td>72.897591</td>\n",
              "      <td>Saroj Veg Restaurant</td>\n",
              "      <td>19.062425</td>\n",
              "      <td>72.899693</td>\n",
              "      <td>Vegetarian / Vegan Restaurant</td>\n",
              "    </tr>\n",
              "    <tr>\n",
              "      <th>692</th>\n",
              "      <td>918</td>\n",
              "      <td>Chembur</td>\n",
              "      <td>19.061213</td>\n",
              "      <td>72.897591</td>\n",
              "      <td>Sadguru Veg. Diet</td>\n",
              "      <td>19.061145</td>\n",
              "      <td>72.899652</td>\n",
              "      <td>Restaurant</td>\n",
              "    </tr>\n",
              "    <tr>\n",
              "      <th>693</th>\n",
              "      <td>920</td>\n",
              "      <td>Chembur</td>\n",
              "      <td>19.061213</td>\n",
              "      <td>72.897591</td>\n",
              "      <td>Fine Arts Society</td>\n",
              "      <td>19.060993</td>\n",
              "      <td>72.897362</td>\n",
              "      <td>Theater\\Multiplex</td>\n",
              "    </tr>\n",
              "    <tr>\n",
              "      <th>694</th>\n",
              "      <td>921</td>\n",
              "      <td>Chembur</td>\n",
              "      <td>19.061213</td>\n",
              "      <td>72.897591</td>\n",
              "      <td>AF-10 Avenue Fitness</td>\n",
              "      <td>19.060659</td>\n",
              "      <td>72.898981</td>\n",
              "      <td>Fitness/Gym/Spa</td>\n",
              "    </tr>\n",
              "  </tbody>\n",
              "</table>\n",
              "</div>"
            ],
            "text/plain": [
              "     index Neighborhood  ...  Venue Longitude                 Venue Category\n",
              "690    916      Chembur  ...        72.900488                    Park/Garden\n",
              "691    917      Chembur  ...        72.899693  Vegetarian / Vegan Restaurant\n",
              "692    918      Chembur  ...        72.899652                     Restaurant\n",
              "693    920      Chembur  ...        72.897362              Theater\\Multiplex\n",
              "694    921      Chembur  ...        72.898981                Fitness/Gym/Spa\n",
              "\n",
              "[5 rows x 8 columns]"
            ]
          },
          "metadata": {
            "tags": []
          },
          "execution_count": 42
        }
      ]
    },
    {
      "cell_type": "code",
      "metadata": {
        "id": "3qpex_0kY6bB",
        "colab_type": "code",
        "outputId": "8d2345f7-90e4-4576-ab26-c92795c12180",
        "colab": {
          "base_uri": "https://localhost:8080/",
          "height": 52
        }
      },
      "source": [
        "south_mumbai_venues.loc[south_mumbai_venues['Neighborhood'] == 'Govandi', 'Neighborhood Latitude'] = Chembur_latitude\n",
        "south_mumbai_venues.loc[south_mumbai_venues['Neighborhood'] == 'Govandi', 'Neighborhood Longitude'] = Chembur_longitude\n",
        "south_mumbai_venues.loc[south_mumbai_venues['Neighborhood'] == 'Govandi', 'Neighborhood'] = 'Chembur'\n",
        "south_mumbai_venues.iloc[688:693]\n",
        "\n",
        "print(\"bef:\",south_mumbai_data.shape)\n",
        "south_mumbai_data = south_mumbai_data[south_mumbai_data.Neighborhood != 'Govandi']\n",
        "print(\"aft:\",south_mumbai_data.shape)"
      ],
      "execution_count": 43,
      "outputs": [
        {
          "output_type": "stream",
          "text": [
            "bef: (34, 5)\n",
            "aft: (33, 5)\n"
          ],
          "name": "stdout"
        }
      ]
    },
    {
      "cell_type": "markdown",
      "metadata": {
        "id": "OV-5RlJ7cCXz",
        "colab_type": "text"
      },
      "source": [
        "### **Merge Kalina with Kurla**"
      ]
    },
    {
      "cell_type": "code",
      "metadata": {
        "id": "OkPgTWpHcZdZ",
        "colab_type": "code",
        "outputId": "2e5ed4ac-fafb-46f3-8a17-cb1dcc41d042",
        "colab": {
          "base_uri": "https://localhost:8080/",
          "height": 130
        }
      },
      "source": [
        "# Get coordinates of Kurla\n",
        "\n",
        "Kurla = south_mumbai_venues\n",
        "Kurla = Kurla[Kurla.Neighborhood == 'Kurla' ].head(1)\n",
        "Kurla_latitude = Kurla['Neighborhood Latitude'] \n",
        "Kurla_latitude = Kurla_latitude.iloc[0]\n",
        "Kurla_longitude = Kurla['Neighborhood Longitude'] \n",
        "Kurla_longitude = Kurla_longitude.iloc[0]\n",
        "print(\"Kurla latitude={} and longitude={}\".format(Kurla_latitude,Kurla_longitude))\n",
        "Kurla[Kurla.Neighborhood == 'Kurla' ].head(1)"
      ],
      "execution_count": 44,
      "outputs": [
        {
          "output_type": "stream",
          "text": [
            "Kurla latitude=19.0652797 and longitude=72.8793805\n"
          ],
          "name": "stdout"
        },
        {
          "output_type": "execute_result",
          "data": {
            "text/html": [
              "<div>\n",
              "<style scoped>\n",
              "    .dataframe tbody tr th:only-of-type {\n",
              "        vertical-align: middle;\n",
              "    }\n",
              "\n",
              "    .dataframe tbody tr th {\n",
              "        vertical-align: top;\n",
              "    }\n",
              "\n",
              "    .dataframe thead th {\n",
              "        text-align: right;\n",
              "    }\n",
              "</style>\n",
              "<table border=\"1\" class=\"dataframe\">\n",
              "  <thead>\n",
              "    <tr style=\"text-align: right;\">\n",
              "      <th></th>\n",
              "      <th>index</th>\n",
              "      <th>Neighborhood</th>\n",
              "      <th>Neighborhood Latitude</th>\n",
              "      <th>Neighborhood Longitude</th>\n",
              "      <th>Venue</th>\n",
              "      <th>Venue Latitude</th>\n",
              "      <th>Venue Longitude</th>\n",
              "      <th>Venue Category</th>\n",
              "    </tr>\n",
              "  </thead>\n",
              "  <tbody>\n",
              "    <tr>\n",
              "      <th>662</th>\n",
              "      <td>880</td>\n",
              "      <td>Kurla</td>\n",
              "      <td>19.06528</td>\n",
              "      <td>72.87938</td>\n",
              "      <td>Swastik Farsan Mart</td>\n",
              "      <td>19.065989</td>\n",
              "      <td>72.878838</td>\n",
              "      <td>Grocery Store</td>\n",
              "    </tr>\n",
              "  </tbody>\n",
              "</table>\n",
              "</div>"
            ],
            "text/plain": [
              "     index Neighborhood  ...  Venue Longitude  Venue Category\n",
              "662    880        Kurla  ...        72.878838   Grocery Store\n",
              "\n",
              "[1 rows x 8 columns]"
            ]
          },
          "metadata": {
            "tags": []
          },
          "execution_count": 44
        }
      ]
    },
    {
      "cell_type": "code",
      "metadata": {
        "id": "trc4EcYRcZuQ",
        "colab_type": "code",
        "outputId": "851ebeb5-c750-40f7-f43d-816824914738",
        "colab": {
          "base_uri": "https://localhost:8080/",
          "height": 281
        }
      },
      "source": [
        "#south_mumbai_venues.loc[south_mumbai_venues['Neighborhood'] == 'Kalina']\n",
        "south_mumbai_venues.iloc[588:594]"
      ],
      "execution_count": 45,
      "outputs": [
        {
          "output_type": "execute_result",
          "data": {
            "text/html": [
              "<div>\n",
              "<style scoped>\n",
              "    .dataframe tbody tr th:only-of-type {\n",
              "        vertical-align: middle;\n",
              "    }\n",
              "\n",
              "    .dataframe tbody tr th {\n",
              "        vertical-align: top;\n",
              "    }\n",
              "\n",
              "    .dataframe thead th {\n",
              "        text-align: right;\n",
              "    }\n",
              "</style>\n",
              "<table border=\"1\" class=\"dataframe\">\n",
              "  <thead>\n",
              "    <tr style=\"text-align: right;\">\n",
              "      <th></th>\n",
              "      <th>index</th>\n",
              "      <th>Neighborhood</th>\n",
              "      <th>Neighborhood Latitude</th>\n",
              "      <th>Neighborhood Longitude</th>\n",
              "      <th>Venue</th>\n",
              "      <th>Venue Latitude</th>\n",
              "      <th>Venue Longitude</th>\n",
              "      <th>Venue Category</th>\n",
              "    </tr>\n",
              "  </thead>\n",
              "  <tbody>\n",
              "    <tr>\n",
              "      <th>590</th>\n",
              "      <td>792</td>\n",
              "      <td>Juhu</td>\n",
              "      <td>19.107021</td>\n",
              "      <td>72.827528</td>\n",
              "      <td>Mumbai</td>\n",
              "      <td>19.101847</td>\n",
              "      <td>72.827456</td>\n",
              "      <td>Dessert Shop</td>\n",
              "    </tr>\n",
              "    <tr>\n",
              "      <th>591</th>\n",
              "      <td>793</td>\n",
              "      <td>Juhu</td>\n",
              "      <td>19.107021</td>\n",
              "      <td>72.827528</td>\n",
              "      <td>Rock Bottom (Discotheque)</td>\n",
              "      <td>19.111764</td>\n",
              "      <td>72.829932</td>\n",
              "      <td>Nightclub</td>\n",
              "    </tr>\n",
              "    <tr>\n",
              "      <th>592</th>\n",
              "      <td>794</td>\n",
              "      <td>Juhu</td>\n",
              "      <td>19.107021</td>\n",
              "      <td>72.827528</td>\n",
              "      <td>Options Juhu Store</td>\n",
              "      <td>19.103668</td>\n",
              "      <td>72.831847</td>\n",
              "      <td>Clothing Store</td>\n",
              "    </tr>\n",
              "    <tr>\n",
              "      <th>593</th>\n",
              "      <td>795</td>\n",
              "      <td>Juhu</td>\n",
              "      <td>19.107021</td>\n",
              "      <td>72.827528</td>\n",
              "      <td>Green Bell Juhu</td>\n",
              "      <td>19.103489</td>\n",
              "      <td>72.831755</td>\n",
              "      <td>Kids Store</td>\n",
              "    </tr>\n",
              "    <tr>\n",
              "      <th>594</th>\n",
              "      <td>796</td>\n",
              "      <td>Juhu</td>\n",
              "      <td>19.107021</td>\n",
              "      <td>72.827528</td>\n",
              "      <td>Yogurberry</td>\n",
              "      <td>19.101375</td>\n",
              "      <td>72.827262</td>\n",
              "      <td>Dessert Shop</td>\n",
              "    </tr>\n",
              "    <tr>\n",
              "      <th>595</th>\n",
              "      <td>797</td>\n",
              "      <td>Andheri</td>\n",
              "      <td>19.119698</td>\n",
              "      <td>72.846420</td>\n",
              "      <td>Merwans Cake shop</td>\n",
              "      <td>19.119300</td>\n",
              "      <td>72.845418</td>\n",
              "      <td>Bakery</td>\n",
              "    </tr>\n",
              "  </tbody>\n",
              "</table>\n",
              "</div>"
            ],
            "text/plain": [
              "     index Neighborhood  ...  Venue Longitude  Venue Category\n",
              "590    792         Juhu  ...        72.827456    Dessert Shop\n",
              "591    793         Juhu  ...        72.829932       Nightclub\n",
              "592    794         Juhu  ...        72.831847  Clothing Store\n",
              "593    795         Juhu  ...        72.831755      Kids Store\n",
              "594    796         Juhu  ...        72.827262    Dessert Shop\n",
              "595    797      Andheri  ...        72.845418          Bakery\n",
              "\n",
              "[6 rows x 8 columns]"
            ]
          },
          "metadata": {
            "tags": []
          },
          "execution_count": 45
        }
      ]
    },
    {
      "cell_type": "code",
      "metadata": {
        "id": "XWYjkLgucZ9e",
        "colab_type": "code",
        "outputId": "c270f535-68ca-46b5-887b-153bc7934e27",
        "colab": {
          "base_uri": "https://localhost:8080/",
          "height": 52
        }
      },
      "source": [
        "south_mumbai_venues.loc[south_mumbai_venues['Neighborhood'] == 'Kalina', 'Neighborhood Latitude'] = Kurla_latitude\n",
        "south_mumbai_venues.loc[south_mumbai_venues['Neighborhood'] == 'Kalina', 'Neighborhood Longitude'] = Kurla_longitude\n",
        "south_mumbai_venues.loc[south_mumbai_venues['Neighborhood'] == 'Kalina', 'Neighborhood'] = 'Kurla'\n",
        "south_mumbai_venues.iloc[588:594]\n",
        "\n",
        "print(\"bef:\",south_mumbai_data.shape)\n",
        "south_mumbai_data = south_mumbai_data[south_mumbai_data.Neighborhood != 'Kalina']\n",
        "print(\"aft:\",south_mumbai_data.shape)\n",
        "\n"
      ],
      "execution_count": 46,
      "outputs": [
        {
          "output_type": "stream",
          "text": [
            "bef: (33, 5)\n",
            "aft: (32, 5)\n"
          ],
          "name": "stdout"
        }
      ]
    },
    {
      "cell_type": "markdown",
      "metadata": {
        "id": "a1ASK9KKhNnS",
        "colab_type": "text"
      },
      "source": [
        "### **Merge Malad with Andheri**"
      ]
    },
    {
      "cell_type": "code",
      "metadata": {
        "id": "30dQdmZPhCgv",
        "colab_type": "code",
        "outputId": "6273becf-21a9-4472-8654-6a591ebd5054",
        "colab": {
          "base_uri": "https://localhost:8080/",
          "height": 130
        }
      },
      "source": [
        "# Get coordinates of Andheri\n",
        "\n",
        "Andheri = south_mumbai_venues\n",
        "Andheri = Andheri[Andheri.Neighborhood == 'Andheri' ].head(1)\n",
        "Andheri_latitude = Andheri['Neighborhood Latitude'] \n",
        "Andheri_latitude = Andheri_latitude.iloc[0]\n",
        "Andheri_longitude = Andheri['Neighborhood Longitude'] \n",
        "Andheri_longitude = Andheri_longitude.iloc[0]\n",
        "print(\"Chembur latitude={} and longitude={}\".format(Andheri_latitude,Andheri_longitude))\n",
        "Andheri[Andheri.Neighborhood == 'Andheri' ].head(1)"
      ],
      "execution_count": 47,
      "outputs": [
        {
          "output_type": "stream",
          "text": [
            "Chembur latitude=19.1196976 and longitude=72.8464205\n"
          ],
          "name": "stdout"
        },
        {
          "output_type": "execute_result",
          "data": {
            "text/html": [
              "<div>\n",
              "<style scoped>\n",
              "    .dataframe tbody tr th:only-of-type {\n",
              "        vertical-align: middle;\n",
              "    }\n",
              "\n",
              "    .dataframe tbody tr th {\n",
              "        vertical-align: top;\n",
              "    }\n",
              "\n",
              "    .dataframe thead th {\n",
              "        text-align: right;\n",
              "    }\n",
              "</style>\n",
              "<table border=\"1\" class=\"dataframe\">\n",
              "  <thead>\n",
              "    <tr style=\"text-align: right;\">\n",
              "      <th></th>\n",
              "      <th>index</th>\n",
              "      <th>Neighborhood</th>\n",
              "      <th>Neighborhood Latitude</th>\n",
              "      <th>Neighborhood Longitude</th>\n",
              "      <th>Venue</th>\n",
              "      <th>Venue Latitude</th>\n",
              "      <th>Venue Longitude</th>\n",
              "      <th>Venue Category</th>\n",
              "    </tr>\n",
              "  </thead>\n",
              "  <tbody>\n",
              "    <tr>\n",
              "      <th>595</th>\n",
              "      <td>797</td>\n",
              "      <td>Andheri</td>\n",
              "      <td>19.119698</td>\n",
              "      <td>72.84642</td>\n",
              "      <td>Merwans Cake shop</td>\n",
              "      <td>19.1193</td>\n",
              "      <td>72.845418</td>\n",
              "      <td>Bakery</td>\n",
              "    </tr>\n",
              "  </tbody>\n",
              "</table>\n",
              "</div>"
            ],
            "text/plain": [
              "     index Neighborhood  ...  Venue Longitude  Venue Category\n",
              "595    797      Andheri  ...        72.845418          Bakery\n",
              "\n",
              "[1 rows x 8 columns]"
            ]
          },
          "metadata": {
            "tags": []
          },
          "execution_count": 47
        }
      ]
    },
    {
      "cell_type": "code",
      "metadata": {
        "id": "Cn7vAC0IhCuK",
        "colab_type": "code",
        "outputId": "0b75aabc-6e8d-401a-cba8-4be3345fd4f1",
        "colab": {
          "base_uri": "https://localhost:8080/",
          "height": 363
        }
      },
      "source": [
        "#south_mumbai_venues.loc[south_mumbai_venues['Neighborhood'] == 'Malad']\n",
        "south_mumbai_venues.iloc[773:780]"
      ],
      "execution_count": 48,
      "outputs": [
        {
          "output_type": "execute_result",
          "data": {
            "text/html": [
              "<div>\n",
              "<style scoped>\n",
              "    .dataframe tbody tr th:only-of-type {\n",
              "        vertical-align: middle;\n",
              "    }\n",
              "\n",
              "    .dataframe tbody tr th {\n",
              "        vertical-align: top;\n",
              "    }\n",
              "\n",
              "    .dataframe thead th {\n",
              "        text-align: right;\n",
              "    }\n",
              "</style>\n",
              "<table border=\"1\" class=\"dataframe\">\n",
              "  <thead>\n",
              "    <tr style=\"text-align: right;\">\n",
              "      <th></th>\n",
              "      <th>index</th>\n",
              "      <th>Neighborhood</th>\n",
              "      <th>Neighborhood Latitude</th>\n",
              "      <th>Neighborhood Longitude</th>\n",
              "      <th>Venue</th>\n",
              "      <th>Venue Latitude</th>\n",
              "      <th>Venue Longitude</th>\n",
              "      <th>Venue Category</th>\n",
              "    </tr>\n",
              "  </thead>\n",
              "  <tbody>\n",
              "    <tr>\n",
              "      <th>775</th>\n",
              "      <td>1016</td>\n",
              "      <td>Powai</td>\n",
              "      <td>19.11872</td>\n",
              "      <td>72.907348</td>\n",
              "      <td>Breeze</td>\n",
              "      <td>19.113520</td>\n",
              "      <td>72.908320</td>\n",
              "      <td>Lounge</td>\n",
              "    </tr>\n",
              "    <tr>\n",
              "      <th>776</th>\n",
              "      <td>1017</td>\n",
              "      <td>Powai</td>\n",
              "      <td>19.11872</td>\n",
              "      <td>72.907348</td>\n",
              "      <td>Asian Wok</td>\n",
              "      <td>19.119127</td>\n",
              "      <td>72.911361</td>\n",
              "      <td>Asian Restaurant</td>\n",
              "    </tr>\n",
              "    <tr>\n",
              "      <th>777</th>\n",
              "      <td>1019</td>\n",
              "      <td>Powai</td>\n",
              "      <td>19.11872</td>\n",
              "      <td>72.907348</td>\n",
              "      <td>Costa Coffee</td>\n",
              "      <td>19.118829</td>\n",
              "      <td>72.911323</td>\n",
              "      <td>Coffee Shop</td>\n",
              "    </tr>\n",
              "    <tr>\n",
              "      <th>778</th>\n",
              "      <td>1021</td>\n",
              "      <td>Powai</td>\n",
              "      <td>19.11872</td>\n",
              "      <td>72.907348</td>\n",
              "      <td>DMart</td>\n",
              "      <td>19.117068</td>\n",
              "      <td>72.910323</td>\n",
              "      <td>Department Store</td>\n",
              "    </tr>\n",
              "    <tr>\n",
              "      <th>779</th>\n",
              "      <td>1022</td>\n",
              "      <td>Powai</td>\n",
              "      <td>19.11872</td>\n",
              "      <td>72.907348</td>\n",
              "      <td>China House</td>\n",
              "      <td>19.118987</td>\n",
              "      <td>72.911225</td>\n",
              "      <td>Chinese Restaurant</td>\n",
              "    </tr>\n",
              "    <tr>\n",
              "      <th>780</th>\n",
              "      <td>1023</td>\n",
              "      <td>Powai</td>\n",
              "      <td>19.11872</td>\n",
              "      <td>72.907348</td>\n",
              "      <td>The Bridge Cafe</td>\n",
              "      <td>19.117701</td>\n",
              "      <td>72.910831</td>\n",
              "      <td>Coffee Shop</td>\n",
              "    </tr>\n",
              "    <tr>\n",
              "      <th>781</th>\n",
              "      <td>1024</td>\n",
              "      <td>Powai</td>\n",
              "      <td>19.11872</td>\n",
              "      <td>72.907348</td>\n",
              "      <td>hiranandi complex</td>\n",
              "      <td>19.117402</td>\n",
              "      <td>72.910900</td>\n",
              "      <td>Department Store</td>\n",
              "    </tr>\n",
              "  </tbody>\n",
              "</table>\n",
              "</div>"
            ],
            "text/plain": [
              "     index Neighborhood  ...  Venue Longitude      Venue Category\n",
              "775   1016        Powai  ...        72.908320              Lounge\n",
              "776   1017        Powai  ...        72.911361    Asian Restaurant\n",
              "777   1019        Powai  ...        72.911323         Coffee Shop\n",
              "778   1021        Powai  ...        72.910323    Department Store\n",
              "779   1022        Powai  ...        72.911225  Chinese Restaurant\n",
              "780   1023        Powai  ...        72.910831         Coffee Shop\n",
              "781   1024        Powai  ...        72.910900    Department Store\n",
              "\n",
              "[7 rows x 8 columns]"
            ]
          },
          "metadata": {
            "tags": []
          },
          "execution_count": 48
        }
      ]
    },
    {
      "cell_type": "code",
      "metadata": {
        "id": "VU0gdKgWhC73",
        "colab_type": "code",
        "outputId": "04c7e35c-a016-443e-dc24-712b26ab297d",
        "colab": {
          "base_uri": "https://localhost:8080/",
          "height": 52
        }
      },
      "source": [
        "south_mumbai_venues.loc[south_mumbai_venues['Neighborhood'] == 'Malad', 'Neighborhood Latitude'] = Andheri_latitude\n",
        "south_mumbai_venues.loc[south_mumbai_venues['Neighborhood'] == 'Malad', 'Neighborhood Longitude'] = Andheri_longitude\n",
        "south_mumbai_venues.loc[south_mumbai_venues['Neighborhood'] == 'Malad', 'Neighborhood'] = 'Andheri'\n",
        "south_mumbai_venues.iloc[773:780]\n",
        "\n",
        "print(\"bef:\",south_mumbai_data.shape)\n",
        "south_mumbai_data = south_mumbai_data[south_mumbai_data.Neighborhood != 'Malad']\n",
        "print(\"aft:\",south_mumbai_data.shape)"
      ],
      "execution_count": 49,
      "outputs": [
        {
          "output_type": "stream",
          "text": [
            "bef: (32, 5)\n",
            "aft: (31, 5)\n"
          ],
          "name": "stdout"
        }
      ]
    },
    {
      "cell_type": "markdown",
      "metadata": {
        "id": "T_qi71iOjrKg",
        "colab_type": "text"
      },
      "source": [
        "### **Merge Mahim to Bandra**"
      ]
    },
    {
      "cell_type": "code",
      "metadata": {
        "id": "JXUoIQVUjr9x",
        "colab_type": "code",
        "outputId": "f5cecb58-da6c-4b58-aeeb-c4d0be984ee7",
        "colab": {
          "base_uri": "https://localhost:8080/",
          "height": 130
        }
      },
      "source": [
        "# Get coordinates of Bandra West\n",
        "\n",
        "Bandra = south_mumbai_venues\n",
        "Bandra = Bandra[Bandra.Neighborhood == 'Bandra West' ].head(1)\n",
        "Bandra_latitude = Bandra['Neighborhood Latitude'] \n",
        "Bandra_latitude = Bandra_latitude.iloc[0]\n",
        "Bandra_longitude = Bandra['Neighborhood Longitude'] \n",
        "Bandra_longitude = Bandra_longitude.iloc[0]\n",
        "print(\"Bandra latitude={} and longitude={}\".format(Bandra_latitude,Bandra_longitude))\n",
        "Bandra[Bandra.Neighborhood == 'Bandra West' ].head(1)"
      ],
      "execution_count": 50,
      "outputs": [
        {
          "output_type": "stream",
          "text": [
            "Bandra latitude=19.0583358 and longitude=72.8302669\n"
          ],
          "name": "stdout"
        },
        {
          "output_type": "execute_result",
          "data": {
            "text/html": [
              "<div>\n",
              "<style scoped>\n",
              "    .dataframe tbody tr th:only-of-type {\n",
              "        vertical-align: middle;\n",
              "    }\n",
              "\n",
              "    .dataframe tbody tr th {\n",
              "        vertical-align: top;\n",
              "    }\n",
              "\n",
              "    .dataframe thead th {\n",
              "        text-align: right;\n",
              "    }\n",
              "</style>\n",
              "<table border=\"1\" class=\"dataframe\">\n",
              "  <thead>\n",
              "    <tr style=\"text-align: right;\">\n",
              "      <th></th>\n",
              "      <th>index</th>\n",
              "      <th>Neighborhood</th>\n",
              "      <th>Neighborhood Latitude</th>\n",
              "      <th>Neighborhood Longitude</th>\n",
              "      <th>Venue</th>\n",
              "      <th>Venue Latitude</th>\n",
              "      <th>Venue Longitude</th>\n",
              "      <th>Venue Category</th>\n",
              "    </tr>\n",
              "  </thead>\n",
              "  <tbody>\n",
              "    <tr>\n",
              "      <th>442</th>\n",
              "      <td>627</td>\n",
              "      <td>Bandra West</td>\n",
              "      <td>19.058336</td>\n",
              "      <td>72.830267</td>\n",
              "      <td>Almeida Park</td>\n",
              "      <td>19.057656</td>\n",
              "      <td>72.831541</td>\n",
              "      <td>Park/Garden</td>\n",
              "    </tr>\n",
              "  </tbody>\n",
              "</table>\n",
              "</div>"
            ],
            "text/plain": [
              "     index Neighborhood  ...  Venue Longitude  Venue Category\n",
              "442    627  Bandra West  ...        72.831541     Park/Garden\n",
              "\n",
              "[1 rows x 8 columns]"
            ]
          },
          "metadata": {
            "tags": []
          },
          "execution_count": 50
        }
      ]
    },
    {
      "cell_type": "code",
      "metadata": {
        "id": "Au_U6KL6j_3y",
        "colab_type": "code",
        "outputId": "8925c50c-33b7-404f-eb80-c6b0320f70d4",
        "colab": {
          "base_uri": "https://localhost:8080/",
          "height": 376
        }
      },
      "source": [
        "#south_mumbai_venues.loc[south_mumbai_venues['Neighborhood'] == 'Mahim']\n",
        "south_mumbai_venues.iloc[610:618]"
      ],
      "execution_count": 51,
      "outputs": [
        {
          "output_type": "execute_result",
          "data": {
            "text/html": [
              "<div>\n",
              "<style scoped>\n",
              "    .dataframe tbody tr th:only-of-type {\n",
              "        vertical-align: middle;\n",
              "    }\n",
              "\n",
              "    .dataframe tbody tr th {\n",
              "        vertical-align: top;\n",
              "    }\n",
              "\n",
              "    .dataframe thead th {\n",
              "        text-align: right;\n",
              "    }\n",
              "</style>\n",
              "<table border=\"1\" class=\"dataframe\">\n",
              "  <thead>\n",
              "    <tr style=\"text-align: right;\">\n",
              "      <th></th>\n",
              "      <th>index</th>\n",
              "      <th>Neighborhood</th>\n",
              "      <th>Neighborhood Latitude</th>\n",
              "      <th>Neighborhood Longitude</th>\n",
              "      <th>Venue</th>\n",
              "      <th>Venue Latitude</th>\n",
              "      <th>Venue Longitude</th>\n",
              "      <th>Venue Category</th>\n",
              "    </tr>\n",
              "  </thead>\n",
              "  <tbody>\n",
              "    <tr>\n",
              "      <th>612</th>\n",
              "      <td>818</td>\n",
              "      <td>Kurla</td>\n",
              "      <td>19.065280</td>\n",
              "      <td>72.879380</td>\n",
              "      <td>Tip Top Kebab Corner</td>\n",
              "      <td>19.078340</td>\n",
              "      <td>72.866356</td>\n",
              "      <td>Snack Place</td>\n",
              "    </tr>\n",
              "    <tr>\n",
              "      <th>613</th>\n",
              "      <td>819</td>\n",
              "      <td>Kurla</td>\n",
              "      <td>19.065280</td>\n",
              "      <td>72.879380</td>\n",
              "      <td>Workout World</td>\n",
              "      <td>19.075309</td>\n",
              "      <td>72.865774</td>\n",
              "      <td>Fitness/Gym/Spa</td>\n",
              "    </tr>\n",
              "    <tr>\n",
              "      <th>614</th>\n",
              "      <td>820</td>\n",
              "      <td>Santa Cruz</td>\n",
              "      <td>19.079369</td>\n",
              "      <td>72.847086</td>\n",
              "      <td>Grand Hyatt</td>\n",
              "      <td>19.076832</td>\n",
              "      <td>72.851270</td>\n",
              "      <td>Hotel</td>\n",
              "    </tr>\n",
              "    <tr>\n",
              "      <th>615</th>\n",
              "      <td>821</td>\n",
              "      <td>Santa Cruz</td>\n",
              "      <td>19.079369</td>\n",
              "      <td>72.847086</td>\n",
              "      <td>K 11 Fitness Gym &amp; Academy</td>\n",
              "      <td>19.077994</td>\n",
              "      <td>72.842631</td>\n",
              "      <td>Fitness/Gym/Spa</td>\n",
              "    </tr>\n",
              "    <tr>\n",
              "      <th>616</th>\n",
              "      <td>822</td>\n",
              "      <td>Santa Cruz</td>\n",
              "      <td>19.079369</td>\n",
              "      <td>72.847086</td>\n",
              "      <td>Fifty Five East</td>\n",
              "      <td>19.077174</td>\n",
              "      <td>72.851431</td>\n",
              "      <td>Thai Restaurant</td>\n",
              "    </tr>\n",
              "    <tr>\n",
              "      <th>617</th>\n",
              "      <td>823</td>\n",
              "      <td>Santa Cruz</td>\n",
              "      <td>19.079369</td>\n",
              "      <td>72.847086</td>\n",
              "      <td>Runway</td>\n",
              "      <td>19.083495</td>\n",
              "      <td>72.848124</td>\n",
              "      <td>Outdoors &amp; Recreation</td>\n",
              "    </tr>\n",
              "    <tr>\n",
              "      <th>618</th>\n",
              "      <td>824</td>\n",
              "      <td>Santa Cruz</td>\n",
              "      <td>19.079369</td>\n",
              "      <td>72.847086</td>\n",
              "      <td>Celini</td>\n",
              "      <td>19.076831</td>\n",
              "      <td>72.851734</td>\n",
              "      <td>Italian Restaurant</td>\n",
              "    </tr>\n",
              "    <tr>\n",
              "      <th>619</th>\n",
              "      <td>825</td>\n",
              "      <td>Santa Cruz</td>\n",
              "      <td>19.079369</td>\n",
              "      <td>72.847086</td>\n",
              "      <td>China House</td>\n",
              "      <td>19.077334</td>\n",
              "      <td>72.852018</td>\n",
              "      <td>Chinese Restaurant</td>\n",
              "    </tr>\n",
              "  </tbody>\n",
              "</table>\n",
              "</div>"
            ],
            "text/plain": [
              "     index Neighborhood  ...  Venue Longitude         Venue Category\n",
              "612    818        Kurla  ...        72.866356            Snack Place\n",
              "613    819        Kurla  ...        72.865774        Fitness/Gym/Spa\n",
              "614    820   Santa Cruz  ...        72.851270                  Hotel\n",
              "615    821   Santa Cruz  ...        72.842631        Fitness/Gym/Spa\n",
              "616    822   Santa Cruz  ...        72.851431        Thai Restaurant\n",
              "617    823   Santa Cruz  ...        72.848124  Outdoors & Recreation\n",
              "618    824   Santa Cruz  ...        72.851734     Italian Restaurant\n",
              "619    825   Santa Cruz  ...        72.852018     Chinese Restaurant\n",
              "\n",
              "[8 rows x 8 columns]"
            ]
          },
          "metadata": {
            "tags": []
          },
          "execution_count": 51
        }
      ]
    },
    {
      "cell_type": "code",
      "metadata": {
        "id": "eT4nLXPzkBY3",
        "colab_type": "code",
        "outputId": "ab52f18b-ad87-43ff-c283-9daf7c051801",
        "colab": {
          "base_uri": "https://localhost:8080/",
          "height": 52
        }
      },
      "source": [
        "south_mumbai_venues.loc[south_mumbai_venues['Neighborhood'] == 'Mahim', 'Neighborhood Latitude'] = Bandra_latitude\n",
        "south_mumbai_venues.loc[south_mumbai_venues['Neighborhood'] == 'Mahim', 'Neighborhood Longitude'] = Bandra_longitude\n",
        "south_mumbai_venues.loc[south_mumbai_venues['Neighborhood'] == 'Mahim', 'Neighborhood'] = 'Bandra West'\n",
        "south_mumbai_venues.iloc[610:618]\n",
        "\n",
        "print(\"bef:\",south_mumbai_data.shape)\n",
        "south_mumbai_data = south_mumbai_data[south_mumbai_data.Neighborhood != 'Mahim']\n",
        "print(\"aft:\",south_mumbai_data.shape)"
      ],
      "execution_count": 52,
      "outputs": [
        {
          "output_type": "stream",
          "text": [
            "bef: (31, 5)\n",
            "aft: (30, 5)\n"
          ],
          "name": "stdout"
        }
      ]
    },
    {
      "cell_type": "markdown",
      "metadata": {
        "id": "ONYZm74EmAWl",
        "colab_type": "text"
      },
      "source": [
        "### **Merge Malabar Hill to Walkeshwar**"
      ]
    },
    {
      "cell_type": "code",
      "metadata": {
        "id": "qRwsNOkomC20",
        "colab_type": "code",
        "outputId": "0e1cbc19-c354-4a42-acba-4058de84bec4",
        "colab": {
          "base_uri": "https://localhost:8080/",
          "height": 113
        }
      },
      "source": [
        "# Get coordinates of Bandra West\n",
        "\n",
        "Walkeshwar = south_mumbai_venues\n",
        "Walkeshwar = Walkeshwar[Walkeshwar.Neighborhood == 'Walkeshwar' ].head(1)\n",
        "Walkeshwar_latitude = Walkeshwar['Neighborhood Latitude'] \n",
        "Walkeshwar_latitude = Walkeshwar_latitude.iloc[0]\n",
        "Walkeshwar_longitude = Walkeshwar['Neighborhood Longitude'] \n",
        "Walkeshwar_longitude = Walkeshwar_longitude.iloc[0]\n",
        "print(\"Walkeshwar latitude={} and longitude={}\".format(Walkeshwar_latitude,Walkeshwar_longitude))\n",
        "Walkeshwar[Walkeshwar.Neighborhood == 'Walkeshwar' ].head(1)"
      ],
      "execution_count": 53,
      "outputs": [
        {
          "output_type": "stream",
          "text": [
            "Walkeshwar latitude=18.9553434 and longitude=72.8079469\n"
          ],
          "name": "stdout"
        },
        {
          "output_type": "execute_result",
          "data": {
            "text/html": [
              "<div>\n",
              "<style scoped>\n",
              "    .dataframe tbody tr th:only-of-type {\n",
              "        vertical-align: middle;\n",
              "    }\n",
              "\n",
              "    .dataframe tbody tr th {\n",
              "        vertical-align: top;\n",
              "    }\n",
              "\n",
              "    .dataframe thead th {\n",
              "        text-align: right;\n",
              "    }\n",
              "</style>\n",
              "<table border=\"1\" class=\"dataframe\">\n",
              "  <thead>\n",
              "    <tr style=\"text-align: right;\">\n",
              "      <th></th>\n",
              "      <th>index</th>\n",
              "      <th>Neighborhood</th>\n",
              "      <th>Neighborhood Latitude</th>\n",
              "      <th>Neighborhood Longitude</th>\n",
              "      <th>Venue</th>\n",
              "      <th>Venue Latitude</th>\n",
              "      <th>Venue Longitude</th>\n",
              "      <th>Venue Category</th>\n",
              "    </tr>\n",
              "  </thead>\n",
              "  <tbody>\n",
              "    <tr>\n",
              "      <th>262</th>\n",
              "      <td>328</td>\n",
              "      <td>Walkeshwar</td>\n",
              "      <td>18.955343</td>\n",
              "      <td>72.807947</td>\n",
              "      <td>Starbucks</td>\n",
              "      <td>18.956426</td>\n",
              "      <td>72.812065</td>\n",
              "      <td>Coffee Shop</td>\n",
              "    </tr>\n",
              "  </tbody>\n",
              "</table>\n",
              "</div>"
            ],
            "text/plain": [
              "     index Neighborhood  ...  Venue Longitude  Venue Category\n",
              "262    328   Walkeshwar  ...        72.812065     Coffee Shop\n",
              "\n",
              "[1 rows x 8 columns]"
            ]
          },
          "metadata": {
            "tags": []
          },
          "execution_count": 53
        }
      ]
    },
    {
      "cell_type": "code",
      "metadata": {
        "id": "IDPBYXqkmDFA",
        "colab_type": "code",
        "outputId": "68599c57-0d16-42a4-9dca-327f7bcb4f0c",
        "colab": {
          "base_uri": "https://localhost:8080/",
          "height": 437
        }
      },
      "source": [
        "#south_mumbai_venues.loc[south_mumbai_venues['Neighborhood'] == 'Malabar Hill']\n",
        "south_mumbai_venues.iloc[270:280]"
      ],
      "execution_count": 54,
      "outputs": [
        {
          "output_type": "execute_result",
          "data": {
            "text/html": [
              "<div>\n",
              "<style scoped>\n",
              "    .dataframe tbody tr th:only-of-type {\n",
              "        vertical-align: middle;\n",
              "    }\n",
              "\n",
              "    .dataframe tbody tr th {\n",
              "        vertical-align: top;\n",
              "    }\n",
              "\n",
              "    .dataframe thead th {\n",
              "        text-align: right;\n",
              "    }\n",
              "</style>\n",
              "<table border=\"1\" class=\"dataframe\">\n",
              "  <thead>\n",
              "    <tr style=\"text-align: right;\">\n",
              "      <th></th>\n",
              "      <th>index</th>\n",
              "      <th>Neighborhood</th>\n",
              "      <th>Neighborhood Latitude</th>\n",
              "      <th>Neighborhood Longitude</th>\n",
              "      <th>Venue</th>\n",
              "      <th>Venue Latitude</th>\n",
              "      <th>Venue Longitude</th>\n",
              "      <th>Venue Category</th>\n",
              "    </tr>\n",
              "  </thead>\n",
              "  <tbody>\n",
              "    <tr>\n",
              "      <th>270</th>\n",
              "      <td>340</td>\n",
              "      <td>Walkeshwar</td>\n",
              "      <td>18.955343</td>\n",
              "      <td>72.807947</td>\n",
              "      <td>Mani Bhavan Gandhi Sangrahalaya (Gandhi Museum)</td>\n",
              "      <td>18.959689</td>\n",
              "      <td>72.811475</td>\n",
              "      <td>History Museum</td>\n",
              "    </tr>\n",
              "    <tr>\n",
              "      <th>271</th>\n",
              "      <td>341</td>\n",
              "      <td>Walkeshwar</td>\n",
              "      <td>18.955343</td>\n",
              "      <td>72.807947</td>\n",
              "      <td>Café New York</td>\n",
              "      <td>18.958108</td>\n",
              "      <td>72.811000</td>\n",
              "      <td>Bar/Pub</td>\n",
              "    </tr>\n",
              "    <tr>\n",
              "      <th>272</th>\n",
              "      <td>342</td>\n",
              "      <td>Walkeshwar</td>\n",
              "      <td>18.955343</td>\n",
              "      <td>72.807947</td>\n",
              "      <td>Kobe Sizzlers</td>\n",
              "      <td>18.956605</td>\n",
              "      <td>72.813465</td>\n",
              "      <td>Steakhouse</td>\n",
              "    </tr>\n",
              "    <tr>\n",
              "      <th>273</th>\n",
              "      <td>343</td>\n",
              "      <td>Walkeshwar</td>\n",
              "      <td>18.955343</td>\n",
              "      <td>72.807947</td>\n",
              "      <td>B:Blunt</td>\n",
              "      <td>18.960410</td>\n",
              "      <td>72.809329</td>\n",
              "      <td>Salon / Barbershop</td>\n",
              "    </tr>\n",
              "    <tr>\n",
              "      <th>274</th>\n",
              "      <td>344</td>\n",
              "      <td>Walkeshwar</td>\n",
              "      <td>18.955343</td>\n",
              "      <td>72.807947</td>\n",
              "      <td>Prakash Paan Wala</td>\n",
              "      <td>18.957074</td>\n",
              "      <td>72.810428</td>\n",
              "      <td>Restaurant</td>\n",
              "    </tr>\n",
              "    <tr>\n",
              "      <th>275</th>\n",
              "      <td>345</td>\n",
              "      <td>Walkeshwar</td>\n",
              "      <td>18.955343</td>\n",
              "      <td>72.807947</td>\n",
              "      <td>Sukh Sagar Hotel</td>\n",
              "      <td>18.955876</td>\n",
              "      <td>72.813131</td>\n",
              "      <td>Fast Food Restaurant</td>\n",
              "    </tr>\n",
              "    <tr>\n",
              "      <th>276</th>\n",
              "      <td>346</td>\n",
              "      <td>Walkeshwar</td>\n",
              "      <td>18.955343</td>\n",
              "      <td>72.807947</td>\n",
              "      <td>Mama Mia!</td>\n",
              "      <td>18.957481</td>\n",
              "      <td>72.813120</td>\n",
              "      <td>Breakfast Spot</td>\n",
              "    </tr>\n",
              "    <tr>\n",
              "      <th>277</th>\n",
              "      <td>348</td>\n",
              "      <td>Walkeshwar</td>\n",
              "      <td>18.955343</td>\n",
              "      <td>72.807947</td>\n",
              "      <td>Cannon Pav Bhaji</td>\n",
              "      <td>18.952804</td>\n",
              "      <td>72.805073</td>\n",
              "      <td>Food Truck</td>\n",
              "    </tr>\n",
              "    <tr>\n",
              "      <th>278</th>\n",
              "      <td>349</td>\n",
              "      <td>Walkeshwar</td>\n",
              "      <td>18.955343</td>\n",
              "      <td>72.807947</td>\n",
              "      <td>S &amp; F Spices and Flavours</td>\n",
              "      <td>18.955164</td>\n",
              "      <td>72.807614</td>\n",
              "      <td>Food &amp; Drink Shop</td>\n",
              "    </tr>\n",
              "    <tr>\n",
              "      <th>279</th>\n",
              "      <td>350</td>\n",
              "      <td>Walkeshwar</td>\n",
              "      <td>18.955343</td>\n",
              "      <td>72.807947</td>\n",
              "      <td>Bharatiya Vidya Bhavan</td>\n",
              "      <td>18.957283</td>\n",
              "      <td>72.810485</td>\n",
              "      <td>Theater\\Multiplex</td>\n",
              "    </tr>\n",
              "  </tbody>\n",
              "</table>\n",
              "</div>"
            ],
            "text/plain": [
              "     index Neighborhood  ...  Venue Longitude        Venue Category\n",
              "270    340   Walkeshwar  ...        72.811475        History Museum\n",
              "271    341   Walkeshwar  ...        72.811000               Bar/Pub\n",
              "272    342   Walkeshwar  ...        72.813465            Steakhouse\n",
              "273    343   Walkeshwar  ...        72.809329    Salon / Barbershop\n",
              "274    344   Walkeshwar  ...        72.810428            Restaurant\n",
              "275    345   Walkeshwar  ...        72.813131  Fast Food Restaurant\n",
              "276    346   Walkeshwar  ...        72.813120        Breakfast Spot\n",
              "277    348   Walkeshwar  ...        72.805073            Food Truck\n",
              "278    349   Walkeshwar  ...        72.807614     Food & Drink Shop\n",
              "279    350   Walkeshwar  ...        72.810485     Theater\\Multiplex\n",
              "\n",
              "[10 rows x 8 columns]"
            ]
          },
          "metadata": {
            "tags": []
          },
          "execution_count": 54
        }
      ]
    },
    {
      "cell_type": "code",
      "metadata": {
        "id": "TR4_A28FmDTw",
        "colab_type": "code",
        "outputId": "cb1c5e9e-1475-461d-82f5-4515d8bc116d",
        "colab": {
          "base_uri": "https://localhost:8080/",
          "height": 52
        }
      },
      "source": [
        "south_mumbai_venues.loc[south_mumbai_venues['Neighborhood'] == 'Malabar Hill', 'Neighborhood Latitude'] = Walkeshwar_latitude\n",
        "south_mumbai_venues.loc[south_mumbai_venues['Neighborhood'] == 'Malabar Hill', 'Neighborhood Longitude'] = Walkeshwar_longitude\n",
        "south_mumbai_venues.loc[south_mumbai_venues['Neighborhood'] == 'Malabar Hill', 'Neighborhood'] = 'Walkeshwar'\n",
        "south_mumbai_venues.iloc[270:280]\n",
        "\n",
        "print(\"bef:\",south_mumbai_data.shape)\n",
        "south_mumbai_data = south_mumbai_data[south_mumbai_data.Neighborhood != 'Malabar Hill']\n",
        "print(\"aft:\",south_mumbai_data.shape)"
      ],
      "execution_count": 55,
      "outputs": [
        {
          "output_type": "stream",
          "text": [
            "bef: (30, 5)\n",
            "aft: (29, 5)\n"
          ],
          "name": "stdout"
        }
      ]
    },
    {
      "cell_type": "markdown",
      "metadata": {
        "id": "emOVCxBCuEp-",
        "colab_type": "text"
      },
      "source": [
        "#### **Remove Redundant Data**"
      ]
    },
    {
      "cell_type": "code",
      "metadata": {
        "id": "xzbMYSJZCS7Z",
        "colab_type": "code",
        "colab": {
          "base_uri": "https://localhost:8080/",
          "height": 263
        },
        "outputId": "4fe00a1b-f7b7-4f83-e696-80b7de056046"
      },
      "source": [
        "south_mumbai_venues_worli = south_mumbai_venues[south_mumbai_venues['Neighborhood'] == 'Worli']\n",
        "south_mumbai_venues_worli = south_mumbai_venues_worli[south_mumbai_venues['Venue Category'] == 'Scenic Lookout']\n",
        "                                      \n",
        "south_mumbai_venues_worli.head()"
      ],
      "execution_count": 56,
      "outputs": [
        {
          "output_type": "stream",
          "text": [
            "/usr/local/lib/python3.6/dist-packages/ipykernel_launcher.py:2: UserWarning: Boolean Series key will be reindexed to match DataFrame index.\n",
            "  \n"
          ],
          "name": "stderr"
        },
        {
          "output_type": "execute_result",
          "data": {
            "text/html": [
              "<div>\n",
              "<style scoped>\n",
              "    .dataframe tbody tr th:only-of-type {\n",
              "        vertical-align: middle;\n",
              "    }\n",
              "\n",
              "    .dataframe tbody tr th {\n",
              "        vertical-align: top;\n",
              "    }\n",
              "\n",
              "    .dataframe thead th {\n",
              "        text-align: right;\n",
              "    }\n",
              "</style>\n",
              "<table border=\"1\" class=\"dataframe\">\n",
              "  <thead>\n",
              "    <tr style=\"text-align: right;\">\n",
              "      <th></th>\n",
              "      <th>index</th>\n",
              "      <th>Neighborhood</th>\n",
              "      <th>Neighborhood Latitude</th>\n",
              "      <th>Neighborhood Longitude</th>\n",
              "      <th>Venue</th>\n",
              "      <th>Venue Latitude</th>\n",
              "      <th>Venue Longitude</th>\n",
              "      <th>Venue Category</th>\n",
              "    </tr>\n",
              "  </thead>\n",
              "  <tbody>\n",
              "    <tr>\n",
              "      <th>400</th>\n",
              "      <td>573</td>\n",
              "      <td>Worli</td>\n",
              "      <td>19.011696</td>\n",
              "      <td>72.81807</td>\n",
              "      <td>Worli Sea Face</td>\n",
              "      <td>19.009216</td>\n",
              "      <td>72.815022</td>\n",
              "      <td>Scenic Lookout</td>\n",
              "    </tr>\n",
              "    <tr>\n",
              "      <th>403</th>\n",
              "      <td>576</td>\n",
              "      <td>Worli</td>\n",
              "      <td>19.011696</td>\n",
              "      <td>72.81807</td>\n",
              "      <td>Worli Drive</td>\n",
              "      <td>19.012063</td>\n",
              "      <td>72.815610</td>\n",
              "      <td>Scenic Lookout</td>\n",
              "    </tr>\n",
              "    <tr>\n",
              "      <th>413</th>\n",
              "      <td>587</td>\n",
              "      <td>Worli</td>\n",
              "      <td>19.011696</td>\n",
              "      <td>72.81807</td>\n",
              "      <td>Century Bazaar, Worli</td>\n",
              "      <td>19.012736</td>\n",
              "      <td>72.823949</td>\n",
              "      <td>Scenic Lookout</td>\n",
              "    </tr>\n",
              "  </tbody>\n",
              "</table>\n",
              "</div>"
            ],
            "text/plain": [
              "     index Neighborhood  ...  Venue Longitude  Venue Category\n",
              "400    573        Worli  ...        72.815022  Scenic Lookout\n",
              "403    576        Worli  ...        72.815610  Scenic Lookout\n",
              "413    587        Worli  ...        72.823949  Scenic Lookout\n",
              "\n",
              "[3 rows x 8 columns]"
            ]
          },
          "metadata": {
            "tags": []
          },
          "execution_count": 56
        }
      ]
    },
    {
      "cell_type": "code",
      "metadata": {
        "id": "aHHS5G1MuN4e",
        "colab_type": "code",
        "outputId": "376ea99d-bfc4-4d04-fbeb-fc2920e7a83e",
        "colab": {
          "base_uri": "https://localhost:8080/",
          "height": 594
        }
      },
      "source": [
        "south_mumbai_venues.loc[south_mumbai_venues['Neighborhood'] == 'Worli']\n",
        "\n",
        "test_df = south_mumbai_venues\n",
        "venue_list = ['Worli Drive','Century Bazaar, Worli','Sea Corner']\n",
        "print(\"bef:\",test_df.shape)\n",
        "test_df = test_df[test_df['Venue'].isin(venue_list) == False]\n",
        "print(\"aft:\",test_df.shape)\n",
        "south_mumbai_venues = test_df\n",
        "south_mumbai_venues.loc[south_mumbai_venues['Neighborhood'] == 'Worli']\n",
        "\n"
      ],
      "execution_count": 57,
      "outputs": [
        {
          "output_type": "stream",
          "text": [
            "bef: (866, 8)\n",
            "aft: (864, 8)\n"
          ],
          "name": "stdout"
        },
        {
          "output_type": "execute_result",
          "data": {
            "text/html": [
              "<div>\n",
              "<style scoped>\n",
              "    .dataframe tbody tr th:only-of-type {\n",
              "        vertical-align: middle;\n",
              "    }\n",
              "\n",
              "    .dataframe tbody tr th {\n",
              "        vertical-align: top;\n",
              "    }\n",
              "\n",
              "    .dataframe thead th {\n",
              "        text-align: right;\n",
              "    }\n",
              "</style>\n",
              "<table border=\"1\" class=\"dataframe\">\n",
              "  <thead>\n",
              "    <tr style=\"text-align: right;\">\n",
              "      <th></th>\n",
              "      <th>index</th>\n",
              "      <th>Neighborhood</th>\n",
              "      <th>Neighborhood Latitude</th>\n",
              "      <th>Neighborhood Longitude</th>\n",
              "      <th>Venue</th>\n",
              "      <th>Venue Latitude</th>\n",
              "      <th>Venue Longitude</th>\n",
              "      <th>Venue Category</th>\n",
              "    </tr>\n",
              "  </thead>\n",
              "  <tbody>\n",
              "    <tr>\n",
              "      <th>400</th>\n",
              "      <td>573</td>\n",
              "      <td>Worli</td>\n",
              "      <td>19.011696</td>\n",
              "      <td>72.81807</td>\n",
              "      <td>Worli Sea Face</td>\n",
              "      <td>19.009216</td>\n",
              "      <td>72.815022</td>\n",
              "      <td>Scenic Lookout</td>\n",
              "    </tr>\n",
              "    <tr>\n",
              "      <th>401</th>\n",
              "      <td>574</td>\n",
              "      <td>Worli</td>\n",
              "      <td>19.011696</td>\n",
              "      <td>72.81807</td>\n",
              "      <td>Slink &amp; Bardot</td>\n",
              "      <td>19.017170</td>\n",
              "      <td>72.817532</td>\n",
              "      <td>French Restaurant</td>\n",
              "    </tr>\n",
              "    <tr>\n",
              "      <th>402</th>\n",
              "      <td>575</td>\n",
              "      <td>Worli</td>\n",
              "      <td>19.011696</td>\n",
              "      <td>72.81807</td>\n",
              "      <td>Starbucks Coffee: A Tata Alliance</td>\n",
              "      <td>19.012851</td>\n",
              "      <td>72.823886</td>\n",
              "      <td>Coffee Shop</td>\n",
              "    </tr>\n",
              "    <tr>\n",
              "      <th>404</th>\n",
              "      <td>577</td>\n",
              "      <td>Worli</td>\n",
              "      <td>19.011696</td>\n",
              "      <td>72.81807</td>\n",
              "      <td>Cafe Nemo</td>\n",
              "      <td>19.017172</td>\n",
              "      <td>72.817548</td>\n",
              "      <td>Café</td>\n",
              "    </tr>\n",
              "    <tr>\n",
              "      <th>405</th>\n",
              "      <td>578</td>\n",
              "      <td>Worli</td>\n",
              "      <td>19.011696</td>\n",
              "      <td>72.81807</td>\n",
              "      <td>Cool Chef Café</td>\n",
              "      <td>19.017002</td>\n",
              "      <td>72.817544</td>\n",
              "      <td>Café</td>\n",
              "    </tr>\n",
              "    <tr>\n",
              "      <th>406</th>\n",
              "      <td>579</td>\n",
              "      <td>Worli</td>\n",
              "      <td>19.011696</td>\n",
              "      <td>72.81807</td>\n",
              "      <td>Indiabulls.parel.</td>\n",
              "      <td>19.011488</td>\n",
              "      <td>72.820471</td>\n",
              "      <td>Paper / Office Supplies Store</td>\n",
              "    </tr>\n",
              "    <tr>\n",
              "      <th>407</th>\n",
              "      <td>580</td>\n",
              "      <td>Worli</td>\n",
              "      <td>19.011696</td>\n",
              "      <td>72.81807</td>\n",
              "      <td>Google India Ltd</td>\n",
              "      <td>19.011501</td>\n",
              "      <td>72.820469</td>\n",
              "      <td>Fitness/Gym/Spa</td>\n",
              "    </tr>\n",
              "    <tr>\n",
              "      <th>408</th>\n",
              "      <td>581</td>\n",
              "      <td>Worli</td>\n",
              "      <td>19.011696</td>\n",
              "      <td>72.81807</td>\n",
              "      <td>National sports club of India</td>\n",
              "      <td>19.014701</td>\n",
              "      <td>72.817081</td>\n",
              "      <td>Sports Club</td>\n",
              "    </tr>\n",
              "    <tr>\n",
              "      <th>409</th>\n",
              "      <td>583</td>\n",
              "      <td>Worli</td>\n",
              "      <td>19.011696</td>\n",
              "      <td>72.81807</td>\n",
              "      <td>Sandwich Guy</td>\n",
              "      <td>19.011256</td>\n",
              "      <td>72.821646</td>\n",
              "      <td>Sandwich Place</td>\n",
              "    </tr>\n",
              "    <tr>\n",
              "      <th>410</th>\n",
              "      <td>584</td>\n",
              "      <td>Worli</td>\n",
              "      <td>19.011696</td>\n",
              "      <td>72.81807</td>\n",
              "      <td>Juice Joint</td>\n",
              "      <td>19.010453</td>\n",
              "      <td>72.821536</td>\n",
              "      <td>Juice Bar</td>\n",
              "    </tr>\n",
              "    <tr>\n",
              "      <th>411</th>\n",
              "      <td>585</td>\n",
              "      <td>Worli</td>\n",
              "      <td>19.011696</td>\n",
              "      <td>72.81807</td>\n",
              "      <td>SaffronArt</td>\n",
              "      <td>19.005868</td>\n",
              "      <td>72.817704</td>\n",
              "      <td>Art Gallery</td>\n",
              "    </tr>\n",
              "    <tr>\n",
              "      <th>412</th>\n",
              "      <td>586</td>\n",
              "      <td>Worli</td>\n",
              "      <td>19.011696</td>\n",
              "      <td>72.81807</td>\n",
              "      <td>Worli Sports Club</td>\n",
              "      <td>19.015098</td>\n",
              "      <td>72.821836</td>\n",
              "      <td>Sports</td>\n",
              "    </tr>\n",
              "    <tr>\n",
              "      <th>414</th>\n",
              "      <td>588</td>\n",
              "      <td>Worli</td>\n",
              "      <td>19.011696</td>\n",
              "      <td>72.81807</td>\n",
              "      <td>Worli Sea Face Kebab rolls</td>\n",
              "      <td>19.007430</td>\n",
              "      <td>72.814346</td>\n",
              "      <td>Arcade</td>\n",
              "    </tr>\n",
              "    <tr>\n",
              "      <th>415</th>\n",
              "      <td>589</td>\n",
              "      <td>Worli</td>\n",
              "      <td>19.011696</td>\n",
              "      <td>72.81807</td>\n",
              "      <td>Godrej Nature's Basket</td>\n",
              "      <td>19.012846</td>\n",
              "      <td>72.823869</td>\n",
              "      <td>Gourmet Shop</td>\n",
              "    </tr>\n",
              "  </tbody>\n",
              "</table>\n",
              "</div>"
            ],
            "text/plain": [
              "     index Neighborhood  ...  Venue Longitude                 Venue Category\n",
              "400    573        Worli  ...        72.815022                 Scenic Lookout\n",
              "401    574        Worli  ...        72.817532              French Restaurant\n",
              "402    575        Worli  ...        72.823886                    Coffee Shop\n",
              "404    577        Worli  ...        72.817548                           Café\n",
              "405    578        Worli  ...        72.817544                           Café\n",
              "406    579        Worli  ...        72.820471  Paper / Office Supplies Store\n",
              "407    580        Worli  ...        72.820469                Fitness/Gym/Spa\n",
              "408    581        Worli  ...        72.817081                    Sports Club\n",
              "409    583        Worli  ...        72.821646                 Sandwich Place\n",
              "410    584        Worli  ...        72.821536                      Juice Bar\n",
              "411    585        Worli  ...        72.817704                    Art Gallery\n",
              "412    586        Worli  ...        72.821836                         Sports\n",
              "414    588        Worli  ...        72.814346                         Arcade\n",
              "415    589        Worli  ...        72.823869                   Gourmet Shop\n",
              "\n",
              "[14 rows x 8 columns]"
            ]
          },
          "metadata": {
            "tags": []
          },
          "execution_count": 57
        }
      ]
    },
    {
      "cell_type": "markdown",
      "metadata": {
        "id": "WozQlDptl1he",
        "colab_type": "text"
      },
      "source": [
        "# **Merging of Categories shift here.**"
      ]
    },
    {
      "cell_type": "markdown",
      "metadata": {
        "colab_type": "text",
        "id": "Qrn8DtB-mafs"
      },
      "source": [
        "#### **Unique Categories**"
      ]
    },
    {
      "cell_type": "markdown",
      "metadata": {
        "colab_type": "text",
        "id": "9TX2-SlemdV3"
      },
      "source": [
        "Check how many unique categories we are dealing with."
      ]
    },
    {
      "cell_type": "code",
      "metadata": {
        "colab_type": "code",
        "outputId": "e2ec78ed-fdd0-4c23-f873-fd9ed8e2b6f5",
        "id": "CcP31UIamfhy",
        "colab": {
          "base_uri": "https://localhost:8080/",
          "height": 35
        }
      },
      "source": [
        "print('There are {} uniques categories.'.format(len(south_mumbai_venues['Venue Category'].unique())))\n"
      ],
      "execution_count": 0,
      "outputs": [
        {
          "output_type": "stream",
          "text": [
            "There are 158 uniques categories.\n"
          ],
          "name": "stdout"
        }
      ]
    },
    {
      "cell_type": "markdown",
      "metadata": {
        "colab_type": "text",
        "id": "mWjwGuXxmlfA"
      },
      "source": [
        "### **Clubbing Similar Categories**"
      ]
    },
    {
      "cell_type": "markdown",
      "metadata": {
        "colab_type": "text",
        "id": "2thA_LP_m1tP"
      },
      "source": [
        "#### Some categories were found be similar and can be clubbed together for example garden and parks can be clubbed together to gardens/parks etc."
      ]
    },
    {
      "cell_type": "code",
      "metadata": {
        "colab_type": "code",
        "outputId": "58c1f415-bf91-4574-faa7-375344acd9e5",
        "id": "bpM_McaZmxma",
        "colab": {
          "base_uri": "https://localhost:8080/",
          "height": 144
        }
      },
      "source": [
        "south_mumbai_venues.replace(to_replace =['Movie Theater'],value = 'Theater\\Multiplex', inplace=True)\n",
        "south_mumbai_venues.replace(to_replace =['Theater'],value = 'Theater\\Multiplex' , inplace=True)\n",
        "south_mumbai_venues.replace(to_replace =['Multiplex'],value = 'Theater\\Multiplex' , inplace=True)\n",
        "south_mumbai_venues.replace(to_replace =['Amphitheater'],value = 'Theater\\Multiplex' , inplace=True)\n",
        "south_mumbai_venues.replace(to_replace =['Indie Movie Theater'],value = 'Theater\\Multiplex' , inplace=True)\n",
        "south_mumbai_venues.replace(to_replace =['Performing Arts Venue'],value = 'Theater\\Multiplex' , inplace=True)\n",
        "\n",
        "south_mumbai_venues.replace(to_replace =['Garden','Park'],value = 'Park/Garden', inplace=True)\n",
        "\n",
        "south_mumbai_venues.replace(to_replace =['Pub'],value = 'Bar/Pub', inplace=True )\n",
        "south_mumbai_venues.replace(to_replace =['Gastropub'],value = 'Bar/Pub', inplace=True)\n",
        "south_mumbai_venues.replace(to_replace =['Bar'],value = 'Bar/Pub', inplace=True)\n",
        "south_mumbai_venues.replace(to_replace =['Cocktail Bar'],value = 'Bar/Pub', inplace=True)\n",
        "south_mumbai_venues.replace(to_replace =['Wine Bar'],value = 'Bar/Pub', inplace=True)\n",
        "south_mumbai_venues.replace(to_replace =['Hotel Bar'],value = 'Bar/Pub', inplace=True)\n",
        "south_mumbai_venues.replace(to_replace =['Sports Bar'],value = 'Bar/Pub', inplace=True)\n",
        "\n",
        "south_mumbai_venues.replace(to_replace =['Train Station' \\\n",
        "                                         ,'Bus Station'\n",
        "                                         ,'Metro Station'\n",
        "                                         ,'Train'\n",
        "],value = 'Train/Metro/Bus', inplace=True )\n",
        "\n",
        "south_mumbai_venues.replace(to_replace =['Spa' \\\n",
        "                                         ,'Gym'\n",
        "                                         ,'Gym / Fitness Center'\n",
        "                                         ,'Yoga Studio'\n",
        "                                         ,'Track'\n",
        "                                         ,'Massage Studio'\n",
        "],value = 'Fitness/Gym/Spa', inplace=True )\n",
        "\n",
        "south_mumbai_venues.replace(to_replace =['Tennis Court' \\\n",
        "                                         ,'Athletics & Sports'\n",
        "                                         ,'Cricket Ground'\n",
        "                                         ,'Hockey Arena'\n",
        "                                         ,'Field'\n",
        "                                         ,'Stadium'\n",
        "                                         ,'Soccer Field'\n",
        "                                         ,'Playground'\n",
        "],value = 'Sports', inplace=True )\n",
        "\n",
        "south_mumbai_venues.shape"
      ],
      "execution_count": 0,
      "outputs": [
        {
          "output_type": "stream",
          "text": [
            "/usr/local/lib/python3.6/dist-packages/pandas/core/frame.py:4172: SettingWithCopyWarning: \n",
            "A value is trying to be set on a copy of a slice from a DataFrame\n",
            "\n",
            "See the caveats in the documentation: https://pandas.pydata.org/pandas-docs/stable/user_guide/indexing.html#returning-a-view-versus-a-copy\n",
            "  method=method,\n"
          ],
          "name": "stderr"
        },
        {
          "output_type": "execute_result",
          "data": {
            "text/plain": [
              "(866, 8)"
            ]
          },
          "metadata": {
            "tags": []
          },
          "execution_count": 30
        }
      ]
    },
    {
      "cell_type": "markdown",
      "metadata": {
        "id": "5KzEQYVWLZTv",
        "colab_type": "text"
      },
      "source": [
        "### **Correction of some categories**"
      ]
    },
    {
      "cell_type": "code",
      "metadata": {
        "id": "tOADRfcH4L8T",
        "colab_type": "code",
        "outputId": "97ea9b47-d33c-4256-9eb4-c5aea42894d5",
        "colab": {
          "base_uri": "https://localhost:8080/",
          "height": 490
        }
      },
      "source": [
        "#df1.loc[df1['stream'] == 2, 'feat'] = 10\n",
        "\n",
        "test_df = south_mumbai_venues\n",
        "\n",
        "test_df.loc[test_df['Venue'] == 'Boat ride, gateway of india', 'Venue Category'] = 'Boat ride'\n",
        "\n",
        "test_df.iloc[70:72]\n",
        "#south_mumbai_venues = test_df\n",
        "\n",
        "# Dropped Harbor / Marina from Masjid Bandar\n",
        "test_df = south_mumbai_venues\n",
        "venue_cat_list = ['Harbor / Marina']\n",
        "print(\"bef:\",test_df.shape)\n",
        "test_df = test_df[test_df['Venue Category'].isin(venue_cat_list) == False]\n",
        "print(\"aft:\",test_df.shape)\n",
        "\n",
        "south_mumbai_venues = test_df\n",
        "south_mumbai_venues.loc[south_mumbai_venues['Neighborhood'] == 'Masjid Bandar']\n",
        "\n"
      ],
      "execution_count": 58,
      "outputs": [
        {
          "output_type": "stream",
          "text": [
            "bef: (864, 8)\n",
            "aft: (859, 8)\n"
          ],
          "name": "stdout"
        },
        {
          "output_type": "execute_result",
          "data": {
            "text/html": [
              "<div>\n",
              "<style scoped>\n",
              "    .dataframe tbody tr th:only-of-type {\n",
              "        vertical-align: middle;\n",
              "    }\n",
              "\n",
              "    .dataframe tbody tr th {\n",
              "        vertical-align: top;\n",
              "    }\n",
              "\n",
              "    .dataframe thead th {\n",
              "        text-align: right;\n",
              "    }\n",
              "</style>\n",
              "<table border=\"1\" class=\"dataframe\">\n",
              "  <thead>\n",
              "    <tr style=\"text-align: right;\">\n",
              "      <th></th>\n",
              "      <th>index</th>\n",
              "      <th>Neighborhood</th>\n",
              "      <th>Neighborhood Latitude</th>\n",
              "      <th>Neighborhood Longitude</th>\n",
              "      <th>Venue</th>\n",
              "      <th>Venue Latitude</th>\n",
              "      <th>Venue Longitude</th>\n",
              "      <th>Venue Category</th>\n",
              "    </tr>\n",
              "  </thead>\n",
              "  <tbody>\n",
              "    <tr>\n",
              "      <th>310</th>\n",
              "      <td>412</td>\n",
              "      <td>Masjid Bandar</td>\n",
              "      <td>18.953599</td>\n",
              "      <td>72.838126</td>\n",
              "      <td>Patel Restaurant</td>\n",
              "      <td>18.949798</td>\n",
              "      <td>72.834655</td>\n",
              "      <td>Restaurant</td>\n",
              "    </tr>\n",
              "    <tr>\n",
              "      <th>311</th>\n",
              "      <td>414</td>\n",
              "      <td>Masjid Bandar</td>\n",
              "      <td>18.953599</td>\n",
              "      <td>72.838126</td>\n",
              "      <td>Chinese-n-Grill</td>\n",
              "      <td>18.954864</td>\n",
              "      <td>72.833804</td>\n",
              "      <td>Chinese Restaurant</td>\n",
              "    </tr>\n",
              "    <tr>\n",
              "      <th>312</th>\n",
              "      <td>415</td>\n",
              "      <td>Masjid Bandar</td>\n",
              "      <td>18.953599</td>\n",
              "      <td>72.838126</td>\n",
              "      <td>Elphinestone Hotel</td>\n",
              "      <td>18.948737</td>\n",
              "      <td>72.840571</td>\n",
              "      <td>Hotel</td>\n",
              "    </tr>\n",
              "    <tr>\n",
              "      <th>313</th>\n",
              "      <td>418</td>\n",
              "      <td>Masjid Bandar</td>\n",
              "      <td>18.953599</td>\n",
              "      <td>72.838126</td>\n",
              "      <td>Masjid Bunder Market</td>\n",
              "      <td>18.953300</td>\n",
              "      <td>72.837081</td>\n",
              "      <td>Convenience Store</td>\n",
              "    </tr>\n",
              "    <tr>\n",
              "      <th>314</th>\n",
              "      <td>419</td>\n",
              "      <td>Masjid Bandar</td>\n",
              "      <td>18.953599</td>\n",
              "      <td>72.838126</td>\n",
              "      <td>Jeetu Sandwich</td>\n",
              "      <td>18.956031</td>\n",
              "      <td>72.837381</td>\n",
              "      <td>Sandwich Place</td>\n",
              "    </tr>\n",
              "    <tr>\n",
              "      <th>315</th>\n",
              "      <td>420</td>\n",
              "      <td>Masjid Bandar</td>\n",
              "      <td>18.953599</td>\n",
              "      <td>72.838126</td>\n",
              "      <td>Abu Baba</td>\n",
              "      <td>18.955005</td>\n",
              "      <td>72.834744</td>\n",
              "      <td>Smoke Shop</td>\n",
              "    </tr>\n",
              "    <tr>\n",
              "      <th>317</th>\n",
              "      <td>423</td>\n",
              "      <td>Masjid Bandar</td>\n",
              "      <td>18.953599</td>\n",
              "      <td>72.838126</td>\n",
              "      <td>Le Mill</td>\n",
              "      <td>18.957379</td>\n",
              "      <td>72.840742</td>\n",
              "      <td>Furniture / Home Store</td>\n",
              "    </tr>\n",
              "    <tr>\n",
              "      <th>318</th>\n",
              "      <td>425</td>\n",
              "      <td>Masjid Bandar</td>\n",
              "      <td>18.953599</td>\n",
              "      <td>72.838126</td>\n",
              "      <td>Green Fields Restaurant</td>\n",
              "      <td>18.957929</td>\n",
              "      <td>72.835892</td>\n",
              "      <td>Smoke Shop</td>\n",
              "    </tr>\n",
              "    <tr>\n",
              "      <th>319</th>\n",
              "      <td>426</td>\n",
              "      <td>Masjid Bandar</td>\n",
              "      <td>18.953599</td>\n",
              "      <td>72.838126</td>\n",
              "      <td>Simla</td>\n",
              "      <td>18.957929</td>\n",
              "      <td>72.835817</td>\n",
              "      <td>Café</td>\n",
              "    </tr>\n",
              "    <tr>\n",
              "      <th>321</th>\n",
              "      <td>428</td>\n",
              "      <td>Masjid Bandar</td>\n",
              "      <td>18.953599</td>\n",
              "      <td>72.838126</td>\n",
              "      <td>Musafir Khana</td>\n",
              "      <td>18.948624</td>\n",
              "      <td>72.840431</td>\n",
              "      <td>Convenience Store</td>\n",
              "    </tr>\n",
              "  </tbody>\n",
              "</table>\n",
              "</div>"
            ],
            "text/plain": [
              "     index   Neighborhood  ...  Venue Longitude          Venue Category\n",
              "310    412  Masjid Bandar  ...        72.834655              Restaurant\n",
              "311    414  Masjid Bandar  ...        72.833804      Chinese Restaurant\n",
              "312    415  Masjid Bandar  ...        72.840571                   Hotel\n",
              "313    418  Masjid Bandar  ...        72.837081       Convenience Store\n",
              "314    419  Masjid Bandar  ...        72.837381          Sandwich Place\n",
              "315    420  Masjid Bandar  ...        72.834744              Smoke Shop\n",
              "317    423  Masjid Bandar  ...        72.840742  Furniture / Home Store\n",
              "318    425  Masjid Bandar  ...        72.835892              Smoke Shop\n",
              "319    426  Masjid Bandar  ...        72.835817                    Café\n",
              "321    428  Masjid Bandar  ...        72.840431       Convenience Store\n",
              "\n",
              "[10 rows x 8 columns]"
            ]
          },
          "metadata": {
            "tags": []
          },
          "execution_count": 58
        }
      ]
    },
    {
      "cell_type": "markdown",
      "metadata": {
        "id": "_D0CctqizzMd",
        "colab_type": "text"
      },
      "source": [
        "Remove certain categories which are large in number and relatively insignificant.\n"
      ]
    },
    {
      "cell_type": "code",
      "metadata": {
        "id": "HoGHTZ6d6DcO",
        "colab_type": "code",
        "outputId": "0e78053d-511a-4a70-ea43-d124f5a4d98b",
        "colab": {
          "base_uri": "https://localhost:8080/",
          "height": 35
        }
      },
      "source": [
        "venue_category = ['Indian Restaurant','Bar/Pub','Coffee Shop','Restaurant','Fast Food Restaurant','Train/Metro/Bus','Café']\n",
        "test_df = south_mumbai_venues\n",
        "test_df = test_df[test_df['Venue Category'].isin(venue_category) == False]\n",
        "test_df.shape\n",
        "south_mumbai_venues = test_df\n",
        "south_mumbai_venues.shape"
      ],
      "execution_count": 59,
      "outputs": [
        {
          "output_type": "execute_result",
          "data": {
            "text/plain": [
              "(619, 8)"
            ]
          },
          "metadata": {
            "tags": []
          },
          "execution_count": 59
        }
      ]
    },
    {
      "cell_type": "code",
      "metadata": {
        "id": "xXzyLKNY6GSr",
        "colab_type": "code",
        "colab": {}
      },
      "source": [
        "test_df.to_csv(\"groupby_nbhood.csv\")"
      ],
      "execution_count": 0,
      "outputs": []
    },
    {
      "cell_type": "code",
      "metadata": {
        "id": "tGnp9GjXI0z5",
        "colab_type": "code",
        "colab": {}
      },
      "source": [
        "#backup\n",
        "south_mumbai_venues_bkp1 = south_mumbai_venues\n",
        "south_mumbai_venues.to_csv(\"south_mumbai_venues_clean.csv\")\n",
        "\n"
      ],
      "execution_count": 0,
      "outputs": []
    },
    {
      "cell_type": "code",
      "metadata": {
        "id": "n5mEMrWkM33e",
        "colab_type": "code",
        "colab": {
          "base_uri": "https://localhost:8080/",
          "height": 52
        },
        "outputId": "cc446643-ada3-4243-e583-b183f11fb013"
      },
      "source": [
        "print(\"After all cleanup:Total venues:\",south_mumbai_venues.shape[0])\n",
        "print(\"After all cleanup:Total neigborhoods:\",neighborhoods.shape[0])\n"
      ],
      "execution_count": 62,
      "outputs": [
        {
          "output_type": "stream",
          "text": [
            "After all cleanup:Total venues: 619\n",
            "After all cleanup:Total neigborhoods: 39\n"
          ],
          "name": "stdout"
        }
      ]
    },
    {
      "cell_type": "markdown",
      "metadata": {
        "id": "q8olm864t0kf",
        "colab_type": "text"
      },
      "source": [
        "Data Cleansing ends here."
      ]
    },
    {
      "cell_type": "markdown",
      "metadata": {
        "id": "tRwAJkflsZgB",
        "colab_type": "text"
      },
      "source": [
        "## **Analyze Each Neighborhood of Mumbai.**"
      ]
    },
    {
      "cell_type": "code",
      "metadata": {
        "id": "QeCtyWSFbIiL",
        "colab_type": "code",
        "outputId": "9983edf7-10cf-45c7-caa9-80dffffe4fa6",
        "colab": {
          "base_uri": "https://localhost:8080/",
          "height": 35
        }
      },
      "source": [
        "# one hot encoding\n",
        "south_mumbai_onehot = pd.get_dummies(south_mumbai_venues[['Venue Category']], prefix=\"\", prefix_sep=\"\")\n",
        "\n",
        "# add neighborhood column back to dataframe\n",
        "south_mumbai_onehot['Neighborhood'] = south_mumbai_venues['Neighborhood'] \n",
        "\n",
        "# move neighborhood column to the first column\n",
        "fixed_columns = [south_mumbai_onehot.columns[-1]] + list(south_mumbai_onehot.columns[:-1])\n",
        "south_mumbai_onehot = south_mumbai_onehot[fixed_columns]\n",
        "\n",
        "south_mumbai_onehot.shape\n"
      ],
      "execution_count": 63,
      "outputs": [
        {
          "output_type": "execute_result",
          "data": {
            "text/plain": [
              "(619, 129)"
            ]
          },
          "metadata": {
            "tags": []
          },
          "execution_count": 63
        }
      ]
    },
    {
      "cell_type": "code",
      "metadata": {
        "id": "yudeqWF-b3ap",
        "colab_type": "code",
        "outputId": "142e2bd9-d773-4003-cc52-77d707848b72",
        "colab": {
          "base_uri": "https://localhost:8080/",
          "height": 35
        }
      },
      "source": [
        "#And let's examine the new dataframe size.\n",
        "south_mumbai_onehot.shape  "
      ],
      "execution_count": 64,
      "outputs": [
        {
          "output_type": "execute_result",
          "data": {
            "text/plain": [
              "(619, 129)"
            ]
          },
          "metadata": {
            "tags": []
          },
          "execution_count": 64
        }
      ]
    },
    {
      "cell_type": "markdown",
      "metadata": {
        "id": "OAj4WLORs0bn",
        "colab_type": "text"
      },
      "source": [
        "### **Group rows by neighborhood.**"
      ]
    },
    {
      "cell_type": "markdown",
      "metadata": {
        "id": "N1SN8xmWs7ps",
        "colab_type": "text"
      },
      "source": [
        "Take mean of the frequency of occurrence of each category."
      ]
    },
    {
      "cell_type": "code",
      "metadata": {
        "id": "Cedj_WOWcNxI",
        "colab_type": "code",
        "outputId": "825bb3ba-55a0-4904-d47b-91b1903a7adc",
        "colab": {
          "base_uri": "https://localhost:8080/",
          "height": 470
        }
      },
      "source": [
        "south_mumbai_grouped = south_mumbai_onehot.groupby('Neighborhood').mean().reset_index()\n",
        "print(\"This matrix has {} rows and {} columns\".format(south_mumbai_grouped.shape[0],south_mumbai_grouped.shape[1]))\n",
        "south_mumbai_grouped.head(10)"
      ],
      "execution_count": 65,
      "outputs": [
        {
          "output_type": "stream",
          "text": [
            "This matrix has 29 rows and 129 columns\n"
          ],
          "name": "stdout"
        },
        {
          "output_type": "execute_result",
          "data": {
            "text/html": [
              "<div>\n",
              "<style scoped>\n",
              "    .dataframe tbody tr th:only-of-type {\n",
              "        vertical-align: middle;\n",
              "    }\n",
              "\n",
              "    .dataframe tbody tr th {\n",
              "        vertical-align: top;\n",
              "    }\n",
              "\n",
              "    .dataframe thead th {\n",
              "        text-align: right;\n",
              "    }\n",
              "</style>\n",
              "<table border=\"1\" class=\"dataframe\">\n",
              "  <thead>\n",
              "    <tr style=\"text-align: right;\">\n",
              "      <th></th>\n",
              "      <th>Neighborhood</th>\n",
              "      <th>Accessories Store</th>\n",
              "      <th>Airport Service</th>\n",
              "      <th>American Restaurant</th>\n",
              "      <th>Aquarium</th>\n",
              "      <th>Arcade</th>\n",
              "      <th>Art Gallery</th>\n",
              "      <th>Arts &amp; Crafts Store</th>\n",
              "      <th>Asian Restaurant</th>\n",
              "      <th>BBQ Joint</th>\n",
              "      <th>Bagel Shop</th>\n",
              "      <th>Bakery</th>\n",
              "      <th>Bank</th>\n",
              "      <th>Beach</th>\n",
              "      <th>Bed &amp; Breakfast</th>\n",
              "      <th>Beer Bar</th>\n",
              "      <th>Beer Garden</th>\n",
              "      <th>Bengali Restaurant</th>\n",
              "      <th>Boat or Ferry</th>\n",
              "      <th>Boat ride</th>\n",
              "      <th>Bookstore</th>\n",
              "      <th>Boutique</th>\n",
              "      <th>Breakfast Spot</th>\n",
              "      <th>Brewery</th>\n",
              "      <th>Bridal Shop</th>\n",
              "      <th>Burger Joint</th>\n",
              "      <th>Burrito Place</th>\n",
              "      <th>Chaat Place</th>\n",
              "      <th>Cheese Shop</th>\n",
              "      <th>Chinese Restaurant</th>\n",
              "      <th>Clothing Store</th>\n",
              "      <th>Club House</th>\n",
              "      <th>College Academic Building</th>\n",
              "      <th>College Auditorium</th>\n",
              "      <th>College Technology Building</th>\n",
              "      <th>Comedy Club</th>\n",
              "      <th>Comfort Food Restaurant</th>\n",
              "      <th>Convenience Store</th>\n",
              "      <th>Creperie</th>\n",
              "      <th>Cupcake Shop</th>\n",
              "      <th>...</th>\n",
              "      <th>Monument / Landmark</th>\n",
              "      <th>Mughlai Restaurant</th>\n",
              "      <th>Music Store</th>\n",
              "      <th>Music Venue</th>\n",
              "      <th>Nightclub</th>\n",
              "      <th>Noodle House</th>\n",
              "      <th>North Indian Restaurant</th>\n",
              "      <th>Other Great Outdoors</th>\n",
              "      <th>Outdoors &amp; Recreation</th>\n",
              "      <th>Paper / Office Supplies Store</th>\n",
              "      <th>Park/Garden</th>\n",
              "      <th>Parsi Restaurant</th>\n",
              "      <th>Pharmacy</th>\n",
              "      <th>Pizza Place</th>\n",
              "      <th>Platform</th>\n",
              "      <th>Plaza</th>\n",
              "      <th>Pool</th>\n",
              "      <th>Racetrack</th>\n",
              "      <th>Salad Place</th>\n",
              "      <th>Salon / Barbershop</th>\n",
              "      <th>Sandwich Place</th>\n",
              "      <th>Scenic Lookout</th>\n",
              "      <th>Sculpture Garden</th>\n",
              "      <th>Seafood Restaurant</th>\n",
              "      <th>Shoe Store</th>\n",
              "      <th>Shopping Mall</th>\n",
              "      <th>Smoke Shop</th>\n",
              "      <th>Snack Place</th>\n",
              "      <th>Spanish Restaurant</th>\n",
              "      <th>Sports</th>\n",
              "      <th>Sports Club</th>\n",
              "      <th>Steakhouse</th>\n",
              "      <th>Tea Room</th>\n",
              "      <th>Tex-Mex Restaurant</th>\n",
              "      <th>Thai Restaurant</th>\n",
              "      <th>Theater\\Multiplex</th>\n",
              "      <th>Toy / Game Store</th>\n",
              "      <th>Vegetarian / Vegan Restaurant</th>\n",
              "      <th>Women's Store</th>\n",
              "      <th>Zoo</th>\n",
              "    </tr>\n",
              "  </thead>\n",
              "  <tbody>\n",
              "    <tr>\n",
              "      <th>0</th>\n",
              "      <td>Andheri</td>\n",
              "      <td>0.0</td>\n",
              "      <td>0.000000</td>\n",
              "      <td>0.0</td>\n",
              "      <td>0.0</td>\n",
              "      <td>0.000000</td>\n",
              "      <td>0.0</td>\n",
              "      <td>0.0</td>\n",
              "      <td>0.000000</td>\n",
              "      <td>0.000000</td>\n",
              "      <td>0.000000</td>\n",
              "      <td>0.125000</td>\n",
              "      <td>0.0</td>\n",
              "      <td>0.000000</td>\n",
              "      <td>0.0</td>\n",
              "      <td>0.0</td>\n",
              "      <td>0.000000</td>\n",
              "      <td>0.0</td>\n",
              "      <td>0.000000</td>\n",
              "      <td>0.000000</td>\n",
              "      <td>0.000000</td>\n",
              "      <td>0.000000</td>\n",
              "      <td>0.000000</td>\n",
              "      <td>0.000000</td>\n",
              "      <td>0.0</td>\n",
              "      <td>0.125000</td>\n",
              "      <td>0.0</td>\n",
              "      <td>0.0</td>\n",
              "      <td>0.0</td>\n",
              "      <td>0.000000</td>\n",
              "      <td>0.000000</td>\n",
              "      <td>0.0</td>\n",
              "      <td>0.000000</td>\n",
              "      <td>0.000000</td>\n",
              "      <td>0.0</td>\n",
              "      <td>0.000000</td>\n",
              "      <td>0.0</td>\n",
              "      <td>0.000000</td>\n",
              "      <td>0.0</td>\n",
              "      <td>0.0</td>\n",
              "      <td>...</td>\n",
              "      <td>0.000000</td>\n",
              "      <td>0.000000</td>\n",
              "      <td>0.0</td>\n",
              "      <td>0.0</td>\n",
              "      <td>0.000000</td>\n",
              "      <td>0.000000</td>\n",
              "      <td>0.0</td>\n",
              "      <td>0.000000</td>\n",
              "      <td>0.0</td>\n",
              "      <td>0.000000</td>\n",
              "      <td>0.000000</td>\n",
              "      <td>0.000000</td>\n",
              "      <td>0.0</td>\n",
              "      <td>0.000000</td>\n",
              "      <td>0.000000</td>\n",
              "      <td>0.000000</td>\n",
              "      <td>0.0</td>\n",
              "      <td>0.0</td>\n",
              "      <td>0.000000</td>\n",
              "      <td>0.000000</td>\n",
              "      <td>0.125000</td>\n",
              "      <td>0.0</td>\n",
              "      <td>0.000000</td>\n",
              "      <td>0.000000</td>\n",
              "      <td>0.0</td>\n",
              "      <td>0.000000</td>\n",
              "      <td>0.000000</td>\n",
              "      <td>0.125000</td>\n",
              "      <td>0.000000</td>\n",
              "      <td>0.000000</td>\n",
              "      <td>0.0</td>\n",
              "      <td>0.000000</td>\n",
              "      <td>0.000000</td>\n",
              "      <td>0.0</td>\n",
              "      <td>0.000000</td>\n",
              "      <td>0.000000</td>\n",
              "      <td>0.000000</td>\n",
              "      <td>0.000000</td>\n",
              "      <td>0.000000</td>\n",
              "      <td>0.0</td>\n",
              "    </tr>\n",
              "    <tr>\n",
              "      <th>1</th>\n",
              "      <td>Apollo Bandar</td>\n",
              "      <td>0.0</td>\n",
              "      <td>0.000000</td>\n",
              "      <td>0.0</td>\n",
              "      <td>0.0</td>\n",
              "      <td>0.000000</td>\n",
              "      <td>0.0</td>\n",
              "      <td>0.0</td>\n",
              "      <td>0.055556</td>\n",
              "      <td>0.000000</td>\n",
              "      <td>0.000000</td>\n",
              "      <td>0.027778</td>\n",
              "      <td>0.0</td>\n",
              "      <td>0.000000</td>\n",
              "      <td>0.0</td>\n",
              "      <td>0.0</td>\n",
              "      <td>0.000000</td>\n",
              "      <td>0.0</td>\n",
              "      <td>0.083333</td>\n",
              "      <td>0.027778</td>\n",
              "      <td>0.000000</td>\n",
              "      <td>0.000000</td>\n",
              "      <td>0.000000</td>\n",
              "      <td>0.000000</td>\n",
              "      <td>0.0</td>\n",
              "      <td>0.000000</td>\n",
              "      <td>0.0</td>\n",
              "      <td>0.0</td>\n",
              "      <td>0.0</td>\n",
              "      <td>0.055556</td>\n",
              "      <td>0.000000</td>\n",
              "      <td>0.0</td>\n",
              "      <td>0.000000</td>\n",
              "      <td>0.000000</td>\n",
              "      <td>0.0</td>\n",
              "      <td>0.000000</td>\n",
              "      <td>0.0</td>\n",
              "      <td>0.000000</td>\n",
              "      <td>0.0</td>\n",
              "      <td>0.0</td>\n",
              "      <td>...</td>\n",
              "      <td>0.027778</td>\n",
              "      <td>0.055556</td>\n",
              "      <td>0.0</td>\n",
              "      <td>0.0</td>\n",
              "      <td>0.027778</td>\n",
              "      <td>0.000000</td>\n",
              "      <td>0.0</td>\n",
              "      <td>0.000000</td>\n",
              "      <td>0.0</td>\n",
              "      <td>0.000000</td>\n",
              "      <td>0.000000</td>\n",
              "      <td>0.000000</td>\n",
              "      <td>0.0</td>\n",
              "      <td>0.027778</td>\n",
              "      <td>0.000000</td>\n",
              "      <td>0.000000</td>\n",
              "      <td>0.0</td>\n",
              "      <td>0.0</td>\n",
              "      <td>0.000000</td>\n",
              "      <td>0.000000</td>\n",
              "      <td>0.000000</td>\n",
              "      <td>0.0</td>\n",
              "      <td>0.027778</td>\n",
              "      <td>0.000000</td>\n",
              "      <td>0.0</td>\n",
              "      <td>0.000000</td>\n",
              "      <td>0.000000</td>\n",
              "      <td>0.000000</td>\n",
              "      <td>0.000000</td>\n",
              "      <td>0.000000</td>\n",
              "      <td>0.0</td>\n",
              "      <td>0.000000</td>\n",
              "      <td>0.000000</td>\n",
              "      <td>0.0</td>\n",
              "      <td>0.000000</td>\n",
              "      <td>0.000000</td>\n",
              "      <td>0.027778</td>\n",
              "      <td>0.000000</td>\n",
              "      <td>0.000000</td>\n",
              "      <td>0.0</td>\n",
              "    </tr>\n",
              "    <tr>\n",
              "      <th>2</th>\n",
              "      <td>Bandra West</td>\n",
              "      <td>0.0</td>\n",
              "      <td>0.000000</td>\n",
              "      <td>0.0</td>\n",
              "      <td>0.0</td>\n",
              "      <td>0.044118</td>\n",
              "      <td>0.0</td>\n",
              "      <td>0.0</td>\n",
              "      <td>0.058824</td>\n",
              "      <td>0.014706</td>\n",
              "      <td>0.014706</td>\n",
              "      <td>0.088235</td>\n",
              "      <td>0.0</td>\n",
              "      <td>0.000000</td>\n",
              "      <td>0.0</td>\n",
              "      <td>0.0</td>\n",
              "      <td>0.014706</td>\n",
              "      <td>0.0</td>\n",
              "      <td>0.000000</td>\n",
              "      <td>0.000000</td>\n",
              "      <td>0.029412</td>\n",
              "      <td>0.000000</td>\n",
              "      <td>0.014706</td>\n",
              "      <td>0.000000</td>\n",
              "      <td>0.0</td>\n",
              "      <td>0.014706</td>\n",
              "      <td>0.0</td>\n",
              "      <td>0.0</td>\n",
              "      <td>0.0</td>\n",
              "      <td>0.058824</td>\n",
              "      <td>0.014706</td>\n",
              "      <td>0.0</td>\n",
              "      <td>0.000000</td>\n",
              "      <td>0.014706</td>\n",
              "      <td>0.0</td>\n",
              "      <td>0.014706</td>\n",
              "      <td>0.0</td>\n",
              "      <td>0.000000</td>\n",
              "      <td>0.0</td>\n",
              "      <td>0.0</td>\n",
              "      <td>...</td>\n",
              "      <td>0.000000</td>\n",
              "      <td>0.014706</td>\n",
              "      <td>0.0</td>\n",
              "      <td>0.0</td>\n",
              "      <td>0.014706</td>\n",
              "      <td>0.000000</td>\n",
              "      <td>0.0</td>\n",
              "      <td>0.000000</td>\n",
              "      <td>0.0</td>\n",
              "      <td>0.000000</td>\n",
              "      <td>0.014706</td>\n",
              "      <td>0.000000</td>\n",
              "      <td>0.0</td>\n",
              "      <td>0.058824</td>\n",
              "      <td>0.000000</td>\n",
              "      <td>0.000000</td>\n",
              "      <td>0.0</td>\n",
              "      <td>0.0</td>\n",
              "      <td>0.014706</td>\n",
              "      <td>0.000000</td>\n",
              "      <td>0.014706</td>\n",
              "      <td>0.0</td>\n",
              "      <td>0.000000</td>\n",
              "      <td>0.044118</td>\n",
              "      <td>0.0</td>\n",
              "      <td>0.000000</td>\n",
              "      <td>0.014706</td>\n",
              "      <td>0.029412</td>\n",
              "      <td>0.014706</td>\n",
              "      <td>0.000000</td>\n",
              "      <td>0.0</td>\n",
              "      <td>0.014706</td>\n",
              "      <td>0.000000</td>\n",
              "      <td>0.0</td>\n",
              "      <td>0.000000</td>\n",
              "      <td>0.014706</td>\n",
              "      <td>0.000000</td>\n",
              "      <td>0.014706</td>\n",
              "      <td>0.014706</td>\n",
              "      <td>0.0</td>\n",
              "    </tr>\n",
              "    <tr>\n",
              "      <th>3</th>\n",
              "      <td>Bhuleshwar</td>\n",
              "      <td>0.0</td>\n",
              "      <td>0.000000</td>\n",
              "      <td>0.0</td>\n",
              "      <td>0.0</td>\n",
              "      <td>0.111111</td>\n",
              "      <td>0.0</td>\n",
              "      <td>0.0</td>\n",
              "      <td>0.000000</td>\n",
              "      <td>0.111111</td>\n",
              "      <td>0.000000</td>\n",
              "      <td>0.000000</td>\n",
              "      <td>0.0</td>\n",
              "      <td>0.000000</td>\n",
              "      <td>0.0</td>\n",
              "      <td>0.0</td>\n",
              "      <td>0.000000</td>\n",
              "      <td>0.0</td>\n",
              "      <td>0.000000</td>\n",
              "      <td>0.000000</td>\n",
              "      <td>0.000000</td>\n",
              "      <td>0.000000</td>\n",
              "      <td>0.000000</td>\n",
              "      <td>0.000000</td>\n",
              "      <td>0.0</td>\n",
              "      <td>0.000000</td>\n",
              "      <td>0.0</td>\n",
              "      <td>0.0</td>\n",
              "      <td>0.0</td>\n",
              "      <td>0.111111</td>\n",
              "      <td>0.000000</td>\n",
              "      <td>0.0</td>\n",
              "      <td>0.000000</td>\n",
              "      <td>0.000000</td>\n",
              "      <td>0.0</td>\n",
              "      <td>0.000000</td>\n",
              "      <td>0.0</td>\n",
              "      <td>0.000000</td>\n",
              "      <td>0.0</td>\n",
              "      <td>0.0</td>\n",
              "      <td>...</td>\n",
              "      <td>0.000000</td>\n",
              "      <td>0.000000</td>\n",
              "      <td>0.0</td>\n",
              "      <td>0.0</td>\n",
              "      <td>0.000000</td>\n",
              "      <td>0.000000</td>\n",
              "      <td>0.0</td>\n",
              "      <td>0.000000</td>\n",
              "      <td>0.0</td>\n",
              "      <td>0.000000</td>\n",
              "      <td>0.000000</td>\n",
              "      <td>0.000000</td>\n",
              "      <td>0.0</td>\n",
              "      <td>0.000000</td>\n",
              "      <td>0.000000</td>\n",
              "      <td>0.000000</td>\n",
              "      <td>0.0</td>\n",
              "      <td>0.0</td>\n",
              "      <td>0.000000</td>\n",
              "      <td>0.000000</td>\n",
              "      <td>0.000000</td>\n",
              "      <td>0.0</td>\n",
              "      <td>0.000000</td>\n",
              "      <td>0.000000</td>\n",
              "      <td>0.0</td>\n",
              "      <td>0.000000</td>\n",
              "      <td>0.000000</td>\n",
              "      <td>0.111111</td>\n",
              "      <td>0.000000</td>\n",
              "      <td>0.000000</td>\n",
              "      <td>0.0</td>\n",
              "      <td>0.000000</td>\n",
              "      <td>0.000000</td>\n",
              "      <td>0.0</td>\n",
              "      <td>0.000000</td>\n",
              "      <td>0.000000</td>\n",
              "      <td>0.000000</td>\n",
              "      <td>0.000000</td>\n",
              "      <td>0.000000</td>\n",
              "      <td>0.0</td>\n",
              "    </tr>\n",
              "    <tr>\n",
              "      <th>4</th>\n",
              "      <td>Borivali</td>\n",
              "      <td>0.0</td>\n",
              "      <td>0.000000</td>\n",
              "      <td>0.0</td>\n",
              "      <td>0.0</td>\n",
              "      <td>0.000000</td>\n",
              "      <td>0.0</td>\n",
              "      <td>0.0</td>\n",
              "      <td>0.000000</td>\n",
              "      <td>0.000000</td>\n",
              "      <td>0.000000</td>\n",
              "      <td>0.045455</td>\n",
              "      <td>0.0</td>\n",
              "      <td>0.000000</td>\n",
              "      <td>0.0</td>\n",
              "      <td>0.0</td>\n",
              "      <td>0.000000</td>\n",
              "      <td>0.0</td>\n",
              "      <td>0.000000</td>\n",
              "      <td>0.000000</td>\n",
              "      <td>0.000000</td>\n",
              "      <td>0.000000</td>\n",
              "      <td>0.000000</td>\n",
              "      <td>0.000000</td>\n",
              "      <td>0.0</td>\n",
              "      <td>0.045455</td>\n",
              "      <td>0.0</td>\n",
              "      <td>0.0</td>\n",
              "      <td>0.0</td>\n",
              "      <td>0.090909</td>\n",
              "      <td>0.136364</td>\n",
              "      <td>0.0</td>\n",
              "      <td>0.000000</td>\n",
              "      <td>0.000000</td>\n",
              "      <td>0.0</td>\n",
              "      <td>0.000000</td>\n",
              "      <td>0.0</td>\n",
              "      <td>0.045455</td>\n",
              "      <td>0.0</td>\n",
              "      <td>0.0</td>\n",
              "      <td>...</td>\n",
              "      <td>0.000000</td>\n",
              "      <td>0.000000</td>\n",
              "      <td>0.0</td>\n",
              "      <td>0.0</td>\n",
              "      <td>0.000000</td>\n",
              "      <td>0.000000</td>\n",
              "      <td>0.0</td>\n",
              "      <td>0.000000</td>\n",
              "      <td>0.0</td>\n",
              "      <td>0.000000</td>\n",
              "      <td>0.000000</td>\n",
              "      <td>0.000000</td>\n",
              "      <td>0.0</td>\n",
              "      <td>0.045455</td>\n",
              "      <td>0.000000</td>\n",
              "      <td>0.000000</td>\n",
              "      <td>0.0</td>\n",
              "      <td>0.0</td>\n",
              "      <td>0.000000</td>\n",
              "      <td>0.000000</td>\n",
              "      <td>0.090909</td>\n",
              "      <td>0.0</td>\n",
              "      <td>0.000000</td>\n",
              "      <td>0.000000</td>\n",
              "      <td>0.0</td>\n",
              "      <td>0.000000</td>\n",
              "      <td>0.000000</td>\n",
              "      <td>0.045455</td>\n",
              "      <td>0.000000</td>\n",
              "      <td>0.000000</td>\n",
              "      <td>0.0</td>\n",
              "      <td>0.000000</td>\n",
              "      <td>0.000000</td>\n",
              "      <td>0.0</td>\n",
              "      <td>0.000000</td>\n",
              "      <td>0.045455</td>\n",
              "      <td>0.000000</td>\n",
              "      <td>0.090909</td>\n",
              "      <td>0.000000</td>\n",
              "      <td>0.0</td>\n",
              "    </tr>\n",
              "    <tr>\n",
              "      <th>5</th>\n",
              "      <td>Chembur</td>\n",
              "      <td>0.0</td>\n",
              "      <td>0.000000</td>\n",
              "      <td>0.0</td>\n",
              "      <td>0.0</td>\n",
              "      <td>0.000000</td>\n",
              "      <td>0.0</td>\n",
              "      <td>0.0</td>\n",
              "      <td>0.047619</td>\n",
              "      <td>0.000000</td>\n",
              "      <td>0.000000</td>\n",
              "      <td>0.047619</td>\n",
              "      <td>0.0</td>\n",
              "      <td>0.000000</td>\n",
              "      <td>0.0</td>\n",
              "      <td>0.0</td>\n",
              "      <td>0.000000</td>\n",
              "      <td>0.0</td>\n",
              "      <td>0.000000</td>\n",
              "      <td>0.000000</td>\n",
              "      <td>0.000000</td>\n",
              "      <td>0.000000</td>\n",
              "      <td>0.000000</td>\n",
              "      <td>0.000000</td>\n",
              "      <td>0.0</td>\n",
              "      <td>0.000000</td>\n",
              "      <td>0.0</td>\n",
              "      <td>0.0</td>\n",
              "      <td>0.0</td>\n",
              "      <td>0.000000</td>\n",
              "      <td>0.000000</td>\n",
              "      <td>0.0</td>\n",
              "      <td>0.000000</td>\n",
              "      <td>0.000000</td>\n",
              "      <td>0.0</td>\n",
              "      <td>0.000000</td>\n",
              "      <td>0.0</td>\n",
              "      <td>0.000000</td>\n",
              "      <td>0.0</td>\n",
              "      <td>0.0</td>\n",
              "      <td>...</td>\n",
              "      <td>0.000000</td>\n",
              "      <td>0.000000</td>\n",
              "      <td>0.0</td>\n",
              "      <td>0.0</td>\n",
              "      <td>0.000000</td>\n",
              "      <td>0.000000</td>\n",
              "      <td>0.0</td>\n",
              "      <td>0.000000</td>\n",
              "      <td>0.0</td>\n",
              "      <td>0.047619</td>\n",
              "      <td>0.047619</td>\n",
              "      <td>0.000000</td>\n",
              "      <td>0.0</td>\n",
              "      <td>0.000000</td>\n",
              "      <td>0.047619</td>\n",
              "      <td>0.000000</td>\n",
              "      <td>0.0</td>\n",
              "      <td>0.0</td>\n",
              "      <td>0.000000</td>\n",
              "      <td>0.047619</td>\n",
              "      <td>0.000000</td>\n",
              "      <td>0.0</td>\n",
              "      <td>0.000000</td>\n",
              "      <td>0.142857</td>\n",
              "      <td>0.0</td>\n",
              "      <td>0.000000</td>\n",
              "      <td>0.000000</td>\n",
              "      <td>0.047619</td>\n",
              "      <td>0.000000</td>\n",
              "      <td>0.000000</td>\n",
              "      <td>0.0</td>\n",
              "      <td>0.000000</td>\n",
              "      <td>0.000000</td>\n",
              "      <td>0.0</td>\n",
              "      <td>0.000000</td>\n",
              "      <td>0.047619</td>\n",
              "      <td>0.000000</td>\n",
              "      <td>0.095238</td>\n",
              "      <td>0.000000</td>\n",
              "      <td>0.0</td>\n",
              "    </tr>\n",
              "    <tr>\n",
              "      <th>6</th>\n",
              "      <td>Churchgate</td>\n",
              "      <td>0.0</td>\n",
              "      <td>0.000000</td>\n",
              "      <td>0.0</td>\n",
              "      <td>0.0</td>\n",
              "      <td>0.000000</td>\n",
              "      <td>0.0</td>\n",
              "      <td>0.0</td>\n",
              "      <td>0.000000</td>\n",
              "      <td>0.000000</td>\n",
              "      <td>0.000000</td>\n",
              "      <td>0.026316</td>\n",
              "      <td>0.0</td>\n",
              "      <td>0.026316</td>\n",
              "      <td>0.0</td>\n",
              "      <td>0.0</td>\n",
              "      <td>0.000000</td>\n",
              "      <td>0.0</td>\n",
              "      <td>0.000000</td>\n",
              "      <td>0.000000</td>\n",
              "      <td>0.000000</td>\n",
              "      <td>0.000000</td>\n",
              "      <td>0.026316</td>\n",
              "      <td>0.000000</td>\n",
              "      <td>0.0</td>\n",
              "      <td>0.000000</td>\n",
              "      <td>0.0</td>\n",
              "      <td>0.0</td>\n",
              "      <td>0.0</td>\n",
              "      <td>0.026316</td>\n",
              "      <td>0.026316</td>\n",
              "      <td>0.0</td>\n",
              "      <td>0.026316</td>\n",
              "      <td>0.000000</td>\n",
              "      <td>0.0</td>\n",
              "      <td>0.000000</td>\n",
              "      <td>0.0</td>\n",
              "      <td>0.000000</td>\n",
              "      <td>0.0</td>\n",
              "      <td>0.0</td>\n",
              "      <td>...</td>\n",
              "      <td>0.000000</td>\n",
              "      <td>0.000000</td>\n",
              "      <td>0.0</td>\n",
              "      <td>0.0</td>\n",
              "      <td>0.000000</td>\n",
              "      <td>0.000000</td>\n",
              "      <td>0.0</td>\n",
              "      <td>0.026316</td>\n",
              "      <td>0.0</td>\n",
              "      <td>0.000000</td>\n",
              "      <td>0.000000</td>\n",
              "      <td>0.000000</td>\n",
              "      <td>0.0</td>\n",
              "      <td>0.052632</td>\n",
              "      <td>0.000000</td>\n",
              "      <td>0.000000</td>\n",
              "      <td>0.0</td>\n",
              "      <td>0.0</td>\n",
              "      <td>0.000000</td>\n",
              "      <td>0.000000</td>\n",
              "      <td>0.026316</td>\n",
              "      <td>0.0</td>\n",
              "      <td>0.000000</td>\n",
              "      <td>0.000000</td>\n",
              "      <td>0.0</td>\n",
              "      <td>0.000000</td>\n",
              "      <td>0.000000</td>\n",
              "      <td>0.000000</td>\n",
              "      <td>0.000000</td>\n",
              "      <td>0.157895</td>\n",
              "      <td>0.0</td>\n",
              "      <td>0.000000</td>\n",
              "      <td>0.000000</td>\n",
              "      <td>0.0</td>\n",
              "      <td>0.000000</td>\n",
              "      <td>0.078947</td>\n",
              "      <td>0.000000</td>\n",
              "      <td>0.026316</td>\n",
              "      <td>0.000000</td>\n",
              "      <td>0.0</td>\n",
              "    </tr>\n",
              "    <tr>\n",
              "      <th>7</th>\n",
              "      <td>Colaba</td>\n",
              "      <td>0.0</td>\n",
              "      <td>0.045455</td>\n",
              "      <td>0.0</td>\n",
              "      <td>0.0</td>\n",
              "      <td>0.000000</td>\n",
              "      <td>0.0</td>\n",
              "      <td>0.0</td>\n",
              "      <td>0.000000</td>\n",
              "      <td>0.000000</td>\n",
              "      <td>0.000000</td>\n",
              "      <td>0.000000</td>\n",
              "      <td>0.0</td>\n",
              "      <td>0.000000</td>\n",
              "      <td>0.0</td>\n",
              "      <td>0.0</td>\n",
              "      <td>0.000000</td>\n",
              "      <td>0.0</td>\n",
              "      <td>0.000000</td>\n",
              "      <td>0.000000</td>\n",
              "      <td>0.000000</td>\n",
              "      <td>0.000000</td>\n",
              "      <td>0.000000</td>\n",
              "      <td>0.045455</td>\n",
              "      <td>0.0</td>\n",
              "      <td>0.000000</td>\n",
              "      <td>0.0</td>\n",
              "      <td>0.0</td>\n",
              "      <td>0.0</td>\n",
              "      <td>0.090909</td>\n",
              "      <td>0.000000</td>\n",
              "      <td>0.0</td>\n",
              "      <td>0.000000</td>\n",
              "      <td>0.000000</td>\n",
              "      <td>0.0</td>\n",
              "      <td>0.000000</td>\n",
              "      <td>0.0</td>\n",
              "      <td>0.000000</td>\n",
              "      <td>0.0</td>\n",
              "      <td>0.0</td>\n",
              "      <td>...</td>\n",
              "      <td>0.000000</td>\n",
              "      <td>0.000000</td>\n",
              "      <td>0.0</td>\n",
              "      <td>0.0</td>\n",
              "      <td>0.000000</td>\n",
              "      <td>0.000000</td>\n",
              "      <td>0.0</td>\n",
              "      <td>0.000000</td>\n",
              "      <td>0.0</td>\n",
              "      <td>0.000000</td>\n",
              "      <td>0.000000</td>\n",
              "      <td>0.000000</td>\n",
              "      <td>0.0</td>\n",
              "      <td>0.045455</td>\n",
              "      <td>0.000000</td>\n",
              "      <td>0.000000</td>\n",
              "      <td>0.0</td>\n",
              "      <td>0.0</td>\n",
              "      <td>0.000000</td>\n",
              "      <td>0.000000</td>\n",
              "      <td>0.000000</td>\n",
              "      <td>0.0</td>\n",
              "      <td>0.000000</td>\n",
              "      <td>0.000000</td>\n",
              "      <td>0.0</td>\n",
              "      <td>0.000000</td>\n",
              "      <td>0.000000</td>\n",
              "      <td>0.000000</td>\n",
              "      <td>0.000000</td>\n",
              "      <td>0.000000</td>\n",
              "      <td>0.0</td>\n",
              "      <td>0.000000</td>\n",
              "      <td>0.000000</td>\n",
              "      <td>0.0</td>\n",
              "      <td>0.045455</td>\n",
              "      <td>0.000000</td>\n",
              "      <td>0.000000</td>\n",
              "      <td>0.000000</td>\n",
              "      <td>0.000000</td>\n",
              "      <td>0.0</td>\n",
              "    </tr>\n",
              "    <tr>\n",
              "      <th>8</th>\n",
              "      <td>Dadar</td>\n",
              "      <td>0.0</td>\n",
              "      <td>0.000000</td>\n",
              "      <td>0.0</td>\n",
              "      <td>0.0</td>\n",
              "      <td>0.000000</td>\n",
              "      <td>0.0</td>\n",
              "      <td>0.0</td>\n",
              "      <td>0.000000</td>\n",
              "      <td>0.000000</td>\n",
              "      <td>0.000000</td>\n",
              "      <td>0.000000</td>\n",
              "      <td>0.0</td>\n",
              "      <td>0.000000</td>\n",
              "      <td>0.0</td>\n",
              "      <td>0.0</td>\n",
              "      <td>0.000000</td>\n",
              "      <td>0.0</td>\n",
              "      <td>0.000000</td>\n",
              "      <td>0.000000</td>\n",
              "      <td>0.000000</td>\n",
              "      <td>0.000000</td>\n",
              "      <td>0.133333</td>\n",
              "      <td>0.000000</td>\n",
              "      <td>0.0</td>\n",
              "      <td>0.000000</td>\n",
              "      <td>0.0</td>\n",
              "      <td>0.0</td>\n",
              "      <td>0.0</td>\n",
              "      <td>0.000000</td>\n",
              "      <td>0.000000</td>\n",
              "      <td>0.0</td>\n",
              "      <td>0.000000</td>\n",
              "      <td>0.000000</td>\n",
              "      <td>0.0</td>\n",
              "      <td>0.000000</td>\n",
              "      <td>0.0</td>\n",
              "      <td>0.000000</td>\n",
              "      <td>0.0</td>\n",
              "      <td>0.0</td>\n",
              "      <td>...</td>\n",
              "      <td>0.000000</td>\n",
              "      <td>0.000000</td>\n",
              "      <td>0.0</td>\n",
              "      <td>0.0</td>\n",
              "      <td>0.000000</td>\n",
              "      <td>0.000000</td>\n",
              "      <td>0.0</td>\n",
              "      <td>0.000000</td>\n",
              "      <td>0.0</td>\n",
              "      <td>0.000000</td>\n",
              "      <td>0.000000</td>\n",
              "      <td>0.000000</td>\n",
              "      <td>0.0</td>\n",
              "      <td>0.000000</td>\n",
              "      <td>0.000000</td>\n",
              "      <td>0.066667</td>\n",
              "      <td>0.0</td>\n",
              "      <td>0.0</td>\n",
              "      <td>0.000000</td>\n",
              "      <td>0.000000</td>\n",
              "      <td>0.000000</td>\n",
              "      <td>0.0</td>\n",
              "      <td>0.000000</td>\n",
              "      <td>0.000000</td>\n",
              "      <td>0.0</td>\n",
              "      <td>0.066667</td>\n",
              "      <td>0.000000</td>\n",
              "      <td>0.000000</td>\n",
              "      <td>0.000000</td>\n",
              "      <td>0.000000</td>\n",
              "      <td>0.0</td>\n",
              "      <td>0.000000</td>\n",
              "      <td>0.000000</td>\n",
              "      <td>0.0</td>\n",
              "      <td>0.000000</td>\n",
              "      <td>0.133333</td>\n",
              "      <td>0.000000</td>\n",
              "      <td>0.133333</td>\n",
              "      <td>0.066667</td>\n",
              "      <td>0.0</td>\n",
              "    </tr>\n",
              "    <tr>\n",
              "      <th>9</th>\n",
              "      <td>Fort</td>\n",
              "      <td>0.0</td>\n",
              "      <td>0.000000</td>\n",
              "      <td>0.0</td>\n",
              "      <td>0.0</td>\n",
              "      <td>0.000000</td>\n",
              "      <td>0.0</td>\n",
              "      <td>0.0</td>\n",
              "      <td>0.020408</td>\n",
              "      <td>0.020408</td>\n",
              "      <td>0.000000</td>\n",
              "      <td>0.020408</td>\n",
              "      <td>0.0</td>\n",
              "      <td>0.000000</td>\n",
              "      <td>0.0</td>\n",
              "      <td>0.0</td>\n",
              "      <td>0.000000</td>\n",
              "      <td>0.0</td>\n",
              "      <td>0.000000</td>\n",
              "      <td>0.000000</td>\n",
              "      <td>0.020408</td>\n",
              "      <td>0.020408</td>\n",
              "      <td>0.020408</td>\n",
              "      <td>0.000000</td>\n",
              "      <td>0.0</td>\n",
              "      <td>0.000000</td>\n",
              "      <td>0.0</td>\n",
              "      <td>0.0</td>\n",
              "      <td>0.0</td>\n",
              "      <td>0.081633</td>\n",
              "      <td>0.040816</td>\n",
              "      <td>0.0</td>\n",
              "      <td>0.000000</td>\n",
              "      <td>0.000000</td>\n",
              "      <td>0.0</td>\n",
              "      <td>0.000000</td>\n",
              "      <td>0.0</td>\n",
              "      <td>0.000000</td>\n",
              "      <td>0.0</td>\n",
              "      <td>0.0</td>\n",
              "      <td>...</td>\n",
              "      <td>0.020408</td>\n",
              "      <td>0.020408</td>\n",
              "      <td>0.0</td>\n",
              "      <td>0.0</td>\n",
              "      <td>0.000000</td>\n",
              "      <td>0.020408</td>\n",
              "      <td>0.0</td>\n",
              "      <td>0.000000</td>\n",
              "      <td>0.0</td>\n",
              "      <td>0.000000</td>\n",
              "      <td>0.020408</td>\n",
              "      <td>0.040816</td>\n",
              "      <td>0.0</td>\n",
              "      <td>0.020408</td>\n",
              "      <td>0.000000</td>\n",
              "      <td>0.040816</td>\n",
              "      <td>0.0</td>\n",
              "      <td>0.0</td>\n",
              "      <td>0.000000</td>\n",
              "      <td>0.000000</td>\n",
              "      <td>0.020408</td>\n",
              "      <td>0.0</td>\n",
              "      <td>0.000000</td>\n",
              "      <td>0.081633</td>\n",
              "      <td>0.0</td>\n",
              "      <td>0.000000</td>\n",
              "      <td>0.000000</td>\n",
              "      <td>0.000000</td>\n",
              "      <td>0.000000</td>\n",
              "      <td>0.020408</td>\n",
              "      <td>0.0</td>\n",
              "      <td>0.020408</td>\n",
              "      <td>0.020408</td>\n",
              "      <td>0.0</td>\n",
              "      <td>0.000000</td>\n",
              "      <td>0.020408</td>\n",
              "      <td>0.000000</td>\n",
              "      <td>0.020408</td>\n",
              "      <td>0.000000</td>\n",
              "      <td>0.0</td>\n",
              "    </tr>\n",
              "  </tbody>\n",
              "</table>\n",
              "<p>10 rows × 129 columns</p>\n",
              "</div>"
            ],
            "text/plain": [
              "    Neighborhood  Accessories Store  ...  Women's Store  Zoo\n",
              "0        Andheri                0.0  ...       0.000000  0.0\n",
              "1  Apollo Bandar                0.0  ...       0.000000  0.0\n",
              "2    Bandra West                0.0  ...       0.014706  0.0\n",
              "3     Bhuleshwar                0.0  ...       0.000000  0.0\n",
              "4       Borivali                0.0  ...       0.000000  0.0\n",
              "5        Chembur                0.0  ...       0.000000  0.0\n",
              "6     Churchgate                0.0  ...       0.000000  0.0\n",
              "7         Colaba                0.0  ...       0.000000  0.0\n",
              "8          Dadar                0.0  ...       0.066667  0.0\n",
              "9           Fort                0.0  ...       0.000000  0.0\n",
              "\n",
              "[10 rows x 129 columns]"
            ]
          },
          "metadata": {
            "tags": []
          },
          "execution_count": 65
        }
      ]
    },
    {
      "cell_type": "code",
      "metadata": {
        "id": "5Nwi335BOEm5",
        "colab_type": "code",
        "colab": {
          "base_uri": "https://localhost:8080/",
          "height": 35
        },
        "outputId": "be083f74-2469-4efb-e81d-7346e1ea0c71"
      },
      "source": [
        "south_mumbai_grouped.shape"
      ],
      "execution_count": 66,
      "outputs": [
        {
          "output_type": "execute_result",
          "data": {
            "text/plain": [
              "(29, 129)"
            ]
          },
          "metadata": {
            "tags": []
          },
          "execution_count": 66
        }
      ]
    },
    {
      "cell_type": "code",
      "metadata": {
        "id": "S87wdbiycsqP",
        "colab_type": "code",
        "colab": {}
      },
      "source": [
        "# save to file\n",
        "south_mumbai_grouped.to_csv(\"south_mumbai_grouped.csv\")\n",
        "# backup\n",
        "south_mumbai_grouped_bkp = south_mumbai_grouped"
      ],
      "execution_count": 0,
      "outputs": []
    },
    {
      "cell_type": "code",
      "metadata": {
        "id": "VymcjiDFecLI",
        "colab_type": "code",
        "outputId": "8717a9d4-b33e-4b70-b694-2e12c708fe0d",
        "colab": {
          "base_uri": "https://localhost:8080/",
          "height": 1000
        }
      },
      "source": [
        "## Let's print each neighborhood along with the top 5 most common venues\n",
        "\n",
        "num_top_venues = 5\n",
        "\n",
        "for hood in south_mumbai_grouped['Neighborhood']:\n",
        "    print(\"----\"+hood+\"----\")\n",
        "    temp = south_mumbai_grouped[south_mumbai_grouped['Neighborhood'] == hood].T.reset_index()\n",
        "    temp.columns = ['venue','freq']\n",
        "    temp = temp.iloc[1:]\n",
        "    temp['freq'] = temp['freq'].astype(float)\n",
        "    temp = temp.round({'freq': 2})\n",
        "    print(temp.sort_values('freq', ascending=False).reset_index(drop=True).head(num_top_venues))\n",
        "    print('\\n')"
      ],
      "execution_count": 68,
      "outputs": [
        {
          "output_type": "stream",
          "text": [
            "----Andheri----\n",
            "          venue  freq\n",
            "0        Bakery  0.12\n",
            "1  Dessert Shop  0.12\n",
            "2  Burger Joint  0.12\n",
            "3   Snack Place  0.12\n",
            "4    Food Court  0.12\n",
            "\n",
            "\n",
            "----Apollo Bandar----\n",
            "                venue  freq\n",
            "0               Hotel  0.19\n",
            "1       Boat or Ferry  0.08\n",
            "2     Fitness/Gym/Spa  0.06\n",
            "3  Mughlai Restaurant  0.06\n",
            "4  Chinese Restaurant  0.06\n",
            "\n",
            "\n",
            "----Bandra West----\n",
            "                venue  freq\n",
            "0              Bakery  0.09\n",
            "1         Pizza Place  0.06\n",
            "2    Asian Restaurant  0.06\n",
            "3  Chinese Restaurant  0.06\n",
            "4  Seafood Restaurant  0.04\n",
            "\n",
            "\n",
            "----Bhuleshwar----\n",
            "               venue  freq\n",
            "0       Dessert Shop  0.22\n",
            "1  Indian Sweet Shop  0.11\n",
            "2             Arcade  0.11\n",
            "3        Snack Place  0.11\n",
            "4          BBQ Joint  0.11\n",
            "\n",
            "\n",
            "----Borivali----\n",
            "                           venue  freq\n",
            "0                 Clothing Store  0.14\n",
            "1                 Ice Cream Shop  0.14\n",
            "2                 Sandwich Place  0.09\n",
            "3  Vegetarian / Vegan Restaurant  0.09\n",
            "4             Chinese Restaurant  0.09\n",
            "\n",
            "\n",
            "----Chembur----\n",
            "                           venue  freq\n",
            "0             Seafood Restaurant  0.14\n",
            "1  Vegetarian / Vegan Restaurant  0.10\n",
            "2                Fitness/Gym/Spa  0.10\n",
            "3  Paper / Office Supplies Store  0.05\n",
            "4                       Platform  0.05\n",
            "\n",
            "\n",
            "----Churchgate----\n",
            "                venue  freq\n",
            "0              Sports  0.16\n",
            "1               Hotel  0.11\n",
            "2      Ice Cream Shop  0.11\n",
            "3   Theater\\Multiplex  0.08\n",
            "4  Italian Restaurant  0.08\n",
            "\n",
            "\n",
            "----Colaba----\n",
            "                    venue  freq\n",
            "0         Fitness/Gym/Spa  0.14\n",
            "1                   Hotel  0.09\n",
            "2                   Diner  0.09\n",
            "3      Chinese Restaurant  0.09\n",
            "4  Furniture / Home Store  0.05\n",
            "\n",
            "\n",
            "----Dadar----\n",
            "                           venue  freq\n",
            "0                 Breakfast Spot  0.13\n",
            "1  Vegetarian / Vegan Restaurant  0.13\n",
            "2              Theater\\Multiplex  0.13\n",
            "3                    Flower Shop  0.07\n",
            "4                         Lounge  0.07\n",
            "\n",
            "\n",
            "----Fort----\n",
            "                venue  freq\n",
            "0  Chinese Restaurant  0.08\n",
            "1  Seafood Restaurant  0.08\n",
            "2        Dessert Shop  0.08\n",
            "3          Irani Cafe  0.04\n",
            "4      Clothing Store  0.04\n",
            "\n",
            "\n",
            "----Ghatkopar----\n",
            "               venue  freq\n",
            "0        Pizza Place  0.15\n",
            "1  Accessories Store  0.08\n",
            "2        Men's Store  0.08\n",
            "3  Electronics Store  0.08\n",
            "4         Donut Shop  0.08\n",
            "\n",
            "\n",
            "----Jogeshwari----\n",
            "                venue  freq\n",
            "0  Mughlai Restaurant   0.2\n",
            "1    Halal Restaurant   0.2\n",
            "2         Pizza Place   0.2\n",
            "3    Asian Restaurant   0.2\n",
            "4  Chinese Restaurant   0.2\n",
            "\n",
            "\n",
            "----Juhu----\n",
            "                venue  freq\n",
            "0               Hotel  0.11\n",
            "1  Chinese Restaurant  0.11\n",
            "2     Fitness/Gym/Spa  0.09\n",
            "3              Lounge  0.07\n",
            "4  Seafood Restaurant  0.04\n",
            "\n",
            "\n",
            "----Kalbadevi----\n",
            "                 venue  freq\n",
            "0               Market   0.2\n",
            "1  American Restaurant   0.2\n",
            "2                 Food   0.2\n",
            "3          Cheese Shop   0.2\n",
            "4       Ice Cream Shop   0.2\n",
            "\n",
            "\n",
            "----Khar----\n",
            "                venue  freq\n",
            "0              Lounge  0.12\n",
            "1     Fitness/Gym/Spa  0.12\n",
            "2          Hookah Bar  0.06\n",
            "3           Nightclub  0.06\n",
            "4  Bengali Restaurant  0.06\n",
            "\n",
            "\n",
            "----Kurla----\n",
            "                           venue  freq\n",
            "0             Chinese Restaurant  0.13\n",
            "1             Seafood Restaurant  0.07\n",
            "2                  Grocery Store  0.07\n",
            "3  Vegetarian / Vegan Restaurant  0.07\n",
            "4                Fitness/Gym/Spa  0.07\n",
            "\n",
            "\n",
            "----Mahalaxmi----\n",
            "                      venue  freq\n",
            "0           Fitness/Gym/Spa  0.14\n",
            "1  Mediterranean Restaurant  0.14\n",
            "2                 Nightclub  0.14\n",
            "3                Club House  0.14\n",
            "4          Asian Restaurant  0.14\n",
            "\n",
            "\n",
            "----Marine Lines----\n",
            "                venue  freq\n",
            "0              Bakery  0.18\n",
            "1          Food Truck  0.12\n",
            "2  Italian Restaurant  0.06\n",
            "3            Boutique  0.06\n",
            "4  Chinese Restaurant  0.06\n",
            "\n",
            "\n",
            "----Masjid Bandar----\n",
            "                    venue  freq\n",
            "0       Convenience Store  0.25\n",
            "1              Smoke Shop  0.25\n",
            "2          Sandwich Place  0.12\n",
            "3  Furniture / Home Store  0.12\n",
            "4                   Hotel  0.12\n",
            "\n",
            "\n",
            "----Mazgaon----\n",
            "             venue  freq\n",
            "0      Flea Market  0.12\n",
            "1   Ice Cream Shop  0.12\n",
            "2      Park/Garden  0.12\n",
            "3     Dessert Shop  0.12\n",
            "4  Fitness/Gym/Spa  0.12\n",
            "\n",
            "\n",
            "----Mira Road----\n",
            "                venue  freq\n",
            "0      Clothing Store  0.10\n",
            "1  Chinese Restaurant  0.07\n",
            "2       Shopping Mall  0.07\n",
            "3     Fitness/Gym/Spa  0.07\n",
            "4  Dim Sum Restaurant  0.03\n",
            "\n",
            "\n",
            "----Mulund West----\n",
            "               venue  freq\n",
            "0        Flea Market  0.14\n",
            "1  Theater\\Multiplex  0.14\n",
            "2      Shopping Mall  0.14\n",
            "3       Dessert Shop  0.14\n",
            "4     Ice Cream Shop  0.14\n",
            "\n",
            "\n",
            "----Mumbai Central----\n",
            "                           venue  freq\n",
            "0                 Ice Cream Shop  0.14\n",
            "1  Vegetarian / Vegan Restaurant  0.14\n",
            "2                    Snack Place  0.14\n",
            "3                      Juice Bar  0.07\n",
            "4             Bengali Restaurant  0.07\n",
            "\n",
            "\n",
            "----Nagpada----\n",
            "                venue  freq\n",
            "0  Chinese Restaurant  0.12\n",
            "1              Bakery  0.12\n",
            "2    Department Store  0.08\n",
            "3               Hotel  0.08\n",
            "4        Dessert Shop  0.08\n",
            "\n",
            "\n",
            "----Nariman Point----\n",
            "                      venue  freq\n",
            "0         Theater\\Multiplex  0.18\n",
            "1        Italian Restaurant  0.11\n",
            "2                     Hotel  0.11\n",
            "3                    Sports  0.07\n",
            "4  Mediterranean Restaurant  0.07\n",
            "\n",
            "\n",
            "----Powai----\n",
            "                venue  freq\n",
            "0              Bakery  0.07\n",
            "1      Ice Cream Shop  0.07\n",
            "2    Department Store  0.07\n",
            "3     Fitness/Gym/Spa  0.07\n",
            "4  Chinese Restaurant  0.07\n",
            "\n",
            "\n",
            "----Santa Cruz----\n",
            "                   venue  freq\n",
            "0        Fitness/Gym/Spa  0.18\n",
            "1                  Hotel  0.18\n",
            "2                 Bakery  0.09\n",
            "3  Outdoors & Recreation  0.09\n",
            "4        Thai Restaurant  0.09\n",
            "\n",
            "\n",
            "----Walkeshwar----\n",
            "                venue  freq\n",
            "0         Park/Garden  0.13\n",
            "1        Dessert Shop  0.09\n",
            "2      Ice Cream Shop  0.09\n",
            "3         Snack Place  0.09\n",
            "4  Italian Restaurant  0.04\n",
            "\n",
            "\n",
            "----Worli----\n",
            "               venue  freq\n",
            "0       Gourmet Shop  0.09\n",
            "1        Sports Club  0.09\n",
            "2  French Restaurant  0.09\n",
            "3          Juice Bar  0.09\n",
            "4    Fitness/Gym/Spa  0.09\n",
            "\n",
            "\n"
          ],
          "name": "stdout"
        }
      ]
    },
    {
      "cell_type": "markdown",
      "metadata": {
        "id": "Xacwv4rJtol2",
        "colab_type": "text"
      },
      "source": [
        "Putting that into a pandas dataframe."
      ]
    },
    {
      "cell_type": "markdown",
      "metadata": {
        "id": "o1HxuRVWt1-S",
        "colab_type": "text"
      },
      "source": [
        "The function below to sort the venues in descending order."
      ]
    },
    {
      "cell_type": "code",
      "metadata": {
        "id": "9JBYacH2fx36",
        "colab_type": "code",
        "colab": {}
      },
      "source": [
        "\n",
        "def return_most_common_venues(row, num_top_venues):\n",
        "    row_categories = row.iloc[1:]\n",
        "    row_categories_sorted = row_categories.sort_values(ascending=False)\n",
        "    \n",
        "    return row_categories_sorted.index.values[0:num_top_venues]"
      ],
      "execution_count": 0,
      "outputs": []
    },
    {
      "cell_type": "markdown",
      "metadata": {
        "id": "GnnGlEkAuEGO",
        "colab_type": "text"
      },
      "source": [
        "Display the top 10 venues for each neighborhood."
      ]
    },
    {
      "cell_type": "code",
      "metadata": {
        "id": "4-fWZhI-f3Yf",
        "colab_type": "code",
        "outputId": "102a96c7-5a62-46c3-fe35-9c3d0551000e",
        "colab": {
          "base_uri": "https://localhost:8080/",
          "height": 390
        }
      },
      "source": [
        "num_top_venues = 10\n",
        "\n",
        "indicators = ['st', 'nd', 'rd']\n",
        "\n",
        "# create columns according to number of top venues\n",
        "columns = ['Neighborhood']\n",
        "for ind in np.arange(num_top_venues):\n",
        "    try:\n",
        "        columns.append('{}{} Most Common Venue'.format(ind+1, indicators[ind]))\n",
        "    except:\n",
        "        columns.append('{}th Most Common Venue'.format(ind+1))\n",
        "\n",
        "# create a new dataframe\n",
        "neighborhoods_venues_sorted = pd.DataFrame(columns=columns)\n",
        "neighborhoods_venues_sorted['Neighborhood'] = south_mumbai_grouped['Neighborhood']\n",
        "\n",
        "for ind in np.arange(south_mumbai_grouped.shape[0]):\n",
        "    neighborhoods_venues_sorted.iloc[ind, 1:] = return_most_common_venues(south_mumbai_grouped.iloc[ind, :], num_top_venues)\n",
        "\n",
        "neighborhoods_venues_sorted.head()\n"
      ],
      "execution_count": 70,
      "outputs": [
        {
          "output_type": "execute_result",
          "data": {
            "text/html": [
              "<div>\n",
              "<style scoped>\n",
              "    .dataframe tbody tr th:only-of-type {\n",
              "        vertical-align: middle;\n",
              "    }\n",
              "\n",
              "    .dataframe tbody tr th {\n",
              "        vertical-align: top;\n",
              "    }\n",
              "\n",
              "    .dataframe thead th {\n",
              "        text-align: right;\n",
              "    }\n",
              "</style>\n",
              "<table border=\"1\" class=\"dataframe\">\n",
              "  <thead>\n",
              "    <tr style=\"text-align: right;\">\n",
              "      <th></th>\n",
              "      <th>Neighborhood</th>\n",
              "      <th>1st Most Common Venue</th>\n",
              "      <th>2nd Most Common Venue</th>\n",
              "      <th>3rd Most Common Venue</th>\n",
              "      <th>4th Most Common Venue</th>\n",
              "      <th>5th Most Common Venue</th>\n",
              "      <th>6th Most Common Venue</th>\n",
              "      <th>7th Most Common Venue</th>\n",
              "      <th>8th Most Common Venue</th>\n",
              "      <th>9th Most Common Venue</th>\n",
              "      <th>10th Most Common Venue</th>\n",
              "    </tr>\n",
              "  </thead>\n",
              "  <tbody>\n",
              "    <tr>\n",
              "      <th>0</th>\n",
              "      <td>Andheri</td>\n",
              "      <td>Golf Course</td>\n",
              "      <td>Food Court</td>\n",
              "      <td>Dessert Shop</td>\n",
              "      <td>Snack Place</td>\n",
              "      <td>Bakery</td>\n",
              "      <td>Sandwich Place</td>\n",
              "      <td>Burger Joint</td>\n",
              "      <td>Food Truck</td>\n",
              "      <td>Cupcake Shop</td>\n",
              "      <td>Creperie</td>\n",
              "    </tr>\n",
              "    <tr>\n",
              "      <th>1</th>\n",
              "      <td>Apollo Bandar</td>\n",
              "      <td>Hotel</td>\n",
              "      <td>Boat or Ferry</td>\n",
              "      <td>Mughlai Restaurant</td>\n",
              "      <td>Chinese Restaurant</td>\n",
              "      <td>Fitness/Gym/Spa</td>\n",
              "      <td>Asian Restaurant</td>\n",
              "      <td>Sculpture Garden</td>\n",
              "      <td>Mediterranean Restaurant</td>\n",
              "      <td>Lounge</td>\n",
              "      <td>Juice Bar</td>\n",
              "    </tr>\n",
              "    <tr>\n",
              "      <th>2</th>\n",
              "      <td>Bandra West</td>\n",
              "      <td>Bakery</td>\n",
              "      <td>Asian Restaurant</td>\n",
              "      <td>Chinese Restaurant</td>\n",
              "      <td>Pizza Place</td>\n",
              "      <td>Arcade</td>\n",
              "      <td>Seafood Restaurant</td>\n",
              "      <td>Dessert Shop</td>\n",
              "      <td>Fitness/Gym/Spa</td>\n",
              "      <td>Snack Place</td>\n",
              "      <td>Event Space</td>\n",
              "    </tr>\n",
              "    <tr>\n",
              "      <th>3</th>\n",
              "      <td>Bhuleshwar</td>\n",
              "      <td>Dessert Shop</td>\n",
              "      <td>Indian Sweet Shop</td>\n",
              "      <td>Arcade</td>\n",
              "      <td>Chinese Restaurant</td>\n",
              "      <td>Ice Cream Shop</td>\n",
              "      <td>BBQ Joint</td>\n",
              "      <td>Juice Bar</td>\n",
              "      <td>Snack Place</td>\n",
              "      <td>Zoo</td>\n",
              "      <td>Dhaba</td>\n",
              "    </tr>\n",
              "    <tr>\n",
              "      <th>4</th>\n",
              "      <td>Borivali</td>\n",
              "      <td>Ice Cream Shop</td>\n",
              "      <td>Clothing Store</td>\n",
              "      <td>Chinese Restaurant</td>\n",
              "      <td>Sandwich Place</td>\n",
              "      <td>Vegetarian / Vegan Restaurant</td>\n",
              "      <td>Theater\\Multiplex</td>\n",
              "      <td>Snack Place</td>\n",
              "      <td>Juice Bar</td>\n",
              "      <td>Pizza Place</td>\n",
              "      <td>Department Store</td>\n",
              "    </tr>\n",
              "  </tbody>\n",
              "</table>\n",
              "</div>"
            ],
            "text/plain": [
              "    Neighborhood  ... 10th Most Common Venue\n",
              "0        Andheri  ...               Creperie\n",
              "1  Apollo Bandar  ...              Juice Bar\n",
              "2    Bandra West  ...            Event Space\n",
              "3     Bhuleshwar  ...                  Dhaba\n",
              "4       Borivali  ...       Department Store\n",
              "\n",
              "[5 rows x 11 columns]"
            ]
          },
          "metadata": {
            "tags": []
          },
          "execution_count": 70
        }
      ]
    },
    {
      "cell_type": "code",
      "metadata": {
        "id": "L1hhpCgJRuFD",
        "colab_type": "code",
        "colab": {}
      },
      "source": [
        "# save to csv file\n",
        "neighborhoods_venues_sorted.to_csv(\"neighborhoods_venues_sorted.csv\")\n",
        "#backup \n",
        "neighborhoods_venues_sorted_bkp = neighborhoods_venues_sorted"
      ],
      "execution_count": 0,
      "outputs": []
    },
    {
      "cell_type": "code",
      "metadata": {
        "id": "n0wwo0FASUY6",
        "colab_type": "code",
        "colab": {
          "base_uri": "https://localhost:8080/",
          "height": 35
        },
        "outputId": "8bd537d9-4309-4b42-8d90-4c623f6f4edc"
      },
      "source": [
        "neighborhoods_venues_sorted.shape"
      ],
      "execution_count": 72,
      "outputs": [
        {
          "output_type": "execute_result",
          "data": {
            "text/plain": [
              "(29, 11)"
            ]
          },
          "metadata": {
            "tags": []
          },
          "execution_count": 72
        }
      ]
    },
    {
      "cell_type": "markdown",
      "metadata": {
        "id": "Qs5mPJkb1Kal",
        "colab_type": "text"
      },
      "source": [
        "### **Clustering using k-means**"
      ]
    },
    {
      "cell_type": "markdown",
      "metadata": {
        "id": "4jDpgafq1S1i",
        "colab_type": "text"
      },
      "source": [
        "Adjusting number of clusters to optimum."
      ]
    },
    {
      "cell_type": "code",
      "metadata": {
        "id": "gVtUo7OAlOUn",
        "colab_type": "code",
        "outputId": "9193bce2-e9f0-4c14-9aeb-242d8e66347f",
        "colab": {
          "base_uri": "https://localhost:8080/",
          "height": 52
        }
      },
      "source": [
        "kclusters = 5\n",
        "south_mumbai_grouped_clustering = south_mumbai_grouped.drop('Neighborhood', 1)\n",
        "\n",
        "# run k-means clustering\n",
        "kmeans = KMeans(n_clusters=kclusters, random_state=0).fit(south_mumbai_grouped_clustering)\n",
        "\n",
        "# check cluster labels generated for each row in the dataframe\n",
        "kmeans.labels_[0:40] \n"
      ],
      "execution_count": 74,
      "outputs": [
        {
          "output_type": "execute_result",
          "data": {
            "text/plain": [
              "array([3, 2, 3, 3, 3, 3, 3, 2, 3, 3, 3, 2, 2, 4, 3, 3, 2, 3, 0, 3, 3, 3,\n",
              "       3, 2, 3, 3, 2, 3, 1], dtype=int32)"
            ]
          },
          "metadata": {
            "tags": []
          },
          "execution_count": 74
        }
      ]
    },
    {
      "cell_type": "markdown",
      "metadata": {
        "id": "nurDxXQtuuzF",
        "colab_type": "text"
      },
      "source": [
        "Let's create a new dataframe that includes the cluster as well as the top 10 venues for each neighborhood."
      ]
    },
    {
      "cell_type": "markdown",
      "metadata": {
        "id": "17hMPQSJu5pW",
        "colab_type": "text"
      },
      "source": [
        "Add clustering labels."
      ]
    },
    {
      "cell_type": "code",
      "metadata": {
        "id": "neGaBfXhlkWw",
        "colab_type": "code",
        "colab": {}
      },
      "source": [
        "neighborhoods_venues_sorted.insert(0, 'Cluster Labels', kmeans.labels_)"
      ],
      "execution_count": 0,
      "outputs": []
    },
    {
      "cell_type": "code",
      "metadata": {
        "id": "2OczzjazTbKh",
        "colab_type": "code",
        "colab": {
          "base_uri": "https://localhost:8080/",
          "height": 390
        },
        "outputId": "69df2433-6d7a-4efe-f9fb-aa090fe3371d"
      },
      "source": [
        "neighborhoods_venues_sorted.head()"
      ],
      "execution_count": 76,
      "outputs": [
        {
          "output_type": "execute_result",
          "data": {
            "text/html": [
              "<div>\n",
              "<style scoped>\n",
              "    .dataframe tbody tr th:only-of-type {\n",
              "        vertical-align: middle;\n",
              "    }\n",
              "\n",
              "    .dataframe tbody tr th {\n",
              "        vertical-align: top;\n",
              "    }\n",
              "\n",
              "    .dataframe thead th {\n",
              "        text-align: right;\n",
              "    }\n",
              "</style>\n",
              "<table border=\"1\" class=\"dataframe\">\n",
              "  <thead>\n",
              "    <tr style=\"text-align: right;\">\n",
              "      <th></th>\n",
              "      <th>Cluster Labels</th>\n",
              "      <th>Neighborhood</th>\n",
              "      <th>1st Most Common Venue</th>\n",
              "      <th>2nd Most Common Venue</th>\n",
              "      <th>3rd Most Common Venue</th>\n",
              "      <th>4th Most Common Venue</th>\n",
              "      <th>5th Most Common Venue</th>\n",
              "      <th>6th Most Common Venue</th>\n",
              "      <th>7th Most Common Venue</th>\n",
              "      <th>8th Most Common Venue</th>\n",
              "      <th>9th Most Common Venue</th>\n",
              "      <th>10th Most Common Venue</th>\n",
              "    </tr>\n",
              "  </thead>\n",
              "  <tbody>\n",
              "    <tr>\n",
              "      <th>0</th>\n",
              "      <td>3</td>\n",
              "      <td>Andheri</td>\n",
              "      <td>Golf Course</td>\n",
              "      <td>Food Court</td>\n",
              "      <td>Dessert Shop</td>\n",
              "      <td>Snack Place</td>\n",
              "      <td>Bakery</td>\n",
              "      <td>Sandwich Place</td>\n",
              "      <td>Burger Joint</td>\n",
              "      <td>Food Truck</td>\n",
              "      <td>Cupcake Shop</td>\n",
              "      <td>Creperie</td>\n",
              "    </tr>\n",
              "    <tr>\n",
              "      <th>1</th>\n",
              "      <td>2</td>\n",
              "      <td>Apollo Bandar</td>\n",
              "      <td>Hotel</td>\n",
              "      <td>Boat or Ferry</td>\n",
              "      <td>Mughlai Restaurant</td>\n",
              "      <td>Chinese Restaurant</td>\n",
              "      <td>Fitness/Gym/Spa</td>\n",
              "      <td>Asian Restaurant</td>\n",
              "      <td>Sculpture Garden</td>\n",
              "      <td>Mediterranean Restaurant</td>\n",
              "      <td>Lounge</td>\n",
              "      <td>Juice Bar</td>\n",
              "    </tr>\n",
              "    <tr>\n",
              "      <th>2</th>\n",
              "      <td>3</td>\n",
              "      <td>Bandra West</td>\n",
              "      <td>Bakery</td>\n",
              "      <td>Asian Restaurant</td>\n",
              "      <td>Chinese Restaurant</td>\n",
              "      <td>Pizza Place</td>\n",
              "      <td>Arcade</td>\n",
              "      <td>Seafood Restaurant</td>\n",
              "      <td>Dessert Shop</td>\n",
              "      <td>Fitness/Gym/Spa</td>\n",
              "      <td>Snack Place</td>\n",
              "      <td>Event Space</td>\n",
              "    </tr>\n",
              "    <tr>\n",
              "      <th>3</th>\n",
              "      <td>3</td>\n",
              "      <td>Bhuleshwar</td>\n",
              "      <td>Dessert Shop</td>\n",
              "      <td>Indian Sweet Shop</td>\n",
              "      <td>Arcade</td>\n",
              "      <td>Chinese Restaurant</td>\n",
              "      <td>Ice Cream Shop</td>\n",
              "      <td>BBQ Joint</td>\n",
              "      <td>Juice Bar</td>\n",
              "      <td>Snack Place</td>\n",
              "      <td>Zoo</td>\n",
              "      <td>Dhaba</td>\n",
              "    </tr>\n",
              "    <tr>\n",
              "      <th>4</th>\n",
              "      <td>3</td>\n",
              "      <td>Borivali</td>\n",
              "      <td>Ice Cream Shop</td>\n",
              "      <td>Clothing Store</td>\n",
              "      <td>Chinese Restaurant</td>\n",
              "      <td>Sandwich Place</td>\n",
              "      <td>Vegetarian / Vegan Restaurant</td>\n",
              "      <td>Theater\\Multiplex</td>\n",
              "      <td>Snack Place</td>\n",
              "      <td>Juice Bar</td>\n",
              "      <td>Pizza Place</td>\n",
              "      <td>Department Store</td>\n",
              "    </tr>\n",
              "  </tbody>\n",
              "</table>\n",
              "</div>"
            ],
            "text/plain": [
              "   Cluster Labels   Neighborhood  ... 9th Most Common Venue 10th Most Common Venue\n",
              "0               3        Andheri  ...          Cupcake Shop               Creperie\n",
              "1               2  Apollo Bandar  ...                Lounge              Juice Bar\n",
              "2               3    Bandra West  ...           Snack Place            Event Space\n",
              "3               3     Bhuleshwar  ...                   Zoo                  Dhaba\n",
              "4               3       Borivali  ...           Pizza Place       Department Store\n",
              "\n",
              "[5 rows x 12 columns]"
            ]
          },
          "metadata": {
            "tags": []
          },
          "execution_count": 76
        }
      ]
    },
    {
      "cell_type": "markdown",
      "metadata": {
        "id": "R5zAQjQfvMa3",
        "colab_type": "text"
      },
      "source": [
        "Now merge both dataframes to include borough."
      ]
    },
    {
      "cell_type": "code",
      "metadata": {
        "id": "inxaFCC8meMU",
        "colab_type": "code",
        "outputId": "d3eccbd9-1345-4f44-c9f2-d1552623994f",
        "colab": {
          "base_uri": "https://localhost:8080/",
          "height": 356
        }
      },
      "source": [
        "south_mumbai_merged = south_mumbai_data\n",
        "\n",
        "# merge two dataframes\n",
        "south_mumbai_merged = south_mumbai_merged.join(neighborhoods_venues_sorted.set_index('Neighborhood'), on='Neighborhood')\n",
        "\n",
        "south_mumbai_merged.head() \n"
      ],
      "execution_count": 77,
      "outputs": [
        {
          "output_type": "execute_result",
          "data": {
            "text/html": [
              "<div>\n",
              "<style scoped>\n",
              "    .dataframe tbody tr th:only-of-type {\n",
              "        vertical-align: middle;\n",
              "    }\n",
              "\n",
              "    .dataframe tbody tr th {\n",
              "        vertical-align: top;\n",
              "    }\n",
              "\n",
              "    .dataframe thead th {\n",
              "        text-align: right;\n",
              "    }\n",
              "</style>\n",
              "<table border=\"1\" class=\"dataframe\">\n",
              "  <thead>\n",
              "    <tr style=\"text-align: right;\">\n",
              "      <th></th>\n",
              "      <th>index</th>\n",
              "      <th>Neighborhood</th>\n",
              "      <th>Borough</th>\n",
              "      <th>Latitude</th>\n",
              "      <th>Longitude</th>\n",
              "      <th>Cluster Labels</th>\n",
              "      <th>1st Most Common Venue</th>\n",
              "      <th>2nd Most Common Venue</th>\n",
              "      <th>3rd Most Common Venue</th>\n",
              "      <th>4th Most Common Venue</th>\n",
              "      <th>5th Most Common Venue</th>\n",
              "      <th>6th Most Common Venue</th>\n",
              "      <th>7th Most Common Venue</th>\n",
              "      <th>8th Most Common Venue</th>\n",
              "      <th>9th Most Common Venue</th>\n",
              "      <th>10th Most Common Venue</th>\n",
              "    </tr>\n",
              "  </thead>\n",
              "  <tbody>\n",
              "    <tr>\n",
              "      <th>0</th>\n",
              "      <td>0</td>\n",
              "      <td>Colaba</td>\n",
              "      <td>South Mumbai</td>\n",
              "      <td>18.915091</td>\n",
              "      <td>72.825969</td>\n",
              "      <td>2</td>\n",
              "      <td>Fitness/Gym/Spa</td>\n",
              "      <td>Diner</td>\n",
              "      <td>Hotel</td>\n",
              "      <td>Chinese Restaurant</td>\n",
              "      <td>Donut Shop</td>\n",
              "      <td>Japanese Restaurant</td>\n",
              "      <td>Italian Restaurant</td>\n",
              "      <td>Dessert Shop</td>\n",
              "      <td>Pizza Place</td>\n",
              "      <td>Farmers Market</td>\n",
              "    </tr>\n",
              "    <tr>\n",
              "      <th>1</th>\n",
              "      <td>1</td>\n",
              "      <td>Apollo Bandar</td>\n",
              "      <td>South Mumbai</td>\n",
              "      <td>18.918375</td>\n",
              "      <td>72.831443</td>\n",
              "      <td>2</td>\n",
              "      <td>Hotel</td>\n",
              "      <td>Boat or Ferry</td>\n",
              "      <td>Mughlai Restaurant</td>\n",
              "      <td>Chinese Restaurant</td>\n",
              "      <td>Fitness/Gym/Spa</td>\n",
              "      <td>Asian Restaurant</td>\n",
              "      <td>Sculpture Garden</td>\n",
              "      <td>Mediterranean Restaurant</td>\n",
              "      <td>Lounge</td>\n",
              "      <td>Juice Bar</td>\n",
              "    </tr>\n",
              "    <tr>\n",
              "      <th>2</th>\n",
              "      <td>2</td>\n",
              "      <td>Fort</td>\n",
              "      <td>South Mumbai</td>\n",
              "      <td>18.933266</td>\n",
              "      <td>72.834515</td>\n",
              "      <td>3</td>\n",
              "      <td>Chinese Restaurant</td>\n",
              "      <td>Seafood Restaurant</td>\n",
              "      <td>Dessert Shop</td>\n",
              "      <td>Irani Cafe</td>\n",
              "      <td>Parsi Restaurant</td>\n",
              "      <td>Plaza</td>\n",
              "      <td>Lounge</td>\n",
              "      <td>Clothing Store</td>\n",
              "      <td>Mediterranean Restaurant</td>\n",
              "      <td>Men's Store</td>\n",
              "    </tr>\n",
              "    <tr>\n",
              "      <th>3</th>\n",
              "      <td>3</td>\n",
              "      <td>Churchgate</td>\n",
              "      <td>South Mumbai</td>\n",
              "      <td>18.935957</td>\n",
              "      <td>72.827340</td>\n",
              "      <td>3</td>\n",
              "      <td>Sports</td>\n",
              "      <td>Ice Cream Shop</td>\n",
              "      <td>Hotel</td>\n",
              "      <td>Italian Restaurant</td>\n",
              "      <td>Theater\\Multiplex</td>\n",
              "      <td>Pizza Place</td>\n",
              "      <td>Bakery</td>\n",
              "      <td>Japanese Restaurant</td>\n",
              "      <td>Dessert Shop</td>\n",
              "      <td>Sandwich Place</td>\n",
              "    </tr>\n",
              "    <tr>\n",
              "      <th>4</th>\n",
              "      <td>4</td>\n",
              "      <td>Nariman Point</td>\n",
              "      <td>South Mumbai</td>\n",
              "      <td>18.925951</td>\n",
              "      <td>72.823208</td>\n",
              "      <td>3</td>\n",
              "      <td>Theater\\Multiplex</td>\n",
              "      <td>Italian Restaurant</td>\n",
              "      <td>Hotel</td>\n",
              "      <td>Mediterranean Restaurant</td>\n",
              "      <td>Chaat Place</td>\n",
              "      <td>Sports</td>\n",
              "      <td>Snack Place</td>\n",
              "      <td>Diner</td>\n",
              "      <td>Bookstore</td>\n",
              "      <td>Scenic Lookout</td>\n",
              "    </tr>\n",
              "  </tbody>\n",
              "</table>\n",
              "</div>"
            ],
            "text/plain": [
              "   index   Neighborhood  ...     9th Most Common Venue  10th Most Common Venue\n",
              "0      0         Colaba  ...               Pizza Place          Farmers Market\n",
              "1      1  Apollo Bandar  ...                    Lounge               Juice Bar\n",
              "2      2           Fort  ...  Mediterranean Restaurant             Men's Store\n",
              "3      3     Churchgate  ...              Dessert Shop          Sandwich Place\n",
              "4      4  Nariman Point  ...                 Bookstore          Scenic Lookout\n",
              "\n",
              "[5 rows x 16 columns]"
            ]
          },
          "metadata": {
            "tags": []
          },
          "execution_count": 77
        }
      ]
    },
    {
      "cell_type": "code",
      "metadata": {
        "id": "L1rjIkAQVSzi",
        "colab_type": "code",
        "colab": {}
      },
      "source": [
        "# save to csv file\n",
        "south_mumbai_merged.to_csv(\"south_mumbai_merged.csv\")\n",
        "# backup\n",
        "south_mumbai_merged_bkp = south_mumbai_merged\n"
      ],
      "execution_count": 0,
      "outputs": []
    },
    {
      "cell_type": "markdown",
      "metadata": {
        "id": "YraouAtzPhfH",
        "colab_type": "text"
      },
      "source": [
        "Clusters given most suitable name based on ranking of venue categories."
      ]
    },
    {
      "cell_type": "markdown",
      "metadata": {
        "id": "sHE_48RHZMce",
        "colab_type": "text"
      },
      "source": [
        "### **Clusters given name**\n",
        "\n",
        "Cluster Labels 0 : Convenience Store,Smoke Shop\n",
        "\n",
        "Cluster Label  1 : Scenic Lookout,Sports Club\n",
        "\n",
        "Cluster Label  2 : Hotel,Fitness/Gym/Spa,Chinese Restaurant\n",
        "\n",
        "Cluster Label  3 : Theater\\Multiplex,Ice Cream Shop,Seafood Restaurant\n",
        "\n",
        "Cluster Label  4 : American Restaurant,Market\n"
      ]
    },
    {
      "cell_type": "markdown",
      "metadata": {
        "id": "V9D3ad5nwBXC",
        "colab_type": "text"
      },
      "source": [
        "### **Visualize Clusters**"
      ]
    },
    {
      "cell_type": "markdown",
      "metadata": {
        "id": "B9HRgKZ-P12g",
        "colab_type": "text"
      },
      "source": [
        "Used folium library for map and  superimposed clsuters on the map."
      ]
    },
    {
      "cell_type": "code",
      "metadata": {
        "id": "69j6pMIKu5rm",
        "colab_type": "code",
        "outputId": "40fed39c-567c-4b4a-e123-414111531108",
        "colab": {
          "base_uri": "https://localhost:8080/",
          "height": 586
        }
      },
      "source": [
        "latitude = mumbai_latitude\n",
        "longitude = mumbai_longitude\n",
        "\n",
        "# create map\n",
        "map_clusters = folium.Map(location=[latitude, longitude], zoom_start=11)\n",
        "\n",
        "# set color scheme for the clusters\n",
        "x = np.arange(kclusters)\n",
        "ys = [i + x + (i*x)**2 for i in range(kclusters)]\n",
        "colors_array = cm.rainbow(np.linspace(0, 1, len(ys)))\n",
        "rainbow = [colors.rgb2hex(i) for i in colors_array]\n",
        "\n",
        "# add markers to the map\n",
        "markers_colors = []\n",
        "for lat, lon, poi, cluster in zip(south_mumbai_merged['Latitude'], south_mumbai_merged['Longitude'], south_mumbai_merged['Neighborhood'], south_mumbai_merged['Cluster Labels']):\n",
        "    label = folium.Popup(str(poi) + ' Cluster ' + str(cluster), parse_html=True)\n",
        "    folium.CircleMarker(\n",
        "        [lat, lon],\n",
        "        radius=5,\n",
        "        popup=label,\n",
        "        color=rainbow[cluster-1],\n",
        "        fill=True,\n",
        "        fill_color=rainbow[cluster-1],\n",
        "        fill_opacity=0.7).add_to(map_clusters)\n",
        "       \n",
        "map_clusters\n"
      ],
      "execution_count": 79,
      "outputs": [
        {
          "output_type": "execute_result",
          "data": {
            "text/html": [
              "<div style=\"width:100%;\"><div style=\"position:relative;width:100%;height:0;padding-bottom:60%;\"><iframe src=\"about:blank\" style=\"position:absolute;width:100%;height:100%;left:0;top:0;border:none !important;\" data-html=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 onload=\"this.contentDocument.open();this.contentDocument.write(atob(this.getAttribute('data-html')));this.contentDocument.close();\" allowfullscreen webkitallowfullscreen mozallowfullscreen></iframe></div></div>"
            ],
            "text/plain": [
              "<folium.folium.Map at 0x7fcd5d6ac0f0>"
            ]
          },
          "metadata": {
            "tags": []
          },
          "execution_count": 79
        }
      ]
    },
    {
      "cell_type": "markdown",
      "metadata": {
        "id": "qSPsGpBFApS_",
        "colab_type": "text"
      },
      "source": [
        "# **Second Iteration** "
      ]
    },
    {
      "cell_type": "markdown",
      "metadata": {
        "id": "NxevyW4wAxnY",
        "colab_type": "text"
      },
      "source": [
        "It was noticed that most significant venues like museum,beaches, aquarium, zoo and boat ride are very less in number as compared to food places  and shopping places. Therefore, they will be overshadowed. Therefore, a second iteration was done with a focuse set of venues like museum, aquarium, monumnet, beaches,zoo,boat ride etc. and run analysis on that."
      ]
    },
    {
      "cell_type": "code",
      "metadata": {
        "id": "RqkHuYUERKOM",
        "colab_type": "code",
        "colab": {}
      },
      "source": [
        "#backup iteration 1\n",
        "south_mumbai_venues_it1 = south_mumbai_venues"
      ],
      "execution_count": 0,
      "outputs": []
    },
    {
      "cell_type": "markdown",
      "metadata": {
        "id": "0fIETuSGRRvR",
        "colab_type": "text"
      },
      "source": [
        "Club certain categories first."
      ]
    },
    {
      "cell_type": "code",
      "metadata": {
        "id": "pk-X5Q3sfncA",
        "colab_type": "code",
        "colab": {}
      },
      "source": [
        "south_mumbai_venues.replace(to_replace =['Boat ride'],value = 'Boat or Ferry', inplace=True)\n",
        "south_mumbai_venues.replace(to_replace =['Sculpture Garden'],value = 'Monument / Landmark', inplace=True)\n",
        "south_mumbai_venues.replace(to_replace =['Other Great Outdoors'],value = 'Scenic Lookout', inplace=True)\n",
        "south_mumbai_venues.replace(to_replace =['Jetty - Gateway of India'],value = 'Scenic Lookout', inplace=True)\n",
        "\n"
      ],
      "execution_count": 0,
      "outputs": []
    },
    {
      "cell_type": "code",
      "metadata": {
        "id": "EefLAVTmBN25",
        "colab_type": "code",
        "outputId": "8c47d2bf-91c2-4fbd-da61-04cad67e4818",
        "colab": {
          "base_uri": "https://localhost:8080/",
          "height": 338
        }
      },
      "source": [
        "test_df = south_mumbai_venues_bkp1\n",
        "venue_cat_list = ['Monument / Landmark','Boat or Ferry','Sculpture Garden' \\\n",
        "                 ,'History Museum','Other Great Outdoors','Scenic Lookout','Aquarium' \\\n",
        "                  ,'Zoo','Racetrack','Beach','Boat ride'\n",
        "                  ]\n",
        "\n",
        "print(\"bef:\",test_df.shape)\n",
        "test_df = test_df[test_df['Venue Category'].isin(venue_cat_list) == True]\n",
        "print(\"aft:\",test_df.shape) \n",
        "test_df.head()\n",
        "south_mumbai_venues = test_df\n",
        "print(\"aft:\" , south_mumbai_venues.shape)\n",
        "\n",
        "south_mumbai_venues.head()\n",
        "\n",
        "\n",
        "                  "
      ],
      "execution_count": 81,
      "outputs": [
        {
          "output_type": "stream",
          "text": [
            "bef: (619, 8)\n",
            "aft: (20, 8)\n",
            "aft: (20, 8)\n"
          ],
          "name": "stdout"
        },
        {
          "output_type": "execute_result",
          "data": {
            "text/html": [
              "<div>\n",
              "<style scoped>\n",
              "    .dataframe tbody tr th:only-of-type {\n",
              "        vertical-align: middle;\n",
              "    }\n",
              "\n",
              "    .dataframe tbody tr th {\n",
              "        vertical-align: top;\n",
              "    }\n",
              "\n",
              "    .dataframe thead th {\n",
              "        text-align: right;\n",
              "    }\n",
              "</style>\n",
              "<table border=\"1\" class=\"dataframe\">\n",
              "  <thead>\n",
              "    <tr style=\"text-align: right;\">\n",
              "      <th></th>\n",
              "      <th>index</th>\n",
              "      <th>Neighborhood</th>\n",
              "      <th>Neighborhood Latitude</th>\n",
              "      <th>Neighborhood Longitude</th>\n",
              "      <th>Venue</th>\n",
              "      <th>Venue Latitude</th>\n",
              "      <th>Venue Longitude</th>\n",
              "      <th>Venue Category</th>\n",
              "    </tr>\n",
              "  </thead>\n",
              "  <tbody>\n",
              "    <tr>\n",
              "      <th>45</th>\n",
              "      <td>56</td>\n",
              "      <td>Apollo Bandar</td>\n",
              "      <td>18.918375</td>\n",
              "      <td>72.831443</td>\n",
              "      <td>Gateway of India</td>\n",
              "      <td>18.921856</td>\n",
              "      <td>72.834877</td>\n",
              "      <td>Monument / Landmark</td>\n",
              "    </tr>\n",
              "    <tr>\n",
              "      <th>77</th>\n",
              "      <td>103</td>\n",
              "      <td>Apollo Bandar</td>\n",
              "      <td>18.918375</td>\n",
              "      <td>72.831443</td>\n",
              "      <td>APM Deck @ Gateway of India</td>\n",
              "      <td>18.922174</td>\n",
              "      <td>72.833947</td>\n",
              "      <td>Boat or Ferry</td>\n",
              "    </tr>\n",
              "    <tr>\n",
              "      <th>78</th>\n",
              "      <td>104</td>\n",
              "      <td>Apollo Bandar</td>\n",
              "      <td>18.918375</td>\n",
              "      <td>72.831443</td>\n",
              "      <td>Boat ride, gateway of india</td>\n",
              "      <td>18.921847</td>\n",
              "      <td>72.834652</td>\n",
              "      <td>Boat or Ferry</td>\n",
              "    </tr>\n",
              "    <tr>\n",
              "      <th>80</th>\n",
              "      <td>106</td>\n",
              "      <td>Apollo Bandar</td>\n",
              "      <td>18.918375</td>\n",
              "      <td>72.831443</td>\n",
              "      <td>Chhatrapati Shivaji Monument</td>\n",
              "      <td>18.922713</td>\n",
              "      <td>72.834172</td>\n",
              "      <td>Monument / Landmark</td>\n",
              "    </tr>\n",
              "    <tr>\n",
              "      <th>81</th>\n",
              "      <td>107</td>\n",
              "      <td>Apollo Bandar</td>\n",
              "      <td>18.918375</td>\n",
              "      <td>72.831443</td>\n",
              "      <td>Scenic Lookout</td>\n",
              "      <td>18.922558</td>\n",
              "      <td>72.834640</td>\n",
              "      <td>Boat or Ferry</td>\n",
              "    </tr>\n",
              "  </tbody>\n",
              "</table>\n",
              "</div>"
            ],
            "text/plain": [
              "    index   Neighborhood  ...  Venue Longitude       Venue Category\n",
              "45     56  Apollo Bandar  ...        72.834877  Monument / Landmark\n",
              "77    103  Apollo Bandar  ...        72.833947        Boat or Ferry\n",
              "78    104  Apollo Bandar  ...        72.834652        Boat or Ferry\n",
              "80    106  Apollo Bandar  ...        72.834172  Monument / Landmark\n",
              "81    107  Apollo Bandar  ...        72.834640        Boat or Ferry\n",
              "\n",
              "[5 rows x 8 columns]"
            ]
          },
          "metadata": {
            "tags": []
          },
          "execution_count": 81
        }
      ]
    },
    {
      "cell_type": "code",
      "metadata": {
        "id": "fh558HpnkU3R",
        "colab_type": "code",
        "colab": {}
      },
      "source": [
        "#backup iteration 2\n",
        "south_mumbai_venues_it_2 = south_mumbai_venues\n",
        "# save to file\n",
        "south_mumbai_venues_it_2.to_csv(\"south_mumbai_venues_it_2.csv\")"
      ],
      "execution_count": 0,
      "outputs": []
    },
    {
      "cell_type": "code",
      "metadata": {
        "id": "tQ-wvBJ3kTCz",
        "colab_type": "code",
        "colab": {
          "base_uri": "https://localhost:8080/",
          "height": 35
        },
        "outputId": "395992c9-859d-49c1-ac91-50448ba488c7"
      },
      "source": [
        "south_mumbai_venues_it_2.shape"
      ],
      "execution_count": 83,
      "outputs": [
        {
          "output_type": "execute_result",
          "data": {
            "text/plain": [
              "(20, 8)"
            ]
          },
          "metadata": {
            "tags": []
          },
          "execution_count": 83
        }
      ]
    },
    {
      "cell_type": "code",
      "metadata": {
        "id": "zXJNBdoXKviz",
        "colab_type": "code",
        "outputId": "3e676396-c75f-4215-c597-3e1ae0ae3881",
        "colab": {
          "base_uri": "https://localhost:8080/",
          "height": 35
        }
      },
      "source": [
        "# one hot encoding\n",
        "south_mumbai_onehot = pd.get_dummies(south_mumbai_venues[['Venue Category']], prefix=\"\", prefix_sep=\"\")\n",
        "\n",
        "# add neighborhood column back to dataframe\n",
        "south_mumbai_onehot['Neighborhood'] = south_mumbai_venues['Neighborhood'] \n",
        "\n",
        "# move neighborhood column to the first column\n",
        "fixed_columns = [south_mumbai_onehot.columns[-1]] + list(south_mumbai_onehot.columns[:-1])\n",
        "south_mumbai_onehot = south_mumbai_onehot[fixed_columns]\n",
        "\n",
        "south_mumbai_onehot.shape\n"
      ],
      "execution_count": 84,
      "outputs": [
        {
          "output_type": "execute_result",
          "data": {
            "text/plain": [
              "(20, 9)"
            ]
          },
          "metadata": {
            "tags": []
          },
          "execution_count": 84
        }
      ]
    },
    {
      "cell_type": "code",
      "metadata": {
        "id": "e7to1NapKy6C",
        "colab_type": "code",
        "outputId": "de583d12-1619-44dd-b7e2-0853030fe025",
        "colab": {
          "base_uri": "https://localhost:8080/",
          "height": 78
        }
      },
      "source": [
        "south_mumbai_grouped = south_mumbai_onehot.groupby('Neighborhood').mean().reset_index()\n",
        "south_mumbai_grouped.head(1)"
      ],
      "execution_count": 85,
      "outputs": [
        {
          "output_type": "execute_result",
          "data": {
            "text/html": [
              "<div>\n",
              "<style scoped>\n",
              "    .dataframe tbody tr th:only-of-type {\n",
              "        vertical-align: middle;\n",
              "    }\n",
              "\n",
              "    .dataframe tbody tr th {\n",
              "        vertical-align: top;\n",
              "    }\n",
              "\n",
              "    .dataframe thead th {\n",
              "        text-align: right;\n",
              "    }\n",
              "</style>\n",
              "<table border=\"1\" class=\"dataframe\">\n",
              "  <thead>\n",
              "    <tr style=\"text-align: right;\">\n",
              "      <th></th>\n",
              "      <th>Neighborhood</th>\n",
              "      <th>Aquarium</th>\n",
              "      <th>Beach</th>\n",
              "      <th>Boat or Ferry</th>\n",
              "      <th>History Museum</th>\n",
              "      <th>Monument / Landmark</th>\n",
              "      <th>Racetrack</th>\n",
              "      <th>Scenic Lookout</th>\n",
              "      <th>Zoo</th>\n",
              "    </tr>\n",
              "  </thead>\n",
              "  <tbody>\n",
              "    <tr>\n",
              "      <th>0</th>\n",
              "      <td>Apollo Bandar</td>\n",
              "      <td>0.0</td>\n",
              "      <td>0.0</td>\n",
              "      <td>0.666667</td>\n",
              "      <td>0.0</td>\n",
              "      <td>0.333333</td>\n",
              "      <td>0.0</td>\n",
              "      <td>0.0</td>\n",
              "      <td>0.0</td>\n",
              "    </tr>\n",
              "  </tbody>\n",
              "</table>\n",
              "</div>"
            ],
            "text/plain": [
              "    Neighborhood  Aquarium  Beach  ...  Racetrack  Scenic Lookout  Zoo\n",
              "0  Apollo Bandar       0.0    0.0  ...        0.0             0.0  0.0\n",
              "\n",
              "[1 rows x 9 columns]"
            ]
          },
          "metadata": {
            "tags": []
          },
          "execution_count": 85
        }
      ]
    },
    {
      "cell_type": "code",
      "metadata": {
        "id": "r07b0HYomOaB",
        "colab_type": "code",
        "colab": {}
      },
      "source": [
        "# backup\n",
        "south_mumbai_grouped_it_2 = south_mumbai_grouped\n",
        "south_mumbai_grouped_it_2.to_csv(\"south_mumbai_grouped_it_2.csv\")"
      ],
      "execution_count": 0,
      "outputs": []
    },
    {
      "cell_type": "markdown",
      "metadata": {
        "id": "e2q47wF0RzGu",
        "colab_type": "text"
      },
      "source": [
        "Let's print each neighborhood along with the top 2 most common venues."
      ]
    },
    {
      "cell_type": "code",
      "metadata": {
        "id": "ySJ-geiKKzMv",
        "colab_type": "code",
        "outputId": "36285bab-0fbf-4edd-bafc-64c29332f096",
        "colab": {
          "base_uri": "https://localhost:8080/",
          "height": 1000
        }
      },
      "source": [
        "num_top_venues = 2\n",
        "\n",
        "for hood in south_mumbai_grouped['Neighborhood']:\n",
        "    print(\"----\"+hood+\"----\")\n",
        "    temp = south_mumbai_grouped[south_mumbai_grouped['Neighborhood'] == hood].T.reset_index()\n",
        "    temp.columns = ['venue','freq']\n",
        "    temp = temp.iloc[1:]\n",
        "    temp['freq'] = temp['freq'].astype(float)\n",
        "    temp = temp.round({'freq': 2})\n",
        "    print(temp.sort_values('freq', ascending=False).reset_index(drop=True).head(num_top_venues))\n",
        "    print('\\n')"
      ],
      "execution_count": 87,
      "outputs": [
        {
          "output_type": "stream",
          "text": [
            "----Apollo Bandar----\n",
            "                 venue  freq\n",
            "0        Boat or Ferry  0.67\n",
            "1  Monument / Landmark  0.33\n",
            "\n",
            "\n",
            "----Churchgate----\n",
            "            venue  freq\n",
            "0           Beach   0.5\n",
            "1  Scenic Lookout   0.5\n",
            "\n",
            "\n",
            "----Fort----\n",
            "                 venue  freq\n",
            "0       History Museum   0.5\n",
            "1  Monument / Landmark   0.5\n",
            "\n",
            "\n",
            "----Juhu----\n",
            "      venue  freq\n",
            "0     Beach   1.0\n",
            "1  Aquarium   0.0\n",
            "\n",
            "\n",
            "----Mahalaxmi----\n",
            "       venue  freq\n",
            "0  Racetrack   1.0\n",
            "1   Aquarium   0.0\n",
            "\n",
            "\n",
            "----Marine Lines----\n",
            "            venue  freq\n",
            "0        Aquarium   0.5\n",
            "1  Scenic Lookout   0.5\n",
            "\n",
            "\n",
            "----Nagpada----\n",
            "            venue  freq\n",
            "0  History Museum   0.5\n",
            "1             Zoo   0.5\n",
            "\n",
            "\n",
            "----Nariman Point----\n",
            "            venue  freq\n",
            "0  Scenic Lookout   1.0\n",
            "1        Aquarium   0.0\n",
            "\n",
            "\n",
            "----Powai----\n",
            "            venue  freq\n",
            "0  Scenic Lookout   1.0\n",
            "1        Aquarium   0.0\n",
            "\n",
            "\n",
            "----Walkeshwar----\n",
            "            venue  freq\n",
            "0  History Museum   1.0\n",
            "1        Aquarium   0.0\n",
            "\n",
            "\n",
            "----Worli----\n",
            "            venue  freq\n",
            "0  Scenic Lookout   1.0\n",
            "1        Aquarium   0.0\n",
            "\n",
            "\n"
          ],
          "name": "stdout"
        }
      ]
    },
    {
      "cell_type": "code",
      "metadata": {
        "id": "twVyBY4VKzag",
        "colab_type": "code",
        "colab": {}
      },
      "source": [
        "def return_most_common_venues(row, num_top_venues):\n",
        "    row_categories = row.iloc[1:]\n",
        "    row_categories_sorted = row_categories.sort_values(ascending=False)\n",
        "    \n",
        "    return row_categories_sorted.index.values[0:num_top_venues]"
      ],
      "execution_count": 0,
      "outputs": []
    },
    {
      "cell_type": "markdown",
      "metadata": {
        "id": "3vbtVuKwqJiP",
        "colab_type": "text"
      },
      "source": [
        "Take top 2 only."
      ]
    },
    {
      "cell_type": "code",
      "metadata": {
        "id": "-V1B0tNKKzp5",
        "colab_type": "code",
        "outputId": "e76ad5b0-34af-4318-d0f3-8dd4aa949998",
        "colab": {
          "base_uri": "https://localhost:8080/",
          "height": 200
        }
      },
      "source": [
        "num_top_venues = 2\n",
        "\n",
        "indicators = ['st', 'nd', 'rd']\n",
        "\n",
        "# create columns according to number of top venues\n",
        "columns = ['Neighborhood']\n",
        "for ind in np.arange(num_top_venues):\n",
        "    try:\n",
        "        columns.append('{}{} Most Common Venue'.format(ind+1, indicators\n",
        "[ind]))\n",
        "    except:\n",
        "        columns.append('{}th Most Common Venue'.format(ind+1))\n",
        "\n",
        "# create a new dataframe\n",
        "neighborhoods_venues_sorted = pd.DataFrame(columns=columns)\n",
        "neighborhoods_venues_sorted['Neighborhood'] = south_mumbai_grouped['Neighborhood']\n",
        "\n",
        "for ind in np.arange(south_mumbai_grouped.shape[0]):\n",
        "    neighborhoods_venues_sorted.iloc[ind, 1:] = return_most_common_venues(south_mumbai_grouped.iloc[ind, :], num_top_venues)\n",
        "\n",
        "neighborhoods_venues_sorted.head()\n"
      ],
      "execution_count": 89,
      "outputs": [
        {
          "output_type": "execute_result",
          "data": {
            "text/html": [
              "<div>\n",
              "<style scoped>\n",
              "    .dataframe tbody tr th:only-of-type {\n",
              "        vertical-align: middle;\n",
              "    }\n",
              "\n",
              "    .dataframe tbody tr th {\n",
              "        vertical-align: top;\n",
              "    }\n",
              "\n",
              "    .dataframe thead th {\n",
              "        text-align: right;\n",
              "    }\n",
              "</style>\n",
              "<table border=\"1\" class=\"dataframe\">\n",
              "  <thead>\n",
              "    <tr style=\"text-align: right;\">\n",
              "      <th></th>\n",
              "      <th>Neighborhood</th>\n",
              "      <th>1st Most Common Venue</th>\n",
              "      <th>2nd Most Common Venue</th>\n",
              "    </tr>\n",
              "  </thead>\n",
              "  <tbody>\n",
              "    <tr>\n",
              "      <th>0</th>\n",
              "      <td>Apollo Bandar</td>\n",
              "      <td>Boat or Ferry</td>\n",
              "      <td>Monument / Landmark</td>\n",
              "    </tr>\n",
              "    <tr>\n",
              "      <th>1</th>\n",
              "      <td>Churchgate</td>\n",
              "      <td>Scenic Lookout</td>\n",
              "      <td>Beach</td>\n",
              "    </tr>\n",
              "    <tr>\n",
              "      <th>2</th>\n",
              "      <td>Fort</td>\n",
              "      <td>Monument / Landmark</td>\n",
              "      <td>History Museum</td>\n",
              "    </tr>\n",
              "    <tr>\n",
              "      <th>3</th>\n",
              "      <td>Juhu</td>\n",
              "      <td>Beach</td>\n",
              "      <td>Zoo</td>\n",
              "    </tr>\n",
              "    <tr>\n",
              "      <th>4</th>\n",
              "      <td>Mahalaxmi</td>\n",
              "      <td>Racetrack</td>\n",
              "      <td>Zoo</td>\n",
              "    </tr>\n",
              "  </tbody>\n",
              "</table>\n",
              "</div>"
            ],
            "text/plain": [
              "    Neighborhood 1st Most Common Venue 2nd Most Common Venue\n",
              "0  Apollo Bandar         Boat or Ferry   Monument / Landmark\n",
              "1     Churchgate        Scenic Lookout                 Beach\n",
              "2           Fort   Monument / Landmark        History Museum\n",
              "3           Juhu                 Beach                   Zoo\n",
              "4      Mahalaxmi             Racetrack                   Zoo"
            ]
          },
          "metadata": {
            "tags": []
          },
          "execution_count": 89
        }
      ]
    },
    {
      "cell_type": "code",
      "metadata": {
        "id": "q_s4ldFBqVNH",
        "colab_type": "code",
        "colab": {}
      },
      "source": [
        "# backup\n",
        "neighborhoods_venues_sorted_it_2 = neighborhoods_venues_sorted\n",
        "neighborhoods_venues_sorted_it_2.to_csv(\"neighborhoods_venues_sorted_it_2.csv\")"
      ],
      "execution_count": 0,
      "outputs": []
    },
    {
      "cell_type": "markdown",
      "metadata": {
        "id": "cu1BnxmtSPnc",
        "colab_type": "text"
      },
      "source": [
        "Create 10 clusters."
      ]
    },
    {
      "cell_type": "code",
      "metadata": {
        "id": "ugTUB5n1Kz5a",
        "colab_type": "code",
        "outputId": "da8a35d1-98cd-4527-91b1-02c93a458883",
        "colab": {
          "base_uri": "https://localhost:8080/",
          "height": 90
        }
      },
      "source": [
        "kclusters = 10\n",
        "south_mumbai_grouped_clustering = south_mumbai_grouped.drop('Neighborhood', 1)\n",
        "\n",
        "# run k-means clustering\n",
        "kmeans = KMeans(n_clusters=kclusters, random_state=0).fit(south_mumbai_grouped_clustering)\n",
        "\n",
        "# check cluster labels generated for each row in the dataframe\n",
        "kmeans.labels_[0:40] \n"
      ],
      "execution_count": 92,
      "outputs": [
        {
          "output_type": "stream",
          "text": [
            "/usr/local/lib/python3.6/dist-packages/ipykernel_launcher.py:5: ConvergenceWarning: Number of distinct clusters (9) found smaller than n_clusters (10). Possibly due to duplicate points in X.\n",
            "  \"\"\"\n"
          ],
          "name": "stderr"
        },
        {
          "output_type": "execute_result",
          "data": {
            "text/plain": [
              "array([4, 7, 1, 0, 3, 8, 5, 2, 2, 6, 2], dtype=int32)"
            ]
          },
          "metadata": {
            "tags": []
          },
          "execution_count": 92
        }
      ]
    },
    {
      "cell_type": "code",
      "metadata": {
        "id": "YEEINndnK0J0",
        "colab_type": "code",
        "colab": {}
      },
      "source": [
        "neighborhoods_venues_sorted.insert(0, 'Cluster Labels', kmeans.labels_)"
      ],
      "execution_count": 0,
      "outputs": []
    },
    {
      "cell_type": "code",
      "metadata": {
        "id": "s2MYOFs3K0a-",
        "colab_type": "code",
        "colab": {}
      },
      "source": [
        "south_mumbai_merged = south_mumbai_data\n",
        "\n",
        "south_mumbai_merged = pd.merge(south_mumbai_merged, neighborhoods_venues_sorted, on='Neighborhood', how='inner')\n"
      ],
      "execution_count": 0,
      "outputs": []
    },
    {
      "cell_type": "code",
      "metadata": {
        "id": "J8ma67i6sUCO",
        "colab_type": "code",
        "colab": {}
      },
      "source": [
        "# backup\n",
        "south_mumbai_merged.to_csv(\"south_mumbai_merged_It2.csv\")\n",
        "south_mumbai_merged_it_2 = south_mumbai_merged"
      ],
      "execution_count": 0,
      "outputs": []
    },
    {
      "cell_type": "markdown",
      "metadata": {
        "id": "T_zOgIytSiOq",
        "colab_type": "text"
      },
      "source": [
        "Display Clusters."
      ]
    },
    {
      "cell_type": "code",
      "metadata": {
        "id": "SUhjdb_6R36b",
        "colab_type": "code",
        "colab": {
          "base_uri": "https://localhost:8080/",
          "height": 382
        },
        "outputId": "41add2d1-e3b2-406c-f4fa-d9e3700eec8e"
      },
      "source": [
        "south_mumbai_merged.head(15)"
      ],
      "execution_count": 96,
      "outputs": [
        {
          "output_type": "execute_result",
          "data": {
            "text/html": [
              "<div>\n",
              "<style scoped>\n",
              "    .dataframe tbody tr th:only-of-type {\n",
              "        vertical-align: middle;\n",
              "    }\n",
              "\n",
              "    .dataframe tbody tr th {\n",
              "        vertical-align: top;\n",
              "    }\n",
              "\n",
              "    .dataframe thead th {\n",
              "        text-align: right;\n",
              "    }\n",
              "</style>\n",
              "<table border=\"1\" class=\"dataframe\">\n",
              "  <thead>\n",
              "    <tr style=\"text-align: right;\">\n",
              "      <th></th>\n",
              "      <th>index</th>\n",
              "      <th>Neighborhood</th>\n",
              "      <th>Borough</th>\n",
              "      <th>Latitude</th>\n",
              "      <th>Longitude</th>\n",
              "      <th>Cluster Labels</th>\n",
              "      <th>1st Most Common Venue</th>\n",
              "      <th>2nd Most Common Venue</th>\n",
              "    </tr>\n",
              "  </thead>\n",
              "  <tbody>\n",
              "    <tr>\n",
              "      <th>0</th>\n",
              "      <td>1</td>\n",
              "      <td>Apollo Bandar</td>\n",
              "      <td>South Mumbai</td>\n",
              "      <td>18.918375</td>\n",
              "      <td>72.831443</td>\n",
              "      <td>4</td>\n",
              "      <td>Boat or Ferry</td>\n",
              "      <td>Monument / Landmark</td>\n",
              "    </tr>\n",
              "    <tr>\n",
              "      <th>1</th>\n",
              "      <td>2</td>\n",
              "      <td>Fort</td>\n",
              "      <td>South Mumbai</td>\n",
              "      <td>18.933266</td>\n",
              "      <td>72.834515</td>\n",
              "      <td>1</td>\n",
              "      <td>Monument / Landmark</td>\n",
              "      <td>History Museum</td>\n",
              "    </tr>\n",
              "    <tr>\n",
              "      <th>2</th>\n",
              "      <td>3</td>\n",
              "      <td>Churchgate</td>\n",
              "      <td>South Mumbai</td>\n",
              "      <td>18.935957</td>\n",
              "      <td>72.827340</td>\n",
              "      <td>7</td>\n",
              "      <td>Scenic Lookout</td>\n",
              "      <td>Beach</td>\n",
              "    </tr>\n",
              "    <tr>\n",
              "      <th>3</th>\n",
              "      <td>4</td>\n",
              "      <td>Nariman Point</td>\n",
              "      <td>South Mumbai</td>\n",
              "      <td>18.925951</td>\n",
              "      <td>72.823208</td>\n",
              "      <td>2</td>\n",
              "      <td>Scenic Lookout</td>\n",
              "      <td>Zoo</td>\n",
              "    </tr>\n",
              "    <tr>\n",
              "      <th>4</th>\n",
              "      <td>5</td>\n",
              "      <td>Marine Lines</td>\n",
              "      <td>South Mumbai</td>\n",
              "      <td>18.945670</td>\n",
              "      <td>72.823781</td>\n",
              "      <td>8</td>\n",
              "      <td>Scenic Lookout</td>\n",
              "      <td>Aquarium</td>\n",
              "    </tr>\n",
              "    <tr>\n",
              "      <th>5</th>\n",
              "      <td>6</td>\n",
              "      <td>Walkeshwar</td>\n",
              "      <td>South Mumbai</td>\n",
              "      <td>18.955343</td>\n",
              "      <td>72.807947</td>\n",
              "      <td>6</td>\n",
              "      <td>History Museum</td>\n",
              "      <td>Zoo</td>\n",
              "    </tr>\n",
              "    <tr>\n",
              "      <th>6</th>\n",
              "      <td>13</td>\n",
              "      <td>Nagpada</td>\n",
              "      <td>South Mumbai</td>\n",
              "      <td>18.968178</td>\n",
              "      <td>72.828601</td>\n",
              "      <td>5</td>\n",
              "      <td>Zoo</td>\n",
              "      <td>History Museum</td>\n",
              "    </tr>\n",
              "    <tr>\n",
              "      <th>7</th>\n",
              "      <td>19</td>\n",
              "      <td>Mahalaxmi</td>\n",
              "      <td>South Mumbai</td>\n",
              "      <td>18.982568</td>\n",
              "      <td>72.824160</td>\n",
              "      <td>3</td>\n",
              "      <td>Racetrack</td>\n",
              "      <td>Zoo</td>\n",
              "    </tr>\n",
              "    <tr>\n",
              "      <th>8</th>\n",
              "      <td>20</td>\n",
              "      <td>Worli</td>\n",
              "      <td>South Mumbai</td>\n",
              "      <td>19.011696</td>\n",
              "      <td>72.818070</td>\n",
              "      <td>2</td>\n",
              "      <td>Scenic Lookout</td>\n",
              "      <td>Zoo</td>\n",
              "    </tr>\n",
              "    <tr>\n",
              "      <th>9</th>\n",
              "      <td>23</td>\n",
              "      <td>Juhu</td>\n",
              "      <td>West Mumbai</td>\n",
              "      <td>19.107021</td>\n",
              "      <td>72.827528</td>\n",
              "      <td>0</td>\n",
              "      <td>Beach</td>\n",
              "      <td>Zoo</td>\n",
              "    </tr>\n",
              "    <tr>\n",
              "      <th>10</th>\n",
              "      <td>34</td>\n",
              "      <td>Powai</td>\n",
              "      <td>North Mumbai</td>\n",
              "      <td>19.118720</td>\n",
              "      <td>72.907348</td>\n",
              "      <td>2</td>\n",
              "      <td>Scenic Lookout</td>\n",
              "      <td>Zoo</td>\n",
              "    </tr>\n",
              "  </tbody>\n",
              "</table>\n",
              "</div>"
            ],
            "text/plain": [
              "    index   Neighborhood  ... 1st Most Common Venue  2nd Most Common Venue\n",
              "0       1  Apollo Bandar  ...         Boat or Ferry    Monument / Landmark\n",
              "1       2           Fort  ...   Monument / Landmark         History Museum\n",
              "2       3     Churchgate  ...        Scenic Lookout                  Beach\n",
              "3       4  Nariman Point  ...        Scenic Lookout                    Zoo\n",
              "4       5   Marine Lines  ...        Scenic Lookout               Aquarium\n",
              "5       6     Walkeshwar  ...        History Museum                    Zoo\n",
              "6      13        Nagpada  ...                   Zoo         History Museum\n",
              "7      19      Mahalaxmi  ...             Racetrack                    Zoo\n",
              "8      20          Worli  ...        Scenic Lookout                    Zoo\n",
              "9      23           Juhu  ...                 Beach                    Zoo\n",
              "10     34          Powai  ...        Scenic Lookout                    Zoo\n",
              "\n",
              "[11 rows x 8 columns]"
            ]
          },
          "metadata": {
            "tags": []
          },
          "execution_count": 96
        }
      ]
    },
    {
      "cell_type": "markdown",
      "metadata": {
        "id": "pAJWcuk-SrW9",
        "colab_type": "text"
      },
      "source": [
        "This data reveals the fact that all key touristic spots are concentrated in South Mumbai. Juhu and Powai are only exceptions."
      ]
    },
    {
      "cell_type": "code",
      "metadata": {
        "id": "idj1aRaKMKyY",
        "colab_type": "code",
        "colab": {}
      },
      "source": [
        "# backup\n",
        "south_mumbai_merged.to_csv(\"south_mumbai_merged_It2.csv\")"
      ],
      "execution_count": 0,
      "outputs": []
    },
    {
      "cell_type": "markdown",
      "metadata": {
        "id": "OkgClJN1TCgx",
        "colab_type": "text"
      },
      "source": [
        "Visualize clusters on the map using folium."
      ]
    },
    {
      "cell_type": "code",
      "metadata": {
        "id": "Ntbku2YjLIa2",
        "colab_type": "code",
        "outputId": "2dee87fb-e12d-4e02-822a-a253aec4872d",
        "colab": {
          "base_uri": "https://localhost:8080/",
          "height": 586
        }
      },
      "source": [
        "latitude = mumbai_latitude\n",
        "longitude = mumbai_longitude\n",
        "\n",
        "# create map\n",
        "map_clusters = folium.Map(location=[latitude, longitude], zoom_start=11)\n",
        "\n",
        "# set color scheme for the clusters\n",
        "x = np.arange(kclusters)\n",
        "ys = [i + x + (i*x)**2 for i in range(kclusters)]\n",
        "colors_array = cm.rainbow(np.linspace(0, 1, len(ys)))\n",
        "rainbow = [colors.rgb2hex(i) for i in colors_array]\n",
        "\n",
        "# add markers to the map\n",
        "markers_colors = []\n",
        "for lat, lon, poi, cluster in zip(south_mumbai_merged['Latitude'], south_mumbai_merged['Longitude'], south_mumbai_merged['Neighborhood'], south_mumbai_merged['Cluster Labels']):\n",
        "    label = folium.Popup(str(poi) + ' Cluster ' + str(cluster), parse_html=True)\n",
        "    folium.CircleMarker(\n",
        "        [lat, lon],\n",
        "        radius=5,\n",
        "        popup=label,\n",
        "        color=rainbow[cluster-1],\n",
        "        fill=True,\n",
        "        fill_color=rainbow[cluster-1],\n",
        "        fill_opacity=0.7).add_to(map_clusters)\n",
        "       \n",
        "map_clusters\n"
      ],
      "execution_count": 97,
      "outputs": [
        {
          "output_type": "execute_result",
          "data": {
            "text/html": [
              "<div style=\"width:100%;\"><div style=\"position:relative;width:100%;height:0;padding-bottom:60%;\"><iframe src=\"about:blank\" style=\"position:absolute;width:100%;height:100%;left:0;top:0;border:none !important;\" data-html=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 onload=\"this.contentDocument.open();this.contentDocument.write(atob(this.getAttribute('data-html')));this.contentDocument.close();\" allowfullscreen webkitallowfullscreen mozallowfullscreen></iframe></div></div>"
            ],
            "text/plain": [
              "<folium.folium.Map at 0x7fcd5d6d8940>"
            ]
          },
          "metadata": {
            "tags": []
          },
          "execution_count": 97
        }
      ]
    },
    {
      "cell_type": "code",
      "metadata": {
        "id": "XHoqnpdsLIub",
        "colab_type": "code",
        "colab": {}
      },
      "source": [
        "The clusters can be seen concentrated in South Mumbai."
      ],
      "execution_count": 0,
      "outputs": []
    }
  ]
}