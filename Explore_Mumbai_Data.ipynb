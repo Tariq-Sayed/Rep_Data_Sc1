{
  "nbformat": 4,
  "nbformat_minor": 0,
  "metadata": {
    "colab": {
      "name": "Explore_Mumbai_Data.ipynb",
      "provenance": [],
      "collapsed_sections": []
    },
    "kernelspec": {
      "name": "python3",
      "display_name": "Python 3"
    }
  },
  "cells": [
    {
      "cell_type": "markdown",
      "metadata": {
        "id": "a8u0w1oGy-Gp",
        "colab_type": "text"
      },
      "source": [
        "# **Exploring Mumbai City for Foreign Tourists**\n",
        "\n",
        "\n",
        "\n"
      ]
    },
    {
      "cell_type": "markdown",
      "metadata": {
        "id": "lPZiH3nizJfn",
        "colab_type": "text"
      },
      "source": [
        "#### **Tariq Sayed**\n",
        "#### **April 19, 2020**"
      ]
    },
    {
      "cell_type": "markdown",
      "metadata": {
        "id": "HyAX1Yp-8tXQ",
        "colab_type": "text"
      },
      "source": [
        "# **2. Data**"
      ]
    },
    {
      "cell_type": "markdown",
      "metadata": {
        "id": "0P4Uj3hO89iE",
        "colab_type": "text"
      },
      "source": [
        "## **2.1 Data Sources**"
      ]
    },
    {
      "cell_type": "markdown",
      "metadata": {
        "id": "IgS3-vWK9ElF",
        "colab_type": "text"
      },
      "source": [
        "The main data source would be Four Square API which provides the venues along with their categories. But, in order to provide venues of a location you need to provide latitude and longitude of the location. The latitude and longitude of a location are fetched from Geopy library. The Geopy library has some limitations as to number of locations coordinates it can return and times out. This issue was resolved by splitting the data and passing locations in two batches. But major challenge was non-availability of all the neighbourhoods with their respective boroughs. Therefore, constructed this data through Python code using objects like array, dictionary and data frame."
      ]
    },
    {
      "cell_type": "markdown",
      "metadata": {
        "id": "ukaIYogRdmMP",
        "colab_type": "text"
      },
      "source": [
        "Then final data looks as follows for 39 neighborhoods."
      ]
    },
    {
      "cell_type": "markdown",
      "metadata": {
        "colab_type": "text",
        "id": "4wBZtY_NeRHk"
      },
      "source": [
        "![Mumbai Neighborhoods](https://raw.githubusercontent.com/Tariq-Sayed/Rep_Data_Sc1/master/1_neighborhoods.PNG)"
      ]
    },
    {
      "cell_type": "markdown",
      "metadata": {
        "id": "znOnQMQg1aJX",
        "colab_type": "text"
      },
      "source": [
        "After this using folium library I created a map of Mumbai and superimposed all 39 neighborhoods on top of this map. It looks like this."
      ]
    },
    {
      "cell_type": "markdown",
      "metadata": {
        "id": "1_TlOda21qFa",
        "colab_type": "text"
      },
      "source": [
        "![Map_Superimposed](https://raw.githubusercontent.com/Tariq-Sayed/Rep_Data_Sc1/master/2_map.png)"
      ]
    },
    {
      "cell_type": "markdown",
      "metadata": {
        "id": "TOFnMPrEx5X2",
        "colab_type": "text"
      },
      "source": [
        "Then I used Four Square API to get venues in a radius of 650 meters keeping a maximum limit of 100 per location.If you increase the range it will fetch more venues, but at the same time chances of neighborhoods overlapping increases which results in duplication of venues.After some iteration an optimum value of 650 met with minimum duplication was set.These duplication were eliminated later.Four Square returned total 1118 venues.The venue data will look like this after merging with master table."
      ]
    },
    {
      "cell_type": "markdown",
      "metadata": {
        "id": "KAjgf-IA2bOx",
        "colab_type": "text"
      },
      "source": [
        "![Venues](https://raw.githubusercontent.com/Tariq-Sayed/Rep_Data_Sc1/master/4_venue_merge.PNG)"
      ]
    },
    {
      "cell_type": "markdown",
      "metadata": {
        "colab_type": "text",
        "id": "hz87Nnmnfwb2"
      },
      "source": [
        "## **2.2 Data Cleaning**"
      ]
    },
    {
      "cell_type": "markdown",
      "metadata": {
        "colab_type": "text",
        "id": "kkNF6j9Sf4Nc"
      },
      "source": [
        "The raw data is usually not fit for analysis. It has many issues and it needs to be cleaned before analysis. This task requires efforts but is a key task and accuracy of our analysis depends on it.\n",
        "Therefore, I identified all data quality issues and resolved them.\n",
        "The redundant data was found due to overlapping of neighborhoods when you tend to increase the radius in order to fetch more data. These duplicates were discarded.\n",
        "\n",
        "Also encountered small sample size issue as some locations returned very few venues. One of such neighbourhood was dropped. While others were merged with nearby neighbourhoods. With this approach not much data was lost. \n",
        "\n",
        "Wrong categorization of data was corrected to more standard categories.\n",
        "\n",
        "Looked for outliers. The data has too many Indian restaurants which are very common in all areas of the city. The tourists find Indian food to be very spicy and generally prefer western, Mexican or Arabian cuisine. Therefore, dropped Indian restaurants from the equation. The similar treatment was given to other such categories which are in very large number but relatively less significant. \n",
        "\n",
        "The similar categories were clubbed together like Parks and gardens to one category Park/Garden. Bar and Pub to Bar/Pub etc.\n",
        "\n"
      ]
    },
    {
      "cell_type": "markdown",
      "metadata": {
        "colab_type": "text",
        "id": "bl1-ful6i7k_"
      },
      "source": [
        "The below table shows Darukahana has only one venue. It was dropped. While other neighborhoods were merged with adjecent areas. With this approach not much of data was lost."
      ]
    },
    {
      "cell_type": "markdown",
      "metadata": {
        "colab_type": "text",
        "id": "mhfzRodXjBLA"
      },
      "source": [
        "![Venues](https://raw.githubusercontent.com/Tariq-Sayed/Rep_Data_Sc1/master/21_Darukhana.PNG)"
      ]
    },
    {
      "cell_type": "markdown",
      "metadata": {
        "id": "tqZyQKZ2jR9k",
        "colab_type": "text"
      },
      "source": [
        "The below data shows we got too many Indian restaurants which are very common in all areas of the city. Therefore, dropped Indian restaurants from the equation. The similar treatment was given to other such categories which are in very large number but relatively less significant.\n",
        "\n",
        "The similar categories were clubbed together like Parks and gardens to one category Park/Garden. Bar and Pub to Bar/Pub etc."
      ]
    },
    {
      "cell_type": "markdown",
      "metadata": {
        "id": "kHnqiuU_34e4",
        "colab_type": "text"
      },
      "source": [
        "![Venues](https://raw.githubusercontent.com/Tariq-Sayed/Rep_Data_Sc1/master/5_Top10_Category.PNG)"
      ]
    },
    {
      "cell_type": "markdown",
      "metadata": {
        "id": "cxoczaQDytPd",
        "colab_type": "text"
      },
      "source": [
        "After this cleansing job, I got 619 venues for 29 neighborhoods."
      ]
    },
    {
      "cell_type": "markdown",
      "metadata": {
        "id": "pxtlrVjlg_t-",
        "colab_type": "text"
      },
      "source": [
        "### **2.3 Feature Selection**"
      ]
    },
    {
      "cell_type": "markdown",
      "metadata": {
        "id": "LfJdOQ7XhF2E",
        "colab_type": "text"
      },
      "source": [
        "The key features for this analysis are neighborhood, its respective borough, venue, venue categories and latitude and longitude of neighborhood and venue.\n",
        "No redundancy was found in features returned by Four Square APIs\n",
        "After an extensive data cleansing exercise, there were 619 samples for 29 neighbourhoods.\n"
      ]
    }
  ]
}