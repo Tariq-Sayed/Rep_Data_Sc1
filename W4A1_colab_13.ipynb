{
  "nbformat": 4,
  "nbformat_minor": 0,
  "metadata": {
    "colab": {
      "name": "W4A1_colab_13.ipynb",
      "provenance": [],
      "collapsed_sections": [
        "Xacwv4rJtol2",
        "nurDxXQtuuzF",
        "lMwNKxkzvd4H"
      ],
      "toc_visible": true
    },
    "kernelspec": {
      "name": "python3",
      "display_name": "Python 3"
    }
  },
  "cells": [
    {
      "cell_type": "markdown",
      "metadata": {
        "id": "SNQ9Ltzz1Q4I",
        "colab_type": "text"
      },
      "source": [
        "# **Cluster South Mumbai**"
      ]
    },
    {
      "cell_type": "markdown",
      "metadata": {
        "id": "73fL1YhWsM2b",
        "colab_type": "text"
      },
      "source": [
        "# **Version 10** "
      ]
    },
    {
      "cell_type": "markdown",
      "metadata": {
        "id": "-kbgiTB5z8SX",
        "colab_type": "text"
      },
      "source": [
        "# **Get required Libraries**"
      ]
    },
    {
      "cell_type": "code",
      "metadata": {
        "id": "15wlZcr5ztuH",
        "colab_type": "code",
        "outputId": "35013188-5ab6-4e85-fa7e-91a56795eda5",
        "colab": {
          "base_uri": "https://localhost:8080/",
          "height": 90
        }
      },
      "source": [
        "import pandas as pd\n",
        "from pandas.io.json import json_normalize  # tranform JSON file into a pandas dataframe\n",
        "\n",
        "import numpy as np\n",
        "\n",
        "from bs4 import BeautifulSoup\n",
        "\n",
        "# Matplotlib and associated plotting modules\n",
        "import matplotlib.pyplot as plt\n",
        "import matplotlib.cm as cm\n",
        "import matplotlib.colors as colors\n",
        "\n",
        "import seaborn as sns\n",
        "from urllib.request import urlopen\n",
        "\n",
        "import requests\n",
        "# import k-means from clustering stage\n",
        "from sklearn.cluster import KMeans\n",
        "\n",
        "print(\"Library imported 51.\")\n"
      ],
      "execution_count": 0,
      "outputs": [
        {
          "output_type": "stream",
          "text": [
            "/usr/local/lib/python3.6/dist-packages/statsmodels/tools/_testing.py:19: FutureWarning: pandas.util.testing is deprecated. Use the functions in the public API at pandas.testing instead.\n",
            "  import pandas.util.testing as tm\n"
          ],
          "name": "stderr"
        },
        {
          "output_type": "stream",
          "text": [
            "Library imported 51.\n"
          ],
          "name": "stdout"
        }
      ]
    },
    {
      "cell_type": "code",
      "metadata": {
        "id": "cd80ngGa0KK1",
        "colab_type": "code",
        "outputId": "a32b94a6-1136-4b19-c3ce-8441784561ab",
        "colab": {
          "base_uri": "https://localhost:8080/",
          "height": 35
        }
      },
      "source": [
        "import folium # map rendering library\n",
        "from geopy.geocoders import Nominatim # convert an address into latitude and longitude values\n",
        "print(\"Library imported 52.\")\n"
      ],
      "execution_count": 0,
      "outputs": [
        {
          "output_type": "stream",
          "text": [
            "Library imported 52.\n"
          ],
          "name": "stdout"
        }
      ]
    },
    {
      "cell_type": "markdown",
      "metadata": {
        "id": "Udy_-FhixgPl",
        "colab_type": "text"
      },
      "source": [
        "## **Mumbai Neighborhoods.**"
      ]
    },
    {
      "cell_type": "code",
      "metadata": {
        "id": "U2C-IcwxgSid",
        "colab_type": "code",
        "colab": {}
      },
      "source": [
        "areas_south = [\"Colaba\",\"Apollo Bandar\",\"Fort\",\"Churchgate\",\"Nariman Point\" \\\n",
        "        ,\"Marine Lines\",\"Walkeshwar\",\"Malabar Hill\",\"Kalbadevi\",\"Bhuleshwar\" \\\n",
        "        ,\"Masjid Bandar\",\"Darukhana\",\"Pydhoni\",\"Nagpada\",\"Dongri\" \\\n",
        "        ,\"Byculla\",\"Grand Road\",\"Mazgaon\",\"Mumbai Central\",\"Mahalaxmi\" \\\n",
        "        ,\"Worli\"]\n",
        "\n",
        "areas_west = [\"Dadar\",\"Bandra West\",\"Juhu\",\"Andheri\",\"Kalina\" \\\n",
        "              ,\"Santa Cruz\",\"Mahim\",\"Khar\"]\n",
        "\n",
        "areas_east = [\"Kurla\",\"Ghatkopar\",\"Chembur\",\"Govandi\",\"Mulund West\"] \n",
        "areas_north = [\"Powai\",\"Jogeshwari\",\"Malad\",\"Borivali\",\"Mira Road\"] \n",
        "\n",
        "#boroughs\n",
        "boroughs_south_mumbai = [\"South Mumbai\",\"South Mumbai\",\"South Mumbai\",\"South Mumbai\",\"South Mumbai\", \\\n",
        "             \"South Mumbai\",\"South Mumbai\",\"South Mumbai\",\"South Mumbai\",\"South Mumbai\", \\\n",
        "             \"South Mumbai\",\"South Mumbai\",\"South Mumbai\",\"South Mumbai\",\"South Mumbai\", \\\n",
        "             \"South Mumbai\",\"South Mumbai\",\"South Mumbai\",\"South Mumbai\",\"South Mumbai\", \\\n",
        "             \"South Mumbai\"]\n",
        "\n",
        "boroughs_west_mumbai = [\"West Mumbai\",\"West Mumbai\",\"West Mumbai\",\"West Mumbai\",\"West Mumbai\" \\\n",
        "             ,\"West Mumbai\",\"West Mumbai\",\"West Mumbai\"]\n",
        "\n",
        "boroughs_east_mumbai = [\"East Mumbai\",\"East Mumbai\",\"East Mumbai\",\"East Mumbai\",\"East Mumbai\"]\n",
        "\n",
        "boroughs_north_mumbai = [\"North Mumbai\",\"North Mumbai\",\"North Mumbai\",\"North Mumbai\",\"North Mumbai\"]"
      ],
      "execution_count": 0,
      "outputs": []
    },
    {
      "cell_type": "markdown",
      "metadata": {
        "id": "IMkv6CntzbNm",
        "colab_type": "text"
      },
      "source": [
        "#### **Note : This split was done due to limitations faced during call to API for retrieving the coordinates of all 39 neighborhoods.**"
      ]
    },
    {
      "cell_type": "code",
      "metadata": {
        "id": "MZDK5Yb8924o",
        "colab_type": "code",
        "outputId": "84867886-09ec-474b-eaa7-537464c59db4",
        "colab": {
          "base_uri": "https://localhost:8080/",
          "height": 144
        }
      },
      "source": [
        "boroughs1 =  boroughs_south_mumbai\n",
        "boroughs2 =  boroughs_west_mumbai + boroughs_east_mumbai + boroughs_north_mumbai\n",
        "\n",
        "areas1 = areas_south\n",
        "areas2 = areas_west + areas_east + areas_north\n",
        "\n",
        "#Building full address to pass to API\n",
        "full_address1 = []\n",
        "for area in areas1:\n",
        "  full_address1.append(area + \", Mumbai\")\n",
        "\n",
        "full_address2 = []\n",
        "for area in areas2:\n",
        "  full_address2.append(area + \", Mumbai\") \n",
        "\n",
        "print(\"Lenght of areas1={} , boroughs1 = {} , full_address1 = {}\" \\\n",
        ".format(len(areas1),len(boroughs1),len(full_address1)))\n",
        "\n",
        "print(\"Lenght of areas2={} , boroughs2 = {} , full_address2 = {}\" \\\n",
        ".format(len(areas2),len(boroughs2),len(full_address2))) \n",
        "\n",
        "#Create Dictionary first\n",
        "dic_area1 = {\"Neighborhood\": areas1,\"Boroughs\": boroughs1,\"Address\":full_address1}\n",
        "dic_area2 = {\"Neighborhood\": areas2,\"Boroughs\": boroughs2,\"Address\":full_address2}\n",
        "print(\"dic_area1:\",dic_area1)\n",
        "print(\"dic_area2:\",dic_area2)\n",
        "\n",
        "#Create dataframes from dictionary\n",
        "df_area1 = pd.DataFrame.from_dict(dic_area1)\n",
        "df_area2 = pd.DataFrame.from_dict(dic_area2)\n",
        "\n",
        "print(\"df_area1:\",df_area1.shape)\n",
        "print(\"df_area2:\",df_area2.shape)\n",
        "\n"
      ],
      "execution_count": 0,
      "outputs": [
        {
          "output_type": "stream",
          "text": [
            "Lenght of areas1=21 , boroughs1 = 21 , full_address1 = 21\n",
            "Lenght of areas2=18 , boroughs2 = 18 , full_address2 = 18\n",
            "dic_area1: {'Neighborhood': ['Colaba', 'Apollo Bandar', 'Fort', 'Churchgate', 'Nariman Point', 'Marine Lines', 'Walkeshwar', 'Malabar Hill', 'Kalbadevi', 'Bhuleshwar', 'Masjid Bandar', 'Darukhana', 'Pydhoni', 'Nagpada', 'Dongri', 'Byculla', 'Grand Road', 'Mazgaon', 'Mumbai Central', 'Mahalaxmi', 'Worli'], 'Boroughs': ['South Mumbai', 'South Mumbai', 'South Mumbai', 'South Mumbai', 'South Mumbai', 'South Mumbai', 'South Mumbai', 'South Mumbai', 'South Mumbai', 'South Mumbai', 'South Mumbai', 'South Mumbai', 'South Mumbai', 'South Mumbai', 'South Mumbai', 'South Mumbai', 'South Mumbai', 'South Mumbai', 'South Mumbai', 'South Mumbai', 'South Mumbai'], 'Address': ['Colaba, Mumbai', 'Apollo Bandar, Mumbai', 'Fort, Mumbai', 'Churchgate, Mumbai', 'Nariman Point, Mumbai', 'Marine Lines, Mumbai', 'Walkeshwar, Mumbai', 'Malabar Hill, Mumbai', 'Kalbadevi, Mumbai', 'Bhuleshwar, Mumbai', 'Masjid Bandar, Mumbai', 'Darukhana, Mumbai', 'Pydhoni, Mumbai', 'Nagpada, Mumbai', 'Dongri, Mumbai', 'Byculla, Mumbai', 'Grand Road, Mumbai', 'Mazgaon, Mumbai', 'Mumbai Central, Mumbai', 'Mahalaxmi, Mumbai', 'Worli, Mumbai']}\n",
            "dic_area2: {'Neighborhood': ['Dadar', 'Bandra West', 'Juhu', 'Andheri', 'Kalina', 'Santa Cruz', 'Mahim', 'Khar', 'Kurla', 'Ghatkopar', 'Chembur', 'Govandi', 'Mulund West', 'Powai', 'Jogeshwari', 'Malad', 'Borivali', 'Mira Road'], 'Boroughs': ['West Mumbai', 'West Mumbai', 'West Mumbai', 'West Mumbai', 'West Mumbai', 'West Mumbai', 'West Mumbai', 'West Mumbai', 'East Mumbai', 'East Mumbai', 'East Mumbai', 'East Mumbai', 'East Mumbai', 'North Mumbai', 'North Mumbai', 'North Mumbai', 'North Mumbai', 'North Mumbai'], 'Address': ['Dadar, Mumbai', 'Bandra West, Mumbai', 'Juhu, Mumbai', 'Andheri, Mumbai', 'Kalina, Mumbai', 'Santa Cruz, Mumbai', 'Mahim, Mumbai', 'Khar, Mumbai', 'Kurla, Mumbai', 'Ghatkopar, Mumbai', 'Chembur, Mumbai', 'Govandi, Mumbai', 'Mulund West, Mumbai', 'Powai, Mumbai', 'Jogeshwari, Mumbai', 'Malad, Mumbai', 'Borivali, Mumbai', 'Mira Road, Mumbai']}\n",
            "df_area1: (21, 3)\n",
            "df_area2: (18, 3)\n"
          ],
          "name": "stdout"
        }
      ]
    },
    {
      "cell_type": "markdown",
      "metadata": {
        "id": "49_YKf0O0ovv",
        "colab_type": "text"
      },
      "source": [
        "### **Get coordinates of each neighborhood of Mumbai.**"
      ]
    },
    {
      "cell_type": "markdown",
      "metadata": {
        "id": "rhMC_m55SbN_",
        "colab_type": "text"
      },
      "source": [
        "##### **Let's pass South Mumbai dataframe :  df_area1**"
      ]
    },
    {
      "cell_type": "markdown",
      "metadata": {
        "id": "ob9aPeg4P0J1",
        "colab_type": "text"
      },
      "source": [
        "##### **Use geopy library to get the latitude and longitude values of Mumbai neigborhoods**\n",
        "####**In order to define an instance of the geocoder, we need to define a user_agent. We will name our agent ny_explorer, as shown below.**"
      ]
    },
    {
      "cell_type": "code",
      "metadata": {
        "id": "IYNFdGA1TQBU",
        "colab_type": "code",
        "outputId": "f33313c9-7499-4a9d-d821-8bd50b37db1d",
        "colab": {
          "base_uri": "https://localhost:8080/",
          "height": 218
        }
      },
      "source": [
        "# South Mumbai first\n",
        "\n",
        "df2 = df_area1\n",
        "df2.head()\n",
        "\n",
        "data = []\n",
        "for  neighborhood,address,borough in zip(df2['Neighborhood'], df2['Address'],df2['Boroughs']):\n",
        "    geolocator = Nominatim(user_agent=\"ny_explorer\")\n",
        "    location = geolocator.geocode(address)\n",
        "    latitude = location.latitude\n",
        "    longitude = location.longitude\n",
        "    data.append([neighborhood,borough,latitude,longitude])\n",
        "\n",
        "col_names =  ['Neighborhood', 'Borough', 'Latitude','Longitude']\n",
        "neighborhoods = pd.DataFrame(data,columns=col_names)\n",
        "\n",
        "# Assign to neighborhoods1 : South Mumbai\n",
        "neighborhoods1 = neighborhoods\n",
        "print(\"Coordiates for {} South Mumbai neighborhoods obtained.\".format(neighborhoods1.shape[0]) )\n",
        "neighborhoods1.tail()\n"
      ],
      "execution_count": 0,
      "outputs": [
        {
          "output_type": "stream",
          "text": [
            "Coordiates for 21 South Mumbai neighborhoods obtained.\n"
          ],
          "name": "stdout"
        },
        {
          "output_type": "execute_result",
          "data": {
            "text/html": [
              "<div>\n",
              "<style scoped>\n",
              "    .dataframe tbody tr th:only-of-type {\n",
              "        vertical-align: middle;\n",
              "    }\n",
              "\n",
              "    .dataframe tbody tr th {\n",
              "        vertical-align: top;\n",
              "    }\n",
              "\n",
              "    .dataframe thead th {\n",
              "        text-align: right;\n",
              "    }\n",
              "</style>\n",
              "<table border=\"1\" class=\"dataframe\">\n",
              "  <thead>\n",
              "    <tr style=\"text-align: right;\">\n",
              "      <th></th>\n",
              "      <th>Neighborhood</th>\n",
              "      <th>Borough</th>\n",
              "      <th>Latitude</th>\n",
              "      <th>Longitude</th>\n",
              "    </tr>\n",
              "  </thead>\n",
              "  <tbody>\n",
              "    <tr>\n",
              "      <th>16</th>\n",
              "      <td>Grand Road</td>\n",
              "      <td>South Mumbai</td>\n",
              "      <td>18.938771</td>\n",
              "      <td>72.835335</td>\n",
              "    </tr>\n",
              "    <tr>\n",
              "      <th>17</th>\n",
              "      <td>Mazgaon</td>\n",
              "      <td>South Mumbai</td>\n",
              "      <td>18.968052</td>\n",
              "      <td>72.840012</td>\n",
              "    </tr>\n",
              "    <tr>\n",
              "      <th>18</th>\n",
              "      <td>Mumbai Central</td>\n",
              "      <td>South Mumbai</td>\n",
              "      <td>18.969586</td>\n",
              "      <td>72.819315</td>\n",
              "    </tr>\n",
              "    <tr>\n",
              "      <th>19</th>\n",
              "      <td>Mahalaxmi</td>\n",
              "      <td>South Mumbai</td>\n",
              "      <td>18.982568</td>\n",
              "      <td>72.824160</td>\n",
              "    </tr>\n",
              "    <tr>\n",
              "      <th>20</th>\n",
              "      <td>Worli</td>\n",
              "      <td>South Mumbai</td>\n",
              "      <td>19.011696</td>\n",
              "      <td>72.818070</td>\n",
              "    </tr>\n",
              "  </tbody>\n",
              "</table>\n",
              "</div>"
            ],
            "text/plain": [
              "      Neighborhood       Borough   Latitude  Longitude\n",
              "16      Grand Road  South Mumbai  18.938771  72.835335\n",
              "17         Mazgaon  South Mumbai  18.968052  72.840012\n",
              "18  Mumbai Central  South Mumbai  18.969586  72.819315\n",
              "19       Mahalaxmi  South Mumbai  18.982568  72.824160\n",
              "20           Worli  South Mumbai  19.011696  72.818070"
            ]
          },
          "metadata": {
            "tags": []
          },
          "execution_count": 6
        }
      ]
    },
    {
      "cell_type": "markdown",
      "metadata": {
        "id": "RfNkXb86ULkW",
        "colab_type": "text"
      },
      "source": [
        "### **Now let's pass east+west+north Mumabi : df_area2**"
      ]
    },
    {
      "cell_type": "code",
      "metadata": {
        "id": "czK5NCKvUKVB",
        "colab_type": "code",
        "outputId": "c213c9e1-66d6-487a-a355-a87946524cb5",
        "colab": {
          "base_uri": "https://localhost:8080/",
          "height": 202
        }
      },
      "source": [
        "df2 = df_area2\n",
        "df2.tail()"
      ],
      "execution_count": 0,
      "outputs": [
        {
          "output_type": "execute_result",
          "data": {
            "text/html": [
              "<div>\n",
              "<style scoped>\n",
              "    .dataframe tbody tr th:only-of-type {\n",
              "        vertical-align: middle;\n",
              "    }\n",
              "\n",
              "    .dataframe tbody tr th {\n",
              "        vertical-align: top;\n",
              "    }\n",
              "\n",
              "    .dataframe thead th {\n",
              "        text-align: right;\n",
              "    }\n",
              "</style>\n",
              "<table border=\"1\" class=\"dataframe\">\n",
              "  <thead>\n",
              "    <tr style=\"text-align: right;\">\n",
              "      <th></th>\n",
              "      <th>Neighborhood</th>\n",
              "      <th>Boroughs</th>\n",
              "      <th>Address</th>\n",
              "    </tr>\n",
              "  </thead>\n",
              "  <tbody>\n",
              "    <tr>\n",
              "      <th>13</th>\n",
              "      <td>Powai</td>\n",
              "      <td>North Mumbai</td>\n",
              "      <td>Powai, Mumbai</td>\n",
              "    </tr>\n",
              "    <tr>\n",
              "      <th>14</th>\n",
              "      <td>Jogeshwari</td>\n",
              "      <td>North Mumbai</td>\n",
              "      <td>Jogeshwari, Mumbai</td>\n",
              "    </tr>\n",
              "    <tr>\n",
              "      <th>15</th>\n",
              "      <td>Malad</td>\n",
              "      <td>North Mumbai</td>\n",
              "      <td>Malad, Mumbai</td>\n",
              "    </tr>\n",
              "    <tr>\n",
              "      <th>16</th>\n",
              "      <td>Borivali</td>\n",
              "      <td>North Mumbai</td>\n",
              "      <td>Borivali, Mumbai</td>\n",
              "    </tr>\n",
              "    <tr>\n",
              "      <th>17</th>\n",
              "      <td>Mira Road</td>\n",
              "      <td>North Mumbai</td>\n",
              "      <td>Mira Road, Mumbai</td>\n",
              "    </tr>\n",
              "  </tbody>\n",
              "</table>\n",
              "</div>"
            ],
            "text/plain": [
              "   Neighborhood      Boroughs             Address\n",
              "13        Powai  North Mumbai       Powai, Mumbai\n",
              "14   Jogeshwari  North Mumbai  Jogeshwari, Mumbai\n",
              "15        Malad  North Mumbai       Malad, Mumbai\n",
              "16     Borivali  North Mumbai    Borivali, Mumbai\n",
              "17    Mira Road  North Mumbai   Mira Road, Mumbai"
            ]
          },
          "metadata": {
            "tags": []
          },
          "execution_count": 367
        }
      ]
    },
    {
      "cell_type": "code",
      "metadata": {
        "id": "Zda79u-PUuJA",
        "colab_type": "code",
        "outputId": "1fbdf861-bf0a-4be6-a01d-4bc82f284fd8",
        "colab": {
          "base_uri": "https://localhost:8080/",
          "height": 1000
        }
      },
      "source": [
        "# Now second iteration for Rest of Mumbai.\n",
        "\n",
        "df2 = df_area2\n",
        "df2.tail()\n",
        "\n",
        "data = []\n",
        "for  neighborhood,address,borough in zip(df2['Neighborhood'], df2['Address'],df2['Boroughs']):\n",
        "  print(\"neighborhood:\", neighborhood)\n",
        "  print(\"address:\", address)\n",
        "  print(\"borough:\", borough)\n",
        "  geolocator = Nominatim(user_agent=\"ny_explorer\")\n",
        "  location = geolocator.geocode(address)\n",
        "  latitude = location.latitude\n",
        "  longitude = location.longitude\n",
        "  print(\"latitude:\", latitude)\n",
        "  print(\"longitude:\", longitude)\n",
        "  data.append([neighborhood,borough,latitude,longitude])\n",
        "\n",
        "col_names =  ['Neighborhood', 'Borough', 'Latitude','Longitude']\n",
        "neighborhoods = pd.DataFrame(data,columns=col_names)\n",
        "\n",
        "#Assign to neighborhoods2 : Rest of Mumbai\n",
        "neighborhoods2 = neighborhoods\n",
        "print(\"Coordiates for {} Rest of Mumbai neighborhoods obtained.\".format(neighborhoods2.shape[0]) )\n",
        "neighborhoods2.tail()"
      ],
      "execution_count": 0,
      "outputs": [
        {
          "output_type": "stream",
          "text": [
            "neighborhood: Dadar\n",
            "address: Dadar, Mumbai\n",
            "borough: West Mumbai\n",
            "latitude: 19.019282\n",
            "longitude: 72.8428757\n",
            "neighborhood: Bandra West\n",
            "address: Bandra West, Mumbai\n",
            "borough: West Mumbai\n",
            "latitude: 19.0583358\n",
            "longitude: 72.8302669\n",
            "neighborhood: Juhu\n",
            "address: Juhu, Mumbai\n",
            "borough: West Mumbai\n",
            "latitude: 19.1070215\n",
            "longitude: 72.8275275\n",
            "neighborhood: Andheri\n",
            "address: Andheri, Mumbai\n",
            "borough: West Mumbai\n",
            "latitude: 19.1196976\n",
            "longitude: 72.8464205\n",
            "neighborhood: Kalina\n",
            "address: Kalina, Mumbai\n",
            "borough: West Mumbai\n",
            "latitude: 19.079273\n",
            "longitude: 72.8612672\n",
            "neighborhood: Santa Cruz\n",
            "address: Santa Cruz, Mumbai\n",
            "borough: West Mumbai\n",
            "latitude: 19.0793694\n",
            "longitude: 72.8470855\n",
            "neighborhood: Mahim\n",
            "address: Mahim, Mumbai\n",
            "borough: West Mumbai\n",
            "latitude: 19.0423145\n",
            "longitude: 72.8398344\n",
            "neighborhood: Khar\n",
            "address: Khar, Mumbai\n",
            "borough: West Mumbai\n",
            "latitude: 19.0696584\n",
            "longitude: 72.8398944\n",
            "neighborhood: Kurla\n",
            "address: Kurla, Mumbai\n",
            "borough: East Mumbai\n",
            "latitude: 19.0652797\n",
            "longitude: 72.8793805\n",
            "neighborhood: Ghatkopar\n",
            "address: Ghatkopar, Mumbai\n",
            "borough: East Mumbai\n",
            "latitude: 19.0859539\n",
            "longitude: 72.9082381\n",
            "neighborhood: Chembur\n",
            "address: Chembur, Mumbai\n",
            "borough: East Mumbai\n",
            "latitude: 19.0612128\n",
            "longitude: 72.8975909\n",
            "neighborhood: Govandi\n",
            "address: Govandi, Mumbai\n",
            "borough: East Mumbai\n",
            "latitude: 19.0553688\n",
            "longitude: 72.9150702\n",
            "neighborhood: Mulund West\n",
            "address: Mulund West, Mumbai\n",
            "borough: East Mumbai\n",
            "latitude: 19.1719717\n",
            "longitude: 72.9511956\n",
            "neighborhood: Powai\n",
            "address: Powai, Mumbai\n",
            "borough: North Mumbai\n",
            "latitude: 19.1187195\n",
            "longitude: 72.9073476\n",
            "neighborhood: Jogeshwari\n",
            "address: Jogeshwari, Mumbai\n",
            "borough: North Mumbai\n",
            "latitude: 19.1348994\n",
            "longitude: 72.8488199\n",
            "neighborhood: Malad\n",
            "address: Malad, Mumbai\n",
            "borough: North Mumbai\n",
            "latitude: 19.1867193\n",
            "longitude: 72.8485884\n",
            "neighborhood: Borivali\n",
            "address: Borivali, Mumbai\n",
            "borough: North Mumbai\n",
            "latitude: 19.229068\n",
            "longitude: 72.8573628\n",
            "neighborhood: Mira Road\n",
            "address: Mira Road, Mumbai\n",
            "borough: North Mumbai\n",
            "latitude: 19.1878962\n",
            "longitude: 72.8365955\n",
            "Coordiates for 18 Rest of Mumbai neighborhoods obtained.\n"
          ],
          "name": "stdout"
        },
        {
          "output_type": "execute_result",
          "data": {
            "text/html": [
              "<div>\n",
              "<style scoped>\n",
              "    .dataframe tbody tr th:only-of-type {\n",
              "        vertical-align: middle;\n",
              "    }\n",
              "\n",
              "    .dataframe tbody tr th {\n",
              "        vertical-align: top;\n",
              "    }\n",
              "\n",
              "    .dataframe thead th {\n",
              "        text-align: right;\n",
              "    }\n",
              "</style>\n",
              "<table border=\"1\" class=\"dataframe\">\n",
              "  <thead>\n",
              "    <tr style=\"text-align: right;\">\n",
              "      <th></th>\n",
              "      <th>Neighborhood</th>\n",
              "      <th>Borough</th>\n",
              "      <th>Latitude</th>\n",
              "      <th>Longitude</th>\n",
              "    </tr>\n",
              "  </thead>\n",
              "  <tbody>\n",
              "    <tr>\n",
              "      <th>13</th>\n",
              "      <td>Powai</td>\n",
              "      <td>North Mumbai</td>\n",
              "      <td>19.118720</td>\n",
              "      <td>72.907348</td>\n",
              "    </tr>\n",
              "    <tr>\n",
              "      <th>14</th>\n",
              "      <td>Jogeshwari</td>\n",
              "      <td>North Mumbai</td>\n",
              "      <td>19.134899</td>\n",
              "      <td>72.848820</td>\n",
              "    </tr>\n",
              "    <tr>\n",
              "      <th>15</th>\n",
              "      <td>Malad</td>\n",
              "      <td>North Mumbai</td>\n",
              "      <td>19.186719</td>\n",
              "      <td>72.848588</td>\n",
              "    </tr>\n",
              "    <tr>\n",
              "      <th>16</th>\n",
              "      <td>Borivali</td>\n",
              "      <td>North Mumbai</td>\n",
              "      <td>19.229068</td>\n",
              "      <td>72.857363</td>\n",
              "    </tr>\n",
              "    <tr>\n",
              "      <th>17</th>\n",
              "      <td>Mira Road</td>\n",
              "      <td>North Mumbai</td>\n",
              "      <td>19.187896</td>\n",
              "      <td>72.836596</td>\n",
              "    </tr>\n",
              "  </tbody>\n",
              "</table>\n",
              "</div>"
            ],
            "text/plain": [
              "   Neighborhood       Borough   Latitude  Longitude\n",
              "13        Powai  North Mumbai  19.118720  72.907348\n",
              "14   Jogeshwari  North Mumbai  19.134899  72.848820\n",
              "15        Malad  North Mumbai  19.186719  72.848588\n",
              "16     Borivali  North Mumbai  19.229068  72.857363\n",
              "17    Mira Road  North Mumbai  19.187896  72.836596"
            ]
          },
          "metadata": {
            "tags": []
          },
          "execution_count": 7
        }
      ]
    },
    {
      "cell_type": "markdown",
      "metadata": {
        "id": "i8-fKBnoXSQY",
        "colab_type": "text"
      },
      "source": [
        "## **Now Let's concat two dataframes for clubbing entire Mumbai dataframe to one.** "
      ]
    },
    {
      "cell_type": "code",
      "metadata": {
        "id": "EeTm-5W1TIef",
        "colab_type": "code",
        "outputId": "b6753d12-fe07-4b54-b4b1-1ae63530bd98",
        "colab": {
          "base_uri": "https://localhost:8080/",
          "height": 218
        }
      },
      "source": [
        "neighborhoods = neighborhoods1.append(neighborhoods2,ignore_index=True)\n",
        "neighborhoods = neighborhoods.reset_index()\n",
        "print(\"Merged data frame have {} rows.\".format(neighborhoods.shape[0]) )\n",
        "neighborhoods.tail()\n"
      ],
      "execution_count": 0,
      "outputs": [
        {
          "output_type": "stream",
          "text": [
            "Merged data frame have 39 rows.\n"
          ],
          "name": "stdout"
        },
        {
          "output_type": "execute_result",
          "data": {
            "text/html": [
              "<div>\n",
              "<style scoped>\n",
              "    .dataframe tbody tr th:only-of-type {\n",
              "        vertical-align: middle;\n",
              "    }\n",
              "\n",
              "    .dataframe tbody tr th {\n",
              "        vertical-align: top;\n",
              "    }\n",
              "\n",
              "    .dataframe thead th {\n",
              "        text-align: right;\n",
              "    }\n",
              "</style>\n",
              "<table border=\"1\" class=\"dataframe\">\n",
              "  <thead>\n",
              "    <tr style=\"text-align: right;\">\n",
              "      <th></th>\n",
              "      <th>index</th>\n",
              "      <th>Neighborhood</th>\n",
              "      <th>Borough</th>\n",
              "      <th>Latitude</th>\n",
              "      <th>Longitude</th>\n",
              "    </tr>\n",
              "  </thead>\n",
              "  <tbody>\n",
              "    <tr>\n",
              "      <th>34</th>\n",
              "      <td>34</td>\n",
              "      <td>Powai</td>\n",
              "      <td>North Mumbai</td>\n",
              "      <td>19.118720</td>\n",
              "      <td>72.907348</td>\n",
              "    </tr>\n",
              "    <tr>\n",
              "      <th>35</th>\n",
              "      <td>35</td>\n",
              "      <td>Jogeshwari</td>\n",
              "      <td>North Mumbai</td>\n",
              "      <td>19.134899</td>\n",
              "      <td>72.848820</td>\n",
              "    </tr>\n",
              "    <tr>\n",
              "      <th>36</th>\n",
              "      <td>36</td>\n",
              "      <td>Malad</td>\n",
              "      <td>North Mumbai</td>\n",
              "      <td>19.186719</td>\n",
              "      <td>72.848588</td>\n",
              "    </tr>\n",
              "    <tr>\n",
              "      <th>37</th>\n",
              "      <td>37</td>\n",
              "      <td>Borivali</td>\n",
              "      <td>North Mumbai</td>\n",
              "      <td>19.229068</td>\n",
              "      <td>72.857363</td>\n",
              "    </tr>\n",
              "    <tr>\n",
              "      <th>38</th>\n",
              "      <td>38</td>\n",
              "      <td>Mira Road</td>\n",
              "      <td>North Mumbai</td>\n",
              "      <td>19.187896</td>\n",
              "      <td>72.836596</td>\n",
              "    </tr>\n",
              "  </tbody>\n",
              "</table>\n",
              "</div>"
            ],
            "text/plain": [
              "    index Neighborhood       Borough   Latitude  Longitude\n",
              "34     34        Powai  North Mumbai  19.118720  72.907348\n",
              "35     35   Jogeshwari  North Mumbai  19.134899  72.848820\n",
              "36     36        Malad  North Mumbai  19.186719  72.848588\n",
              "37     37     Borivali  North Mumbai  19.229068  72.857363\n",
              "38     38    Mira Road  North Mumbai  19.187896  72.836596"
            ]
          },
          "metadata": {
            "tags": []
          },
          "execution_count": 8
        }
      ]
    },
    {
      "cell_type": "markdown",
      "metadata": {
        "id": "NcwDbMNZQPQC",
        "colab_type": "text"
      },
      "source": [
        "#### **Let's get coordinates of Mumbai.**"
      ]
    },
    {
      "cell_type": "code",
      "metadata": {
        "id": "q2CBuyT-PbZF",
        "colab_type": "code",
        "outputId": "159172b2-c43b-4ae0-b033-526072d3ecc7",
        "colab": {
          "base_uri": "https://localhost:8080/",
          "height": 35
        }
      },
      "source": [
        "address = \"Mumbai\"\n",
        "geolocator = Nominatim(user_agent=\"ny_explorer\")\n",
        "location = geolocator.geocode(address)\n",
        "latitude = location.latitude\n",
        "longitude = location.longitude\n",
        "mumbai_latitude = latitude\n",
        "mumbai_longitude = longitude\n",
        "print (\"Latitude={} and Longitude={}\".format(mumbai_latitude,mumbai_longitude))"
      ],
      "execution_count": 0,
      "outputs": [
        {
          "output_type": "stream",
          "text": [
            "Latitude=18.9387711 and Longitude=72.8353355\n"
          ],
          "name": "stdout"
        }
      ]
    },
    {
      "cell_type": "markdown",
      "metadata": {
        "id": "Xl9jqwod_QDj",
        "colab_type": "text"
      },
      "source": [
        "### **Create a map of Mumbai with neighborhoods superimposed on top.**\n"
      ]
    },
    {
      "cell_type": "markdown",
      "metadata": {
        "id": "jsRsLRnsROU1",
        "colab_type": "text"
      },
      "source": [
        " Here folium library is being used to create city map.The add masrkers to show neighborhoods of Mumbai."
      ]
    },
    {
      "cell_type": "code",
      "metadata": {
        "id": "LTI6w1wP_bNa",
        "colab_type": "code",
        "outputId": "ad646438-db4a-45dc-e9b8-72a2c532c4c9",
        "colab": {
          "base_uri": "https://localhost:8080/",
          "height": 616
        }
      },
      "source": [
        "map_mumbai = folium.Map(location=[latitude, longitude], zoom_start=14)\n",
        "\n",
        "for lat, lng, borough, neighborhood in zip(neighborhoods['Latitude'], neighborhoods['Longitude'], neighborhoods['Borough'], neighborhoods['Neighborhood']):\n",
        "    label = '{}, {}'.format(neighborhood, borough)\n",
        "    label = folium.Popup(label, parse_html=True)\n",
        "    folium.CircleMarker(\n",
        "        [lat, lng],\n",
        "        radius=5,\n",
        "        popup=label,\n",
        "        color='blue',\n",
        "        fill=True,\n",
        "        fill_color='#3186cc',\n",
        "        fill_opacity=0.7,\n",
        "        parse_html=False).add_to(map_mumbai)  \n",
        "    \n",
        "map_mumbai"
      ],
      "execution_count": 0,
      "outputs": [
        {
          "output_type": "execute_result",
          "data": {
            "text/html": [
              "<div style=\"width:100%;\"><div style=\"position:relative;width:100%;height:0;padding-bottom:60%;\"><iframe src=\"about:blank\" style=\"position:absolute;width:100%;height:100%;left:0;top:0;border:none !important;\" data-html=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 onload=\"this.contentDocument.open();this.contentDocument.write(atob(this.getAttribute('data-html')));this.contentDocument.close();\" allowfullscreen webkitallowfullscreen mozallowfullscreen></iframe></div></div>"
            ],
            "text/plain": [
              "<folium.folium.Map at 0x7f700b0f0cc0>"
            ]
          },
          "metadata": {
            "tags": []
          },
          "execution_count": 10
        }
      ]
    },
    {
      "cell_type": "markdown",
      "metadata": {
        "id": "s7PEN5foR5Ek",
        "colab_type": "text"
      },
      "source": [
        "### **Four Square API to Get Venues** "
      ]
    },
    {
      "cell_type": "markdown",
      "metadata": {
        "id": "nqYekSv4SBDh",
        "colab_type": "text"
      },
      "source": [
        "##### Four Square API are being used here to fetch the venues around a location. It needs latitude and longitude of location and returns venues along with categories."
      ]
    },
    {
      "cell_type": "markdown",
      "metadata": {
        "id": "1VYPCSN191Le",
        "colab_type": "text"
      },
      "source": [
        "##### **Define Foursquare Credentials and Version**"
      ]
    },
    {
      "cell_type": "code",
      "metadata": {
        "id": "XZbAhW3d-Lcl",
        "colab_type": "code",
        "outputId": "ecac2971-f5a3-4fee-a9c3-131ff5194d53",
        "colab": {
          "base_uri": "https://localhost:8080/",
          "height": 70
        }
      },
      "source": [
        "CLIENT_ID = 'AED1YJAEJO1BSJVJJ5KT2Y2BDGDVPCB21WUXERHTA4B4XXKC' # Foursquare ID\n",
        "CLIENT_SECRET = '5WF0PKUAGWG30ASKZSBV12XHC2IDIQLEHRRPU541XI2JVQCH' #  Foursquare Secret\n",
        "VERSION = '20180605' # Foursquare API version\n",
        "\n",
        "print('credentails:')\n",
        "print('CLIENT_ID: ' + CLIENT_ID)\n",
        "print('CLIENT_SECRET:' + CLIENT_SECRET)\n"
      ],
      "execution_count": 0,
      "outputs": [
        {
          "output_type": "stream",
          "text": [
            "credentails:\n",
            "CLIENT_ID: AED1YJAEJO1BSJVJJ5KT2Y2BDGDVPCB21WUXERHTA4B4XXKC\n",
            "CLIENT_SECRET:5WF0PKUAGWG30ASKZSBV12XHC2IDIQLEHRRPU541XI2JVQCH\n"
          ],
          "name": "stdout"
        }
      ]
    },
    {
      "cell_type": "markdown",
      "metadata": {
        "id": "I-8pmMbD_HQn",
        "colab_type": "text"
      },
      "source": [
        "#### **Let's create a function to get nearby venues of each neighborhoods in Mumbai.**"
      ]
    },
    {
      "cell_type": "markdown",
      "metadata": {
        "id": "ICSs_LleoDyy",
        "colab_type": "text"
      },
      "source": [
        "##### Tried to keep an optimum value of radius. With more radius it fetches more vanues but chances of overlapping of neighborhood increases as well."
      ]
    },
    {
      "cell_type": "code",
      "metadata": {
        "id": "geJW0jks_NWX",
        "colab_type": "code",
        "outputId": "b59b9858-e55f-49a6-8978-1f8773820d85",
        "colab": {
          "base_uri": "https://localhost:8080/",
          "height": 35
        }
      },
      "source": [
        "radius=650\n",
        "LIMIT = 100\n",
        "print(\"The radius is = {} and LIMIT is = {}\".format(radius,LIMIT))\n",
        "\n",
        "def getNearbyVenues(names, latitudes, longitudes, radius=650):\n",
        "    \n",
        "    venues_list=[]\n",
        "    for name, lat, lng in zip(names, latitudes, longitudes):\n",
        "        print(name)\n",
        "            \n",
        "        # create the API request URL\n",
        "        url = 'https://api.foursquare.com/v2/venues/explore?&client_id={}&client_secret={}&v={}&ll={},{}&radius={}&limit={}'.format(\n",
        "            CLIENT_ID, \n",
        "            CLIENT_SECRET, \n",
        "            VERSION, \n",
        "            lat, \n",
        "            lng, \n",
        "            radius, \n",
        "            LIMIT)\n",
        "            \n",
        "        # make the GET request\n",
        "        results = requests.get(url).json()[\"response\"]['groups'][0]['items']\n",
        "        \n",
        "        # return only relevant information for each nearby venue\n",
        "        venues_list.append([(\n",
        "            name, \n",
        "            lat, \n",
        "            lng, \n",
        "            v['venue']['name'], \n",
        "            v['venue']['location']['lat'], \n",
        "            v['venue']['location']['lng'],  \n",
        "            v['venue']['categories'][0]['name']) for v in results])\n",
        "\n",
        "    nearby_venues = pd.DataFrame([item for venue_list in venues_list for item in venue_list])\n",
        "    nearby_venues.columns = ['Neighborhood', \n",
        "                  'Neighborhood Latitude', \n",
        "                  'Neighborhood Longitude', \n",
        "                  'Venue', \n",
        "                  'Venue Latitude', \n",
        "                  'Venue Longitude', \n",
        "                  'Venue Category']\n",
        "    \n",
        "    return(nearby_venues)\n"
      ],
      "execution_count": 0,
      "outputs": [
        {
          "output_type": "stream",
          "text": [
            "The radius is = 650 and LIMIT is = 100\n"
          ],
          "name": "stdout"
        }
      ]
    },
    {
      "cell_type": "markdown",
      "metadata": {
        "id": "9j-8XOPh_91T",
        "colab_type": "text"
      },
      "source": [
        "##### **Running the above function on each neighborhood and create a new dataframe.**"
      ]
    },
    {
      "cell_type": "code",
      "metadata": {
        "id": "pj3YIcL___3r",
        "colab_type": "code",
        "outputId": "2012ad1e-28c7-401e-8f79-b84403a627f5",
        "colab": {
          "base_uri": "https://localhost:8080/",
          "height": 870
        }
      },
      "source": [
        "south_mumbai_data = neighborhoods\n",
        "south_mumbai_venues = getNearbyVenues(names=south_mumbai_data['Neighborhood'],\n",
        "                                   latitudes=south_mumbai_data['Latitude'],\n",
        "                                   longitudes=south_mumbai_data['Longitude']\n",
        "                                   \n",
        "                                  )\n",
        "print(\"dtypes:\",south_mumbai_venues.dtypes)\n",
        "print(\"Total venues retrieved:\",south_mumbai_venues.shape[0])\n"
      ],
      "execution_count": 0,
      "outputs": [
        {
          "output_type": "stream",
          "text": [
            "Colaba\n",
            "Apollo Bandar\n",
            "Fort\n",
            "Churchgate\n",
            "Nariman Point\n",
            "Marine Lines\n",
            "Walkeshwar\n",
            "Malabar Hill\n",
            "Kalbadevi\n",
            "Bhuleshwar\n",
            "Masjid Bandar\n",
            "Darukhana\n",
            "Pydhoni\n",
            "Nagpada\n",
            "Dongri\n",
            "Byculla\n",
            "Grand Road\n",
            "Mazgaon\n",
            "Mumbai Central\n",
            "Mahalaxmi\n",
            "Worli\n",
            "Dadar\n",
            "Bandra West\n",
            "Juhu\n",
            "Andheri\n",
            "Kalina\n",
            "Santa Cruz\n",
            "Mahim\n",
            "Khar\n",
            "Kurla\n",
            "Ghatkopar\n",
            "Chembur\n",
            "Govandi\n",
            "Mulund West\n",
            "Powai\n",
            "Jogeshwari\n",
            "Malad\n",
            "Borivali\n",
            "Mira Road\n",
            "dtypes: Neighborhood               object\n",
            "Neighborhood Latitude     float64\n",
            "Neighborhood Longitude    float64\n",
            "Venue                      object\n",
            "Venue Latitude            float64\n",
            "Venue Longitude           float64\n",
            "Venue Category             object\n",
            "dtype: object\n",
            "Total venues retrieved: 1118\n"
          ],
          "name": "stdout"
        }
      ]
    },
    {
      "cell_type": "markdown",
      "metadata": {
        "id": "1zlhJbunTgvk",
        "colab_type": "text"
      },
      "source": [
        "#### **Understand the venue categories well.**"
      ]
    },
    {
      "cell_type": "code",
      "metadata": {
        "id": "o7_0ntlsqr4M",
        "colab_type": "code",
        "outputId": "bb4ab4e3-881b-4af2-8b95-2091f632db5b",
        "colab": {
          "base_uri": "https://localhost:8080/",
          "height": 145
        }
      },
      "source": [
        "south_mumbai_venues.head(2)"
      ],
      "execution_count": 0,
      "outputs": [
        {
          "output_type": "execute_result",
          "data": {
            "text/html": [
              "<div>\n",
              "<style scoped>\n",
              "    .dataframe tbody tr th:only-of-type {\n",
              "        vertical-align: middle;\n",
              "    }\n",
              "\n",
              "    .dataframe tbody tr th {\n",
              "        vertical-align: top;\n",
              "    }\n",
              "\n",
              "    .dataframe thead th {\n",
              "        text-align: right;\n",
              "    }\n",
              "</style>\n",
              "<table border=\"1\" class=\"dataframe\">\n",
              "  <thead>\n",
              "    <tr style=\"text-align: right;\">\n",
              "      <th></th>\n",
              "      <th>Neighborhood</th>\n",
              "      <th>Neighborhood Latitude</th>\n",
              "      <th>Neighborhood Longitude</th>\n",
              "      <th>Venue</th>\n",
              "      <th>Venue Latitude</th>\n",
              "      <th>Venue Longitude</th>\n",
              "      <th>Venue Category</th>\n",
              "    </tr>\n",
              "  </thead>\n",
              "  <tbody>\n",
              "    <tr>\n",
              "      <th>0</th>\n",
              "      <td>Colaba</td>\n",
              "      <td>18.915091</td>\n",
              "      <td>72.825969</td>\n",
              "      <td>Charagh Din</td>\n",
              "      <td>18.915254</td>\n",
              "      <td>72.824151</td>\n",
              "      <td>Men's Store</td>\n",
              "    </tr>\n",
              "    <tr>\n",
              "      <th>1</th>\n",
              "      <td>Colaba</td>\n",
              "      <td>18.915091</td>\n",
              "      <td>72.825969</td>\n",
              "      <td>IMBISS Meating Joint</td>\n",
              "      <td>18.917157</td>\n",
              "      <td>72.827018</td>\n",
              "      <td>German Restaurant</td>\n",
              "    </tr>\n",
              "  </tbody>\n",
              "</table>\n",
              "</div>"
            ],
            "text/plain": [
              "  Neighborhood  Neighborhood Latitude  ...  Venue Longitude     Venue Category\n",
              "0       Colaba              18.915091  ...        72.824151        Men's Store\n",
              "1       Colaba              18.915091  ...        72.827018  German Restaurant\n",
              "\n",
              "[2 rows x 7 columns]"
            ]
          },
          "metadata": {
            "tags": []
          },
          "execution_count": 376
        }
      ]
    },
    {
      "cell_type": "code",
      "metadata": {
        "id": "yt5TZEGv5IOW",
        "colab_type": "code",
        "colab": {}
      },
      "source": [
        "# backup\n",
        "south_mumbai_venues_unclean = south_mumbai_venues\n",
        "# save as csv file\n",
        "south_mumbai_venues_unclean = south_mumbai_venues_unclean.to_csv(\"south_mumbai_venues_unclean\")"
      ],
      "execution_count": 0,
      "outputs": []
    },
    {
      "cell_type": "code",
      "metadata": {
        "id": "NLHnpkhO5gGZ",
        "colab_type": "code",
        "outputId": "da4a66d4-ce95-4904-9409-bb4ae8e834ff",
        "colab": {
          "base_uri": "https://localhost:8080/",
          "height": 112
        }
      },
      "source": [
        "# merge with master table\n",
        "\n",
        "south_mumbai_venues_merge_1 = pd.merge(south_mumbai_venues,neighborhoods,on=\"Neighborhood\", how=\"inner\")\n",
        "south_mumbai_venues_merge_1 = south_mumbai_venues_merge_1[[\"Neighborhood\",\"Borough\", \"Neighborhood Latitude\" \\\n",
        "                               , \"Neighborhood Longitude\", \"Venue\", \"Venue Latitude\" \\\n",
        "                               , \"Venue Longitude\", \"Venue Category\" \\\n",
        "                                ]]\n",
        "south_mumbai_venues_merge_1.head(1)\n"
      ],
      "execution_count": 0,
      "outputs": [
        {
          "output_type": "execute_result",
          "data": {
            "text/html": [
              "<div>\n",
              "<style scoped>\n",
              "    .dataframe tbody tr th:only-of-type {\n",
              "        vertical-align: middle;\n",
              "    }\n",
              "\n",
              "    .dataframe tbody tr th {\n",
              "        vertical-align: top;\n",
              "    }\n",
              "\n",
              "    .dataframe thead th {\n",
              "        text-align: right;\n",
              "    }\n",
              "</style>\n",
              "<table border=\"1\" class=\"dataframe\">\n",
              "  <thead>\n",
              "    <tr style=\"text-align: right;\">\n",
              "      <th></th>\n",
              "      <th>Neighborhood</th>\n",
              "      <th>Borough</th>\n",
              "      <th>Neighborhood Latitude</th>\n",
              "      <th>Neighborhood Longitude</th>\n",
              "      <th>Venue</th>\n",
              "      <th>Venue Latitude</th>\n",
              "      <th>Venue Longitude</th>\n",
              "      <th>Venue Category</th>\n",
              "    </tr>\n",
              "  </thead>\n",
              "  <tbody>\n",
              "    <tr>\n",
              "      <th>0</th>\n",
              "      <td>Colaba</td>\n",
              "      <td>South Mumbai</td>\n",
              "      <td>18.915091</td>\n",
              "      <td>72.825969</td>\n",
              "      <td>Charagh Din</td>\n",
              "      <td>18.915254</td>\n",
              "      <td>72.824151</td>\n",
              "      <td>Men's Store</td>\n",
              "    </tr>\n",
              "  </tbody>\n",
              "</table>\n",
              "</div>"
            ],
            "text/plain": [
              "  Neighborhood       Borough  ...  Venue Longitude  Venue Category\n",
              "0       Colaba  South Mumbai  ...        72.824151     Men's Store\n",
              "\n",
              "[1 rows x 8 columns]"
            ]
          },
          "metadata": {
            "tags": []
          },
          "execution_count": 20
        }
      ]
    },
    {
      "cell_type": "markdown",
      "metadata": {
        "id": "Xh3mDO9eT8kv",
        "colab_type": "text"
      },
      "source": [
        "# **Data Cleansing** "
      ]
    },
    {
      "cell_type": "markdown",
      "metadata": {
        "id": "8d3I4KI6UFty",
        "colab_type": "text"
      },
      "source": [
        "##### Identify the issues with data and rectify these errors like duplicate data etc. in order to make data fit for accurate analysis."
      ]
    },
    {
      "cell_type": "markdown",
      "metadata": {
        "id": "_yeeMPb6yxNn",
        "colab_type": "text"
      },
      "source": [
        "#### **Drop Duplicates Venues**"
      ]
    },
    {
      "cell_type": "markdown",
      "metadata": {
        "id": "m6pyaTVn13cK",
        "colab_type": "text"
      },
      "source": [
        "##### South Mumbai is a narrow strip, so chances of overlap are possible. Therefore, duplicates venues needs to be discarded."
      ]
    },
    {
      "cell_type": "code",
      "metadata": {
        "id": "dKdHiMSaqXth",
        "colab_type": "code",
        "outputId": "9010d5ee-69c1-4acc-9f77-2758e5c739d0",
        "colab": {
          "base_uri": "https://localhost:8080/",
          "height": 52
        }
      },
      "source": [
        "print(\"rows before dropping duplicates={}\".format(south_mumbai_venues.shape[0]))\n",
        "south_mumbai_venues = south_mumbai_venues.drop_duplicates(subset=['Venue','Venue Latitude', 'Venue Longitude'])\n",
        "print(\"rows after dropping duplicates={}\".format(south_mumbai_venues.shape[0]))\n"
      ],
      "execution_count": 0,
      "outputs": [
        {
          "output_type": "stream",
          "text": [
            "rows before dropping duplicates=1118\n",
            "rows after dropping duplicates=1003\n"
          ],
          "name": "stdout"
        }
      ]
    },
    {
      "cell_type": "markdown",
      "metadata": {
        "id": "4pCnpOjyQBFq",
        "colab_type": "text"
      },
      "source": [
        "### **Ignore rows with Indian Restaurants**."
      ]
    },
    {
      "cell_type": "markdown",
      "metadata": {
        "id": "JoHH3eUrrVh7",
        "colab_type": "text"
      },
      "source": [
        "##### Indian restaurants are very common and in large number in entire Mumbai. Therefore, decided to get rid of Indian Restaurants by using filter."
      ]
    },
    {
      "cell_type": "code",
      "metadata": {
        "id": "XVDuSLK1QZXq",
        "colab_type": "code",
        "outputId": "84212065-ebf5-4d0c-c937-567467aca9de",
        "colab": {
          "base_uri": "https://localhost:8080/",
          "height": 52
        }
      },
      "source": [
        "print(\"rows bef filter:\",south_mumbai_venues.shape[0])\n",
        "south_mumbai_venues = south_mumbai_venues[(south_mumbai_venues['Venue Category'] != \"Indian Restaurant\")].reset_index()\n",
        "print(\"rows aft filter:\",south_mumbai_venues.shape[0])\n",
        "\n",
        "\n"
      ],
      "execution_count": 0,
      "outputs": [
        {
          "output_type": "stream",
          "text": [
            "rows bef filter: 1003\n",
            "rows aft filter: 868\n"
          ],
          "name": "stdout"
        }
      ]
    },
    {
      "cell_type": "code",
      "metadata": {
        "id": "z8YTXyQSBO-H",
        "colab_type": "code",
        "colab": {}
      },
      "source": [
        "# backup\n",
        "south_mumbai_venues_minus_ind_rest = south_mumbai_venues"
      ],
      "execution_count": 0,
      "outputs": []
    },
    {
      "cell_type": "code",
      "metadata": {
        "id": "Ntq2DJ1HB6Bo",
        "colab_type": "code",
        "outputId": "e0a00b1d-0912-4688-fd30-97c141019a93",
        "colab": {
          "base_uri": "https://localhost:8080/",
          "height": 382
        }
      },
      "source": [
        "south_mumbai_venues_grp_ven_cat_1 = south_mumbai_venues_merge_1.groupby(\"Venue Category\").count()\n",
        "south_mumbai_venues_grp_ven_cat_1.head(1)\n",
        "south_mumbai_venues_grp_ven_cat_2 = south_mumbai_venues_grp_ven_cat_1.sort_values(\"Neighborhood\" , ascending=False)\n",
        "\n",
        "\n"
      ],
      "execution_count": 0,
      "outputs": [
        {
          "output_type": "execute_result",
          "data": {
            "text/html": [
              "<div>\n",
              "<style scoped>\n",
              "    .dataframe tbody tr th:only-of-type {\n",
              "        vertical-align: middle;\n",
              "    }\n",
              "\n",
              "    .dataframe tbody tr th {\n",
              "        vertical-align: top;\n",
              "    }\n",
              "\n",
              "    .dataframe thead th {\n",
              "        text-align: right;\n",
              "    }\n",
              "</style>\n",
              "<table border=\"1\" class=\"dataframe\">\n",
              "  <thead>\n",
              "    <tr style=\"text-align: right;\">\n",
              "      <th></th>\n",
              "      <th>Neighborhood</th>\n",
              "      <th>Borough</th>\n",
              "      <th>Neighborhood Latitude</th>\n",
              "      <th>Neighborhood Longitude</th>\n",
              "      <th>Venue</th>\n",
              "      <th>Venue Latitude</th>\n",
              "      <th>Venue Longitude</th>\n",
              "    </tr>\n",
              "    <tr>\n",
              "      <th>Venue Category</th>\n",
              "      <th></th>\n",
              "      <th></th>\n",
              "      <th></th>\n",
              "      <th></th>\n",
              "      <th></th>\n",
              "      <th></th>\n",
              "      <th></th>\n",
              "    </tr>\n",
              "  </thead>\n",
              "  <tbody>\n",
              "    <tr>\n",
              "      <th>Indian Restaurant</th>\n",
              "      <td>164</td>\n",
              "      <td>164</td>\n",
              "      <td>164</td>\n",
              "      <td>164</td>\n",
              "      <td>164</td>\n",
              "      <td>164</td>\n",
              "      <td>164</td>\n",
              "    </tr>\n",
              "    <tr>\n",
              "      <th>Café</th>\n",
              "      <td>61</td>\n",
              "      <td>61</td>\n",
              "      <td>61</td>\n",
              "      <td>61</td>\n",
              "      <td>61</td>\n",
              "      <td>61</td>\n",
              "      <td>61</td>\n",
              "    </tr>\n",
              "    <tr>\n",
              "      <th>Fast Food Restaurant</th>\n",
              "      <td>50</td>\n",
              "      <td>50</td>\n",
              "      <td>50</td>\n",
              "      <td>50</td>\n",
              "      <td>50</td>\n",
              "      <td>50</td>\n",
              "      <td>50</td>\n",
              "    </tr>\n",
              "    <tr>\n",
              "      <th>Chinese Restaurant</th>\n",
              "      <td>41</td>\n",
              "      <td>41</td>\n",
              "      <td>41</td>\n",
              "      <td>41</td>\n",
              "      <td>41</td>\n",
              "      <td>41</td>\n",
              "      <td>41</td>\n",
              "    </tr>\n",
              "    <tr>\n",
              "      <th>Coffee Shop</th>\n",
              "      <td>40</td>\n",
              "      <td>40</td>\n",
              "      <td>40</td>\n",
              "      <td>40</td>\n",
              "      <td>40</td>\n",
              "      <td>40</td>\n",
              "      <td>40</td>\n",
              "    </tr>\n",
              "    <tr>\n",
              "      <th>Bar</th>\n",
              "      <td>38</td>\n",
              "      <td>38</td>\n",
              "      <td>38</td>\n",
              "      <td>38</td>\n",
              "      <td>38</td>\n",
              "      <td>38</td>\n",
              "      <td>38</td>\n",
              "    </tr>\n",
              "    <tr>\n",
              "      <th>Restaurant</th>\n",
              "      <td>34</td>\n",
              "      <td>34</td>\n",
              "      <td>34</td>\n",
              "      <td>34</td>\n",
              "      <td>34</td>\n",
              "      <td>34</td>\n",
              "      <td>34</td>\n",
              "    </tr>\n",
              "    <tr>\n",
              "      <th>Hotel</th>\n",
              "      <td>32</td>\n",
              "      <td>32</td>\n",
              "      <td>32</td>\n",
              "      <td>32</td>\n",
              "      <td>32</td>\n",
              "      <td>32</td>\n",
              "      <td>32</td>\n",
              "    </tr>\n",
              "    <tr>\n",
              "      <th>Dessert Shop</th>\n",
              "      <td>29</td>\n",
              "      <td>29</td>\n",
              "      <td>29</td>\n",
              "      <td>29</td>\n",
              "      <td>29</td>\n",
              "      <td>29</td>\n",
              "      <td>29</td>\n",
              "    </tr>\n",
              "    <tr>\n",
              "      <th>Bakery</th>\n",
              "      <td>29</td>\n",
              "      <td>29</td>\n",
              "      <td>29</td>\n",
              "      <td>29</td>\n",
              "      <td>29</td>\n",
              "      <td>29</td>\n",
              "      <td>29</td>\n",
              "    </tr>\n",
              "  </tbody>\n",
              "</table>\n",
              "</div>"
            ],
            "text/plain": [
              "                      Neighborhood  Borough  ...  Venue Latitude  Venue Longitude\n",
              "Venue Category                               ...                                 \n",
              "Indian Restaurant              164      164  ...             164              164\n",
              "Café                            61       61  ...              61               61\n",
              "Fast Food Restaurant            50       50  ...              50               50\n",
              "Chinese Restaurant              41       41  ...              41               41\n",
              "Coffee Shop                     40       40  ...              40               40\n",
              "Bar                             38       38  ...              38               38\n",
              "Restaurant                      34       34  ...              34               34\n",
              "Hotel                           32       32  ...              32               32\n",
              "Dessert Shop                    29       29  ...              29               29\n",
              "Bakery                          29       29  ...              29               29\n",
              "\n",
              "[10 rows x 7 columns]"
            ]
          },
          "metadata": {
            "tags": []
          },
          "execution_count": 26
        }
      ]
    },
    {
      "cell_type": "code",
      "metadata": {
        "id": "A3HKJuziEERj",
        "colab_type": "code",
        "outputId": "13998028-90e9-49fa-d153-ecd9b1db532b",
        "colab": {
          "base_uri": "https://localhost:8080/",
          "height": 109
        }
      },
      "source": [
        "south_mumbai_venues_grp_ven_cat_2 = south_mumbai_venues_grp_ven_cat_2.rename({\"Neighborhood\":\"Count\"},axis=1)\n",
        "south_mumbai_venues_grp_ven_cat_2 = south_mumbai_venues_grp_ven_cat_2[[\"Count\"]]\n",
        "south_mumbai_venues_grp_ven_cat_2.head(10)\n",
        "#df2 = df.rename({'a': 'X', 'b': 'Y'}, axis=1) \n"
      ],
      "execution_count": 0,
      "outputs": [
        {
          "output_type": "execute_result",
          "data": {
            "text/html": [
              "<div>\n",
              "<style scoped>\n",
              "    .dataframe tbody tr th:only-of-type {\n",
              "        vertical-align: middle;\n",
              "    }\n",
              "\n",
              "    .dataframe tbody tr th {\n",
              "        vertical-align: top;\n",
              "    }\n",
              "\n",
              "    .dataframe thead th {\n",
              "        text-align: right;\n",
              "    }\n",
              "</style>\n",
              "<table border=\"1\" class=\"dataframe\">\n",
              "  <thead>\n",
              "    <tr style=\"text-align: right;\">\n",
              "      <th></th>\n",
              "      <th>Count</th>\n",
              "    </tr>\n",
              "    <tr>\n",
              "      <th>Venue Category</th>\n",
              "      <th></th>\n",
              "    </tr>\n",
              "  </thead>\n",
              "  <tbody>\n",
              "    <tr>\n",
              "      <th>Indian Restaurant</th>\n",
              "      <td>164</td>\n",
              "    </tr>\n",
              "  </tbody>\n",
              "</table>\n",
              "</div>"
            ],
            "text/plain": [
              "                   Count\n",
              "Venue Category          \n",
              "Indian Restaurant    164"
            ]
          },
          "metadata": {
            "tags": []
          },
          "execution_count": 32
        }
      ]
    },
    {
      "cell_type": "code",
      "metadata": {
        "id": "BeKziVs0Ho7c",
        "colab_type": "code",
        "outputId": "3fcb9f83-396f-4201-d755-b2c942c4d77f",
        "colab": {
          "base_uri": "https://localhost:8080/",
          "height": 382
        }
      },
      "source": [
        "south_mumbai_venues_grp_ven_cat_2.head(10)"
      ],
      "execution_count": 0,
      "outputs": [
        {
          "output_type": "execute_result",
          "data": {
            "text/html": [
              "<div>\n",
              "<style scoped>\n",
              "    .dataframe tbody tr th:only-of-type {\n",
              "        vertical-align: middle;\n",
              "    }\n",
              "\n",
              "    .dataframe tbody tr th {\n",
              "        vertical-align: top;\n",
              "    }\n",
              "\n",
              "    .dataframe thead th {\n",
              "        text-align: right;\n",
              "    }\n",
              "</style>\n",
              "<table border=\"1\" class=\"dataframe\">\n",
              "  <thead>\n",
              "    <tr style=\"text-align: right;\">\n",
              "      <th></th>\n",
              "      <th>Count</th>\n",
              "    </tr>\n",
              "    <tr>\n",
              "      <th>Venue Category</th>\n",
              "      <th></th>\n",
              "    </tr>\n",
              "  </thead>\n",
              "  <tbody>\n",
              "    <tr>\n",
              "      <th>Indian Restaurant</th>\n",
              "      <td>164</td>\n",
              "    </tr>\n",
              "    <tr>\n",
              "      <th>Café</th>\n",
              "      <td>61</td>\n",
              "    </tr>\n",
              "    <tr>\n",
              "      <th>Fast Food Restaurant</th>\n",
              "      <td>50</td>\n",
              "    </tr>\n",
              "    <tr>\n",
              "      <th>Chinese Restaurant</th>\n",
              "      <td>41</td>\n",
              "    </tr>\n",
              "    <tr>\n",
              "      <th>Coffee Shop</th>\n",
              "      <td>40</td>\n",
              "    </tr>\n",
              "    <tr>\n",
              "      <th>Bar</th>\n",
              "      <td>38</td>\n",
              "    </tr>\n",
              "    <tr>\n",
              "      <th>Restaurant</th>\n",
              "      <td>34</td>\n",
              "    </tr>\n",
              "    <tr>\n",
              "      <th>Hotel</th>\n",
              "      <td>32</td>\n",
              "    </tr>\n",
              "    <tr>\n",
              "      <th>Dessert Shop</th>\n",
              "      <td>29</td>\n",
              "    </tr>\n",
              "    <tr>\n",
              "      <th>Bakery</th>\n",
              "      <td>29</td>\n",
              "    </tr>\n",
              "  </tbody>\n",
              "</table>\n",
              "</div>"
            ],
            "text/plain": [
              "                      Count\n",
              "Venue Category             \n",
              "Indian Restaurant       164\n",
              "Café                     61\n",
              "Fast Food Restaurant     50\n",
              "Chinese Restaurant       41\n",
              "Coffee Shop              40\n",
              "Bar                      38\n",
              "Restaurant               34\n",
              "Hotel                    32\n",
              "Dessert Shop             29\n",
              "Bakery                   29"
            ]
          },
          "metadata": {
            "tags": []
          },
          "execution_count": 34
        }
      ]
    },
    {
      "cell_type": "code",
      "metadata": {
        "id": "TtoZ_3N9GFIV",
        "colab_type": "code",
        "colab": {}
      },
      "source": [
        "# save as csv\n",
        "south_mumbai_venues_grp_ven_cat_2.to_csv(\"south_mumbai_venues_grp_ven_cat_2.csv\")\n",
        "# backup\n",
        "south_mumbai_venues_grp_ven_cat_2_bkp = south_mumbai_venues_grp_ven_cat_2\n"
      ],
      "execution_count": 0,
      "outputs": []
    },
    {
      "cell_type": "code",
      "metadata": {
        "id": "UOXYn18iJD07",
        "colab_type": "code",
        "outputId": "ed439b8a-9ddd-4fc2-b36b-6dad1d7c59ff",
        "colab": {
          "base_uri": "https://localhost:8080/",
          "height": 230
        }
      },
      "source": [
        "# group by neighborhoods\n",
        "south_mumbai_venues_grp_nbhood_1 = south_mumbai_venues_merge_1.groupby(\"Neighborhood\").count()\n",
        "south_mumbai_venues_grp_nbhood_1.head(1)\n",
        "south_mumbai_venues_grp_nbhood_1 = south_mumbai_venues_grp_nbhood_1.rename({\"Borough\" : \"Count\"}, axis=1)\n",
        "south_mumbai_venues_grp_nbhood_2 = south_mumbai_venues_grp_nbhood_1.sort_values(\"Count\" , ascending=False)\n",
        "south_mumbai_venues_grp_nbhood_2 = south_mumbai_venues_grp_nbhood_2[[\"Count\"]]\n",
        "south_mumbai_venues_grp_nbhood_2.head()\n"
      ],
      "execution_count": 0,
      "outputs": [
        {
          "output_type": "execute_result",
          "data": {
            "text/html": [
              "<div>\n",
              "<style scoped>\n",
              "    .dataframe tbody tr th:only-of-type {\n",
              "        vertical-align: middle;\n",
              "    }\n",
              "\n",
              "    .dataframe tbody tr th {\n",
              "        vertical-align: top;\n",
              "    }\n",
              "\n",
              "    .dataframe thead th {\n",
              "        text-align: right;\n",
              "    }\n",
              "</style>\n",
              "<table border=\"1\" class=\"dataframe\">\n",
              "  <thead>\n",
              "    <tr style=\"text-align: right;\">\n",
              "      <th></th>\n",
              "      <th>Count</th>\n",
              "    </tr>\n",
              "    <tr>\n",
              "      <th>Neighborhood</th>\n",
              "      <th></th>\n",
              "    </tr>\n",
              "  </thead>\n",
              "  <tbody>\n",
              "    <tr>\n",
              "      <th>Bandra West</th>\n",
              "      <td>100</td>\n",
              "    </tr>\n",
              "    <tr>\n",
              "      <th>Fort</th>\n",
              "      <td>79</td>\n",
              "    </tr>\n",
              "    <tr>\n",
              "      <th>Apollo Bandar</th>\n",
              "      <td>74</td>\n",
              "    </tr>\n",
              "    <tr>\n",
              "      <th>Juhu</th>\n",
              "      <td>70</td>\n",
              "    </tr>\n",
              "    <tr>\n",
              "      <th>Powai</th>\n",
              "      <td>69</td>\n",
              "    </tr>\n",
              "  </tbody>\n",
              "</table>\n",
              "</div>"
            ],
            "text/plain": [
              "               Count\n",
              "Neighborhood        \n",
              "Bandra West      100\n",
              "Fort              79\n",
              "Apollo Bandar     74\n",
              "Juhu              70\n",
              "Powai             69"
            ]
          },
          "metadata": {
            "tags": []
          },
          "execution_count": 50
        }
      ]
    },
    {
      "cell_type": "code",
      "metadata": {
        "id": "9MPh5ZLcLtKU",
        "colab_type": "code",
        "outputId": "0ba00d1f-b169-477a-d752-de60ea7563c3",
        "colab": {
          "base_uri": "https://localhost:8080/",
          "height": 382
        }
      },
      "source": [
        "# Display Top 10 Neighborhoods with maximum count of venues. \n",
        "south_mumbai_venues_grp_nbhood_2.head(10)"
      ],
      "execution_count": 0,
      "outputs": [
        {
          "output_type": "execute_result",
          "data": {
            "text/html": [
              "<div>\n",
              "<style scoped>\n",
              "    .dataframe tbody tr th:only-of-type {\n",
              "        vertical-align: middle;\n",
              "    }\n",
              "\n",
              "    .dataframe tbody tr th {\n",
              "        vertical-align: top;\n",
              "    }\n",
              "\n",
              "    .dataframe thead th {\n",
              "        text-align: right;\n",
              "    }\n",
              "</style>\n",
              "<table border=\"1\" class=\"dataframe\">\n",
              "  <thead>\n",
              "    <tr style=\"text-align: right;\">\n",
              "      <th></th>\n",
              "      <th>Count</th>\n",
              "    </tr>\n",
              "    <tr>\n",
              "      <th>Neighborhood</th>\n",
              "      <th></th>\n",
              "    </tr>\n",
              "  </thead>\n",
              "  <tbody>\n",
              "    <tr>\n",
              "      <th>Bandra West</th>\n",
              "      <td>100</td>\n",
              "    </tr>\n",
              "    <tr>\n",
              "      <th>Fort</th>\n",
              "      <td>79</td>\n",
              "    </tr>\n",
              "    <tr>\n",
              "      <th>Apollo Bandar</th>\n",
              "      <td>74</td>\n",
              "    </tr>\n",
              "    <tr>\n",
              "      <th>Juhu</th>\n",
              "      <td>70</td>\n",
              "    </tr>\n",
              "    <tr>\n",
              "      <th>Powai</th>\n",
              "      <td>69</td>\n",
              "    </tr>\n",
              "    <tr>\n",
              "      <th>Churchgate</th>\n",
              "      <td>66</td>\n",
              "    </tr>\n",
              "    <tr>\n",
              "      <th>Nariman Point</th>\n",
              "      <td>46</td>\n",
              "    </tr>\n",
              "    <tr>\n",
              "      <th>Mira Road</th>\n",
              "      <td>45</td>\n",
              "    </tr>\n",
              "    <tr>\n",
              "      <th>Dadar</th>\n",
              "      <td>37</td>\n",
              "    </tr>\n",
              "    <tr>\n",
              "      <th>Colaba</th>\n",
              "      <td>35</td>\n",
              "    </tr>\n",
              "  </tbody>\n",
              "</table>\n",
              "</div>"
            ],
            "text/plain": [
              "               Count\n",
              "Neighborhood        \n",
              "Bandra West      100\n",
              "Fort              79\n",
              "Apollo Bandar     74\n",
              "Juhu              70\n",
              "Powai             69\n",
              "Churchgate        66\n",
              "Nariman Point     46\n",
              "Mira Road         45\n",
              "Dadar             37\n",
              "Colaba            35"
            ]
          },
          "metadata": {
            "tags": []
          },
          "execution_count": 42
        }
      ]
    },
    {
      "cell_type": "code",
      "metadata": {
        "id": "9Vc5z9ckMkIE",
        "colab_type": "code",
        "colab": {}
      },
      "source": [
        "# save as csv\n",
        "south_mumbai_venues_grp_nbhood_2.to_csv(\"south_mumbai_venues_grp_nbhood_2.csv\")\n",
        "south_mumbai_venues_grp_nbhood_2_bkp = south_mumbai_venues_grp_nbhood_2\n",
        " "
      ],
      "execution_count": 0,
      "outputs": []
    },
    {
      "cell_type": "code",
      "metadata": {
        "id": "QCU36NojM6-I",
        "colab_type": "code",
        "outputId": "63107b49-dbaf-4e42-f3b4-d28d10712108",
        "colab": {
          "base_uri": "https://localhost:8080/",
          "height": 382
        }
      },
      "source": [
        "# bottom 10 \n",
        "south_mumbai_venues_grp_nbhood_2 = south_mumbai_venues_grp_nbhood_2.sort_values(\"Count\" , ascending=True)\n",
        "south_mumbai_venues_grp_nbhood_2.head(10)"
      ],
      "execution_count": 0,
      "outputs": [
        {
          "output_type": "execute_result",
          "data": {
            "text/html": [
              "<div>\n",
              "<style scoped>\n",
              "    .dataframe tbody tr th:only-of-type {\n",
              "        vertical-align: middle;\n",
              "    }\n",
              "\n",
              "    .dataframe tbody tr th {\n",
              "        vertical-align: top;\n",
              "    }\n",
              "\n",
              "    .dataframe thead th {\n",
              "        text-align: right;\n",
              "    }\n",
              "</style>\n",
              "<table border=\"1\" class=\"dataframe\">\n",
              "  <thead>\n",
              "    <tr style=\"text-align: right;\">\n",
              "      <th></th>\n",
              "      <th>Count</th>\n",
              "    </tr>\n",
              "    <tr>\n",
              "      <th>Neighborhood</th>\n",
              "      <th></th>\n",
              "    </tr>\n",
              "  </thead>\n",
              "  <tbody>\n",
              "    <tr>\n",
              "      <th>Darukhana</th>\n",
              "      <td>2</td>\n",
              "    </tr>\n",
              "    <tr>\n",
              "      <th>Jogeshwari</th>\n",
              "      <td>6</td>\n",
              "    </tr>\n",
              "    <tr>\n",
              "      <th>Dongri</th>\n",
              "      <td>6</td>\n",
              "    </tr>\n",
              "    <tr>\n",
              "      <th>Govandi</th>\n",
              "      <td>6</td>\n",
              "    </tr>\n",
              "    <tr>\n",
              "      <th>Kurla</th>\n",
              "      <td>8</td>\n",
              "    </tr>\n",
              "    <tr>\n",
              "      <th>Kalina</th>\n",
              "      <td>9</td>\n",
              "    </tr>\n",
              "    <tr>\n",
              "      <th>Malad</th>\n",
              "      <td>9</td>\n",
              "    </tr>\n",
              "    <tr>\n",
              "      <th>Byculla</th>\n",
              "      <td>10</td>\n",
              "    </tr>\n",
              "    <tr>\n",
              "      <th>Mahim</th>\n",
              "      <td>10</td>\n",
              "    </tr>\n",
              "    <tr>\n",
              "      <th>Mazgaon</th>\n",
              "      <td>12</td>\n",
              "    </tr>\n",
              "  </tbody>\n",
              "</table>\n",
              "</div>"
            ],
            "text/plain": [
              "              Count\n",
              "Neighborhood       \n",
              "Darukhana         2\n",
              "Jogeshwari        6\n",
              "Dongri            6\n",
              "Govandi           6\n",
              "Kurla             8\n",
              "Kalina            9\n",
              "Malad             9\n",
              "Byculla          10\n",
              "Mahim            10\n",
              "Mazgaon          12"
            ]
          },
          "metadata": {
            "tags": []
          },
          "execution_count": 53
        }
      ]
    },
    {
      "cell_type": "markdown",
      "metadata": {
        "id": "-lzI_bjP0ZJU",
        "colab_type": "text"
      },
      "source": [
        "#### **Unique Categories**"
      ]
    },
    {
      "cell_type": "code",
      "metadata": {
        "id": "1E4u3xu-anuV",
        "colab_type": "code",
        "outputId": "c21a2af9-40ed-42a7-960e-5e15be567a3b",
        "colab": {
          "base_uri": "https://localhost:8080/",
          "height": 35
        }
      },
      "source": [
        "print('There are {} uniques categories.'.format(len(south_mumbai_venues['Venue Category'].unique())))\n"
      ],
      "execution_count": 0,
      "outputs": [
        {
          "output_type": "stream",
          "text": [
            "There are 158 uniques categories.\n"
          ],
          "name": "stdout"
        }
      ]
    },
    {
      "cell_type": "markdown",
      "metadata": {
        "id": "Jm_lKssnVIZM",
        "colab_type": "text"
      },
      "source": [
        "### **Clubbing Similar Categories**"
      ]
    },
    {
      "cell_type": "markdown",
      "metadata": {
        "id": "EbCrzcxxVdCM",
        "colab_type": "text"
      },
      "source": [
        "####For example garden and parks can be clubbed together to gardens/parks etc."
      ]
    },
    {
      "cell_type": "code",
      "metadata": {
        "id": "aKaQ2SYCffb9",
        "colab_type": "code",
        "outputId": "6c816b14-0b71-4276-a51a-fc5735af9395",
        "colab": {
          "base_uri": "https://localhost:8080/",
          "height": 35
        }
      },
      "source": [
        "south_mumbai_venues.replace(to_replace =['Movie Theater'],value = 'Theater\\Multiplex', inplace=True)\n",
        "south_mumbai_venues.replace(to_replace =['Theater'],value = 'Theater\\Multiplex' , inplace=True)\n",
        "south_mumbai_venues.replace(to_replace =['Multiplex'],value = 'Theater\\Multiplex' , inplace=True)\n",
        "south_mumbai_venues.replace(to_replace =['Amphitheater'],value = 'Theater\\Multiplex' , inplace=True)\n",
        "south_mumbai_venues.replace(to_replace =['Indie Movie Theater'],value = 'Theater\\Multiplex' , inplace=True)\n",
        "south_mumbai_venues.replace(to_replace =['Performing Arts Venue'],value = 'Theater\\Multiplex' , inplace=True)\n",
        "south_mumbai_venues.shape"
      ],
      "execution_count": 0,
      "outputs": [
        {
          "output_type": "execute_result",
          "data": {
            "text/plain": [
              "(868, 8)"
            ]
          },
          "metadata": {
            "tags": []
          },
          "execution_count": 59
        }
      ]
    },
    {
      "cell_type": "code",
      "metadata": {
        "id": "Adzr7Sfjg8_-",
        "colab_type": "code",
        "outputId": "3c3e127a-2858-4506-f579-689a4057590b",
        "colab": {
          "base_uri": "https://localhost:8080/",
          "height": 35
        }
      },
      "source": [
        "south_mumbai_venues.loc[south_mumbai_venues['Venue Category'] \\\n",
        "                      .isin(['Garden','Park' \\\n",
        "                       ])].shape"
      ],
      "execution_count": 0,
      "outputs": [
        {
          "output_type": "execute_result",
          "data": {
            "text/plain": [
              "(8, 8)"
            ]
          },
          "metadata": {
            "tags": []
          },
          "execution_count": 21
        }
      ]
    },
    {
      "cell_type": "code",
      "metadata": {
        "id": "qJ1yJR9ygr8s",
        "colab_type": "code",
        "outputId": "eda0e648-25ab-4956-8277-50dd94f2f9d3",
        "colab": {
          "base_uri": "https://localhost:8080/",
          "height": 35
        }
      },
      "source": [
        "south_mumbai_venues.replace(to_replace =['Garden','Park'],value = 'Park/Garden', inplace=True)\n",
        "south_mumbai_venues.loc[south_mumbai_venues['Venue Category'] \\\n",
        "                      .isin(['Park/Garden' \\\n",
        "                       ])].shape\n",
        "#south_mumbai_venues.shape                       "
      ],
      "execution_count": 0,
      "outputs": [
        {
          "output_type": "execute_result",
          "data": {
            "text/plain": [
              "(9, 8)"
            ]
          },
          "metadata": {
            "tags": []
          },
          "execution_count": 60
        }
      ]
    },
    {
      "cell_type": "code",
      "metadata": {
        "id": "6yfSvZVuibVW",
        "colab_type": "code",
        "outputId": "e3ee8ae9-70e5-4642-df46-6a6435d1f34f",
        "colab": {
          "base_uri": "https://localhost:8080/",
          "height": 35
        }
      },
      "source": [
        "south_mumbai_venues.loc[south_mumbai_venues['Venue Category'] \\\n",
        "                      .isin(['Pub','Gastropub' \\\n",
        "                             ,'Bar','Cocktail Bar'\\\n",
        "                             ,'Wine Bar','Hotel Bar','Sports Bar'\\\n",
        "                       ])].shape"
      ],
      "execution_count": 0,
      "outputs": [
        {
          "output_type": "execute_result",
          "data": {
            "text/plain": [
              "(68, 8)"
            ]
          },
          "metadata": {
            "tags": []
          },
          "execution_count": 57
        }
      ]
    },
    {
      "cell_type": "code",
      "metadata": {
        "id": "A5VS0AihjRxr",
        "colab_type": "code",
        "colab": {}
      },
      "source": [
        "south_mumbai_venues.replace(to_replace =['Pub'],value = 'Bar/Pub', inplace=True )\n",
        "south_mumbai_venues.replace(to_replace =['Gastropub'],value = 'Bar/Pub', inplace=True)\n",
        "south_mumbai_venues.replace(to_replace =['Bar'],value = 'Bar/Pub', inplace=True)\n",
        "south_mumbai_venues.replace(to_replace =['Cocktail Bar'],value = 'Bar/Pub', inplace=True)\n",
        "south_mumbai_venues.replace(to_replace =['Wine Bar'],value = 'Bar/Pub', inplace=True)\n",
        "south_mumbai_venues.replace(to_replace =['Hotel Bar'],value = 'Bar/Pub', inplace=True)\n",
        "south_mumbai_venues.replace(to_replace =['Sports Bar'],value = 'Bar/Pub', inplace=True)"
      ],
      "execution_count": 0,
      "outputs": []
    },
    {
      "cell_type": "code",
      "metadata": {
        "id": "tejqkanPkBGy",
        "colab_type": "code",
        "outputId": "f50be214-21e1-4df4-9063-448ab71f8436",
        "colab": {
          "base_uri": "https://localhost:8080/",
          "height": 35
        }
      },
      "source": [
        "south_mumbai_venues.loc[south_mumbai_venues['Venue Category'] \\\n",
        "                      .isin(['Bar/Pub' \\\n",
        "                       ])].shape\n",
        "                     "
      ],
      "execution_count": 0,
      "outputs": [
        {
          "output_type": "execute_result",
          "data": {
            "text/plain": [
              "(65, 8)"
            ]
          },
          "metadata": {
            "tags": []
          },
          "execution_count": 25
        }
      ]
    },
    {
      "cell_type": "code",
      "metadata": {
        "id": "zNR-lI0ft799",
        "colab_type": "code",
        "colab": {}
      },
      "source": [
        "south_mumbai_venues.replace(to_replace =['Train Station' \\\n",
        "                                         ,'Bus Station'\n",
        "                                         ,'Metro Station'\n",
        "                                         ,'Train'\n",
        "],value = 'Train/Metro/Bus', inplace=True )"
      ],
      "execution_count": 0,
      "outputs": []
    },
    {
      "cell_type": "code",
      "metadata": {
        "id": "QLTIfxljucDd",
        "colab_type": "code",
        "outputId": "dad086ba-54a1-4e49-8fca-e60e07fd65c2",
        "colab": {
          "base_uri": "https://localhost:8080/",
          "height": 35
        }
      },
      "source": [
        "south_mumbai_venues.loc[south_mumbai_venues['Venue Category'] \\\n",
        "                      .isin(['Train/Metro/Bus' \\\n",
        "                       ])].shape"
      ],
      "execution_count": 0,
      "outputs": [
        {
          "output_type": "execute_result",
          "data": {
            "text/plain": [
              "(12, 8)"
            ]
          },
          "metadata": {
            "tags": []
          },
          "execution_count": 27
        }
      ]
    },
    {
      "cell_type": "code",
      "metadata": {
        "id": "bvxAlltEuuU7",
        "colab_type": "code",
        "colab": {}
      },
      "source": [
        "south_mumbai_venues.replace(to_replace =['Spa' \\\n",
        "                                         ,'Gym'\n",
        "                                         ,'Gym / Fitness Center'\n",
        "                                         ,'Yoga Studio'\n",
        "                                         ,'Track'\n",
        "                                         ,'Massage Studio'\n",
        "],value = 'Fitness/Gym/Spa', inplace=True )"
      ],
      "execution_count": 0,
      "outputs": []
    },
    {
      "cell_type": "code",
      "metadata": {
        "id": "29kSls2NvKF8",
        "colab_type": "code",
        "outputId": "d5144ad6-92f5-416e-bd00-7aa3ab359ac0",
        "colab": {
          "base_uri": "https://localhost:8080/",
          "height": 35
        }
      },
      "source": [
        "south_mumbai_venues.loc[south_mumbai_venues['Venue Category'] \\\n",
        "                      .isin(['Fitness/Gym/Spa' \\\n",
        "                       ])].shape"
      ],
      "execution_count": 0,
      "outputs": [
        {
          "output_type": "execute_result",
          "data": {
            "text/plain": [
              "(32, 8)"
            ]
          },
          "metadata": {
            "tags": []
          },
          "execution_count": 169
        }
      ]
    },
    {
      "cell_type": "code",
      "metadata": {
        "id": "CZ78_KKCvbfh",
        "colab_type": "code",
        "colab": {}
      },
      "source": [
        "south_mumbai_venues.replace(to_replace =['Tennis Court' \\\n",
        "                                         ,'Athletics & Sports'\n",
        "                                         ,'Cricket Ground'\n",
        "                                         ,'Hockey Arena'\n",
        "                                         ,'Field'\n",
        "                                         ,'Stadium'\n",
        "                                         ,'Soccer Field'\n",
        "                                         ,'Playground'\n",
        "],value = 'Sports', inplace=True )"
      ],
      "execution_count": 0,
      "outputs": []
    },
    {
      "cell_type": "code",
      "metadata": {
        "id": "sMx7i4C4v8IG",
        "colab_type": "code",
        "outputId": "ad875d30-ef60-44e8-b43f-bf3e5b667019",
        "colab": {
          "base_uri": "https://localhost:8080/",
          "height": 35
        }
      },
      "source": [
        "south_mumbai_venues.loc[south_mumbai_venues['Venue Category'] \\\n",
        "                      .isin(['Sports' \\\n",
        "                       ])].shape"
      ],
      "execution_count": 0,
      "outputs": [
        {
          "output_type": "execute_result",
          "data": {
            "text/plain": [
              "(14, 8)"
            ]
          },
          "metadata": {
            "tags": []
          },
          "execution_count": 31
        }
      ]
    },
    {
      "cell_type": "markdown",
      "metadata": {
        "id": "4iXRGx_5DmP7",
        "colab_type": "text"
      },
      "source": [
        "### **Check neighborhoods with very less venues**"
      ]
    },
    {
      "cell_type": "code",
      "metadata": {
        "id": "iC-S_P5sDvw7",
        "colab_type": "code",
        "outputId": "46eed553-3b1b-4585-c3f0-ef7aa5a5bfbe",
        "colab": {
          "base_uri": "https://localhost:8080/",
          "height": 1000
        }
      },
      "source": [
        "south_mumbai_venues_group_nbhood = south_mumbai_venues\n",
        "south_mumbai_venues_group_nbhood = south_mumbai_venues_group_nbhood.groupby(['Neighborhood']) \\\n",
        "                             .count() \n",
        "south_mumbai_venues_group_nbhood.sort_values(['index'], ascending=True)"
      ],
      "execution_count": 0,
      "outputs": [
        {
          "output_type": "execute_result",
          "data": {
            "text/html": [
              "<div>\n",
              "<style scoped>\n",
              "    .dataframe tbody tr th:only-of-type {\n",
              "        vertical-align: middle;\n",
              "    }\n",
              "\n",
              "    .dataframe tbody tr th {\n",
              "        vertical-align: top;\n",
              "    }\n",
              "\n",
              "    .dataframe thead th {\n",
              "        text-align: right;\n",
              "    }\n",
              "</style>\n",
              "<table border=\"1\" class=\"dataframe\">\n",
              "  <thead>\n",
              "    <tr style=\"text-align: right;\">\n",
              "      <th></th>\n",
              "      <th>index</th>\n",
              "      <th>Neighborhood Latitude</th>\n",
              "      <th>Neighborhood Longitude</th>\n",
              "      <th>Venue</th>\n",
              "      <th>Venue Latitude</th>\n",
              "      <th>Venue Longitude</th>\n",
              "      <th>Venue Category</th>\n",
              "    </tr>\n",
              "    <tr>\n",
              "      <th>Neighborhood</th>\n",
              "      <th></th>\n",
              "      <th></th>\n",
              "      <th></th>\n",
              "      <th></th>\n",
              "      <th></th>\n",
              "      <th></th>\n",
              "      <th></th>\n",
              "    </tr>\n",
              "  </thead>\n",
              "  <tbody>\n",
              "    <tr>\n",
              "      <th>Dongri</th>\n",
              "      <td>2</td>\n",
              "      <td>2</td>\n",
              "      <td>2</td>\n",
              "      <td>2</td>\n",
              "      <td>2</td>\n",
              "      <td>2</td>\n",
              "      <td>2</td>\n",
              "    </tr>\n",
              "    <tr>\n",
              "      <th>Grand Road</th>\n",
              "      <td>4</td>\n",
              "      <td>4</td>\n",
              "      <td>4</td>\n",
              "      <td>4</td>\n",
              "      <td>4</td>\n",
              "      <td>4</td>\n",
              "      <td>4</td>\n",
              "    </tr>\n",
              "    <tr>\n",
              "      <th>Govandi</th>\n",
              "      <td>4</td>\n",
              "      <td>4</td>\n",
              "      <td>4</td>\n",
              "      <td>4</td>\n",
              "      <td>4</td>\n",
              "      <td>4</td>\n",
              "      <td>4</td>\n",
              "    </tr>\n",
              "    <tr>\n",
              "      <th>Jogeshwari</th>\n",
              "      <td>5</td>\n",
              "      <td>5</td>\n",
              "      <td>5</td>\n",
              "      <td>5</td>\n",
              "      <td>5</td>\n",
              "      <td>5</td>\n",
              "      <td>5</td>\n",
              "    </tr>\n",
              "    <tr>\n",
              "      <th>Malad</th>\n",
              "      <td>7</td>\n",
              "      <td>7</td>\n",
              "      <td>7</td>\n",
              "      <td>7</td>\n",
              "      <td>7</td>\n",
              "      <td>7</td>\n",
              "      <td>7</td>\n",
              "    </tr>\n",
              "    <tr>\n",
              "      <th>Mahim</th>\n",
              "      <td>7</td>\n",
              "      <td>7</td>\n",
              "      <td>7</td>\n",
              "      <td>7</td>\n",
              "      <td>7</td>\n",
              "      <td>7</td>\n",
              "      <td>7</td>\n",
              "    </tr>\n",
              "    <tr>\n",
              "      <th>Malabar Hill</th>\n",
              "      <td>8</td>\n",
              "      <td>8</td>\n",
              "      <td>8</td>\n",
              "      <td>8</td>\n",
              "      <td>8</td>\n",
              "      <td>8</td>\n",
              "      <td>8</td>\n",
              "    </tr>\n",
              "    <tr>\n",
              "      <th>Byculla</th>\n",
              "      <td>8</td>\n",
              "      <td>8</td>\n",
              "      <td>8</td>\n",
              "      <td>8</td>\n",
              "      <td>8</td>\n",
              "      <td>8</td>\n",
              "      <td>8</td>\n",
              "    </tr>\n",
              "    <tr>\n",
              "      <th>Kurla</th>\n",
              "      <td>8</td>\n",
              "      <td>8</td>\n",
              "      <td>8</td>\n",
              "      <td>8</td>\n",
              "      <td>8</td>\n",
              "      <td>8</td>\n",
              "      <td>8</td>\n",
              "    </tr>\n",
              "    <tr>\n",
              "      <th>Kalbadevi</th>\n",
              "      <td>8</td>\n",
              "      <td>8</td>\n",
              "      <td>8</td>\n",
              "      <td>8</td>\n",
              "      <td>8</td>\n",
              "      <td>8</td>\n",
              "      <td>8</td>\n",
              "    </tr>\n",
              "    <tr>\n",
              "      <th>Kalina</th>\n",
              "      <td>9</td>\n",
              "      <td>9</td>\n",
              "      <td>9</td>\n",
              "      <td>9</td>\n",
              "      <td>9</td>\n",
              "      <td>9</td>\n",
              "      <td>9</td>\n",
              "    </tr>\n",
              "    <tr>\n",
              "      <th>Mazgaon</th>\n",
              "      <td>10</td>\n",
              "      <td>10</td>\n",
              "      <td>10</td>\n",
              "      <td>10</td>\n",
              "      <td>10</td>\n",
              "      <td>10</td>\n",
              "      <td>10</td>\n",
              "    </tr>\n",
              "    <tr>\n",
              "      <th>Mahalaxmi</th>\n",
              "      <td>10</td>\n",
              "      <td>10</td>\n",
              "      <td>10</td>\n",
              "      <td>10</td>\n",
              "      <td>10</td>\n",
              "      <td>10</td>\n",
              "      <td>10</td>\n",
              "    </tr>\n",
              "    <tr>\n",
              "      <th>Andheri</th>\n",
              "      <td>10</td>\n",
              "      <td>10</td>\n",
              "      <td>10</td>\n",
              "      <td>10</td>\n",
              "      <td>10</td>\n",
              "      <td>10</td>\n",
              "      <td>10</td>\n",
              "    </tr>\n",
              "    <tr>\n",
              "      <th>Bhuleshwar</th>\n",
              "      <td>10</td>\n",
              "      <td>10</td>\n",
              "      <td>10</td>\n",
              "      <td>10</td>\n",
              "      <td>10</td>\n",
              "      <td>10</td>\n",
              "      <td>10</td>\n",
              "    </tr>\n",
              "    <tr>\n",
              "      <th>Santa Cruz</th>\n",
              "      <td>14</td>\n",
              "      <td>14</td>\n",
              "      <td>14</td>\n",
              "      <td>14</td>\n",
              "      <td>14</td>\n",
              "      <td>14</td>\n",
              "      <td>14</td>\n",
              "    </tr>\n",
              "    <tr>\n",
              "      <th>Mulund West</th>\n",
              "      <td>14</td>\n",
              "      <td>14</td>\n",
              "      <td>14</td>\n",
              "      <td>14</td>\n",
              "      <td>14</td>\n",
              "      <td>14</td>\n",
              "      <td>14</td>\n",
              "    </tr>\n",
              "    <tr>\n",
              "      <th>Masjid Bandar</th>\n",
              "      <td>14</td>\n",
              "      <td>14</td>\n",
              "      <td>14</td>\n",
              "      <td>14</td>\n",
              "      <td>14</td>\n",
              "      <td>14</td>\n",
              "      <td>14</td>\n",
              "    </tr>\n",
              "    <tr>\n",
              "      <th>Worli</th>\n",
              "      <td>16</td>\n",
              "      <td>16</td>\n",
              "      <td>16</td>\n",
              "      <td>16</td>\n",
              "      <td>16</td>\n",
              "      <td>16</td>\n",
              "      <td>16</td>\n",
              "    </tr>\n",
              "    <tr>\n",
              "      <th>Ghatkopar</th>\n",
              "      <td>16</td>\n",
              "      <td>16</td>\n",
              "      <td>16</td>\n",
              "      <td>16</td>\n",
              "      <td>16</td>\n",
              "      <td>16</td>\n",
              "      <td>16</td>\n",
              "    </tr>\n",
              "    <tr>\n",
              "      <th>Nagpada</th>\n",
              "      <td>20</td>\n",
              "      <td>20</td>\n",
              "      <td>20</td>\n",
              "      <td>20</td>\n",
              "      <td>20</td>\n",
              "      <td>20</td>\n",
              "      <td>20</td>\n",
              "    </tr>\n",
              "    <tr>\n",
              "      <th>Mumbai Central</th>\n",
              "      <td>20</td>\n",
              "      <td>20</td>\n",
              "      <td>20</td>\n",
              "      <td>20</td>\n",
              "      <td>20</td>\n",
              "      <td>20</td>\n",
              "      <td>20</td>\n",
              "    </tr>\n",
              "    <tr>\n",
              "      <th>Walkeshwar</th>\n",
              "      <td>22</td>\n",
              "      <td>22</td>\n",
              "      <td>22</td>\n",
              "      <td>22</td>\n",
              "      <td>22</td>\n",
              "      <td>22</td>\n",
              "      <td>22</td>\n",
              "    </tr>\n",
              "    <tr>\n",
              "      <th>Chembur</th>\n",
              "      <td>23</td>\n",
              "      <td>23</td>\n",
              "      <td>23</td>\n",
              "      <td>23</td>\n",
              "      <td>23</td>\n",
              "      <td>23</td>\n",
              "      <td>23</td>\n",
              "    </tr>\n",
              "    <tr>\n",
              "      <th>Marine Lines</th>\n",
              "      <td>24</td>\n",
              "      <td>24</td>\n",
              "      <td>24</td>\n",
              "      <td>24</td>\n",
              "      <td>24</td>\n",
              "      <td>24</td>\n",
              "      <td>24</td>\n",
              "    </tr>\n",
              "    <tr>\n",
              "      <th>Borivali</th>\n",
              "      <td>25</td>\n",
              "      <td>25</td>\n",
              "      <td>25</td>\n",
              "      <td>25</td>\n",
              "      <td>25</td>\n",
              "      <td>25</td>\n",
              "      <td>25</td>\n",
              "    </tr>\n",
              "    <tr>\n",
              "      <th>Dadar</th>\n",
              "      <td>26</td>\n",
              "      <td>26</td>\n",
              "      <td>26</td>\n",
              "      <td>26</td>\n",
              "      <td>26</td>\n",
              "      <td>26</td>\n",
              "      <td>26</td>\n",
              "    </tr>\n",
              "    <tr>\n",
              "      <th>Khar</th>\n",
              "      <td>27</td>\n",
              "      <td>27</td>\n",
              "      <td>27</td>\n",
              "      <td>27</td>\n",
              "      <td>27</td>\n",
              "      <td>27</td>\n",
              "      <td>27</td>\n",
              "    </tr>\n",
              "    <tr>\n",
              "      <th>Colaba</th>\n",
              "      <td>30</td>\n",
              "      <td>30</td>\n",
              "      <td>30</td>\n",
              "      <td>30</td>\n",
              "      <td>30</td>\n",
              "      <td>30</td>\n",
              "      <td>30</td>\n",
              "    </tr>\n",
              "    <tr>\n",
              "      <th>Nariman Point</th>\n",
              "      <td>38</td>\n",
              "      <td>38</td>\n",
              "      <td>38</td>\n",
              "      <td>38</td>\n",
              "      <td>38</td>\n",
              "      <td>38</td>\n",
              "      <td>38</td>\n",
              "    </tr>\n",
              "    <tr>\n",
              "      <th>Mira Road</th>\n",
              "      <td>44</td>\n",
              "      <td>44</td>\n",
              "      <td>44</td>\n",
              "      <td>44</td>\n",
              "      <td>44</td>\n",
              "      <td>44</td>\n",
              "      <td>44</td>\n",
              "    </tr>\n",
              "    <tr>\n",
              "      <th>Churchgate</th>\n",
              "      <td>52</td>\n",
              "      <td>52</td>\n",
              "      <td>52</td>\n",
              "      <td>52</td>\n",
              "      <td>52</td>\n",
              "      <td>52</td>\n",
              "      <td>52</td>\n",
              "    </tr>\n",
              "    <tr>\n",
              "      <th>Apollo Bandar</th>\n",
              "      <td>53</td>\n",
              "      <td>53</td>\n",
              "      <td>53</td>\n",
              "      <td>53</td>\n",
              "      <td>53</td>\n",
              "      <td>53</td>\n",
              "      <td>53</td>\n",
              "    </tr>\n",
              "    <tr>\n",
              "      <th>Powai</th>\n",
              "      <td>60</td>\n",
              "      <td>60</td>\n",
              "      <td>60</td>\n",
              "      <td>60</td>\n",
              "      <td>60</td>\n",
              "      <td>60</td>\n",
              "      <td>60</td>\n",
              "    </tr>\n",
              "    <tr>\n",
              "      <th>Juhu</th>\n",
              "      <td>65</td>\n",
              "      <td>65</td>\n",
              "      <td>65</td>\n",
              "      <td>65</td>\n",
              "      <td>65</td>\n",
              "      <td>65</td>\n",
              "      <td>65</td>\n",
              "    </tr>\n",
              "    <tr>\n",
              "      <th>Fort</th>\n",
              "      <td>65</td>\n",
              "      <td>65</td>\n",
              "      <td>65</td>\n",
              "      <td>65</td>\n",
              "      <td>65</td>\n",
              "      <td>65</td>\n",
              "      <td>65</td>\n",
              "    </tr>\n",
              "    <tr>\n",
              "      <th>Bandra West</th>\n",
              "      <td>88</td>\n",
              "      <td>88</td>\n",
              "      <td>88</td>\n",
              "      <td>88</td>\n",
              "      <td>88</td>\n",
              "      <td>88</td>\n",
              "      <td>88</td>\n",
              "    </tr>\n",
              "  </tbody>\n",
              "</table>\n",
              "</div>"
            ],
            "text/plain": [
              "                index  Neighborhood Latitude  ...  Venue Longitude  Venue Category\n",
              "Neighborhood                                  ...                                 \n",
              "Dongri              2                      2  ...                2               2\n",
              "Grand Road          4                      4  ...                4               4\n",
              "Govandi             4                      4  ...                4               4\n",
              "Jogeshwari          5                      5  ...                5               5\n",
              "Malad               7                      7  ...                7               7\n",
              "Mahim               7                      7  ...                7               7\n",
              "Malabar Hill        8                      8  ...                8               8\n",
              "Byculla             8                      8  ...                8               8\n",
              "Kurla               8                      8  ...                8               8\n",
              "Kalbadevi           8                      8  ...                8               8\n",
              "Kalina              9                      9  ...                9               9\n",
              "Mazgaon            10                     10  ...               10              10\n",
              "Mahalaxmi          10                     10  ...               10              10\n",
              "Andheri            10                     10  ...               10              10\n",
              "Bhuleshwar         10                     10  ...               10              10\n",
              "Santa Cruz         14                     14  ...               14              14\n",
              "Mulund West        14                     14  ...               14              14\n",
              "Masjid Bandar      14                     14  ...               14              14\n",
              "Worli              16                     16  ...               16              16\n",
              "Ghatkopar          16                     16  ...               16              16\n",
              "Nagpada            20                     20  ...               20              20\n",
              "Mumbai Central     20                     20  ...               20              20\n",
              "Walkeshwar         22                     22  ...               22              22\n",
              "Chembur            23                     23  ...               23              23\n",
              "Marine Lines       24                     24  ...               24              24\n",
              "Borivali           25                     25  ...               25              25\n",
              "Dadar              26                     26  ...               26              26\n",
              "Khar               27                     27  ...               27              27\n",
              "Colaba             30                     30  ...               30              30\n",
              "Nariman Point      38                     38  ...               38              38\n",
              "Mira Road          44                     44  ...               44              44\n",
              "Churchgate         52                     52  ...               52              52\n",
              "Apollo Bandar      53                     53  ...               53              53\n",
              "Powai              60                     60  ...               60              60\n",
              "Juhu               65                     65  ...               65              65\n",
              "Fort               65                     65  ...               65              65\n",
              "Bandra West        88                     88  ...               88              88\n",
              "\n",
              "[37 rows x 7 columns]"
            ]
          },
          "metadata": {
            "tags": []
          },
          "execution_count": 67
        }
      ]
    },
    {
      "cell_type": "markdown",
      "metadata": {
        "id": "aHHihe0V-nXz",
        "colab_type": "text"
      },
      "source": [
        "### **Drop Neigborhoods**"
      ]
    },
    {
      "cell_type": "markdown",
      "metadata": {
        "id": "0GPR5O9fXTDL",
        "colab_type": "text"
      },
      "source": [
        "### **Darukhana**"
      ]
    },
    {
      "cell_type": "markdown",
      "metadata": {
        "id": "nYoGTbRU-29U",
        "colab_type": "text"
      },
      "source": [
        "##### Drop some neiborhoods with very less venues."
      ]
    },
    {
      "cell_type": "code",
      "metadata": {
        "id": "zcXBfD-yCQbf",
        "colab_type": "code",
        "outputId": "27ddf13d-7049-4b49-b441-36fd8c5ade4a",
        "colab": {
          "base_uri": "https://localhost:8080/",
          "height": 88
        }
      },
      "source": [
        "print(\"before filter:\",south_mumbai_venues.shape)\n",
        "south_mumbai_venues = south_mumbai_venues[south_mumbai_venues.Neighborhood != 'Darukhana']\n",
        "print(\"after filter:\",south_mumbai_venues.shape)\n",
        "\n",
        "print(\"bef:\",south_mumbai_data.shape)\n",
        "south_mumbai_data = south_mumbai_data[south_mumbai_data.Neighborhood != 'Darukhana']\n",
        "print(\"aft:\",south_mumbai_data.shape)\n"
      ],
      "execution_count": 0,
      "outputs": [
        {
          "output_type": "stream",
          "text": [
            "before filter: (866, 8)\n",
            "after filter: (866, 8)\n",
            "bef: (38, 5)\n",
            "aft: (38, 5)\n"
          ],
          "name": "stdout"
        }
      ]
    },
    {
      "cell_type": "markdown",
      "metadata": {
        "id": "uHci_zmk-MJ5",
        "colab_type": "text"
      },
      "source": [
        "### **Merge Neighborhoods**"
      ]
    },
    {
      "cell_type": "markdown",
      "metadata": {
        "id": "PrEEf70d-U02",
        "colab_type": "text"
      },
      "source": [
        "##### Merge Neigborhoods with very less venues to nearby venues. "
      ]
    },
    {
      "cell_type": "code",
      "metadata": {
        "id": "gsLTjv-oFdKk",
        "colab_type": "code",
        "outputId": "d52261d0-5aee-44bf-b0de-34e9b109a219",
        "colab": {
          "base_uri": "https://localhost:8080/",
          "height": 35
        }
      },
      "source": [
        "# Get coordinates of Nagpada\n",
        "\n",
        "Nagpada = south_mumbai_venues\n",
        "Nagpada = Nagpada[Nagpada.Neighborhood == 'Nagpada' ].head(1)\n",
        "nagpada_latitude = Nagpada['Neighborhood Latitude'] \n",
        "nagpada_latitude = nagpada_latitude.iloc[0]\n",
        "nagpada_longitude = Nagpada['Neighborhood Longitude'] \n",
        "nagpada_longitude = nagpada_longitude.iloc[0]\n",
        "print(\"Nagpada latitude={} and longitude={}\".format(nagpada_latitude,nagpada_longitude))\n"
      ],
      "execution_count": 0,
      "outputs": [
        {
          "output_type": "stream",
          "text": [
            "Nagpada latitude=18.9681782 and longitude=72.8286009\n"
          ],
          "name": "stdout"
        }
      ]
    },
    {
      "cell_type": "markdown",
      "metadata": {
        "id": "mUzvtTwuRUFQ",
        "colab_type": "text"
      },
      "source": [
        "### **Merge Pydhoni to Nagpada**"
      ]
    },
    {
      "cell_type": "code",
      "metadata": {
        "id": "VPvspDVUQ6sN",
        "colab_type": "code",
        "outputId": "ff13f413-7781-4722-b95d-f8aa42a39a7d",
        "colab": {
          "base_uri": "https://localhost:8080/",
          "height": 52
        }
      },
      "source": [
        "south_mumbai_venues.loc[south_mumbai_venues['Neighborhood'] == 'Pydhoni', 'Neighborhood Latitude'] = nagpada_latitude\n",
        "south_mumbai_venues.loc[south_mumbai_venues['Neighborhood'] == 'Pydhoni', 'Neighborhood Longitude'] = nagpada_longitude\n",
        "south_mumbai_venues.loc[south_mumbai_venues['Neighborhood'] == 'Pydhoni', 'Neighborhood'] = 'Nagpada'\n",
        "south_mumbai_venues[south_mumbai_venues.Neighborhood == 'Pydhoni']\n",
        "south_mumbai_venues[south_mumbai_venues.Venue == 'Kanji Manji Kothari']\n",
        "#south_mumbai_venues.iloc[313]\n",
        "\n",
        "print(\"bef:\",south_mumbai_data.shape)\n",
        "south_mumbai_data = south_mumbai_data[south_mumbai_data.Neighborhood != 'Pydhoni']\n",
        "print(\"aft:\",south_mumbai_data.shape)\n"
      ],
      "execution_count": 0,
      "outputs": [
        {
          "output_type": "stream",
          "text": [
            "bef: (38, 5)\n",
            "aft: (37, 5)\n"
          ],
          "name": "stdout"
        }
      ]
    },
    {
      "cell_type": "markdown",
      "metadata": {
        "id": "-z-fTbRrRd1q",
        "colab_type": "text"
      },
      "source": [
        "### **Merge Dongri to Nagpada**"
      ]
    },
    {
      "cell_type": "code",
      "metadata": {
        "id": "PFwZQeePT0Tq",
        "colab_type": "code",
        "outputId": "fd0332e7-5ea3-4c9f-dbab-81845a5696ea",
        "colab": {
          "base_uri": "https://localhost:8080/",
          "height": 52
        }
      },
      "source": [
        "#south_mumbai_venues.loc[south_mumbai_venues['Neighborhood'] == 'Dongri']\n",
        "south_mumbai_venues.loc[south_mumbai_venues['Neighborhood'] == 'Dongri', 'Neighborhood Latitude'] = nagpada_latitude\n",
        "south_mumbai_venues.loc[south_mumbai_venues['Neighborhood'] == 'Dongri', 'Neighborhood Longitude'] = nagpada_longitude\n",
        "south_mumbai_venues.loc[south_mumbai_venues['Neighborhood'] == 'Dongri', 'Neighborhood'] = 'Nagpada'\n",
        "#south_mumbai_venues[south_mumbai_venues.Neighborhood == 'Dongri']\n",
        "south_mumbai_venues.iloc[332:334]\n",
        "\n",
        "print(\"bef:\",south_mumbai_data.shape)\n",
        "south_mumbai_data = south_mumbai_data[south_mumbai_data.Neighborhood != 'Dongri']\n",
        "print(\"aft:\",south_mumbai_data.shape)"
      ],
      "execution_count": 0,
      "outputs": [
        {
          "output_type": "stream",
          "text": [
            "bef: (37, 5)\n",
            "aft: (36, 5)\n"
          ],
          "name": "stdout"
        }
      ]
    },
    {
      "cell_type": "code",
      "metadata": {
        "id": "SGQSbngAWgAX",
        "colab_type": "code",
        "outputId": "2151f627-44ca-4a4d-98eb-c65df35af925",
        "colab": {
          "base_uri": "https://localhost:8080/",
          "height": 206
        }
      },
      "source": [
        "south_mumbai_venues.loc[south_mumbai_venues['Neighborhood'] == 'Grand Road']\n",
        "#south_mumbai_venues.iloc[340:344]"
      ],
      "execution_count": 0,
      "outputs": [
        {
          "output_type": "execute_result",
          "data": {
            "text/html": [
              "<div>\n",
              "<style scoped>\n",
              "    .dataframe tbody tr th:only-of-type {\n",
              "        vertical-align: middle;\n",
              "    }\n",
              "\n",
              "    .dataframe tbody tr th {\n",
              "        vertical-align: top;\n",
              "    }\n",
              "\n",
              "    .dataframe thead th {\n",
              "        text-align: right;\n",
              "    }\n",
              "</style>\n",
              "<table border=\"1\" class=\"dataframe\">\n",
              "  <thead>\n",
              "    <tr style=\"text-align: right;\">\n",
              "      <th></th>\n",
              "      <th>index</th>\n",
              "      <th>Neighborhood</th>\n",
              "      <th>Neighborhood Latitude</th>\n",
              "      <th>Neighborhood Longitude</th>\n",
              "      <th>Venue</th>\n",
              "      <th>Venue Latitude</th>\n",
              "      <th>Venue Longitude</th>\n",
              "      <th>Venue Category</th>\n",
              "    </tr>\n",
              "  </thead>\n",
              "  <tbody>\n",
              "    <tr>\n",
              "      <th>341</th>\n",
              "      <td>487</td>\n",
              "      <td>Grand Road</td>\n",
              "      <td>18.938771</td>\n",
              "      <td>72.835335</td>\n",
              "      <td>Chhatrapati Shivaji Maharaj Terminus</td>\n",
              "      <td>18.940088</td>\n",
              "      <td>72.835257</td>\n",
              "      <td>Train/Metro/Bus</td>\n",
              "    </tr>\n",
              "    <tr>\n",
              "      <th>342</th>\n",
              "      <td>507</td>\n",
              "      <td>Grand Road</td>\n",
              "      <td>18.938771</td>\n",
              "      <td>72.835335</td>\n",
              "      <td>Press Club Mumbai</td>\n",
              "      <td>18.940721</td>\n",
              "      <td>72.832469</td>\n",
              "      <td>Bar/Pub</td>\n",
              "    </tr>\n",
              "    <tr>\n",
              "      <th>343</th>\n",
              "      <td>512</td>\n",
              "      <td>Grand Road</td>\n",
              "      <td>18.938771</td>\n",
              "      <td>72.835335</td>\n",
              "      <td>Model Cafe</td>\n",
              "      <td>18.936027</td>\n",
              "      <td>72.840418</td>\n",
              "      <td>Café</td>\n",
              "    </tr>\n",
              "    <tr>\n",
              "      <th>344</th>\n",
              "      <td>513</td>\n",
              "      <td>Grand Road</td>\n",
              "      <td>18.938771</td>\n",
              "      <td>72.835335</td>\n",
              "      <td>grand hotel</td>\n",
              "      <td>18.936234</td>\n",
              "      <td>72.840724</td>\n",
              "      <td>Hotel</td>\n",
              "    </tr>\n",
              "  </tbody>\n",
              "</table>\n",
              "</div>"
            ],
            "text/plain": [
              "     index Neighborhood  ...  Venue Longitude   Venue Category\n",
              "341    487   Grand Road  ...        72.835257  Train/Metro/Bus\n",
              "342    507   Grand Road  ...        72.832469          Bar/Pub\n",
              "343    512   Grand Road  ...        72.840418             Café\n",
              "344    513   Grand Road  ...        72.840724            Hotel\n",
              "\n",
              "[4 rows x 8 columns]"
            ]
          },
          "metadata": {
            "tags": []
          },
          "execution_count": 398
        }
      ]
    },
    {
      "cell_type": "code",
      "metadata": {
        "id": "QFELd6PXWTgr",
        "colab_type": "code",
        "outputId": "ce08e210-f225-4893-df00-7f3beacb57b9",
        "colab": {
          "base_uri": "https://localhost:8080/",
          "height": 52
        }
      },
      "source": [
        "#south_mumbai_venues.loc[south_mumbai_venues['Neighborhood'] == 'Grand Road']\n",
        "south_mumbai_venues.loc[south_mumbai_venues['Neighborhood'] == 'Grand Road', 'Neighborhood Latitude'] = nagpada_latitude\n",
        "south_mumbai_venues.loc[south_mumbai_venues['Neighborhood'] == 'Grand Road', 'Neighborhood Longitude'] = nagpada_longitude\n",
        "south_mumbai_venues.loc[south_mumbai_venues['Neighborhood'] == 'Grand Road', 'Neighborhood'] = 'Nagpada'\n",
        "#south_mumbai_venues[south_mumbai_venues.Neighborhood == 'Grand Road']\n",
        "south_mumbai_venues.iloc[340:344]\n",
        "\n",
        "print(\"bef:\",south_mumbai_data.shape)\n",
        "south_mumbai_data = south_mumbai_data[south_mumbai_data.Neighborhood != 'Grand Road']\n",
        "print(\"aft:\",south_mumbai_data.shape)"
      ],
      "execution_count": 0,
      "outputs": [
        {
          "output_type": "stream",
          "text": [
            "bef: (36, 5)\n",
            "aft: (35, 5)\n"
          ],
          "name": "stdout"
        }
      ]
    },
    {
      "cell_type": "code",
      "metadata": {
        "id": "hsqmxXGhXanm",
        "colab_type": "code",
        "outputId": "da639b6e-1927-4465-9cd0-e98889dbdde6",
        "colab": {
          "base_uri": "https://localhost:8080/",
          "height": 302
        }
      },
      "source": [
        "south_mumbai_venues.loc[south_mumbai_venues['Neighborhood'] == 'Byculla']\n",
        "south_mumbai_venues.iloc[334:340]"
      ],
      "execution_count": 0,
      "outputs": [
        {
          "output_type": "execute_result",
          "data": {
            "text/html": [
              "<div>\n",
              "<style scoped>\n",
              "    .dataframe tbody tr th:only-of-type {\n",
              "        vertical-align: middle;\n",
              "    }\n",
              "\n",
              "    .dataframe tbody tr th {\n",
              "        vertical-align: top;\n",
              "    }\n",
              "\n",
              "    .dataframe thead th {\n",
              "        text-align: right;\n",
              "    }\n",
              "</style>\n",
              "<table border=\"1\" class=\"dataframe\">\n",
              "  <thead>\n",
              "    <tr style=\"text-align: right;\">\n",
              "      <th></th>\n",
              "      <th>index</th>\n",
              "      <th>Neighborhood</th>\n",
              "      <th>Neighborhood Latitude</th>\n",
              "      <th>Neighborhood Longitude</th>\n",
              "      <th>Venue</th>\n",
              "      <th>Venue Latitude</th>\n",
              "      <th>Venue Longitude</th>\n",
              "      <th>Venue Category</th>\n",
              "    </tr>\n",
              "  </thead>\n",
              "  <tbody>\n",
              "    <tr>\n",
              "      <th>335</th>\n",
              "      <td>474</td>\n",
              "      <td>Byculla</td>\n",
              "      <td>18.976622</td>\n",
              "      <td>72.832794</td>\n",
              "      <td>Bhau Daji Lad Museum</td>\n",
              "      <td>18.979140</td>\n",
              "      <td>72.834449</td>\n",
              "      <td>History Museum</td>\n",
              "    </tr>\n",
              "    <tr>\n",
              "      <th>336</th>\n",
              "      <td>476</td>\n",
              "      <td>Byculla</td>\n",
              "      <td>18.976622</td>\n",
              "      <td>72.832794</td>\n",
              "      <td>Cafe Renault</td>\n",
              "      <td>18.974986</td>\n",
              "      <td>72.833758</td>\n",
              "      <td>Bar/Pub</td>\n",
              "    </tr>\n",
              "    <tr>\n",
              "      <th>337</th>\n",
              "      <td>477</td>\n",
              "      <td>Byculla</td>\n",
              "      <td>18.976622</td>\n",
              "      <td>72.832794</td>\n",
              "      <td>Gloria Restaurant</td>\n",
              "      <td>18.975485</td>\n",
              "      <td>72.833884</td>\n",
              "      <td>Asian Restaurant</td>\n",
              "    </tr>\n",
              "    <tr>\n",
              "      <th>338</th>\n",
              "      <td>479</td>\n",
              "      <td>Byculla</td>\n",
              "      <td>18.976622</td>\n",
              "      <td>72.832794</td>\n",
              "      <td>Domino's Pizza</td>\n",
              "      <td>18.978071</td>\n",
              "      <td>72.838701</td>\n",
              "      <td>Pizza Place</td>\n",
              "    </tr>\n",
              "    <tr>\n",
              "      <th>339</th>\n",
              "      <td>480</td>\n",
              "      <td>Byculla</td>\n",
              "      <td>18.976622</td>\n",
              "      <td>72.832794</td>\n",
              "      <td>Jijamata Udyan - Ranibaug</td>\n",
              "      <td>18.978606</td>\n",
              "      <td>72.834980</td>\n",
              "      <td>Zoo</td>\n",
              "    </tr>\n",
              "    <tr>\n",
              "      <th>340</th>\n",
              "      <td>481</td>\n",
              "      <td>Byculla</td>\n",
              "      <td>18.976622</td>\n",
              "      <td>72.832794</td>\n",
              "      <td>Byculla Bakery</td>\n",
              "      <td>18.977695</td>\n",
              "      <td>72.834005</td>\n",
              "      <td>Bakery</td>\n",
              "    </tr>\n",
              "  </tbody>\n",
              "</table>\n",
              "</div>"
            ],
            "text/plain": [
              "     index Neighborhood  ...  Venue Longitude    Venue Category\n",
              "335    474      Byculla  ...        72.834449    History Museum\n",
              "336    476      Byculla  ...        72.833758           Bar/Pub\n",
              "337    477      Byculla  ...        72.833884  Asian Restaurant\n",
              "338    479      Byculla  ...        72.838701       Pizza Place\n",
              "339    480      Byculla  ...        72.834980               Zoo\n",
              "340    481      Byculla  ...        72.834005            Bakery\n",
              "\n",
              "[6 rows x 8 columns]"
            ]
          },
          "metadata": {
            "tags": []
          },
          "execution_count": 400
        }
      ]
    },
    {
      "cell_type": "code",
      "metadata": {
        "id": "kZt4eKMsXY2l",
        "colab_type": "code",
        "outputId": "eca59256-9060-48b9-a258-ab304acf8db6",
        "colab": {
          "base_uri": "https://localhost:8080/",
          "height": 52
        }
      },
      "source": [
        "#south_mumbai_venues.loc[south_mumbai_venues['Neighborhood'] == 'Byculla']\n",
        "south_mumbai_venues.loc[south_mumbai_venues['Neighborhood'] == 'Byculla', 'Neighborhood Latitude'] = nagpada_latitude\n",
        "south_mumbai_venues.loc[south_mumbai_venues['Neighborhood'] == 'Byculla', 'Neighborhood Longitude'] = nagpada_longitude\n",
        "south_mumbai_venues.loc[south_mumbai_venues['Neighborhood'] == 'Byculla', 'Neighborhood'] = 'Nagpada'\n",
        "#south_mumbai_venues[south_mumbai_venues.Neighborhood == 'Byculla']\n",
        "south_mumbai_venues.iloc[334:340]\n",
        "\n",
        "print(\"bef:\",south_mumbai_data.shape)\n",
        "south_mumbai_data = south_mumbai_data[south_mumbai_data.Neighborhood != 'Byculla']\n",
        "print(\"aft:\",south_mumbai_data.shape)"
      ],
      "execution_count": 0,
      "outputs": [
        {
          "output_type": "stream",
          "text": [
            "bef: (35, 5)\n",
            "aft: (34, 5)\n"
          ],
          "name": "stdout"
        }
      ]
    },
    {
      "cell_type": "markdown",
      "metadata": {
        "id": "k8LWVwg-Yvf6",
        "colab_type": "text"
      },
      "source": [
        "### **Merge Govandi with Chembur**"
      ]
    },
    {
      "cell_type": "code",
      "metadata": {
        "id": "h-doU-ucY49t",
        "colab_type": "code",
        "outputId": "e9175718-3d6e-4b13-8381-86b6fcfd9150",
        "colab": {
          "base_uri": "https://localhost:8080/",
          "height": 96
        }
      },
      "source": [
        "# Get coordinates of Chembur\n",
        "\n",
        "Chembur = south_mumbai_venues\n",
        "Chembur = Chembur[Chembur.Neighborhood == 'Chembur' ].head(1)\n",
        "Chembur_latitude = Chembur['Neighborhood Latitude'] \n",
        "Chembur_latitude = Chembur_latitude.iloc[0]\n",
        "Chembur_longitude = Chembur['Neighborhood Longitude'] \n",
        "Chembur_longitude = Chembur_longitude.iloc[0]\n",
        "print(\"Chembur latitude={} and longitude={}\".format(Chembur_latitude,Chembur_longitude))\n",
        "Chembur[Chembur.Neighborhood == 'Chembur' ].head(1)"
      ],
      "execution_count": 0,
      "outputs": [
        {
          "output_type": "stream",
          "text": [
            "Chembur latitude=19.0612128 and longitude=72.8975909\n"
          ],
          "name": "stdout"
        },
        {
          "output_type": "execute_result",
          "data": {
            "text/html": [
              "<div>\n",
              "<style scoped>\n",
              "    .dataframe tbody tr th:only-of-type {\n",
              "        vertical-align: middle;\n",
              "    }\n",
              "\n",
              "    .dataframe tbody tr th {\n",
              "        vertical-align: top;\n",
              "    }\n",
              "\n",
              "    .dataframe thead th {\n",
              "        text-align: right;\n",
              "    }\n",
              "</style>\n",
              "<table border=\"1\" class=\"dataframe\">\n",
              "  <thead>\n",
              "    <tr style=\"text-align: right;\">\n",
              "      <th></th>\n",
              "      <th>index</th>\n",
              "      <th>Neighborhood</th>\n",
              "      <th>Neighborhood Latitude</th>\n",
              "      <th>Neighborhood Longitude</th>\n",
              "      <th>Venue</th>\n",
              "      <th>Venue Latitude</th>\n",
              "      <th>Venue Longitude</th>\n",
              "      <th>Venue Category</th>\n",
              "    </tr>\n",
              "  </thead>\n",
              "  <tbody>\n",
              "    <tr>\n",
              "      <th>686</th>\n",
              "      <td>910</td>\n",
              "      <td>Chembur</td>\n",
              "      <td>19.061213</td>\n",
              "      <td>72.897591</td>\n",
              "      <td>Le Café</td>\n",
              "      <td>19.061791</td>\n",
              "      <td>72.899479</td>\n",
              "      <td>Café</td>\n",
              "    </tr>\n",
              "  </tbody>\n",
              "</table>\n",
              "</div>"
            ],
            "text/plain": [
              "     index Neighborhood  ...  Venue Longitude  Venue Category\n",
              "686    910      Chembur  ...        72.899479            Café\n",
              "\n",
              "[1 rows x 8 columns]"
            ]
          },
          "metadata": {
            "tags": []
          },
          "execution_count": 73
        }
      ]
    },
    {
      "cell_type": "code",
      "metadata": {
        "id": "iP1UHM_rY5va",
        "colab_type": "code",
        "outputId": "2b08f346-eb53-43a4-8a8f-2ad25931588c",
        "colab": {
          "base_uri": "https://localhost:8080/",
          "height": 254
        }
      },
      "source": [
        "#south_mumbai_venues.loc[south_mumbai_venues['Neighborhood'] == 'Govandi']\n",
        "south_mumbai_venues.iloc[688:693]"
      ],
      "execution_count": 0,
      "outputs": [
        {
          "output_type": "execute_result",
          "data": {
            "text/html": [
              "<div>\n",
              "<style scoped>\n",
              "    .dataframe tbody tr th:only-of-type {\n",
              "        vertical-align: middle;\n",
              "    }\n",
              "\n",
              "    .dataframe tbody tr th {\n",
              "        vertical-align: top;\n",
              "    }\n",
              "\n",
              "    .dataframe thead th {\n",
              "        text-align: right;\n",
              "    }\n",
              "</style>\n",
              "<table border=\"1\" class=\"dataframe\">\n",
              "  <thead>\n",
              "    <tr style=\"text-align: right;\">\n",
              "      <th></th>\n",
              "      <th>index</th>\n",
              "      <th>Neighborhood</th>\n",
              "      <th>Neighborhood Latitude</th>\n",
              "      <th>Neighborhood Longitude</th>\n",
              "      <th>Venue</th>\n",
              "      <th>Venue Latitude</th>\n",
              "      <th>Venue Longitude</th>\n",
              "      <th>Venue Category</th>\n",
              "    </tr>\n",
              "  </thead>\n",
              "  <tbody>\n",
              "    <tr>\n",
              "      <th>689</th>\n",
              "      <td>925</td>\n",
              "      <td>Govandi</td>\n",
              "      <td>19.055369</td>\n",
              "      <td>72.91507</td>\n",
              "      <td>Govandi Station</td>\n",
              "      <td>19.054849</td>\n",
              "      <td>72.915618</td>\n",
              "      <td>Platform</td>\n",
              "    </tr>\n",
              "    <tr>\n",
              "      <th>690</th>\n",
              "      <td>926</td>\n",
              "      <td>Govandi</td>\n",
              "      <td>19.055369</td>\n",
              "      <td>72.91507</td>\n",
              "      <td>Gavand Vada Pao center</td>\n",
              "      <td>19.055100</td>\n",
              "      <td>72.914816</td>\n",
              "      <td>Hot Dog Joint</td>\n",
              "    </tr>\n",
              "    <tr>\n",
              "      <th>691</th>\n",
              "      <td>927</td>\n",
              "      <td>Govandi</td>\n",
              "      <td>19.055369</td>\n",
              "      <td>72.91507</td>\n",
              "      <td>Natraj Store</td>\n",
              "      <td>19.055045</td>\n",
              "      <td>72.915612</td>\n",
              "      <td>Food &amp; Drink Shop</td>\n",
              "    </tr>\n",
              "    <tr>\n",
              "      <th>692</th>\n",
              "      <td>928</td>\n",
              "      <td>Govandi</td>\n",
              "      <td>19.055369</td>\n",
              "      <td>72.91507</td>\n",
              "      <td>Munna Sandwich</td>\n",
              "      <td>19.055237</td>\n",
              "      <td>72.914551</td>\n",
              "      <td>Food Truck</td>\n",
              "    </tr>\n",
              "    <tr>\n",
              "      <th>693</th>\n",
              "      <td>931</td>\n",
              "      <td>Govandi</td>\n",
              "      <td>19.055369</td>\n",
              "      <td>72.91507</td>\n",
              "      <td>Deonar Park</td>\n",
              "      <td>19.051004</td>\n",
              "      <td>72.914629</td>\n",
              "      <td>Park</td>\n",
              "    </tr>\n",
              "  </tbody>\n",
              "</table>\n",
              "</div>"
            ],
            "text/plain": [
              "     index Neighborhood  ...  Venue Longitude     Venue Category\n",
              "689    925      Govandi  ...        72.915618           Platform\n",
              "690    926      Govandi  ...        72.914816      Hot Dog Joint\n",
              "691    927      Govandi  ...        72.915612  Food & Drink Shop\n",
              "692    928      Govandi  ...        72.914551         Food Truck\n",
              "693    931      Govandi  ...        72.914629               Park\n",
              "\n",
              "[5 rows x 8 columns]"
            ]
          },
          "metadata": {
            "tags": []
          },
          "execution_count": 403
        }
      ]
    },
    {
      "cell_type": "code",
      "metadata": {
        "id": "3qpex_0kY6bB",
        "colab_type": "code",
        "outputId": "42227472-8248-4c6f-8ac0-9925a75e0481",
        "colab": {
          "base_uri": "https://localhost:8080/",
          "height": 52
        }
      },
      "source": [
        "#south_mumbai_venues.loc[south_mumbai_venues['Neighborhood'] == 'Govandi']\n",
        "south_mumbai_venues.loc[south_mumbai_venues['Neighborhood'] == 'Govandi', 'Neighborhood Latitude'] = Chembur_latitude\n",
        "south_mumbai_venues.loc[south_mumbai_venues['Neighborhood'] == 'Govandi', 'Neighborhood Longitude'] = Chembur_longitude\n",
        "south_mumbai_venues.loc[south_mumbai_venues['Neighborhood'] == 'Govandi', 'Neighborhood'] = 'Chembur'\n",
        "#south_mumbai_venues[south_mumbai_venues.Neighborhood == 'Govandi']\n",
        "south_mumbai_venues.iloc[688:693]\n",
        "\n",
        "print(\"bef:\",south_mumbai_data.shape)\n",
        "south_mumbai_data = south_mumbai_data[south_mumbai_data.Neighborhood != 'Govandi']\n",
        "print(\"aft:\",south_mumbai_data.shape)"
      ],
      "execution_count": 0,
      "outputs": [
        {
          "output_type": "stream",
          "text": [
            "bef: (34, 5)\n",
            "aft: (33, 5)\n"
          ],
          "name": "stdout"
        }
      ]
    },
    {
      "cell_type": "markdown",
      "metadata": {
        "id": "OV-5RlJ7cCXz",
        "colab_type": "text"
      },
      "source": [
        "### **Merge Kalina with Kurla**"
      ]
    },
    {
      "cell_type": "code",
      "metadata": {
        "id": "OkPgTWpHcZdZ",
        "colab_type": "code",
        "outputId": "8532b3e0-140e-452b-f6b7-4468953eaacb",
        "colab": {
          "base_uri": "https://localhost:8080/",
          "height": 130
        }
      },
      "source": [
        "# Get coordinates of Kurla\n",
        "\n",
        "Kurla = south_mumbai_venues\n",
        "Kurla = Kurla[Kurla.Neighborhood == 'Kurla' ].head(1)\n",
        "Kurla_latitude = Kurla['Neighborhood Latitude'] \n",
        "Kurla_latitude = Kurla_latitude.iloc[0]\n",
        "Kurla_longitude = Kurla['Neighborhood Longitude'] \n",
        "Kurla_longitude = Kurla_longitude.iloc[0]\n",
        "print(\"Kurla latitude={} and longitude={}\".format(Kurla_latitude,Kurla_longitude))\n",
        "Kurla[Kurla.Neighborhood == 'Kurla' ].head(1)"
      ],
      "execution_count": 0,
      "outputs": [
        {
          "output_type": "stream",
          "text": [
            "Kurla latitude=19.0652797 and longitude=72.8793805\n"
          ],
          "name": "stdout"
        },
        {
          "output_type": "execute_result",
          "data": {
            "text/html": [
              "<div>\n",
              "<style scoped>\n",
              "    .dataframe tbody tr th:only-of-type {\n",
              "        vertical-align: middle;\n",
              "    }\n",
              "\n",
              "    .dataframe tbody tr th {\n",
              "        vertical-align: top;\n",
              "    }\n",
              "\n",
              "    .dataframe thead th {\n",
              "        text-align: right;\n",
              "    }\n",
              "</style>\n",
              "<table border=\"1\" class=\"dataframe\">\n",
              "  <thead>\n",
              "    <tr style=\"text-align: right;\">\n",
              "      <th></th>\n",
              "      <th>index</th>\n",
              "      <th>Neighborhood</th>\n",
              "      <th>Neighborhood Latitude</th>\n",
              "      <th>Neighborhood Longitude</th>\n",
              "      <th>Venue</th>\n",
              "      <th>Venue Latitude</th>\n",
              "      <th>Venue Longitude</th>\n",
              "      <th>Venue Category</th>\n",
              "    </tr>\n",
              "  </thead>\n",
              "  <tbody>\n",
              "    <tr>\n",
              "      <th>662</th>\n",
              "      <td>880</td>\n",
              "      <td>Kurla</td>\n",
              "      <td>19.06528</td>\n",
              "      <td>72.87938</td>\n",
              "      <td>Swastik Farsan Mart</td>\n",
              "      <td>19.065989</td>\n",
              "      <td>72.878838</td>\n",
              "      <td>Grocery Store</td>\n",
              "    </tr>\n",
              "  </tbody>\n",
              "</table>\n",
              "</div>"
            ],
            "text/plain": [
              "     index Neighborhood  ...  Venue Longitude  Venue Category\n",
              "662    880        Kurla  ...        72.878838   Grocery Store\n",
              "\n",
              "[1 rows x 8 columns]"
            ]
          },
          "metadata": {
            "tags": []
          },
          "execution_count": 75
        }
      ]
    },
    {
      "cell_type": "code",
      "metadata": {
        "id": "trc4EcYRcZuQ",
        "colab_type": "code",
        "outputId": "8f357826-c405-4c6d-c23d-c9c1cf893bda",
        "colab": {
          "base_uri": "https://localhost:8080/",
          "height": 354
        }
      },
      "source": [
        "#south_mumbai_venues.loc[south_mumbai_venues['Neighborhood'] == 'Kalina']\n",
        "south_mumbai_venues.iloc[588:594]"
      ],
      "execution_count": 0,
      "outputs": [
        {
          "output_type": "execute_result",
          "data": {
            "text/html": [
              "<div>\n",
              "<style scoped>\n",
              "    .dataframe tbody tr th:only-of-type {\n",
              "        vertical-align: middle;\n",
              "    }\n",
              "\n",
              "    .dataframe tbody tr th {\n",
              "        vertical-align: top;\n",
              "    }\n",
              "\n",
              "    .dataframe thead th {\n",
              "        text-align: right;\n",
              "    }\n",
              "</style>\n",
              "<table border=\"1\" class=\"dataframe\">\n",
              "  <thead>\n",
              "    <tr style=\"text-align: right;\">\n",
              "      <th></th>\n",
              "      <th>index</th>\n",
              "      <th>Neighborhood</th>\n",
              "      <th>Neighborhood Latitude</th>\n",
              "      <th>Neighborhood Longitude</th>\n",
              "      <th>Venue</th>\n",
              "      <th>Venue Latitude</th>\n",
              "      <th>Venue Longitude</th>\n",
              "      <th>Venue Category</th>\n",
              "    </tr>\n",
              "  </thead>\n",
              "  <tbody>\n",
              "    <tr>\n",
              "      <th>589</th>\n",
              "      <td>798</td>\n",
              "      <td>Kalina</td>\n",
              "      <td>19.079273</td>\n",
              "      <td>72.861267</td>\n",
              "      <td>King Chilly</td>\n",
              "      <td>19.078382</td>\n",
              "      <td>72.866350</td>\n",
              "      <td>Chinese Restaurant</td>\n",
              "    </tr>\n",
              "    <tr>\n",
              "      <th>590</th>\n",
              "      <td>799</td>\n",
              "      <td>Kalina</td>\n",
              "      <td>19.079273</td>\n",
              "      <td>72.861267</td>\n",
              "      <td>The Camp</td>\n",
              "      <td>19.077917</td>\n",
              "      <td>72.865643</td>\n",
              "      <td>Asian Restaurant</td>\n",
              "    </tr>\n",
              "    <tr>\n",
              "      <th>591</th>\n",
              "      <td>800</td>\n",
              "      <td>Kalina</td>\n",
              "      <td>19.079273</td>\n",
              "      <td>72.861267</td>\n",
              "      <td>Sadichha</td>\n",
              "      <td>19.081684</td>\n",
              "      <td>72.855762</td>\n",
              "      <td>Seafood Restaurant</td>\n",
              "    </tr>\n",
              "    <tr>\n",
              "      <th>592</th>\n",
              "      <td>801</td>\n",
              "      <td>Kalina</td>\n",
              "      <td>19.079273</td>\n",
              "      <td>72.861267</td>\n",
              "      <td>SONY CENTRE</td>\n",
              "      <td>19.077760</td>\n",
              "      <td>72.864600</td>\n",
              "      <td>Electronics Store</td>\n",
              "    </tr>\n",
              "    <tr>\n",
              "      <th>593</th>\n",
              "      <td>802</td>\n",
              "      <td>Kalina</td>\n",
              "      <td>19.079273</td>\n",
              "      <td>72.861267</td>\n",
              "      <td>king chilli kalina</td>\n",
              "      <td>19.079660</td>\n",
              "      <td>72.865732</td>\n",
              "      <td>Chinese Restaurant</td>\n",
              "    </tr>\n",
              "    <tr>\n",
              "      <th>594</th>\n",
              "      <td>803</td>\n",
              "      <td>Kalina</td>\n",
              "      <td>19.079273</td>\n",
              "      <td>72.861267</td>\n",
              "      <td>Imbiss Meating joint</td>\n",
              "      <td>19.078304</td>\n",
              "      <td>72.865934</td>\n",
              "      <td>Burger Joint</td>\n",
              "    </tr>\n",
              "  </tbody>\n",
              "</table>\n",
              "</div>"
            ],
            "text/plain": [
              "     index Neighborhood  ...  Venue Longitude      Venue Category\n",
              "589    798       Kalina  ...        72.866350  Chinese Restaurant\n",
              "590    799       Kalina  ...        72.865643    Asian Restaurant\n",
              "591    800       Kalina  ...        72.855762  Seafood Restaurant\n",
              "592    801       Kalina  ...        72.864600   Electronics Store\n",
              "593    802       Kalina  ...        72.865732  Chinese Restaurant\n",
              "594    803       Kalina  ...        72.865934        Burger Joint\n",
              "\n",
              "[6 rows x 8 columns]"
            ]
          },
          "metadata": {
            "tags": []
          },
          "execution_count": 406
        }
      ]
    },
    {
      "cell_type": "code",
      "metadata": {
        "id": "XWYjkLgucZ9e",
        "colab_type": "code",
        "outputId": "5247e9df-124a-430c-da6c-c550b346b6a6",
        "colab": {
          "base_uri": "https://localhost:8080/",
          "height": 52
        }
      },
      "source": [
        "#south_mumbai_venues.loc[south_mumbai_venues['Neighborhood'] == 'Kalina']\n",
        "south_mumbai_venues.loc[south_mumbai_venues['Neighborhood'] == 'Kalina', 'Neighborhood Latitude'] = Kurla_latitude\n",
        "south_mumbai_venues.loc[south_mumbai_venues['Neighborhood'] == 'Kalina', 'Neighborhood Longitude'] = Kurla_longitude\n",
        "south_mumbai_venues.loc[south_mumbai_venues['Neighborhood'] == 'Kalina', 'Neighborhood'] = 'Kurla'\n",
        "#south_mumbai_venues[south_mumbai_venues.Neighborhood == 'Kalina']\n",
        "south_mumbai_venues.iloc[588:594]\n",
        "\n",
        "print(\"bef:\",south_mumbai_data.shape)\n",
        "south_mumbai_data = south_mumbai_data[south_mumbai_data.Neighborhood != 'Kalina']\n",
        "print(\"aft:\",south_mumbai_data.shape)\n",
        "\n"
      ],
      "execution_count": 0,
      "outputs": [
        {
          "output_type": "stream",
          "text": [
            "bef: (33, 5)\n",
            "aft: (32, 5)\n"
          ],
          "name": "stdout"
        }
      ]
    },
    {
      "cell_type": "markdown",
      "metadata": {
        "id": "a1ASK9KKhNnS",
        "colab_type": "text"
      },
      "source": [
        "### **Merge Malad with Andheri**"
      ]
    },
    {
      "cell_type": "code",
      "metadata": {
        "id": "30dQdmZPhCgv",
        "colab_type": "code",
        "outputId": "5d3de490-a9f0-4198-efba-41bce6453fd2",
        "colab": {
          "base_uri": "https://localhost:8080/",
          "height": 130
        }
      },
      "source": [
        "# Get coordinates of Andheri\n",
        "\n",
        "Andheri = south_mumbai_venues\n",
        "Andheri = Andheri[Andheri.Neighborhood == 'Andheri' ].head(1)\n",
        "Andheri_latitude = Andheri['Neighborhood Latitude'] \n",
        "Andheri_latitude = Andheri_latitude.iloc[0]\n",
        "Andheri_longitude = Andheri['Neighborhood Longitude'] \n",
        "Andheri_longitude = Andheri_longitude.iloc[0]\n",
        "print(\"Chembur latitude={} and longitude={}\".format(Andheri_latitude,Andheri_longitude))\n",
        "Andheri[Andheri.Neighborhood == 'Andheri' ].head(1)"
      ],
      "execution_count": 0,
      "outputs": [
        {
          "output_type": "stream",
          "text": [
            "Chembur latitude=19.1196976 and longitude=72.8464205\n"
          ],
          "name": "stdout"
        },
        {
          "output_type": "execute_result",
          "data": {
            "text/html": [
              "<div>\n",
              "<style scoped>\n",
              "    .dataframe tbody tr th:only-of-type {\n",
              "        vertical-align: middle;\n",
              "    }\n",
              "\n",
              "    .dataframe tbody tr th {\n",
              "        vertical-align: top;\n",
              "    }\n",
              "\n",
              "    .dataframe thead th {\n",
              "        text-align: right;\n",
              "    }\n",
              "</style>\n",
              "<table border=\"1\" class=\"dataframe\">\n",
              "  <thead>\n",
              "    <tr style=\"text-align: right;\">\n",
              "      <th></th>\n",
              "      <th>index</th>\n",
              "      <th>Neighborhood</th>\n",
              "      <th>Neighborhood Latitude</th>\n",
              "      <th>Neighborhood Longitude</th>\n",
              "      <th>Venue</th>\n",
              "      <th>Venue Latitude</th>\n",
              "      <th>Venue Longitude</th>\n",
              "      <th>Venue Category</th>\n",
              "    </tr>\n",
              "  </thead>\n",
              "  <tbody>\n",
              "    <tr>\n",
              "      <th>595</th>\n",
              "      <td>797</td>\n",
              "      <td>Andheri</td>\n",
              "      <td>19.119698</td>\n",
              "      <td>72.84642</td>\n",
              "      <td>Merwans Cake shop</td>\n",
              "      <td>19.1193</td>\n",
              "      <td>72.845418</td>\n",
              "      <td>Bakery</td>\n",
              "    </tr>\n",
              "  </tbody>\n",
              "</table>\n",
              "</div>"
            ],
            "text/plain": [
              "     index Neighborhood  ...  Venue Longitude  Venue Category\n",
              "595    797      Andheri  ...        72.845418          Bakery\n",
              "\n",
              "[1 rows x 8 columns]"
            ]
          },
          "metadata": {
            "tags": []
          },
          "execution_count": 77
        }
      ]
    },
    {
      "cell_type": "code",
      "metadata": {
        "id": "Cn7vAC0IhCuK",
        "colab_type": "code",
        "outputId": "d82994ef-5fcd-403e-9fd0-e524733eae3c",
        "colab": {
          "base_uri": "https://localhost:8080/",
          "height": 402
        }
      },
      "source": [
        "#south_mumbai_venues.loc[south_mumbai_venues['Neighborhood'] == 'Malad']\n",
        "south_mumbai_venues.iloc[773:780]"
      ],
      "execution_count": 0,
      "outputs": [
        {
          "output_type": "execute_result",
          "data": {
            "text/html": [
              "<div>\n",
              "<style scoped>\n",
              "    .dataframe tbody tr th:only-of-type {\n",
              "        vertical-align: middle;\n",
              "    }\n",
              "\n",
              "    .dataframe tbody tr th {\n",
              "        vertical-align: top;\n",
              "    }\n",
              "\n",
              "    .dataframe thead th {\n",
              "        text-align: right;\n",
              "    }\n",
              "</style>\n",
              "<table border=\"1\" class=\"dataframe\">\n",
              "  <thead>\n",
              "    <tr style=\"text-align: right;\">\n",
              "      <th></th>\n",
              "      <th>index</th>\n",
              "      <th>Neighborhood</th>\n",
              "      <th>Neighborhood Latitude</th>\n",
              "      <th>Neighborhood Longitude</th>\n",
              "      <th>Venue</th>\n",
              "      <th>Venue Latitude</th>\n",
              "      <th>Venue Longitude</th>\n",
              "      <th>Venue Category</th>\n",
              "    </tr>\n",
              "  </thead>\n",
              "  <tbody>\n",
              "    <tr>\n",
              "      <th>774</th>\n",
              "      <td>1024</td>\n",
              "      <td>Malad</td>\n",
              "      <td>19.186719</td>\n",
              "      <td>72.848588</td>\n",
              "      <td>Gupta's Bhel and Pani Puri House</td>\n",
              "      <td>19.184527</td>\n",
              "      <td>72.845946</td>\n",
              "      <td>Snack Place</td>\n",
              "    </tr>\n",
              "    <tr>\n",
              "      <th>775</th>\n",
              "      <td>1025</td>\n",
              "      <td>Malad</td>\n",
              "      <td>19.186719</td>\n",
              "      <td>72.848588</td>\n",
              "      <td>MM Mithaiwala</td>\n",
              "      <td>19.187323</td>\n",
              "      <td>72.848164</td>\n",
              "      <td>Dessert Shop</td>\n",
              "    </tr>\n",
              "    <tr>\n",
              "      <th>776</th>\n",
              "      <td>1026</td>\n",
              "      <td>Malad</td>\n",
              "      <td>19.186719</td>\n",
              "      <td>72.848588</td>\n",
              "      <td>Aditi</td>\n",
              "      <td>19.185180</td>\n",
              "      <td>72.846718</td>\n",
              "      <td>Fast Food Restaurant</td>\n",
              "    </tr>\n",
              "    <tr>\n",
              "      <th>777</th>\n",
              "      <td>1027</td>\n",
              "      <td>Malad</td>\n",
              "      <td>19.186719</td>\n",
              "      <td>72.848588</td>\n",
              "      <td>Malad Railway Station</td>\n",
              "      <td>19.187100</td>\n",
              "      <td>72.848678</td>\n",
              "      <td>Train/Metro/Bus</td>\n",
              "    </tr>\n",
              "    <tr>\n",
              "      <th>778</th>\n",
              "      <td>1028</td>\n",
              "      <td>Malad</td>\n",
              "      <td>19.186719</td>\n",
              "      <td>72.848588</td>\n",
              "      <td>platform1</td>\n",
              "      <td>19.187324</td>\n",
              "      <td>72.849162</td>\n",
              "      <td>Tourist Information Center</td>\n",
              "    </tr>\n",
              "    <tr>\n",
              "      <th>779</th>\n",
              "      <td>1029</td>\n",
              "      <td>Malad</td>\n",
              "      <td>19.186719</td>\n",
              "      <td>72.848588</td>\n",
              "      <td>aditi fast food hotel</td>\n",
              "      <td>19.185317</td>\n",
              "      <td>72.846710</td>\n",
              "      <td>Fast Food Restaurant</td>\n",
              "    </tr>\n",
              "    <tr>\n",
              "      <th>780</th>\n",
              "      <td>1031</td>\n",
              "      <td>Malad</td>\n",
              "      <td>19.186719</td>\n",
              "      <td>72.848588</td>\n",
              "      <td>Sapna Veg. Restaurant</td>\n",
              "      <td>19.192203</td>\n",
              "      <td>72.846929</td>\n",
              "      <td>Fast Food Restaurant</td>\n",
              "    </tr>\n",
              "  </tbody>\n",
              "</table>\n",
              "</div>"
            ],
            "text/plain": [
              "     index Neighborhood  ...  Venue Longitude              Venue Category\n",
              "774   1024        Malad  ...        72.845946                 Snack Place\n",
              "775   1025        Malad  ...        72.848164                Dessert Shop\n",
              "776   1026        Malad  ...        72.846718        Fast Food Restaurant\n",
              "777   1027        Malad  ...        72.848678             Train/Metro/Bus\n",
              "778   1028        Malad  ...        72.849162  Tourist Information Center\n",
              "779   1029        Malad  ...        72.846710        Fast Food Restaurant\n",
              "780   1031        Malad  ...        72.846929        Fast Food Restaurant\n",
              "\n",
              "[7 rows x 8 columns]"
            ]
          },
          "metadata": {
            "tags": []
          },
          "execution_count": 409
        }
      ]
    },
    {
      "cell_type": "code",
      "metadata": {
        "id": "VU0gdKgWhC73",
        "colab_type": "code",
        "outputId": "74925ebb-85f1-42fe-b3a3-63487f6cf7a1",
        "colab": {
          "base_uri": "https://localhost:8080/",
          "height": 52
        }
      },
      "source": [
        "#south_mumbai_venues.loc[south_mumbai_venues['Neighborhood'] == 'Malad']\n",
        "south_mumbai_venues.loc[south_mumbai_venues['Neighborhood'] == 'Malad', 'Neighborhood Latitude'] = Andheri_latitude\n",
        "south_mumbai_venues.loc[south_mumbai_venues['Neighborhood'] == 'Malad', 'Neighborhood Longitude'] = Andheri_longitude\n",
        "south_mumbai_venues.loc[south_mumbai_venues['Neighborhood'] == 'Malad', 'Neighborhood'] = 'Andheri'\n",
        "#south_mumbai_venues[south_mumbai_venues.Neighborhood == 'Malad']\n",
        "south_mumbai_venues.iloc[773:780]\n",
        "\n",
        "print(\"bef:\",south_mumbai_data.shape)\n",
        "south_mumbai_data = south_mumbai_data[south_mumbai_data.Neighborhood != 'Malad']\n",
        "print(\"aft:\",south_mumbai_data.shape)"
      ],
      "execution_count": 0,
      "outputs": [
        {
          "output_type": "stream",
          "text": [
            "bef: (32, 5)\n",
            "aft: (31, 5)\n"
          ],
          "name": "stdout"
        }
      ]
    },
    {
      "cell_type": "markdown",
      "metadata": {
        "id": "T_qi71iOjrKg",
        "colab_type": "text"
      },
      "source": [
        "### **Merge Mahim to Bandra**"
      ]
    },
    {
      "cell_type": "code",
      "metadata": {
        "id": "JXUoIQVUjr9x",
        "colab_type": "code",
        "outputId": "db0d8842-8c90-4b2d-81f3-97d96438d61a",
        "colab": {
          "base_uri": "https://localhost:8080/",
          "height": 130
        }
      },
      "source": [
        "# Get coordinates of Bandra West\n",
        "\n",
        "Bandra = south_mumbai_venues\n",
        "Bandra = Bandra[Bandra.Neighborhood == 'Bandra West' ].head(1)\n",
        "Bandra_latitude = Bandra['Neighborhood Latitude'] \n",
        "Bandra_latitude = Bandra_latitude.iloc[0]\n",
        "Bandra_longitude = Bandra['Neighborhood Longitude'] \n",
        "Bandra_longitude = Bandra_longitude.iloc[0]\n",
        "print(\"Bandra latitude={} and longitude={}\".format(Bandra_latitude,Bandra_longitude))\n",
        "Bandra[Bandra.Neighborhood == 'Bandra West' ].head(1)"
      ],
      "execution_count": 0,
      "outputs": [
        {
          "output_type": "stream",
          "text": [
            "Bandra latitude=19.0583358 and longitude=72.8302669\n"
          ],
          "name": "stdout"
        },
        {
          "output_type": "execute_result",
          "data": {
            "text/html": [
              "<div>\n",
              "<style scoped>\n",
              "    .dataframe tbody tr th:only-of-type {\n",
              "        vertical-align: middle;\n",
              "    }\n",
              "\n",
              "    .dataframe tbody tr th {\n",
              "        vertical-align: top;\n",
              "    }\n",
              "\n",
              "    .dataframe thead th {\n",
              "        text-align: right;\n",
              "    }\n",
              "</style>\n",
              "<table border=\"1\" class=\"dataframe\">\n",
              "  <thead>\n",
              "    <tr style=\"text-align: right;\">\n",
              "      <th></th>\n",
              "      <th>index</th>\n",
              "      <th>Neighborhood</th>\n",
              "      <th>Neighborhood Latitude</th>\n",
              "      <th>Neighborhood Longitude</th>\n",
              "      <th>Venue</th>\n",
              "      <th>Venue Latitude</th>\n",
              "      <th>Venue Longitude</th>\n",
              "      <th>Venue Category</th>\n",
              "    </tr>\n",
              "  </thead>\n",
              "  <tbody>\n",
              "    <tr>\n",
              "      <th>442</th>\n",
              "      <td>627</td>\n",
              "      <td>Bandra West</td>\n",
              "      <td>19.058336</td>\n",
              "      <td>72.830267</td>\n",
              "      <td>Almeida Park</td>\n",
              "      <td>19.057656</td>\n",
              "      <td>72.831541</td>\n",
              "      <td>Park/Garden</td>\n",
              "    </tr>\n",
              "  </tbody>\n",
              "</table>\n",
              "</div>"
            ],
            "text/plain": [
              "     index Neighborhood  ...  Venue Longitude  Venue Category\n",
              "442    627  Bandra West  ...        72.831541     Park/Garden\n",
              "\n",
              "[1 rows x 8 columns]"
            ]
          },
          "metadata": {
            "tags": []
          },
          "execution_count": 79
        }
      ]
    },
    {
      "cell_type": "code",
      "metadata": {
        "id": "Au_U6KL6j_3y",
        "colab_type": "code",
        "outputId": "ead79233-51e7-4267-f7cf-d77d2e89a0c7",
        "colab": {
          "base_uri": "https://localhost:8080/",
          "height": 363
        }
      },
      "source": [
        "#south_mumbai_venues.loc[south_mumbai_venues['Neighborhood'] == 'Mahim']\n",
        "south_mumbai_venues.iloc[610:618]"
      ],
      "execution_count": 0,
      "outputs": [
        {
          "output_type": "execute_result",
          "data": {
            "text/html": [
              "<div>\n",
              "<style scoped>\n",
              "    .dataframe tbody tr th:only-of-type {\n",
              "        vertical-align: middle;\n",
              "    }\n",
              "\n",
              "    .dataframe tbody tr th {\n",
              "        vertical-align: top;\n",
              "    }\n",
              "\n",
              "    .dataframe thead th {\n",
              "        text-align: right;\n",
              "    }\n",
              "</style>\n",
              "<table border=\"1\" class=\"dataframe\">\n",
              "  <thead>\n",
              "    <tr style=\"text-align: right;\">\n",
              "      <th></th>\n",
              "      <th>index</th>\n",
              "      <th>Neighborhood</th>\n",
              "      <th>Neighborhood Latitude</th>\n",
              "      <th>Neighborhood Longitude</th>\n",
              "      <th>Venue</th>\n",
              "      <th>Venue Latitude</th>\n",
              "      <th>Venue Longitude</th>\n",
              "      <th>Venue Category</th>\n",
              "    </tr>\n",
              "  </thead>\n",
              "  <tbody>\n",
              "    <tr>\n",
              "      <th>611</th>\n",
              "      <td>822</td>\n",
              "      <td>Mahim</td>\n",
              "      <td>19.042314</td>\n",
              "      <td>72.839834</td>\n",
              "      <td>Baba Falooda</td>\n",
              "      <td>19.039995</td>\n",
              "      <td>72.841259</td>\n",
              "      <td>Dessert Shop</td>\n",
              "    </tr>\n",
              "    <tr>\n",
              "      <th>612</th>\n",
              "      <td>823</td>\n",
              "      <td>Mahim</td>\n",
              "      <td>19.042314</td>\n",
              "      <td>72.839834</td>\n",
              "      <td>Cafe Irani Chai</td>\n",
              "      <td>19.039096</td>\n",
              "      <td>72.842720</td>\n",
              "      <td>Breakfast Spot</td>\n",
              "    </tr>\n",
              "    <tr>\n",
              "      <th>613</th>\n",
              "      <td>827</td>\n",
              "      <td>Mahim</td>\n",
              "      <td>19.042314</td>\n",
              "      <td>72.839834</td>\n",
              "      <td>Domino's Pizza</td>\n",
              "      <td>19.040252</td>\n",
              "      <td>72.841394</td>\n",
              "      <td>Pizza Place</td>\n",
              "    </tr>\n",
              "    <tr>\n",
              "      <th>614</th>\n",
              "      <td>828</td>\n",
              "      <td>Mahim</td>\n",
              "      <td>19.042314</td>\n",
              "      <td>72.839834</td>\n",
              "      <td>Tazza Fast Food</td>\n",
              "      <td>19.039052</td>\n",
              "      <td>72.841866</td>\n",
              "      <td>Fast Food Restaurant</td>\n",
              "    </tr>\n",
              "    <tr>\n",
              "      <th>615</th>\n",
              "      <td>829</td>\n",
              "      <td>Mahim</td>\n",
              "      <td>19.042314</td>\n",
              "      <td>72.839834</td>\n",
              "      <td>Quarter House</td>\n",
              "      <td>19.037115</td>\n",
              "      <td>72.841462</td>\n",
              "      <td>Bar/Pub</td>\n",
              "    </tr>\n",
              "    <tr>\n",
              "      <th>616</th>\n",
              "      <td>830</td>\n",
              "      <td>Mahim</td>\n",
              "      <td>19.042314</td>\n",
              "      <td>72.839834</td>\n",
              "      <td>Xavier Institute of Engineering</td>\n",
              "      <td>19.045061</td>\n",
              "      <td>72.841716</td>\n",
              "      <td>Arcade</td>\n",
              "    </tr>\n",
              "    <tr>\n",
              "      <th>617</th>\n",
              "      <td>831</td>\n",
              "      <td>Mahim</td>\n",
              "      <td>19.042314</td>\n",
              "      <td>72.839834</td>\n",
              "      <td>Rediff.com</td>\n",
              "      <td>19.042069</td>\n",
              "      <td>72.842838</td>\n",
              "      <td>Office</td>\n",
              "    </tr>\n",
              "    <tr>\n",
              "      <th>618</th>\n",
              "      <td>832</td>\n",
              "      <td>Mahim</td>\n",
              "      <td>19.042314</td>\n",
              "      <td>72.839834</td>\n",
              "      <td>Mahim Railway Station</td>\n",
              "      <td>19.043431</td>\n",
              "      <td>72.844425</td>\n",
              "      <td>Train/Metro/Bus</td>\n",
              "    </tr>\n",
              "  </tbody>\n",
              "</table>\n",
              "</div>"
            ],
            "text/plain": [
              "     index Neighborhood  ...  Venue Longitude        Venue Category\n",
              "611    822        Mahim  ...        72.841259          Dessert Shop\n",
              "612    823        Mahim  ...        72.842720        Breakfast Spot\n",
              "613    827        Mahim  ...        72.841394           Pizza Place\n",
              "614    828        Mahim  ...        72.841866  Fast Food Restaurant\n",
              "615    829        Mahim  ...        72.841462               Bar/Pub\n",
              "616    830        Mahim  ...        72.841716                Arcade\n",
              "617    831        Mahim  ...        72.842838                Office\n",
              "618    832        Mahim  ...        72.844425       Train/Metro/Bus\n",
              "\n",
              "[8 rows x 8 columns]"
            ]
          },
          "metadata": {
            "tags": []
          },
          "execution_count": 412
        }
      ]
    },
    {
      "cell_type": "code",
      "metadata": {
        "id": "eT4nLXPzkBY3",
        "colab_type": "code",
        "outputId": "39afa80d-82cf-4abf-b57a-bd38a20b2655",
        "colab": {
          "base_uri": "https://localhost:8080/",
          "height": 52
        }
      },
      "source": [
        "#south_mumbai_venues.loc[south_mumbai_venues['Neighborhood'] == 'Mahim']\n",
        "south_mumbai_venues.loc[south_mumbai_venues['Neighborhood'] == 'Mahim', 'Neighborhood Latitude'] = Bandra_latitude\n",
        "south_mumbai_venues.loc[south_mumbai_venues['Neighborhood'] == 'Mahim', 'Neighborhood Longitude'] = Bandra_longitude\n",
        "south_mumbai_venues.loc[south_mumbai_venues['Neighborhood'] == 'Mahim', 'Neighborhood'] = 'Bandra West'\n",
        "#south_mumbai_venues[south_mumbai_venues.Neighborhood == 'Mahim']\n",
        "south_mumbai_venues.iloc[610:618]\n",
        "\n",
        "print(\"bef:\",south_mumbai_data.shape)\n",
        "south_mumbai_data = south_mumbai_data[south_mumbai_data.Neighborhood != 'Mahim']\n",
        "print(\"aft:\",south_mumbai_data.shape)"
      ],
      "execution_count": 0,
      "outputs": [
        {
          "output_type": "stream",
          "text": [
            "bef: (31, 5)\n",
            "aft: (30, 5)\n"
          ],
          "name": "stdout"
        }
      ]
    },
    {
      "cell_type": "markdown",
      "metadata": {
        "id": "ONYZm74EmAWl",
        "colab_type": "text"
      },
      "source": [
        "### **Merge Malabar Hill to Walkeshwar**"
      ]
    },
    {
      "cell_type": "code",
      "metadata": {
        "id": "qRwsNOkomC20",
        "colab_type": "code",
        "outputId": "1a4711fc-c5dc-493f-f2a5-9ba20d9cb9b1",
        "colab": {
          "base_uri": "https://localhost:8080/",
          "height": 113
        }
      },
      "source": [
        "# Get coordinates of Bandra West\n",
        "\n",
        "Walkeshwar = south_mumbai_venues\n",
        "Walkeshwar = Walkeshwar[Walkeshwar.Neighborhood == 'Walkeshwar' ].head(1)\n",
        "Walkeshwar_latitude = Walkeshwar['Neighborhood Latitude'] \n",
        "Walkeshwar_latitude = Walkeshwar_latitude.iloc[0]\n",
        "Walkeshwar_longitude = Walkeshwar['Neighborhood Longitude'] \n",
        "Walkeshwar_longitude = Walkeshwar_longitude.iloc[0]\n",
        "print(\"Walkeshwar latitude={} and longitude={}\".format(Walkeshwar_latitude,Walkeshwar_longitude))\n",
        "Walkeshwar[Walkeshwar.Neighborhood == 'Walkeshwar' ].head(1)"
      ],
      "execution_count": 0,
      "outputs": [
        {
          "output_type": "stream",
          "text": [
            "Walkeshwar latitude=18.9553434 and longitude=72.8079469\n"
          ],
          "name": "stdout"
        },
        {
          "output_type": "execute_result",
          "data": {
            "text/html": [
              "<div>\n",
              "<style scoped>\n",
              "    .dataframe tbody tr th:only-of-type {\n",
              "        vertical-align: middle;\n",
              "    }\n",
              "\n",
              "    .dataframe tbody tr th {\n",
              "        vertical-align: top;\n",
              "    }\n",
              "\n",
              "    .dataframe thead th {\n",
              "        text-align: right;\n",
              "    }\n",
              "</style>\n",
              "<table border=\"1\" class=\"dataframe\">\n",
              "  <thead>\n",
              "    <tr style=\"text-align: right;\">\n",
              "      <th></th>\n",
              "      <th>index</th>\n",
              "      <th>Neighborhood</th>\n",
              "      <th>Neighborhood Latitude</th>\n",
              "      <th>Neighborhood Longitude</th>\n",
              "      <th>Venue</th>\n",
              "      <th>Venue Latitude</th>\n",
              "      <th>Venue Longitude</th>\n",
              "      <th>Venue Category</th>\n",
              "    </tr>\n",
              "  </thead>\n",
              "  <tbody>\n",
              "    <tr>\n",
              "      <th>262</th>\n",
              "      <td>328</td>\n",
              "      <td>Walkeshwar</td>\n",
              "      <td>18.955343</td>\n",
              "      <td>72.807947</td>\n",
              "      <td>Starbucks</td>\n",
              "      <td>18.956426</td>\n",
              "      <td>72.812065</td>\n",
              "      <td>Coffee Shop</td>\n",
              "    </tr>\n",
              "  </tbody>\n",
              "</table>\n",
              "</div>"
            ],
            "text/plain": [
              "     index Neighborhood  ...  Venue Longitude  Venue Category\n",
              "262    328   Walkeshwar  ...        72.812065     Coffee Shop\n",
              "\n",
              "[1 rows x 8 columns]"
            ]
          },
          "metadata": {
            "tags": []
          },
          "execution_count": 81
        }
      ]
    },
    {
      "cell_type": "code",
      "metadata": {
        "id": "IDPBYXqkmDFA",
        "colab_type": "code",
        "outputId": "a8798f7d-f313-400c-d5d0-d73a559ae1c9",
        "colab": {
          "base_uri": "https://localhost:8080/",
          "height": 477
        }
      },
      "source": [
        "#south_mumbai_venues.loc[south_mumbai_venues['Neighborhood'] == 'Malabar Hill']\n",
        "south_mumbai_venues.iloc[270:280]"
      ],
      "execution_count": 0,
      "outputs": [
        {
          "output_type": "execute_result",
          "data": {
            "text/html": [
              "<div>\n",
              "<style scoped>\n",
              "    .dataframe tbody tr th:only-of-type {\n",
              "        vertical-align: middle;\n",
              "    }\n",
              "\n",
              "    .dataframe tbody tr th {\n",
              "        vertical-align: top;\n",
              "    }\n",
              "\n",
              "    .dataframe thead th {\n",
              "        text-align: right;\n",
              "    }\n",
              "</style>\n",
              "<table border=\"1\" class=\"dataframe\">\n",
              "  <thead>\n",
              "    <tr style=\"text-align: right;\">\n",
              "      <th></th>\n",
              "      <th>index</th>\n",
              "      <th>Neighborhood</th>\n",
              "      <th>Neighborhood Latitude</th>\n",
              "      <th>Neighborhood Longitude</th>\n",
              "      <th>Venue</th>\n",
              "      <th>Venue Latitude</th>\n",
              "      <th>Venue Longitude</th>\n",
              "      <th>Venue Category</th>\n",
              "    </tr>\n",
              "  </thead>\n",
              "  <tbody>\n",
              "    <tr>\n",
              "      <th>270</th>\n",
              "      <td>345</td>\n",
              "      <td>Walkeshwar</td>\n",
              "      <td>18.955343</td>\n",
              "      <td>72.807947</td>\n",
              "      <td>HDFC Bank</td>\n",
              "      <td>18.953883</td>\n",
              "      <td>72.802378</td>\n",
              "      <td>Bank</td>\n",
              "    </tr>\n",
              "    <tr>\n",
              "      <th>271</th>\n",
              "      <td>347</td>\n",
              "      <td>Malabar Hill</td>\n",
              "      <td>18.958162</td>\n",
              "      <td>72.803366</td>\n",
              "      <td>Priyadarshini Park</td>\n",
              "      <td>18.957515</td>\n",
              "      <td>72.799614</td>\n",
              "      <td>Park</td>\n",
              "    </tr>\n",
              "    <tr>\n",
              "      <th>272</th>\n",
              "      <td>348</td>\n",
              "      <td>Malabar Hill</td>\n",
              "      <td>18.958162</td>\n",
              "      <td>72.803366</td>\n",
              "      <td>Santosh Sagar</td>\n",
              "      <td>18.961177</td>\n",
              "      <td>72.801425</td>\n",
              "      <td>Fast Food Restaurant</td>\n",
              "    </tr>\n",
              "    <tr>\n",
              "      <th>273</th>\n",
              "      <td>350</td>\n",
              "      <td>Malabar Hill</td>\n",
              "      <td>18.958162</td>\n",
              "      <td>72.803366</td>\n",
              "      <td>Country Of Origin</td>\n",
              "      <td>18.955266</td>\n",
              "      <td>72.798743</td>\n",
              "      <td>Dessert Shop</td>\n",
              "    </tr>\n",
              "    <tr>\n",
              "      <th>274</th>\n",
              "      <td>352</td>\n",
              "      <td>Malabar Hill</td>\n",
              "      <td>18.958162</td>\n",
              "      <td>72.803366</td>\n",
              "      <td>Naturals Ice Cream</td>\n",
              "      <td>18.962432</td>\n",
              "      <td>72.801471</td>\n",
              "      <td>Dessert Shop</td>\n",
              "    </tr>\n",
              "    <tr>\n",
              "      <th>275</th>\n",
              "      <td>355</td>\n",
              "      <td>Malabar Hill</td>\n",
              "      <td>18.958162</td>\n",
              "      <td>72.803366</td>\n",
              "      <td>210°Veg Gourmet Bakery</td>\n",
              "      <td>18.961828</td>\n",
              "      <td>72.802137</td>\n",
              "      <td>Bakery</td>\n",
              "    </tr>\n",
              "    <tr>\n",
              "      <th>276</th>\n",
              "      <td>357</td>\n",
              "      <td>Malabar Hill</td>\n",
              "      <td>18.958162</td>\n",
              "      <td>72.803366</td>\n",
              "      <td>Tune Up</td>\n",
              "      <td>18.954427</td>\n",
              "      <td>72.803509</td>\n",
              "      <td>Fitness/Gym/Spa</td>\n",
              "    </tr>\n",
              "    <tr>\n",
              "      <th>277</th>\n",
              "      <td>358</td>\n",
              "      <td>Malabar Hill</td>\n",
              "      <td>18.958162</td>\n",
              "      <td>72.803366</td>\n",
              "      <td>Contempory Arts</td>\n",
              "      <td>18.963036</td>\n",
              "      <td>72.803092</td>\n",
              "      <td>Arts &amp; Crafts Store</td>\n",
              "    </tr>\n",
              "    <tr>\n",
              "      <th>278</th>\n",
              "      <td>359</td>\n",
              "      <td>Malabar Hill</td>\n",
              "      <td>18.958162</td>\n",
              "      <td>72.803366</td>\n",
              "      <td>Tart</td>\n",
              "      <td>18.963942</td>\n",
              "      <td>72.803440</td>\n",
              "      <td>Bakery</td>\n",
              "    </tr>\n",
              "    <tr>\n",
              "      <th>279</th>\n",
              "      <td>362</td>\n",
              "      <td>Kalbadevi</td>\n",
              "      <td>18.949258</td>\n",
              "      <td>72.827938</td>\n",
              "      <td>Crawford Market</td>\n",
              "      <td>18.946761</td>\n",
              "      <td>72.831225</td>\n",
              "      <td>Market</td>\n",
              "    </tr>\n",
              "  </tbody>\n",
              "</table>\n",
              "</div>"
            ],
            "text/plain": [
              "     index  Neighborhood  ...  Venue Longitude        Venue Category\n",
              "270    345    Walkeshwar  ...        72.802378                  Bank\n",
              "271    347  Malabar Hill  ...        72.799614                  Park\n",
              "272    348  Malabar Hill  ...        72.801425  Fast Food Restaurant\n",
              "273    350  Malabar Hill  ...        72.798743          Dessert Shop\n",
              "274    352  Malabar Hill  ...        72.801471          Dessert Shop\n",
              "275    355  Malabar Hill  ...        72.802137                Bakery\n",
              "276    357  Malabar Hill  ...        72.803509       Fitness/Gym/Spa\n",
              "277    358  Malabar Hill  ...        72.803092   Arts & Crafts Store\n",
              "278    359  Malabar Hill  ...        72.803440                Bakery\n",
              "279    362     Kalbadevi  ...        72.831225                Market\n",
              "\n",
              "[10 rows x 8 columns]"
            ]
          },
          "metadata": {
            "tags": []
          },
          "execution_count": 415
        }
      ]
    },
    {
      "cell_type": "code",
      "metadata": {
        "id": "TR4_A28FmDTw",
        "colab_type": "code",
        "outputId": "84d84890-6d5d-424f-db87-87007decf723",
        "colab": {
          "base_uri": "https://localhost:8080/",
          "height": 52
        }
      },
      "source": [
        "#south_mumbai_venues.loc[south_mumbai_venues['Neighborhood'] == 'Malabar Hill']\n",
        "south_mumbai_venues.loc[south_mumbai_venues['Neighborhood'] == 'Malabar Hill', 'Neighborhood Latitude'] = Walkeshwar_latitude\n",
        "south_mumbai_venues.loc[south_mumbai_venues['Neighborhood'] == 'Malabar Hill', 'Neighborhood Longitude'] = Walkeshwar_longitude\n",
        "south_mumbai_venues.loc[south_mumbai_venues['Neighborhood'] == 'Malabar Hill', 'Neighborhood'] = 'Walkeshwar'\n",
        "#south_mumbai_venues[south_mumbai_venues.Neighborhood == 'Malabar Hill']\n",
        "south_mumbai_venues.iloc[270:280]\n",
        "\n",
        "print(\"bef:\",south_mumbai_data.shape)\n",
        "south_mumbai_data = south_mumbai_data[south_mumbai_data.Neighborhood != 'Malabar Hill']\n",
        "print(\"aft:\",south_mumbai_data.shape)"
      ],
      "execution_count": 0,
      "outputs": [
        {
          "output_type": "stream",
          "text": [
            "bef: (30, 5)\n",
            "aft: (29, 5)\n"
          ],
          "name": "stdout"
        }
      ]
    },
    {
      "cell_type": "code",
      "metadata": {
        "id": "Dy4f2haMTT8R",
        "colab_type": "code",
        "outputId": "c299dcbd-1a56-47b0-a3b8-41f64ed92716",
        "colab": {
          "base_uri": "https://localhost:8080/",
          "height": 564
        }
      },
      "source": [
        "south_mumbai_venues.loc[south_mumbai_venues['Neighborhood'] == 'Worli' \\\n",
        "                        & south_mumbai_venues[\"Venue Category\"] == 'Scenic Lookout']\n",
        "south_mumbai_venues_worli =  south_mumbai_venues                      "
      ],
      "execution_count": 0,
      "outputs": [
        {
          "output_type": "error",
          "ename": "TypeError",
          "evalue": "ignored",
          "traceback": [
            "\u001b[0;31m---------------------------------------------------------------------------\u001b[0m",
            "\u001b[0;31mTypeError\u001b[0m                                 Traceback (most recent call last)",
            "\u001b[0;32m/usr/local/lib/python3.6/dist-packages/pandas/core/ops/array_ops.py\u001b[0m in \u001b[0;36mna_logical_op\u001b[0;34m(x, y, op)\u001b[0m\n\u001b[1;32m    273\u001b[0m         \u001b[0;31m#  (xint or xbool) and (yint or bool)\u001b[0m\u001b[0;34m\u001b[0m\u001b[0;34m\u001b[0m\u001b[0;34m\u001b[0m\u001b[0m\n\u001b[0;32m--> 274\u001b[0;31m         \u001b[0mresult\u001b[0m \u001b[0;34m=\u001b[0m \u001b[0mop\u001b[0m\u001b[0;34m(\u001b[0m\u001b[0mx\u001b[0m\u001b[0;34m,\u001b[0m \u001b[0my\u001b[0m\u001b[0;34m)\u001b[0m\u001b[0;34m\u001b[0m\u001b[0;34m\u001b[0m\u001b[0m\n\u001b[0m\u001b[1;32m    275\u001b[0m     \u001b[0;32mexcept\u001b[0m \u001b[0mTypeError\u001b[0m\u001b[0;34m:\u001b[0m\u001b[0;34m\u001b[0m\u001b[0;34m\u001b[0m\u001b[0m\n",
            "\u001b[0;32m/usr/local/lib/python3.6/dist-packages/pandas/core/ops/roperator.py\u001b[0m in \u001b[0;36mrand_\u001b[0;34m(left, right)\u001b[0m\n\u001b[1;32m     51\u001b[0m \u001b[0;32mdef\u001b[0m \u001b[0mrand_\u001b[0m\u001b[0;34m(\u001b[0m\u001b[0mleft\u001b[0m\u001b[0;34m,\u001b[0m \u001b[0mright\u001b[0m\u001b[0;34m)\u001b[0m\u001b[0;34m:\u001b[0m\u001b[0;34m\u001b[0m\u001b[0;34m\u001b[0m\u001b[0m\n\u001b[0;32m---> 52\u001b[0;31m     \u001b[0;32mreturn\u001b[0m \u001b[0moperator\u001b[0m\u001b[0;34m.\u001b[0m\u001b[0mand_\u001b[0m\u001b[0;34m(\u001b[0m\u001b[0mright\u001b[0m\u001b[0;34m,\u001b[0m \u001b[0mleft\u001b[0m\u001b[0;34m)\u001b[0m\u001b[0;34m\u001b[0m\u001b[0;34m\u001b[0m\u001b[0m\n\u001b[0m\u001b[1;32m     53\u001b[0m \u001b[0;34m\u001b[0m\u001b[0m\n",
            "\u001b[0;31mTypeError\u001b[0m: unsupported operand type(s) for &: 'str' and 'str'",
            "\nDuring handling of the above exception, another exception occurred:\n",
            "\u001b[0;31mTypeError\u001b[0m                                 Traceback (most recent call last)",
            "\u001b[0;32m/usr/local/lib/python3.6/dist-packages/pandas/core/ops/array_ops.py\u001b[0m in \u001b[0;36mna_logical_op\u001b[0;34m(x, y, op)\u001b[0m\n\u001b[1;32m    287\u001b[0m             \u001b[0;32mtry\u001b[0m\u001b[0;34m:\u001b[0m\u001b[0;34m\u001b[0m\u001b[0;34m\u001b[0m\u001b[0m\n\u001b[0;32m--> 288\u001b[0;31m                 \u001b[0mresult\u001b[0m \u001b[0;34m=\u001b[0m \u001b[0mlibops\u001b[0m\u001b[0;34m.\u001b[0m\u001b[0mscalar_binop\u001b[0m\u001b[0;34m(\u001b[0m\u001b[0mx\u001b[0m\u001b[0;34m,\u001b[0m \u001b[0my\u001b[0m\u001b[0;34m,\u001b[0m \u001b[0mop\u001b[0m\u001b[0;34m)\u001b[0m\u001b[0;34m\u001b[0m\u001b[0;34m\u001b[0m\u001b[0m\n\u001b[0m\u001b[1;32m    289\u001b[0m             except (\n",
            "\u001b[0;32mpandas/_libs/ops.pyx\u001b[0m in \u001b[0;36mpandas._libs.ops.scalar_binop\u001b[0;34m()\u001b[0m\n",
            "\u001b[0;32m/usr/local/lib/python3.6/dist-packages/pandas/core/ops/roperator.py\u001b[0m in \u001b[0;36mrand_\u001b[0;34m(left, right)\u001b[0m\n\u001b[1;32m     51\u001b[0m \u001b[0;32mdef\u001b[0m \u001b[0mrand_\u001b[0m\u001b[0;34m(\u001b[0m\u001b[0mleft\u001b[0m\u001b[0;34m,\u001b[0m \u001b[0mright\u001b[0m\u001b[0;34m)\u001b[0m\u001b[0;34m:\u001b[0m\u001b[0;34m\u001b[0m\u001b[0;34m\u001b[0m\u001b[0m\n\u001b[0;32m---> 52\u001b[0;31m     \u001b[0;32mreturn\u001b[0m \u001b[0moperator\u001b[0m\u001b[0;34m.\u001b[0m\u001b[0mand_\u001b[0m\u001b[0;34m(\u001b[0m\u001b[0mright\u001b[0m\u001b[0;34m,\u001b[0m \u001b[0mleft\u001b[0m\u001b[0;34m)\u001b[0m\u001b[0;34m\u001b[0m\u001b[0;34m\u001b[0m\u001b[0m\n\u001b[0m\u001b[1;32m     53\u001b[0m \u001b[0;34m\u001b[0m\u001b[0m\n",
            "\u001b[0;31mTypeError\u001b[0m: unsupported operand type(s) for &: 'bool' and 'str'",
            "\nDuring handling of the above exception, another exception occurred:\n",
            "\u001b[0;31mTypeError\u001b[0m                                 Traceback (most recent call last)",
            "\u001b[0;32m<ipython-input-84-f193125a8e64>\u001b[0m in \u001b[0;36m<module>\u001b[0;34m()\u001b[0m\n\u001b[0;32m----> 1\u001b[0;31m \u001b[0msouth_mumbai_venues\u001b[0m\u001b[0;34m.\u001b[0m\u001b[0mloc\u001b[0m\u001b[0;34m[\u001b[0m\u001b[0msouth_mumbai_venues\u001b[0m\u001b[0;34m[\u001b[0m\u001b[0;34m'Neighborhood'\u001b[0m\u001b[0;34m]\u001b[0m \u001b[0;34m==\u001b[0m \u001b[0;34m'Worli'\u001b[0m                         \u001b[0;34m&\u001b[0m \u001b[0msouth_mumbai_venues\u001b[0m\u001b[0;34m[\u001b[0m\u001b[0;34m\"Venue Category\"\u001b[0m\u001b[0;34m]\u001b[0m \u001b[0;34m==\u001b[0m \u001b[0;34m'Scenic Lookout'\u001b[0m\u001b[0;34m]\u001b[0m\u001b[0;34m\u001b[0m\u001b[0;34m\u001b[0m\u001b[0m\n\u001b[0m",
            "\u001b[0;32m/usr/local/lib/python3.6/dist-packages/pandas/core/ops/common.py\u001b[0m in \u001b[0;36mnew_method\u001b[0;34m(self, other)\u001b[0m\n\u001b[1;32m     62\u001b[0m         \u001b[0mother\u001b[0m \u001b[0;34m=\u001b[0m \u001b[0mitem_from_zerodim\u001b[0m\u001b[0;34m(\u001b[0m\u001b[0mother\u001b[0m\u001b[0;34m)\u001b[0m\u001b[0;34m\u001b[0m\u001b[0;34m\u001b[0m\u001b[0m\n\u001b[1;32m     63\u001b[0m \u001b[0;34m\u001b[0m\u001b[0m\n\u001b[0;32m---> 64\u001b[0;31m         \u001b[0;32mreturn\u001b[0m \u001b[0mmethod\u001b[0m\u001b[0;34m(\u001b[0m\u001b[0mself\u001b[0m\u001b[0;34m,\u001b[0m \u001b[0mother\u001b[0m\u001b[0;34m)\u001b[0m\u001b[0;34m\u001b[0m\u001b[0;34m\u001b[0m\u001b[0m\n\u001b[0m\u001b[1;32m     65\u001b[0m \u001b[0;34m\u001b[0m\u001b[0m\n\u001b[1;32m     66\u001b[0m     \u001b[0;32mreturn\u001b[0m \u001b[0mnew_method\u001b[0m\u001b[0;34m\u001b[0m\u001b[0;34m\u001b[0m\u001b[0m\n",
            "\u001b[0;32m/usr/local/lib/python3.6/dist-packages/pandas/core/ops/__init__.py\u001b[0m in \u001b[0;36mwrapper\u001b[0;34m(self, other)\u001b[0m\n\u001b[1;32m    550\u001b[0m         \u001b[0mrvalues\u001b[0m \u001b[0;34m=\u001b[0m \u001b[0mextract_array\u001b[0m\u001b[0;34m(\u001b[0m\u001b[0mother\u001b[0m\u001b[0;34m,\u001b[0m \u001b[0mextract_numpy\u001b[0m\u001b[0;34m=\u001b[0m\u001b[0;32mTrue\u001b[0m\u001b[0;34m)\u001b[0m\u001b[0;34m\u001b[0m\u001b[0;34m\u001b[0m\u001b[0m\n\u001b[1;32m    551\u001b[0m \u001b[0;34m\u001b[0m\u001b[0m\n\u001b[0;32m--> 552\u001b[0;31m         \u001b[0mres_values\u001b[0m \u001b[0;34m=\u001b[0m \u001b[0mlogical_op\u001b[0m\u001b[0;34m(\u001b[0m\u001b[0mlvalues\u001b[0m\u001b[0;34m,\u001b[0m \u001b[0mrvalues\u001b[0m\u001b[0;34m,\u001b[0m \u001b[0mop\u001b[0m\u001b[0;34m)\u001b[0m\u001b[0;34m\u001b[0m\u001b[0;34m\u001b[0m\u001b[0m\n\u001b[0m\u001b[1;32m    553\u001b[0m         \u001b[0;32mreturn\u001b[0m \u001b[0m_construct_result\u001b[0m\u001b[0;34m(\u001b[0m\u001b[0mself\u001b[0m\u001b[0;34m,\u001b[0m \u001b[0mres_values\u001b[0m\u001b[0;34m,\u001b[0m \u001b[0mindex\u001b[0m\u001b[0;34m=\u001b[0m\u001b[0mself\u001b[0m\u001b[0;34m.\u001b[0m\u001b[0mindex\u001b[0m\u001b[0;34m,\u001b[0m \u001b[0mname\u001b[0m\u001b[0;34m=\u001b[0m\u001b[0mres_name\u001b[0m\u001b[0;34m)\u001b[0m\u001b[0;34m\u001b[0m\u001b[0;34m\u001b[0m\u001b[0m\n\u001b[1;32m    554\u001b[0m \u001b[0;34m\u001b[0m\u001b[0m\n",
            "\u001b[0;32m/usr/local/lib/python3.6/dist-packages/pandas/core/ops/array_ops.py\u001b[0m in \u001b[0;36mlogical_op\u001b[0;34m(left, right, op)\u001b[0m\n\u001b[1;32m    364\u001b[0m         \u001b[0mfiller\u001b[0m \u001b[0;34m=\u001b[0m \u001b[0mfill_int\u001b[0m \u001b[0;32mif\u001b[0m \u001b[0mis_self_int_dtype\u001b[0m \u001b[0;32mand\u001b[0m \u001b[0mis_other_int_dtype\u001b[0m \u001b[0;32melse\u001b[0m \u001b[0mfill_bool\u001b[0m\u001b[0;34m\u001b[0m\u001b[0;34m\u001b[0m\u001b[0m\n\u001b[1;32m    365\u001b[0m \u001b[0;34m\u001b[0m\u001b[0m\n\u001b[0;32m--> 366\u001b[0;31m         \u001b[0mres_values\u001b[0m \u001b[0;34m=\u001b[0m \u001b[0mna_logical_op\u001b[0m\u001b[0;34m(\u001b[0m\u001b[0mlvalues\u001b[0m\u001b[0;34m,\u001b[0m \u001b[0mrvalues\u001b[0m\u001b[0;34m,\u001b[0m \u001b[0mop\u001b[0m\u001b[0;34m)\u001b[0m\u001b[0;34m\u001b[0m\u001b[0;34m\u001b[0m\u001b[0m\n\u001b[0m\u001b[1;32m    367\u001b[0m         \u001b[0mres_values\u001b[0m \u001b[0;34m=\u001b[0m \u001b[0mfiller\u001b[0m\u001b[0;34m(\u001b[0m\u001b[0mres_values\u001b[0m\u001b[0;34m)\u001b[0m  \u001b[0;31m# type: ignore\u001b[0m\u001b[0;34m\u001b[0m\u001b[0;34m\u001b[0m\u001b[0m\n\u001b[1;32m    368\u001b[0m \u001b[0;34m\u001b[0m\u001b[0m\n",
            "\u001b[0;32m/usr/local/lib/python3.6/dist-packages/pandas/core/ops/array_ops.py\u001b[0m in \u001b[0;36mna_logical_op\u001b[0;34m(x, y, op)\u001b[0m\n\u001b[1;32m    296\u001b[0m                 \u001b[0mtyp\u001b[0m \u001b[0;34m=\u001b[0m \u001b[0mtype\u001b[0m\u001b[0;34m(\u001b[0m\u001b[0my\u001b[0m\u001b[0;34m)\u001b[0m\u001b[0;34m.\u001b[0m\u001b[0m__name__\u001b[0m\u001b[0;34m\u001b[0m\u001b[0;34m\u001b[0m\u001b[0m\n\u001b[1;32m    297\u001b[0m                 raise TypeError(\n\u001b[0;32m--> 298\u001b[0;31m                     \u001b[0;34mf\"Cannot perform '{op.__name__}' with a dtyped [{x.dtype}] array \"\u001b[0m\u001b[0;34m\u001b[0m\u001b[0;34m\u001b[0m\u001b[0m\n\u001b[0m\u001b[1;32m    299\u001b[0m                     \u001b[0;34mf\"and scalar of type [{typ}]\"\u001b[0m\u001b[0;34m\u001b[0m\u001b[0;34m\u001b[0m\u001b[0m\n\u001b[1;32m    300\u001b[0m                 )\n",
            "\u001b[0;31mTypeError\u001b[0m: Cannot perform 'rand_' with a dtyped [object] array and scalar of type [bool]"
          ]
        }
      ]
    },
    {
      "cell_type": "markdown",
      "metadata": {
        "id": "emOVCxBCuEp-",
        "colab_type": "text"
      },
      "source": [
        "#### **Remove some redundant data**"
      ]
    },
    {
      "cell_type": "code",
      "metadata": {
        "id": "aHHS5G1MuN4e",
        "colab_type": "code",
        "outputId": "b8a4290f-94c3-41ad-edc7-284e4441bf15",
        "colab": {
          "base_uri": "https://localhost:8080/",
          "height": 490
        }
      },
      "source": [
        "south_mumbai_venues.loc[south_mumbai_venues['Neighborhood'] == 'Worli']\n",
        "\n",
        "test_df = south_mumbai_venues\n",
        "venue_list = ['Worli Drive','Century Bazaar, Worli','Sea Corner']\n",
        "print(\"bef:\",test_df.shape)\n",
        "test_df = test_df[test_df['Venue'].isin(venue_list) == False]\n",
        "print(\"aft:\",test_df.shape)\n",
        "south_mumbai_venues = test_df\n",
        "south_mumbai_venues.loc[south_mumbai_venues['Neighborhood'] == 'Worli']\n",
        "\n"
      ],
      "execution_count": 0,
      "outputs": [
        {
          "output_type": "stream",
          "text": [
            "bef: (850, 8)\n",
            "aft: (847, 8)\n"
          ],
          "name": "stdout"
        },
        {
          "output_type": "execute_result",
          "data": {
            "text/html": [
              "<div>\n",
              "<style scoped>\n",
              "    .dataframe tbody tr th:only-of-type {\n",
              "        vertical-align: middle;\n",
              "    }\n",
              "\n",
              "    .dataframe tbody tr th {\n",
              "        vertical-align: top;\n",
              "    }\n",
              "\n",
              "    .dataframe thead th {\n",
              "        text-align: right;\n",
              "    }\n",
              "</style>\n",
              "<table border=\"1\" class=\"dataframe\">\n",
              "  <thead>\n",
              "    <tr style=\"text-align: right;\">\n",
              "      <th></th>\n",
              "      <th>index</th>\n",
              "      <th>Neighborhood</th>\n",
              "      <th>Neighborhood Latitude</th>\n",
              "      <th>Neighborhood Longitude</th>\n",
              "      <th>Venue</th>\n",
              "      <th>Venue Latitude</th>\n",
              "      <th>Venue Longitude</th>\n",
              "      <th>Venue Category</th>\n",
              "    </tr>\n",
              "  </thead>\n",
              "  <tbody>\n",
              "    <tr>\n",
              "      <th>382</th>\n",
              "      <td>560</td>\n",
              "      <td>Worli</td>\n",
              "      <td>19.011696</td>\n",
              "      <td>72.81807</td>\n",
              "      <td>Worli Sea Face</td>\n",
              "      <td>19.009216</td>\n",
              "      <td>72.815022</td>\n",
              "      <td>Scenic Lookout</td>\n",
              "    </tr>\n",
              "    <tr>\n",
              "      <th>383</th>\n",
              "      <td>561</td>\n",
              "      <td>Worli</td>\n",
              "      <td>19.011696</td>\n",
              "      <td>72.81807</td>\n",
              "      <td>Slink &amp; Bardot</td>\n",
              "      <td>19.017170</td>\n",
              "      <td>72.817532</td>\n",
              "      <td>French Restaurant</td>\n",
              "    </tr>\n",
              "    <tr>\n",
              "      <th>384</th>\n",
              "      <td>562</td>\n",
              "      <td>Worli</td>\n",
              "      <td>19.011696</td>\n",
              "      <td>72.81807</td>\n",
              "      <td>Starbucks Coffee: A Tata Alliance</td>\n",
              "      <td>19.012851</td>\n",
              "      <td>72.823886</td>\n",
              "      <td>Coffee Shop</td>\n",
              "    </tr>\n",
              "    <tr>\n",
              "      <th>386</th>\n",
              "      <td>564</td>\n",
              "      <td>Worli</td>\n",
              "      <td>19.011696</td>\n",
              "      <td>72.81807</td>\n",
              "      <td>Cafe Nemo</td>\n",
              "      <td>19.017172</td>\n",
              "      <td>72.817548</td>\n",
              "      <td>Café</td>\n",
              "    </tr>\n",
              "    <tr>\n",
              "      <th>387</th>\n",
              "      <td>565</td>\n",
              "      <td>Worli</td>\n",
              "      <td>19.011696</td>\n",
              "      <td>72.81807</td>\n",
              "      <td>Cool Chef Café</td>\n",
              "      <td>19.017002</td>\n",
              "      <td>72.817544</td>\n",
              "      <td>Café</td>\n",
              "    </tr>\n",
              "    <tr>\n",
              "      <th>388</th>\n",
              "      <td>566</td>\n",
              "      <td>Worli</td>\n",
              "      <td>19.011696</td>\n",
              "      <td>72.81807</td>\n",
              "      <td>Hiltop Hotel Worli</td>\n",
              "      <td>19.011301</td>\n",
              "      <td>72.817797</td>\n",
              "      <td>Hotel</td>\n",
              "    </tr>\n",
              "    <tr>\n",
              "      <th>389</th>\n",
              "      <td>567</td>\n",
              "      <td>Worli</td>\n",
              "      <td>19.011696</td>\n",
              "      <td>72.81807</td>\n",
              "      <td>Google India Ltd</td>\n",
              "      <td>19.011501</td>\n",
              "      <td>72.820469</td>\n",
              "      <td>Fitness/Gym/Spa</td>\n",
              "    </tr>\n",
              "    <tr>\n",
              "      <th>391</th>\n",
              "      <td>570</td>\n",
              "      <td>Worli</td>\n",
              "      <td>19.011696</td>\n",
              "      <td>72.81807</td>\n",
              "      <td>SaffronArt</td>\n",
              "      <td>19.005868</td>\n",
              "      <td>72.817704</td>\n",
              "      <td>Art Gallery</td>\n",
              "    </tr>\n",
              "    <tr>\n",
              "      <th>392</th>\n",
              "      <td>571</td>\n",
              "      <td>Worli</td>\n",
              "      <td>19.011696</td>\n",
              "      <td>72.81807</td>\n",
              "      <td>Worli Sports Club</td>\n",
              "      <td>19.015098</td>\n",
              "      <td>72.821836</td>\n",
              "      <td>Sports</td>\n",
              "    </tr>\n",
              "    <tr>\n",
              "      <th>394</th>\n",
              "      <td>573</td>\n",
              "      <td>Worli</td>\n",
              "      <td>19.011696</td>\n",
              "      <td>72.81807</td>\n",
              "      <td>Worli Sea Face Kebab rolls</td>\n",
              "      <td>19.007430</td>\n",
              "      <td>72.814346</td>\n",
              "      <td>Arcade</td>\n",
              "    </tr>\n",
              "    <tr>\n",
              "      <th>395</th>\n",
              "      <td>574</td>\n",
              "      <td>Worli</td>\n",
              "      <td>19.011696</td>\n",
              "      <td>72.81807</td>\n",
              "      <td>Pool Deck</td>\n",
              "      <td>19.005867</td>\n",
              "      <td>72.817742</td>\n",
              "      <td>Café</td>\n",
              "    </tr>\n",
              "  </tbody>\n",
              "</table>\n",
              "</div>"
            ],
            "text/plain": [
              "     index Neighborhood  ...  Venue Longitude     Venue Category\n",
              "382    560        Worli  ...        72.815022     Scenic Lookout\n",
              "383    561        Worli  ...        72.817532  French Restaurant\n",
              "384    562        Worli  ...        72.823886        Coffee Shop\n",
              "386    564        Worli  ...        72.817548               Café\n",
              "387    565        Worli  ...        72.817544               Café\n",
              "388    566        Worli  ...        72.817797              Hotel\n",
              "389    567        Worli  ...        72.820469    Fitness/Gym/Spa\n",
              "391    570        Worli  ...        72.817704        Art Gallery\n",
              "392    571        Worli  ...        72.821836             Sports\n",
              "394    573        Worli  ...        72.814346             Arcade\n",
              "395    574        Worli  ...        72.817742               Café\n",
              "\n",
              "[11 rows x 8 columns]"
            ]
          },
          "metadata": {
            "tags": []
          },
          "execution_count": 188
        }
      ]
    },
    {
      "cell_type": "code",
      "metadata": {
        "id": "tOADRfcH4L8T",
        "colab_type": "code",
        "outputId": "6847f3bc-f832-4d8f-f83d-b02e65ea3794",
        "colab": {
          "base_uri": "https://localhost:8080/",
          "height": 563
        }
      },
      "source": [
        "#df1.loc[df1['stream'] == 2, 'feat'] = 10\n",
        "\n",
        "test_df = south_mumbai_venues\n",
        "\n",
        "test_df.loc[test_df['Venue'] == 'Boat ride, gateway of india', 'Venue Category'] = 'Boat ride'\n",
        "\n",
        "test_df.iloc[70:72]\n",
        "#south_mumbai_venues = test_df\n",
        "\n",
        "test_df = south_mumbai_venues\n",
        "venue_cat_list = ['Harbor / Marina']\n",
        "print(\"bef:\",test_df.shape)\n",
        "test_df = test_df[test_df['Venue Category'].isin(venue_cat_list) == False]\n",
        "print(\"aft:\",test_df.shape)\n",
        "\n",
        "south_mumbai_venues = test_df\n",
        "south_mumbai_venues.loc[south_mumbai_venues['Neighborhood'] == 'Masjid Bandar']\n",
        "\n"
      ],
      "execution_count": 0,
      "outputs": [
        {
          "output_type": "stream",
          "text": [
            "bef: (847, 8)\n",
            "aft: (843, 8)\n"
          ],
          "name": "stdout"
        },
        {
          "output_type": "execute_result",
          "data": {
            "text/html": [
              "<div>\n",
              "<style scoped>\n",
              "    .dataframe tbody tr th:only-of-type {\n",
              "        vertical-align: middle;\n",
              "    }\n",
              "\n",
              "    .dataframe tbody tr th {\n",
              "        vertical-align: top;\n",
              "    }\n",
              "\n",
              "    .dataframe thead th {\n",
              "        text-align: right;\n",
              "    }\n",
              "</style>\n",
              "<table border=\"1\" class=\"dataframe\">\n",
              "  <thead>\n",
              "    <tr style=\"text-align: right;\">\n",
              "      <th></th>\n",
              "      <th>index</th>\n",
              "      <th>Neighborhood</th>\n",
              "      <th>Neighborhood Latitude</th>\n",
              "      <th>Neighborhood Longitude</th>\n",
              "      <th>Venue</th>\n",
              "      <th>Venue Latitude</th>\n",
              "      <th>Venue Longitude</th>\n",
              "      <th>Venue Category</th>\n",
              "    </tr>\n",
              "  </thead>\n",
              "  <tbody>\n",
              "    <tr>\n",
              "      <th>299</th>\n",
              "      <td>404</td>\n",
              "      <td>Masjid Bandar</td>\n",
              "      <td>18.953599</td>\n",
              "      <td>72.838126</td>\n",
              "      <td>Patel Restaurant</td>\n",
              "      <td>18.949798</td>\n",
              "      <td>72.834655</td>\n",
              "      <td>Restaurant</td>\n",
              "    </tr>\n",
              "    <tr>\n",
              "      <th>300</th>\n",
              "      <td>406</td>\n",
              "      <td>Masjid Bandar</td>\n",
              "      <td>18.953599</td>\n",
              "      <td>72.838126</td>\n",
              "      <td>Chinese-n-Grill</td>\n",
              "      <td>18.954864</td>\n",
              "      <td>72.833804</td>\n",
              "      <td>Chinese Restaurant</td>\n",
              "    </tr>\n",
              "    <tr>\n",
              "      <th>301</th>\n",
              "      <td>407</td>\n",
              "      <td>Masjid Bandar</td>\n",
              "      <td>18.953599</td>\n",
              "      <td>72.838126</td>\n",
              "      <td>Elphinestone Hotel</td>\n",
              "      <td>18.948737</td>\n",
              "      <td>72.840571</td>\n",
              "      <td>Hotel</td>\n",
              "    </tr>\n",
              "    <tr>\n",
              "      <th>302</th>\n",
              "      <td>410</td>\n",
              "      <td>Masjid Bandar</td>\n",
              "      <td>18.953599</td>\n",
              "      <td>72.838126</td>\n",
              "      <td>Masjid Bunder Market</td>\n",
              "      <td>18.953300</td>\n",
              "      <td>72.837081</td>\n",
              "      <td>Convenience Store</td>\n",
              "    </tr>\n",
              "    <tr>\n",
              "      <th>303</th>\n",
              "      <td>411</td>\n",
              "      <td>Masjid Bandar</td>\n",
              "      <td>18.953599</td>\n",
              "      <td>72.838126</td>\n",
              "      <td>Padma Juice Center</td>\n",
              "      <td>18.952395</td>\n",
              "      <td>72.838011</td>\n",
              "      <td>Juice Bar</td>\n",
              "    </tr>\n",
              "    <tr>\n",
              "      <th>304</th>\n",
              "      <td>412</td>\n",
              "      <td>Masjid Bandar</td>\n",
              "      <td>18.953599</td>\n",
              "      <td>72.838126</td>\n",
              "      <td>Yogi Juice Centre</td>\n",
              "      <td>18.953349</td>\n",
              "      <td>72.835523</td>\n",
              "      <td>Juice Bar</td>\n",
              "    </tr>\n",
              "    <tr>\n",
              "      <th>305</th>\n",
              "      <td>413</td>\n",
              "      <td>Masjid Bandar</td>\n",
              "      <td>18.953599</td>\n",
              "      <td>72.838126</td>\n",
              "      <td>Jeetu Sandwich</td>\n",
              "      <td>18.956031</td>\n",
              "      <td>72.837381</td>\n",
              "      <td>Sandwich Place</td>\n",
              "    </tr>\n",
              "    <tr>\n",
              "      <th>307</th>\n",
              "      <td>416</td>\n",
              "      <td>Masjid Bandar</td>\n",
              "      <td>18.953599</td>\n",
              "      <td>72.838126</td>\n",
              "      <td>Le Mill</td>\n",
              "      <td>18.957379</td>\n",
              "      <td>72.840742</td>\n",
              "      <td>Furniture / Home Store</td>\n",
              "    </tr>\n",
              "    <tr>\n",
              "      <th>308</th>\n",
              "      <td>418</td>\n",
              "      <td>Masjid Bandar</td>\n",
              "      <td>18.953599</td>\n",
              "      <td>72.838126</td>\n",
              "      <td>Green Fields Restaurant</td>\n",
              "      <td>18.957929</td>\n",
              "      <td>72.835892</td>\n",
              "      <td>Smoke Shop</td>\n",
              "    </tr>\n",
              "    <tr>\n",
              "      <th>310</th>\n",
              "      <td>420</td>\n",
              "      <td>Masjid Bandar</td>\n",
              "      <td>18.953599</td>\n",
              "      <td>72.838126</td>\n",
              "      <td>Musafir Khana</td>\n",
              "      <td>18.948624</td>\n",
              "      <td>72.840431</td>\n",
              "      <td>Convenience Store</td>\n",
              "    </tr>\n",
              "  </tbody>\n",
              "</table>\n",
              "</div>"
            ],
            "text/plain": [
              "     index   Neighborhood  ...  Venue Longitude          Venue Category\n",
              "299    404  Masjid Bandar  ...        72.834655              Restaurant\n",
              "300    406  Masjid Bandar  ...        72.833804      Chinese Restaurant\n",
              "301    407  Masjid Bandar  ...        72.840571                   Hotel\n",
              "302    410  Masjid Bandar  ...        72.837081       Convenience Store\n",
              "303    411  Masjid Bandar  ...        72.838011               Juice Bar\n",
              "304    412  Masjid Bandar  ...        72.835523               Juice Bar\n",
              "305    413  Masjid Bandar  ...        72.837381          Sandwich Place\n",
              "307    416  Masjid Bandar  ...        72.840742  Furniture / Home Store\n",
              "308    418  Masjid Bandar  ...        72.835892              Smoke Shop\n",
              "310    420  Masjid Bandar  ...        72.840431       Convenience Store\n",
              "\n",
              "[10 rows x 8 columns]"
            ]
          },
          "metadata": {
            "tags": []
          },
          "execution_count": 189
        }
      ]
    },
    {
      "cell_type": "markdown",
      "metadata": {
        "id": "qlNrXGQqSk4J",
        "colab_type": "text"
      },
      "source": [
        "# **Iteration: 1**"
      ]
    },
    {
      "cell_type": "markdown",
      "metadata": {
        "id": "_D0CctqizzMd",
        "colab_type": "text"
      },
      "source": [
        "### **Remove certain categories and do an iteration.**\n"
      ]
    },
    {
      "cell_type": "code",
      "metadata": {
        "id": "HoGHTZ6d6DcO",
        "colab_type": "code",
        "outputId": "98acaf85-7631-4596-bf1b-d5f04f405af9",
        "colab": {
          "base_uri": "https://localhost:8080/",
          "height": 35
        }
      },
      "source": [
        "venue_category = ['Bar/Pub','Coffee Shop','Restaurant','Fast Food Restaurant','Train/Metro/Bus','Café']\n",
        "test_df = south_mumbai_venues\n",
        "test_df = test_df[test_df['Venue Category'].isin(venue_category) == False]\n",
        "test_df.shape\n",
        "south_mumbai_venues = test_df\n",
        "south_mumbai_venues.shape"
      ],
      "execution_count": 0,
      "outputs": [
        {
          "output_type": "execute_result",
          "data": {
            "text/plain": [
              "(609, 8)"
            ]
          },
          "metadata": {
            "tags": []
          },
          "execution_count": 190
        }
      ]
    },
    {
      "cell_type": "markdown",
      "metadata": {
        "id": "DsAW9dJPSyOM",
        "colab_type": "text"
      },
      "source": [
        "# **Iteration: 2**"
      ]
    },
    {
      "cell_type": "markdown",
      "metadata": {
        "id": "C_1-XA9rS5Rm",
        "colab_type": "text"
      },
      "source": [
        "### **Remove some more categories and do an iteration.**"
      ]
    },
    {
      "cell_type": "code",
      "metadata": {
        "id": "01N0cw4TTMsP",
        "colab_type": "code",
        "colab": {}
      },
      "source": [
        ""
      ],
      "execution_count": 0,
      "outputs": []
    },
    {
      "cell_type": "code",
      "metadata": {
        "id": "xXzyLKNY6GSr",
        "colab_type": "code",
        "colab": {}
      },
      "source": [
        "test_df.to_csv(\"groupby_nbhood.csv\")"
      ],
      "execution_count": 0,
      "outputs": []
    },
    {
      "cell_type": "markdown",
      "metadata": {
        "id": "9L42sEeVIc1w",
        "colab_type": "text"
      },
      "source": [
        "# **Checkpoint:1:**"
      ]
    },
    {
      "cell_type": "markdown",
      "metadata": {
        "id": "UB6sslmQIse0",
        "colab_type": "text"
      },
      "source": [
        "### **Backup : south_mumbai_venues**"
      ]
    },
    {
      "cell_type": "code",
      "metadata": {
        "id": "tGnp9GjXI0z5",
        "colab_type": "code",
        "colab": {}
      },
      "source": [
        "south_mumbai_venues_bkp1 = south_mumbai_venues\n",
        "south_mumbai_venues_bkp2 = south_mumbai_venues\n",
        "south_mumbai_venues_bkp3 = south_mumbai_venues\n",
        "\n"
      ],
      "execution_count": 0,
      "outputs": []
    },
    {
      "cell_type": "code",
      "metadata": {
        "id": "OrRGKK_akUI6",
        "colab_type": "code",
        "colab": {}
      },
      "source": [
        "south_mumbai_venues.to_csv(\"south_mumbai_venues.csv\")"
      ],
      "execution_count": 0,
      "outputs": []
    },
    {
      "cell_type": "markdown",
      "metadata": {
        "id": "q8olm864t0kf",
        "colab_type": "text"
      },
      "source": [
        "### **Data Cleansing ends here.**"
      ]
    },
    {
      "cell_type": "markdown",
      "metadata": {
        "id": "tRwAJkflsZgB",
        "colab_type": "text"
      },
      "source": [
        "## **Analyze Each Neighborhood of Mumbai.**"
      ]
    },
    {
      "cell_type": "code",
      "metadata": {
        "id": "QeCtyWSFbIiL",
        "colab_type": "code",
        "outputId": "9650c3f0-9c5d-45a7-b102-6cc3449cff74",
        "colab": {
          "base_uri": "https://localhost:8080/",
          "height": 35
        }
      },
      "source": [
        "# one hot encoding\n",
        "south_mumbai_onehot = pd.get_dummies(south_mumbai_venues[['Venue Category']], prefix=\"\", prefix_sep=\"\")\n",
        "\n",
        "# add neighborhood column back to dataframe\n",
        "south_mumbai_onehot['Neighborhood'] = south_mumbai_venues['Neighborhood'] \n",
        "\n",
        "# move neighborhood column to the first column\n",
        "fixed_columns = [south_mumbai_onehot.columns[-1]] + list(south_mumbai_onehot.columns[:-1])\n",
        "south_mumbai_onehot = south_mumbai_onehot[fixed_columns]\n",
        "\n",
        "south_mumbai_onehot.shape\n"
      ],
      "execution_count": 0,
      "outputs": [
        {
          "output_type": "execute_result",
          "data": {
            "text/plain": [
              "(609, 125)"
            ]
          },
          "metadata": {
            "tags": []
          },
          "execution_count": 66
        }
      ]
    },
    {
      "cell_type": "code",
      "metadata": {
        "id": "yudeqWF-b3ap",
        "colab_type": "code",
        "outputId": "970f7a23-0836-4710-fc09-47788702647d",
        "colab": {
          "base_uri": "https://localhost:8080/",
          "height": 35
        }
      },
      "source": [
        "#And let's examine the new dataframe size.\n",
        "south_mumbai_onehot.shape  "
      ],
      "execution_count": 0,
      "outputs": [
        {
          "output_type": "execute_result",
          "data": {
            "text/plain": [
              "(616, 131)"
            ]
          },
          "metadata": {
            "tags": []
          },
          "execution_count": 334
        }
      ]
    },
    {
      "cell_type": "markdown",
      "metadata": {
        "id": "OAj4WLORs0bn",
        "colab_type": "text"
      },
      "source": [
        "# **Group rows by neighborhood.**"
      ]
    },
    {
      "cell_type": "markdown",
      "metadata": {
        "id": "N1SN8xmWs7ps",
        "colab_type": "text"
      },
      "source": [
        "### **Take mean of the frequency of occurrence of each category.**"
      ]
    },
    {
      "cell_type": "code",
      "metadata": {
        "id": "Cedj_WOWcNxI",
        "colab_type": "code",
        "outputId": "e4065976-5aaf-4192-ef63-4389e8e768b8",
        "colab": {
          "base_uri": "https://localhost:8080/",
          "height": 163
        }
      },
      "source": [
        "south_mumbai_grouped = south_mumbai_onehot.groupby('Neighborhood').mean().reset_index()\n",
        "south_mumbai_grouped.head(1)"
      ],
      "execution_count": 0,
      "outputs": [
        {
          "output_type": "execute_result",
          "data": {
            "text/html": [
              "<div>\n",
              "<style scoped>\n",
              "    .dataframe tbody tr th:only-of-type {\n",
              "        vertical-align: middle;\n",
              "    }\n",
              "\n",
              "    .dataframe tbody tr th {\n",
              "        vertical-align: top;\n",
              "    }\n",
              "\n",
              "    .dataframe thead th {\n",
              "        text-align: right;\n",
              "    }\n",
              "</style>\n",
              "<table border=\"1\" class=\"dataframe\">\n",
              "  <thead>\n",
              "    <tr style=\"text-align: right;\">\n",
              "      <th></th>\n",
              "      <th>Neighborhood</th>\n",
              "      <th>Accessories Store</th>\n",
              "      <th>African Restaurant</th>\n",
              "      <th>American Restaurant</th>\n",
              "      <th>Aquarium</th>\n",
              "      <th>Arcade</th>\n",
              "      <th>Art Gallery</th>\n",
              "      <th>Arts &amp; Crafts Store</th>\n",
              "      <th>Asian Restaurant</th>\n",
              "      <th>BBQ Joint</th>\n",
              "      <th>Bagel Shop</th>\n",
              "      <th>Bakery</th>\n",
              "      <th>Bank</th>\n",
              "      <th>Beach</th>\n",
              "      <th>Bed &amp; Breakfast</th>\n",
              "      <th>Beer Bar</th>\n",
              "      <th>Beer Garden</th>\n",
              "      <th>Bengali Restaurant</th>\n",
              "      <th>Bistro</th>\n",
              "      <th>Boat or Ferry</th>\n",
              "      <th>Boat ride</th>\n",
              "      <th>Bookstore</th>\n",
              "      <th>Boutique</th>\n",
              "      <th>Breakfast Spot</th>\n",
              "      <th>Brewery</th>\n",
              "      <th>Bridal Shop</th>\n",
              "      <th>Burger Joint</th>\n",
              "      <th>Burrito Place</th>\n",
              "      <th>Chaat Place</th>\n",
              "      <th>Cheese Shop</th>\n",
              "      <th>Chinese Restaurant</th>\n",
              "      <th>Clothing Store</th>\n",
              "      <th>Club House</th>\n",
              "      <th>College Academic Building</th>\n",
              "      <th>College Auditorium</th>\n",
              "      <th>Comedy Club</th>\n",
              "      <th>Comfort Food Restaurant</th>\n",
              "      <th>Convenience Store</th>\n",
              "      <th>Creperie</th>\n",
              "      <th>Cupcake Shop</th>\n",
              "      <th>...</th>\n",
              "      <th>Mexican Restaurant</th>\n",
              "      <th>Middle Eastern Restaurant</th>\n",
              "      <th>Monument / Landmark</th>\n",
              "      <th>Mughlai Restaurant</th>\n",
              "      <th>Music Store</th>\n",
              "      <th>Music Venue</th>\n",
              "      <th>Nightclub</th>\n",
              "      <th>North Indian Restaurant</th>\n",
              "      <th>Office</th>\n",
              "      <th>Other Great Outdoors</th>\n",
              "      <th>Outdoors &amp; Recreation</th>\n",
              "      <th>Park/Garden</th>\n",
              "      <th>Parsi Restaurant</th>\n",
              "      <th>Pizza Place</th>\n",
              "      <th>Platform</th>\n",
              "      <th>Plaza</th>\n",
              "      <th>Pool</th>\n",
              "      <th>Salad Place</th>\n",
              "      <th>Salon / Barbershop</th>\n",
              "      <th>Sandwich Place</th>\n",
              "      <th>Scenic Lookout</th>\n",
              "      <th>Sculpture Garden</th>\n",
              "      <th>Seafood Restaurant</th>\n",
              "      <th>Shoe Store</th>\n",
              "      <th>Shop &amp; Service</th>\n",
              "      <th>Shopping Mall</th>\n",
              "      <th>Smoke Shop</th>\n",
              "      <th>Snack Place</th>\n",
              "      <th>Spanish Restaurant</th>\n",
              "      <th>Sports</th>\n",
              "      <th>Steakhouse</th>\n",
              "      <th>Tea Room</th>\n",
              "      <th>Temple</th>\n",
              "      <th>Tex-Mex Restaurant</th>\n",
              "      <th>Thai Restaurant</th>\n",
              "      <th>Theater\\Multiplex</th>\n",
              "      <th>Tourist Information Center</th>\n",
              "      <th>Vegetarian / Vegan Restaurant</th>\n",
              "      <th>Women's Store</th>\n",
              "      <th>Zoo</th>\n",
              "    </tr>\n",
              "  </thead>\n",
              "  <tbody>\n",
              "    <tr>\n",
              "      <th>0</th>\n",
              "      <td>Andheri</td>\n",
              "      <td>0.0</td>\n",
              "      <td>0.0</td>\n",
              "      <td>0.0</td>\n",
              "      <td>0.0</td>\n",
              "      <td>0.0</td>\n",
              "      <td>0.0</td>\n",
              "      <td>0.0</td>\n",
              "      <td>0.0</td>\n",
              "      <td>0.0</td>\n",
              "      <td>0.0</td>\n",
              "      <td>0.1</td>\n",
              "      <td>0.0</td>\n",
              "      <td>0.0</td>\n",
              "      <td>0.0</td>\n",
              "      <td>0.0</td>\n",
              "      <td>0.0</td>\n",
              "      <td>0.0</td>\n",
              "      <td>0.0</td>\n",
              "      <td>0.0</td>\n",
              "      <td>0.0</td>\n",
              "      <td>0.0</td>\n",
              "      <td>0.0</td>\n",
              "      <td>0.0</td>\n",
              "      <td>0.0</td>\n",
              "      <td>0.0</td>\n",
              "      <td>0.1</td>\n",
              "      <td>0.0</td>\n",
              "      <td>0.0</td>\n",
              "      <td>0.0</td>\n",
              "      <td>0.0</td>\n",
              "      <td>0.0</td>\n",
              "      <td>0.0</td>\n",
              "      <td>0.0</td>\n",
              "      <td>0.0</td>\n",
              "      <td>0.0</td>\n",
              "      <td>0.0</td>\n",
              "      <td>0.0</td>\n",
              "      <td>0.0</td>\n",
              "      <td>0.0</td>\n",
              "      <td>...</td>\n",
              "      <td>0.0</td>\n",
              "      <td>0.0</td>\n",
              "      <td>0.0</td>\n",
              "      <td>0.0</td>\n",
              "      <td>0.0</td>\n",
              "      <td>0.0</td>\n",
              "      <td>0.0</td>\n",
              "      <td>0.0</td>\n",
              "      <td>0.0</td>\n",
              "      <td>0.0</td>\n",
              "      <td>0.0</td>\n",
              "      <td>0.0</td>\n",
              "      <td>0.0</td>\n",
              "      <td>0.0</td>\n",
              "      <td>0.1</td>\n",
              "      <td>0.0</td>\n",
              "      <td>0.0</td>\n",
              "      <td>0.0</td>\n",
              "      <td>0.0</td>\n",
              "      <td>0.1</td>\n",
              "      <td>0.0</td>\n",
              "      <td>0.0</td>\n",
              "      <td>0.0</td>\n",
              "      <td>0.0</td>\n",
              "      <td>0.1</td>\n",
              "      <td>0.0</td>\n",
              "      <td>0.0</td>\n",
              "      <td>0.1</td>\n",
              "      <td>0.0</td>\n",
              "      <td>0.0</td>\n",
              "      <td>0.0</td>\n",
              "      <td>0.0</td>\n",
              "      <td>0.0</td>\n",
              "      <td>0.0</td>\n",
              "      <td>0.0</td>\n",
              "      <td>0.0</td>\n",
              "      <td>0.1</td>\n",
              "      <td>0.0</td>\n",
              "      <td>0.0</td>\n",
              "      <td>0.0</td>\n",
              "    </tr>\n",
              "  </tbody>\n",
              "</table>\n",
              "<p>1 rows × 125 columns</p>\n",
              "</div>"
            ],
            "text/plain": [
              "  Neighborhood  Accessories Store  ...  Women's Store  Zoo\n",
              "0      Andheri                0.0  ...            0.0  0.0\n",
              "\n",
              "[1 rows x 125 columns]"
            ]
          },
          "metadata": {
            "tags": []
          },
          "execution_count": 67
        }
      ]
    },
    {
      "cell_type": "code",
      "metadata": {
        "id": "S87wdbiycsqP",
        "colab_type": "code",
        "colab": {}
      },
      "source": [
        "south_mumbai_grouped.to_csv(\"south_mumbai_grouped.csv\")"
      ],
      "execution_count": 0,
      "outputs": []
    },
    {
      "cell_type": "code",
      "metadata": {
        "id": "VymcjiDFecLI",
        "colab_type": "code",
        "outputId": "58945c07-2d88-47d4-cfc8-d58b0ee97c61",
        "colab": {
          "base_uri": "https://localhost:8080/",
          "height": 1000
        }
      },
      "source": [
        "## Let's print each neighborhood along with the top 5 most common venues\n",
        "\n",
        "num_top_venues = 5\n",
        "\n",
        "for hood in south_mumbai_grouped['Neighborhood']:\n",
        "    print(\"----\"+hood+\"----\")\n",
        "    temp = south_mumbai_grouped[south_mumbai_grouped['Neighborhood'] == hood].T.reset_index()\n",
        "    temp.columns = ['venue','freq']\n",
        "    temp = temp.iloc[1:]\n",
        "    temp['freq'] = temp['freq'].astype(float)\n",
        "    temp = temp.round({'freq': 2})\n",
        "    print(temp.sort_values('freq', ascending=False).reset_index(drop=True).head(num_top_venues))\n",
        "    print('\\n')"
      ],
      "execution_count": 0,
      "outputs": [
        {
          "output_type": "stream",
          "text": [
            "----Andheri----\n",
            "            venue  freq\n",
            "0  Shop & Service   0.1\n",
            "1        Platform   0.1\n",
            "2  Sandwich Place   0.1\n",
            "3    Burger Joint   0.1\n",
            "4     Snack Place   0.1\n",
            "\n",
            "\n",
            "----Apollo Bandar----\n",
            "                venue  freq\n",
            "0               Hotel  0.19\n",
            "1       Boat or Ferry  0.09\n",
            "2  Mughlai Restaurant  0.06\n",
            "3  Chinese Restaurant  0.06\n",
            "4     Fitness/Gym/Spa  0.06\n",
            "\n",
            "\n",
            "----Bandra West----\n",
            "                venue  freq\n",
            "0              Bakery  0.09\n",
            "1         Pizza Place  0.06\n",
            "2  Chinese Restaurant  0.06\n",
            "3    Asian Restaurant  0.06\n",
            "4     Fitness/Gym/Spa  0.04\n",
            "\n",
            "\n",
            "----Bhuleshwar----\n",
            "            venue  freq\n",
            "0  Ice Cream Shop   0.1\n",
            "1       BBQ Joint   0.1\n",
            "2       Juice Bar   0.1\n",
            "3     Snack Place   0.1\n",
            "4    Dessert Shop   0.1\n",
            "\n",
            "\n",
            "----Borivali----\n",
            "                venue  freq\n",
            "0      Ice Cream Shop  0.14\n",
            "1  Chinese Restaurant  0.09\n",
            "2      Sandwich Place  0.09\n",
            "3           Juice Bar  0.09\n",
            "4         Snack Place  0.09\n",
            "\n",
            "\n",
            "----Chembur----\n",
            "                           venue  freq\n",
            "0             Seafood Restaurant  0.13\n",
            "1                Fitness/Gym/Spa  0.13\n",
            "2  Vegetarian / Vegan Restaurant  0.09\n",
            "3                    Snack Place  0.09\n",
            "4                    Park/Garden  0.09\n",
            "\n",
            "\n",
            "----Churchgate----\n",
            "                venue  freq\n",
            "0              Sports  0.18\n",
            "1               Hotel  0.11\n",
            "2      Ice Cream Shop  0.11\n",
            "3  Italian Restaurant  0.08\n",
            "4   Theater\\Multiplex  0.08\n",
            "\n",
            "\n",
            "----Colaba----\n",
            "                venue  freq\n",
            "0     Fitness/Gym/Spa  0.14\n",
            "1               Hotel  0.09\n",
            "2               Diner  0.09\n",
            "3  Chinese Restaurant  0.09\n",
            "4        Dessert Shop  0.05\n",
            "\n",
            "\n",
            "----Dadar----\n",
            "                           venue  freq\n",
            "0                 Breakfast Spot  0.11\n",
            "1  Vegetarian / Vegan Restaurant  0.11\n",
            "2              Theater\\Multiplex  0.11\n",
            "3       Maharashtrian Restaurant  0.06\n",
            "4                 Sandwich Place  0.06\n",
            "\n",
            "\n",
            "----Fort----\n",
            "                venue  freq\n",
            "0  Chinese Restaurant  0.08\n",
            "1  Seafood Restaurant  0.08\n",
            "2        Dessert Shop  0.06\n",
            "3               Plaza  0.04\n",
            "4      Clothing Store  0.04\n",
            "\n",
            "\n",
            "----Ghatkopar----\n",
            "               venue  freq\n",
            "0        Pizza Place  0.15\n",
            "1          Juice Bar  0.15\n",
            "2  Accessories Store  0.08\n",
            "3             Bakery  0.08\n",
            "4       Dessert Shop  0.08\n",
            "\n",
            "\n",
            "----Jogeshwari----\n",
            "                venue  freq\n",
            "0  Chinese Restaurant   0.2\n",
            "1         Pizza Place   0.2\n",
            "2    Asian Restaurant   0.2\n",
            "3  Mughlai Restaurant   0.2\n",
            "4      Ice Cream Shop   0.2\n",
            "\n",
            "\n",
            "----Juhu----\n",
            "                venue  freq\n",
            "0     Fitness/Gym/Spa  0.16\n",
            "1               Hotel  0.11\n",
            "2  Chinese Restaurant  0.09\n",
            "3              Lounge  0.07\n",
            "4      Clothing Store  0.05\n",
            "\n",
            "\n",
            "----Kalbadevi----\n",
            "                 venue  freq\n",
            "0               Market  0.17\n",
            "1  American Restaurant  0.17\n",
            "2    Theater\\Multiplex  0.17\n",
            "3          Cheese Shop  0.17\n",
            "4                 Food  0.17\n",
            "\n",
            "\n",
            "----Khar----\n",
            "            venue  freq\n",
            "0          Lounge  0.14\n",
            "1          Bakery  0.07\n",
            "2       Nightclub  0.07\n",
            "3    Dessert Shop  0.07\n",
            "4  Clothing Store  0.07\n",
            "\n",
            "\n",
            "----Kurla----\n",
            "                venue  freq\n",
            "0  Chinese Restaurant  0.18\n",
            "1              Temple  0.09\n",
            "2  Seafood Restaurant  0.09\n",
            "3   Electronics Store  0.09\n",
            "4        Burger Joint  0.09\n",
            "\n",
            "\n",
            "----Mahalaxmi----\n",
            "                      venue  freq\n",
            "0                Club House   0.2\n",
            "1           Fitness/Gym/Spa   0.2\n",
            "2                 Nightclub   0.2\n",
            "3  Mediterranean Restaurant   0.2\n",
            "4          Asian Restaurant   0.2\n",
            "\n",
            "\n",
            "----Marine Lines----\n",
            "            venue  freq\n",
            "0          Bakery  0.15\n",
            "1      Food Truck  0.15\n",
            "2  Scenic Lookout  0.08\n",
            "3        Aquarium  0.08\n",
            "4     Bridal Shop  0.08\n",
            "\n",
            "\n",
            "----Masjid Bandar----\n",
            "                    venue  freq\n",
            "0       Convenience Store  0.22\n",
            "1               Juice Bar  0.22\n",
            "2          Sandwich Place  0.11\n",
            "3  Furniture / Home Store  0.11\n",
            "4      Chinese Restaurant  0.11\n",
            "\n",
            "\n",
            "----Mazgaon----\n",
            "                venue  freq\n",
            "0     Fitness/Gym/Spa   0.1\n",
            "1              Bakery   0.1\n",
            "2         Park/Garden   0.1\n",
            "3  Chinese Restaurant   0.1\n",
            "4        Dessert Shop   0.1\n",
            "\n",
            "\n",
            "----Mira Road----\n",
            "                venue  freq\n",
            "0      Clothing Store  0.11\n",
            "1     Fitness/Gym/Spa  0.07\n",
            "2  Chinese Restaurant  0.07\n",
            "3      Breakfast Spot  0.04\n",
            "4       Shopping Mall  0.04\n",
            "\n",
            "\n",
            "----Mulund West----\n",
            "               venue  freq\n",
            "0       Dessert Shop   0.2\n",
            "1  Theater\\Multiplex   0.2\n",
            "2        Flea Market   0.1\n",
            "3     Ice Cream Shop   0.1\n",
            "4      Shopping Mall   0.1\n",
            "\n",
            "\n",
            "----Mumbai Central----\n",
            "                           venue  freq\n",
            "0                 Ice Cream Shop  0.18\n",
            "1                    Snack Place  0.09\n",
            "2  Vegetarian / Vegan Restaurant  0.09\n",
            "3                      Juice Bar  0.09\n",
            "4              Theater\\Multiplex  0.09\n",
            "\n",
            "\n",
            "----Nagpada----\n",
            "              venue  freq\n",
            "0             Hotel  0.13\n",
            "1  Asian Restaurant  0.09\n",
            "2  Department Store  0.09\n",
            "3            Bakery  0.09\n",
            "4       Pizza Place  0.09\n",
            "\n",
            "\n",
            "----Nariman Point----\n",
            "                venue  freq\n",
            "0   Theater\\Multiplex  0.18\n",
            "1  Italian Restaurant  0.11\n",
            "2               Hotel  0.11\n",
            "3              Sports  0.07\n",
            "4         Chaat Place  0.07\n",
            "\n",
            "\n",
            "----Powai----\n",
            "                venue  freq\n",
            "0              Bakery  0.07\n",
            "1      Ice Cream Shop  0.07\n",
            "2  Chinese Restaurant  0.07\n",
            "3     Fitness/Gym/Spa  0.07\n",
            "4  Italian Restaurant  0.05\n",
            "\n",
            "\n",
            "----Santa Cruz----\n",
            "                   venue  freq\n",
            "0                  Hotel  0.21\n",
            "1        Fitness/Gym/Spa  0.14\n",
            "2  Outdoors & Recreation  0.07\n",
            "3            Pizza Place  0.07\n",
            "4    Arts & Crafts Store  0.07\n",
            "\n",
            "\n",
            "----Walkeshwar----\n",
            "                venue  freq\n",
            "0              Bakery  0.08\n",
            "1        Dessert Shop  0.08\n",
            "2      Ice Cream Shop  0.08\n",
            "3         Park/Garden  0.08\n",
            "4  Italian Restaurant  0.04\n",
            "\n",
            "\n",
            "----Worli----\n",
            "             venue  freq\n",
            "0  Fitness/Gym/Spa  0.14\n",
            "1      Art Gallery  0.14\n",
            "2   Scenic Lookout  0.14\n",
            "3           Sports  0.14\n",
            "4            Hotel  0.14\n",
            "\n",
            "\n"
          ],
          "name": "stdout"
        }
      ]
    },
    {
      "cell_type": "markdown",
      "metadata": {
        "id": "Xacwv4rJtol2",
        "colab_type": "text"
      },
      "source": [
        "## **Let's put that into a pandas dataframe.**"
      ]
    },
    {
      "cell_type": "markdown",
      "metadata": {
        "id": "o1HxuRVWt1-S",
        "colab_type": "text"
      },
      "source": [
        "## **Let's write a function to sort the venues in descending order.**"
      ]
    },
    {
      "cell_type": "code",
      "metadata": {
        "id": "9JBYacH2fx36",
        "colab_type": "code",
        "colab": {}
      },
      "source": [
        "\n",
        "def return_most_common_venues(row, num_top_venues):\n",
        "    row_categories = row.iloc[1:]\n",
        "    row_categories_sorted = row_categories.sort_values(ascending=False)\n",
        "    \n",
        "    return row_categories_sorted.index.values[0:num_top_venues]"
      ],
      "execution_count": 0,
      "outputs": []
    },
    {
      "cell_type": "markdown",
      "metadata": {
        "id": "GnnGlEkAuEGO",
        "colab_type": "text"
      },
      "source": [
        "# **Display the top 10 venues for each neighborhood.**"
      ]
    },
    {
      "cell_type": "code",
      "metadata": {
        "id": "4-fWZhI-f3Yf",
        "colab_type": "code",
        "outputId": "0ae8b5a0-c30f-41ca-a9fd-71d6a54f9614",
        "colab": {
          "base_uri": "https://localhost:8080/",
          "height": 413
        }
      },
      "source": [
        "num_top_venues = 10\n",
        "\n",
        "indicators = ['st', 'nd', 'rd']\n",
        "\n",
        "# create columns according to number of top venues\n",
        "columns = ['Neighborhood']\n",
        "for ind in np.arange(num_top_venues):\n",
        "    try:\n",
        "        columns.append('{}{} Most Common Venue'.format(ind+1, indicators[ind]))\n",
        "    except:\n",
        "        columns.append('{}th Most Common Venue'.format(ind+1))\n",
        "\n",
        "# create a new dataframe\n",
        "neighborhoods_venues_sorted = pd.DataFrame(columns=columns)\n",
        "neighborhoods_venues_sorted['Neighborhood'] = south_mumbai_grouped['Neighborhood']\n",
        "\n",
        "for ind in np.arange(south_mumbai_grouped.shape[0]):\n",
        "    neighborhoods_venues_sorted.iloc[ind, 1:] = return_most_common_venues(south_mumbai_grouped.iloc[ind, :], num_top_venues)\n",
        "\n",
        "neighborhoods_venues_sorted.head()\n"
      ],
      "execution_count": 0,
      "outputs": [
        {
          "output_type": "execute_result",
          "data": {
            "text/html": [
              "<div>\n",
              "<style scoped>\n",
              "    .dataframe tbody tr th:only-of-type {\n",
              "        vertical-align: middle;\n",
              "    }\n",
              "\n",
              "    .dataframe tbody tr th {\n",
              "        vertical-align: top;\n",
              "    }\n",
              "\n",
              "    .dataframe thead th {\n",
              "        text-align: right;\n",
              "    }\n",
              "</style>\n",
              "<table border=\"1\" class=\"dataframe\">\n",
              "  <thead>\n",
              "    <tr style=\"text-align: right;\">\n",
              "      <th></th>\n",
              "      <th>Neighborhood</th>\n",
              "      <th>1st Most Common Venue</th>\n",
              "      <th>2nd Most Common Venue</th>\n",
              "      <th>3rd Most Common Venue</th>\n",
              "      <th>4th Most Common Venue</th>\n",
              "      <th>5th Most Common Venue</th>\n",
              "      <th>6th Most Common Venue</th>\n",
              "      <th>7th Most Common Venue</th>\n",
              "      <th>8th Most Common Venue</th>\n",
              "      <th>9th Most Common Venue</th>\n",
              "      <th>10th Most Common Venue</th>\n",
              "    </tr>\n",
              "  </thead>\n",
              "  <tbody>\n",
              "    <tr>\n",
              "      <th>0</th>\n",
              "      <td>Andheri</td>\n",
              "      <td>Ice Cream Shop</td>\n",
              "      <td>Burger Joint</td>\n",
              "      <td>Dessert Shop</td>\n",
              "      <td>Platform</td>\n",
              "      <td>Shop &amp; Service</td>\n",
              "      <td>Bakery</td>\n",
              "      <td>Snack Place</td>\n",
              "      <td>Sandwich Place</td>\n",
              "      <td>Food Court</td>\n",
              "      <td>Tourist Information Center</td>\n",
              "    </tr>\n",
              "    <tr>\n",
              "      <th>1</th>\n",
              "      <td>Apollo Bandar</td>\n",
              "      <td>Hotel</td>\n",
              "      <td>Boat or Ferry</td>\n",
              "      <td>Fitness/Gym/Spa</td>\n",
              "      <td>Chinese Restaurant</td>\n",
              "      <td>Mughlai Restaurant</td>\n",
              "      <td>Flea Market</td>\n",
              "      <td>Juice Bar</td>\n",
              "      <td>Boat ride</td>\n",
              "      <td>Monument / Landmark</td>\n",
              "      <td>Mexican Restaurant</td>\n",
              "    </tr>\n",
              "    <tr>\n",
              "      <th>2</th>\n",
              "      <td>Bandra West</td>\n",
              "      <td>Bakery</td>\n",
              "      <td>Asian Restaurant</td>\n",
              "      <td>Pizza Place</td>\n",
              "      <td>Chinese Restaurant</td>\n",
              "      <td>Fitness/Gym/Spa</td>\n",
              "      <td>Seafood Restaurant</td>\n",
              "      <td>Dessert Shop</td>\n",
              "      <td>Arcade</td>\n",
              "      <td>Event Space</td>\n",
              "      <td>Bookstore</td>\n",
              "    </tr>\n",
              "    <tr>\n",
              "      <th>3</th>\n",
              "      <td>Bhuleshwar</td>\n",
              "      <td>Ice Cream Shop</td>\n",
              "      <td>Market</td>\n",
              "      <td>Hotel</td>\n",
              "      <td>Juice Bar</td>\n",
              "      <td>Dessert Shop</td>\n",
              "      <td>Snack Place</td>\n",
              "      <td>BBQ Joint</td>\n",
              "      <td>Arcade</td>\n",
              "      <td>Chinese Restaurant</td>\n",
              "      <td>Indian Sweet Shop</td>\n",
              "    </tr>\n",
              "    <tr>\n",
              "      <th>4</th>\n",
              "      <td>Borivali</td>\n",
              "      <td>Ice Cream Shop</td>\n",
              "      <td>Snack Place</td>\n",
              "      <td>Chinese Restaurant</td>\n",
              "      <td>Juice Bar</td>\n",
              "      <td>Sandwich Place</td>\n",
              "      <td>Clothing Store</td>\n",
              "      <td>Department Store</td>\n",
              "      <td>Burger Joint</td>\n",
              "      <td>Theater\\Multiplex</td>\n",
              "      <td>Pizza Place</td>\n",
              "    </tr>\n",
              "  </tbody>\n",
              "</table>\n",
              "</div>"
            ],
            "text/plain": [
              "    Neighborhood  ...      10th Most Common Venue\n",
              "0        Andheri  ...  Tourist Information Center\n",
              "1  Apollo Bandar  ...          Mexican Restaurant\n",
              "2    Bandra West  ...                   Bookstore\n",
              "3     Bhuleshwar  ...           Indian Sweet Shop\n",
              "4       Borivali  ...                 Pizza Place\n",
              "\n",
              "[5 rows x 11 columns]"
            ]
          },
          "metadata": {
            "tags": []
          },
          "execution_count": 71
        }
      ]
    },
    {
      "cell_type": "markdown",
      "metadata": {
        "id": "Qs5mPJkb1Kal",
        "colab_type": "text"
      },
      "source": [
        "# **Cluster Neighborhood**"
      ]
    },
    {
      "cell_type": "markdown",
      "metadata": {
        "id": "4jDpgafq1S1i",
        "colab_type": "text"
      },
      "source": [
        "## **Run k-means. Adjusting number of clusters to optimum.**"
      ]
    },
    {
      "cell_type": "code",
      "metadata": {
        "id": "gVtUo7OAlOUn",
        "colab_type": "code",
        "outputId": "c10af400-320c-4b8c-93c1-521a663c6fda",
        "colab": {
          "base_uri": "https://localhost:8080/",
          "height": 52
        }
      },
      "source": [
        "kclusters = 5\n",
        "south_mumbai_grouped_clustering = south_mumbai_grouped.drop('Neighborhood', 1)\n",
        "\n",
        "# run k-means clustering\n",
        "kmeans = KMeans(n_clusters=kclusters, random_state=0).fit(south_mumbai_grouped_clustering)\n",
        "\n",
        "# check cluster labels generated for each row in the dataframe\n",
        "#kmeans.labels_[0:10] \n",
        "kmeans.labels_[0:40] \n"
      ],
      "execution_count": 0,
      "outputs": [
        {
          "output_type": "execute_result",
          "data": {
            "text/plain": [
              "array([1, 0, 1, 1, 1, 1, 3, 0, 1, 1, 1, 2, 0, 4, 1, 1, 0, 1, 1, 1, 1, 3,\n",
              "       1, 0, 3, 1, 0, 1, 3], dtype=int32)"
            ]
          },
          "metadata": {
            "tags": []
          },
          "execution_count": 72
        }
      ]
    },
    {
      "cell_type": "markdown",
      "metadata": {
        "id": "nurDxXQtuuzF",
        "colab_type": "text"
      },
      "source": [
        "## **Let's create a new dataframe that includes the cluster as well as the top 10 venues for each neighborhood.**"
      ]
    },
    {
      "cell_type": "markdown",
      "metadata": {
        "id": "17hMPQSJu5pW",
        "colab_type": "text"
      },
      "source": [
        "## **Add clustering labels.**"
      ]
    },
    {
      "cell_type": "code",
      "metadata": {
        "id": "neGaBfXhlkWw",
        "colab_type": "code",
        "colab": {}
      },
      "source": [
        "neighborhoods_venues_sorted.insert(0, 'Cluster Labels', kmeans.labels_)"
      ],
      "execution_count": 0,
      "outputs": []
    },
    {
      "cell_type": "markdown",
      "metadata": {
        "id": "R5zAQjQfvMa3",
        "colab_type": "text"
      },
      "source": [
        "## **Now merge both dataframes.**"
      ]
    },
    {
      "cell_type": "code",
      "metadata": {
        "id": "rncu9pGkrzg3",
        "colab_type": "code",
        "outputId": "a46d0ddd-b3f7-4a74-f71a-5050ef34f9a3",
        "colab": {
          "base_uri": "https://localhost:8080/",
          "height": 110
        }
      },
      "source": [
        "south_mumbai_data.head(2)"
      ],
      "execution_count": 0,
      "outputs": [
        {
          "output_type": "execute_result",
          "data": {
            "text/html": [
              "<div>\n",
              "<style scoped>\n",
              "    .dataframe tbody tr th:only-of-type {\n",
              "        vertical-align: middle;\n",
              "    }\n",
              "\n",
              "    .dataframe tbody tr th {\n",
              "        vertical-align: top;\n",
              "    }\n",
              "\n",
              "    .dataframe thead th {\n",
              "        text-align: right;\n",
              "    }\n",
              "</style>\n",
              "<table border=\"1\" class=\"dataframe\">\n",
              "  <thead>\n",
              "    <tr style=\"text-align: right;\">\n",
              "      <th></th>\n",
              "      <th>index</th>\n",
              "      <th>Neighborhood</th>\n",
              "      <th>Borough</th>\n",
              "      <th>Latitude</th>\n",
              "      <th>Longitude</th>\n",
              "    </tr>\n",
              "  </thead>\n",
              "  <tbody>\n",
              "    <tr>\n",
              "      <th>0</th>\n",
              "      <td>0</td>\n",
              "      <td>Colaba</td>\n",
              "      <td>South Mumbai</td>\n",
              "      <td>18.915091</td>\n",
              "      <td>72.825969</td>\n",
              "    </tr>\n",
              "    <tr>\n",
              "      <th>1</th>\n",
              "      <td>1</td>\n",
              "      <td>Apollo Bandar</td>\n",
              "      <td>South Mumbai</td>\n",
              "      <td>18.918375</td>\n",
              "      <td>72.831443</td>\n",
              "    </tr>\n",
              "  </tbody>\n",
              "</table>\n",
              "</div>"
            ],
            "text/plain": [
              "   index   Neighborhood       Borough   Latitude  Longitude\n",
              "0      0         Colaba  South Mumbai  18.915091  72.825969\n",
              "1      1  Apollo Bandar  South Mumbai  18.918375  72.831443"
            ]
          },
          "metadata": {
            "tags": []
          },
          "execution_count": 260
        }
      ]
    },
    {
      "cell_type": "code",
      "metadata": {
        "id": "inxaFCC8meMU",
        "colab_type": "code",
        "outputId": "dbfb7a6f-a0b5-4bd1-a87f-706bb301a6ac",
        "colab": {
          "base_uri": "https://localhost:8080/",
          "height": 395
        }
      },
      "source": [
        "south_mumbai_merged = south_mumbai_data\n",
        "\n",
        "# merge two dataframes\n",
        "south_mumbai_merged = south_mumbai_merged.join(neighborhoods_venues_sorted.set_index('Neighborhood'), on='Neighborhood')\n",
        "\n",
        "south_mumbai_merged.head() \n"
      ],
      "execution_count": 0,
      "outputs": [
        {
          "output_type": "execute_result",
          "data": {
            "text/html": [
              "<div>\n",
              "<style scoped>\n",
              "    .dataframe tbody tr th:only-of-type {\n",
              "        vertical-align: middle;\n",
              "    }\n",
              "\n",
              "    .dataframe tbody tr th {\n",
              "        vertical-align: top;\n",
              "    }\n",
              "\n",
              "    .dataframe thead th {\n",
              "        text-align: right;\n",
              "    }\n",
              "</style>\n",
              "<table border=\"1\" class=\"dataframe\">\n",
              "  <thead>\n",
              "    <tr style=\"text-align: right;\">\n",
              "      <th></th>\n",
              "      <th>index</th>\n",
              "      <th>Neighborhood</th>\n",
              "      <th>Borough</th>\n",
              "      <th>Latitude</th>\n",
              "      <th>Longitude</th>\n",
              "      <th>Cluster Labels</th>\n",
              "      <th>1st Most Common Venue</th>\n",
              "      <th>2nd Most Common Venue</th>\n",
              "      <th>3rd Most Common Venue</th>\n",
              "      <th>4th Most Common Venue</th>\n",
              "      <th>5th Most Common Venue</th>\n",
              "      <th>6th Most Common Venue</th>\n",
              "      <th>7th Most Common Venue</th>\n",
              "      <th>8th Most Common Venue</th>\n",
              "      <th>9th Most Common Venue</th>\n",
              "      <th>10th Most Common Venue</th>\n",
              "    </tr>\n",
              "  </thead>\n",
              "  <tbody>\n",
              "    <tr>\n",
              "      <th>0</th>\n",
              "      <td>0</td>\n",
              "      <td>Colaba</td>\n",
              "      <td>South Mumbai</td>\n",
              "      <td>18.915091</td>\n",
              "      <td>72.825969</td>\n",
              "      <td>0</td>\n",
              "      <td>Fitness/Gym/Spa</td>\n",
              "      <td>Diner</td>\n",
              "      <td>Chinese Restaurant</td>\n",
              "      <td>Hotel</td>\n",
              "      <td>Donut Shop</td>\n",
              "      <td>Middle Eastern Restaurant</td>\n",
              "      <td>Men's Store</td>\n",
              "      <td>Pizza Place</td>\n",
              "      <td>Brewery</td>\n",
              "      <td>Dessert Shop</td>\n",
              "    </tr>\n",
              "    <tr>\n",
              "      <th>1</th>\n",
              "      <td>1</td>\n",
              "      <td>Apollo Bandar</td>\n",
              "      <td>South Mumbai</td>\n",
              "      <td>18.918375</td>\n",
              "      <td>72.831443</td>\n",
              "      <td>0</td>\n",
              "      <td>Hotel</td>\n",
              "      <td>Boat or Ferry</td>\n",
              "      <td>Fitness/Gym/Spa</td>\n",
              "      <td>Chinese Restaurant</td>\n",
              "      <td>Mughlai Restaurant</td>\n",
              "      <td>Flea Market</td>\n",
              "      <td>Juice Bar</td>\n",
              "      <td>Boat ride</td>\n",
              "      <td>Monument / Landmark</td>\n",
              "      <td>Mexican Restaurant</td>\n",
              "    </tr>\n",
              "    <tr>\n",
              "      <th>2</th>\n",
              "      <td>2</td>\n",
              "      <td>Fort</td>\n",
              "      <td>South Mumbai</td>\n",
              "      <td>18.933266</td>\n",
              "      <td>72.834515</td>\n",
              "      <td>1</td>\n",
              "      <td>Seafood Restaurant</td>\n",
              "      <td>Chinese Restaurant</td>\n",
              "      <td>Dessert Shop</td>\n",
              "      <td>Irani Cafe</td>\n",
              "      <td>Parsi Restaurant</td>\n",
              "      <td>Plaza</td>\n",
              "      <td>Lounge</td>\n",
              "      <td>Clothing Store</td>\n",
              "      <td>Hotel</td>\n",
              "      <td>Mediterranean Restaurant</td>\n",
              "    </tr>\n",
              "    <tr>\n",
              "      <th>3</th>\n",
              "      <td>3</td>\n",
              "      <td>Churchgate</td>\n",
              "      <td>South Mumbai</td>\n",
              "      <td>18.935957</td>\n",
              "      <td>72.827340</td>\n",
              "      <td>3</td>\n",
              "      <td>Sports</td>\n",
              "      <td>Ice Cream Shop</td>\n",
              "      <td>Hotel</td>\n",
              "      <td>Theater\\Multiplex</td>\n",
              "      <td>Italian Restaurant</td>\n",
              "      <td>Pizza Place</td>\n",
              "      <td>Bakery</td>\n",
              "      <td>Breakfast Spot</td>\n",
              "      <td>Japanese Restaurant</td>\n",
              "      <td>Other Great Outdoors</td>\n",
              "    </tr>\n",
              "    <tr>\n",
              "      <th>4</th>\n",
              "      <td>4</td>\n",
              "      <td>Nariman Point</td>\n",
              "      <td>South Mumbai</td>\n",
              "      <td>18.925951</td>\n",
              "      <td>72.823208</td>\n",
              "      <td>3</td>\n",
              "      <td>Theater\\Multiplex</td>\n",
              "      <td>Italian Restaurant</td>\n",
              "      <td>Hotel</td>\n",
              "      <td>Chaat Place</td>\n",
              "      <td>Mediterranean Restaurant</td>\n",
              "      <td>Sports</td>\n",
              "      <td>Shopping Mall</td>\n",
              "      <td>Lounge</td>\n",
              "      <td>Japanese Restaurant</td>\n",
              "      <td>Bookstore</td>\n",
              "    </tr>\n",
              "  </tbody>\n",
              "</table>\n",
              "</div>"
            ],
            "text/plain": [
              "   index   Neighborhood  ... 9th Most Common Venue    10th Most Common Venue\n",
              "0      0         Colaba  ...               Brewery              Dessert Shop\n",
              "1      1  Apollo Bandar  ...   Monument / Landmark        Mexican Restaurant\n",
              "2      2           Fort  ...                 Hotel  Mediterranean Restaurant\n",
              "3      3     Churchgate  ...   Japanese Restaurant      Other Great Outdoors\n",
              "4      4  Nariman Point  ...   Japanese Restaurant                 Bookstore\n",
              "\n",
              "[5 rows x 16 columns]"
            ]
          },
          "metadata": {
            "tags": []
          },
          "execution_count": 74
        }
      ]
    },
    {
      "cell_type": "code",
      "metadata": {
        "id": "L1rjIkAQVSzi",
        "colab_type": "code",
        "colab": {}
      },
      "source": [
        "south_mumbai_merged.to_csv(\"south_mumbai_merged.csv\")"
      ],
      "execution_count": 0,
      "outputs": []
    },
    {
      "cell_type": "code",
      "metadata": {
        "id": "___03NFzvq3p",
        "colab_type": "code",
        "outputId": "e37d0d45-a8e5-405d-a773-2ef214053e04",
        "colab": {
          "base_uri": "https://localhost:8080/",
          "height": 413
        }
      },
      "source": [
        "south_mumbai_merged.tail()"
      ],
      "execution_count": 0,
      "outputs": [
        {
          "output_type": "execute_result",
          "data": {
            "text/html": [
              "<div>\n",
              "<style scoped>\n",
              "    .dataframe tbody tr th:only-of-type {\n",
              "        vertical-align: middle;\n",
              "    }\n",
              "\n",
              "    .dataframe tbody tr th {\n",
              "        vertical-align: top;\n",
              "    }\n",
              "\n",
              "    .dataframe thead th {\n",
              "        text-align: right;\n",
              "    }\n",
              "</style>\n",
              "<table border=\"1\" class=\"dataframe\">\n",
              "  <thead>\n",
              "    <tr style=\"text-align: right;\">\n",
              "      <th></th>\n",
              "      <th>index</th>\n",
              "      <th>Neighborhood</th>\n",
              "      <th>Borough</th>\n",
              "      <th>Latitude</th>\n",
              "      <th>Longitude</th>\n",
              "      <th>Cluster Labels</th>\n",
              "      <th>1st Most Common Venue</th>\n",
              "      <th>2nd Most Common Venue</th>\n",
              "      <th>3rd Most Common Venue</th>\n",
              "      <th>4th Most Common Venue</th>\n",
              "      <th>5th Most Common Venue</th>\n",
              "      <th>6th Most Common Venue</th>\n",
              "      <th>7th Most Common Venue</th>\n",
              "      <th>8th Most Common Venue</th>\n",
              "      <th>9th Most Common Venue</th>\n",
              "      <th>10th Most Common Venue</th>\n",
              "    </tr>\n",
              "  </thead>\n",
              "  <tbody>\n",
              "    <tr>\n",
              "      <th>33</th>\n",
              "      <td>33</td>\n",
              "      <td>Mulund West</td>\n",
              "      <td>East Mumbai</td>\n",
              "      <td>19.171972</td>\n",
              "      <td>72.951196</td>\n",
              "      <td>0</td>\n",
              "      <td>Dessert Shop</td>\n",
              "      <td>Theater</td>\n",
              "      <td>Music Venue</td>\n",
              "      <td>Snack Place</td>\n",
              "      <td>Ice Cream Shop</td>\n",
              "      <td>Shopping Mall</td>\n",
              "      <td>Flea Market</td>\n",
              "      <td>Sports</td>\n",
              "      <td>Creperie</td>\n",
              "      <td>Cupcake Shop</td>\n",
              "    </tr>\n",
              "    <tr>\n",
              "      <th>34</th>\n",
              "      <td>34</td>\n",
              "      <td>Powai</td>\n",
              "      <td>North Mumbai</td>\n",
              "      <td>19.118720</td>\n",
              "      <td>72.907348</td>\n",
              "      <td>3</td>\n",
              "      <td>Ice Cream Shop</td>\n",
              "      <td>Fitness/Gym/Spa</td>\n",
              "      <td>Chinese Restaurant</td>\n",
              "      <td>Bakery</td>\n",
              "      <td>Pizza Place</td>\n",
              "      <td>Italian Restaurant</td>\n",
              "      <td>Dessert Shop</td>\n",
              "      <td>Donut Shop</td>\n",
              "      <td>Lounge</td>\n",
              "      <td>Tea Room</td>\n",
              "    </tr>\n",
              "    <tr>\n",
              "      <th>35</th>\n",
              "      <td>35</td>\n",
              "      <td>Jogeshwari</td>\n",
              "      <td>North Mumbai</td>\n",
              "      <td>19.134899</td>\n",
              "      <td>72.848820</td>\n",
              "      <td>0</td>\n",
              "      <td>Asian Restaurant</td>\n",
              "      <td>Chinese Restaurant</td>\n",
              "      <td>Mughlai Restaurant</td>\n",
              "      <td>Pizza Place</td>\n",
              "      <td>Ice Cream Shop</td>\n",
              "      <td>Department Store</td>\n",
              "      <td>Diner</td>\n",
              "      <td>Dim Sum Restaurant</td>\n",
              "      <td>Dhaba</td>\n",
              "      <td>Dessert Shop</td>\n",
              "    </tr>\n",
              "    <tr>\n",
              "      <th>37</th>\n",
              "      <td>37</td>\n",
              "      <td>Borivali</td>\n",
              "      <td>North Mumbai</td>\n",
              "      <td>19.229068</td>\n",
              "      <td>72.857363</td>\n",
              "      <td>0</td>\n",
              "      <td>Ice Cream Shop</td>\n",
              "      <td>Clothing Store</td>\n",
              "      <td>Chinese Restaurant</td>\n",
              "      <td>Juice Bar</td>\n",
              "      <td>Sandwich Place</td>\n",
              "      <td>Snack Place</td>\n",
              "      <td>Lounge</td>\n",
              "      <td>Vegetarian / Vegan Restaurant</td>\n",
              "      <td>Theater</td>\n",
              "      <td>Food Truck</td>\n",
              "    </tr>\n",
              "    <tr>\n",
              "      <th>38</th>\n",
              "      <td>38</td>\n",
              "      <td>Mira Road</td>\n",
              "      <td>North Mumbai</td>\n",
              "      <td>19.187896</td>\n",
              "      <td>72.836596</td>\n",
              "      <td>3</td>\n",
              "      <td>Clothing Store</td>\n",
              "      <td>Chinese Restaurant</td>\n",
              "      <td>Fitness/Gym/Spa</td>\n",
              "      <td>Shopping Mall</td>\n",
              "      <td>Diner</td>\n",
              "      <td>Pizza Place</td>\n",
              "      <td>Donut Shop</td>\n",
              "      <td>Dim Sum Restaurant</td>\n",
              "      <td>Burger Joint</td>\n",
              "      <td>Burrito Place</td>\n",
              "    </tr>\n",
              "  </tbody>\n",
              "</table>\n",
              "</div>"
            ],
            "text/plain": [
              "    index Neighborhood  ... 9th Most Common Venue  10th Most Common Venue\n",
              "33     33  Mulund West  ...              Creperie            Cupcake Shop\n",
              "34     34        Powai  ...                Lounge                Tea Room\n",
              "35     35   Jogeshwari  ...                 Dhaba            Dessert Shop\n",
              "37     37     Borivali  ...               Theater              Food Truck\n",
              "38     38    Mira Road  ...          Burger Joint           Burrito Place\n",
              "\n",
              "[5 rows x 16 columns]"
            ]
          },
          "metadata": {
            "tags": []
          },
          "execution_count": 342
        }
      ]
    },
    {
      "cell_type": "code",
      "metadata": {
        "id": "I6Pow3bQvKvn",
        "colab_type": "code",
        "colab": {}
      },
      "source": [
        "south_mumbai_merged.to_csv(\"south_mumbai_merged.csv\")"
      ],
      "execution_count": 0,
      "outputs": []
    },
    {
      "cell_type": "markdown",
      "metadata": {
        "id": "lMwNKxkzvd4H",
        "colab_type": "text"
      },
      "source": [
        "### check **Cluster Labels** column has been added to dataframe. "
      ]
    },
    {
      "cell_type": "markdown",
      "metadata": {
        "id": "V9D3ad5nwBXC",
        "colab_type": "text"
      },
      "source": [
        "# **Visualize Clusters**"
      ]
    },
    {
      "cell_type": "code",
      "metadata": {
        "id": "69j6pMIKu5rm",
        "colab_type": "code",
        "outputId": "c0fb127f-03f8-4dff-c2fd-3246edcd5267",
        "colab": {
          "base_uri": "https://localhost:8080/",
          "height": 538
        }
      },
      "source": [
        "latitude = mumbai_latitude\n",
        "longitude = mumbai_longitude\n",
        "\n",
        "# create map\n",
        "map_clusters = folium.Map(location=[latitude, longitude], zoom_start=11)\n",
        "\n",
        "# set color scheme for the clusters\n",
        "x = np.arange(kclusters)\n",
        "ys = [i + x + (i*x)**2 for i in range(kclusters)]\n",
        "colors_array = cm.rainbow(np.linspace(0, 1, len(ys)))\n",
        "rainbow = [colors.rgb2hex(i) for i in colors_array]\n",
        "\n",
        "# add markers to the map\n",
        "markers_colors = []\n",
        "for lat, lon, poi, cluster in zip(south_mumbai_merged['Latitude'], south_mumbai_merged['Longitude'], south_mumbai_merged['Neighborhood'], south_mumbai_merged['Cluster Labels']):\n",
        "    label = folium.Popup(str(poi) + ' Cluster ' + str(cluster), parse_html=True)\n",
        "    folium.CircleMarker(\n",
        "        [lat, lon],\n",
        "        radius=5,\n",
        "        popup=label,\n",
        "        color=rainbow[cluster-1],\n",
        "        fill=True,\n",
        "        fill_color=rainbow[cluster-1],\n",
        "        fill_opacity=0.7).add_to(map_clusters)\n",
        "       \n",
        "map_clusters\n"
      ],
      "execution_count": 0,
      "outputs": [
        {
          "output_type": "execute_result",
          "data": {
            "text/html": [
              "<div style=\"width:100%;\"><div style=\"position:relative;width:100%;height:0;padding-bottom:60%;\"><iframe src=\"about:blank\" style=\"position:absolute;width:100%;height:100%;left:0;top:0;border:none !important;\" data-html=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 onload=\"this.contentDocument.open();this.contentDocument.write(atob(this.getAttribute('data-html')));this.contentDocument.close();\" allowfullscreen webkitallowfullscreen mozallowfullscreen></iframe></div></div>"
            ],
            "text/plain": [
              "<folium.folium.Map at 0x7f8e2c61cb00>"
            ]
          },
          "metadata": {
            "tags": []
          },
          "execution_count": 75
        }
      ]
    },
    {
      "cell_type": "markdown",
      "metadata": {
        "id": "x3699NvbmDIY",
        "colab_type": "text"
      },
      "source": [
        "# **This concludes the analysis of Mumbai neighborhoods . Thank You.**"
      ]
    },
    {
      "cell_type": "code",
      "metadata": {
        "id": "OvHaGnRNIaI9",
        "colab_type": "code",
        "outputId": "4f710610-08bd-499e-aa6a-8411eba0c586",
        "colab": {
          "base_uri": "https://localhost:8080/",
          "height": 35
        }
      },
      "source": [
        "print(\"qwwe\")\n"
      ],
      "execution_count": 0,
      "outputs": [
        {
          "output_type": "stream",
          "text": [
            "qwwe\n"
          ],
          "name": "stdout"
        }
      ]
    },
    {
      "cell_type": "markdown",
      "metadata": {
        "id": "qSPsGpBFApS_",
        "colab_type": "text"
      },
      "source": [
        "# **Iteration 3** :"
      ]
    },
    {
      "cell_type": "markdown",
      "metadata": {
        "id": "NxevyW4wAxnY",
        "colab_type": "text"
      },
      "source": [
        "### **The approach this time is to just pick tourist spots like museum, aquarium, monumnet, beaches,zoo,boat ride,plaza etc. And run analysis on that**."
      ]
    },
    {
      "cell_type": "code",
      "metadata": {
        "id": "EefLAVTmBN25",
        "colab_type": "code",
        "outputId": "820dff43-f7ec-4be9-9acd-434982284859",
        "colab": {
          "base_uri": "https://localhost:8080/",
          "height": 341
        }
      },
      "source": [
        "south_mumbai_venues.shape #(609, 8)\n",
        "test_df = south_mumbai_venues_bkp1\n",
        "venue_cat_list = ['Monument / Landmark','Boat or Ferry','Sculpture Garden'\n",
        "                 ,'History Museum','Other Great Outdoors','Scenic Lookout','Aquarium'\n",
        "                  ,'Zoo','Racetrack','Plaza','Beach','Park','Garden','Park/Garden']\n",
        "\n",
        "print(\"bef:\",test_df.shape)\n",
        "test_df = test_df[test_df['Venue Category'].isin(venue_cat_list) == True]\n",
        "print(\"aft:\",test_df.shape) # (22, 8)\n",
        "test_df.head()\n",
        "south_mumbai_venues = test_df\n",
        "print(\"aft:\" , south_mumbai_venues.shape)\n",
        "south_mumbai_venues.head()\n",
        "\n",
        "\n",
        "                  "
      ],
      "execution_count": 0,
      "outputs": [
        {
          "output_type": "stream",
          "text": [
            "bef: (609, 8)\n",
            "aft: (30, 8)\n",
            "aft: (30, 8)\n"
          ],
          "name": "stdout"
        },
        {
          "output_type": "execute_result",
          "data": {
            "text/html": [
              "<div>\n",
              "<style scoped>\n",
              "    .dataframe tbody tr th:only-of-type {\n",
              "        vertical-align: middle;\n",
              "    }\n",
              "\n",
              "    .dataframe tbody tr th {\n",
              "        vertical-align: top;\n",
              "    }\n",
              "\n",
              "    .dataframe thead th {\n",
              "        text-align: right;\n",
              "    }\n",
              "</style>\n",
              "<table border=\"1\" class=\"dataframe\">\n",
              "  <thead>\n",
              "    <tr style=\"text-align: right;\">\n",
              "      <th></th>\n",
              "      <th>index</th>\n",
              "      <th>Neighborhood</th>\n",
              "      <th>Neighborhood Latitude</th>\n",
              "      <th>Neighborhood Longitude</th>\n",
              "      <th>Venue</th>\n",
              "      <th>Venue Latitude</th>\n",
              "      <th>Venue Longitude</th>\n",
              "      <th>Venue Category</th>\n",
              "    </tr>\n",
              "  </thead>\n",
              "  <tbody>\n",
              "    <tr>\n",
              "      <th>46</th>\n",
              "      <td>57</td>\n",
              "      <td>Apollo Bandar</td>\n",
              "      <td>18.918375</td>\n",
              "      <td>72.831443</td>\n",
              "      <td>Gateway of India</td>\n",
              "      <td>18.921856</td>\n",
              "      <td>72.834877</td>\n",
              "      <td>Monument / Landmark</td>\n",
              "    </tr>\n",
              "    <tr>\n",
              "      <th>70</th>\n",
              "      <td>98</td>\n",
              "      <td>Apollo Bandar</td>\n",
              "      <td>18.918375</td>\n",
              "      <td>72.831443</td>\n",
              "      <td>APM Deck @ Gateway of India</td>\n",
              "      <td>18.922174</td>\n",
              "      <td>72.833947</td>\n",
              "      <td>Boat or Ferry</td>\n",
              "    </tr>\n",
              "    <tr>\n",
              "      <th>73</th>\n",
              "      <td>101</td>\n",
              "      <td>Apollo Bandar</td>\n",
              "      <td>18.918375</td>\n",
              "      <td>72.831443</td>\n",
              "      <td>Chhatrapati Shivaji Monument</td>\n",
              "      <td>18.922713</td>\n",
              "      <td>72.834172</td>\n",
              "      <td>Sculpture Garden</td>\n",
              "    </tr>\n",
              "    <tr>\n",
              "      <th>74</th>\n",
              "      <td>102</td>\n",
              "      <td>Apollo Bandar</td>\n",
              "      <td>18.918375</td>\n",
              "      <td>72.831443</td>\n",
              "      <td>Jetty - Gateway of India</td>\n",
              "      <td>18.922558</td>\n",
              "      <td>72.834640</td>\n",
              "      <td>Boat or Ferry</td>\n",
              "    </tr>\n",
              "    <tr>\n",
              "      <th>75</th>\n",
              "      <td>103</td>\n",
              "      <td>Apollo Bandar</td>\n",
              "      <td>18.918375</td>\n",
              "      <td>72.831443</td>\n",
              "      <td>Out On The Ocean</td>\n",
              "      <td>18.921780</td>\n",
              "      <td>72.835811</td>\n",
              "      <td>Boat or Ferry</td>\n",
              "    </tr>\n",
              "  </tbody>\n",
              "</table>\n",
              "</div>"
            ],
            "text/plain": [
              "    index   Neighborhood  ...  Venue Longitude       Venue Category\n",
              "46     57  Apollo Bandar  ...        72.834877  Monument / Landmark\n",
              "70     98  Apollo Bandar  ...        72.833947        Boat or Ferry\n",
              "73    101  Apollo Bandar  ...        72.834172     Sculpture Garden\n",
              "74    102  Apollo Bandar  ...        72.834640        Boat or Ferry\n",
              "75    103  Apollo Bandar  ...        72.835811        Boat or Ferry\n",
              "\n",
              "[5 rows x 8 columns]"
            ]
          },
          "metadata": {
            "tags": []
          },
          "execution_count": 193
        }
      ]
    },
    {
      "cell_type": "markdown",
      "metadata": {
        "id": "cYvwHysRfjGa",
        "colab_type": "text"
      },
      "source": [
        ""
      ]
    },
    {
      "cell_type": "code",
      "metadata": {
        "id": "zXJNBdoXKviz",
        "colab_type": "code",
        "outputId": "dca3f1b0-0c5d-40a5-95eb-d7ae19185bd9",
        "colab": {
          "base_uri": "https://localhost:8080/",
          "height": 35
        }
      },
      "source": [
        "# one hot encoding\n",
        "south_mumbai_onehot = pd.get_dummies(south_mumbai_venues[['Venue Category']], prefix=\"\", prefix_sep=\"\")\n",
        "\n",
        "# add neighborhood column back to dataframe\n",
        "south_mumbai_onehot['Neighborhood'] = south_mumbai_venues['Neighborhood'] \n",
        "\n",
        "# move neighborhood column to the first column\n",
        "fixed_columns = [south_mumbai_onehot.columns[-1]] + list(south_mumbai_onehot.columns[:-1])\n",
        "south_mumbai_onehot = south_mumbai_onehot[fixed_columns]\n",
        "\n",
        "south_mumbai_onehot.shape\n"
      ],
      "execution_count": 0,
      "outputs": [
        {
          "output_type": "execute_result",
          "data": {
            "text/plain": [
              "(30, 12)"
            ]
          },
          "metadata": {
            "tags": []
          },
          "execution_count": 195
        }
      ]
    },
    {
      "cell_type": "code",
      "metadata": {
        "id": "e7to1NapKy6C",
        "colab_type": "code",
        "outputId": "5eb303dd-84d9-4541-d437-77a324670756",
        "colab": {
          "base_uri": "https://localhost:8080/",
          "height": 134
        }
      },
      "source": [
        "south_mumbai_grouped = south_mumbai_onehot.groupby('Neighborhood').mean().reset_index()\n",
        "south_mumbai_grouped.head(1)"
      ],
      "execution_count": 0,
      "outputs": [
        {
          "output_type": "execute_result",
          "data": {
            "text/html": [
              "<div>\n",
              "<style scoped>\n",
              "    .dataframe tbody tr th:only-of-type {\n",
              "        vertical-align: middle;\n",
              "    }\n",
              "\n",
              "    .dataframe tbody tr th {\n",
              "        vertical-align: top;\n",
              "    }\n",
              "\n",
              "    .dataframe thead th {\n",
              "        text-align: right;\n",
              "    }\n",
              "</style>\n",
              "<table border=\"1\" class=\"dataframe\">\n",
              "  <thead>\n",
              "    <tr style=\"text-align: right;\">\n",
              "      <th></th>\n",
              "      <th>Neighborhood</th>\n",
              "      <th>Aquarium</th>\n",
              "      <th>Beach</th>\n",
              "      <th>Boat or Ferry</th>\n",
              "      <th>History Museum</th>\n",
              "      <th>Monument / Landmark</th>\n",
              "      <th>Other Great Outdoors</th>\n",
              "      <th>Park/Garden</th>\n",
              "      <th>Plaza</th>\n",
              "      <th>Scenic Lookout</th>\n",
              "      <th>Sculpture Garden</th>\n",
              "      <th>Zoo</th>\n",
              "    </tr>\n",
              "  </thead>\n",
              "  <tbody>\n",
              "    <tr>\n",
              "      <th>0</th>\n",
              "      <td>Apollo Bandar</td>\n",
              "      <td>0.0</td>\n",
              "      <td>0.0</td>\n",
              "      <td>0.6</td>\n",
              "      <td>0.0</td>\n",
              "      <td>0.2</td>\n",
              "      <td>0.0</td>\n",
              "      <td>0.0</td>\n",
              "      <td>0.0</td>\n",
              "      <td>0.0</td>\n",
              "      <td>0.2</td>\n",
              "      <td>0.0</td>\n",
              "    </tr>\n",
              "  </tbody>\n",
              "</table>\n",
              "</div>"
            ],
            "text/plain": [
              "    Neighborhood  Aquarium  Beach  ...  Scenic Lookout  Sculpture Garden  Zoo\n",
              "0  Apollo Bandar       0.0    0.0  ...             0.0               0.2  0.0\n",
              "\n",
              "[1 rows x 12 columns]"
            ]
          },
          "metadata": {
            "tags": []
          },
          "execution_count": 196
        }
      ]
    },
    {
      "cell_type": "markdown",
      "metadata": {
        "id": "IeW3HlgzNg7U",
        "colab_type": "text"
      },
      "source": [
        "# **Checkpoint 2**:"
      ]
    },
    {
      "cell_type": "code",
      "metadata": {
        "id": "po6sFGNjNpV_",
        "colab_type": "code",
        "colab": {}
      },
      "source": [
        "south_mumbai_grouped_bkp1 = south_mumbai_grouped\n",
        "south_mumbai_grouped_bkp2 = south_mumbai_grouped\n",
        "south_mumbai_grouped_bkp3 = south_mumbai_grouped\n",
        "south_mumbai_grouped.to_csv(\"south_mumbai_grouped.csv\")"
      ],
      "execution_count": 0,
      "outputs": []
    },
    {
      "cell_type": "code",
      "metadata": {
        "id": "ySJ-geiKKzMv",
        "colab_type": "code",
        "outputId": "78c57f2f-3412-4230-a2b3-18e4d9d7a294",
        "colab": {
          "base_uri": "https://localhost:8080/",
          "height": 1000
        }
      },
      "source": [
        "## Let's print each neighborhood along with the top 5 most common venues\n",
        "\n",
        "num_top_venues = 5\n",
        "\n",
        "for hood in south_mumbai_grouped['Neighborhood']:\n",
        "    print(\"----\"+hood+\"----\")\n",
        "    temp = south_mumbai_grouped[south_mumbai_grouped['Neighborhood'] == hood].T.reset_index()\n",
        "    temp.columns = ['venue','freq']\n",
        "    temp = temp.iloc[1:]\n",
        "    temp['freq'] = temp['freq'].astype(float)\n",
        "    temp = temp.round({'freq': 2})\n",
        "    print(temp.sort_values('freq', ascending=False).reset_index(drop=True).head(num_top_venues))\n",
        "    print('\\n')"
      ],
      "execution_count": 0,
      "outputs": [
        {
          "output_type": "stream",
          "text": [
            "----Apollo Bandar----\n",
            "                 venue  freq\n",
            "0        Boat or Ferry   0.6\n",
            "1  Monument / Landmark   0.2\n",
            "2     Sculpture Garden   0.2\n",
            "3             Aquarium   0.0\n",
            "4                Beach   0.0\n",
            "\n",
            "\n",
            "----Bandra West----\n",
            "            venue  freq\n",
            "0     Park/Garden   1.0\n",
            "1        Aquarium   0.0\n",
            "2           Beach   0.0\n",
            "3   Boat or Ferry   0.0\n",
            "4  History Museum   0.0\n",
            "\n",
            "\n",
            "----Chembur----\n",
            "            venue  freq\n",
            "0     Park/Garden   1.0\n",
            "1        Aquarium   0.0\n",
            "2           Beach   0.0\n",
            "3   Boat or Ferry   0.0\n",
            "4  History Museum   0.0\n",
            "\n",
            "\n",
            "----Churchgate----\n",
            "                  venue  freq\n",
            "0                 Beach   0.5\n",
            "1  Other Great Outdoors   0.5\n",
            "2              Aquarium   0.0\n",
            "3         Boat or Ferry   0.0\n",
            "4        History Museum   0.0\n",
            "\n",
            "\n",
            "----Dadar----\n",
            "            venue  freq\n",
            "0           Plaza   1.0\n",
            "1        Aquarium   0.0\n",
            "2           Beach   0.0\n",
            "3   Boat or Ferry   0.0\n",
            "4  History Museum   0.0\n",
            "\n",
            "\n",
            "----Fort----\n",
            "                 venue  freq\n",
            "0                Plaza   0.4\n",
            "1       History Museum   0.2\n",
            "2  Monument / Landmark   0.2\n",
            "3          Park/Garden   0.2\n",
            "4             Aquarium   0.0\n",
            "\n",
            "\n",
            "----Juhu----\n",
            "                 venue  freq\n",
            "0                Beach   1.0\n",
            "1             Aquarium   0.0\n",
            "2        Boat or Ferry   0.0\n",
            "3       History Museum   0.0\n",
            "4  Monument / Landmark   0.0\n",
            "\n",
            "\n",
            "----Marine Lines----\n",
            "            venue  freq\n",
            "0        Aquarium   0.5\n",
            "1  Scenic Lookout   0.5\n",
            "2           Beach   0.0\n",
            "3   Boat or Ferry   0.0\n",
            "4  History Museum   0.0\n",
            "\n",
            "\n",
            "----Mazgaon----\n",
            "            venue  freq\n",
            "0     Park/Garden   1.0\n",
            "1        Aquarium   0.0\n",
            "2           Beach   0.0\n",
            "3   Boat or Ferry   0.0\n",
            "4  History Museum   0.0\n",
            "\n",
            "\n",
            "----Mira Road----\n",
            "            venue  freq\n",
            "0     Park/Garden   1.0\n",
            "1        Aquarium   0.0\n",
            "2           Beach   0.0\n",
            "3   Boat or Ferry   0.0\n",
            "4  History Museum   0.0\n",
            "\n",
            "\n",
            "----Nagpada----\n",
            "            venue  freq\n",
            "0  History Museum   0.5\n",
            "1             Zoo   0.5\n",
            "2        Aquarium   0.0\n",
            "3           Beach   0.0\n",
            "4   Boat or Ferry   0.0\n",
            "\n",
            "\n",
            "----Nariman Point----\n",
            "            venue  freq\n",
            "0  Scenic Lookout   1.0\n",
            "1        Aquarium   0.0\n",
            "2           Beach   0.0\n",
            "3   Boat or Ferry   0.0\n",
            "4  History Museum   0.0\n",
            "\n",
            "\n",
            "----Powai----\n",
            "            venue  freq\n",
            "0           Plaza   0.5\n",
            "1  Scenic Lookout   0.5\n",
            "2        Aquarium   0.0\n",
            "3           Beach   0.0\n",
            "4   Boat or Ferry   0.0\n",
            "\n",
            "\n",
            "----Walkeshwar----\n",
            "            venue  freq\n",
            "0     Park/Garden  0.67\n",
            "1  History Museum  0.33\n",
            "2        Aquarium  0.00\n",
            "3           Beach  0.00\n",
            "4   Boat or Ferry  0.00\n",
            "\n",
            "\n",
            "----Worli----\n",
            "            venue  freq\n",
            "0  Scenic Lookout   1.0\n",
            "1        Aquarium   0.0\n",
            "2           Beach   0.0\n",
            "3   Boat or Ferry   0.0\n",
            "4  History Museum   0.0\n",
            "\n",
            "\n"
          ],
          "name": "stdout"
        }
      ]
    },
    {
      "cell_type": "code",
      "metadata": {
        "id": "twVyBY4VKzag",
        "colab_type": "code",
        "colab": {}
      },
      "source": [
        "def return_most_common_venues(row, num_top_venues):\n",
        "    row_categories = row.iloc[1:]\n",
        "    row_categories_sorted = row_categories.sort_values(ascending=False)\n",
        "    \n",
        "    return row_categories_sorted.index.values[0:num_top_venues]"
      ],
      "execution_count": 0,
      "outputs": []
    },
    {
      "cell_type": "code",
      "metadata": {
        "id": "-V1B0tNKKzp5",
        "colab_type": "code",
        "outputId": "1dafaea5-2fae-4838-9a48-444049f8a293",
        "colab": {
          "base_uri": "https://localhost:8080/",
          "height": 202
        }
      },
      "source": [
        "num_top_venues = 3\n",
        "\n",
        "indicators = ['st', 'nd', 'rd']\n",
        "\n",
        "# create columns according to number of top venues\n",
        "columns = ['Neighborhood']\n",
        "for ind in np.arange(num_top_venues):\n",
        "    try:\n",
        "        columns.append('{}{} Most Common Venue'.format(ind+1, indicators\n",
        "[ind]))\n",
        "    except:\n",
        "        columns.append('{}th Most Common Venue'.format(ind+1))\n",
        "\n",
        "# create a new dataframe\n",
        "neighborhoods_venues_sorted = pd.DataFrame(columns=columns)\n",
        "neighborhoods_venues_sorted['Neighborhood'] = south_mumbai_grouped['Neighborhood']\n",
        "\n",
        "for ind in np.arange(south_mumbai_grouped.shape[0]):\n",
        "    neighborhoods_venues_sorted.iloc[ind, 1:] = return_most_common_venues(south_mumbai_grouped.iloc[ind, :], num_top_venues)\n",
        "\n",
        "neighborhoods_venues_sorted.head()\n"
      ],
      "execution_count": 0,
      "outputs": [
        {
          "output_type": "execute_result",
          "data": {
            "text/html": [
              "<div>\n",
              "<style scoped>\n",
              "    .dataframe tbody tr th:only-of-type {\n",
              "        vertical-align: middle;\n",
              "    }\n",
              "\n",
              "    .dataframe tbody tr th {\n",
              "        vertical-align: top;\n",
              "    }\n",
              "\n",
              "    .dataframe thead th {\n",
              "        text-align: right;\n",
              "    }\n",
              "</style>\n",
              "<table border=\"1\" class=\"dataframe\">\n",
              "  <thead>\n",
              "    <tr style=\"text-align: right;\">\n",
              "      <th></th>\n",
              "      <th>Neighborhood</th>\n",
              "      <th>1st Most Common Venue</th>\n",
              "      <th>2nd Most Common Venue</th>\n",
              "      <th>3rd Most Common Venue</th>\n",
              "    </tr>\n",
              "  </thead>\n",
              "  <tbody>\n",
              "    <tr>\n",
              "      <th>0</th>\n",
              "      <td>Apollo Bandar</td>\n",
              "      <td>Boat or Ferry</td>\n",
              "      <td>Sculpture Garden</td>\n",
              "      <td>Monument / Landmark</td>\n",
              "    </tr>\n",
              "    <tr>\n",
              "      <th>1</th>\n",
              "      <td>Bandra West</td>\n",
              "      <td>Park/Garden</td>\n",
              "      <td>Zoo</td>\n",
              "      <td>Sculpture Garden</td>\n",
              "    </tr>\n",
              "    <tr>\n",
              "      <th>2</th>\n",
              "      <td>Chembur</td>\n",
              "      <td>Park/Garden</td>\n",
              "      <td>Zoo</td>\n",
              "      <td>Sculpture Garden</td>\n",
              "    </tr>\n",
              "    <tr>\n",
              "      <th>3</th>\n",
              "      <td>Churchgate</td>\n",
              "      <td>Other Great Outdoors</td>\n",
              "      <td>Beach</td>\n",
              "      <td>Zoo</td>\n",
              "    </tr>\n",
              "    <tr>\n",
              "      <th>4</th>\n",
              "      <td>Dadar</td>\n",
              "      <td>Plaza</td>\n",
              "      <td>Zoo</td>\n",
              "      <td>Sculpture Garden</td>\n",
              "    </tr>\n",
              "  </tbody>\n",
              "</table>\n",
              "</div>"
            ],
            "text/plain": [
              "    Neighborhood  ... 3rd Most Common Venue\n",
              "0  Apollo Bandar  ...   Monument / Landmark\n",
              "1    Bandra West  ...      Sculpture Garden\n",
              "2        Chembur  ...      Sculpture Garden\n",
              "3     Churchgate  ...                   Zoo\n",
              "4          Dadar  ...      Sculpture Garden\n",
              "\n",
              "[5 rows x 4 columns]"
            ]
          },
          "metadata": {
            "tags": []
          },
          "execution_count": 211
        }
      ]
    },
    {
      "cell_type": "code",
      "metadata": {
        "id": "ugTUB5n1Kz5a",
        "colab_type": "code",
        "outputId": "44645a69-5389-4264-863b-1689ba2729cc",
        "colab": {
          "base_uri": "https://localhost:8080/",
          "height": 35
        }
      },
      "source": [
        "kclusters = 5\n",
        "south_mumbai_grouped_clustering = south_mumbai_grouped.drop('Neighborhood', 1)\n",
        "\n",
        "# run k-means clustering\n",
        "kmeans = KMeans(n_clusters=kclusters, random_state=0).fit(south_mumbai_grouped_clustering)\n",
        "\n",
        "# check cluster labels generated for each row in the dataframe\n",
        "#kmeans.labels_[0:10] \n",
        "kmeans.labels_[0:40] \n"
      ],
      "execution_count": 0,
      "outputs": [
        {
          "output_type": "execute_result",
          "data": {
            "text/plain": [
              "array([2, 1, 1, 3, 4, 4, 3, 0, 1, 1, 2, 0, 4, 1, 0], dtype=int32)"
            ]
          },
          "metadata": {
            "tags": []
          },
          "execution_count": 212
        }
      ]
    },
    {
      "cell_type": "code",
      "metadata": {
        "id": "YEEINndnK0J0",
        "colab_type": "code",
        "outputId": "ee7f38a6-8672-4d41-f38f-2582124fc6de",
        "colab": {
          "base_uri": "https://localhost:8080/",
          "height": 331
        }
      },
      "source": [
        "neighborhoods_venues_sorted.insert(0, 'Cluster Labels', kmeans.labels_)"
      ],
      "execution_count": 0,
      "outputs": [
        {
          "output_type": "error",
          "ename": "ValueError",
          "evalue": "ignored",
          "traceback": [
            "\u001b[0;31m---------------------------------------------------------------------------\u001b[0m",
            "\u001b[0;31mValueError\u001b[0m                                Traceback (most recent call last)",
            "\u001b[0;32m<ipython-input-215-4431f5faa256>\u001b[0m in \u001b[0;36m<module>\u001b[0;34m()\u001b[0m\n\u001b[0;32m----> 1\u001b[0;31m \u001b[0mneighborhoods_venues_sorted\u001b[0m\u001b[0;34m.\u001b[0m\u001b[0minsert\u001b[0m\u001b[0;34m(\u001b[0m\u001b[0;36m0\u001b[0m\u001b[0;34m,\u001b[0m \u001b[0;34m'Cluster Labels'\u001b[0m\u001b[0;34m,\u001b[0m \u001b[0mkmeans\u001b[0m\u001b[0;34m.\u001b[0m\u001b[0mlabels_\u001b[0m\u001b[0;34m)\u001b[0m\u001b[0;34m\u001b[0m\u001b[0;34m\u001b[0m\u001b[0m\n\u001b[0m",
            "\u001b[0;32m/usr/local/lib/python3.6/dist-packages/pandas/core/frame.py\u001b[0m in \u001b[0;36minsert\u001b[0;34m(self, loc, column, value, allow_duplicates)\u001b[0m\n\u001b[1;32m   3494\u001b[0m         \u001b[0mself\u001b[0m\u001b[0;34m.\u001b[0m\u001b[0m_ensure_valid_index\u001b[0m\u001b[0;34m(\u001b[0m\u001b[0mvalue\u001b[0m\u001b[0;34m)\u001b[0m\u001b[0;34m\u001b[0m\u001b[0;34m\u001b[0m\u001b[0m\n\u001b[1;32m   3495\u001b[0m         \u001b[0mvalue\u001b[0m \u001b[0;34m=\u001b[0m \u001b[0mself\u001b[0m\u001b[0;34m.\u001b[0m\u001b[0m_sanitize_column\u001b[0m\u001b[0;34m(\u001b[0m\u001b[0mcolumn\u001b[0m\u001b[0;34m,\u001b[0m \u001b[0mvalue\u001b[0m\u001b[0;34m,\u001b[0m \u001b[0mbroadcast\u001b[0m\u001b[0;34m=\u001b[0m\u001b[0;32mFalse\u001b[0m\u001b[0;34m)\u001b[0m\u001b[0;34m\u001b[0m\u001b[0;34m\u001b[0m\u001b[0m\n\u001b[0;32m-> 3496\u001b[0;31m         \u001b[0mself\u001b[0m\u001b[0;34m.\u001b[0m\u001b[0m_data\u001b[0m\u001b[0;34m.\u001b[0m\u001b[0minsert\u001b[0m\u001b[0;34m(\u001b[0m\u001b[0mloc\u001b[0m\u001b[0;34m,\u001b[0m \u001b[0mcolumn\u001b[0m\u001b[0;34m,\u001b[0m \u001b[0mvalue\u001b[0m\u001b[0;34m,\u001b[0m \u001b[0mallow_duplicates\u001b[0m\u001b[0;34m=\u001b[0m\u001b[0mallow_duplicates\u001b[0m\u001b[0;34m)\u001b[0m\u001b[0;34m\u001b[0m\u001b[0;34m\u001b[0m\u001b[0m\n\u001b[0m\u001b[1;32m   3497\u001b[0m \u001b[0;34m\u001b[0m\u001b[0m\n\u001b[1;32m   3498\u001b[0m     \u001b[0;32mdef\u001b[0m \u001b[0massign\u001b[0m\u001b[0;34m(\u001b[0m\u001b[0mself\u001b[0m\u001b[0;34m,\u001b[0m \u001b[0;34m**\u001b[0m\u001b[0mkwargs\u001b[0m\u001b[0;34m)\u001b[0m \u001b[0;34m->\u001b[0m \u001b[0;34m\"DataFrame\"\u001b[0m\u001b[0;34m:\u001b[0m\u001b[0;34m\u001b[0m\u001b[0;34m\u001b[0m\u001b[0m\n",
            "\u001b[0;32m/usr/local/lib/python3.6/dist-packages/pandas/core/internals/managers.py\u001b[0m in \u001b[0;36minsert\u001b[0;34m(self, loc, item, value, allow_duplicates)\u001b[0m\n\u001b[1;32m   1171\u001b[0m         \u001b[0;32mif\u001b[0m \u001b[0;32mnot\u001b[0m \u001b[0mallow_duplicates\u001b[0m \u001b[0;32mand\u001b[0m \u001b[0mitem\u001b[0m \u001b[0;32min\u001b[0m \u001b[0mself\u001b[0m\u001b[0;34m.\u001b[0m\u001b[0mitems\u001b[0m\u001b[0;34m:\u001b[0m\u001b[0;34m\u001b[0m\u001b[0;34m\u001b[0m\u001b[0m\n\u001b[1;32m   1172\u001b[0m             \u001b[0;31m# Should this be a different kind of error??\u001b[0m\u001b[0;34m\u001b[0m\u001b[0;34m\u001b[0m\u001b[0;34m\u001b[0m\u001b[0m\n\u001b[0;32m-> 1173\u001b[0;31m             \u001b[0;32mraise\u001b[0m \u001b[0mValueError\u001b[0m\u001b[0;34m(\u001b[0m\u001b[0;34mf\"cannot insert {item}, already exists\"\u001b[0m\u001b[0;34m)\u001b[0m\u001b[0;34m\u001b[0m\u001b[0;34m\u001b[0m\u001b[0m\n\u001b[0m\u001b[1;32m   1174\u001b[0m \u001b[0;34m\u001b[0m\u001b[0m\n\u001b[1;32m   1175\u001b[0m         \u001b[0;32mif\u001b[0m \u001b[0;32mnot\u001b[0m \u001b[0misinstance\u001b[0m\u001b[0;34m(\u001b[0m\u001b[0mloc\u001b[0m\u001b[0;34m,\u001b[0m \u001b[0mint\u001b[0m\u001b[0;34m)\u001b[0m\u001b[0;34m:\u001b[0m\u001b[0;34m\u001b[0m\u001b[0;34m\u001b[0m\u001b[0m\n",
            "\u001b[0;31mValueError\u001b[0m: cannot insert Cluster Labels, already exists"
          ]
        }
      ]
    },
    {
      "cell_type": "code",
      "metadata": {
        "id": "s2MYOFs3K0a-",
        "colab_type": "code",
        "colab": {}
      },
      "source": [
        "south_mumbai_merged = south_mumbai_data\n",
        "\n",
        "south_mumbai_merged = pd.merge(south_mumbai_merged, neighborhoods_venues_sorted, on='Neighborhood', how='inner')\n",
        "\n",
        "south_mumbai_merged.to_csv(\"south_mumbai_merged_It2.csv\")\n",
        "\n",
        "\n"
      ],
      "execution_count": 0,
      "outputs": []
    },
    {
      "cell_type": "code",
      "metadata": {
        "id": "DVTxnLdpRyvi",
        "colab_type": "code",
        "colab": {}
      },
      "source": [
        "### Old Code :\n",
        "#south_mumbai_merged = south_mumbai_data\n",
        "### merge two dataframes\n",
        "#south_mumbai_merged = south_mumbai_merged.join(neighborhoods_venues_sorted.set_index('Neighborhood'), on='Neighborhood')\n",
        "####pd.merge(df1, df2, on='Customer_id', how='inner')\n",
        "#south_mumbai_merged.head()"
      ],
      "execution_count": 0,
      "outputs": []
    },
    {
      "cell_type": "code",
      "metadata": {
        "id": "SUhjdb_6R36b",
        "colab_type": "code",
        "colab": {}
      },
      "source": [
        ""
      ],
      "execution_count": 0,
      "outputs": []
    },
    {
      "cell_type": "code",
      "metadata": {
        "id": "idj1aRaKMKyY",
        "colab_type": "code",
        "colab": {}
      },
      "source": [
        "south_mumbai_merged.to_csv(\"south_mumbai_merged_It2.csv\")"
      ],
      "execution_count": 0,
      "outputs": []
    },
    {
      "cell_type": "code",
      "metadata": {
        "id": "Ntbku2YjLIa2",
        "colab_type": "code",
        "outputId": "ebe6f15e-3179-4236-e38e-6692530275c1",
        "colab": {
          "base_uri": "https://localhost:8080/",
          "height": 535
        }
      },
      "source": [
        "atitude = mumbai_latitude\n",
        "longitude = mumbai_longitude\n",
        "\n",
        "# create map\n",
        "map_clusters = folium.Map(location=[latitude, longitude], zoom_start=11)\n",
        "\n",
        "# set color scheme for the clusters\n",
        "x = np.arange(kclusters)\n",
        "ys = [i + x + (i*x)**2 for i in range(kclusters)]\n",
        "colors_array = cm.rainbow(np.linspace(0, 1, len(ys)))\n",
        "rainbow = [colors.rgb2hex(i) for i in colors_array]\n",
        "\n",
        "# add markers to the map\n",
        "markers_colors = []\n",
        "for lat, lon, poi, cluster in zip(south_mumbai_merged['Latitude'], south_mumbai_merged['Longitude'], south_mumbai_merged['Neighborhood'], south_mumbai_merged['Cluster Labels']):\n",
        "    label = folium.Popup(str(poi) + ' Cluster ' + str(cluster), parse_html=True)\n",
        "    folium.CircleMarker(\n",
        "        [lat, lon],\n",
        "        radius=5,\n",
        "        popup=label,\n",
        "        color=rainbow[cluster-1],\n",
        "        fill=True,\n",
        "        fill_color=rainbow[cluster-1],\n",
        "        fill_opacity=0.7).add_to(map_clusters)\n",
        "       \n",
        "map_clusters\n"
      ],
      "execution_count": 0,
      "outputs": [
        {
          "output_type": "execute_result",
          "data": {
            "text/html": [
              "<div style=\"width:100%;\"><div style=\"position:relative;width:100%;height:0;padding-bottom:60%;\"><iframe src=\"about:blank\" style=\"position:absolute;width:100%;height:100%;left:0;top:0;border:none !important;\" data-html=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 onload=\"this.contentDocument.open();this.contentDocument.write(atob(this.getAttribute('data-html')));this.contentDocument.close();\" allowfullscreen webkitallowfullscreen mozallowfullscreen></iframe></div></div>"
            ],
            "text/plain": [
              "<folium.folium.Map at 0x7f8e2c4b5b70>"
            ]
          },
          "metadata": {
            "tags": []
          },
          "execution_count": 220
        }
      ]
    },
    {
      "cell_type": "code",
      "metadata": {
        "id": "XHoqnpdsLIub",
        "colab_type": "code",
        "colab": {}
      },
      "source": [
        ""
      ],
      "execution_count": 0,
      "outputs": []
    }
  ]
}