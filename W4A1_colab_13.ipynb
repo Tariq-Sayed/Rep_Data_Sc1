{
  "nbformat": 4,
  "nbformat_minor": 0,
  "metadata": {
    "colab": {
      "name": "W4A1_colab_13.ipynb",
      "provenance": [],
      "collapsed_sections": [
        "Xacwv4rJtol2",
        "nurDxXQtuuzF"
      ],
      "toc_visible": true
    },
    "kernelspec": {
      "name": "python3",
      "display_name": "Python 3"
    }
  },
  "cells": [
    {
      "cell_type": "markdown",
      "metadata": {
        "id": "SNQ9Ltzz1Q4I",
        "colab_type": "text"
      },
      "source": [
        "# **Cluster South Mumbai**"
      ]
    },
    {
      "cell_type": "markdown",
      "metadata": {
        "id": "73fL1YhWsM2b",
        "colab_type": "text"
      },
      "source": [
        "# **Version 10** "
      ]
    },
    {
      "cell_type": "markdown",
      "metadata": {
        "id": "-kbgiTB5z8SX",
        "colab_type": "text"
      },
      "source": [
        "# **Get required Libraries**"
      ]
    },
    {
      "cell_type": "code",
      "metadata": {
        "id": "15wlZcr5ztuH",
        "colab_type": "code",
        "outputId": "e040b3f3-0806-4974-9cdf-28146a465c75",
        "colab": {
          "base_uri": "https://localhost:8080/",
          "height": 90
        }
      },
      "source": [
        "import pandas as pd\n",
        "from pandas.io.json import json_normalize  # tranform JSON file into a pandas dataframe\n",
        "\n",
        "import numpy as np\n",
        "\n",
        "from bs4 import BeautifulSoup\n",
        "\n",
        "# Matplotlib and associated plotting modules\n",
        "import matplotlib.pyplot as plt\n",
        "import matplotlib.cm as cm\n",
        "import matplotlib.colors as colors\n",
        "\n",
        "import seaborn as sns\n",
        "from urllib.request import urlopen\n",
        "\n",
        "import requests\n",
        "# import k-means from clustering stage\n",
        "from sklearn.cluster import KMeans\n",
        "\n",
        "print(\"Library imported 61.\")\n"
      ],
      "execution_count": 2,
      "outputs": [
        {
          "output_type": "stream",
          "text": [
            "/usr/local/lib/python3.6/dist-packages/statsmodels/tools/_testing.py:19: FutureWarning: pandas.util.testing is deprecated. Use the functions in the public API at pandas.testing instead.\n",
            "  import pandas.util.testing as tm\n"
          ],
          "name": "stderr"
        },
        {
          "output_type": "stream",
          "text": [
            "Library imported 61.\n"
          ],
          "name": "stdout"
        }
      ]
    },
    {
      "cell_type": "code",
      "metadata": {
        "id": "cd80ngGa0KK1",
        "colab_type": "code",
        "outputId": "5eaeddfa-209b-4404-fc79-f42bac7e0015",
        "colab": {
          "base_uri": "https://localhost:8080/",
          "height": 35
        }
      },
      "source": [
        "import folium # map rendering library\n",
        "from geopy.geocoders import Nominatim # convert an address into latitude and longitude values\n",
        "print(\"Library imported 62.\")\n"
      ],
      "execution_count": 3,
      "outputs": [
        {
          "output_type": "stream",
          "text": [
            "Library imported 62.\n"
          ],
          "name": "stdout"
        }
      ]
    },
    {
      "cell_type": "markdown",
      "metadata": {
        "id": "Udy_-FhixgPl",
        "colab_type": "text"
      },
      "source": [
        "## **Mumbai Neighborhoods.**"
      ]
    },
    {
      "cell_type": "code",
      "metadata": {
        "id": "U2C-IcwxgSid",
        "colab_type": "code",
        "colab": {}
      },
      "source": [
        "areas_south = [\"Colaba\",\"Apollo Bandar\",\"Fort\",\"Churchgate\",\"Nariman Point\" \\\n",
        "        ,\"Marine Lines\",\"Walkeshwar\",\"Malabar Hill\",\"Kalbadevi\",\"Bhuleshwar\" \\\n",
        "        ,\"Masjid Bandar\",\"Darukhana\",\"Pydhoni\",\"Nagpada\",\"Dongri\" \\\n",
        "        ,\"Byculla\",\"Grand Road\",\"Mazgaon\",\"Mumbai Central\",\"Mahalaxmi\" \\\n",
        "        ,\"Worli\"]\n",
        "\n",
        "areas_west = [\"Dadar\",\"Bandra West\",\"Juhu\",\"Andheri\",\"Kalina\" \\\n",
        "              ,\"Santa Cruz\",\"Mahim\",\"Khar\"]\n",
        "\n",
        "areas_east = [\"Kurla\",\"Ghatkopar\",\"Chembur\",\"Govandi\",\"Mulund West\"] \n",
        "areas_north = [\"Powai\",\"Jogeshwari\",\"Malad\",\"Borivali\",\"Mira Road\"] \n",
        "\n",
        "#boroughs\n",
        "boroughs_south_mumbai = [\"South Mumbai\",\"South Mumbai\",\"South Mumbai\",\"South Mumbai\",\"South Mumbai\", \\\n",
        "             \"South Mumbai\",\"South Mumbai\",\"South Mumbai\",\"South Mumbai\",\"South Mumbai\", \\\n",
        "             \"South Mumbai\",\"South Mumbai\",\"South Mumbai\",\"South Mumbai\",\"South Mumbai\", \\\n",
        "             \"South Mumbai\",\"South Mumbai\",\"South Mumbai\",\"South Mumbai\",\"South Mumbai\", \\\n",
        "             \"South Mumbai\"]\n",
        "\n",
        "boroughs_west_mumbai = [\"West Mumbai\",\"West Mumbai\",\"West Mumbai\",\"West Mumbai\",\"West Mumbai\" \\\n",
        "             ,\"West Mumbai\",\"West Mumbai\",\"West Mumbai\"]\n",
        "\n",
        "boroughs_east_mumbai = [\"East Mumbai\",\"East Mumbai\",\"East Mumbai\",\"East Mumbai\",\"East Mumbai\"]\n",
        "\n",
        "boroughs_north_mumbai = [\"North Mumbai\",\"North Mumbai\",\"North Mumbai\",\"North Mumbai\",\"North Mumbai\"]"
      ],
      "execution_count": 0,
      "outputs": []
    },
    {
      "cell_type": "markdown",
      "metadata": {
        "id": "IMkv6CntzbNm",
        "colab_type": "text"
      },
      "source": [
        "#### **Note : This split was done due to limitations faced during call to API for retrieving the coordinates of all 39 neighborhoods.**"
      ]
    },
    {
      "cell_type": "code",
      "metadata": {
        "id": "MZDK5Yb8924o",
        "colab_type": "code",
        "outputId": "cc6039c1-23cc-434f-efca-b0c5d5c308ce",
        "colab": {
          "base_uri": "https://localhost:8080/",
          "height": 144
        }
      },
      "source": [
        "boroughs1 =  boroughs_south_mumbai\n",
        "boroughs2 =  boroughs_west_mumbai + boroughs_east_mumbai + boroughs_north_mumbai\n",
        "\n",
        "areas1 = areas_south\n",
        "areas2 = areas_west + areas_east + areas_north\n",
        "\n",
        "#Building full address to pass to API\n",
        "full_address1 = []\n",
        "for area in areas1:\n",
        "  full_address1.append(area + \", Mumbai\")\n",
        "\n",
        "full_address2 = []\n",
        "for area in areas2:\n",
        "  full_address2.append(area + \", Mumbai\") \n",
        "\n",
        "print(\"Lenght of areas1={} , boroughs1 = {} , full_address1 = {}\" \\\n",
        ".format(len(areas1),len(boroughs1),len(full_address1)))\n",
        "\n",
        "print(\"Lenght of areas2={} , boroughs2 = {} , full_address2 = {}\" \\\n",
        ".format(len(areas2),len(boroughs2),len(full_address2))) \n",
        "\n",
        "#Create Dictionary first\n",
        "dic_area1 = {\"Neighborhood\": areas1,\"Boroughs\": boroughs1,\"Address\":full_address1}\n",
        "dic_area2 = {\"Neighborhood\": areas2,\"Boroughs\": boroughs2,\"Address\":full_address2}\n",
        "print(\"dic_area1:\",dic_area1)\n",
        "print(\"dic_area2:\",dic_area2)\n",
        "\n",
        "#Create dataframes from dictionary\n",
        "df_area1 = pd.DataFrame.from_dict(dic_area1)\n",
        "df_area2 = pd.DataFrame.from_dict(dic_area2)\n",
        "\n",
        "print(\"df_area1:\",df_area1.shape)\n",
        "print(\"df_area2:\",df_area2.shape)\n",
        "\n"
      ],
      "execution_count": 5,
      "outputs": [
        {
          "output_type": "stream",
          "text": [
            "Lenght of areas1=21 , boroughs1 = 21 , full_address1 = 21\n",
            "Lenght of areas2=18 , boroughs2 = 18 , full_address2 = 18\n",
            "dic_area1: {'Neighborhood': ['Colaba', 'Apollo Bandar', 'Fort', 'Churchgate', 'Nariman Point', 'Marine Lines', 'Walkeshwar', 'Malabar Hill', 'Kalbadevi', 'Bhuleshwar', 'Masjid Bandar', 'Darukhana', 'Pydhoni', 'Nagpada', 'Dongri', 'Byculla', 'Grand Road', 'Mazgaon', 'Mumbai Central', 'Mahalaxmi', 'Worli'], 'Boroughs': ['South Mumbai', 'South Mumbai', 'South Mumbai', 'South Mumbai', 'South Mumbai', 'South Mumbai', 'South Mumbai', 'South Mumbai', 'South Mumbai', 'South Mumbai', 'South Mumbai', 'South Mumbai', 'South Mumbai', 'South Mumbai', 'South Mumbai', 'South Mumbai', 'South Mumbai', 'South Mumbai', 'South Mumbai', 'South Mumbai', 'South Mumbai'], 'Address': ['Colaba, Mumbai', 'Apollo Bandar, Mumbai', 'Fort, Mumbai', 'Churchgate, Mumbai', 'Nariman Point, Mumbai', 'Marine Lines, Mumbai', 'Walkeshwar, Mumbai', 'Malabar Hill, Mumbai', 'Kalbadevi, Mumbai', 'Bhuleshwar, Mumbai', 'Masjid Bandar, Mumbai', 'Darukhana, Mumbai', 'Pydhoni, Mumbai', 'Nagpada, Mumbai', 'Dongri, Mumbai', 'Byculla, Mumbai', 'Grand Road, Mumbai', 'Mazgaon, Mumbai', 'Mumbai Central, Mumbai', 'Mahalaxmi, Mumbai', 'Worli, Mumbai']}\n",
            "dic_area2: {'Neighborhood': ['Dadar', 'Bandra West', 'Juhu', 'Andheri', 'Kalina', 'Santa Cruz', 'Mahim', 'Khar', 'Kurla', 'Ghatkopar', 'Chembur', 'Govandi', 'Mulund West', 'Powai', 'Jogeshwari', 'Malad', 'Borivali', 'Mira Road'], 'Boroughs': ['West Mumbai', 'West Mumbai', 'West Mumbai', 'West Mumbai', 'West Mumbai', 'West Mumbai', 'West Mumbai', 'West Mumbai', 'East Mumbai', 'East Mumbai', 'East Mumbai', 'East Mumbai', 'East Mumbai', 'North Mumbai', 'North Mumbai', 'North Mumbai', 'North Mumbai', 'North Mumbai'], 'Address': ['Dadar, Mumbai', 'Bandra West, Mumbai', 'Juhu, Mumbai', 'Andheri, Mumbai', 'Kalina, Mumbai', 'Santa Cruz, Mumbai', 'Mahim, Mumbai', 'Khar, Mumbai', 'Kurla, Mumbai', 'Ghatkopar, Mumbai', 'Chembur, Mumbai', 'Govandi, Mumbai', 'Mulund West, Mumbai', 'Powai, Mumbai', 'Jogeshwari, Mumbai', 'Malad, Mumbai', 'Borivali, Mumbai', 'Mira Road, Mumbai']}\n",
            "df_area1: (21, 3)\n",
            "df_area2: (18, 3)\n"
          ],
          "name": "stdout"
        }
      ]
    },
    {
      "cell_type": "markdown",
      "metadata": {
        "id": "49_YKf0O0ovv",
        "colab_type": "text"
      },
      "source": [
        "### **Get coordinates of each neighborhood of Mumbai.**"
      ]
    },
    {
      "cell_type": "markdown",
      "metadata": {
        "id": "rhMC_m55SbN_",
        "colab_type": "text"
      },
      "source": [
        "##### **Let's pass South Mumbai dataframe :  df_area1**"
      ]
    },
    {
      "cell_type": "markdown",
      "metadata": {
        "id": "ob9aPeg4P0J1",
        "colab_type": "text"
      },
      "source": [
        "##### **Use geopy library to get the latitude and longitude values of Mumbai neigborhoods**\n",
        "####**In order to define an instance of the geocoder, we need to define a user_agent. We will name our agent ny_explorer, as shown below.**"
      ]
    },
    {
      "cell_type": "code",
      "metadata": {
        "id": "IYNFdGA1TQBU",
        "colab_type": "code",
        "outputId": "ab4c4caa-8e27-4c8b-beb2-f8816f702137",
        "colab": {
          "base_uri": "https://localhost:8080/",
          "height": 218
        }
      },
      "source": [
        "# South Mumbai first\n",
        "\n",
        "df2 = df_area1\n",
        "df2.head()\n",
        "\n",
        "data = []\n",
        "for  neighborhood,address,borough in zip(df2['Neighborhood'], df2['Address'],df2['Boroughs']):\n",
        "    geolocator = Nominatim(user_agent=\"ny_explorer\")\n",
        "    location = geolocator.geocode(address)\n",
        "    latitude = location.latitude\n",
        "    longitude = location.longitude\n",
        "    data.append([neighborhood,borough,latitude,longitude])\n",
        "\n",
        "col_names =  ['Neighborhood', 'Borough', 'Latitude','Longitude']\n",
        "neighborhoods = pd.DataFrame(data,columns=col_names)\n",
        "\n",
        "# Assign to neighborhoods1 : South Mumbai\n",
        "neighborhoods1 = neighborhoods\n",
        "print(\"Coordiates for {} South Mumbai neighborhoods obtained.\".format(neighborhoods1.shape[0]) )\n",
        "neighborhoods1.tail()\n"
      ],
      "execution_count": 7,
      "outputs": [
        {
          "output_type": "stream",
          "text": [
            "Coordiates for 21 South Mumbai neighborhoods obtained.\n"
          ],
          "name": "stdout"
        },
        {
          "output_type": "execute_result",
          "data": {
            "text/html": [
              "<div>\n",
              "<style scoped>\n",
              "    .dataframe tbody tr th:only-of-type {\n",
              "        vertical-align: middle;\n",
              "    }\n",
              "\n",
              "    .dataframe tbody tr th {\n",
              "        vertical-align: top;\n",
              "    }\n",
              "\n",
              "    .dataframe thead th {\n",
              "        text-align: right;\n",
              "    }\n",
              "</style>\n",
              "<table border=\"1\" class=\"dataframe\">\n",
              "  <thead>\n",
              "    <tr style=\"text-align: right;\">\n",
              "      <th></th>\n",
              "      <th>Neighborhood</th>\n",
              "      <th>Borough</th>\n",
              "      <th>Latitude</th>\n",
              "      <th>Longitude</th>\n",
              "    </tr>\n",
              "  </thead>\n",
              "  <tbody>\n",
              "    <tr>\n",
              "      <th>16</th>\n",
              "      <td>Grand Road</td>\n",
              "      <td>South Mumbai</td>\n",
              "      <td>18.938771</td>\n",
              "      <td>72.835335</td>\n",
              "    </tr>\n",
              "    <tr>\n",
              "      <th>17</th>\n",
              "      <td>Mazgaon</td>\n",
              "      <td>South Mumbai</td>\n",
              "      <td>18.968052</td>\n",
              "      <td>72.840012</td>\n",
              "    </tr>\n",
              "    <tr>\n",
              "      <th>18</th>\n",
              "      <td>Mumbai Central</td>\n",
              "      <td>South Mumbai</td>\n",
              "      <td>18.969586</td>\n",
              "      <td>72.819315</td>\n",
              "    </tr>\n",
              "    <tr>\n",
              "      <th>19</th>\n",
              "      <td>Mahalaxmi</td>\n",
              "      <td>South Mumbai</td>\n",
              "      <td>18.982568</td>\n",
              "      <td>72.824160</td>\n",
              "    </tr>\n",
              "    <tr>\n",
              "      <th>20</th>\n",
              "      <td>Worli</td>\n",
              "      <td>South Mumbai</td>\n",
              "      <td>19.011696</td>\n",
              "      <td>72.818070</td>\n",
              "    </tr>\n",
              "  </tbody>\n",
              "</table>\n",
              "</div>"
            ],
            "text/plain": [
              "      Neighborhood       Borough   Latitude  Longitude\n",
              "16      Grand Road  South Mumbai  18.938771  72.835335\n",
              "17         Mazgaon  South Mumbai  18.968052  72.840012\n",
              "18  Mumbai Central  South Mumbai  18.969586  72.819315\n",
              "19       Mahalaxmi  South Mumbai  18.982568  72.824160\n",
              "20           Worli  South Mumbai  19.011696  72.818070"
            ]
          },
          "metadata": {
            "tags": []
          },
          "execution_count": 7
        }
      ]
    },
    {
      "cell_type": "markdown",
      "metadata": {
        "id": "RfNkXb86ULkW",
        "colab_type": "text"
      },
      "source": [
        "### **Now let's pass east+west+north Mumabi : df_area2**"
      ]
    },
    {
      "cell_type": "code",
      "metadata": {
        "id": "czK5NCKvUKVB",
        "colab_type": "code",
        "outputId": "c213c9e1-66d6-487a-a355-a87946524cb5",
        "colab": {
          "base_uri": "https://localhost:8080/",
          "height": 202
        }
      },
      "source": [
        "df2 = df_area2\n",
        "df2.tail()"
      ],
      "execution_count": 0,
      "outputs": [
        {
          "output_type": "execute_result",
          "data": {
            "text/html": [
              "<div>\n",
              "<style scoped>\n",
              "    .dataframe tbody tr th:only-of-type {\n",
              "        vertical-align: middle;\n",
              "    }\n",
              "\n",
              "    .dataframe tbody tr th {\n",
              "        vertical-align: top;\n",
              "    }\n",
              "\n",
              "    .dataframe thead th {\n",
              "        text-align: right;\n",
              "    }\n",
              "</style>\n",
              "<table border=\"1\" class=\"dataframe\">\n",
              "  <thead>\n",
              "    <tr style=\"text-align: right;\">\n",
              "      <th></th>\n",
              "      <th>Neighborhood</th>\n",
              "      <th>Boroughs</th>\n",
              "      <th>Address</th>\n",
              "    </tr>\n",
              "  </thead>\n",
              "  <tbody>\n",
              "    <tr>\n",
              "      <th>13</th>\n",
              "      <td>Powai</td>\n",
              "      <td>North Mumbai</td>\n",
              "      <td>Powai, Mumbai</td>\n",
              "    </tr>\n",
              "    <tr>\n",
              "      <th>14</th>\n",
              "      <td>Jogeshwari</td>\n",
              "      <td>North Mumbai</td>\n",
              "      <td>Jogeshwari, Mumbai</td>\n",
              "    </tr>\n",
              "    <tr>\n",
              "      <th>15</th>\n",
              "      <td>Malad</td>\n",
              "      <td>North Mumbai</td>\n",
              "      <td>Malad, Mumbai</td>\n",
              "    </tr>\n",
              "    <tr>\n",
              "      <th>16</th>\n",
              "      <td>Borivali</td>\n",
              "      <td>North Mumbai</td>\n",
              "      <td>Borivali, Mumbai</td>\n",
              "    </tr>\n",
              "    <tr>\n",
              "      <th>17</th>\n",
              "      <td>Mira Road</td>\n",
              "      <td>North Mumbai</td>\n",
              "      <td>Mira Road, Mumbai</td>\n",
              "    </tr>\n",
              "  </tbody>\n",
              "</table>\n",
              "</div>"
            ],
            "text/plain": [
              "   Neighborhood      Boroughs             Address\n",
              "13        Powai  North Mumbai       Powai, Mumbai\n",
              "14   Jogeshwari  North Mumbai  Jogeshwari, Mumbai\n",
              "15        Malad  North Mumbai       Malad, Mumbai\n",
              "16     Borivali  North Mumbai    Borivali, Mumbai\n",
              "17    Mira Road  North Mumbai   Mira Road, Mumbai"
            ]
          },
          "metadata": {
            "tags": []
          },
          "execution_count": 367
        }
      ]
    },
    {
      "cell_type": "code",
      "metadata": {
        "id": "Zda79u-PUuJA",
        "colab_type": "code",
        "outputId": "17510df9-a8a9-48b7-d4f2-1d8ca822076d",
        "colab": {
          "base_uri": "https://localhost:8080/",
          "height": 1000
        }
      },
      "source": [
        "# Now second iteration for Rest of Mumbai.\n",
        "\n",
        "df2 = df_area2\n",
        "df2.tail()\n",
        "\n",
        "data = []\n",
        "for  neighborhood,address,borough in zip(df2['Neighborhood'], df2['Address'],df2['Boroughs']):\n",
        "  print(\"neighborhood:\", neighborhood)\n",
        "  print(\"address:\", address)\n",
        "  print(\"borough:\", borough)\n",
        "  geolocator = Nominatim(user_agent=\"ny_explorer\")\n",
        "  location = geolocator.geocode(address)\n",
        "  latitude = location.latitude\n",
        "  longitude = location.longitude\n",
        "  print(\"latitude:\", latitude)\n",
        "  print(\"longitude:\", longitude)\n",
        "  data.append([neighborhood,borough,latitude,longitude])\n",
        "\n",
        "col_names =  ['Neighborhood', 'Borough', 'Latitude','Longitude']\n",
        "neighborhoods = pd.DataFrame(data,columns=col_names)\n",
        "\n",
        "#Assign to neighborhoods2 : Rest of Mumbai\n",
        "neighborhoods2 = neighborhoods\n",
        "print(\"Coordiates for {} Rest of Mumbai neighborhoods obtained.\".format(neighborhoods2.shape[0]) )\n",
        "neighborhoods2.tail()"
      ],
      "execution_count": 8,
      "outputs": [
        {
          "output_type": "stream",
          "text": [
            "neighborhood: Dadar\n",
            "address: Dadar, Mumbai\n",
            "borough: West Mumbai\n",
            "latitude: 19.019282\n",
            "longitude: 72.8428757\n",
            "neighborhood: Bandra West\n",
            "address: Bandra West, Mumbai\n",
            "borough: West Mumbai\n",
            "latitude: 19.0583358\n",
            "longitude: 72.8302669\n",
            "neighborhood: Juhu\n",
            "address: Juhu, Mumbai\n",
            "borough: West Mumbai\n",
            "latitude: 19.1070215\n",
            "longitude: 72.8275275\n",
            "neighborhood: Andheri\n",
            "address: Andheri, Mumbai\n",
            "borough: West Mumbai\n",
            "latitude: 19.1196976\n",
            "longitude: 72.8464205\n",
            "neighborhood: Kalina\n",
            "address: Kalina, Mumbai\n",
            "borough: West Mumbai\n",
            "latitude: 19.079273\n",
            "longitude: 72.8612672\n",
            "neighborhood: Santa Cruz\n",
            "address: Santa Cruz, Mumbai\n",
            "borough: West Mumbai\n",
            "latitude: 19.0793694\n",
            "longitude: 72.8470855\n",
            "neighborhood: Mahim\n",
            "address: Mahim, Mumbai\n",
            "borough: West Mumbai\n",
            "latitude: 19.0423145\n",
            "longitude: 72.8398344\n",
            "neighborhood: Khar\n",
            "address: Khar, Mumbai\n",
            "borough: West Mumbai\n",
            "latitude: 19.0696584\n",
            "longitude: 72.8398944\n",
            "neighborhood: Kurla\n",
            "address: Kurla, Mumbai\n",
            "borough: East Mumbai\n",
            "latitude: 19.0652797\n",
            "longitude: 72.8793805\n",
            "neighborhood: Ghatkopar\n",
            "address: Ghatkopar, Mumbai\n",
            "borough: East Mumbai\n",
            "latitude: 19.0859539\n",
            "longitude: 72.9082381\n",
            "neighborhood: Chembur\n",
            "address: Chembur, Mumbai\n",
            "borough: East Mumbai\n",
            "latitude: 19.0612128\n",
            "longitude: 72.8975909\n",
            "neighborhood: Govandi\n",
            "address: Govandi, Mumbai\n",
            "borough: East Mumbai\n",
            "latitude: 19.0553688\n",
            "longitude: 72.9150702\n",
            "neighborhood: Mulund West\n",
            "address: Mulund West, Mumbai\n",
            "borough: East Mumbai\n",
            "latitude: 19.1719717\n",
            "longitude: 72.9511956\n",
            "neighborhood: Powai\n",
            "address: Powai, Mumbai\n",
            "borough: North Mumbai\n",
            "latitude: 19.1187195\n",
            "longitude: 72.9073476\n",
            "neighborhood: Jogeshwari\n",
            "address: Jogeshwari, Mumbai\n",
            "borough: North Mumbai\n",
            "latitude: 19.1348994\n",
            "longitude: 72.8488199\n",
            "neighborhood: Malad\n",
            "address: Malad, Mumbai\n",
            "borough: North Mumbai\n",
            "latitude: 19.1867193\n",
            "longitude: 72.8485884\n",
            "neighborhood: Borivali\n",
            "address: Borivali, Mumbai\n",
            "borough: North Mumbai\n",
            "latitude: 19.229068\n",
            "longitude: 72.8573628\n",
            "neighborhood: Mira Road\n",
            "address: Mira Road, Mumbai\n",
            "borough: North Mumbai\n",
            "latitude: 19.1878962\n",
            "longitude: 72.8365955\n",
            "Coordiates for 18 Rest of Mumbai neighborhoods obtained.\n"
          ],
          "name": "stdout"
        },
        {
          "output_type": "execute_result",
          "data": {
            "text/html": [
              "<div>\n",
              "<style scoped>\n",
              "    .dataframe tbody tr th:only-of-type {\n",
              "        vertical-align: middle;\n",
              "    }\n",
              "\n",
              "    .dataframe tbody tr th {\n",
              "        vertical-align: top;\n",
              "    }\n",
              "\n",
              "    .dataframe thead th {\n",
              "        text-align: right;\n",
              "    }\n",
              "</style>\n",
              "<table border=\"1\" class=\"dataframe\">\n",
              "  <thead>\n",
              "    <tr style=\"text-align: right;\">\n",
              "      <th></th>\n",
              "      <th>Neighborhood</th>\n",
              "      <th>Borough</th>\n",
              "      <th>Latitude</th>\n",
              "      <th>Longitude</th>\n",
              "    </tr>\n",
              "  </thead>\n",
              "  <tbody>\n",
              "    <tr>\n",
              "      <th>13</th>\n",
              "      <td>Powai</td>\n",
              "      <td>North Mumbai</td>\n",
              "      <td>19.118720</td>\n",
              "      <td>72.907348</td>\n",
              "    </tr>\n",
              "    <tr>\n",
              "      <th>14</th>\n",
              "      <td>Jogeshwari</td>\n",
              "      <td>North Mumbai</td>\n",
              "      <td>19.134899</td>\n",
              "      <td>72.848820</td>\n",
              "    </tr>\n",
              "    <tr>\n",
              "      <th>15</th>\n",
              "      <td>Malad</td>\n",
              "      <td>North Mumbai</td>\n",
              "      <td>19.186719</td>\n",
              "      <td>72.848588</td>\n",
              "    </tr>\n",
              "    <tr>\n",
              "      <th>16</th>\n",
              "      <td>Borivali</td>\n",
              "      <td>North Mumbai</td>\n",
              "      <td>19.229068</td>\n",
              "      <td>72.857363</td>\n",
              "    </tr>\n",
              "    <tr>\n",
              "      <th>17</th>\n",
              "      <td>Mira Road</td>\n",
              "      <td>North Mumbai</td>\n",
              "      <td>19.187896</td>\n",
              "      <td>72.836596</td>\n",
              "    </tr>\n",
              "  </tbody>\n",
              "</table>\n",
              "</div>"
            ],
            "text/plain": [
              "   Neighborhood       Borough   Latitude  Longitude\n",
              "13        Powai  North Mumbai  19.118720  72.907348\n",
              "14   Jogeshwari  North Mumbai  19.134899  72.848820\n",
              "15        Malad  North Mumbai  19.186719  72.848588\n",
              "16     Borivali  North Mumbai  19.229068  72.857363\n",
              "17    Mira Road  North Mumbai  19.187896  72.836596"
            ]
          },
          "metadata": {
            "tags": []
          },
          "execution_count": 8
        }
      ]
    },
    {
      "cell_type": "markdown",
      "metadata": {
        "id": "i8-fKBnoXSQY",
        "colab_type": "text"
      },
      "source": [
        "## **Now Let's concat two dataframes for clubbing entire Mumbai dataframe to one.** "
      ]
    },
    {
      "cell_type": "code",
      "metadata": {
        "id": "EeTm-5W1TIef",
        "colab_type": "code",
        "outputId": "60df7e00-e090-4aa9-f7ff-a8607eab9a01",
        "colab": {
          "base_uri": "https://localhost:8080/",
          "height": 218
        }
      },
      "source": [
        "neighborhoods = neighborhoods1.append(neighborhoods2,ignore_index=True)\n",
        "neighborhoods = neighborhoods.reset_index()\n",
        "print(\"Merged data frame have {} rows.\".format(neighborhoods.shape[0]) )\n",
        "neighborhoods.tail()\n"
      ],
      "execution_count": 9,
      "outputs": [
        {
          "output_type": "stream",
          "text": [
            "Merged data frame have 39 rows.\n"
          ],
          "name": "stdout"
        },
        {
          "output_type": "execute_result",
          "data": {
            "text/html": [
              "<div>\n",
              "<style scoped>\n",
              "    .dataframe tbody tr th:only-of-type {\n",
              "        vertical-align: middle;\n",
              "    }\n",
              "\n",
              "    .dataframe tbody tr th {\n",
              "        vertical-align: top;\n",
              "    }\n",
              "\n",
              "    .dataframe thead th {\n",
              "        text-align: right;\n",
              "    }\n",
              "</style>\n",
              "<table border=\"1\" class=\"dataframe\">\n",
              "  <thead>\n",
              "    <tr style=\"text-align: right;\">\n",
              "      <th></th>\n",
              "      <th>index</th>\n",
              "      <th>Neighborhood</th>\n",
              "      <th>Borough</th>\n",
              "      <th>Latitude</th>\n",
              "      <th>Longitude</th>\n",
              "    </tr>\n",
              "  </thead>\n",
              "  <tbody>\n",
              "    <tr>\n",
              "      <th>34</th>\n",
              "      <td>34</td>\n",
              "      <td>Powai</td>\n",
              "      <td>North Mumbai</td>\n",
              "      <td>19.118720</td>\n",
              "      <td>72.907348</td>\n",
              "    </tr>\n",
              "    <tr>\n",
              "      <th>35</th>\n",
              "      <td>35</td>\n",
              "      <td>Jogeshwari</td>\n",
              "      <td>North Mumbai</td>\n",
              "      <td>19.134899</td>\n",
              "      <td>72.848820</td>\n",
              "    </tr>\n",
              "    <tr>\n",
              "      <th>36</th>\n",
              "      <td>36</td>\n",
              "      <td>Malad</td>\n",
              "      <td>North Mumbai</td>\n",
              "      <td>19.186719</td>\n",
              "      <td>72.848588</td>\n",
              "    </tr>\n",
              "    <tr>\n",
              "      <th>37</th>\n",
              "      <td>37</td>\n",
              "      <td>Borivali</td>\n",
              "      <td>North Mumbai</td>\n",
              "      <td>19.229068</td>\n",
              "      <td>72.857363</td>\n",
              "    </tr>\n",
              "    <tr>\n",
              "      <th>38</th>\n",
              "      <td>38</td>\n",
              "      <td>Mira Road</td>\n",
              "      <td>North Mumbai</td>\n",
              "      <td>19.187896</td>\n",
              "      <td>72.836596</td>\n",
              "    </tr>\n",
              "  </tbody>\n",
              "</table>\n",
              "</div>"
            ],
            "text/plain": [
              "    index Neighborhood       Borough   Latitude  Longitude\n",
              "34     34        Powai  North Mumbai  19.118720  72.907348\n",
              "35     35   Jogeshwari  North Mumbai  19.134899  72.848820\n",
              "36     36        Malad  North Mumbai  19.186719  72.848588\n",
              "37     37     Borivali  North Mumbai  19.229068  72.857363\n",
              "38     38    Mira Road  North Mumbai  19.187896  72.836596"
            ]
          },
          "metadata": {
            "tags": []
          },
          "execution_count": 9
        }
      ]
    },
    {
      "cell_type": "markdown",
      "metadata": {
        "id": "NcwDbMNZQPQC",
        "colab_type": "text"
      },
      "source": [
        "#### **Let's get coordinates of Mumbai.**"
      ]
    },
    {
      "cell_type": "code",
      "metadata": {
        "id": "q2CBuyT-PbZF",
        "colab_type": "code",
        "outputId": "3223734e-be19-44e6-f6e1-b364c3474773",
        "colab": {
          "base_uri": "https://localhost:8080/",
          "height": 35
        }
      },
      "source": [
        "address = \"Mumbai\"\n",
        "geolocator = Nominatim(user_agent=\"ny_explorer\")\n",
        "location = geolocator.geocode(address)\n",
        "latitude = location.latitude\n",
        "longitude = location.longitude\n",
        "mumbai_latitude = latitude\n",
        "mumbai_longitude = longitude\n",
        "print (\"Latitude={} and Longitude={}\".format(mumbai_latitude,mumbai_longitude))"
      ],
      "execution_count": 10,
      "outputs": [
        {
          "output_type": "stream",
          "text": [
            "Latitude=18.9387711 and Longitude=72.8353355\n"
          ],
          "name": "stdout"
        }
      ]
    },
    {
      "cell_type": "markdown",
      "metadata": {
        "id": "Xl9jqwod_QDj",
        "colab_type": "text"
      },
      "source": [
        "### **Create a map of Mumbai with neighborhoods superimposed on top.**\n"
      ]
    },
    {
      "cell_type": "markdown",
      "metadata": {
        "id": "jsRsLRnsROU1",
        "colab_type": "text"
      },
      "source": [
        " Here folium library is being used to create city map.The add masrkers to show neighborhoods of Mumbai."
      ]
    },
    {
      "cell_type": "code",
      "metadata": {
        "id": "LTI6w1wP_bNa",
        "colab_type": "code",
        "outputId": "a1cd0869-5d32-4eff-d1eb-88ec068a014e",
        "colab": {
          "base_uri": "https://localhost:8080/",
          "height": 586
        }
      },
      "source": [
        "map_mumbai = folium.Map(location=[latitude, longitude], zoom_start=14)\n",
        "\n",
        "for lat, lng, borough, neighborhood in zip(neighborhoods['Latitude'], neighborhoods['Longitude'], neighborhoods['Borough'], neighborhoods['Neighborhood']):\n",
        "    label = '{}, {}'.format(neighborhood, borough)\n",
        "    label = folium.Popup(label, parse_html=True)\n",
        "    folium.CircleMarker(\n",
        "        [lat, lng],\n",
        "        radius=5,\n",
        "        popup=label,\n",
        "        color='blue',\n",
        "        fill=True,\n",
        "        fill_color='#3186cc',\n",
        "        fill_opacity=0.7,\n",
        "        parse_html=False).add_to(map_mumbai)  \n",
        "    \n",
        "map_mumbai"
      ],
      "execution_count": 11,
      "outputs": [
        {
          "output_type": "execute_result",
          "data": {
            "text/html": [
              "<div style=\"width:100%;\"><div style=\"position:relative;width:100%;height:0;padding-bottom:60%;\"><iframe src=\"about:blank\" style=\"position:absolute;width:100%;height:100%;left:0;top:0;border:none !important;\" data-html=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 onload=\"this.contentDocument.open();this.contentDocument.write(atob(this.getAttribute('data-html')));this.contentDocument.close();\" allowfullscreen webkitallowfullscreen mozallowfullscreen></iframe></div></div>"
            ],
            "text/plain": [
              "<folium.folium.Map at 0x7fa549edacc0>"
            ]
          },
          "metadata": {
            "tags": []
          },
          "execution_count": 11
        }
      ]
    },
    {
      "cell_type": "markdown",
      "metadata": {
        "id": "s7PEN5foR5Ek",
        "colab_type": "text"
      },
      "source": [
        "### **Four Square API to Get Venues** "
      ]
    },
    {
      "cell_type": "markdown",
      "metadata": {
        "id": "nqYekSv4SBDh",
        "colab_type": "text"
      },
      "source": [
        "##### Four Square API are being used here to fetch the venues around a location. It needs latitude and longitude of location and returns venues along with categories."
      ]
    },
    {
      "cell_type": "markdown",
      "metadata": {
        "id": "1VYPCSN191Le",
        "colab_type": "text"
      },
      "source": [
        "##### **Define Foursquare Credentials and Version**"
      ]
    },
    {
      "cell_type": "code",
      "metadata": {
        "id": "XZbAhW3d-Lcl",
        "colab_type": "code",
        "outputId": "af9cb130-82eb-4521-ffb0-027d524281e0",
        "colab": {
          "base_uri": "https://localhost:8080/",
          "height": 70
        }
      },
      "source": [
        "CLIENT_ID = 'AED1YJAEJO1BSJVJJ5KT2Y2BDGDVPCB21WUXERHTA4B4XXKC' # Foursquare ID\n",
        "CLIENT_SECRET = '5WF0PKUAGWG30ASKZSBV12XHC2IDIQLEHRRPU541XI2JVQCH' #  Foursquare Secret\n",
        "VERSION = '20180605' # Foursquare API version\n",
        "\n",
        "print('credentails:')\n",
        "print('CLIENT_ID: ' + CLIENT_ID)\n",
        "print('CLIENT_SECRET:' + CLIENT_SECRET)\n"
      ],
      "execution_count": 12,
      "outputs": [
        {
          "output_type": "stream",
          "text": [
            "credentails:\n",
            "CLIENT_ID: AED1YJAEJO1BSJVJJ5KT2Y2BDGDVPCB21WUXERHTA4B4XXKC\n",
            "CLIENT_SECRET:5WF0PKUAGWG30ASKZSBV12XHC2IDIQLEHRRPU541XI2JVQCH\n"
          ],
          "name": "stdout"
        }
      ]
    },
    {
      "cell_type": "markdown",
      "metadata": {
        "id": "I-8pmMbD_HQn",
        "colab_type": "text"
      },
      "source": [
        "#### **Let's create a function to get nearby venues of each neighborhoods in Mumbai.**"
      ]
    },
    {
      "cell_type": "markdown",
      "metadata": {
        "id": "ICSs_LleoDyy",
        "colab_type": "text"
      },
      "source": [
        "##### Tried to keep an optimum value of radius. With more radius it fetches more vanues but chances of overlapping of neighborhood increases as well."
      ]
    },
    {
      "cell_type": "code",
      "metadata": {
        "id": "geJW0jks_NWX",
        "colab_type": "code",
        "outputId": "47a8f713-73c4-4b17-96eb-9a695f88e6e3",
        "colab": {
          "base_uri": "https://localhost:8080/",
          "height": 35
        }
      },
      "source": [
        "radius=650\n",
        "LIMIT = 100\n",
        "print(\"The radius is = {} and LIMIT is = {}\".format(radius,LIMIT))\n",
        "\n",
        "def getNearbyVenues(names, latitudes, longitudes, radius=650):\n",
        "    \n",
        "    venues_list=[]\n",
        "    for name, lat, lng in zip(names, latitudes, longitudes):\n",
        "        print(name)\n",
        "            \n",
        "        # create the API request URL\n",
        "        url = 'https://api.foursquare.com/v2/venues/explore?&client_id={}&client_secret={}&v={}&ll={},{}&radius={}&limit={}'.format(\n",
        "            CLIENT_ID, \n",
        "            CLIENT_SECRET, \n",
        "            VERSION, \n",
        "            lat, \n",
        "            lng, \n",
        "            radius, \n",
        "            LIMIT)\n",
        "            \n",
        "        # make the GET request\n",
        "        results = requests.get(url).json()[\"response\"]['groups'][0]['items']\n",
        "        \n",
        "        # return only relevant information for each nearby venue\n",
        "        venues_list.append([(\n",
        "            name, \n",
        "            lat, \n",
        "            lng, \n",
        "            v['venue']['name'], \n",
        "            v['venue']['location']['lat'], \n",
        "            v['venue']['location']['lng'],  \n",
        "            v['venue']['categories'][0]['name']) for v in results])\n",
        "\n",
        "    nearby_venues = pd.DataFrame([item for venue_list in venues_list for item in venue_list])\n",
        "    nearby_venues.columns = ['Neighborhood', \n",
        "                  'Neighborhood Latitude', \n",
        "                  'Neighborhood Longitude', \n",
        "                  'Venue', \n",
        "                  'Venue Latitude', \n",
        "                  'Venue Longitude', \n",
        "                  'Venue Category']\n",
        "    \n",
        "    return(nearby_venues)\n"
      ],
      "execution_count": 13,
      "outputs": [
        {
          "output_type": "stream",
          "text": [
            "The radius is = 650 and LIMIT is = 100\n"
          ],
          "name": "stdout"
        }
      ]
    },
    {
      "cell_type": "markdown",
      "metadata": {
        "id": "9j-8XOPh_91T",
        "colab_type": "text"
      },
      "source": [
        "##### **Running the above function on each neighborhood and create a new dataframe.**"
      ]
    },
    {
      "cell_type": "code",
      "metadata": {
        "id": "pj3YIcL___3r",
        "colab_type": "code",
        "outputId": "4b5606e8-9486-4f8c-c103-bd360e466c1c",
        "colab": {
          "base_uri": "https://localhost:8080/",
          "height": 870
        }
      },
      "source": [
        "south_mumbai_data = neighborhoods\n",
        "south_mumbai_venues = getNearbyVenues(names=south_mumbai_data['Neighborhood'],\n",
        "                                   latitudes=south_mumbai_data['Latitude'],\n",
        "                                   longitudes=south_mumbai_data['Longitude']\n",
        "                                   \n",
        "                                  )\n",
        "print(\"dtypes:\",south_mumbai_venues.dtypes)\n",
        "print(\"Total venues retrieved:\",south_mumbai_venues.shape[0])\n"
      ],
      "execution_count": 14,
      "outputs": [
        {
          "output_type": "stream",
          "text": [
            "Colaba\n",
            "Apollo Bandar\n",
            "Fort\n",
            "Churchgate\n",
            "Nariman Point\n",
            "Marine Lines\n",
            "Walkeshwar\n",
            "Malabar Hill\n",
            "Kalbadevi\n",
            "Bhuleshwar\n",
            "Masjid Bandar\n",
            "Darukhana\n",
            "Pydhoni\n",
            "Nagpada\n",
            "Dongri\n",
            "Byculla\n",
            "Grand Road\n",
            "Mazgaon\n",
            "Mumbai Central\n",
            "Mahalaxmi\n",
            "Worli\n",
            "Dadar\n",
            "Bandra West\n",
            "Juhu\n",
            "Andheri\n",
            "Kalina\n",
            "Santa Cruz\n",
            "Mahim\n",
            "Khar\n",
            "Kurla\n",
            "Ghatkopar\n",
            "Chembur\n",
            "Govandi\n",
            "Mulund West\n",
            "Powai\n",
            "Jogeshwari\n",
            "Malad\n",
            "Borivali\n",
            "Mira Road\n",
            "dtypes: Neighborhood               object\n",
            "Neighborhood Latitude     float64\n",
            "Neighborhood Longitude    float64\n",
            "Venue                      object\n",
            "Venue Latitude            float64\n",
            "Venue Longitude           float64\n",
            "Venue Category             object\n",
            "dtype: object\n",
            "Total venues retrieved: 1118\n"
          ],
          "name": "stdout"
        }
      ]
    },
    {
      "cell_type": "markdown",
      "metadata": {
        "id": "1zlhJbunTgvk",
        "colab_type": "text"
      },
      "source": [
        "#### **Understand the venue categories well.**"
      ]
    },
    {
      "cell_type": "code",
      "metadata": {
        "id": "o7_0ntlsqr4M",
        "colab_type": "code",
        "outputId": "bb4ab4e3-881b-4af2-8b95-2091f632db5b",
        "colab": {
          "base_uri": "https://localhost:8080/",
          "height": 145
        }
      },
      "source": [
        "south_mumbai_venues.head(2)"
      ],
      "execution_count": 0,
      "outputs": [
        {
          "output_type": "execute_result",
          "data": {
            "text/html": [
              "<div>\n",
              "<style scoped>\n",
              "    .dataframe tbody tr th:only-of-type {\n",
              "        vertical-align: middle;\n",
              "    }\n",
              "\n",
              "    .dataframe tbody tr th {\n",
              "        vertical-align: top;\n",
              "    }\n",
              "\n",
              "    .dataframe thead th {\n",
              "        text-align: right;\n",
              "    }\n",
              "</style>\n",
              "<table border=\"1\" class=\"dataframe\">\n",
              "  <thead>\n",
              "    <tr style=\"text-align: right;\">\n",
              "      <th></th>\n",
              "      <th>Neighborhood</th>\n",
              "      <th>Neighborhood Latitude</th>\n",
              "      <th>Neighborhood Longitude</th>\n",
              "      <th>Venue</th>\n",
              "      <th>Venue Latitude</th>\n",
              "      <th>Venue Longitude</th>\n",
              "      <th>Venue Category</th>\n",
              "    </tr>\n",
              "  </thead>\n",
              "  <tbody>\n",
              "    <tr>\n",
              "      <th>0</th>\n",
              "      <td>Colaba</td>\n",
              "      <td>18.915091</td>\n",
              "      <td>72.825969</td>\n",
              "      <td>Charagh Din</td>\n",
              "      <td>18.915254</td>\n",
              "      <td>72.824151</td>\n",
              "      <td>Men's Store</td>\n",
              "    </tr>\n",
              "    <tr>\n",
              "      <th>1</th>\n",
              "      <td>Colaba</td>\n",
              "      <td>18.915091</td>\n",
              "      <td>72.825969</td>\n",
              "      <td>IMBISS Meating Joint</td>\n",
              "      <td>18.917157</td>\n",
              "      <td>72.827018</td>\n",
              "      <td>German Restaurant</td>\n",
              "    </tr>\n",
              "  </tbody>\n",
              "</table>\n",
              "</div>"
            ],
            "text/plain": [
              "  Neighborhood  Neighborhood Latitude  ...  Venue Longitude     Venue Category\n",
              "0       Colaba              18.915091  ...        72.824151        Men's Store\n",
              "1       Colaba              18.915091  ...        72.827018  German Restaurant\n",
              "\n",
              "[2 rows x 7 columns]"
            ]
          },
          "metadata": {
            "tags": []
          },
          "execution_count": 376
        }
      ]
    },
    {
      "cell_type": "code",
      "metadata": {
        "id": "yt5TZEGv5IOW",
        "colab_type": "code",
        "colab": {}
      },
      "source": [
        "# backup\n",
        "south_mumbai_venues_unclean = south_mumbai_venues\n",
        "# save as csv file\n",
        "south_mumbai_venues_unclean = south_mumbai_venues_unclean.to_csv(\"south_mumbai_venues_unclean\")"
      ],
      "execution_count": 0,
      "outputs": []
    },
    {
      "cell_type": "code",
      "metadata": {
        "id": "NLHnpkhO5gGZ",
        "colab_type": "code",
        "outputId": "473344af-cc7f-46c4-d401-a8127170f32a",
        "colab": {
          "base_uri": "https://localhost:8080/",
          "height": 112
        }
      },
      "source": [
        "# merge with master table\n",
        "\n",
        "south_mumbai_venues_merge_1 = pd.merge(south_mumbai_venues,neighborhoods,on=\"Neighborhood\", how=\"inner\")\n",
        "south_mumbai_venues_merge_1 = south_mumbai_venues_merge_1[[\"Neighborhood\",\"Borough\", \"Neighborhood Latitude\" \\\n",
        "                               , \"Neighborhood Longitude\", \"Venue\", \"Venue Latitude\" \\\n",
        "                               , \"Venue Longitude\", \"Venue Category\" \\\n",
        "                                ]]\n",
        "south_mumbai_venues_merge_1.head(1)\n"
      ],
      "execution_count": 16,
      "outputs": [
        {
          "output_type": "execute_result",
          "data": {
            "text/html": [
              "<div>\n",
              "<style scoped>\n",
              "    .dataframe tbody tr th:only-of-type {\n",
              "        vertical-align: middle;\n",
              "    }\n",
              "\n",
              "    .dataframe tbody tr th {\n",
              "        vertical-align: top;\n",
              "    }\n",
              "\n",
              "    .dataframe thead th {\n",
              "        text-align: right;\n",
              "    }\n",
              "</style>\n",
              "<table border=\"1\" class=\"dataframe\">\n",
              "  <thead>\n",
              "    <tr style=\"text-align: right;\">\n",
              "      <th></th>\n",
              "      <th>Neighborhood</th>\n",
              "      <th>Borough</th>\n",
              "      <th>Neighborhood Latitude</th>\n",
              "      <th>Neighborhood Longitude</th>\n",
              "      <th>Venue</th>\n",
              "      <th>Venue Latitude</th>\n",
              "      <th>Venue Longitude</th>\n",
              "      <th>Venue Category</th>\n",
              "    </tr>\n",
              "  </thead>\n",
              "  <tbody>\n",
              "    <tr>\n",
              "      <th>0</th>\n",
              "      <td>Colaba</td>\n",
              "      <td>South Mumbai</td>\n",
              "      <td>18.915091</td>\n",
              "      <td>72.825969</td>\n",
              "      <td>Charagh Din</td>\n",
              "      <td>18.915254</td>\n",
              "      <td>72.824151</td>\n",
              "      <td>Men's Store</td>\n",
              "    </tr>\n",
              "  </tbody>\n",
              "</table>\n",
              "</div>"
            ],
            "text/plain": [
              "  Neighborhood       Borough  ...  Venue Longitude  Venue Category\n",
              "0       Colaba  South Mumbai  ...        72.824151     Men's Store\n",
              "\n",
              "[1 rows x 8 columns]"
            ]
          },
          "metadata": {
            "tags": []
          },
          "execution_count": 16
        }
      ]
    },
    {
      "cell_type": "markdown",
      "metadata": {
        "id": "Xh3mDO9eT8kv",
        "colab_type": "text"
      },
      "source": [
        "# **Data Cleansing** "
      ]
    },
    {
      "cell_type": "markdown",
      "metadata": {
        "id": "8d3I4KI6UFty",
        "colab_type": "text"
      },
      "source": [
        "##### Identify the issues with data and rectify these errors like duplicate data etc. in order to make data fit for accurate analysis."
      ]
    },
    {
      "cell_type": "markdown",
      "metadata": {
        "id": "_yeeMPb6yxNn",
        "colab_type": "text"
      },
      "source": [
        "#### **Drop Duplicates Venues**"
      ]
    },
    {
      "cell_type": "markdown",
      "metadata": {
        "id": "m6pyaTVn13cK",
        "colab_type": "text"
      },
      "source": [
        "##### South Mumbai is a narrow strip, so chances of overlap are possible. Therefore, duplicates venues needs to be discarded."
      ]
    },
    {
      "cell_type": "code",
      "metadata": {
        "id": "dKdHiMSaqXth",
        "colab_type": "code",
        "outputId": "88c87fd2-4fd5-4d20-a8f4-28f00b24c6cf",
        "colab": {
          "base_uri": "https://localhost:8080/",
          "height": 52
        }
      },
      "source": [
        "print(\"rows before dropping duplicates={}\".format(south_mumbai_venues.shape[0]))\n",
        "south_mumbai_venues = south_mumbai_venues.drop_duplicates(subset=['Venue','Venue Latitude', 'Venue Longitude'])\n",
        "print(\"rows after dropping duplicates={}\".format(south_mumbai_venues.shape[0]))\n"
      ],
      "execution_count": 17,
      "outputs": [
        {
          "output_type": "stream",
          "text": [
            "rows before dropping duplicates=1118\n",
            "rows after dropping duplicates=1003\n"
          ],
          "name": "stdout"
        }
      ]
    },
    {
      "cell_type": "markdown",
      "metadata": {
        "id": "4pCnpOjyQBFq",
        "colab_type": "text"
      },
      "source": [
        "### **Ignore rows with Indian Restaurants**."
      ]
    },
    {
      "cell_type": "markdown",
      "metadata": {
        "id": "JoHH3eUrrVh7",
        "colab_type": "text"
      },
      "source": [
        "##### Indian restaurants are very common and in large number in entire Mumbai. Therefore, decided to get rid of Indian Restaurants by using filter."
      ]
    },
    {
      "cell_type": "code",
      "metadata": {
        "id": "XVDuSLK1QZXq",
        "colab_type": "code",
        "outputId": "ddfc36ca-4db6-41a7-85f1-a3940a4479b1",
        "colab": {
          "base_uri": "https://localhost:8080/",
          "height": 52
        }
      },
      "source": [
        "print(\"rows bef filter:\",south_mumbai_venues.shape[0])\n",
        "south_mumbai_venues = south_mumbai_venues[(south_mumbai_venues['Venue Category'] != \"Indian Restaurant\")].reset_index()\n",
        "print(\"rows aft filter:\",south_mumbai_venues.shape[0])\n",
        "\n",
        "\n"
      ],
      "execution_count": 18,
      "outputs": [
        {
          "output_type": "stream",
          "text": [
            "rows bef filter: 1003\n",
            "rows aft filter: 868\n"
          ],
          "name": "stdout"
        }
      ]
    },
    {
      "cell_type": "code",
      "metadata": {
        "id": "z8YTXyQSBO-H",
        "colab_type": "code",
        "colab": {}
      },
      "source": [
        "# backup\n",
        "south_mumbai_venues_minus_ind_rest = south_mumbai_venues"
      ],
      "execution_count": 0,
      "outputs": []
    },
    {
      "cell_type": "markdown",
      "metadata": {
        "id": "GJHLpUlkDn2p",
        "colab_type": "text"
      },
      "source": [
        "### **Group by Category**"
      ]
    },
    {
      "cell_type": "code",
      "metadata": {
        "id": "Ntq2DJ1HB6Bo",
        "colab_type": "code",
        "outputId": "e335ea54-1c78-439e-f1ee-af006feb1dde",
        "colab": {
          "base_uri": "https://localhost:8080/",
          "height": 109
        }
      },
      "source": [
        "south_mumbai_venues_grp_ven_cat_1 = south_mumbai_venues_merge_1.groupby(\"Venue Category\").count()\n",
        "south_mumbai_venues_grp_ven_cat_2 = south_mumbai_venues_grp_ven_cat_1.sort_values(\"Neighborhood\" , ascending=False)\n",
        "south_mumbai_venues_grp_ven_cat_2 = south_mumbai_venues_grp_ven_cat_2.rename({\"Neighborhood\":\"Count\"},axis=1)\n",
        "south_mumbai_venues_grp_ven_cat_2 = south_mumbai_venues_grp_ven_cat_2[[\"Count\"]]\n",
        "south_mumbai_venues_grp_ven_cat_2.head(1)\n",
        "\n",
        "#df2 = df.rename({'a': 'X', 'b': 'Y'}, axis=1) "
      ],
      "execution_count": 20,
      "outputs": [
        {
          "output_type": "execute_result",
          "data": {
            "text/html": [
              "<div>\n",
              "<style scoped>\n",
              "    .dataframe tbody tr th:only-of-type {\n",
              "        vertical-align: middle;\n",
              "    }\n",
              "\n",
              "    .dataframe tbody tr th {\n",
              "        vertical-align: top;\n",
              "    }\n",
              "\n",
              "    .dataframe thead th {\n",
              "        text-align: right;\n",
              "    }\n",
              "</style>\n",
              "<table border=\"1\" class=\"dataframe\">\n",
              "  <thead>\n",
              "    <tr style=\"text-align: right;\">\n",
              "      <th></th>\n",
              "      <th>Count</th>\n",
              "    </tr>\n",
              "    <tr>\n",
              "      <th>Venue Category</th>\n",
              "      <th></th>\n",
              "    </tr>\n",
              "  </thead>\n",
              "  <tbody>\n",
              "    <tr>\n",
              "      <th>Indian Restaurant</th>\n",
              "      <td>164</td>\n",
              "    </tr>\n",
              "  </tbody>\n",
              "</table>\n",
              "</div>"
            ],
            "text/plain": [
              "                   Count\n",
              "Venue Category          \n",
              "Indian Restaurant    164"
            ]
          },
          "metadata": {
            "tags": []
          },
          "execution_count": 20
        }
      ]
    },
    {
      "cell_type": "code",
      "metadata": {
        "id": "A3HKJuziEERj",
        "colab_type": "code",
        "outputId": "6297e86b-397b-48bc-c0aa-94ac34e18d37",
        "colab": {
          "base_uri": "https://localhost:8080/",
          "height": 382
        }
      },
      "source": [
        "south_mumbai_venues_grp_ven_cat_2.head(10)\n",
        "\n"
      ],
      "execution_count": 21,
      "outputs": [
        {
          "output_type": "execute_result",
          "data": {
            "text/html": [
              "<div>\n",
              "<style scoped>\n",
              "    .dataframe tbody tr th:only-of-type {\n",
              "        vertical-align: middle;\n",
              "    }\n",
              "\n",
              "    .dataframe tbody tr th {\n",
              "        vertical-align: top;\n",
              "    }\n",
              "\n",
              "    .dataframe thead th {\n",
              "        text-align: right;\n",
              "    }\n",
              "</style>\n",
              "<table border=\"1\" class=\"dataframe\">\n",
              "  <thead>\n",
              "    <tr style=\"text-align: right;\">\n",
              "      <th></th>\n",
              "      <th>Count</th>\n",
              "    </tr>\n",
              "    <tr>\n",
              "      <th>Venue Category</th>\n",
              "      <th></th>\n",
              "    </tr>\n",
              "  </thead>\n",
              "  <tbody>\n",
              "    <tr>\n",
              "      <th>Indian Restaurant</th>\n",
              "      <td>164</td>\n",
              "    </tr>\n",
              "    <tr>\n",
              "      <th>Café</th>\n",
              "      <td>61</td>\n",
              "    </tr>\n",
              "    <tr>\n",
              "      <th>Fast Food Restaurant</th>\n",
              "      <td>50</td>\n",
              "    </tr>\n",
              "    <tr>\n",
              "      <th>Chinese Restaurant</th>\n",
              "      <td>41</td>\n",
              "    </tr>\n",
              "    <tr>\n",
              "      <th>Coffee Shop</th>\n",
              "      <td>40</td>\n",
              "    </tr>\n",
              "    <tr>\n",
              "      <th>Bar</th>\n",
              "      <td>38</td>\n",
              "    </tr>\n",
              "    <tr>\n",
              "      <th>Restaurant</th>\n",
              "      <td>34</td>\n",
              "    </tr>\n",
              "    <tr>\n",
              "      <th>Hotel</th>\n",
              "      <td>32</td>\n",
              "    </tr>\n",
              "    <tr>\n",
              "      <th>Dessert Shop</th>\n",
              "      <td>29</td>\n",
              "    </tr>\n",
              "    <tr>\n",
              "      <th>Bakery</th>\n",
              "      <td>29</td>\n",
              "    </tr>\n",
              "  </tbody>\n",
              "</table>\n",
              "</div>"
            ],
            "text/plain": [
              "                      Count\n",
              "Venue Category             \n",
              "Indian Restaurant       164\n",
              "Café                     61\n",
              "Fast Food Restaurant     50\n",
              "Chinese Restaurant       41\n",
              "Coffee Shop              40\n",
              "Bar                      38\n",
              "Restaurant               34\n",
              "Hotel                    32\n",
              "Dessert Shop             29\n",
              "Bakery                   29"
            ]
          },
          "metadata": {
            "tags": []
          },
          "execution_count": 21
        }
      ]
    },
    {
      "cell_type": "code",
      "metadata": {
        "id": "TtoZ_3N9GFIV",
        "colab_type": "code",
        "colab": {}
      },
      "source": [
        "# save as csv\n",
        "south_mumbai_venues_grp_ven_cat_2.to_csv(\"south_mumbai_venues_grp_ven_cat_2.csv\")\n",
        "# backup\n",
        "south_mumbai_venues_grp_ven_cat_2_bkp = south_mumbai_venues_grp_ven_cat_2\n"
      ],
      "execution_count": 0,
      "outputs": []
    },
    {
      "cell_type": "markdown",
      "metadata": {
        "id": "x4vjj4TmESaI",
        "colab_type": "text"
      },
      "source": [
        "### **Group by Neighborhood**"
      ]
    },
    {
      "cell_type": "code",
      "metadata": {
        "id": "UOXYn18iJD07",
        "colab_type": "code",
        "outputId": "e797a499-b6da-42aa-a85f-a16a85d81e18",
        "colab": {
          "base_uri": "https://localhost:8080/",
          "height": 230
        }
      },
      "source": [
        "# group by neighborhoods\n",
        "south_mumbai_venues_grp_nbhood_1 = south_mumbai_venues_merge_1.groupby(\"Neighborhood\").count()\n",
        "south_mumbai_venues_grp_nbhood_1.head(1)\n",
        "south_mumbai_venues_grp_nbhood_1 = south_mumbai_venues_grp_nbhood_1.rename({\"Borough\" : \"Count\"}, axis=1)\n",
        "south_mumbai_venues_grp_nbhood_2 = south_mumbai_venues_grp_nbhood_1.sort_values(\"Count\" , ascending=False)\n",
        "south_mumbai_venues_grp_nbhood_2 = south_mumbai_venues_grp_nbhood_2[[\"Count\"]]\n",
        "south_mumbai_venues_grp_nbhood_2.head()\n"
      ],
      "execution_count": 23,
      "outputs": [
        {
          "output_type": "execute_result",
          "data": {
            "text/html": [
              "<div>\n",
              "<style scoped>\n",
              "    .dataframe tbody tr th:only-of-type {\n",
              "        vertical-align: middle;\n",
              "    }\n",
              "\n",
              "    .dataframe tbody tr th {\n",
              "        vertical-align: top;\n",
              "    }\n",
              "\n",
              "    .dataframe thead th {\n",
              "        text-align: right;\n",
              "    }\n",
              "</style>\n",
              "<table border=\"1\" class=\"dataframe\">\n",
              "  <thead>\n",
              "    <tr style=\"text-align: right;\">\n",
              "      <th></th>\n",
              "      <th>Count</th>\n",
              "    </tr>\n",
              "    <tr>\n",
              "      <th>Neighborhood</th>\n",
              "      <th></th>\n",
              "    </tr>\n",
              "  </thead>\n",
              "  <tbody>\n",
              "    <tr>\n",
              "      <th>Bandra West</th>\n",
              "      <td>100</td>\n",
              "    </tr>\n",
              "    <tr>\n",
              "      <th>Fort</th>\n",
              "      <td>79</td>\n",
              "    </tr>\n",
              "    <tr>\n",
              "      <th>Apollo Bandar</th>\n",
              "      <td>74</td>\n",
              "    </tr>\n",
              "    <tr>\n",
              "      <th>Juhu</th>\n",
              "      <td>70</td>\n",
              "    </tr>\n",
              "    <tr>\n",
              "      <th>Powai</th>\n",
              "      <td>69</td>\n",
              "    </tr>\n",
              "  </tbody>\n",
              "</table>\n",
              "</div>"
            ],
            "text/plain": [
              "               Count\n",
              "Neighborhood        \n",
              "Bandra West      100\n",
              "Fort              79\n",
              "Apollo Bandar     74\n",
              "Juhu              70\n",
              "Powai             69"
            ]
          },
          "metadata": {
            "tags": []
          },
          "execution_count": 23
        }
      ]
    },
    {
      "cell_type": "code",
      "metadata": {
        "id": "9MPh5ZLcLtKU",
        "colab_type": "code",
        "outputId": "388d7689-a6cd-4db7-f95c-3c6151c9e16a",
        "colab": {
          "base_uri": "https://localhost:8080/",
          "height": 382
        }
      },
      "source": [
        "# Display Top 10 Neighborhoods with maximum count of venues. \n",
        "south_mumbai_venues_grp_nbhood_2.head(10)"
      ],
      "execution_count": 24,
      "outputs": [
        {
          "output_type": "execute_result",
          "data": {
            "text/html": [
              "<div>\n",
              "<style scoped>\n",
              "    .dataframe tbody tr th:only-of-type {\n",
              "        vertical-align: middle;\n",
              "    }\n",
              "\n",
              "    .dataframe tbody tr th {\n",
              "        vertical-align: top;\n",
              "    }\n",
              "\n",
              "    .dataframe thead th {\n",
              "        text-align: right;\n",
              "    }\n",
              "</style>\n",
              "<table border=\"1\" class=\"dataframe\">\n",
              "  <thead>\n",
              "    <tr style=\"text-align: right;\">\n",
              "      <th></th>\n",
              "      <th>Count</th>\n",
              "    </tr>\n",
              "    <tr>\n",
              "      <th>Neighborhood</th>\n",
              "      <th></th>\n",
              "    </tr>\n",
              "  </thead>\n",
              "  <tbody>\n",
              "    <tr>\n",
              "      <th>Bandra West</th>\n",
              "      <td>100</td>\n",
              "    </tr>\n",
              "    <tr>\n",
              "      <th>Fort</th>\n",
              "      <td>79</td>\n",
              "    </tr>\n",
              "    <tr>\n",
              "      <th>Apollo Bandar</th>\n",
              "      <td>74</td>\n",
              "    </tr>\n",
              "    <tr>\n",
              "      <th>Juhu</th>\n",
              "      <td>70</td>\n",
              "    </tr>\n",
              "    <tr>\n",
              "      <th>Powai</th>\n",
              "      <td>69</td>\n",
              "    </tr>\n",
              "    <tr>\n",
              "      <th>Churchgate</th>\n",
              "      <td>66</td>\n",
              "    </tr>\n",
              "    <tr>\n",
              "      <th>Nariman Point</th>\n",
              "      <td>46</td>\n",
              "    </tr>\n",
              "    <tr>\n",
              "      <th>Mira Road</th>\n",
              "      <td>45</td>\n",
              "    </tr>\n",
              "    <tr>\n",
              "      <th>Dadar</th>\n",
              "      <td>37</td>\n",
              "    </tr>\n",
              "    <tr>\n",
              "      <th>Colaba</th>\n",
              "      <td>35</td>\n",
              "    </tr>\n",
              "  </tbody>\n",
              "</table>\n",
              "</div>"
            ],
            "text/plain": [
              "               Count\n",
              "Neighborhood        \n",
              "Bandra West      100\n",
              "Fort              79\n",
              "Apollo Bandar     74\n",
              "Juhu              70\n",
              "Powai             69\n",
              "Churchgate        66\n",
              "Nariman Point     46\n",
              "Mira Road         45\n",
              "Dadar             37\n",
              "Colaba            35"
            ]
          },
          "metadata": {
            "tags": []
          },
          "execution_count": 24
        }
      ]
    },
    {
      "cell_type": "code",
      "metadata": {
        "id": "9Vc5z9ckMkIE",
        "colab_type": "code",
        "colab": {}
      },
      "source": [
        "# save as csv\n",
        "south_mumbai_venues_grp_nbhood_2.to_csv(\"south_mumbai_venues_grp_nbhood_2.csv\")\n",
        "south_mumbai_venues_grp_nbhood_2_bkp = south_mumbai_venues_grp_nbhood_2\n",
        " "
      ],
      "execution_count": 0,
      "outputs": []
    },
    {
      "cell_type": "code",
      "metadata": {
        "id": "QCU36NojM6-I",
        "colab_type": "code",
        "outputId": "c92853d4-6b6c-40de-b7c5-c743891ee8dd",
        "colab": {
          "base_uri": "https://localhost:8080/",
          "height": 382
        }
      },
      "source": [
        "# bottom 10 \n",
        "south_mumbai_venues_grp_nbhood_2 = south_mumbai_venues_grp_nbhood_2.sort_values(\"Count\" , ascending=True)\n",
        "south_mumbai_venues_grp_nbhood_2.head(10)"
      ],
      "execution_count": 26,
      "outputs": [
        {
          "output_type": "execute_result",
          "data": {
            "text/html": [
              "<div>\n",
              "<style scoped>\n",
              "    .dataframe tbody tr th:only-of-type {\n",
              "        vertical-align: middle;\n",
              "    }\n",
              "\n",
              "    .dataframe tbody tr th {\n",
              "        vertical-align: top;\n",
              "    }\n",
              "\n",
              "    .dataframe thead th {\n",
              "        text-align: right;\n",
              "    }\n",
              "</style>\n",
              "<table border=\"1\" class=\"dataframe\">\n",
              "  <thead>\n",
              "    <tr style=\"text-align: right;\">\n",
              "      <th></th>\n",
              "      <th>Count</th>\n",
              "    </tr>\n",
              "    <tr>\n",
              "      <th>Neighborhood</th>\n",
              "      <th></th>\n",
              "    </tr>\n",
              "  </thead>\n",
              "  <tbody>\n",
              "    <tr>\n",
              "      <th>Darukhana</th>\n",
              "      <td>2</td>\n",
              "    </tr>\n",
              "    <tr>\n",
              "      <th>Jogeshwari</th>\n",
              "      <td>6</td>\n",
              "    </tr>\n",
              "    <tr>\n",
              "      <th>Dongri</th>\n",
              "      <td>6</td>\n",
              "    </tr>\n",
              "    <tr>\n",
              "      <th>Govandi</th>\n",
              "      <td>6</td>\n",
              "    </tr>\n",
              "    <tr>\n",
              "      <th>Kurla</th>\n",
              "      <td>8</td>\n",
              "    </tr>\n",
              "    <tr>\n",
              "      <th>Kalina</th>\n",
              "      <td>9</td>\n",
              "    </tr>\n",
              "    <tr>\n",
              "      <th>Malad</th>\n",
              "      <td>9</td>\n",
              "    </tr>\n",
              "    <tr>\n",
              "      <th>Byculla</th>\n",
              "      <td>10</td>\n",
              "    </tr>\n",
              "    <tr>\n",
              "      <th>Mahim</th>\n",
              "      <td>10</td>\n",
              "    </tr>\n",
              "    <tr>\n",
              "      <th>Mahalaxmi</th>\n",
              "      <td>12</td>\n",
              "    </tr>\n",
              "  </tbody>\n",
              "</table>\n",
              "</div>"
            ],
            "text/plain": [
              "              Count\n",
              "Neighborhood       \n",
              "Darukhana         2\n",
              "Jogeshwari        6\n",
              "Dongri            6\n",
              "Govandi           6\n",
              "Kurla             8\n",
              "Kalina            9\n",
              "Malad             9\n",
              "Byculla          10\n",
              "Mahim            10\n",
              "Mahalaxmi        12"
            ]
          },
          "metadata": {
            "tags": []
          },
          "execution_count": 26
        }
      ]
    },
    {
      "cell_type": "markdown",
      "metadata": {
        "id": "-lzI_bjP0ZJU",
        "colab_type": "text"
      },
      "source": [
        "#### **Unique Categories**"
      ]
    },
    {
      "cell_type": "code",
      "metadata": {
        "id": "1E4u3xu-anuV",
        "colab_type": "code",
        "outputId": "a74ff749-baae-4b9c-fb79-2630ac9dcd40",
        "colab": {
          "base_uri": "https://localhost:8080/",
          "height": 35
        }
      },
      "source": [
        "print('There are {} uniques categories.'.format(len(south_mumbai_venues['Venue Category'].unique())))\n"
      ],
      "execution_count": 27,
      "outputs": [
        {
          "output_type": "stream",
          "text": [
            "There are 158 uniques categories.\n"
          ],
          "name": "stdout"
        }
      ]
    },
    {
      "cell_type": "markdown",
      "metadata": {
        "id": "Jm_lKssnVIZM",
        "colab_type": "text"
      },
      "source": [
        "### **Clubbing Similar Categories**"
      ]
    },
    {
      "cell_type": "markdown",
      "metadata": {
        "id": "EbCrzcxxVdCM",
        "colab_type": "text"
      },
      "source": [
        "####For example garden and parks can be clubbed together to gardens/parks etc."
      ]
    },
    {
      "cell_type": "code",
      "metadata": {
        "id": "aKaQ2SYCffb9",
        "colab_type": "code",
        "outputId": "9135b308-b7e4-46bb-aefd-b955a02cdefb",
        "colab": {
          "base_uri": "https://localhost:8080/",
          "height": 35
        }
      },
      "source": [
        "south_mumbai_venues.replace(to_replace =['Movie Theater'],value = 'Theater\\Multiplex', inplace=True)\n",
        "south_mumbai_venues.replace(to_replace =['Theater'],value = 'Theater\\Multiplex' , inplace=True)\n",
        "south_mumbai_venues.replace(to_replace =['Multiplex'],value = 'Theater\\Multiplex' , inplace=True)\n",
        "south_mumbai_venues.replace(to_replace =['Amphitheater'],value = 'Theater\\Multiplex' , inplace=True)\n",
        "south_mumbai_venues.replace(to_replace =['Indie Movie Theater'],value = 'Theater\\Multiplex' , inplace=True)\n",
        "south_mumbai_venues.replace(to_replace =['Performing Arts Venue'],value = 'Theater\\Multiplex' , inplace=True)\n",
        "\n",
        "south_mumbai_venues.replace(to_replace =['Garden','Park'],value = 'Park/Garden', inplace=True)\n",
        "\n",
        "south_mumbai_venues.replace(to_replace =['Pub'],value = 'Bar/Pub', inplace=True )\n",
        "south_mumbai_venues.replace(to_replace =['Gastropub'],value = 'Bar/Pub', inplace=True)\n",
        "south_mumbai_venues.replace(to_replace =['Bar'],value = 'Bar/Pub', inplace=True)\n",
        "south_mumbai_venues.replace(to_replace =['Cocktail Bar'],value = 'Bar/Pub', inplace=True)\n",
        "south_mumbai_venues.replace(to_replace =['Wine Bar'],value = 'Bar/Pub', inplace=True)\n",
        "south_mumbai_venues.replace(to_replace =['Hotel Bar'],value = 'Bar/Pub', inplace=True)\n",
        "south_mumbai_venues.replace(to_replace =['Sports Bar'],value = 'Bar/Pub', inplace=True)\n",
        "\n",
        "south_mumbai_venues.replace(to_replace =['Train Station' \\\n",
        "                                         ,'Bus Station'\n",
        "                                         ,'Metro Station'\n",
        "                                         ,'Train'\n",
        "],value = 'Train/Metro/Bus', inplace=True )\n",
        "\n",
        "south_mumbai_venues.replace(to_replace =['Spa' \\\n",
        "                                         ,'Gym'\n",
        "                                         ,'Gym / Fitness Center'\n",
        "                                         ,'Yoga Studio'\n",
        "                                         ,'Track'\n",
        "                                         ,'Massage Studio'\n",
        "],value = 'Fitness/Gym/Spa', inplace=True )\n",
        "\n",
        "south_mumbai_venues.replace(to_replace =['Tennis Court' \\\n",
        "                                         ,'Athletics & Sports'\n",
        "                                         ,'Cricket Ground'\n",
        "                                         ,'Hockey Arena'\n",
        "                                         ,'Field'\n",
        "                                         ,'Stadium'\n",
        "                                         ,'Soccer Field'\n",
        "                                         ,'Playground'\n",
        "],value = 'Sports', inplace=True )\n",
        "\n",
        "south_mumbai_venues.shape"
      ],
      "execution_count": 28,
      "outputs": [
        {
          "output_type": "execute_result",
          "data": {
            "text/plain": [
              "(868, 8)"
            ]
          },
          "metadata": {
            "tags": []
          },
          "execution_count": 28
        }
      ]
    },
    {
      "cell_type": "markdown",
      "metadata": {
        "id": "4iXRGx_5DmP7",
        "colab_type": "text"
      },
      "source": [
        "### **Check neighborhoods with very less venues**"
      ]
    },
    {
      "cell_type": "code",
      "metadata": {
        "id": "iC-S_P5sDvw7",
        "colab_type": "code",
        "outputId": "7db54a60-f310-4245-926f-b2bba4f3c294",
        "colab": {
          "base_uri": "https://localhost:8080/",
          "height": 139
        }
      },
      "source": [
        "south_mumbai_venues_group_nbhood = south_mumbai_venues\n",
        "south_mumbai_venues_group_nbhood = south_mumbai_venues_group_nbhood.groupby(['Neighborhood']) \\\n",
        "                             .count() \n",
        "south_mumbai_venues_group_nbhood = south_mumbai_venues_group_nbhood.sort_values(['index'], ascending=True)\n",
        "south_mumbai_venues_group_nbhood.head(2)"
      ],
      "execution_count": 31,
      "outputs": [
        {
          "output_type": "execute_result",
          "data": {
            "text/html": [
              "<div>\n",
              "<style scoped>\n",
              "    .dataframe tbody tr th:only-of-type {\n",
              "        vertical-align: middle;\n",
              "    }\n",
              "\n",
              "    .dataframe tbody tr th {\n",
              "        vertical-align: top;\n",
              "    }\n",
              "\n",
              "    .dataframe thead th {\n",
              "        text-align: right;\n",
              "    }\n",
              "</style>\n",
              "<table border=\"1\" class=\"dataframe\">\n",
              "  <thead>\n",
              "    <tr style=\"text-align: right;\">\n",
              "      <th></th>\n",
              "      <th>index</th>\n",
              "      <th>Neighborhood Latitude</th>\n",
              "      <th>Neighborhood Longitude</th>\n",
              "      <th>Venue</th>\n",
              "      <th>Venue Latitude</th>\n",
              "      <th>Venue Longitude</th>\n",
              "      <th>Venue Category</th>\n",
              "    </tr>\n",
              "    <tr>\n",
              "      <th>Neighborhood</th>\n",
              "      <th></th>\n",
              "      <th></th>\n",
              "      <th></th>\n",
              "      <th></th>\n",
              "      <th></th>\n",
              "      <th></th>\n",
              "      <th></th>\n",
              "    </tr>\n",
              "  </thead>\n",
              "  <tbody>\n",
              "    <tr>\n",
              "      <th>Darukhana</th>\n",
              "      <td>2</td>\n",
              "      <td>2</td>\n",
              "      <td>2</td>\n",
              "      <td>2</td>\n",
              "      <td>2</td>\n",
              "      <td>2</td>\n",
              "      <td>2</td>\n",
              "    </tr>\n",
              "    <tr>\n",
              "      <th>Dongri</th>\n",
              "      <td>2</td>\n",
              "      <td>2</td>\n",
              "      <td>2</td>\n",
              "      <td>2</td>\n",
              "      <td>2</td>\n",
              "      <td>2</td>\n",
              "      <td>2</td>\n",
              "    </tr>\n",
              "  </tbody>\n",
              "</table>\n",
              "</div>"
            ],
            "text/plain": [
              "              index  Neighborhood Latitude  ...  Venue Longitude  Venue Category\n",
              "Neighborhood                                ...                                 \n",
              "Darukhana         2                      2  ...                2               2\n",
              "Dongri            2                      2  ...                2               2\n",
              "\n",
              "[2 rows x 7 columns]"
            ]
          },
          "metadata": {
            "tags": []
          },
          "execution_count": 31
        }
      ]
    },
    {
      "cell_type": "markdown",
      "metadata": {
        "id": "aHHihe0V-nXz",
        "colab_type": "text"
      },
      "source": [
        "### **Drop Neigborhoods**"
      ]
    },
    {
      "cell_type": "markdown",
      "metadata": {
        "id": "0GPR5O9fXTDL",
        "colab_type": "text"
      },
      "source": [
        "### **Darukhana**"
      ]
    },
    {
      "cell_type": "markdown",
      "metadata": {
        "id": "nYoGTbRU-29U",
        "colab_type": "text"
      },
      "source": [
        "##### Drop some neiborhoods with very less venues."
      ]
    },
    {
      "cell_type": "code",
      "metadata": {
        "id": "zcXBfD-yCQbf",
        "colab_type": "code",
        "outputId": "057a90f3-59ab-4314-ee54-4eeacfd4d958",
        "colab": {
          "base_uri": "https://localhost:8080/",
          "height": 88
        }
      },
      "source": [
        "print(\"before filter:\",south_mumbai_venues.shape)\n",
        "south_mumbai_venues = south_mumbai_venues[south_mumbai_venues.Neighborhood != 'Darukhana']\n",
        "print(\"after filter:\",south_mumbai_venues.shape)\n",
        "\n",
        "print(\"bef:\",south_mumbai_data.shape)\n",
        "south_mumbai_data = south_mumbai_data[south_mumbai_data.Neighborhood != 'Darukhana']\n",
        "print(\"aft:\",south_mumbai_data.shape)\n"
      ],
      "execution_count": 32,
      "outputs": [
        {
          "output_type": "stream",
          "text": [
            "before filter: (868, 8)\n",
            "after filter: (866, 8)\n",
            "bef: (39, 5)\n",
            "aft: (38, 5)\n"
          ],
          "name": "stdout"
        }
      ]
    },
    {
      "cell_type": "markdown",
      "metadata": {
        "id": "uHci_zmk-MJ5",
        "colab_type": "text"
      },
      "source": [
        "### **Merge Neighborhoods**"
      ]
    },
    {
      "cell_type": "markdown",
      "metadata": {
        "id": "PrEEf70d-U02",
        "colab_type": "text"
      },
      "source": [
        "##### Merge Neigborhoods with very less venues to nearby venues. "
      ]
    },
    {
      "cell_type": "code",
      "metadata": {
        "id": "gsLTjv-oFdKk",
        "colab_type": "code",
        "outputId": "2f91bb7e-8701-4250-e017-8755758251fb",
        "colab": {
          "base_uri": "https://localhost:8080/",
          "height": 35
        }
      },
      "source": [
        "# Get coordinates of Nagpada\n",
        "\n",
        "Nagpada = south_mumbai_venues\n",
        "Nagpada = Nagpada[Nagpada.Neighborhood == 'Nagpada' ].head(1)\n",
        "nagpada_latitude = Nagpada['Neighborhood Latitude'] \n",
        "nagpada_latitude = nagpada_latitude.iloc[0]\n",
        "nagpada_longitude = Nagpada['Neighborhood Longitude'] \n",
        "nagpada_longitude = nagpada_longitude.iloc[0]\n",
        "print(\"Nagpada latitude={} and longitude={}\".format(nagpada_latitude,nagpada_longitude))\n"
      ],
      "execution_count": 40,
      "outputs": [
        {
          "output_type": "stream",
          "text": [
            "Nagpada latitude=18.9681782 and longitude=72.8286009\n"
          ],
          "name": "stdout"
        }
      ]
    },
    {
      "cell_type": "markdown",
      "metadata": {
        "id": "mUzvtTwuRUFQ",
        "colab_type": "text"
      },
      "source": [
        "### **Merge Pydhoni to Nagpada**"
      ]
    },
    {
      "cell_type": "code",
      "metadata": {
        "id": "VPvspDVUQ6sN",
        "colab_type": "code",
        "outputId": "3042688a-1b64-4d4e-ef20-0a8abc834edc",
        "colab": {
          "base_uri": "https://localhost:8080/",
          "height": 179
        }
      },
      "source": [
        "south_mumbai_venues.loc[south_mumbai_venues['Neighborhood'] == 'Pydhoni', 'Neighborhood Latitude'] = nagpada_latitude\n",
        "south_mumbai_venues.loc[south_mumbai_venues['Neighborhood'] == 'Pydhoni', 'Neighborhood Longitude'] = nagpada_longitude\n",
        "south_mumbai_venues.loc[south_mumbai_venues['Neighborhood'] == 'Pydhoni', 'Neighborhood'] = 'Nagpada'\n",
        "south_mumbai_venues[south_mumbai_venues.Neighborhood == 'Pydhoni']\n",
        "south_mumbai_venues[south_mumbai_venues.Venue == 'Kanji Manji Kothari']\n",
        "#south_mumbai_venues.iloc[313]\n",
        "\n",
        "print(\"bef:\",south_mumbai_data.shape)\n",
        "south_mumbai_data = south_mumbai_data[south_mumbai_data.Neighborhood != 'Pydhoni']\n",
        "print(\"aft:\",south_mumbai_data.shape)\n"
      ],
      "execution_count": 41,
      "outputs": [
        {
          "output_type": "stream",
          "text": [
            "bef: (34, 5)\n",
            "aft: (34, 5)\n"
          ],
          "name": "stdout"
        },
        {
          "output_type": "stream",
          "text": [
            "/usr/local/lib/python3.6/dist-packages/pandas/core/indexing.py:966: SettingWithCopyWarning: \n",
            "A value is trying to be set on a copy of a slice from a DataFrame.\n",
            "Try using .loc[row_indexer,col_indexer] = value instead\n",
            "\n",
            "See the caveats in the documentation: https://pandas.pydata.org/pandas-docs/stable/user_guide/indexing.html#returning-a-view-versus-a-copy\n",
            "  self.obj[item] = s\n"
          ],
          "name": "stderr"
        }
      ]
    },
    {
      "cell_type": "markdown",
      "metadata": {
        "id": "-z-fTbRrRd1q",
        "colab_type": "text"
      },
      "source": [
        "### **Merge Dongri to Nagpada**"
      ]
    },
    {
      "cell_type": "code",
      "metadata": {
        "id": "PFwZQeePT0Tq",
        "colab_type": "code",
        "outputId": "fe385d75-7ab4-4ba6-a17c-e3a0f96a3647",
        "colab": {
          "base_uri": "https://localhost:8080/",
          "height": 179
        }
      },
      "source": [
        "#south_mumbai_venues.loc[south_mumbai_venues['Neighborhood'] == 'Dongri']\n",
        "south_mumbai_venues.loc[south_mumbai_venues['Neighborhood'] == 'Dongri', 'Neighborhood Latitude'] = nagpada_latitude\n",
        "south_mumbai_venues.loc[south_mumbai_venues['Neighborhood'] == 'Dongri', 'Neighborhood Longitude'] = nagpada_longitude\n",
        "south_mumbai_venues.loc[south_mumbai_venues['Neighborhood'] == 'Dongri', 'Neighborhood'] = 'Nagpada'\n",
        "#south_mumbai_venues[south_mumbai_venues.Neighborhood == 'Dongri']\n",
        "south_mumbai_venues.iloc[332:334]\n",
        "\n",
        "print(\"bef:\",south_mumbai_data.shape)\n",
        "south_mumbai_data = south_mumbai_data[south_mumbai_data.Neighborhood != 'Dongri']\n",
        "print(\"aft:\",south_mumbai_data.shape)"
      ],
      "execution_count": 42,
      "outputs": [
        {
          "output_type": "stream",
          "text": [
            "bef: (34, 5)\n",
            "aft: (34, 5)\n"
          ],
          "name": "stdout"
        },
        {
          "output_type": "stream",
          "text": [
            "/usr/local/lib/python3.6/dist-packages/pandas/core/indexing.py:966: SettingWithCopyWarning: \n",
            "A value is trying to be set on a copy of a slice from a DataFrame.\n",
            "Try using .loc[row_indexer,col_indexer] = value instead\n",
            "\n",
            "See the caveats in the documentation: https://pandas.pydata.org/pandas-docs/stable/user_guide/indexing.html#returning-a-view-versus-a-copy\n",
            "  self.obj[item] = s\n"
          ],
          "name": "stderr"
        }
      ]
    },
    {
      "cell_type": "code",
      "metadata": {
        "id": "SGQSbngAWgAX",
        "colab_type": "code",
        "outputId": "2151f627-44ca-4a4d-98eb-c65df35af925",
        "colab": {
          "base_uri": "https://localhost:8080/",
          "height": 206
        }
      },
      "source": [
        "south_mumbai_venues.loc[south_mumbai_venues['Neighborhood'] == 'Grand Road']\n",
        "#south_mumbai_venues.iloc[340:344]"
      ],
      "execution_count": 0,
      "outputs": [
        {
          "output_type": "execute_result",
          "data": {
            "text/html": [
              "<div>\n",
              "<style scoped>\n",
              "    .dataframe tbody tr th:only-of-type {\n",
              "        vertical-align: middle;\n",
              "    }\n",
              "\n",
              "    .dataframe tbody tr th {\n",
              "        vertical-align: top;\n",
              "    }\n",
              "\n",
              "    .dataframe thead th {\n",
              "        text-align: right;\n",
              "    }\n",
              "</style>\n",
              "<table border=\"1\" class=\"dataframe\">\n",
              "  <thead>\n",
              "    <tr style=\"text-align: right;\">\n",
              "      <th></th>\n",
              "      <th>index</th>\n",
              "      <th>Neighborhood</th>\n",
              "      <th>Neighborhood Latitude</th>\n",
              "      <th>Neighborhood Longitude</th>\n",
              "      <th>Venue</th>\n",
              "      <th>Venue Latitude</th>\n",
              "      <th>Venue Longitude</th>\n",
              "      <th>Venue Category</th>\n",
              "    </tr>\n",
              "  </thead>\n",
              "  <tbody>\n",
              "    <tr>\n",
              "      <th>341</th>\n",
              "      <td>487</td>\n",
              "      <td>Grand Road</td>\n",
              "      <td>18.938771</td>\n",
              "      <td>72.835335</td>\n",
              "      <td>Chhatrapati Shivaji Maharaj Terminus</td>\n",
              "      <td>18.940088</td>\n",
              "      <td>72.835257</td>\n",
              "      <td>Train/Metro/Bus</td>\n",
              "    </tr>\n",
              "    <tr>\n",
              "      <th>342</th>\n",
              "      <td>507</td>\n",
              "      <td>Grand Road</td>\n",
              "      <td>18.938771</td>\n",
              "      <td>72.835335</td>\n",
              "      <td>Press Club Mumbai</td>\n",
              "      <td>18.940721</td>\n",
              "      <td>72.832469</td>\n",
              "      <td>Bar/Pub</td>\n",
              "    </tr>\n",
              "    <tr>\n",
              "      <th>343</th>\n",
              "      <td>512</td>\n",
              "      <td>Grand Road</td>\n",
              "      <td>18.938771</td>\n",
              "      <td>72.835335</td>\n",
              "      <td>Model Cafe</td>\n",
              "      <td>18.936027</td>\n",
              "      <td>72.840418</td>\n",
              "      <td>Café</td>\n",
              "    </tr>\n",
              "    <tr>\n",
              "      <th>344</th>\n",
              "      <td>513</td>\n",
              "      <td>Grand Road</td>\n",
              "      <td>18.938771</td>\n",
              "      <td>72.835335</td>\n",
              "      <td>grand hotel</td>\n",
              "      <td>18.936234</td>\n",
              "      <td>72.840724</td>\n",
              "      <td>Hotel</td>\n",
              "    </tr>\n",
              "  </tbody>\n",
              "</table>\n",
              "</div>"
            ],
            "text/plain": [
              "     index Neighborhood  ...  Venue Longitude   Venue Category\n",
              "341    487   Grand Road  ...        72.835257  Train/Metro/Bus\n",
              "342    507   Grand Road  ...        72.832469          Bar/Pub\n",
              "343    512   Grand Road  ...        72.840418             Café\n",
              "344    513   Grand Road  ...        72.840724            Hotel\n",
              "\n",
              "[4 rows x 8 columns]"
            ]
          },
          "metadata": {
            "tags": []
          },
          "execution_count": 398
        }
      ]
    },
    {
      "cell_type": "code",
      "metadata": {
        "id": "QFELd6PXWTgr",
        "colab_type": "code",
        "outputId": "09faa907-6094-4559-e010-4b1a3fdfabb5",
        "colab": {
          "base_uri": "https://localhost:8080/",
          "height": 179
        }
      },
      "source": [
        "#south_mumbai_venues.loc[south_mumbai_venues['Neighborhood'] == 'Grand Road']\n",
        "south_mumbai_venues.loc[south_mumbai_venues['Neighborhood'] == 'Grand Road', 'Neighborhood Latitude'] = nagpada_latitude\n",
        "south_mumbai_venues.loc[south_mumbai_venues['Neighborhood'] == 'Grand Road', 'Neighborhood Longitude'] = nagpada_longitude\n",
        "south_mumbai_venues.loc[south_mumbai_venues['Neighborhood'] == 'Grand Road', 'Neighborhood'] = 'Nagpada'\n",
        "#south_mumbai_venues[south_mumbai_venues.Neighborhood == 'Grand Road']\n",
        "south_mumbai_venues.iloc[340:344]\n",
        "\n",
        "print(\"bef:\",south_mumbai_data.shape)\n",
        "south_mumbai_data = south_mumbai_data[south_mumbai_data.Neighborhood != 'Grand Road']\n",
        "print(\"aft:\",south_mumbai_data.shape)"
      ],
      "execution_count": 43,
      "outputs": [
        {
          "output_type": "stream",
          "text": [
            "bef: (34, 5)\n",
            "aft: (34, 5)\n"
          ],
          "name": "stdout"
        },
        {
          "output_type": "stream",
          "text": [
            "/usr/local/lib/python3.6/dist-packages/pandas/core/indexing.py:966: SettingWithCopyWarning: \n",
            "A value is trying to be set on a copy of a slice from a DataFrame.\n",
            "Try using .loc[row_indexer,col_indexer] = value instead\n",
            "\n",
            "See the caveats in the documentation: https://pandas.pydata.org/pandas-docs/stable/user_guide/indexing.html#returning-a-view-versus-a-copy\n",
            "  self.obj[item] = s\n"
          ],
          "name": "stderr"
        }
      ]
    },
    {
      "cell_type": "code",
      "metadata": {
        "id": "hsqmxXGhXanm",
        "colab_type": "code",
        "outputId": "da639b6e-1927-4465-9cd0-e98889dbdde6",
        "colab": {
          "base_uri": "https://localhost:8080/",
          "height": 302
        }
      },
      "source": [
        "south_mumbai_venues.loc[south_mumbai_venues['Neighborhood'] == 'Byculla']\n",
        "south_mumbai_venues.iloc[334:340]"
      ],
      "execution_count": 0,
      "outputs": [
        {
          "output_type": "execute_result",
          "data": {
            "text/html": [
              "<div>\n",
              "<style scoped>\n",
              "    .dataframe tbody tr th:only-of-type {\n",
              "        vertical-align: middle;\n",
              "    }\n",
              "\n",
              "    .dataframe tbody tr th {\n",
              "        vertical-align: top;\n",
              "    }\n",
              "\n",
              "    .dataframe thead th {\n",
              "        text-align: right;\n",
              "    }\n",
              "</style>\n",
              "<table border=\"1\" class=\"dataframe\">\n",
              "  <thead>\n",
              "    <tr style=\"text-align: right;\">\n",
              "      <th></th>\n",
              "      <th>index</th>\n",
              "      <th>Neighborhood</th>\n",
              "      <th>Neighborhood Latitude</th>\n",
              "      <th>Neighborhood Longitude</th>\n",
              "      <th>Venue</th>\n",
              "      <th>Venue Latitude</th>\n",
              "      <th>Venue Longitude</th>\n",
              "      <th>Venue Category</th>\n",
              "    </tr>\n",
              "  </thead>\n",
              "  <tbody>\n",
              "    <tr>\n",
              "      <th>335</th>\n",
              "      <td>474</td>\n",
              "      <td>Byculla</td>\n",
              "      <td>18.976622</td>\n",
              "      <td>72.832794</td>\n",
              "      <td>Bhau Daji Lad Museum</td>\n",
              "      <td>18.979140</td>\n",
              "      <td>72.834449</td>\n",
              "      <td>History Museum</td>\n",
              "    </tr>\n",
              "    <tr>\n",
              "      <th>336</th>\n",
              "      <td>476</td>\n",
              "      <td>Byculla</td>\n",
              "      <td>18.976622</td>\n",
              "      <td>72.832794</td>\n",
              "      <td>Cafe Renault</td>\n",
              "      <td>18.974986</td>\n",
              "      <td>72.833758</td>\n",
              "      <td>Bar/Pub</td>\n",
              "    </tr>\n",
              "    <tr>\n",
              "      <th>337</th>\n",
              "      <td>477</td>\n",
              "      <td>Byculla</td>\n",
              "      <td>18.976622</td>\n",
              "      <td>72.832794</td>\n",
              "      <td>Gloria Restaurant</td>\n",
              "      <td>18.975485</td>\n",
              "      <td>72.833884</td>\n",
              "      <td>Asian Restaurant</td>\n",
              "    </tr>\n",
              "    <tr>\n",
              "      <th>338</th>\n",
              "      <td>479</td>\n",
              "      <td>Byculla</td>\n",
              "      <td>18.976622</td>\n",
              "      <td>72.832794</td>\n",
              "      <td>Domino's Pizza</td>\n",
              "      <td>18.978071</td>\n",
              "      <td>72.838701</td>\n",
              "      <td>Pizza Place</td>\n",
              "    </tr>\n",
              "    <tr>\n",
              "      <th>339</th>\n",
              "      <td>480</td>\n",
              "      <td>Byculla</td>\n",
              "      <td>18.976622</td>\n",
              "      <td>72.832794</td>\n",
              "      <td>Jijamata Udyan - Ranibaug</td>\n",
              "      <td>18.978606</td>\n",
              "      <td>72.834980</td>\n",
              "      <td>Zoo</td>\n",
              "    </tr>\n",
              "    <tr>\n",
              "      <th>340</th>\n",
              "      <td>481</td>\n",
              "      <td>Byculla</td>\n",
              "      <td>18.976622</td>\n",
              "      <td>72.832794</td>\n",
              "      <td>Byculla Bakery</td>\n",
              "      <td>18.977695</td>\n",
              "      <td>72.834005</td>\n",
              "      <td>Bakery</td>\n",
              "    </tr>\n",
              "  </tbody>\n",
              "</table>\n",
              "</div>"
            ],
            "text/plain": [
              "     index Neighborhood  ...  Venue Longitude    Venue Category\n",
              "335    474      Byculla  ...        72.834449    History Museum\n",
              "336    476      Byculla  ...        72.833758           Bar/Pub\n",
              "337    477      Byculla  ...        72.833884  Asian Restaurant\n",
              "338    479      Byculla  ...        72.838701       Pizza Place\n",
              "339    480      Byculla  ...        72.834980               Zoo\n",
              "340    481      Byculla  ...        72.834005            Bakery\n",
              "\n",
              "[6 rows x 8 columns]"
            ]
          },
          "metadata": {
            "tags": []
          },
          "execution_count": 400
        }
      ]
    },
    {
      "cell_type": "code",
      "metadata": {
        "id": "kZt4eKMsXY2l",
        "colab_type": "code",
        "outputId": "ee9ae6e6-77d0-4792-a477-e03c0d526942",
        "colab": {
          "base_uri": "https://localhost:8080/",
          "height": 179
        }
      },
      "source": [
        "#south_mumbai_venues.loc[south_mumbai_venues['Neighborhood'] == 'Byculla']\n",
        "south_mumbai_venues.loc[south_mumbai_venues['Neighborhood'] == 'Byculla', 'Neighborhood Latitude'] = nagpada_latitude\n",
        "south_mumbai_venues.loc[south_mumbai_venues['Neighborhood'] == 'Byculla', 'Neighborhood Longitude'] = nagpada_longitude\n",
        "south_mumbai_venues.loc[south_mumbai_venues['Neighborhood'] == 'Byculla', 'Neighborhood'] = 'Nagpada'\n",
        "#south_mumbai_venues[south_mumbai_venues.Neighborhood == 'Byculla']\n",
        "south_mumbai_venues.iloc[334:340]\n",
        "\n",
        "print(\"bef:\",south_mumbai_data.shape)\n",
        "south_mumbai_data = south_mumbai_data[south_mumbai_data.Neighborhood != 'Byculla']\n",
        "print(\"aft:\",south_mumbai_data.shape)"
      ],
      "execution_count": 44,
      "outputs": [
        {
          "output_type": "stream",
          "text": [
            "bef: (34, 5)\n",
            "aft: (34, 5)\n"
          ],
          "name": "stdout"
        },
        {
          "output_type": "stream",
          "text": [
            "/usr/local/lib/python3.6/dist-packages/pandas/core/indexing.py:966: SettingWithCopyWarning: \n",
            "A value is trying to be set on a copy of a slice from a DataFrame.\n",
            "Try using .loc[row_indexer,col_indexer] = value instead\n",
            "\n",
            "See the caveats in the documentation: https://pandas.pydata.org/pandas-docs/stable/user_guide/indexing.html#returning-a-view-versus-a-copy\n",
            "  self.obj[item] = s\n"
          ],
          "name": "stderr"
        }
      ]
    },
    {
      "cell_type": "markdown",
      "metadata": {
        "id": "k8LWVwg-Yvf6",
        "colab_type": "text"
      },
      "source": [
        "### **Merge Govandi with Chembur**"
      ]
    },
    {
      "cell_type": "code",
      "metadata": {
        "id": "h-doU-ucY49t",
        "colab_type": "code",
        "outputId": "e14d654b-5ce6-4125-96df-f5a5ae02ce09",
        "colab": {
          "base_uri": "https://localhost:8080/",
          "height": 130
        }
      },
      "source": [
        "# Get coordinates of Chembur\n",
        "\n",
        "Chembur = south_mumbai_venues\n",
        "Chembur = Chembur[Chembur.Neighborhood == 'Chembur' ].head(1)\n",
        "Chembur_latitude = Chembur['Neighborhood Latitude'] \n",
        "Chembur_latitude = Chembur_latitude.iloc[0]\n",
        "Chembur_longitude = Chembur['Neighborhood Longitude'] \n",
        "Chembur_longitude = Chembur_longitude.iloc[0]\n",
        "print(\"Chembur latitude={} and longitude={}\".format(Chembur_latitude,Chembur_longitude))\n",
        "Chembur[Chembur.Neighborhood == 'Chembur' ].head(1)"
      ],
      "execution_count": 45,
      "outputs": [
        {
          "output_type": "stream",
          "text": [
            "Chembur latitude=19.0612128 and longitude=72.8975909\n"
          ],
          "name": "stdout"
        },
        {
          "output_type": "execute_result",
          "data": {
            "text/html": [
              "<div>\n",
              "<style scoped>\n",
              "    .dataframe tbody tr th:only-of-type {\n",
              "        vertical-align: middle;\n",
              "    }\n",
              "\n",
              "    .dataframe tbody tr th {\n",
              "        vertical-align: top;\n",
              "    }\n",
              "\n",
              "    .dataframe thead th {\n",
              "        text-align: right;\n",
              "    }\n",
              "</style>\n",
              "<table border=\"1\" class=\"dataframe\">\n",
              "  <thead>\n",
              "    <tr style=\"text-align: right;\">\n",
              "      <th></th>\n",
              "      <th>index</th>\n",
              "      <th>Neighborhood</th>\n",
              "      <th>Neighborhood Latitude</th>\n",
              "      <th>Neighborhood Longitude</th>\n",
              "      <th>Venue</th>\n",
              "      <th>Venue Latitude</th>\n",
              "      <th>Venue Longitude</th>\n",
              "      <th>Venue Category</th>\n",
              "    </tr>\n",
              "  </thead>\n",
              "  <tbody>\n",
              "    <tr>\n",
              "      <th>686</th>\n",
              "      <td>910</td>\n",
              "      <td>Chembur</td>\n",
              "      <td>19.061213</td>\n",
              "      <td>72.897591</td>\n",
              "      <td>Le Café</td>\n",
              "      <td>19.061791</td>\n",
              "      <td>72.899479</td>\n",
              "      <td>Café</td>\n",
              "    </tr>\n",
              "  </tbody>\n",
              "</table>\n",
              "</div>"
            ],
            "text/plain": [
              "     index Neighborhood  ...  Venue Longitude  Venue Category\n",
              "686    910      Chembur  ...        72.899479            Café\n",
              "\n",
              "[1 rows x 8 columns]"
            ]
          },
          "metadata": {
            "tags": []
          },
          "execution_count": 45
        }
      ]
    },
    {
      "cell_type": "code",
      "metadata": {
        "id": "iP1UHM_rY5va",
        "colab_type": "code",
        "outputId": "2b08f346-eb53-43a4-8a8f-2ad25931588c",
        "colab": {
          "base_uri": "https://localhost:8080/",
          "height": 254
        }
      },
      "source": [
        "#south_mumbai_venues.loc[south_mumbai_venues['Neighborhood'] == 'Govandi']\n",
        "south_mumbai_venues.iloc[688:693]"
      ],
      "execution_count": 0,
      "outputs": [
        {
          "output_type": "execute_result",
          "data": {
            "text/html": [
              "<div>\n",
              "<style scoped>\n",
              "    .dataframe tbody tr th:only-of-type {\n",
              "        vertical-align: middle;\n",
              "    }\n",
              "\n",
              "    .dataframe tbody tr th {\n",
              "        vertical-align: top;\n",
              "    }\n",
              "\n",
              "    .dataframe thead th {\n",
              "        text-align: right;\n",
              "    }\n",
              "</style>\n",
              "<table border=\"1\" class=\"dataframe\">\n",
              "  <thead>\n",
              "    <tr style=\"text-align: right;\">\n",
              "      <th></th>\n",
              "      <th>index</th>\n",
              "      <th>Neighborhood</th>\n",
              "      <th>Neighborhood Latitude</th>\n",
              "      <th>Neighborhood Longitude</th>\n",
              "      <th>Venue</th>\n",
              "      <th>Venue Latitude</th>\n",
              "      <th>Venue Longitude</th>\n",
              "      <th>Venue Category</th>\n",
              "    </tr>\n",
              "  </thead>\n",
              "  <tbody>\n",
              "    <tr>\n",
              "      <th>689</th>\n",
              "      <td>925</td>\n",
              "      <td>Govandi</td>\n",
              "      <td>19.055369</td>\n",
              "      <td>72.91507</td>\n",
              "      <td>Govandi Station</td>\n",
              "      <td>19.054849</td>\n",
              "      <td>72.915618</td>\n",
              "      <td>Platform</td>\n",
              "    </tr>\n",
              "    <tr>\n",
              "      <th>690</th>\n",
              "      <td>926</td>\n",
              "      <td>Govandi</td>\n",
              "      <td>19.055369</td>\n",
              "      <td>72.91507</td>\n",
              "      <td>Gavand Vada Pao center</td>\n",
              "      <td>19.055100</td>\n",
              "      <td>72.914816</td>\n",
              "      <td>Hot Dog Joint</td>\n",
              "    </tr>\n",
              "    <tr>\n",
              "      <th>691</th>\n",
              "      <td>927</td>\n",
              "      <td>Govandi</td>\n",
              "      <td>19.055369</td>\n",
              "      <td>72.91507</td>\n",
              "      <td>Natraj Store</td>\n",
              "      <td>19.055045</td>\n",
              "      <td>72.915612</td>\n",
              "      <td>Food &amp; Drink Shop</td>\n",
              "    </tr>\n",
              "    <tr>\n",
              "      <th>692</th>\n",
              "      <td>928</td>\n",
              "      <td>Govandi</td>\n",
              "      <td>19.055369</td>\n",
              "      <td>72.91507</td>\n",
              "      <td>Munna Sandwich</td>\n",
              "      <td>19.055237</td>\n",
              "      <td>72.914551</td>\n",
              "      <td>Food Truck</td>\n",
              "    </tr>\n",
              "    <tr>\n",
              "      <th>693</th>\n",
              "      <td>931</td>\n",
              "      <td>Govandi</td>\n",
              "      <td>19.055369</td>\n",
              "      <td>72.91507</td>\n",
              "      <td>Deonar Park</td>\n",
              "      <td>19.051004</td>\n",
              "      <td>72.914629</td>\n",
              "      <td>Park</td>\n",
              "    </tr>\n",
              "  </tbody>\n",
              "</table>\n",
              "</div>"
            ],
            "text/plain": [
              "     index Neighborhood  ...  Venue Longitude     Venue Category\n",
              "689    925      Govandi  ...        72.915618           Platform\n",
              "690    926      Govandi  ...        72.914816      Hot Dog Joint\n",
              "691    927      Govandi  ...        72.915612  Food & Drink Shop\n",
              "692    928      Govandi  ...        72.914551         Food Truck\n",
              "693    931      Govandi  ...        72.914629               Park\n",
              "\n",
              "[5 rows x 8 columns]"
            ]
          },
          "metadata": {
            "tags": []
          },
          "execution_count": 403
        }
      ]
    },
    {
      "cell_type": "code",
      "metadata": {
        "id": "3qpex_0kY6bB",
        "colab_type": "code",
        "outputId": "5dfb77f5-22de-41df-b578-4d30a56183ea",
        "colab": {
          "base_uri": "https://localhost:8080/",
          "height": 179
        }
      },
      "source": [
        "#south_mumbai_venues.loc[south_mumbai_venues['Neighborhood'] == 'Govandi']\n",
        "south_mumbai_venues.loc[south_mumbai_venues['Neighborhood'] == 'Govandi', 'Neighborhood Latitude'] = Chembur_latitude\n",
        "south_mumbai_venues.loc[south_mumbai_venues['Neighborhood'] == 'Govandi', 'Neighborhood Longitude'] = Chembur_longitude\n",
        "south_mumbai_venues.loc[south_mumbai_venues['Neighborhood'] == 'Govandi', 'Neighborhood'] = 'Chembur'\n",
        "#south_mumbai_venues[south_mumbai_venues.Neighborhood == 'Govandi']\n",
        "south_mumbai_venues.iloc[688:693]\n",
        "\n",
        "print(\"bef:\",south_mumbai_data.shape)\n",
        "south_mumbai_data = south_mumbai_data[south_mumbai_data.Neighborhood != 'Govandi']\n",
        "print(\"aft:\",south_mumbai_data.shape)"
      ],
      "execution_count": 46,
      "outputs": [
        {
          "output_type": "stream",
          "text": [
            "bef: (34, 5)\n",
            "aft: (33, 5)\n"
          ],
          "name": "stdout"
        },
        {
          "output_type": "stream",
          "text": [
            "/usr/local/lib/python3.6/dist-packages/pandas/core/indexing.py:966: SettingWithCopyWarning: \n",
            "A value is trying to be set on a copy of a slice from a DataFrame.\n",
            "Try using .loc[row_indexer,col_indexer] = value instead\n",
            "\n",
            "See the caveats in the documentation: https://pandas.pydata.org/pandas-docs/stable/user_guide/indexing.html#returning-a-view-versus-a-copy\n",
            "  self.obj[item] = s\n"
          ],
          "name": "stderr"
        }
      ]
    },
    {
      "cell_type": "markdown",
      "metadata": {
        "id": "OV-5RlJ7cCXz",
        "colab_type": "text"
      },
      "source": [
        "### **Merge Kalina with Kurla**"
      ]
    },
    {
      "cell_type": "code",
      "metadata": {
        "id": "OkPgTWpHcZdZ",
        "colab_type": "code",
        "outputId": "291427e9-1cc0-45d6-b80c-d6d94963aa28",
        "colab": {
          "base_uri": "https://localhost:8080/",
          "height": 130
        }
      },
      "source": [
        "# Get coordinates of Kurla\n",
        "\n",
        "Kurla = south_mumbai_venues\n",
        "Kurla = Kurla[Kurla.Neighborhood == 'Kurla' ].head(1)\n",
        "Kurla_latitude = Kurla['Neighborhood Latitude'] \n",
        "Kurla_latitude = Kurla_latitude.iloc[0]\n",
        "Kurla_longitude = Kurla['Neighborhood Longitude'] \n",
        "Kurla_longitude = Kurla_longitude.iloc[0]\n",
        "print(\"Kurla latitude={} and longitude={}\".format(Kurla_latitude,Kurla_longitude))\n",
        "Kurla[Kurla.Neighborhood == 'Kurla' ].head(1)"
      ],
      "execution_count": 47,
      "outputs": [
        {
          "output_type": "stream",
          "text": [
            "Kurla latitude=19.0652797 and longitude=72.8793805\n"
          ],
          "name": "stdout"
        },
        {
          "output_type": "execute_result",
          "data": {
            "text/html": [
              "<div>\n",
              "<style scoped>\n",
              "    .dataframe tbody tr th:only-of-type {\n",
              "        vertical-align: middle;\n",
              "    }\n",
              "\n",
              "    .dataframe tbody tr th {\n",
              "        vertical-align: top;\n",
              "    }\n",
              "\n",
              "    .dataframe thead th {\n",
              "        text-align: right;\n",
              "    }\n",
              "</style>\n",
              "<table border=\"1\" class=\"dataframe\">\n",
              "  <thead>\n",
              "    <tr style=\"text-align: right;\">\n",
              "      <th></th>\n",
              "      <th>index</th>\n",
              "      <th>Neighborhood</th>\n",
              "      <th>Neighborhood Latitude</th>\n",
              "      <th>Neighborhood Longitude</th>\n",
              "      <th>Venue</th>\n",
              "      <th>Venue Latitude</th>\n",
              "      <th>Venue Longitude</th>\n",
              "      <th>Venue Category</th>\n",
              "    </tr>\n",
              "  </thead>\n",
              "  <tbody>\n",
              "    <tr>\n",
              "      <th>662</th>\n",
              "      <td>880</td>\n",
              "      <td>Kurla</td>\n",
              "      <td>19.06528</td>\n",
              "      <td>72.87938</td>\n",
              "      <td>Swastik Farsan Mart</td>\n",
              "      <td>19.065989</td>\n",
              "      <td>72.878838</td>\n",
              "      <td>Grocery Store</td>\n",
              "    </tr>\n",
              "  </tbody>\n",
              "</table>\n",
              "</div>"
            ],
            "text/plain": [
              "     index Neighborhood  ...  Venue Longitude  Venue Category\n",
              "662    880        Kurla  ...        72.878838   Grocery Store\n",
              "\n",
              "[1 rows x 8 columns]"
            ]
          },
          "metadata": {
            "tags": []
          },
          "execution_count": 47
        }
      ]
    },
    {
      "cell_type": "code",
      "metadata": {
        "id": "trc4EcYRcZuQ",
        "colab_type": "code",
        "outputId": "8f357826-c405-4c6d-c23d-c9c1cf893bda",
        "colab": {
          "base_uri": "https://localhost:8080/",
          "height": 354
        }
      },
      "source": [
        "#south_mumbai_venues.loc[south_mumbai_venues['Neighborhood'] == 'Kalina']\n",
        "south_mumbai_venues.iloc[588:594]"
      ],
      "execution_count": 0,
      "outputs": [
        {
          "output_type": "execute_result",
          "data": {
            "text/html": [
              "<div>\n",
              "<style scoped>\n",
              "    .dataframe tbody tr th:only-of-type {\n",
              "        vertical-align: middle;\n",
              "    }\n",
              "\n",
              "    .dataframe tbody tr th {\n",
              "        vertical-align: top;\n",
              "    }\n",
              "\n",
              "    .dataframe thead th {\n",
              "        text-align: right;\n",
              "    }\n",
              "</style>\n",
              "<table border=\"1\" class=\"dataframe\">\n",
              "  <thead>\n",
              "    <tr style=\"text-align: right;\">\n",
              "      <th></th>\n",
              "      <th>index</th>\n",
              "      <th>Neighborhood</th>\n",
              "      <th>Neighborhood Latitude</th>\n",
              "      <th>Neighborhood Longitude</th>\n",
              "      <th>Venue</th>\n",
              "      <th>Venue Latitude</th>\n",
              "      <th>Venue Longitude</th>\n",
              "      <th>Venue Category</th>\n",
              "    </tr>\n",
              "  </thead>\n",
              "  <tbody>\n",
              "    <tr>\n",
              "      <th>589</th>\n",
              "      <td>798</td>\n",
              "      <td>Kalina</td>\n",
              "      <td>19.079273</td>\n",
              "      <td>72.861267</td>\n",
              "      <td>King Chilly</td>\n",
              "      <td>19.078382</td>\n",
              "      <td>72.866350</td>\n",
              "      <td>Chinese Restaurant</td>\n",
              "    </tr>\n",
              "    <tr>\n",
              "      <th>590</th>\n",
              "      <td>799</td>\n",
              "      <td>Kalina</td>\n",
              "      <td>19.079273</td>\n",
              "      <td>72.861267</td>\n",
              "      <td>The Camp</td>\n",
              "      <td>19.077917</td>\n",
              "      <td>72.865643</td>\n",
              "      <td>Asian Restaurant</td>\n",
              "    </tr>\n",
              "    <tr>\n",
              "      <th>591</th>\n",
              "      <td>800</td>\n",
              "      <td>Kalina</td>\n",
              "      <td>19.079273</td>\n",
              "      <td>72.861267</td>\n",
              "      <td>Sadichha</td>\n",
              "      <td>19.081684</td>\n",
              "      <td>72.855762</td>\n",
              "      <td>Seafood Restaurant</td>\n",
              "    </tr>\n",
              "    <tr>\n",
              "      <th>592</th>\n",
              "      <td>801</td>\n",
              "      <td>Kalina</td>\n",
              "      <td>19.079273</td>\n",
              "      <td>72.861267</td>\n",
              "      <td>SONY CENTRE</td>\n",
              "      <td>19.077760</td>\n",
              "      <td>72.864600</td>\n",
              "      <td>Electronics Store</td>\n",
              "    </tr>\n",
              "    <tr>\n",
              "      <th>593</th>\n",
              "      <td>802</td>\n",
              "      <td>Kalina</td>\n",
              "      <td>19.079273</td>\n",
              "      <td>72.861267</td>\n",
              "      <td>king chilli kalina</td>\n",
              "      <td>19.079660</td>\n",
              "      <td>72.865732</td>\n",
              "      <td>Chinese Restaurant</td>\n",
              "    </tr>\n",
              "    <tr>\n",
              "      <th>594</th>\n",
              "      <td>803</td>\n",
              "      <td>Kalina</td>\n",
              "      <td>19.079273</td>\n",
              "      <td>72.861267</td>\n",
              "      <td>Imbiss Meating joint</td>\n",
              "      <td>19.078304</td>\n",
              "      <td>72.865934</td>\n",
              "      <td>Burger Joint</td>\n",
              "    </tr>\n",
              "  </tbody>\n",
              "</table>\n",
              "</div>"
            ],
            "text/plain": [
              "     index Neighborhood  ...  Venue Longitude      Venue Category\n",
              "589    798       Kalina  ...        72.866350  Chinese Restaurant\n",
              "590    799       Kalina  ...        72.865643    Asian Restaurant\n",
              "591    800       Kalina  ...        72.855762  Seafood Restaurant\n",
              "592    801       Kalina  ...        72.864600   Electronics Store\n",
              "593    802       Kalina  ...        72.865732  Chinese Restaurant\n",
              "594    803       Kalina  ...        72.865934        Burger Joint\n",
              "\n",
              "[6 rows x 8 columns]"
            ]
          },
          "metadata": {
            "tags": []
          },
          "execution_count": 406
        }
      ]
    },
    {
      "cell_type": "code",
      "metadata": {
        "id": "XWYjkLgucZ9e",
        "colab_type": "code",
        "outputId": "aae28adf-618f-47a3-bdc6-79ae2362f536",
        "colab": {
          "base_uri": "https://localhost:8080/",
          "height": 179
        }
      },
      "source": [
        "#south_mumbai_venues.loc[south_mumbai_venues['Neighborhood'] == 'Kalina']\n",
        "south_mumbai_venues.loc[south_mumbai_venues['Neighborhood'] == 'Kalina', 'Neighborhood Latitude'] = Kurla_latitude\n",
        "south_mumbai_venues.loc[south_mumbai_venues['Neighborhood'] == 'Kalina', 'Neighborhood Longitude'] = Kurla_longitude\n",
        "south_mumbai_venues.loc[south_mumbai_venues['Neighborhood'] == 'Kalina', 'Neighborhood'] = 'Kurla'\n",
        "#south_mumbai_venues[south_mumbai_venues.Neighborhood == 'Kalina']\n",
        "south_mumbai_venues.iloc[588:594]\n",
        "\n",
        "print(\"bef:\",south_mumbai_data.shape)\n",
        "south_mumbai_data = south_mumbai_data[south_mumbai_data.Neighborhood != 'Kalina']\n",
        "print(\"aft:\",south_mumbai_data.shape)\n",
        "\n"
      ],
      "execution_count": 48,
      "outputs": [
        {
          "output_type": "stream",
          "text": [
            "bef: (33, 5)\n",
            "aft: (32, 5)\n"
          ],
          "name": "stdout"
        },
        {
          "output_type": "stream",
          "text": [
            "/usr/local/lib/python3.6/dist-packages/pandas/core/indexing.py:966: SettingWithCopyWarning: \n",
            "A value is trying to be set on a copy of a slice from a DataFrame.\n",
            "Try using .loc[row_indexer,col_indexer] = value instead\n",
            "\n",
            "See the caveats in the documentation: https://pandas.pydata.org/pandas-docs/stable/user_guide/indexing.html#returning-a-view-versus-a-copy\n",
            "  self.obj[item] = s\n"
          ],
          "name": "stderr"
        }
      ]
    },
    {
      "cell_type": "markdown",
      "metadata": {
        "id": "a1ASK9KKhNnS",
        "colab_type": "text"
      },
      "source": [
        "### **Merge Malad with Andheri**"
      ]
    },
    {
      "cell_type": "code",
      "metadata": {
        "id": "30dQdmZPhCgv",
        "colab_type": "code",
        "outputId": "ee82054d-6a3f-485e-b2c0-928c13a1dead",
        "colab": {
          "base_uri": "https://localhost:8080/",
          "height": 130
        }
      },
      "source": [
        "# Get coordinates of Andheri\n",
        "\n",
        "Andheri = south_mumbai_venues\n",
        "Andheri = Andheri[Andheri.Neighborhood == 'Andheri' ].head(1)\n",
        "Andheri_latitude = Andheri['Neighborhood Latitude'] \n",
        "Andheri_latitude = Andheri_latitude.iloc[0]\n",
        "Andheri_longitude = Andheri['Neighborhood Longitude'] \n",
        "Andheri_longitude = Andheri_longitude.iloc[0]\n",
        "print(\"Chembur latitude={} and longitude={}\".format(Andheri_latitude,Andheri_longitude))\n",
        "Andheri[Andheri.Neighborhood == 'Andheri' ].head(1)"
      ],
      "execution_count": 49,
      "outputs": [
        {
          "output_type": "stream",
          "text": [
            "Chembur latitude=19.1196976 and longitude=72.8464205\n"
          ],
          "name": "stdout"
        },
        {
          "output_type": "execute_result",
          "data": {
            "text/html": [
              "<div>\n",
              "<style scoped>\n",
              "    .dataframe tbody tr th:only-of-type {\n",
              "        vertical-align: middle;\n",
              "    }\n",
              "\n",
              "    .dataframe tbody tr th {\n",
              "        vertical-align: top;\n",
              "    }\n",
              "\n",
              "    .dataframe thead th {\n",
              "        text-align: right;\n",
              "    }\n",
              "</style>\n",
              "<table border=\"1\" class=\"dataframe\">\n",
              "  <thead>\n",
              "    <tr style=\"text-align: right;\">\n",
              "      <th></th>\n",
              "      <th>index</th>\n",
              "      <th>Neighborhood</th>\n",
              "      <th>Neighborhood Latitude</th>\n",
              "      <th>Neighborhood Longitude</th>\n",
              "      <th>Venue</th>\n",
              "      <th>Venue Latitude</th>\n",
              "      <th>Venue Longitude</th>\n",
              "      <th>Venue Category</th>\n",
              "    </tr>\n",
              "  </thead>\n",
              "  <tbody>\n",
              "    <tr>\n",
              "      <th>595</th>\n",
              "      <td>797</td>\n",
              "      <td>Andheri</td>\n",
              "      <td>19.119698</td>\n",
              "      <td>72.84642</td>\n",
              "      <td>Merwans Cake shop</td>\n",
              "      <td>19.1193</td>\n",
              "      <td>72.845418</td>\n",
              "      <td>Bakery</td>\n",
              "    </tr>\n",
              "  </tbody>\n",
              "</table>\n",
              "</div>"
            ],
            "text/plain": [
              "     index Neighborhood  ...  Venue Longitude  Venue Category\n",
              "595    797      Andheri  ...        72.845418          Bakery\n",
              "\n",
              "[1 rows x 8 columns]"
            ]
          },
          "metadata": {
            "tags": []
          },
          "execution_count": 49
        }
      ]
    },
    {
      "cell_type": "code",
      "metadata": {
        "id": "Cn7vAC0IhCuK",
        "colab_type": "code",
        "outputId": "d82994ef-5fcd-403e-9fd0-e524733eae3c",
        "colab": {
          "base_uri": "https://localhost:8080/",
          "height": 402
        }
      },
      "source": [
        "#south_mumbai_venues.loc[south_mumbai_venues['Neighborhood'] == 'Malad']\n",
        "south_mumbai_venues.iloc[773:780]"
      ],
      "execution_count": 0,
      "outputs": [
        {
          "output_type": "execute_result",
          "data": {
            "text/html": [
              "<div>\n",
              "<style scoped>\n",
              "    .dataframe tbody tr th:only-of-type {\n",
              "        vertical-align: middle;\n",
              "    }\n",
              "\n",
              "    .dataframe tbody tr th {\n",
              "        vertical-align: top;\n",
              "    }\n",
              "\n",
              "    .dataframe thead th {\n",
              "        text-align: right;\n",
              "    }\n",
              "</style>\n",
              "<table border=\"1\" class=\"dataframe\">\n",
              "  <thead>\n",
              "    <tr style=\"text-align: right;\">\n",
              "      <th></th>\n",
              "      <th>index</th>\n",
              "      <th>Neighborhood</th>\n",
              "      <th>Neighborhood Latitude</th>\n",
              "      <th>Neighborhood Longitude</th>\n",
              "      <th>Venue</th>\n",
              "      <th>Venue Latitude</th>\n",
              "      <th>Venue Longitude</th>\n",
              "      <th>Venue Category</th>\n",
              "    </tr>\n",
              "  </thead>\n",
              "  <tbody>\n",
              "    <tr>\n",
              "      <th>774</th>\n",
              "      <td>1024</td>\n",
              "      <td>Malad</td>\n",
              "      <td>19.186719</td>\n",
              "      <td>72.848588</td>\n",
              "      <td>Gupta's Bhel and Pani Puri House</td>\n",
              "      <td>19.184527</td>\n",
              "      <td>72.845946</td>\n",
              "      <td>Snack Place</td>\n",
              "    </tr>\n",
              "    <tr>\n",
              "      <th>775</th>\n",
              "      <td>1025</td>\n",
              "      <td>Malad</td>\n",
              "      <td>19.186719</td>\n",
              "      <td>72.848588</td>\n",
              "      <td>MM Mithaiwala</td>\n",
              "      <td>19.187323</td>\n",
              "      <td>72.848164</td>\n",
              "      <td>Dessert Shop</td>\n",
              "    </tr>\n",
              "    <tr>\n",
              "      <th>776</th>\n",
              "      <td>1026</td>\n",
              "      <td>Malad</td>\n",
              "      <td>19.186719</td>\n",
              "      <td>72.848588</td>\n",
              "      <td>Aditi</td>\n",
              "      <td>19.185180</td>\n",
              "      <td>72.846718</td>\n",
              "      <td>Fast Food Restaurant</td>\n",
              "    </tr>\n",
              "    <tr>\n",
              "      <th>777</th>\n",
              "      <td>1027</td>\n",
              "      <td>Malad</td>\n",
              "      <td>19.186719</td>\n",
              "      <td>72.848588</td>\n",
              "      <td>Malad Railway Station</td>\n",
              "      <td>19.187100</td>\n",
              "      <td>72.848678</td>\n",
              "      <td>Train/Metro/Bus</td>\n",
              "    </tr>\n",
              "    <tr>\n",
              "      <th>778</th>\n",
              "      <td>1028</td>\n",
              "      <td>Malad</td>\n",
              "      <td>19.186719</td>\n",
              "      <td>72.848588</td>\n",
              "      <td>platform1</td>\n",
              "      <td>19.187324</td>\n",
              "      <td>72.849162</td>\n",
              "      <td>Tourist Information Center</td>\n",
              "    </tr>\n",
              "    <tr>\n",
              "      <th>779</th>\n",
              "      <td>1029</td>\n",
              "      <td>Malad</td>\n",
              "      <td>19.186719</td>\n",
              "      <td>72.848588</td>\n",
              "      <td>aditi fast food hotel</td>\n",
              "      <td>19.185317</td>\n",
              "      <td>72.846710</td>\n",
              "      <td>Fast Food Restaurant</td>\n",
              "    </tr>\n",
              "    <tr>\n",
              "      <th>780</th>\n",
              "      <td>1031</td>\n",
              "      <td>Malad</td>\n",
              "      <td>19.186719</td>\n",
              "      <td>72.848588</td>\n",
              "      <td>Sapna Veg. Restaurant</td>\n",
              "      <td>19.192203</td>\n",
              "      <td>72.846929</td>\n",
              "      <td>Fast Food Restaurant</td>\n",
              "    </tr>\n",
              "  </tbody>\n",
              "</table>\n",
              "</div>"
            ],
            "text/plain": [
              "     index Neighborhood  ...  Venue Longitude              Venue Category\n",
              "774   1024        Malad  ...        72.845946                 Snack Place\n",
              "775   1025        Malad  ...        72.848164                Dessert Shop\n",
              "776   1026        Malad  ...        72.846718        Fast Food Restaurant\n",
              "777   1027        Malad  ...        72.848678             Train/Metro/Bus\n",
              "778   1028        Malad  ...        72.849162  Tourist Information Center\n",
              "779   1029        Malad  ...        72.846710        Fast Food Restaurant\n",
              "780   1031        Malad  ...        72.846929        Fast Food Restaurant\n",
              "\n",
              "[7 rows x 8 columns]"
            ]
          },
          "metadata": {
            "tags": []
          },
          "execution_count": 409
        }
      ]
    },
    {
      "cell_type": "code",
      "metadata": {
        "id": "VU0gdKgWhC73",
        "colab_type": "code",
        "outputId": "1bbc1024-eeef-4351-fa36-b327efcdb2c1",
        "colab": {
          "base_uri": "https://localhost:8080/",
          "height": 179
        }
      },
      "source": [
        "#south_mumbai_venues.loc[south_mumbai_venues['Neighborhood'] == 'Malad']\n",
        "south_mumbai_venues.loc[south_mumbai_venues['Neighborhood'] == 'Malad', 'Neighborhood Latitude'] = Andheri_latitude\n",
        "south_mumbai_venues.loc[south_mumbai_venues['Neighborhood'] == 'Malad', 'Neighborhood Longitude'] = Andheri_longitude\n",
        "south_mumbai_venues.loc[south_mumbai_venues['Neighborhood'] == 'Malad', 'Neighborhood'] = 'Andheri'\n",
        "#south_mumbai_venues[south_mumbai_venues.Neighborhood == 'Malad']\n",
        "south_mumbai_venues.iloc[773:780]\n",
        "\n",
        "print(\"bef:\",south_mumbai_data.shape)\n",
        "south_mumbai_data = south_mumbai_data[south_mumbai_data.Neighborhood != 'Malad']\n",
        "print(\"aft:\",south_mumbai_data.shape)"
      ],
      "execution_count": 50,
      "outputs": [
        {
          "output_type": "stream",
          "text": [
            "bef: (32, 5)\n",
            "aft: (31, 5)\n"
          ],
          "name": "stdout"
        },
        {
          "output_type": "stream",
          "text": [
            "/usr/local/lib/python3.6/dist-packages/pandas/core/indexing.py:966: SettingWithCopyWarning: \n",
            "A value is trying to be set on a copy of a slice from a DataFrame.\n",
            "Try using .loc[row_indexer,col_indexer] = value instead\n",
            "\n",
            "See the caveats in the documentation: https://pandas.pydata.org/pandas-docs/stable/user_guide/indexing.html#returning-a-view-versus-a-copy\n",
            "  self.obj[item] = s\n"
          ],
          "name": "stderr"
        }
      ]
    },
    {
      "cell_type": "markdown",
      "metadata": {
        "id": "T_qi71iOjrKg",
        "colab_type": "text"
      },
      "source": [
        "### **Merge Mahim to Bandra**"
      ]
    },
    {
      "cell_type": "code",
      "metadata": {
        "id": "JXUoIQVUjr9x",
        "colab_type": "code",
        "outputId": "4db8bb17-7910-4c43-d016-50af9e019346",
        "colab": {
          "base_uri": "https://localhost:8080/",
          "height": 130
        }
      },
      "source": [
        "# Get coordinates of Bandra West\n",
        "\n",
        "Bandra = south_mumbai_venues\n",
        "Bandra = Bandra[Bandra.Neighborhood == 'Bandra West' ].head(1)\n",
        "Bandra_latitude = Bandra['Neighborhood Latitude'] \n",
        "Bandra_latitude = Bandra_latitude.iloc[0]\n",
        "Bandra_longitude = Bandra['Neighborhood Longitude'] \n",
        "Bandra_longitude = Bandra_longitude.iloc[0]\n",
        "print(\"Bandra latitude={} and longitude={}\".format(Bandra_latitude,Bandra_longitude))\n",
        "Bandra[Bandra.Neighborhood == 'Bandra West' ].head(1)"
      ],
      "execution_count": 51,
      "outputs": [
        {
          "output_type": "stream",
          "text": [
            "Bandra latitude=19.0583358 and longitude=72.8302669\n"
          ],
          "name": "stdout"
        },
        {
          "output_type": "execute_result",
          "data": {
            "text/html": [
              "<div>\n",
              "<style scoped>\n",
              "    .dataframe tbody tr th:only-of-type {\n",
              "        vertical-align: middle;\n",
              "    }\n",
              "\n",
              "    .dataframe tbody tr th {\n",
              "        vertical-align: top;\n",
              "    }\n",
              "\n",
              "    .dataframe thead th {\n",
              "        text-align: right;\n",
              "    }\n",
              "</style>\n",
              "<table border=\"1\" class=\"dataframe\">\n",
              "  <thead>\n",
              "    <tr style=\"text-align: right;\">\n",
              "      <th></th>\n",
              "      <th>index</th>\n",
              "      <th>Neighborhood</th>\n",
              "      <th>Neighborhood Latitude</th>\n",
              "      <th>Neighborhood Longitude</th>\n",
              "      <th>Venue</th>\n",
              "      <th>Venue Latitude</th>\n",
              "      <th>Venue Longitude</th>\n",
              "      <th>Venue Category</th>\n",
              "    </tr>\n",
              "  </thead>\n",
              "  <tbody>\n",
              "    <tr>\n",
              "      <th>442</th>\n",
              "      <td>627</td>\n",
              "      <td>Bandra West</td>\n",
              "      <td>19.058336</td>\n",
              "      <td>72.830267</td>\n",
              "      <td>Almeida Park</td>\n",
              "      <td>19.057656</td>\n",
              "      <td>72.831541</td>\n",
              "      <td>Park/Garden</td>\n",
              "    </tr>\n",
              "  </tbody>\n",
              "</table>\n",
              "</div>"
            ],
            "text/plain": [
              "     index Neighborhood  ...  Venue Longitude  Venue Category\n",
              "442    627  Bandra West  ...        72.831541     Park/Garden\n",
              "\n",
              "[1 rows x 8 columns]"
            ]
          },
          "metadata": {
            "tags": []
          },
          "execution_count": 51
        }
      ]
    },
    {
      "cell_type": "code",
      "metadata": {
        "id": "Au_U6KL6j_3y",
        "colab_type": "code",
        "outputId": "ead79233-51e7-4267-f7cf-d77d2e89a0c7",
        "colab": {
          "base_uri": "https://localhost:8080/",
          "height": 363
        }
      },
      "source": [
        "#south_mumbai_venues.loc[south_mumbai_venues['Neighborhood'] == 'Mahim']\n",
        "south_mumbai_venues.iloc[610:618]"
      ],
      "execution_count": 0,
      "outputs": [
        {
          "output_type": "execute_result",
          "data": {
            "text/html": [
              "<div>\n",
              "<style scoped>\n",
              "    .dataframe tbody tr th:only-of-type {\n",
              "        vertical-align: middle;\n",
              "    }\n",
              "\n",
              "    .dataframe tbody tr th {\n",
              "        vertical-align: top;\n",
              "    }\n",
              "\n",
              "    .dataframe thead th {\n",
              "        text-align: right;\n",
              "    }\n",
              "</style>\n",
              "<table border=\"1\" class=\"dataframe\">\n",
              "  <thead>\n",
              "    <tr style=\"text-align: right;\">\n",
              "      <th></th>\n",
              "      <th>index</th>\n",
              "      <th>Neighborhood</th>\n",
              "      <th>Neighborhood Latitude</th>\n",
              "      <th>Neighborhood Longitude</th>\n",
              "      <th>Venue</th>\n",
              "      <th>Venue Latitude</th>\n",
              "      <th>Venue Longitude</th>\n",
              "      <th>Venue Category</th>\n",
              "    </tr>\n",
              "  </thead>\n",
              "  <tbody>\n",
              "    <tr>\n",
              "      <th>611</th>\n",
              "      <td>822</td>\n",
              "      <td>Mahim</td>\n",
              "      <td>19.042314</td>\n",
              "      <td>72.839834</td>\n",
              "      <td>Baba Falooda</td>\n",
              "      <td>19.039995</td>\n",
              "      <td>72.841259</td>\n",
              "      <td>Dessert Shop</td>\n",
              "    </tr>\n",
              "    <tr>\n",
              "      <th>612</th>\n",
              "      <td>823</td>\n",
              "      <td>Mahim</td>\n",
              "      <td>19.042314</td>\n",
              "      <td>72.839834</td>\n",
              "      <td>Cafe Irani Chai</td>\n",
              "      <td>19.039096</td>\n",
              "      <td>72.842720</td>\n",
              "      <td>Breakfast Spot</td>\n",
              "    </tr>\n",
              "    <tr>\n",
              "      <th>613</th>\n",
              "      <td>827</td>\n",
              "      <td>Mahim</td>\n",
              "      <td>19.042314</td>\n",
              "      <td>72.839834</td>\n",
              "      <td>Domino's Pizza</td>\n",
              "      <td>19.040252</td>\n",
              "      <td>72.841394</td>\n",
              "      <td>Pizza Place</td>\n",
              "    </tr>\n",
              "    <tr>\n",
              "      <th>614</th>\n",
              "      <td>828</td>\n",
              "      <td>Mahim</td>\n",
              "      <td>19.042314</td>\n",
              "      <td>72.839834</td>\n",
              "      <td>Tazza Fast Food</td>\n",
              "      <td>19.039052</td>\n",
              "      <td>72.841866</td>\n",
              "      <td>Fast Food Restaurant</td>\n",
              "    </tr>\n",
              "    <tr>\n",
              "      <th>615</th>\n",
              "      <td>829</td>\n",
              "      <td>Mahim</td>\n",
              "      <td>19.042314</td>\n",
              "      <td>72.839834</td>\n",
              "      <td>Quarter House</td>\n",
              "      <td>19.037115</td>\n",
              "      <td>72.841462</td>\n",
              "      <td>Bar/Pub</td>\n",
              "    </tr>\n",
              "    <tr>\n",
              "      <th>616</th>\n",
              "      <td>830</td>\n",
              "      <td>Mahim</td>\n",
              "      <td>19.042314</td>\n",
              "      <td>72.839834</td>\n",
              "      <td>Xavier Institute of Engineering</td>\n",
              "      <td>19.045061</td>\n",
              "      <td>72.841716</td>\n",
              "      <td>Arcade</td>\n",
              "    </tr>\n",
              "    <tr>\n",
              "      <th>617</th>\n",
              "      <td>831</td>\n",
              "      <td>Mahim</td>\n",
              "      <td>19.042314</td>\n",
              "      <td>72.839834</td>\n",
              "      <td>Rediff.com</td>\n",
              "      <td>19.042069</td>\n",
              "      <td>72.842838</td>\n",
              "      <td>Office</td>\n",
              "    </tr>\n",
              "    <tr>\n",
              "      <th>618</th>\n",
              "      <td>832</td>\n",
              "      <td>Mahim</td>\n",
              "      <td>19.042314</td>\n",
              "      <td>72.839834</td>\n",
              "      <td>Mahim Railway Station</td>\n",
              "      <td>19.043431</td>\n",
              "      <td>72.844425</td>\n",
              "      <td>Train/Metro/Bus</td>\n",
              "    </tr>\n",
              "  </tbody>\n",
              "</table>\n",
              "</div>"
            ],
            "text/plain": [
              "     index Neighborhood  ...  Venue Longitude        Venue Category\n",
              "611    822        Mahim  ...        72.841259          Dessert Shop\n",
              "612    823        Mahim  ...        72.842720        Breakfast Spot\n",
              "613    827        Mahim  ...        72.841394           Pizza Place\n",
              "614    828        Mahim  ...        72.841866  Fast Food Restaurant\n",
              "615    829        Mahim  ...        72.841462               Bar/Pub\n",
              "616    830        Mahim  ...        72.841716                Arcade\n",
              "617    831        Mahim  ...        72.842838                Office\n",
              "618    832        Mahim  ...        72.844425       Train/Metro/Bus\n",
              "\n",
              "[8 rows x 8 columns]"
            ]
          },
          "metadata": {
            "tags": []
          },
          "execution_count": 412
        }
      ]
    },
    {
      "cell_type": "code",
      "metadata": {
        "id": "eT4nLXPzkBY3",
        "colab_type": "code",
        "outputId": "8f9e5a61-f8ef-4c41-81c2-3ee3818cec61",
        "colab": {
          "base_uri": "https://localhost:8080/",
          "height": 179
        }
      },
      "source": [
        "#south_mumbai_venues.loc[south_mumbai_venues['Neighborhood'] == 'Mahim']\n",
        "south_mumbai_venues.loc[south_mumbai_venues['Neighborhood'] == 'Mahim', 'Neighborhood Latitude'] = Bandra_latitude\n",
        "south_mumbai_venues.loc[south_mumbai_venues['Neighborhood'] == 'Mahim', 'Neighborhood Longitude'] = Bandra_longitude\n",
        "south_mumbai_venues.loc[south_mumbai_venues['Neighborhood'] == 'Mahim', 'Neighborhood'] = 'Bandra West'\n",
        "#south_mumbai_venues[south_mumbai_venues.Neighborhood == 'Mahim']\n",
        "south_mumbai_venues.iloc[610:618]\n",
        "\n",
        "print(\"bef:\",south_mumbai_data.shape)\n",
        "south_mumbai_data = south_mumbai_data[south_mumbai_data.Neighborhood != 'Mahim']\n",
        "print(\"aft:\",south_mumbai_data.shape)"
      ],
      "execution_count": 52,
      "outputs": [
        {
          "output_type": "stream",
          "text": [
            "bef: (31, 5)\n",
            "aft: (30, 5)\n"
          ],
          "name": "stdout"
        },
        {
          "output_type": "stream",
          "text": [
            "/usr/local/lib/python3.6/dist-packages/pandas/core/indexing.py:966: SettingWithCopyWarning: \n",
            "A value is trying to be set on a copy of a slice from a DataFrame.\n",
            "Try using .loc[row_indexer,col_indexer] = value instead\n",
            "\n",
            "See the caveats in the documentation: https://pandas.pydata.org/pandas-docs/stable/user_guide/indexing.html#returning-a-view-versus-a-copy\n",
            "  self.obj[item] = s\n"
          ],
          "name": "stderr"
        }
      ]
    },
    {
      "cell_type": "markdown",
      "metadata": {
        "id": "ONYZm74EmAWl",
        "colab_type": "text"
      },
      "source": [
        "### **Merge Malabar Hill to Walkeshwar**"
      ]
    },
    {
      "cell_type": "code",
      "metadata": {
        "id": "qRwsNOkomC20",
        "colab_type": "code",
        "outputId": "057d9fcf-8e0e-411a-f2a8-3f1f000199cc",
        "colab": {
          "base_uri": "https://localhost:8080/",
          "height": 113
        }
      },
      "source": [
        "# Get coordinates of Bandra West\n",
        "\n",
        "Walkeshwar = south_mumbai_venues\n",
        "Walkeshwar = Walkeshwar[Walkeshwar.Neighborhood == 'Walkeshwar' ].head(1)\n",
        "Walkeshwar_latitude = Walkeshwar['Neighborhood Latitude'] \n",
        "Walkeshwar_latitude = Walkeshwar_latitude.iloc[0]\n",
        "Walkeshwar_longitude = Walkeshwar['Neighborhood Longitude'] \n",
        "Walkeshwar_longitude = Walkeshwar_longitude.iloc[0]\n",
        "print(\"Walkeshwar latitude={} and longitude={}\".format(Walkeshwar_latitude,Walkeshwar_longitude))\n",
        "Walkeshwar[Walkeshwar.Neighborhood == 'Walkeshwar' ].head(1)"
      ],
      "execution_count": 53,
      "outputs": [
        {
          "output_type": "stream",
          "text": [
            "Walkeshwar latitude=18.9553434 and longitude=72.8079469\n"
          ],
          "name": "stdout"
        },
        {
          "output_type": "execute_result",
          "data": {
            "text/html": [
              "<div>\n",
              "<style scoped>\n",
              "    .dataframe tbody tr th:only-of-type {\n",
              "        vertical-align: middle;\n",
              "    }\n",
              "\n",
              "    .dataframe tbody tr th {\n",
              "        vertical-align: top;\n",
              "    }\n",
              "\n",
              "    .dataframe thead th {\n",
              "        text-align: right;\n",
              "    }\n",
              "</style>\n",
              "<table border=\"1\" class=\"dataframe\">\n",
              "  <thead>\n",
              "    <tr style=\"text-align: right;\">\n",
              "      <th></th>\n",
              "      <th>index</th>\n",
              "      <th>Neighborhood</th>\n",
              "      <th>Neighborhood Latitude</th>\n",
              "      <th>Neighborhood Longitude</th>\n",
              "      <th>Venue</th>\n",
              "      <th>Venue Latitude</th>\n",
              "      <th>Venue Longitude</th>\n",
              "      <th>Venue Category</th>\n",
              "    </tr>\n",
              "  </thead>\n",
              "  <tbody>\n",
              "    <tr>\n",
              "      <th>262</th>\n",
              "      <td>328</td>\n",
              "      <td>Walkeshwar</td>\n",
              "      <td>18.955343</td>\n",
              "      <td>72.807947</td>\n",
              "      <td>Starbucks</td>\n",
              "      <td>18.956426</td>\n",
              "      <td>72.812065</td>\n",
              "      <td>Coffee Shop</td>\n",
              "    </tr>\n",
              "  </tbody>\n",
              "</table>\n",
              "</div>"
            ],
            "text/plain": [
              "     index Neighborhood  ...  Venue Longitude  Venue Category\n",
              "262    328   Walkeshwar  ...        72.812065     Coffee Shop\n",
              "\n",
              "[1 rows x 8 columns]"
            ]
          },
          "metadata": {
            "tags": []
          },
          "execution_count": 53
        }
      ]
    },
    {
      "cell_type": "code",
      "metadata": {
        "id": "IDPBYXqkmDFA",
        "colab_type": "code",
        "outputId": "a8798f7d-f313-400c-d5d0-d73a559ae1c9",
        "colab": {
          "base_uri": "https://localhost:8080/",
          "height": 477
        }
      },
      "source": [
        "#south_mumbai_venues.loc[south_mumbai_venues['Neighborhood'] == 'Malabar Hill']\n",
        "south_mumbai_venues.iloc[270:280]"
      ],
      "execution_count": 0,
      "outputs": [
        {
          "output_type": "execute_result",
          "data": {
            "text/html": [
              "<div>\n",
              "<style scoped>\n",
              "    .dataframe tbody tr th:only-of-type {\n",
              "        vertical-align: middle;\n",
              "    }\n",
              "\n",
              "    .dataframe tbody tr th {\n",
              "        vertical-align: top;\n",
              "    }\n",
              "\n",
              "    .dataframe thead th {\n",
              "        text-align: right;\n",
              "    }\n",
              "</style>\n",
              "<table border=\"1\" class=\"dataframe\">\n",
              "  <thead>\n",
              "    <tr style=\"text-align: right;\">\n",
              "      <th></th>\n",
              "      <th>index</th>\n",
              "      <th>Neighborhood</th>\n",
              "      <th>Neighborhood Latitude</th>\n",
              "      <th>Neighborhood Longitude</th>\n",
              "      <th>Venue</th>\n",
              "      <th>Venue Latitude</th>\n",
              "      <th>Venue Longitude</th>\n",
              "      <th>Venue Category</th>\n",
              "    </tr>\n",
              "  </thead>\n",
              "  <tbody>\n",
              "    <tr>\n",
              "      <th>270</th>\n",
              "      <td>345</td>\n",
              "      <td>Walkeshwar</td>\n",
              "      <td>18.955343</td>\n",
              "      <td>72.807947</td>\n",
              "      <td>HDFC Bank</td>\n",
              "      <td>18.953883</td>\n",
              "      <td>72.802378</td>\n",
              "      <td>Bank</td>\n",
              "    </tr>\n",
              "    <tr>\n",
              "      <th>271</th>\n",
              "      <td>347</td>\n",
              "      <td>Malabar Hill</td>\n",
              "      <td>18.958162</td>\n",
              "      <td>72.803366</td>\n",
              "      <td>Priyadarshini Park</td>\n",
              "      <td>18.957515</td>\n",
              "      <td>72.799614</td>\n",
              "      <td>Park</td>\n",
              "    </tr>\n",
              "    <tr>\n",
              "      <th>272</th>\n",
              "      <td>348</td>\n",
              "      <td>Malabar Hill</td>\n",
              "      <td>18.958162</td>\n",
              "      <td>72.803366</td>\n",
              "      <td>Santosh Sagar</td>\n",
              "      <td>18.961177</td>\n",
              "      <td>72.801425</td>\n",
              "      <td>Fast Food Restaurant</td>\n",
              "    </tr>\n",
              "    <tr>\n",
              "      <th>273</th>\n",
              "      <td>350</td>\n",
              "      <td>Malabar Hill</td>\n",
              "      <td>18.958162</td>\n",
              "      <td>72.803366</td>\n",
              "      <td>Country Of Origin</td>\n",
              "      <td>18.955266</td>\n",
              "      <td>72.798743</td>\n",
              "      <td>Dessert Shop</td>\n",
              "    </tr>\n",
              "    <tr>\n",
              "      <th>274</th>\n",
              "      <td>352</td>\n",
              "      <td>Malabar Hill</td>\n",
              "      <td>18.958162</td>\n",
              "      <td>72.803366</td>\n",
              "      <td>Naturals Ice Cream</td>\n",
              "      <td>18.962432</td>\n",
              "      <td>72.801471</td>\n",
              "      <td>Dessert Shop</td>\n",
              "    </tr>\n",
              "    <tr>\n",
              "      <th>275</th>\n",
              "      <td>355</td>\n",
              "      <td>Malabar Hill</td>\n",
              "      <td>18.958162</td>\n",
              "      <td>72.803366</td>\n",
              "      <td>210°Veg Gourmet Bakery</td>\n",
              "      <td>18.961828</td>\n",
              "      <td>72.802137</td>\n",
              "      <td>Bakery</td>\n",
              "    </tr>\n",
              "    <tr>\n",
              "      <th>276</th>\n",
              "      <td>357</td>\n",
              "      <td>Malabar Hill</td>\n",
              "      <td>18.958162</td>\n",
              "      <td>72.803366</td>\n",
              "      <td>Tune Up</td>\n",
              "      <td>18.954427</td>\n",
              "      <td>72.803509</td>\n",
              "      <td>Fitness/Gym/Spa</td>\n",
              "    </tr>\n",
              "    <tr>\n",
              "      <th>277</th>\n",
              "      <td>358</td>\n",
              "      <td>Malabar Hill</td>\n",
              "      <td>18.958162</td>\n",
              "      <td>72.803366</td>\n",
              "      <td>Contempory Arts</td>\n",
              "      <td>18.963036</td>\n",
              "      <td>72.803092</td>\n",
              "      <td>Arts &amp; Crafts Store</td>\n",
              "    </tr>\n",
              "    <tr>\n",
              "      <th>278</th>\n",
              "      <td>359</td>\n",
              "      <td>Malabar Hill</td>\n",
              "      <td>18.958162</td>\n",
              "      <td>72.803366</td>\n",
              "      <td>Tart</td>\n",
              "      <td>18.963942</td>\n",
              "      <td>72.803440</td>\n",
              "      <td>Bakery</td>\n",
              "    </tr>\n",
              "    <tr>\n",
              "      <th>279</th>\n",
              "      <td>362</td>\n",
              "      <td>Kalbadevi</td>\n",
              "      <td>18.949258</td>\n",
              "      <td>72.827938</td>\n",
              "      <td>Crawford Market</td>\n",
              "      <td>18.946761</td>\n",
              "      <td>72.831225</td>\n",
              "      <td>Market</td>\n",
              "    </tr>\n",
              "  </tbody>\n",
              "</table>\n",
              "</div>"
            ],
            "text/plain": [
              "     index  Neighborhood  ...  Venue Longitude        Venue Category\n",
              "270    345    Walkeshwar  ...        72.802378                  Bank\n",
              "271    347  Malabar Hill  ...        72.799614                  Park\n",
              "272    348  Malabar Hill  ...        72.801425  Fast Food Restaurant\n",
              "273    350  Malabar Hill  ...        72.798743          Dessert Shop\n",
              "274    352  Malabar Hill  ...        72.801471          Dessert Shop\n",
              "275    355  Malabar Hill  ...        72.802137                Bakery\n",
              "276    357  Malabar Hill  ...        72.803509       Fitness/Gym/Spa\n",
              "277    358  Malabar Hill  ...        72.803092   Arts & Crafts Store\n",
              "278    359  Malabar Hill  ...        72.803440                Bakery\n",
              "279    362     Kalbadevi  ...        72.831225                Market\n",
              "\n",
              "[10 rows x 8 columns]"
            ]
          },
          "metadata": {
            "tags": []
          },
          "execution_count": 415
        }
      ]
    },
    {
      "cell_type": "code",
      "metadata": {
        "id": "TR4_A28FmDTw",
        "colab_type": "code",
        "outputId": "d0d9f6ef-a13d-4218-9795-856b028e7994",
        "colab": {
          "base_uri": "https://localhost:8080/",
          "height": 179
        }
      },
      "source": [
        "#south_mumbai_venues.loc[south_mumbai_venues['Neighborhood'] == 'Malabar Hill']\n",
        "south_mumbai_venues.loc[south_mumbai_venues['Neighborhood'] == 'Malabar Hill', 'Neighborhood Latitude'] = Walkeshwar_latitude\n",
        "south_mumbai_venues.loc[south_mumbai_venues['Neighborhood'] == 'Malabar Hill', 'Neighborhood Longitude'] = Walkeshwar_longitude\n",
        "south_mumbai_venues.loc[south_mumbai_venues['Neighborhood'] == 'Malabar Hill', 'Neighborhood'] = 'Walkeshwar'\n",
        "#south_mumbai_venues[south_mumbai_venues.Neighborhood == 'Malabar Hill']\n",
        "south_mumbai_venues.iloc[270:280]\n",
        "\n",
        "print(\"bef:\",south_mumbai_data.shape)\n",
        "south_mumbai_data = south_mumbai_data[south_mumbai_data.Neighborhood != 'Malabar Hill']\n",
        "print(\"aft:\",south_mumbai_data.shape)"
      ],
      "execution_count": 54,
      "outputs": [
        {
          "output_type": "stream",
          "text": [
            "bef: (30, 5)\n",
            "aft: (29, 5)\n"
          ],
          "name": "stdout"
        },
        {
          "output_type": "stream",
          "text": [
            "/usr/local/lib/python3.6/dist-packages/pandas/core/indexing.py:966: SettingWithCopyWarning: \n",
            "A value is trying to be set on a copy of a slice from a DataFrame.\n",
            "Try using .loc[row_indexer,col_indexer] = value instead\n",
            "\n",
            "See the caveats in the documentation: https://pandas.pydata.org/pandas-docs/stable/user_guide/indexing.html#returning-a-view-versus-a-copy\n",
            "  self.obj[item] = s\n"
          ],
          "name": "stderr"
        }
      ]
    },
    {
      "cell_type": "markdown",
      "metadata": {
        "id": "emOVCxBCuEp-",
        "colab_type": "text"
      },
      "source": [
        "#### **Remove Redundant Data**"
      ]
    },
    {
      "cell_type": "code",
      "metadata": {
        "id": "xzbMYSJZCS7Z",
        "colab_type": "code",
        "colab": {
          "base_uri": "https://localhost:8080/",
          "height": 263
        },
        "outputId": "666228b1-9022-461b-8e4d-c648f2731c37"
      },
      "source": [
        "south_mumbai_venues_worli = south_mumbai_venues[south_mumbai_venues['Neighborhood'] == 'Worli']\n",
        "south_mumbai_venues_worli = south_mumbai_venues_worli[south_mumbai_venues['Venue Category'] == 'Scenic Lookout']\n",
        "                                          \n",
        "south_mumbai_venues_worli.head(15)"
      ],
      "execution_count": 60,
      "outputs": [
        {
          "output_type": "stream",
          "text": [
            "/usr/local/lib/python3.6/dist-packages/ipykernel_launcher.py:2: UserWarning: Boolean Series key will be reindexed to match DataFrame index.\n",
            "  \n"
          ],
          "name": "stderr"
        },
        {
          "output_type": "execute_result",
          "data": {
            "text/html": [
              "<div>\n",
              "<style scoped>\n",
              "    .dataframe tbody tr th:only-of-type {\n",
              "        vertical-align: middle;\n",
              "    }\n",
              "\n",
              "    .dataframe tbody tr th {\n",
              "        vertical-align: top;\n",
              "    }\n",
              "\n",
              "    .dataframe thead th {\n",
              "        text-align: right;\n",
              "    }\n",
              "</style>\n",
              "<table border=\"1\" class=\"dataframe\">\n",
              "  <thead>\n",
              "    <tr style=\"text-align: right;\">\n",
              "      <th></th>\n",
              "      <th>index</th>\n",
              "      <th>Neighborhood</th>\n",
              "      <th>Neighborhood Latitude</th>\n",
              "      <th>Neighborhood Longitude</th>\n",
              "      <th>Venue</th>\n",
              "      <th>Venue Latitude</th>\n",
              "      <th>Venue Longitude</th>\n",
              "      <th>Venue Category</th>\n",
              "    </tr>\n",
              "  </thead>\n",
              "  <tbody>\n",
              "    <tr>\n",
              "      <th>400</th>\n",
              "      <td>573</td>\n",
              "      <td>Worli</td>\n",
              "      <td>19.011696</td>\n",
              "      <td>72.81807</td>\n",
              "      <td>Worli Sea Face</td>\n",
              "      <td>19.009216</td>\n",
              "      <td>72.815022</td>\n",
              "      <td>Scenic Lookout</td>\n",
              "    </tr>\n",
              "    <tr>\n",
              "      <th>403</th>\n",
              "      <td>576</td>\n",
              "      <td>Worli</td>\n",
              "      <td>19.011696</td>\n",
              "      <td>72.81807</td>\n",
              "      <td>Worli Drive</td>\n",
              "      <td>19.012063</td>\n",
              "      <td>72.815610</td>\n",
              "      <td>Scenic Lookout</td>\n",
              "    </tr>\n",
              "    <tr>\n",
              "      <th>413</th>\n",
              "      <td>587</td>\n",
              "      <td>Worli</td>\n",
              "      <td>19.011696</td>\n",
              "      <td>72.81807</td>\n",
              "      <td>Century Bazaar, Worli</td>\n",
              "      <td>19.012736</td>\n",
              "      <td>72.823949</td>\n",
              "      <td>Scenic Lookout</td>\n",
              "    </tr>\n",
              "  </tbody>\n",
              "</table>\n",
              "</div>"
            ],
            "text/plain": [
              "     index Neighborhood  ...  Venue Longitude  Venue Category\n",
              "400    573        Worli  ...        72.815022  Scenic Lookout\n",
              "403    576        Worli  ...        72.815610  Scenic Lookout\n",
              "413    587        Worli  ...        72.823949  Scenic Lookout\n",
              "\n",
              "[3 rows x 8 columns]"
            ]
          },
          "metadata": {
            "tags": []
          },
          "execution_count": 60
        }
      ]
    },
    {
      "cell_type": "code",
      "metadata": {
        "id": "aHHS5G1MuN4e",
        "colab_type": "code",
        "outputId": "d84b2086-37d0-4bdb-b5ae-06330c54e10d",
        "colab": {
          "base_uri": "https://localhost:8080/",
          "height": 594
        }
      },
      "source": [
        "south_mumbai_venues.loc[south_mumbai_venues['Neighborhood'] == 'Worli']\n",
        "\n",
        "test_df = south_mumbai_venues\n",
        "venue_list = ['Worli Drive','Century Bazaar, Worli','Sea Corner']\n",
        "print(\"bef:\",test_df.shape)\n",
        "test_df = test_df[test_df['Venue'].isin(venue_list) == False]\n",
        "print(\"aft:\",test_df.shape)\n",
        "south_mumbai_venues = test_df\n",
        "south_mumbai_venues.loc[south_mumbai_venues['Neighborhood'] == 'Worli']\n",
        "\n"
      ],
      "execution_count": 61,
      "outputs": [
        {
          "output_type": "stream",
          "text": [
            "bef: (866, 8)\n",
            "aft: (864, 8)\n"
          ],
          "name": "stdout"
        },
        {
          "output_type": "execute_result",
          "data": {
            "text/html": [
              "<div>\n",
              "<style scoped>\n",
              "    .dataframe tbody tr th:only-of-type {\n",
              "        vertical-align: middle;\n",
              "    }\n",
              "\n",
              "    .dataframe tbody tr th {\n",
              "        vertical-align: top;\n",
              "    }\n",
              "\n",
              "    .dataframe thead th {\n",
              "        text-align: right;\n",
              "    }\n",
              "</style>\n",
              "<table border=\"1\" class=\"dataframe\">\n",
              "  <thead>\n",
              "    <tr style=\"text-align: right;\">\n",
              "      <th></th>\n",
              "      <th>index</th>\n",
              "      <th>Neighborhood</th>\n",
              "      <th>Neighborhood Latitude</th>\n",
              "      <th>Neighborhood Longitude</th>\n",
              "      <th>Venue</th>\n",
              "      <th>Venue Latitude</th>\n",
              "      <th>Venue Longitude</th>\n",
              "      <th>Venue Category</th>\n",
              "    </tr>\n",
              "  </thead>\n",
              "  <tbody>\n",
              "    <tr>\n",
              "      <th>400</th>\n",
              "      <td>573</td>\n",
              "      <td>Worli</td>\n",
              "      <td>19.011696</td>\n",
              "      <td>72.81807</td>\n",
              "      <td>Worli Sea Face</td>\n",
              "      <td>19.009216</td>\n",
              "      <td>72.815022</td>\n",
              "      <td>Scenic Lookout</td>\n",
              "    </tr>\n",
              "    <tr>\n",
              "      <th>401</th>\n",
              "      <td>574</td>\n",
              "      <td>Worli</td>\n",
              "      <td>19.011696</td>\n",
              "      <td>72.81807</td>\n",
              "      <td>Slink &amp; Bardot</td>\n",
              "      <td>19.017170</td>\n",
              "      <td>72.817532</td>\n",
              "      <td>French Restaurant</td>\n",
              "    </tr>\n",
              "    <tr>\n",
              "      <th>402</th>\n",
              "      <td>575</td>\n",
              "      <td>Worli</td>\n",
              "      <td>19.011696</td>\n",
              "      <td>72.81807</td>\n",
              "      <td>Starbucks Coffee: A Tata Alliance</td>\n",
              "      <td>19.012851</td>\n",
              "      <td>72.823886</td>\n",
              "      <td>Coffee Shop</td>\n",
              "    </tr>\n",
              "    <tr>\n",
              "      <th>404</th>\n",
              "      <td>577</td>\n",
              "      <td>Worli</td>\n",
              "      <td>19.011696</td>\n",
              "      <td>72.81807</td>\n",
              "      <td>Cafe Nemo</td>\n",
              "      <td>19.017172</td>\n",
              "      <td>72.817548</td>\n",
              "      <td>Café</td>\n",
              "    </tr>\n",
              "    <tr>\n",
              "      <th>405</th>\n",
              "      <td>578</td>\n",
              "      <td>Worli</td>\n",
              "      <td>19.011696</td>\n",
              "      <td>72.81807</td>\n",
              "      <td>Cool Chef Café</td>\n",
              "      <td>19.017002</td>\n",
              "      <td>72.817544</td>\n",
              "      <td>Café</td>\n",
              "    </tr>\n",
              "    <tr>\n",
              "      <th>406</th>\n",
              "      <td>579</td>\n",
              "      <td>Worli</td>\n",
              "      <td>19.011696</td>\n",
              "      <td>72.81807</td>\n",
              "      <td>Indiabulls.parel.</td>\n",
              "      <td>19.011488</td>\n",
              "      <td>72.820471</td>\n",
              "      <td>Paper / Office Supplies Store</td>\n",
              "    </tr>\n",
              "    <tr>\n",
              "      <th>407</th>\n",
              "      <td>580</td>\n",
              "      <td>Worli</td>\n",
              "      <td>19.011696</td>\n",
              "      <td>72.81807</td>\n",
              "      <td>Google India Ltd</td>\n",
              "      <td>19.011501</td>\n",
              "      <td>72.820469</td>\n",
              "      <td>Fitness/Gym/Spa</td>\n",
              "    </tr>\n",
              "    <tr>\n",
              "      <th>408</th>\n",
              "      <td>581</td>\n",
              "      <td>Worli</td>\n",
              "      <td>19.011696</td>\n",
              "      <td>72.81807</td>\n",
              "      <td>National sports club of India</td>\n",
              "      <td>19.014701</td>\n",
              "      <td>72.817081</td>\n",
              "      <td>Sports Club</td>\n",
              "    </tr>\n",
              "    <tr>\n",
              "      <th>409</th>\n",
              "      <td>583</td>\n",
              "      <td>Worli</td>\n",
              "      <td>19.011696</td>\n",
              "      <td>72.81807</td>\n",
              "      <td>Sandwich Guy</td>\n",
              "      <td>19.011256</td>\n",
              "      <td>72.821646</td>\n",
              "      <td>Sandwich Place</td>\n",
              "    </tr>\n",
              "    <tr>\n",
              "      <th>410</th>\n",
              "      <td>584</td>\n",
              "      <td>Worli</td>\n",
              "      <td>19.011696</td>\n",
              "      <td>72.81807</td>\n",
              "      <td>Juice Joint</td>\n",
              "      <td>19.010453</td>\n",
              "      <td>72.821536</td>\n",
              "      <td>Juice Bar</td>\n",
              "    </tr>\n",
              "    <tr>\n",
              "      <th>411</th>\n",
              "      <td>585</td>\n",
              "      <td>Worli</td>\n",
              "      <td>19.011696</td>\n",
              "      <td>72.81807</td>\n",
              "      <td>SaffronArt</td>\n",
              "      <td>19.005868</td>\n",
              "      <td>72.817704</td>\n",
              "      <td>Art Gallery</td>\n",
              "    </tr>\n",
              "    <tr>\n",
              "      <th>412</th>\n",
              "      <td>586</td>\n",
              "      <td>Worli</td>\n",
              "      <td>19.011696</td>\n",
              "      <td>72.81807</td>\n",
              "      <td>Worli Sports Club</td>\n",
              "      <td>19.015098</td>\n",
              "      <td>72.821836</td>\n",
              "      <td>Sports</td>\n",
              "    </tr>\n",
              "    <tr>\n",
              "      <th>414</th>\n",
              "      <td>588</td>\n",
              "      <td>Worli</td>\n",
              "      <td>19.011696</td>\n",
              "      <td>72.81807</td>\n",
              "      <td>Worli Sea Face Kebab rolls</td>\n",
              "      <td>19.007430</td>\n",
              "      <td>72.814346</td>\n",
              "      <td>Arcade</td>\n",
              "    </tr>\n",
              "    <tr>\n",
              "      <th>415</th>\n",
              "      <td>589</td>\n",
              "      <td>Worli</td>\n",
              "      <td>19.011696</td>\n",
              "      <td>72.81807</td>\n",
              "      <td>Godrej Nature's Basket</td>\n",
              "      <td>19.012846</td>\n",
              "      <td>72.823869</td>\n",
              "      <td>Gourmet Shop</td>\n",
              "    </tr>\n",
              "  </tbody>\n",
              "</table>\n",
              "</div>"
            ],
            "text/plain": [
              "     index Neighborhood  ...  Venue Longitude                 Venue Category\n",
              "400    573        Worli  ...        72.815022                 Scenic Lookout\n",
              "401    574        Worli  ...        72.817532              French Restaurant\n",
              "402    575        Worli  ...        72.823886                    Coffee Shop\n",
              "404    577        Worli  ...        72.817548                           Café\n",
              "405    578        Worli  ...        72.817544                           Café\n",
              "406    579        Worli  ...        72.820471  Paper / Office Supplies Store\n",
              "407    580        Worli  ...        72.820469                Fitness/Gym/Spa\n",
              "408    581        Worli  ...        72.817081                    Sports Club\n",
              "409    583        Worli  ...        72.821646                 Sandwich Place\n",
              "410    584        Worli  ...        72.821536                      Juice Bar\n",
              "411    585        Worli  ...        72.817704                    Art Gallery\n",
              "412    586        Worli  ...        72.821836                         Sports\n",
              "414    588        Worli  ...        72.814346                         Arcade\n",
              "415    589        Worli  ...        72.823869                   Gourmet Shop\n",
              "\n",
              "[14 rows x 8 columns]"
            ]
          },
          "metadata": {
            "tags": []
          },
          "execution_count": 61
        }
      ]
    },
    {
      "cell_type": "markdown",
      "metadata": {
        "id": "5KzEQYVWLZTv",
        "colab_type": "text"
      },
      "source": [
        "### **Correction of some categories**"
      ]
    },
    {
      "cell_type": "code",
      "metadata": {
        "id": "tOADRfcH4L8T",
        "colab_type": "code",
        "outputId": "88216a31-cbc9-4385-fb8c-4030d1684d73",
        "colab": {
          "base_uri": "https://localhost:8080/",
          "height": 490
        }
      },
      "source": [
        "#df1.loc[df1['stream'] == 2, 'feat'] = 10\n",
        "\n",
        "test_df = south_mumbai_venues\n",
        "\n",
        "test_df.loc[test_df['Venue'] == 'Boat ride, gateway of india', 'Venue Category'] = 'Boat ride'\n",
        "\n",
        "test_df.iloc[70:72]\n",
        "#south_mumbai_venues = test_df\n",
        "\n",
        "# Dropped Harbor / Marina from Masjid Bandar\n",
        "test_df = south_mumbai_venues\n",
        "venue_cat_list = ['Harbor / Marina']\n",
        "print(\"bef:\",test_df.shape)\n",
        "test_df = test_df[test_df['Venue Category'].isin(venue_cat_list) == False]\n",
        "print(\"aft:\",test_df.shape)\n",
        "\n",
        "south_mumbai_venues = test_df\n",
        "south_mumbai_venues.loc[south_mumbai_venues['Neighborhood'] == 'Masjid Bandar']\n",
        "\n"
      ],
      "execution_count": 62,
      "outputs": [
        {
          "output_type": "stream",
          "text": [
            "bef: (864, 8)\n",
            "aft: (859, 8)\n"
          ],
          "name": "stdout"
        },
        {
          "output_type": "execute_result",
          "data": {
            "text/html": [
              "<div>\n",
              "<style scoped>\n",
              "    .dataframe tbody tr th:only-of-type {\n",
              "        vertical-align: middle;\n",
              "    }\n",
              "\n",
              "    .dataframe tbody tr th {\n",
              "        vertical-align: top;\n",
              "    }\n",
              "\n",
              "    .dataframe thead th {\n",
              "        text-align: right;\n",
              "    }\n",
              "</style>\n",
              "<table border=\"1\" class=\"dataframe\">\n",
              "  <thead>\n",
              "    <tr style=\"text-align: right;\">\n",
              "      <th></th>\n",
              "      <th>index</th>\n",
              "      <th>Neighborhood</th>\n",
              "      <th>Neighborhood Latitude</th>\n",
              "      <th>Neighborhood Longitude</th>\n",
              "      <th>Venue</th>\n",
              "      <th>Venue Latitude</th>\n",
              "      <th>Venue Longitude</th>\n",
              "      <th>Venue Category</th>\n",
              "    </tr>\n",
              "  </thead>\n",
              "  <tbody>\n",
              "    <tr>\n",
              "      <th>310</th>\n",
              "      <td>412</td>\n",
              "      <td>Masjid Bandar</td>\n",
              "      <td>18.953599</td>\n",
              "      <td>72.838126</td>\n",
              "      <td>Patel Restaurant</td>\n",
              "      <td>18.949798</td>\n",
              "      <td>72.834655</td>\n",
              "      <td>Restaurant</td>\n",
              "    </tr>\n",
              "    <tr>\n",
              "      <th>311</th>\n",
              "      <td>414</td>\n",
              "      <td>Masjid Bandar</td>\n",
              "      <td>18.953599</td>\n",
              "      <td>72.838126</td>\n",
              "      <td>Chinese-n-Grill</td>\n",
              "      <td>18.954864</td>\n",
              "      <td>72.833804</td>\n",
              "      <td>Chinese Restaurant</td>\n",
              "    </tr>\n",
              "    <tr>\n",
              "      <th>312</th>\n",
              "      <td>415</td>\n",
              "      <td>Masjid Bandar</td>\n",
              "      <td>18.953599</td>\n",
              "      <td>72.838126</td>\n",
              "      <td>Elphinestone Hotel</td>\n",
              "      <td>18.948737</td>\n",
              "      <td>72.840571</td>\n",
              "      <td>Hotel</td>\n",
              "    </tr>\n",
              "    <tr>\n",
              "      <th>313</th>\n",
              "      <td>418</td>\n",
              "      <td>Masjid Bandar</td>\n",
              "      <td>18.953599</td>\n",
              "      <td>72.838126</td>\n",
              "      <td>Masjid Bunder Market</td>\n",
              "      <td>18.953300</td>\n",
              "      <td>72.837081</td>\n",
              "      <td>Convenience Store</td>\n",
              "    </tr>\n",
              "    <tr>\n",
              "      <th>314</th>\n",
              "      <td>419</td>\n",
              "      <td>Masjid Bandar</td>\n",
              "      <td>18.953599</td>\n",
              "      <td>72.838126</td>\n",
              "      <td>Jeetu Sandwich</td>\n",
              "      <td>18.956031</td>\n",
              "      <td>72.837381</td>\n",
              "      <td>Sandwich Place</td>\n",
              "    </tr>\n",
              "    <tr>\n",
              "      <th>315</th>\n",
              "      <td>420</td>\n",
              "      <td>Masjid Bandar</td>\n",
              "      <td>18.953599</td>\n",
              "      <td>72.838126</td>\n",
              "      <td>Abu Baba</td>\n",
              "      <td>18.955005</td>\n",
              "      <td>72.834744</td>\n",
              "      <td>Smoke Shop</td>\n",
              "    </tr>\n",
              "    <tr>\n",
              "      <th>317</th>\n",
              "      <td>423</td>\n",
              "      <td>Masjid Bandar</td>\n",
              "      <td>18.953599</td>\n",
              "      <td>72.838126</td>\n",
              "      <td>Le Mill</td>\n",
              "      <td>18.957379</td>\n",
              "      <td>72.840742</td>\n",
              "      <td>Furniture / Home Store</td>\n",
              "    </tr>\n",
              "    <tr>\n",
              "      <th>318</th>\n",
              "      <td>425</td>\n",
              "      <td>Masjid Bandar</td>\n",
              "      <td>18.953599</td>\n",
              "      <td>72.838126</td>\n",
              "      <td>Green Fields Restaurant</td>\n",
              "      <td>18.957929</td>\n",
              "      <td>72.835892</td>\n",
              "      <td>Smoke Shop</td>\n",
              "    </tr>\n",
              "    <tr>\n",
              "      <th>319</th>\n",
              "      <td>426</td>\n",
              "      <td>Masjid Bandar</td>\n",
              "      <td>18.953599</td>\n",
              "      <td>72.838126</td>\n",
              "      <td>Simla</td>\n",
              "      <td>18.957929</td>\n",
              "      <td>72.835817</td>\n",
              "      <td>Café</td>\n",
              "    </tr>\n",
              "    <tr>\n",
              "      <th>321</th>\n",
              "      <td>428</td>\n",
              "      <td>Masjid Bandar</td>\n",
              "      <td>18.953599</td>\n",
              "      <td>72.838126</td>\n",
              "      <td>Musafir Khana</td>\n",
              "      <td>18.948624</td>\n",
              "      <td>72.840431</td>\n",
              "      <td>Convenience Store</td>\n",
              "    </tr>\n",
              "  </tbody>\n",
              "</table>\n",
              "</div>"
            ],
            "text/plain": [
              "     index   Neighborhood  ...  Venue Longitude          Venue Category\n",
              "310    412  Masjid Bandar  ...        72.834655              Restaurant\n",
              "311    414  Masjid Bandar  ...        72.833804      Chinese Restaurant\n",
              "312    415  Masjid Bandar  ...        72.840571                   Hotel\n",
              "313    418  Masjid Bandar  ...        72.837081       Convenience Store\n",
              "314    419  Masjid Bandar  ...        72.837381          Sandwich Place\n",
              "315    420  Masjid Bandar  ...        72.834744              Smoke Shop\n",
              "317    423  Masjid Bandar  ...        72.840742  Furniture / Home Store\n",
              "318    425  Masjid Bandar  ...        72.835892              Smoke Shop\n",
              "319    426  Masjid Bandar  ...        72.835817                    Café\n",
              "321    428  Masjid Bandar  ...        72.840431       Convenience Store\n",
              "\n",
              "[10 rows x 8 columns]"
            ]
          },
          "metadata": {
            "tags": []
          },
          "execution_count": 62
        }
      ]
    },
    {
      "cell_type": "markdown",
      "metadata": {
        "id": "qlNrXGQqSk4J",
        "colab_type": "text"
      },
      "source": [
        "# **Iteration: 1**"
      ]
    },
    {
      "cell_type": "markdown",
      "metadata": {
        "id": "_D0CctqizzMd",
        "colab_type": "text"
      },
      "source": [
        "### **Remove certain categories and do an iteration.**\n"
      ]
    },
    {
      "cell_type": "code",
      "metadata": {
        "id": "HoGHTZ6d6DcO",
        "colab_type": "code",
        "outputId": "f7c76b71-32e7-45dd-d675-d4057daebeca",
        "colab": {
          "base_uri": "https://localhost:8080/",
          "height": 35
        }
      },
      "source": [
        "venue_category = ['Indian Restaurant','Bar/Pub','Coffee Shop','Restaurant','Fast Food Restaurant','Train/Metro/Bus','Café']\n",
        "test_df = south_mumbai_venues\n",
        "test_df = test_df[test_df['Venue Category'].isin(venue_category) == False]\n",
        "test_df.shape\n",
        "south_mumbai_venues = test_df\n",
        "south_mumbai_venues.shape"
      ],
      "execution_count": 64,
      "outputs": [
        {
          "output_type": "execute_result",
          "data": {
            "text/plain": [
              "(619, 8)"
            ]
          },
          "metadata": {
            "tags": []
          },
          "execution_count": 64
        }
      ]
    },
    {
      "cell_type": "markdown",
      "metadata": {
        "id": "DsAW9dJPSyOM",
        "colab_type": "text"
      },
      "source": [
        "# **Iteration: 2**"
      ]
    },
    {
      "cell_type": "markdown",
      "metadata": {
        "id": "C_1-XA9rS5Rm",
        "colab_type": "text"
      },
      "source": [
        "### **Remove some more categories and do an iteration.**"
      ]
    },
    {
      "cell_type": "code",
      "metadata": {
        "id": "01N0cw4TTMsP",
        "colab_type": "code",
        "colab": {}
      },
      "source": [
        ""
      ],
      "execution_count": 0,
      "outputs": []
    },
    {
      "cell_type": "code",
      "metadata": {
        "id": "xXzyLKNY6GSr",
        "colab_type": "code",
        "colab": {}
      },
      "source": [
        "test_df.to_csv(\"groupby_nbhood.csv\")"
      ],
      "execution_count": 0,
      "outputs": []
    },
    {
      "cell_type": "markdown",
      "metadata": {
        "id": "9L42sEeVIc1w",
        "colab_type": "text"
      },
      "source": [
        "# **Checkpoint:1:**"
      ]
    },
    {
      "cell_type": "markdown",
      "metadata": {
        "id": "UB6sslmQIse0",
        "colab_type": "text"
      },
      "source": [
        "### **Backup : south_mumbai_venues**"
      ]
    },
    {
      "cell_type": "code",
      "metadata": {
        "id": "tGnp9GjXI0z5",
        "colab_type": "code",
        "colab": {}
      },
      "source": [
        "south_mumbai_venues_bkp1 = south_mumbai_venues\n",
        "south_mumbai_venues_bkp2 = south_mumbai_venues\n",
        "south_mumbai_venues_bkp3 = south_mumbai_venues\n",
        "\n"
      ],
      "execution_count": 0,
      "outputs": []
    },
    {
      "cell_type": "code",
      "metadata": {
        "id": "OrRGKK_akUI6",
        "colab_type": "code",
        "colab": {}
      },
      "source": [
        "south_mumbai_venues.to_csv(\"south_mumbai_venues_clean.csv\")"
      ],
      "execution_count": 0,
      "outputs": []
    },
    {
      "cell_type": "code",
      "metadata": {
        "id": "n5mEMrWkM33e",
        "colab_type": "code",
        "colab": {
          "base_uri": "https://localhost:8080/",
          "height": 52
        },
        "outputId": "5b187eeb-3ae5-44b7-b448-b652e245d9b2"
      },
      "source": [
        "print(\"After all cleanup:Total venues:\",south_mumbai_venues.shape[0])\n",
        "print(\"After all cleanup:Total neigborhoods:\",neighborhoods.shape[0])\n"
      ],
      "execution_count": 67,
      "outputs": [
        {
          "output_type": "stream",
          "text": [
            "After all cleanup:Total venues: 619\n",
            "After all cleanup:Total neigborhoods: 39\n"
          ],
          "name": "stdout"
        }
      ]
    },
    {
      "cell_type": "markdown",
      "metadata": {
        "id": "q8olm864t0kf",
        "colab_type": "text"
      },
      "source": [
        "### **Data Cleansing ends here.**"
      ]
    },
    {
      "cell_type": "markdown",
      "metadata": {
        "id": "tRwAJkflsZgB",
        "colab_type": "text"
      },
      "source": [
        "## **Analyze Each Neighborhood of Mumbai.**"
      ]
    },
    {
      "cell_type": "code",
      "metadata": {
        "id": "QeCtyWSFbIiL",
        "colab_type": "code",
        "outputId": "b8121423-b51e-49e8-9bb1-32da67e68601",
        "colab": {
          "base_uri": "https://localhost:8080/",
          "height": 35
        }
      },
      "source": [
        "# one hot encoding\n",
        "south_mumbai_onehot = pd.get_dummies(south_mumbai_venues[['Venue Category']], prefix=\"\", prefix_sep=\"\")\n",
        "\n",
        "# add neighborhood column back to dataframe\n",
        "south_mumbai_onehot['Neighborhood'] = south_mumbai_venues['Neighborhood'] \n",
        "\n",
        "# move neighborhood column to the first column\n",
        "fixed_columns = [south_mumbai_onehot.columns[-1]] + list(south_mumbai_onehot.columns[:-1])\n",
        "south_mumbai_onehot = south_mumbai_onehot[fixed_columns]\n",
        "\n",
        "south_mumbai_onehot.shape\n"
      ],
      "execution_count": 68,
      "outputs": [
        {
          "output_type": "execute_result",
          "data": {
            "text/plain": [
              "(619, 129)"
            ]
          },
          "metadata": {
            "tags": []
          },
          "execution_count": 68
        }
      ]
    },
    {
      "cell_type": "code",
      "metadata": {
        "id": "yudeqWF-b3ap",
        "colab_type": "code",
        "outputId": "c6760450-c032-4589-d5d6-6c4812c0b8ec",
        "colab": {
          "base_uri": "https://localhost:8080/",
          "height": 35
        }
      },
      "source": [
        "#And let's examine the new dataframe size.\n",
        "south_mumbai_onehot.shape  "
      ],
      "execution_count": 69,
      "outputs": [
        {
          "output_type": "execute_result",
          "data": {
            "text/plain": [
              "(619, 129)"
            ]
          },
          "metadata": {
            "tags": []
          },
          "execution_count": 69
        }
      ]
    },
    {
      "cell_type": "markdown",
      "metadata": {
        "id": "OAj4WLORs0bn",
        "colab_type": "text"
      },
      "source": [
        "# **Group rows by neighborhood.**"
      ]
    },
    {
      "cell_type": "markdown",
      "metadata": {
        "id": "N1SN8xmWs7ps",
        "colab_type": "text"
      },
      "source": [
        "### **Take mean of the frequency of occurrence of each category.**"
      ]
    },
    {
      "cell_type": "code",
      "metadata": {
        "id": "Cedj_WOWcNxI",
        "colab_type": "code",
        "outputId": "1c998cda-ff50-48b7-8e7b-aa1bdd3e634c",
        "colab": {
          "base_uri": "https://localhost:8080/",
          "height": 470
        }
      },
      "source": [
        "south_mumbai_grouped = south_mumbai_onehot.groupby('Neighborhood').mean().reset_index()\n",
        "print(\"This matrix has {} rows and {} columns\".format(south_mumbai_grouped.shape[0],south_mumbai_grouped.shape[1]))\n",
        "south_mumbai_grouped.head(10)"
      ],
      "execution_count": 75,
      "outputs": [
        {
          "output_type": "stream",
          "text": [
            "This matrix has 29 rows and 129 columns\n"
          ],
          "name": "stdout"
        },
        {
          "output_type": "execute_result",
          "data": {
            "text/html": [
              "<div>\n",
              "<style scoped>\n",
              "    .dataframe tbody tr th:only-of-type {\n",
              "        vertical-align: middle;\n",
              "    }\n",
              "\n",
              "    .dataframe tbody tr th {\n",
              "        vertical-align: top;\n",
              "    }\n",
              "\n",
              "    .dataframe thead th {\n",
              "        text-align: right;\n",
              "    }\n",
              "</style>\n",
              "<table border=\"1\" class=\"dataframe\">\n",
              "  <thead>\n",
              "    <tr style=\"text-align: right;\">\n",
              "      <th></th>\n",
              "      <th>Neighborhood</th>\n",
              "      <th>Accessories Store</th>\n",
              "      <th>Airport Service</th>\n",
              "      <th>American Restaurant</th>\n",
              "      <th>Aquarium</th>\n",
              "      <th>Arcade</th>\n",
              "      <th>Art Gallery</th>\n",
              "      <th>Arts &amp; Crafts Store</th>\n",
              "      <th>Asian Restaurant</th>\n",
              "      <th>BBQ Joint</th>\n",
              "      <th>Bagel Shop</th>\n",
              "      <th>Bakery</th>\n",
              "      <th>Bank</th>\n",
              "      <th>Beach</th>\n",
              "      <th>Bed &amp; Breakfast</th>\n",
              "      <th>Beer Bar</th>\n",
              "      <th>Beer Garden</th>\n",
              "      <th>Bengali Restaurant</th>\n",
              "      <th>Boat or Ferry</th>\n",
              "      <th>Boat ride</th>\n",
              "      <th>Bookstore</th>\n",
              "      <th>Boutique</th>\n",
              "      <th>Breakfast Spot</th>\n",
              "      <th>Brewery</th>\n",
              "      <th>Bridal Shop</th>\n",
              "      <th>Burger Joint</th>\n",
              "      <th>Burrito Place</th>\n",
              "      <th>Chaat Place</th>\n",
              "      <th>Cheese Shop</th>\n",
              "      <th>Chinese Restaurant</th>\n",
              "      <th>Clothing Store</th>\n",
              "      <th>Club House</th>\n",
              "      <th>College Academic Building</th>\n",
              "      <th>College Auditorium</th>\n",
              "      <th>College Technology Building</th>\n",
              "      <th>Comedy Club</th>\n",
              "      <th>Comfort Food Restaurant</th>\n",
              "      <th>Convenience Store</th>\n",
              "      <th>Creperie</th>\n",
              "      <th>Cupcake Shop</th>\n",
              "      <th>...</th>\n",
              "      <th>Monument / Landmark</th>\n",
              "      <th>Mughlai Restaurant</th>\n",
              "      <th>Music Store</th>\n",
              "      <th>Music Venue</th>\n",
              "      <th>Nightclub</th>\n",
              "      <th>Noodle House</th>\n",
              "      <th>North Indian Restaurant</th>\n",
              "      <th>Other Great Outdoors</th>\n",
              "      <th>Outdoors &amp; Recreation</th>\n",
              "      <th>Paper / Office Supplies Store</th>\n",
              "      <th>Park/Garden</th>\n",
              "      <th>Parsi Restaurant</th>\n",
              "      <th>Pharmacy</th>\n",
              "      <th>Pizza Place</th>\n",
              "      <th>Platform</th>\n",
              "      <th>Plaza</th>\n",
              "      <th>Pool</th>\n",
              "      <th>Racetrack</th>\n",
              "      <th>Salad Place</th>\n",
              "      <th>Salon / Barbershop</th>\n",
              "      <th>Sandwich Place</th>\n",
              "      <th>Scenic Lookout</th>\n",
              "      <th>Sculpture Garden</th>\n",
              "      <th>Seafood Restaurant</th>\n",
              "      <th>Shoe Store</th>\n",
              "      <th>Shopping Mall</th>\n",
              "      <th>Smoke Shop</th>\n",
              "      <th>Snack Place</th>\n",
              "      <th>Spanish Restaurant</th>\n",
              "      <th>Sports</th>\n",
              "      <th>Sports Club</th>\n",
              "      <th>Steakhouse</th>\n",
              "      <th>Tea Room</th>\n",
              "      <th>Tex-Mex Restaurant</th>\n",
              "      <th>Thai Restaurant</th>\n",
              "      <th>Theater\\Multiplex</th>\n",
              "      <th>Toy / Game Store</th>\n",
              "      <th>Vegetarian / Vegan Restaurant</th>\n",
              "      <th>Women's Store</th>\n",
              "      <th>Zoo</th>\n",
              "    </tr>\n",
              "  </thead>\n",
              "  <tbody>\n",
              "    <tr>\n",
              "      <th>0</th>\n",
              "      <td>Andheri</td>\n",
              "      <td>0.0</td>\n",
              "      <td>0.000000</td>\n",
              "      <td>0.0</td>\n",
              "      <td>0.0</td>\n",
              "      <td>0.000000</td>\n",
              "      <td>0.0</td>\n",
              "      <td>0.0</td>\n",
              "      <td>0.000000</td>\n",
              "      <td>0.000000</td>\n",
              "      <td>0.000000</td>\n",
              "      <td>0.125000</td>\n",
              "      <td>0.0</td>\n",
              "      <td>0.000000</td>\n",
              "      <td>0.0</td>\n",
              "      <td>0.0</td>\n",
              "      <td>0.000000</td>\n",
              "      <td>0.0</td>\n",
              "      <td>0.000000</td>\n",
              "      <td>0.000000</td>\n",
              "      <td>0.000000</td>\n",
              "      <td>0.000000</td>\n",
              "      <td>0.000000</td>\n",
              "      <td>0.000000</td>\n",
              "      <td>0.0</td>\n",
              "      <td>0.125000</td>\n",
              "      <td>0.0</td>\n",
              "      <td>0.0</td>\n",
              "      <td>0.0</td>\n",
              "      <td>0.000000</td>\n",
              "      <td>0.000000</td>\n",
              "      <td>0.0</td>\n",
              "      <td>0.000000</td>\n",
              "      <td>0.000000</td>\n",
              "      <td>0.0</td>\n",
              "      <td>0.000000</td>\n",
              "      <td>0.0</td>\n",
              "      <td>0.000000</td>\n",
              "      <td>0.0</td>\n",
              "      <td>0.0</td>\n",
              "      <td>...</td>\n",
              "      <td>0.000000</td>\n",
              "      <td>0.000000</td>\n",
              "      <td>0.0</td>\n",
              "      <td>0.0</td>\n",
              "      <td>0.000000</td>\n",
              "      <td>0.000000</td>\n",
              "      <td>0.0</td>\n",
              "      <td>0.000000</td>\n",
              "      <td>0.0</td>\n",
              "      <td>0.000000</td>\n",
              "      <td>0.000000</td>\n",
              "      <td>0.000000</td>\n",
              "      <td>0.0</td>\n",
              "      <td>0.000000</td>\n",
              "      <td>0.000000</td>\n",
              "      <td>0.000000</td>\n",
              "      <td>0.0</td>\n",
              "      <td>0.0</td>\n",
              "      <td>0.000000</td>\n",
              "      <td>0.000000</td>\n",
              "      <td>0.125000</td>\n",
              "      <td>0.0</td>\n",
              "      <td>0.000000</td>\n",
              "      <td>0.000000</td>\n",
              "      <td>0.0</td>\n",
              "      <td>0.000000</td>\n",
              "      <td>0.000000</td>\n",
              "      <td>0.125000</td>\n",
              "      <td>0.000000</td>\n",
              "      <td>0.000000</td>\n",
              "      <td>0.0</td>\n",
              "      <td>0.000000</td>\n",
              "      <td>0.000000</td>\n",
              "      <td>0.0</td>\n",
              "      <td>0.000000</td>\n",
              "      <td>0.000000</td>\n",
              "      <td>0.000000</td>\n",
              "      <td>0.000000</td>\n",
              "      <td>0.000000</td>\n",
              "      <td>0.0</td>\n",
              "    </tr>\n",
              "    <tr>\n",
              "      <th>1</th>\n",
              "      <td>Apollo Bandar</td>\n",
              "      <td>0.0</td>\n",
              "      <td>0.000000</td>\n",
              "      <td>0.0</td>\n",
              "      <td>0.0</td>\n",
              "      <td>0.000000</td>\n",
              "      <td>0.0</td>\n",
              "      <td>0.0</td>\n",
              "      <td>0.055556</td>\n",
              "      <td>0.000000</td>\n",
              "      <td>0.000000</td>\n",
              "      <td>0.027778</td>\n",
              "      <td>0.0</td>\n",
              "      <td>0.000000</td>\n",
              "      <td>0.0</td>\n",
              "      <td>0.0</td>\n",
              "      <td>0.000000</td>\n",
              "      <td>0.0</td>\n",
              "      <td>0.083333</td>\n",
              "      <td>0.027778</td>\n",
              "      <td>0.000000</td>\n",
              "      <td>0.000000</td>\n",
              "      <td>0.000000</td>\n",
              "      <td>0.000000</td>\n",
              "      <td>0.0</td>\n",
              "      <td>0.000000</td>\n",
              "      <td>0.0</td>\n",
              "      <td>0.0</td>\n",
              "      <td>0.0</td>\n",
              "      <td>0.055556</td>\n",
              "      <td>0.000000</td>\n",
              "      <td>0.0</td>\n",
              "      <td>0.000000</td>\n",
              "      <td>0.000000</td>\n",
              "      <td>0.0</td>\n",
              "      <td>0.000000</td>\n",
              "      <td>0.0</td>\n",
              "      <td>0.000000</td>\n",
              "      <td>0.0</td>\n",
              "      <td>0.0</td>\n",
              "      <td>...</td>\n",
              "      <td>0.027778</td>\n",
              "      <td>0.055556</td>\n",
              "      <td>0.0</td>\n",
              "      <td>0.0</td>\n",
              "      <td>0.027778</td>\n",
              "      <td>0.000000</td>\n",
              "      <td>0.0</td>\n",
              "      <td>0.000000</td>\n",
              "      <td>0.0</td>\n",
              "      <td>0.000000</td>\n",
              "      <td>0.000000</td>\n",
              "      <td>0.000000</td>\n",
              "      <td>0.0</td>\n",
              "      <td>0.027778</td>\n",
              "      <td>0.000000</td>\n",
              "      <td>0.000000</td>\n",
              "      <td>0.0</td>\n",
              "      <td>0.0</td>\n",
              "      <td>0.000000</td>\n",
              "      <td>0.000000</td>\n",
              "      <td>0.000000</td>\n",
              "      <td>0.0</td>\n",
              "      <td>0.027778</td>\n",
              "      <td>0.000000</td>\n",
              "      <td>0.0</td>\n",
              "      <td>0.000000</td>\n",
              "      <td>0.000000</td>\n",
              "      <td>0.000000</td>\n",
              "      <td>0.000000</td>\n",
              "      <td>0.000000</td>\n",
              "      <td>0.0</td>\n",
              "      <td>0.000000</td>\n",
              "      <td>0.000000</td>\n",
              "      <td>0.0</td>\n",
              "      <td>0.000000</td>\n",
              "      <td>0.000000</td>\n",
              "      <td>0.027778</td>\n",
              "      <td>0.000000</td>\n",
              "      <td>0.000000</td>\n",
              "      <td>0.0</td>\n",
              "    </tr>\n",
              "    <tr>\n",
              "      <th>2</th>\n",
              "      <td>Bandra West</td>\n",
              "      <td>0.0</td>\n",
              "      <td>0.000000</td>\n",
              "      <td>0.0</td>\n",
              "      <td>0.0</td>\n",
              "      <td>0.044118</td>\n",
              "      <td>0.0</td>\n",
              "      <td>0.0</td>\n",
              "      <td>0.058824</td>\n",
              "      <td>0.014706</td>\n",
              "      <td>0.014706</td>\n",
              "      <td>0.088235</td>\n",
              "      <td>0.0</td>\n",
              "      <td>0.000000</td>\n",
              "      <td>0.0</td>\n",
              "      <td>0.0</td>\n",
              "      <td>0.014706</td>\n",
              "      <td>0.0</td>\n",
              "      <td>0.000000</td>\n",
              "      <td>0.000000</td>\n",
              "      <td>0.029412</td>\n",
              "      <td>0.000000</td>\n",
              "      <td>0.014706</td>\n",
              "      <td>0.000000</td>\n",
              "      <td>0.0</td>\n",
              "      <td>0.014706</td>\n",
              "      <td>0.0</td>\n",
              "      <td>0.0</td>\n",
              "      <td>0.0</td>\n",
              "      <td>0.058824</td>\n",
              "      <td>0.014706</td>\n",
              "      <td>0.0</td>\n",
              "      <td>0.000000</td>\n",
              "      <td>0.014706</td>\n",
              "      <td>0.0</td>\n",
              "      <td>0.014706</td>\n",
              "      <td>0.0</td>\n",
              "      <td>0.000000</td>\n",
              "      <td>0.0</td>\n",
              "      <td>0.0</td>\n",
              "      <td>...</td>\n",
              "      <td>0.000000</td>\n",
              "      <td>0.014706</td>\n",
              "      <td>0.0</td>\n",
              "      <td>0.0</td>\n",
              "      <td>0.014706</td>\n",
              "      <td>0.000000</td>\n",
              "      <td>0.0</td>\n",
              "      <td>0.000000</td>\n",
              "      <td>0.0</td>\n",
              "      <td>0.000000</td>\n",
              "      <td>0.014706</td>\n",
              "      <td>0.000000</td>\n",
              "      <td>0.0</td>\n",
              "      <td>0.058824</td>\n",
              "      <td>0.000000</td>\n",
              "      <td>0.000000</td>\n",
              "      <td>0.0</td>\n",
              "      <td>0.0</td>\n",
              "      <td>0.014706</td>\n",
              "      <td>0.000000</td>\n",
              "      <td>0.014706</td>\n",
              "      <td>0.0</td>\n",
              "      <td>0.000000</td>\n",
              "      <td>0.044118</td>\n",
              "      <td>0.0</td>\n",
              "      <td>0.000000</td>\n",
              "      <td>0.014706</td>\n",
              "      <td>0.029412</td>\n",
              "      <td>0.014706</td>\n",
              "      <td>0.000000</td>\n",
              "      <td>0.0</td>\n",
              "      <td>0.014706</td>\n",
              "      <td>0.000000</td>\n",
              "      <td>0.0</td>\n",
              "      <td>0.000000</td>\n",
              "      <td>0.014706</td>\n",
              "      <td>0.000000</td>\n",
              "      <td>0.014706</td>\n",
              "      <td>0.014706</td>\n",
              "      <td>0.0</td>\n",
              "    </tr>\n",
              "    <tr>\n",
              "      <th>3</th>\n",
              "      <td>Bhuleshwar</td>\n",
              "      <td>0.0</td>\n",
              "      <td>0.000000</td>\n",
              "      <td>0.0</td>\n",
              "      <td>0.0</td>\n",
              "      <td>0.111111</td>\n",
              "      <td>0.0</td>\n",
              "      <td>0.0</td>\n",
              "      <td>0.000000</td>\n",
              "      <td>0.111111</td>\n",
              "      <td>0.000000</td>\n",
              "      <td>0.000000</td>\n",
              "      <td>0.0</td>\n",
              "      <td>0.000000</td>\n",
              "      <td>0.0</td>\n",
              "      <td>0.0</td>\n",
              "      <td>0.000000</td>\n",
              "      <td>0.0</td>\n",
              "      <td>0.000000</td>\n",
              "      <td>0.000000</td>\n",
              "      <td>0.000000</td>\n",
              "      <td>0.000000</td>\n",
              "      <td>0.000000</td>\n",
              "      <td>0.000000</td>\n",
              "      <td>0.0</td>\n",
              "      <td>0.000000</td>\n",
              "      <td>0.0</td>\n",
              "      <td>0.0</td>\n",
              "      <td>0.0</td>\n",
              "      <td>0.111111</td>\n",
              "      <td>0.000000</td>\n",
              "      <td>0.0</td>\n",
              "      <td>0.000000</td>\n",
              "      <td>0.000000</td>\n",
              "      <td>0.0</td>\n",
              "      <td>0.000000</td>\n",
              "      <td>0.0</td>\n",
              "      <td>0.000000</td>\n",
              "      <td>0.0</td>\n",
              "      <td>0.0</td>\n",
              "      <td>...</td>\n",
              "      <td>0.000000</td>\n",
              "      <td>0.000000</td>\n",
              "      <td>0.0</td>\n",
              "      <td>0.0</td>\n",
              "      <td>0.000000</td>\n",
              "      <td>0.000000</td>\n",
              "      <td>0.0</td>\n",
              "      <td>0.000000</td>\n",
              "      <td>0.0</td>\n",
              "      <td>0.000000</td>\n",
              "      <td>0.000000</td>\n",
              "      <td>0.000000</td>\n",
              "      <td>0.0</td>\n",
              "      <td>0.000000</td>\n",
              "      <td>0.000000</td>\n",
              "      <td>0.000000</td>\n",
              "      <td>0.0</td>\n",
              "      <td>0.0</td>\n",
              "      <td>0.000000</td>\n",
              "      <td>0.000000</td>\n",
              "      <td>0.000000</td>\n",
              "      <td>0.0</td>\n",
              "      <td>0.000000</td>\n",
              "      <td>0.000000</td>\n",
              "      <td>0.0</td>\n",
              "      <td>0.000000</td>\n",
              "      <td>0.000000</td>\n",
              "      <td>0.111111</td>\n",
              "      <td>0.000000</td>\n",
              "      <td>0.000000</td>\n",
              "      <td>0.0</td>\n",
              "      <td>0.000000</td>\n",
              "      <td>0.000000</td>\n",
              "      <td>0.0</td>\n",
              "      <td>0.000000</td>\n",
              "      <td>0.000000</td>\n",
              "      <td>0.000000</td>\n",
              "      <td>0.000000</td>\n",
              "      <td>0.000000</td>\n",
              "      <td>0.0</td>\n",
              "    </tr>\n",
              "    <tr>\n",
              "      <th>4</th>\n",
              "      <td>Borivali</td>\n",
              "      <td>0.0</td>\n",
              "      <td>0.000000</td>\n",
              "      <td>0.0</td>\n",
              "      <td>0.0</td>\n",
              "      <td>0.000000</td>\n",
              "      <td>0.0</td>\n",
              "      <td>0.0</td>\n",
              "      <td>0.000000</td>\n",
              "      <td>0.000000</td>\n",
              "      <td>0.000000</td>\n",
              "      <td>0.045455</td>\n",
              "      <td>0.0</td>\n",
              "      <td>0.000000</td>\n",
              "      <td>0.0</td>\n",
              "      <td>0.0</td>\n",
              "      <td>0.000000</td>\n",
              "      <td>0.0</td>\n",
              "      <td>0.000000</td>\n",
              "      <td>0.000000</td>\n",
              "      <td>0.000000</td>\n",
              "      <td>0.000000</td>\n",
              "      <td>0.000000</td>\n",
              "      <td>0.000000</td>\n",
              "      <td>0.0</td>\n",
              "      <td>0.045455</td>\n",
              "      <td>0.0</td>\n",
              "      <td>0.0</td>\n",
              "      <td>0.0</td>\n",
              "      <td>0.090909</td>\n",
              "      <td>0.136364</td>\n",
              "      <td>0.0</td>\n",
              "      <td>0.000000</td>\n",
              "      <td>0.000000</td>\n",
              "      <td>0.0</td>\n",
              "      <td>0.000000</td>\n",
              "      <td>0.0</td>\n",
              "      <td>0.045455</td>\n",
              "      <td>0.0</td>\n",
              "      <td>0.0</td>\n",
              "      <td>...</td>\n",
              "      <td>0.000000</td>\n",
              "      <td>0.000000</td>\n",
              "      <td>0.0</td>\n",
              "      <td>0.0</td>\n",
              "      <td>0.000000</td>\n",
              "      <td>0.000000</td>\n",
              "      <td>0.0</td>\n",
              "      <td>0.000000</td>\n",
              "      <td>0.0</td>\n",
              "      <td>0.000000</td>\n",
              "      <td>0.000000</td>\n",
              "      <td>0.000000</td>\n",
              "      <td>0.0</td>\n",
              "      <td>0.045455</td>\n",
              "      <td>0.000000</td>\n",
              "      <td>0.000000</td>\n",
              "      <td>0.0</td>\n",
              "      <td>0.0</td>\n",
              "      <td>0.000000</td>\n",
              "      <td>0.000000</td>\n",
              "      <td>0.090909</td>\n",
              "      <td>0.0</td>\n",
              "      <td>0.000000</td>\n",
              "      <td>0.000000</td>\n",
              "      <td>0.0</td>\n",
              "      <td>0.000000</td>\n",
              "      <td>0.000000</td>\n",
              "      <td>0.045455</td>\n",
              "      <td>0.000000</td>\n",
              "      <td>0.000000</td>\n",
              "      <td>0.0</td>\n",
              "      <td>0.000000</td>\n",
              "      <td>0.000000</td>\n",
              "      <td>0.0</td>\n",
              "      <td>0.000000</td>\n",
              "      <td>0.045455</td>\n",
              "      <td>0.000000</td>\n",
              "      <td>0.090909</td>\n",
              "      <td>0.000000</td>\n",
              "      <td>0.0</td>\n",
              "    </tr>\n",
              "    <tr>\n",
              "      <th>5</th>\n",
              "      <td>Chembur</td>\n",
              "      <td>0.0</td>\n",
              "      <td>0.000000</td>\n",
              "      <td>0.0</td>\n",
              "      <td>0.0</td>\n",
              "      <td>0.000000</td>\n",
              "      <td>0.0</td>\n",
              "      <td>0.0</td>\n",
              "      <td>0.047619</td>\n",
              "      <td>0.000000</td>\n",
              "      <td>0.000000</td>\n",
              "      <td>0.047619</td>\n",
              "      <td>0.0</td>\n",
              "      <td>0.000000</td>\n",
              "      <td>0.0</td>\n",
              "      <td>0.0</td>\n",
              "      <td>0.000000</td>\n",
              "      <td>0.0</td>\n",
              "      <td>0.000000</td>\n",
              "      <td>0.000000</td>\n",
              "      <td>0.000000</td>\n",
              "      <td>0.000000</td>\n",
              "      <td>0.000000</td>\n",
              "      <td>0.000000</td>\n",
              "      <td>0.0</td>\n",
              "      <td>0.000000</td>\n",
              "      <td>0.0</td>\n",
              "      <td>0.0</td>\n",
              "      <td>0.0</td>\n",
              "      <td>0.000000</td>\n",
              "      <td>0.000000</td>\n",
              "      <td>0.0</td>\n",
              "      <td>0.000000</td>\n",
              "      <td>0.000000</td>\n",
              "      <td>0.0</td>\n",
              "      <td>0.000000</td>\n",
              "      <td>0.0</td>\n",
              "      <td>0.000000</td>\n",
              "      <td>0.0</td>\n",
              "      <td>0.0</td>\n",
              "      <td>...</td>\n",
              "      <td>0.000000</td>\n",
              "      <td>0.000000</td>\n",
              "      <td>0.0</td>\n",
              "      <td>0.0</td>\n",
              "      <td>0.000000</td>\n",
              "      <td>0.000000</td>\n",
              "      <td>0.0</td>\n",
              "      <td>0.000000</td>\n",
              "      <td>0.0</td>\n",
              "      <td>0.047619</td>\n",
              "      <td>0.047619</td>\n",
              "      <td>0.000000</td>\n",
              "      <td>0.0</td>\n",
              "      <td>0.000000</td>\n",
              "      <td>0.047619</td>\n",
              "      <td>0.000000</td>\n",
              "      <td>0.0</td>\n",
              "      <td>0.0</td>\n",
              "      <td>0.000000</td>\n",
              "      <td>0.047619</td>\n",
              "      <td>0.000000</td>\n",
              "      <td>0.0</td>\n",
              "      <td>0.000000</td>\n",
              "      <td>0.142857</td>\n",
              "      <td>0.0</td>\n",
              "      <td>0.000000</td>\n",
              "      <td>0.000000</td>\n",
              "      <td>0.047619</td>\n",
              "      <td>0.000000</td>\n",
              "      <td>0.000000</td>\n",
              "      <td>0.0</td>\n",
              "      <td>0.000000</td>\n",
              "      <td>0.000000</td>\n",
              "      <td>0.0</td>\n",
              "      <td>0.000000</td>\n",
              "      <td>0.047619</td>\n",
              "      <td>0.000000</td>\n",
              "      <td>0.095238</td>\n",
              "      <td>0.000000</td>\n",
              "      <td>0.0</td>\n",
              "    </tr>\n",
              "    <tr>\n",
              "      <th>6</th>\n",
              "      <td>Churchgate</td>\n",
              "      <td>0.0</td>\n",
              "      <td>0.000000</td>\n",
              "      <td>0.0</td>\n",
              "      <td>0.0</td>\n",
              "      <td>0.000000</td>\n",
              "      <td>0.0</td>\n",
              "      <td>0.0</td>\n",
              "      <td>0.000000</td>\n",
              "      <td>0.000000</td>\n",
              "      <td>0.000000</td>\n",
              "      <td>0.026316</td>\n",
              "      <td>0.0</td>\n",
              "      <td>0.026316</td>\n",
              "      <td>0.0</td>\n",
              "      <td>0.0</td>\n",
              "      <td>0.000000</td>\n",
              "      <td>0.0</td>\n",
              "      <td>0.000000</td>\n",
              "      <td>0.000000</td>\n",
              "      <td>0.000000</td>\n",
              "      <td>0.000000</td>\n",
              "      <td>0.026316</td>\n",
              "      <td>0.000000</td>\n",
              "      <td>0.0</td>\n",
              "      <td>0.000000</td>\n",
              "      <td>0.0</td>\n",
              "      <td>0.0</td>\n",
              "      <td>0.0</td>\n",
              "      <td>0.026316</td>\n",
              "      <td>0.026316</td>\n",
              "      <td>0.0</td>\n",
              "      <td>0.026316</td>\n",
              "      <td>0.000000</td>\n",
              "      <td>0.0</td>\n",
              "      <td>0.000000</td>\n",
              "      <td>0.0</td>\n",
              "      <td>0.000000</td>\n",
              "      <td>0.0</td>\n",
              "      <td>0.0</td>\n",
              "      <td>...</td>\n",
              "      <td>0.000000</td>\n",
              "      <td>0.000000</td>\n",
              "      <td>0.0</td>\n",
              "      <td>0.0</td>\n",
              "      <td>0.000000</td>\n",
              "      <td>0.000000</td>\n",
              "      <td>0.0</td>\n",
              "      <td>0.026316</td>\n",
              "      <td>0.0</td>\n",
              "      <td>0.000000</td>\n",
              "      <td>0.000000</td>\n",
              "      <td>0.000000</td>\n",
              "      <td>0.0</td>\n",
              "      <td>0.052632</td>\n",
              "      <td>0.000000</td>\n",
              "      <td>0.000000</td>\n",
              "      <td>0.0</td>\n",
              "      <td>0.0</td>\n",
              "      <td>0.000000</td>\n",
              "      <td>0.000000</td>\n",
              "      <td>0.026316</td>\n",
              "      <td>0.0</td>\n",
              "      <td>0.000000</td>\n",
              "      <td>0.000000</td>\n",
              "      <td>0.0</td>\n",
              "      <td>0.000000</td>\n",
              "      <td>0.000000</td>\n",
              "      <td>0.000000</td>\n",
              "      <td>0.000000</td>\n",
              "      <td>0.157895</td>\n",
              "      <td>0.0</td>\n",
              "      <td>0.000000</td>\n",
              "      <td>0.000000</td>\n",
              "      <td>0.0</td>\n",
              "      <td>0.000000</td>\n",
              "      <td>0.078947</td>\n",
              "      <td>0.000000</td>\n",
              "      <td>0.026316</td>\n",
              "      <td>0.000000</td>\n",
              "      <td>0.0</td>\n",
              "    </tr>\n",
              "    <tr>\n",
              "      <th>7</th>\n",
              "      <td>Colaba</td>\n",
              "      <td>0.0</td>\n",
              "      <td>0.045455</td>\n",
              "      <td>0.0</td>\n",
              "      <td>0.0</td>\n",
              "      <td>0.000000</td>\n",
              "      <td>0.0</td>\n",
              "      <td>0.0</td>\n",
              "      <td>0.000000</td>\n",
              "      <td>0.000000</td>\n",
              "      <td>0.000000</td>\n",
              "      <td>0.000000</td>\n",
              "      <td>0.0</td>\n",
              "      <td>0.000000</td>\n",
              "      <td>0.0</td>\n",
              "      <td>0.0</td>\n",
              "      <td>0.000000</td>\n",
              "      <td>0.0</td>\n",
              "      <td>0.000000</td>\n",
              "      <td>0.000000</td>\n",
              "      <td>0.000000</td>\n",
              "      <td>0.000000</td>\n",
              "      <td>0.000000</td>\n",
              "      <td>0.045455</td>\n",
              "      <td>0.0</td>\n",
              "      <td>0.000000</td>\n",
              "      <td>0.0</td>\n",
              "      <td>0.0</td>\n",
              "      <td>0.0</td>\n",
              "      <td>0.090909</td>\n",
              "      <td>0.000000</td>\n",
              "      <td>0.0</td>\n",
              "      <td>0.000000</td>\n",
              "      <td>0.000000</td>\n",
              "      <td>0.0</td>\n",
              "      <td>0.000000</td>\n",
              "      <td>0.0</td>\n",
              "      <td>0.000000</td>\n",
              "      <td>0.0</td>\n",
              "      <td>0.0</td>\n",
              "      <td>...</td>\n",
              "      <td>0.000000</td>\n",
              "      <td>0.000000</td>\n",
              "      <td>0.0</td>\n",
              "      <td>0.0</td>\n",
              "      <td>0.000000</td>\n",
              "      <td>0.000000</td>\n",
              "      <td>0.0</td>\n",
              "      <td>0.000000</td>\n",
              "      <td>0.0</td>\n",
              "      <td>0.000000</td>\n",
              "      <td>0.000000</td>\n",
              "      <td>0.000000</td>\n",
              "      <td>0.0</td>\n",
              "      <td>0.045455</td>\n",
              "      <td>0.000000</td>\n",
              "      <td>0.000000</td>\n",
              "      <td>0.0</td>\n",
              "      <td>0.0</td>\n",
              "      <td>0.000000</td>\n",
              "      <td>0.000000</td>\n",
              "      <td>0.000000</td>\n",
              "      <td>0.0</td>\n",
              "      <td>0.000000</td>\n",
              "      <td>0.000000</td>\n",
              "      <td>0.0</td>\n",
              "      <td>0.000000</td>\n",
              "      <td>0.000000</td>\n",
              "      <td>0.000000</td>\n",
              "      <td>0.000000</td>\n",
              "      <td>0.000000</td>\n",
              "      <td>0.0</td>\n",
              "      <td>0.000000</td>\n",
              "      <td>0.000000</td>\n",
              "      <td>0.0</td>\n",
              "      <td>0.045455</td>\n",
              "      <td>0.000000</td>\n",
              "      <td>0.000000</td>\n",
              "      <td>0.000000</td>\n",
              "      <td>0.000000</td>\n",
              "      <td>0.0</td>\n",
              "    </tr>\n",
              "    <tr>\n",
              "      <th>8</th>\n",
              "      <td>Dadar</td>\n",
              "      <td>0.0</td>\n",
              "      <td>0.000000</td>\n",
              "      <td>0.0</td>\n",
              "      <td>0.0</td>\n",
              "      <td>0.000000</td>\n",
              "      <td>0.0</td>\n",
              "      <td>0.0</td>\n",
              "      <td>0.000000</td>\n",
              "      <td>0.000000</td>\n",
              "      <td>0.000000</td>\n",
              "      <td>0.000000</td>\n",
              "      <td>0.0</td>\n",
              "      <td>0.000000</td>\n",
              "      <td>0.0</td>\n",
              "      <td>0.0</td>\n",
              "      <td>0.000000</td>\n",
              "      <td>0.0</td>\n",
              "      <td>0.000000</td>\n",
              "      <td>0.000000</td>\n",
              "      <td>0.000000</td>\n",
              "      <td>0.000000</td>\n",
              "      <td>0.133333</td>\n",
              "      <td>0.000000</td>\n",
              "      <td>0.0</td>\n",
              "      <td>0.000000</td>\n",
              "      <td>0.0</td>\n",
              "      <td>0.0</td>\n",
              "      <td>0.0</td>\n",
              "      <td>0.000000</td>\n",
              "      <td>0.000000</td>\n",
              "      <td>0.0</td>\n",
              "      <td>0.000000</td>\n",
              "      <td>0.000000</td>\n",
              "      <td>0.0</td>\n",
              "      <td>0.000000</td>\n",
              "      <td>0.0</td>\n",
              "      <td>0.000000</td>\n",
              "      <td>0.0</td>\n",
              "      <td>0.0</td>\n",
              "      <td>...</td>\n",
              "      <td>0.000000</td>\n",
              "      <td>0.000000</td>\n",
              "      <td>0.0</td>\n",
              "      <td>0.0</td>\n",
              "      <td>0.000000</td>\n",
              "      <td>0.000000</td>\n",
              "      <td>0.0</td>\n",
              "      <td>0.000000</td>\n",
              "      <td>0.0</td>\n",
              "      <td>0.000000</td>\n",
              "      <td>0.000000</td>\n",
              "      <td>0.000000</td>\n",
              "      <td>0.0</td>\n",
              "      <td>0.000000</td>\n",
              "      <td>0.000000</td>\n",
              "      <td>0.066667</td>\n",
              "      <td>0.0</td>\n",
              "      <td>0.0</td>\n",
              "      <td>0.000000</td>\n",
              "      <td>0.000000</td>\n",
              "      <td>0.000000</td>\n",
              "      <td>0.0</td>\n",
              "      <td>0.000000</td>\n",
              "      <td>0.000000</td>\n",
              "      <td>0.0</td>\n",
              "      <td>0.066667</td>\n",
              "      <td>0.000000</td>\n",
              "      <td>0.000000</td>\n",
              "      <td>0.000000</td>\n",
              "      <td>0.000000</td>\n",
              "      <td>0.0</td>\n",
              "      <td>0.000000</td>\n",
              "      <td>0.000000</td>\n",
              "      <td>0.0</td>\n",
              "      <td>0.000000</td>\n",
              "      <td>0.133333</td>\n",
              "      <td>0.000000</td>\n",
              "      <td>0.133333</td>\n",
              "      <td>0.066667</td>\n",
              "      <td>0.0</td>\n",
              "    </tr>\n",
              "    <tr>\n",
              "      <th>9</th>\n",
              "      <td>Fort</td>\n",
              "      <td>0.0</td>\n",
              "      <td>0.000000</td>\n",
              "      <td>0.0</td>\n",
              "      <td>0.0</td>\n",
              "      <td>0.000000</td>\n",
              "      <td>0.0</td>\n",
              "      <td>0.0</td>\n",
              "      <td>0.020408</td>\n",
              "      <td>0.020408</td>\n",
              "      <td>0.000000</td>\n",
              "      <td>0.020408</td>\n",
              "      <td>0.0</td>\n",
              "      <td>0.000000</td>\n",
              "      <td>0.0</td>\n",
              "      <td>0.0</td>\n",
              "      <td>0.000000</td>\n",
              "      <td>0.0</td>\n",
              "      <td>0.000000</td>\n",
              "      <td>0.000000</td>\n",
              "      <td>0.020408</td>\n",
              "      <td>0.020408</td>\n",
              "      <td>0.020408</td>\n",
              "      <td>0.000000</td>\n",
              "      <td>0.0</td>\n",
              "      <td>0.000000</td>\n",
              "      <td>0.0</td>\n",
              "      <td>0.0</td>\n",
              "      <td>0.0</td>\n",
              "      <td>0.081633</td>\n",
              "      <td>0.040816</td>\n",
              "      <td>0.0</td>\n",
              "      <td>0.000000</td>\n",
              "      <td>0.000000</td>\n",
              "      <td>0.0</td>\n",
              "      <td>0.000000</td>\n",
              "      <td>0.0</td>\n",
              "      <td>0.000000</td>\n",
              "      <td>0.0</td>\n",
              "      <td>0.0</td>\n",
              "      <td>...</td>\n",
              "      <td>0.020408</td>\n",
              "      <td>0.020408</td>\n",
              "      <td>0.0</td>\n",
              "      <td>0.0</td>\n",
              "      <td>0.000000</td>\n",
              "      <td>0.020408</td>\n",
              "      <td>0.0</td>\n",
              "      <td>0.000000</td>\n",
              "      <td>0.0</td>\n",
              "      <td>0.000000</td>\n",
              "      <td>0.020408</td>\n",
              "      <td>0.040816</td>\n",
              "      <td>0.0</td>\n",
              "      <td>0.020408</td>\n",
              "      <td>0.000000</td>\n",
              "      <td>0.040816</td>\n",
              "      <td>0.0</td>\n",
              "      <td>0.0</td>\n",
              "      <td>0.000000</td>\n",
              "      <td>0.000000</td>\n",
              "      <td>0.020408</td>\n",
              "      <td>0.0</td>\n",
              "      <td>0.000000</td>\n",
              "      <td>0.081633</td>\n",
              "      <td>0.0</td>\n",
              "      <td>0.000000</td>\n",
              "      <td>0.000000</td>\n",
              "      <td>0.000000</td>\n",
              "      <td>0.000000</td>\n",
              "      <td>0.020408</td>\n",
              "      <td>0.0</td>\n",
              "      <td>0.020408</td>\n",
              "      <td>0.020408</td>\n",
              "      <td>0.0</td>\n",
              "      <td>0.000000</td>\n",
              "      <td>0.020408</td>\n",
              "      <td>0.000000</td>\n",
              "      <td>0.020408</td>\n",
              "      <td>0.000000</td>\n",
              "      <td>0.0</td>\n",
              "    </tr>\n",
              "  </tbody>\n",
              "</table>\n",
              "<p>10 rows × 129 columns</p>\n",
              "</div>"
            ],
            "text/plain": [
              "    Neighborhood  Accessories Store  ...  Women's Store  Zoo\n",
              "0        Andheri                0.0  ...       0.000000  0.0\n",
              "1  Apollo Bandar                0.0  ...       0.000000  0.0\n",
              "2    Bandra West                0.0  ...       0.014706  0.0\n",
              "3     Bhuleshwar                0.0  ...       0.000000  0.0\n",
              "4       Borivali                0.0  ...       0.000000  0.0\n",
              "5        Chembur                0.0  ...       0.000000  0.0\n",
              "6     Churchgate                0.0  ...       0.000000  0.0\n",
              "7         Colaba                0.0  ...       0.000000  0.0\n",
              "8          Dadar                0.0  ...       0.066667  0.0\n",
              "9           Fort                0.0  ...       0.000000  0.0\n",
              "\n",
              "[10 rows x 129 columns]"
            ]
          },
          "metadata": {
            "tags": []
          },
          "execution_count": 75
        }
      ]
    },
    {
      "cell_type": "code",
      "metadata": {
        "id": "5Nwi335BOEm5",
        "colab_type": "code",
        "colab": {
          "base_uri": "https://localhost:8080/",
          "height": 35
        },
        "outputId": "a62a46a7-c7d7-4dc3-cbbc-a67e9b79e79f"
      },
      "source": [
        "south_mumbai_grouped.shape"
      ],
      "execution_count": 73,
      "outputs": [
        {
          "output_type": "execute_result",
          "data": {
            "text/plain": [
              "(29, 129)"
            ]
          },
          "metadata": {
            "tags": []
          },
          "execution_count": 73
        }
      ]
    },
    {
      "cell_type": "code",
      "metadata": {
        "id": "S87wdbiycsqP",
        "colab_type": "code",
        "colab": {}
      },
      "source": [
        "south_mumbai_grouped.to_csv(\"south_mumbai_grouped.csv\")\n",
        "# backup\n",
        "south_mumbai_grouped_bkp = south_mumbai_grouped"
      ],
      "execution_count": 0,
      "outputs": []
    },
    {
      "cell_type": "code",
      "metadata": {
        "id": "VymcjiDFecLI",
        "colab_type": "code",
        "outputId": "58945c07-2d88-47d4-cfc8-d58b0ee97c61",
        "colab": {
          "base_uri": "https://localhost:8080/",
          "height": 1000
        }
      },
      "source": [
        "## Let's print each neighborhood along with the top 5 most common venues\n",
        "\n",
        "num_top_venues = 5\n",
        "\n",
        "for hood in south_mumbai_grouped['Neighborhood']:\n",
        "    print(\"----\"+hood+\"----\")\n",
        "    temp = south_mumbai_grouped[south_mumbai_grouped['Neighborhood'] == hood].T.reset_index()\n",
        "    temp.columns = ['venue','freq']\n",
        "    temp = temp.iloc[1:]\n",
        "    temp['freq'] = temp['freq'].astype(float)\n",
        "    temp = temp.round({'freq': 2})\n",
        "    print(temp.sort_values('freq', ascending=False).reset_index(drop=True).head(num_top_venues))\n",
        "    print('\\n')"
      ],
      "execution_count": 0,
      "outputs": [
        {
          "output_type": "stream",
          "text": [
            "----Andheri----\n",
            "            venue  freq\n",
            "0  Shop & Service   0.1\n",
            "1        Platform   0.1\n",
            "2  Sandwich Place   0.1\n",
            "3    Burger Joint   0.1\n",
            "4     Snack Place   0.1\n",
            "\n",
            "\n",
            "----Apollo Bandar----\n",
            "                venue  freq\n",
            "0               Hotel  0.19\n",
            "1       Boat or Ferry  0.09\n",
            "2  Mughlai Restaurant  0.06\n",
            "3  Chinese Restaurant  0.06\n",
            "4     Fitness/Gym/Spa  0.06\n",
            "\n",
            "\n",
            "----Bandra West----\n",
            "                venue  freq\n",
            "0              Bakery  0.09\n",
            "1         Pizza Place  0.06\n",
            "2  Chinese Restaurant  0.06\n",
            "3    Asian Restaurant  0.06\n",
            "4     Fitness/Gym/Spa  0.04\n",
            "\n",
            "\n",
            "----Bhuleshwar----\n",
            "            venue  freq\n",
            "0  Ice Cream Shop   0.1\n",
            "1       BBQ Joint   0.1\n",
            "2       Juice Bar   0.1\n",
            "3     Snack Place   0.1\n",
            "4    Dessert Shop   0.1\n",
            "\n",
            "\n",
            "----Borivali----\n",
            "                venue  freq\n",
            "0      Ice Cream Shop  0.14\n",
            "1  Chinese Restaurant  0.09\n",
            "2      Sandwich Place  0.09\n",
            "3           Juice Bar  0.09\n",
            "4         Snack Place  0.09\n",
            "\n",
            "\n",
            "----Chembur----\n",
            "                           venue  freq\n",
            "0             Seafood Restaurant  0.13\n",
            "1                Fitness/Gym/Spa  0.13\n",
            "2  Vegetarian / Vegan Restaurant  0.09\n",
            "3                    Snack Place  0.09\n",
            "4                    Park/Garden  0.09\n",
            "\n",
            "\n",
            "----Churchgate----\n",
            "                venue  freq\n",
            "0              Sports  0.18\n",
            "1               Hotel  0.11\n",
            "2      Ice Cream Shop  0.11\n",
            "3  Italian Restaurant  0.08\n",
            "4   Theater\\Multiplex  0.08\n",
            "\n",
            "\n",
            "----Colaba----\n",
            "                venue  freq\n",
            "0     Fitness/Gym/Spa  0.14\n",
            "1               Hotel  0.09\n",
            "2               Diner  0.09\n",
            "3  Chinese Restaurant  0.09\n",
            "4        Dessert Shop  0.05\n",
            "\n",
            "\n",
            "----Dadar----\n",
            "                           venue  freq\n",
            "0                 Breakfast Spot  0.11\n",
            "1  Vegetarian / Vegan Restaurant  0.11\n",
            "2              Theater\\Multiplex  0.11\n",
            "3       Maharashtrian Restaurant  0.06\n",
            "4                 Sandwich Place  0.06\n",
            "\n",
            "\n",
            "----Fort----\n",
            "                venue  freq\n",
            "0  Chinese Restaurant  0.08\n",
            "1  Seafood Restaurant  0.08\n",
            "2        Dessert Shop  0.06\n",
            "3               Plaza  0.04\n",
            "4      Clothing Store  0.04\n",
            "\n",
            "\n",
            "----Ghatkopar----\n",
            "               venue  freq\n",
            "0        Pizza Place  0.15\n",
            "1          Juice Bar  0.15\n",
            "2  Accessories Store  0.08\n",
            "3             Bakery  0.08\n",
            "4       Dessert Shop  0.08\n",
            "\n",
            "\n",
            "----Jogeshwari----\n",
            "                venue  freq\n",
            "0  Chinese Restaurant   0.2\n",
            "1         Pizza Place   0.2\n",
            "2    Asian Restaurant   0.2\n",
            "3  Mughlai Restaurant   0.2\n",
            "4      Ice Cream Shop   0.2\n",
            "\n",
            "\n",
            "----Juhu----\n",
            "                venue  freq\n",
            "0     Fitness/Gym/Spa  0.16\n",
            "1               Hotel  0.11\n",
            "2  Chinese Restaurant  0.09\n",
            "3              Lounge  0.07\n",
            "4      Clothing Store  0.05\n",
            "\n",
            "\n",
            "----Kalbadevi----\n",
            "                 venue  freq\n",
            "0               Market  0.17\n",
            "1  American Restaurant  0.17\n",
            "2    Theater\\Multiplex  0.17\n",
            "3          Cheese Shop  0.17\n",
            "4                 Food  0.17\n",
            "\n",
            "\n",
            "----Khar----\n",
            "            venue  freq\n",
            "0          Lounge  0.14\n",
            "1          Bakery  0.07\n",
            "2       Nightclub  0.07\n",
            "3    Dessert Shop  0.07\n",
            "4  Clothing Store  0.07\n",
            "\n",
            "\n",
            "----Kurla----\n",
            "                venue  freq\n",
            "0  Chinese Restaurant  0.18\n",
            "1              Temple  0.09\n",
            "2  Seafood Restaurant  0.09\n",
            "3   Electronics Store  0.09\n",
            "4        Burger Joint  0.09\n",
            "\n",
            "\n",
            "----Mahalaxmi----\n",
            "                      venue  freq\n",
            "0                Club House   0.2\n",
            "1           Fitness/Gym/Spa   0.2\n",
            "2                 Nightclub   0.2\n",
            "3  Mediterranean Restaurant   0.2\n",
            "4          Asian Restaurant   0.2\n",
            "\n",
            "\n",
            "----Marine Lines----\n",
            "            venue  freq\n",
            "0          Bakery  0.15\n",
            "1      Food Truck  0.15\n",
            "2  Scenic Lookout  0.08\n",
            "3        Aquarium  0.08\n",
            "4     Bridal Shop  0.08\n",
            "\n",
            "\n",
            "----Masjid Bandar----\n",
            "                    venue  freq\n",
            "0       Convenience Store  0.22\n",
            "1               Juice Bar  0.22\n",
            "2          Sandwich Place  0.11\n",
            "3  Furniture / Home Store  0.11\n",
            "4      Chinese Restaurant  0.11\n",
            "\n",
            "\n",
            "----Mazgaon----\n",
            "                venue  freq\n",
            "0     Fitness/Gym/Spa   0.1\n",
            "1              Bakery   0.1\n",
            "2         Park/Garden   0.1\n",
            "3  Chinese Restaurant   0.1\n",
            "4        Dessert Shop   0.1\n",
            "\n",
            "\n",
            "----Mira Road----\n",
            "                venue  freq\n",
            "0      Clothing Store  0.11\n",
            "1     Fitness/Gym/Spa  0.07\n",
            "2  Chinese Restaurant  0.07\n",
            "3      Breakfast Spot  0.04\n",
            "4       Shopping Mall  0.04\n",
            "\n",
            "\n",
            "----Mulund West----\n",
            "               venue  freq\n",
            "0       Dessert Shop   0.2\n",
            "1  Theater\\Multiplex   0.2\n",
            "2        Flea Market   0.1\n",
            "3     Ice Cream Shop   0.1\n",
            "4      Shopping Mall   0.1\n",
            "\n",
            "\n",
            "----Mumbai Central----\n",
            "                           venue  freq\n",
            "0                 Ice Cream Shop  0.18\n",
            "1                    Snack Place  0.09\n",
            "2  Vegetarian / Vegan Restaurant  0.09\n",
            "3                      Juice Bar  0.09\n",
            "4              Theater\\Multiplex  0.09\n",
            "\n",
            "\n",
            "----Nagpada----\n",
            "              venue  freq\n",
            "0             Hotel  0.13\n",
            "1  Asian Restaurant  0.09\n",
            "2  Department Store  0.09\n",
            "3            Bakery  0.09\n",
            "4       Pizza Place  0.09\n",
            "\n",
            "\n",
            "----Nariman Point----\n",
            "                venue  freq\n",
            "0   Theater\\Multiplex  0.18\n",
            "1  Italian Restaurant  0.11\n",
            "2               Hotel  0.11\n",
            "3              Sports  0.07\n",
            "4         Chaat Place  0.07\n",
            "\n",
            "\n",
            "----Powai----\n",
            "                venue  freq\n",
            "0              Bakery  0.07\n",
            "1      Ice Cream Shop  0.07\n",
            "2  Chinese Restaurant  0.07\n",
            "3     Fitness/Gym/Spa  0.07\n",
            "4  Italian Restaurant  0.05\n",
            "\n",
            "\n",
            "----Santa Cruz----\n",
            "                   venue  freq\n",
            "0                  Hotel  0.21\n",
            "1        Fitness/Gym/Spa  0.14\n",
            "2  Outdoors & Recreation  0.07\n",
            "3            Pizza Place  0.07\n",
            "4    Arts & Crafts Store  0.07\n",
            "\n",
            "\n",
            "----Walkeshwar----\n",
            "                venue  freq\n",
            "0              Bakery  0.08\n",
            "1        Dessert Shop  0.08\n",
            "2      Ice Cream Shop  0.08\n",
            "3         Park/Garden  0.08\n",
            "4  Italian Restaurant  0.04\n",
            "\n",
            "\n",
            "----Worli----\n",
            "             venue  freq\n",
            "0  Fitness/Gym/Spa  0.14\n",
            "1      Art Gallery  0.14\n",
            "2   Scenic Lookout  0.14\n",
            "3           Sports  0.14\n",
            "4            Hotel  0.14\n",
            "\n",
            "\n"
          ],
          "name": "stdout"
        }
      ]
    },
    {
      "cell_type": "markdown",
      "metadata": {
        "id": "Xacwv4rJtol2",
        "colab_type": "text"
      },
      "source": [
        "## **Let's put that into a pandas dataframe.**"
      ]
    },
    {
      "cell_type": "markdown",
      "metadata": {
        "id": "o1HxuRVWt1-S",
        "colab_type": "text"
      },
      "source": [
        "## **Let's write a function to sort the venues in descending order.**"
      ]
    },
    {
      "cell_type": "code",
      "metadata": {
        "id": "9JBYacH2fx36",
        "colab_type": "code",
        "colab": {}
      },
      "source": [
        "\n",
        "def return_most_common_venues(row, num_top_venues):\n",
        "    row_categories = row.iloc[1:]\n",
        "    row_categories_sorted = row_categories.sort_values(ascending=False)\n",
        "    \n",
        "    return row_categories_sorted.index.values[0:num_top_venues]"
      ],
      "execution_count": 0,
      "outputs": []
    },
    {
      "cell_type": "markdown",
      "metadata": {
        "id": "GnnGlEkAuEGO",
        "colab_type": "text"
      },
      "source": [
        "# **Display the top 10 venues for each neighborhood.**"
      ]
    },
    {
      "cell_type": "code",
      "metadata": {
        "id": "4-fWZhI-f3Yf",
        "colab_type": "code",
        "outputId": "c74c75f7-857d-4244-d7ea-4902d309bb29",
        "colab": {
          "base_uri": "https://localhost:8080/",
          "height": 390
        }
      },
      "source": [
        "num_top_venues = 10\n",
        "\n",
        "indicators = ['st', 'nd', 'rd']\n",
        "\n",
        "# create columns according to number of top venues\n",
        "columns = ['Neighborhood']\n",
        "for ind in np.arange(num_top_venues):\n",
        "    try:\n",
        "        columns.append('{}{} Most Common Venue'.format(ind+1, indicators[ind]))\n",
        "    except:\n",
        "        columns.append('{}th Most Common Venue'.format(ind+1))\n",
        "\n",
        "# create a new dataframe\n",
        "neighborhoods_venues_sorted = pd.DataFrame(columns=columns)\n",
        "neighborhoods_venues_sorted['Neighborhood'] = south_mumbai_grouped['Neighborhood']\n",
        "\n",
        "for ind in np.arange(south_mumbai_grouped.shape[0]):\n",
        "    neighborhoods_venues_sorted.iloc[ind, 1:] = return_most_common_venues(south_mumbai_grouped.iloc[ind, :], num_top_venues)\n",
        "\n",
        "neighborhoods_venues_sorted.head()\n"
      ],
      "execution_count": 82,
      "outputs": [
        {
          "output_type": "execute_result",
          "data": {
            "text/html": [
              "<div>\n",
              "<style scoped>\n",
              "    .dataframe tbody tr th:only-of-type {\n",
              "        vertical-align: middle;\n",
              "    }\n",
              "\n",
              "    .dataframe tbody tr th {\n",
              "        vertical-align: top;\n",
              "    }\n",
              "\n",
              "    .dataframe thead th {\n",
              "        text-align: right;\n",
              "    }\n",
              "</style>\n",
              "<table border=\"1\" class=\"dataframe\">\n",
              "  <thead>\n",
              "    <tr style=\"text-align: right;\">\n",
              "      <th></th>\n",
              "      <th>Neighborhood</th>\n",
              "      <th>1st Most Common Venue</th>\n",
              "      <th>2nd Most Common Venue</th>\n",
              "      <th>3rd Most Common Venue</th>\n",
              "      <th>4th Most Common Venue</th>\n",
              "      <th>5th Most Common Venue</th>\n",
              "      <th>6th Most Common Venue</th>\n",
              "      <th>7th Most Common Venue</th>\n",
              "      <th>8th Most Common Venue</th>\n",
              "      <th>9th Most Common Venue</th>\n",
              "      <th>10th Most Common Venue</th>\n",
              "    </tr>\n",
              "  </thead>\n",
              "  <tbody>\n",
              "    <tr>\n",
              "      <th>0</th>\n",
              "      <td>Andheri</td>\n",
              "      <td>Golf Course</td>\n",
              "      <td>Food Court</td>\n",
              "      <td>Dessert Shop</td>\n",
              "      <td>Snack Place</td>\n",
              "      <td>Bakery</td>\n",
              "      <td>Sandwich Place</td>\n",
              "      <td>Burger Joint</td>\n",
              "      <td>Food Truck</td>\n",
              "      <td>Cupcake Shop</td>\n",
              "      <td>Creperie</td>\n",
              "    </tr>\n",
              "    <tr>\n",
              "      <th>1</th>\n",
              "      <td>Apollo Bandar</td>\n",
              "      <td>Hotel</td>\n",
              "      <td>Boat or Ferry</td>\n",
              "      <td>Mughlai Restaurant</td>\n",
              "      <td>Chinese Restaurant</td>\n",
              "      <td>Fitness/Gym/Spa</td>\n",
              "      <td>Asian Restaurant</td>\n",
              "      <td>Sculpture Garden</td>\n",
              "      <td>Mediterranean Restaurant</td>\n",
              "      <td>Lounge</td>\n",
              "      <td>Juice Bar</td>\n",
              "    </tr>\n",
              "    <tr>\n",
              "      <th>2</th>\n",
              "      <td>Bandra West</td>\n",
              "      <td>Bakery</td>\n",
              "      <td>Asian Restaurant</td>\n",
              "      <td>Chinese Restaurant</td>\n",
              "      <td>Pizza Place</td>\n",
              "      <td>Arcade</td>\n",
              "      <td>Seafood Restaurant</td>\n",
              "      <td>Dessert Shop</td>\n",
              "      <td>Fitness/Gym/Spa</td>\n",
              "      <td>Snack Place</td>\n",
              "      <td>Event Space</td>\n",
              "    </tr>\n",
              "    <tr>\n",
              "      <th>3</th>\n",
              "      <td>Bhuleshwar</td>\n",
              "      <td>Dessert Shop</td>\n",
              "      <td>Indian Sweet Shop</td>\n",
              "      <td>Arcade</td>\n",
              "      <td>Chinese Restaurant</td>\n",
              "      <td>Ice Cream Shop</td>\n",
              "      <td>BBQ Joint</td>\n",
              "      <td>Juice Bar</td>\n",
              "      <td>Snack Place</td>\n",
              "      <td>Zoo</td>\n",
              "      <td>Dhaba</td>\n",
              "    </tr>\n",
              "    <tr>\n",
              "      <th>4</th>\n",
              "      <td>Borivali</td>\n",
              "      <td>Ice Cream Shop</td>\n",
              "      <td>Clothing Store</td>\n",
              "      <td>Chinese Restaurant</td>\n",
              "      <td>Sandwich Place</td>\n",
              "      <td>Vegetarian / Vegan Restaurant</td>\n",
              "      <td>Theater\\Multiplex</td>\n",
              "      <td>Snack Place</td>\n",
              "      <td>Juice Bar</td>\n",
              "      <td>Pizza Place</td>\n",
              "      <td>Department Store</td>\n",
              "    </tr>\n",
              "  </tbody>\n",
              "</table>\n",
              "</div>"
            ],
            "text/plain": [
              "    Neighborhood  ... 10th Most Common Venue\n",
              "0        Andheri  ...               Creperie\n",
              "1  Apollo Bandar  ...              Juice Bar\n",
              "2    Bandra West  ...            Event Space\n",
              "3     Bhuleshwar  ...                  Dhaba\n",
              "4       Borivali  ...       Department Store\n",
              "\n",
              "[5 rows x 11 columns]"
            ]
          },
          "metadata": {
            "tags": []
          },
          "execution_count": 82
        }
      ]
    },
    {
      "cell_type": "code",
      "metadata": {
        "id": "L1hhpCgJRuFD",
        "colab_type": "code",
        "colab": {}
      },
      "source": [
        "# save to csv file\n",
        "neighborhoods_venues_sorted.to_csv(\"neighborhoods_venues_sorted.csv\")\n",
        "#backup \n",
        "neighborhoods_venues_sorted_bkp = neighborhoods_venues_sorted"
      ],
      "execution_count": 0,
      "outputs": []
    },
    {
      "cell_type": "code",
      "metadata": {
        "id": "n0wwo0FASUY6",
        "colab_type": "code",
        "colab": {
          "base_uri": "https://localhost:8080/",
          "height": 35
        },
        "outputId": "babd1de0-17dd-4913-a100-4f3f864b5a25"
      },
      "source": [
        "neighborhoods_venues_sorted.shape"
      ],
      "execution_count": 84,
      "outputs": [
        {
          "output_type": "execute_result",
          "data": {
            "text/plain": [
              "(29, 11)"
            ]
          },
          "metadata": {
            "tags": []
          },
          "execution_count": 84
        }
      ]
    },
    {
      "cell_type": "markdown",
      "metadata": {
        "id": "Qs5mPJkb1Kal",
        "colab_type": "text"
      },
      "source": [
        "# **Cluster Neighborhood**"
      ]
    },
    {
      "cell_type": "markdown",
      "metadata": {
        "id": "4jDpgafq1S1i",
        "colab_type": "text"
      },
      "source": [
        "## **Run k-means. Adjusting number of clusters to optimum.**"
      ]
    },
    {
      "cell_type": "code",
      "metadata": {
        "id": "gVtUo7OAlOUn",
        "colab_type": "code",
        "outputId": "78dde352-fe7b-43f4-9658-d80ae110dedf",
        "colab": {
          "base_uri": "https://localhost:8080/",
          "height": 52
        }
      },
      "source": [
        "kclusters = 5\n",
        "south_mumbai_grouped_clustering = south_mumbai_grouped.drop('Neighborhood', 1)\n",
        "\n",
        "# run k-means clustering\n",
        "kmeans = KMeans(n_clusters=kclusters, random_state=0).fit(south_mumbai_grouped_clustering)\n",
        "\n",
        "# check cluster labels generated for each row in the dataframe\n",
        "#kmeans.labels_[0:10] \n",
        "kmeans.labels_[0:40] \n"
      ],
      "execution_count": 85,
      "outputs": [
        {
          "output_type": "execute_result",
          "data": {
            "text/plain": [
              "array([3, 2, 3, 3, 3, 3, 3, 2, 3, 3, 3, 2, 2, 4, 3, 3, 2, 3, 0, 3, 3, 3,\n",
              "       3, 2, 3, 3, 2, 3, 1], dtype=int32)"
            ]
          },
          "metadata": {
            "tags": []
          },
          "execution_count": 85
        }
      ]
    },
    {
      "cell_type": "markdown",
      "metadata": {
        "id": "nurDxXQtuuzF",
        "colab_type": "text"
      },
      "source": [
        "### **Let's create a new dataframe that includes the cluster as well as the top 10 venues for each neighborhood.**"
      ]
    },
    {
      "cell_type": "markdown",
      "metadata": {
        "id": "17hMPQSJu5pW",
        "colab_type": "text"
      },
      "source": [
        "## **Add clustering labels.**"
      ]
    },
    {
      "cell_type": "code",
      "metadata": {
        "id": "neGaBfXhlkWw",
        "colab_type": "code",
        "colab": {}
      },
      "source": [
        "neighborhoods_venues_sorted.insert(0, 'Cluster Labels', kmeans.labels_)"
      ],
      "execution_count": 0,
      "outputs": []
    },
    {
      "cell_type": "code",
      "metadata": {
        "id": "2OczzjazTbKh",
        "colab_type": "code",
        "colab": {
          "base_uri": "https://localhost:8080/",
          "height": 390
        },
        "outputId": "b2b7a513-5759-4268-fff8-c712f69d4196"
      },
      "source": [
        "neighborhoods_venues_sorted.head()"
      ],
      "execution_count": 87,
      "outputs": [
        {
          "output_type": "execute_result",
          "data": {
            "text/html": [
              "<div>\n",
              "<style scoped>\n",
              "    .dataframe tbody tr th:only-of-type {\n",
              "        vertical-align: middle;\n",
              "    }\n",
              "\n",
              "    .dataframe tbody tr th {\n",
              "        vertical-align: top;\n",
              "    }\n",
              "\n",
              "    .dataframe thead th {\n",
              "        text-align: right;\n",
              "    }\n",
              "</style>\n",
              "<table border=\"1\" class=\"dataframe\">\n",
              "  <thead>\n",
              "    <tr style=\"text-align: right;\">\n",
              "      <th></th>\n",
              "      <th>Cluster Labels</th>\n",
              "      <th>Neighborhood</th>\n",
              "      <th>1st Most Common Venue</th>\n",
              "      <th>2nd Most Common Venue</th>\n",
              "      <th>3rd Most Common Venue</th>\n",
              "      <th>4th Most Common Venue</th>\n",
              "      <th>5th Most Common Venue</th>\n",
              "      <th>6th Most Common Venue</th>\n",
              "      <th>7th Most Common Venue</th>\n",
              "      <th>8th Most Common Venue</th>\n",
              "      <th>9th Most Common Venue</th>\n",
              "      <th>10th Most Common Venue</th>\n",
              "    </tr>\n",
              "  </thead>\n",
              "  <tbody>\n",
              "    <tr>\n",
              "      <th>0</th>\n",
              "      <td>3</td>\n",
              "      <td>Andheri</td>\n",
              "      <td>Golf Course</td>\n",
              "      <td>Food Court</td>\n",
              "      <td>Dessert Shop</td>\n",
              "      <td>Snack Place</td>\n",
              "      <td>Bakery</td>\n",
              "      <td>Sandwich Place</td>\n",
              "      <td>Burger Joint</td>\n",
              "      <td>Food Truck</td>\n",
              "      <td>Cupcake Shop</td>\n",
              "      <td>Creperie</td>\n",
              "    </tr>\n",
              "    <tr>\n",
              "      <th>1</th>\n",
              "      <td>2</td>\n",
              "      <td>Apollo Bandar</td>\n",
              "      <td>Hotel</td>\n",
              "      <td>Boat or Ferry</td>\n",
              "      <td>Mughlai Restaurant</td>\n",
              "      <td>Chinese Restaurant</td>\n",
              "      <td>Fitness/Gym/Spa</td>\n",
              "      <td>Asian Restaurant</td>\n",
              "      <td>Sculpture Garden</td>\n",
              "      <td>Mediterranean Restaurant</td>\n",
              "      <td>Lounge</td>\n",
              "      <td>Juice Bar</td>\n",
              "    </tr>\n",
              "    <tr>\n",
              "      <th>2</th>\n",
              "      <td>3</td>\n",
              "      <td>Bandra West</td>\n",
              "      <td>Bakery</td>\n",
              "      <td>Asian Restaurant</td>\n",
              "      <td>Chinese Restaurant</td>\n",
              "      <td>Pizza Place</td>\n",
              "      <td>Arcade</td>\n",
              "      <td>Seafood Restaurant</td>\n",
              "      <td>Dessert Shop</td>\n",
              "      <td>Fitness/Gym/Spa</td>\n",
              "      <td>Snack Place</td>\n",
              "      <td>Event Space</td>\n",
              "    </tr>\n",
              "    <tr>\n",
              "      <th>3</th>\n",
              "      <td>3</td>\n",
              "      <td>Bhuleshwar</td>\n",
              "      <td>Dessert Shop</td>\n",
              "      <td>Indian Sweet Shop</td>\n",
              "      <td>Arcade</td>\n",
              "      <td>Chinese Restaurant</td>\n",
              "      <td>Ice Cream Shop</td>\n",
              "      <td>BBQ Joint</td>\n",
              "      <td>Juice Bar</td>\n",
              "      <td>Snack Place</td>\n",
              "      <td>Zoo</td>\n",
              "      <td>Dhaba</td>\n",
              "    </tr>\n",
              "    <tr>\n",
              "      <th>4</th>\n",
              "      <td>3</td>\n",
              "      <td>Borivali</td>\n",
              "      <td>Ice Cream Shop</td>\n",
              "      <td>Clothing Store</td>\n",
              "      <td>Chinese Restaurant</td>\n",
              "      <td>Sandwich Place</td>\n",
              "      <td>Vegetarian / Vegan Restaurant</td>\n",
              "      <td>Theater\\Multiplex</td>\n",
              "      <td>Snack Place</td>\n",
              "      <td>Juice Bar</td>\n",
              "      <td>Pizza Place</td>\n",
              "      <td>Department Store</td>\n",
              "    </tr>\n",
              "  </tbody>\n",
              "</table>\n",
              "</div>"
            ],
            "text/plain": [
              "   Cluster Labels   Neighborhood  ... 9th Most Common Venue 10th Most Common Venue\n",
              "0               3        Andheri  ...          Cupcake Shop               Creperie\n",
              "1               2  Apollo Bandar  ...                Lounge              Juice Bar\n",
              "2               3    Bandra West  ...           Snack Place            Event Space\n",
              "3               3     Bhuleshwar  ...                   Zoo                  Dhaba\n",
              "4               3       Borivali  ...           Pizza Place       Department Store\n",
              "\n",
              "[5 rows x 12 columns]"
            ]
          },
          "metadata": {
            "tags": []
          },
          "execution_count": 87
        }
      ]
    },
    {
      "cell_type": "markdown",
      "metadata": {
        "id": "R5zAQjQfvMa3",
        "colab_type": "text"
      },
      "source": [
        "## **Now merge both dataframes to include borough.**"
      ]
    },
    {
      "cell_type": "code",
      "metadata": {
        "id": "rncu9pGkrzg3",
        "colab_type": "code",
        "outputId": "e963dfd9-45a2-45ab-8564-4e667b5d14a8",
        "colab": {
          "base_uri": "https://localhost:8080/",
          "height": 35
        }
      },
      "source": [
        "south_mumbai_data.head(2)\n",
        "#south_mumbai_data.shape\n",
        "neighborhoods_venues_sorted.shape"
      ],
      "execution_count": 89,
      "outputs": [
        {
          "output_type": "execute_result",
          "data": {
            "text/plain": [
              "(29, 12)"
            ]
          },
          "metadata": {
            "tags": []
          },
          "execution_count": 89
        }
      ]
    },
    {
      "cell_type": "code",
      "metadata": {
        "id": "inxaFCC8meMU",
        "colab_type": "code",
        "outputId": "6285f4f4-9015-4319-cf53-84bd47028e44",
        "colab": {
          "base_uri": "https://localhost:8080/",
          "height": 356
        }
      },
      "source": [
        "south_mumbai_merged = south_mumbai_data\n",
        "\n",
        "# merge two dataframes\n",
        "south_mumbai_merged = south_mumbai_merged.join(neighborhoods_venues_sorted.set_index('Neighborhood'), on='Neighborhood')\n",
        "\n",
        "south_mumbai_merged.head() \n"
      ],
      "execution_count": 90,
      "outputs": [
        {
          "output_type": "execute_result",
          "data": {
            "text/html": [
              "<div>\n",
              "<style scoped>\n",
              "    .dataframe tbody tr th:only-of-type {\n",
              "        vertical-align: middle;\n",
              "    }\n",
              "\n",
              "    .dataframe tbody tr th {\n",
              "        vertical-align: top;\n",
              "    }\n",
              "\n",
              "    .dataframe thead th {\n",
              "        text-align: right;\n",
              "    }\n",
              "</style>\n",
              "<table border=\"1\" class=\"dataframe\">\n",
              "  <thead>\n",
              "    <tr style=\"text-align: right;\">\n",
              "      <th></th>\n",
              "      <th>index</th>\n",
              "      <th>Neighborhood</th>\n",
              "      <th>Borough</th>\n",
              "      <th>Latitude</th>\n",
              "      <th>Longitude</th>\n",
              "      <th>Cluster Labels</th>\n",
              "      <th>1st Most Common Venue</th>\n",
              "      <th>2nd Most Common Venue</th>\n",
              "      <th>3rd Most Common Venue</th>\n",
              "      <th>4th Most Common Venue</th>\n",
              "      <th>5th Most Common Venue</th>\n",
              "      <th>6th Most Common Venue</th>\n",
              "      <th>7th Most Common Venue</th>\n",
              "      <th>8th Most Common Venue</th>\n",
              "      <th>9th Most Common Venue</th>\n",
              "      <th>10th Most Common Venue</th>\n",
              "    </tr>\n",
              "  </thead>\n",
              "  <tbody>\n",
              "    <tr>\n",
              "      <th>0</th>\n",
              "      <td>0</td>\n",
              "      <td>Colaba</td>\n",
              "      <td>South Mumbai</td>\n",
              "      <td>18.915091</td>\n",
              "      <td>72.825969</td>\n",
              "      <td>2</td>\n",
              "      <td>Fitness/Gym/Spa</td>\n",
              "      <td>Diner</td>\n",
              "      <td>Hotel</td>\n",
              "      <td>Chinese Restaurant</td>\n",
              "      <td>Donut Shop</td>\n",
              "      <td>Japanese Restaurant</td>\n",
              "      <td>Italian Restaurant</td>\n",
              "      <td>Dessert Shop</td>\n",
              "      <td>Pizza Place</td>\n",
              "      <td>Farmers Market</td>\n",
              "    </tr>\n",
              "    <tr>\n",
              "      <th>1</th>\n",
              "      <td>1</td>\n",
              "      <td>Apollo Bandar</td>\n",
              "      <td>South Mumbai</td>\n",
              "      <td>18.918375</td>\n",
              "      <td>72.831443</td>\n",
              "      <td>2</td>\n",
              "      <td>Hotel</td>\n",
              "      <td>Boat or Ferry</td>\n",
              "      <td>Mughlai Restaurant</td>\n",
              "      <td>Chinese Restaurant</td>\n",
              "      <td>Fitness/Gym/Spa</td>\n",
              "      <td>Asian Restaurant</td>\n",
              "      <td>Sculpture Garden</td>\n",
              "      <td>Mediterranean Restaurant</td>\n",
              "      <td>Lounge</td>\n",
              "      <td>Juice Bar</td>\n",
              "    </tr>\n",
              "    <tr>\n",
              "      <th>2</th>\n",
              "      <td>2</td>\n",
              "      <td>Fort</td>\n",
              "      <td>South Mumbai</td>\n",
              "      <td>18.933266</td>\n",
              "      <td>72.834515</td>\n",
              "      <td>3</td>\n",
              "      <td>Chinese Restaurant</td>\n",
              "      <td>Seafood Restaurant</td>\n",
              "      <td>Dessert Shop</td>\n",
              "      <td>Irani Cafe</td>\n",
              "      <td>Parsi Restaurant</td>\n",
              "      <td>Plaza</td>\n",
              "      <td>Lounge</td>\n",
              "      <td>Clothing Store</td>\n",
              "      <td>Mediterranean Restaurant</td>\n",
              "      <td>Men's Store</td>\n",
              "    </tr>\n",
              "    <tr>\n",
              "      <th>3</th>\n",
              "      <td>3</td>\n",
              "      <td>Churchgate</td>\n",
              "      <td>South Mumbai</td>\n",
              "      <td>18.935957</td>\n",
              "      <td>72.827340</td>\n",
              "      <td>3</td>\n",
              "      <td>Sports</td>\n",
              "      <td>Ice Cream Shop</td>\n",
              "      <td>Hotel</td>\n",
              "      <td>Italian Restaurant</td>\n",
              "      <td>Theater\\Multiplex</td>\n",
              "      <td>Pizza Place</td>\n",
              "      <td>Bakery</td>\n",
              "      <td>Japanese Restaurant</td>\n",
              "      <td>Dessert Shop</td>\n",
              "      <td>Sandwich Place</td>\n",
              "    </tr>\n",
              "    <tr>\n",
              "      <th>4</th>\n",
              "      <td>4</td>\n",
              "      <td>Nariman Point</td>\n",
              "      <td>South Mumbai</td>\n",
              "      <td>18.925951</td>\n",
              "      <td>72.823208</td>\n",
              "      <td>3</td>\n",
              "      <td>Theater\\Multiplex</td>\n",
              "      <td>Italian Restaurant</td>\n",
              "      <td>Hotel</td>\n",
              "      <td>Mediterranean Restaurant</td>\n",
              "      <td>Chaat Place</td>\n",
              "      <td>Sports</td>\n",
              "      <td>Snack Place</td>\n",
              "      <td>Diner</td>\n",
              "      <td>Bookstore</td>\n",
              "      <td>Scenic Lookout</td>\n",
              "    </tr>\n",
              "  </tbody>\n",
              "</table>\n",
              "</div>"
            ],
            "text/plain": [
              "   index   Neighborhood  ...     9th Most Common Venue  10th Most Common Venue\n",
              "0      0         Colaba  ...               Pizza Place          Farmers Market\n",
              "1      1  Apollo Bandar  ...                    Lounge               Juice Bar\n",
              "2      2           Fort  ...  Mediterranean Restaurant             Men's Store\n",
              "3      3     Churchgate  ...              Dessert Shop          Sandwich Place\n",
              "4      4  Nariman Point  ...                 Bookstore          Scenic Lookout\n",
              "\n",
              "[5 rows x 16 columns]"
            ]
          },
          "metadata": {
            "tags": []
          },
          "execution_count": 90
        }
      ]
    },
    {
      "cell_type": "code",
      "metadata": {
        "id": "L1rjIkAQVSzi",
        "colab_type": "code",
        "colab": {}
      },
      "source": [
        "# save to csv file\n",
        "south_mumbai_merged.to_csv(\"south_mumbai_merged.csv\")\n",
        "# backup\n",
        "south_mumbai_merged_bkp = south_mumbai_merged\n"
      ],
      "execution_count": 0,
      "outputs": []
    },
    {
      "cell_type": "code",
      "metadata": {
        "id": "___03NFzvq3p",
        "colab_type": "code",
        "outputId": "e37d0d45-a8e5-405d-a773-2ef214053e04",
        "colab": {
          "base_uri": "https://localhost:8080/",
          "height": 413
        }
      },
      "source": [
        "south_mumbai_merged.tail()"
      ],
      "execution_count": 0,
      "outputs": [
        {
          "output_type": "execute_result",
          "data": {
            "text/html": [
              "<div>\n",
              "<style scoped>\n",
              "    .dataframe tbody tr th:only-of-type {\n",
              "        vertical-align: middle;\n",
              "    }\n",
              "\n",
              "    .dataframe tbody tr th {\n",
              "        vertical-align: top;\n",
              "    }\n",
              "\n",
              "    .dataframe thead th {\n",
              "        text-align: right;\n",
              "    }\n",
              "</style>\n",
              "<table border=\"1\" class=\"dataframe\">\n",
              "  <thead>\n",
              "    <tr style=\"text-align: right;\">\n",
              "      <th></th>\n",
              "      <th>index</th>\n",
              "      <th>Neighborhood</th>\n",
              "      <th>Borough</th>\n",
              "      <th>Latitude</th>\n",
              "      <th>Longitude</th>\n",
              "      <th>Cluster Labels</th>\n",
              "      <th>1st Most Common Venue</th>\n",
              "      <th>2nd Most Common Venue</th>\n",
              "      <th>3rd Most Common Venue</th>\n",
              "      <th>4th Most Common Venue</th>\n",
              "      <th>5th Most Common Venue</th>\n",
              "      <th>6th Most Common Venue</th>\n",
              "      <th>7th Most Common Venue</th>\n",
              "      <th>8th Most Common Venue</th>\n",
              "      <th>9th Most Common Venue</th>\n",
              "      <th>10th Most Common Venue</th>\n",
              "    </tr>\n",
              "  </thead>\n",
              "  <tbody>\n",
              "    <tr>\n",
              "      <th>33</th>\n",
              "      <td>33</td>\n",
              "      <td>Mulund West</td>\n",
              "      <td>East Mumbai</td>\n",
              "      <td>19.171972</td>\n",
              "      <td>72.951196</td>\n",
              "      <td>0</td>\n",
              "      <td>Dessert Shop</td>\n",
              "      <td>Theater</td>\n",
              "      <td>Music Venue</td>\n",
              "      <td>Snack Place</td>\n",
              "      <td>Ice Cream Shop</td>\n",
              "      <td>Shopping Mall</td>\n",
              "      <td>Flea Market</td>\n",
              "      <td>Sports</td>\n",
              "      <td>Creperie</td>\n",
              "      <td>Cupcake Shop</td>\n",
              "    </tr>\n",
              "    <tr>\n",
              "      <th>34</th>\n",
              "      <td>34</td>\n",
              "      <td>Powai</td>\n",
              "      <td>North Mumbai</td>\n",
              "      <td>19.118720</td>\n",
              "      <td>72.907348</td>\n",
              "      <td>3</td>\n",
              "      <td>Ice Cream Shop</td>\n",
              "      <td>Fitness/Gym/Spa</td>\n",
              "      <td>Chinese Restaurant</td>\n",
              "      <td>Bakery</td>\n",
              "      <td>Pizza Place</td>\n",
              "      <td>Italian Restaurant</td>\n",
              "      <td>Dessert Shop</td>\n",
              "      <td>Donut Shop</td>\n",
              "      <td>Lounge</td>\n",
              "      <td>Tea Room</td>\n",
              "    </tr>\n",
              "    <tr>\n",
              "      <th>35</th>\n",
              "      <td>35</td>\n",
              "      <td>Jogeshwari</td>\n",
              "      <td>North Mumbai</td>\n",
              "      <td>19.134899</td>\n",
              "      <td>72.848820</td>\n",
              "      <td>0</td>\n",
              "      <td>Asian Restaurant</td>\n",
              "      <td>Chinese Restaurant</td>\n",
              "      <td>Mughlai Restaurant</td>\n",
              "      <td>Pizza Place</td>\n",
              "      <td>Ice Cream Shop</td>\n",
              "      <td>Department Store</td>\n",
              "      <td>Diner</td>\n",
              "      <td>Dim Sum Restaurant</td>\n",
              "      <td>Dhaba</td>\n",
              "      <td>Dessert Shop</td>\n",
              "    </tr>\n",
              "    <tr>\n",
              "      <th>37</th>\n",
              "      <td>37</td>\n",
              "      <td>Borivali</td>\n",
              "      <td>North Mumbai</td>\n",
              "      <td>19.229068</td>\n",
              "      <td>72.857363</td>\n",
              "      <td>0</td>\n",
              "      <td>Ice Cream Shop</td>\n",
              "      <td>Clothing Store</td>\n",
              "      <td>Chinese Restaurant</td>\n",
              "      <td>Juice Bar</td>\n",
              "      <td>Sandwich Place</td>\n",
              "      <td>Snack Place</td>\n",
              "      <td>Lounge</td>\n",
              "      <td>Vegetarian / Vegan Restaurant</td>\n",
              "      <td>Theater</td>\n",
              "      <td>Food Truck</td>\n",
              "    </tr>\n",
              "    <tr>\n",
              "      <th>38</th>\n",
              "      <td>38</td>\n",
              "      <td>Mira Road</td>\n",
              "      <td>North Mumbai</td>\n",
              "      <td>19.187896</td>\n",
              "      <td>72.836596</td>\n",
              "      <td>3</td>\n",
              "      <td>Clothing Store</td>\n",
              "      <td>Chinese Restaurant</td>\n",
              "      <td>Fitness/Gym/Spa</td>\n",
              "      <td>Shopping Mall</td>\n",
              "      <td>Diner</td>\n",
              "      <td>Pizza Place</td>\n",
              "      <td>Donut Shop</td>\n",
              "      <td>Dim Sum Restaurant</td>\n",
              "      <td>Burger Joint</td>\n",
              "      <td>Burrito Place</td>\n",
              "    </tr>\n",
              "  </tbody>\n",
              "</table>\n",
              "</div>"
            ],
            "text/plain": [
              "    index Neighborhood  ... 9th Most Common Venue  10th Most Common Venue\n",
              "33     33  Mulund West  ...              Creperie            Cupcake Shop\n",
              "34     34        Powai  ...                Lounge                Tea Room\n",
              "35     35   Jogeshwari  ...                 Dhaba            Dessert Shop\n",
              "37     37     Borivali  ...               Theater              Food Truck\n",
              "38     38    Mira Road  ...          Burger Joint           Burrito Place\n",
              "\n",
              "[5 rows x 16 columns]"
            ]
          },
          "metadata": {
            "tags": []
          },
          "execution_count": 342
        }
      ]
    },
    {
      "cell_type": "code",
      "metadata": {
        "id": "I6Pow3bQvKvn",
        "colab_type": "code",
        "colab": {}
      },
      "source": [
        "south_mumbai_merged.to_csv(\"south_mumbai_merged.csv\")"
      ],
      "execution_count": 0,
      "outputs": []
    },
    {
      "cell_type": "markdown",
      "metadata": {
        "id": "lMwNKxkzvd4H",
        "colab_type": "text"
      },
      "source": [
        "### check **Cluster Labels** column has been added to dataframe. "
      ]
    },
    {
      "cell_type": "code",
      "metadata": {
        "id": "hvJunH4iWvZ3",
        "colab_type": "code",
        "colab": {
          "base_uri": "https://localhost:8080/",
          "height": 35
        },
        "outputId": "d40ac4f6-7a06-4c47-9a93-720a80bccdd2"
      },
      "source": [
        "print(\"fdffd\")"
      ],
      "execution_count": 99,
      "outputs": [
        {
          "output_type": "stream",
          "text": [
            "fdffd\n"
          ],
          "name": "stdout"
        }
      ]
    },
    {
      "cell_type": "markdown",
      "metadata": {
        "id": "sHE_48RHZMce",
        "colab_type": "text"
      },
      "source": [
        "### **Clusters given name**\n",
        "\n",
        "Cluster Labels 0 : Convenience Store,Smoke Shop\n",
        "\n",
        "Cluster Label  1 : Scenic Lookout,Sports Club\n",
        "\n",
        "Cluster Label  2 : Hotel,Fitness/Gym/Spa,Chinese Restaurant\n",
        "\n",
        "Cluster Label  3 : Theater\\Multiplex,Ice Cream Shop,Seafood Restaurant\n",
        "\n",
        "Cluster Label  4 : American Restaurant,Market\n"
      ]
    },
    {
      "cell_type": "markdown",
      "metadata": {
        "id": "k2dxeKC4ZXeB",
        "colab_type": "text"
      },
      "source": [
        "Following most suitable names based on top venue categories was given to each cluster as follows.\n"
      ]
    },
    {
      "cell_type": "markdown",
      "metadata": {
        "id": "V9D3ad5nwBXC",
        "colab_type": "text"
      },
      "source": [
        "# **Visualize Clusters**"
      ]
    },
    {
      "cell_type": "code",
      "metadata": {
        "id": "69j6pMIKu5rm",
        "colab_type": "code",
        "outputId": "5fbbf9e7-adfd-4bc6-c691-1387ceec27e4",
        "colab": {
          "base_uri": "https://localhost:8080/",
          "height": 586
        }
      },
      "source": [
        "latitude = mumbai_latitude\n",
        "longitude = mumbai_longitude\n",
        "\n",
        "# create map\n",
        "map_clusters = folium.Map(location=[latitude, longitude], zoom_start=11)\n",
        "\n",
        "# set color scheme for the clusters\n",
        "x = np.arange(kclusters)\n",
        "ys = [i + x + (i*x)**2 for i in range(kclusters)]\n",
        "colors_array = cm.rainbow(np.linspace(0, 1, len(ys)))\n",
        "rainbow = [colors.rgb2hex(i) for i in colors_array]\n",
        "\n",
        "# add markers to the map\n",
        "markers_colors = []\n",
        "for lat, lon, poi, cluster in zip(south_mumbai_merged['Latitude'], south_mumbai_merged['Longitude'], south_mumbai_merged['Neighborhood'], south_mumbai_merged['Cluster Labels']):\n",
        "    label = folium.Popup(str(poi) + ' Cluster ' + str(cluster), parse_html=True)\n",
        "    folium.CircleMarker(\n",
        "        [lat, lon],\n",
        "        radius=5,\n",
        "        popup=label,\n",
        "        color=rainbow[cluster-1],\n",
        "        fill=True,\n",
        "        fill_color=rainbow[cluster-1],\n",
        "        fill_opacity=0.7).add_to(map_clusters)\n",
        "       \n",
        "map_clusters\n"
      ],
      "execution_count": 94,
      "outputs": [
        {
          "output_type": "execute_result",
          "data": {
            "text/html": [
              "<div style=\"width:100%;\"><div style=\"position:relative;width:100%;height:0;padding-bottom:60%;\"><iframe src=\"about:blank\" style=\"position:absolute;width:100%;height:100%;left:0;top:0;border:none !important;\" data-html=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 onload=\"this.contentDocument.open();this.contentDocument.write(atob(this.getAttribute('data-html')));this.contentDocument.close();\" allowfullscreen webkitallowfullscreen mozallowfullscreen></iframe></div></div>"
            ],
            "text/plain": [
              "<folium.folium.Map at 0x7fa5492b20f0>"
            ]
          },
          "metadata": {
            "tags": []
          },
          "execution_count": 94
        }
      ]
    },
    {
      "cell_type": "markdown",
      "metadata": {
        "id": "qSPsGpBFApS_",
        "colab_type": "text"
      },
      "source": [
        "# **Second Iteration** "
      ]
    },
    {
      "cell_type": "markdown",
      "metadata": {
        "id": "NxevyW4wAxnY",
        "colab_type": "text"
      },
      "source": [
        "The approach this time is to just pick tourist spots like museum, aquarium, monumnet, beaches,zoo,boat ride,plaza etc. and run analysis on that."
      ]
    },
    {
      "cell_type": "code",
      "metadata": {
        "id": "hIwEM88MpF97",
        "colab_type": "code",
        "colab": {}
      },
      "source": [
        "#south_mumbai_venues = south_mumbai_venues_it1"
      ],
      "execution_count": 0,
      "outputs": []
    },
    {
      "cell_type": "code",
      "metadata": {
        "id": "pk-X5Q3sfncA",
        "colab_type": "code",
        "colab": {
          "base_uri": "https://localhost:8080/",
          "height": 126
        },
        "outputId": "7fc7a0ef-7024-4a52-ebb2-f3740347c5d1"
      },
      "source": [
        "#backup iteration 1\n",
        "#south_mumbai_venues_it1 = south_mumbai_venues\n",
        "\n",
        "# club certain categories first\n",
        "south_mumbai_venues.replace(to_replace =['Boat ride'],value = 'Boat or Ferry', inplace=True)\n",
        "south_mumbai_venues.replace(to_replace =['Sculpture Garden'],value = 'Monument / Landmark', inplace=True)\n",
        "south_mumbai_venues.replace(to_replace =['Other Great Outdoors'],value = 'Scenic Lookout', inplace=True)\n",
        "south_mumbai_venues.replace(to_replace =['Jetty - Gateway of India'],value = 'Scenic Lookout', inplace=True)\n",
        "\n"
      ],
      "execution_count": 114,
      "outputs": [
        {
          "output_type": "stream",
          "text": [
            "/usr/local/lib/python3.6/dist-packages/pandas/core/frame.py:4172: SettingWithCopyWarning: \n",
            "A value is trying to be set on a copy of a slice from a DataFrame\n",
            "\n",
            "See the caveats in the documentation: https://pandas.pydata.org/pandas-docs/stable/user_guide/indexing.html#returning-a-view-versus-a-copy\n",
            "  method=method,\n"
          ],
          "name": "stderr"
        }
      ]
    },
    {
      "cell_type": "code",
      "metadata": {
        "id": "EefLAVTmBN25",
        "colab_type": "code",
        "outputId": "fe70990e-d5b3-4414-fc92-094c43b1c2dd",
        "colab": {
          "base_uri": "https://localhost:8080/",
          "height": 338
        }
      },
      "source": [
        "#'Garden','Park/Garden','Plaza'\n",
        "south_mumbai_venues.shape #(609, 8)\n",
        "test_df = south_mumbai_venues_bkp1\n",
        "venue_cat_list = ['Monument / Landmark','Boat or Ferry','Sculpture Garden' \\\n",
        "                 ,'History Museum','Other Great Outdoors','Scenic Lookout','Aquarium' \\\n",
        "                  ,'Zoo','Racetrack','Beach','Boat ride'\n",
        "                  ]\n",
        "\n",
        "print(\"bef:\",test_df.shape)\n",
        "test_df = test_df[test_df['Venue Category'].isin(venue_cat_list) == True]\n",
        "print(\"aft:\",test_df.shape) # (22, 8)\n",
        "test_df.head()\n",
        "south_mumbai_venues = test_df\n",
        "print(\"aft:\" , south_mumbai_venues.shape)\n",
        "\n",
        "south_mumbai_venues.head()\n",
        "\n",
        "\n",
        "                  "
      ],
      "execution_count": 116,
      "outputs": [
        {
          "output_type": "stream",
          "text": [
            "bef: (619, 8)\n",
            "aft: (20, 8)\n",
            "aft: (20, 8)\n"
          ],
          "name": "stdout"
        },
        {
          "output_type": "execute_result",
          "data": {
            "text/html": [
              "<div>\n",
              "<style scoped>\n",
              "    .dataframe tbody tr th:only-of-type {\n",
              "        vertical-align: middle;\n",
              "    }\n",
              "\n",
              "    .dataframe tbody tr th {\n",
              "        vertical-align: top;\n",
              "    }\n",
              "\n",
              "    .dataframe thead th {\n",
              "        text-align: right;\n",
              "    }\n",
              "</style>\n",
              "<table border=\"1\" class=\"dataframe\">\n",
              "  <thead>\n",
              "    <tr style=\"text-align: right;\">\n",
              "      <th></th>\n",
              "      <th>index</th>\n",
              "      <th>Neighborhood</th>\n",
              "      <th>Neighborhood Latitude</th>\n",
              "      <th>Neighborhood Longitude</th>\n",
              "      <th>Venue</th>\n",
              "      <th>Venue Latitude</th>\n",
              "      <th>Venue Longitude</th>\n",
              "      <th>Venue Category</th>\n",
              "    </tr>\n",
              "  </thead>\n",
              "  <tbody>\n",
              "    <tr>\n",
              "      <th>45</th>\n",
              "      <td>56</td>\n",
              "      <td>Apollo Bandar</td>\n",
              "      <td>18.918375</td>\n",
              "      <td>72.831443</td>\n",
              "      <td>Gateway of India</td>\n",
              "      <td>18.921856</td>\n",
              "      <td>72.834877</td>\n",
              "      <td>Monument / Landmark</td>\n",
              "    </tr>\n",
              "    <tr>\n",
              "      <th>77</th>\n",
              "      <td>103</td>\n",
              "      <td>Apollo Bandar</td>\n",
              "      <td>18.918375</td>\n",
              "      <td>72.831443</td>\n",
              "      <td>APM Deck @ Gateway of India</td>\n",
              "      <td>18.922174</td>\n",
              "      <td>72.833947</td>\n",
              "      <td>Boat or Ferry</td>\n",
              "    </tr>\n",
              "    <tr>\n",
              "      <th>78</th>\n",
              "      <td>104</td>\n",
              "      <td>Apollo Bandar</td>\n",
              "      <td>18.918375</td>\n",
              "      <td>72.831443</td>\n",
              "      <td>Boat ride, gateway of india</td>\n",
              "      <td>18.921847</td>\n",
              "      <td>72.834652</td>\n",
              "      <td>Boat or Ferry</td>\n",
              "    </tr>\n",
              "    <tr>\n",
              "      <th>80</th>\n",
              "      <td>106</td>\n",
              "      <td>Apollo Bandar</td>\n",
              "      <td>18.918375</td>\n",
              "      <td>72.831443</td>\n",
              "      <td>Chhatrapati Shivaji Monument</td>\n",
              "      <td>18.922713</td>\n",
              "      <td>72.834172</td>\n",
              "      <td>Monument / Landmark</td>\n",
              "    </tr>\n",
              "    <tr>\n",
              "      <th>81</th>\n",
              "      <td>107</td>\n",
              "      <td>Apollo Bandar</td>\n",
              "      <td>18.918375</td>\n",
              "      <td>72.831443</td>\n",
              "      <td>Jetty - Gateway of India</td>\n",
              "      <td>18.922558</td>\n",
              "      <td>72.834640</td>\n",
              "      <td>Boat or Ferry</td>\n",
              "    </tr>\n",
              "  </tbody>\n",
              "</table>\n",
              "</div>"
            ],
            "text/plain": [
              "    index   Neighborhood  ...  Venue Longitude       Venue Category\n",
              "45     56  Apollo Bandar  ...        72.834877  Monument / Landmark\n",
              "77    103  Apollo Bandar  ...        72.833947        Boat or Ferry\n",
              "78    104  Apollo Bandar  ...        72.834652        Boat or Ferry\n",
              "80    106  Apollo Bandar  ...        72.834172  Monument / Landmark\n",
              "81    107  Apollo Bandar  ...        72.834640        Boat or Ferry\n",
              "\n",
              "[5 rows x 8 columns]"
            ]
          },
          "metadata": {
            "tags": []
          },
          "execution_count": 116
        }
      ]
    },
    {
      "cell_type": "code",
      "metadata": {
        "id": "fh558HpnkU3R",
        "colab_type": "code",
        "colab": {}
      },
      "source": [
        "#backup iteration 1\n",
        "south_mumbai_venues_it_2 = south_mumbai_venues\n",
        "\n",
        "# to file\n",
        "south_mumbai_venues_it_2.to_csv(\"south_mumbai_venues_it_2.csv\")"
      ],
      "execution_count": 0,
      "outputs": []
    },
    {
      "cell_type": "code",
      "metadata": {
        "id": "tQ-wvBJ3kTCz",
        "colab_type": "code",
        "colab": {
          "base_uri": "https://localhost:8080/",
          "height": 35
        },
        "outputId": "b7e5acf0-dd53-4225-8763-2d69e05c619b"
      },
      "source": [
        "south_mumbai_venues_it_2.shape"
      ],
      "execution_count": 108,
      "outputs": [
        {
          "output_type": "execute_result",
          "data": {
            "text/plain": [
              "(24, 8)"
            ]
          },
          "metadata": {
            "tags": []
          },
          "execution_count": 108
        }
      ]
    },
    {
      "cell_type": "markdown",
      "metadata": {
        "id": "cYvwHysRfjGa",
        "colab_type": "text"
      },
      "source": [
        ""
      ]
    },
    {
      "cell_type": "code",
      "metadata": {
        "id": "zXJNBdoXKviz",
        "colab_type": "code",
        "outputId": "cf0d9ca9-b246-420f-c940-1c3601b5430c",
        "colab": {
          "base_uri": "https://localhost:8080/",
          "height": 35
        }
      },
      "source": [
        "# one hot encoding\n",
        "south_mumbai_onehot = pd.get_dummies(south_mumbai_venues[['Venue Category']], prefix=\"\", prefix_sep=\"\")\n",
        "\n",
        "# add neighborhood column back to dataframe\n",
        "south_mumbai_onehot['Neighborhood'] = south_mumbai_venues['Neighborhood'] \n",
        "\n",
        "# move neighborhood column to the first column\n",
        "fixed_columns = [south_mumbai_onehot.columns[-1]] + list(south_mumbai_onehot.columns[:-1])\n",
        "south_mumbai_onehot = south_mumbai_onehot[fixed_columns]\n",
        "\n",
        "south_mumbai_onehot.shape\n"
      ],
      "execution_count": 119,
      "outputs": [
        {
          "output_type": "execute_result",
          "data": {
            "text/plain": [
              "(20, 9)"
            ]
          },
          "metadata": {
            "tags": []
          },
          "execution_count": 119
        }
      ]
    },
    {
      "cell_type": "code",
      "metadata": {
        "id": "e7to1NapKy6C",
        "colab_type": "code",
        "outputId": "6fb1db22-1d78-4ef6-e9d0-4af29e4faeb0",
        "colab": {
          "base_uri": "https://localhost:8080/",
          "height": 78
        }
      },
      "source": [
        "south_mumbai_grouped = south_mumbai_onehot.groupby('Neighborhood').mean().reset_index()\n",
        "south_mumbai_grouped.head(1)"
      ],
      "execution_count": 120,
      "outputs": [
        {
          "output_type": "execute_result",
          "data": {
            "text/html": [
              "<div>\n",
              "<style scoped>\n",
              "    .dataframe tbody tr th:only-of-type {\n",
              "        vertical-align: middle;\n",
              "    }\n",
              "\n",
              "    .dataframe tbody tr th {\n",
              "        vertical-align: top;\n",
              "    }\n",
              "\n",
              "    .dataframe thead th {\n",
              "        text-align: right;\n",
              "    }\n",
              "</style>\n",
              "<table border=\"1\" class=\"dataframe\">\n",
              "  <thead>\n",
              "    <tr style=\"text-align: right;\">\n",
              "      <th></th>\n",
              "      <th>Neighborhood</th>\n",
              "      <th>Aquarium</th>\n",
              "      <th>Beach</th>\n",
              "      <th>Boat or Ferry</th>\n",
              "      <th>History Museum</th>\n",
              "      <th>Monument / Landmark</th>\n",
              "      <th>Racetrack</th>\n",
              "      <th>Scenic Lookout</th>\n",
              "      <th>Zoo</th>\n",
              "    </tr>\n",
              "  </thead>\n",
              "  <tbody>\n",
              "    <tr>\n",
              "      <th>0</th>\n",
              "      <td>Apollo Bandar</td>\n",
              "      <td>0.0</td>\n",
              "      <td>0.0</td>\n",
              "      <td>0.666667</td>\n",
              "      <td>0.0</td>\n",
              "      <td>0.333333</td>\n",
              "      <td>0.0</td>\n",
              "      <td>0.0</td>\n",
              "      <td>0.0</td>\n",
              "    </tr>\n",
              "  </tbody>\n",
              "</table>\n",
              "</div>"
            ],
            "text/plain": [
              "    Neighborhood  Aquarium  Beach  ...  Racetrack  Scenic Lookout  Zoo\n",
              "0  Apollo Bandar       0.0    0.0  ...        0.0             0.0  0.0\n",
              "\n",
              "[1 rows x 9 columns]"
            ]
          },
          "metadata": {
            "tags": []
          },
          "execution_count": 120
        }
      ]
    },
    {
      "cell_type": "code",
      "metadata": {
        "id": "r07b0HYomOaB",
        "colab_type": "code",
        "colab": {}
      },
      "source": [
        "south_mumbai_grouped_it_2 = south_mumbai_grouped\n",
        "south_mumbai_grouped_it_2.to_csv(\"south_mumbai_grouped_it_2.csv\")"
      ],
      "execution_count": 0,
      "outputs": []
    },
    {
      "cell_type": "code",
      "metadata": {
        "id": "ySJ-geiKKzMv",
        "colab_type": "code",
        "outputId": "c014c63f-a44c-4ef0-e058-0e8f03494d06",
        "colab": {
          "base_uri": "https://localhost:8080/",
          "height": 1000
        }
      },
      "source": [
        "## Let's print each neighborhood along with the top 2 most common venues\n",
        "\n",
        "num_top_venues = 2\n",
        "\n",
        "for hood in south_mumbai_grouped['Neighborhood']:\n",
        "    print(\"----\"+hood+\"----\")\n",
        "    temp = south_mumbai_grouped[south_mumbai_grouped['Neighborhood'] == hood].T.reset_index()\n",
        "    temp.columns = ['venue','freq']\n",
        "    temp = temp.iloc[1:]\n",
        "    temp['freq'] = temp['freq'].astype(float)\n",
        "    temp = temp.round({'freq': 2})\n",
        "    print(temp.sort_values('freq', ascending=False).reset_index(drop=True).head(num_top_venues))\n",
        "    print('\\n')"
      ],
      "execution_count": 122,
      "outputs": [
        {
          "output_type": "stream",
          "text": [
            "----Apollo Bandar----\n",
            "                 venue  freq\n",
            "0        Boat or Ferry  0.67\n",
            "1  Monument / Landmark  0.33\n",
            "\n",
            "\n",
            "----Churchgate----\n",
            "            venue  freq\n",
            "0           Beach   0.5\n",
            "1  Scenic Lookout   0.5\n",
            "\n",
            "\n",
            "----Fort----\n",
            "                 venue  freq\n",
            "0       History Museum   0.5\n",
            "1  Monument / Landmark   0.5\n",
            "\n",
            "\n",
            "----Juhu----\n",
            "      venue  freq\n",
            "0     Beach   1.0\n",
            "1  Aquarium   0.0\n",
            "\n",
            "\n",
            "----Mahalaxmi----\n",
            "       venue  freq\n",
            "0  Racetrack   1.0\n",
            "1   Aquarium   0.0\n",
            "\n",
            "\n",
            "----Marine Lines----\n",
            "            venue  freq\n",
            "0        Aquarium   0.5\n",
            "1  Scenic Lookout   0.5\n",
            "\n",
            "\n",
            "----Nagpada----\n",
            "            venue  freq\n",
            "0  History Museum   0.5\n",
            "1             Zoo   0.5\n",
            "\n",
            "\n",
            "----Nariman Point----\n",
            "            venue  freq\n",
            "0  Scenic Lookout   1.0\n",
            "1        Aquarium   0.0\n",
            "\n",
            "\n",
            "----Powai----\n",
            "            venue  freq\n",
            "0  Scenic Lookout   1.0\n",
            "1        Aquarium   0.0\n",
            "\n",
            "\n",
            "----Walkeshwar----\n",
            "            venue  freq\n",
            "0  History Museum   1.0\n",
            "1        Aquarium   0.0\n",
            "\n",
            "\n",
            "----Worli----\n",
            "            venue  freq\n",
            "0  Scenic Lookout   1.0\n",
            "1        Aquarium   0.0\n",
            "\n",
            "\n"
          ],
          "name": "stdout"
        }
      ]
    },
    {
      "cell_type": "code",
      "metadata": {
        "id": "twVyBY4VKzag",
        "colab_type": "code",
        "colab": {}
      },
      "source": [
        "def return_most_common_venues(row, num_top_venues):\n",
        "    row_categories = row.iloc[1:]\n",
        "    row_categories_sorted = row_categories.sort_values(ascending=False)\n",
        "    \n",
        "    return row_categories_sorted.index.values[0:num_top_venues]"
      ],
      "execution_count": 0,
      "outputs": []
    },
    {
      "cell_type": "markdown",
      "metadata": {
        "id": "3vbtVuKwqJiP",
        "colab_type": "text"
      },
      "source": [
        "### **Take top 2**"
      ]
    },
    {
      "cell_type": "code",
      "metadata": {
        "id": "-V1B0tNKKzp5",
        "colab_type": "code",
        "outputId": "387bc10f-731d-43d0-993d-09985a486295",
        "colab": {
          "base_uri": "https://localhost:8080/",
          "height": 200
        }
      },
      "source": [
        "\n",
        "num_top_venues = 2\n",
        "\n",
        "indicators = ['st', 'nd', 'rd']\n",
        "\n",
        "# create columns according to number of top venues\n",
        "columns = ['Neighborhood']\n",
        "for ind in np.arange(num_top_venues):\n",
        "    try:\n",
        "        columns.append('{}{} Most Common Venue'.format(ind+1, indicators\n",
        "[ind]))\n",
        "    except:\n",
        "        columns.append('{}th Most Common Venue'.format(ind+1))\n",
        "\n",
        "# create a new dataframe\n",
        "neighborhoods_venues_sorted = pd.DataFrame(columns=columns)\n",
        "neighborhoods_venues_sorted['Neighborhood'] = south_mumbai_grouped['Neighborhood']\n",
        "\n",
        "for ind in np.arange(south_mumbai_grouped.shape[0]):\n",
        "    neighborhoods_venues_sorted.iloc[ind, 1:] = return_most_common_venues(south_mumbai_grouped.iloc[ind, :], num_top_venues)\n",
        "\n",
        "neighborhoods_venues_sorted.head()\n"
      ],
      "execution_count": 124,
      "outputs": [
        {
          "output_type": "execute_result",
          "data": {
            "text/html": [
              "<div>\n",
              "<style scoped>\n",
              "    .dataframe tbody tr th:only-of-type {\n",
              "        vertical-align: middle;\n",
              "    }\n",
              "\n",
              "    .dataframe tbody tr th {\n",
              "        vertical-align: top;\n",
              "    }\n",
              "\n",
              "    .dataframe thead th {\n",
              "        text-align: right;\n",
              "    }\n",
              "</style>\n",
              "<table border=\"1\" class=\"dataframe\">\n",
              "  <thead>\n",
              "    <tr style=\"text-align: right;\">\n",
              "      <th></th>\n",
              "      <th>Neighborhood</th>\n",
              "      <th>1st Most Common Venue</th>\n",
              "      <th>2nd Most Common Venue</th>\n",
              "    </tr>\n",
              "  </thead>\n",
              "  <tbody>\n",
              "    <tr>\n",
              "      <th>0</th>\n",
              "      <td>Apollo Bandar</td>\n",
              "      <td>Boat or Ferry</td>\n",
              "      <td>Monument / Landmark</td>\n",
              "    </tr>\n",
              "    <tr>\n",
              "      <th>1</th>\n",
              "      <td>Churchgate</td>\n",
              "      <td>Scenic Lookout</td>\n",
              "      <td>Beach</td>\n",
              "    </tr>\n",
              "    <tr>\n",
              "      <th>2</th>\n",
              "      <td>Fort</td>\n",
              "      <td>Monument / Landmark</td>\n",
              "      <td>History Museum</td>\n",
              "    </tr>\n",
              "    <tr>\n",
              "      <th>3</th>\n",
              "      <td>Juhu</td>\n",
              "      <td>Beach</td>\n",
              "      <td>Zoo</td>\n",
              "    </tr>\n",
              "    <tr>\n",
              "      <th>4</th>\n",
              "      <td>Mahalaxmi</td>\n",
              "      <td>Racetrack</td>\n",
              "      <td>Zoo</td>\n",
              "    </tr>\n",
              "  </tbody>\n",
              "</table>\n",
              "</div>"
            ],
            "text/plain": [
              "    Neighborhood 1st Most Common Venue 2nd Most Common Venue\n",
              "0  Apollo Bandar         Boat or Ferry   Monument / Landmark\n",
              "1     Churchgate        Scenic Lookout                 Beach\n",
              "2           Fort   Monument / Landmark        History Museum\n",
              "3           Juhu                 Beach                   Zoo\n",
              "4      Mahalaxmi             Racetrack                   Zoo"
            ]
          },
          "metadata": {
            "tags": []
          },
          "execution_count": 124
        }
      ]
    },
    {
      "cell_type": "code",
      "metadata": {
        "id": "q_s4ldFBqVNH",
        "colab_type": "code",
        "colab": {}
      },
      "source": [
        "neighborhoods_venues_sorted_it_2 = neighborhoods_venues_sorted\n",
        "neighborhoods_venues_sorted_it_2.to_csv(\"neighborhoods_venues_sorted_it_2.csv\")"
      ],
      "execution_count": 0,
      "outputs": []
    },
    {
      "cell_type": "code",
      "metadata": {
        "id": "ugTUB5n1Kz5a",
        "colab_type": "code",
        "outputId": "d1200529-cb94-45d6-cfb4-b832617f484f",
        "colab": {
          "base_uri": "https://localhost:8080/",
          "height": 90
        }
      },
      "source": [
        "kclusters = 10\n",
        "south_mumbai_grouped_clustering = south_mumbai_grouped.drop('Neighborhood', 1)\n",
        "\n",
        "# run k-means clustering\n",
        "kmeans = KMeans(n_clusters=kclusters, random_state=0).fit(south_mumbai_grouped_clustering)\n",
        "\n",
        "# check cluster labels generated for each row in the dataframe\n",
        "#kmeans.labels_[0:10] \n",
        "kmeans.labels_[0:40] \n"
      ],
      "execution_count": 126,
      "outputs": [
        {
          "output_type": "stream",
          "text": [
            "/usr/local/lib/python3.6/dist-packages/ipykernel_launcher.py:5: ConvergenceWarning: Number of distinct clusters (9) found smaller than n_clusters (10). Possibly due to duplicate points in X.\n",
            "  \"\"\"\n"
          ],
          "name": "stderr"
        },
        {
          "output_type": "execute_result",
          "data": {
            "text/plain": [
              "array([4, 7, 1, 0, 3, 8, 5, 2, 2, 6, 2], dtype=int32)"
            ]
          },
          "metadata": {
            "tags": []
          },
          "execution_count": 126
        }
      ]
    },
    {
      "cell_type": "code",
      "metadata": {
        "id": "YEEINndnK0J0",
        "colab_type": "code",
        "colab": {}
      },
      "source": [
        "neighborhoods_venues_sorted.insert(0, 'Cluster Labels', kmeans.labels_)"
      ],
      "execution_count": 0,
      "outputs": []
    },
    {
      "cell_type": "code",
      "metadata": {
        "id": "s2MYOFs3K0a-",
        "colab_type": "code",
        "colab": {}
      },
      "source": [
        "south_mumbai_merged = south_mumbai_data\n",
        "\n",
        "south_mumbai_merged = pd.merge(south_mumbai_merged, neighborhoods_venues_sorted, on='Neighborhood', how='inner')\n",
        "\n",
        "\n",
        "\n",
        "\n"
      ],
      "execution_count": 0,
      "outputs": []
    },
    {
      "cell_type": "code",
      "metadata": {
        "id": "J8ma67i6sUCO",
        "colab_type": "code",
        "colab": {}
      },
      "source": [
        "south_mumbai_merged.to_csv(\"south_mumbai_merged_It2.csv\")\n",
        "south_mumbai_merged_it_2 = south_mumbai_merged"
      ],
      "execution_count": 0,
      "outputs": []
    },
    {
      "cell_type": "code",
      "metadata": {
        "id": "DVTxnLdpRyvi",
        "colab_type": "code",
        "colab": {}
      },
      "source": [
        "### Old Code :\n",
        "#south_mumbai_merged = south_mumbai_data\n",
        "### merge two dataframes\n",
        "#south_mumbai_merged = south_mumbai_merged.join(neighborhoods_venues_sorted.set_index('Neighborhood'), on='Neighborhood')\n",
        "####pd.merge(df1, df2, on='Customer_id', how='inner')\n",
        "#south_mumbai_merged.head()"
      ],
      "execution_count": 0,
      "outputs": []
    },
    {
      "cell_type": "code",
      "metadata": {
        "id": "SUhjdb_6R36b",
        "colab_type": "code",
        "colab": {
          "base_uri": "https://localhost:8080/",
          "height": 382
        },
        "outputId": "b305ffda-67ff-4a30-8560-6a38bd8cdb32"
      },
      "source": [
        "south_mumbai_merged.head(15)"
      ],
      "execution_count": 130,
      "outputs": [
        {
          "output_type": "execute_result",
          "data": {
            "text/html": [
              "<div>\n",
              "<style scoped>\n",
              "    .dataframe tbody tr th:only-of-type {\n",
              "        vertical-align: middle;\n",
              "    }\n",
              "\n",
              "    .dataframe tbody tr th {\n",
              "        vertical-align: top;\n",
              "    }\n",
              "\n",
              "    .dataframe thead th {\n",
              "        text-align: right;\n",
              "    }\n",
              "</style>\n",
              "<table border=\"1\" class=\"dataframe\">\n",
              "  <thead>\n",
              "    <tr style=\"text-align: right;\">\n",
              "      <th></th>\n",
              "      <th>index</th>\n",
              "      <th>Neighborhood</th>\n",
              "      <th>Borough</th>\n",
              "      <th>Latitude</th>\n",
              "      <th>Longitude</th>\n",
              "      <th>Cluster Labels</th>\n",
              "      <th>1st Most Common Venue</th>\n",
              "      <th>2nd Most Common Venue</th>\n",
              "    </tr>\n",
              "  </thead>\n",
              "  <tbody>\n",
              "    <tr>\n",
              "      <th>0</th>\n",
              "      <td>1</td>\n",
              "      <td>Apollo Bandar</td>\n",
              "      <td>South Mumbai</td>\n",
              "      <td>18.918375</td>\n",
              "      <td>72.831443</td>\n",
              "      <td>4</td>\n",
              "      <td>Boat or Ferry</td>\n",
              "      <td>Monument / Landmark</td>\n",
              "    </tr>\n",
              "    <tr>\n",
              "      <th>1</th>\n",
              "      <td>2</td>\n",
              "      <td>Fort</td>\n",
              "      <td>South Mumbai</td>\n",
              "      <td>18.933266</td>\n",
              "      <td>72.834515</td>\n",
              "      <td>1</td>\n",
              "      <td>Monument / Landmark</td>\n",
              "      <td>History Museum</td>\n",
              "    </tr>\n",
              "    <tr>\n",
              "      <th>2</th>\n",
              "      <td>3</td>\n",
              "      <td>Churchgate</td>\n",
              "      <td>South Mumbai</td>\n",
              "      <td>18.935957</td>\n",
              "      <td>72.827340</td>\n",
              "      <td>7</td>\n",
              "      <td>Scenic Lookout</td>\n",
              "      <td>Beach</td>\n",
              "    </tr>\n",
              "    <tr>\n",
              "      <th>3</th>\n",
              "      <td>4</td>\n",
              "      <td>Nariman Point</td>\n",
              "      <td>South Mumbai</td>\n",
              "      <td>18.925951</td>\n",
              "      <td>72.823208</td>\n",
              "      <td>2</td>\n",
              "      <td>Scenic Lookout</td>\n",
              "      <td>Zoo</td>\n",
              "    </tr>\n",
              "    <tr>\n",
              "      <th>4</th>\n",
              "      <td>5</td>\n",
              "      <td>Marine Lines</td>\n",
              "      <td>South Mumbai</td>\n",
              "      <td>18.945670</td>\n",
              "      <td>72.823781</td>\n",
              "      <td>8</td>\n",
              "      <td>Scenic Lookout</td>\n",
              "      <td>Aquarium</td>\n",
              "    </tr>\n",
              "    <tr>\n",
              "      <th>5</th>\n",
              "      <td>6</td>\n",
              "      <td>Walkeshwar</td>\n",
              "      <td>South Mumbai</td>\n",
              "      <td>18.955343</td>\n",
              "      <td>72.807947</td>\n",
              "      <td>6</td>\n",
              "      <td>History Museum</td>\n",
              "      <td>Zoo</td>\n",
              "    </tr>\n",
              "    <tr>\n",
              "      <th>6</th>\n",
              "      <td>13</td>\n",
              "      <td>Nagpada</td>\n",
              "      <td>South Mumbai</td>\n",
              "      <td>18.968178</td>\n",
              "      <td>72.828601</td>\n",
              "      <td>5</td>\n",
              "      <td>Zoo</td>\n",
              "      <td>History Museum</td>\n",
              "    </tr>\n",
              "    <tr>\n",
              "      <th>7</th>\n",
              "      <td>19</td>\n",
              "      <td>Mahalaxmi</td>\n",
              "      <td>South Mumbai</td>\n",
              "      <td>18.982568</td>\n",
              "      <td>72.824160</td>\n",
              "      <td>3</td>\n",
              "      <td>Racetrack</td>\n",
              "      <td>Zoo</td>\n",
              "    </tr>\n",
              "    <tr>\n",
              "      <th>8</th>\n",
              "      <td>20</td>\n",
              "      <td>Worli</td>\n",
              "      <td>South Mumbai</td>\n",
              "      <td>19.011696</td>\n",
              "      <td>72.818070</td>\n",
              "      <td>2</td>\n",
              "      <td>Scenic Lookout</td>\n",
              "      <td>Zoo</td>\n",
              "    </tr>\n",
              "    <tr>\n",
              "      <th>9</th>\n",
              "      <td>23</td>\n",
              "      <td>Juhu</td>\n",
              "      <td>West Mumbai</td>\n",
              "      <td>19.107021</td>\n",
              "      <td>72.827528</td>\n",
              "      <td>0</td>\n",
              "      <td>Beach</td>\n",
              "      <td>Zoo</td>\n",
              "    </tr>\n",
              "    <tr>\n",
              "      <th>10</th>\n",
              "      <td>34</td>\n",
              "      <td>Powai</td>\n",
              "      <td>North Mumbai</td>\n",
              "      <td>19.118720</td>\n",
              "      <td>72.907348</td>\n",
              "      <td>2</td>\n",
              "      <td>Scenic Lookout</td>\n",
              "      <td>Zoo</td>\n",
              "    </tr>\n",
              "  </tbody>\n",
              "</table>\n",
              "</div>"
            ],
            "text/plain": [
              "    index   Neighborhood  ... 1st Most Common Venue  2nd Most Common Venue\n",
              "0       1  Apollo Bandar  ...         Boat or Ferry    Monument / Landmark\n",
              "1       2           Fort  ...   Monument / Landmark         History Museum\n",
              "2       3     Churchgate  ...        Scenic Lookout                  Beach\n",
              "3       4  Nariman Point  ...        Scenic Lookout                    Zoo\n",
              "4       5   Marine Lines  ...        Scenic Lookout               Aquarium\n",
              "5       6     Walkeshwar  ...        History Museum                    Zoo\n",
              "6      13        Nagpada  ...                   Zoo         History Museum\n",
              "7      19      Mahalaxmi  ...             Racetrack                    Zoo\n",
              "8      20          Worli  ...        Scenic Lookout                    Zoo\n",
              "9      23           Juhu  ...                 Beach                    Zoo\n",
              "10     34          Powai  ...        Scenic Lookout                    Zoo\n",
              "\n",
              "[11 rows x 8 columns]"
            ]
          },
          "metadata": {
            "tags": []
          },
          "execution_count": 130
        }
      ]
    },
    {
      "cell_type": "code",
      "metadata": {
        "id": "idj1aRaKMKyY",
        "colab_type": "code",
        "colab": {}
      },
      "source": [
        "south_mumbai_merged.to_csv(\"south_mumbai_merged_It2.csv\")"
      ],
      "execution_count": 0,
      "outputs": []
    },
    {
      "cell_type": "code",
      "metadata": {
        "id": "Ntbku2YjLIa2",
        "colab_type": "code",
        "outputId": "6430af0e-5643-49dd-a4c3-7edc85081df6",
        "colab": {
          "base_uri": "https://localhost:8080/",
          "height": 586
        }
      },
      "source": [
        "atitude = mumbai_latitude\n",
        "longitude = mumbai_longitude\n",
        "\n",
        "# create map\n",
        "map_clusters = folium.Map(location=[latitude, longitude], zoom_start=11)\n",
        "\n",
        "# set color scheme for the clusters\n",
        "x = np.arange(kclusters)\n",
        "ys = [i + x + (i*x)**2 for i in range(kclusters)]\n",
        "colors_array = cm.rainbow(np.linspace(0, 1, len(ys)))\n",
        "rainbow = [colors.rgb2hex(i) for i in colors_array]\n",
        "\n",
        "# add markers to the map\n",
        "markers_colors = []\n",
        "for lat, lon, poi, cluster in zip(south_mumbai_merged['Latitude'], south_mumbai_merged['Longitude'], south_mumbai_merged['Neighborhood'], south_mumbai_merged['Cluster Labels']):\n",
        "    label = folium.Popup(str(poi) + ' Cluster ' + str(cluster), parse_html=True)\n",
        "    folium.CircleMarker(\n",
        "        [lat, lon],\n",
        "        radius=5,\n",
        "        popup=label,\n",
        "        color=rainbow[cluster-1],\n",
        "        fill=True,\n",
        "        fill_color=rainbow[cluster-1],\n",
        "        fill_opacity=0.7).add_to(map_clusters)\n",
        "       \n",
        "map_clusters\n"
      ],
      "execution_count": 131,
      "outputs": [
        {
          "output_type": "execute_result",
          "data": {
            "text/html": [
              "<div style=\"width:100%;\"><div style=\"position:relative;width:100%;height:0;padding-bottom:60%;\"><iframe src=\"about:blank\" style=\"position:absolute;width:100%;height:100%;left:0;top:0;border:none !important;\" data-html=PCFET0NUWVBFIGh0bWw+CjxoZWFkPiAgICAKICAgIDxtZXRhIGh0dHAtZXF1aXY9ImNvbnRlbnQtdHlwZSIgY29udGVudD0idGV4dC9odG1sOyBjaGFyc2V0PVVURi04IiAvPgogICAgPHNjcmlwdD5MX1BSRUZFUl9DQU5WQVM9ZmFsc2U7IExfTk9fVE9VQ0g9ZmFsc2U7IExfRElTQUJMRV8zRD1mYWxzZTs8L3NjcmlwdD4KICAgIDxzY3JpcHQgc3JjPSJodHRwczovL2Nkbi5qc2RlbGl2ci5uZXQvbnBtL2xlYWZsZXRAMS40LjAvZGlzdC9sZWFmbGV0LmpzIj48L3NjcmlwdD4KICAgIDxzY3JpcHQgc3JjPSJodHRwczovL2NvZGUuanF1ZXJ5LmNvbS9qcXVlcnktMS4xMi40Lm1pbi5qcyI+PC9zY3JpcHQ+CiAgICA8c2NyaXB0IHNyYz0iaHR0cHM6Ly9tYXhjZG4uYm9vdHN0cmFwY2RuLmNvbS9ib290c3RyYXAvMy4yLjAvanMvYm9vdHN0cmFwLm1pbi5qcyI+PC9zY3JpcHQ+CiAgICA8c2NyaXB0IHNyYz0iaHR0cHM6Ly9jZG5qcy5jbG91ZGZsYXJlLmNvbS9hamF4L2xpYnMvTGVhZmxldC5hd2Vzb21lLW1hcmtlcnMvMi4wLjIvbGVhZmxldC5hd2Vzb21lLW1hcmtlcnMuanMiPjwvc2NyaXB0PgogICAgPGxpbmsgcmVsPSJzdHlsZXNoZWV0IiBocmVmPSJodHRwczovL2Nkbi5qc2RlbGl2ci5uZXQvbnBtL2xlYWZsZXRAMS40LjAvZGlzdC9sZWFmbGV0LmNzcyIvPgogICAgPGxpbmsgcmVsPSJzdHlsZXNoZWV0IiBocmVmPSJodHRwczovL21heGNkbi5ib290c3RyYXBjZG4uY29tL2Jvb3RzdHJhcC8zLjIuMC9jc3MvYm9vdHN0cmFwLm1pbi5jc3MiLz4KICAgIDxsaW5rIHJlbD0ic3R5bGVzaGVldCIgaHJlZj0iaHR0cHM6Ly9tYXhjZG4uYm9vdHN0cmFwY2RuLmNvbS9ib290c3RyYXAvMy4yLjAvY3NzL2Jvb3RzdHJhcC10aGVtZS5taW4uY3NzIi8+CiAgICA8bGluayByZWw9InN0eWxlc2hlZXQiIGhyZWY9Imh0dHBzOi8vbWF4Y2RuLmJvb3RzdHJhcGNkbi5jb20vZm9udC1hd2Vzb21lLzQuNi4zL2Nzcy9mb250LWF3ZXNvbWUubWluLmNzcyIvPgogICAgPGxpbmsgcmVsPSJzdHlsZXNoZWV0IiBocmVmPSJodHRwczovL2NkbmpzLmNsb3VkZmxhcmUuY29tL2FqYXgvbGlicy9MZWFmbGV0LmF3ZXNvbWUtbWFya2Vycy8yLjAuMi9sZWFmbGV0LmF3ZXNvbWUtbWFya2Vycy5jc3MiLz4KICAgIDxsaW5rIHJlbD0ic3R5bGVzaGVldCIgaHJlZj0iaHR0cHM6Ly9yYXdjZG4uZ2l0aGFjay5jb20vcHl0aG9uLXZpc3VhbGl6YXRpb24vZm9saXVtL21hc3Rlci9mb2xpdW0vdGVtcGxhdGVzL2xlYWZsZXQuYXdlc29tZS5yb3RhdGUuY3NzIi8+CiAgICA8c3R5bGU+aHRtbCwgYm9keSB7d2lkdGg6IDEwMCU7aGVpZ2h0OiAxMDAlO21hcmdpbjogMDtwYWRkaW5nOiAwO308L3N0eWxlPgogICAgPHN0eWxlPiNtYXAge3Bvc2l0aW9uOmFic29sdXRlO3RvcDowO2JvdHRvbTowO3JpZ2h0OjA7bGVmdDowO308L3N0eWxlPgogICAgCiAgICA8bWV0YSBuYW1lPSJ2aWV3cG9ydCIgY29udGVudD0id2lkdGg9ZGV2aWNlLXdpZHRoLAogICAgICAgIGluaXRpYWwtc2NhbGU9MS4wLCBtYXhpbXVtLXNjYWxlPTEuMCwgdXNlci1zY2FsYWJsZT1ubyIgLz4KICAgIDxzdHlsZT4jbWFwXzYwM2M2ZDU1YjA5NzQ5NDFiMTkxNDc5ZTFmNjNkZGYwIHsKICAgICAgICBwb3NpdGlvbjogcmVsYXRpdmU7CiAgICAgICAgd2lkdGg6IDEwMC4wJTsKICAgICAgICBoZWlnaHQ6IDEwMC4wJTsKICAgICAgICBsZWZ0OiAwLjAlOwogICAgICAgIHRvcDogMC4wJTsKICAgICAgICB9CiAgICA8L3N0eWxlPgo8L2hlYWQ+Cjxib2R5PiAgICAKICAgIAogICAgPGRpdiBjbGFzcz0iZm9saXVtLW1hcCIgaWQ9Im1hcF82MDNjNmQ1NWIwOTc0OTQxYjE5MTQ3OWUxZjYzZGRmMCIgPjwvZGl2Pgo8L2JvZHk+CjxzY3JpcHQ+ICAgIAogICAgCiAgICAKICAgICAgICB2YXIgYm91bmRzID0gbnVsbDsKICAgIAoKICAgIHZhciBtYXBfNjAzYzZkNTViMDk3NDk0MWIxOTE0NzllMWY2M2RkZjAgPSBMLm1hcCgKICAgICAgICAnbWFwXzYwM2M2ZDU1YjA5NzQ5NDFiMTkxNDc5ZTFmNjNkZGYwJywgewogICAgICAgIGNlbnRlcjogWzE4LjkzODc3MTEsIDcyLjgzNTMzNTVdLAogICAgICAgIHpvb206IDExLAogICAgICAgIG1heEJvdW5kczogYm91bmRzLAogICAgICAgIGxheWVyczogW10sCiAgICAgICAgd29ybGRDb3B5SnVtcDogZmFsc2UsCiAgICAgICAgY3JzOiBMLkNSUy5FUFNHMzg1NywKICAgICAgICB6b29tQ29udHJvbDogdHJ1ZSwKICAgICAgICB9KTsKCgogICAgCiAgICB2YXIgdGlsZV9sYXllcl8wN2MyODU4ZjczN2Q0YTc5ODg1YmZkMDNmMzMzNjBkZSA9IEwudGlsZUxheWVyKAogICAgICAgICdodHRwczovL3tzfS50aWxlLm9wZW5zdHJlZXRtYXAub3JnL3t6fS97eH0ve3l9LnBuZycsCiAgICAgICAgewogICAgICAgICJhdHRyaWJ1dGlvbiI6IG51bGwsCiAgICAgICAgImRldGVjdFJldGluYSI6IGZhbHNlLAogICAgICAgICJtYXhOYXRpdmVab29tIjogMTgsCiAgICAgICAgIm1heFpvb20iOiAxOCwKICAgICAgICAibWluWm9vbSI6IDAsCiAgICAgICAgIm5vV3JhcCI6IGZhbHNlLAogICAgICAgICJvcGFjaXR5IjogMSwKICAgICAgICAic3ViZG9tYWlucyI6ICJhYmMiLAogICAgICAgICJ0bXMiOiBmYWxzZQp9KS5hZGRUbyhtYXBfNjAzYzZkNTViMDk3NDk0MWIxOTE0NzllMWY2M2RkZjApOwogICAgCiAgICAgICAgICAgIHZhciBjaXJjbGVfbWFya2VyXzQxN2MzM2E3NzQ0ZjQ3ODNhYmZjMjA3MzdmNzk4Y2Y2ID0gTC5jaXJjbGVNYXJrZXIoCiAgICAgICAgICAgICAgICBbMTguOTE4Mzc0OCwgNzIuODMxNDQyOV0sCiAgICAgICAgICAgICAgICB7CiAgImJ1YmJsaW5nTW91c2VFdmVudHMiOiB0cnVlLAogICJjb2xvciI6ICIjMmFkZGRkIiwKICAiZGFzaEFycmF5IjogbnVsbCwKICAiZGFzaE9mZnNldCI6IG51bGwsCiAgImZpbGwiOiB0cnVlLAogICJmaWxsQ29sb3IiOiAiIzJhZGRkZCIsCiAgImZpbGxPcGFjaXR5IjogMC43LAogICJmaWxsUnVsZSI6ICJldmVub2RkIiwKICAibGluZUNhcCI6ICJyb3VuZCIsCiAgImxpbmVKb2luIjogInJvdW5kIiwKICAib3BhY2l0eSI6IDEuMCwKICAicmFkaXVzIjogNSwKICAic3Ryb2tlIjogdHJ1ZSwKICAid2VpZ2h0IjogMwp9CiAgICAgICAgICAgICAgICApCiAgICAgICAgICAgICAgICAuYWRkVG8obWFwXzYwM2M2ZDU1YjA5NzQ5NDFiMTkxNDc5ZTFmNjNkZGYwKTsKICAgICAgICAgICAgCiAgICAKICAgICAgICAgICAgdmFyIHBvcHVwX2RiYzEyN2EwNDgxYjQ0ZGU4MWUzNjc3MjU0NzYyYmIwID0gTC5wb3B1cCh7bWF4V2lkdGg6ICcxMDAlJwogICAgICAgICAgICAKICAgICAgICAgICAgfSk7CgogICAgICAgICAgICAKICAgICAgICAgICAgICAgIHZhciBodG1sXzVkMTE2ZTMxOGNjNTQ5NTZhNzIwYTEwZDY5ZDI1Y2ZjID0gJChgPGRpdiBpZD0iaHRtbF81ZDExNmUzMThjYzU0OTU2YTcyMGExMGQ2OWQyNWNmYyIgc3R5bGU9IndpZHRoOiAxMDAuMCU7IGhlaWdodDogMTAwLjAlOyI+QXBvbGxvIEJhbmRhciBDbHVzdGVyIDQ8L2Rpdj5gKVswXTsKICAgICAgICAgICAgICAgIHBvcHVwX2RiYzEyN2EwNDgxYjQ0ZGU4MWUzNjc3MjU0NzYyYmIwLnNldENvbnRlbnQoaHRtbF81ZDExNmUzMThjYzU0OTU2YTcyMGExMGQ2OWQyNWNmYyk7CiAgICAgICAgICAgIAoKICAgICAgICAgICAgY2lyY2xlX21hcmtlcl80MTdjMzNhNzc0NGY0NzgzYWJmYzIwNzM3Zjc5OGNmNi5iaW5kUG9wdXAocG9wdXBfZGJjMTI3YTA0ODFiNDRkZTgxZTM2NzcyNTQ3NjJiYjApCiAgICAgICAgICAgIDsKCiAgICAgICAgICAgIAogICAgICAgIAogICAgCiAgICAgICAgICAgIHZhciBjaXJjbGVfbWFya2VyXzU5MDMxZDEyZjk4ZTRhMWJhMTJmMGM1MTYxZjc0NjQyID0gTC5jaXJjbGVNYXJrZXIoCiAgICAgICAgICAgICAgICBbMTguOTMzMjY2NSwgNzIuODM0NTE0Nl0sCiAgICAgICAgICAgICAgICB7CiAgImJ1YmJsaW5nTW91c2VFdmVudHMiOiB0cnVlLAogICJjb2xvciI6ICIjODAwMGZmIiwKICAiZGFzaEFycmF5IjogbnVsbCwKICAiZGFzaE9mZnNldCI6IG51bGwsCiAgImZpbGwiOiB0cnVlLAogICJmaWxsQ29sb3IiOiAiIzgwMDBmZiIsCiAgImZpbGxPcGFjaXR5IjogMC43LAogICJmaWxsUnVsZSI6ICJldmVub2RkIiwKICAibGluZUNhcCI6ICJyb3VuZCIsCiAgImxpbmVKb2luIjogInJvdW5kIiwKICAib3BhY2l0eSI6IDEuMCwKICAicmFkaXVzIjogNSwKICAic3Ryb2tlIjogdHJ1ZSwKICAid2VpZ2h0IjogMwp9CiAgICAgICAgICAgICAgICApCiAgICAgICAgICAgICAgICAuYWRkVG8obWFwXzYwM2M2ZDU1YjA5NzQ5NDFiMTkxNDc5ZTFmNjNkZGYwKTsKICAgICAgICAgICAgCiAgICAKICAgICAgICAgICAgdmFyIHBvcHVwXzA2YjZkY2E0ZGU2ODQ0NDZiY2Q5YWQxZDU2MDIxY2MwID0gTC5wb3B1cCh7bWF4V2lkdGg6ICcxMDAlJwogICAgICAgICAgICAKICAgICAgICAgICAgfSk7CgogICAgICAgICAgICAKICAgICAgICAgICAgICAgIHZhciBodG1sXzcxZjk1NjgzNWVmMjRlZWE4YmE2YmRhNTE4MDM0MWMyID0gJChgPGRpdiBpZD0iaHRtbF83MWY5NTY4MzVlZjI0ZWVhOGJhNmJkYTUxODAzNDFjMiIgc3R5bGU9IndpZHRoOiAxMDAuMCU7IGhlaWdodDogMTAwLjAlOyI+Rm9ydCBDbHVzdGVyIDE8L2Rpdj5gKVswXTsKICAgICAgICAgICAgICAgIHBvcHVwXzA2YjZkY2E0ZGU2ODQ0NDZiY2Q5YWQxZDU2MDIxY2MwLnNldENvbnRlbnQoaHRtbF83MWY5NTY4MzVlZjI0ZWVhOGJhNmJkYTUxODAzNDFjMik7CiAgICAgICAgICAgIAoKICAgICAgICAgICAgY2lyY2xlX21hcmtlcl81OTAzMWQxMmY5OGU0YTFiYTEyZjBjNTE2MWY3NDY0Mi5iaW5kUG9wdXAocG9wdXBfMDZiNmRjYTRkZTY4NDQ0NmJjZDlhZDFkNTYwMjFjYzApCiAgICAgICAgICAgIDsKCiAgICAgICAgICAgIAogICAgICAgIAogICAgCiAgICAgICAgICAgIHZhciBjaXJjbGVfbWFya2VyX2M3YWY4MGJhNmU0NjQwMGNiYzc1ZmFhN2EwY2U5ZjFmID0gTC5jaXJjbGVNYXJrZXIoCiAgICAgICAgICAgICAgICBbMTguOTM1OTU2NywgNzIuODI3MzQwNF0sCiAgICAgICAgICAgICAgICB7CiAgImJ1YmJsaW5nTW91c2VFdmVudHMiOiB0cnVlLAogICJjb2xvciI6ICIjZDRkZDgwIiwKICAiZGFzaEFycmF5IjogbnVsbCwKICAiZGFzaE9mZnNldCI6IG51bGwsCiAgImZpbGwiOiB0cnVlLAogICJmaWxsQ29sb3IiOiAiI2Q0ZGQ4MCIsCiAgImZpbGxPcGFjaXR5IjogMC43LAogICJmaWxsUnVsZSI6ICJldmVub2RkIiwKICAibGluZUNhcCI6ICJyb3VuZCIsCiAgImxpbmVKb2luIjogInJvdW5kIiwKICAib3BhY2l0eSI6IDEuMCwKICAicmFkaXVzIjogNSwKICAic3Ryb2tlIjogdHJ1ZSwKICAid2VpZ2h0IjogMwp9CiAgICAgICAgICAgICAgICApCiAgICAgICAgICAgICAgICAuYWRkVG8obWFwXzYwM2M2ZDU1YjA5NzQ5NDFiMTkxNDc5ZTFmNjNkZGYwKTsKICAgICAgICAgICAgCiAgICAKICAgICAgICAgICAgdmFyIHBvcHVwXzJiNzgwM2M1ZmI4NjQxZGFhMjdhMTRiZmExNDhiNGNiID0gTC5wb3B1cCh7bWF4V2lkdGg6ICcxMDAlJwogICAgICAgICAgICAKICAgICAgICAgICAgfSk7CgogICAgICAgICAgICAKICAgICAgICAgICAgICAgIHZhciBodG1sXzA1YjRjNGRiNTc0ZjQyNWY5NmU2MGY4MDk0YWNhOTZkID0gJChgPGRpdiBpZD0iaHRtbF8wNWI0YzRkYjU3NGY0MjVmOTZlNjBmODA5NGFjYTk2ZCIgc3R5bGU9IndpZHRoOiAxMDAuMCU7IGhlaWdodDogMTAwLjAlOyI+Q2h1cmNoZ2F0ZSBDbHVzdGVyIDc8L2Rpdj5gKVswXTsKICAgICAgICAgICAgICAgIHBvcHVwXzJiNzgwM2M1ZmI4NjQxZGFhMjdhMTRiZmExNDhiNGNiLnNldENvbnRlbnQoaHRtbF8wNWI0YzRkYjU3NGY0MjVmOTZlNjBmODA5NGFjYTk2ZCk7CiAgICAgICAgICAgIAoKICAgICAgICAgICAgY2lyY2xlX21hcmtlcl9jN2FmODBiYTZlNDY0MDBjYmM3NWZhYTdhMGNlOWYxZi5iaW5kUG9wdXAocG9wdXBfMmI3ODAzYzVmYjg2NDFkYWEyN2ExNGJmYTE0OGI0Y2IpCiAgICAgICAgICAgIDsKCiAgICAgICAgICAgIAogICAgICAgIAogICAgCiAgICAgICAgICAgIHZhciBjaXJjbGVfbWFya2VyXzFhMjQyMGRiNjA1OTQxMGFhOTU0ZGNjNWQ0OTg4ZDQwID0gTC5jaXJjbGVNYXJrZXIoCiAgICAgICAgICAgICAgICBbMTguOTI1OTUxNCwgNzIuODIzMjA4M10sCiAgICAgICAgICAgICAgICB7CiAgImJ1YmJsaW5nTW91c2VFdmVudHMiOiB0cnVlLAogICJjb2xvciI6ICIjNDg1NmZiIiwKICAiZGFzaEFycmF5IjogbnVsbCwKICAiZGFzaE9mZnNldCI6IG51bGwsCiAgImZpbGwiOiB0cnVlLAogICJmaWxsQ29sb3IiOiAiIzQ4NTZmYiIsCiAgImZpbGxPcGFjaXR5IjogMC43LAogICJmaWxsUnVsZSI6ICJldmVub2RkIiwKICAibGluZUNhcCI6ICJyb3VuZCIsCiAgImxpbmVKb2luIjogInJvdW5kIiwKICAib3BhY2l0eSI6IDEuMCwKICAicmFkaXVzIjogNSwKICAic3Ryb2tlIjogdHJ1ZSwKICAid2VpZ2h0IjogMwp9CiAgICAgICAgICAgICAgICApCiAgICAgICAgICAgICAgICAuYWRkVG8obWFwXzYwM2M2ZDU1YjA5NzQ5NDFiMTkxNDc5ZTFmNjNkZGYwKTsKICAgICAgICAgICAgCiAgICAKICAgICAgICAgICAgdmFyIHBvcHVwXzNkZDU3NzQwZmI2YjRlMmU5ZjZkYzE5M2RhNTNhNzA4ID0gTC5wb3B1cCh7bWF4V2lkdGg6ICcxMDAlJwogICAgICAgICAgICAKICAgICAgICAgICAgfSk7CgogICAgICAgICAgICAKICAgICAgICAgICAgICAgIHZhciBodG1sXzQzN2Q4MWZjNGE5ZjQ3NGU5NjBmNTFjODY4ZGZlNDQ3ID0gJChgPGRpdiBpZD0iaHRtbF80MzdkODFmYzRhOWY0NzRlOTYwZjUxYzg2OGRmZTQ0NyIgc3R5bGU9IndpZHRoOiAxMDAuMCU7IGhlaWdodDogMTAwLjAlOyI+TmFyaW1hbiBQb2ludCBDbHVzdGVyIDI8L2Rpdj5gKVswXTsKICAgICAgICAgICAgICAgIHBvcHVwXzNkZDU3NzQwZmI2YjRlMmU5ZjZkYzE5M2RhNTNhNzA4LnNldENvbnRlbnQoaHRtbF80MzdkODFmYzRhOWY0NzRlOTYwZjUxYzg2OGRmZTQ0Nyk7CiAgICAgICAgICAgIAoKICAgICAgICAgICAgY2lyY2xlX21hcmtlcl8xYTI0MjBkYjYwNTk0MTBhYTk1NGRjYzVkNDk4OGQ0MC5iaW5kUG9wdXAocG9wdXBfM2RkNTc3NDBmYjZiNGUyZTlmNmRjMTkzZGE1M2E3MDgpCiAgICAgICAgICAgIDsKCiAgICAgICAgICAgIAogICAgICAgIAogICAgCiAgICAgICAgICAgIHZhciBjaXJjbGVfbWFya2VyXzUwODgzNTA4ODQzNzQ5MzFhZDk0NWI1NGZhZDBjYzgxID0gTC5jaXJjbGVNYXJrZXIoCiAgICAgICAgICAgICAgICBbMTguOTQ1NjcwMSwgNzIuODIzNzgxXSwKICAgICAgICAgICAgICAgIHsKICAiYnViYmxpbmdNb3VzZUV2ZW50cyI6IHRydWUsCiAgImNvbG9yIjogIiNmZmEyNTYiLAogICJkYXNoQXJyYXkiOiBudWxsLAogICJkYXNoT2Zmc2V0IjogbnVsbCwKICAiZmlsbCI6IHRydWUsCiAgImZpbGxDb2xvciI6ICIjZmZhMjU2IiwKICAiZmlsbE9wYWNpdHkiOiAwLjcsCiAgImZpbGxSdWxlIjogImV2ZW5vZGQiLAogICJsaW5lQ2FwIjogInJvdW5kIiwKICAibGluZUpvaW4iOiAicm91bmQiLAogICJvcGFjaXR5IjogMS4wLAogICJyYWRpdXMiOiA1LAogICJzdHJva2UiOiB0cnVlLAogICJ3ZWlnaHQiOiAzCn0KICAgICAgICAgICAgICAgICkKICAgICAgICAgICAgICAgIC5hZGRUbyhtYXBfNjAzYzZkNTViMDk3NDk0MWIxOTE0NzllMWY2M2RkZjApOwogICAgICAgICAgICAKICAgIAogICAgICAgICAgICB2YXIgcG9wdXBfMTQwYTkyZGRlZTgzNGQ3ZGEwNzE0MDdiYWQyYTg4ZWIgPSBMLnBvcHVwKHttYXhXaWR0aDogJzEwMCUnCiAgICAgICAgICAgIAogICAgICAgICAgICB9KTsKCiAgICAgICAgICAgIAogICAgICAgICAgICAgICAgdmFyIGh0bWxfMDM5MjFjMmFiMWVkNDYzNjhlYTQxM2UzZTg3OTJlZGQgPSAkKGA8ZGl2IGlkPSJodG1sXzAzOTIxYzJhYjFlZDQ2MzY4ZWE0MTNlM2U4NzkyZWRkIiBzdHlsZT0id2lkdGg6IDEwMC4wJTsgaGVpZ2h0OiAxMDAuMCU7Ij5NYXJpbmUgTGluZXMgQ2x1c3RlciA4PC9kaXY+YClbMF07CiAgICAgICAgICAgICAgICBwb3B1cF8xNDBhOTJkZGVlODM0ZDdkYTA3MTQwN2JhZDJhODhlYi5zZXRDb250ZW50KGh0bWxfMDM5MjFjMmFiMWVkNDYzNjhlYTQxM2UzZTg3OTJlZGQpOwogICAgICAgICAgICAKCiAgICAgICAgICAgIGNpcmNsZV9tYXJrZXJfNTA4ODM1MDg4NDM3NDkzMWFkOTQ1YjU0ZmFkMGNjODEuYmluZFBvcHVwKHBvcHVwXzE0MGE5MmRkZWU4MzRkN2RhMDcxNDA3YmFkMmE4OGViKQogICAgICAgICAgICA7CgogICAgICAgICAgICAKICAgICAgICAKICAgIAogICAgICAgICAgICB2YXIgY2lyY2xlX21hcmtlcl82OTAzYWIxY2YzZDg0OTY5OTZlZGZmZGZkNjU1MjNhZiA9IEwuY2lyY2xlTWFya2VyKAogICAgICAgICAgICAgICAgWzE4Ljk1NTM0MzQsIDcyLjgwNzk0NjldLAogICAgICAgICAgICAgICAgewogICJidWJibGluZ01vdXNlRXZlbnRzIjogdHJ1ZSwKICAiY29sb3IiOiAiIzljZmJhNCIsCiAgImRhc2hBcnJheSI6IG51bGwsCiAgImRhc2hPZmZzZXQiOiBudWxsLAogICJmaWxsIjogdHJ1ZSwKICAiZmlsbENvbG9yIjogIiM5Y2ZiYTQiLAogICJmaWxsT3BhY2l0eSI6IDAuNywKICAiZmlsbFJ1bGUiOiAiZXZlbm9kZCIsCiAgImxpbmVDYXAiOiAicm91bmQiLAogICJsaW5lSm9pbiI6ICJyb3VuZCIsCiAgIm9wYWNpdHkiOiAxLjAsCiAgInJhZGl1cyI6IDUsCiAgInN0cm9rZSI6IHRydWUsCiAgIndlaWdodCI6IDMKfQogICAgICAgICAgICAgICAgKQogICAgICAgICAgICAgICAgLmFkZFRvKG1hcF82MDNjNmQ1NWIwOTc0OTQxYjE5MTQ3OWUxZjYzZGRmMCk7CiAgICAgICAgICAgIAogICAgCiAgICAgICAgICAgIHZhciBwb3B1cF82ZTc0NTU0YjFhY2Q0MTkwOGQ3YjdkOGY1Y2M4MDNhZCA9IEwucG9wdXAoe21heFdpZHRoOiAnMTAwJScKICAgICAgICAgICAgCiAgICAgICAgICAgIH0pOwoKICAgICAgICAgICAgCiAgICAgICAgICAgICAgICB2YXIgaHRtbF85MTdiYzAyZTg1NmU0YWY2YTY1MjgwM2Q3ODJlMTJhMCA9ICQoYDxkaXYgaWQ9Imh0bWxfOTE3YmMwMmU4NTZlNGFmNmE2NTI4MDNkNzgyZTEyYTAiIHN0eWxlPSJ3aWR0aDogMTAwLjAlOyBoZWlnaHQ6IDEwMC4wJTsiPldhbGtlc2h3YXIgQ2x1c3RlciA2PC9kaXY+YClbMF07CiAgICAgICAgICAgICAgICBwb3B1cF82ZTc0NTU0YjFhY2Q0MTkwOGQ3YjdkOGY1Y2M4MDNhZC5zZXRDb250ZW50KGh0bWxfOTE3YmMwMmU4NTZlNGFmNmE2NTI4MDNkNzgyZTEyYTApOwogICAgICAgICAgICAKCiAgICAgICAgICAgIGNpcmNsZV9tYXJrZXJfNjkwM2FiMWNmM2Q4NDk2OTk2ZWRmZmRmZDY1NTIzYWYuYmluZFBvcHVwKHBvcHVwXzZlNzQ1NTRiMWFjZDQxOTA4ZDdiN2Q4ZjVjYzgwM2FkKQogICAgICAgICAgICA7CgogICAgICAgICAgICAKICAgICAgICAKICAgIAogICAgICAgICAgICB2YXIgY2lyY2xlX21hcmtlcl8yNTYwZDdiNTc4NGE0YzA1OWQzOWM4ZjEwOTNkMmVmMyA9IEwuY2lyY2xlTWFya2VyKAogICAgICAgICAgICAgICAgWzE4Ljk2ODE3ODIsIDcyLjgyODYwMDldLAogICAgICAgICAgICAgICAgewogICJidWJibGluZ01vdXNlRXZlbnRzIjogdHJ1ZSwKICAiY29sb3IiOiAiIzYyZmJjNCIsCiAgImRhc2hBcnJheSI6IG51bGwsCiAgImRhc2hPZmZzZXQiOiBudWxsLAogICJmaWxsIjogdHJ1ZSwKICAiZmlsbENvbG9yIjogIiM2MmZiYzQiLAogICJmaWxsT3BhY2l0eSI6IDAuNywKICAiZmlsbFJ1bGUiOiAiZXZlbm9kZCIsCiAgImxpbmVDYXAiOiAicm91bmQiLAogICJsaW5lSm9pbiI6ICJyb3VuZCIsCiAgIm9wYWNpdHkiOiAxLjAsCiAgInJhZGl1cyI6IDUsCiAgInN0cm9rZSI6IHRydWUsCiAgIndlaWdodCI6IDMKfQogICAgICAgICAgICAgICAgKQogICAgICAgICAgICAgICAgLmFkZFRvKG1hcF82MDNjNmQ1NWIwOTc0OTQxYjE5MTQ3OWUxZjYzZGRmMCk7CiAgICAgICAgICAgIAogICAgCiAgICAgICAgICAgIHZhciBwb3B1cF9lZDc2NDM5MmY5Y2Y0OGM3OTI2NmIzMDM4NTg0YTRiNyA9IEwucG9wdXAoe21heFdpZHRoOiAnMTAwJScKICAgICAgICAgICAgCiAgICAgICAgICAgIH0pOwoKICAgICAgICAgICAgCiAgICAgICAgICAgICAgICB2YXIgaHRtbF9jOTdmNzE1ZTE2MzE0NjQ2YTBlZmYyM2I1MjAzYjYwMiA9ICQoYDxkaXYgaWQ9Imh0bWxfYzk3ZjcxNWUxNjMxNDY0NmEwZWZmMjNiNTIwM2I2MDIiIHN0eWxlPSJ3aWR0aDogMTAwLjAlOyBoZWlnaHQ6IDEwMC4wJTsiPk5hZ3BhZGEgQ2x1c3RlciA1PC9kaXY+YClbMF07CiAgICAgICAgICAgICAgICBwb3B1cF9lZDc2NDM5MmY5Y2Y0OGM3OTI2NmIzMDM4NTg0YTRiNy5zZXRDb250ZW50KGh0bWxfYzk3ZjcxNWUxNjMxNDY0NmEwZWZmMjNiNTIwM2I2MDIpOwogICAgICAgICAgICAKCiAgICAgICAgICAgIGNpcmNsZV9tYXJrZXJfMjU2MGQ3YjU3ODRhNGMwNTlkMzljOGYxMDkzZDJlZjMuYmluZFBvcHVwKHBvcHVwX2VkNzY0MzkyZjljZjQ4Yzc5MjY2YjMwMzg1ODRhNGI3KQogICAgICAgICAgICA7CgogICAgICAgICAgICAKICAgICAgICAKICAgIAogICAgICAgICAgICB2YXIgY2lyY2xlX21hcmtlcl8yYjY5M2RiMjRiY2Q0MDQ1OTc3MDkxODM3OGNlZDUzZSA9IEwuY2lyY2xlTWFya2VyKAogICAgICAgICAgICAgICAgWzE4Ljk4MjU2NzksIDcyLjgyNDE2XSwKICAgICAgICAgICAgICAgIHsKICAiYnViYmxpbmdNb3VzZUV2ZW50cyI6IHRydWUsCiAgImNvbG9yIjogIiMxMGEyZjAiLAogICJkYXNoQXJyYXkiOiBudWxsLAogICJkYXNoT2Zmc2V0IjogbnVsbCwKICAiZmlsbCI6IHRydWUsCiAgImZpbGxDb2xvciI6ICIjMTBhMmYwIiwKICAiZmlsbE9wYWNpdHkiOiAwLjcsCiAgImZpbGxSdWxlIjogImV2ZW5vZGQiLAogICJsaW5lQ2FwIjogInJvdW5kIiwKICAibGluZUpvaW4iOiAicm91bmQiLAogICJvcGFjaXR5IjogMS4wLAogICJyYWRpdXMiOiA1LAogICJzdHJva2UiOiB0cnVlLAogICJ3ZWlnaHQiOiAzCn0KICAgICAgICAgICAgICAgICkKICAgICAgICAgICAgICAgIC5hZGRUbyhtYXBfNjAzYzZkNTViMDk3NDk0MWIxOTE0NzllMWY2M2RkZjApOwogICAgICAgICAgICAKICAgIAogICAgICAgICAgICB2YXIgcG9wdXBfODdjZWVhMTNmYjhlNDhmODlkNGMwYzcxMDQ5NjkyYjEgPSBMLnBvcHVwKHttYXhXaWR0aDogJzEwMCUnCiAgICAgICAgICAgIAogICAgICAgICAgICB9KTsKCiAgICAgICAgICAgIAogICAgICAgICAgICAgICAgdmFyIGh0bWxfYjBiYzQ0Y2RkMTVmNDA1NjlmZTQzNzE4N2NlOTA2YjEgPSAkKGA8ZGl2IGlkPSJodG1sX2IwYmM0NGNkZDE1ZjQwNTY5ZmU0MzcxODdjZTkwNmIxIiBzdHlsZT0id2lkdGg6IDEwMC4wJTsgaGVpZ2h0OiAxMDAuMCU7Ij5NYWhhbGF4bWkgQ2x1c3RlciAzPC9kaXY+YClbMF07CiAgICAgICAgICAgICAgICBwb3B1cF84N2NlZWExM2ZiOGU0OGY4OWQ0YzBjNzEwNDk2OTJiMS5zZXRDb250ZW50KGh0bWxfYjBiYzQ0Y2RkMTVmNDA1NjlmZTQzNzE4N2NlOTA2YjEpOwogICAgICAgICAgICAKCiAgICAgICAgICAgIGNpcmNsZV9tYXJrZXJfMmI2OTNkYjI0YmNkNDA0NTk3NzA5MTgzNzhjZWQ1M2UuYmluZFBvcHVwKHBvcHVwXzg3Y2VlYTEzZmI4ZTQ4Zjg5ZDRjMGM3MTA0OTY5MmIxKQogICAgICAgICAgICA7CgogICAgICAgICAgICAKICAgICAgICAKICAgIAogICAgICAgICAgICB2YXIgY2lyY2xlX21hcmtlcl9jYjdiNzRhNWZiMDc0YWQ1OThjOGFlY2I5MzZiYTNhZiA9IEwuY2lyY2xlTWFya2VyKAogICAgICAgICAgICAgICAgWzE5LjAxMTY5NjIsIDcyLjgxODA3MDJdLAogICAgICAgICAgICAgICAgewogICJidWJibGluZ01vdXNlRXZlbnRzIjogdHJ1ZSwKICAiY29sb3IiOiAiIzQ4NTZmYiIsCiAgImRhc2hBcnJheSI6IG51bGwsCiAgImRhc2hPZmZzZXQiOiBudWxsLAogICJmaWxsIjogdHJ1ZSwKICAiZmlsbENvbG9yIjogIiM0ODU2ZmIiLAogICJmaWxsT3BhY2l0eSI6IDAuNywKICAiZmlsbFJ1bGUiOiAiZXZlbm9kZCIsCiAgImxpbmVDYXAiOiAicm91bmQiLAogICJsaW5lSm9pbiI6ICJyb3VuZCIsCiAgIm9wYWNpdHkiOiAxLjAsCiAgInJhZGl1cyI6IDUsCiAgInN0cm9rZSI6IHRydWUsCiAgIndlaWdodCI6IDMKfQogICAgICAgICAgICAgICAgKQogICAgICAgICAgICAgICAgLmFkZFRvKG1hcF82MDNjNmQ1NWIwOTc0OTQxYjE5MTQ3OWUxZjYzZGRmMCk7CiAgICAgICAgICAgIAogICAgCiAgICAgICAgICAgIHZhciBwb3B1cF8zYmEzNDlkYzA3MmU0MGU1OGNlYjkxZDk2MTEzMmE2YSA9IEwucG9wdXAoe21heFdpZHRoOiAnMTAwJScKICAgICAgICAgICAgCiAgICAgICAgICAgIH0pOwoKICAgICAgICAgICAgCiAgICAgICAgICAgICAgICB2YXIgaHRtbF8yODUzYWZhYTk2ZGY0NWU0YjBiN2VmMGQ1MTk1OTFlZSA9ICQoYDxkaXYgaWQ9Imh0bWxfMjg1M2FmYWE5NmRmNDVlNGIwYjdlZjBkNTE5NTkxZWUiIHN0eWxlPSJ3aWR0aDogMTAwLjAlOyBoZWlnaHQ6IDEwMC4wJTsiPldvcmxpIENsdXN0ZXIgMjwvZGl2PmApWzBdOwogICAgICAgICAgICAgICAgcG9wdXBfM2JhMzQ5ZGMwNzJlNDBlNThjZWI5MWQ5NjExMzJhNmEuc2V0Q29udGVudChodG1sXzI4NTNhZmFhOTZkZjQ1ZTRiMGI3ZWYwZDUxOTU5MWVlKTsKICAgICAgICAgICAgCgogICAgICAgICAgICBjaXJjbGVfbWFya2VyX2NiN2I3NGE1ZmIwNzRhZDU5OGM4YWVjYjkzNmJhM2FmLmJpbmRQb3B1cChwb3B1cF8zYmEzNDlkYzA3MmU0MGU1OGNlYjkxZDk2MTEzMmE2YSkKICAgICAgICAgICAgOwoKICAgICAgICAgICAgCiAgICAgICAgCiAgICAKICAgICAgICAgICAgdmFyIGNpcmNsZV9tYXJrZXJfZWEwYzZiNDNmNTY2NDE0Y2E5ZDM1YWRlN2RlMzcwYjcgPSBMLmNpcmNsZU1hcmtlcigKICAgICAgICAgICAgICAgIFsxOS4xMDcwMjE1LCA3Mi44Mjc1Mjc1XSwKICAgICAgICAgICAgICAgIHsKICAiYnViYmxpbmdNb3VzZUV2ZW50cyI6IHRydWUsCiAgImNvbG9yIjogIiNmZjAwMDAiLAogICJkYXNoQXJyYXkiOiBudWxsLAogICJkYXNoT2Zmc2V0IjogbnVsbCwKICAiZmlsbCI6IHRydWUsCiAgImZpbGxDb2xvciI6ICIjZmYwMDAwIiwKICAiZmlsbE9wYWNpdHkiOiAwLjcsCiAgImZpbGxSdWxlIjogImV2ZW5vZGQiLAogICJsaW5lQ2FwIjogInJvdW5kIiwKICAibGluZUpvaW4iOiAicm91bmQiLAogICJvcGFjaXR5IjogMS4wLAogICJyYWRpdXMiOiA1LAogICJzdHJva2UiOiB0cnVlLAogICJ3ZWlnaHQiOiAzCn0KICAgICAgICAgICAgICAgICkKICAgICAgICAgICAgICAgIC5hZGRUbyhtYXBfNjAzYzZkNTViMDk3NDk0MWIxOTE0NzllMWY2M2RkZjApOwogICAgICAgICAgICAKICAgIAogICAgICAgICAgICB2YXIgcG9wdXBfMmI2YzljN2MwYjFjNDEyMTk3ZmZkNGQ1ZDNjMzBmYTMgPSBMLnBvcHVwKHttYXhXaWR0aDogJzEwMCUnCiAgICAgICAgICAgIAogICAgICAgICAgICB9KTsKCiAgICAgICAgICAgIAogICAgICAgICAgICAgICAgdmFyIGh0bWxfZmZjN2QxMDg3MTI5NGJlMWJhYjViZDk0MGY5ZjFmN2EgPSAkKGA8ZGl2IGlkPSJodG1sX2ZmYzdkMTA4NzEyOTRiZTFiYWI1YmQ5NDBmOWYxZjdhIiBzdHlsZT0id2lkdGg6IDEwMC4wJTsgaGVpZ2h0OiAxMDAuMCU7Ij5KdWh1IENsdXN0ZXIgMDwvZGl2PmApWzBdOwogICAgICAgICAgICAgICAgcG9wdXBfMmI2YzljN2MwYjFjNDEyMTk3ZmZkNGQ1ZDNjMzBmYTMuc2V0Q29udGVudChodG1sX2ZmYzdkMTA4NzEyOTRiZTFiYWI1YmQ5NDBmOWYxZjdhKTsKICAgICAgICAgICAgCgogICAgICAgICAgICBjaXJjbGVfbWFya2VyX2VhMGM2YjQzZjU2NjQxNGNhOWQzNWFkZTdkZTM3MGI3LmJpbmRQb3B1cChwb3B1cF8yYjZjOWM3YzBiMWM0MTIxOTdmZmQ0ZDVkM2MzMGZhMykKICAgICAgICAgICAgOwoKICAgICAgICAgICAgCiAgICAgICAgCiAgICAKICAgICAgICAgICAgdmFyIGNpcmNsZV9tYXJrZXJfNjNhYzBkOWVkNDE1NDcwOTk5MGVmOTMzOTZlMGM2NzAgPSBMLmNpcmNsZU1hcmtlcigKICAgICAgICAgICAgICAgIFsxOS4xMTg3MTk1LCA3Mi45MDczNDc2XSwKICAgICAgICAgICAgICAgIHsKICAiYnViYmxpbmdNb3VzZUV2ZW50cyI6IHRydWUsCiAgImNvbG9yIjogIiM0ODU2ZmIiLAogICJkYXNoQXJyYXkiOiBudWxsLAogICJkYXNoT2Zmc2V0IjogbnVsbCwKICAiZmlsbCI6IHRydWUsCiAgImZpbGxDb2xvciI6ICIjNDg1NmZiIiwKICAiZmlsbE9wYWNpdHkiOiAwLjcsCiAgImZpbGxSdWxlIjogImV2ZW5vZGQiLAogICJsaW5lQ2FwIjogInJvdW5kIiwKICAibGluZUpvaW4iOiAicm91bmQiLAogICJvcGFjaXR5IjogMS4wLAogICJyYWRpdXMiOiA1LAogICJzdHJva2UiOiB0cnVlLAogICJ3ZWlnaHQiOiAzCn0KICAgICAgICAgICAgICAgICkKICAgICAgICAgICAgICAgIC5hZGRUbyhtYXBfNjAzYzZkNTViMDk3NDk0MWIxOTE0NzllMWY2M2RkZjApOwogICAgICAgICAgICAKICAgIAogICAgICAgICAgICB2YXIgcG9wdXBfZmMwNzBhYWUyNjJlNDJiZTkyMmRlNDNjNGM3NDY4ZTYgPSBMLnBvcHVwKHttYXhXaWR0aDogJzEwMCUnCiAgICAgICAgICAgIAogICAgICAgICAgICB9KTsKCiAgICAgICAgICAgIAogICAgICAgICAgICAgICAgdmFyIGh0bWxfNDFmNzgyZDI3NTBkNDM5Y2I3Yzg5ZDViYzQ2MTgzZWYgPSAkKGA8ZGl2IGlkPSJodG1sXzQxZjc4MmQyNzUwZDQzOWNiN2M4OWQ1YmM0NjE4M2VmIiBzdHlsZT0id2lkdGg6IDEwMC4wJTsgaGVpZ2h0OiAxMDAuMCU7Ij5Qb3dhaSBDbHVzdGVyIDI8L2Rpdj5gKVswXTsKICAgICAgICAgICAgICAgIHBvcHVwX2ZjMDcwYWFlMjYyZTQyYmU5MjJkZTQzYzRjNzQ2OGU2LnNldENvbnRlbnQoaHRtbF80MWY3ODJkMjc1MGQ0MzljYjdjODlkNWJjNDYxODNlZik7CiAgICAgICAgICAgIAoKICAgICAgICAgICAgY2lyY2xlX21hcmtlcl82M2FjMGQ5ZWQ0MTU0NzA5OTkwZWY5MzM5NmUwYzY3MC5iaW5kUG9wdXAocG9wdXBfZmMwNzBhYWUyNjJlNDJiZTkyMmRlNDNjNGM3NDY4ZTYpCiAgICAgICAgICAgIDsKCiAgICAgICAgICAgIAogICAgICAgIAo8L3NjcmlwdD4= onload=\"this.contentDocument.open();this.contentDocument.write(atob(this.getAttribute('data-html')));this.contentDocument.close();\" allowfullscreen webkitallowfullscreen mozallowfullscreen></iframe></div></div>"
            ],
            "text/plain": [
              "<folium.folium.Map at 0x7fa54924c5c0>"
            ]
          },
          "metadata": {
            "tags": []
          },
          "execution_count": 131
        }
      ]
    },
    {
      "cell_type": "code",
      "metadata": {
        "id": "XHoqnpdsLIub",
        "colab_type": "code",
        "colab": {}
      },
      "source": [
        ""
      ],
      "execution_count": 0,
      "outputs": []
    }
  ]
}