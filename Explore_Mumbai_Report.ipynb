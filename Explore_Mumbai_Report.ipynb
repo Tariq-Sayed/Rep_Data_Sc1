{
  "nbformat": 4,
  "nbformat_minor": 0,
  "metadata": {
    "colab": {
      "name": "Explore_Mumbai_Report.ipynb",
      "provenance": [],
      "collapsed_sections": [],
      "toc_visible": true
    },
    "kernelspec": {
      "name": "python3",
      "display_name": "Python 3"
    }
  },
  "cells": [
    {
      "cell_type": "markdown",
      "metadata": {
        "id": "E5HkOESdLRDl",
        "colab_type": "text"
      },
      "source": [
        "# **20 April : 9:54 pm**"
      ]
    },
    {
      "cell_type": "code",
      "metadata": {
        "id": "P7CyYAwEVg60",
        "colab_type": "code",
        "colab": {
          "base_uri": "https://localhost:8080/",
          "height": 35
        },
        "outputId": "403f007a-af38-410b-b022-794fc1007a38"
      },
      "source": [
        "print(\"as\")"
      ],
      "execution_count": 1,
      "outputs": [
        {
          "output_type": "stream",
          "text": [
            "as\n"
          ],
          "name": "stdout"
        }
      ]
    },
    {
      "cell_type": "markdown",
      "metadata": {
        "id": "a8u0w1oGy-Gp",
        "colab_type": "text"
      },
      "source": [
        "# **Exploring Mumbai City for Foreign Tourists**\n",
        "\n",
        "\n",
        "\n"
      ]
    },
    {
      "cell_type": "markdown",
      "metadata": {
        "id": "lPZiH3nizJfn",
        "colab_type": "text"
      },
      "source": [
        "#### **Tariq Sayed**\n",
        "#### **April 19, 2020**"
      ]
    },
    {
      "cell_type": "markdown",
      "metadata": {
        "id": "5bRYXi660HMm",
        "colab_type": "text"
      },
      "source": [
        "# **1. Introduction**"
      ]
    },
    {
      "cell_type": "markdown",
      "metadata": {
        "id": "IYWx0PLh0LtR",
        "colab_type": "text"
      },
      "source": [
        "## **1.1 Background**"
      ]
    },
    {
      "cell_type": "markdown",
      "metadata": {
        "id": "TDxSTIDc09UX",
        "colab_type": "text"
      },
      "source": [
        "Mumbai is a commercial capital of India with a rich cosmopolitan culture. Many tourists from all over the world visit here to enjoy the scenic beaches, historic monuments, museums and delicious international variety of cuisines. It is a shopping paradise and offer lot of commodities ranging from readymade garments, household items to antiques. Generally, tourists have no or little idea where to book a hotel which is near to touristic places of interest like beaches, museum or aquarium they are looking for. Where they can find good restaurants, which can offer a wide variety of international cuisine. Or where they can find park and gardens for their small kids. Which areas are good for shopping having malls or flea markets. Where they can get antiques. The fitness freaks would prefer a Gym or Spa nearby. Where they can enjoy a boat ride. The buses and trains usually are overcrowded and not recommended for tourists. Therefore, they should get some knowhow of city neighbourhoods so they can book a hotel in neighbourhoods where they can find places of their interest within walking distance or they can hire a taxi and can reach within minutes and time is not wasted in overcrowded buses or trains.\n",
        "Mumbai is basically divided into South, West, East and North regions or boroughs. South Mumbai is oldest and rich in heritage.\n",
        "I decided to choose Mumbai as I am born and brought up in this city and familiar with most of the neighbourhoods and can verify accuracy of data obtained.\n"
      ]
    },
    {
      "cell_type": "markdown",
      "metadata": {
        "id": "GYFUagBG5Hq_",
        "colab_type": "text"
      },
      "source": [
        "## **1.2 Problem**"
      ]
    },
    {
      "cell_type": "markdown",
      "metadata": {
        "id": "ztRAbOnL5L0N",
        "colab_type": "text"
      },
      "source": [
        "The data required to resolve this problem includes neighbourhoods of Mumbai, in which borough they fall, their coordinates and the venues nearby with their categories.\n",
        "The key aim of this project is to guide a foreign tourist about booking a hotel in a neighbourhood where he/she can find places of his/her interest within walking distance or can reach by hiring a taxi in few minutes from his/her hotel. This problem can be resolved by showing a map with clusters of neighbourhoods in different colours based on their similarities.\n",
        " "
      ]
    },
    {
      "cell_type": "markdown",
      "metadata": {
        "id": "9SL8ASuY6fjZ",
        "colab_type": "text"
      },
      "source": [
        "## **1.3 Stakeholders**"
      ]
    },
    {
      "cell_type": "markdown",
      "metadata": {
        "id": "sUAa0ebs62UF",
        "colab_type": "text"
      },
      "source": [
        "The foreign tourists will benefit most from the findings of this project and they should be able to book the hotel in an area where they can find things of their interest nearby and will save their time in commuting through overcrowded trains or buses. Apart from that those who want to setup a new hotel or a restaurant or some shop can also be benefitted. Other interested parties can be tour operators to help them setup their office in right place."
      ]
    },
    {
      "cell_type": "markdown",
      "metadata": {
        "id": "HyAX1Yp-8tXQ",
        "colab_type": "text"
      },
      "source": [
        "# **2. Data**"
      ]
    },
    {
      "cell_type": "markdown",
      "metadata": {
        "id": "0P4Uj3hO89iE",
        "colab_type": "text"
      },
      "source": [
        "## **2.1 Data Sources**"
      ]
    },
    {
      "cell_type": "markdown",
      "metadata": {
        "id": "IgS3-vWK9ElF",
        "colab_type": "text"
      },
      "source": [
        "The main data source would be Four Square API which provides the venues along with their categories. But, in order to provide venues of a location you need to provide latitude and longitude of the location. The latitude and longitude of a location are fetched from Geopy library. The Geopy library has some limitations as to number of locations coordinates it can return and times out. This issue was resolved by splitting the data and passing locations in two batches. But major challenge was non-availability of all the neighbourhoods with their respective boroughs. Therefore, constructed this data through Python code using objects like array, dictionary and data frame."
      ]
    },
    {
      "cell_type": "markdown",
      "metadata": {
        "id": "ukaIYogRdmMP",
        "colab_type": "text"
      },
      "source": [
        "Then final data looks as follows for 39 neighborhoods."
      ]
    },
    {
      "cell_type": "markdown",
      "metadata": {
        "colab_type": "text",
        "id": "4wBZtY_NeRHk"
      },
      "source": [
        "![Mumbai Neighborhoods](https://raw.githubusercontent.com/Tariq-Sayed/Rep_Data_Sc1/master/1_neighborhoods.PNG)"
      ]
    },
    {
      "cell_type": "markdown",
      "metadata": {
        "id": "znOnQMQg1aJX",
        "colab_type": "text"
      },
      "source": [
        "After this using folium library I created a map of Mumbai and superimposed all 39 neighborhoods on top of this map. It looks like this."
      ]
    },
    {
      "cell_type": "markdown",
      "metadata": {
        "id": "1_TlOda21qFa",
        "colab_type": "text"
      },
      "source": [
        "![Map_Superimposed](https://raw.githubusercontent.com/Tariq-Sayed/Rep_Data_Sc1/master/2_map.png)"
      ]
    },
    {
      "cell_type": "markdown",
      "metadata": {
        "id": "TOFnMPrEx5X2",
        "colab_type": "text"
      },
      "source": [
        "Then I used Four Square API to get venues in a radius of 650 meters keeping a maximum limit of 100 per location.If you increase the range it will fetch more venues, but at the same time chances of neighborhoods overlapping increases which results in duplication of venues.After some iteration an optimum value of 650 met with minimum duplication was set.These duplication were eliminated later.Four Square returned total 1118 venues.The venue data will look like this after merging with master table."
      ]
    },
    {
      "cell_type": "markdown",
      "metadata": {
        "id": "KAjgf-IA2bOx",
        "colab_type": "text"
      },
      "source": [
        "![Venues](https://raw.githubusercontent.com/Tariq-Sayed/Rep_Data_Sc1/master/4_venue_merge.PNG)"
      ]
    },
    {
      "cell_type": "markdown",
      "metadata": {
        "colab_type": "text",
        "id": "hz87Nnmnfwb2"
      },
      "source": [
        "## **2.2 Data Cleaning**"
      ]
    },
    {
      "cell_type": "markdown",
      "metadata": {
        "colab_type": "text",
        "id": "kkNF6j9Sf4Nc"
      },
      "source": [
        "The raw data is usually not fit for analysis. It has many issues and it needs to be cleaned before analysis. This task requires efforts but is a key task and accuracy of our analysis depends on it.\n",
        "Therefore, I identified all data quality issues and resolved them.\n",
        "The redundant data was found due to overlapping of neighborhoods when you tend to increase the radius in order to fetch more data. These duplicates were discarded.\n",
        "\n",
        "Also encountered small sample size issue as some locations returned very few venues. One of such neighbourhood was dropped. While others were merged with nearby neighbourhoods. With this approach not much data was lost. \n",
        "\n",
        "Wrong categorization of data was corrected to more standard categories.\n",
        "\n",
        "Looked for outliers. The data has too many Indian restaurants which are very common in all areas of the city. The tourists find Indian food to be very spicy and generally prefer western, Mexican or Arabian cuisine. Therefore, dropped Indian restaurants from the equation. The similar treatment was given to other such categories which are in very large number but relatively less significant. \n",
        "\n",
        "The similar categories were clubbed together like Parks and gardens to one category Park/Garden. Bar and Pub to Bar/Pub etc.\n",
        "\n"
      ]
    },
    {
      "cell_type": "markdown",
      "metadata": {
        "colab_type": "text",
        "id": "bl1-ful6i7k_"
      },
      "source": [
        "The below table shows Darukahana has only two venues. It was dropped. While other neighborhoods were merged with adjecent areas. With this approach not much of data was lost."
      ]
    },
    {
      "cell_type": "markdown",
      "metadata": {
        "colab_type": "text",
        "id": "mhfzRodXjBLA"
      },
      "source": [
        "![Venues](https://raw.githubusercontent.com/Tariq-Sayed/Rep_Data_Sc1/master/7_Bottom10_Nbhood7.PNG)"
      ]
    },
    {
      "cell_type": "markdown",
      "metadata": {
        "id": "tqZyQKZ2jR9k",
        "colab_type": "text"
      },
      "source": [
        "The below data shows we got too many Indian restaurants which are very common in all areas of the city. Therefore, dropped Indian restaurants from the equation. The similar treatment was given to other such categories which are in very large number but relatively less significant.\n",
        "\n",
        "The similar categories were clubbed together like Parks and gardens to one category Park/Garden. Bar and Pub to Bar/Pub etc."
      ]
    },
    {
      "cell_type": "markdown",
      "metadata": {
        "id": "kHnqiuU_34e4",
        "colab_type": "text"
      },
      "source": [
        "![Venues](https://raw.githubusercontent.com/Tariq-Sayed/Rep_Data_Sc1/master/5_Top10_Category.PNG)"
      ]
    },
    {
      "cell_type": "markdown",
      "metadata": {
        "id": "cxoczaQDytPd",
        "colab_type": "text"
      },
      "source": [
        "After this cleansing job, I got 619 venues for 29 neighborhoods."
      ]
    },
    {
      "cell_type": "markdown",
      "metadata": {
        "id": "pxtlrVjlg_t-",
        "colab_type": "text"
      },
      "source": [
        "### **2.3 Feature Selection**"
      ]
    },
    {
      "cell_type": "markdown",
      "metadata": {
        "id": "LfJdOQ7XhF2E",
        "colab_type": "text"
      },
      "source": [
        "The key features for this analysis are neighborhood, its respective borough, venue, venue categories and latitude and longitude of neighborhood and venue.\n",
        "No redundancy was found in features returned by Four Square APIs\n",
        "After an extensive data cleansing exercise, there were 619 samples for 29 neighbourhoods.\n"
      ]
    },
    {
      "cell_type": "markdown",
      "metadata": {
        "colab_type": "text",
        "id": "_vRjbBoChde2"
      },
      "source": [
        "# **3. Methodology**"
      ]
    },
    {
      "cell_type": "markdown",
      "metadata": {
        "colab_type": "text",
        "id": "YT4oizZqhjGW"
      },
      "source": [
        "In this study, we will first cluster the areas based on frequency of occurance of venue category within each neighborhoods using k-means algorithm. And then visualize the clusters on a map using folium. In this iteration we'll eliminate only clutter but will keep food, shopping and places to visit  for our analysis.\n",
        "\n",
        "After, analysing  the results, we may go for another iteration based on specific set of venue categories which are most significant from tourist point of view. This will show a different perspective of the city than previous one.\n"
      ]
    },
    {
      "cell_type": "markdown",
      "metadata": {
        "colab_type": "text",
        "id": "j5Xf1AVoho4R"
      },
      "source": [
        "The idea of the code that follows is to see top 10 venue categories within each neighborhood. Each neighborhood will appear as one row and each column will represent venue category. And they will be ordered based on their ranking. The most venue categories will get first rank and so on."
      ]
    },
    {
      "cell_type": "markdown",
      "metadata": {
        "colab_type": "text",
        "id": "TiAl7PzFhuw7"
      },
      "source": [
        "I decided to use k-means alogorthm for clustering Mumbai neighborhoods based on frequency of venue category. Therfore, I took the mean of frequency of occurance of each category within its neighborhood.The table looks as follows keeping categories as header and neighborhoods as rows.This matrix has 29 rows and 129 columns."
      ]
    },
    {
      "cell_type": "markdown",
      "metadata": {
        "id": "qqqE_weIzRVL",
        "colab_type": "text"
      },
      "source": [
        "![Venues](https://raw.githubusercontent.com/Tariq-Sayed/Rep_Data_Sc1/master/9_Freq_matrix.PNG)"
      ]
    },
    {
      "cell_type": "markdown",
      "metadata": {
        "id": "e15Ym4o0zd9W",
        "colab_type": "text"
      },
      "source": [
        "I tried to list 5 top venue category frequency in each neighborhood."
      ]
    },
    {
      "cell_type": "markdown",
      "metadata": {
        "id": "-6BWtbgt1Wf6",
        "colab_type": "text"
      },
      "source": [
        "![Venues](https://raw.githubusercontent.com/Tariq-Sayed/Rep_Data_Sc1/master/10_Top5_cat.PNG)"
      ]
    },
    {
      "cell_type": "markdown",
      "metadata": {
        "id": "Whm_7IY30JPL",
        "colab_type": "text"
      },
      "source": [
        "Then listed top 10 venue categories for each neighborhood."
      ]
    },
    {
      "cell_type": "markdown",
      "metadata": {
        "id": "AsY3yK_W1J_X",
        "colab_type": "text"
      },
      "source": [
        "![Venues](https://raw.githubusercontent.com/Tariq-Sayed/Rep_Data_Sc1/master/11_Top_10_cat_11.PNG)"
      ]
    },
    {
      "cell_type": "markdown",
      "metadata": {
        "id": "g_QC_zpd1P3l",
        "colab_type": "text"
      },
      "source": [
        "Then, I did clustering of neighborhoods using k-means alogithm. 5 Clusters were found to give best results."
      ]
    },
    {
      "cell_type": "markdown",
      "metadata": {
        "id": "pKnNYdVgz-xz",
        "colab_type": "text"
      },
      "source": [
        "![Venues](https://raw.githubusercontent.com/Tariq-Sayed/Rep_Data_Sc1/master/13_cluster_boro.PNG)"
      ]
    },
    {
      "cell_type": "markdown",
      "metadata": {
        "id": "GNr6pxJI15TC",
        "colab_type": "text"
      },
      "source": [
        "After studying this table and based on top ranking categories, I labelled clusters as follows."
      ]
    },
    {
      "cell_type": "markdown",
      "metadata": {
        "id": "9mvMdWQW-u9a",
        "colab_type": "text"
      },
      "source": [
        "\n",
        "\n",
        "Cluster 0 : “Convenience Store & Smoke Shop”\n",
        "\n",
        "Cluster 1 : “Scenic Lookout & Sports”\n",
        "\n",
        "Cluster 2 : “Hotel & Fitness” \n",
        "\n",
        "Cluster 3 : “Chinese & Seafood Restaurants”\n",
        "\n",
        "Cluster 4 : “American Restaurant & Market”"
      ]
    },
    {
      "cell_type": "markdown",
      "metadata": {
        "id": "BzYnAxh1TXVj",
        "colab_type": "text"
      },
      "source": [
        "Let's visualize clusters on Mumbai map using folium."
      ]
    },
    {
      "cell_type": "markdown",
      "metadata": {
        "id": "6xsma459Tiz4",
        "colab_type": "text"
      },
      "source": [
        "![Venues](https://raw.githubusercontent.com/Tariq-Sayed/Rep_Data_Sc1/master/19_Map_cluster_it_1.PNG)"
      ]
    },
    {
      "cell_type": "markdown",
      "metadata": {
        "id": "rDYNHPuifXCd",
        "colab_type": "text"
      },
      "source": [
        "It is noticed that Food and other venues dominate very significant spots of touristic intrest like beaches, museum, aquarium, zoo , boat ride etc. Because, usually they are in much less number compared to restaurants.\n",
        "This issue was resolved by doing a second iteration of analysis with only focused set of venues. We got 20 venues in this group."
      ]
    },
    {
      "cell_type": "markdown",
      "metadata": {
        "id": "vCccAZ1DBXZj",
        "colab_type": "text"
      },
      "source": [
        "![Venues](https://raw.githubusercontent.com/Tariq-Sayed/Rep_Data_Sc1/master/15_It_2_Venues.PNG)"
      ]
    },
    {
      "cell_type": "markdown",
      "metadata": {
        "id": "NrHNU10RBCLo",
        "colab_type": "text"
      },
      "source": [
        "Let's get top 2 venue categories for each neighborhood."
      ]
    },
    {
      "cell_type": "markdown",
      "metadata": {
        "id": "19z7NiGpBqub",
        "colab_type": "text"
      },
      "source": [
        "![Venues](https://raw.githubusercontent.com/Tariq-Sayed/Rep_Data_Sc1/master/16_It_2_Top_2.PNG)"
      ]
    },
    {
      "cell_type": "markdown",
      "metadata": {
        "id": "u5TNqItDB1Z7",
        "colab_type": "text"
      },
      "source": [
        "Let's run k-means with 10 clusters."
      ]
    },
    {
      "cell_type": "markdown",
      "metadata": {
        "id": "p4djmFKGCAUv",
        "colab_type": "text"
      },
      "source": [
        "![Venues](https://raw.githubusercontent.com/Tariq-Sayed/Rep_Data_Sc1/master/18_It_2_Cluster.PNG)"
      ]
    },
    {
      "cell_type": "markdown",
      "metadata": {
        "id": "264BUAsMCsgt",
        "colab_type": "text"
      },
      "source": [
        "The analysis shows very clearly that all such significant places of interest are concentrated in South Mumbai. Juhu and Powai are only exceptions.Let's visualize this on map. The map clearly shows that all markers are in South Mumbai."
      ]
    },
    {
      "cell_type": "markdown",
      "metadata": {
        "id": "Gd9UJbryDFJi",
        "colab_type": "text"
      },
      "source": [
        "![Venues](https://raw.githubusercontent.com/Tariq-Sayed/Rep_Data_Sc1/master/17_It_2_Map.PNG)"
      ]
    },
    {
      "cell_type": "markdown",
      "metadata": {
        "id": "Ix9QiK_RggRj",
        "colab_type": "text"
      },
      "source": [
        "# **4. Results**"
      ]
    },
    {
      "cell_type": "markdown",
      "metadata": {
        "id": "clMS6luqhBMD",
        "colab_type": "text"
      },
      "source": [
        "The first iteration gives following five clusters."
      ]
    },
    {
      "cell_type": "markdown",
      "metadata": {
        "id": "iQlAO3McDrnl",
        "colab_type": "text"
      },
      "source": [
        "\n",
        "Cluster 0 : “Convenience Store & Smoke Shop”\n",
        "\n",
        "Cluster 1 : “Scenic Lookout & Sports”\n",
        "\n",
        "Cluster 2 : “Hotel & Fitness” \n",
        "\n",
        "Cluster 3 : “Chinese & Seafood Restaurants”\n",
        "\n",
        "Cluster 4 : “American Restaurant & Market”"
      ]
    },
    {
      "cell_type": "markdown",
      "metadata": {
        "id": "iZLJndjtD9jA",
        "colab_type": "text"
      },
      "source": [
        "It is noticed that Food and other venues dominate very significant spots of touristic interest like beaches, museum, aquarium, zoo, boat ride etc. Because, usually beaches, museum are in much less number compared to restaurants and others. This issue was resolved by doing a second iteration of analysis with only focused set of venues. The result shows very clearly that all such significant places of interest are concentrated in South Mumbai. Juhu and Powai are only exceptions. "
      ]
    },
    {
      "cell_type": "markdown",
      "metadata": {
        "id": "cK78ATvxgomT",
        "colab_type": "text"
      },
      "source": [
        "# **5. Discussion**"
      ]
    },
    {
      "cell_type": "markdown",
      "metadata": {
        "id": "NO8tHjDlPGLy",
        "colab_type": "text"
      },
      "source": [
        "The study revealed that major tourstic spots like museum, aquarium, beaches are within South Mumbai. Howerever, other boroughs are giving good competition to South Mumbai as far as food or shopping is concerned. Still I highly recommend tourists to book a hotel in South Mumbai and they can find all places of their intrest either in the walking distance or can reach through cab within minutes. Travelling through buses and trains are not recommended for tourists.If they book a hotel in other boroughs of Mumbai the travelling through cab will take lot of time due to heavy traffic. "
      ]
    },
    {
      "cell_type": "markdown",
      "metadata": {
        "id": "ubvC-53rO82d",
        "colab_type": "text"
      },
      "source": [
        "Mumbai city attracts lot of tourists each year. Each borough of Mumbai is distinct from touristic point of view. Therefore, tourists should be guided through an analysis of venues in each neighborhood and the analysis should be visulaized in the form of map to show these clusters. Since, the k-means approach does not make any distinction between one venue to another some venues can outnumber significant venues which are always relatively less. In order to overcome this problem the iterations were done with focused set of venues belonging to either places to visit like museum, aquarium, beaches etc."
      ]
    },
    {
      "cell_type": "markdown",
      "metadata": {
        "id": "iFSRrqv-XPcq",
        "colab_type": "text"
      },
      "source": [
        "# **6. Conclusion**"
      ]
    },
    {
      "cell_type": "markdown",
      "metadata": {
        "id": "IASOdVutXTFc",
        "colab_type": "text"
      },
      "source": [
        "In this analysis, I explored Mumbai neighborhoods and clustered them based on their similarity based on venue categories and their frequency of occurance. I used k-nearest alogirthm to create clusters of Mumbai neighborhoods. These, clusters reveal an important fact that most of touristic spots are within South Mumbai which also has hotels and offers many restaurants with International cuisines. Other boroughs of Mumbai like West, East and North can compete South Mumbai as far as restaurants and shopping is concerned, but no way near South Mumbai for places like Museums, monuments, beaches, boat ride etc is concerned. A hotel in South Mumbai will save lot of time and hassles of commuting through overcrowded trains and buses. \n",
        "\n",
        "For future study other focused groups can be picked for analysis like Italian, French, Mexican restaurants or parks,gardens and lounges or Movie Theater, Theaters or shopping places like malls and cloth shops, shoe shops.\n",
        "This approach is expected to reveal a lot more useful information from touristic point of view."
      ]
    }
  ]
}