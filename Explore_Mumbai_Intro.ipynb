{
  "nbformat": 4,
  "nbformat_minor": 0,
  "metadata": {
    "colab": {
      "name": "Explore_Mumbai_Intro.ipynb",
      "provenance": [],
      "collapsed_sections": []
    },
    "kernelspec": {
      "name": "python3",
      "display_name": "Python 3"
    }
  },
  "cells": [
    {
      "cell_type": "markdown",
      "metadata": {
        "id": "a8u0w1oGy-Gp",
        "colab_type": "text"
      },
      "source": [
        "# **Exploring Mumbai City for Foreign Tourists**\n",
        "\n",
        "\n",
        "\n"
      ]
    },
    {
      "cell_type": "markdown",
      "metadata": {
        "id": "lPZiH3nizJfn",
        "colab_type": "text"
      },
      "source": [
        "#### **Tariq Sayed**\n",
        "#### **April 19, 2020**"
      ]
    },
    {
      "cell_type": "markdown",
      "metadata": {
        "id": "5bRYXi660HMm",
        "colab_type": "text"
      },
      "source": [
        "# **1. Introduction**"
      ]
    },
    {
      "cell_type": "markdown",
      "metadata": {
        "id": "IYWx0PLh0LtR",
        "colab_type": "text"
      },
      "source": [
        "## **1.1 Background**"
      ]
    },
    {
      "cell_type": "markdown",
      "metadata": {
        "id": "TDxSTIDc09UX",
        "colab_type": "text"
      },
      "source": [
        "Mumbai is a commercial capital of India with a rich cosmopolitan culture. Many tourists from all over the world visit here to enjoy the scenic beaches, historic monuments, museums and delicious international variety of cuisines. It is a shopping paradise and offer lot of commodities ranging from readymade garments, household items to antiques. Generally, tourists have no or little idea where to book a hotel which is near to touristic places of interest like beaches, museum or aquarium they are looking for. Where they can find good restaurants, which can offer a wide variety of international cuisine. Or where they can find park and gardens for their small kids. Which areas are good for shopping having malls or flea markets. Where they can get antiques. The fitness freaks would prefer a Gym or Spa nearby. Where they can enjoy a boat ride. The buses and trains usually are overcrowded and not recommended for tourists. Therefore, they should get some knowhow of city neighbourhoods so they can book a hotel in neighbourhoods where they can find places of their interest within walking distance or they can hire a taxi and can reach within minutes and time is not wasted in overcrowded buses or trains.\n",
        "Mumbai is basically divided into South, West, East and North regions or boroughs. South Mumbai is oldest and rich in heritage.\n",
        "I decided to choose Mumbai as I am born and brought up in this city and familiar with most of the neighbourhoods and can verify accuracy of data obtained.\n"
      ]
    },
    {
      "cell_type": "markdown",
      "metadata": {
        "id": "GYFUagBG5Hq_",
        "colab_type": "text"
      },
      "source": [
        "## **1.2 Problem**"
      ]
    },
    {
      "cell_type": "markdown",
      "metadata": {
        "id": "ztRAbOnL5L0N",
        "colab_type": "text"
      },
      "source": [
        "The data required to resolve this problem includes neighbourhoods of Mumbai, in which borough they fall, their coordinates and the venues nearby with their categories.\n",
        "The key aim of this project is to guide a foreign tourist about booking a hotel in a neighbourhood where he/she can find places of his/her interest within walking distance or can reach by hiring a taxi in few minutes from his/her hotel. This problem can be resolved by showing a map with clusters of neighbourhoods in different colours based on their similarities.\n",
        " "
      ]
    },
    {
      "cell_type": "markdown",
      "metadata": {
        "id": "9SL8ASuY6fjZ",
        "colab_type": "text"
      },
      "source": [
        "## **1.3 Stakeholders**"
      ]
    },
    {
      "cell_type": "markdown",
      "metadata": {
        "id": "sUAa0ebs62UF",
        "colab_type": "text"
      },
      "source": [
        "The foreign tourists will benefit most from the findings of this project and they should be able to book the hotel in an area where they can find things of their interest nearby and will save their time in commuting through overcrowded trains or buses. Apart from that those who want to setup a new hotel or a restaurant or some shop can also be benefitted. Other interested parties can be tour operators to help them setup their office in right place."
      ]
    }
  ]
}