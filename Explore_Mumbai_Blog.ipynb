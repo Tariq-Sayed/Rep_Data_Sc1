{
  "nbformat": 4,
  "nbformat_minor": 0,
  "metadata": {
    "colab": {
      "name": "Explore_Mumbai_Blog.ipynb",
      "provenance": [],
      "collapsed_sections": []
    },
    "kernelspec": {
      "name": "python3",
      "display_name": "Python 3"
    }
  },
  "cells": [
    {
      "cell_type": "markdown",
      "metadata": {
        "id": "a8u0w1oGy-Gp",
        "colab_type": "text"
      },
      "source": [
        "# **Exploring Mumbai City for Foreign Tourists**\n",
        "\n",
        "\n",
        "\n"
      ]
    },
    {
      "cell_type": "markdown",
      "metadata": {
        "id": "Dn4omLcfPCXF",
        "colab_type": "text"
      },
      "source": [
        "Published on April 20, 2020"
      ]
    },
    {
      "cell_type": "markdown",
      "metadata": {
        "id": "MM5P9JOvPHn_",
        "colab_type": "text"
      },
      "source": [
        "### **Tariq Sayed**\n",
        "Senior Data Quality Specilaist at KFH"
      ]
    },
    {
      "cell_type": "markdown",
      "metadata": {
        "id": "5bRYXi660HMm",
        "colab_type": "text"
      },
      "source": [
        "# **A. Introduction**"
      ]
    },
    {
      "cell_type": "markdown",
      "metadata": {
        "id": "IYWx0PLh0LtR",
        "colab_type": "text"
      },
      "source": [
        "### **A.1 Description & Discussion of Background**"
      ]
    },
    {
      "cell_type": "markdown",
      "metadata": {
        "id": "TDxSTIDc09UX",
        "colab_type": "text"
      },
      "source": [
        "Mumbai is a commercial capital of India with a rich cosmpolitan culture.Many toursits from all over the world visit here throught the year to enjoy thescenic beaches, historic monumnents, museums and delicious international variety of cuisines.It is a shopping paradise and offer lot of commodities ranging from readymade garments, household items to antiues.Generally, toursits have no or little idea where to book a hotel which is near to touristic places of intrest like beaches, museum or aquarium they are looking for. Where they can find good restaurants which can offer a wide variety of international cuisine. Or where they can find park and gardens for their small kids. Which areas are good for shopping having  malls or flea markets. Where they can get antiues. The fitness freaks would prefer to have a Gym or Spa nearby. Where they can enjoy a boat ride. The buses and trains usually overcrowded and not recommended for tourists.\n",
        "Therefore, they should get some knowhow of city neighborhoods so they can book a hotel in neighborhoods where they can find places of their interest within walking distance or they can hire a can and can reach within minutes and time is not wasted in overcrowded buses or trains.\n",
        "\n",
        "Mumbai is basically divided into South, West, East and North regions or boroughs. South Mumbai is oldest and rich in heritage.\n",
        "\n",
        "I decided to choose Mumbai as I am born and brought up in this city and familiar with most of the neighborhoods and can verify accuracy of data obtained.\n",
        "\n",
        "The key aim of this project is to guide a foreign tourist about booking a hotel in a neighborhood where he/she can find places of his interest within walking distance or can reach hiring a cab in few minutes from his/her hotel. This problem can be resolved by showing a map with clusters of neighborhoods in different colors based on their similarities based on occurance of a venue category.\n",
        "\n",
        "The foreign tourists will benefit from the findings of this project extremely useful and they can book the hotel in an area where they can find things of their intrest nearby and will save their time in commuting through overcrowded trains or buses. Apart from that those who want to setup a new hotel or a restaurant or some shop for say readymade garments can also be benefitted. Other intrested parties can be tour operators to help them setup their office in right place."
      ]
    },
    {
      "cell_type": "markdown",
      "metadata": {
        "id": "HyAX1Yp-8tXQ",
        "colab_type": "text"
      },
      "source": [
        "# **A.2. Data Description**"
      ]
    },
    {
      "cell_type": "markdown",
      "metadata": {
        "id": "IgS3-vWK9ElF",
        "colab_type": "text"
      },
      "source": [
        "The main data source would be Four Square API which provides you with the venues along with the categories. But, in order to provide venues of a location you need to provide latitude and logitude of the location.The latitude and logitude of a location are fetched from Geo API.\n",
        "The Geo API has some limitations as to number of location coordinates it can return and times out. This issue was resolved by splitting the data and passing locations in two iterations.\n",
        "But, major challenge was non-availibilty of all the neighborhoods with their respective boroughs. Therefore, constructed this matrix using Python objects like array, dictionary and dataframe within code. "
      ]
    },
    {
      "cell_type": "markdown",
      "metadata": {
        "id": "itrwsCg_e4dw",
        "colab_type": "text"
      },
      "source": [
        "# **B. Methodology**"
      ]
    },
    {
      "cell_type": "markdown",
      "metadata": {
        "id": "88-gcBm3vOzV",
        "colab_type": "text"
      },
      "source": [
        "My master data comprises of seven features like Neighborhood, its respective borough , venue, venue category, latitude and logitudes of neighborhoods and venues."
      ]
    },
    {
      "cell_type": "markdown",
      "metadata": {
        "id": "1Zq50Xhxxt79",
        "colab_type": "text"
      },
      "source": [
        "I used Geopy library to fetch latitude and longitude of a location.I used folium library to visualize map of Mumbai and superimposed neighborhoods on top.The latitude and logitude of each neighborhood was obtained using geopy library.I used folium library to visualize map of Mumbai and superimposed neighborhoods on top.The latitude and logitude of each neighborhood was obtained using geopy library."
      ]
    },
    {
      "cell_type": "markdown",
      "metadata": {
        "id": "VxEXxFgaRvZj",
        "colab_type": "text"
      },
      "source": [
        "I created data for Mumbai Neighborhood through Python code, fetching longitude nad latitude from Geopy library.The data looks like this after this."
      ]
    },
    {
      "cell_type": "markdown",
      "metadata": {
        "id": "rodKO2YiyqJH",
        "colab_type": "text"
      },
      "source": [
        "![Mumbai Neighborhoods](https://raw.githubusercontent.com/Tariq-Sayed/Rep_Data_Sc1/master/1_neighborhoods.PNG)"
      ]
    },
    {
      "cell_type": "markdown",
      "metadata": {
        "id": "znOnQMQg1aJX",
        "colab_type": "text"
      },
      "source": [
        "After this using folium library I created a map of Mumbai and superimposed all 39 neighborhoods on top of this map. It looks like this."
      ]
    },
    {
      "cell_type": "markdown",
      "metadata": {
        "id": "1_TlOda21qFa",
        "colab_type": "text"
      },
      "source": [
        "![Map_Superimposed](https://raw.githubusercontent.com/Tariq-Sayed/Rep_Data_Sc1/master/2_map.png)"
      ]
    },
    {
      "cell_type": "markdown",
      "metadata": {
        "id": "TOFnMPrEx5X2",
        "colab_type": "text"
      },
      "source": [
        "Then I used Four Square API to get venues in a radius of 650 meters keeping a maximum limit of 100 per location.If you increase the range it will fetch more venues, but at the same time chances of neighborhoods overlapping increases which results in duplication of venues.After some iteration an optimum value of 650 met with minimum duplication was set.These duplication were eliminated later.Four Square returned total 1118 venues.The venue data will look like this after merging with master table."
      ]
    },
    {
      "cell_type": "markdown",
      "metadata": {
        "id": "KAjgf-IA2bOx",
        "colab_type": "text"
      },
      "source": [
        "![Venues](https://raw.githubusercontent.com/Tariq-Sayed/Rep_Data_Sc1/master/4_venue_merge.PNG)"
      ]
    },
    {
      "cell_type": "markdown",
      "metadata": {
        "id": "DRfpjx5gyiHG",
        "colab_type": "text"
      },
      "source": [
        "After this data cleansing was done. First removed duplicates due to overlapping of venues.I checked which categries have more frequency. The following table shows that Indian restuarants are in very large number. The Indian restaurants are very common and found in all areas.The Indian cuisine is spicy, and it is seen that tourists normally go for other type of cuisine like Italian, Mexican, Arabian etc. Therefore, dropped Indian restaurants from the equation. "
      ]
    },
    {
      "cell_type": "markdown",
      "metadata": {
        "id": "kHnqiuU_34e4",
        "colab_type": "text"
      },
      "source": [
        "![Venues](https://raw.githubusercontent.com/Tariq-Sayed/Rep_Data_Sc1/master/5_Top10_Category.PNG)"
      ]
    },
    {
      "cell_type": "markdown",
      "metadata": {
        "id": "D9YxF0DVyQhK",
        "colab_type": "text"
      },
      "source": [
        "Some similar categories were merged together for example Garden and Parks merged to Parks/Garden and Pubs and Bars to Pubs/Bars.\n",
        "Then, checked which boroughs have very few venues.The below table shows Darukahana has only two venues. It was dropped. While other neighborhoods were merged with adjecent areas. With this approach not much of data was lost."
      ]
    },
    {
      "cell_type": "markdown",
      "metadata": {
        "id": "REJcbvoZ5sLP",
        "colab_type": "text"
      },
      "source": [
        "![Venues](https://raw.githubusercontent.com/Tariq-Sayed/Rep_Data_Sc1/master/7_Bottom10_Nbhood7.PNG)"
      ]
    },
    {
      "cell_type": "markdown",
      "metadata": {
        "id": "cxoczaQDytPd",
        "colab_type": "text"
      },
      "source": [
        "After this cleansing job, I got 619 venues for 29 neighborhoods."
      ]
    },
    {
      "cell_type": "markdown",
      "metadata": {
        "id": "qU3zC1Pi7QlA",
        "colab_type": "text"
      },
      "source": [
        "I decided to use k-means alogorthm for clustering Mumbai neighborhoods based on frequency of venue category. Therfore, I took the mean of frequency of occurance of each category within its neighborhood.The table looks as follows keeping categories as header and neighborhoods as rows.This matrix has 29 rows and 129 columns."
      ]
    },
    {
      "cell_type": "markdown",
      "metadata": {
        "id": "qqqE_weIzRVL",
        "colab_type": "text"
      },
      "source": [
        "![Venues](https://raw.githubusercontent.com/Tariq-Sayed/Rep_Data_Sc1/master/9_Freq_matrix.PNG)"
      ]
    },
    {
      "cell_type": "markdown",
      "metadata": {
        "id": "Whm_7IY30JPL",
        "colab_type": "text"
      },
      "source": [
        "Then listed top 10 venue categories for each neighborhood."
      ]
    },
    {
      "cell_type": "markdown",
      "metadata": {
        "id": "AsY3yK_W1J_X",
        "colab_type": "text"
      },
      "source": [
        "![Venues](https://raw.githubusercontent.com/Tariq-Sayed/Rep_Data_Sc1/master/11_Top_10_cat_11.PNG)"
      ]
    },
    {
      "cell_type": "markdown",
      "metadata": {
        "id": "g_QC_zpd1P3l",
        "colab_type": "text"
      },
      "source": [
        "Then, I did clustering of neighborhoods using k-means alogithm. 5 Clusters were found to give best results."
      ]
    },
    {
      "cell_type": "markdown",
      "metadata": {
        "id": "pKnNYdVgz-xz",
        "colab_type": "text"
      },
      "source": [
        "![Venues](https://raw.githubusercontent.com/Tariq-Sayed/Rep_Data_Sc1/master/13_cluster_boro.PNG)"
      ]
    },
    {
      "cell_type": "markdown",
      "metadata": {
        "id": "GNr6pxJI15TC",
        "colab_type": "text"
      },
      "source": [
        "After studying this table and based on top ranking categories, I labelled clusters as follows."
      ]
    },
    {
      "cell_type": "markdown",
      "metadata": {
        "id": "9mvMdWQW-u9a",
        "colab_type": "text"
      },
      "source": [
        "\n",
        "\n",
        "Cluster 0 : “Convenience Store & Smoke Shop”\n",
        "\n",
        "Cluster 1 : “Scenic Lookout & Sports”\n",
        "\n",
        "Cluster 2 : “Hotel & Fitness” \n",
        "\n",
        "Cluster 3 : “Chinese & Seafood Restaurants”\n",
        "\n",
        "Cluster 4 : “American Restaurant & Market”"
      ]
    },
    {
      "cell_type": "markdown",
      "metadata": {
        "id": "BzYnAxh1TXVj",
        "colab_type": "text"
      },
      "source": [
        "Let's visualize clusters on Mumbai map using folium."
      ]
    },
    {
      "cell_type": "markdown",
      "metadata": {
        "id": "6xsma459Tiz4",
        "colab_type": "text"
      },
      "source": [
        "**Insert Map**"
      ]
    },
    {
      "cell_type": "markdown",
      "metadata": {
        "id": "rDYNHPuifXCd",
        "colab_type": "text"
      },
      "source": [
        "It is noticed that Food and other venues dominate very significant spots of touristic intrest like beaches, museum, aquarium, zoo , boat ride etc. Because, usually they are in much less number compared to restaurants.\n",
        "This issue was resolved by doing a second iteration of analysis with only focused set of venues. We got 20 venues in this group."
      ]
    },
    {
      "cell_type": "markdown",
      "metadata": {
        "id": "vCccAZ1DBXZj",
        "colab_type": "text"
      },
      "source": [
        "![Venues](https://raw.githubusercontent.com/Tariq-Sayed/Rep_Data_Sc1/master/15_It_2_Venues.PNG)"
      ]
    },
    {
      "cell_type": "markdown",
      "metadata": {
        "id": "u5TNqItDB1Z7",
        "colab_type": "text"
      },
      "source": [
        "Let's run k-means with 10 clusters."
      ]
    },
    {
      "cell_type": "markdown",
      "metadata": {
        "id": "p4djmFKGCAUv",
        "colab_type": "text"
      },
      "source": [
        "![Venues](https://raw.githubusercontent.com/Tariq-Sayed/Rep_Data_Sc1/master/18_It_2_Cluster.PNG)"
      ]
    },
    {
      "cell_type": "markdown",
      "metadata": {
        "id": "264BUAsMCsgt",
        "colab_type": "text"
      },
      "source": [
        "The analysis shows very clearly that all such significant places of interest are concentrated in South Mumbai. Juhu and Powai are only exceptions.Let's visualize this on map. The map clearly shows that all markers are in South Mumbai."
      ]
    },
    {
      "cell_type": "markdown",
      "metadata": {
        "id": "Gd9UJbryDFJi",
        "colab_type": "text"
      },
      "source": [
        "![Venues](https://raw.githubusercontent.com/Tariq-Sayed/Rep_Data_Sc1/master/17_It_2_Map.PNG)"
      ]
    },
    {
      "cell_type": "markdown",
      "metadata": {
        "id": "Ix9QiK_RggRj",
        "colab_type": "text"
      },
      "source": [
        "# **4. Results**"
      ]
    },
    {
      "cell_type": "markdown",
      "metadata": {
        "id": "clMS6luqhBMD",
        "colab_type": "text"
      },
      "source": [
        "The first iteration gives following five clusters."
      ]
    },
    {
      "cell_type": "markdown",
      "metadata": {
        "id": "iQlAO3McDrnl",
        "colab_type": "text"
      },
      "source": [
        "\n",
        "Cluster 0 : “Convenience Store & Smoke Shop”\n",
        "\n",
        "Cluster 1 : “Scenic Lookout & Sports”\n",
        "\n",
        "Cluster 2 : “Hotel & Fitness” \n",
        "\n",
        "Cluster 3 : “Chinese & Seafood Restaurants”\n",
        "\n",
        "Cluster 4 : “American Restaurant & Market”"
      ]
    },
    {
      "cell_type": "markdown",
      "metadata": {
        "id": "iZLJndjtD9jA",
        "colab_type": "text"
      },
      "source": [
        "It is noticed that Food and other venues dominate very significant spots of touristic intrest like beaches, museum, aquarium, zoo , boat ride etc. Because, usually they are in much less number compared to restaurants. This issue was resolved by doing a second iteration of analysis with only focused set of venues. The result shows very clearly that all such significant places of interest are concentrated in South Mumbai. Juhu and Powai are only exceptions.Let's visualize this on map. "
      ]
    }
  ]
}