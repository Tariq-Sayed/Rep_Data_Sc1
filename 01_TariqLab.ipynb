{
  "nbformat": 4,
  "nbformat_minor": 0,
  "metadata": {
    "colab": {
      "name": "01_TariqLab.ipynb",
      "provenance": [],
      "collapsed_sections": [],
      "toc_visible": true
    },
    "kernelspec": {
      "name": "python3",
      "display_name": "Python 3"
    }
  },
  "cells": [
    {
      "cell_type": "code",
      "metadata": {
        "id": "AIEtXHrU1FCq",
        "colab_type": "code",
        "colab": {
          "base_uri": "https://localhost:8080/",
          "height": 35
        },
        "outputId": "f4d2c8ad-df86-478a-c79d-3fd48512eaec"
      },
      "source": [
        "print(\"pfdgdff\")"
      ],
      "execution_count": 2,
      "outputs": [
        {
          "output_type": "stream",
          "text": [
            "pfdgdff\n"
          ],
          "name": "stdout"
        }
      ]
    },
    {
      "cell_type": "markdown",
      "metadata": {
        "id": "i83VLP-21PRk",
        "colab_type": "text"
      },
      "source": [
        "# **My Test Lab**"
      ]
    },
    {
      "cell_type": "markdown",
      "metadata": {
        "id": "lY7DExy02-YJ",
        "colab_type": "text"
      },
      "source": [
        "### **Library**"
      ]
    },
    {
      "cell_type": "code",
      "metadata": {
        "id": "HR8TYD-822qc",
        "colab_type": "code",
        "colab": {
          "base_uri": "https://localhost:8080/",
          "height": 90
        },
        "outputId": "7978a4b9-e9a3-4855-a824-e6c1b3401843"
      },
      "source": [
        "import pandas as pd\n",
        "from pandas.io.json import json_normalize  # tranform JSON file into a pandas dataframe\n",
        "\n",
        "import numpy as np\n",
        "\n",
        "from bs4 import BeautifulSoup\n",
        "\n",
        "# Matplotlib and associated plotting modules\n",
        "import matplotlib.pyplot as plt\n",
        "import matplotlib.cm as cm\n",
        "import matplotlib.colors as colors\n",
        "\n",
        "import seaborn as sns\n",
        "from urllib.request import urlopen\n",
        "\n",
        "import requests\n",
        "# import k-means from clustering stage\n",
        "from sklearn.cluster import KMeans\n",
        "\n",
        "import folium # map rendering library\n",
        "from geopy.geocoders import Nominatim # convert an address into latitude and longitude values\n",
        "\n",
        "print(\"Library imported.\")"
      ],
      "execution_count": 3,
      "outputs": [
        {
          "output_type": "stream",
          "text": [
            "/usr/local/lib/python3.6/dist-packages/statsmodels/tools/_testing.py:19: FutureWarning: pandas.util.testing is deprecated. Use the functions in the public API at pandas.testing instead.\n",
            "  import pandas.util.testing as tm\n"
          ],
          "name": "stderr"
        },
        {
          "output_type": "stream",
          "text": [
            "Library imported.\n"
          ],
          "name": "stdout"
        }
      ]
    },
    {
      "cell_type": "code",
      "metadata": {
        "id": "K6ymSWK81Zm-",
        "colab_type": "code",
        "colab": {}
      },
      "source": [
        "#df = pd.read_csv(\"https://github.com/Tariq-Sayed/Rep_Data_Sc1/blob/master/mumbai_venues.csv\")"
      ],
      "execution_count": 0,
      "outputs": []
    },
    {
      "cell_type": "code",
      "metadata": {
        "id": "Aa_GAupE3bmR",
        "colab_type": "code",
        "colab": {}
      },
      "source": [
        "df1 = pd.read_csv(\"mumbai_neighborhoods.csv\")\n",
        "df2 = pd.read_csv(\"mumbai_venues.csv\")\n",
        "df3 = pd.read_csv(\"Family2.csv\")"
      ],
      "execution_count": 0,
      "outputs": []
    },
    {
      "cell_type": "code",
      "metadata": {
        "id": "udY4oKER3oVU",
        "colab_type": "code",
        "colab": {
          "base_uri": "https://localhost:8080/",
          "height": 200
        },
        "outputId": "3431d551-cf54-417c-f9cd-c123c32c9ab7"
      },
      "source": [
        "df1.head()"
      ],
      "execution_count": 10,
      "outputs": [
        {
          "output_type": "execute_result",
          "data": {
            "text/html": [
              "<div>\n",
              "<style scoped>\n",
              "    .dataframe tbody tr th:only-of-type {\n",
              "        vertical-align: middle;\n",
              "    }\n",
              "\n",
              "    .dataframe tbody tr th {\n",
              "        vertical-align: top;\n",
              "    }\n",
              "\n",
              "    .dataframe thead th {\n",
              "        text-align: right;\n",
              "    }\n",
              "</style>\n",
              "<table border=\"1\" class=\"dataframe\">\n",
              "  <thead>\n",
              "    <tr style=\"text-align: right;\">\n",
              "      <th></th>\n",
              "      <th>Unnamed: 0</th>\n",
              "      <th>index</th>\n",
              "      <th>Neighborhood</th>\n",
              "      <th>Borough</th>\n",
              "      <th>Latitude</th>\n",
              "      <th>Longitude</th>\n",
              "    </tr>\n",
              "  </thead>\n",
              "  <tbody>\n",
              "    <tr>\n",
              "      <th>0</th>\n",
              "      <td>0</td>\n",
              "      <td>0</td>\n",
              "      <td>Colaba</td>\n",
              "      <td>South Mumbai</td>\n",
              "      <td>18.915091</td>\n",
              "      <td>72.825969</td>\n",
              "    </tr>\n",
              "    <tr>\n",
              "      <th>1</th>\n",
              "      <td>1</td>\n",
              "      <td>1</td>\n",
              "      <td>Apollo Bandar</td>\n",
              "      <td>South Mumbai</td>\n",
              "      <td>18.918375</td>\n",
              "      <td>72.831443</td>\n",
              "    </tr>\n",
              "    <tr>\n",
              "      <th>2</th>\n",
              "      <td>2</td>\n",
              "      <td>2</td>\n",
              "      <td>Fort</td>\n",
              "      <td>South Mumbai</td>\n",
              "      <td>18.933267</td>\n",
              "      <td>72.834515</td>\n",
              "    </tr>\n",
              "    <tr>\n",
              "      <th>3</th>\n",
              "      <td>3</td>\n",
              "      <td>3</td>\n",
              "      <td>Churchgate</td>\n",
              "      <td>South Mumbai</td>\n",
              "      <td>18.935957</td>\n",
              "      <td>72.827340</td>\n",
              "    </tr>\n",
              "    <tr>\n",
              "      <th>4</th>\n",
              "      <td>4</td>\n",
              "      <td>4</td>\n",
              "      <td>Nariman Point</td>\n",
              "      <td>South Mumbai</td>\n",
              "      <td>18.925951</td>\n",
              "      <td>72.823208</td>\n",
              "    </tr>\n",
              "  </tbody>\n",
              "</table>\n",
              "</div>"
            ],
            "text/plain": [
              "   Unnamed: 0  index   Neighborhood       Borough   Latitude  Longitude\n",
              "0           0      0         Colaba  South Mumbai  18.915091  72.825969\n",
              "1           1      1  Apollo Bandar  South Mumbai  18.918375  72.831443\n",
              "2           2      2           Fort  South Mumbai  18.933267  72.834515\n",
              "3           3      3     Churchgate  South Mumbai  18.935957  72.827340\n",
              "4           4      4  Nariman Point  South Mumbai  18.925951  72.823208"
            ]
          },
          "metadata": {
            "tags": []
          },
          "execution_count": 10
        }
      ]
    },
    {
      "cell_type": "code",
      "metadata": {
        "id": "Yv7xQ9eD4LVr",
        "colab_type": "code",
        "colab": {
          "base_uri": "https://localhost:8080/",
          "height": 251
        },
        "outputId": "9d804152-54ca-4224-c353-89b6a1addec2"
      },
      "source": [
        "df2.head()"
      ],
      "execution_count": 6,
      "outputs": [
        {
          "output_type": "execute_result",
          "data": {
            "text/html": [
              "<div>\n",
              "<style scoped>\n",
              "    .dataframe tbody tr th:only-of-type {\n",
              "        vertical-align: middle;\n",
              "    }\n",
              "\n",
              "    .dataframe tbody tr th {\n",
              "        vertical-align: top;\n",
              "    }\n",
              "\n",
              "    .dataframe thead th {\n",
              "        text-align: right;\n",
              "    }\n",
              "</style>\n",
              "<table border=\"1\" class=\"dataframe\">\n",
              "  <thead>\n",
              "    <tr style=\"text-align: right;\">\n",
              "      <th></th>\n",
              "      <th>Unnamed: 0</th>\n",
              "      <th>Neighborhood</th>\n",
              "      <th>Neighborhood Latitude</th>\n",
              "      <th>Neighborhood Longitude</th>\n",
              "      <th>Venue</th>\n",
              "      <th>Venue Latitude</th>\n",
              "      <th>Venue Longitude</th>\n",
              "      <th>Venue Category</th>\n",
              "    </tr>\n",
              "  </thead>\n",
              "  <tbody>\n",
              "    <tr>\n",
              "      <th>0</th>\n",
              "      <td>0</td>\n",
              "      <td>Colaba</td>\n",
              "      <td>18.915091</td>\n",
              "      <td>72.825969</td>\n",
              "      <td>Charagh Din</td>\n",
              "      <td>18.915254</td>\n",
              "      <td>72.824151</td>\n",
              "      <td>Men's Store</td>\n",
              "    </tr>\n",
              "    <tr>\n",
              "      <th>1</th>\n",
              "      <td>1</td>\n",
              "      <td>Colaba</td>\n",
              "      <td>18.915091</td>\n",
              "      <td>72.825969</td>\n",
              "      <td>IMBISS Meating Joint</td>\n",
              "      <td>18.917157</td>\n",
              "      <td>72.827018</td>\n",
              "      <td>German Restaurant</td>\n",
              "    </tr>\n",
              "    <tr>\n",
              "      <th>2</th>\n",
              "      <td>2</td>\n",
              "      <td>Colaba</td>\n",
              "      <td>18.915091</td>\n",
              "      <td>72.825969</td>\n",
              "      <td>Thai Pavilion</td>\n",
              "      <td>18.914246</td>\n",
              "      <td>72.821080</td>\n",
              "      <td>Thai Restaurant</td>\n",
              "    </tr>\n",
              "    <tr>\n",
              "      <th>3</th>\n",
              "      <td>3</td>\n",
              "      <td>Colaba</td>\n",
              "      <td>18.915091</td>\n",
              "      <td>72.825969</td>\n",
              "      <td>Theobroma</td>\n",
              "      <td>18.919298</td>\n",
              "      <td>72.829185</td>\n",
              "      <td>Dessert Shop</td>\n",
              "    </tr>\n",
              "    <tr>\n",
              "      <th>4</th>\n",
              "      <td>4</td>\n",
              "      <td>Colaba</td>\n",
              "      <td>18.915091</td>\n",
              "      <td>72.825969</td>\n",
              "      <td>Vivanta by Taj - President</td>\n",
              "      <td>18.914413</td>\n",
              "      <td>72.821028</td>\n",
              "      <td>Hotel</td>\n",
              "    </tr>\n",
              "  </tbody>\n",
              "</table>\n",
              "</div>"
            ],
            "text/plain": [
              "   Unnamed: 0 Neighborhood  ...  Venue Longitude     Venue Category\n",
              "0           0       Colaba  ...        72.824151        Men's Store\n",
              "1           1       Colaba  ...        72.827018  German Restaurant\n",
              "2           2       Colaba  ...        72.821080    Thai Restaurant\n",
              "3           3       Colaba  ...        72.829185       Dessert Shop\n",
              "4           4       Colaba  ...        72.821028              Hotel\n",
              "\n",
              "[5 rows x 8 columns]"
            ]
          },
          "metadata": {
            "tags": []
          },
          "execution_count": 6
        }
      ]
    },
    {
      "cell_type": "code",
      "metadata": {
        "id": "4BSgbDcXV5Yb",
        "colab_type": "code",
        "colab": {
          "base_uri": "https://localhost:8080/",
          "height": 200
        },
        "outputId": "62087e06-a11e-4cf9-d050-61fc465ecad6"
      },
      "source": [
        "df3.head()"
      ],
      "execution_count": 7,
      "outputs": [
        {
          "output_type": "execute_result",
          "data": {
            "text/html": [
              "<div>\n",
              "<style scoped>\n",
              "    .dataframe tbody tr th:only-of-type {\n",
              "        vertical-align: middle;\n",
              "    }\n",
              "\n",
              "    .dataframe tbody tr th {\n",
              "        vertical-align: top;\n",
              "    }\n",
              "\n",
              "    .dataframe thead th {\n",
              "        text-align: right;\n",
              "    }\n",
              "</style>\n",
              "<table border=\"1\" class=\"dataframe\">\n",
              "  <thead>\n",
              "    <tr style=\"text-align: right;\">\n",
              "      <th></th>\n",
              "      <th>FName</th>\n",
              "      <th>SName</th>\n",
              "      <th>Age</th>\n",
              "      <th>Salary</th>\n",
              "    </tr>\n",
              "  </thead>\n",
              "  <tbody>\n",
              "    <tr>\n",
              "      <th>0</th>\n",
              "      <td>Aaisha</td>\n",
              "      <td>Sayed</td>\n",
              "      <td>29</td>\n",
              "      <td>37</td>\n",
              "    </tr>\n",
              "    <tr>\n",
              "      <th>1</th>\n",
              "      <td>Arif</td>\n",
              "      <td>Ghansar</td>\n",
              "      <td>45</td>\n",
              "      <td>58</td>\n",
              "    </tr>\n",
              "    <tr>\n",
              "      <th>2</th>\n",
              "      <td>Faisal</td>\n",
              "      <td>Shaikh</td>\n",
              "      <td>30</td>\n",
              "      <td>39</td>\n",
              "    </tr>\n",
              "    <tr>\n",
              "      <th>3</th>\n",
              "      <td>Adil</td>\n",
              "      <td>Ghansar</td>\n",
              "      <td>50</td>\n",
              "      <td>65</td>\n",
              "    </tr>\n",
              "    <tr>\n",
              "      <th>4</th>\n",
              "      <td>Talha</td>\n",
              "      <td>Sayed</td>\n",
              "      <td>28</td>\n",
              "      <td>36</td>\n",
              "    </tr>\n",
              "  </tbody>\n",
              "</table>\n",
              "</div>"
            ],
            "text/plain": [
              "     FName    SName  Age  Salary\n",
              "0   Aaisha    Sayed   29      37\n",
              "1    Arif   Ghansar   45      58\n",
              "2  Faisal    Shaikh   30      39\n",
              "3     Adil  Ghansar   50      65\n",
              "4    Talha    Sayed   28      36"
            ]
          },
          "metadata": {
            "tags": []
          },
          "execution_count": 7
        }
      ]
    },
    {
      "cell_type": "markdown",
      "metadata": {
        "id": "SIDVWnt34i7E",
        "colab_type": "text"
      },
      "source": [
        "### **Inner Join**"
      ]
    },
    {
      "cell_type": "code",
      "metadata": {
        "id": "5w6FNQg-4Qr0",
        "colab_type": "code",
        "colab": {}
      },
      "source": [
        "df4 = pd.merge(df1,df2,on=\"Neighborhood\",how=\"inner\")"
      ],
      "execution_count": 0,
      "outputs": []
    },
    {
      "cell_type": "code",
      "metadata": {
        "id": "ecSQ8jZ55Gsu",
        "colab_type": "code",
        "colab": {
          "base_uri": "https://localhost:8080/",
          "height": 356
        },
        "outputId": "73d60ff5-4b8f-4a7d-aeda-17b2bd2a14b0"
      },
      "source": [
        "df4.head()"
      ],
      "execution_count": 9,
      "outputs": [
        {
          "output_type": "execute_result",
          "data": {
            "text/html": [
              "<div>\n",
              "<style scoped>\n",
              "    .dataframe tbody tr th:only-of-type {\n",
              "        vertical-align: middle;\n",
              "    }\n",
              "\n",
              "    .dataframe tbody tr th {\n",
              "        vertical-align: top;\n",
              "    }\n",
              "\n",
              "    .dataframe thead th {\n",
              "        text-align: right;\n",
              "    }\n",
              "</style>\n",
              "<table border=\"1\" class=\"dataframe\">\n",
              "  <thead>\n",
              "    <tr style=\"text-align: right;\">\n",
              "      <th></th>\n",
              "      <th>Unnamed: 0_x</th>\n",
              "      <th>index</th>\n",
              "      <th>Neighborhood</th>\n",
              "      <th>Borough</th>\n",
              "      <th>Latitude</th>\n",
              "      <th>Longitude</th>\n",
              "      <th>Unnamed: 0_y</th>\n",
              "      <th>Neighborhood Latitude</th>\n",
              "      <th>Neighborhood Longitude</th>\n",
              "      <th>Venue</th>\n",
              "      <th>Venue Latitude</th>\n",
              "      <th>Venue Longitude</th>\n",
              "      <th>Venue Category</th>\n",
              "    </tr>\n",
              "  </thead>\n",
              "  <tbody>\n",
              "    <tr>\n",
              "      <th>0</th>\n",
              "      <td>0</td>\n",
              "      <td>0</td>\n",
              "      <td>Colaba</td>\n",
              "      <td>South Mumbai</td>\n",
              "      <td>18.915091</td>\n",
              "      <td>72.825969</td>\n",
              "      <td>0</td>\n",
              "      <td>18.915091</td>\n",
              "      <td>72.825969</td>\n",
              "      <td>Charagh Din</td>\n",
              "      <td>18.915254</td>\n",
              "      <td>72.824151</td>\n",
              "      <td>Men's Store</td>\n",
              "    </tr>\n",
              "    <tr>\n",
              "      <th>1</th>\n",
              "      <td>0</td>\n",
              "      <td>0</td>\n",
              "      <td>Colaba</td>\n",
              "      <td>South Mumbai</td>\n",
              "      <td>18.915091</td>\n",
              "      <td>72.825969</td>\n",
              "      <td>1</td>\n",
              "      <td>18.915091</td>\n",
              "      <td>72.825969</td>\n",
              "      <td>IMBISS Meating Joint</td>\n",
              "      <td>18.917157</td>\n",
              "      <td>72.827018</td>\n",
              "      <td>German Restaurant</td>\n",
              "    </tr>\n",
              "    <tr>\n",
              "      <th>2</th>\n",
              "      <td>0</td>\n",
              "      <td>0</td>\n",
              "      <td>Colaba</td>\n",
              "      <td>South Mumbai</td>\n",
              "      <td>18.915091</td>\n",
              "      <td>72.825969</td>\n",
              "      <td>2</td>\n",
              "      <td>18.915091</td>\n",
              "      <td>72.825969</td>\n",
              "      <td>Thai Pavilion</td>\n",
              "      <td>18.914246</td>\n",
              "      <td>72.821080</td>\n",
              "      <td>Thai Restaurant</td>\n",
              "    </tr>\n",
              "    <tr>\n",
              "      <th>3</th>\n",
              "      <td>0</td>\n",
              "      <td>0</td>\n",
              "      <td>Colaba</td>\n",
              "      <td>South Mumbai</td>\n",
              "      <td>18.915091</td>\n",
              "      <td>72.825969</td>\n",
              "      <td>3</td>\n",
              "      <td>18.915091</td>\n",
              "      <td>72.825969</td>\n",
              "      <td>Theobroma</td>\n",
              "      <td>18.919298</td>\n",
              "      <td>72.829185</td>\n",
              "      <td>Dessert Shop</td>\n",
              "    </tr>\n",
              "    <tr>\n",
              "      <th>4</th>\n",
              "      <td>0</td>\n",
              "      <td>0</td>\n",
              "      <td>Colaba</td>\n",
              "      <td>South Mumbai</td>\n",
              "      <td>18.915091</td>\n",
              "      <td>72.825969</td>\n",
              "      <td>4</td>\n",
              "      <td>18.915091</td>\n",
              "      <td>72.825969</td>\n",
              "      <td>Vivanta by Taj - President</td>\n",
              "      <td>18.914413</td>\n",
              "      <td>72.821028</td>\n",
              "      <td>Hotel</td>\n",
              "    </tr>\n",
              "  </tbody>\n",
              "</table>\n",
              "</div>"
            ],
            "text/plain": [
              "   Unnamed: 0_x  index  ... Venue Longitude     Venue Category\n",
              "0             0      0  ...       72.824151        Men's Store\n",
              "1             0      0  ...       72.827018  German Restaurant\n",
              "2             0      0  ...       72.821080    Thai Restaurant\n",
              "3             0      0  ...       72.829185       Dessert Shop\n",
              "4             0      0  ...       72.821028              Hotel\n",
              "\n",
              "[5 rows x 13 columns]"
            ]
          },
          "metadata": {
            "tags": []
          },
          "execution_count": 9
        }
      ]
    },
    {
      "cell_type": "code",
      "metadata": {
        "id": "5urHtY6Q5JAZ",
        "colab_type": "code",
        "colab": {
          "base_uri": "https://localhost:8080/",
          "height": 1000
        },
        "outputId": "99024ce8-151c-491a-a68c-13d84feefc43"
      },
      "source": [
        "df1.sort_values(\"Neighborhood\")"
      ],
      "execution_count": 10,
      "outputs": [
        {
          "output_type": "execute_result",
          "data": {
            "text/html": [
              "<div>\n",
              "<style scoped>\n",
              "    .dataframe tbody tr th:only-of-type {\n",
              "        vertical-align: middle;\n",
              "    }\n",
              "\n",
              "    .dataframe tbody tr th {\n",
              "        vertical-align: top;\n",
              "    }\n",
              "\n",
              "    .dataframe thead th {\n",
              "        text-align: right;\n",
              "    }\n",
              "</style>\n",
              "<table border=\"1\" class=\"dataframe\">\n",
              "  <thead>\n",
              "    <tr style=\"text-align: right;\">\n",
              "      <th></th>\n",
              "      <th>Unnamed: 0</th>\n",
              "      <th>index</th>\n",
              "      <th>Neighborhood</th>\n",
              "      <th>Borough</th>\n",
              "      <th>Latitude</th>\n",
              "      <th>Longitude</th>\n",
              "    </tr>\n",
              "  </thead>\n",
              "  <tbody>\n",
              "    <tr>\n",
              "      <th>24</th>\n",
              "      <td>24</td>\n",
              "      <td>24</td>\n",
              "      <td>Andheri</td>\n",
              "      <td>West Mumbai</td>\n",
              "      <td>19.119698</td>\n",
              "      <td>72.846420</td>\n",
              "    </tr>\n",
              "    <tr>\n",
              "      <th>1</th>\n",
              "      <td>1</td>\n",
              "      <td>1</td>\n",
              "      <td>Apollo Bandar</td>\n",
              "      <td>South Mumbai</td>\n",
              "      <td>18.918375</td>\n",
              "      <td>72.831443</td>\n",
              "    </tr>\n",
              "    <tr>\n",
              "      <th>22</th>\n",
              "      <td>22</td>\n",
              "      <td>22</td>\n",
              "      <td>Bandra West</td>\n",
              "      <td>West Mumbai</td>\n",
              "      <td>19.058336</td>\n",
              "      <td>72.830267</td>\n",
              "    </tr>\n",
              "    <tr>\n",
              "      <th>9</th>\n",
              "      <td>9</td>\n",
              "      <td>9</td>\n",
              "      <td>Bhuleshwar</td>\n",
              "      <td>South Mumbai</td>\n",
              "      <td>18.953771</td>\n",
              "      <td>72.827476</td>\n",
              "    </tr>\n",
              "    <tr>\n",
              "      <th>37</th>\n",
              "      <td>37</td>\n",
              "      <td>37</td>\n",
              "      <td>Borivali</td>\n",
              "      <td>North Mumbai</td>\n",
              "      <td>19.229068</td>\n",
              "      <td>72.857363</td>\n",
              "    </tr>\n",
              "    <tr>\n",
              "      <th>15</th>\n",
              "      <td>15</td>\n",
              "      <td>15</td>\n",
              "      <td>Byculla</td>\n",
              "      <td>South Mumbai</td>\n",
              "      <td>18.976622</td>\n",
              "      <td>72.832794</td>\n",
              "    </tr>\n",
              "    <tr>\n",
              "      <th>31</th>\n",
              "      <td>31</td>\n",
              "      <td>31</td>\n",
              "      <td>Chembur</td>\n",
              "      <td>East Mumbai</td>\n",
              "      <td>19.061213</td>\n",
              "      <td>72.897591</td>\n",
              "    </tr>\n",
              "    <tr>\n",
              "      <th>3</th>\n",
              "      <td>3</td>\n",
              "      <td>3</td>\n",
              "      <td>Churchgate</td>\n",
              "      <td>South Mumbai</td>\n",
              "      <td>18.935957</td>\n",
              "      <td>72.827340</td>\n",
              "    </tr>\n",
              "    <tr>\n",
              "      <th>0</th>\n",
              "      <td>0</td>\n",
              "      <td>0</td>\n",
              "      <td>Colaba</td>\n",
              "      <td>South Mumbai</td>\n",
              "      <td>18.915091</td>\n",
              "      <td>72.825969</td>\n",
              "    </tr>\n",
              "    <tr>\n",
              "      <th>21</th>\n",
              "      <td>21</td>\n",
              "      <td>21</td>\n",
              "      <td>Dadar</td>\n",
              "      <td>West Mumbai</td>\n",
              "      <td>19.019282</td>\n",
              "      <td>72.842876</td>\n",
              "    </tr>\n",
              "    <tr>\n",
              "      <th>11</th>\n",
              "      <td>11</td>\n",
              "      <td>11</td>\n",
              "      <td>Darukhana</td>\n",
              "      <td>South Mumbai</td>\n",
              "      <td>18.977036</td>\n",
              "      <td>72.849077</td>\n",
              "    </tr>\n",
              "    <tr>\n",
              "      <th>14</th>\n",
              "      <td>14</td>\n",
              "      <td>14</td>\n",
              "      <td>Dongri</td>\n",
              "      <td>South Mumbai</td>\n",
              "      <td>18.962226</td>\n",
              "      <td>72.836795</td>\n",
              "    </tr>\n",
              "    <tr>\n",
              "      <th>2</th>\n",
              "      <td>2</td>\n",
              "      <td>2</td>\n",
              "      <td>Fort</td>\n",
              "      <td>South Mumbai</td>\n",
              "      <td>18.933267</td>\n",
              "      <td>72.834515</td>\n",
              "    </tr>\n",
              "    <tr>\n",
              "      <th>30</th>\n",
              "      <td>30</td>\n",
              "      <td>30</td>\n",
              "      <td>Ghatkopar</td>\n",
              "      <td>East Mumbai</td>\n",
              "      <td>19.085954</td>\n",
              "      <td>72.908238</td>\n",
              "    </tr>\n",
              "    <tr>\n",
              "      <th>32</th>\n",
              "      <td>32</td>\n",
              "      <td>32</td>\n",
              "      <td>Govandi</td>\n",
              "      <td>East Mumbai</td>\n",
              "      <td>19.055369</td>\n",
              "      <td>72.915070</td>\n",
              "    </tr>\n",
              "    <tr>\n",
              "      <th>16</th>\n",
              "      <td>16</td>\n",
              "      <td>16</td>\n",
              "      <td>Grand Road</td>\n",
              "      <td>South Mumbai</td>\n",
              "      <td>18.938771</td>\n",
              "      <td>72.835335</td>\n",
              "    </tr>\n",
              "    <tr>\n",
              "      <th>35</th>\n",
              "      <td>35</td>\n",
              "      <td>35</td>\n",
              "      <td>Jogeshwari</td>\n",
              "      <td>North Mumbai</td>\n",
              "      <td>19.134899</td>\n",
              "      <td>72.848820</td>\n",
              "    </tr>\n",
              "    <tr>\n",
              "      <th>23</th>\n",
              "      <td>23</td>\n",
              "      <td>23</td>\n",
              "      <td>Juhu</td>\n",
              "      <td>West Mumbai</td>\n",
              "      <td>19.107021</td>\n",
              "      <td>72.827528</td>\n",
              "    </tr>\n",
              "    <tr>\n",
              "      <th>8</th>\n",
              "      <td>8</td>\n",
              "      <td>8</td>\n",
              "      <td>Kalbadevi</td>\n",
              "      <td>South Mumbai</td>\n",
              "      <td>18.949258</td>\n",
              "      <td>72.827938</td>\n",
              "    </tr>\n",
              "    <tr>\n",
              "      <th>25</th>\n",
              "      <td>25</td>\n",
              "      <td>25</td>\n",
              "      <td>Kalina</td>\n",
              "      <td>West Mumbai</td>\n",
              "      <td>19.079273</td>\n",
              "      <td>72.861267</td>\n",
              "    </tr>\n",
              "    <tr>\n",
              "      <th>28</th>\n",
              "      <td>28</td>\n",
              "      <td>28</td>\n",
              "      <td>Khar</td>\n",
              "      <td>West Mumbai</td>\n",
              "      <td>19.069658</td>\n",
              "      <td>72.839894</td>\n",
              "    </tr>\n",
              "    <tr>\n",
              "      <th>29</th>\n",
              "      <td>29</td>\n",
              "      <td>29</td>\n",
              "      <td>Kurla</td>\n",
              "      <td>East Mumbai</td>\n",
              "      <td>19.065280</td>\n",
              "      <td>72.879381</td>\n",
              "    </tr>\n",
              "    <tr>\n",
              "      <th>19</th>\n",
              "      <td>19</td>\n",
              "      <td>19</td>\n",
              "      <td>Mahalaxmi</td>\n",
              "      <td>South Mumbai</td>\n",
              "      <td>18.982568</td>\n",
              "      <td>72.824160</td>\n",
              "    </tr>\n",
              "    <tr>\n",
              "      <th>27</th>\n",
              "      <td>27</td>\n",
              "      <td>27</td>\n",
              "      <td>Mahim</td>\n",
              "      <td>West Mumbai</td>\n",
              "      <td>19.042314</td>\n",
              "      <td>72.839834</td>\n",
              "    </tr>\n",
              "    <tr>\n",
              "      <th>7</th>\n",
              "      <td>7</td>\n",
              "      <td>7</td>\n",
              "      <td>Malabar Hill</td>\n",
              "      <td>South Mumbai</td>\n",
              "      <td>18.958162</td>\n",
              "      <td>72.803367</td>\n",
              "    </tr>\n",
              "    <tr>\n",
              "      <th>36</th>\n",
              "      <td>36</td>\n",
              "      <td>36</td>\n",
              "      <td>Malad</td>\n",
              "      <td>North Mumbai</td>\n",
              "      <td>19.186719</td>\n",
              "      <td>72.848588</td>\n",
              "    </tr>\n",
              "    <tr>\n",
              "      <th>5</th>\n",
              "      <td>5</td>\n",
              "      <td>5</td>\n",
              "      <td>Marine Lines</td>\n",
              "      <td>South Mumbai</td>\n",
              "      <td>18.945670</td>\n",
              "      <td>72.823781</td>\n",
              "    </tr>\n",
              "    <tr>\n",
              "      <th>10</th>\n",
              "      <td>10</td>\n",
              "      <td>10</td>\n",
              "      <td>Masjid Bandar</td>\n",
              "      <td>South Mumbai</td>\n",
              "      <td>18.953599</td>\n",
              "      <td>72.838126</td>\n",
              "    </tr>\n",
              "    <tr>\n",
              "      <th>17</th>\n",
              "      <td>17</td>\n",
              "      <td>17</td>\n",
              "      <td>Mazgaon</td>\n",
              "      <td>South Mumbai</td>\n",
              "      <td>18.968052</td>\n",
              "      <td>72.840012</td>\n",
              "    </tr>\n",
              "    <tr>\n",
              "      <th>38</th>\n",
              "      <td>38</td>\n",
              "      <td>38</td>\n",
              "      <td>Mira Road</td>\n",
              "      <td>North Mumbai</td>\n",
              "      <td>19.187896</td>\n",
              "      <td>72.836596</td>\n",
              "    </tr>\n",
              "    <tr>\n",
              "      <th>33</th>\n",
              "      <td>33</td>\n",
              "      <td>33</td>\n",
              "      <td>Mulund West</td>\n",
              "      <td>East Mumbai</td>\n",
              "      <td>19.171972</td>\n",
              "      <td>72.951196</td>\n",
              "    </tr>\n",
              "    <tr>\n",
              "      <th>18</th>\n",
              "      <td>18</td>\n",
              "      <td>18</td>\n",
              "      <td>Mumbai Central</td>\n",
              "      <td>South Mumbai</td>\n",
              "      <td>18.969586</td>\n",
              "      <td>72.819315</td>\n",
              "    </tr>\n",
              "    <tr>\n",
              "      <th>13</th>\n",
              "      <td>13</td>\n",
              "      <td>13</td>\n",
              "      <td>Nagpada</td>\n",
              "      <td>South Mumbai</td>\n",
              "      <td>18.968178</td>\n",
              "      <td>72.828601</td>\n",
              "    </tr>\n",
              "    <tr>\n",
              "      <th>4</th>\n",
              "      <td>4</td>\n",
              "      <td>4</td>\n",
              "      <td>Nariman Point</td>\n",
              "      <td>South Mumbai</td>\n",
              "      <td>18.925951</td>\n",
              "      <td>72.823208</td>\n",
              "    </tr>\n",
              "    <tr>\n",
              "      <th>34</th>\n",
              "      <td>34</td>\n",
              "      <td>34</td>\n",
              "      <td>Powai</td>\n",
              "      <td>North Mumbai</td>\n",
              "      <td>19.118720</td>\n",
              "      <td>72.907348</td>\n",
              "    </tr>\n",
              "    <tr>\n",
              "      <th>12</th>\n",
              "      <td>12</td>\n",
              "      <td>12</td>\n",
              "      <td>Pydhoni</td>\n",
              "      <td>South Mumbai</td>\n",
              "      <td>18.953994</td>\n",
              "      <td>72.832379</td>\n",
              "    </tr>\n",
              "    <tr>\n",
              "      <th>26</th>\n",
              "      <td>26</td>\n",
              "      <td>26</td>\n",
              "      <td>Santa Cruz</td>\n",
              "      <td>West Mumbai</td>\n",
              "      <td>19.079369</td>\n",
              "      <td>72.847085</td>\n",
              "    </tr>\n",
              "    <tr>\n",
              "      <th>6</th>\n",
              "      <td>6</td>\n",
              "      <td>6</td>\n",
              "      <td>Walkeshwar</td>\n",
              "      <td>South Mumbai</td>\n",
              "      <td>18.955343</td>\n",
              "      <td>72.807947</td>\n",
              "    </tr>\n",
              "    <tr>\n",
              "      <th>20</th>\n",
              "      <td>20</td>\n",
              "      <td>20</td>\n",
              "      <td>Worli</td>\n",
              "      <td>South Mumbai</td>\n",
              "      <td>19.011696</td>\n",
              "      <td>72.818070</td>\n",
              "    </tr>\n",
              "  </tbody>\n",
              "</table>\n",
              "</div>"
            ],
            "text/plain": [
              "    Unnamed: 0  index    Neighborhood       Borough   Latitude  Longitude\n",
              "24          24     24         Andheri   West Mumbai  19.119698  72.846420\n",
              "1            1      1   Apollo Bandar  South Mumbai  18.918375  72.831443\n",
              "22          22     22     Bandra West   West Mumbai  19.058336  72.830267\n",
              "9            9      9      Bhuleshwar  South Mumbai  18.953771  72.827476\n",
              "37          37     37        Borivali  North Mumbai  19.229068  72.857363\n",
              "15          15     15         Byculla  South Mumbai  18.976622  72.832794\n",
              "31          31     31         Chembur   East Mumbai  19.061213  72.897591\n",
              "3            3      3      Churchgate  South Mumbai  18.935957  72.827340\n",
              "0            0      0          Colaba  South Mumbai  18.915091  72.825969\n",
              "21          21     21           Dadar   West Mumbai  19.019282  72.842876\n",
              "11          11     11       Darukhana  South Mumbai  18.977036  72.849077\n",
              "14          14     14          Dongri  South Mumbai  18.962226  72.836795\n",
              "2            2      2            Fort  South Mumbai  18.933267  72.834515\n",
              "30          30     30       Ghatkopar   East Mumbai  19.085954  72.908238\n",
              "32          32     32         Govandi   East Mumbai  19.055369  72.915070\n",
              "16          16     16      Grand Road  South Mumbai  18.938771  72.835335\n",
              "35          35     35      Jogeshwari  North Mumbai  19.134899  72.848820\n",
              "23          23     23            Juhu   West Mumbai  19.107021  72.827528\n",
              "8            8      8       Kalbadevi  South Mumbai  18.949258  72.827938\n",
              "25          25     25          Kalina   West Mumbai  19.079273  72.861267\n",
              "28          28     28            Khar   West Mumbai  19.069658  72.839894\n",
              "29          29     29           Kurla   East Mumbai  19.065280  72.879381\n",
              "19          19     19       Mahalaxmi  South Mumbai  18.982568  72.824160\n",
              "27          27     27           Mahim   West Mumbai  19.042314  72.839834\n",
              "7            7      7    Malabar Hill  South Mumbai  18.958162  72.803367\n",
              "36          36     36           Malad  North Mumbai  19.186719  72.848588\n",
              "5            5      5    Marine Lines  South Mumbai  18.945670  72.823781\n",
              "10          10     10   Masjid Bandar  South Mumbai  18.953599  72.838126\n",
              "17          17     17         Mazgaon  South Mumbai  18.968052  72.840012\n",
              "38          38     38       Mira Road  North Mumbai  19.187896  72.836596\n",
              "33          33     33     Mulund West   East Mumbai  19.171972  72.951196\n",
              "18          18     18  Mumbai Central  South Mumbai  18.969586  72.819315\n",
              "13          13     13         Nagpada  South Mumbai  18.968178  72.828601\n",
              "4            4      4   Nariman Point  South Mumbai  18.925951  72.823208\n",
              "34          34     34           Powai  North Mumbai  19.118720  72.907348\n",
              "12          12     12         Pydhoni  South Mumbai  18.953994  72.832379\n",
              "26          26     26      Santa Cruz   West Mumbai  19.079369  72.847085\n",
              "6            6      6      Walkeshwar  South Mumbai  18.955343  72.807947\n",
              "20          20     20           Worli  South Mumbai  19.011696  72.818070"
            ]
          },
          "metadata": {
            "tags": []
          },
          "execution_count": 10
        }
      ]
    },
    {
      "cell_type": "code",
      "metadata": {
        "id": "Kvnvj5t85e_J",
        "colab_type": "code",
        "colab": {
          "base_uri": "https://localhost:8080/",
          "height": 200
        },
        "outputId": "d074228c-a989-404f-87e0-c61f61086020"
      },
      "source": [
        "df1.head()"
      ],
      "execution_count": 11,
      "outputs": [
        {
          "output_type": "execute_result",
          "data": {
            "text/html": [
              "<div>\n",
              "<style scoped>\n",
              "    .dataframe tbody tr th:only-of-type {\n",
              "        vertical-align: middle;\n",
              "    }\n",
              "\n",
              "    .dataframe tbody tr th {\n",
              "        vertical-align: top;\n",
              "    }\n",
              "\n",
              "    .dataframe thead th {\n",
              "        text-align: right;\n",
              "    }\n",
              "</style>\n",
              "<table border=\"1\" class=\"dataframe\">\n",
              "  <thead>\n",
              "    <tr style=\"text-align: right;\">\n",
              "      <th></th>\n",
              "      <th>Unnamed: 0</th>\n",
              "      <th>index</th>\n",
              "      <th>Neighborhood</th>\n",
              "      <th>Borough</th>\n",
              "      <th>Latitude</th>\n",
              "      <th>Longitude</th>\n",
              "    </tr>\n",
              "  </thead>\n",
              "  <tbody>\n",
              "    <tr>\n",
              "      <th>0</th>\n",
              "      <td>0</td>\n",
              "      <td>0</td>\n",
              "      <td>Colaba</td>\n",
              "      <td>South Mumbai</td>\n",
              "      <td>18.915091</td>\n",
              "      <td>72.825969</td>\n",
              "    </tr>\n",
              "    <tr>\n",
              "      <th>1</th>\n",
              "      <td>1</td>\n",
              "      <td>1</td>\n",
              "      <td>Apollo Bandar</td>\n",
              "      <td>South Mumbai</td>\n",
              "      <td>18.918375</td>\n",
              "      <td>72.831443</td>\n",
              "    </tr>\n",
              "    <tr>\n",
              "      <th>2</th>\n",
              "      <td>2</td>\n",
              "      <td>2</td>\n",
              "      <td>Fort</td>\n",
              "      <td>South Mumbai</td>\n",
              "      <td>18.933267</td>\n",
              "      <td>72.834515</td>\n",
              "    </tr>\n",
              "    <tr>\n",
              "      <th>3</th>\n",
              "      <td>3</td>\n",
              "      <td>3</td>\n",
              "      <td>Churchgate</td>\n",
              "      <td>South Mumbai</td>\n",
              "      <td>18.935957</td>\n",
              "      <td>72.827340</td>\n",
              "    </tr>\n",
              "    <tr>\n",
              "      <th>4</th>\n",
              "      <td>4</td>\n",
              "      <td>4</td>\n",
              "      <td>Nariman Point</td>\n",
              "      <td>South Mumbai</td>\n",
              "      <td>18.925951</td>\n",
              "      <td>72.823208</td>\n",
              "    </tr>\n",
              "  </tbody>\n",
              "</table>\n",
              "</div>"
            ],
            "text/plain": [
              "   Unnamed: 0  index   Neighborhood       Borough   Latitude  Longitude\n",
              "0           0      0         Colaba  South Mumbai  18.915091  72.825969\n",
              "1           1      1  Apollo Bandar  South Mumbai  18.918375  72.831443\n",
              "2           2      2           Fort  South Mumbai  18.933267  72.834515\n",
              "3           3      3     Churchgate  South Mumbai  18.935957  72.827340\n",
              "4           4      4  Nariman Point  South Mumbai  18.925951  72.823208"
            ]
          },
          "metadata": {
            "tags": []
          },
          "execution_count": 11
        }
      ]
    },
    {
      "cell_type": "code",
      "metadata": {
        "id": "9c50Dst16iMU",
        "colab_type": "code",
        "colab": {
          "base_uri": "https://localhost:8080/",
          "height": 1000
        },
        "outputId": "9a2a1d3f-f493-4886-f792-bdedd2754183"
      },
      "source": [
        "df1.sort_values(\"Neighborhood\" , inplace=False)"
      ],
      "execution_count": 12,
      "outputs": [
        {
          "output_type": "execute_result",
          "data": {
            "text/html": [
              "<div>\n",
              "<style scoped>\n",
              "    .dataframe tbody tr th:only-of-type {\n",
              "        vertical-align: middle;\n",
              "    }\n",
              "\n",
              "    .dataframe tbody tr th {\n",
              "        vertical-align: top;\n",
              "    }\n",
              "\n",
              "    .dataframe thead th {\n",
              "        text-align: right;\n",
              "    }\n",
              "</style>\n",
              "<table border=\"1\" class=\"dataframe\">\n",
              "  <thead>\n",
              "    <tr style=\"text-align: right;\">\n",
              "      <th></th>\n",
              "      <th>Unnamed: 0</th>\n",
              "      <th>index</th>\n",
              "      <th>Neighborhood</th>\n",
              "      <th>Borough</th>\n",
              "      <th>Latitude</th>\n",
              "      <th>Longitude</th>\n",
              "    </tr>\n",
              "  </thead>\n",
              "  <tbody>\n",
              "    <tr>\n",
              "      <th>24</th>\n",
              "      <td>24</td>\n",
              "      <td>24</td>\n",
              "      <td>Andheri</td>\n",
              "      <td>West Mumbai</td>\n",
              "      <td>19.119698</td>\n",
              "      <td>72.846420</td>\n",
              "    </tr>\n",
              "    <tr>\n",
              "      <th>1</th>\n",
              "      <td>1</td>\n",
              "      <td>1</td>\n",
              "      <td>Apollo Bandar</td>\n",
              "      <td>South Mumbai</td>\n",
              "      <td>18.918375</td>\n",
              "      <td>72.831443</td>\n",
              "    </tr>\n",
              "    <tr>\n",
              "      <th>22</th>\n",
              "      <td>22</td>\n",
              "      <td>22</td>\n",
              "      <td>Bandra West</td>\n",
              "      <td>West Mumbai</td>\n",
              "      <td>19.058336</td>\n",
              "      <td>72.830267</td>\n",
              "    </tr>\n",
              "    <tr>\n",
              "      <th>9</th>\n",
              "      <td>9</td>\n",
              "      <td>9</td>\n",
              "      <td>Bhuleshwar</td>\n",
              "      <td>South Mumbai</td>\n",
              "      <td>18.953771</td>\n",
              "      <td>72.827476</td>\n",
              "    </tr>\n",
              "    <tr>\n",
              "      <th>37</th>\n",
              "      <td>37</td>\n",
              "      <td>37</td>\n",
              "      <td>Borivali</td>\n",
              "      <td>North Mumbai</td>\n",
              "      <td>19.229068</td>\n",
              "      <td>72.857363</td>\n",
              "    </tr>\n",
              "    <tr>\n",
              "      <th>15</th>\n",
              "      <td>15</td>\n",
              "      <td>15</td>\n",
              "      <td>Byculla</td>\n",
              "      <td>South Mumbai</td>\n",
              "      <td>18.976622</td>\n",
              "      <td>72.832794</td>\n",
              "    </tr>\n",
              "    <tr>\n",
              "      <th>31</th>\n",
              "      <td>31</td>\n",
              "      <td>31</td>\n",
              "      <td>Chembur</td>\n",
              "      <td>East Mumbai</td>\n",
              "      <td>19.061213</td>\n",
              "      <td>72.897591</td>\n",
              "    </tr>\n",
              "    <tr>\n",
              "      <th>3</th>\n",
              "      <td>3</td>\n",
              "      <td>3</td>\n",
              "      <td>Churchgate</td>\n",
              "      <td>South Mumbai</td>\n",
              "      <td>18.935957</td>\n",
              "      <td>72.827340</td>\n",
              "    </tr>\n",
              "    <tr>\n",
              "      <th>0</th>\n",
              "      <td>0</td>\n",
              "      <td>0</td>\n",
              "      <td>Colaba</td>\n",
              "      <td>South Mumbai</td>\n",
              "      <td>18.915091</td>\n",
              "      <td>72.825969</td>\n",
              "    </tr>\n",
              "    <tr>\n",
              "      <th>21</th>\n",
              "      <td>21</td>\n",
              "      <td>21</td>\n",
              "      <td>Dadar</td>\n",
              "      <td>West Mumbai</td>\n",
              "      <td>19.019282</td>\n",
              "      <td>72.842876</td>\n",
              "    </tr>\n",
              "    <tr>\n",
              "      <th>11</th>\n",
              "      <td>11</td>\n",
              "      <td>11</td>\n",
              "      <td>Darukhana</td>\n",
              "      <td>South Mumbai</td>\n",
              "      <td>18.977036</td>\n",
              "      <td>72.849077</td>\n",
              "    </tr>\n",
              "    <tr>\n",
              "      <th>14</th>\n",
              "      <td>14</td>\n",
              "      <td>14</td>\n",
              "      <td>Dongri</td>\n",
              "      <td>South Mumbai</td>\n",
              "      <td>18.962226</td>\n",
              "      <td>72.836795</td>\n",
              "    </tr>\n",
              "    <tr>\n",
              "      <th>2</th>\n",
              "      <td>2</td>\n",
              "      <td>2</td>\n",
              "      <td>Fort</td>\n",
              "      <td>South Mumbai</td>\n",
              "      <td>18.933267</td>\n",
              "      <td>72.834515</td>\n",
              "    </tr>\n",
              "    <tr>\n",
              "      <th>30</th>\n",
              "      <td>30</td>\n",
              "      <td>30</td>\n",
              "      <td>Ghatkopar</td>\n",
              "      <td>East Mumbai</td>\n",
              "      <td>19.085954</td>\n",
              "      <td>72.908238</td>\n",
              "    </tr>\n",
              "    <tr>\n",
              "      <th>32</th>\n",
              "      <td>32</td>\n",
              "      <td>32</td>\n",
              "      <td>Govandi</td>\n",
              "      <td>East Mumbai</td>\n",
              "      <td>19.055369</td>\n",
              "      <td>72.915070</td>\n",
              "    </tr>\n",
              "    <tr>\n",
              "      <th>16</th>\n",
              "      <td>16</td>\n",
              "      <td>16</td>\n",
              "      <td>Grand Road</td>\n",
              "      <td>South Mumbai</td>\n",
              "      <td>18.938771</td>\n",
              "      <td>72.835335</td>\n",
              "    </tr>\n",
              "    <tr>\n",
              "      <th>35</th>\n",
              "      <td>35</td>\n",
              "      <td>35</td>\n",
              "      <td>Jogeshwari</td>\n",
              "      <td>North Mumbai</td>\n",
              "      <td>19.134899</td>\n",
              "      <td>72.848820</td>\n",
              "    </tr>\n",
              "    <tr>\n",
              "      <th>23</th>\n",
              "      <td>23</td>\n",
              "      <td>23</td>\n",
              "      <td>Juhu</td>\n",
              "      <td>West Mumbai</td>\n",
              "      <td>19.107021</td>\n",
              "      <td>72.827528</td>\n",
              "    </tr>\n",
              "    <tr>\n",
              "      <th>8</th>\n",
              "      <td>8</td>\n",
              "      <td>8</td>\n",
              "      <td>Kalbadevi</td>\n",
              "      <td>South Mumbai</td>\n",
              "      <td>18.949258</td>\n",
              "      <td>72.827938</td>\n",
              "    </tr>\n",
              "    <tr>\n",
              "      <th>25</th>\n",
              "      <td>25</td>\n",
              "      <td>25</td>\n",
              "      <td>Kalina</td>\n",
              "      <td>West Mumbai</td>\n",
              "      <td>19.079273</td>\n",
              "      <td>72.861267</td>\n",
              "    </tr>\n",
              "    <tr>\n",
              "      <th>28</th>\n",
              "      <td>28</td>\n",
              "      <td>28</td>\n",
              "      <td>Khar</td>\n",
              "      <td>West Mumbai</td>\n",
              "      <td>19.069658</td>\n",
              "      <td>72.839894</td>\n",
              "    </tr>\n",
              "    <tr>\n",
              "      <th>29</th>\n",
              "      <td>29</td>\n",
              "      <td>29</td>\n",
              "      <td>Kurla</td>\n",
              "      <td>East Mumbai</td>\n",
              "      <td>19.065280</td>\n",
              "      <td>72.879381</td>\n",
              "    </tr>\n",
              "    <tr>\n",
              "      <th>19</th>\n",
              "      <td>19</td>\n",
              "      <td>19</td>\n",
              "      <td>Mahalaxmi</td>\n",
              "      <td>South Mumbai</td>\n",
              "      <td>18.982568</td>\n",
              "      <td>72.824160</td>\n",
              "    </tr>\n",
              "    <tr>\n",
              "      <th>27</th>\n",
              "      <td>27</td>\n",
              "      <td>27</td>\n",
              "      <td>Mahim</td>\n",
              "      <td>West Mumbai</td>\n",
              "      <td>19.042314</td>\n",
              "      <td>72.839834</td>\n",
              "    </tr>\n",
              "    <tr>\n",
              "      <th>7</th>\n",
              "      <td>7</td>\n",
              "      <td>7</td>\n",
              "      <td>Malabar Hill</td>\n",
              "      <td>South Mumbai</td>\n",
              "      <td>18.958162</td>\n",
              "      <td>72.803367</td>\n",
              "    </tr>\n",
              "    <tr>\n",
              "      <th>36</th>\n",
              "      <td>36</td>\n",
              "      <td>36</td>\n",
              "      <td>Malad</td>\n",
              "      <td>North Mumbai</td>\n",
              "      <td>19.186719</td>\n",
              "      <td>72.848588</td>\n",
              "    </tr>\n",
              "    <tr>\n",
              "      <th>5</th>\n",
              "      <td>5</td>\n",
              "      <td>5</td>\n",
              "      <td>Marine Lines</td>\n",
              "      <td>South Mumbai</td>\n",
              "      <td>18.945670</td>\n",
              "      <td>72.823781</td>\n",
              "    </tr>\n",
              "    <tr>\n",
              "      <th>10</th>\n",
              "      <td>10</td>\n",
              "      <td>10</td>\n",
              "      <td>Masjid Bandar</td>\n",
              "      <td>South Mumbai</td>\n",
              "      <td>18.953599</td>\n",
              "      <td>72.838126</td>\n",
              "    </tr>\n",
              "    <tr>\n",
              "      <th>17</th>\n",
              "      <td>17</td>\n",
              "      <td>17</td>\n",
              "      <td>Mazgaon</td>\n",
              "      <td>South Mumbai</td>\n",
              "      <td>18.968052</td>\n",
              "      <td>72.840012</td>\n",
              "    </tr>\n",
              "    <tr>\n",
              "      <th>38</th>\n",
              "      <td>38</td>\n",
              "      <td>38</td>\n",
              "      <td>Mira Road</td>\n",
              "      <td>North Mumbai</td>\n",
              "      <td>19.187896</td>\n",
              "      <td>72.836596</td>\n",
              "    </tr>\n",
              "    <tr>\n",
              "      <th>33</th>\n",
              "      <td>33</td>\n",
              "      <td>33</td>\n",
              "      <td>Mulund West</td>\n",
              "      <td>East Mumbai</td>\n",
              "      <td>19.171972</td>\n",
              "      <td>72.951196</td>\n",
              "    </tr>\n",
              "    <tr>\n",
              "      <th>18</th>\n",
              "      <td>18</td>\n",
              "      <td>18</td>\n",
              "      <td>Mumbai Central</td>\n",
              "      <td>South Mumbai</td>\n",
              "      <td>18.969586</td>\n",
              "      <td>72.819315</td>\n",
              "    </tr>\n",
              "    <tr>\n",
              "      <th>13</th>\n",
              "      <td>13</td>\n",
              "      <td>13</td>\n",
              "      <td>Nagpada</td>\n",
              "      <td>South Mumbai</td>\n",
              "      <td>18.968178</td>\n",
              "      <td>72.828601</td>\n",
              "    </tr>\n",
              "    <tr>\n",
              "      <th>4</th>\n",
              "      <td>4</td>\n",
              "      <td>4</td>\n",
              "      <td>Nariman Point</td>\n",
              "      <td>South Mumbai</td>\n",
              "      <td>18.925951</td>\n",
              "      <td>72.823208</td>\n",
              "    </tr>\n",
              "    <tr>\n",
              "      <th>34</th>\n",
              "      <td>34</td>\n",
              "      <td>34</td>\n",
              "      <td>Powai</td>\n",
              "      <td>North Mumbai</td>\n",
              "      <td>19.118720</td>\n",
              "      <td>72.907348</td>\n",
              "    </tr>\n",
              "    <tr>\n",
              "      <th>12</th>\n",
              "      <td>12</td>\n",
              "      <td>12</td>\n",
              "      <td>Pydhoni</td>\n",
              "      <td>South Mumbai</td>\n",
              "      <td>18.953994</td>\n",
              "      <td>72.832379</td>\n",
              "    </tr>\n",
              "    <tr>\n",
              "      <th>26</th>\n",
              "      <td>26</td>\n",
              "      <td>26</td>\n",
              "      <td>Santa Cruz</td>\n",
              "      <td>West Mumbai</td>\n",
              "      <td>19.079369</td>\n",
              "      <td>72.847085</td>\n",
              "    </tr>\n",
              "    <tr>\n",
              "      <th>6</th>\n",
              "      <td>6</td>\n",
              "      <td>6</td>\n",
              "      <td>Walkeshwar</td>\n",
              "      <td>South Mumbai</td>\n",
              "      <td>18.955343</td>\n",
              "      <td>72.807947</td>\n",
              "    </tr>\n",
              "    <tr>\n",
              "      <th>20</th>\n",
              "      <td>20</td>\n",
              "      <td>20</td>\n",
              "      <td>Worli</td>\n",
              "      <td>South Mumbai</td>\n",
              "      <td>19.011696</td>\n",
              "      <td>72.818070</td>\n",
              "    </tr>\n",
              "  </tbody>\n",
              "</table>\n",
              "</div>"
            ],
            "text/plain": [
              "    Unnamed: 0  index    Neighborhood       Borough   Latitude  Longitude\n",
              "24          24     24         Andheri   West Mumbai  19.119698  72.846420\n",
              "1            1      1   Apollo Bandar  South Mumbai  18.918375  72.831443\n",
              "22          22     22     Bandra West   West Mumbai  19.058336  72.830267\n",
              "9            9      9      Bhuleshwar  South Mumbai  18.953771  72.827476\n",
              "37          37     37        Borivali  North Mumbai  19.229068  72.857363\n",
              "15          15     15         Byculla  South Mumbai  18.976622  72.832794\n",
              "31          31     31         Chembur   East Mumbai  19.061213  72.897591\n",
              "3            3      3      Churchgate  South Mumbai  18.935957  72.827340\n",
              "0            0      0          Colaba  South Mumbai  18.915091  72.825969\n",
              "21          21     21           Dadar   West Mumbai  19.019282  72.842876\n",
              "11          11     11       Darukhana  South Mumbai  18.977036  72.849077\n",
              "14          14     14          Dongri  South Mumbai  18.962226  72.836795\n",
              "2            2      2            Fort  South Mumbai  18.933267  72.834515\n",
              "30          30     30       Ghatkopar   East Mumbai  19.085954  72.908238\n",
              "32          32     32         Govandi   East Mumbai  19.055369  72.915070\n",
              "16          16     16      Grand Road  South Mumbai  18.938771  72.835335\n",
              "35          35     35      Jogeshwari  North Mumbai  19.134899  72.848820\n",
              "23          23     23            Juhu   West Mumbai  19.107021  72.827528\n",
              "8            8      8       Kalbadevi  South Mumbai  18.949258  72.827938\n",
              "25          25     25          Kalina   West Mumbai  19.079273  72.861267\n",
              "28          28     28            Khar   West Mumbai  19.069658  72.839894\n",
              "29          29     29           Kurla   East Mumbai  19.065280  72.879381\n",
              "19          19     19       Mahalaxmi  South Mumbai  18.982568  72.824160\n",
              "27          27     27           Mahim   West Mumbai  19.042314  72.839834\n",
              "7            7      7    Malabar Hill  South Mumbai  18.958162  72.803367\n",
              "36          36     36           Malad  North Mumbai  19.186719  72.848588\n",
              "5            5      5    Marine Lines  South Mumbai  18.945670  72.823781\n",
              "10          10     10   Masjid Bandar  South Mumbai  18.953599  72.838126\n",
              "17          17     17         Mazgaon  South Mumbai  18.968052  72.840012\n",
              "38          38     38       Mira Road  North Mumbai  19.187896  72.836596\n",
              "33          33     33     Mulund West   East Mumbai  19.171972  72.951196\n",
              "18          18     18  Mumbai Central  South Mumbai  18.969586  72.819315\n",
              "13          13     13         Nagpada  South Mumbai  18.968178  72.828601\n",
              "4            4      4   Nariman Point  South Mumbai  18.925951  72.823208\n",
              "34          34     34           Powai  North Mumbai  19.118720  72.907348\n",
              "12          12     12         Pydhoni  South Mumbai  18.953994  72.832379\n",
              "26          26     26      Santa Cruz   West Mumbai  19.079369  72.847085\n",
              "6            6      6      Walkeshwar  South Mumbai  18.955343  72.807947\n",
              "20          20     20           Worli  South Mumbai  19.011696  72.818070"
            ]
          },
          "metadata": {
            "tags": []
          },
          "execution_count": 12
        }
      ]
    },
    {
      "cell_type": "code",
      "metadata": {
        "id": "ZPwdx-WF60sH",
        "colab_type": "code",
        "colab": {
          "base_uri": "https://localhost:8080/",
          "height": 200
        },
        "outputId": "1de4010c-8766-41ab-9356-f4282200a89d"
      },
      "source": [
        "df1.head()"
      ],
      "execution_count": 13,
      "outputs": [
        {
          "output_type": "execute_result",
          "data": {
            "text/html": [
              "<div>\n",
              "<style scoped>\n",
              "    .dataframe tbody tr th:only-of-type {\n",
              "        vertical-align: middle;\n",
              "    }\n",
              "\n",
              "    .dataframe tbody tr th {\n",
              "        vertical-align: top;\n",
              "    }\n",
              "\n",
              "    .dataframe thead th {\n",
              "        text-align: right;\n",
              "    }\n",
              "</style>\n",
              "<table border=\"1\" class=\"dataframe\">\n",
              "  <thead>\n",
              "    <tr style=\"text-align: right;\">\n",
              "      <th></th>\n",
              "      <th>Unnamed: 0</th>\n",
              "      <th>index</th>\n",
              "      <th>Neighborhood</th>\n",
              "      <th>Borough</th>\n",
              "      <th>Latitude</th>\n",
              "      <th>Longitude</th>\n",
              "    </tr>\n",
              "  </thead>\n",
              "  <tbody>\n",
              "    <tr>\n",
              "      <th>0</th>\n",
              "      <td>0</td>\n",
              "      <td>0</td>\n",
              "      <td>Colaba</td>\n",
              "      <td>South Mumbai</td>\n",
              "      <td>18.915091</td>\n",
              "      <td>72.825969</td>\n",
              "    </tr>\n",
              "    <tr>\n",
              "      <th>1</th>\n",
              "      <td>1</td>\n",
              "      <td>1</td>\n",
              "      <td>Apollo Bandar</td>\n",
              "      <td>South Mumbai</td>\n",
              "      <td>18.918375</td>\n",
              "      <td>72.831443</td>\n",
              "    </tr>\n",
              "    <tr>\n",
              "      <th>2</th>\n",
              "      <td>2</td>\n",
              "      <td>2</td>\n",
              "      <td>Fort</td>\n",
              "      <td>South Mumbai</td>\n",
              "      <td>18.933267</td>\n",
              "      <td>72.834515</td>\n",
              "    </tr>\n",
              "    <tr>\n",
              "      <th>3</th>\n",
              "      <td>3</td>\n",
              "      <td>3</td>\n",
              "      <td>Churchgate</td>\n",
              "      <td>South Mumbai</td>\n",
              "      <td>18.935957</td>\n",
              "      <td>72.827340</td>\n",
              "    </tr>\n",
              "    <tr>\n",
              "      <th>4</th>\n",
              "      <td>4</td>\n",
              "      <td>4</td>\n",
              "      <td>Nariman Point</td>\n",
              "      <td>South Mumbai</td>\n",
              "      <td>18.925951</td>\n",
              "      <td>72.823208</td>\n",
              "    </tr>\n",
              "  </tbody>\n",
              "</table>\n",
              "</div>"
            ],
            "text/plain": [
              "   Unnamed: 0  index   Neighborhood       Borough   Latitude  Longitude\n",
              "0           0      0         Colaba  South Mumbai  18.915091  72.825969\n",
              "1           1      1  Apollo Bandar  South Mumbai  18.918375  72.831443\n",
              "2           2      2           Fort  South Mumbai  18.933267  72.834515\n",
              "3           3      3     Churchgate  South Mumbai  18.935957  72.827340\n",
              "4           4      4  Nariman Point  South Mumbai  18.925951  72.823208"
            ]
          },
          "metadata": {
            "tags": []
          },
          "execution_count": 13
        }
      ]
    },
    {
      "cell_type": "markdown",
      "metadata": {
        "id": "rMSGF1_b68Ts",
        "colab_type": "text"
      },
      "source": [
        "# **inplace=True Funda**"
      ]
    },
    {
      "cell_type": "markdown",
      "metadata": {
        "id": "Zojeyo1l7b8T",
        "colab_type": "text"
      },
      "source": [
        "Actually it changes df1"
      ]
    },
    {
      "cell_type": "code",
      "metadata": {
        "id": "EyKB9YfJ66Ah",
        "colab_type": "code",
        "colab": {}
      },
      "source": [
        "df1.sort_values(\"Neighborhood\",inplace=True)"
      ],
      "execution_count": 0,
      "outputs": []
    },
    {
      "cell_type": "code",
      "metadata": {
        "id": "iBkJhTUi7TuR",
        "colab_type": "code",
        "colab": {
          "base_uri": "https://localhost:8080/",
          "height": 200
        },
        "outputId": "fbdcf2f3-5e9a-48e3-e5b5-72f750d19f8c"
      },
      "source": [
        "df1.head()"
      ],
      "execution_count": 15,
      "outputs": [
        {
          "output_type": "execute_result",
          "data": {
            "text/html": [
              "<div>\n",
              "<style scoped>\n",
              "    .dataframe tbody tr th:only-of-type {\n",
              "        vertical-align: middle;\n",
              "    }\n",
              "\n",
              "    .dataframe tbody tr th {\n",
              "        vertical-align: top;\n",
              "    }\n",
              "\n",
              "    .dataframe thead th {\n",
              "        text-align: right;\n",
              "    }\n",
              "</style>\n",
              "<table border=\"1\" class=\"dataframe\">\n",
              "  <thead>\n",
              "    <tr style=\"text-align: right;\">\n",
              "      <th></th>\n",
              "      <th>Unnamed: 0</th>\n",
              "      <th>index</th>\n",
              "      <th>Neighborhood</th>\n",
              "      <th>Borough</th>\n",
              "      <th>Latitude</th>\n",
              "      <th>Longitude</th>\n",
              "    </tr>\n",
              "  </thead>\n",
              "  <tbody>\n",
              "    <tr>\n",
              "      <th>24</th>\n",
              "      <td>24</td>\n",
              "      <td>24</td>\n",
              "      <td>Andheri</td>\n",
              "      <td>West Mumbai</td>\n",
              "      <td>19.119698</td>\n",
              "      <td>72.846420</td>\n",
              "    </tr>\n",
              "    <tr>\n",
              "      <th>1</th>\n",
              "      <td>1</td>\n",
              "      <td>1</td>\n",
              "      <td>Apollo Bandar</td>\n",
              "      <td>South Mumbai</td>\n",
              "      <td>18.918375</td>\n",
              "      <td>72.831443</td>\n",
              "    </tr>\n",
              "    <tr>\n",
              "      <th>22</th>\n",
              "      <td>22</td>\n",
              "      <td>22</td>\n",
              "      <td>Bandra West</td>\n",
              "      <td>West Mumbai</td>\n",
              "      <td>19.058336</td>\n",
              "      <td>72.830267</td>\n",
              "    </tr>\n",
              "    <tr>\n",
              "      <th>9</th>\n",
              "      <td>9</td>\n",
              "      <td>9</td>\n",
              "      <td>Bhuleshwar</td>\n",
              "      <td>South Mumbai</td>\n",
              "      <td>18.953771</td>\n",
              "      <td>72.827476</td>\n",
              "    </tr>\n",
              "    <tr>\n",
              "      <th>37</th>\n",
              "      <td>37</td>\n",
              "      <td>37</td>\n",
              "      <td>Borivali</td>\n",
              "      <td>North Mumbai</td>\n",
              "      <td>19.229068</td>\n",
              "      <td>72.857363</td>\n",
              "    </tr>\n",
              "  </tbody>\n",
              "</table>\n",
              "</div>"
            ],
            "text/plain": [
              "    Unnamed: 0  index   Neighborhood       Borough   Latitude  Longitude\n",
              "24          24     24        Andheri   West Mumbai  19.119698  72.846420\n",
              "1            1      1  Apollo Bandar  South Mumbai  18.918375  72.831443\n",
              "22          22     22    Bandra West   West Mumbai  19.058336  72.830267\n",
              "9            9      9     Bhuleshwar  South Mumbai  18.953771  72.827476\n",
              "37          37     37       Borivali  North Mumbai  19.229068  72.857363"
            ]
          },
          "metadata": {
            "tags": []
          },
          "execution_count": 15
        }
      ]
    },
    {
      "cell_type": "markdown",
      "metadata": {
        "id": "iY2brsBG8XiX",
        "colab_type": "text"
      },
      "source": [
        "df1 will not change.\n",
        "df3 will be assigned sorted output of df1"
      ]
    },
    {
      "cell_type": "code",
      "metadata": {
        "id": "Rz-xTixz7oyr",
        "colab_type": "code",
        "colab": {}
      },
      "source": [
        "df5 = df1.sort_values(\"Neighborhood\")"
      ],
      "execution_count": 0,
      "outputs": []
    },
    {
      "cell_type": "code",
      "metadata": {
        "id": "uxoEwxap7zrI",
        "colab_type": "code",
        "colab": {
          "base_uri": "https://localhost:8080/",
          "height": 200
        },
        "outputId": "489dda63-ea60-464a-f26e-172d41cc075e"
      },
      "source": [
        "df5.head()"
      ],
      "execution_count": 17,
      "outputs": [
        {
          "output_type": "execute_result",
          "data": {
            "text/html": [
              "<div>\n",
              "<style scoped>\n",
              "    .dataframe tbody tr th:only-of-type {\n",
              "        vertical-align: middle;\n",
              "    }\n",
              "\n",
              "    .dataframe tbody tr th {\n",
              "        vertical-align: top;\n",
              "    }\n",
              "\n",
              "    .dataframe thead th {\n",
              "        text-align: right;\n",
              "    }\n",
              "</style>\n",
              "<table border=\"1\" class=\"dataframe\">\n",
              "  <thead>\n",
              "    <tr style=\"text-align: right;\">\n",
              "      <th></th>\n",
              "      <th>Unnamed: 0</th>\n",
              "      <th>index</th>\n",
              "      <th>Neighborhood</th>\n",
              "      <th>Borough</th>\n",
              "      <th>Latitude</th>\n",
              "      <th>Longitude</th>\n",
              "    </tr>\n",
              "  </thead>\n",
              "  <tbody>\n",
              "    <tr>\n",
              "      <th>24</th>\n",
              "      <td>24</td>\n",
              "      <td>24</td>\n",
              "      <td>Andheri</td>\n",
              "      <td>West Mumbai</td>\n",
              "      <td>19.119698</td>\n",
              "      <td>72.846420</td>\n",
              "    </tr>\n",
              "    <tr>\n",
              "      <th>1</th>\n",
              "      <td>1</td>\n",
              "      <td>1</td>\n",
              "      <td>Apollo Bandar</td>\n",
              "      <td>South Mumbai</td>\n",
              "      <td>18.918375</td>\n",
              "      <td>72.831443</td>\n",
              "    </tr>\n",
              "    <tr>\n",
              "      <th>22</th>\n",
              "      <td>22</td>\n",
              "      <td>22</td>\n",
              "      <td>Bandra West</td>\n",
              "      <td>West Mumbai</td>\n",
              "      <td>19.058336</td>\n",
              "      <td>72.830267</td>\n",
              "    </tr>\n",
              "    <tr>\n",
              "      <th>9</th>\n",
              "      <td>9</td>\n",
              "      <td>9</td>\n",
              "      <td>Bhuleshwar</td>\n",
              "      <td>South Mumbai</td>\n",
              "      <td>18.953771</td>\n",
              "      <td>72.827476</td>\n",
              "    </tr>\n",
              "    <tr>\n",
              "      <th>37</th>\n",
              "      <td>37</td>\n",
              "      <td>37</td>\n",
              "      <td>Borivali</td>\n",
              "      <td>North Mumbai</td>\n",
              "      <td>19.229068</td>\n",
              "      <td>72.857363</td>\n",
              "    </tr>\n",
              "  </tbody>\n",
              "</table>\n",
              "</div>"
            ],
            "text/plain": [
              "    Unnamed: 0  index   Neighborhood       Borough   Latitude  Longitude\n",
              "24          24     24        Andheri   West Mumbai  19.119698  72.846420\n",
              "1            1      1  Apollo Bandar  South Mumbai  18.918375  72.831443\n",
              "22          22     22    Bandra West   West Mumbai  19.058336  72.830267\n",
              "9            9      9     Bhuleshwar  South Mumbai  18.953771  72.827476\n",
              "37          37     37       Borivali  North Mumbai  19.229068  72.857363"
            ]
          },
          "metadata": {
            "tags": []
          },
          "execution_count": 17
        }
      ]
    },
    {
      "cell_type": "code",
      "metadata": {
        "id": "9bJUDP9g8N3x",
        "colab_type": "code",
        "colab": {
          "base_uri": "https://localhost:8080/",
          "height": 200
        },
        "outputId": "726d006a-c6f1-4b6e-e732-84c5eb37b620"
      },
      "source": [
        "df1.head()"
      ],
      "execution_count": 18,
      "outputs": [
        {
          "output_type": "execute_result",
          "data": {
            "text/html": [
              "<div>\n",
              "<style scoped>\n",
              "    .dataframe tbody tr th:only-of-type {\n",
              "        vertical-align: middle;\n",
              "    }\n",
              "\n",
              "    .dataframe tbody tr th {\n",
              "        vertical-align: top;\n",
              "    }\n",
              "\n",
              "    .dataframe thead th {\n",
              "        text-align: right;\n",
              "    }\n",
              "</style>\n",
              "<table border=\"1\" class=\"dataframe\">\n",
              "  <thead>\n",
              "    <tr style=\"text-align: right;\">\n",
              "      <th></th>\n",
              "      <th>Unnamed: 0</th>\n",
              "      <th>index</th>\n",
              "      <th>Neighborhood</th>\n",
              "      <th>Borough</th>\n",
              "      <th>Latitude</th>\n",
              "      <th>Longitude</th>\n",
              "    </tr>\n",
              "  </thead>\n",
              "  <tbody>\n",
              "    <tr>\n",
              "      <th>24</th>\n",
              "      <td>24</td>\n",
              "      <td>24</td>\n",
              "      <td>Andheri</td>\n",
              "      <td>West Mumbai</td>\n",
              "      <td>19.119698</td>\n",
              "      <td>72.846420</td>\n",
              "    </tr>\n",
              "    <tr>\n",
              "      <th>1</th>\n",
              "      <td>1</td>\n",
              "      <td>1</td>\n",
              "      <td>Apollo Bandar</td>\n",
              "      <td>South Mumbai</td>\n",
              "      <td>18.918375</td>\n",
              "      <td>72.831443</td>\n",
              "    </tr>\n",
              "    <tr>\n",
              "      <th>22</th>\n",
              "      <td>22</td>\n",
              "      <td>22</td>\n",
              "      <td>Bandra West</td>\n",
              "      <td>West Mumbai</td>\n",
              "      <td>19.058336</td>\n",
              "      <td>72.830267</td>\n",
              "    </tr>\n",
              "    <tr>\n",
              "      <th>9</th>\n",
              "      <td>9</td>\n",
              "      <td>9</td>\n",
              "      <td>Bhuleshwar</td>\n",
              "      <td>South Mumbai</td>\n",
              "      <td>18.953771</td>\n",
              "      <td>72.827476</td>\n",
              "    </tr>\n",
              "    <tr>\n",
              "      <th>37</th>\n",
              "      <td>37</td>\n",
              "      <td>37</td>\n",
              "      <td>Borivali</td>\n",
              "      <td>North Mumbai</td>\n",
              "      <td>19.229068</td>\n",
              "      <td>72.857363</td>\n",
              "    </tr>\n",
              "  </tbody>\n",
              "</table>\n",
              "</div>"
            ],
            "text/plain": [
              "    Unnamed: 0  index   Neighborhood       Borough   Latitude  Longitude\n",
              "24          24     24        Andheri   West Mumbai  19.119698  72.846420\n",
              "1            1      1  Apollo Bandar  South Mumbai  18.918375  72.831443\n",
              "22          22     22    Bandra West   West Mumbai  19.058336  72.830267\n",
              "9            9      9     Bhuleshwar  South Mumbai  18.953771  72.827476\n",
              "37          37     37       Borivali  North Mumbai  19.229068  72.857363"
            ]
          },
          "metadata": {
            "tags": []
          },
          "execution_count": 18
        }
      ]
    },
    {
      "cell_type": "markdown",
      "metadata": {
        "id": "5t5eKeyH9bhl",
        "colab_type": "text"
      },
      "source": [
        "### **Note nothing will be assigned to df4**.\n",
        "As df4.head throws error 'NoneType' object has no attribute 'head'"
      ]
    },
    {
      "cell_type": "code",
      "metadata": {
        "id": "Pk6ALPyo8r3N",
        "colab_type": "code",
        "colab": {}
      },
      "source": [
        "df6 = df1.sort_values(\"Neighborhood\", inplace=True)"
      ],
      "execution_count": 0,
      "outputs": []
    },
    {
      "cell_type": "code",
      "metadata": {
        "id": "AdW7Nb1h9NDg",
        "colab_type": "code",
        "colab": {
          "base_uri": "https://localhost:8080/",
          "height": 200
        },
        "outputId": "c6d0a318-3c10-4f95-c1c7-74bca0e19c43"
      },
      "source": [
        "df1.head()"
      ],
      "execution_count": 20,
      "outputs": [
        {
          "output_type": "execute_result",
          "data": {
            "text/html": [
              "<div>\n",
              "<style scoped>\n",
              "    .dataframe tbody tr th:only-of-type {\n",
              "        vertical-align: middle;\n",
              "    }\n",
              "\n",
              "    .dataframe tbody tr th {\n",
              "        vertical-align: top;\n",
              "    }\n",
              "\n",
              "    .dataframe thead th {\n",
              "        text-align: right;\n",
              "    }\n",
              "</style>\n",
              "<table border=\"1\" class=\"dataframe\">\n",
              "  <thead>\n",
              "    <tr style=\"text-align: right;\">\n",
              "      <th></th>\n",
              "      <th>Unnamed: 0</th>\n",
              "      <th>index</th>\n",
              "      <th>Neighborhood</th>\n",
              "      <th>Borough</th>\n",
              "      <th>Latitude</th>\n",
              "      <th>Longitude</th>\n",
              "    </tr>\n",
              "  </thead>\n",
              "  <tbody>\n",
              "    <tr>\n",
              "      <th>24</th>\n",
              "      <td>24</td>\n",
              "      <td>24</td>\n",
              "      <td>Andheri</td>\n",
              "      <td>West Mumbai</td>\n",
              "      <td>19.119698</td>\n",
              "      <td>72.846420</td>\n",
              "    </tr>\n",
              "    <tr>\n",
              "      <th>1</th>\n",
              "      <td>1</td>\n",
              "      <td>1</td>\n",
              "      <td>Apollo Bandar</td>\n",
              "      <td>South Mumbai</td>\n",
              "      <td>18.918375</td>\n",
              "      <td>72.831443</td>\n",
              "    </tr>\n",
              "    <tr>\n",
              "      <th>22</th>\n",
              "      <td>22</td>\n",
              "      <td>22</td>\n",
              "      <td>Bandra West</td>\n",
              "      <td>West Mumbai</td>\n",
              "      <td>19.058336</td>\n",
              "      <td>72.830267</td>\n",
              "    </tr>\n",
              "    <tr>\n",
              "      <th>9</th>\n",
              "      <td>9</td>\n",
              "      <td>9</td>\n",
              "      <td>Bhuleshwar</td>\n",
              "      <td>South Mumbai</td>\n",
              "      <td>18.953771</td>\n",
              "      <td>72.827476</td>\n",
              "    </tr>\n",
              "    <tr>\n",
              "      <th>37</th>\n",
              "      <td>37</td>\n",
              "      <td>37</td>\n",
              "      <td>Borivali</td>\n",
              "      <td>North Mumbai</td>\n",
              "      <td>19.229068</td>\n",
              "      <td>72.857363</td>\n",
              "    </tr>\n",
              "  </tbody>\n",
              "</table>\n",
              "</div>"
            ],
            "text/plain": [
              "    Unnamed: 0  index   Neighborhood       Borough   Latitude  Longitude\n",
              "24          24     24        Andheri   West Mumbai  19.119698  72.846420\n",
              "1            1      1  Apollo Bandar  South Mumbai  18.918375  72.831443\n",
              "22          22     22    Bandra West   West Mumbai  19.058336  72.830267\n",
              "9            9      9     Bhuleshwar  South Mumbai  18.953771  72.827476\n",
              "37          37     37       Borivali  North Mumbai  19.229068  72.857363"
            ]
          },
          "metadata": {
            "tags": []
          },
          "execution_count": 20
        }
      ]
    },
    {
      "cell_type": "code",
      "metadata": {
        "id": "1qaFi_1c9ROl",
        "colab_type": "code",
        "colab": {
          "base_uri": "https://localhost:8080/",
          "height": 167
        },
        "outputId": "d567ed39-8796-46a3-c69d-3550e7e247ff"
      },
      "source": [
        "df6.head()"
      ],
      "execution_count": 21,
      "outputs": [
        {
          "output_type": "error",
          "ename": "AttributeError",
          "evalue": "ignored",
          "traceback": [
            "\u001b[0;31m---------------------------------------------------------------------------\u001b[0m",
            "\u001b[0;31mAttributeError\u001b[0m                            Traceback (most recent call last)",
            "\u001b[0;32m<ipython-input-21-8fa91b95dae9>\u001b[0m in \u001b[0;36m<module>\u001b[0;34m()\u001b[0m\n\u001b[0;32m----> 1\u001b[0;31m \u001b[0mdf6\u001b[0m\u001b[0;34m.\u001b[0m\u001b[0mhead\u001b[0m\u001b[0;34m(\u001b[0m\u001b[0;34m)\u001b[0m\u001b[0;34m\u001b[0m\u001b[0;34m\u001b[0m\u001b[0m\n\u001b[0m",
            "\u001b[0;31mAttributeError\u001b[0m: 'NoneType' object has no attribute 'head'"
          ]
        }
      ]
    },
    {
      "cell_type": "code",
      "metadata": {
        "id": "GQhTuuMW935X",
        "colab_type": "code",
        "colab": {
          "base_uri": "https://localhost:8080/",
          "height": 200
        },
        "outputId": "6ccd3d42-cabe-4b38-b188-7b4248c2e669"
      },
      "source": [
        "df1 = pd.read_csv(\"mumbai_neighborhoods.csv\")\n",
        "df1.head()"
      ],
      "execution_count": 22,
      "outputs": [
        {
          "output_type": "execute_result",
          "data": {
            "text/html": [
              "<div>\n",
              "<style scoped>\n",
              "    .dataframe tbody tr th:only-of-type {\n",
              "        vertical-align: middle;\n",
              "    }\n",
              "\n",
              "    .dataframe tbody tr th {\n",
              "        vertical-align: top;\n",
              "    }\n",
              "\n",
              "    .dataframe thead th {\n",
              "        text-align: right;\n",
              "    }\n",
              "</style>\n",
              "<table border=\"1\" class=\"dataframe\">\n",
              "  <thead>\n",
              "    <tr style=\"text-align: right;\">\n",
              "      <th></th>\n",
              "      <th>Unnamed: 0</th>\n",
              "      <th>index</th>\n",
              "      <th>Neighborhood</th>\n",
              "      <th>Borough</th>\n",
              "      <th>Latitude</th>\n",
              "      <th>Longitude</th>\n",
              "    </tr>\n",
              "  </thead>\n",
              "  <tbody>\n",
              "    <tr>\n",
              "      <th>0</th>\n",
              "      <td>0</td>\n",
              "      <td>0</td>\n",
              "      <td>Colaba</td>\n",
              "      <td>South Mumbai</td>\n",
              "      <td>18.915091</td>\n",
              "      <td>72.825969</td>\n",
              "    </tr>\n",
              "    <tr>\n",
              "      <th>1</th>\n",
              "      <td>1</td>\n",
              "      <td>1</td>\n",
              "      <td>Apollo Bandar</td>\n",
              "      <td>South Mumbai</td>\n",
              "      <td>18.918375</td>\n",
              "      <td>72.831443</td>\n",
              "    </tr>\n",
              "    <tr>\n",
              "      <th>2</th>\n",
              "      <td>2</td>\n",
              "      <td>2</td>\n",
              "      <td>Fort</td>\n",
              "      <td>South Mumbai</td>\n",
              "      <td>18.933267</td>\n",
              "      <td>72.834515</td>\n",
              "    </tr>\n",
              "    <tr>\n",
              "      <th>3</th>\n",
              "      <td>3</td>\n",
              "      <td>3</td>\n",
              "      <td>Churchgate</td>\n",
              "      <td>South Mumbai</td>\n",
              "      <td>18.935957</td>\n",
              "      <td>72.827340</td>\n",
              "    </tr>\n",
              "    <tr>\n",
              "      <th>4</th>\n",
              "      <td>4</td>\n",
              "      <td>4</td>\n",
              "      <td>Nariman Point</td>\n",
              "      <td>South Mumbai</td>\n",
              "      <td>18.925951</td>\n",
              "      <td>72.823208</td>\n",
              "    </tr>\n",
              "  </tbody>\n",
              "</table>\n",
              "</div>"
            ],
            "text/plain": [
              "   Unnamed: 0  index   Neighborhood       Borough   Latitude  Longitude\n",
              "0           0      0         Colaba  South Mumbai  18.915091  72.825969\n",
              "1           1      1  Apollo Bandar  South Mumbai  18.918375  72.831443\n",
              "2           2      2           Fort  South Mumbai  18.933267  72.834515\n",
              "3           3      3     Churchgate  South Mumbai  18.935957  72.827340\n",
              "4           4      4  Nariman Point  South Mumbai  18.925951  72.823208"
            ]
          },
          "metadata": {
            "tags": []
          },
          "execution_count": 22
        }
      ]
    },
    {
      "cell_type": "code",
      "metadata": {
        "id": "y9sPXQhL9zoH",
        "colab_type": "code",
        "colab": {}
      },
      "source": [
        "df7 = df1.sort_values(\"Neighborhood\", inplace=False)"
      ],
      "execution_count": 0,
      "outputs": []
    },
    {
      "cell_type": "markdown",
      "metadata": {
        "id": "eOMwqj63-bIz",
        "colab_type": "text"
      },
      "source": [
        ""
      ]
    },
    {
      "cell_type": "code",
      "metadata": {
        "id": "hnPaB_04-Aht",
        "colab_type": "code",
        "colab": {
          "base_uri": "https://localhost:8080/",
          "height": 200
        },
        "outputId": "e0748d4d-c204-4242-8a7e-e9d6e6a2dee2"
      },
      "source": [
        "df1.head()"
      ],
      "execution_count": 24,
      "outputs": [
        {
          "output_type": "execute_result",
          "data": {
            "text/html": [
              "<div>\n",
              "<style scoped>\n",
              "    .dataframe tbody tr th:only-of-type {\n",
              "        vertical-align: middle;\n",
              "    }\n",
              "\n",
              "    .dataframe tbody tr th {\n",
              "        vertical-align: top;\n",
              "    }\n",
              "\n",
              "    .dataframe thead th {\n",
              "        text-align: right;\n",
              "    }\n",
              "</style>\n",
              "<table border=\"1\" class=\"dataframe\">\n",
              "  <thead>\n",
              "    <tr style=\"text-align: right;\">\n",
              "      <th></th>\n",
              "      <th>Unnamed: 0</th>\n",
              "      <th>index</th>\n",
              "      <th>Neighborhood</th>\n",
              "      <th>Borough</th>\n",
              "      <th>Latitude</th>\n",
              "      <th>Longitude</th>\n",
              "    </tr>\n",
              "  </thead>\n",
              "  <tbody>\n",
              "    <tr>\n",
              "      <th>0</th>\n",
              "      <td>0</td>\n",
              "      <td>0</td>\n",
              "      <td>Colaba</td>\n",
              "      <td>South Mumbai</td>\n",
              "      <td>18.915091</td>\n",
              "      <td>72.825969</td>\n",
              "    </tr>\n",
              "    <tr>\n",
              "      <th>1</th>\n",
              "      <td>1</td>\n",
              "      <td>1</td>\n",
              "      <td>Apollo Bandar</td>\n",
              "      <td>South Mumbai</td>\n",
              "      <td>18.918375</td>\n",
              "      <td>72.831443</td>\n",
              "    </tr>\n",
              "    <tr>\n",
              "      <th>2</th>\n",
              "      <td>2</td>\n",
              "      <td>2</td>\n",
              "      <td>Fort</td>\n",
              "      <td>South Mumbai</td>\n",
              "      <td>18.933267</td>\n",
              "      <td>72.834515</td>\n",
              "    </tr>\n",
              "    <tr>\n",
              "      <th>3</th>\n",
              "      <td>3</td>\n",
              "      <td>3</td>\n",
              "      <td>Churchgate</td>\n",
              "      <td>South Mumbai</td>\n",
              "      <td>18.935957</td>\n",
              "      <td>72.827340</td>\n",
              "    </tr>\n",
              "    <tr>\n",
              "      <th>4</th>\n",
              "      <td>4</td>\n",
              "      <td>4</td>\n",
              "      <td>Nariman Point</td>\n",
              "      <td>South Mumbai</td>\n",
              "      <td>18.925951</td>\n",
              "      <td>72.823208</td>\n",
              "    </tr>\n",
              "  </tbody>\n",
              "</table>\n",
              "</div>"
            ],
            "text/plain": [
              "   Unnamed: 0  index   Neighborhood       Borough   Latitude  Longitude\n",
              "0           0      0         Colaba  South Mumbai  18.915091  72.825969\n",
              "1           1      1  Apollo Bandar  South Mumbai  18.918375  72.831443\n",
              "2           2      2           Fort  South Mumbai  18.933267  72.834515\n",
              "3           3      3     Churchgate  South Mumbai  18.935957  72.827340\n",
              "4           4      4  Nariman Point  South Mumbai  18.925951  72.823208"
            ]
          },
          "metadata": {
            "tags": []
          },
          "execution_count": 24
        }
      ]
    },
    {
      "cell_type": "markdown",
      "metadata": {
        "id": "K8ela01eW71a",
        "colab_type": "text"
      },
      "source": [
        "Note: df1 remains unchanged, But sorted output is assigned to df7."
      ]
    },
    {
      "cell_type": "code",
      "metadata": {
        "id": "574aAHTN-ENh",
        "colab_type": "code",
        "colab": {
          "base_uri": "https://localhost:8080/",
          "height": 200
        },
        "outputId": "f7627d0b-a6ed-46e2-e2a9-994021c6f9fa"
      },
      "source": [
        "df7.head()"
      ],
      "execution_count": 25,
      "outputs": [
        {
          "output_type": "execute_result",
          "data": {
            "text/html": [
              "<div>\n",
              "<style scoped>\n",
              "    .dataframe tbody tr th:only-of-type {\n",
              "        vertical-align: middle;\n",
              "    }\n",
              "\n",
              "    .dataframe tbody tr th {\n",
              "        vertical-align: top;\n",
              "    }\n",
              "\n",
              "    .dataframe thead th {\n",
              "        text-align: right;\n",
              "    }\n",
              "</style>\n",
              "<table border=\"1\" class=\"dataframe\">\n",
              "  <thead>\n",
              "    <tr style=\"text-align: right;\">\n",
              "      <th></th>\n",
              "      <th>Unnamed: 0</th>\n",
              "      <th>index</th>\n",
              "      <th>Neighborhood</th>\n",
              "      <th>Borough</th>\n",
              "      <th>Latitude</th>\n",
              "      <th>Longitude</th>\n",
              "    </tr>\n",
              "  </thead>\n",
              "  <tbody>\n",
              "    <tr>\n",
              "      <th>24</th>\n",
              "      <td>24</td>\n",
              "      <td>24</td>\n",
              "      <td>Andheri</td>\n",
              "      <td>West Mumbai</td>\n",
              "      <td>19.119698</td>\n",
              "      <td>72.846420</td>\n",
              "    </tr>\n",
              "    <tr>\n",
              "      <th>1</th>\n",
              "      <td>1</td>\n",
              "      <td>1</td>\n",
              "      <td>Apollo Bandar</td>\n",
              "      <td>South Mumbai</td>\n",
              "      <td>18.918375</td>\n",
              "      <td>72.831443</td>\n",
              "    </tr>\n",
              "    <tr>\n",
              "      <th>22</th>\n",
              "      <td>22</td>\n",
              "      <td>22</td>\n",
              "      <td>Bandra West</td>\n",
              "      <td>West Mumbai</td>\n",
              "      <td>19.058336</td>\n",
              "      <td>72.830267</td>\n",
              "    </tr>\n",
              "    <tr>\n",
              "      <th>9</th>\n",
              "      <td>9</td>\n",
              "      <td>9</td>\n",
              "      <td>Bhuleshwar</td>\n",
              "      <td>South Mumbai</td>\n",
              "      <td>18.953771</td>\n",
              "      <td>72.827476</td>\n",
              "    </tr>\n",
              "    <tr>\n",
              "      <th>37</th>\n",
              "      <td>37</td>\n",
              "      <td>37</td>\n",
              "      <td>Borivali</td>\n",
              "      <td>North Mumbai</td>\n",
              "      <td>19.229068</td>\n",
              "      <td>72.857363</td>\n",
              "    </tr>\n",
              "  </tbody>\n",
              "</table>\n",
              "</div>"
            ],
            "text/plain": [
              "    Unnamed: 0  index   Neighborhood       Borough   Latitude  Longitude\n",
              "24          24     24        Andheri   West Mumbai  19.119698  72.846420\n",
              "1            1      1  Apollo Bandar  South Mumbai  18.918375  72.831443\n",
              "22          22     22    Bandra West   West Mumbai  19.058336  72.830267\n",
              "9            9      9     Bhuleshwar  South Mumbai  18.953771  72.827476\n",
              "37          37     37       Borivali  North Mumbai  19.229068  72.857363"
            ]
          },
          "metadata": {
            "tags": []
          },
          "execution_count": 25
        }
      ]
    },
    {
      "cell_type": "markdown",
      "metadata": {
        "id": "zvFnWMEn-dU-",
        "colab_type": "text"
      },
      "source": [
        "### **Conclusion**"
      ]
    },
    {
      "cell_type": "markdown",
      "metadata": {
        "id": "XYVVh6Go-iMN",
        "colab_type": "text"
      },
      "source": [
        "How inplace works"
      ]
    },
    {
      "cell_type": "markdown",
      "metadata": {
        "id": "1r3RJ7YH-ooj",
        "colab_type": "text"
      },
      "source": [
        "**df4 = df1.sort_values(\"Neighborhood\", inplace=True)**\n",
        "\n",
        "Will do two things\n",
        "1-It will change the sort in df1 actually\n",
        "\n",
        "2-But returns nothings\n",
        "\n",
        "3-Nothing will be assingned to df4"
      ]
    },
    {
      "cell_type": "markdown",
      "metadata": {
        "id": "lRmhcdJK_ExZ",
        "colab_type": "text"
      },
      "source": [
        "**df4 = df1.sort_values(\"Neighborhood\", inplace=False)**\n",
        "\n",
        "Will do two things\n",
        "\n",
        "1-It will NOT change the sort in df1 \n",
        "\n",
        "2-But returns a sorted copy df1\n",
        "\n",
        "3-This sorted copy of df1 is assingned to df4"
      ]
    },
    {
      "cell_type": "markdown",
      "metadata": {
        "id": "55Ci0chVED7w",
        "colab_type": "text"
      },
      "source": [
        "# **Bar Chart**"
      ]
    },
    {
      "cell_type": "markdown",
      "metadata": {
        "id": "GKC4Rk9zXyCt",
        "colab_type": "text"
      },
      "source": [
        "It takes all implicitely.\n",
        "\n",
        "You don't have to assign what is on X-axis or what is on Y-axix.\n",
        "\n",
        "**X-axis**:\n",
        "\n",
        "1-It takes either column which is indexed.\n",
        "\n",
        "2-If no index column, then it takes a default index.\n",
        "\n",
        "**Y-axix**:\n",
        "\n",
        "1-It takes all remaining columns, which are not indexed.\n",
        "\n",
        "2-If you want to see only specific columns, then provide a slice of that dataframe."
      ]
    },
    {
      "cell_type": "code",
      "metadata": {
        "id": "8XSzL3spYv24",
        "colab_type": "code",
        "colab": {
          "base_uri": "https://localhost:8080/",
          "height": 200
        },
        "outputId": "4b58f54d-cefe-4ea3-aa7e-b2fce4fe0ad4"
      },
      "source": [
        "df3.head()"
      ],
      "execution_count": 29,
      "outputs": [
        {
          "output_type": "execute_result",
          "data": {
            "text/html": [
              "<div>\n",
              "<style scoped>\n",
              "    .dataframe tbody tr th:only-of-type {\n",
              "        vertical-align: middle;\n",
              "    }\n",
              "\n",
              "    .dataframe tbody tr th {\n",
              "        vertical-align: top;\n",
              "    }\n",
              "\n",
              "    .dataframe thead th {\n",
              "        text-align: right;\n",
              "    }\n",
              "</style>\n",
              "<table border=\"1\" class=\"dataframe\">\n",
              "  <thead>\n",
              "    <tr style=\"text-align: right;\">\n",
              "      <th></th>\n",
              "      <th>FName</th>\n",
              "      <th>SName</th>\n",
              "      <th>Age</th>\n",
              "      <th>Salary</th>\n",
              "    </tr>\n",
              "  </thead>\n",
              "  <tbody>\n",
              "    <tr>\n",
              "      <th>0</th>\n",
              "      <td>Aaisha</td>\n",
              "      <td>Sayed</td>\n",
              "      <td>29</td>\n",
              "      <td>37</td>\n",
              "    </tr>\n",
              "    <tr>\n",
              "      <th>1</th>\n",
              "      <td>Arif</td>\n",
              "      <td>Ghansar</td>\n",
              "      <td>45</td>\n",
              "      <td>58</td>\n",
              "    </tr>\n",
              "    <tr>\n",
              "      <th>2</th>\n",
              "      <td>Faisal</td>\n",
              "      <td>Shaikh</td>\n",
              "      <td>30</td>\n",
              "      <td>39</td>\n",
              "    </tr>\n",
              "    <tr>\n",
              "      <th>3</th>\n",
              "      <td>Adil</td>\n",
              "      <td>Ghansar</td>\n",
              "      <td>50</td>\n",
              "      <td>65</td>\n",
              "    </tr>\n",
              "    <tr>\n",
              "      <th>4</th>\n",
              "      <td>Talha</td>\n",
              "      <td>Sayed</td>\n",
              "      <td>28</td>\n",
              "      <td>36</td>\n",
              "    </tr>\n",
              "  </tbody>\n",
              "</table>\n",
              "</div>"
            ],
            "text/plain": [
              "     FName    SName  Age  Salary\n",
              "0   Aaisha    Sayed   29      37\n",
              "1    Arif   Ghansar   45      58\n",
              "2  Faisal    Shaikh   30      39\n",
              "3     Adil  Ghansar   50      65\n",
              "4    Talha    Sayed   28      36"
            ]
          },
          "metadata": {
            "tags": []
          },
          "execution_count": 29
        }
      ]
    },
    {
      "cell_type": "markdown",
      "metadata": {
        "id": "kIBpdqJoY5Cf",
        "colab_type": "text"
      },
      "source": [
        "**Plot with default index**."
      ]
    },
    {
      "cell_type": "code",
      "metadata": {
        "id": "kgqbo4glZBQM",
        "colab_type": "code",
        "colab": {
          "base_uri": "https://localhost:8080/",
          "height": 310
        },
        "outputId": "2c23f2c1-bae9-49aa-e8f5-a6bc7d1431e2"
      },
      "source": [
        "df3.plot(kind='bar',figsize=(4,4),width=0.4)\n",
        "plt.xlabel('default index')\n",
        "plt.ylabel('All columns')\n",
        "plt.title('Default index with all columns')"
      ],
      "execution_count": 31,
      "outputs": [
        {
          "output_type": "execute_result",
          "data": {
            "text/plain": [
              "Text(0.5, 1.0, 'Default index with all columns')"
            ]
          },
          "metadata": {
            "tags": []
          },
          "execution_count": 31
        },
        {
          "output_type": "display_data",
          "data": {
            "image/png": "[encoded data removed]",
            "text/plain": [
              "<Figure size 288x288 with 1 Axes>"
            ]
          },
          "metadata": {
            "tags": [],
            "needs_background": "light"
          }
        }
      ]
    },
    {
      "cell_type": "markdown",
      "metadata": {
        "id": "_BcRW43baEa0",
        "colab_type": "text"
      },
      "source": [
        "**Plot with an indexed column**"
      ]
    },
    {
      "cell_type": "markdown",
      "metadata": {
        "id": "Y121XPzNatmb",
        "colab_type": "text"
      },
      "source": [
        "set index on one column. Assign output to df31."
      ]
    },
    {
      "cell_type": "code",
      "metadata": {
        "id": "5wxq4_2gaMNk",
        "colab_type": "code",
        "colab": {}
      },
      "source": [
        "df31 = df3.set_index(\"FName\", inplace=False)"
      ],
      "execution_count": 0,
      "outputs": []
    },
    {
      "cell_type": "markdown",
      "metadata": {
        "id": "S2XkNYnya2ok",
        "colab_type": "text"
      },
      "source": [
        "df3 remains un-impacted. Reason inplace=False.\n",
        "\n",
        "But, df31 gets output of df3 indexed on column name."
      ]
    },
    {
      "cell_type": "code",
      "metadata": {
        "id": "k7UPkK9YaoNg",
        "colab_type": "code",
        "colab": {
          "base_uri": "https://localhost:8080/",
          "height": 200
        },
        "outputId": "2af3dd85-476c-45e3-a265-9eec5176c0ab"
      },
      "source": [
        "df3.head()"
      ],
      "execution_count": 33,
      "outputs": [
        {
          "output_type": "execute_result",
          "data": {
            "text/html": [
              "<div>\n",
              "<style scoped>\n",
              "    .dataframe tbody tr th:only-of-type {\n",
              "        vertical-align: middle;\n",
              "    }\n",
              "\n",
              "    .dataframe tbody tr th {\n",
              "        vertical-align: top;\n",
              "    }\n",
              "\n",
              "    .dataframe thead th {\n",
              "        text-align: right;\n",
              "    }\n",
              "</style>\n",
              "<table border=\"1\" class=\"dataframe\">\n",
              "  <thead>\n",
              "    <tr style=\"text-align: right;\">\n",
              "      <th></th>\n",
              "      <th>FName</th>\n",
              "      <th>SName</th>\n",
              "      <th>Age</th>\n",
              "      <th>Salary</th>\n",
              "    </tr>\n",
              "  </thead>\n",
              "  <tbody>\n",
              "    <tr>\n",
              "      <th>0</th>\n",
              "      <td>Aaisha</td>\n",
              "      <td>Sayed</td>\n",
              "      <td>29</td>\n",
              "      <td>37</td>\n",
              "    </tr>\n",
              "    <tr>\n",
              "      <th>1</th>\n",
              "      <td>Arif</td>\n",
              "      <td>Ghansar</td>\n",
              "      <td>45</td>\n",
              "      <td>58</td>\n",
              "    </tr>\n",
              "    <tr>\n",
              "      <th>2</th>\n",
              "      <td>Faisal</td>\n",
              "      <td>Shaikh</td>\n",
              "      <td>30</td>\n",
              "      <td>39</td>\n",
              "    </tr>\n",
              "    <tr>\n",
              "      <th>3</th>\n",
              "      <td>Adil</td>\n",
              "      <td>Ghansar</td>\n",
              "      <td>50</td>\n",
              "      <td>65</td>\n",
              "    </tr>\n",
              "    <tr>\n",
              "      <th>4</th>\n",
              "      <td>Talha</td>\n",
              "      <td>Sayed</td>\n",
              "      <td>28</td>\n",
              "      <td>36</td>\n",
              "    </tr>\n",
              "  </tbody>\n",
              "</table>\n",
              "</div>"
            ],
            "text/plain": [
              "     FName    SName  Age  Salary\n",
              "0   Aaisha    Sayed   29      37\n",
              "1    Arif   Ghansar   45      58\n",
              "2  Faisal    Shaikh   30      39\n",
              "3     Adil  Ghansar   50      65\n",
              "4    Talha    Sayed   28      36"
            ]
          },
          "metadata": {
            "tags": []
          },
          "execution_count": 33
        }
      ]
    },
    {
      "cell_type": "code",
      "metadata": {
        "id": "5_G2do2UbCtI",
        "colab_type": "code",
        "colab": {
          "base_uri": "https://localhost:8080/",
          "height": 230
        },
        "outputId": "62ab90c1-7b22-46b1-87c6-70eba99df0d6"
      },
      "source": [
        "df31.head()"
      ],
      "execution_count": 34,
      "outputs": [
        {
          "output_type": "execute_result",
          "data": {
            "text/html": [
              "<div>\n",
              "<style scoped>\n",
              "    .dataframe tbody tr th:only-of-type {\n",
              "        vertical-align: middle;\n",
              "    }\n",
              "\n",
              "    .dataframe tbody tr th {\n",
              "        vertical-align: top;\n",
              "    }\n",
              "\n",
              "    .dataframe thead th {\n",
              "        text-align: right;\n",
              "    }\n",
              "</style>\n",
              "<table border=\"1\" class=\"dataframe\">\n",
              "  <thead>\n",
              "    <tr style=\"text-align: right;\">\n",
              "      <th></th>\n",
              "      <th>SName</th>\n",
              "      <th>Age</th>\n",
              "      <th>Salary</th>\n",
              "    </tr>\n",
              "    <tr>\n",
              "      <th>FName</th>\n",
              "      <th></th>\n",
              "      <th></th>\n",
              "      <th></th>\n",
              "    </tr>\n",
              "  </thead>\n",
              "  <tbody>\n",
              "    <tr>\n",
              "      <th>Aaisha</th>\n",
              "      <td>Sayed</td>\n",
              "      <td>29</td>\n",
              "      <td>37</td>\n",
              "    </tr>\n",
              "    <tr>\n",
              "      <th>Arif</th>\n",
              "      <td>Ghansar</td>\n",
              "      <td>45</td>\n",
              "      <td>58</td>\n",
              "    </tr>\n",
              "    <tr>\n",
              "      <th>Faisal</th>\n",
              "      <td>Shaikh</td>\n",
              "      <td>30</td>\n",
              "      <td>39</td>\n",
              "    </tr>\n",
              "    <tr>\n",
              "      <th>Adil</th>\n",
              "      <td>Ghansar</td>\n",
              "      <td>50</td>\n",
              "      <td>65</td>\n",
              "    </tr>\n",
              "    <tr>\n",
              "      <th>Talha</th>\n",
              "      <td>Sayed</td>\n",
              "      <td>28</td>\n",
              "      <td>36</td>\n",
              "    </tr>\n",
              "  </tbody>\n",
              "</table>\n",
              "</div>"
            ],
            "text/plain": [
              "           SName  Age  Salary\n",
              "FName                        \n",
              "Aaisha     Sayed   29      37\n",
              "Arif     Ghansar   45      58\n",
              "Faisal    Shaikh   30      39\n",
              "Adil     Ghansar   50      65\n",
              "Talha      Sayed   28      36"
            ]
          },
          "metadata": {
            "tags": []
          },
          "execution_count": 34
        }
      ]
    },
    {
      "cell_type": "markdown",
      "metadata": {
        "id": "MPDeB37-cEbz",
        "colab_type": "text"
      },
      "source": [
        "Let's plot a chart on df31."
      ]
    },
    {
      "cell_type": "code",
      "metadata": {
        "id": "pCSoEs-XcLOT",
        "colab_type": "code",
        "colab": {
          "base_uri": "https://localhost:8080/",
          "height": 338
        },
        "outputId": "2932bf0a-5cec-41d8-c116-391ef987de18"
      },
      "source": [
        "df31.plot(kind='bar',figsize=(6,4),width=0.6)\n",
        "plt.xlabel('Name')\n",
        "plt.ylabel('Remaining columns')\n",
        "plt.title('Chart on an indexed column')"
      ],
      "execution_count": 38,
      "outputs": [
        {
          "output_type": "execute_result",
          "data": {
            "text/plain": [
              "Text(0.5, 1.0, 'Chart on an indexed column')"
            ]
          },
          "metadata": {
            "tags": []
          },
          "execution_count": 38
        },
        {
          "output_type": "display_data",
          "data": {
            "image/png": "[encoded data removed]",
            "text/plain": [
              "<Figure size 432x288 with 1 Axes>"
            ]
          },
          "metadata": {
            "tags": [],
            "needs_background": "light"
          }
        }
      ]
    },
    {
      "cell_type": "markdown",
      "metadata": {
        "id": "RR2yXlUIc_vH",
        "colab_type": "text"
      },
      "source": [
        "What if index is set on two columns."
      ]
    },
    {
      "cell_type": "code",
      "metadata": {
        "id": "lman8ceXdFQ2",
        "colab_type": "code",
        "colab": {}
      },
      "source": [
        "df32 = df3.set_index(['SName','FName'],inplace=False)"
      ],
      "execution_count": 0,
      "outputs": []
    },
    {
      "cell_type": "code",
      "metadata": {
        "id": "gUyH9lWZdbIO",
        "colab_type": "code",
        "colab": {
          "base_uri": "https://localhost:8080/",
          "height": 230
        },
        "outputId": "6b51f4fd-18ec-4675-e99b-2fca6fd5d0e3"
      },
      "source": [
        "df32.head()"
      ],
      "execution_count": 43,
      "outputs": [
        {
          "output_type": "execute_result",
          "data": {
            "text/html": [
              "<div>\n",
              "<style scoped>\n",
              "    .dataframe tbody tr th:only-of-type {\n",
              "        vertical-align: middle;\n",
              "    }\n",
              "\n",
              "    .dataframe tbody tr th {\n",
              "        vertical-align: top;\n",
              "    }\n",
              "\n",
              "    .dataframe thead th {\n",
              "        text-align: right;\n",
              "    }\n",
              "</style>\n",
              "<table border=\"1\" class=\"dataframe\">\n",
              "  <thead>\n",
              "    <tr style=\"text-align: right;\">\n",
              "      <th></th>\n",
              "      <th></th>\n",
              "      <th>Age</th>\n",
              "      <th>Salary</th>\n",
              "    </tr>\n",
              "    <tr>\n",
              "      <th>SName</th>\n",
              "      <th>FName</th>\n",
              "      <th></th>\n",
              "      <th></th>\n",
              "    </tr>\n",
              "  </thead>\n",
              "  <tbody>\n",
              "    <tr>\n",
              "      <th>Sayed</th>\n",
              "      <th>Aaisha</th>\n",
              "      <td>29</td>\n",
              "      <td>37</td>\n",
              "    </tr>\n",
              "    <tr>\n",
              "      <th>Ghansar</th>\n",
              "      <th>Arif</th>\n",
              "      <td>45</td>\n",
              "      <td>58</td>\n",
              "    </tr>\n",
              "    <tr>\n",
              "      <th>Shaikh</th>\n",
              "      <th>Faisal</th>\n",
              "      <td>30</td>\n",
              "      <td>39</td>\n",
              "    </tr>\n",
              "    <tr>\n",
              "      <th>Ghansar</th>\n",
              "      <th>Adil</th>\n",
              "      <td>50</td>\n",
              "      <td>65</td>\n",
              "    </tr>\n",
              "    <tr>\n",
              "      <th>Sayed</th>\n",
              "      <th>Talha</th>\n",
              "      <td>28</td>\n",
              "      <td>36</td>\n",
              "    </tr>\n",
              "  </tbody>\n",
              "</table>\n",
              "</div>"
            ],
            "text/plain": [
              "                 Age  Salary\n",
              "SName   FName               \n",
              "Sayed   Aaisha    29      37\n",
              "Ghansar Arif      45      58\n",
              "Shaikh  Faisal    30      39\n",
              "Ghansar Adil      50      65\n",
              "Sayed   Talha     28      36"
            ]
          },
          "metadata": {
            "tags": []
          },
          "execution_count": 43
        }
      ]
    },
    {
      "cell_type": "markdown",
      "metadata": {
        "id": "l5vQAyoxdpZK",
        "colab_type": "text"
      },
      "source": [
        "Let's plot."
      ]
    },
    {
      "cell_type": "code",
      "metadata": {
        "id": "aS5eR1Cndr3t",
        "colab_type": "code",
        "colab": {
          "base_uri": "https://localhost:8080/",
          "height": 386
        },
        "outputId": "a54275eb-1b84-4b8b-e6b9-bfbb239fa0ce"
      },
      "source": [
        "df32.plot(kind='bar',figsize=(6,4),width=0.4)\n",
        "plt.xlabel('index on 2 columns')\n",
        "plt.ylabel('remaining columns')\n",
        "plt.title('Chart with index on 2 columns')"
      ],
      "execution_count": 44,
      "outputs": [
        {
          "output_type": "execute_result",
          "data": {
            "text/plain": [
              "Text(0.5, 1.0, 'Chart with index on 2 columns')"
            ]
          },
          "metadata": {
            "tags": []
          },
          "execution_count": 44
        },
        {
          "output_type": "display_data",
          "data": {
            "image/png": "[encoded data removed]",
            "text/plain": [
              "<Figure size 432x288 with 1 Axes>"
            ]
          },
          "metadata": {
            "tags": [],
            "needs_background": "light"
          }
        }
      ]
    },
    {
      "cell_type": "markdown",
      "metadata": {
        "id": "REcTiF8RfJKK",
        "colab_type": "text"
      },
      "source": [
        "**Plot with only column of your choice**\n",
        "\n",
        "Slice dataframe."
      ]
    },
    {
      "cell_type": "code",
      "metadata": {
        "id": "L8MfwzqDfzrT",
        "colab_type": "code",
        "colab": {
          "base_uri": "https://localhost:8080/",
          "height": 230
        },
        "outputId": "bdb94c00-2bd7-422c-c78a-c4a91aa71c85"
      },
      "source": [
        "df32.head()"
      ],
      "execution_count": 45,
      "outputs": [
        {
          "output_type": "execute_result",
          "data": {
            "text/html": [
              "<div>\n",
              "<style scoped>\n",
              "    .dataframe tbody tr th:only-of-type {\n",
              "        vertical-align: middle;\n",
              "    }\n",
              "\n",
              "    .dataframe tbody tr th {\n",
              "        vertical-align: top;\n",
              "    }\n",
              "\n",
              "    .dataframe thead th {\n",
              "        text-align: right;\n",
              "    }\n",
              "</style>\n",
              "<table border=\"1\" class=\"dataframe\">\n",
              "  <thead>\n",
              "    <tr style=\"text-align: right;\">\n",
              "      <th></th>\n",
              "      <th></th>\n",
              "      <th>Age</th>\n",
              "      <th>Salary</th>\n",
              "    </tr>\n",
              "    <tr>\n",
              "      <th>SName</th>\n",
              "      <th>FName</th>\n",
              "      <th></th>\n",
              "      <th></th>\n",
              "    </tr>\n",
              "  </thead>\n",
              "  <tbody>\n",
              "    <tr>\n",
              "      <th>Sayed</th>\n",
              "      <th>Aaisha</th>\n",
              "      <td>29</td>\n",
              "      <td>37</td>\n",
              "    </tr>\n",
              "    <tr>\n",
              "      <th>Ghansar</th>\n",
              "      <th>Arif</th>\n",
              "      <td>45</td>\n",
              "      <td>58</td>\n",
              "    </tr>\n",
              "    <tr>\n",
              "      <th>Shaikh</th>\n",
              "      <th>Faisal</th>\n",
              "      <td>30</td>\n",
              "      <td>39</td>\n",
              "    </tr>\n",
              "    <tr>\n",
              "      <th>Ghansar</th>\n",
              "      <th>Adil</th>\n",
              "      <td>50</td>\n",
              "      <td>65</td>\n",
              "    </tr>\n",
              "    <tr>\n",
              "      <th>Sayed</th>\n",
              "      <th>Talha</th>\n",
              "      <td>28</td>\n",
              "      <td>36</td>\n",
              "    </tr>\n",
              "  </tbody>\n",
              "</table>\n",
              "</div>"
            ],
            "text/plain": [
              "                 Age  Salary\n",
              "SName   FName               \n",
              "Sayed   Aaisha    29      37\n",
              "Ghansar Arif      45      58\n",
              "Shaikh  Faisal    30      39\n",
              "Ghansar Adil      50      65\n",
              "Sayed   Talha     28      36"
            ]
          },
          "metadata": {
            "tags": []
          },
          "execution_count": 45
        }
      ]
    },
    {
      "cell_type": "markdown",
      "metadata": {
        "id": "XBQwbjUIf3ia",
        "colab_type": "text"
      },
      "source": [
        "Slice"
      ]
    },
    {
      "cell_type": "code",
      "metadata": {
        "id": "C10Tny8cf40a",
        "colab_type": "code",
        "colab": {
          "base_uri": "https://localhost:8080/",
          "height": 141
        },
        "outputId": "21e823fc-457b-4453-a8ea-8ebca8201b9c"
      },
      "source": [
        "df321 = df32['Age']\n",
        "df321.head()"
      ],
      "execution_count": 46,
      "outputs": [
        {
          "output_type": "execute_result",
          "data": {
            "text/plain": [
              "SName    FName  \n",
              "Sayed    Aaisha     29\n",
              "Ghansar  Arif       45\n",
              "Shaikh   Faisal     30\n",
              "Ghansar  Adil       50\n",
              "Sayed    Talha      28\n",
              "Name: Age, dtype: int64"
            ]
          },
          "metadata": {
            "tags": []
          },
          "execution_count": 46
        }
      ]
    },
    {
      "cell_type": "markdown",
      "metadata": {
        "id": "InqooD6dgH_o",
        "colab_type": "text"
      },
      "source": [
        "Now plot."
      ]
    },
    {
      "cell_type": "code",
      "metadata": {
        "id": "ln4Bqu49gKGh",
        "colab_type": "code",
        "colab": {
          "base_uri": "https://localhost:8080/",
          "height": 386
        },
        "outputId": "0826b480-386b-4a09-b82c-79830d27c993"
      },
      "source": [
        "df321.plot(kind='bar',figsize=(6,4),width=0.4)\n",
        "plt.ylabel('Age')\n",
        "plt.title('Plot for specific column by slicing df')\n"
      ],
      "execution_count": 48,
      "outputs": [
        {
          "output_type": "execute_result",
          "data": {
            "text/plain": [
              "Text(0.5, 1.0, 'Plot for specific column by slicing df')"
            ]
          },
          "metadata": {
            "tags": []
          },
          "execution_count": 48
        },
        {
          "output_type": "display_data",
          "data": {
            "image/png": "[encoded data removed]",
            "text/plain": [
              "<Figure size 432x288 with 1 Axes>"
            ]
          },
          "metadata": {
            "tags": [],
            "needs_background": "light"
          }
        }
      ]
    },
    {
      "cell_type": "markdown",
      "metadata": {
        "id": "YfkMKNdwhJFQ",
        "colab_type": "text"
      },
      "source": [
        "**Plot Age vs Salary**.\n",
        "\n",
        "1-First, index on Age.\n",
        "\n",
        "2-Then slice df."
      ]
    },
    {
      "cell_type": "code",
      "metadata": {
        "id": "XIlGtmHghW-A",
        "colab_type": "code",
        "colab": {
          "base_uri": "https://localhost:8080/",
          "height": 230
        },
        "outputId": "0335c6ec-8a8d-4d5d-c5d7-ec5774be9c5e"
      },
      "source": [
        "df33 = df3.set_index('Age',inplace=False)\n",
        "df33.head()"
      ],
      "execution_count": 51,
      "outputs": [
        {
          "output_type": "execute_result",
          "data": {
            "text/html": [
              "<div>\n",
              "<style scoped>\n",
              "    .dataframe tbody tr th:only-of-type {\n",
              "        vertical-align: middle;\n",
              "    }\n",
              "\n",
              "    .dataframe tbody tr th {\n",
              "        vertical-align: top;\n",
              "    }\n",
              "\n",
              "    .dataframe thead th {\n",
              "        text-align: right;\n",
              "    }\n",
              "</style>\n",
              "<table border=\"1\" class=\"dataframe\">\n",
              "  <thead>\n",
              "    <tr style=\"text-align: right;\">\n",
              "      <th></th>\n",
              "      <th>FName</th>\n",
              "      <th>SName</th>\n",
              "      <th>Salary</th>\n",
              "    </tr>\n",
              "    <tr>\n",
              "      <th>Age</th>\n",
              "      <th></th>\n",
              "      <th></th>\n",
              "      <th></th>\n",
              "    </tr>\n",
              "  </thead>\n",
              "  <tbody>\n",
              "    <tr>\n",
              "      <th>29</th>\n",
              "      <td>Aaisha</td>\n",
              "      <td>Sayed</td>\n",
              "      <td>37</td>\n",
              "    </tr>\n",
              "    <tr>\n",
              "      <th>45</th>\n",
              "      <td>Arif</td>\n",
              "      <td>Ghansar</td>\n",
              "      <td>58</td>\n",
              "    </tr>\n",
              "    <tr>\n",
              "      <th>30</th>\n",
              "      <td>Faisal</td>\n",
              "      <td>Shaikh</td>\n",
              "      <td>39</td>\n",
              "    </tr>\n",
              "    <tr>\n",
              "      <th>50</th>\n",
              "      <td>Adil</td>\n",
              "      <td>Ghansar</td>\n",
              "      <td>65</td>\n",
              "    </tr>\n",
              "    <tr>\n",
              "      <th>28</th>\n",
              "      <td>Talha</td>\n",
              "      <td>Sayed</td>\n",
              "      <td>36</td>\n",
              "    </tr>\n",
              "  </tbody>\n",
              "</table>\n",
              "</div>"
            ],
            "text/plain": [
              "       FName    SName  Salary\n",
              "Age                          \n",
              "29    Aaisha    Sayed      37\n",
              "45     Arif   Ghansar      58\n",
              "30   Faisal    Shaikh      39\n",
              "50      Adil  Ghansar      65\n",
              "28     Talha    Sayed      36"
            ]
          },
          "metadata": {
            "tags": []
          },
          "execution_count": 51
        }
      ]
    },
    {
      "cell_type": "code",
      "metadata": {
        "id": "uwXFcvzjhwtu",
        "colab_type": "code",
        "colab": {
          "base_uri": "https://localhost:8080/",
          "height": 141
        },
        "outputId": "5c388c24-30fe-444d-da6f-3483678b90e9"
      },
      "source": [
        "df331 = df33['Salary']\n",
        "df331.head()\n"
      ],
      "execution_count": 52,
      "outputs": [
        {
          "output_type": "execute_result",
          "data": {
            "text/plain": [
              "Age\n",
              "29    37\n",
              "45    58\n",
              "30    39\n",
              "50    65\n",
              "28    36\n",
              "Name: Salary, dtype: int64"
            ]
          },
          "metadata": {
            "tags": []
          },
          "execution_count": 52
        }
      ]
    },
    {
      "cell_type": "markdown",
      "metadata": {
        "id": "5VP7d61kiUFG",
        "colab_type": "text"
      },
      "source": [
        "Now plot Salary vs Age."
      ]
    },
    {
      "cell_type": "code",
      "metadata": {
        "id": "6CQiHdF7iYkJ",
        "colab_type": "code",
        "colab": {
          "base_uri": "https://localhost:8080/",
          "height": 315
        },
        "outputId": "5787137f-8025-4723-d828-094d4fc6903c"
      },
      "source": [
        "df331.plot(kind='bar',figsize=(6,4),width=0.4)\n",
        "plt.ylabel('Salary')\n",
        "plt.title('Salary vs Age')"
      ],
      "execution_count": 53,
      "outputs": [
        {
          "output_type": "execute_result",
          "data": {
            "text/plain": [
              "Text(0.5, 1.0, 'Salary vs Age')"
            ]
          },
          "metadata": {
            "tags": []
          },
          "execution_count": 53
        },
        {
          "output_type": "display_data",
          "data": {
            "image/png": "[encoded data removed]",
            "text/plain": [
              "<Figure size 432x288 with 1 Axes>"
            ]
          },
          "metadata": {
            "tags": [],
            "needs_background": "light"
          }
        }
      ]
    },
    {
      "cell_type": "markdown",
      "metadata": {
        "id": "hjHDO5cojyJS",
        "colab_type": "text"
      },
      "source": [
        "**Chart with groupby**"
      ]
    },
    {
      "cell_type": "code",
      "metadata": {
        "id": "sYVH2DQwj8cN",
        "colab_type": "code",
        "colab": {}
      },
      "source": [
        "df34 = df3.groupby('SName').count()\n"
      ],
      "execution_count": 0,
      "outputs": []
    },
    {
      "cell_type": "code",
      "metadata": {
        "id": "mTAcLEiqkW15",
        "colab_type": "code",
        "colab": {
          "base_uri": "https://localhost:8080/",
          "height": 170
        },
        "outputId": "c7a4f279-f31c-4b0e-ef53-7640318769e3"
      },
      "source": [
        "df34.head()"
      ],
      "execution_count": 57,
      "outputs": [
        {
          "output_type": "execute_result",
          "data": {
            "text/html": [
              "<div>\n",
              "<style scoped>\n",
              "    .dataframe tbody tr th:only-of-type {\n",
              "        vertical-align: middle;\n",
              "    }\n",
              "\n",
              "    .dataframe tbody tr th {\n",
              "        vertical-align: top;\n",
              "    }\n",
              "\n",
              "    .dataframe thead th {\n",
              "        text-align: right;\n",
              "    }\n",
              "</style>\n",
              "<table border=\"1\" class=\"dataframe\">\n",
              "  <thead>\n",
              "    <tr style=\"text-align: right;\">\n",
              "      <th></th>\n",
              "      <th>FName</th>\n",
              "      <th>Age</th>\n",
              "      <th>Salary</th>\n",
              "    </tr>\n",
              "    <tr>\n",
              "      <th>SName</th>\n",
              "      <th></th>\n",
              "      <th></th>\n",
              "      <th></th>\n",
              "    </tr>\n",
              "  </thead>\n",
              "  <tbody>\n",
              "    <tr>\n",
              "      <th>Ghansar</th>\n",
              "      <td>2</td>\n",
              "      <td>2</td>\n",
              "      <td>2</td>\n",
              "    </tr>\n",
              "    <tr>\n",
              "      <th>Sayed</th>\n",
              "      <td>3</td>\n",
              "      <td>3</td>\n",
              "      <td>3</td>\n",
              "    </tr>\n",
              "    <tr>\n",
              "      <th>Shaikh</th>\n",
              "      <td>2</td>\n",
              "      <td>2</td>\n",
              "      <td>2</td>\n",
              "    </tr>\n",
              "  </tbody>\n",
              "</table>\n",
              "</div>"
            ],
            "text/plain": [
              "         FName  Age  Salary\n",
              "SName                      \n",
              "Ghansar      2    2       2\n",
              "Sayed        3    3       3\n",
              "Shaikh       2    2       2"
            ]
          },
          "metadata": {
            "tags": []
          },
          "execution_count": 57
        }
      ]
    },
    {
      "cell_type": "markdown",
      "metadata": {
        "id": "845UusQYkgoL",
        "colab_type": "text"
      },
      "source": [
        "Rename one column as count."
      ]
    },
    {
      "cell_type": "code",
      "metadata": {
        "id": "nUJ1hgMrkk5e",
        "colab_type": "code",
        "colab": {
          "base_uri": "https://localhost:8080/",
          "height": 170
        },
        "outputId": "8a0f0cff-bab4-425c-dbb9-0ff7598894b0"
      },
      "source": [
        "df34.rename({'FName':'Count'},inplace=True)\n",
        "df34.head()\n"
      ],
      "execution_count": 58,
      "outputs": [
        {
          "output_type": "execute_result",
          "data": {
            "text/html": [
              "<div>\n",
              "<style scoped>\n",
              "    .dataframe tbody tr th:only-of-type {\n",
              "        vertical-align: middle;\n",
              "    }\n",
              "\n",
              "    .dataframe tbody tr th {\n",
              "        vertical-align: top;\n",
              "    }\n",
              "\n",
              "    .dataframe thead th {\n",
              "        text-align: right;\n",
              "    }\n",
              "</style>\n",
              "<table border=\"1\" class=\"dataframe\">\n",
              "  <thead>\n",
              "    <tr style=\"text-align: right;\">\n",
              "      <th></th>\n",
              "      <th>FName</th>\n",
              "      <th>Age</th>\n",
              "      <th>Salary</th>\n",
              "    </tr>\n",
              "    <tr>\n",
              "      <th>SName</th>\n",
              "      <th></th>\n",
              "      <th></th>\n",
              "      <th></th>\n",
              "    </tr>\n",
              "  </thead>\n",
              "  <tbody>\n",
              "    <tr>\n",
              "      <th>Ghansar</th>\n",
              "      <td>2</td>\n",
              "      <td>2</td>\n",
              "      <td>2</td>\n",
              "    </tr>\n",
              "    <tr>\n",
              "      <th>Sayed</th>\n",
              "      <td>3</td>\n",
              "      <td>3</td>\n",
              "      <td>3</td>\n",
              "    </tr>\n",
              "    <tr>\n",
              "      <th>Shaikh</th>\n",
              "      <td>2</td>\n",
              "      <td>2</td>\n",
              "      <td>2</td>\n",
              "    </tr>\n",
              "  </tbody>\n",
              "</table>\n",
              "</div>"
            ],
            "text/plain": [
              "         FName  Age  Salary\n",
              "SName                      \n",
              "Ghansar      2    2       2\n",
              "Sayed        3    3       3\n",
              "Shaikh       2    2       2"
            ]
          },
          "metadata": {
            "tags": []
          },
          "execution_count": 58
        }
      ]
    },
    {
      "cell_type": "markdown",
      "metadata": {
        "id": "8UUp--5AleSC",
        "colab_type": "text"
      },
      "source": [
        "*Did NOT work !!! Why ?*"
      ]
    },
    {
      "cell_type": "code",
      "metadata": {
        "id": "N3HhXtBPljsM",
        "colab_type": "code",
        "colab": {}
      },
      "source": [
        "# changing cols with rename() \n",
        "new_data = data.rename(columns = {\"Team\": \"Team Name\", \n",
        "                                  \"College\":\"Education\", \n",
        "                                  \"Salary\": \"Income\"}) "
      ],
      "execution_count": 0,
      "outputs": []
    },
    {
      "cell_type": "code",
      "metadata": {
        "id": "N088orRVllZn",
        "colab_type": "code",
        "colab": {
          "base_uri": "https://localhost:8080/",
          "height": 170
        },
        "outputId": "26fbbbde-8a3d-44d0-f709-e534e9d4abbc"
      },
      "source": [
        "df341 = df34.rename(columns={'FName':'Count'},inplace=False)\n",
        "df341.head()"
      ],
      "execution_count": 65,
      "outputs": [
        {
          "output_type": "execute_result",
          "data": {
            "text/html": [
              "<div>\n",
              "<style scoped>\n",
              "    .dataframe tbody tr th:only-of-type {\n",
              "        vertical-align: middle;\n",
              "    }\n",
              "\n",
              "    .dataframe tbody tr th {\n",
              "        vertical-align: top;\n",
              "    }\n",
              "\n",
              "    .dataframe thead th {\n",
              "        text-align: right;\n",
              "    }\n",
              "</style>\n",
              "<table border=\"1\" class=\"dataframe\">\n",
              "  <thead>\n",
              "    <tr style=\"text-align: right;\">\n",
              "      <th></th>\n",
              "      <th>Count</th>\n",
              "      <th>Age</th>\n",
              "      <th>Salary</th>\n",
              "    </tr>\n",
              "    <tr>\n",
              "      <th>SName</th>\n",
              "      <th></th>\n",
              "      <th></th>\n",
              "      <th></th>\n",
              "    </tr>\n",
              "  </thead>\n",
              "  <tbody>\n",
              "    <tr>\n",
              "      <th>Ghansar</th>\n",
              "      <td>2</td>\n",
              "      <td>2</td>\n",
              "      <td>2</td>\n",
              "    </tr>\n",
              "    <tr>\n",
              "      <th>Sayed</th>\n",
              "      <td>3</td>\n",
              "      <td>3</td>\n",
              "      <td>3</td>\n",
              "    </tr>\n",
              "    <tr>\n",
              "      <th>Shaikh</th>\n",
              "      <td>2</td>\n",
              "      <td>2</td>\n",
              "      <td>2</td>\n",
              "    </tr>\n",
              "  </tbody>\n",
              "</table>\n",
              "</div>"
            ],
            "text/plain": [
              "         Count  Age  Salary\n",
              "SName                      \n",
              "Ghansar      2    2       2\n",
              "Sayed        3    3       3\n",
              "Shaikh       2    2       2"
            ]
          },
          "metadata": {
            "tags": []
          },
          "execution_count": 65
        }
      ]
    },
    {
      "cell_type": "markdown",
      "metadata": {
        "id": "upp0F1HConu1",
        "colab_type": "text"
      },
      "source": [
        "Let's take slice."
      ]
    },
    {
      "cell_type": "code",
      "metadata": {
        "id": "MkD1ok1powHd",
        "colab_type": "code",
        "colab": {
          "base_uri": "https://localhost:8080/",
          "height": 106
        },
        "outputId": "b01075b2-d8f3-4308-8933-43fba29fee39"
      },
      "source": [
        "df341['Count']"
      ],
      "execution_count": 66,
      "outputs": [
        {
          "output_type": "execute_result",
          "data": {
            "text/plain": [
              "SName\n",
              "Ghansar    2\n",
              "Sayed      3\n",
              "Shaikh     2\n",
              "Name: Count, dtype: int64"
            ]
          },
          "metadata": {
            "tags": []
          },
          "execution_count": 66
        }
      ]
    },
    {
      "cell_type": "markdown",
      "metadata": {
        "id": "Fu15E2smpDMV",
        "colab_type": "text"
      },
      "source": [
        "Let's plot."
      ]
    },
    {
      "cell_type": "code",
      "metadata": {
        "id": "e5XdkxO3pH9X",
        "colab_type": "code",
        "colab": {
          "base_uri": "https://localhost:8080/",
          "height": 344
        },
        "outputId": "3750473b-ba59-499b-e67d-7ad5967d2b94"
      },
      "source": [
        "df341['Count'].plot(kind='bar',figsize=(6,4),width=0.4)\n",
        "plt.ylabel('Count of SName')\n",
        "plt.title('Plot of count of Group By on SName')"
      ],
      "execution_count": 67,
      "outputs": [
        {
          "output_type": "execute_result",
          "data": {
            "text/plain": [
              "Text(0.5, 1.0, 'Plot of count of Group By on SName')"
            ]
          },
          "metadata": {
            "tags": []
          },
          "execution_count": 67
        },
        {
          "output_type": "display_data",
          "data": {
            "image/png": "[encoded data removed]",
            "text/plain": [
              "<Figure size 432x288 with 1 Axes>"
            ]
          },
          "metadata": {
            "tags": [],
            "needs_background": "light"
          }
        }
      ]
    },
    {
      "cell_type": "markdown",
      "metadata": {
        "id": "w6MyODt0p9Xy",
        "colab_type": "text"
      },
      "source": [
        "All this can be done in one line of code."
      ]
    },
    {
      "cell_type": "code",
      "metadata": {
        "id": "Nc1TK0nZqBQP",
        "colab_type": "code",
        "colab": {
          "base_uri": "https://localhost:8080/",
          "height": 200
        },
        "outputId": "b3448920-351c-40c8-e6d4-a6a43eb3fad4"
      },
      "source": [
        "df3.head()"
      ],
      "execution_count": 68,
      "outputs": [
        {
          "output_type": "execute_result",
          "data": {
            "text/html": [
              "<div>\n",
              "<style scoped>\n",
              "    .dataframe tbody tr th:only-of-type {\n",
              "        vertical-align: middle;\n",
              "    }\n",
              "\n",
              "    .dataframe tbody tr th {\n",
              "        vertical-align: top;\n",
              "    }\n",
              "\n",
              "    .dataframe thead th {\n",
              "        text-align: right;\n",
              "    }\n",
              "</style>\n",
              "<table border=\"1\" class=\"dataframe\">\n",
              "  <thead>\n",
              "    <tr style=\"text-align: right;\">\n",
              "      <th></th>\n",
              "      <th>FName</th>\n",
              "      <th>SName</th>\n",
              "      <th>Age</th>\n",
              "      <th>Salary</th>\n",
              "    </tr>\n",
              "  </thead>\n",
              "  <tbody>\n",
              "    <tr>\n",
              "      <th>0</th>\n",
              "      <td>Aaisha</td>\n",
              "      <td>Sayed</td>\n",
              "      <td>29</td>\n",
              "      <td>37</td>\n",
              "    </tr>\n",
              "    <tr>\n",
              "      <th>1</th>\n",
              "      <td>Arif</td>\n",
              "      <td>Ghansar</td>\n",
              "      <td>45</td>\n",
              "      <td>58</td>\n",
              "    </tr>\n",
              "    <tr>\n",
              "      <th>2</th>\n",
              "      <td>Faisal</td>\n",
              "      <td>Shaikh</td>\n",
              "      <td>30</td>\n",
              "      <td>39</td>\n",
              "    </tr>\n",
              "    <tr>\n",
              "      <th>3</th>\n",
              "      <td>Adil</td>\n",
              "      <td>Ghansar</td>\n",
              "      <td>50</td>\n",
              "      <td>65</td>\n",
              "    </tr>\n",
              "    <tr>\n",
              "      <th>4</th>\n",
              "      <td>Talha</td>\n",
              "      <td>Sayed</td>\n",
              "      <td>28</td>\n",
              "      <td>36</td>\n",
              "    </tr>\n",
              "  </tbody>\n",
              "</table>\n",
              "</div>"
            ],
            "text/plain": [
              "     FName    SName  Age  Salary\n",
              "0   Aaisha    Sayed   29      37\n",
              "1    Arif   Ghansar   45      58\n",
              "2  Faisal    Shaikh   30      39\n",
              "3     Adil  Ghansar   50      65\n",
              "4    Talha    Sayed   28      36"
            ]
          },
          "metadata": {
            "tags": []
          },
          "execution_count": 68
        }
      ]
    },
    {
      "cell_type": "code",
      "metadata": {
        "id": "GJeyodUOqHvh",
        "colab_type": "code",
        "colab": {
          "base_uri": "https://localhost:8080/",
          "height": 344
        },
        "outputId": "df50a801-ae85-405d-d120-12d48763b315"
      },
      "source": [
        "df34 = df3\n",
        "df34.groupby('SName').count()['FName'].plot(kind='bar',figsize=(6,4),width=0.4)\n",
        "plt.ylabel('Count of SName')\n",
        "plt.title('Plot of Count of SName vs SName')"
      ],
      "execution_count": 73,
      "outputs": [
        {
          "output_type": "execute_result",
          "data": {
            "text/plain": [
              "Text(0.5, 1.0, 'Plot of Count of SName vs SName')"
            ]
          },
          "metadata": {
            "tags": []
          },
          "execution_count": 73
        },
        {
          "output_type": "display_data",
          "data": {
            "image/png": "[encoded data removed]",
            "text/plain": [
              "<Figure size 432x288 with 1 Axes>"
            ]
          },
          "metadata": {
            "tags": [],
            "needs_background": "light"
          }
        }
      ]
    },
    {
      "cell_type": "code",
      "metadata": {
        "id": "ZH7EAocatiia",
        "colab_type": "code",
        "colab": {
          "base_uri": "https://localhost:8080/",
          "height": 200
        },
        "outputId": "8640c48c-1280-487e-8f64-6d3e92923a15"
      },
      "source": [
        "df34 = df3\n",
        "df34.head()"
      ],
      "execution_count": 74,
      "outputs": [
        {
          "output_type": "execute_result",
          "data": {
            "text/html": [
              "<div>\n",
              "<style scoped>\n",
              "    .dataframe tbody tr th:only-of-type {\n",
              "        vertical-align: middle;\n",
              "    }\n",
              "\n",
              "    .dataframe tbody tr th {\n",
              "        vertical-align: top;\n",
              "    }\n",
              "\n",
              "    .dataframe thead th {\n",
              "        text-align: right;\n",
              "    }\n",
              "</style>\n",
              "<table border=\"1\" class=\"dataframe\">\n",
              "  <thead>\n",
              "    <tr style=\"text-align: right;\">\n",
              "      <th></th>\n",
              "      <th>FName</th>\n",
              "      <th>SName</th>\n",
              "      <th>Age</th>\n",
              "      <th>Salary</th>\n",
              "    </tr>\n",
              "  </thead>\n",
              "  <tbody>\n",
              "    <tr>\n",
              "      <th>0</th>\n",
              "      <td>Aaisha</td>\n",
              "      <td>Sayed</td>\n",
              "      <td>29</td>\n",
              "      <td>37</td>\n",
              "    </tr>\n",
              "    <tr>\n",
              "      <th>1</th>\n",
              "      <td>Arif</td>\n",
              "      <td>Ghansar</td>\n",
              "      <td>45</td>\n",
              "      <td>58</td>\n",
              "    </tr>\n",
              "    <tr>\n",
              "      <th>2</th>\n",
              "      <td>Faisal</td>\n",
              "      <td>Shaikh</td>\n",
              "      <td>30</td>\n",
              "      <td>39</td>\n",
              "    </tr>\n",
              "    <tr>\n",
              "      <th>3</th>\n",
              "      <td>Adil</td>\n",
              "      <td>Ghansar</td>\n",
              "      <td>50</td>\n",
              "      <td>65</td>\n",
              "    </tr>\n",
              "    <tr>\n",
              "      <th>4</th>\n",
              "      <td>Talha</td>\n",
              "      <td>Sayed</td>\n",
              "      <td>28</td>\n",
              "      <td>36</td>\n",
              "    </tr>\n",
              "  </tbody>\n",
              "</table>\n",
              "</div>"
            ],
            "text/plain": [
              "     FName    SName  Age  Salary\n",
              "0   Aaisha    Sayed   29      37\n",
              "1    Arif   Ghansar   45      58\n",
              "2  Faisal    Shaikh   30      39\n",
              "3     Adil  Ghansar   50      65\n",
              "4    Talha    Sayed   28      36"
            ]
          },
          "metadata": {
            "tags": []
          },
          "execution_count": 74
        }
      ]
    },
    {
      "cell_type": "code",
      "metadata": {
        "id": "98Pr3lV-t0rO",
        "colab_type": "code",
        "colab": {
          "base_uri": "https://localhost:8080/",
          "height": 291
        },
        "outputId": "5ad60bf1-3acb-4a81-be28-7fbea8f74ce3"
      },
      "source": [
        "df34.groupby('FName').mean()"
      ],
      "execution_count": 75,
      "outputs": [
        {
          "output_type": "execute_result",
          "data": {
            "text/html": [
              "<div>\n",
              "<style scoped>\n",
              "    .dataframe tbody tr th:only-of-type {\n",
              "        vertical-align: middle;\n",
              "    }\n",
              "\n",
              "    .dataframe tbody tr th {\n",
              "        vertical-align: top;\n",
              "    }\n",
              "\n",
              "    .dataframe thead th {\n",
              "        text-align: right;\n",
              "    }\n",
              "</style>\n",
              "<table border=\"1\" class=\"dataframe\">\n",
              "  <thead>\n",
              "    <tr style=\"text-align: right;\">\n",
              "      <th></th>\n",
              "      <th>Age</th>\n",
              "      <th>Salary</th>\n",
              "    </tr>\n",
              "    <tr>\n",
              "      <th>FName</th>\n",
              "      <th></th>\n",
              "      <th></th>\n",
              "    </tr>\n",
              "  </thead>\n",
              "  <tbody>\n",
              "    <tr>\n",
              "      <th>Aaisha</th>\n",
              "      <td>29</td>\n",
              "      <td>37</td>\n",
              "    </tr>\n",
              "    <tr>\n",
              "      <th>Adil</th>\n",
              "      <td>50</td>\n",
              "      <td>65</td>\n",
              "    </tr>\n",
              "    <tr>\n",
              "      <th>Ali</th>\n",
              "      <td>22</td>\n",
              "      <td>28</td>\n",
              "    </tr>\n",
              "    <tr>\n",
              "      <th>Arif</th>\n",
              "      <td>45</td>\n",
              "      <td>58</td>\n",
              "    </tr>\n",
              "    <tr>\n",
              "      <th>Danish</th>\n",
              "      <td>25</td>\n",
              "      <td>32</td>\n",
              "    </tr>\n",
              "    <tr>\n",
              "      <th>Faisal</th>\n",
              "      <td>30</td>\n",
              "      <td>39</td>\n",
              "    </tr>\n",
              "    <tr>\n",
              "      <th>Talha</th>\n",
              "      <td>28</td>\n",
              "      <td>36</td>\n",
              "    </tr>\n",
              "  </tbody>\n",
              "</table>\n",
              "</div>"
            ],
            "text/plain": [
              "         Age  Salary\n",
              "FName               \n",
              "Aaisha    29      37\n",
              "Adil      50      65\n",
              "Ali       22      28\n",
              "Arif      45      58\n",
              "Danish    25      32\n",
              "Faisal    30      39\n",
              "Talha     28      36"
            ]
          },
          "metadata": {
            "tags": []
          },
          "execution_count": 75
        }
      ]
    },
    {
      "cell_type": "code",
      "metadata": {
        "id": "O3b1Tb4Mt-2j",
        "colab_type": "code",
        "colab": {
          "base_uri": "https://localhost:8080/",
          "height": 338
        },
        "outputId": "ddcc10c6-f388-41d2-8b64-ad199225e1f4"
      },
      "source": [
        "df34.groupby('FName').mean().plot(kind='bar',figsize=(6,4),width=0.4)\n",
        "plt.ylabel('Mean of Age & Salary')\n",
        "plt.title('Mean of Age & Salary vs FName')"
      ],
      "execution_count": 77,
      "outputs": [
        {
          "output_type": "execute_result",
          "data": {
            "text/plain": [
              "Text(0.5, 1.0, 'Mean of Age & Salary vs FName')"
            ]
          },
          "metadata": {
            "tags": []
          },
          "execution_count": 77
        },
        {
          "output_type": "display_data",
          "data": {
            "image/png": "[encoded data removed]",
            "text/plain": [
              "<Figure size 432x288 with 1 Axes>"
            ]
          },
          "metadata": {
            "tags": [],
            "needs_background": "light"
          }
        }
      ]
    },
    {
      "cell_type": "code",
      "metadata": {
        "id": "bakSRQB6u5Wm",
        "colab_type": "code",
        "colab": {
          "base_uri": "https://localhost:8080/",
          "height": 170
        },
        "outputId": "59690a49-12c1-4e24-bd22-59caface7ed7"
      },
      "source": [
        "df34.groupby('SName').mean()"
      ],
      "execution_count": 78,
      "outputs": [
        {
          "output_type": "execute_result",
          "data": {
            "text/html": [
              "<div>\n",
              "<style scoped>\n",
              "    .dataframe tbody tr th:only-of-type {\n",
              "        vertical-align: middle;\n",
              "    }\n",
              "\n",
              "    .dataframe tbody tr th {\n",
              "        vertical-align: top;\n",
              "    }\n",
              "\n",
              "    .dataframe thead th {\n",
              "        text-align: right;\n",
              "    }\n",
              "</style>\n",
              "<table border=\"1\" class=\"dataframe\">\n",
              "  <thead>\n",
              "    <tr style=\"text-align: right;\">\n",
              "      <th></th>\n",
              "      <th>Age</th>\n",
              "      <th>Salary</th>\n",
              "    </tr>\n",
              "    <tr>\n",
              "      <th>SName</th>\n",
              "      <th></th>\n",
              "      <th></th>\n",
              "    </tr>\n",
              "  </thead>\n",
              "  <tbody>\n",
              "    <tr>\n",
              "      <th>Ghansar</th>\n",
              "      <td>47.500000</td>\n",
              "      <td>61.500000</td>\n",
              "    </tr>\n",
              "    <tr>\n",
              "      <th>Sayed</th>\n",
              "      <td>26.333333</td>\n",
              "      <td>33.666667</td>\n",
              "    </tr>\n",
              "    <tr>\n",
              "      <th>Shaikh</th>\n",
              "      <td>27.500000</td>\n",
              "      <td>35.500000</td>\n",
              "    </tr>\n",
              "  </tbody>\n",
              "</table>\n",
              "</div>"
            ],
            "text/plain": [
              "               Age     Salary\n",
              "SName                        \n",
              "Ghansar  47.500000  61.500000\n",
              "Sayed    26.333333  33.666667\n",
              "Shaikh   27.500000  35.500000"
            ]
          },
          "metadata": {
            "tags": []
          },
          "execution_count": 78
        }
      ]
    },
    {
      "cell_type": "code",
      "metadata": {
        "id": "O9pWRVbOvEz2",
        "colab_type": "code",
        "colab": {
          "base_uri": "https://localhost:8080/",
          "height": 344
        },
        "outputId": "3b2cd19c-eb49-4924-e044-90b4f6fd2c24"
      },
      "source": [
        "df34.groupby('SName').mean().plot(kind='bar',figsize=(6,4),width=0.4)\n",
        "plt.ylabel('Mean of Age and Salary')\n",
        "plt.title('Mean of Age and Salary vs SName')"
      ],
      "execution_count": 79,
      "outputs": [
        {
          "output_type": "execute_result",
          "data": {
            "text/plain": [
              "Text(0.5, 1.0, 'Mean of Age and Salary vs SName')"
            ]
          },
          "metadata": {
            "tags": []
          },
          "execution_count": 79
        },
        {
          "output_type": "display_data",
          "data": {
            "image/png": "[encoded data removed]",
            "text/plain": [
              "<Figure size 432x288 with 1 Axes>"
            ]
          },
          "metadata": {
            "tags": [],
            "needs_background": "light"
          }
        }
      ]
    },
    {
      "cell_type": "markdown",
      "metadata": {
        "id": "qTVH7_7YmyDX",
        "colab_type": "text"
      },
      "source": [
        "Let's try this sample."
      ]
    },
    {
      "cell_type": "code",
      "metadata": {
        "id": "ixgDWLlbm1z7",
        "colab_type": "code",
        "colab": {}
      },
      "source": [
        "df = pd.DataFrame({\"A\": [1, 2, 3], \"B\": [4, 5, 6]})\n",
        "df.rename(columns={\"A\": \"a\", \"B\": \"c\"})"
      ],
      "execution_count": 0,
      "outputs": []
    },
    {
      "cell_type": "code",
      "metadata": {
        "id": "Y2EtGf_fm6f6",
        "colab_type": "code",
        "colab": {
          "base_uri": "https://localhost:8080/",
          "height": 139
        },
        "outputId": "16ac4b77-bb50-4f7f-8474-05248058a2d4"
      },
      "source": [
        "dfx = pd.DataFrame({\"A\": [1, 2, 3], \"B\": [4, 5, 6]})\n",
        "dfx.head()"
      ],
      "execution_count": 61,
      "outputs": [
        {
          "output_type": "execute_result",
          "data": {
            "text/html": [
              "<div>\n",
              "<style scoped>\n",
              "    .dataframe tbody tr th:only-of-type {\n",
              "        vertical-align: middle;\n",
              "    }\n",
              "\n",
              "    .dataframe tbody tr th {\n",
              "        vertical-align: top;\n",
              "    }\n",
              "\n",
              "    .dataframe thead th {\n",
              "        text-align: right;\n",
              "    }\n",
              "</style>\n",
              "<table border=\"1\" class=\"dataframe\">\n",
              "  <thead>\n",
              "    <tr style=\"text-align: right;\">\n",
              "      <th></th>\n",
              "      <th>A</th>\n",
              "      <th>B</th>\n",
              "    </tr>\n",
              "  </thead>\n",
              "  <tbody>\n",
              "    <tr>\n",
              "      <th>0</th>\n",
              "      <td>1</td>\n",
              "      <td>4</td>\n",
              "    </tr>\n",
              "    <tr>\n",
              "      <th>1</th>\n",
              "      <td>2</td>\n",
              "      <td>5</td>\n",
              "    </tr>\n",
              "    <tr>\n",
              "      <th>2</th>\n",
              "      <td>3</td>\n",
              "      <td>6</td>\n",
              "    </tr>\n",
              "  </tbody>\n",
              "</table>\n",
              "</div>"
            ],
            "text/plain": [
              "   A  B\n",
              "0  1  4\n",
              "1  2  5\n",
              "2  3  6"
            ]
          },
          "metadata": {
            "tags": []
          },
          "execution_count": 61
        }
      ]
    },
    {
      "cell_type": "code",
      "metadata": {
        "id": "1mACTZ-oj3bk",
        "colab_type": "code",
        "colab": {
          "base_uri": "https://localhost:8080/",
          "height": 139
        },
        "outputId": "87127ab2-46b4-437a-8c47-b782062a7d8a"
      },
      "source": [
        "dfx.rename(columns={\"A\": \"a\", \"B\": \"c\"})\n",
        "dfx.head()"
      ],
      "execution_count": 64,
      "outputs": [
        {
          "output_type": "execute_result",
          "data": {
            "text/html": [
              "<div>\n",
              "<style scoped>\n",
              "    .dataframe tbody tr th:only-of-type {\n",
              "        vertical-align: middle;\n",
              "    }\n",
              "\n",
              "    .dataframe tbody tr th {\n",
              "        vertical-align: top;\n",
              "    }\n",
              "\n",
              "    .dataframe thead th {\n",
              "        text-align: right;\n",
              "    }\n",
              "</style>\n",
              "<table border=\"1\" class=\"dataframe\">\n",
              "  <thead>\n",
              "    <tr style=\"text-align: right;\">\n",
              "      <th></th>\n",
              "      <th>A</th>\n",
              "      <th>B</th>\n",
              "    </tr>\n",
              "  </thead>\n",
              "  <tbody>\n",
              "    <tr>\n",
              "      <th>0</th>\n",
              "      <td>1</td>\n",
              "      <td>4</td>\n",
              "    </tr>\n",
              "    <tr>\n",
              "      <th>1</th>\n",
              "      <td>2</td>\n",
              "      <td>5</td>\n",
              "    </tr>\n",
              "    <tr>\n",
              "      <th>2</th>\n",
              "      <td>3</td>\n",
              "      <td>6</td>\n",
              "    </tr>\n",
              "  </tbody>\n",
              "</table>\n",
              "</div>"
            ],
            "text/plain": [
              "   A  B\n",
              "0  1  4\n",
              "1  2  5\n",
              "2  3  6"
            ]
          },
          "metadata": {
            "tags": []
          },
          "execution_count": 64
        }
      ]
    },
    {
      "cell_type": "markdown",
      "metadata": {
        "id": "ufcOt6g9G24A",
        "colab_type": "text"
      },
      "source": [
        "# **Conclusion**"
      ]
    },
    {
      "cell_type": "markdown",
      "metadata": {
        "id": "jnZ_zxkFG71e",
        "colab_type": "text"
      },
      "source": [
        "# **How Chart works**"
      ]
    },
    {
      "cell_type": "markdown",
      "metadata": {
        "id": "THNrNIFtHGGx",
        "colab_type": "text"
      },
      "source": [
        "**X-axis**\n",
        "\n",
        "Always the row index 0,1,2,3 so on\n",
        "\n",
        "Actually it takes the index on X-axis.\n",
        "\n",
        "If no index then, the default index is 0,1,2,...\n",
        "\n",
        "If a column is set as an index, then the column values will be displayed across X-axis\n",
        "\n",
        "**Y-axis**\n",
        "\n",
        "1-Always columns\n",
        "\n",
        "2-All columns in the dataframe\n",
        "\n",
        "3-Only columns with numeric data is considered\n",
        "\n",
        "4-Columns with text data will be ignored.\n"
      ]
    },
    {
      "cell_type": "code",
      "metadata": {
        "id": "S3u5s97oUunE",
        "colab_type": "code",
        "colab": {
          "base_uri": "https://localhost:8080/",
          "height": 200
        },
        "outputId": "9eed9510-e3ae-4ea0-8337-4d18c96c6ea5"
      },
      "source": [
        "df8 = pd.read_csv(\"Family2.csv\")\n",
        "df8.head()"
      ],
      "execution_count": 65,
      "outputs": [
        {
          "output_type": "execute_result",
          "data": {
            "text/html": [
              "<div>\n",
              "<style scoped>\n",
              "    .dataframe tbody tr th:only-of-type {\n",
              "        vertical-align: middle;\n",
              "    }\n",
              "\n",
              "    .dataframe tbody tr th {\n",
              "        vertical-align: top;\n",
              "    }\n",
              "\n",
              "    .dataframe thead th {\n",
              "        text-align: right;\n",
              "    }\n",
              "</style>\n",
              "<table border=\"1\" class=\"dataframe\">\n",
              "  <thead>\n",
              "    <tr style=\"text-align: right;\">\n",
              "      <th></th>\n",
              "      <th>FName</th>\n",
              "      <th>Sname</th>\n",
              "      <th>Age</th>\n",
              "      <th>Salary</th>\n",
              "    </tr>\n",
              "  </thead>\n",
              "  <tbody>\n",
              "    <tr>\n",
              "      <th>0</th>\n",
              "      <td>Aaisha</td>\n",
              "      <td>Sayed</td>\n",
              "      <td>29</td>\n",
              "      <td>37</td>\n",
              "    </tr>\n",
              "    <tr>\n",
              "      <th>1</th>\n",
              "      <td>Talha</td>\n",
              "      <td>Sayed</td>\n",
              "      <td>28</td>\n",
              "      <td>36</td>\n",
              "    </tr>\n",
              "    <tr>\n",
              "      <th>2</th>\n",
              "      <td>Ali</td>\n",
              "      <td>Sayed</td>\n",
              "      <td>22</td>\n",
              "      <td>28</td>\n",
              "    </tr>\n",
              "    <tr>\n",
              "      <th>3</th>\n",
              "      <td>Faisal</td>\n",
              "      <td>Shaikh</td>\n",
              "      <td>30</td>\n",
              "      <td>39</td>\n",
              "    </tr>\n",
              "    <tr>\n",
              "      <th>4</th>\n",
              "      <td>Danish</td>\n",
              "      <td>Shaikh</td>\n",
              "      <td>25</td>\n",
              "      <td>32</td>\n",
              "    </tr>\n",
              "  </tbody>\n",
              "</table>\n",
              "</div>"
            ],
            "text/plain": [
              "     FName   Sname  Age  Salary\n",
              "0   Aaisha   Sayed   29      37\n",
              "1    Talha   Sayed   28      36\n",
              "2      Ali   Sayed   22      28\n",
              "3  Faisal   Shaikh   30      39\n",
              "4   Danish  Shaikh   25      32"
            ]
          },
          "metadata": {
            "tags": []
          },
          "execution_count": 65
        }
      ]
    },
    {
      "cell_type": "code",
      "metadata": {
        "id": "s2aie8AYVGEf",
        "colab_type": "code",
        "colab": {
          "base_uri": "https://localhost:8080/",
          "height": 170
        },
        "outputId": "36a61746-a8c3-465f-a971-2d3073dc2e33"
      },
      "source": [
        "df8.groupby(\"Sname\").count()"
      ],
      "execution_count": 66,
      "outputs": [
        {
          "output_type": "execute_result",
          "data": {
            "text/html": [
              "<div>\n",
              "<style scoped>\n",
              "    .dataframe tbody tr th:only-of-type {\n",
              "        vertical-align: middle;\n",
              "    }\n",
              "\n",
              "    .dataframe tbody tr th {\n",
              "        vertical-align: top;\n",
              "    }\n",
              "\n",
              "    .dataframe thead th {\n",
              "        text-align: right;\n",
              "    }\n",
              "</style>\n",
              "<table border=\"1\" class=\"dataframe\">\n",
              "  <thead>\n",
              "    <tr style=\"text-align: right;\">\n",
              "      <th></th>\n",
              "      <th>FName</th>\n",
              "      <th>Age</th>\n",
              "      <th>Salary</th>\n",
              "    </tr>\n",
              "    <tr>\n",
              "      <th>Sname</th>\n",
              "      <th></th>\n",
              "      <th></th>\n",
              "      <th></th>\n",
              "    </tr>\n",
              "  </thead>\n",
              "  <tbody>\n",
              "    <tr>\n",
              "      <th>Ghansar</th>\n",
              "      <td>2</td>\n",
              "      <td>2</td>\n",
              "      <td>2</td>\n",
              "    </tr>\n",
              "    <tr>\n",
              "      <th>Sayed</th>\n",
              "      <td>3</td>\n",
              "      <td>3</td>\n",
              "      <td>3</td>\n",
              "    </tr>\n",
              "    <tr>\n",
              "      <th>Shaikh</th>\n",
              "      <td>2</td>\n",
              "      <td>2</td>\n",
              "      <td>2</td>\n",
              "    </tr>\n",
              "  </tbody>\n",
              "</table>\n",
              "</div>"
            ],
            "text/plain": [
              "         FName  Age  Salary\n",
              "Sname                      \n",
              "Ghansar      2    2       2\n",
              "Sayed        3    3       3\n",
              "Shaikh       2    2       2"
            ]
          },
          "metadata": {
            "tags": []
          },
          "execution_count": 66
        }
      ]
    },
    {
      "cell_type": "code",
      "metadata": {
        "id": "rUWzovswVSbP",
        "colab_type": "code",
        "colab": {
          "base_uri": "https://localhost:8080/",
          "height": 327
        },
        "outputId": "6641c7ee-491c-4caf-9ceb-ac0dc3556844"
      },
      "source": [
        "df8.groupby(\"Sname\").count().plot(kind='bar', figsize=(4, 4), width=(0.2))\n",
        "plt.xlabel('Family Name') \n",
        "plt.ylabel('Count') \n",
        "plt.title('How many memeber in each faily') \n",
        "plt.show()"
      ],
      "execution_count": 67,
      "outputs": [
        {
          "output_type": "display_data",
          "data": {
            "image/png": "[encoded data removed]",
            "text/plain": [
              "<Figure size 288x288 with 1 Axes>"
            ]
          },
          "metadata": {
            "tags": [],
            "needs_background": "light"
          }
        }
      ]
    },
    {
      "cell_type": "code",
      "metadata": {
        "id": "lAQurjF6W0jL",
        "colab_type": "code",
        "colab": {
          "base_uri": "https://localhost:8080/",
          "height": 291
        },
        "outputId": "3b16a0b3-a5bb-42a6-f811-9b2e37e7edff"
      },
      "source": [
        "df8.groupby(\"FName\").sum()"
      ],
      "execution_count": 68,
      "outputs": [
        {
          "output_type": "execute_result",
          "data": {
            "text/html": [
              "<div>\n",
              "<style scoped>\n",
              "    .dataframe tbody tr th:only-of-type {\n",
              "        vertical-align: middle;\n",
              "    }\n",
              "\n",
              "    .dataframe tbody tr th {\n",
              "        vertical-align: top;\n",
              "    }\n",
              "\n",
              "    .dataframe thead th {\n",
              "        text-align: right;\n",
              "    }\n",
              "</style>\n",
              "<table border=\"1\" class=\"dataframe\">\n",
              "  <thead>\n",
              "    <tr style=\"text-align: right;\">\n",
              "      <th></th>\n",
              "      <th>Age</th>\n",
              "      <th>Salary</th>\n",
              "    </tr>\n",
              "    <tr>\n",
              "      <th>FName</th>\n",
              "      <th></th>\n",
              "      <th></th>\n",
              "    </tr>\n",
              "  </thead>\n",
              "  <tbody>\n",
              "    <tr>\n",
              "      <th>Aaisha</th>\n",
              "      <td>29</td>\n",
              "      <td>37</td>\n",
              "    </tr>\n",
              "    <tr>\n",
              "      <th>Adil</th>\n",
              "      <td>50</td>\n",
              "      <td>65</td>\n",
              "    </tr>\n",
              "    <tr>\n",
              "      <th>Ali</th>\n",
              "      <td>22</td>\n",
              "      <td>28</td>\n",
              "    </tr>\n",
              "    <tr>\n",
              "      <th>Arif</th>\n",
              "      <td>45</td>\n",
              "      <td>58</td>\n",
              "    </tr>\n",
              "    <tr>\n",
              "      <th>Danish</th>\n",
              "      <td>25</td>\n",
              "      <td>32</td>\n",
              "    </tr>\n",
              "    <tr>\n",
              "      <th>Faisal</th>\n",
              "      <td>30</td>\n",
              "      <td>39</td>\n",
              "    </tr>\n",
              "    <tr>\n",
              "      <th>Talha</th>\n",
              "      <td>28</td>\n",
              "      <td>36</td>\n",
              "    </tr>\n",
              "  </tbody>\n",
              "</table>\n",
              "</div>"
            ],
            "text/plain": [
              "         Age  Salary\n",
              "FName               \n",
              "Aaisha    29      37\n",
              "Adil      50      65\n",
              "Ali       22      28\n",
              "Arif      45      58\n",
              "Danish    25      32\n",
              "Faisal    30      39\n",
              "Talha     28      36"
            ]
          },
          "metadata": {
            "tags": []
          },
          "execution_count": 68
        }
      ]
    },
    {
      "cell_type": "code",
      "metadata": {
        "id": "NQnIE9FeXdaW",
        "colab_type": "code",
        "colab": {
          "base_uri": "https://localhost:8080/",
          "height": 320
        },
        "outputId": "8bd9119d-34c5-47ad-d839-34ad6b74c54a"
      },
      "source": [
        "df8.groupby(\"FName\").sum().plot(kind='bar', figsize=(4, 4), width=(0.6))\n",
        "plt.xlabel('Name') \n",
        "plt.ylabel('Age and Salary') \n",
        "plt.title('Age and Salary of each person') \n",
        "plt.show()"
      ],
      "execution_count": 71,
      "outputs": [
        {
          "output_type": "display_data",
          "data": {
            "image/png": "[encoded data removed]",
            "text/plain": [
              "<Figure size 288x288 with 1 Axes>"
            ]
          },
          "metadata": {
            "tags": [],
            "needs_background": "light"
          }
        }
      ]
    },
    {
      "cell_type": "markdown",
      "metadata": {
        "id": "vwies-cIJb9N",
        "colab_type": "text"
      },
      "source": [
        "Look column Eye is ignored due to text value in just one row."
      ]
    },
    {
      "cell_type": "code",
      "metadata": {
        "id": "m7Ci5lkGZWqk",
        "colab_type": "code",
        "colab": {
          "base_uri": "https://localhost:8080/",
          "height": 200
        },
        "outputId": "7f925e1c-74ab-4230-e507-eff1294425bb"
      },
      "source": [
        "df1.head()"
      ],
      "execution_count": 72,
      "outputs": [
        {
          "output_type": "execute_result",
          "data": {
            "text/html": [
              "<div>\n",
              "<style scoped>\n",
              "    .dataframe tbody tr th:only-of-type {\n",
              "        vertical-align: middle;\n",
              "    }\n",
              "\n",
              "    .dataframe tbody tr th {\n",
              "        vertical-align: top;\n",
              "    }\n",
              "\n",
              "    .dataframe thead th {\n",
              "        text-align: right;\n",
              "    }\n",
              "</style>\n",
              "<table border=\"1\" class=\"dataframe\">\n",
              "  <thead>\n",
              "    <tr style=\"text-align: right;\">\n",
              "      <th></th>\n",
              "      <th>Unnamed: 0</th>\n",
              "      <th>index</th>\n",
              "      <th>Neighborhood</th>\n",
              "      <th>Borough</th>\n",
              "      <th>Latitude</th>\n",
              "      <th>Longitude</th>\n",
              "    </tr>\n",
              "  </thead>\n",
              "  <tbody>\n",
              "    <tr>\n",
              "      <th>0</th>\n",
              "      <td>0</td>\n",
              "      <td>0</td>\n",
              "      <td>Colaba</td>\n",
              "      <td>South Mumbai</td>\n",
              "      <td>18.915091</td>\n",
              "      <td>72.825969</td>\n",
              "    </tr>\n",
              "    <tr>\n",
              "      <th>1</th>\n",
              "      <td>1</td>\n",
              "      <td>1</td>\n",
              "      <td>Apollo Bandar</td>\n",
              "      <td>South Mumbai</td>\n",
              "      <td>18.918375</td>\n",
              "      <td>72.831443</td>\n",
              "    </tr>\n",
              "    <tr>\n",
              "      <th>2</th>\n",
              "      <td>2</td>\n",
              "      <td>2</td>\n",
              "      <td>Fort</td>\n",
              "      <td>South Mumbai</td>\n",
              "      <td>18.933267</td>\n",
              "      <td>72.834515</td>\n",
              "    </tr>\n",
              "    <tr>\n",
              "      <th>3</th>\n",
              "      <td>3</td>\n",
              "      <td>3</td>\n",
              "      <td>Churchgate</td>\n",
              "      <td>South Mumbai</td>\n",
              "      <td>18.935957</td>\n",
              "      <td>72.827340</td>\n",
              "    </tr>\n",
              "    <tr>\n",
              "      <th>4</th>\n",
              "      <td>4</td>\n",
              "      <td>4</td>\n",
              "      <td>Nariman Point</td>\n",
              "      <td>South Mumbai</td>\n",
              "      <td>18.925951</td>\n",
              "      <td>72.823208</td>\n",
              "    </tr>\n",
              "  </tbody>\n",
              "</table>\n",
              "</div>"
            ],
            "text/plain": [
              "   Unnamed: 0  index   Neighborhood       Borough   Latitude  Longitude\n",
              "0           0      0         Colaba  South Mumbai  18.915091  72.825969\n",
              "1           1      1  Apollo Bandar  South Mumbai  18.918375  72.831443\n",
              "2           2      2           Fort  South Mumbai  18.933267  72.834515\n",
              "3           3      3     Churchgate  South Mumbai  18.935957  72.827340\n",
              "4           4      4  Nariman Point  South Mumbai  18.925951  72.823208"
            ]
          },
          "metadata": {
            "tags": []
          },
          "execution_count": 72
        }
      ]
    },
    {
      "cell_type": "code",
      "metadata": {
        "id": "yxeiDqbeZc8e",
        "colab_type": "code",
        "colab": {}
      },
      "source": [
        "df9 = df1"
      ],
      "execution_count": 0,
      "outputs": []
    },
    {
      "cell_type": "code",
      "metadata": {
        "id": "JejTGEspZf_v",
        "colab_type": "code",
        "colab": {
          "base_uri": "https://localhost:8080/",
          "height": 1000
        },
        "outputId": "8f6948bb-dff7-4c40-d667-64e34a290ae9"
      },
      "source": [
        "df9.set_index(\"Neighborhood\")"
      ],
      "execution_count": 75,
      "outputs": [
        {
          "output_type": "execute_result",
          "data": {
            "text/html": [
              "<div>\n",
              "<style scoped>\n",
              "    .dataframe tbody tr th:only-of-type {\n",
              "        vertical-align: middle;\n",
              "    }\n",
              "\n",
              "    .dataframe tbody tr th {\n",
              "        vertical-align: top;\n",
              "    }\n",
              "\n",
              "    .dataframe thead th {\n",
              "        text-align: right;\n",
              "    }\n",
              "</style>\n",
              "<table border=\"1\" class=\"dataframe\">\n",
              "  <thead>\n",
              "    <tr style=\"text-align: right;\">\n",
              "      <th></th>\n",
              "      <th>Unnamed: 0</th>\n",
              "      <th>index</th>\n",
              "      <th>Borough</th>\n",
              "      <th>Latitude</th>\n",
              "      <th>Longitude</th>\n",
              "    </tr>\n",
              "    <tr>\n",
              "      <th>Neighborhood</th>\n",
              "      <th></th>\n",
              "      <th></th>\n",
              "      <th></th>\n",
              "      <th></th>\n",
              "      <th></th>\n",
              "    </tr>\n",
              "  </thead>\n",
              "  <tbody>\n",
              "    <tr>\n",
              "      <th>Colaba</th>\n",
              "      <td>0</td>\n",
              "      <td>0</td>\n",
              "      <td>South Mumbai</td>\n",
              "      <td>18.915091</td>\n",
              "      <td>72.825969</td>\n",
              "    </tr>\n",
              "    <tr>\n",
              "      <th>Apollo Bandar</th>\n",
              "      <td>1</td>\n",
              "      <td>1</td>\n",
              "      <td>South Mumbai</td>\n",
              "      <td>18.918375</td>\n",
              "      <td>72.831443</td>\n",
              "    </tr>\n",
              "    <tr>\n",
              "      <th>Fort</th>\n",
              "      <td>2</td>\n",
              "      <td>2</td>\n",
              "      <td>South Mumbai</td>\n",
              "      <td>18.933267</td>\n",
              "      <td>72.834515</td>\n",
              "    </tr>\n",
              "    <tr>\n",
              "      <th>Churchgate</th>\n",
              "      <td>3</td>\n",
              "      <td>3</td>\n",
              "      <td>South Mumbai</td>\n",
              "      <td>18.935957</td>\n",
              "      <td>72.827340</td>\n",
              "    </tr>\n",
              "    <tr>\n",
              "      <th>Nariman Point</th>\n",
              "      <td>4</td>\n",
              "      <td>4</td>\n",
              "      <td>South Mumbai</td>\n",
              "      <td>18.925951</td>\n",
              "      <td>72.823208</td>\n",
              "    </tr>\n",
              "    <tr>\n",
              "      <th>Marine Lines</th>\n",
              "      <td>5</td>\n",
              "      <td>5</td>\n",
              "      <td>South Mumbai</td>\n",
              "      <td>18.945670</td>\n",
              "      <td>72.823781</td>\n",
              "    </tr>\n",
              "    <tr>\n",
              "      <th>Walkeshwar</th>\n",
              "      <td>6</td>\n",
              "      <td>6</td>\n",
              "      <td>South Mumbai</td>\n",
              "      <td>18.955343</td>\n",
              "      <td>72.807947</td>\n",
              "    </tr>\n",
              "    <tr>\n",
              "      <th>Malabar Hill</th>\n",
              "      <td>7</td>\n",
              "      <td>7</td>\n",
              "      <td>South Mumbai</td>\n",
              "      <td>18.958162</td>\n",
              "      <td>72.803367</td>\n",
              "    </tr>\n",
              "    <tr>\n",
              "      <th>Kalbadevi</th>\n",
              "      <td>8</td>\n",
              "      <td>8</td>\n",
              "      <td>South Mumbai</td>\n",
              "      <td>18.949258</td>\n",
              "      <td>72.827938</td>\n",
              "    </tr>\n",
              "    <tr>\n",
              "      <th>Bhuleshwar</th>\n",
              "      <td>9</td>\n",
              "      <td>9</td>\n",
              "      <td>South Mumbai</td>\n",
              "      <td>18.953771</td>\n",
              "      <td>72.827476</td>\n",
              "    </tr>\n",
              "    <tr>\n",
              "      <th>Masjid Bandar</th>\n",
              "      <td>10</td>\n",
              "      <td>10</td>\n",
              "      <td>South Mumbai</td>\n",
              "      <td>18.953599</td>\n",
              "      <td>72.838126</td>\n",
              "    </tr>\n",
              "    <tr>\n",
              "      <th>Darukhana</th>\n",
              "      <td>11</td>\n",
              "      <td>11</td>\n",
              "      <td>South Mumbai</td>\n",
              "      <td>18.977036</td>\n",
              "      <td>72.849077</td>\n",
              "    </tr>\n",
              "    <tr>\n",
              "      <th>Pydhoni</th>\n",
              "      <td>12</td>\n",
              "      <td>12</td>\n",
              "      <td>South Mumbai</td>\n",
              "      <td>18.953994</td>\n",
              "      <td>72.832379</td>\n",
              "    </tr>\n",
              "    <tr>\n",
              "      <th>Nagpada</th>\n",
              "      <td>13</td>\n",
              "      <td>13</td>\n",
              "      <td>South Mumbai</td>\n",
              "      <td>18.968178</td>\n",
              "      <td>72.828601</td>\n",
              "    </tr>\n",
              "    <tr>\n",
              "      <th>Dongri</th>\n",
              "      <td>14</td>\n",
              "      <td>14</td>\n",
              "      <td>South Mumbai</td>\n",
              "      <td>18.962226</td>\n",
              "      <td>72.836795</td>\n",
              "    </tr>\n",
              "    <tr>\n",
              "      <th>Byculla</th>\n",
              "      <td>15</td>\n",
              "      <td>15</td>\n",
              "      <td>South Mumbai</td>\n",
              "      <td>18.976622</td>\n",
              "      <td>72.832794</td>\n",
              "    </tr>\n",
              "    <tr>\n",
              "      <th>Grand Road</th>\n",
              "      <td>16</td>\n",
              "      <td>16</td>\n",
              "      <td>South Mumbai</td>\n",
              "      <td>18.938771</td>\n",
              "      <td>72.835335</td>\n",
              "    </tr>\n",
              "    <tr>\n",
              "      <th>Mazgaon</th>\n",
              "      <td>17</td>\n",
              "      <td>17</td>\n",
              "      <td>South Mumbai</td>\n",
              "      <td>18.968052</td>\n",
              "      <td>72.840012</td>\n",
              "    </tr>\n",
              "    <tr>\n",
              "      <th>Mumbai Central</th>\n",
              "      <td>18</td>\n",
              "      <td>18</td>\n",
              "      <td>South Mumbai</td>\n",
              "      <td>18.969586</td>\n",
              "      <td>72.819315</td>\n",
              "    </tr>\n",
              "    <tr>\n",
              "      <th>Mahalaxmi</th>\n",
              "      <td>19</td>\n",
              "      <td>19</td>\n",
              "      <td>South Mumbai</td>\n",
              "      <td>18.982568</td>\n",
              "      <td>72.824160</td>\n",
              "    </tr>\n",
              "    <tr>\n",
              "      <th>Worli</th>\n",
              "      <td>20</td>\n",
              "      <td>20</td>\n",
              "      <td>South Mumbai</td>\n",
              "      <td>19.011696</td>\n",
              "      <td>72.818070</td>\n",
              "    </tr>\n",
              "    <tr>\n",
              "      <th>Dadar</th>\n",
              "      <td>21</td>\n",
              "      <td>21</td>\n",
              "      <td>West Mumbai</td>\n",
              "      <td>19.019282</td>\n",
              "      <td>72.842876</td>\n",
              "    </tr>\n",
              "    <tr>\n",
              "      <th>Bandra West</th>\n",
              "      <td>22</td>\n",
              "      <td>22</td>\n",
              "      <td>West Mumbai</td>\n",
              "      <td>19.058336</td>\n",
              "      <td>72.830267</td>\n",
              "    </tr>\n",
              "    <tr>\n",
              "      <th>Juhu</th>\n",
              "      <td>23</td>\n",
              "      <td>23</td>\n",
              "      <td>West Mumbai</td>\n",
              "      <td>19.107021</td>\n",
              "      <td>72.827528</td>\n",
              "    </tr>\n",
              "    <tr>\n",
              "      <th>Andheri</th>\n",
              "      <td>24</td>\n",
              "      <td>24</td>\n",
              "      <td>West Mumbai</td>\n",
              "      <td>19.119698</td>\n",
              "      <td>72.846420</td>\n",
              "    </tr>\n",
              "    <tr>\n",
              "      <th>Kalina</th>\n",
              "      <td>25</td>\n",
              "      <td>25</td>\n",
              "      <td>West Mumbai</td>\n",
              "      <td>19.079273</td>\n",
              "      <td>72.861267</td>\n",
              "    </tr>\n",
              "    <tr>\n",
              "      <th>Santa Cruz</th>\n",
              "      <td>26</td>\n",
              "      <td>26</td>\n",
              "      <td>West Mumbai</td>\n",
              "      <td>19.079369</td>\n",
              "      <td>72.847085</td>\n",
              "    </tr>\n",
              "    <tr>\n",
              "      <th>Mahim</th>\n",
              "      <td>27</td>\n",
              "      <td>27</td>\n",
              "      <td>West Mumbai</td>\n",
              "      <td>19.042314</td>\n",
              "      <td>72.839834</td>\n",
              "    </tr>\n",
              "    <tr>\n",
              "      <th>Khar</th>\n",
              "      <td>28</td>\n",
              "      <td>28</td>\n",
              "      <td>West Mumbai</td>\n",
              "      <td>19.069658</td>\n",
              "      <td>72.839894</td>\n",
              "    </tr>\n",
              "    <tr>\n",
              "      <th>Kurla</th>\n",
              "      <td>29</td>\n",
              "      <td>29</td>\n",
              "      <td>East Mumbai</td>\n",
              "      <td>19.065280</td>\n",
              "      <td>72.879381</td>\n",
              "    </tr>\n",
              "    <tr>\n",
              "      <th>Ghatkopar</th>\n",
              "      <td>30</td>\n",
              "      <td>30</td>\n",
              "      <td>East Mumbai</td>\n",
              "      <td>19.085954</td>\n",
              "      <td>72.908238</td>\n",
              "    </tr>\n",
              "    <tr>\n",
              "      <th>Chembur</th>\n",
              "      <td>31</td>\n",
              "      <td>31</td>\n",
              "      <td>East Mumbai</td>\n",
              "      <td>19.061213</td>\n",
              "      <td>72.897591</td>\n",
              "    </tr>\n",
              "    <tr>\n",
              "      <th>Govandi</th>\n",
              "      <td>32</td>\n",
              "      <td>32</td>\n",
              "      <td>East Mumbai</td>\n",
              "      <td>19.055369</td>\n",
              "      <td>72.915070</td>\n",
              "    </tr>\n",
              "    <tr>\n",
              "      <th>Mulund West</th>\n",
              "      <td>33</td>\n",
              "      <td>33</td>\n",
              "      <td>East Mumbai</td>\n",
              "      <td>19.171972</td>\n",
              "      <td>72.951196</td>\n",
              "    </tr>\n",
              "    <tr>\n",
              "      <th>Powai</th>\n",
              "      <td>34</td>\n",
              "      <td>34</td>\n",
              "      <td>North Mumbai</td>\n",
              "      <td>19.118720</td>\n",
              "      <td>72.907348</td>\n",
              "    </tr>\n",
              "    <tr>\n",
              "      <th>Jogeshwari</th>\n",
              "      <td>35</td>\n",
              "      <td>35</td>\n",
              "      <td>North Mumbai</td>\n",
              "      <td>19.134899</td>\n",
              "      <td>72.848820</td>\n",
              "    </tr>\n",
              "    <tr>\n",
              "      <th>Malad</th>\n",
              "      <td>36</td>\n",
              "      <td>36</td>\n",
              "      <td>North Mumbai</td>\n",
              "      <td>19.186719</td>\n",
              "      <td>72.848588</td>\n",
              "    </tr>\n",
              "    <tr>\n",
              "      <th>Borivali</th>\n",
              "      <td>37</td>\n",
              "      <td>37</td>\n",
              "      <td>North Mumbai</td>\n",
              "      <td>19.229068</td>\n",
              "      <td>72.857363</td>\n",
              "    </tr>\n",
              "    <tr>\n",
              "      <th>Mira Road</th>\n",
              "      <td>38</td>\n",
              "      <td>38</td>\n",
              "      <td>North Mumbai</td>\n",
              "      <td>19.187896</td>\n",
              "      <td>72.836596</td>\n",
              "    </tr>\n",
              "  </tbody>\n",
              "</table>\n",
              "</div>"
            ],
            "text/plain": [
              "                Unnamed: 0  index       Borough   Latitude  Longitude\n",
              "Neighborhood                                                         \n",
              "Colaba                   0      0  South Mumbai  18.915091  72.825969\n",
              "Apollo Bandar            1      1  South Mumbai  18.918375  72.831443\n",
              "Fort                     2      2  South Mumbai  18.933267  72.834515\n",
              "Churchgate               3      3  South Mumbai  18.935957  72.827340\n",
              "Nariman Point            4      4  South Mumbai  18.925951  72.823208\n",
              "Marine Lines             5      5  South Mumbai  18.945670  72.823781\n",
              "Walkeshwar               6      6  South Mumbai  18.955343  72.807947\n",
              "Malabar Hill             7      7  South Mumbai  18.958162  72.803367\n",
              "Kalbadevi                8      8  South Mumbai  18.949258  72.827938\n",
              "Bhuleshwar               9      9  South Mumbai  18.953771  72.827476\n",
              "Masjid Bandar           10     10  South Mumbai  18.953599  72.838126\n",
              "Darukhana               11     11  South Mumbai  18.977036  72.849077\n",
              "Pydhoni                 12     12  South Mumbai  18.953994  72.832379\n",
              "Nagpada                 13     13  South Mumbai  18.968178  72.828601\n",
              "Dongri                  14     14  South Mumbai  18.962226  72.836795\n",
              "Byculla                 15     15  South Mumbai  18.976622  72.832794\n",
              "Grand Road              16     16  South Mumbai  18.938771  72.835335\n",
              "Mazgaon                 17     17  South Mumbai  18.968052  72.840012\n",
              "Mumbai Central          18     18  South Mumbai  18.969586  72.819315\n",
              "Mahalaxmi               19     19  South Mumbai  18.982568  72.824160\n",
              "Worli                   20     20  South Mumbai  19.011696  72.818070\n",
              "Dadar                   21     21   West Mumbai  19.019282  72.842876\n",
              "Bandra West             22     22   West Mumbai  19.058336  72.830267\n",
              "Juhu                    23     23   West Mumbai  19.107021  72.827528\n",
              "Andheri                 24     24   West Mumbai  19.119698  72.846420\n",
              "Kalina                  25     25   West Mumbai  19.079273  72.861267\n",
              "Santa Cruz              26     26   West Mumbai  19.079369  72.847085\n",
              "Mahim                   27     27   West Mumbai  19.042314  72.839834\n",
              "Khar                    28     28   West Mumbai  19.069658  72.839894\n",
              "Kurla                   29     29   East Mumbai  19.065280  72.879381\n",
              "Ghatkopar               30     30   East Mumbai  19.085954  72.908238\n",
              "Chembur                 31     31   East Mumbai  19.061213  72.897591\n",
              "Govandi                 32     32   East Mumbai  19.055369  72.915070\n",
              "Mulund West             33     33   East Mumbai  19.171972  72.951196\n",
              "Powai                   34     34  North Mumbai  19.118720  72.907348\n",
              "Jogeshwari              35     35  North Mumbai  19.134899  72.848820\n",
              "Malad                   36     36  North Mumbai  19.186719  72.848588\n",
              "Borivali                37     37  North Mumbai  19.229068  72.857363\n",
              "Mira Road               38     38  North Mumbai  19.187896  72.836596"
            ]
          },
          "metadata": {
            "tags": []
          },
          "execution_count": 75
        }
      ]
    },
    {
      "cell_type": "code",
      "metadata": {
        "id": "h3b8bPuEaDfU",
        "colab_type": "code",
        "colab": {
          "base_uri": "https://localhost:8080/",
          "height": 170
        },
        "outputId": "c6c4d1ea-1ea6-4618-df0b-da6521970549"
      },
      "source": [
        "df9.groupby(\"Neighborhood\").count().head(3)"
      ],
      "execution_count": 77,
      "outputs": [
        {
          "output_type": "execute_result",
          "data": {
            "text/html": [
              "<div>\n",
              "<style scoped>\n",
              "    .dataframe tbody tr th:only-of-type {\n",
              "        vertical-align: middle;\n",
              "    }\n",
              "\n",
              "    .dataframe tbody tr th {\n",
              "        vertical-align: top;\n",
              "    }\n",
              "\n",
              "    .dataframe thead th {\n",
              "        text-align: right;\n",
              "    }\n",
              "</style>\n",
              "<table border=\"1\" class=\"dataframe\">\n",
              "  <thead>\n",
              "    <tr style=\"text-align: right;\">\n",
              "      <th></th>\n",
              "      <th>Unnamed: 0</th>\n",
              "      <th>index</th>\n",
              "      <th>Borough</th>\n",
              "      <th>Latitude</th>\n",
              "      <th>Longitude</th>\n",
              "    </tr>\n",
              "    <tr>\n",
              "      <th>Neighborhood</th>\n",
              "      <th></th>\n",
              "      <th></th>\n",
              "      <th></th>\n",
              "      <th></th>\n",
              "      <th></th>\n",
              "    </tr>\n",
              "  </thead>\n",
              "  <tbody>\n",
              "    <tr>\n",
              "      <th>Andheri</th>\n",
              "      <td>1</td>\n",
              "      <td>1</td>\n",
              "      <td>1</td>\n",
              "      <td>1</td>\n",
              "      <td>1</td>\n",
              "    </tr>\n",
              "    <tr>\n",
              "      <th>Apollo Bandar</th>\n",
              "      <td>1</td>\n",
              "      <td>1</td>\n",
              "      <td>1</td>\n",
              "      <td>1</td>\n",
              "      <td>1</td>\n",
              "    </tr>\n",
              "    <tr>\n",
              "      <th>Bandra West</th>\n",
              "      <td>1</td>\n",
              "      <td>1</td>\n",
              "      <td>1</td>\n",
              "      <td>1</td>\n",
              "      <td>1</td>\n",
              "    </tr>\n",
              "  </tbody>\n",
              "</table>\n",
              "</div>"
            ],
            "text/plain": [
              "               Unnamed: 0  index  Borough  Latitude  Longitude\n",
              "Neighborhood                                                  \n",
              "Andheri                 1      1        1         1          1\n",
              "Apollo Bandar           1      1        1         1          1\n",
              "Bandra West             1      1        1         1          1"
            ]
          },
          "metadata": {
            "tags": []
          },
          "execution_count": 77
        }
      ]
    },
    {
      "cell_type": "code",
      "metadata": {
        "id": "vbyu8o2HafEK",
        "colab_type": "code",
        "colab": {
          "base_uri": "https://localhost:8080/",
          "height": 355
        },
        "outputId": "31189e36-5eec-4238-9abb-c87e958f69ec"
      },
      "source": [
        "df9.groupby(\"Neighborhood\").count().head(3).plot(kind='bar', figsize=(4, 4), width=(0.6))\n",
        "plt.xlabel('Name') \n",
        "plt.ylabel('Age and Salary') \n",
        "plt.title('Age and Salary of each person') \n",
        "plt.show()"
      ],
      "execution_count": 78,
      "outputs": [
        {
          "output_type": "display_data",
          "data": {
            "image/png": "[encoded data removed]",
            "text/plain": [
              "<Figure size 288x288 with 1 Axes>"
            ]
          },
          "metadata": {
            "tags": [],
            "needs_background": "light"
          }
        }
      ]
    },
    {
      "cell_type": "code",
      "metadata": {
        "id": "YoIyHxRRbDlr",
        "colab_type": "code",
        "colab": {
          "base_uri": "https://localhost:8080/",
          "height": 355
        },
        "outputId": "4b6076eb-b607-4226-f000-023c90b3f52d"
      },
      "source": [
        "df9.groupby(\"Neighborhood\").sum().head(3).plot(kind='bar', figsize=(4, 4), width=(0.6))\n",
        "plt.xlabel('Neighborhood') \n",
        "plt.ylabel('Latitude') \n",
        "plt.title('Latitude of Hood') \n",
        "plt.show()"
      ],
      "execution_count": 80,
      "outputs": [
        {
          "output_type": "display_data",
          "data": {
            "image/png": "[encoded data removed]",
            "text/plain": [
              "<Figure size 288x288 with 1 Axes>"
            ]
          },
          "metadata": {
            "tags": [],
            "needs_background": "light"
          }
        }
      ]
    },
    {
      "cell_type": "code",
      "metadata": {
        "id": "Y-bU9i3lbkrA",
        "colab_type": "code",
        "colab": {
          "base_uri": "https://localhost:8080/",
          "height": 200
        },
        "outputId": "90eaf9e7-af75-48bd-b8be-16884d7855ac"
      },
      "source": [
        "df8.head()"
      ],
      "execution_count": 81,
      "outputs": [
        {
          "output_type": "execute_result",
          "data": {
            "text/html": [
              "<div>\n",
              "<style scoped>\n",
              "    .dataframe tbody tr th:only-of-type {\n",
              "        vertical-align: middle;\n",
              "    }\n",
              "\n",
              "    .dataframe tbody tr th {\n",
              "        vertical-align: top;\n",
              "    }\n",
              "\n",
              "    .dataframe thead th {\n",
              "        text-align: right;\n",
              "    }\n",
              "</style>\n",
              "<table border=\"1\" class=\"dataframe\">\n",
              "  <thead>\n",
              "    <tr style=\"text-align: right;\">\n",
              "      <th></th>\n",
              "      <th>FName</th>\n",
              "      <th>Sname</th>\n",
              "      <th>Age</th>\n",
              "      <th>Salary</th>\n",
              "    </tr>\n",
              "  </thead>\n",
              "  <tbody>\n",
              "    <tr>\n",
              "      <th>0</th>\n",
              "      <td>Aaisha</td>\n",
              "      <td>Sayed</td>\n",
              "      <td>29</td>\n",
              "      <td>37</td>\n",
              "    </tr>\n",
              "    <tr>\n",
              "      <th>1</th>\n",
              "      <td>Talha</td>\n",
              "      <td>Sayed</td>\n",
              "      <td>28</td>\n",
              "      <td>36</td>\n",
              "    </tr>\n",
              "    <tr>\n",
              "      <th>2</th>\n",
              "      <td>Ali</td>\n",
              "      <td>Sayed</td>\n",
              "      <td>22</td>\n",
              "      <td>28</td>\n",
              "    </tr>\n",
              "    <tr>\n",
              "      <th>3</th>\n",
              "      <td>Faisal</td>\n",
              "      <td>Shaikh</td>\n",
              "      <td>30</td>\n",
              "      <td>39</td>\n",
              "    </tr>\n",
              "    <tr>\n",
              "      <th>4</th>\n",
              "      <td>Danish</td>\n",
              "      <td>Shaikh</td>\n",
              "      <td>25</td>\n",
              "      <td>32</td>\n",
              "    </tr>\n",
              "  </tbody>\n",
              "</table>\n",
              "</div>"
            ],
            "text/plain": [
              "     FName   Sname  Age  Salary\n",
              "0   Aaisha   Sayed   29      37\n",
              "1    Talha   Sayed   28      36\n",
              "2      Ali   Sayed   22      28\n",
              "3  Faisal   Shaikh   30      39\n",
              "4   Danish  Shaikh   25      32"
            ]
          },
          "metadata": {
            "tags": []
          },
          "execution_count": 81
        }
      ]
    },
    {
      "cell_type": "code",
      "metadata": {
        "id": "KJk7CkyFbyEv",
        "colab_type": "code",
        "colab": {
          "base_uri": "https://localhost:8080/",
          "height": 170
        },
        "outputId": "e17da38e-2dcc-445e-a95d-b7595a9865b8"
      },
      "source": [
        "df8.groupby(\"Sname\").mean()"
      ],
      "execution_count": 82,
      "outputs": [
        {
          "output_type": "execute_result",
          "data": {
            "text/html": [
              "<div>\n",
              "<style scoped>\n",
              "    .dataframe tbody tr th:only-of-type {\n",
              "        vertical-align: middle;\n",
              "    }\n",
              "\n",
              "    .dataframe tbody tr th {\n",
              "        vertical-align: top;\n",
              "    }\n",
              "\n",
              "    .dataframe thead th {\n",
              "        text-align: right;\n",
              "    }\n",
              "</style>\n",
              "<table border=\"1\" class=\"dataframe\">\n",
              "  <thead>\n",
              "    <tr style=\"text-align: right;\">\n",
              "      <th></th>\n",
              "      <th>Age</th>\n",
              "      <th>Salary</th>\n",
              "    </tr>\n",
              "    <tr>\n",
              "      <th>Sname</th>\n",
              "      <th></th>\n",
              "      <th></th>\n",
              "    </tr>\n",
              "  </thead>\n",
              "  <tbody>\n",
              "    <tr>\n",
              "      <th>Ghansar</th>\n",
              "      <td>47.500000</td>\n",
              "      <td>61.500000</td>\n",
              "    </tr>\n",
              "    <tr>\n",
              "      <th>Sayed</th>\n",
              "      <td>26.333333</td>\n",
              "      <td>33.666667</td>\n",
              "    </tr>\n",
              "    <tr>\n",
              "      <th>Shaikh</th>\n",
              "      <td>27.500000</td>\n",
              "      <td>35.500000</td>\n",
              "    </tr>\n",
              "  </tbody>\n",
              "</table>\n",
              "</div>"
            ],
            "text/plain": [
              "               Age     Salary\n",
              "Sname                        \n",
              "Ghansar  47.500000  61.500000\n",
              "Sayed    26.333333  33.666667\n",
              "Shaikh   27.500000  35.500000"
            ]
          },
          "metadata": {
            "tags": []
          },
          "execution_count": 82
        }
      ]
    },
    {
      "cell_type": "code",
      "metadata": {
        "id": "NwYmbXsLcONM",
        "colab_type": "code",
        "colab": {
          "base_uri": "https://localhost:8080/",
          "height": 327
        },
        "outputId": "cc315f56-a9e6-4be8-f8d0-f0ca96f5d511"
      },
      "source": [
        "df8.groupby(\"Sname\").mean().plot(kind='bar', figsize=(4, 4), width=(0.6))\n",
        "plt.xlabel('Name') \n",
        "plt.ylabel('Age and Salary') \n",
        "plt.title('Age and Salary of each person') \n",
        "plt.show()"
      ],
      "execution_count": 83,
      "outputs": [
        {
          "output_type": "display_data",
          "data": {
            "image/png": "[encoded data removed]",
            "text/plain": [
              "<Figure size 288x288 with 1 Axes>"
            ]
          },
          "metadata": {
            "tags": [],
            "needs_background": "light"
          }
        }
      ]
    },
    {
      "cell_type": "code",
      "metadata": {
        "id": "OCuymucEdlCO",
        "colab_type": "code",
        "colab": {
          "base_uri": "https://localhost:8080/",
          "height": 200
        },
        "outputId": "b1712bae-fab5-4f4a-94fe-07da27b851b6"
      },
      "source": [
        "df8.head()"
      ],
      "execution_count": 84,
      "outputs": [
        {
          "output_type": "execute_result",
          "data": {
            "text/html": [
              "<div>\n",
              "<style scoped>\n",
              "    .dataframe tbody tr th:only-of-type {\n",
              "        vertical-align: middle;\n",
              "    }\n",
              "\n",
              "    .dataframe tbody tr th {\n",
              "        vertical-align: top;\n",
              "    }\n",
              "\n",
              "    .dataframe thead th {\n",
              "        text-align: right;\n",
              "    }\n",
              "</style>\n",
              "<table border=\"1\" class=\"dataframe\">\n",
              "  <thead>\n",
              "    <tr style=\"text-align: right;\">\n",
              "      <th></th>\n",
              "      <th>FName</th>\n",
              "      <th>Sname</th>\n",
              "      <th>Age</th>\n",
              "      <th>Salary</th>\n",
              "    </tr>\n",
              "  </thead>\n",
              "  <tbody>\n",
              "    <tr>\n",
              "      <th>0</th>\n",
              "      <td>Aaisha</td>\n",
              "      <td>Sayed</td>\n",
              "      <td>29</td>\n",
              "      <td>37</td>\n",
              "    </tr>\n",
              "    <tr>\n",
              "      <th>1</th>\n",
              "      <td>Talha</td>\n",
              "      <td>Sayed</td>\n",
              "      <td>28</td>\n",
              "      <td>36</td>\n",
              "    </tr>\n",
              "    <tr>\n",
              "      <th>2</th>\n",
              "      <td>Ali</td>\n",
              "      <td>Sayed</td>\n",
              "      <td>22</td>\n",
              "      <td>28</td>\n",
              "    </tr>\n",
              "    <tr>\n",
              "      <th>3</th>\n",
              "      <td>Faisal</td>\n",
              "      <td>Shaikh</td>\n",
              "      <td>30</td>\n",
              "      <td>39</td>\n",
              "    </tr>\n",
              "    <tr>\n",
              "      <th>4</th>\n",
              "      <td>Danish</td>\n",
              "      <td>Shaikh</td>\n",
              "      <td>25</td>\n",
              "      <td>32</td>\n",
              "    </tr>\n",
              "  </tbody>\n",
              "</table>\n",
              "</div>"
            ],
            "text/plain": [
              "     FName   Sname  Age  Salary\n",
              "0   Aaisha   Sayed   29      37\n",
              "1    Talha   Sayed   28      36\n",
              "2      Ali   Sayed   22      28\n",
              "3  Faisal   Shaikh   30      39\n",
              "4   Danish  Shaikh   25      32"
            ]
          },
          "metadata": {
            "tags": []
          },
          "execution_count": 84
        }
      ]
    },
    {
      "cell_type": "code",
      "metadata": {
        "id": "dlnCJBpedqqb",
        "colab_type": "code",
        "colab": {
          "base_uri": "https://localhost:8080/",
          "height": 106
        },
        "outputId": "a6f9af2f-f605-499c-9733-c8b1505386ec"
      },
      "source": [
        "df8.dtypes"
      ],
      "execution_count": 85,
      "outputs": [
        {
          "output_type": "execute_result",
          "data": {
            "text/plain": [
              "FName     object\n",
              "Sname     object\n",
              "Age        int64\n",
              "Salary     int64\n",
              "dtype: object"
            ]
          },
          "metadata": {
            "tags": []
          },
          "execution_count": 85
        }
      ]
    },
    {
      "cell_type": "code",
      "metadata": {
        "id": "yAP06wNZdu4I",
        "colab_type": "code",
        "colab": {
          "base_uri": "https://localhost:8080/",
          "height": 35
        },
        "outputId": "5590c0c5-3391-462c-f507-05cb1d706855"
      },
      "source": [
        "df8.columns"
      ],
      "execution_count": 86,
      "outputs": [
        {
          "output_type": "execute_result",
          "data": {
            "text/plain": [
              "Index(['FName', 'Sname', 'Age', 'Salary'], dtype='object')"
            ]
          },
          "metadata": {
            "tags": []
          },
          "execution_count": 86
        }
      ]
    },
    {
      "cell_type": "code",
      "metadata": {
        "id": "MJZZevvud3UH",
        "colab_type": "code",
        "colab": {}
      },
      "source": [
        "df81 = df8"
      ],
      "execution_count": 0,
      "outputs": []
    },
    {
      "cell_type": "code",
      "metadata": {
        "id": "0VKbXigkd_wP",
        "colab_type": "code",
        "colab": {
          "base_uri": "https://localhost:8080/",
          "height": 291
        },
        "outputId": "2b346bf9-0b91-4de1-e0b4-13496dd990c0"
      },
      "source": [
        "df81.set_index(\"FName\")"
      ],
      "execution_count": 88,
      "outputs": [
        {
          "output_type": "execute_result",
          "data": {
            "text/html": [
              "<div>\n",
              "<style scoped>\n",
              "    .dataframe tbody tr th:only-of-type {\n",
              "        vertical-align: middle;\n",
              "    }\n",
              "\n",
              "    .dataframe tbody tr th {\n",
              "        vertical-align: top;\n",
              "    }\n",
              "\n",
              "    .dataframe thead th {\n",
              "        text-align: right;\n",
              "    }\n",
              "</style>\n",
              "<table border=\"1\" class=\"dataframe\">\n",
              "  <thead>\n",
              "    <tr style=\"text-align: right;\">\n",
              "      <th></th>\n",
              "      <th>Sname</th>\n",
              "      <th>Age</th>\n",
              "      <th>Salary</th>\n",
              "    </tr>\n",
              "    <tr>\n",
              "      <th>FName</th>\n",
              "      <th></th>\n",
              "      <th></th>\n",
              "      <th></th>\n",
              "    </tr>\n",
              "  </thead>\n",
              "  <tbody>\n",
              "    <tr>\n",
              "      <th>Aaisha</th>\n",
              "      <td>Sayed</td>\n",
              "      <td>29</td>\n",
              "      <td>37</td>\n",
              "    </tr>\n",
              "    <tr>\n",
              "      <th>Talha</th>\n",
              "      <td>Sayed</td>\n",
              "      <td>28</td>\n",
              "      <td>36</td>\n",
              "    </tr>\n",
              "    <tr>\n",
              "      <th>Ali</th>\n",
              "      <td>Sayed</td>\n",
              "      <td>22</td>\n",
              "      <td>28</td>\n",
              "    </tr>\n",
              "    <tr>\n",
              "      <th>Faisal</th>\n",
              "      <td>Shaikh</td>\n",
              "      <td>30</td>\n",
              "      <td>39</td>\n",
              "    </tr>\n",
              "    <tr>\n",
              "      <th>Danish</th>\n",
              "      <td>Shaikh</td>\n",
              "      <td>25</td>\n",
              "      <td>32</td>\n",
              "    </tr>\n",
              "    <tr>\n",
              "      <th>Arif</th>\n",
              "      <td>Ghansar</td>\n",
              "      <td>45</td>\n",
              "      <td>58</td>\n",
              "    </tr>\n",
              "    <tr>\n",
              "      <th>Adil</th>\n",
              "      <td>Ghansar</td>\n",
              "      <td>50</td>\n",
              "      <td>65</td>\n",
              "    </tr>\n",
              "  </tbody>\n",
              "</table>\n",
              "</div>"
            ],
            "text/plain": [
              "           Sname  Age  Salary\n",
              "FName                        \n",
              "Aaisha     Sayed   29      37\n",
              "Talha      Sayed   28      36\n",
              "Ali        Sayed   22      28\n",
              "Faisal    Shaikh   30      39\n",
              "Danish    Shaikh   25      32\n",
              "Arif     Ghansar   45      58\n",
              "Adil     Ghansar   50      65"
            ]
          },
          "metadata": {
            "tags": []
          },
          "execution_count": 88
        }
      ]
    },
    {
      "cell_type": "code",
      "metadata": {
        "id": "zG7KLmKoeLPK",
        "colab_type": "code",
        "colab": {
          "base_uri": "https://localhost:8080/",
          "height": 106
        },
        "outputId": "cf550c4e-0f1c-4b72-bcce-cfe19c1c756e"
      },
      "source": [
        "df81.dtypes"
      ],
      "execution_count": 89,
      "outputs": [
        {
          "output_type": "execute_result",
          "data": {
            "text/plain": [
              "FName     object\n",
              "Sname     object\n",
              "Age        int64\n",
              "Salary     int64\n",
              "dtype: object"
            ]
          },
          "metadata": {
            "tags": []
          },
          "execution_count": 89
        }
      ]
    },
    {
      "cell_type": "code",
      "metadata": {
        "id": "8xf6hIUieR1T",
        "colab_type": "code",
        "colab": {
          "base_uri": "https://localhost:8080/",
          "height": 35
        },
        "outputId": "43c59f11-e9aa-4f51-c3e6-c3f61b206f54"
      },
      "source": [
        "df81.columns"
      ],
      "execution_count": 90,
      "outputs": [
        {
          "output_type": "execute_result",
          "data": {
            "text/plain": [
              "Index(['FName', 'Sname', 'Age', 'Salary'], dtype='object')"
            ]
          },
          "metadata": {
            "tags": []
          },
          "execution_count": 90
        }
      ]
    },
    {
      "cell_type": "code",
      "metadata": {
        "id": "r364M2Z5eX89",
        "colab_type": "code",
        "colab": {
          "base_uri": "https://localhost:8080/",
          "height": 261
        },
        "outputId": "7c3e1cd0-2a1f-49b3-f1ac-034b4eeec4fa"
      },
      "source": [
        "df81.reset_index()"
      ],
      "execution_count": 91,
      "outputs": [
        {
          "output_type": "execute_result",
          "data": {
            "text/html": [
              "<div>\n",
              "<style scoped>\n",
              "    .dataframe tbody tr th:only-of-type {\n",
              "        vertical-align: middle;\n",
              "    }\n",
              "\n",
              "    .dataframe tbody tr th {\n",
              "        vertical-align: top;\n",
              "    }\n",
              "\n",
              "    .dataframe thead th {\n",
              "        text-align: right;\n",
              "    }\n",
              "</style>\n",
              "<table border=\"1\" class=\"dataframe\">\n",
              "  <thead>\n",
              "    <tr style=\"text-align: right;\">\n",
              "      <th></th>\n",
              "      <th>index</th>\n",
              "      <th>FName</th>\n",
              "      <th>Sname</th>\n",
              "      <th>Age</th>\n",
              "      <th>Salary</th>\n",
              "    </tr>\n",
              "  </thead>\n",
              "  <tbody>\n",
              "    <tr>\n",
              "      <th>0</th>\n",
              "      <td>0</td>\n",
              "      <td>Aaisha</td>\n",
              "      <td>Sayed</td>\n",
              "      <td>29</td>\n",
              "      <td>37</td>\n",
              "    </tr>\n",
              "    <tr>\n",
              "      <th>1</th>\n",
              "      <td>1</td>\n",
              "      <td>Talha</td>\n",
              "      <td>Sayed</td>\n",
              "      <td>28</td>\n",
              "      <td>36</td>\n",
              "    </tr>\n",
              "    <tr>\n",
              "      <th>2</th>\n",
              "      <td>2</td>\n",
              "      <td>Ali</td>\n",
              "      <td>Sayed</td>\n",
              "      <td>22</td>\n",
              "      <td>28</td>\n",
              "    </tr>\n",
              "    <tr>\n",
              "      <th>3</th>\n",
              "      <td>3</td>\n",
              "      <td>Faisal</td>\n",
              "      <td>Shaikh</td>\n",
              "      <td>30</td>\n",
              "      <td>39</td>\n",
              "    </tr>\n",
              "    <tr>\n",
              "      <th>4</th>\n",
              "      <td>4</td>\n",
              "      <td>Danish</td>\n",
              "      <td>Shaikh</td>\n",
              "      <td>25</td>\n",
              "      <td>32</td>\n",
              "    </tr>\n",
              "    <tr>\n",
              "      <th>5</th>\n",
              "      <td>5</td>\n",
              "      <td>Arif</td>\n",
              "      <td>Ghansar</td>\n",
              "      <td>45</td>\n",
              "      <td>58</td>\n",
              "    </tr>\n",
              "    <tr>\n",
              "      <th>6</th>\n",
              "      <td>6</td>\n",
              "      <td>Adil</td>\n",
              "      <td>Ghansar</td>\n",
              "      <td>50</td>\n",
              "      <td>65</td>\n",
              "    </tr>\n",
              "  </tbody>\n",
              "</table>\n",
              "</div>"
            ],
            "text/plain": [
              "   index    FName    Sname  Age  Salary\n",
              "0      0   Aaisha    Sayed   29      37\n",
              "1      1    Talha    Sayed   28      36\n",
              "2      2      Ali    Sayed   22      28\n",
              "3      3  Faisal    Shaikh   30      39\n",
              "4      4   Danish   Shaikh   25      32\n",
              "5      5    Arif   Ghansar   45      58\n",
              "6      6     Adil  Ghansar   50      65"
            ]
          },
          "metadata": {
            "tags": []
          },
          "execution_count": 91
        }
      ]
    },
    {
      "cell_type": "markdown",
      "metadata": {
        "id": "RJjdI7HleoVv",
        "colab_type": "text"
      },
      "source": [
        "Note : reset_index has added an extra column index now.\n",
        "\n",
        "But this column is dummy, it does not appear in column list."
      ]
    },
    {
      "cell_type": "code",
      "metadata": {
        "id": "jprieWmzeg4x",
        "colab_type": "code",
        "colab": {
          "base_uri": "https://localhost:8080/",
          "height": 35
        },
        "outputId": "d4e9451e-9dc6-4af4-c28e-b570796d5218"
      },
      "source": [
        "df81.columns"
      ],
      "execution_count": 92,
      "outputs": [
        {
          "output_type": "execute_result",
          "data": {
            "text/plain": [
              "Index(['FName', 'Sname', 'Age', 'Salary'], dtype='object')"
            ]
          },
          "metadata": {
            "tags": []
          },
          "execution_count": 92
        }
      ]
    },
    {
      "cell_type": "code",
      "metadata": {
        "id": "yWdwjMEpe9eq",
        "colab_type": "code",
        "colab": {
          "base_uri": "https://localhost:8080/",
          "height": 106
        },
        "outputId": "6f910267-cdcd-4ecb-ed06-033817995651"
      },
      "source": [
        "df81.dtypes"
      ],
      "execution_count": 93,
      "outputs": [
        {
          "output_type": "execute_result",
          "data": {
            "text/plain": [
              "FName     object\n",
              "Sname     object\n",
              "Age        int64\n",
              "Salary     int64\n",
              "dtype: object"
            ]
          },
          "metadata": {
            "tags": []
          },
          "execution_count": 93
        }
      ]
    },
    {
      "cell_type": "code",
      "metadata": {
        "id": "j3mZWHWBfChu",
        "colab_type": "code",
        "colab": {
          "base_uri": "https://localhost:8080/",
          "height": 291
        },
        "outputId": "0238426b-5482-4517-ba7f-a0e36c18054a"
      },
      "source": [
        "df81.set_index(\"FName\")"
      ],
      "execution_count": 94,
      "outputs": [
        {
          "output_type": "execute_result",
          "data": {
            "text/html": [
              "<div>\n",
              "<style scoped>\n",
              "    .dataframe tbody tr th:only-of-type {\n",
              "        vertical-align: middle;\n",
              "    }\n",
              "\n",
              "    .dataframe tbody tr th {\n",
              "        vertical-align: top;\n",
              "    }\n",
              "\n",
              "    .dataframe thead th {\n",
              "        text-align: right;\n",
              "    }\n",
              "</style>\n",
              "<table border=\"1\" class=\"dataframe\">\n",
              "  <thead>\n",
              "    <tr style=\"text-align: right;\">\n",
              "      <th></th>\n",
              "      <th>Sname</th>\n",
              "      <th>Age</th>\n",
              "      <th>Salary</th>\n",
              "    </tr>\n",
              "    <tr>\n",
              "      <th>FName</th>\n",
              "      <th></th>\n",
              "      <th></th>\n",
              "      <th></th>\n",
              "    </tr>\n",
              "  </thead>\n",
              "  <tbody>\n",
              "    <tr>\n",
              "      <th>Aaisha</th>\n",
              "      <td>Sayed</td>\n",
              "      <td>29</td>\n",
              "      <td>37</td>\n",
              "    </tr>\n",
              "    <tr>\n",
              "      <th>Talha</th>\n",
              "      <td>Sayed</td>\n",
              "      <td>28</td>\n",
              "      <td>36</td>\n",
              "    </tr>\n",
              "    <tr>\n",
              "      <th>Ali</th>\n",
              "      <td>Sayed</td>\n",
              "      <td>22</td>\n",
              "      <td>28</td>\n",
              "    </tr>\n",
              "    <tr>\n",
              "      <th>Faisal</th>\n",
              "      <td>Shaikh</td>\n",
              "      <td>30</td>\n",
              "      <td>39</td>\n",
              "    </tr>\n",
              "    <tr>\n",
              "      <th>Danish</th>\n",
              "      <td>Shaikh</td>\n",
              "      <td>25</td>\n",
              "      <td>32</td>\n",
              "    </tr>\n",
              "    <tr>\n",
              "      <th>Arif</th>\n",
              "      <td>Ghansar</td>\n",
              "      <td>45</td>\n",
              "      <td>58</td>\n",
              "    </tr>\n",
              "    <tr>\n",
              "      <th>Adil</th>\n",
              "      <td>Ghansar</td>\n",
              "      <td>50</td>\n",
              "      <td>65</td>\n",
              "    </tr>\n",
              "  </tbody>\n",
              "</table>\n",
              "</div>"
            ],
            "text/plain": [
              "           Sname  Age  Salary\n",
              "FName                        \n",
              "Aaisha     Sayed   29      37\n",
              "Talha      Sayed   28      36\n",
              "Ali        Sayed   22      28\n",
              "Faisal    Shaikh   30      39\n",
              "Danish    Shaikh   25      32\n",
              "Arif     Ghansar   45      58\n",
              "Adil     Ghansar   50      65"
            ]
          },
          "metadata": {
            "tags": []
          },
          "execution_count": 94
        }
      ]
    },
    {
      "cell_type": "code",
      "metadata": {
        "id": "jNAq6Kn9fOnd",
        "colab_type": "code",
        "colab": {
          "base_uri": "https://localhost:8080/",
          "height": 291
        },
        "outputId": "486a04b0-6d20-4805-c35d-6bb36e329386"
      },
      "source": [
        "df81.set_index(\"Sname\")"
      ],
      "execution_count": 95,
      "outputs": [
        {
          "output_type": "execute_result",
          "data": {
            "text/html": [
              "<div>\n",
              "<style scoped>\n",
              "    .dataframe tbody tr th:only-of-type {\n",
              "        vertical-align: middle;\n",
              "    }\n",
              "\n",
              "    .dataframe tbody tr th {\n",
              "        vertical-align: top;\n",
              "    }\n",
              "\n",
              "    .dataframe thead th {\n",
              "        text-align: right;\n",
              "    }\n",
              "</style>\n",
              "<table border=\"1\" class=\"dataframe\">\n",
              "  <thead>\n",
              "    <tr style=\"text-align: right;\">\n",
              "      <th></th>\n",
              "      <th>FName</th>\n",
              "      <th>Age</th>\n",
              "      <th>Salary</th>\n",
              "    </tr>\n",
              "    <tr>\n",
              "      <th>Sname</th>\n",
              "      <th></th>\n",
              "      <th></th>\n",
              "      <th></th>\n",
              "    </tr>\n",
              "  </thead>\n",
              "  <tbody>\n",
              "    <tr>\n",
              "      <th>Sayed</th>\n",
              "      <td>Aaisha</td>\n",
              "      <td>29</td>\n",
              "      <td>37</td>\n",
              "    </tr>\n",
              "    <tr>\n",
              "      <th>Sayed</th>\n",
              "      <td>Talha</td>\n",
              "      <td>28</td>\n",
              "      <td>36</td>\n",
              "    </tr>\n",
              "    <tr>\n",
              "      <th>Sayed</th>\n",
              "      <td>Ali</td>\n",
              "      <td>22</td>\n",
              "      <td>28</td>\n",
              "    </tr>\n",
              "    <tr>\n",
              "      <th>Shaikh</th>\n",
              "      <td>Faisal</td>\n",
              "      <td>30</td>\n",
              "      <td>39</td>\n",
              "    </tr>\n",
              "    <tr>\n",
              "      <th>Shaikh</th>\n",
              "      <td>Danish</td>\n",
              "      <td>25</td>\n",
              "      <td>32</td>\n",
              "    </tr>\n",
              "    <tr>\n",
              "      <th>Ghansar</th>\n",
              "      <td>Arif</td>\n",
              "      <td>45</td>\n",
              "      <td>58</td>\n",
              "    </tr>\n",
              "    <tr>\n",
              "      <th>Ghansar</th>\n",
              "      <td>Adil</td>\n",
              "      <td>50</td>\n",
              "      <td>65</td>\n",
              "    </tr>\n",
              "  </tbody>\n",
              "</table>\n",
              "</div>"
            ],
            "text/plain": [
              "           FName  Age  Salary\n",
              "Sname                        \n",
              "Sayed     Aaisha   29      37\n",
              "Sayed      Talha   28      36\n",
              "Sayed        Ali   22      28\n",
              "Shaikh   Faisal    30      39\n",
              "Shaikh    Danish   25      32\n",
              "Ghansar    Arif    45      58\n",
              "Ghansar     Adil   50      65"
            ]
          },
          "metadata": {
            "tags": []
          },
          "execution_count": 95
        }
      ]
    },
    {
      "cell_type": "code",
      "metadata": {
        "id": "GyEEKPxDfaOb",
        "colab_type": "code",
        "colab": {
          "base_uri": "https://localhost:8080/",
          "height": 291
        },
        "outputId": "3690f769-4d57-40c7-d9b1-50d272941f7a"
      },
      "source": [
        "df81.set_index(\"Sname\",\"FName\")"
      ],
      "execution_count": 96,
      "outputs": [
        {
          "output_type": "execute_result",
          "data": {
            "text/html": [
              "<div>\n",
              "<style scoped>\n",
              "    .dataframe tbody tr th:only-of-type {\n",
              "        vertical-align: middle;\n",
              "    }\n",
              "\n",
              "    .dataframe tbody tr th {\n",
              "        vertical-align: top;\n",
              "    }\n",
              "\n",
              "    .dataframe thead th {\n",
              "        text-align: right;\n",
              "    }\n",
              "</style>\n",
              "<table border=\"1\" class=\"dataframe\">\n",
              "  <thead>\n",
              "    <tr style=\"text-align: right;\">\n",
              "      <th></th>\n",
              "      <th>FName</th>\n",
              "      <th>Age</th>\n",
              "      <th>Salary</th>\n",
              "    </tr>\n",
              "    <tr>\n",
              "      <th>Sname</th>\n",
              "      <th></th>\n",
              "      <th></th>\n",
              "      <th></th>\n",
              "    </tr>\n",
              "  </thead>\n",
              "  <tbody>\n",
              "    <tr>\n",
              "      <th>Sayed</th>\n",
              "      <td>Aaisha</td>\n",
              "      <td>29</td>\n",
              "      <td>37</td>\n",
              "    </tr>\n",
              "    <tr>\n",
              "      <th>Sayed</th>\n",
              "      <td>Talha</td>\n",
              "      <td>28</td>\n",
              "      <td>36</td>\n",
              "    </tr>\n",
              "    <tr>\n",
              "      <th>Sayed</th>\n",
              "      <td>Ali</td>\n",
              "      <td>22</td>\n",
              "      <td>28</td>\n",
              "    </tr>\n",
              "    <tr>\n",
              "      <th>Shaikh</th>\n",
              "      <td>Faisal</td>\n",
              "      <td>30</td>\n",
              "      <td>39</td>\n",
              "    </tr>\n",
              "    <tr>\n",
              "      <th>Shaikh</th>\n",
              "      <td>Danish</td>\n",
              "      <td>25</td>\n",
              "      <td>32</td>\n",
              "    </tr>\n",
              "    <tr>\n",
              "      <th>Ghansar</th>\n",
              "      <td>Arif</td>\n",
              "      <td>45</td>\n",
              "      <td>58</td>\n",
              "    </tr>\n",
              "    <tr>\n",
              "      <th>Ghansar</th>\n",
              "      <td>Adil</td>\n",
              "      <td>50</td>\n",
              "      <td>65</td>\n",
              "    </tr>\n",
              "  </tbody>\n",
              "</table>\n",
              "</div>"
            ],
            "text/plain": [
              "           FName  Age  Salary\n",
              "Sname                        \n",
              "Sayed     Aaisha   29      37\n",
              "Sayed      Talha   28      36\n",
              "Sayed        Ali   22      28\n",
              "Shaikh   Faisal    30      39\n",
              "Shaikh    Danish   25      32\n",
              "Ghansar    Arif    45      58\n",
              "Ghansar     Adil   50      65"
            ]
          },
          "metadata": {
            "tags": []
          },
          "execution_count": 96
        }
      ]
    },
    {
      "cell_type": "code",
      "metadata": {
        "id": "wJMabny1fr0v",
        "colab_type": "code",
        "colab": {
          "base_uri": "https://localhost:8080/",
          "height": 261
        },
        "outputId": "e9f0dff6-4109-4fc3-9137-89b20a78e035"
      },
      "source": [
        "df81.reset_index()"
      ],
      "execution_count": 97,
      "outputs": [
        {
          "output_type": "execute_result",
          "data": {
            "text/html": [
              "<div>\n",
              "<style scoped>\n",
              "    .dataframe tbody tr th:only-of-type {\n",
              "        vertical-align: middle;\n",
              "    }\n",
              "\n",
              "    .dataframe tbody tr th {\n",
              "        vertical-align: top;\n",
              "    }\n",
              "\n",
              "    .dataframe thead th {\n",
              "        text-align: right;\n",
              "    }\n",
              "</style>\n",
              "<table border=\"1\" class=\"dataframe\">\n",
              "  <thead>\n",
              "    <tr style=\"text-align: right;\">\n",
              "      <th></th>\n",
              "      <th>index</th>\n",
              "      <th>FName</th>\n",
              "      <th>Sname</th>\n",
              "      <th>Age</th>\n",
              "      <th>Salary</th>\n",
              "    </tr>\n",
              "  </thead>\n",
              "  <tbody>\n",
              "    <tr>\n",
              "      <th>0</th>\n",
              "      <td>0</td>\n",
              "      <td>Aaisha</td>\n",
              "      <td>Sayed</td>\n",
              "      <td>29</td>\n",
              "      <td>37</td>\n",
              "    </tr>\n",
              "    <tr>\n",
              "      <th>1</th>\n",
              "      <td>1</td>\n",
              "      <td>Talha</td>\n",
              "      <td>Sayed</td>\n",
              "      <td>28</td>\n",
              "      <td>36</td>\n",
              "    </tr>\n",
              "    <tr>\n",
              "      <th>2</th>\n",
              "      <td>2</td>\n",
              "      <td>Ali</td>\n",
              "      <td>Sayed</td>\n",
              "      <td>22</td>\n",
              "      <td>28</td>\n",
              "    </tr>\n",
              "    <tr>\n",
              "      <th>3</th>\n",
              "      <td>3</td>\n",
              "      <td>Faisal</td>\n",
              "      <td>Shaikh</td>\n",
              "      <td>30</td>\n",
              "      <td>39</td>\n",
              "    </tr>\n",
              "    <tr>\n",
              "      <th>4</th>\n",
              "      <td>4</td>\n",
              "      <td>Danish</td>\n",
              "      <td>Shaikh</td>\n",
              "      <td>25</td>\n",
              "      <td>32</td>\n",
              "    </tr>\n",
              "    <tr>\n",
              "      <th>5</th>\n",
              "      <td>5</td>\n",
              "      <td>Arif</td>\n",
              "      <td>Ghansar</td>\n",
              "      <td>45</td>\n",
              "      <td>58</td>\n",
              "    </tr>\n",
              "    <tr>\n",
              "      <th>6</th>\n",
              "      <td>6</td>\n",
              "      <td>Adil</td>\n",
              "      <td>Ghansar</td>\n",
              "      <td>50</td>\n",
              "      <td>65</td>\n",
              "    </tr>\n",
              "  </tbody>\n",
              "</table>\n",
              "</div>"
            ],
            "text/plain": [
              "   index    FName    Sname  Age  Salary\n",
              "0      0   Aaisha    Sayed   29      37\n",
              "1      1    Talha    Sayed   28      36\n",
              "2      2      Ali    Sayed   22      28\n",
              "3      3  Faisal    Shaikh   30      39\n",
              "4      4   Danish   Shaikh   25      32\n",
              "5      5    Arif   Ghansar   45      58\n",
              "6      6     Adil  Ghansar   50      65"
            ]
          },
          "metadata": {
            "tags": []
          },
          "execution_count": 97
        }
      ]
    },
    {
      "cell_type": "code",
      "metadata": {
        "id": "9akUKSNKf340",
        "colab_type": "code",
        "colab": {
          "base_uri": "https://localhost:8080/",
          "height": 291
        },
        "outputId": "878e8f6a-3daf-4624-dbf1-16990ab4c5b4"
      },
      "source": [
        "df81.set_index(\"Sname\",\"FName\")"
      ],
      "execution_count": 99,
      "outputs": [
        {
          "output_type": "execute_result",
          "data": {
            "text/html": [
              "<div>\n",
              "<style scoped>\n",
              "    .dataframe tbody tr th:only-of-type {\n",
              "        vertical-align: middle;\n",
              "    }\n",
              "\n",
              "    .dataframe tbody tr th {\n",
              "        vertical-align: top;\n",
              "    }\n",
              "\n",
              "    .dataframe thead th {\n",
              "        text-align: right;\n",
              "    }\n",
              "</style>\n",
              "<table border=\"1\" class=\"dataframe\">\n",
              "  <thead>\n",
              "    <tr style=\"text-align: right;\">\n",
              "      <th></th>\n",
              "      <th>FName</th>\n",
              "      <th>Age</th>\n",
              "      <th>Salary</th>\n",
              "    </tr>\n",
              "    <tr>\n",
              "      <th>Sname</th>\n",
              "      <th></th>\n",
              "      <th></th>\n",
              "      <th></th>\n",
              "    </tr>\n",
              "  </thead>\n",
              "  <tbody>\n",
              "    <tr>\n",
              "      <th>Sayed</th>\n",
              "      <td>Aaisha</td>\n",
              "      <td>29</td>\n",
              "      <td>37</td>\n",
              "    </tr>\n",
              "    <tr>\n",
              "      <th>Sayed</th>\n",
              "      <td>Talha</td>\n",
              "      <td>28</td>\n",
              "      <td>36</td>\n",
              "    </tr>\n",
              "    <tr>\n",
              "      <th>Sayed</th>\n",
              "      <td>Ali</td>\n",
              "      <td>22</td>\n",
              "      <td>28</td>\n",
              "    </tr>\n",
              "    <tr>\n",
              "      <th>Shaikh</th>\n",
              "      <td>Faisal</td>\n",
              "      <td>30</td>\n",
              "      <td>39</td>\n",
              "    </tr>\n",
              "    <tr>\n",
              "      <th>Shaikh</th>\n",
              "      <td>Danish</td>\n",
              "      <td>25</td>\n",
              "      <td>32</td>\n",
              "    </tr>\n",
              "    <tr>\n",
              "      <th>Ghansar</th>\n",
              "      <td>Arif</td>\n",
              "      <td>45</td>\n",
              "      <td>58</td>\n",
              "    </tr>\n",
              "    <tr>\n",
              "      <th>Ghansar</th>\n",
              "      <td>Adil</td>\n",
              "      <td>50</td>\n",
              "      <td>65</td>\n",
              "    </tr>\n",
              "  </tbody>\n",
              "</table>\n",
              "</div>"
            ],
            "text/plain": [
              "           FName  Age  Salary\n",
              "Sname                        \n",
              "Sayed     Aaisha   29      37\n",
              "Sayed      Talha   28      36\n",
              "Sayed        Ali   22      28\n",
              "Shaikh   Faisal    30      39\n",
              "Shaikh    Danish   25      32\n",
              "Ghansar    Arif    45      58\n",
              "Ghansar     Adil   50      65"
            ]
          },
          "metadata": {
            "tags": []
          },
          "execution_count": 99
        }
      ]
    },
    {
      "cell_type": "code",
      "metadata": {
        "id": "wgc3kmPLgXpR",
        "colab_type": "code",
        "colab": {
          "base_uri": "https://localhost:8080/",
          "height": 261
        },
        "outputId": "1b72c39c-92f2-40eb-de94-7c36ec3ef9a3"
      },
      "source": [
        "df81.reset_index()"
      ],
      "execution_count": 100,
      "outputs": [
        {
          "output_type": "execute_result",
          "data": {
            "text/html": [
              "<div>\n",
              "<style scoped>\n",
              "    .dataframe tbody tr th:only-of-type {\n",
              "        vertical-align: middle;\n",
              "    }\n",
              "\n",
              "    .dataframe tbody tr th {\n",
              "        vertical-align: top;\n",
              "    }\n",
              "\n",
              "    .dataframe thead th {\n",
              "        text-align: right;\n",
              "    }\n",
              "</style>\n",
              "<table border=\"1\" class=\"dataframe\">\n",
              "  <thead>\n",
              "    <tr style=\"text-align: right;\">\n",
              "      <th></th>\n",
              "      <th>index</th>\n",
              "      <th>FName</th>\n",
              "      <th>Sname</th>\n",
              "      <th>Age</th>\n",
              "      <th>Salary</th>\n",
              "    </tr>\n",
              "  </thead>\n",
              "  <tbody>\n",
              "    <tr>\n",
              "      <th>0</th>\n",
              "      <td>0</td>\n",
              "      <td>Aaisha</td>\n",
              "      <td>Sayed</td>\n",
              "      <td>29</td>\n",
              "      <td>37</td>\n",
              "    </tr>\n",
              "    <tr>\n",
              "      <th>1</th>\n",
              "      <td>1</td>\n",
              "      <td>Talha</td>\n",
              "      <td>Sayed</td>\n",
              "      <td>28</td>\n",
              "      <td>36</td>\n",
              "    </tr>\n",
              "    <tr>\n",
              "      <th>2</th>\n",
              "      <td>2</td>\n",
              "      <td>Ali</td>\n",
              "      <td>Sayed</td>\n",
              "      <td>22</td>\n",
              "      <td>28</td>\n",
              "    </tr>\n",
              "    <tr>\n",
              "      <th>3</th>\n",
              "      <td>3</td>\n",
              "      <td>Faisal</td>\n",
              "      <td>Shaikh</td>\n",
              "      <td>30</td>\n",
              "      <td>39</td>\n",
              "    </tr>\n",
              "    <tr>\n",
              "      <th>4</th>\n",
              "      <td>4</td>\n",
              "      <td>Danish</td>\n",
              "      <td>Shaikh</td>\n",
              "      <td>25</td>\n",
              "      <td>32</td>\n",
              "    </tr>\n",
              "    <tr>\n",
              "      <th>5</th>\n",
              "      <td>5</td>\n",
              "      <td>Arif</td>\n",
              "      <td>Ghansar</td>\n",
              "      <td>45</td>\n",
              "      <td>58</td>\n",
              "    </tr>\n",
              "    <tr>\n",
              "      <th>6</th>\n",
              "      <td>6</td>\n",
              "      <td>Adil</td>\n",
              "      <td>Ghansar</td>\n",
              "      <td>50</td>\n",
              "      <td>65</td>\n",
              "    </tr>\n",
              "  </tbody>\n",
              "</table>\n",
              "</div>"
            ],
            "text/plain": [
              "   index    FName    Sname  Age  Salary\n",
              "0      0   Aaisha    Sayed   29      37\n",
              "1      1    Talha    Sayed   28      36\n",
              "2      2      Ali    Sayed   22      28\n",
              "3      3  Faisal    Shaikh   30      39\n",
              "4      4   Danish   Shaikh   25      32\n",
              "5      5    Arif   Ghansar   45      58\n",
              "6      6     Adil  Ghansar   50      65"
            ]
          },
          "metadata": {
            "tags": []
          },
          "execution_count": 100
        }
      ]
    },
    {
      "cell_type": "code",
      "metadata": {
        "id": "n3vGEdx_g32A",
        "colab_type": "code",
        "colab": {
          "base_uri": "https://localhost:8080/",
          "height": 261
        },
        "outputId": "3d77abe7-b9ac-4260-ac73-31517e7d163a"
      },
      "source": [
        "df8 = pd.read_csv(\"Family2.csv\")\n",
        "df8.head(10)"
      ],
      "execution_count": 104,
      "outputs": [
        {
          "output_type": "execute_result",
          "data": {
            "text/html": [
              "<div>\n",
              "<style scoped>\n",
              "    .dataframe tbody tr th:only-of-type {\n",
              "        vertical-align: middle;\n",
              "    }\n",
              "\n",
              "    .dataframe tbody tr th {\n",
              "        vertical-align: top;\n",
              "    }\n",
              "\n",
              "    .dataframe thead th {\n",
              "        text-align: right;\n",
              "    }\n",
              "</style>\n",
              "<table border=\"1\" class=\"dataframe\">\n",
              "  <thead>\n",
              "    <tr style=\"text-align: right;\">\n",
              "      <th></th>\n",
              "      <th>FName</th>\n",
              "      <th>SName</th>\n",
              "      <th>Age</th>\n",
              "      <th>Salary</th>\n",
              "    </tr>\n",
              "  </thead>\n",
              "  <tbody>\n",
              "    <tr>\n",
              "      <th>0</th>\n",
              "      <td>Aaisha</td>\n",
              "      <td>Sayed</td>\n",
              "      <td>29</td>\n",
              "      <td>37</td>\n",
              "    </tr>\n",
              "    <tr>\n",
              "      <th>1</th>\n",
              "      <td>Arif</td>\n",
              "      <td>Ghansar</td>\n",
              "      <td>45</td>\n",
              "      <td>58</td>\n",
              "    </tr>\n",
              "    <tr>\n",
              "      <th>2</th>\n",
              "      <td>Faisal</td>\n",
              "      <td>Shaikh</td>\n",
              "      <td>30</td>\n",
              "      <td>39</td>\n",
              "    </tr>\n",
              "    <tr>\n",
              "      <th>3</th>\n",
              "      <td>Adil</td>\n",
              "      <td>Ghansar</td>\n",
              "      <td>50</td>\n",
              "      <td>65</td>\n",
              "    </tr>\n",
              "    <tr>\n",
              "      <th>4</th>\n",
              "      <td>Talha</td>\n",
              "      <td>Sayed</td>\n",
              "      <td>28</td>\n",
              "      <td>36</td>\n",
              "    </tr>\n",
              "    <tr>\n",
              "      <th>5</th>\n",
              "      <td>Danish</td>\n",
              "      <td>Shaikh</td>\n",
              "      <td>25</td>\n",
              "      <td>32</td>\n",
              "    </tr>\n",
              "    <tr>\n",
              "      <th>6</th>\n",
              "      <td>Ali</td>\n",
              "      <td>Sayed</td>\n",
              "      <td>22</td>\n",
              "      <td>28</td>\n",
              "    </tr>\n",
              "  </tbody>\n",
              "</table>\n",
              "</div>"
            ],
            "text/plain": [
              "     FName    SName  Age  Salary\n",
              "0   Aaisha    Sayed   29      37\n",
              "1    Arif   Ghansar   45      58\n",
              "2  Faisal    Shaikh   30      39\n",
              "3     Adil  Ghansar   50      65\n",
              "4    Talha    Sayed   28      36\n",
              "5   Danish   Shaikh   25      32\n",
              "6      Ali    Sayed   22      28"
            ]
          },
          "metadata": {
            "tags": []
          },
          "execution_count": 104
        }
      ]
    },
    {
      "cell_type": "code",
      "metadata": {
        "id": "f8xSAvgIhar2",
        "colab_type": "code",
        "colab": {
          "base_uri": "https://localhost:8080/",
          "height": 291
        },
        "outputId": "2412e5d0-8e8b-4fb9-cf45-e196b371f8b7"
      },
      "source": [
        "df8.set_index(\"FName\")"
      ],
      "execution_count": 105,
      "outputs": [
        {
          "output_type": "execute_result",
          "data": {
            "text/html": [
              "<div>\n",
              "<style scoped>\n",
              "    .dataframe tbody tr th:only-of-type {\n",
              "        vertical-align: middle;\n",
              "    }\n",
              "\n",
              "    .dataframe tbody tr th {\n",
              "        vertical-align: top;\n",
              "    }\n",
              "\n",
              "    .dataframe thead th {\n",
              "        text-align: right;\n",
              "    }\n",
              "</style>\n",
              "<table border=\"1\" class=\"dataframe\">\n",
              "  <thead>\n",
              "    <tr style=\"text-align: right;\">\n",
              "      <th></th>\n",
              "      <th>SName</th>\n",
              "      <th>Age</th>\n",
              "      <th>Salary</th>\n",
              "    </tr>\n",
              "    <tr>\n",
              "      <th>FName</th>\n",
              "      <th></th>\n",
              "      <th></th>\n",
              "      <th></th>\n",
              "    </tr>\n",
              "  </thead>\n",
              "  <tbody>\n",
              "    <tr>\n",
              "      <th>Aaisha</th>\n",
              "      <td>Sayed</td>\n",
              "      <td>29</td>\n",
              "      <td>37</td>\n",
              "    </tr>\n",
              "    <tr>\n",
              "      <th>Arif</th>\n",
              "      <td>Ghansar</td>\n",
              "      <td>45</td>\n",
              "      <td>58</td>\n",
              "    </tr>\n",
              "    <tr>\n",
              "      <th>Faisal</th>\n",
              "      <td>Shaikh</td>\n",
              "      <td>30</td>\n",
              "      <td>39</td>\n",
              "    </tr>\n",
              "    <tr>\n",
              "      <th>Adil</th>\n",
              "      <td>Ghansar</td>\n",
              "      <td>50</td>\n",
              "      <td>65</td>\n",
              "    </tr>\n",
              "    <tr>\n",
              "      <th>Talha</th>\n",
              "      <td>Sayed</td>\n",
              "      <td>28</td>\n",
              "      <td>36</td>\n",
              "    </tr>\n",
              "    <tr>\n",
              "      <th>Danish</th>\n",
              "      <td>Shaikh</td>\n",
              "      <td>25</td>\n",
              "      <td>32</td>\n",
              "    </tr>\n",
              "    <tr>\n",
              "      <th>Ali</th>\n",
              "      <td>Sayed</td>\n",
              "      <td>22</td>\n",
              "      <td>28</td>\n",
              "    </tr>\n",
              "  </tbody>\n",
              "</table>\n",
              "</div>"
            ],
            "text/plain": [
              "           SName  Age  Salary\n",
              "FName                        \n",
              "Aaisha     Sayed   29      37\n",
              "Arif     Ghansar   45      58\n",
              "Faisal    Shaikh   30      39\n",
              "Adil     Ghansar   50      65\n",
              "Talha      Sayed   28      36\n",
              "Danish    Shaikh   25      32\n",
              "Ali        Sayed   22      28"
            ]
          },
          "metadata": {
            "tags": []
          },
          "execution_count": 105
        }
      ]
    },
    {
      "cell_type": "code",
      "metadata": {
        "id": "JvP55PMQhn69",
        "colab_type": "code",
        "colab": {
          "base_uri": "https://localhost:8080/",
          "height": 291
        },
        "outputId": "c29db9f4-2449-4c33-a29c-fb1dd44cb711"
      },
      "source": [
        "df8.set_index(\"SName\")"
      ],
      "execution_count": 106,
      "outputs": [
        {
          "output_type": "execute_result",
          "data": {
            "text/html": [
              "<div>\n",
              "<style scoped>\n",
              "    .dataframe tbody tr th:only-of-type {\n",
              "        vertical-align: middle;\n",
              "    }\n",
              "\n",
              "    .dataframe tbody tr th {\n",
              "        vertical-align: top;\n",
              "    }\n",
              "\n",
              "    .dataframe thead th {\n",
              "        text-align: right;\n",
              "    }\n",
              "</style>\n",
              "<table border=\"1\" class=\"dataframe\">\n",
              "  <thead>\n",
              "    <tr style=\"text-align: right;\">\n",
              "      <th></th>\n",
              "      <th>FName</th>\n",
              "      <th>Age</th>\n",
              "      <th>Salary</th>\n",
              "    </tr>\n",
              "    <tr>\n",
              "      <th>SName</th>\n",
              "      <th></th>\n",
              "      <th></th>\n",
              "      <th></th>\n",
              "    </tr>\n",
              "  </thead>\n",
              "  <tbody>\n",
              "    <tr>\n",
              "      <th>Sayed</th>\n",
              "      <td>Aaisha</td>\n",
              "      <td>29</td>\n",
              "      <td>37</td>\n",
              "    </tr>\n",
              "    <tr>\n",
              "      <th>Ghansar</th>\n",
              "      <td>Arif</td>\n",
              "      <td>45</td>\n",
              "      <td>58</td>\n",
              "    </tr>\n",
              "    <tr>\n",
              "      <th>Shaikh</th>\n",
              "      <td>Faisal</td>\n",
              "      <td>30</td>\n",
              "      <td>39</td>\n",
              "    </tr>\n",
              "    <tr>\n",
              "      <th>Ghansar</th>\n",
              "      <td>Adil</td>\n",
              "      <td>50</td>\n",
              "      <td>65</td>\n",
              "    </tr>\n",
              "    <tr>\n",
              "      <th>Sayed</th>\n",
              "      <td>Talha</td>\n",
              "      <td>28</td>\n",
              "      <td>36</td>\n",
              "    </tr>\n",
              "    <tr>\n",
              "      <th>Shaikh</th>\n",
              "      <td>Danish</td>\n",
              "      <td>25</td>\n",
              "      <td>32</td>\n",
              "    </tr>\n",
              "    <tr>\n",
              "      <th>Sayed</th>\n",
              "      <td>Ali</td>\n",
              "      <td>22</td>\n",
              "      <td>28</td>\n",
              "    </tr>\n",
              "  </tbody>\n",
              "</table>\n",
              "</div>"
            ],
            "text/plain": [
              "           FName  Age  Salary\n",
              "SName                        \n",
              "Sayed     Aaisha   29      37\n",
              "Ghansar    Arif    45      58\n",
              "Shaikh   Faisal    30      39\n",
              "Ghansar     Adil   50      65\n",
              "Sayed      Talha   28      36\n",
              "Shaikh    Danish   25      32\n",
              "Sayed        Ali   22      28"
            ]
          },
          "metadata": {
            "tags": []
          },
          "execution_count": 106
        }
      ]
    },
    {
      "cell_type": "code",
      "metadata": {
        "id": "PWF7s2iWhuuD",
        "colab_type": "code",
        "colab": {
          "base_uri": "https://localhost:8080/",
          "height": 261
        },
        "outputId": "9f380377-33d6-4ba1-e5f0-ea515d452438"
      },
      "source": [
        "df8.reset_index()"
      ],
      "execution_count": 107,
      "outputs": [
        {
          "output_type": "execute_result",
          "data": {
            "text/html": [
              "<div>\n",
              "<style scoped>\n",
              "    .dataframe tbody tr th:only-of-type {\n",
              "        vertical-align: middle;\n",
              "    }\n",
              "\n",
              "    .dataframe tbody tr th {\n",
              "        vertical-align: top;\n",
              "    }\n",
              "\n",
              "    .dataframe thead th {\n",
              "        text-align: right;\n",
              "    }\n",
              "</style>\n",
              "<table border=\"1\" class=\"dataframe\">\n",
              "  <thead>\n",
              "    <tr style=\"text-align: right;\">\n",
              "      <th></th>\n",
              "      <th>index</th>\n",
              "      <th>FName</th>\n",
              "      <th>SName</th>\n",
              "      <th>Age</th>\n",
              "      <th>Salary</th>\n",
              "    </tr>\n",
              "  </thead>\n",
              "  <tbody>\n",
              "    <tr>\n",
              "      <th>0</th>\n",
              "      <td>0</td>\n",
              "      <td>Aaisha</td>\n",
              "      <td>Sayed</td>\n",
              "      <td>29</td>\n",
              "      <td>37</td>\n",
              "    </tr>\n",
              "    <tr>\n",
              "      <th>1</th>\n",
              "      <td>1</td>\n",
              "      <td>Arif</td>\n",
              "      <td>Ghansar</td>\n",
              "      <td>45</td>\n",
              "      <td>58</td>\n",
              "    </tr>\n",
              "    <tr>\n",
              "      <th>2</th>\n",
              "      <td>2</td>\n",
              "      <td>Faisal</td>\n",
              "      <td>Shaikh</td>\n",
              "      <td>30</td>\n",
              "      <td>39</td>\n",
              "    </tr>\n",
              "    <tr>\n",
              "      <th>3</th>\n",
              "      <td>3</td>\n",
              "      <td>Adil</td>\n",
              "      <td>Ghansar</td>\n",
              "      <td>50</td>\n",
              "      <td>65</td>\n",
              "    </tr>\n",
              "    <tr>\n",
              "      <th>4</th>\n",
              "      <td>4</td>\n",
              "      <td>Talha</td>\n",
              "      <td>Sayed</td>\n",
              "      <td>28</td>\n",
              "      <td>36</td>\n",
              "    </tr>\n",
              "    <tr>\n",
              "      <th>5</th>\n",
              "      <td>5</td>\n",
              "      <td>Danish</td>\n",
              "      <td>Shaikh</td>\n",
              "      <td>25</td>\n",
              "      <td>32</td>\n",
              "    </tr>\n",
              "    <tr>\n",
              "      <th>6</th>\n",
              "      <td>6</td>\n",
              "      <td>Ali</td>\n",
              "      <td>Sayed</td>\n",
              "      <td>22</td>\n",
              "      <td>28</td>\n",
              "    </tr>\n",
              "  </tbody>\n",
              "</table>\n",
              "</div>"
            ],
            "text/plain": [
              "   index    FName    SName  Age  Salary\n",
              "0      0   Aaisha    Sayed   29      37\n",
              "1      1    Arif   Ghansar   45      58\n",
              "2      2  Faisal    Shaikh   30      39\n",
              "3      3     Adil  Ghansar   50      65\n",
              "4      4    Talha    Sayed   28      36\n",
              "5      5   Danish   Shaikh   25      32\n",
              "6      6      Ali    Sayed   22      28"
            ]
          },
          "metadata": {
            "tags": []
          },
          "execution_count": 107
        }
      ]
    },
    {
      "cell_type": "code",
      "metadata": {
        "id": "Ds8BbMX5h0vd",
        "colab_type": "code",
        "colab": {
          "base_uri": "https://localhost:8080/",
          "height": 291
        },
        "outputId": "4f81e012-eaef-409a-d078-c50d70b527e9"
      },
      "source": [
        "df8.set_index(\"SName\",\"FName\")"
      ],
      "execution_count": 108,
      "outputs": [
        {
          "output_type": "execute_result",
          "data": {
            "text/html": [
              "<div>\n",
              "<style scoped>\n",
              "    .dataframe tbody tr th:only-of-type {\n",
              "        vertical-align: middle;\n",
              "    }\n",
              "\n",
              "    .dataframe tbody tr th {\n",
              "        vertical-align: top;\n",
              "    }\n",
              "\n",
              "    .dataframe thead th {\n",
              "        text-align: right;\n",
              "    }\n",
              "</style>\n",
              "<table border=\"1\" class=\"dataframe\">\n",
              "  <thead>\n",
              "    <tr style=\"text-align: right;\">\n",
              "      <th></th>\n",
              "      <th>FName</th>\n",
              "      <th>Age</th>\n",
              "      <th>Salary</th>\n",
              "    </tr>\n",
              "    <tr>\n",
              "      <th>SName</th>\n",
              "      <th></th>\n",
              "      <th></th>\n",
              "      <th></th>\n",
              "    </tr>\n",
              "  </thead>\n",
              "  <tbody>\n",
              "    <tr>\n",
              "      <th>Sayed</th>\n",
              "      <td>Aaisha</td>\n",
              "      <td>29</td>\n",
              "      <td>37</td>\n",
              "    </tr>\n",
              "    <tr>\n",
              "      <th>Ghansar</th>\n",
              "      <td>Arif</td>\n",
              "      <td>45</td>\n",
              "      <td>58</td>\n",
              "    </tr>\n",
              "    <tr>\n",
              "      <th>Shaikh</th>\n",
              "      <td>Faisal</td>\n",
              "      <td>30</td>\n",
              "      <td>39</td>\n",
              "    </tr>\n",
              "    <tr>\n",
              "      <th>Ghansar</th>\n",
              "      <td>Adil</td>\n",
              "      <td>50</td>\n",
              "      <td>65</td>\n",
              "    </tr>\n",
              "    <tr>\n",
              "      <th>Sayed</th>\n",
              "      <td>Talha</td>\n",
              "      <td>28</td>\n",
              "      <td>36</td>\n",
              "    </tr>\n",
              "    <tr>\n",
              "      <th>Shaikh</th>\n",
              "      <td>Danish</td>\n",
              "      <td>25</td>\n",
              "      <td>32</td>\n",
              "    </tr>\n",
              "    <tr>\n",
              "      <th>Sayed</th>\n",
              "      <td>Ali</td>\n",
              "      <td>22</td>\n",
              "      <td>28</td>\n",
              "    </tr>\n",
              "  </tbody>\n",
              "</table>\n",
              "</div>"
            ],
            "text/plain": [
              "           FName  Age  Salary\n",
              "SName                        \n",
              "Sayed     Aaisha   29      37\n",
              "Ghansar    Arif    45      58\n",
              "Shaikh   Faisal    30      39\n",
              "Ghansar     Adil   50      65\n",
              "Sayed      Talha   28      36\n",
              "Shaikh    Danish   25      32\n",
              "Sayed        Ali   22      28"
            ]
          },
          "metadata": {
            "tags": []
          },
          "execution_count": 108
        }
      ]
    },
    {
      "cell_type": "code",
      "metadata": {
        "id": "Jj9t2mq5iE5h",
        "colab_type": "code",
        "colab": {
          "base_uri": "https://localhost:8080/",
          "height": 261
        },
        "outputId": "3205c69f-3bcb-42e3-a165-be42292767ca"
      },
      "source": [
        "df8.reset_index()"
      ],
      "execution_count": 109,
      "outputs": [
        {
          "output_type": "execute_result",
          "data": {
            "text/html": [
              "<div>\n",
              "<style scoped>\n",
              "    .dataframe tbody tr th:only-of-type {\n",
              "        vertical-align: middle;\n",
              "    }\n",
              "\n",
              "    .dataframe tbody tr th {\n",
              "        vertical-align: top;\n",
              "    }\n",
              "\n",
              "    .dataframe thead th {\n",
              "        text-align: right;\n",
              "    }\n",
              "</style>\n",
              "<table border=\"1\" class=\"dataframe\">\n",
              "  <thead>\n",
              "    <tr style=\"text-align: right;\">\n",
              "      <th></th>\n",
              "      <th>index</th>\n",
              "      <th>FName</th>\n",
              "      <th>SName</th>\n",
              "      <th>Age</th>\n",
              "      <th>Salary</th>\n",
              "    </tr>\n",
              "  </thead>\n",
              "  <tbody>\n",
              "    <tr>\n",
              "      <th>0</th>\n",
              "      <td>0</td>\n",
              "      <td>Aaisha</td>\n",
              "      <td>Sayed</td>\n",
              "      <td>29</td>\n",
              "      <td>37</td>\n",
              "    </tr>\n",
              "    <tr>\n",
              "      <th>1</th>\n",
              "      <td>1</td>\n",
              "      <td>Arif</td>\n",
              "      <td>Ghansar</td>\n",
              "      <td>45</td>\n",
              "      <td>58</td>\n",
              "    </tr>\n",
              "    <tr>\n",
              "      <th>2</th>\n",
              "      <td>2</td>\n",
              "      <td>Faisal</td>\n",
              "      <td>Shaikh</td>\n",
              "      <td>30</td>\n",
              "      <td>39</td>\n",
              "    </tr>\n",
              "    <tr>\n",
              "      <th>3</th>\n",
              "      <td>3</td>\n",
              "      <td>Adil</td>\n",
              "      <td>Ghansar</td>\n",
              "      <td>50</td>\n",
              "      <td>65</td>\n",
              "    </tr>\n",
              "    <tr>\n",
              "      <th>4</th>\n",
              "      <td>4</td>\n",
              "      <td>Talha</td>\n",
              "      <td>Sayed</td>\n",
              "      <td>28</td>\n",
              "      <td>36</td>\n",
              "    </tr>\n",
              "    <tr>\n",
              "      <th>5</th>\n",
              "      <td>5</td>\n",
              "      <td>Danish</td>\n",
              "      <td>Shaikh</td>\n",
              "      <td>25</td>\n",
              "      <td>32</td>\n",
              "    </tr>\n",
              "    <tr>\n",
              "      <th>6</th>\n",
              "      <td>6</td>\n",
              "      <td>Ali</td>\n",
              "      <td>Sayed</td>\n",
              "      <td>22</td>\n",
              "      <td>28</td>\n",
              "    </tr>\n",
              "  </tbody>\n",
              "</table>\n",
              "</div>"
            ],
            "text/plain": [
              "   index    FName    SName  Age  Salary\n",
              "0      0   Aaisha    Sayed   29      37\n",
              "1      1    Arif   Ghansar   45      58\n",
              "2      2  Faisal    Shaikh   30      39\n",
              "3      3     Adil  Ghansar   50      65\n",
              "4      4    Talha    Sayed   28      36\n",
              "5      5   Danish   Shaikh   25      32\n",
              "6      6      Ali    Sayed   22      28"
            ]
          },
          "metadata": {
            "tags": []
          },
          "execution_count": 109
        }
      ]
    },
    {
      "cell_type": "code",
      "metadata": {
        "id": "vLAu8I-CiL-h",
        "colab_type": "code",
        "colab": {
          "base_uri": "https://localhost:8080/",
          "height": 291
        },
        "outputId": "4ef77870-c180-4469-b948-9dd2788953ef"
      },
      "source": [
        "df8.set_index([\"SName\",\"FName\"])"
      ],
      "execution_count": 110,
      "outputs": [
        {
          "output_type": "execute_result",
          "data": {
            "text/html": [
              "<div>\n",
              "<style scoped>\n",
              "    .dataframe tbody tr th:only-of-type {\n",
              "        vertical-align: middle;\n",
              "    }\n",
              "\n",
              "    .dataframe tbody tr th {\n",
              "        vertical-align: top;\n",
              "    }\n",
              "\n",
              "    .dataframe thead th {\n",
              "        text-align: right;\n",
              "    }\n",
              "</style>\n",
              "<table border=\"1\" class=\"dataframe\">\n",
              "  <thead>\n",
              "    <tr style=\"text-align: right;\">\n",
              "      <th></th>\n",
              "      <th></th>\n",
              "      <th>Age</th>\n",
              "      <th>Salary</th>\n",
              "    </tr>\n",
              "    <tr>\n",
              "      <th>SName</th>\n",
              "      <th>FName</th>\n",
              "      <th></th>\n",
              "      <th></th>\n",
              "    </tr>\n",
              "  </thead>\n",
              "  <tbody>\n",
              "    <tr>\n",
              "      <th>Sayed</th>\n",
              "      <th>Aaisha</th>\n",
              "      <td>29</td>\n",
              "      <td>37</td>\n",
              "    </tr>\n",
              "    <tr>\n",
              "      <th>Ghansar</th>\n",
              "      <th>Arif</th>\n",
              "      <td>45</td>\n",
              "      <td>58</td>\n",
              "    </tr>\n",
              "    <tr>\n",
              "      <th>Shaikh</th>\n",
              "      <th>Faisal</th>\n",
              "      <td>30</td>\n",
              "      <td>39</td>\n",
              "    </tr>\n",
              "    <tr>\n",
              "      <th>Ghansar</th>\n",
              "      <th>Adil</th>\n",
              "      <td>50</td>\n",
              "      <td>65</td>\n",
              "    </tr>\n",
              "    <tr>\n",
              "      <th>Sayed</th>\n",
              "      <th>Talha</th>\n",
              "      <td>28</td>\n",
              "      <td>36</td>\n",
              "    </tr>\n",
              "    <tr>\n",
              "      <th>Shaikh</th>\n",
              "      <th>Danish</th>\n",
              "      <td>25</td>\n",
              "      <td>32</td>\n",
              "    </tr>\n",
              "    <tr>\n",
              "      <th>Sayed</th>\n",
              "      <th>Ali</th>\n",
              "      <td>22</td>\n",
              "      <td>28</td>\n",
              "    </tr>\n",
              "  </tbody>\n",
              "</table>\n",
              "</div>"
            ],
            "text/plain": [
              "                 Age  Salary\n",
              "SName   FName               \n",
              "Sayed   Aaisha    29      37\n",
              "Ghansar Arif      45      58\n",
              "Shaikh  Faisal    30      39\n",
              "Ghansar Adil      50      65\n",
              "Sayed   Talha     28      36\n",
              "Shaikh  Danish    25      32\n",
              "Sayed   Ali       22      28"
            ]
          },
          "metadata": {
            "tags": []
          },
          "execution_count": 110
        }
      ]
    },
    {
      "cell_type": "code",
      "metadata": {
        "id": "Ny114WLujUqg",
        "colab_type": "code",
        "colab": {
          "base_uri": "https://localhost:8080/",
          "height": 261
        },
        "outputId": "1ab06c6a-9359-445f-cd66-61acf788eeb4"
      },
      "source": [
        "df8.reset_index()"
      ],
      "execution_count": 111,
      "outputs": [
        {
          "output_type": "execute_result",
          "data": {
            "text/html": [
              "<div>\n",
              "<style scoped>\n",
              "    .dataframe tbody tr th:only-of-type {\n",
              "        vertical-align: middle;\n",
              "    }\n",
              "\n",
              "    .dataframe tbody tr th {\n",
              "        vertical-align: top;\n",
              "    }\n",
              "\n",
              "    .dataframe thead th {\n",
              "        text-align: right;\n",
              "    }\n",
              "</style>\n",
              "<table border=\"1\" class=\"dataframe\">\n",
              "  <thead>\n",
              "    <tr style=\"text-align: right;\">\n",
              "      <th></th>\n",
              "      <th>index</th>\n",
              "      <th>FName</th>\n",
              "      <th>SName</th>\n",
              "      <th>Age</th>\n",
              "      <th>Salary</th>\n",
              "    </tr>\n",
              "  </thead>\n",
              "  <tbody>\n",
              "    <tr>\n",
              "      <th>0</th>\n",
              "      <td>0</td>\n",
              "      <td>Aaisha</td>\n",
              "      <td>Sayed</td>\n",
              "      <td>29</td>\n",
              "      <td>37</td>\n",
              "    </tr>\n",
              "    <tr>\n",
              "      <th>1</th>\n",
              "      <td>1</td>\n",
              "      <td>Arif</td>\n",
              "      <td>Ghansar</td>\n",
              "      <td>45</td>\n",
              "      <td>58</td>\n",
              "    </tr>\n",
              "    <tr>\n",
              "      <th>2</th>\n",
              "      <td>2</td>\n",
              "      <td>Faisal</td>\n",
              "      <td>Shaikh</td>\n",
              "      <td>30</td>\n",
              "      <td>39</td>\n",
              "    </tr>\n",
              "    <tr>\n",
              "      <th>3</th>\n",
              "      <td>3</td>\n",
              "      <td>Adil</td>\n",
              "      <td>Ghansar</td>\n",
              "      <td>50</td>\n",
              "      <td>65</td>\n",
              "    </tr>\n",
              "    <tr>\n",
              "      <th>4</th>\n",
              "      <td>4</td>\n",
              "      <td>Talha</td>\n",
              "      <td>Sayed</td>\n",
              "      <td>28</td>\n",
              "      <td>36</td>\n",
              "    </tr>\n",
              "    <tr>\n",
              "      <th>5</th>\n",
              "      <td>5</td>\n",
              "      <td>Danish</td>\n",
              "      <td>Shaikh</td>\n",
              "      <td>25</td>\n",
              "      <td>32</td>\n",
              "    </tr>\n",
              "    <tr>\n",
              "      <th>6</th>\n",
              "      <td>6</td>\n",
              "      <td>Ali</td>\n",
              "      <td>Sayed</td>\n",
              "      <td>22</td>\n",
              "      <td>28</td>\n",
              "    </tr>\n",
              "  </tbody>\n",
              "</table>\n",
              "</div>"
            ],
            "text/plain": [
              "   index    FName    SName  Age  Salary\n",
              "0      0   Aaisha    Sayed   29      37\n",
              "1      1    Arif   Ghansar   45      58\n",
              "2      2  Faisal    Shaikh   30      39\n",
              "3      3     Adil  Ghansar   50      65\n",
              "4      4    Talha    Sayed   28      36\n",
              "5      5   Danish   Shaikh   25      32\n",
              "6      6      Ali    Sayed   22      28"
            ]
          },
          "metadata": {
            "tags": []
          },
          "execution_count": 111
        }
      ]
    },
    {
      "cell_type": "markdown",
      "metadata": {
        "id": "zsQHs51kjtE_",
        "colab_type": "text"
      },
      "source": [
        "# **Conclusion : Index** :"
      ]
    },
    {
      "cell_type": "markdown",
      "metadata": {
        "id": "GNdcWwT4j2Ce",
        "colab_type": "text"
      },
      "source": [
        "How indexing works.\n",
        "\n",
        "1-If no column specified there is always a default index as per the heap.\n",
        "\n",
        "2-When a index is set by a column, that column become index.\n",
        "\n",
        "3-When you reset index. Again it goes back to default.\n",
        "\n",
        "4-Index never changes order of rows.\n",
        "\n",
        "5- Only sort_value acts like Order By.\n",
        "\n",
        "6-Index can be be on more than one column\n",
        "\n",
        "7-Specify the columns as list."
      ]
    },
    {
      "cell_type": "code",
      "metadata": {
        "id": "gHdGXV5mk1A_",
        "colab_type": "code",
        "colab": {
          "base_uri": "https://localhost:8080/",
          "height": 261
        },
        "outputId": "bf1e707e-6681-478d-8c88-1f04ba6d87fe"
      },
      "source": [
        "df8.head(10)"
      ],
      "execution_count": 112,
      "outputs": [
        {
          "output_type": "execute_result",
          "data": {
            "text/html": [
              "<div>\n",
              "<style scoped>\n",
              "    .dataframe tbody tr th:only-of-type {\n",
              "        vertical-align: middle;\n",
              "    }\n",
              "\n",
              "    .dataframe tbody tr th {\n",
              "        vertical-align: top;\n",
              "    }\n",
              "\n",
              "    .dataframe thead th {\n",
              "        text-align: right;\n",
              "    }\n",
              "</style>\n",
              "<table border=\"1\" class=\"dataframe\">\n",
              "  <thead>\n",
              "    <tr style=\"text-align: right;\">\n",
              "      <th></th>\n",
              "      <th>FName</th>\n",
              "      <th>SName</th>\n",
              "      <th>Age</th>\n",
              "      <th>Salary</th>\n",
              "    </tr>\n",
              "  </thead>\n",
              "  <tbody>\n",
              "    <tr>\n",
              "      <th>0</th>\n",
              "      <td>Aaisha</td>\n",
              "      <td>Sayed</td>\n",
              "      <td>29</td>\n",
              "      <td>37</td>\n",
              "    </tr>\n",
              "    <tr>\n",
              "      <th>1</th>\n",
              "      <td>Arif</td>\n",
              "      <td>Ghansar</td>\n",
              "      <td>45</td>\n",
              "      <td>58</td>\n",
              "    </tr>\n",
              "    <tr>\n",
              "      <th>2</th>\n",
              "      <td>Faisal</td>\n",
              "      <td>Shaikh</td>\n",
              "      <td>30</td>\n",
              "      <td>39</td>\n",
              "    </tr>\n",
              "    <tr>\n",
              "      <th>3</th>\n",
              "      <td>Adil</td>\n",
              "      <td>Ghansar</td>\n",
              "      <td>50</td>\n",
              "      <td>65</td>\n",
              "    </tr>\n",
              "    <tr>\n",
              "      <th>4</th>\n",
              "      <td>Talha</td>\n",
              "      <td>Sayed</td>\n",
              "      <td>28</td>\n",
              "      <td>36</td>\n",
              "    </tr>\n",
              "    <tr>\n",
              "      <th>5</th>\n",
              "      <td>Danish</td>\n",
              "      <td>Shaikh</td>\n",
              "      <td>25</td>\n",
              "      <td>32</td>\n",
              "    </tr>\n",
              "    <tr>\n",
              "      <th>6</th>\n",
              "      <td>Ali</td>\n",
              "      <td>Sayed</td>\n",
              "      <td>22</td>\n",
              "      <td>28</td>\n",
              "    </tr>\n",
              "  </tbody>\n",
              "</table>\n",
              "</div>"
            ],
            "text/plain": [
              "     FName    SName  Age  Salary\n",
              "0   Aaisha    Sayed   29      37\n",
              "1    Arif   Ghansar   45      58\n",
              "2  Faisal    Shaikh   30      39\n",
              "3     Adil  Ghansar   50      65\n",
              "4    Talha    Sayed   28      36\n",
              "5   Danish   Shaikh   25      32\n",
              "6      Ali    Sayed   22      28"
            ]
          },
          "metadata": {
            "tags": []
          },
          "execution_count": 112
        }
      ]
    },
    {
      "cell_type": "code",
      "metadata": {
        "id": "-ClKdu4slsYK",
        "colab_type": "code",
        "colab": {
          "base_uri": "https://localhost:8080/",
          "height": 261
        },
        "outputId": "9311d4a8-c534-4dd7-8cde-812f9ab21e92"
      },
      "source": [
        "df8.reset_index()"
      ],
      "execution_count": 118,
      "outputs": [
        {
          "output_type": "execute_result",
          "data": {
            "text/html": [
              "<div>\n",
              "<style scoped>\n",
              "    .dataframe tbody tr th:only-of-type {\n",
              "        vertical-align: middle;\n",
              "    }\n",
              "\n",
              "    .dataframe tbody tr th {\n",
              "        vertical-align: top;\n",
              "    }\n",
              "\n",
              "    .dataframe thead th {\n",
              "        text-align: right;\n",
              "    }\n",
              "</style>\n",
              "<table border=\"1\" class=\"dataframe\">\n",
              "  <thead>\n",
              "    <tr style=\"text-align: right;\">\n",
              "      <th></th>\n",
              "      <th>SName</th>\n",
              "      <th>FName</th>\n",
              "      <th>Age</th>\n",
              "      <th>Salary</th>\n",
              "    </tr>\n",
              "  </thead>\n",
              "  <tbody>\n",
              "    <tr>\n",
              "      <th>0</th>\n",
              "      <td>Sayed</td>\n",
              "      <td>Aaisha</td>\n",
              "      <td>29</td>\n",
              "      <td>37</td>\n",
              "    </tr>\n",
              "    <tr>\n",
              "      <th>1</th>\n",
              "      <td>Ghansar</td>\n",
              "      <td>Arif</td>\n",
              "      <td>45</td>\n",
              "      <td>58</td>\n",
              "    </tr>\n",
              "    <tr>\n",
              "      <th>2</th>\n",
              "      <td>Shaikh</td>\n",
              "      <td>Faisal</td>\n",
              "      <td>30</td>\n",
              "      <td>39</td>\n",
              "    </tr>\n",
              "    <tr>\n",
              "      <th>3</th>\n",
              "      <td>Ghansar</td>\n",
              "      <td>Adil</td>\n",
              "      <td>50</td>\n",
              "      <td>65</td>\n",
              "    </tr>\n",
              "    <tr>\n",
              "      <th>4</th>\n",
              "      <td>Sayed</td>\n",
              "      <td>Talha</td>\n",
              "      <td>28</td>\n",
              "      <td>36</td>\n",
              "    </tr>\n",
              "    <tr>\n",
              "      <th>5</th>\n",
              "      <td>Shaikh</td>\n",
              "      <td>Danish</td>\n",
              "      <td>25</td>\n",
              "      <td>32</td>\n",
              "    </tr>\n",
              "    <tr>\n",
              "      <th>6</th>\n",
              "      <td>Sayed</td>\n",
              "      <td>Ali</td>\n",
              "      <td>22</td>\n",
              "      <td>28</td>\n",
              "    </tr>\n",
              "  </tbody>\n",
              "</table>\n",
              "</div>"
            ],
            "text/plain": [
              "     SName    FName  Age  Salary\n",
              "0    Sayed   Aaisha   29      37\n",
              "1  Ghansar    Arif    45      58\n",
              "2   Shaikh  Faisal    30      39\n",
              "3  Ghansar     Adil   50      65\n",
              "4    Sayed    Talha   28      36\n",
              "5   Shaikh   Danish   25      32\n",
              "6    Sayed      Ali   22      28"
            ]
          },
          "metadata": {
            "tags": []
          },
          "execution_count": 118
        }
      ]
    },
    {
      "cell_type": "code",
      "metadata": {
        "id": "EwdbyRqZk7A4",
        "colab_type": "code",
        "colab": {
          "base_uri": "https://localhost:8080/",
          "height": 261
        },
        "outputId": "1ad2301b-3c2d-49ba-84b1-ccbe98e642e4"
      },
      "source": [
        "df8 = pd.read_csv(\"Family2.csv\")\n",
        "df8.head(10)"
      ],
      "execution_count": 122,
      "outputs": [
        {
          "output_type": "execute_result",
          "data": {
            "text/html": [
              "<div>\n",
              "<style scoped>\n",
              "    .dataframe tbody tr th:only-of-type {\n",
              "        vertical-align: middle;\n",
              "    }\n",
              "\n",
              "    .dataframe tbody tr th {\n",
              "        vertical-align: top;\n",
              "    }\n",
              "\n",
              "    .dataframe thead th {\n",
              "        text-align: right;\n",
              "    }\n",
              "</style>\n",
              "<table border=\"1\" class=\"dataframe\">\n",
              "  <thead>\n",
              "    <tr style=\"text-align: right;\">\n",
              "      <th></th>\n",
              "      <th>FName</th>\n",
              "      <th>SName</th>\n",
              "      <th>Age</th>\n",
              "      <th>Salary</th>\n",
              "    </tr>\n",
              "  </thead>\n",
              "  <tbody>\n",
              "    <tr>\n",
              "      <th>0</th>\n",
              "      <td>Aaisha</td>\n",
              "      <td>Sayed</td>\n",
              "      <td>29</td>\n",
              "      <td>37</td>\n",
              "    </tr>\n",
              "    <tr>\n",
              "      <th>1</th>\n",
              "      <td>Arif</td>\n",
              "      <td>Ghansar</td>\n",
              "      <td>45</td>\n",
              "      <td>58</td>\n",
              "    </tr>\n",
              "    <tr>\n",
              "      <th>2</th>\n",
              "      <td>Faisal</td>\n",
              "      <td>Shaikh</td>\n",
              "      <td>30</td>\n",
              "      <td>39</td>\n",
              "    </tr>\n",
              "    <tr>\n",
              "      <th>3</th>\n",
              "      <td>Adil</td>\n",
              "      <td>Ghansar</td>\n",
              "      <td>50</td>\n",
              "      <td>65</td>\n",
              "    </tr>\n",
              "    <tr>\n",
              "      <th>4</th>\n",
              "      <td>Talha</td>\n",
              "      <td>Sayed</td>\n",
              "      <td>28</td>\n",
              "      <td>36</td>\n",
              "    </tr>\n",
              "    <tr>\n",
              "      <th>5</th>\n",
              "      <td>Danish</td>\n",
              "      <td>Shaikh</td>\n",
              "      <td>25</td>\n",
              "      <td>32</td>\n",
              "    </tr>\n",
              "    <tr>\n",
              "      <th>6</th>\n",
              "      <td>Ali</td>\n",
              "      <td>Sayed</td>\n",
              "      <td>22</td>\n",
              "      <td>28</td>\n",
              "    </tr>\n",
              "  </tbody>\n",
              "</table>\n",
              "</div>"
            ],
            "text/plain": [
              "     FName    SName  Age  Salary\n",
              "0   Aaisha    Sayed   29      37\n",
              "1    Arif   Ghansar   45      58\n",
              "2  Faisal    Shaikh   30      39\n",
              "3     Adil  Ghansar   50      65\n",
              "4    Talha    Sayed   28      36\n",
              "5   Danish   Shaikh   25      32\n",
              "6      Ali    Sayed   22      28"
            ]
          },
          "metadata": {
            "tags": []
          },
          "execution_count": 122
        }
      ]
    },
    {
      "cell_type": "code",
      "metadata": {
        "id": "JT6yi8fOmQ36",
        "colab_type": "code",
        "colab": {
          "base_uri": "https://localhost:8080/",
          "height": 291
        },
        "outputId": "4769bdd5-2f5a-4fe8-d40f-e393594f3713"
      },
      "source": [
        "df8.set_index([\"SName\",\"FName\"])"
      ],
      "execution_count": 123,
      "outputs": [
        {
          "output_type": "execute_result",
          "data": {
            "text/html": [
              "<div>\n",
              "<style scoped>\n",
              "    .dataframe tbody tr th:only-of-type {\n",
              "        vertical-align: middle;\n",
              "    }\n",
              "\n",
              "    .dataframe tbody tr th {\n",
              "        vertical-align: top;\n",
              "    }\n",
              "\n",
              "    .dataframe thead th {\n",
              "        text-align: right;\n",
              "    }\n",
              "</style>\n",
              "<table border=\"1\" class=\"dataframe\">\n",
              "  <thead>\n",
              "    <tr style=\"text-align: right;\">\n",
              "      <th></th>\n",
              "      <th></th>\n",
              "      <th>Age</th>\n",
              "      <th>Salary</th>\n",
              "    </tr>\n",
              "    <tr>\n",
              "      <th>SName</th>\n",
              "      <th>FName</th>\n",
              "      <th></th>\n",
              "      <th></th>\n",
              "    </tr>\n",
              "  </thead>\n",
              "  <tbody>\n",
              "    <tr>\n",
              "      <th>Sayed</th>\n",
              "      <th>Aaisha</th>\n",
              "      <td>29</td>\n",
              "      <td>37</td>\n",
              "    </tr>\n",
              "    <tr>\n",
              "      <th>Ghansar</th>\n",
              "      <th>Arif</th>\n",
              "      <td>45</td>\n",
              "      <td>58</td>\n",
              "    </tr>\n",
              "    <tr>\n",
              "      <th>Shaikh</th>\n",
              "      <th>Faisal</th>\n",
              "      <td>30</td>\n",
              "      <td>39</td>\n",
              "    </tr>\n",
              "    <tr>\n",
              "      <th>Ghansar</th>\n",
              "      <th>Adil</th>\n",
              "      <td>50</td>\n",
              "      <td>65</td>\n",
              "    </tr>\n",
              "    <tr>\n",
              "      <th>Sayed</th>\n",
              "      <th>Talha</th>\n",
              "      <td>28</td>\n",
              "      <td>36</td>\n",
              "    </tr>\n",
              "    <tr>\n",
              "      <th>Shaikh</th>\n",
              "      <th>Danish</th>\n",
              "      <td>25</td>\n",
              "      <td>32</td>\n",
              "    </tr>\n",
              "    <tr>\n",
              "      <th>Sayed</th>\n",
              "      <th>Ali</th>\n",
              "      <td>22</td>\n",
              "      <td>28</td>\n",
              "    </tr>\n",
              "  </tbody>\n",
              "</table>\n",
              "</div>"
            ],
            "text/plain": [
              "                 Age  Salary\n",
              "SName   FName               \n",
              "Sayed   Aaisha    29      37\n",
              "Ghansar Arif      45      58\n",
              "Shaikh  Faisal    30      39\n",
              "Ghansar Adil      50      65\n",
              "Sayed   Talha     28      36\n",
              "Shaikh  Danish    25      32\n",
              "Sayed   Ali       22      28"
            ]
          },
          "metadata": {
            "tags": []
          },
          "execution_count": 123
        }
      ]
    },
    {
      "cell_type": "code",
      "metadata": {
        "id": "_YZlEFuCmeo4",
        "colab_type": "code",
        "colab": {
          "base_uri": "https://localhost:8080/",
          "height": 35
        },
        "outputId": "ad83acf6-e4cd-440b-c679-65d8aa7e9d92"
      },
      "source": [
        "df8.columns"
      ],
      "execution_count": 124,
      "outputs": [
        {
          "output_type": "execute_result",
          "data": {
            "text/plain": [
              "Index(['FName', 'SName', 'Age', 'Salary'], dtype='object')"
            ]
          },
          "metadata": {
            "tags": []
          },
          "execution_count": 124
        }
      ]
    },
    {
      "cell_type": "code",
      "metadata": {
        "id": "vEP88ZmjmjQ4",
        "colab_type": "code",
        "colab": {
          "base_uri": "https://localhost:8080/",
          "height": 261
        },
        "outputId": "c1363342-fb5b-4326-8c89-b44defe5c9f9"
      },
      "source": [
        "df8.sort_index()"
      ],
      "execution_count": 126,
      "outputs": [
        {
          "output_type": "execute_result",
          "data": {
            "text/html": [
              "<div>\n",
              "<style scoped>\n",
              "    .dataframe tbody tr th:only-of-type {\n",
              "        vertical-align: middle;\n",
              "    }\n",
              "\n",
              "    .dataframe tbody tr th {\n",
              "        vertical-align: top;\n",
              "    }\n",
              "\n",
              "    .dataframe thead th {\n",
              "        text-align: right;\n",
              "    }\n",
              "</style>\n",
              "<table border=\"1\" class=\"dataframe\">\n",
              "  <thead>\n",
              "    <tr style=\"text-align: right;\">\n",
              "      <th></th>\n",
              "      <th>FName</th>\n",
              "      <th>SName</th>\n",
              "      <th>Age</th>\n",
              "      <th>Salary</th>\n",
              "    </tr>\n",
              "  </thead>\n",
              "  <tbody>\n",
              "    <tr>\n",
              "      <th>0</th>\n",
              "      <td>Aaisha</td>\n",
              "      <td>Sayed</td>\n",
              "      <td>29</td>\n",
              "      <td>37</td>\n",
              "    </tr>\n",
              "    <tr>\n",
              "      <th>1</th>\n",
              "      <td>Arif</td>\n",
              "      <td>Ghansar</td>\n",
              "      <td>45</td>\n",
              "      <td>58</td>\n",
              "    </tr>\n",
              "    <tr>\n",
              "      <th>2</th>\n",
              "      <td>Faisal</td>\n",
              "      <td>Shaikh</td>\n",
              "      <td>30</td>\n",
              "      <td>39</td>\n",
              "    </tr>\n",
              "    <tr>\n",
              "      <th>3</th>\n",
              "      <td>Adil</td>\n",
              "      <td>Ghansar</td>\n",
              "      <td>50</td>\n",
              "      <td>65</td>\n",
              "    </tr>\n",
              "    <tr>\n",
              "      <th>4</th>\n",
              "      <td>Talha</td>\n",
              "      <td>Sayed</td>\n",
              "      <td>28</td>\n",
              "      <td>36</td>\n",
              "    </tr>\n",
              "    <tr>\n",
              "      <th>5</th>\n",
              "      <td>Danish</td>\n",
              "      <td>Shaikh</td>\n",
              "      <td>25</td>\n",
              "      <td>32</td>\n",
              "    </tr>\n",
              "    <tr>\n",
              "      <th>6</th>\n",
              "      <td>Ali</td>\n",
              "      <td>Sayed</td>\n",
              "      <td>22</td>\n",
              "      <td>28</td>\n",
              "    </tr>\n",
              "  </tbody>\n",
              "</table>\n",
              "</div>"
            ],
            "text/plain": [
              "     FName    SName  Age  Salary\n",
              "0   Aaisha    Sayed   29      37\n",
              "1    Arif   Ghansar   45      58\n",
              "2  Faisal    Shaikh   30      39\n",
              "3     Adil  Ghansar   50      65\n",
              "4    Talha    Sayed   28      36\n",
              "5   Danish   Shaikh   25      32\n",
              "6      Ali    Sayed   22      28"
            ]
          },
          "metadata": {
            "tags": []
          },
          "execution_count": 126
        }
      ]
    },
    {
      "cell_type": "code",
      "metadata": {
        "id": "Lw8Pg_nmm4ib",
        "colab_type": "code",
        "colab": {
          "base_uri": "https://localhost:8080/",
          "height": 261
        },
        "outputId": "72d7a529-4359-4527-c66f-cbda016b7737"
      },
      "source": [
        "df8.sort_values(\"FName\")"
      ],
      "execution_count": 127,
      "outputs": [
        {
          "output_type": "execute_result",
          "data": {
            "text/html": [
              "<div>\n",
              "<style scoped>\n",
              "    .dataframe tbody tr th:only-of-type {\n",
              "        vertical-align: middle;\n",
              "    }\n",
              "\n",
              "    .dataframe tbody tr th {\n",
              "        vertical-align: top;\n",
              "    }\n",
              "\n",
              "    .dataframe thead th {\n",
              "        text-align: right;\n",
              "    }\n",
              "</style>\n",
              "<table border=\"1\" class=\"dataframe\">\n",
              "  <thead>\n",
              "    <tr style=\"text-align: right;\">\n",
              "      <th></th>\n",
              "      <th>FName</th>\n",
              "      <th>SName</th>\n",
              "      <th>Age</th>\n",
              "      <th>Salary</th>\n",
              "    </tr>\n",
              "  </thead>\n",
              "  <tbody>\n",
              "    <tr>\n",
              "      <th>0</th>\n",
              "      <td>Aaisha</td>\n",
              "      <td>Sayed</td>\n",
              "      <td>29</td>\n",
              "      <td>37</td>\n",
              "    </tr>\n",
              "    <tr>\n",
              "      <th>3</th>\n",
              "      <td>Adil</td>\n",
              "      <td>Ghansar</td>\n",
              "      <td>50</td>\n",
              "      <td>65</td>\n",
              "    </tr>\n",
              "    <tr>\n",
              "      <th>6</th>\n",
              "      <td>Ali</td>\n",
              "      <td>Sayed</td>\n",
              "      <td>22</td>\n",
              "      <td>28</td>\n",
              "    </tr>\n",
              "    <tr>\n",
              "      <th>1</th>\n",
              "      <td>Arif</td>\n",
              "      <td>Ghansar</td>\n",
              "      <td>45</td>\n",
              "      <td>58</td>\n",
              "    </tr>\n",
              "    <tr>\n",
              "      <th>5</th>\n",
              "      <td>Danish</td>\n",
              "      <td>Shaikh</td>\n",
              "      <td>25</td>\n",
              "      <td>32</td>\n",
              "    </tr>\n",
              "    <tr>\n",
              "      <th>2</th>\n",
              "      <td>Faisal</td>\n",
              "      <td>Shaikh</td>\n",
              "      <td>30</td>\n",
              "      <td>39</td>\n",
              "    </tr>\n",
              "    <tr>\n",
              "      <th>4</th>\n",
              "      <td>Talha</td>\n",
              "      <td>Sayed</td>\n",
              "      <td>28</td>\n",
              "      <td>36</td>\n",
              "    </tr>\n",
              "  </tbody>\n",
              "</table>\n",
              "</div>"
            ],
            "text/plain": [
              "     FName    SName  Age  Salary\n",
              "0   Aaisha    Sayed   29      37\n",
              "3     Adil  Ghansar   50      65\n",
              "6      Ali    Sayed   22      28\n",
              "1    Arif   Ghansar   45      58\n",
              "5   Danish   Shaikh   25      32\n",
              "2  Faisal    Shaikh   30      39\n",
              "4    Talha    Sayed   28      36"
            ]
          },
          "metadata": {
            "tags": []
          },
          "execution_count": 127
        }
      ]
    },
    {
      "cell_type": "code",
      "metadata": {
        "id": "Cd9aaA9EnG1x",
        "colab_type": "code",
        "colab": {
          "base_uri": "https://localhost:8080/",
          "height": 261
        },
        "outputId": "6b3136c0-d0b0-4bc9-e955-d436f8d884ef"
      },
      "source": [
        "df8.sort_values(\"Age\")"
      ],
      "execution_count": 128,
      "outputs": [
        {
          "output_type": "execute_result",
          "data": {
            "text/html": [
              "<div>\n",
              "<style scoped>\n",
              "    .dataframe tbody tr th:only-of-type {\n",
              "        vertical-align: middle;\n",
              "    }\n",
              "\n",
              "    .dataframe tbody tr th {\n",
              "        vertical-align: top;\n",
              "    }\n",
              "\n",
              "    .dataframe thead th {\n",
              "        text-align: right;\n",
              "    }\n",
              "</style>\n",
              "<table border=\"1\" class=\"dataframe\">\n",
              "  <thead>\n",
              "    <tr style=\"text-align: right;\">\n",
              "      <th></th>\n",
              "      <th>FName</th>\n",
              "      <th>SName</th>\n",
              "      <th>Age</th>\n",
              "      <th>Salary</th>\n",
              "    </tr>\n",
              "  </thead>\n",
              "  <tbody>\n",
              "    <tr>\n",
              "      <th>6</th>\n",
              "      <td>Ali</td>\n",
              "      <td>Sayed</td>\n",
              "      <td>22</td>\n",
              "      <td>28</td>\n",
              "    </tr>\n",
              "    <tr>\n",
              "      <th>5</th>\n",
              "      <td>Danish</td>\n",
              "      <td>Shaikh</td>\n",
              "      <td>25</td>\n",
              "      <td>32</td>\n",
              "    </tr>\n",
              "    <tr>\n",
              "      <th>4</th>\n",
              "      <td>Talha</td>\n",
              "      <td>Sayed</td>\n",
              "      <td>28</td>\n",
              "      <td>36</td>\n",
              "    </tr>\n",
              "    <tr>\n",
              "      <th>0</th>\n",
              "      <td>Aaisha</td>\n",
              "      <td>Sayed</td>\n",
              "      <td>29</td>\n",
              "      <td>37</td>\n",
              "    </tr>\n",
              "    <tr>\n",
              "      <th>2</th>\n",
              "      <td>Faisal</td>\n",
              "      <td>Shaikh</td>\n",
              "      <td>30</td>\n",
              "      <td>39</td>\n",
              "    </tr>\n",
              "    <tr>\n",
              "      <th>1</th>\n",
              "      <td>Arif</td>\n",
              "      <td>Ghansar</td>\n",
              "      <td>45</td>\n",
              "      <td>58</td>\n",
              "    </tr>\n",
              "    <tr>\n",
              "      <th>3</th>\n",
              "      <td>Adil</td>\n",
              "      <td>Ghansar</td>\n",
              "      <td>50</td>\n",
              "      <td>65</td>\n",
              "    </tr>\n",
              "  </tbody>\n",
              "</table>\n",
              "</div>"
            ],
            "text/plain": [
              "     FName    SName  Age  Salary\n",
              "6      Ali    Sayed   22      28\n",
              "5   Danish   Shaikh   25      32\n",
              "4    Talha    Sayed   28      36\n",
              "0   Aaisha    Sayed   29      37\n",
              "2  Faisal    Shaikh   30      39\n",
              "1    Arif   Ghansar   45      58\n",
              "3     Adil  Ghansar   50      65"
            ]
          },
          "metadata": {
            "tags": []
          },
          "execution_count": 128
        }
      ]
    },
    {
      "cell_type": "code",
      "metadata": {
        "id": "3aIm1DjfnMvH",
        "colab_type": "code",
        "colab": {
          "base_uri": "https://localhost:8080/",
          "height": 261
        },
        "outputId": "0e20195e-7bc9-4cf1-fa0e-906e2ce1008f"
      },
      "source": [
        "df8.sort_values([\"SName\",\"FName\"])"
      ],
      "execution_count": 130,
      "outputs": [
        {
          "output_type": "execute_result",
          "data": {
            "text/html": [
              "<div>\n",
              "<style scoped>\n",
              "    .dataframe tbody tr th:only-of-type {\n",
              "        vertical-align: middle;\n",
              "    }\n",
              "\n",
              "    .dataframe tbody tr th {\n",
              "        vertical-align: top;\n",
              "    }\n",
              "\n",
              "    .dataframe thead th {\n",
              "        text-align: right;\n",
              "    }\n",
              "</style>\n",
              "<table border=\"1\" class=\"dataframe\">\n",
              "  <thead>\n",
              "    <tr style=\"text-align: right;\">\n",
              "      <th></th>\n",
              "      <th>FName</th>\n",
              "      <th>SName</th>\n",
              "      <th>Age</th>\n",
              "      <th>Salary</th>\n",
              "    </tr>\n",
              "  </thead>\n",
              "  <tbody>\n",
              "    <tr>\n",
              "      <th>3</th>\n",
              "      <td>Adil</td>\n",
              "      <td>Ghansar</td>\n",
              "      <td>50</td>\n",
              "      <td>65</td>\n",
              "    </tr>\n",
              "    <tr>\n",
              "      <th>1</th>\n",
              "      <td>Arif</td>\n",
              "      <td>Ghansar</td>\n",
              "      <td>45</td>\n",
              "      <td>58</td>\n",
              "    </tr>\n",
              "    <tr>\n",
              "      <th>0</th>\n",
              "      <td>Aaisha</td>\n",
              "      <td>Sayed</td>\n",
              "      <td>29</td>\n",
              "      <td>37</td>\n",
              "    </tr>\n",
              "    <tr>\n",
              "      <th>6</th>\n",
              "      <td>Ali</td>\n",
              "      <td>Sayed</td>\n",
              "      <td>22</td>\n",
              "      <td>28</td>\n",
              "    </tr>\n",
              "    <tr>\n",
              "      <th>4</th>\n",
              "      <td>Talha</td>\n",
              "      <td>Sayed</td>\n",
              "      <td>28</td>\n",
              "      <td>36</td>\n",
              "    </tr>\n",
              "    <tr>\n",
              "      <th>5</th>\n",
              "      <td>Danish</td>\n",
              "      <td>Shaikh</td>\n",
              "      <td>25</td>\n",
              "      <td>32</td>\n",
              "    </tr>\n",
              "    <tr>\n",
              "      <th>2</th>\n",
              "      <td>Faisal</td>\n",
              "      <td>Shaikh</td>\n",
              "      <td>30</td>\n",
              "      <td>39</td>\n",
              "    </tr>\n",
              "  </tbody>\n",
              "</table>\n",
              "</div>"
            ],
            "text/plain": [
              "     FName    SName  Age  Salary\n",
              "3     Adil  Ghansar   50      65\n",
              "1    Arif   Ghansar   45      58\n",
              "0   Aaisha    Sayed   29      37\n",
              "6      Ali    Sayed   22      28\n",
              "4    Talha    Sayed   28      36\n",
              "5   Danish   Shaikh   25      32\n",
              "2  Faisal    Shaikh   30      39"
            ]
          },
          "metadata": {
            "tags": []
          },
          "execution_count": 130
        }
      ]
    },
    {
      "cell_type": "markdown",
      "metadata": {
        "id": "LnMHQx9gni-9",
        "colab_type": "text"
      },
      "source": [
        "# **Conclusion : Sort**"
      ]
    },
    {
      "cell_type": "markdown",
      "metadata": {
        "id": "T90Ke8VPnnvH",
        "colab_type": "text"
      },
      "source": [
        "How sort works\n",
        "\n",
        "1-Can do on multiple columns\n",
        "\n",
        "2-But provide columns as list\n",
        "\n",
        "[\"SName\",\"FName\"]"
      ]
    },
    {
      "cell_type": "code",
      "metadata": {
        "id": "G-wS45TJve6f",
        "colab_type": "code",
        "colab": {
          "base_uri": "https://localhost:8080/",
          "height": 261
        },
        "outputId": "923b7ce5-da28-4e0d-ab00-434554f6c775"
      },
      "source": [
        "df8.head(10)"
      ],
      "execution_count": 131,
      "outputs": [
        {
          "output_type": "execute_result",
          "data": {
            "text/html": [
              "<div>\n",
              "<style scoped>\n",
              "    .dataframe tbody tr th:only-of-type {\n",
              "        vertical-align: middle;\n",
              "    }\n",
              "\n",
              "    .dataframe tbody tr th {\n",
              "        vertical-align: top;\n",
              "    }\n",
              "\n",
              "    .dataframe thead th {\n",
              "        text-align: right;\n",
              "    }\n",
              "</style>\n",
              "<table border=\"1\" class=\"dataframe\">\n",
              "  <thead>\n",
              "    <tr style=\"text-align: right;\">\n",
              "      <th></th>\n",
              "      <th>FName</th>\n",
              "      <th>SName</th>\n",
              "      <th>Age</th>\n",
              "      <th>Salary</th>\n",
              "    </tr>\n",
              "  </thead>\n",
              "  <tbody>\n",
              "    <tr>\n",
              "      <th>0</th>\n",
              "      <td>Aaisha</td>\n",
              "      <td>Sayed</td>\n",
              "      <td>29</td>\n",
              "      <td>37</td>\n",
              "    </tr>\n",
              "    <tr>\n",
              "      <th>1</th>\n",
              "      <td>Arif</td>\n",
              "      <td>Ghansar</td>\n",
              "      <td>45</td>\n",
              "      <td>58</td>\n",
              "    </tr>\n",
              "    <tr>\n",
              "      <th>2</th>\n",
              "      <td>Faisal</td>\n",
              "      <td>Shaikh</td>\n",
              "      <td>30</td>\n",
              "      <td>39</td>\n",
              "    </tr>\n",
              "    <tr>\n",
              "      <th>3</th>\n",
              "      <td>Adil</td>\n",
              "      <td>Ghansar</td>\n",
              "      <td>50</td>\n",
              "      <td>65</td>\n",
              "    </tr>\n",
              "    <tr>\n",
              "      <th>4</th>\n",
              "      <td>Talha</td>\n",
              "      <td>Sayed</td>\n",
              "      <td>28</td>\n",
              "      <td>36</td>\n",
              "    </tr>\n",
              "    <tr>\n",
              "      <th>5</th>\n",
              "      <td>Danish</td>\n",
              "      <td>Shaikh</td>\n",
              "      <td>25</td>\n",
              "      <td>32</td>\n",
              "    </tr>\n",
              "    <tr>\n",
              "      <th>6</th>\n",
              "      <td>Ali</td>\n",
              "      <td>Sayed</td>\n",
              "      <td>22</td>\n",
              "      <td>28</td>\n",
              "    </tr>\n",
              "  </tbody>\n",
              "</table>\n",
              "</div>"
            ],
            "text/plain": [
              "     FName    SName  Age  Salary\n",
              "0   Aaisha    Sayed   29      37\n",
              "1    Arif   Ghansar   45      58\n",
              "2  Faisal    Shaikh   30      39\n",
              "3     Adil  Ghansar   50      65\n",
              "4    Talha    Sayed   28      36\n",
              "5   Danish   Shaikh   25      32\n",
              "6      Ali    Sayed   22      28"
            ]
          },
          "metadata": {
            "tags": []
          },
          "execution_count": 131
        }
      ]
    },
    {
      "cell_type": "code",
      "metadata": {
        "id": "eWKo5YOLvleW",
        "colab_type": "code",
        "colab": {
          "base_uri": "https://localhost:8080/",
          "height": 35
        },
        "outputId": "07039df3-c33f-477c-d97a-6f7664a63d19"
      },
      "source": [
        "df8.SName.unique()"
      ],
      "execution_count": 135,
      "outputs": [
        {
          "output_type": "execute_result",
          "data": {
            "text/plain": [
              "array(['Sayed', 'Ghansar', 'Shaikh'], dtype=object)"
            ]
          },
          "metadata": {
            "tags": []
          },
          "execution_count": 135
        }
      ]
    },
    {
      "cell_type": "markdown",
      "metadata": {
        "id": "HUiySXPCw8OA",
        "colab_type": "text"
      },
      "source": [
        "# **Conclusion : unique()**"
      ]
    },
    {
      "cell_type": "markdown",
      "metadata": {
        "id": "OXTT0aYoxEy9",
        "colab_type": "text"
      },
      "source": [
        "unique() is a method of column.\n",
        "\n",
        "It returns all unique values in that column.\n",
        "\n",
        "It is like Select Distinct(col2)"
      ]
    },
    {
      "cell_type": "code",
      "metadata": {
        "id": "IhyIPztg2PrY",
        "colab_type": "code",
        "colab": {}
      },
      "source": [
        "df_top5_crimes[['case_number', 'crime_description', 'year']].pivot_table(\n",
        "    index='year', \n",
        "    columns='crime_description', \n",
        "    fill_value=0, \n",
        "    aggfunc='count').plot(kind='area',\n",
        "                          stacked=True,\n",
        "                          figsize=(15, 6),\n",
        "                          colormap='tab20')\n",
        "\n",
        "plt.xlabel('Month')\n",
        "plt.ylabel('Count of Cases per Month')\n",
        "plt.title('Top 5 Crimes Per Year', loc='left', fontsize=18)\n",
        "\n"
      ],
      "execution_count": 0,
      "outputs": []
    },
    {
      "cell_type": "code",
      "metadata": {
        "id": "RfWY9O2e2z7b",
        "colab_type": "code",
        "colab": {
          "base_uri": "https://localhost:8080/",
          "height": 78
        },
        "outputId": "e7d3dff7-b789-4356-e969-cf03f2a47694"
      },
      "source": [
        "df8.head(1)"
      ],
      "execution_count": 136,
      "outputs": [
        {
          "output_type": "execute_result",
          "data": {
            "text/html": [
              "<div>\n",
              "<style scoped>\n",
              "    .dataframe tbody tr th:only-of-type {\n",
              "        vertical-align: middle;\n",
              "    }\n",
              "\n",
              "    .dataframe tbody tr th {\n",
              "        vertical-align: top;\n",
              "    }\n",
              "\n",
              "    .dataframe thead th {\n",
              "        text-align: right;\n",
              "    }\n",
              "</style>\n",
              "<table border=\"1\" class=\"dataframe\">\n",
              "  <thead>\n",
              "    <tr style=\"text-align: right;\">\n",
              "      <th></th>\n",
              "      <th>FName</th>\n",
              "      <th>SName</th>\n",
              "      <th>Age</th>\n",
              "      <th>Salary</th>\n",
              "    </tr>\n",
              "  </thead>\n",
              "  <tbody>\n",
              "    <tr>\n",
              "      <th>0</th>\n",
              "      <td>Aaisha</td>\n",
              "      <td>Sayed</td>\n",
              "      <td>29</td>\n",
              "      <td>37</td>\n",
              "    </tr>\n",
              "  </tbody>\n",
              "</table>\n",
              "</div>"
            ],
            "text/plain": [
              "    FName  SName  Age  Salary\n",
              "0  Aaisha  Sayed   29      37"
            ]
          },
          "metadata": {
            "tags": []
          },
          "execution_count": 136
        }
      ]
    },
    {
      "cell_type": "code",
      "metadata": {
        "id": "43tus8KI265e",
        "colab_type": "code",
        "colab": {
          "base_uri": "https://localhost:8080/",
          "height": 426
        },
        "outputId": "654823a4-6113-4526-a622-224ef24a8797"
      },
      "source": [
        "df8[['Age', 'Salary', 'FName']].pivot_table(\n",
        "    index='FName', \n",
        "    columns='Age', \n",
        "    fill_value=0, \n",
        "    aggfunc='count').plot(kind='area',\n",
        "                          stacked=True,\n",
        "                          figsize=(15, 6),\n",
        "                          colormap='tab20')\n",
        "\n",
        "plt.xlabel('FName')\n",
        "plt.ylabel('Age')\n",
        "plt.title('Age of Person', loc='left', fontsize=18)"
      ],
      "execution_count": 137,
      "outputs": [
        {
          "output_type": "execute_result",
          "data": {
            "text/plain": [
              "Text(0.0, 1.0, 'Age of Person')"
            ]
          },
          "metadata": {
            "tags": []
          },
          "execution_count": 137
        },
        {
          "output_type": "display_data",
          "data": {
            "image/png": "[encoded data removed]",
            "text/plain": [
              "<Figure size 1080x432 with 1 Axes>"
            ]
          },
          "metadata": {
            "tags": [],
            "needs_background": "light"
          }
        }
      ]
    }
  ]
}