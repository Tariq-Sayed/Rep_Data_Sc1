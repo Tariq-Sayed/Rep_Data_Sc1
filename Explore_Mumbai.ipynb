{
  "nbformat": 4,
  "nbformat_minor": 0,
  "metadata": {
    "colab": {
      "name": "Explore_Mumbai.ipynb",
      "provenance": [],
      "collapsed_sections": []
    },
    "kernelspec": {
      "name": "python3",
      "display_name": "Python 3"
    }
  },
  "cells": [
    {
      "cell_type": "code",
      "metadata": {
        "id": "bVFBmsweyIV0",
        "colab_type": "code",
        "colab": {}
      },
      "source": [
        "# Exploring Mumbai City for Foreign Tourists"
      ],
      "execution_count": 0,
      "outputs": []
    },
    {
      "cell_type": "markdown",
      "metadata": {
        "id": "a8u0w1oGy-Gp",
        "colab_type": "text"
      },
      "source": [
        "# **Exploring Mumbai City for Foreign Tourists**\n",
        "\n",
        "\n",
        "\n"
      ]
    },
    {
      "cell_type": "markdown",
      "metadata": {
        "id": "lPZiH3nizJfn",
        "colab_type": "text"
      },
      "source": [
        "#### **Tariq Sayed**\n",
        "#### **April 19, 2020**"
      ]
    },
    {
      "cell_type": "markdown",
      "metadata": {
        "id": "5bRYXi660HMm",
        "colab_type": "text"
      },
      "source": [
        "# **1. Introduction**"
      ]
    },
    {
      "cell_type": "markdown",
      "metadata": {
        "id": "IYWx0PLh0LtR",
        "colab_type": "text"
      },
      "source": [
        "## **1.1 Background**"
      ]
    },
    {
      "cell_type": "markdown",
      "metadata": {
        "id": "TDxSTIDc09UX",
        "colab_type": "text"
      },
      "source": [
        "Mumbai is a commercial capital of India with a rich cosmpolitan culture.Many toursits from all over the world visit here throught the year to enjoy thescenic beaches, historic monumnents, museums and delicious international variety of cuisines.It is a shopping paradise and offer lot of commodities ranging from readymade garments, household items to antiues.Generally, toursits have no or little idea where to book a hotel which is near to touristic places of intrest like beaches, museum or aquarium they are looking for. Where they can find good restaurants which can offer a wide variety of international cuisine. Or where they can find park and gardens for their small kids. Which areas are good for shopping having  malls or flea markets. Where they can get antiues. The fitness freaks would prefer to have a Gym or Spa nearby. Where they can enjoy a boat ride. The buses and trains usually overcrowded and not recommended for tourists.\n",
        "Therefore, they should get some knohow of city neighborhoods so they can book a hotel in neighborhoods where they can find places of their interest within walking distance or they can hire a can and can reach within minutes and time is not wasted in overcrowded buses or trains. "
      ]
    },
    {
      "cell_type": "markdown",
      "metadata": {
        "id": "GYFUagBG5Hq_",
        "colab_type": "text"
      },
      "source": [
        "## **1.2 Problem**"
      ]
    },
    {
      "cell_type": "markdown",
      "metadata": {
        "id": "ztRAbOnL5L0N",
        "colab_type": "text"
      },
      "source": [
        "The data required to resolve this problem includes neighborhoods of Mumbai, in which borough they fall, their coordinates and the venues nearby with their categories.The key aim of this project is to guide a foreign tourist about where he/she can find places of his interest within walking distance or can reach hiring a cab in few minutes from his/her hotel."
      ]
    },
    {
      "cell_type": "markdown",
      "metadata": {
        "id": "9SL8ASuY6fjZ",
        "colab_type": "text"
      },
      "source": [
        "## **1.3 Interest/Stakeholders**"
      ]
    },
    {
      "cell_type": "markdown",
      "metadata": {
        "id": "sUAa0ebs62UF",
        "colab_type": "text"
      },
      "source": [
        "The foreign tourist will find the findings of this project extremely useful and they can book the hotel in an area where they can find things of their intrest nearby and will save their time in commuting through overcrowded trains or buses. Apart from that those who want to setup a new hotel or a restaurant or some shop for say readymade garments can also be benefitted. Other intrested parties can be tour operators to help them setup their office in right place."
      ]
    },
    {
      "cell_type": "markdown",
      "metadata": {
        "id": "HyAX1Yp-8tXQ",
        "colab_type": "text"
      },
      "source": [
        "# **2. Data acquisition and cleaning**"
      ]
    },
    {
      "cell_type": "markdown",
      "metadata": {
        "id": "0P4Uj3hO89iE",
        "colab_type": "text"
      },
      "source": [
        "## **2.1 Data Sources**"
      ]
    },
    {
      "cell_type": "markdown",
      "metadata": {
        "id": "IgS3-vWK9ElF",
        "colab_type": "text"
      },
      "source": [
        "The main data source would be Four Square API which provides you with the venues along with the categories. But, in order to provide venues of a location you need to provide latitude and logitude of the location.The latitude and logitude of a location are fetched from Geo API.\n",
        "The Geo API has some limitations as to number of location coordinates it can return and times out. This issue was resolved by splitting the data and passing locations in two iterations.\n",
        "But, major challenge was non-availibilty of all the neighborhoods with their respective boroughs. Therefore, constructed this matrix using Python objects like array, dictionary and dataframe within code. "
      ]
    },
    {
      "cell_type": "markdown",
      "metadata": {
        "id": "LZ8gYYAU_hqk",
        "colab_type": "text"
      },
      "source": [
        "## **2.2 Data Cleaning**"
      ]
    },
    {
      "cell_type": "markdown",
      "metadata": {
        "id": "itzAYl-CA2ED",
        "colab_type": "text"
      },
      "source": [
        "1-combined into one table\n",
        "2-identify problems\n",
        "3-duplicates removed\n",
        "4-reddundancy removed using script\n",
        "5-Normalization \n",
        "6-Look for Outliers \n",
        "7-Caused by small sample size problem\n",
        "8-dropped outliers\n",
        "9-Missing values corrected by mean\n",
        "\n",
        "\n",
        "\n",
        "\n"
      ]
    },
    {
      "cell_type": "markdown",
      "metadata": {
        "id": "ZZCbZYRWCQ7H",
        "colab_type": "text"
      },
      "source": [
        "First of all, I did not find the matrix of Mumbai neigborhoods along with their respective boroughs. Therefore, constructed this matrix within code using objects like array, dictionary and dataframe.\n",
        "Next, I studied data and analyzed the data quality issues like wrong categorization of data which was corrected within code with correct category.\n",
        "\n",
        "The same venue was found to be repeated multiple times with differnt names but exactly same latitude and longitude.The duplicates were discarded.\n",
        "Also encountered small sample size issue as some locations returned very few venues. One of such neighborhood was dropped. Others were merged with nearby neighborhoods.\n",
        "\n",
        "If you specify more radius as input to Four Square it returns more venues, which is good for analysis. But, it also increases the chances of duplication. Therefore, multiple iterations with various values of radius done to achieve an optimum value with minimum duplications. And these duplications were dropped.\n",
        "\n",
        "The similar categories were clubbed together like Parks and gardens to one category Park/Garden.Bar and Pub to Bar/Pub.\n",
        "\n",
        "Looked for ouliers. Indian restaurants were found in all neighborhoods of Mumbai and in very large number. The tourist find Indian food to be very spicy and generally prefer western,mexican or arabian cuisine. Therefore, dropped Indian restaurants from the equation.\n",
        "One more iteration was done identifying more outliers like bars/pubs, coffee shops etc. and removing them to see the impact on results.\n",
        "\n"
      ]
    },
    {
      "cell_type": "markdown",
      "metadata": {
        "id": "TpfN4Uc1Hqp4",
        "colab_type": "text"
      },
      "source": [
        "## **2.3 Feature Selection**"
      ]
    },
    {
      "cell_type": "markdown",
      "metadata": {
        "id": "pHaGxK4SIeGi",
        "colab_type": "text"
      },
      "source": [
        "After an extensive data cleansing exercise , there were xxx600 samples for xxx(39) neighborhoods from south, west, east and north Mumbai and xxx(8) features in the data. All the features returned from the Four Square APIs were kept in analysis like venues, venue categories and their respective latitude and longitude and no redundancy was in features was found. "
      ]
    },
    {
      "cell_type": "markdown",
      "metadata": {
        "id": "qJDqdXyiKvtk",
        "colab_type": "text"
      },
      "source": [
        "# **3. Exploratory Data Analysis**"
      ]
    },
    {
      "cell_type": "markdown",
      "metadata": {
        "id": "wc2QYLqqK1v9",
        "colab_type": "text"
      },
      "source": [
        ""
      ]
    },
    {
      "cell_type": "markdown",
      "metadata": {
        "id": "DIfUNXfVK25L",
        "colab_type": "text"
      },
      "source": [
        "## **3.1 Calculation of target variable**"
      ]
    },
    {
      "cell_type": "markdown",
      "metadata": {
        "id": "ny-uupvJLXoz",
        "colab_type": "text"
      },
      "source": [
        "# **3.2 Relationship between improvement and age**"
      ]
    },
    {
      "cell_type": "markdown",
      "metadata": {
        "id": "qO6GrKAmLmTC",
        "colab_type": "text"
      },
      "source": [
        "It is widely accepted that younger players are more likely to improve than older players, and it was indeed supported by our data"
      ]
    },
    {
      "cell_type": "markdown",
      "metadata": {
        "id": "M8lkTv3lL0ci",
        "colab_type": "text"
      },
      "source": [
        "The hypothesis here is that players who are already stars don’t have much room to improve, while a mediocre player can still improve. Our data were consistent with this hypothesis"
      ]
    },
    {
      "cell_type": "markdown",
      "metadata": {
        "id": "3PviVrsUMA0g",
        "colab_type": "text"
      },
      "source": [
        "I hypothesized that ..\n",
        "\n",
        "After inspecting the data, it was true that ..\n",
        "\n",
        "However, the actual difference of mean between the two groups was small"
      ]
    },
    {
      "cell_type": "markdown",
      "metadata": {
        "id": "r9vMtuuyMb_f",
        "colab_type": "text"
      },
      "source": [
        "There is this myth among ..\n",
        "\n",
        "I, as many other basketball fans, thought that ..\n",
        "\n",
        " It turned out this was only true for .."
      ]
    },
    {
      "cell_type": "markdown",
      "metadata": {
        "id": "XN4RqRqOM9aN",
        "colab_type": "text"
      },
      "source": [
        "# **4. Predictive Modeling**"
      ]
    },
    {
      "cell_type": "markdown",
      "metadata": {
        "id": "2uuGuzW6NG0p",
        "colab_type": "text"
      },
      "source": [
        "There are two types of models, regression and classification, that can be used to predict player improvement. Regression models can provide additional information on the amount of improvement, while classification models focus on the probabilities a player might improve. The\n",
        "underlying algorithms are similar between regression and classification models, but different audience might prefer one over the other. For example, an NBA team executive might be more interested in the amount of improvement (regression models), but a general NBA fan might find the results of classification models more interpretable. Therefore, in this study, I carried out both regression and classification modeling."
      ]
    },
    {
      "cell_type": "markdown",
      "metadata": {
        "id": "juE5XF43O27g",
        "colab_type": "text"
      },
      "source": [
        "## **4.1 Regression models**"
      ]
    },
    {
      "cell_type": "markdown",
      "metadata": {
        "id": "A-HZ2WYbQLK0",
        "colab_type": "text"
      },
      "source": [
        "###  **4.1.1 Applying standard algorithms and their problems**"
      ]
    },
    {
      "cell_type": "markdown",
      "metadata": {
        "id": "pbbK478WO7ey",
        "colab_type": "text"
      },
      "source": [
        "I applied linear models (linear regression, Ridge regression, and Lasso regression), support vector machines (SVM), random forest, and gradient boost models to the dataset, using root mean squared error (RMSE) as the tuning and evaluation metric. The results all had the same\n",
        "problems. The predicted values had much narrow range than the actual values (Figure 8), and as a result, the prediction errors were larger as the actual values deviated further from zero (Figure\n",
        "9). These results were not acceptable, because players with large improvement/decline were arguably more important for NBA teams to predict than players with little change in performance. Having larger errors on those predictions was obviously not desirable."
      ]
    },
    {
      "cell_type": "markdown",
      "metadata": {
        "id": "kidq1v8eQdkl",
        "colab_type": "text"
      },
      "source": [
        "### **4.1.2 Solution to the problems**"
      ]
    },
    {
      "cell_type": "markdown",
      "metadata": {
        "id": "pBKEjIJ0QhaP",
        "colab_type": "text"
      },
      "source": [
        "The reason behind these problems ..\n",
        "\n",
        "My solution to this problem was to assign weights to samples based on the inverse of the abundances of target values. In other words, players with large improvement/decline would have higher weights in model training and evaluation because they were more rare. Using this method, all\n",
        "models predicted target values with similar range and distribution as the actual target values"
      ]
    },
    {
      "cell_type": "markdown",
      "metadata": {
        "id": "WFmbTZmZOfWf",
        "colab_type": "text"
      },
      "source": [
        "# **4. Classification Modeling**"
      ]
    },
    {
      "cell_type": "markdown",
      "metadata": {
        "id": "0NQVpRQDP0pi",
        "colab_type": "text"
      },
      "source": [
        "## **4.1 Applying standard algorithms and their problems**"
      ]
    },
    {
      "cell_type": "markdown",
      "metadata": {
        "id": "mrYne7fYPPUb",
        "colab_type": "text"
      },
      "source": [
        "I applied classification model using k-nearest alogorithm.\n",
        "The results showed that large number of neighborhoods went to one or two buckets. These, results were not satisfatory as tourist are intrested to know which neighborhoods or boroughs are most suitable for them to stay. "
      ]
    },
    {
      "cell_type": "markdown",
      "metadata": {
        "id": "sice5CbZQ6jR",
        "colab_type": "text"
      },
      "source": [
        "### **4.1.2 Solution to the problems**"
      ]
    },
    {
      "cell_type": "markdown",
      "metadata": {
        "id": "wXj8kPn5Q_v9",
        "colab_type": "text"
      },
      "source": [
        "My solution to this problem was to create specific subsets of data like taking into consideration only places to visit like aquarium, history museusm, beaches , boat ride etc. And run an iteration to find clusters.\n",
        "Or to run analysis with only shopping venue categories. Or run an iteration with only foreign cuisine restaurants. This approach along with combination gave much better outcomes."
      ]
    }
  ]
}