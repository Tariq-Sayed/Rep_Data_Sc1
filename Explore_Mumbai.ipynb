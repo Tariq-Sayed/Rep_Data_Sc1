{
  "nbformat": 4,
  "nbformat_minor": 0,
  "metadata": {
    "colab": {
      "name": "Explore_Mumbai (7).ipynb",
      "provenance": [],
      "collapsed_sections": []
    },
    "kernelspec": {
      "name": "python3",
      "display_name": "Python 3"
    }
  },
  "cells": [
    {
      "cell_type": "code",
      "metadata": {
        "id": "bVFBmsweyIV0",
        "colab_type": "code",
        "colab": {}
      },
      "source": [
        "# Exploring Mumbai City for Foreign Tourists"
      ],
      "execution_count": 0,
      "outputs": []
    },
    {
      "cell_type": "markdown",
      "metadata": {
        "id": "a8u0w1oGy-Gp",
        "colab_type": "text"
      },
      "source": [
        "# **Exploring Mumbai City for Foreign Tourists**\n",
        "\n",
        "\n",
        "\n"
      ]
    },
    {
      "cell_type": "markdown",
      "metadata": {
        "id": "lPZiH3nizJfn",
        "colab_type": "text"
      },
      "source": [
        "#### **Tariq Sayed**\n",
        "#### **April 19, 2020**"
      ]
    },
    {
      "cell_type": "markdown",
      "metadata": {
        "id": "5bRYXi660HMm",
        "colab_type": "text"
      },
      "source": [
        "# **1. Introduction**"
      ]
    },
    {
      "cell_type": "markdown",
      "metadata": {
        "id": "IYWx0PLh0LtR",
        "colab_type": "text"
      },
      "source": [
        "## **1.1 Background**"
      ]
    },
    {
      "cell_type": "markdown",
      "metadata": {
        "id": "TDxSTIDc09UX",
        "colab_type": "text"
      },
      "source": [
        "Mumbai is a commercial capital of India with a rich cosmpolitan culture.Many toursits from all over the world visit here throught the year to enjoy thescenic beaches, historic monumnents, museums and delicious international variety of cuisines.It is a shopping paradise and offer lot of commodities ranging from readymade garments, household items to antiues.Generally, toursits have no or little idea where to book a hotel which is near to touristic places of intrest like beaches, museum or aquarium they are looking for. Where they can find good restaurants which can offer a wide variety of international cuisine. Or where they can find park and gardens for their small kids. Which areas are good for shopping having  malls or flea markets. Where they can get antiues. The fitness freaks would prefer to have a Gym or Spa nearby. Where they can enjoy a boat ride. The buses and trains usually overcrowded and not recommended for tourists.\n",
        "Therefore, they should get some knowhow of city neighborhoods so they can book a hotel in neighborhoods where they can find places of their interest within walking distance or they can hire a can and can reach within minutes and time is not wasted in overcrowded buses or trains.\n",
        "\n",
        "Mumbai is basically divided into South, West, East and North regions or boroughs. South Mumbai is oldest and rich in heritage.\n",
        "\n",
        "I decided to choose Mumbai as I am born and brought up in this city and familiar with most of the neighborhoods and can verify accuracy of data obtained."
      ]
    },
    {
      "cell_type": "markdown",
      "metadata": {
        "id": "GYFUagBG5Hq_",
        "colab_type": "text"
      },
      "source": [
        "## **1.2 Problem**"
      ]
    },
    {
      "cell_type": "markdown",
      "metadata": {
        "id": "ztRAbOnL5L0N",
        "colab_type": "text"
      },
      "source": [
        "The data required to resolve this problem includes neighborhoods of Mumbai, in which borough they fall, their coordinates and the venues nearby with their categories.\n",
        "\n",
        "The key aim of this project is to guide a foreign tourist about booking a hotel in a neighborhood where he/she can find places of his interest within walking distance or can reach hiring a cab in few minutes from his/her hotel. This problem can be resolved by showing a map with clusters of neighborhoods in different colors based on their similarities based on occurance of a venue category. "
      ]
    },
    {
      "cell_type": "markdown",
      "metadata": {
        "id": "9SL8ASuY6fjZ",
        "colab_type": "text"
      },
      "source": [
        "## **1.3 Interest/Stakeholders**"
      ]
    },
    {
      "cell_type": "markdown",
      "metadata": {
        "id": "sUAa0ebs62UF",
        "colab_type": "text"
      },
      "source": [
        "The foreign tourist will benefit from the findings of this project extremely useful and they can book the hotel in an area where they can find things of their intrest nearby and will save their time in commuting through overcrowded trains or buses. Apart from that those who want to setup a new hotel or a restaurant or some shop for say readymade garments can also be benefitted. Other intrested parties can be tour operators to help them setup their office in right place."
      ]
    },
    {
      "cell_type": "markdown",
      "metadata": {
        "id": "HyAX1Yp-8tXQ",
        "colab_type": "text"
      },
      "source": [
        "# **2. Data Acquisition and Cleaning**"
      ]
    },
    {
      "cell_type": "markdown",
      "metadata": {
        "id": "0P4Uj3hO89iE",
        "colab_type": "text"
      },
      "source": [
        "## **2.1 Data Sources**"
      ]
    },
    {
      "cell_type": "markdown",
      "metadata": {
        "id": "IgS3-vWK9ElF",
        "colab_type": "text"
      },
      "source": [
        "The main data source would be Four Square API which provides you with the venues along with the categories. But, in order to provide venues of a location you need to provide latitude and logitude of the location.The latitude and logitude of a location are fetched from Geo API.\n",
        "The Geo API has some limitations as to number of location coordinates it can return and times out. This issue was resolved by splitting the data and passing locations in two iterations.\n",
        "But, major challenge was non-availibilty of all the neighborhoods with their respective boroughs. Therefore, constructed this matrix using Python objects like array, dictionary and dataframe within code. "
      ]
    },
    {
      "cell_type": "markdown",
      "metadata": {
        "id": "LZ8gYYAU_hqk",
        "colab_type": "text"
      },
      "source": [
        "## **2.2 Data Cleaning**"
      ]
    },
    {
      "cell_type": "markdown",
      "metadata": {
        "id": "ZZCbZYRWCQ7H",
        "colab_type": "text"
      },
      "source": [
        "First of all, I did not find the matrix of Mumbai neigborhoods along with their respective boroughs. Therefore, constructed this matrix within code using objects like array, dictionary and dataframe.\n",
        "Next, I studied data and analyzed the data quality issues like wrong categorization of data which was corrected within code with correct category.\n",
        "\n",
        "The same venue was found to be repeated multiple times with differnt names but exactly same latitude and longitude.The duplicates were discarded.\n",
        "Also encountered small sample size issue as some locations returned very few venues. One of such neighborhood was dropped. Others were merged with nearby neighborhoods.\n",
        "\n",
        "If you specify more radius as input to Four Square it returns more venues, which is good for analysis. But, it also increases the chances of duplication. Therefore, multiple iterations with various values of radius done to achieve an optimum value with minimum duplications. And these duplications were dropped.\n",
        "\n",
        "The similar categories were clubbed together like Parks and gardens to one category Park/Garden.Bar and Pub to Bar/Pub.\n",
        "\n",
        "Looked for ouliers. Indian restaurants were found in all neighborhoods of Mumbai and in very large number. The tourist find Indian food to be very spicy and generally prefer western,mexican or arabian cuisine. Therefore, dropped Indian restaurants from the equation.\n",
        "One more iteration was done identifying more outliers like bars/pubs, coffee shops etc. and removing them to see the impact on results.\n",
        "\n"
      ]
    },
    {
      "cell_type": "markdown",
      "metadata": {
        "id": "TpfN4Uc1Hqp4",
        "colab_type": "text"
      },
      "source": [
        "## **2.3 Feature Selection**"
      ]
    },
    {
      "cell_type": "markdown",
      "metadata": {
        "id": "pHaGxK4SIeGi",
        "colab_type": "text"
      },
      "source": [
        "After an extensive data cleansing exercise , there were xxx600 samples for xxx(39) neighborhoods from south, west, east and north Mumbai and xxx(8) features in the data. All the features returned from the Four Square APIs were kept in analysis like venues, venue categories and their respective latitude and longitude and no redundancy was in features was found. "
      ]
    },
    {
      "cell_type": "markdown",
      "metadata": {
        "id": "itrwsCg_e4dw",
        "colab_type": "text"
      },
      "source": [
        "# **3. Methodology**"
      ]
    },
    {
      "cell_type": "markdown",
      "metadata": {
        "id": "wc2QYLqqK1v9",
        "colab_type": "text"
      },
      "source": [
        "< which represents the main component of the report where you discuss and describe any exploratory data analysis that you did, any inferential statistical testing that you performed, if any, and what machine learnings were used and why. >\n",
        "\n"
      ]
    },
    {
      "cell_type": "markdown",
      "metadata": {
        "id": "88-gcBm3vOzV",
        "colab_type": "text"
      },
      "source": [
        "My master data comprises of features like Neighborhood, its respective borough ( either south, north, east or west ) , venue, venue category, latitude and logitudes of neighborhoods and venues."
      ]
    },
    {
      "cell_type": "markdown",
      "metadata": {
        "id": "1Zq50Xhxxt79",
        "colab_type": "text"
      },
      "source": [
        "I used Geopy library to fetch latitude and longitude of a location."
      ]
    },
    {
      "cell_type": "markdown",
      "metadata": {
        "id": "M19El4_fwFWL",
        "colab_type": "text"
      },
      "source": [
        "I used folium library to visualize map of Mumbai and superimposed neighborhoods on top.The latitude and logitude of each neighborhood was obtained using geopy library."
      ]
    },
    {
      "cell_type": "markdown",
      "metadata": {
        "id": "_MSXcgQywzgP",
        "colab_type": "text"
      },
      "source": [
        "I used Four Square API to explore each neighborhood of Mumbai and cluster them based on occurance of venue categories within each cluster.I set the limit as 100 venue max for each neighborhood and optimised the radius as 650 meter to fetch maximum vanues with minimum duplication or overlap of adjecent neighborhoods. "
      ]
    },
    {
      "cell_type": "markdown",
      "metadata": {
        "id": "xVOOUl0J0wAh",
        "colab_type": "text"
      },
      "source": [
        "The data for Mumbai neighborhoods with its boroughs was not available.Mumbai city is divided into 4 boroughs namely South , North, East and West.21 neighborhoods from South , 8 from West and 5 each from East and North  were picked up for this analysis.The neighborhood and boroghs were stored in arrays and then convered to dictionary and then to dataframe.I used geopy library to fetch latitude and longitude of each neighborhood by passing the address.The issue of time out to Geopy call was resolved by splitting in two batches of neighborhoods and then merging two data frames.Then both dataframes were merged together into one and they looked like this.This has coordinates of 39 Mumbai neighborhoods."
      ]
    },
    {
      "cell_type": "markdown",
      "metadata": {
        "id": "rodKO2YiyqJH",
        "colab_type": "text"
      },
      "source": [
        "![Mumbai Neighborhoods](https://raw.githubusercontent.com/Tariq-Sayed/Rep_Data_Sc1/master/1_neighborhoods.PNG)"
      ]
    },
    {
      "cell_type": "markdown",
      "metadata": {
        "id": "znOnQMQg1aJX",
        "colab_type": "text"
      },
      "source": [
        "After this using folium library I created a map of Mumbai and superimposed all 39 neighborhoods on top of this map. It looks like this."
      ]
    },
    {
      "cell_type": "markdown",
      "metadata": {
        "id": "1_TlOda21qFa",
        "colab_type": "text"
      },
      "source": [
        "![Map_Superimposed](https://raw.githubusercontent.com/Tariq-Sayed/Rep_Data_Sc1/master/2_map.png)"
      ]
    },
    {
      "cell_type": "markdown",
      "metadata": {
        "id": "TOFnMPrEx5X2",
        "colab_type": "text"
      },
      "source": [
        "Then I used Four Square API to get venues in a radius of 650 meters keeping a maximum limit of 100 per location.If you increase the range it will fetch more venues, but at the same time chances of neighborhoods overlapping increases which results in duplication of venues.After some iteration an optimum value of 650 met with minimum duplication was set.These duplication were eliminated later.Four Square returned total 1118 venues.The venue data will look like this after merging with master table."
      ]
    },
    {
      "cell_type": "markdown",
      "metadata": {
        "id": "KAjgf-IA2bOx",
        "colab_type": "text"
      },
      "source": [
        "![Venues](https://raw.githubusercontent.com/Tariq-Sayed/Rep_Data_Sc1/master/4_venue_merge.PNG)"
      ]
    },
    {
      "cell_type": "markdown",
      "metadata": {
        "id": "DRfpjx5gyiHG",
        "colab_type": "text"
      },
      "source": [
        "After this data cleansing was done. First removed duplicates due to overlapping of venues.I checked which categries have more frequency. The following table shows that Indian restuarants are in very large number. The Indian restaurants are very common and found in all areas.The Indian cuisine is spicy, and it is seen that tourists normally go for other type of cuisine like Italian, Mexican, Arabian etc. Therefore, dropped Indian restaurants from the equation. "
      ]
    },
    {
      "cell_type": "markdown",
      "metadata": {
        "id": "w-Xo9O_q4PIF",
        "colab_type": "text"
      },
      "source": [
        ""
      ]
    },
    {
      "cell_type": "markdown",
      "metadata": {
        "id": "kHnqiuU_34e4",
        "colab_type": "text"
      },
      "source": [
        "![Venues](https://raw.githubusercontent.com/Tariq-Sayed/Rep_Data_Sc1/master/5_Top10_Category.PNG)"
      ]
    },
    {
      "cell_type": "markdown",
      "metadata": {
        "id": "D9YxF0DVyQhK",
        "colab_type": "text"
      },
      "source": [
        "Some similar categories were merged together for example Gargen and Parks merged to Parks/Garden and Pubs and Bars to Pubs/Bars.\n",
        "Then, checked which boroughs have very few venues.The below table shows Darukahana has only two venues. It was dropped. While other neighborhoods were merged with adjecent areas. With this approach not much of data was lost."
      ]
    },
    {
      "cell_type": "markdown",
      "metadata": {
        "id": "REJcbvoZ5sLP",
        "colab_type": "text"
      },
      "source": [
        "![Venues](https://raw.githubusercontent.com/Tariq-Sayed/Rep_Data_Sc1/master/7_Bottom10_Nbhood7.PNG)"
      ]
    },
    {
      "cell_type": "markdown",
      "metadata": {
        "id": "cxoczaQDytPd",
        "colab_type": "text"
      },
      "source": [
        "After this cleansing job, I got 619 venues for 29 neighborhoods."
      ]
    },
    {
      "cell_type": "markdown",
      "metadata": {
        "id": "qU3zC1Pi7QlA",
        "colab_type": "text"
      },
      "source": [
        "I decided to use k-means alogorthm for clustering Mumbai neighborhoods based on frequency of venue category. Therfore, ook the mean of frequency of occurance of each category within its neighborhood.The table looks as follows keeping categories as header and neighborhoods as rows.This matrix has 29 rows and 129 columns."
      ]
    },
    {
      "cell_type": "markdown",
      "metadata": {
        "id": "qqqE_weIzRVL",
        "colab_type": "text"
      },
      "source": [
        "![Venues](https://raw.githubusercontent.com/Tariq-Sayed/Rep_Data_Sc1/master/9_Freq_matrix.PNG)"
      ]
    },
    {
      "cell_type": "markdown",
      "metadata": {
        "id": "e15Ym4o0zd9W",
        "colab_type": "text"
      },
      "source": [
        "*Total xxx unique venue categories were returned by Four Square. Then I created a table which shows list of top 10 venue category for each neighborhood.The table looks like this.*"
      ]
    },
    {
      "cell_type": "markdown",
      "metadata": {
        "id": "-6BWtbgt1Wf6",
        "colab_type": "text"
      },
      "source": [
        "< Insert table >"
      ]
    },
    {
      "cell_type": "markdown",
      "metadata": {
        "id": "Whm_7IY30JPL",
        "colab_type": "text"
      },
      "source": [
        "*In this project I used k-means algorithm to cluster the Mumbai neighborhoods based on frequency of occurance of each venue category within each cluster. k-means is one of the most commonly used cluster method of unsupervised machine learning.*"
      ]
    },
    {
      "cell_type": "markdown",
      "metadata": {
        "id": "AsY3yK_W1J_X",
        "colab_type": "text"
      },
      "source": [
        "### **Sample**"
      ]
    },
    {
      "cell_type": "markdown",
      "metadata": {
        "id": "g_QC_zpd1P3l",
        "colab_type": "text"
      },
      "source": [
        "*First, I will run K-Means to cluster the boroughs into 3 clusters because when I analyze the K-Means with elbow method it ensured me the 3 degree for optimum k of the K-Means.*"
      ]
    },
    {
      "cell_type": "markdown",
      "metadata": {
        "id": "pKnNYdVgz-xz",
        "colab_type": "text"
      },
      "source": [
        "![k-means graph](https://github.com/Tariq-Sayed/Rep_Data_Sc1/blob/master/k-means%20plot.JPG)"
      ]
    },
    {
      "cell_type": "markdown",
      "metadata": {
        "id": "GNr6pxJI15TC",
        "colab_type": "text"
      },
      "source": [
        "*Here is my merged table with cluster labels for each borough.*"
      ]
    },
    {
      "cell_type": "markdown",
      "metadata": {
        "id": "guYIpIR92EOf",
        "colab_type": "text"
      },
      "source": [
        "< Insert table >"
      ]
    },
    {
      "cell_type": "markdown",
      "metadata": {
        "id": "mPmPZ7AE3waF",
        "colab_type": "text"
      },
      "source": [
        "*We can also estimate the number of 1st Most Common Venue in each cluster. Thus, we can create a bar chart which may help us to find proper labels for each cluster.*"
      ]
    },
    {
      "cell_type": "markdown",
      "metadata": {
        "id": "sZxUEdr0-gpI",
        "colab_type": "text"
      },
      "source": [
        "< Insert bar chart >"
      ]
    },
    {
      "cell_type": "markdown",
      "metadata": {
        "id": "9mvMdWQW-u9a",
        "colab_type": "text"
      },
      "source": [
        "When we examine above graph we can label each cluster as follows:\n",
        "\n",
        "Cluster 0 : “Cafe Venues”\n",
        "\n",
        "Cluster 1 : “Multiple Social Venues”\n",
        "\n",
        "Cluster 2 : “Accommodation & Intensive Cafe Venues” "
      ]
    },
    {
      "cell_type": "markdown",
      "metadata": {
        "id": "rDYNHPuifXCd",
        "colab_type": "text"
      },
      "source": [
        "I applied classification model using k-nearest alogorithm.\n",
        "The approach in this study does clustering based on relative frequency of occurance of a venue category within each neighborhood."
      ]
    },
    {
      "cell_type": "markdown",
      "metadata": {
        "id": "mrYne7fYPPUb",
        "colab_type": "text"
      },
      "source": [
        "The approach mentioned above does not consider the significance of a venue or venue category from toursitic point of view.The results showed that large number of neighborhoods went to one or two clusters. These, results were not satisfatory as tourist are interested to know which neighborhoods or boroughs are most suitable for them to stay. "
      ]
    },
    {
      "cell_type": "markdown",
      "metadata": {
        "id": "wXj8kPn5Q_v9",
        "colab_type": "text"
      },
      "source": [
        "My solution to this problem was to create specific subsets of data like taking into consideration only places to visit like aquarium, history museusm, beaches , boat ride etc. And run an iteration to find clusters.\n",
        "Or to run analysis with only shopping venue categories. Or run an iteration with only foreign cuisine restaurants. This approach along with combination gave much better outcomes."
      ]
    },
    {
      "cell_type": "markdown",
      "metadata": {
        "id": "Ix9QiK_RggRj",
        "colab_type": "text"
      },
      "source": [
        "# **4. Results**"
      ]
    },
    {
      "cell_type": "markdown",
      "metadata": {
        "id": "clMS6luqhBMD",
        "colab_type": "text"
      },
      "source": [
        "< where you discuss the results >"
      ]
    },
    {
      "cell_type": "markdown",
      "metadata": {
        "id": "d93sOUofAdEa",
        "colab_type": "text"
      },
      "source": [
        "Let’s merge those new variables with related cluster informations in our main master table."
      ]
    },
    {
      "cell_type": "markdown",
      "metadata": {
        "id": "AviZ8PHuAgLk",
        "colab_type": "text"
      },
      "source": [
        "Insert table"
      ]
    },
    {
      "cell_type": "markdown",
      "metadata": {
        "id": "gXT2Uc4bA2uT",
        "colab_type": "text"
      },
      "source": [
        "You can now see Join, Labels and Level_labels columns as the last three ones in above table. You can also see a clustered map boroughs of Istanbul in the below."
      ]
    },
    {
      "cell_type": "markdown",
      "metadata": {
        "id": "JddNgwgOA397",
        "colab_type": "text"
      },
      "source": [
        "Insert Map with clusters."
      ]
    },
    {
      "cell_type": "markdown",
      "metadata": {
        "id": "cK78ATvxgomT",
        "colab_type": "text"
      },
      "source": [
        "# **5. Discussion**"
      ]
    },
    {
      "cell_type": "markdown",
      "metadata": {
        "id": "Jq-gySqghH15",
        "colab_type": "text"
      },
      "source": [
        "< where you discuss any observations you noted and any recommendations you can make based on the results. >"
      ]
    },
    {
      "cell_type": "markdown",
      "metadata": {
        "id": "nhGFvopKBWby",
        "colab_type": "text"
      },
      "source": [
        "***As I mentioned before, Istanbul is a big city with a high population density in a narrow area. The total number of measurements and population densities of the 39 districts in total can vary. As there is such a complexity, very different approaches can be tried in clustering and classification studies. Moreover, it is obvious that not every classification method can yield the same high quality results for this metropol.***"
      ]
    },
    {
      "cell_type": "markdown",
      "metadata": {
        "id": "wI2vCdLGNI-Q",
        "colab_type": "text"
      },
      "source": [
        ""
      ]
    },
    {
      "cell_type": "markdown",
      "metadata": {
        "id": "_pwYBLwwBXfe",
        "colab_type": "text"
      },
      "source": [
        "***I used the Kmeans algorithm as part of this clustering study. When I tested the Elbow method, I set the optimum k value to 3. However, only 39 district coordinates were used. For more detailed and accurate guidance, the data set can be expanded and the details of the neighborhood or street can also be drilled.***"
      ]
    },
    {
      "cell_type": "markdown",
      "metadata": {
        "id": "fGOtEBtNBhYN",
        "colab_type": "text"
      },
      "source": [
        "***I also performed data analysis through this information by adding the coordinates of districts and home sales price averages as static data on GitHub. In future studies, these data can also be accessed dynamically from specific platforms or packages.***"
      ]
    },
    {
      "cell_type": "markdown",
      "metadata": {
        "id": "SbWQS2bjBinN",
        "colab_type": "text"
      },
      "source": [
        "***I ended the study by visualizing the data and clustering information on the Istanbul map. In future studies, web or telephone applications can be carried out to direct investors.***"
      ]
    },
    {
      "cell_type": "markdown",
      "metadata": {
        "id": "NO8tHjDlPGLy",
        "colab_type": "text"
      },
      "source": [
        "The study revealed that major tourstic spots like museum, aquarium, beaches are within South Mumbai. Howerever, other boroughs are giving good competition to South Mumbai as far as food or shopping is concerned. Still I highly recommend tourists to book a hotel in South Mumbai and they can find all places of their intrest either in the walking distance or can reach through can within minutes. Travelling through buses and trains are not recommended for tourists.If they book a hotel in other boroughs of Mumbai the travelling through cab will take lot of time due to heavy traffic. "
      ]
    },
    {
      "cell_type": "markdown",
      "metadata": {
        "id": "ubvC-53rO82d",
        "colab_type": "text"
      },
      "source": [
        "Mumbai city attracts lot of tourists each year. Each borough of Mumbai is distinct from touristic point of view. Therefore, tourists should be guided through an analysis of venues in each neighborhood and the analysis should be visulaized in the form of map to show these clusters. Since, the k-means approach does not make any distinction between one venue to another some venues can outnumber significant venues which are always relatively less. In order to overcome this problem the iterations were done with focused set of venues belonging to either places to visit like museum, aquarium, beaches etc."
      ]
    },
    {
      "cell_type": "markdown",
      "metadata": {
        "id": "iFSRrqv-XPcq",
        "colab_type": "text"
      },
      "source": [
        "# **6. Conclusion**"
      ]
    },
    {
      "cell_type": "markdown",
      "metadata": {
        "id": "qJMKxFTMhRfi",
        "colab_type": "text"
      },
      "source": [
        "<  where you conclude the report >\n",
        "\n"
      ]
    },
    {
      "cell_type": "markdown",
      "metadata": {
        "id": "0TkJdExVBn8h",
        "colab_type": "text"
      },
      "source": [
        "***As a result, people are turning to big cities to start a business or work. For this reason, people can achieve better outcomes through their access to the platforms where such information is provided.***"
      ]
    },
    {
      "cell_type": "markdown",
      "metadata": {
        "id": "2xy5aMZIBtz_",
        "colab_type": "text"
      },
      "source": [
        "***Not only for investors but also city managers can manage the city more regularly by using similar data analysis types or platforms.***"
      ]
    },
    {
      "cell_type": "markdown",
      "metadata": {
        "id": "MQMhXnu5W-VK",
        "colab_type": "text"
      },
      "source": [
        "**Purpose of this project was to identify Berlin areas close to center with low number of restaurants (particularly Italian restaurants) in order to aid stakeholders in narrowing down the search for optimal location for a new Italian restaurant. By calculating restaurant density distribution from Foursquare data we have first identified general boroughs that justify further analysis (Kreuzberg and Friedrichshain), and then generated extensive collection of locations which satisfy some basic requirements regarding existing nearby restaurants. Clustering of those locations was then performed in order to create major zones of interest (containing greatest number of potential locations) and addresses of those zone centers were created to be used as starting points for final exploration by stakeholders.**\n",
        "\n",
        "**Final decission on optimal restaurant location will be made by stakeholders based on specific characteristics of neighborhoods and locations in every recommended zone, taking into consideration additional factors like attractiveness of each location (proximity to park or water), levels of noise / proximity to major roads, real estate availability, prices, social and economic dynamics of every neighborhood etc. **"
      ]
    },
    {
      "cell_type": "markdown",
      "metadata": {
        "id": "IASOdVutXTFc",
        "colab_type": "text"
      },
      "source": [
        "In this analysis, I explored Mumbai neighborhoods and clustered them based on their similarity based on venue categories and their frequency of occurance. I used k-nearest alogirthm to create clusters of Mumbai neighborhoods. These, clusters reveal an important fact that most of touristic spots are within South Mumbai which also has hotels and offers many restaurants with International cuisines. Other boroughs of Mumbai like West, East and North can compete South Mumbai as far as restaurants and shopping is concerned, but no way near South Mumbai for places like Museams, monuments, beaches, boat ride etc is concerned. A hotel in South Mumbai will save lot of time and hassles of commuting through overcrowded trains and buses. "
      ]
    },
    {
      "cell_type": "markdown",
      "metadata": {
        "id": "HWir7G0KaVbo",
        "colab_type": "text"
      },
      "source": [
        "#  **Future Directions**"
      ]
    },
    {
      "cell_type": "markdown",
      "metadata": {
        "id": "BNxPnM2Thmsu",
        "colab_type": "text"
      },
      "source": [
        "< Remove this section >"
      ]
    },
    {
      "cell_type": "markdown",
      "metadata": {
        "id": "uV-TeutEaY_X",
        "colab_type": "text"
      },
      "source": [
        "In this study the basis of clustering of neighborhoods were done based on frquency of occurance of a venue within a particular neighborhood. But, a monument or a museum will always be outnumbered by other venues like cafe, or restaturants or dessert shops. It does not give enough consideration to the signifance of a venue from toursistic point of view.Although I tried to resolve this problem to an extent by creating specific focused set of venues. Still an approach which considers relative importance of a venue even if its occurance is less will improve this analysis."
      ]
    },
    {
      "cell_type": "code",
      "metadata": {
        "id": "v9bc3VRZTZhn",
        "colab_type": "code",
        "outputId": "35d7f507-8138-4bf7-e064-0be0d8cb662a",
        "colab": {
          "base_uri": "https://localhost:8080/",
          "height": 35
        }
      },
      "source": [
        "print(\"sddf\")"
      ],
      "execution_count": 0,
      "outputs": [
        {
          "output_type": "stream",
          "text": [
            "sddf\n"
          ],
          "name": "stdout"
        }
      ]
    }
  ]
}