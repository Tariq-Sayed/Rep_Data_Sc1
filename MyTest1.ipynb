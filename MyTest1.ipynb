{
 "cells": [
  {
   "cell_type": "code",
   "execution_count": 1,
   "metadata": {},
   "outputs": [
    {
     "name": "stdout",
     "output_type": "stream",
     "text": [
      "Welcome\n"
     ]
    }
   ],
   "source": [
    "print(\"Welcome\")"
   ]
  },
  {
   "cell_type": "code",
   "execution_count": 3,
   "metadata": {},
   "outputs": [
    {
     "ename": "HTTPError",
     "evalue": "HTTP Error 404: Not Found",
     "output_type": "error",
     "traceback": [
      "\u001b[0;31m---------------------------------------------------------------------------\u001b[0m",
      "\u001b[0;31mHTTPError\u001b[0m                                 Traceback (most recent call last)",
      "\u001b[0;32m<ipython-input-3-977549cd72e1>\u001b[0m in \u001b[0;36m<module>\u001b[0;34m\u001b[0m\n\u001b[1;32m      1\u001b[0m \u001b[0;32mimport\u001b[0m \u001b[0mpandas\u001b[0m \u001b[0;32mas\u001b[0m \u001b[0mpd\u001b[0m\u001b[0;34m\u001b[0m\u001b[0;34m\u001b[0m\u001b[0m\n\u001b[0;32m----> 2\u001b[0;31m \u001b[0mhtml_tables\u001b[0m \u001b[0;34m=\u001b[0m \u001b[0mpd\u001b[0m\u001b[0;34m.\u001b[0m\u001b[0mread_html\u001b[0m\u001b[0;34m(\u001b[0m\u001b[0;34m'https://drive.google.com/open?id=19GIJ2gp8rNx1eb6OHcTND86D1G6A8T4n/Toronto2.html'\u001b[0m\u001b[0;34m)\u001b[0m\u001b[0;34m\u001b[0m\u001b[0;34m\u001b[0m\u001b[0m\n\u001b[0m\u001b[1;32m      3\u001b[0m \u001b[0mprint\u001b[0m\u001b[0;34m(\u001b[0m\u001b[0;34m\"Ok1\"\u001b[0m\u001b[0;34m)\u001b[0m\u001b[0;34m\u001b[0m\u001b[0;34m\u001b[0m\u001b[0m\n\u001b[1;32m      4\u001b[0m \u001b[0mdf\u001b[0m \u001b[0;34m=\u001b[0m \u001b[0mhtml_tables\u001b[0m\u001b[0;34m[\u001b[0m\u001b[0;36m0\u001b[0m\u001b[0;34m]\u001b[0m\u001b[0;34m\u001b[0m\u001b[0;34m\u001b[0m\u001b[0m\n\u001b[1;32m      5\u001b[0m \u001b[0mdf\u001b[0m\u001b[0;34m.\u001b[0m\u001b[0mT\u001b[0m \u001b[0;31m# transpose to align\u001b[0m\u001b[0;34m\u001b[0m\u001b[0;34m\u001b[0m\u001b[0m\n",
      "\u001b[0;32m/opt/conda/envs/Python36/lib/python3.6/site-packages/pandas/io/html.py\u001b[0m in \u001b[0;36mread_html\u001b[0;34m(io, match, flavor, header, index_col, skiprows, attrs, parse_dates, tupleize_cols, thousands, encoding, decimal, converters, na_values, keep_default_na, displayed_only)\u001b[0m\n\u001b[1;32m   1092\u001b[0m                   \u001b[0mdecimal\u001b[0m\u001b[0;34m=\u001b[0m\u001b[0mdecimal\u001b[0m\u001b[0;34m,\u001b[0m \u001b[0mconverters\u001b[0m\u001b[0;34m=\u001b[0m\u001b[0mconverters\u001b[0m\u001b[0;34m,\u001b[0m \u001b[0mna_values\u001b[0m\u001b[0;34m=\u001b[0m\u001b[0mna_values\u001b[0m\u001b[0;34m,\u001b[0m\u001b[0;34m\u001b[0m\u001b[0;34m\u001b[0m\u001b[0m\n\u001b[1;32m   1093\u001b[0m                   \u001b[0mkeep_default_na\u001b[0m\u001b[0;34m=\u001b[0m\u001b[0mkeep_default_na\u001b[0m\u001b[0;34m,\u001b[0m\u001b[0;34m\u001b[0m\u001b[0;34m\u001b[0m\u001b[0m\n\u001b[0;32m-> 1094\u001b[0;31m                   displayed_only=displayed_only)\n\u001b[0m",
      "\u001b[0;32m/opt/conda/envs/Python36/lib/python3.6/site-packages/pandas/io/html.py\u001b[0m in \u001b[0;36m_parse\u001b[0;34m(flavor, io, match, attrs, encoding, displayed_only, **kwargs)\u001b[0m\n\u001b[1;32m    914\u001b[0m             \u001b[0;32mbreak\u001b[0m\u001b[0;34m\u001b[0m\u001b[0;34m\u001b[0m\u001b[0m\n\u001b[1;32m    915\u001b[0m     \u001b[0;32melse\u001b[0m\u001b[0;34m:\u001b[0m\u001b[0;34m\u001b[0m\u001b[0;34m\u001b[0m\u001b[0m\n\u001b[0;32m--> 916\u001b[0;31m         \u001b[0mraise_with_traceback\u001b[0m\u001b[0;34m(\u001b[0m\u001b[0mretained\u001b[0m\u001b[0;34m)\u001b[0m\u001b[0;34m\u001b[0m\u001b[0;34m\u001b[0m\u001b[0m\n\u001b[0m\u001b[1;32m    917\u001b[0m \u001b[0;34m\u001b[0m\u001b[0m\n\u001b[1;32m    918\u001b[0m     \u001b[0mret\u001b[0m \u001b[0;34m=\u001b[0m \u001b[0;34m[\u001b[0m\u001b[0;34m]\u001b[0m\u001b[0;34m\u001b[0m\u001b[0;34m\u001b[0m\u001b[0m\n",
      "\u001b[0;32m/opt/conda/envs/Python36/lib/python3.6/site-packages/pandas/compat/__init__.py\u001b[0m in \u001b[0;36mraise_with_traceback\u001b[0;34m(exc, traceback)\u001b[0m\n\u001b[1;32m    418\u001b[0m         \u001b[0;32mif\u001b[0m \u001b[0mtraceback\u001b[0m \u001b[0;34m==\u001b[0m \u001b[0mEllipsis\u001b[0m\u001b[0;34m:\u001b[0m\u001b[0;34m\u001b[0m\u001b[0;34m\u001b[0m\u001b[0m\n\u001b[1;32m    419\u001b[0m             \u001b[0m_\u001b[0m\u001b[0;34m,\u001b[0m \u001b[0m_\u001b[0m\u001b[0;34m,\u001b[0m \u001b[0mtraceback\u001b[0m \u001b[0;34m=\u001b[0m \u001b[0msys\u001b[0m\u001b[0;34m.\u001b[0m\u001b[0mexc_info\u001b[0m\u001b[0;34m(\u001b[0m\u001b[0;34m)\u001b[0m\u001b[0;34m\u001b[0m\u001b[0;34m\u001b[0m\u001b[0m\n\u001b[0;32m--> 420\u001b[0;31m         \u001b[0;32mraise\u001b[0m \u001b[0mexc\u001b[0m\u001b[0;34m.\u001b[0m\u001b[0mwith_traceback\u001b[0m\u001b[0;34m(\u001b[0m\u001b[0mtraceback\u001b[0m\u001b[0;34m)\u001b[0m\u001b[0;34m\u001b[0m\u001b[0;34m\u001b[0m\u001b[0m\n\u001b[0m\u001b[1;32m    421\u001b[0m \u001b[0;32melse\u001b[0m\u001b[0;34m:\u001b[0m\u001b[0;34m\u001b[0m\u001b[0;34m\u001b[0m\u001b[0m\n\u001b[1;32m    422\u001b[0m     \u001b[0;31m# this version of raise is a syntax error in Python 3\u001b[0m\u001b[0;34m\u001b[0m\u001b[0;34m\u001b[0m\u001b[0;34m\u001b[0m\u001b[0m\n",
      "\u001b[0;31mHTTPError\u001b[0m: HTTP Error 404: Not Found"
     ]
    }
   ],
   "source": [
    "import pandas as pd\n",
    "html_tables = pd.read_html('https://drive.google.com/open?id=19GIJ2gp8rNx1eb6OHcTND86D1G6A8T4n/Toronto2.html')\n",
    "print(\"Ok1\")\n",
    "df = html_tables[0]\n",
    "df.T # transpose to align\n"
   ]
  },
  {
   "cell_type": "code",
   "execution_count": 5,
   "metadata": {},
   "outputs": [
    {
     "name": "stdout",
     "output_type": "stream",
     "text": [
      "['Tests', 'Failures', 'Success Rate', 'Average Time', 'Min Time', 'Max Time']\n",
      "[{'Tests': '103', 'Failures': '24', 'Success Rate': '76.70%', 'Average Time': '71 ms', 'Min Time': '0 ms', 'Max Time': '829 ms'}]\n"
     ]
    }
   ],
   "source": [
    "from bs4 import BeautifulSoup\n",
    "\n",
    "html = \"\"\"\n",
    "  <table class=\"details\" border=\"0\" cellpadding=\"5\" cellspacing=\"2\" width=\"95%\">\n",
    "    <tr valign=\"top\">\n",
    "      <th>Tests</th>\n",
    "      <th>Failures</th>\n",
    "      <th>Success Rate</th>\n",
    "      <th>Average Time</th>\n",
    "      <th>Min Time</th>\n",
    "      <th>Max Time</th>\n",
    "   </tr>\n",
    "   <tr valign=\"top\" class=\"Failure\">\n",
    "     <td>103</td>\n",
    "     <td>24</td>\n",
    "     <td>76.70%</td>\n",
    "     <td>71 ms</td>\n",
    "     <td>0 ms</td>\n",
    "     <td>829 ms</td>\n",
    "  </tr>\n",
    "</table>\"\"\"\n",
    "\n",
    "#soup = BeautifulSoup(s, 'html.parser')\n",
    "soup = BeautifulSoup(html, 'html.parser')\n",
    "table = soup.find(\"table\")\n",
    "\n",
    "# The first tr contains the field names.\n",
    "headings = [th.get_text().strip() for th in table.find(\"tr\").find_all(\"th\")]\n",
    "\n",
    "print(headings)\n",
    "\n",
    "datasets = []\n",
    "for row in table.find_all(\"tr\")[1:]:\n",
    "    dataset = dict(zip(headings, (td.get_text() for td in row.find_all(\"td\"))))\n",
    "    datasets.append(dataset)\n",
    "\n",
    "print(datasets)\n"
   ]
  },
  {
   "cell_type": "code",
   "execution_count": 26,
   "metadata": {},
   "outputs": [
    {
     "name": "stdout",
     "output_type": "stream",
     "text": [
      "[{'Postal code': 'M1A\\n        ', 'Borough': 'Not assigned\\n        ', 'Neighborhood': '\\n'}, {'Postal code': 'M2A\\n', 'Borough': 'Not assigned\\n', 'Neighborhood': '\\n'}, {'Postal code': 'M3A\\n', 'Borough': 'North York\\n', 'Neighborhood': 'Parkwoods\\n'}]\n",
      "Done\n"
     ]
    }
   ],
   "source": [
    "from bs4 import BeautifulSoup\n",
    "\n",
    "html2 = \"\"\"\n",
    "  <table class=\"wikitable\">\n",
    "    <tr>\n",
    "      <th>Postal code\n",
    "      </th>\n",
    "      <th>Borough\n",
    "      </th>\n",
    "      <th>Neighborhood\n",
    "      </th>\n",
    "   </tr>\n",
    "   <tr>\n",
    "        <td>M1A\n",
    "        </td>\n",
    "        <td>Not assigned\n",
    "        </td>\n",
    "        <td>\n",
    "        </td>\n",
    "   </tr>\n",
    "   <tr>\n",
    "<td>M2A\n",
    "</td>\n",
    "<td>Not assigned\n",
    "</td>\n",
    "<td>\n",
    "</td></tr>\n",
    "<tr>\n",
    "<td>M3A\n",
    "</td>\n",
    "<td>North York\n",
    "</td>\n",
    "<td>Parkwoods\n",
    "</td></tr>\n",
    "</table>\"\"\"\n",
    "\n",
    "#soup = BeautifulSoup(s, 'html.parser')\n",
    "soup = BeautifulSoup(html2, 'html.parser')\n",
    "table = soup.find(\"table\")\n",
    "\n",
    "# The first tr contains the field names.\n",
    "headings = [th.get_text().strip() for th in table.find(\"tr\").find_all(\"th\")]\n",
    "\n",
    "#print(headings)\n",
    "\n",
    "datasets = []\n",
    "for row in table.find_all(\"tr\")[1:]:\n",
    "    dataset = dict(zip(headings, (td.get_text() for td in row.find_all(\"td\"))))\n",
    "    #dataset = dict(zip((td.get_text() for td in row.find_all(\"td\"))))\n",
    "    datasets.append(dataset)\n",
    "\n",
    "print(datasets)\n",
    "print(\"Done\")"
   ]
  },
  {
   "cell_type": "code",
   "execution_count": 33,
   "metadata": {},
   "outputs": [
    {
     "data": {
      "text/html": [
       "<div>\n",
       "<style scoped>\n",
       "    .dataframe tbody tr th:only-of-type {\n",
       "        vertical-align: middle;\n",
       "    }\n",
       "\n",
       "    .dataframe tbody tr th {\n",
       "        vertical-align: top;\n",
       "    }\n",
       "\n",
       "    .dataframe thead th {\n",
       "        text-align: right;\n",
       "    }\n",
       "</style>\n",
       "<table border=\"1\" class=\"dataframe\">\n",
       "  <thead>\n",
       "    <tr style=\"text-align: right;\">\n",
       "      <th></th>\n",
       "      <th>Borough</th>\n",
       "      <th>Neighborhood</th>\n",
       "      <th>Postal code</th>\n",
       "    </tr>\n",
       "  </thead>\n",
       "  <tbody>\n",
       "    <tr>\n",
       "      <th>0</th>\n",
       "      <td>Not assigned\\n</td>\n",
       "      <td>\\n</td>\n",
       "      <td>M1A\\n</td>\n",
       "    </tr>\n",
       "    <tr>\n",
       "      <th>1</th>\n",
       "      <td>Not assigned\\n</td>\n",
       "      <td>\\n</td>\n",
       "      <td>M2A\\n</td>\n",
       "    </tr>\n",
       "    <tr>\n",
       "      <th>2</th>\n",
       "      <td>North York\\n</td>\n",
       "      <td>Parkwoods\\n</td>\n",
       "      <td>M3A\\n</td>\n",
       "    </tr>\n",
       "  </tbody>\n",
       "</table>\n",
       "</div>"
      ],
      "text/plain": [
       "                  Borough Neighborhood    Postal code\n",
       "0  Not assigned\\n                   \\n  M1A\\n        \n",
       "1          Not assigned\\n           \\n          M2A\\n\n",
       "2            North York\\n  Parkwoods\\n          M3A\\n"
      ]
     },
     "execution_count": 33,
     "metadata": {},
     "output_type": "execute_result"
    }
   ],
   "source": [
    "data1=pd.DataFrame(datasets)\n",
    "data1.head()"
   ]
  },
  {
   "cell_type": "code",
   "execution_count": 24,
   "metadata": {},
   "outputs": [
    {
     "ename": "AttributeError",
     "evalue": "'list' object has no attribute 'values'",
     "output_type": "error",
     "traceback": [
      "\u001b[0;31m---------------------------------------------------------------------------\u001b[0m",
      "\u001b[0;31mAttributeError\u001b[0m                            Traceback (most recent call last)",
      "\u001b[0;32m<ipython-input-24-b97899b8565c>\u001b[0m in \u001b[0;36m<module>\u001b[0;34m\u001b[0m\n\u001b[1;32m      5\u001b[0m \u001b[0;34m\u001b[0m\u001b[0m\n\u001b[1;32m      6\u001b[0m \u001b[0;31m#columns=['Postal code', 'Borough','Neighborhood']\u001b[0m\u001b[0;34m\u001b[0m\u001b[0;34m\u001b[0m\u001b[0;34m\u001b[0m\u001b[0m\n\u001b[0;32m----> 7\u001b[0;31m \u001b[0mdf\u001b[0m \u001b[0;34m=\u001b[0m \u001b[0mpd\u001b[0m\u001b[0;34m.\u001b[0m\u001b[0mDataFrame\u001b[0m\u001b[0;34m.\u001b[0m\u001b[0mfrom_dict\u001b[0m\u001b[0;34m(\u001b[0m\u001b[0mdatasets\u001b[0m\u001b[0;34m,\u001b[0m\u001b[0morient\u001b[0m\u001b[0;34m=\u001b[0m\u001b[0;34m'index'\u001b[0m\u001b[0;34m)\u001b[0m\u001b[0;34m\u001b[0m\u001b[0;34m\u001b[0m\u001b[0m\n\u001b[0m\u001b[1;32m      8\u001b[0m \u001b[0;34m\u001b[0m\u001b[0m\n\u001b[1;32m      9\u001b[0m \u001b[0mprint\u001b[0m\u001b[0;34m(\u001b[0m\u001b[0mdf\u001b[0m\u001b[0;34m)\u001b[0m\u001b[0;34m\u001b[0m\u001b[0;34m\u001b[0m\u001b[0m\n",
      "\u001b[0;32m/opt/conda/envs/Python36/lib/python3.6/site-packages/pandas/core/frame.py\u001b[0m in \u001b[0;36mfrom_dict\u001b[0;34m(cls, data, orient, dtype, columns)\u001b[0m\n\u001b[1;32m   1125\u001b[0m             \u001b[0;32mif\u001b[0m \u001b[0mlen\u001b[0m\u001b[0;34m(\u001b[0m\u001b[0mdata\u001b[0m\u001b[0;34m)\u001b[0m \u001b[0;34m>\u001b[0m \u001b[0;36m0\u001b[0m\u001b[0;34m:\u001b[0m\u001b[0;34m\u001b[0m\u001b[0;34m\u001b[0m\u001b[0m\n\u001b[1;32m   1126\u001b[0m                 \u001b[0;31m# TODO speed up Series case\u001b[0m\u001b[0;34m\u001b[0m\u001b[0;34m\u001b[0m\u001b[0;34m\u001b[0m\u001b[0m\n\u001b[0;32m-> 1127\u001b[0;31m                 \u001b[0;32mif\u001b[0m \u001b[0misinstance\u001b[0m\u001b[0;34m(\u001b[0m\u001b[0mlist\u001b[0m\u001b[0;34m(\u001b[0m\u001b[0mdata\u001b[0m\u001b[0;34m.\u001b[0m\u001b[0mvalues\u001b[0m\u001b[0;34m(\u001b[0m\u001b[0;34m)\u001b[0m\u001b[0;34m)\u001b[0m\u001b[0;34m[\u001b[0m\u001b[0;36m0\u001b[0m\u001b[0;34m]\u001b[0m\u001b[0;34m,\u001b[0m \u001b[0;34m(\u001b[0m\u001b[0mSeries\u001b[0m\u001b[0;34m,\u001b[0m \u001b[0mdict\u001b[0m\u001b[0;34m)\u001b[0m\u001b[0;34m)\u001b[0m\u001b[0;34m:\u001b[0m\u001b[0;34m\u001b[0m\u001b[0;34m\u001b[0m\u001b[0m\n\u001b[0m\u001b[1;32m   1128\u001b[0m                     \u001b[0mdata\u001b[0m \u001b[0;34m=\u001b[0m \u001b[0m_from_nested_dict\u001b[0m\u001b[0;34m(\u001b[0m\u001b[0mdata\u001b[0m\u001b[0;34m)\u001b[0m\u001b[0;34m\u001b[0m\u001b[0;34m\u001b[0m\u001b[0m\n\u001b[1;32m   1129\u001b[0m                 \u001b[0;32melse\u001b[0m\u001b[0;34m:\u001b[0m\u001b[0;34m\u001b[0m\u001b[0;34m\u001b[0m\u001b[0m\n",
      "\u001b[0;31mAttributeError\u001b[0m: 'list' object has no attribute 'values'"
     ]
    }
   ],
   "source": [
    "import pandas as pd\n",
    "\n",
    "d1 = datasets\n",
    "#d1 = {'Postal code': 'M1A\\n        ', 'Borough': 'Not assigned\\n        ', 'Neighborhood': '\\n'}\n",
    "\n",
    "#columns=['Postal code', 'Borough','Neighborhood']\n",
    "df = pd.DataFrame.from_dict(datasets,orient='index')\n",
    "\n",
    "print(df)\n",
    "df.head()\n",
    "df1 = df.T\n",
    "df1.head()"
   ]
  },
  {
   "cell_type": "code",
   "execution_count": 18,
   "metadata": {},
   "outputs": [
    {
     "name": "stdout",
     "output_type": "stream",
     "text": [
      "afdsghd\n"
     ]
    }
   ],
   "source": [
    "print(\"afdsghd\")"
   ]
  },
  {
   "cell_type": "code",
   "execution_count": 29,
   "metadata": {},
   "outputs": [
    {
     "data": {
      "text/plain": [
       "'829 ms, F'"
      ]
     },
     "execution_count": 29,
     "metadata": {},
     "output_type": "execute_result"
    }
   ],
   "source": [
    "from xml.etree.ElementTree import fromstring\n",
    "\n",
    "HTML = \"\"\"\n",
    "<table class=\"details\" border=\"0\" cellpadding=\"5\" cellspacing=\"2\" width=\"95%\">\n",
    "  <tr valign=\"top\">\n",
    "    <th>Tests</th>\n",
    "    <th>Failures</th>\n",
    "    <th>Success Rate</th>\n",
    "    <th>Average Time</th>\n",
    "    <th>Min Time</th>\n",
    "    <th>Max Time</th>\n",
    "  </tr>\n",
    "  <tr valign=\"top\" class=\"Failure\">\n",
    "    <td>103</td>\n",
    "    <td>24</td>\n",
    "    <td>76.70%</td>\n",
    "    <td>71 ms</td>\n",
    "    <td>0 ms</td>\n",
    "    <td>829 ms</td>\n",
    "  </tr>\n",
    "  <tr valign=\"top\" class=\"whatever\">\n",
    "    <td>A</td>\n",
    "    <td>B</td>\n",
    "    <td>C</td>\n",
    "    <td>D</td>\n",
    "    <td>E</td>\n",
    "    <td>F</td>\n",
    "  </tr>\n",
    "</table>\"\"\"\n",
    "\n",
    "tree = fromstring(HTML)\n",
    "rows = tree.findall(\"tr\")\n",
    "headrow = rows[0]\n",
    "datarows = rows[1:]\n",
    "\n",
    "for num, h in enumerate(headrow):\n",
    "    data = \", \".join([row[num].text for row in datarows])\n",
    "    #print \"{0:<16}: {1}\".format(h.text, data)\n",
    "data"
   ]
  },
  {
   "cell_type": "code",
   "execution_count": 31,
   "metadata": {},
   "outputs": [
    {
     "data": {
      "text/plain": [
       "([[['<th>Tests</th>',\n",
       "    '<th>Failures</th>',\n",
       "    '<th>Success Rate</th>',\n",
       "    '<th>Average Time</th>',\n",
       "    '<th>Min Time</th>',\n",
       "    '<th>Max Time</th>'],\n",
       "   ['<td>103</td>',\n",
       "    '<td>24</td>',\n",
       "    '<td>76.70%</td>',\n",
       "    '<td>71 ms</td>',\n",
       "    '<td>0 ms</td>',\n",
       "    '<td>829 ms</td>']]],\n",
       " 6)"
      ]
     },
     "execution_count": 31,
     "metadata": {},
     "output_type": "execute_result"
    }
   ],
   "source": [
    "import re\n",
    "# input args: html string\n",
    "# output: tables as a list, column max length\n",
    "def extract_html_tables(html):\n",
    "  tables=[]\n",
    "  maxlen=0\n",
    "  rex1=r'<table.*?/table>'\n",
    "  rex2=r'<tr.*?/tr>'\n",
    "  rex3=r'<(td|th).*?/(td|th)>'\n",
    "  s = re.search(rex1,html,re.DOTALL)\n",
    "  while s:\n",
    "    t = s.group()  # the table\n",
    "    s2 = re.search(rex2,t,re.DOTALL)\n",
    "    table = []\n",
    "    while s2:\n",
    "      r = s2.group() # the row \n",
    "      s3 = re.search(rex3,r,re.DOTALL)\n",
    "      row=[]\n",
    "      while s3:\n",
    "        d = s3.group() # the cell\n",
    "        #row.append(strip_tags(d).strip() )\n",
    "        row.append(d.strip() )\n",
    "\n",
    "        r = re.sub(rex3,'',r,1,re.DOTALL)\n",
    "        s3 = re.search(rex3,r,re.DOTALL)\n",
    "\n",
    "      table.append( row )\n",
    "      if maxlen<len(row):\n",
    "        maxlen = len(row)\n",
    "\n",
    "      t = re.sub(rex2,'',t,1,re.DOTALL)\n",
    "      s2 = re.search(rex2,t,re.DOTALL)\n",
    "\n",
    "    html = re.sub(rex1,'',html,1,re.DOTALL)\n",
    "    tables.append(table)\n",
    "    s = re.search(rex1,html,re.DOTALL)\n",
    "  return tables, maxlen\n",
    "\n",
    "html = \"\"\"\n",
    "  <table class=\"details\" border=\"0\" cellpadding=\"5\" cellspacing=\"2\" width=\"95%\">\n",
    "    <tr valign=\"top\">\n",
    "      <th>Tests</th>\n",
    "      <th>Failures</th>\n",
    "      <th>Success Rate</th>\n",
    "      <th>Average Time</th>\n",
    "      <th>Min Time</th>\n",
    "      <th>Max Time</th>\n",
    "   </tr>\n",
    "   <tr valign=\"top\" class=\"Failure\">\n",
    "     <td>103</td>\n",
    "     <td>24</td>\n",
    "     <td>76.70%</td>\n",
    "     <td>71 ms</td>\n",
    "     <td>0 ms</td>\n",
    "     <td>829 ms</td>\n",
    "  </tr>\n",
    "</table>\"\"\"\n",
    "\n",
    "extract_html_tables(html)\n",
    "\n"
   ]
  },
  {
   "cell_type": "code",
   "execution_count": null,
   "metadata": {},
   "outputs": [],
   "source": [
    "import pandas as pd\n",
    "import html5lib\n",
    "data=pd.read_html('http://www.espn.com/nhl/statistics/player/_/stat/points/sort/points/year/2015/seasontype/2',skiprows=1)"
   ]
  },
  {
   "cell_type": "code",
   "execution_count": null,
   "metadata": {},
   "outputs": [],
   "source": [
    "#convert list to dataframe\n",
    "data1=pd.DataFrame(Data)"
   ]
  }
 ],
 "metadata": {
  "kernelspec": {
   "display_name": "Python 3.6",
   "language": "python",
   "name": "python3"
  },
  "language_info": {
   "codemirror_mode": {
    "name": "ipython",
    "version": 3
   },
   "file_extension": ".py",
   "mimetype": "text/x-python",
   "name": "python",
   "nbconvert_exporter": "python",
   "pygments_lexer": "ipython3",
   "version": "3.6.9"
  }
 },
 "nbformat": 4,
 "nbformat_minor": 1
}
